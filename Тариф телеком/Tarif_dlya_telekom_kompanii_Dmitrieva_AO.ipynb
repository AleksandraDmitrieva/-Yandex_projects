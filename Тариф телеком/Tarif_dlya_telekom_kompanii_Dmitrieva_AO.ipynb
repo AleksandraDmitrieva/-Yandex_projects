{
 "cells": [
  {
   "cell_type": "markdown",
   "metadata": {},
   "source": [
    "# Определение перспективного тарифа для телеком-компании"
   ]
  },
  {
   "cell_type": "markdown",
   "metadata": {},
   "source": [
    "В компании «Мегалайн» — федеральном операторе сотовой связи клиентам предлагают два тарифных плана: «Смарт» и «Ультра». Чтобы скорректировать рекламный бюджет, коммерческий департамент хочет понять, какой тариф приносит больше денег.\n",
    "В ходе исследования предстоит сделать предварительный анализ тарифов на небольшой выборке клиентов. В распоряжении данные 500 пользователей «Мегалайна»: кто они, откуда, каким тарифом пользуются, сколько звонков и сообщений каждый отправил за 2018 год. Нужно проанализировать поведение клиентов и сделать вывод — какой тариф лучше.\n",
    "\n",
    "Описание тарифов\n",
    "- Тариф «Смарт»\n",
    "Ежемесячная плата: 550 рублей\n",
    "Включено 500 минут разговора, 50 сообщений и 15 Гб интернет-трафика\n",
    "Стоимость услуг сверх тарифного пакета: 1. минута разговора: 3 рубля («Мегалайн» всегда округляет вверх значения минут и мегабайтов. Если пользователь проговорил всего 1 секунду, в тарифе засчитывается целая минута); 2. сообщение: 3 рубля; 3. 1 Гб интернет-трафика: 200 рублей.\n",
    "- Тариф «Ультра»\n",
    "Ежемесячная плата: 1950 рублей\n",
    "Включено 3000 минут разговора, 1000 сообщений и 30 Гб интернет-трафика\n",
    "Стоимость услуг сверх тарифного пакета: 1. минута разговора: 1 рубль; 2. сообщение: 1 рубль; 3. 1 Гб интернет-трафика: 150 рублей."
   ]
  },
  {
   "cell_type": "markdown",
   "metadata": {},
   "source": [
    "## Изучение данных из файлов"
   ]
  },
  {
   "cell_type": "code",
   "execution_count": 1,
   "metadata": {},
   "outputs": [],
   "source": [
    "# импорт необходимых библиотек\n",
    "import pandas as pd\n",
    "pd.set_option('display.float_format', '{:,.2f}'.format)\n",
    "import numpy as np\n",
    "import matplotlib.pyplot as plt\n",
    "import calendar\n",
    "from scipy import stats as st"
   ]
  },
  {
   "cell_type": "markdown",
   "metadata": {},
   "source": [
    "### Таблица users (информация о пользователях)"
   ]
  },
  {
   "cell_type": "code",
   "execution_count": 2,
   "metadata": {},
   "outputs": [],
   "source": [
    "# чтение файла с данными и сохранение в df_users\n",
    "df_users = pd.read_csv('/datasets/users.csv')"
   ]
  },
  {
   "cell_type": "code",
   "execution_count": 98,
   "metadata": {},
   "outputs": [],
   "source": [
    "#подготовка функции для получения общей информации о таблице\n",
    "def data_info(data):\n",
    "    display(data.head(), data.info(), data.describe())"
   ]
  },
  {
   "cell_type": "code",
   "execution_count": 99,
   "metadata": {},
   "outputs": [
    {
     "name": "stdout",
     "output_type": "stream",
     "text": [
      "<class 'pandas.core.frame.DataFrame'>\n",
      "RangeIndex: 500 entries, 0 to 499\n",
      "Data columns (total 11 columns):\n",
      "user_id             500 non-null int64\n",
      "age                 500 non-null int64\n",
      "churn_date          38 non-null datetime64[ns]\n",
      "city                500 non-null object\n",
      "first_name          500 non-null object\n",
      "last_name           500 non-null object\n",
      "reg_date            500 non-null datetime64[ns]\n",
      "tariff              500 non-null object\n",
      "reg_date_month      500 non-null int64\n",
      "churn_date_month    500 non-null int64\n",
      "use_date            500 non-null int64\n",
      "dtypes: datetime64[ns](2), int64(5), object(4)\n",
      "memory usage: 43.1+ KB\n"
     ]
    },
    {
     "data": {
      "text/html": [
       "<div>\n",
       "<style scoped>\n",
       "    .dataframe tbody tr th:only-of-type {\n",
       "        vertical-align: middle;\n",
       "    }\n",
       "\n",
       "    .dataframe tbody tr th {\n",
       "        vertical-align: top;\n",
       "    }\n",
       "\n",
       "    .dataframe thead th {\n",
       "        text-align: right;\n",
       "    }\n",
       "</style>\n",
       "<table border=\"1\" class=\"dataframe\">\n",
       "  <thead>\n",
       "    <tr style=\"text-align: right;\">\n",
       "      <th></th>\n",
       "      <th>user_id</th>\n",
       "      <th>age</th>\n",
       "      <th>churn_date</th>\n",
       "      <th>city</th>\n",
       "      <th>first_name</th>\n",
       "      <th>last_name</th>\n",
       "      <th>reg_date</th>\n",
       "      <th>tariff</th>\n",
       "      <th>reg_date_month</th>\n",
       "      <th>churn_date_month</th>\n",
       "      <th>use_date</th>\n",
       "    </tr>\n",
       "  </thead>\n",
       "  <tbody>\n",
       "    <tr>\n",
       "      <td>0</td>\n",
       "      <td>1000</td>\n",
       "      <td>52</td>\n",
       "      <td>NaT</td>\n",
       "      <td>Краснодар</td>\n",
       "      <td>Рафаил</td>\n",
       "      <td>Верещагин</td>\n",
       "      <td>2018-05-25</td>\n",
       "      <td>ultra</td>\n",
       "      <td>5</td>\n",
       "      <td>12</td>\n",
       "      <td>8</td>\n",
       "    </tr>\n",
       "    <tr>\n",
       "      <td>1</td>\n",
       "      <td>1001</td>\n",
       "      <td>41</td>\n",
       "      <td>NaT</td>\n",
       "      <td>Москва</td>\n",
       "      <td>Иван</td>\n",
       "      <td>Ежов</td>\n",
       "      <td>2018-11-01</td>\n",
       "      <td>smart</td>\n",
       "      <td>11</td>\n",
       "      <td>12</td>\n",
       "      <td>2</td>\n",
       "    </tr>\n",
       "    <tr>\n",
       "      <td>2</td>\n",
       "      <td>1002</td>\n",
       "      <td>59</td>\n",
       "      <td>NaT</td>\n",
       "      <td>Стерлитамак</td>\n",
       "      <td>Евгений</td>\n",
       "      <td>Абрамович</td>\n",
       "      <td>2018-06-17</td>\n",
       "      <td>smart</td>\n",
       "      <td>6</td>\n",
       "      <td>12</td>\n",
       "      <td>7</td>\n",
       "    </tr>\n",
       "    <tr>\n",
       "      <td>3</td>\n",
       "      <td>1003</td>\n",
       "      <td>23</td>\n",
       "      <td>NaT</td>\n",
       "      <td>Москва</td>\n",
       "      <td>Белла</td>\n",
       "      <td>Белякова</td>\n",
       "      <td>2018-08-17</td>\n",
       "      <td>ultra</td>\n",
       "      <td>8</td>\n",
       "      <td>12</td>\n",
       "      <td>5</td>\n",
       "    </tr>\n",
       "    <tr>\n",
       "      <td>4</td>\n",
       "      <td>1004</td>\n",
       "      <td>68</td>\n",
       "      <td>NaT</td>\n",
       "      <td>Новокузнецк</td>\n",
       "      <td>Татьяна</td>\n",
       "      <td>Авдеенко</td>\n",
       "      <td>2018-05-14</td>\n",
       "      <td>ultra</td>\n",
       "      <td>5</td>\n",
       "      <td>12</td>\n",
       "      <td>8</td>\n",
       "    </tr>\n",
       "  </tbody>\n",
       "</table>\n",
       "</div>"
      ],
      "text/plain": [
       "   user_id  age churn_date         city first_name  last_name   reg_date  \\\n",
       "0     1000   52        NaT    Краснодар     Рафаил  Верещагин 2018-05-25   \n",
       "1     1001   41        NaT       Москва       Иван       Ежов 2018-11-01   \n",
       "2     1002   59        NaT  Стерлитамак    Евгений  Абрамович 2018-06-17   \n",
       "3     1003   23        NaT       Москва      Белла   Белякова 2018-08-17   \n",
       "4     1004   68        NaT  Новокузнецк    Татьяна   Авдеенко 2018-05-14   \n",
       "\n",
       "  tariff  reg_date_month  churn_date_month  use_date  \n",
       "0  ultra               5                12         8  \n",
       "1  smart              11                12         2  \n",
       "2  smart               6                12         7  \n",
       "3  ultra               8                12         5  \n",
       "4  ultra               5                12         8  "
      ]
     },
     "metadata": {},
     "output_type": "display_data"
    },
    {
     "data": {
      "text/plain": [
       "None"
      ]
     },
     "metadata": {},
     "output_type": "display_data"
    },
    {
     "data": {
      "text/html": [
       "<div>\n",
       "<style scoped>\n",
       "    .dataframe tbody tr th:only-of-type {\n",
       "        vertical-align: middle;\n",
       "    }\n",
       "\n",
       "    .dataframe tbody tr th {\n",
       "        vertical-align: top;\n",
       "    }\n",
       "\n",
       "    .dataframe thead th {\n",
       "        text-align: right;\n",
       "    }\n",
       "</style>\n",
       "<table border=\"1\" class=\"dataframe\">\n",
       "  <thead>\n",
       "    <tr style=\"text-align: right;\">\n",
       "      <th></th>\n",
       "      <th>user_id</th>\n",
       "      <th>age</th>\n",
       "      <th>reg_date_month</th>\n",
       "      <th>churn_date_month</th>\n",
       "      <th>use_date</th>\n",
       "    </tr>\n",
       "  </thead>\n",
       "  <tbody>\n",
       "    <tr>\n",
       "      <td>count</td>\n",
       "      <td>500.00</td>\n",
       "      <td>500.00</td>\n",
       "      <td>500.00</td>\n",
       "      <td>500.00</td>\n",
       "      <td>500.00</td>\n",
       "    </tr>\n",
       "    <tr>\n",
       "      <td>mean</td>\n",
       "      <td>1,249.50</td>\n",
       "      <td>46.59</td>\n",
       "      <td>6.48</td>\n",
       "      <td>11.91</td>\n",
       "      <td>6.43</td>\n",
       "    </tr>\n",
       "    <tr>\n",
       "      <td>std</td>\n",
       "      <td>144.48</td>\n",
       "      <td>16.67</td>\n",
       "      <td>3.39</td>\n",
       "      <td>0.45</td>\n",
       "      <td>3.37</td>\n",
       "    </tr>\n",
       "    <tr>\n",
       "      <td>min</td>\n",
       "      <td>1,000.00</td>\n",
       "      <td>18.00</td>\n",
       "      <td>1.00</td>\n",
       "      <td>8.00</td>\n",
       "      <td>1.00</td>\n",
       "    </tr>\n",
       "    <tr>\n",
       "      <td>25%</td>\n",
       "      <td>1,124.75</td>\n",
       "      <td>32.00</td>\n",
       "      <td>4.00</td>\n",
       "      <td>12.00</td>\n",
       "      <td>3.00</td>\n",
       "    </tr>\n",
       "    <tr>\n",
       "      <td>50%</td>\n",
       "      <td>1,249.50</td>\n",
       "      <td>46.00</td>\n",
       "      <td>7.00</td>\n",
       "      <td>12.00</td>\n",
       "      <td>6.00</td>\n",
       "    </tr>\n",
       "    <tr>\n",
       "      <td>75%</td>\n",
       "      <td>1,374.25</td>\n",
       "      <td>62.00</td>\n",
       "      <td>9.00</td>\n",
       "      <td>12.00</td>\n",
       "      <td>9.00</td>\n",
       "    </tr>\n",
       "    <tr>\n",
       "      <td>max</td>\n",
       "      <td>1,499.00</td>\n",
       "      <td>75.00</td>\n",
       "      <td>12.00</td>\n",
       "      <td>12.00</td>\n",
       "      <td>12.00</td>\n",
       "    </tr>\n",
       "  </tbody>\n",
       "</table>\n",
       "</div>"
      ],
      "text/plain": [
       "       user_id    age  reg_date_month  churn_date_month  use_date\n",
       "count   500.00 500.00          500.00            500.00    500.00\n",
       "mean  1,249.50  46.59            6.48             11.91      6.43\n",
       "std     144.48  16.67            3.39              0.45      3.37\n",
       "min   1,000.00  18.00            1.00              8.00      1.00\n",
       "25%   1,124.75  32.00            4.00             12.00      3.00\n",
       "50%   1,249.50  46.00            7.00             12.00      6.00\n",
       "75%   1,374.25  62.00            9.00             12.00      9.00\n",
       "max   1,499.00  75.00           12.00             12.00     12.00"
      ]
     },
     "metadata": {},
     "output_type": "display_data"
    }
   ],
   "source": [
    "#получение общей информации о таблице df_users\n",
    "data_info(df_users)"
   ]
  },
  {
   "cell_type": "markdown",
   "metadata": {},
   "source": [
    "Таблица состоит из 8 столбцов, содержащих общую информацию о пользователях:\n",
    "- user_id — уникальный идентификатор пользователя\n",
    "- first_name — имя пользователя\n",
    "- last_name — фамилия пользователя\n",
    "- age — возраст пользователя (годы)\n",
    "- reg_date — дата подключения тарифа (день, месяц, год)\n",
    "- churn_date — дата прекращения пользования тарифом (если значение пропущено, то тариф ещё действовал на момент выгрузки данных) \n",
    "- city — город проживания пользователя\n",
    "- tarif — название тарифного плана\n",
    "\n",
    "В таблице содержится информация о 500 пользователях. Пропуски имеются в столбце churn_date — дата прекращения пользования тарифом (если значение пропущено, то тариф ещё действовал на момент выгрузки данных). Остальные стольбцы пропущенных значений не имеют. В столбцах churn_date и reg_date необходимо изменение типа данных с object на datetime. Типы данных в остальных столбцах соответствуют специфике столбцов."
   ]
  },
  {
   "cell_type": "markdown",
   "metadata": {},
   "source": [
    "### Таблица calls (информация о звонках)"
   ]
  },
  {
   "cell_type": "code",
   "execution_count": 5,
   "metadata": {},
   "outputs": [],
   "source": [
    "# чтение файла с данными и сохранение в df_calls\n",
    "df_calls = pd.read_csv('/datasets/calls.csv')"
   ]
  },
  {
   "cell_type": "code",
   "execution_count": 6,
   "metadata": {},
   "outputs": [
    {
     "name": "stdout",
     "output_type": "stream",
     "text": [
      "<class 'pandas.core.frame.DataFrame'>\n",
      "RangeIndex: 202607 entries, 0 to 202606\n",
      "Data columns (total 4 columns):\n",
      "id           202607 non-null object\n",
      "call_date    202607 non-null object\n",
      "duration     202607 non-null float64\n",
      "user_id      202607 non-null int64\n",
      "dtypes: float64(1), int64(1), object(2)\n",
      "memory usage: 6.2+ MB\n"
     ]
    },
    {
     "data": {
      "text/plain": [
       "(       id   call_date  duration  user_id\n",
       " 0  1000_0  2018-07-25      0.00     1000\n",
       " 1  1000_1  2018-08-17      0.00     1000\n",
       " 2  1000_2  2018-06-11      2.85     1000\n",
       " 3  1000_3  2018-09-21     13.80     1000\n",
       " 4  1000_4  2018-12-15      5.18     1000,\n",
       " None,\n",
       "         duration    user_id\n",
       " count 202,607.00 202,607.00\n",
       " mean        6.76   1,253.94\n",
       " std         5.84     144.72\n",
       " min         0.00   1,000.00\n",
       " 25%         1.30   1,126.00\n",
       " 50%         6.00   1,260.00\n",
       " 75%        10.70   1,379.00\n",
       " max        38.00   1,499.00)"
      ]
     },
     "execution_count": 6,
     "metadata": {},
     "output_type": "execute_result"
    }
   ],
   "source": [
    "#получение общей информации о таблице df_calls\n",
    "data_info(df_calls)"
   ]
  },
  {
   "cell_type": "markdown",
   "metadata": {},
   "source": [
    "Таблица состоит из 4 столбцов, содержащих информацию о звонках пользователей:\n",
    "\n",
    "- id — уникальный номер звонка\n",
    "- call_date — дата звонка\n",
    "- duration — длительность звонка в минутах\n",
    "- user_id — идентификатор пользователя, сделавшего звонок\n",
    "\n",
    "Пропущенных значений нет. В столбце call_date необходимо изменение типа данных с object на datetime. Типы данных в остальных столбцах соответствуют специфике столбцов."
   ]
  },
  {
   "cell_type": "code",
   "execution_count": 7,
   "metadata": {},
   "outputs": [],
   "source": [
    "#подготовка функции для получения общей информации о таблице\n",
    "def data_info_2(data):\n",
    "    display(data.head(), data.info(), data.describe())"
   ]
  },
  {
   "cell_type": "markdown",
   "metadata": {},
   "source": [
    "### Таблица messages (информация о сообщениях)"
   ]
  },
  {
   "cell_type": "code",
   "execution_count": 8,
   "metadata": {},
   "outputs": [],
   "source": [
    "# чтение файла с данными и сохранение в df_messages\n",
    "df_messages = pd.read_csv('/datasets/messages.csv')"
   ]
  },
  {
   "cell_type": "code",
   "execution_count": 9,
   "metadata": {},
   "outputs": [
    {
     "name": "stdout",
     "output_type": "stream",
     "text": [
      "<class 'pandas.core.frame.DataFrame'>\n",
      "RangeIndex: 123036 entries, 0 to 123035\n",
      "Data columns (total 3 columns):\n",
      "id              123036 non-null object\n",
      "message_date    123036 non-null object\n",
      "user_id         123036 non-null int64\n",
      "dtypes: int64(1), object(2)\n",
      "memory usage: 2.8+ MB\n"
     ]
    },
    {
     "data": {
      "text/plain": [
       "(       id message_date  user_id\n",
       " 0  1000_0   2018-06-27     1000\n",
       " 1  1000_1   2018-10-08     1000\n",
       " 2  1000_2   2018-08-04     1000\n",
       " 3  1000_3   2018-06-16     1000\n",
       " 4  1000_4   2018-12-05     1000,\n",
       " None,\n",
       "          user_id\n",
       " count 123,036.00\n",
       " mean    1,256.99\n",
       " std       143.52\n",
       " min     1,000.00\n",
       " 25%     1,134.00\n",
       " 50%     1,271.00\n",
       " 75%     1,381.00\n",
       " max     1,499.00)"
      ]
     },
     "execution_count": 9,
     "metadata": {},
     "output_type": "execute_result"
    }
   ],
   "source": [
    "#получение общей информации о таблице df_messages\n",
    "data_info(df_messages)"
   ]
  },
  {
   "cell_type": "markdown",
   "metadata": {},
   "source": [
    "Таблица состоит из 3 столбцов, содержащих информацию о сообщениях пользователей:\n",
    "\n",
    "- id — уникальный номер сообщения\n",
    "- message_date — дата сообщения\n",
    "- user_id — идентификатор пользователя, отправившего сообщение\n",
    "\n",
    "Пропущенных значений нет. В столбце message_date необходимо изменение типа данных с object на datetime. Типы данных в остальных столбцах соответствуют специфике столбцов."
   ]
  },
  {
   "cell_type": "markdown",
   "metadata": {},
   "source": [
    "### Таблица internet (информация об интернет-сессиях)"
   ]
  },
  {
   "cell_type": "code",
   "execution_count": 10,
   "metadata": {},
   "outputs": [],
   "source": [
    "# чтение файла с данными и сохранение в df_internet\n",
    "df_internet = pd.read_csv('/datasets/internet.csv')"
   ]
  },
  {
   "cell_type": "code",
   "execution_count": 11,
   "metadata": {},
   "outputs": [
    {
     "name": "stdout",
     "output_type": "stream",
     "text": [
      "<class 'pandas.core.frame.DataFrame'>\n",
      "RangeIndex: 149396 entries, 0 to 149395\n",
      "Data columns (total 5 columns):\n",
      "Unnamed: 0      149396 non-null int64\n",
      "id              149396 non-null object\n",
      "mb_used         149396 non-null float64\n",
      "session_date    149396 non-null object\n",
      "user_id         149396 non-null int64\n",
      "dtypes: float64(1), int64(2), object(2)\n",
      "memory usage: 5.7+ MB\n"
     ]
    },
    {
     "data": {
      "text/plain": [
       "(   Unnamed: 0      id  mb_used session_date  user_id\n",
       " 0           0  1000_0   112.95   2018-11-25     1000\n",
       " 1           1  1000_1 1,052.81   2018-09-07     1000\n",
       " 2           2  1000_2 1,197.26   2018-06-25     1000\n",
       " 3           3  1000_3   550.27   2018-08-22     1000\n",
       " 4           4  1000_4   302.56   2018-09-24     1000,\n",
       " None,\n",
       "        Unnamed: 0    mb_used    user_id\n",
       " count  149,396.00 149,396.00 149,396.00\n",
       " mean    74,697.50     370.19   1,252.10\n",
       " std     43,127.05     278.30     144.05\n",
       " min          0.00       0.00   1,000.00\n",
       " 25%     37,348.75     138.19   1,130.00\n",
       " 50%     74,697.50     348.01   1,251.00\n",
       " 75%    112,046.25     559.55   1,380.00\n",
       " max    149,395.00   1,724.83   1,499.00)"
      ]
     },
     "execution_count": 11,
     "metadata": {},
     "output_type": "execute_result"
    }
   ],
   "source": [
    "# получение общей информации о данных о таблице df_internet\n",
    "data_info(df_internet)"
   ]
  },
  {
   "cell_type": "markdown",
   "metadata": {},
   "source": [
    "Таблица состоит из 5 столбцов, содержащих информацию об интернет-сессиях пользователей:\n",
    "\n",
    "- id — уникальный номер сессии\n",
    "- mb_used — объём потраченного за сессию интернет-трафика (в мегабайтах)\n",
    "- session_date — дата интернет-сессии\n",
    "- user_id — идентификатор пользователя\n",
    "\n",
    "Пропущенных значений нет. В столбце session_date необходимо изменение типа данных с object на datetime. Типы данных в остальных столбцах соответствуют специфике столбцов."
   ]
  },
  {
   "cell_type": "markdown",
   "metadata": {},
   "source": [
    "### Таблица tariffs (информация о тарифах)"
   ]
  },
  {
   "cell_type": "code",
   "execution_count": 12,
   "metadata": {},
   "outputs": [],
   "source": [
    "# чтение файла с данными и сохранение в df_tariffs\n",
    "df_tariffs = pd.read_csv('/datasets/tariffs.csv')"
   ]
  },
  {
   "cell_type": "code",
   "execution_count": 13,
   "metadata": {},
   "outputs": [
    {
     "data": {
      "text/html": [
       "<div>\n",
       "<style scoped>\n",
       "    .dataframe tbody tr th:only-of-type {\n",
       "        vertical-align: middle;\n",
       "    }\n",
       "\n",
       "    .dataframe tbody tr th {\n",
       "        vertical-align: top;\n",
       "    }\n",
       "\n",
       "    .dataframe thead th {\n",
       "        text-align: right;\n",
       "    }\n",
       "</style>\n",
       "<table border=\"1\" class=\"dataframe\">\n",
       "  <thead>\n",
       "    <tr style=\"text-align: right;\">\n",
       "      <th></th>\n",
       "      <th>messages_included</th>\n",
       "      <th>mb_per_month_included</th>\n",
       "      <th>minutes_included</th>\n",
       "      <th>rub_monthly_fee</th>\n",
       "      <th>rub_per_gb</th>\n",
       "      <th>rub_per_message</th>\n",
       "      <th>rub_per_minute</th>\n",
       "      <th>tariff_name</th>\n",
       "    </tr>\n",
       "  </thead>\n",
       "  <tbody>\n",
       "    <tr>\n",
       "      <td>0</td>\n",
       "      <td>50</td>\n",
       "      <td>15360</td>\n",
       "      <td>500</td>\n",
       "      <td>550</td>\n",
       "      <td>200</td>\n",
       "      <td>3</td>\n",
       "      <td>3</td>\n",
       "      <td>smart</td>\n",
       "    </tr>\n",
       "    <tr>\n",
       "      <td>1</td>\n",
       "      <td>1000</td>\n",
       "      <td>30720</td>\n",
       "      <td>3000</td>\n",
       "      <td>1950</td>\n",
       "      <td>150</td>\n",
       "      <td>1</td>\n",
       "      <td>1</td>\n",
       "      <td>ultra</td>\n",
       "    </tr>\n",
       "  </tbody>\n",
       "</table>\n",
       "</div>"
      ],
      "text/plain": [
       "   messages_included  mb_per_month_included  minutes_included  \\\n",
       "0                 50                  15360               500   \n",
       "1               1000                  30720              3000   \n",
       "\n",
       "   rub_monthly_fee  rub_per_gb  rub_per_message  rub_per_minute tariff_name  \n",
       "0              550         200                3               3       smart  \n",
       "1             1950         150                1               1       ultra  "
      ]
     },
     "execution_count": 13,
     "metadata": {},
     "output_type": "execute_result"
    }
   ],
   "source": [
    "# получение таблицы df_tariffs\n",
    "df_tariffs"
   ]
  },
  {
   "cell_type": "code",
   "execution_count": 14,
   "metadata": {},
   "outputs": [
    {
     "data": {
      "text/plain": [
       "messages_included         int64\n",
       "mb_per_month_included     int64\n",
       "minutes_included          int64\n",
       "rub_monthly_fee           int64\n",
       "rub_per_gb                int64\n",
       "rub_per_message           int64\n",
       "rub_per_minute            int64\n",
       "tariff_name              object\n",
       "dtype: object"
      ]
     },
     "execution_count": 14,
     "metadata": {},
     "output_type": "execute_result"
    }
   ],
   "source": [
    "# получение информаии о типах данных в таблице df_tariffs\n",
    "df_tariffs.dtypes"
   ]
  },
  {
   "cell_type": "markdown",
   "metadata": {},
   "source": [
    "Таблица состоит из 8 столбцов, содержащих информацию о тарифах компании:\n",
    "\n",
    "- tariff_name — название тарифа\n",
    "- rub_monthly_fee — ежемесячная абонентская плата в рублях\n",
    "- minutes_included — количество минут разговора в месяц, включённых в абонентскую плату\n",
    "- messages_included — количество сообщений в месяц, включённых в абонентскую плату\n",
    "- mb_per_month_included — объём интернет-трафика, включённого в абонентскую плату (в мегабайтах)\n",
    "- rub_per_minute — стоимость минуты разговора сверх тарифного пакета (например, если в тарифе 100 минут разговора в месяц, то со 101 минуты будет взиматься плата)\n",
    "- rub_per_message — стоимость отправки сообщения сверх тарифного пакета\n",
    "- rub_per_gb — стоимость дополнительного гигабайта интернет-трафика сверх тарифного пакета (1 гигабайт = 1024 мегабайта)\n",
    "\n",
    "Пропущенных значений нет. Типы данных в столбцах соответствуют специфике столбцов."
   ]
  },
  {
   "cell_type": "markdown",
   "metadata": {},
   "source": [
    "### Вывод"
   ]
  },
  {
   "cell_type": "markdown",
   "metadata": {},
   "source": [
    "Предварительно можно утверждать, что, данных достаточно для проверки гипотез. \n",
    "В таблицах users, calls, messages и internet в столбцах, содержащих даты, необходимо изменение типа данных."
   ]
  },
  {
   "cell_type": "markdown",
   "metadata": {},
   "source": [
    "## Предобработка данных и проведение дополнительных расчетов"
   ]
  },
  {
   "cell_type": "markdown",
   "metadata": {},
   "source": [
    "### Таблица users (информация о пользователях)"
   ]
  },
  {
   "cell_type": "markdown",
   "metadata": {},
   "source": [
    "Изучим подробнее данные содержащиеся в таблице. Проведем необходимую предобработку."
   ]
  },
  {
   "cell_type": "code",
   "execution_count": 15,
   "metadata": {},
   "outputs": [
    {
     "data": {
      "text/html": [
       "<div>\n",
       "<style scoped>\n",
       "    .dataframe tbody tr th:only-of-type {\n",
       "        vertical-align: middle;\n",
       "    }\n",
       "\n",
       "    .dataframe tbody tr th {\n",
       "        vertical-align: top;\n",
       "    }\n",
       "\n",
       "    .dataframe thead th {\n",
       "        text-align: right;\n",
       "    }\n",
       "</style>\n",
       "<table border=\"1\" class=\"dataframe\">\n",
       "  <thead>\n",
       "    <tr style=\"text-align: right;\">\n",
       "      <th></th>\n",
       "      <th>user_id</th>\n",
       "      <th>age</th>\n",
       "      <th>churn_date</th>\n",
       "      <th>city</th>\n",
       "      <th>first_name</th>\n",
       "      <th>last_name</th>\n",
       "      <th>reg_date</th>\n",
       "      <th>tariff</th>\n",
       "    </tr>\n",
       "  </thead>\n",
       "  <tbody>\n",
       "    <tr>\n",
       "      <td>0</td>\n",
       "      <td>1000</td>\n",
       "      <td>52</td>\n",
       "      <td>NaN</td>\n",
       "      <td>Краснодар</td>\n",
       "      <td>Рафаил</td>\n",
       "      <td>Верещагин</td>\n",
       "      <td>2018-05-25</td>\n",
       "      <td>ultra</td>\n",
       "    </tr>\n",
       "  </tbody>\n",
       "</table>\n",
       "</div>"
      ],
      "text/plain": [
       "   user_id  age churn_date       city first_name  last_name    reg_date tariff\n",
       "0     1000   52        NaN  Краснодар     Рафаил  Верещагин  2018-05-25  ultra"
      ]
     },
     "execution_count": 15,
     "metadata": {},
     "output_type": "execute_result"
    }
   ],
   "source": [
    "# получение первой строки таблицы\n",
    "df_users.head(1)"
   ]
  },
  {
   "cell_type": "code",
   "execution_count": 16,
   "metadata": {},
   "outputs": [
    {
     "data": {
      "text/plain": [
       "(1000, 1499)"
      ]
     },
     "execution_count": 16,
     "metadata": {},
     "output_type": "execute_result"
    }
   ],
   "source": [
    "# получение максимального и минимального значения столбца user_id\n",
    "df_users.user_id.min(), df_users.user_id.max()"
   ]
  },
  {
   "cell_type": "code",
   "execution_count": 17,
   "metadata": {
    "scrolled": true
   },
   "outputs": [
    {
     "data": {
      "text/plain": [
       "18     6\n",
       "19     9\n",
       "20     9\n",
       "21    12\n",
       "22     5\n",
       "23     9\n",
       "24     9\n",
       "25     7\n",
       "26    11\n",
       "27     9\n",
       "28     9\n",
       "29    11\n",
       "30     9\n",
       "31     7\n",
       "32     7\n",
       "33     5\n",
       "34     5\n",
       "35     7\n",
       "36    10\n",
       "37    11\n",
       "38     5\n",
       "39    11\n",
       "40    12\n",
       "41    10\n",
       "42    14\n",
       "43     7\n",
       "44     8\n",
       "45    10\n",
       "46     7\n",
       "47    11\n",
       "48     9\n",
       "49     4\n",
       "50     9\n",
       "51     9\n",
       "52    10\n",
       "53    14\n",
       "54     6\n",
       "55     8\n",
       "56     9\n",
       "57     4\n",
       "58    10\n",
       "59     6\n",
       "60     8\n",
       "61     3\n",
       "62     8\n",
       "63    13\n",
       "64    13\n",
       "65     9\n",
       "66     9\n",
       "67     7\n",
       "68     9\n",
       "69     8\n",
       "70    10\n",
       "71    13\n",
       "72     5\n",
       "73    12\n",
       "74     7\n",
       "75     6\n",
       "Name: age, dtype: int64"
      ]
     },
     "execution_count": 17,
     "metadata": {},
     "output_type": "execute_result"
    }
   ],
   "source": [
    "# получение значений столбца age\n",
    "df_users['age'].value_counts().sort_index(ascending=True)"
   ]
  },
  {
   "cell_type": "code",
   "execution_count": 18,
   "metadata": {},
   "outputs": [],
   "source": [
    "#изменение типа данных в столбце churn_date\n",
    "df_users['churn_date'] = pd.to_datetime(df_users['churn_date'], format='%Y-%m-%d')"
   ]
  },
  {
   "cell_type": "code",
   "execution_count": 19,
   "metadata": {},
   "outputs": [
    {
     "data": {
      "text/plain": [
       "Москва             99\n",
       "Санкт-Петербург    39\n",
       "Новосибирск        16\n",
       "Омск               14\n",
       "Казань             14\n",
       "                   ..\n",
       "Архангельск         1\n",
       "Подольск            1\n",
       "Химки               1\n",
       "Нижневартовск       1\n",
       "Иваново             1\n",
       "Name: city, Length: 76, dtype: int64"
      ]
     },
     "execution_count": 19,
     "metadata": {},
     "output_type": "execute_result"
    }
   ],
   "source": [
    "# получение значений столбца age\n",
    "df_users['city'].value_counts()"
   ]
  },
  {
   "cell_type": "code",
   "execution_count": 20,
   "metadata": {},
   "outputs": [
    {
     "data": {
      "text/plain": [
       "Радим        6\n",
       "Леонид       5\n",
       "Пётр         5\n",
       "Александр    4\n",
       "Кристина     4\n",
       "            ..\n",
       "Галина       1\n",
       "Дайна        1\n",
       "Юрий         1\n",
       "Леся         1\n",
       "Гарри        1\n",
       "Name: first_name, Length: 246, dtype: int64"
      ]
     },
     "execution_count": 20,
     "metadata": {},
     "output_type": "execute_result"
    }
   ],
   "source": [
    "# получение значений столбца age\n",
    "df_users['first_name'].value_counts()"
   ]
  },
  {
   "cell_type": "code",
   "execution_count": 21,
   "metadata": {},
   "outputs": [
    {
     "data": {
      "text/plain": [
       "Андреенко    5\n",
       "Абашкина     3\n",
       "Аркадьев     3\n",
       "Анищенко     3\n",
       "Березина     3\n",
       "            ..\n",
       "Абалакова    1\n",
       "Алюшина      1\n",
       "Елизаров     1\n",
       "Чумаков      1\n",
       "Ахматов      1\n",
       "Name: last_name, Length: 419, dtype: int64"
      ]
     },
     "execution_count": 21,
     "metadata": {},
     "output_type": "execute_result"
    }
   ],
   "source": [
    "# получение значений столбца age\n",
    "df_users['last_name'].value_counts()"
   ]
  },
  {
   "cell_type": "code",
   "execution_count": 22,
   "metadata": {},
   "outputs": [
    {
     "data": {
      "text/plain": [
       "Timestamp('2018-01-01 00:00:00')"
      ]
     },
     "execution_count": 22,
     "metadata": {},
     "output_type": "execute_result"
    }
   ],
   "source": [
    "#изменение типа данных \n",
    "df_users['reg_date'] = pd.to_datetime(df_users['reg_date'], format='%Y-%m-%d')\n",
    "df_users['reg_date'].min()"
   ]
  },
  {
   "cell_type": "code",
   "execution_count": 23,
   "metadata": {},
   "outputs": [
    {
     "data": {
      "text/plain": [
       "smart    351\n",
       "ultra    149\n",
       "Name: tariff, dtype: int64"
      ]
     },
     "execution_count": 23,
     "metadata": {},
     "output_type": "execute_result"
    }
   ],
   "source": [
    "# получение значений столбца age\n",
    "df_users['tariff'].value_counts()"
   ]
  },
  {
   "cell_type": "code",
   "execution_count": 24,
   "metadata": {},
   "outputs": [
    {
     "data": {
      "text/plain": [
       "0"
      ]
     },
     "execution_count": 24,
     "metadata": {},
     "output_type": "execute_result"
    }
   ],
   "source": [
    "# подсчет дубликатв\n",
    "df_users.duplicated().sum()"
   ]
  },
  {
   "cell_type": "markdown",
   "metadata": {},
   "source": [
    "<a id='use_date'></a>\n",
    "Добавим в таблицу столбец use_date, содержащий информацию о том, на протяжении скольких месяцев в 2018 году каждый клиент пользовался своим тарифом. Данные для столбца посчитаем как разницу между датой отключения и датой подключения (если пользование было прекращено) или как разницу между декабрем 2018 года и датой подключения (если пользование прекращено не было). Для проведения расчетов добавим столбцы reg_date_month и churn_date_month, содержащие месяц подключения к тарифу и отключения от тарифа соответственно."
   ]
  },
  {
   "cell_type": "code",
   "execution_count": 25,
   "metadata": {},
   "outputs": [
    {
     "data": {
      "text/html": [
       "<div>\n",
       "<style scoped>\n",
       "    .dataframe tbody tr th:only-of-type {\n",
       "        vertical-align: middle;\n",
       "    }\n",
       "\n",
       "    .dataframe tbody tr th {\n",
       "        vertical-align: top;\n",
       "    }\n",
       "\n",
       "    .dataframe thead th {\n",
       "        text-align: right;\n",
       "    }\n",
       "</style>\n",
       "<table border=\"1\" class=\"dataframe\">\n",
       "  <thead>\n",
       "    <tr style=\"text-align: right;\">\n",
       "      <th></th>\n",
       "      <th>user_id</th>\n",
       "      <th>age</th>\n",
       "      <th>churn_date</th>\n",
       "      <th>city</th>\n",
       "      <th>first_name</th>\n",
       "      <th>last_name</th>\n",
       "      <th>reg_date</th>\n",
       "      <th>tariff</th>\n",
       "      <th>reg_date_month</th>\n",
       "      <th>churn_date_month</th>\n",
       "      <th>use_date</th>\n",
       "    </tr>\n",
       "  </thead>\n",
       "  <tbody>\n",
       "    <tr>\n",
       "      <td>0</td>\n",
       "      <td>1000</td>\n",
       "      <td>52</td>\n",
       "      <td>NaT</td>\n",
       "      <td>Краснодар</td>\n",
       "      <td>Рафаил</td>\n",
       "      <td>Верещагин</td>\n",
       "      <td>2018-05-25</td>\n",
       "      <td>ultra</td>\n",
       "      <td>5</td>\n",
       "      <td>12</td>\n",
       "      <td>8</td>\n",
       "    </tr>\n",
       "    <tr>\n",
       "      <td>1</td>\n",
       "      <td>1001</td>\n",
       "      <td>41</td>\n",
       "      <td>NaT</td>\n",
       "      <td>Москва</td>\n",
       "      <td>Иван</td>\n",
       "      <td>Ежов</td>\n",
       "      <td>2018-11-01</td>\n",
       "      <td>smart</td>\n",
       "      <td>11</td>\n",
       "      <td>12</td>\n",
       "      <td>2</td>\n",
       "    </tr>\n",
       "    <tr>\n",
       "      <td>2</td>\n",
       "      <td>1002</td>\n",
       "      <td>59</td>\n",
       "      <td>NaT</td>\n",
       "      <td>Стерлитамак</td>\n",
       "      <td>Евгений</td>\n",
       "      <td>Абрамович</td>\n",
       "      <td>2018-06-17</td>\n",
       "      <td>smart</td>\n",
       "      <td>6</td>\n",
       "      <td>12</td>\n",
       "      <td>7</td>\n",
       "    </tr>\n",
       "    <tr>\n",
       "      <td>3</td>\n",
       "      <td>1003</td>\n",
       "      <td>23</td>\n",
       "      <td>NaT</td>\n",
       "      <td>Москва</td>\n",
       "      <td>Белла</td>\n",
       "      <td>Белякова</td>\n",
       "      <td>2018-08-17</td>\n",
       "      <td>ultra</td>\n",
       "      <td>8</td>\n",
       "      <td>12</td>\n",
       "      <td>5</td>\n",
       "    </tr>\n",
       "    <tr>\n",
       "      <td>4</td>\n",
       "      <td>1004</td>\n",
       "      <td>68</td>\n",
       "      <td>NaT</td>\n",
       "      <td>Новокузнецк</td>\n",
       "      <td>Татьяна</td>\n",
       "      <td>Авдеенко</td>\n",
       "      <td>2018-05-14</td>\n",
       "      <td>ultra</td>\n",
       "      <td>5</td>\n",
       "      <td>12</td>\n",
       "      <td>8</td>\n",
       "    </tr>\n",
       "    <tr>\n",
       "      <td>...</td>\n",
       "      <td>...</td>\n",
       "      <td>...</td>\n",
       "      <td>...</td>\n",
       "      <td>...</td>\n",
       "      <td>...</td>\n",
       "      <td>...</td>\n",
       "      <td>...</td>\n",
       "      <td>...</td>\n",
       "      <td>...</td>\n",
       "      <td>...</td>\n",
       "      <td>...</td>\n",
       "    </tr>\n",
       "    <tr>\n",
       "      <td>495</td>\n",
       "      <td>1495</td>\n",
       "      <td>65</td>\n",
       "      <td>NaT</td>\n",
       "      <td>Иркутск</td>\n",
       "      <td>Авксентий</td>\n",
       "      <td>Фокин</td>\n",
       "      <td>2018-08-28</td>\n",
       "      <td>ultra</td>\n",
       "      <td>8</td>\n",
       "      <td>12</td>\n",
       "      <td>5</td>\n",
       "    </tr>\n",
       "    <tr>\n",
       "      <td>496</td>\n",
       "      <td>1496</td>\n",
       "      <td>36</td>\n",
       "      <td>NaT</td>\n",
       "      <td>Вологда</td>\n",
       "      <td>Трифон</td>\n",
       "      <td>Блохин</td>\n",
       "      <td>2018-01-27</td>\n",
       "      <td>smart</td>\n",
       "      <td>1</td>\n",
       "      <td>12</td>\n",
       "      <td>12</td>\n",
       "    </tr>\n",
       "    <tr>\n",
       "      <td>497</td>\n",
       "      <td>1497</td>\n",
       "      <td>32</td>\n",
       "      <td>NaT</td>\n",
       "      <td>Челябинск</td>\n",
       "      <td>Каролина</td>\n",
       "      <td>Агеева</td>\n",
       "      <td>2018-10-09</td>\n",
       "      <td>smart</td>\n",
       "      <td>10</td>\n",
       "      <td>12</td>\n",
       "      <td>3</td>\n",
       "    </tr>\n",
       "    <tr>\n",
       "      <td>498</td>\n",
       "      <td>1498</td>\n",
       "      <td>68</td>\n",
       "      <td>2018-10-25</td>\n",
       "      <td>Владикавказ</td>\n",
       "      <td>Всеволод</td>\n",
       "      <td>Акимчин</td>\n",
       "      <td>2018-07-19</td>\n",
       "      <td>smart</td>\n",
       "      <td>7</td>\n",
       "      <td>10</td>\n",
       "      <td>4</td>\n",
       "    </tr>\n",
       "    <tr>\n",
       "      <td>499</td>\n",
       "      <td>1499</td>\n",
       "      <td>35</td>\n",
       "      <td>NaT</td>\n",
       "      <td>Пермь</td>\n",
       "      <td>Гектор</td>\n",
       "      <td>Корнилов</td>\n",
       "      <td>2018-09-27</td>\n",
       "      <td>smart</td>\n",
       "      <td>9</td>\n",
       "      <td>12</td>\n",
       "      <td>4</td>\n",
       "    </tr>\n",
       "  </tbody>\n",
       "</table>\n",
       "<p>500 rows × 11 columns</p>\n",
       "</div>"
      ],
      "text/plain": [
       "     user_id  age churn_date         city first_name  last_name   reg_date  \\\n",
       "0       1000   52        NaT    Краснодар     Рафаил  Верещагин 2018-05-25   \n",
       "1       1001   41        NaT       Москва       Иван       Ежов 2018-11-01   \n",
       "2       1002   59        NaT  Стерлитамак    Евгений  Абрамович 2018-06-17   \n",
       "3       1003   23        NaT       Москва      Белла   Белякова 2018-08-17   \n",
       "4       1004   68        NaT  Новокузнецк    Татьяна   Авдеенко 2018-05-14   \n",
       "..       ...  ...        ...          ...        ...        ...        ...   \n",
       "495     1495   65        NaT      Иркутск  Авксентий      Фокин 2018-08-28   \n",
       "496     1496   36        NaT      Вологда     Трифон     Блохин 2018-01-27   \n",
       "497     1497   32        NaT    Челябинск   Каролина     Агеева 2018-10-09   \n",
       "498     1498   68 2018-10-25  Владикавказ   Всеволод    Акимчин 2018-07-19   \n",
       "499     1499   35        NaT        Пермь     Гектор   Корнилов 2018-09-27   \n",
       "\n",
       "    tariff  reg_date_month  churn_date_month  use_date  \n",
       "0    ultra               5                12         8  \n",
       "1    smart              11                12         2  \n",
       "2    smart               6                12         7  \n",
       "3    ultra               8                12         5  \n",
       "4    ultra               5                12         8  \n",
       "..     ...             ...               ...       ...  \n",
       "495  ultra               8                12         5  \n",
       "496  smart               1                12        12  \n",
       "497  smart              10                12         3  \n",
       "498  smart               7                10         4  \n",
       "499  smart               9                12         4  \n",
       "\n",
       "[500 rows x 11 columns]"
      ]
     },
     "execution_count": 25,
     "metadata": {},
     "output_type": "execute_result"
    }
   ],
   "source": [
    "# добавление столбца\n",
    "df_users['reg_date_month'] = df_users['reg_date'].dt.month\n",
    "df_users['churn_date_month'] = df_users['churn_date'].dt.month\n",
    "df_users['churn_date_month'] = df_users['churn_date_month'].fillna(12).astype('int')\n",
    "df_users['use_date'] = df_users['churn_date_month'] - df_users['reg_date_month'] + 1\n",
    "df_users"
   ]
  },
  {
   "cell_type": "markdown",
   "metadata": {},
   "source": [
    "Данные в таблице корректны. Пропусков, дубликатов или ошибок внесения данных не выявлено. В столбцах reg_date и churn_date изменен тип данных на datetime.\n",
    "\n",
    "Добавлен столбец use_date, содержащий количество месяцев, в течении которых осуществлялось пользование тарифами.\n",
    "\n",
    "Всего таблица содержит данные о 500 пользователях возрастом от 18 до 75 лет. Большинство пользователей (20%) из г. Москва. Тариф smart встречается гораздо чаще чем ultra."
   ]
  },
  {
   "cell_type": "markdown",
   "metadata": {},
   "source": [
    "### Таблица calls (информация о звонках)"
   ]
  },
  {
   "cell_type": "markdown",
   "metadata": {},
   "source": [
    "Изучим подробнее содержащиеся в таблице данные. Проведем необходимую предобработку. Посчитаем для каждого пользователя количество сделанных звонков и израсходованных минут разговора по месяцам."
   ]
  },
  {
   "cell_type": "code",
   "execution_count": 26,
   "metadata": {
    "scrolled": false
   },
   "outputs": [
    {
     "data": {
      "text/html": [
       "<div>\n",
       "<style scoped>\n",
       "    .dataframe tbody tr th:only-of-type {\n",
       "        vertical-align: middle;\n",
       "    }\n",
       "\n",
       "    .dataframe tbody tr th {\n",
       "        vertical-align: top;\n",
       "    }\n",
       "\n",
       "    .dataframe thead th {\n",
       "        text-align: right;\n",
       "    }\n",
       "</style>\n",
       "<table border=\"1\" class=\"dataframe\">\n",
       "  <thead>\n",
       "    <tr style=\"text-align: right;\">\n",
       "      <th></th>\n",
       "      <th>id</th>\n",
       "      <th>call_date</th>\n",
       "      <th>duration</th>\n",
       "      <th>user_id</th>\n",
       "    </tr>\n",
       "  </thead>\n",
       "  <tbody>\n",
       "    <tr>\n",
       "      <td>0</td>\n",
       "      <td>1000_0</td>\n",
       "      <td>2018-07-25</td>\n",
       "      <td>0.00</td>\n",
       "      <td>1000</td>\n",
       "    </tr>\n",
       "  </tbody>\n",
       "</table>\n",
       "</div>"
      ],
      "text/plain": [
       "       id   call_date  duration  user_id\n",
       "0  1000_0  2018-07-25      0.00     1000"
      ]
     },
     "execution_count": 26,
     "metadata": {},
     "output_type": "execute_result"
    }
   ],
   "source": [
    "# получение первой строки таблицы\n",
    "df_calls.head(1)"
   ]
  },
  {
   "cell_type": "code",
   "execution_count": 27,
   "metadata": {},
   "outputs": [
    {
     "data": {
      "text/plain": [
       "1101_187    1\n",
       "1101_101    1\n",
       "1414_125    1\n",
       "1407_67     1\n",
       "1344_512    1\n",
       "           ..\n",
       "1171_359    1\n",
       "1217_18     1\n",
       "1039_451    1\n",
       "1264_170    1\n",
       "1225_415    1\n",
       "Name: id, Length: 202607, dtype: int64"
      ]
     },
     "execution_count": 27,
     "metadata": {},
     "output_type": "execute_result"
    }
   ],
   "source": [
    "# получение значений столбца id\n",
    "df_calls['id'].value_counts()"
   ]
  },
  {
   "cell_type": "code",
   "execution_count": 28,
   "metadata": {},
   "outputs": [
    {
     "data": {
      "text/plain": [
       "(Timestamp('2018-01-01 00:00:00'), Timestamp('2018-12-31 00:00:00'))"
      ]
     },
     "execution_count": 28,
     "metadata": {},
     "output_type": "execute_result"
    }
   ],
   "source": [
    "#изменение типа данных, получение минимального и максимального значений\n",
    "df_calls['call_date'] = pd.to_datetime(df_calls['call_date'], format='%Y-%m-%d')\n",
    "df_calls['call_date'].min(), df_calls['call_date'].max()"
   ]
  },
  {
   "cell_type": "code",
   "execution_count": 29,
   "metadata": {
    "scrolled": true
   },
   "outputs": [
    {
     "data": {
      "text/plain": [
       "count   202,607.00\n",
       "mean          6.76\n",
       "std           5.84\n",
       "min           0.00\n",
       "25%           1.30\n",
       "50%           6.00\n",
       "75%          10.70\n",
       "max          38.00\n",
       "Name: duration, dtype: float64"
      ]
     },
     "execution_count": 29,
     "metadata": {},
     "output_type": "execute_result"
    }
   ],
   "source": [
    "#получение общей информации столбца duration\n",
    "df_calls['duration'].describe()"
   ]
  },
  {
   "cell_type": "code",
   "execution_count": 30,
   "metadata": {},
   "outputs": [
    {
     "data": {
      "text/plain": [
       "39613"
      ]
     },
     "execution_count": 30,
     "metadata": {},
     "output_type": "execute_result"
    }
   ],
   "source": [
    "#подсчет количества нулевых значений столбца duration\n",
    "len(df_calls.query('duration == 0'))"
   ]
  },
  {
   "cell_type": "code",
   "execution_count": 31,
   "metadata": {},
   "outputs": [
    {
     "data": {
      "text/plain": [
       "id                       1000_10\n",
       "call_date    2018-01-01 00:00:00\n",
       "duration                    0.01\n",
       "user_id                     1000\n",
       "dtype: object"
      ]
     },
     "execution_count": 31,
     "metadata": {},
     "output_type": "execute_result"
    }
   ],
   "source": [
    "#определение минимального значения столбца duration\n",
    "df_calls.query('duration != 0').min()"
   ]
  },
  {
   "cell_type": "code",
   "execution_count": 32,
   "metadata": {},
   "outputs": [
    {
     "data": {
      "text/plain": [
       "742"
      ]
     },
     "execution_count": 32,
     "metadata": {},
     "output_type": "execute_result"
    }
   ],
   "source": [
    "#подсчет количества значений столбца duration менее 0.1\n",
    "len(df_calls.query('duration != 0 and duration < 0.1'))"
   ]
  },
  {
   "cell_type": "code",
   "execution_count": 33,
   "metadata": {},
   "outputs": [
    {
     "data": {
      "text/plain": [
       "1377    1760\n",
       "1168    1692\n",
       "1375    1560\n",
       "1453    1440\n",
       "1196    1240\n",
       "        ... \n",
       "1397      33\n",
       "1442      28\n",
       "1373      24\n",
       "1016      20\n",
       "1257      14\n",
       "Name: user_id, Length: 492, dtype: int64"
      ]
     },
     "execution_count": 33,
     "metadata": {},
     "output_type": "execute_result"
    }
   ],
   "source": [
    "# получение значений столбца id\n",
    "df_calls['user_id'].value_counts()"
   ]
  },
  {
   "cell_type": "code",
   "execution_count": 34,
   "metadata": {},
   "outputs": [
    {
     "data": {
      "text/plain": [
       "0"
      ]
     },
     "execution_count": 34,
     "metadata": {},
     "output_type": "execute_result"
    }
   ],
   "source": [
    "#подсчет количества дубликатов\n",
    "df_calls.duplicated().sum()"
   ]
  },
  {
   "cell_type": "markdown",
   "metadata": {},
   "source": [
    "<a id='user_not_call'></a>\n",
    "В таблице содержатся данные о звонках, совершенных пользователями в 2018 году. Длительность звонков лежит в диапазоне от 0.01 до 38 минут, нулями обозначены пропущенные звонки (таких звонков почти 40 тысяч). Средняя продолжительность звонков - 6.76 минут. Количество звонков по каждому пользователю от 14 до 1760 за год. Из 500 пользователей звонки совершали 492. Определим какие пользователи не совершали звонков."
   ]
  },
  {
   "cell_type": "code",
   "execution_count": 35,
   "metadata": {},
   "outputs": [
    {
     "data": {
      "text/plain": [
       "[1091, 1106, 1128, 1231, 1328, 1371, 1473, 1489]"
      ]
     },
     "execution_count": 35,
     "metadata": {},
     "output_type": "execute_result"
    }
   ],
   "source": [
    "#выявление пользователей, отсутствующих в df_calls\n",
    "user_call = set(df_calls['user_id'].tolist())\n",
    "user_all = list(range(1000, 1500))\n",
    "user_not_call = []\n",
    "for elem in user_all:\n",
    "    if elem not in user_call:\n",
    "        user_not_call.append(elem)\n",
    "user_not_call"
   ]
  },
  {
   "cell_type": "code",
   "execution_count": 36,
   "metadata": {},
   "outputs": [
    {
     "data": {
      "text/plain": [
       "{1091, 1106, 1128, 1231, 1328, 1371, 1473, 1489}"
      ]
     },
     "execution_count": 36,
     "metadata": {},
     "output_type": "execute_result"
    }
   ],
   "source": [
    "set(range(1000, 1500)) - set(df_calls['user_id'].tolist())"
   ]
  },
  {
   "cell_type": "markdown",
   "metadata": {},
   "source": [
    "Посчитаем количество сделанных звонков и израсходованных минут разговора по месяцам. Для этого добавим в таблицу столбец month_calls, содержащий месяц, в котором совершен звонок.\n",
    "\n",
    "«Мегалайн» всегда округляет секунды до минут. Каждый звонок округляется отдельно: даже если он длился всего 1 секунду, будет засчитан как 1 минута. В столбец duration_min сохраним длительность каждого звонка после округления."
   ]
  },
  {
   "cell_type": "code",
   "execution_count": 37,
   "metadata": {},
   "outputs": [],
   "source": [
    "#добавление в таблицу столбца, содержащего месяц совершения звонка\n",
    "df_calls['month_calls'] = df_calls['call_date'].astype('datetime64[M]')"
   ]
  },
  {
   "cell_type": "code",
   "execution_count": 38,
   "metadata": {},
   "outputs": [
    {
     "data": {
      "text/html": [
       "<div>\n",
       "<style scoped>\n",
       "    .dataframe tbody tr th:only-of-type {\n",
       "        vertical-align: middle;\n",
       "    }\n",
       "\n",
       "    .dataframe tbody tr th {\n",
       "        vertical-align: top;\n",
       "    }\n",
       "\n",
       "    .dataframe thead th {\n",
       "        text-align: right;\n",
       "    }\n",
       "</style>\n",
       "<table border=\"1\" class=\"dataframe\">\n",
       "  <thead>\n",
       "    <tr style=\"text-align: right;\">\n",
       "      <th></th>\n",
       "      <th>id</th>\n",
       "      <th>call_date</th>\n",
       "      <th>duration</th>\n",
       "      <th>user_id</th>\n",
       "      <th>month_calls</th>\n",
       "      <th>duration_min</th>\n",
       "    </tr>\n",
       "  </thead>\n",
       "  <tbody>\n",
       "    <tr>\n",
       "      <td>0</td>\n",
       "      <td>1000_0</td>\n",
       "      <td>2018-07-25</td>\n",
       "      <td>0.00</td>\n",
       "      <td>1000</td>\n",
       "      <td>2018-07-01</td>\n",
       "      <td>0</td>\n",
       "    </tr>\n",
       "    <tr>\n",
       "      <td>1</td>\n",
       "      <td>1000_1</td>\n",
       "      <td>2018-08-17</td>\n",
       "      <td>0.00</td>\n",
       "      <td>1000</td>\n",
       "      <td>2018-08-01</td>\n",
       "      <td>0</td>\n",
       "    </tr>\n",
       "    <tr>\n",
       "      <td>2</td>\n",
       "      <td>1000_2</td>\n",
       "      <td>2018-06-11</td>\n",
       "      <td>2.85</td>\n",
       "      <td>1000</td>\n",
       "      <td>2018-06-01</td>\n",
       "      <td>3</td>\n",
       "    </tr>\n",
       "    <tr>\n",
       "      <td>3</td>\n",
       "      <td>1000_3</td>\n",
       "      <td>2018-09-21</td>\n",
       "      <td>13.80</td>\n",
       "      <td>1000</td>\n",
       "      <td>2018-09-01</td>\n",
       "      <td>14</td>\n",
       "    </tr>\n",
       "    <tr>\n",
       "      <td>4</td>\n",
       "      <td>1000_4</td>\n",
       "      <td>2018-12-15</td>\n",
       "      <td>5.18</td>\n",
       "      <td>1000</td>\n",
       "      <td>2018-12-01</td>\n",
       "      <td>6</td>\n",
       "    </tr>\n",
       "  </tbody>\n",
       "</table>\n",
       "</div>"
      ],
      "text/plain": [
       "       id  call_date  duration  user_id month_calls  duration_min\n",
       "0  1000_0 2018-07-25      0.00     1000  2018-07-01             0\n",
       "1  1000_1 2018-08-17      0.00     1000  2018-08-01             0\n",
       "2  1000_2 2018-06-11      2.85     1000  2018-06-01             3\n",
       "3  1000_3 2018-09-21     13.80     1000  2018-09-01            14\n",
       "4  1000_4 2018-12-15      5.18     1000  2018-12-01             6"
      ]
     },
     "execution_count": 38,
     "metadata": {},
     "output_type": "execute_result"
    }
   ],
   "source": [
    "#добавление в таблицу столбца, содержащего длительность звонков после округления\n",
    "df_calls['duration_min'] = np.ceil(df_calls['duration']).astype(int)\n",
    "df_calls.head()"
   ]
  },
  {
   "cell_type": "markdown",
   "metadata": {},
   "source": [
    "Посчитаем для каждого пользователя количество сделанных звонков (count_calls) и израсходованных минут (sum_duration_calls) разговора по месяцам. Сохраним полученные данные в таблицу df_calls_agg. Добавим столбец user_month, содержащий id пользователя и месяц совершения звонка, он понадобится для дальнейшего объединения таблиц.<a id='2.2'></a>"
   ]
  },
  {
   "cell_type": "code",
   "execution_count": 39,
   "metadata": {
    "scrolled": true
   },
   "outputs": [
    {
     "data": {
      "text/html": [
       "<div>\n",
       "<style scoped>\n",
       "    .dataframe tbody tr th:only-of-type {\n",
       "        vertical-align: middle;\n",
       "    }\n",
       "\n",
       "    .dataframe tbody tr th {\n",
       "        vertical-align: top;\n",
       "    }\n",
       "\n",
       "    .dataframe thead th {\n",
       "        text-align: right;\n",
       "    }\n",
       "</style>\n",
       "<table border=\"1\" class=\"dataframe\">\n",
       "  <thead>\n",
       "    <tr style=\"text-align: right;\">\n",
       "      <th></th>\n",
       "      <th>user_id</th>\n",
       "      <th>month_calls</th>\n",
       "      <th>count_calls</th>\n",
       "      <th>sum_duration_calls</th>\n",
       "      <th>user_month</th>\n",
       "    </tr>\n",
       "  </thead>\n",
       "  <tbody>\n",
       "    <tr>\n",
       "      <td>0</td>\n",
       "      <td>1000</td>\n",
       "      <td>2018-05-01</td>\n",
       "      <td>22</td>\n",
       "      <td>159</td>\n",
       "      <td>1000,2018-05-01</td>\n",
       "    </tr>\n",
       "    <tr>\n",
       "      <td>1</td>\n",
       "      <td>1000</td>\n",
       "      <td>2018-06-01</td>\n",
       "      <td>43</td>\n",
       "      <td>172</td>\n",
       "      <td>1000,2018-06-01</td>\n",
       "    </tr>\n",
       "    <tr>\n",
       "      <td>2</td>\n",
       "      <td>1000</td>\n",
       "      <td>2018-07-01</td>\n",
       "      <td>47</td>\n",
       "      <td>340</td>\n",
       "      <td>1000,2018-07-01</td>\n",
       "    </tr>\n",
       "    <tr>\n",
       "      <td>3</td>\n",
       "      <td>1000</td>\n",
       "      <td>2018-08-01</td>\n",
       "      <td>52</td>\n",
       "      <td>408</td>\n",
       "      <td>1000,2018-08-01</td>\n",
       "    </tr>\n",
       "    <tr>\n",
       "      <td>4</td>\n",
       "      <td>1000</td>\n",
       "      <td>2018-09-01</td>\n",
       "      <td>58</td>\n",
       "      <td>466</td>\n",
       "      <td>1000,2018-09-01</td>\n",
       "    </tr>\n",
       "  </tbody>\n",
       "</table>\n",
       "</div>"
      ],
      "text/plain": [
       "   user_id month_calls  count_calls  sum_duration_calls       user_month\n",
       "0     1000  2018-05-01           22                 159  1000,2018-05-01\n",
       "1     1000  2018-06-01           43                 172  1000,2018-06-01\n",
       "2     1000  2018-07-01           47                 340  1000,2018-07-01\n",
       "3     1000  2018-08-01           52                 408  1000,2018-08-01\n",
       "4     1000  2018-09-01           58                 466  1000,2018-09-01"
      ]
     },
     "execution_count": 39,
     "metadata": {},
     "output_type": "execute_result"
    }
   ],
   "source": [
    "#подготовка сводной таблицы с расчетами\n",
    "df_calls_agg = df_calls.groupby(['user_id', 'month_calls']).agg(count_calls=('id','count'),sum_duration_calls=('duration_min','sum'))\n",
    "df_calls_agg = df_calls_agg.reset_index()\n",
    "df_calls_agg = df_calls_agg.assign(user_month = df_calls_agg.user_id.astype(str) + ',' + df_calls_agg.month_calls.astype(str))\n",
    "df_calls_agg.head()"
   ]
  },
  {
   "cell_type": "code",
   "execution_count": 40,
   "metadata": {},
   "outputs": [
    {
     "data": {
      "text/plain": [
       "count   3,174.00\n",
       "mean       63.83\n",
       "std        32.68\n",
       "min         1.00\n",
       "25%        41.00\n",
       "50%        63.00\n",
       "75%        83.00\n",
       "max       244.00\n",
       "Name: count_calls, dtype: float64"
      ]
     },
     "execution_count": 40,
     "metadata": {},
     "output_type": "execute_result"
    }
   ],
   "source": [
    "#получение общей информации столбца count_messages\n",
    "df_calls_agg['count_calls'].describe()"
   ]
  },
  {
   "cell_type": "code",
   "execution_count": 41,
   "metadata": {},
   "outputs": [
    {
     "data": {
      "text/plain": [
       "count   3,174.00\n",
       "mean      456.93\n",
       "std       238.03\n",
       "min         0.00\n",
       "25%       290.00\n",
       "50%       447.00\n",
       "75%       592.00\n",
       "max     1,673.00\n",
       "Name: sum_duration_calls, dtype: float64"
      ]
     },
     "execution_count": 41,
     "metadata": {},
     "output_type": "execute_result"
    }
   ],
   "source": [
    "#получение общей информации столбца count_messages\n",
    "df_calls_agg['sum_duration_calls'].describe()"
   ]
  },
  {
   "cell_type": "code",
   "execution_count": 42,
   "metadata": {},
   "outputs": [
    {
     "data": {
      "text/html": [
       "<div>\n",
       "<style scoped>\n",
       "    .dataframe tbody tr th:only-of-type {\n",
       "        vertical-align: middle;\n",
       "    }\n",
       "\n",
       "    .dataframe tbody tr th {\n",
       "        vertical-align: top;\n",
       "    }\n",
       "\n",
       "    .dataframe thead th {\n",
       "        text-align: right;\n",
       "    }\n",
       "</style>\n",
       "<table border=\"1\" class=\"dataframe\">\n",
       "  <thead>\n",
       "    <tr style=\"text-align: right;\">\n",
       "      <th></th>\n",
       "      <th>user_id</th>\n",
       "      <th>month_calls</th>\n",
       "      <th>count_calls</th>\n",
       "      <th>sum_duration_calls</th>\n",
       "      <th>user_month</th>\n",
       "    </tr>\n",
       "  </thead>\n",
       "  <tbody>\n",
       "    <tr>\n",
       "      <td>1493</td>\n",
       "      <td>1240</td>\n",
       "      <td>2018-02-01</td>\n",
       "      <td>2</td>\n",
       "      <td>0</td>\n",
       "      <td>1240,2018-02-01</td>\n",
       "    </tr>\n",
       "    <tr>\n",
       "      <td>1605</td>\n",
       "      <td>1257</td>\n",
       "      <td>2018-07-01</td>\n",
       "      <td>1</td>\n",
       "      <td>0</td>\n",
       "      <td>1257,2018-07-01</td>\n",
       "    </tr>\n",
       "    <tr>\n",
       "      <td>1606</td>\n",
       "      <td>1257</td>\n",
       "      <td>2018-08-01</td>\n",
       "      <td>2</td>\n",
       "      <td>0</td>\n",
       "      <td>1257,2018-08-01</td>\n",
       "    </tr>\n",
       "    <tr>\n",
       "      <td>1607</td>\n",
       "      <td>1257</td>\n",
       "      <td>2018-09-01</td>\n",
       "      <td>1</td>\n",
       "      <td>0</td>\n",
       "      <td>1257,2018-09-01</td>\n",
       "    </tr>\n",
       "    <tr>\n",
       "      <td>2318</td>\n",
       "      <td>1373</td>\n",
       "      <td>2018-01-01</td>\n",
       "      <td>2</td>\n",
       "      <td>0</td>\n",
       "      <td>1373,2018-01-01</td>\n",
       "    </tr>\n",
       "    <tr>\n",
       "      <td>2321</td>\n",
       "      <td>1373</td>\n",
       "      <td>2018-04-01</td>\n",
       "      <td>1</td>\n",
       "      <td>0</td>\n",
       "      <td>1373,2018-04-01</td>\n",
       "    </tr>\n",
       "  </tbody>\n",
       "</table>\n",
       "</div>"
      ],
      "text/plain": [
       "      user_id month_calls  count_calls  sum_duration_calls       user_month\n",
       "1493     1240  2018-02-01            2                   0  1240,2018-02-01\n",
       "1605     1257  2018-07-01            1                   0  1257,2018-07-01\n",
       "1606     1257  2018-08-01            2                   0  1257,2018-08-01\n",
       "1607     1257  2018-09-01            1                   0  1257,2018-09-01\n",
       "2318     1373  2018-01-01            2                   0  1373,2018-01-01\n",
       "2321     1373  2018-04-01            1                   0  1373,2018-04-01"
      ]
     },
     "execution_count": 42,
     "metadata": {},
     "output_type": "execute_result"
    }
   ],
   "source": [
    "df_calls_agg.query('sum_duration_calls == 0')"
   ]
  },
  {
   "cell_type": "markdown",
   "metadata": {},
   "source": [
    "### Таблица messages (информация о сообщениях)"
   ]
  },
  {
   "cell_type": "markdown",
   "metadata": {},
   "source": [
    "Изучим подробнее содержащиеся в таблице данные. Проведем необходимую предобработку. Посчитаем для каждого пользователя количество отправленных сообщений по месяцам."
   ]
  },
  {
   "cell_type": "code",
   "execution_count": 43,
   "metadata": {},
   "outputs": [
    {
     "data": {
      "text/html": [
       "<div>\n",
       "<style scoped>\n",
       "    .dataframe tbody tr th:only-of-type {\n",
       "        vertical-align: middle;\n",
       "    }\n",
       "\n",
       "    .dataframe tbody tr th {\n",
       "        vertical-align: top;\n",
       "    }\n",
       "\n",
       "    .dataframe thead th {\n",
       "        text-align: right;\n",
       "    }\n",
       "</style>\n",
       "<table border=\"1\" class=\"dataframe\">\n",
       "  <thead>\n",
       "    <tr style=\"text-align: right;\">\n",
       "      <th></th>\n",
       "      <th>id</th>\n",
       "      <th>message_date</th>\n",
       "      <th>user_id</th>\n",
       "    </tr>\n",
       "  </thead>\n",
       "  <tbody>\n",
       "    <tr>\n",
       "      <td>0</td>\n",
       "      <td>1000_0</td>\n",
       "      <td>2018-06-27</td>\n",
       "      <td>1000</td>\n",
       "    </tr>\n",
       "  </tbody>\n",
       "</table>\n",
       "</div>"
      ],
      "text/plain": [
       "       id message_date  user_id\n",
       "0  1000_0   2018-06-27     1000"
      ]
     },
     "execution_count": 43,
     "metadata": {},
     "output_type": "execute_result"
    }
   ],
   "source": [
    "#получение первой строки таблицы\n",
    "df_messages.head(1)"
   ]
  },
  {
   "cell_type": "code",
   "execution_count": 44,
   "metadata": {},
   "outputs": [
    {
     "data": {
      "text/plain": [
       "1039_214    1\n",
       "1004_287    1\n",
       "1373_221    1\n",
       "1296_236    1\n",
       "1280_181    1\n",
       "           ..\n",
       "1174_150    1\n",
       "1155_564    1\n",
       "1335_431    1\n",
       "1338_205    1\n",
       "1004_301    1\n",
       "Name: id, Length: 123036, dtype: int64"
      ]
     },
     "execution_count": 44,
     "metadata": {},
     "output_type": "execute_result"
    }
   ],
   "source": [
    "# получение значений столбца id\n",
    "df_messages['id'].value_counts()"
   ]
  },
  {
   "cell_type": "code",
   "execution_count": 45,
   "metadata": {},
   "outputs": [
    {
     "data": {
      "text/plain": [
       "(Timestamp('2018-01-02 00:00:00'), Timestamp('2018-12-31 00:00:00'))"
      ]
     },
     "execution_count": 45,
     "metadata": {},
     "output_type": "execute_result"
    }
   ],
   "source": [
    "#изменение типа данных, получение минимального и максимального значений\n",
    "df_messages['message_date'] = pd.to_datetime(df_messages['message_date'], format='%Y-%m-%d')\n",
    "df_messages['message_date'].min(), df_messages['message_date'].max()"
   ]
  },
  {
   "cell_type": "code",
   "execution_count": 46,
   "metadata": {},
   "outputs": [
    {
     "data": {
      "text/plain": [
       "1277    1463\n",
       "1089    1408\n",
       "1231    1384\n",
       "1385    1380\n",
       "1356    1224\n",
       "        ... \n",
       "1389       6\n",
       "1279       5\n",
       "1074       3\n",
       "1159       2\n",
       "1141       1\n",
       "Name: user_id, Length: 426, dtype: int64"
      ]
     },
     "execution_count": 46,
     "metadata": {},
     "output_type": "execute_result"
    }
   ],
   "source": [
    "# получение значений столбца user_id\n",
    "df_messages['user_id'].value_counts()"
   ]
  },
  {
   "cell_type": "code",
   "execution_count": 47,
   "metadata": {},
   "outputs": [
    {
     "data": {
      "text/plain": [
       "0"
      ]
     },
     "execution_count": 47,
     "metadata": {},
     "output_type": "execute_result"
    }
   ],
   "source": [
    "#подсчет количества дубликатов\n",
    "df_messages.duplicated().sum()"
   ]
  },
  {
   "cell_type": "markdown",
   "metadata": {},
   "source": [
    "<a id='user_not_messages'></a>\n",
    "В таблице содержатся данные о сообщениях, отправленных пользователями в 2018 году. Из 500 пользователей сообщения отправляли 426. Определим какие пользователи не отправляли сообщений."
   ]
  },
  {
   "cell_type": "code",
   "execution_count": 48,
   "metadata": {
    "scrolled": true
   },
   "outputs": [
    {
     "data": {
      "text/plain": [
       "74"
      ]
     },
     "execution_count": 48,
     "metadata": {},
     "output_type": "execute_result"
    }
   ],
   "source": [
    "#выявление пользователей, отсутствующих в df_messages\n",
    "user_messages = set(df_messages['user_id'].tolist())\n",
    "user_not_messages = []\n",
    "for elem in user_all:\n",
    "    if elem not in user_messages:\n",
    "        user_not_messages.append(elem)\n",
    "len(user_not_messages)"
   ]
  },
  {
   "cell_type": "markdown",
   "metadata": {},
   "source": [
    "Посчитаем количество отправленных сообщений по месяцам. Для этого добавим в таблицу столбец month_messages, содержащий месяц, в котором отправлено сообщение. "
   ]
  },
  {
   "cell_type": "code",
   "execution_count": 49,
   "metadata": {},
   "outputs": [
    {
     "data": {
      "text/html": [
       "<div>\n",
       "<style scoped>\n",
       "    .dataframe tbody tr th:only-of-type {\n",
       "        vertical-align: middle;\n",
       "    }\n",
       "\n",
       "    .dataframe tbody tr th {\n",
       "        vertical-align: top;\n",
       "    }\n",
       "\n",
       "    .dataframe thead th {\n",
       "        text-align: right;\n",
       "    }\n",
       "</style>\n",
       "<table border=\"1\" class=\"dataframe\">\n",
       "  <thead>\n",
       "    <tr style=\"text-align: right;\">\n",
       "      <th></th>\n",
       "      <th>id</th>\n",
       "      <th>message_date</th>\n",
       "      <th>user_id</th>\n",
       "      <th>month_messages</th>\n",
       "    </tr>\n",
       "  </thead>\n",
       "  <tbody>\n",
       "    <tr>\n",
       "      <td>0</td>\n",
       "      <td>1000_0</td>\n",
       "      <td>2018-06-27</td>\n",
       "      <td>1000</td>\n",
       "      <td>2018-06-01</td>\n",
       "    </tr>\n",
       "    <tr>\n",
       "      <td>1</td>\n",
       "      <td>1000_1</td>\n",
       "      <td>2018-10-08</td>\n",
       "      <td>1000</td>\n",
       "      <td>2018-10-01</td>\n",
       "    </tr>\n",
       "    <tr>\n",
       "      <td>2</td>\n",
       "      <td>1000_2</td>\n",
       "      <td>2018-08-04</td>\n",
       "      <td>1000</td>\n",
       "      <td>2018-08-01</td>\n",
       "    </tr>\n",
       "    <tr>\n",
       "      <td>3</td>\n",
       "      <td>1000_3</td>\n",
       "      <td>2018-06-16</td>\n",
       "      <td>1000</td>\n",
       "      <td>2018-06-01</td>\n",
       "    </tr>\n",
       "    <tr>\n",
       "      <td>4</td>\n",
       "      <td>1000_4</td>\n",
       "      <td>2018-12-05</td>\n",
       "      <td>1000</td>\n",
       "      <td>2018-12-01</td>\n",
       "    </tr>\n",
       "  </tbody>\n",
       "</table>\n",
       "</div>"
      ],
      "text/plain": [
       "       id message_date  user_id month_messages\n",
       "0  1000_0   2018-06-27     1000     2018-06-01\n",
       "1  1000_1   2018-10-08     1000     2018-10-01\n",
       "2  1000_2   2018-08-04     1000     2018-08-01\n",
       "3  1000_3   2018-06-16     1000     2018-06-01\n",
       "4  1000_4   2018-12-05     1000     2018-12-01"
      ]
     },
     "execution_count": 49,
     "metadata": {},
     "output_type": "execute_result"
    }
   ],
   "source": [
    "#добавление в таблицу столбца, содержащего месяц отправления сообщения\n",
    "df_messages['month_messages'] = df_messages['message_date'].astype('datetime64[M]')\n",
    "df_messages.head()"
   ]
  },
  {
   "cell_type": "markdown",
   "metadata": {},
   "source": [
    "Посчитаем для каждого пользователя количество отправленных сообщений (count_messages) по месяцам. Сохраним полученные данные в таблицу df_messages_agg. Добавим столбец user_month, содержащий id пользователя и месяц отправления сообщения, он понадобится для дальнейшего объединения таблиц. <a id='2.3'></a>"
   ]
  },
  {
   "cell_type": "code",
   "execution_count": 50,
   "metadata": {
    "scrolled": true
   },
   "outputs": [
    {
     "data": {
      "text/html": [
       "<div>\n",
       "<style scoped>\n",
       "    .dataframe tbody tr th:only-of-type {\n",
       "        vertical-align: middle;\n",
       "    }\n",
       "\n",
       "    .dataframe tbody tr th {\n",
       "        vertical-align: top;\n",
       "    }\n",
       "\n",
       "    .dataframe thead th {\n",
       "        text-align: right;\n",
       "    }\n",
       "</style>\n",
       "<table border=\"1\" class=\"dataframe\">\n",
       "  <thead>\n",
       "    <tr style=\"text-align: right;\">\n",
       "      <th></th>\n",
       "      <th>user_id</th>\n",
       "      <th>month_messages</th>\n",
       "      <th>count_messages</th>\n",
       "      <th>user_month</th>\n",
       "    </tr>\n",
       "  </thead>\n",
       "  <tbody>\n",
       "    <tr>\n",
       "      <td>0</td>\n",
       "      <td>1000</td>\n",
       "      <td>2018-05-01</td>\n",
       "      <td>22</td>\n",
       "      <td>1000,2018-05-01</td>\n",
       "    </tr>\n",
       "    <tr>\n",
       "      <td>1</td>\n",
       "      <td>1000</td>\n",
       "      <td>2018-06-01</td>\n",
       "      <td>60</td>\n",
       "      <td>1000,2018-06-01</td>\n",
       "    </tr>\n",
       "    <tr>\n",
       "      <td>2</td>\n",
       "      <td>1000</td>\n",
       "      <td>2018-07-01</td>\n",
       "      <td>75</td>\n",
       "      <td>1000,2018-07-01</td>\n",
       "    </tr>\n",
       "    <tr>\n",
       "      <td>3</td>\n",
       "      <td>1000</td>\n",
       "      <td>2018-08-01</td>\n",
       "      <td>81</td>\n",
       "      <td>1000,2018-08-01</td>\n",
       "    </tr>\n",
       "    <tr>\n",
       "      <td>4</td>\n",
       "      <td>1000</td>\n",
       "      <td>2018-09-01</td>\n",
       "      <td>57</td>\n",
       "      <td>1000,2018-09-01</td>\n",
       "    </tr>\n",
       "  </tbody>\n",
       "</table>\n",
       "</div>"
      ],
      "text/plain": [
       "   user_id month_messages  count_messages       user_month\n",
       "0     1000     2018-05-01              22  1000,2018-05-01\n",
       "1     1000     2018-06-01              60  1000,2018-06-01\n",
       "2     1000     2018-07-01              75  1000,2018-07-01\n",
       "3     1000     2018-08-01              81  1000,2018-08-01\n",
       "4     1000     2018-09-01              57  1000,2018-09-01"
      ]
     },
     "execution_count": 50,
     "metadata": {},
     "output_type": "execute_result"
    }
   ],
   "source": [
    "#подготовка сводной таблицы с расчетами\n",
    "df_messages_agg = df_messages.groupby(['user_id', 'month_messages']).agg(count_messages=('id','count'))\n",
    "df_messages_agg = df_messages_agg.reset_index()\n",
    "df_messages_agg = df_messages_agg.assign(user_month = df_messages_agg.user_id.astype(str) + ',' + df_messages_agg.month_messages.astype(str))\n",
    "df_messages_agg.head()"
   ]
  },
  {
   "cell_type": "code",
   "execution_count": 51,
   "metadata": {},
   "outputs": [
    {
     "data": {
      "text/plain": [
       "count   2,717.00\n",
       "mean       45.28\n",
       "std        35.05\n",
       "min         1.00\n",
       "25%        19.00\n",
       "50%        38.00\n",
       "75%        63.00\n",
       "max       224.00\n",
       "Name: count_messages, dtype: float64"
      ]
     },
     "execution_count": 51,
     "metadata": {},
     "output_type": "execute_result"
    }
   ],
   "source": [
    "#получение общей информации столбца count_messages\n",
    "df_messages_agg['count_messages'].describe()"
   ]
  },
  {
   "cell_type": "markdown",
   "metadata": {},
   "source": [
    "### Таблица internet (информация об интернет-сессиях)"
   ]
  },
  {
   "cell_type": "markdown",
   "metadata": {},
   "source": [
    "Изучим подробнее содержащиеся в таблице данные. Проведем необходимую предобработку. Посчитаем для каждого пользователя объем израсходованного интернет-трафика по месяцам."
   ]
  },
  {
   "cell_type": "code",
   "execution_count": 52,
   "metadata": {},
   "outputs": [
    {
     "data": {
      "text/html": [
       "<div>\n",
       "<style scoped>\n",
       "    .dataframe tbody tr th:only-of-type {\n",
       "        vertical-align: middle;\n",
       "    }\n",
       "\n",
       "    .dataframe tbody tr th {\n",
       "        vertical-align: top;\n",
       "    }\n",
       "\n",
       "    .dataframe thead th {\n",
       "        text-align: right;\n",
       "    }\n",
       "</style>\n",
       "<table border=\"1\" class=\"dataframe\">\n",
       "  <thead>\n",
       "    <tr style=\"text-align: right;\">\n",
       "      <th></th>\n",
       "      <th>Unnamed: 0</th>\n",
       "      <th>id</th>\n",
       "      <th>mb_used</th>\n",
       "      <th>session_date</th>\n",
       "      <th>user_id</th>\n",
       "    </tr>\n",
       "  </thead>\n",
       "  <tbody>\n",
       "    <tr>\n",
       "      <td>0</td>\n",
       "      <td>0</td>\n",
       "      <td>1000_0</td>\n",
       "      <td>112.95</td>\n",
       "      <td>2018-11-25</td>\n",
       "      <td>1000</td>\n",
       "    </tr>\n",
       "  </tbody>\n",
       "</table>\n",
       "</div>"
      ],
      "text/plain": [
       "   Unnamed: 0      id  mb_used session_date  user_id\n",
       "0           0  1000_0   112.95   2018-11-25     1000"
      ]
     },
     "execution_count": 52,
     "metadata": {},
     "output_type": "execute_result"
    }
   ],
   "source": [
    "#получение первой строки таблицы\n",
    "df_internet.head(1)"
   ]
  },
  {
   "cell_type": "code",
   "execution_count": 53,
   "metadata": {},
   "outputs": [
    {
     "data": {
      "text/plain": [
       "1039_214    1\n",
       "1325_74     1\n",
       "1155_551    1\n",
       "1214_54     1\n",
       "1204_780    1\n",
       "           ..\n",
       "1155_353    1\n",
       "1090_7      1\n",
       "1163_0      1\n",
       "1328_2      1\n",
       "1120_14     1\n",
       "Name: id, Length: 149396, dtype: int64"
      ]
     },
     "execution_count": 53,
     "metadata": {},
     "output_type": "execute_result"
    }
   ],
   "source": [
    "# получение значений столбца id\n",
    "df_internet['id'].value_counts()"
   ]
  },
  {
   "cell_type": "code",
   "execution_count": 54,
   "metadata": {},
   "outputs": [
    {
     "data": {
      "text/plain": [
       "count   149,396.00\n",
       "mean        370.19\n",
       "std         278.30\n",
       "min           0.00\n",
       "25%         138.19\n",
       "50%         348.01\n",
       "75%         559.55\n",
       "max       1,724.83\n",
       "Name: mb_used, dtype: float64"
      ]
     },
     "execution_count": 54,
     "metadata": {},
     "output_type": "execute_result"
    }
   ],
   "source": [
    "#получение общей информации столбца mb_used\n",
    "df_internet['mb_used'].describe()"
   ]
  },
  {
   "cell_type": "code",
   "execution_count": 55,
   "metadata": {},
   "outputs": [
    {
     "data": {
      "text/html": [
       "<div>\n",
       "<style scoped>\n",
       "    .dataframe tbody tr th:only-of-type {\n",
       "        vertical-align: middle;\n",
       "    }\n",
       "\n",
       "    .dataframe tbody tr th {\n",
       "        vertical-align: top;\n",
       "    }\n",
       "\n",
       "    .dataframe thead th {\n",
       "        text-align: right;\n",
       "    }\n",
       "</style>\n",
       "<table border=\"1\" class=\"dataframe\">\n",
       "  <thead>\n",
       "    <tr style=\"text-align: right;\">\n",
       "      <th></th>\n",
       "      <th>Unnamed: 0</th>\n",
       "      <th>id</th>\n",
       "      <th>mb_used</th>\n",
       "      <th>session_date</th>\n",
       "      <th>user_id</th>\n",
       "    </tr>\n",
       "  </thead>\n",
       "  <tbody>\n",
       "    <tr>\n",
       "      <td>11</td>\n",
       "      <td>11</td>\n",
       "      <td>1000_11</td>\n",
       "      <td>0.00</td>\n",
       "      <td>2018-08-28</td>\n",
       "      <td>1000</td>\n",
       "    </tr>\n",
       "    <tr>\n",
       "      <td>38</td>\n",
       "      <td>38</td>\n",
       "      <td>1000_38</td>\n",
       "      <td>0.00</td>\n",
       "      <td>2018-11-27</td>\n",
       "      <td>1000</td>\n",
       "    </tr>\n",
       "    <tr>\n",
       "      <td>46</td>\n",
       "      <td>46</td>\n",
       "      <td>1000_46</td>\n",
       "      <td>0.00</td>\n",
       "      <td>2018-06-30</td>\n",
       "      <td>1000</td>\n",
       "    </tr>\n",
       "    <tr>\n",
       "      <td>67</td>\n",
       "      <td>67</td>\n",
       "      <td>1000_67</td>\n",
       "      <td>0.00</td>\n",
       "      <td>2018-06-16</td>\n",
       "      <td>1000</td>\n",
       "    </tr>\n",
       "    <tr>\n",
       "      <td>72</td>\n",
       "      <td>72</td>\n",
       "      <td>1000_72</td>\n",
       "      <td>0.00</td>\n",
       "      <td>2018-06-15</td>\n",
       "      <td>1000</td>\n",
       "    </tr>\n",
       "    <tr>\n",
       "      <td>...</td>\n",
       "      <td>...</td>\n",
       "      <td>...</td>\n",
       "      <td>...</td>\n",
       "      <td>...</td>\n",
       "      <td>...</td>\n",
       "    </tr>\n",
       "    <tr>\n",
       "      <td>149380</td>\n",
       "      <td>149380</td>\n",
       "      <td>1499_141</td>\n",
       "      <td>0.00</td>\n",
       "      <td>2018-12-11</td>\n",
       "      <td>1499</td>\n",
       "    </tr>\n",
       "    <tr>\n",
       "      <td>149381</td>\n",
       "      <td>149381</td>\n",
       "      <td>1499_142</td>\n",
       "      <td>0.00</td>\n",
       "      <td>2018-11-01</td>\n",
       "      <td>1499</td>\n",
       "    </tr>\n",
       "    <tr>\n",
       "      <td>149383</td>\n",
       "      <td>149383</td>\n",
       "      <td>1499_144</td>\n",
       "      <td>0.00</td>\n",
       "      <td>2018-11-27</td>\n",
       "      <td>1499</td>\n",
       "    </tr>\n",
       "    <tr>\n",
       "      <td>149386</td>\n",
       "      <td>149386</td>\n",
       "      <td>1499_147</td>\n",
       "      <td>0.00</td>\n",
       "      <td>2018-10-21</td>\n",
       "      <td>1499</td>\n",
       "    </tr>\n",
       "    <tr>\n",
       "      <td>149393</td>\n",
       "      <td>149393</td>\n",
       "      <td>1499_154</td>\n",
       "      <td>0.00</td>\n",
       "      <td>2018-10-27</td>\n",
       "      <td>1499</td>\n",
       "    </tr>\n",
       "  </tbody>\n",
       "</table>\n",
       "<p>19598 rows × 5 columns</p>\n",
       "</div>"
      ],
      "text/plain": [
       "        Unnamed: 0        id  mb_used session_date  user_id\n",
       "11              11   1000_11     0.00   2018-08-28     1000\n",
       "38              38   1000_38     0.00   2018-11-27     1000\n",
       "46              46   1000_46     0.00   2018-06-30     1000\n",
       "67              67   1000_67     0.00   2018-06-16     1000\n",
       "72              72   1000_72     0.00   2018-06-15     1000\n",
       "...            ...       ...      ...          ...      ...\n",
       "149380      149380  1499_141     0.00   2018-12-11     1499\n",
       "149381      149381  1499_142     0.00   2018-11-01     1499\n",
       "149383      149383  1499_144     0.00   2018-11-27     1499\n",
       "149386      149386  1499_147     0.00   2018-10-21     1499\n",
       "149393      149393  1499_154     0.00   2018-10-27     1499\n",
       "\n",
       "[19598 rows x 5 columns]"
      ]
     },
     "execution_count": 55,
     "metadata": {},
     "output_type": "execute_result"
    }
   ],
   "source": [
    "#подсчет количества нулевых значений столбца mb_used\n",
    "mb_null = df_internet.query('mb_used == 0')\n",
    "mb_null"
   ]
  },
  {
   "cell_type": "markdown",
   "metadata": {},
   "source": [
    "В таблице содержится 19 598 нулевых интернет-сессий (13%).Учитывая то, что в таких сессиях трафик не расходовался, удалим их."
   ]
  },
  {
   "cell_type": "code",
   "execution_count": 56,
   "metadata": {},
   "outputs": [],
   "source": [
    "#удаление нулевых интернет-сессий\n",
    "df_internet = df_internet.drop(df_internet[df_internet.mb_used == 0].index)"
   ]
  },
  {
   "cell_type": "code",
   "execution_count": 57,
   "metadata": {},
   "outputs": [
    {
     "data": {
      "text/html": [
       "<div>\n",
       "<style scoped>\n",
       "    .dataframe tbody tr th:only-of-type {\n",
       "        vertical-align: middle;\n",
       "    }\n",
       "\n",
       "    .dataframe tbody tr th {\n",
       "        vertical-align: top;\n",
       "    }\n",
       "\n",
       "    .dataframe thead th {\n",
       "        text-align: right;\n",
       "    }\n",
       "</style>\n",
       "<table border=\"1\" class=\"dataframe\">\n",
       "  <thead>\n",
       "    <tr style=\"text-align: right;\">\n",
       "      <th></th>\n",
       "      <th>Unnamed: 0</th>\n",
       "      <th>id</th>\n",
       "      <th>mb_used</th>\n",
       "      <th>session_date</th>\n",
       "      <th>user_id</th>\n",
       "    </tr>\n",
       "  </thead>\n",
       "  <tbody>\n",
       "    <tr>\n",
       "      <td>11027</td>\n",
       "      <td>11027</td>\n",
       "      <td>1038_76</td>\n",
       "      <td>0.07</td>\n",
       "      <td>2018-12-30</td>\n",
       "      <td>1038</td>\n",
       "    </tr>\n",
       "    <tr>\n",
       "      <td>11399</td>\n",
       "      <td>11399</td>\n",
       "      <td>1040_22</td>\n",
       "      <td>0.07</td>\n",
       "      <td>2018-11-23</td>\n",
       "      <td>1040</td>\n",
       "    </tr>\n",
       "    <tr>\n",
       "      <td>12506</td>\n",
       "      <td>12506</td>\n",
       "      <td>1044_143</td>\n",
       "      <td>0.08</td>\n",
       "      <td>2018-11-18</td>\n",
       "      <td>1044</td>\n",
       "    </tr>\n",
       "    <tr>\n",
       "      <td>15944</td>\n",
       "      <td>15944</td>\n",
       "      <td>1055_402</td>\n",
       "      <td>0.03</td>\n",
       "      <td>2018-06-15</td>\n",
       "      <td>1055</td>\n",
       "    </tr>\n",
       "    <tr>\n",
       "      <td>19101</td>\n",
       "      <td>19101</td>\n",
       "      <td>1065_246</td>\n",
       "      <td>0.08</td>\n",
       "      <td>2018-03-17</td>\n",
       "      <td>1065</td>\n",
       "    </tr>\n",
       "    <tr>\n",
       "      <td>27569</td>\n",
       "      <td>27569</td>\n",
       "      <td>1096_77</td>\n",
       "      <td>0.09</td>\n",
       "      <td>2018-07-09</td>\n",
       "      <td>1096</td>\n",
       "    </tr>\n",
       "    <tr>\n",
       "      <td>85722</td>\n",
       "      <td>85722</td>\n",
       "      <td>1291_278</td>\n",
       "      <td>0.04</td>\n",
       "      <td>2018-08-10</td>\n",
       "      <td>1291</td>\n",
       "    </tr>\n",
       "    <tr>\n",
       "      <td>102165</td>\n",
       "      <td>102165</td>\n",
       "      <td>1341_280</td>\n",
       "      <td>0.09</td>\n",
       "      <td>2018-08-29</td>\n",
       "      <td>1341</td>\n",
       "    </tr>\n",
       "    <tr>\n",
       "      <td>108198</td>\n",
       "      <td>108198</td>\n",
       "      <td>1370_3</td>\n",
       "      <td>0.06</td>\n",
       "      <td>2018-07-18</td>\n",
       "      <td>1370</td>\n",
       "    </tr>\n",
       "    <tr>\n",
       "      <td>124847</td>\n",
       "      <td>124847</td>\n",
       "      <td>1421_32</td>\n",
       "      <td>0.08</td>\n",
       "      <td>2018-11-15</td>\n",
       "      <td>1421</td>\n",
       "    </tr>\n",
       "  </tbody>\n",
       "</table>\n",
       "</div>"
      ],
      "text/plain": [
       "        Unnamed: 0        id  mb_used session_date  user_id\n",
       "11027        11027   1038_76     0.07   2018-12-30     1038\n",
       "11399        11399   1040_22     0.07   2018-11-23     1040\n",
       "12506        12506  1044_143     0.08   2018-11-18     1044\n",
       "15944        15944  1055_402     0.03   2018-06-15     1055\n",
       "19101        19101  1065_246     0.08   2018-03-17     1065\n",
       "27569        27569   1096_77     0.09   2018-07-09     1096\n",
       "85722        85722  1291_278     0.04   2018-08-10     1291\n",
       "102165      102165  1341_280     0.09   2018-08-29     1341\n",
       "108198      108198    1370_3     0.06   2018-07-18     1370\n",
       "124847      124847   1421_32     0.08   2018-11-15     1421"
      ]
     },
     "execution_count": 57,
     "metadata": {},
     "output_type": "execute_result"
    }
   ],
   "source": [
    "#подсчет количества значений столбца mb_used менее 0.1\n",
    "df_internet.query('mb_used < 0.1')"
   ]
  },
  {
   "cell_type": "code",
   "execution_count": 58,
   "metadata": {},
   "outputs": [
    {
     "data": {
      "text/plain": [
       "count   129,798.00\n",
       "mean        426.09\n",
       "std         255.60\n",
       "min           0.03\n",
       "25%         227.46\n",
       "50%         400.54\n",
       "75%         592.95\n",
       "max       1,724.83\n",
       "Name: mb_used, dtype: float64"
      ]
     },
     "execution_count": 58,
     "metadata": {},
     "output_type": "execute_result"
    }
   ],
   "source": [
    "#получение общей информации столбца mb_used\n",
    "df_internet['mb_used'].describe()"
   ]
  },
  {
   "cell_type": "code",
   "execution_count": 59,
   "metadata": {},
   "outputs": [
    {
     "data": {
      "text/plain": [
       "(Timestamp('2018-01-01 00:00:00'), Timestamp('2018-12-31 00:00:00'))"
      ]
     },
     "execution_count": 59,
     "metadata": {},
     "output_type": "execute_result"
    }
   ],
   "source": [
    "#изменение типа данных, получение минимального и максимального значений\n",
    "df_internet['session_date'] = pd.to_datetime(df_internet['session_date'], format='%Y-%m-%d')\n",
    "df_internet['session_date'].min(), df_internet['session_date'].max()"
   ]
  },
  {
   "cell_type": "code",
   "execution_count": 60,
   "metadata": {},
   "outputs": [
    {
     "data": {
      "text/plain": [
       "1240    731\n",
       "1385    725\n",
       "1496    693\n",
       "1227    691\n",
       "1180    651\n",
       "       ... \n",
       "1062     29\n",
       "1467     26\n",
       "1343     26\n",
       "1192     21\n",
       "1399      8\n",
       "Name: user_id, Length: 497, dtype: int64"
      ]
     },
     "execution_count": 60,
     "metadata": {},
     "output_type": "execute_result"
    }
   ],
   "source": [
    "# получение значений столбца id\n",
    "df_internet['user_id'].value_counts()"
   ]
  },
  {
   "cell_type": "code",
   "execution_count": 61,
   "metadata": {},
   "outputs": [
    {
     "data": {
      "text/plain": [
       "0"
      ]
     },
     "execution_count": 61,
     "metadata": {},
     "output_type": "execute_result"
    }
   ],
   "source": [
    "#подсчет количества дубликатов\n",
    "\n",
    "df_internet.duplicated().sum()"
   ]
  },
  {
   "cell_type": "markdown",
   "metadata": {},
   "source": [
    "<a id='user_not_internet'></a>\n",
    "В таблице содержатся данные об интернет-сессиях пользователей в 2018 году. Объем израсходованного за сессию интернет-трафика лежит в диапазоне от 0.03 до 1,724.83 мегабайт, среднее значение - 426 мегабайта.  Нулевые интернет-сессий удалены. Из 500 пользователей пользовались интернетом 497. Определим какие пользователи не пользовались интернетом."
   ]
  },
  {
   "cell_type": "code",
   "execution_count": 62,
   "metadata": {},
   "outputs": [
    {
     "data": {
      "text/plain": [
       "[1128, 1273, 1371]"
      ]
     },
     "execution_count": 62,
     "metadata": {},
     "output_type": "execute_result"
    }
   ],
   "source": [
    "#выявление пользователей, отсутствующих в df_internet\n",
    "user_internet = set(df_internet['user_id'].tolist())\n",
    "user_not_internet = []\n",
    "for elem in user_all:\n",
    "    if elem not in user_internet:\n",
    "        user_not_internet.append(elem)\n",
    "user_not_internet"
   ]
  },
  {
   "cell_type": "markdown",
   "metadata": {},
   "source": [
    "Посчитаем объем израсходованного интернет-трафика по месяцам. Для этого добавим в таблицу столбец month_internet, содержащий месяц, в котором совершена интернет-сессия.\n",
    "\n",
    "Для веб-трафика отдельные сессии не считаются. Вместо этого общая сумма за месяц округляется в бо́льшую сторону. 1 гигабайт = 1024 мегабайта. В столбец sum_internet сохраним объем израсходованного интернет-трафика по месяцам после перевода и округления.\n",
    "\n",
    "Сохраним полученные данные в таблицу df_internet_agg. Добавим столбец user_month, содержащий id пользователя и месяц проведения интернет-сессии, он понадобится для дальнейшего объединения таблиц. <a id='2.4'></a>"
   ]
  },
  {
   "cell_type": "code",
   "execution_count": 63,
   "metadata": {},
   "outputs": [],
   "source": [
    "#добавление в таблицу столбца, содержащего месяц проведения интернет-сессии\n",
    "df_internet['month_internet'] = df_internet['session_date'].astype('datetime64[M]')"
   ]
  },
  {
   "cell_type": "code",
   "execution_count": 64,
   "metadata": {
    "scrolled": true
   },
   "outputs": [
    {
     "data": {
      "text/html": [
       "<div>\n",
       "<style scoped>\n",
       "    .dataframe tbody tr th:only-of-type {\n",
       "        vertical-align: middle;\n",
       "    }\n",
       "\n",
       "    .dataframe tbody tr th {\n",
       "        vertical-align: top;\n",
       "    }\n",
       "\n",
       "    .dataframe thead th {\n",
       "        text-align: right;\n",
       "    }\n",
       "</style>\n",
       "<table border=\"1\" class=\"dataframe\">\n",
       "  <thead>\n",
       "    <tr style=\"text-align: right;\">\n",
       "      <th></th>\n",
       "      <th>user_id</th>\n",
       "      <th>month_internet</th>\n",
       "      <th>sum_internet</th>\n",
       "      <th>user_month</th>\n",
       "    </tr>\n",
       "  </thead>\n",
       "  <tbody>\n",
       "    <tr>\n",
       "      <td>0</td>\n",
       "      <td>1000</td>\n",
       "      <td>2018-05-01</td>\n",
       "      <td>3</td>\n",
       "      <td>1000,2018-05-01</td>\n",
       "    </tr>\n",
       "    <tr>\n",
       "      <td>1</td>\n",
       "      <td>1000</td>\n",
       "      <td>2018-06-01</td>\n",
       "      <td>23</td>\n",
       "      <td>1000,2018-06-01</td>\n",
       "    </tr>\n",
       "    <tr>\n",
       "      <td>2</td>\n",
       "      <td>1000</td>\n",
       "      <td>2018-07-01</td>\n",
       "      <td>14</td>\n",
       "      <td>1000,2018-07-01</td>\n",
       "    </tr>\n",
       "    <tr>\n",
       "      <td>3</td>\n",
       "      <td>1000</td>\n",
       "      <td>2018-08-01</td>\n",
       "      <td>14</td>\n",
       "      <td>1000,2018-08-01</td>\n",
       "    </tr>\n",
       "    <tr>\n",
       "      <td>4</td>\n",
       "      <td>1000</td>\n",
       "      <td>2018-09-01</td>\n",
       "      <td>15</td>\n",
       "      <td>1000,2018-09-01</td>\n",
       "    </tr>\n",
       "  </tbody>\n",
       "</table>\n",
       "</div>"
      ],
      "text/plain": [
       "   user_id month_internet  sum_internet       user_month\n",
       "0     1000     2018-05-01             3  1000,2018-05-01\n",
       "1     1000     2018-06-01            23  1000,2018-06-01\n",
       "2     1000     2018-07-01            14  1000,2018-07-01\n",
       "3     1000     2018-08-01            14  1000,2018-08-01\n",
       "4     1000     2018-09-01            15  1000,2018-09-01"
      ]
     },
     "execution_count": 64,
     "metadata": {},
     "output_type": "execute_result"
    }
   ],
   "source": [
    "#подготовка сводной таблицы с расчетами\n",
    "df_internet_agg = df_internet.groupby(['user_id', 'month_internet']).agg(sum_internet=('mb_used','sum'))\n",
    "df_internet_agg['sum_internet'] = np.ceil(df_internet_agg['sum_internet']/1024).astype(int)\n",
    "df_internet_agg = df_internet_agg.reset_index()\n",
    "df_internet_agg = df_internet_agg.assign(user_month = df_internet_agg.user_id.astype(str) + ',' + df_internet_agg.month_internet.astype(str))\n",
    "df_internet_agg.head()"
   ]
  },
  {
   "cell_type": "code",
   "execution_count": 65,
   "metadata": {},
   "outputs": [
    {
     "data": {
      "text/plain": [
       "count   3,201.00\n",
       "mean       17.37\n",
       "std         7.33\n",
       "min         1.00\n",
       "25%        13.00\n",
       "50%        17.00\n",
       "75%        21.00\n",
       "max        49.00\n",
       "Name: sum_internet, dtype: float64"
      ]
     },
     "execution_count": 65,
     "metadata": {},
     "output_type": "execute_result"
    }
   ],
   "source": [
    "#получение общей информации столбца sum_internet\n",
    "df_internet_agg['sum_internet'].describe()"
   ]
  },
  {
   "cell_type": "markdown",
   "metadata": {},
   "source": [
    "### Подготовка сводной таблицы"
   ]
  },
  {
   "cell_type": "markdown",
   "metadata": {},
   "source": [
    "В подразделах работы 2.2, 2.3 и 2.4 составлены сводные таблицы:\n",
    "- [df_calls_agg](#2.2) (содержится количество сделанных звонков и израсходованных минут разговора по месяцам)\n",
    "- [df_messages_agg](#2.3) (содержится количество отправленных сообщений по месяцам)\n",
    "- [df_internet_agg](#2.4) (содержится объем израсходованного интернет-трафика по месяцам)\n",
    "\n",
    "Для дальнейшей работы объеденим полученные данные в одну таблицу df_total. Для объединения используем специально созданный для этого столбец user_month, содержащий id пользователя и порядковый номер месяца, в котором произошли звонок, отправка сообщения или интернет-сессия.\n",
    "\n"
   ]
  },
  {
   "cell_type": "code",
   "execution_count": 66,
   "metadata": {
    "scrolled": false
   },
   "outputs": [
    {
     "data": {
      "text/html": [
       "<div>\n",
       "<style scoped>\n",
       "    .dataframe tbody tr th:only-of-type {\n",
       "        vertical-align: middle;\n",
       "    }\n",
       "\n",
       "    .dataframe tbody tr th {\n",
       "        vertical-align: top;\n",
       "    }\n",
       "\n",
       "    .dataframe thead th {\n",
       "        text-align: right;\n",
       "    }\n",
       "</style>\n",
       "<table border=\"1\" class=\"dataframe\">\n",
       "  <thead>\n",
       "    <tr style=\"text-align: right;\">\n",
       "      <th></th>\n",
       "      <th>user_id_x</th>\n",
       "      <th>month_calls</th>\n",
       "      <th>count_calls</th>\n",
       "      <th>sum_duration_calls</th>\n",
       "      <th>user_month</th>\n",
       "      <th>user_id_y</th>\n",
       "      <th>month_messages</th>\n",
       "      <th>count_messages</th>\n",
       "      <th>user_id</th>\n",
       "      <th>month_internet</th>\n",
       "      <th>sum_internet</th>\n",
       "    </tr>\n",
       "  </thead>\n",
       "  <tbody>\n",
       "    <tr>\n",
       "      <td>3209</td>\n",
       "      <td>nan</td>\n",
       "      <td>NaT</td>\n",
       "      <td>nan</td>\n",
       "      <td>nan</td>\n",
       "      <td>1489,2018-09-01</td>\n",
       "      <td>1,489.00</td>\n",
       "      <td>2018-09-01</td>\n",
       "      <td>32.00</td>\n",
       "      <td>1,489.00</td>\n",
       "      <td>2018-09-01</td>\n",
       "      <td>17.00</td>\n",
       "    </tr>\n",
       "    <tr>\n",
       "      <td>3210</td>\n",
       "      <td>nan</td>\n",
       "      <td>NaT</td>\n",
       "      <td>nan</td>\n",
       "      <td>nan</td>\n",
       "      <td>1489,2018-10-01</td>\n",
       "      <td>1,489.00</td>\n",
       "      <td>2018-10-01</td>\n",
       "      <td>21.00</td>\n",
       "      <td>1,489.00</td>\n",
       "      <td>2018-10-01</td>\n",
       "      <td>20.00</td>\n",
       "    </tr>\n",
       "    <tr>\n",
       "      <td>3211</td>\n",
       "      <td>nan</td>\n",
       "      <td>NaT</td>\n",
       "      <td>nan</td>\n",
       "      <td>nan</td>\n",
       "      <td>1489,2018-11-01</td>\n",
       "      <td>1,489.00</td>\n",
       "      <td>2018-11-01</td>\n",
       "      <td>20.00</td>\n",
       "      <td>1,489.00</td>\n",
       "      <td>2018-11-01</td>\n",
       "      <td>18.00</td>\n",
       "    </tr>\n",
       "    <tr>\n",
       "      <td>3212</td>\n",
       "      <td>nan</td>\n",
       "      <td>NaT</td>\n",
       "      <td>nan</td>\n",
       "      <td>nan</td>\n",
       "      <td>1489,2018-12-01</td>\n",
       "      <td>1,489.00</td>\n",
       "      <td>2018-12-01</td>\n",
       "      <td>35.00</td>\n",
       "      <td>1,489.00</td>\n",
       "      <td>2018-12-01</td>\n",
       "      <td>17.00</td>\n",
       "    </tr>\n",
       "    <tr>\n",
       "      <td>3213</td>\n",
       "      <td>nan</td>\n",
       "      <td>NaT</td>\n",
       "      <td>nan</td>\n",
       "      <td>nan</td>\n",
       "      <td>1476,2018-04-01</td>\n",
       "      <td>nan</td>\n",
       "      <td>NaT</td>\n",
       "      <td>nan</td>\n",
       "      <td>1,476.00</td>\n",
       "      <td>2018-04-01</td>\n",
       "      <td>1.00</td>\n",
       "    </tr>\n",
       "  </tbody>\n",
       "</table>\n",
       "</div>"
      ],
      "text/plain": [
       "      user_id_x month_calls  count_calls  sum_duration_calls       user_month  \\\n",
       "3209        nan         NaT          nan                 nan  1489,2018-09-01   \n",
       "3210        nan         NaT          nan                 nan  1489,2018-10-01   \n",
       "3211        nan         NaT          nan                 nan  1489,2018-11-01   \n",
       "3212        nan         NaT          nan                 nan  1489,2018-12-01   \n",
       "3213        nan         NaT          nan                 nan  1476,2018-04-01   \n",
       "\n",
       "      user_id_y month_messages  count_messages  user_id month_internet  \\\n",
       "3209   1,489.00     2018-09-01           32.00 1,489.00     2018-09-01   \n",
       "3210   1,489.00     2018-10-01           21.00 1,489.00     2018-10-01   \n",
       "3211   1,489.00     2018-11-01           20.00 1,489.00     2018-11-01   \n",
       "3212   1,489.00     2018-12-01           35.00 1,489.00     2018-12-01   \n",
       "3213        nan            NaT             nan 1,476.00     2018-04-01   \n",
       "\n",
       "      sum_internet  \n",
       "3209         17.00  \n",
       "3210         20.00  \n",
       "3211         18.00  \n",
       "3212         17.00  \n",
       "3213          1.00  "
      ]
     },
     "execution_count": 66,
     "metadata": {},
     "output_type": "execute_result"
    }
   ],
   "source": [
    "# объединение таблиц с результатами расчетов\n",
    "df_total = df_calls_agg.merge(df_messages_agg, on='user_month', how='outer')\n",
    "df_total = df_total.merge(df_internet_agg, on='user_month', how='outer')\n",
    "df_total.tail()"
   ]
  },
  {
   "cell_type": "markdown",
   "metadata": {},
   "source": [
    "В результате объединения трех таблиц образовалось 3 варианта столбцов user_id (user_id, user_id_x и user_id_y) и month (month_calls, month_messages и month_internet) разной степени наполненности. Глобальными будем считать столбцы user_id и month. Заполним в глобальных столбцах пропуски данными из других соответствующих локальных столбцов. Изменим тип данных в указанных столбцах на целочисленый. Порядковый номер месяца в столбце month заменим на его название."
   ]
  },
  {
   "cell_type": "code",
   "execution_count": 67,
   "metadata": {},
   "outputs": [],
   "source": [
    "#заполнение пропусков в столбце user_id\n",
    "df_total['user_id'] = df_total['user_id'].fillna(df_total['user_id_x'])\n",
    "df_total['user_id'] = df_total['user_id'].fillna(df_total['user_id_y'])\n",
    "df_total['user_id'] = df_total['user_id'].astype('int')"
   ]
  },
  {
   "cell_type": "code",
   "execution_count": 68,
   "metadata": {},
   "outputs": [],
   "source": [
    "#заполнение пропусков в столбце month\n",
    "df_total['month'] = df_total['month_calls']\n",
    "df_total['month'] = df_total['month'].fillna(df_total['month_messages'])\n",
    "df_total['month'] = df_total['month'].fillna(df_total['month_internet'])"
   ]
  },
  {
   "cell_type": "code",
   "execution_count": 69,
   "metadata": {},
   "outputs": [
    {
     "data": {
      "text/plain": [
       "(0, 0)"
      ]
     },
     "execution_count": 69,
     "metadata": {},
     "output_type": "execute_result"
    }
   ],
   "source": [
    "#подсчет количества пропущенных значений в столбцах user_id и month\n",
    "df_total['month'].isna().sum(), df_total['user_id'].isna().sum()"
   ]
  },
  {
   "cell_type": "markdown",
   "metadata": {},
   "source": [
    "Для удобства работы соберем из df_total новую таблицу df, состоящую из следующих столбцов:\n",
    "- user_id (уникальный идентификатор пользователя),\n",
    "- month (месяц пользования тарифом),\n",
    "- count_calls (количество сделанных звонков по месяцам),\n",
    "- sum_duration_calls (количество израсходованных минут разговора по месяцам),\n",
    "- count_messages (количество отправленных сообщений по месяцам),\n",
    "- sum_internet (объем израсходованного интернет-трафика по месяцам)\n",
    "\n",
    "Пропущенные значения в столбцах count_calls, sum_duration_calls, count_messages и sum_internet уместно заменить 0."
   ]
  },
  {
   "cell_type": "code",
   "execution_count": 70,
   "metadata": {},
   "outputs": [
    {
     "data": {
      "text/html": [
       "<div>\n",
       "<style scoped>\n",
       "    .dataframe tbody tr th:only-of-type {\n",
       "        vertical-align: middle;\n",
       "    }\n",
       "\n",
       "    .dataframe tbody tr th {\n",
       "        vertical-align: top;\n",
       "    }\n",
       "\n",
       "    .dataframe thead th {\n",
       "        text-align: right;\n",
       "    }\n",
       "</style>\n",
       "<table border=\"1\" class=\"dataframe\">\n",
       "  <thead>\n",
       "    <tr style=\"text-align: right;\">\n",
       "      <th></th>\n",
       "      <th>user_id</th>\n",
       "      <th>month</th>\n",
       "      <th>count_calls</th>\n",
       "      <th>sum_duration_calls</th>\n",
       "      <th>count_messages</th>\n",
       "      <th>sum_internet</th>\n",
       "    </tr>\n",
       "  </thead>\n",
       "  <tbody>\n",
       "    <tr>\n",
       "      <td>0</td>\n",
       "      <td>1000</td>\n",
       "      <td>2018-05-01</td>\n",
       "      <td>22.00</td>\n",
       "      <td>159.00</td>\n",
       "      <td>22.00</td>\n",
       "      <td>3.00</td>\n",
       "    </tr>\n",
       "    <tr>\n",
       "      <td>1</td>\n",
       "      <td>1000</td>\n",
       "      <td>2018-06-01</td>\n",
       "      <td>43.00</td>\n",
       "      <td>172.00</td>\n",
       "      <td>60.00</td>\n",
       "      <td>23.00</td>\n",
       "    </tr>\n",
       "    <tr>\n",
       "      <td>2</td>\n",
       "      <td>1000</td>\n",
       "      <td>2018-07-01</td>\n",
       "      <td>47.00</td>\n",
       "      <td>340.00</td>\n",
       "      <td>75.00</td>\n",
       "      <td>14.00</td>\n",
       "    </tr>\n",
       "    <tr>\n",
       "      <td>3</td>\n",
       "      <td>1000</td>\n",
       "      <td>2018-08-01</td>\n",
       "      <td>52.00</td>\n",
       "      <td>408.00</td>\n",
       "      <td>81.00</td>\n",
       "      <td>14.00</td>\n",
       "    </tr>\n",
       "    <tr>\n",
       "      <td>4</td>\n",
       "      <td>1000</td>\n",
       "      <td>2018-09-01</td>\n",
       "      <td>58.00</td>\n",
       "      <td>466.00</td>\n",
       "      <td>57.00</td>\n",
       "      <td>15.00</td>\n",
       "    </tr>\n",
       "    <tr>\n",
       "      <td>...</td>\n",
       "      <td>...</td>\n",
       "      <td>...</td>\n",
       "      <td>...</td>\n",
       "      <td>...</td>\n",
       "      <td>...</td>\n",
       "      <td>...</td>\n",
       "    </tr>\n",
       "    <tr>\n",
       "      <td>3169</td>\n",
       "      <td>1498</td>\n",
       "      <td>2018-10-01</td>\n",
       "      <td>41.00</td>\n",
       "      <td>247.00</td>\n",
       "      <td>42.00</td>\n",
       "      <td>21.00</td>\n",
       "    </tr>\n",
       "    <tr>\n",
       "      <td>3173</td>\n",
       "      <td>1499</td>\n",
       "      <td>2018-12-01</td>\n",
       "      <td>69.00</td>\n",
       "      <td>492.00</td>\n",
       "      <td>66.00</td>\n",
       "      <td>13.00</td>\n",
       "    </tr>\n",
       "    <tr>\n",
       "      <td>3170</td>\n",
       "      <td>1499</td>\n",
       "      <td>2018-09-01</td>\n",
       "      <td>9.00</td>\n",
       "      <td>70.00</td>\n",
       "      <td>11.00</td>\n",
       "      <td>2.00</td>\n",
       "    </tr>\n",
       "    <tr>\n",
       "      <td>3171</td>\n",
       "      <td>1499</td>\n",
       "      <td>2018-10-01</td>\n",
       "      <td>68.00</td>\n",
       "      <td>449.00</td>\n",
       "      <td>48.00</td>\n",
       "      <td>18.00</td>\n",
       "    </tr>\n",
       "    <tr>\n",
       "      <td>3172</td>\n",
       "      <td>1499</td>\n",
       "      <td>2018-11-01</td>\n",
       "      <td>74.00</td>\n",
       "      <td>612.00</td>\n",
       "      <td>59.00</td>\n",
       "      <td>18.00</td>\n",
       "    </tr>\n",
       "  </tbody>\n",
       "</table>\n",
       "<p>3214 rows × 6 columns</p>\n",
       "</div>"
      ],
      "text/plain": [
       "      user_id      month  count_calls  sum_duration_calls  count_messages  \\\n",
       "0        1000 2018-05-01        22.00              159.00           22.00   \n",
       "1        1000 2018-06-01        43.00              172.00           60.00   \n",
       "2        1000 2018-07-01        47.00              340.00           75.00   \n",
       "3        1000 2018-08-01        52.00              408.00           81.00   \n",
       "4        1000 2018-09-01        58.00              466.00           57.00   \n",
       "...       ...        ...          ...                 ...             ...   \n",
       "3169     1498 2018-10-01        41.00              247.00           42.00   \n",
       "3173     1499 2018-12-01        69.00              492.00           66.00   \n",
       "3170     1499 2018-09-01         9.00               70.00           11.00   \n",
       "3171     1499 2018-10-01        68.00              449.00           48.00   \n",
       "3172     1499 2018-11-01        74.00              612.00           59.00   \n",
       "\n",
       "      sum_internet  \n",
       "0             3.00  \n",
       "1            23.00  \n",
       "2            14.00  \n",
       "3            14.00  \n",
       "4            15.00  \n",
       "...            ...  \n",
       "3169         21.00  \n",
       "3173         13.00  \n",
       "3170          2.00  \n",
       "3171         18.00  \n",
       "3172         18.00  \n",
       "\n",
       "[3214 rows x 6 columns]"
      ]
     },
     "execution_count": 70,
     "metadata": {},
     "output_type": "execute_result"
    }
   ],
   "source": [
    "#подготовка таблицы df\n",
    "df = df_total[['user_id', 'month', 'count_calls', 'sum_duration_calls', 'count_messages', 'sum_internet']]\n",
    "df.sort_values(by=['user_id'])"
   ]
  },
  {
   "cell_type": "code",
   "execution_count": 71,
   "metadata": {},
   "outputs": [],
   "source": [
    "#заполнение пропусков 0\n",
    "df = df.fillna(0)"
   ]
  },
  {
   "cell_type": "markdown",
   "metadata": {},
   "source": [
    "Напоследок добавим в таблицу данные пользователей, для этого объеденим таблицы df и df_users."
   ]
  },
  {
   "cell_type": "code",
   "execution_count": 72,
   "metadata": {
    "scrolled": false
   },
   "outputs": [
    {
     "name": "stdout",
     "output_type": "stream",
     "text": [
      "<class 'pandas.core.frame.DataFrame'>\n",
      "Int64Index: 3216 entries, 0 to 3215\n",
      "Data columns (total 16 columns):\n",
      "user_id               3216 non-null int64\n",
      "month                 3214 non-null datetime64[ns]\n",
      "count_calls           3214 non-null float64\n",
      "sum_duration_calls    3214 non-null float64\n",
      "count_messages        3214 non-null float64\n",
      "sum_internet          3214 non-null float64\n",
      "age                   3216 non-null int64\n",
      "churn_date            189 non-null datetime64[ns]\n",
      "city                  3216 non-null object\n",
      "first_name            3216 non-null object\n",
      "last_name             3216 non-null object\n",
      "reg_date              3216 non-null datetime64[ns]\n",
      "tariff                3216 non-null object\n",
      "reg_date_month        3216 non-null int64\n",
      "churn_date_month      3216 non-null int64\n",
      "use_date              3216 non-null int64\n",
      "dtypes: datetime64[ns](3), float64(4), int64(5), object(4)\n",
      "memory usage: 427.1+ KB\n"
     ]
    }
   ],
   "source": [
    "#объединение таблиц\n",
    "df = df.merge(df_users, on='user_id', how='outer')\n",
    "df.info()"
   ]
  },
  {
   "cell_type": "markdown",
   "metadata": {},
   "source": [
    "Ранее выявлены пользователи, которые не совершали звонков ([user_not_call](#user_not_call), 8 человек), не отправляли сообщений ([user_not_messages](#user_not_messages), 74 человека), не пользовались интернетом ([user_not_internet](#user_not_internet), 3 человека). Двое клиентов (1128 и 1371) не пользовались ни тем, ни другим, ни третим. Посмотрим информацию по ним в таблице df_users."
   ]
  },
  {
   "cell_type": "code",
   "execution_count": 73,
   "metadata": {
    "scrolled": true
   },
   "outputs": [
    {
     "data": {
      "text/html": [
       "<div>\n",
       "<style scoped>\n",
       "    .dataframe tbody tr th:only-of-type {\n",
       "        vertical-align: middle;\n",
       "    }\n",
       "\n",
       "    .dataframe tbody tr th {\n",
       "        vertical-align: top;\n",
       "    }\n",
       "\n",
       "    .dataframe thead th {\n",
       "        text-align: right;\n",
       "    }\n",
       "</style>\n",
       "<table border=\"1\" class=\"dataframe\">\n",
       "  <thead>\n",
       "    <tr style=\"text-align: right;\">\n",
       "      <th></th>\n",
       "      <th>user_id</th>\n",
       "      <th>age</th>\n",
       "      <th>churn_date</th>\n",
       "      <th>city</th>\n",
       "      <th>first_name</th>\n",
       "      <th>last_name</th>\n",
       "      <th>reg_date</th>\n",
       "      <th>tariff</th>\n",
       "      <th>reg_date_month</th>\n",
       "      <th>churn_date_month</th>\n",
       "      <th>use_date</th>\n",
       "    </tr>\n",
       "  </thead>\n",
       "  <tbody>\n",
       "    <tr>\n",
       "      <td>128</td>\n",
       "      <td>1128</td>\n",
       "      <td>51</td>\n",
       "      <td>2018-12-23</td>\n",
       "      <td>Волжский</td>\n",
       "      <td>Ксения</td>\n",
       "      <td>Агаева</td>\n",
       "      <td>2018-12-15</td>\n",
       "      <td>ultra</td>\n",
       "      <td>12</td>\n",
       "      <td>12</td>\n",
       "      <td>1</td>\n",
       "    </tr>\n",
       "    <tr>\n",
       "      <td>371</td>\n",
       "      <td>1371</td>\n",
       "      <td>50</td>\n",
       "      <td>2018-12-30</td>\n",
       "      <td>Омск</td>\n",
       "      <td>Ириней</td>\n",
       "      <td>Трофимов</td>\n",
       "      <td>2018-12-25</td>\n",
       "      <td>smart</td>\n",
       "      <td>12</td>\n",
       "      <td>12</td>\n",
       "      <td>1</td>\n",
       "    </tr>\n",
       "  </tbody>\n",
       "</table>\n",
       "</div>"
      ],
      "text/plain": [
       "     user_id  age churn_date      city first_name last_name   reg_date tariff  \\\n",
       "128     1128   51 2018-12-23  Волжский     Ксения    Агаева 2018-12-15  ultra   \n",
       "371     1371   50 2018-12-30      Омск     Ириней  Трофимов 2018-12-25  smart   \n",
       "\n",
       "     reg_date_month  churn_date_month  use_date  \n",
       "128              12                12         1  \n",
       "371              12                12         1  "
      ]
     },
     "execution_count": 73,
     "metadata": {},
     "output_type": "execute_result"
    }
   ],
   "source": [
    "#супер пассивные клиенты «Мегалайна»\n",
    "df_users.query('user_id == 1128 or user_id == 1371')"
   ]
  },
  {
   "cell_type": "markdown",
   "metadata": {},
   "source": [
    "Клиенты 1128 и 1371 были подключены и перестали пользоваться своими тарифами в декабре 2018 года. Они не совершали звонков, не отправляли сообщений и не пользовались интернетом, но,вероятнее всего, абонентскую плату внесли. В столбце month за счет них появились два пропущенных значения. Для них в столбце month заменим пропуски на 12, те декабрь, месяц когда они были подключены и отключены от тарифов. В столбцах count_calls, sum_duration_calls, count_messages и sum_internet пропуски заменим на 0."
   ]
  },
  {
   "cell_type": "code",
   "execution_count": 74,
   "metadata": {},
   "outputs": [
    {
     "name": "stdout",
     "output_type": "stream",
     "text": [
      "<class 'pandas.core.frame.DataFrame'>\n",
      "Int64Index: 3216 entries, 0 to 3215\n",
      "Data columns (total 16 columns):\n",
      "user_id               3216 non-null int64\n",
      "month                 3216 non-null object\n",
      "count_calls           3216 non-null float64\n",
      "sum_duration_calls    3216 non-null float64\n",
      "count_messages        3216 non-null float64\n",
      "sum_internet          3216 non-null float64\n",
      "age                   3216 non-null int64\n",
      "churn_date            189 non-null datetime64[ns]\n",
      "city                  3216 non-null object\n",
      "first_name            3216 non-null object\n",
      "last_name             3216 non-null object\n",
      "reg_date              3216 non-null datetime64[ns]\n",
      "tariff                3216 non-null object\n",
      "reg_date_month        3216 non-null int64\n",
      "churn_date_month      3216 non-null int64\n",
      "use_date              3216 non-null int64\n",
      "dtypes: datetime64[ns](2), float64(4), int64(5), object(5)\n",
      "memory usage: 427.1+ KB\n"
     ]
    }
   ],
   "source": [
    "df['month'] = df['month'].fillna(12)\n",
    "df[['count_calls', 'sum_duration_calls', 'count_messages', 'sum_internet']] = df[['count_calls', 'sum_duration_calls', 'count_messages', 'sum_internet']].fillna(0)\n",
    "df.info()"
   ]
  },
  {
   "cell_type": "markdown",
   "metadata": {},
   "source": [
    "### Расчет помесячной выручки для каждого пользователя"
   ]
  },
  {
   "cell_type": "markdown",
   "metadata": {},
   "source": [
    "Расчитаем помесячную выручку с каждого пользователя. Для этого вычтем бесплатный лимит из суммарного количества звонков, сообщений и интернет-трафика. Затем остаток умножим на значение из тарифного плана и прибавим абонентскую плату, соответствующую тарифному плану. Результат расчетов внесем в таблицу df в столбец pay_total."
   ]
  },
  {
   "cell_type": "markdown",
   "metadata": {},
   "source": [
    "**Тариф «Смарт»**\n",
    "- Ежемесячная плата: 550 рублей\n",
    "- Включено 500 минут разговора, 50 сообщений и 15 Гб интернет-трафика\n",
    "- Стоимость услуг сверх тарифного пакета: \n",
    "   1. минута разговора: 3 рубля; \n",
    "   2. сообщение: 3 рубля; \n",
    "   3. 1 Гб интернет-трафика: 200 рублей.\n",
    "\n",
    "\n",
    "**Тариф «Ультра»**\n",
    "- Ежемесячная плата: 1950 рублей\n",
    "- Включено 3000 минут разговора, 1000 сообщений и 30 Гб интернет-трафика\n",
    "- Стоимость услуг сверх тарифного пакета: \n",
    "   1. минута разговора: 1 рубль; \n",
    "   2. сообщение: 1 рубль; \n",
    "   3. 1 Гб интернет-трафика: 150 рублей."
   ]
  },
  {
   "cell_type": "code",
   "execution_count": 75,
   "metadata": {},
   "outputs": [
    {
     "data": {
      "text/html": [
       "<div>\n",
       "<style scoped>\n",
       "    .dataframe tbody tr th:only-of-type {\n",
       "        vertical-align: middle;\n",
       "    }\n",
       "\n",
       "    .dataframe tbody tr th {\n",
       "        vertical-align: top;\n",
       "    }\n",
       "\n",
       "    .dataframe thead th {\n",
       "        text-align: right;\n",
       "    }\n",
       "</style>\n",
       "<table border=\"1\" class=\"dataframe\">\n",
       "  <thead>\n",
       "    <tr style=\"text-align: right;\">\n",
       "      <th></th>\n",
       "      <th>messages_included</th>\n",
       "      <th>mb_per_month_included</th>\n",
       "      <th>minutes_included</th>\n",
       "      <th>rub_monthly_fee</th>\n",
       "      <th>rub_per_gb</th>\n",
       "      <th>rub_per_message</th>\n",
       "      <th>rub_per_minute</th>\n",
       "      <th>tariff_name</th>\n",
       "    </tr>\n",
       "  </thead>\n",
       "  <tbody>\n",
       "    <tr>\n",
       "      <td>0</td>\n",
       "      <td>50</td>\n",
       "      <td>15360</td>\n",
       "      <td>500</td>\n",
       "      <td>550</td>\n",
       "      <td>200</td>\n",
       "      <td>3</td>\n",
       "      <td>3</td>\n",
       "      <td>smart</td>\n",
       "    </tr>\n",
       "    <tr>\n",
       "      <td>1</td>\n",
       "      <td>1000</td>\n",
       "      <td>30720</td>\n",
       "      <td>3000</td>\n",
       "      <td>1950</td>\n",
       "      <td>150</td>\n",
       "      <td>1</td>\n",
       "      <td>1</td>\n",
       "      <td>ultra</td>\n",
       "    </tr>\n",
       "  </tbody>\n",
       "</table>\n",
       "</div>"
      ],
      "text/plain": [
       "   messages_included  mb_per_month_included  minutes_included  \\\n",
       "0                 50                  15360               500   \n",
       "1               1000                  30720              3000   \n",
       "\n",
       "   rub_monthly_fee  rub_per_gb  rub_per_message  rub_per_minute tariff_name  \n",
       "0              550         200                3               3       smart  \n",
       "1             1950         150                1               1       ultra  "
      ]
     },
     "execution_count": 75,
     "metadata": {},
     "output_type": "execute_result"
    }
   ],
   "source": [
    "# вызов таблицы df_tariffs\n",
    "df_tariffs"
   ]
  },
  {
   "cell_type": "code",
   "execution_count": 76,
   "metadata": {},
   "outputs": [],
   "source": [
    "#сохранение условий тарифов в переменных\n",
    "messages_included_smart = df_tariffs.loc[0, 'messages_included']\n",
    "mb_per_month_included_smart = (df_tariffs.loc[0, 'mb_per_month_included']) /1024\n",
    "minutes_included_smart = df_tariffs.loc[0, 'minutes_included']\n",
    "rub_monthly_fee_smart = df_tariffs.loc[0, 'rub_monthly_fee']\n",
    "rub_per_gb_smart = df_tariffs.loc[0, 'rub_per_gb']\n",
    "rub_per_message_smart = df_tariffs.loc[0, 'rub_per_message']\n",
    "rub_per_minute_smart = df_tariffs.loc[0, 'rub_per_minute']\n",
    "\n",
    "messages_included_ultra = df_tariffs.loc[1, 'messages_included']\n",
    "mb_per_month_included_ultra = (df_tariffs.loc[1, 'mb_per_month_included']) /1024\n",
    "minutes_included_ultra = df_tariffs.loc[1, 'minutes_included']\n",
    "rub_monthly_fee_ultra = df_tariffs.loc[1, 'rub_monthly_fee']\n",
    "rub_per_gb_ultra = df_tariffs.loc[1, 'rub_per_gb']\n",
    "rub_per_message_ultra = df_tariffs.loc[1, 'rub_per_message']\n",
    "rub_per_minute_ultra = df_tariffs.loc[1, 'rub_per_minute']"
   ]
  },
  {
   "cell_type": "code",
   "execution_count": 77,
   "metadata": {},
   "outputs": [],
   "source": [
    "#добавление в таблицу столбца pay_total, содержащего помесячную выручку с каждого пользователя\n",
    "def pay_total(row):\n",
    "    sum_duration_calls = row['sum_duration_calls']\n",
    "    count_messages = row['count_messages']\n",
    "    sum_internet = row['sum_internet']\n",
    "    tariff = row['tariff']\n",
    "    if tariff == 'ultra':\n",
    "        per_message = (count_messages - messages_included_ultra) * rub_per_message_ultra\n",
    "        messages_pay = per_message if count_messages > messages_included_ultra else 0\n",
    "        per_minute = (sum_duration_calls - minutes_included_ultra) * rub_per_minute_ultra\n",
    "        minute_pay = per_minute if sum_duration_calls > minutes_included_ultra else 0\n",
    "        per_gb = (sum_internet - mb_per_month_included_ultra) * rub_per_gb_ultra\n",
    "        gb_pay = per_gb if sum_internet > mb_per_month_included_ultra else 0\n",
    "        pay_total = rub_monthly_fee_ultra + messages_pay + minute_pay + gb_pay\n",
    "        return pay_total\n",
    "    if tariff == 'smart':\n",
    "        per_message = (count_messages - messages_included_smart) * rub_per_message_smart\n",
    "        messages_pay = per_message if count_messages > messages_included_smart else 0\n",
    "        per_minute = (sum_duration_calls - minutes_included_smart) * rub_per_minute_smart\n",
    "        minute_pay = per_minute if sum_duration_calls > minutes_included_smart else 0\n",
    "        per_gb = (sum_internet - mb_per_month_included_smart) * rub_per_gb_smart\n",
    "        gb_pay = per_gb if sum_internet > mb_per_month_included_smart else 0\n",
    "        pay_total = rub_monthly_fee_smart + messages_pay + minute_pay + gb_pay\n",
    "        return pay_total\n",
    "   \n",
    "df['pay_total'] = df.apply(pay_total, axis=1)"
   ]
  },
  {
   "cell_type": "code",
   "execution_count": 78,
   "metadata": {
    "scrolled": false
   },
   "outputs": [
    {
     "data": {
      "text/html": [
       "<div>\n",
       "<style scoped>\n",
       "    .dataframe tbody tr th:only-of-type {\n",
       "        vertical-align: middle;\n",
       "    }\n",
       "\n",
       "    .dataframe tbody tr th {\n",
       "        vertical-align: top;\n",
       "    }\n",
       "\n",
       "    .dataframe thead th {\n",
       "        text-align: right;\n",
       "    }\n",
       "</style>\n",
       "<table border=\"1\" class=\"dataframe\">\n",
       "  <thead>\n",
       "    <tr style=\"text-align: right;\">\n",
       "      <th></th>\n",
       "      <th>user_id</th>\n",
       "      <th>month</th>\n",
       "      <th>count_calls</th>\n",
       "      <th>sum_duration_calls</th>\n",
       "      <th>count_messages</th>\n",
       "      <th>sum_internet</th>\n",
       "      <th>age</th>\n",
       "      <th>churn_date</th>\n",
       "      <th>city</th>\n",
       "      <th>first_name</th>\n",
       "      <th>last_name</th>\n",
       "      <th>reg_date</th>\n",
       "      <th>tariff</th>\n",
       "      <th>reg_date_month</th>\n",
       "      <th>churn_date_month</th>\n",
       "      <th>use_date</th>\n",
       "      <th>pay_total</th>\n",
       "    </tr>\n",
       "  </thead>\n",
       "  <tbody>\n",
       "    <tr>\n",
       "      <td>3168</td>\n",
       "      <td>1498</td>\n",
       "      <td>2018-07-01 00:00:00</td>\n",
       "      <td>23.00</td>\n",
       "      <td>175.00</td>\n",
       "      <td>20.00</td>\n",
       "      <td>8.00</td>\n",
       "      <td>68</td>\n",
       "      <td>2018-10-25</td>\n",
       "      <td>Владикавказ</td>\n",
       "      <td>Всеволод</td>\n",
       "      <td>Акимчин</td>\n",
       "      <td>2018-07-19</td>\n",
       "      <td>smart</td>\n",
       "      <td>7</td>\n",
       "      <td>10</td>\n",
       "      <td>4</td>\n",
       "      <td>550.00</td>\n",
       "    </tr>\n",
       "    <tr>\n",
       "      <td>3175</td>\n",
       "      <td>1499</td>\n",
       "      <td>2018-12-01 00:00:00</td>\n",
       "      <td>69.00</td>\n",
       "      <td>492.00</td>\n",
       "      <td>66.00</td>\n",
       "      <td>13.00</td>\n",
       "      <td>35</td>\n",
       "      <td>NaT</td>\n",
       "      <td>Пермь</td>\n",
       "      <td>Гектор</td>\n",
       "      <td>Корнилов</td>\n",
       "      <td>2018-09-27</td>\n",
       "      <td>smart</td>\n",
       "      <td>9</td>\n",
       "      <td>12</td>\n",
       "      <td>4</td>\n",
       "      <td>598.00</td>\n",
       "    </tr>\n",
       "    <tr>\n",
       "      <td>3172</td>\n",
       "      <td>1499</td>\n",
       "      <td>2018-09-01 00:00:00</td>\n",
       "      <td>9.00</td>\n",
       "      <td>70.00</td>\n",
       "      <td>11.00</td>\n",
       "      <td>2.00</td>\n",
       "      <td>35</td>\n",
       "      <td>NaT</td>\n",
       "      <td>Пермь</td>\n",
       "      <td>Гектор</td>\n",
       "      <td>Корнилов</td>\n",
       "      <td>2018-09-27</td>\n",
       "      <td>smart</td>\n",
       "      <td>9</td>\n",
       "      <td>12</td>\n",
       "      <td>4</td>\n",
       "      <td>550.00</td>\n",
       "    </tr>\n",
       "    <tr>\n",
       "      <td>3174</td>\n",
       "      <td>1499</td>\n",
       "      <td>2018-11-01 00:00:00</td>\n",
       "      <td>74.00</td>\n",
       "      <td>612.00</td>\n",
       "      <td>59.00</td>\n",
       "      <td>18.00</td>\n",
       "      <td>35</td>\n",
       "      <td>NaT</td>\n",
       "      <td>Пермь</td>\n",
       "      <td>Гектор</td>\n",
       "      <td>Корнилов</td>\n",
       "      <td>2018-09-27</td>\n",
       "      <td>smart</td>\n",
       "      <td>9</td>\n",
       "      <td>12</td>\n",
       "      <td>4</td>\n",
       "      <td>1,513.00</td>\n",
       "    </tr>\n",
       "    <tr>\n",
       "      <td>3173</td>\n",
       "      <td>1499</td>\n",
       "      <td>2018-10-01 00:00:00</td>\n",
       "      <td>68.00</td>\n",
       "      <td>449.00</td>\n",
       "      <td>48.00</td>\n",
       "      <td>18.00</td>\n",
       "      <td>35</td>\n",
       "      <td>NaT</td>\n",
       "      <td>Пермь</td>\n",
       "      <td>Гектор</td>\n",
       "      <td>Корнилов</td>\n",
       "      <td>2018-09-27</td>\n",
       "      <td>smart</td>\n",
       "      <td>9</td>\n",
       "      <td>12</td>\n",
       "      <td>4</td>\n",
       "      <td>1,150.00</td>\n",
       "    </tr>\n",
       "  </tbody>\n",
       "</table>\n",
       "</div>"
      ],
      "text/plain": [
       "      user_id                month  count_calls  sum_duration_calls  \\\n",
       "3168     1498  2018-07-01 00:00:00        23.00              175.00   \n",
       "3175     1499  2018-12-01 00:00:00        69.00              492.00   \n",
       "3172     1499  2018-09-01 00:00:00         9.00               70.00   \n",
       "3174     1499  2018-11-01 00:00:00        74.00              612.00   \n",
       "3173     1499  2018-10-01 00:00:00        68.00              449.00   \n",
       "\n",
       "      count_messages  sum_internet  age churn_date         city first_name  \\\n",
       "3168           20.00          8.00   68 2018-10-25  Владикавказ   Всеволод   \n",
       "3175           66.00         13.00   35        NaT        Пермь     Гектор   \n",
       "3172           11.00          2.00   35        NaT        Пермь     Гектор   \n",
       "3174           59.00         18.00   35        NaT        Пермь     Гектор   \n",
       "3173           48.00         18.00   35        NaT        Пермь     Гектор   \n",
       "\n",
       "     last_name   reg_date tariff  reg_date_month  churn_date_month  use_date  \\\n",
       "3168   Акимчин 2018-07-19  smart               7                10         4   \n",
       "3175  Корнилов 2018-09-27  smart               9                12         4   \n",
       "3172  Корнилов 2018-09-27  smart               9                12         4   \n",
       "3174  Корнилов 2018-09-27  smart               9                12         4   \n",
       "3173  Корнилов 2018-09-27  smart               9                12         4   \n",
       "\n",
       "      pay_total  \n",
       "3168     550.00  \n",
       "3175     598.00  \n",
       "3172     550.00  \n",
       "3174   1,513.00  \n",
       "3173   1,150.00  "
      ]
     },
     "execution_count": 78,
     "metadata": {},
     "output_type": "execute_result"
    }
   ],
   "source": [
    "#получение последних 5 строк таблицы\n",
    "df.sort_values(by=['user_id']).tail()"
   ]
  },
  {
   "cell_type": "markdown",
   "metadata": {},
   "source": [
    "Могла сложится такая ситуация, что кто-то из клиентов в некоторые месяцы не пользовался никакими из услуг связи, оплачивая при этом ежемесячную абонентскую плату. Такие месяцы могли не попасть в сводную таблицу. Следует проверить не пропущенны ли у кого-то из пользователей месяцы в столбце month.\n",
    "\n",
    "Ранее в разделе [2.1](#use_date) работы в таблицу df_users был добавлен столбец use_date, содержащий количество месяцев 2018 года, в течении которых каждый из пользователей был подключен к тарифу (разница в месяцах между декабрем 2018 года (или датой прекращения пользования тарифом) и датой подключения тарифа). \n",
    "\n",
    "Сравним количество месяцев пользования в столбцах month\tи use_date. Для этого сгруппируем данные таблицы по каждому пользователю и посчитаем количество месяцев в группировках. Затем в получивщуюся сводную таблицу month_count_fact добавим столбец use_date. Значения в этих столбцах должны совпадать, иначе исходные данные можно считать не полными, будет требоваться доработка."
   ]
  },
  {
   "cell_type": "code",
   "execution_count": 79,
   "metadata": {},
   "outputs": [
    {
     "data": {
      "text/html": [
       "<div>\n",
       "<style scoped>\n",
       "    .dataframe tbody tr th:only-of-type {\n",
       "        vertical-align: middle;\n",
       "    }\n",
       "\n",
       "    .dataframe tbody tr th {\n",
       "        vertical-align: top;\n",
       "    }\n",
       "\n",
       "    .dataframe thead th {\n",
       "        text-align: right;\n",
       "    }\n",
       "</style>\n",
       "<table border=\"1\" class=\"dataframe\">\n",
       "  <thead>\n",
       "    <tr style=\"text-align: right;\">\n",
       "      <th></th>\n",
       "      <th>user_id</th>\n",
       "      <th>month</th>\n",
       "      <th>plan</th>\n",
       "    </tr>\n",
       "  </thead>\n",
       "  <tbody>\n",
       "    <tr>\n",
       "      <td>0</td>\n",
       "      <td>1000</td>\n",
       "      <td>8</td>\n",
       "      <td>8</td>\n",
       "    </tr>\n",
       "    <tr>\n",
       "      <td>1</td>\n",
       "      <td>1001</td>\n",
       "      <td>2</td>\n",
       "      <td>2</td>\n",
       "    </tr>\n",
       "    <tr>\n",
       "      <td>2</td>\n",
       "      <td>1002</td>\n",
       "      <td>7</td>\n",
       "      <td>7</td>\n",
       "    </tr>\n",
       "    <tr>\n",
       "      <td>3</td>\n",
       "      <td>1003</td>\n",
       "      <td>5</td>\n",
       "      <td>5</td>\n",
       "    </tr>\n",
       "    <tr>\n",
       "      <td>4</td>\n",
       "      <td>1004</td>\n",
       "      <td>8</td>\n",
       "      <td>8</td>\n",
       "    </tr>\n",
       "    <tr>\n",
       "      <td>...</td>\n",
       "      <td>...</td>\n",
       "      <td>...</td>\n",
       "      <td>...</td>\n",
       "    </tr>\n",
       "    <tr>\n",
       "      <td>495</td>\n",
       "      <td>1495</td>\n",
       "      <td>5</td>\n",
       "      <td>5</td>\n",
       "    </tr>\n",
       "    <tr>\n",
       "      <td>496</td>\n",
       "      <td>1496</td>\n",
       "      <td>12</td>\n",
       "      <td>12</td>\n",
       "    </tr>\n",
       "    <tr>\n",
       "      <td>497</td>\n",
       "      <td>1497</td>\n",
       "      <td>3</td>\n",
       "      <td>3</td>\n",
       "    </tr>\n",
       "    <tr>\n",
       "      <td>498</td>\n",
       "      <td>1498</td>\n",
       "      <td>4</td>\n",
       "      <td>4</td>\n",
       "    </tr>\n",
       "    <tr>\n",
       "      <td>499</td>\n",
       "      <td>1499</td>\n",
       "      <td>4</td>\n",
       "      <td>4</td>\n",
       "    </tr>\n",
       "  </tbody>\n",
       "</table>\n",
       "<p>500 rows × 3 columns</p>\n",
       "</div>"
      ],
      "text/plain": [
       "     user_id  month  plan\n",
       "0       1000      8     8\n",
       "1       1001      2     2\n",
       "2       1002      7     7\n",
       "3       1003      5     5\n",
       "4       1004      8     8\n",
       "..       ...    ...   ...\n",
       "495     1495      5     5\n",
       "496     1496     12    12\n",
       "497     1497      3     3\n",
       "498     1498      4     4\n",
       "499     1499      4     4\n",
       "\n",
       "[500 rows x 3 columns]"
      ]
     },
     "execution_count": 79,
     "metadata": {},
     "output_type": "execute_result"
    }
   ],
   "source": [
    "#создание сводной таблицы\n",
    "month_count_fact = df.groupby('user_id')['month'].count()\n",
    "month_count_fact = month_count_fact.reset_index()\n",
    "month_count_fact['plan'] = df_users['use_date']\n",
    "month_count_fact"
   ]
  },
  {
   "cell_type": "code",
   "execution_count": 80,
   "metadata": {},
   "outputs": [
    {
     "data": {
      "text/plain": [
       "user_id    0\n",
       "month      0\n",
       "plan       0\n",
       "dtype: int64"
      ]
     },
     "execution_count": 80,
     "metadata": {},
     "output_type": "execute_result"
    }
   ],
   "source": [
    "#получение строк таблицы, в которых имеются расхождения\n",
    "month_count_fact.query('month != plan').count()"
   ]
  },
  {
   "cell_type": "markdown",
   "metadata": {},
   "source": [
    "### Вывод"
   ]
  },
  {
   "cell_type": "markdown",
   "metadata": {},
   "source": [
    "Проведена предобработка данных: в таблицах users, calls, messages и internet в столбцах, содержащих даты, изменен тип данных, в таблице internet удалены нулевые интернет-сессии.\n",
    "\n",
    "Проведены расчеты и составлены сводные таблицы:\n",
    "- df_calls_agg (содержится количество сделанных звонков и израсходованных минут разговора по месяцам)\n",
    "- df_messages_agg (содержится количество отправленных сообщений по месяцам)\n",
    "- df_internet_agg (содержится объем израсходованного интернет-трафика по месяцам)"
   ]
  },
  {
   "cell_type": "markdown",
   "metadata": {},
   "source": [
    "Полученные сводные таблицы и таблица df_users объеденены в общую таблицу df. В эту таблицу также добавлена помесячная выручка для каждого пользователя."
   ]
  },
  {
   "cell_type": "markdown",
   "metadata": {},
   "source": [
    "## Анализ данных"
   ]
  },
  {
   "cell_type": "markdown",
   "metadata": {},
   "source": [
    "Опишем поведение клиентов оператора, исходя из выборки. Выясним сколько минут разговора, сколько сообщений и какой объём интернет-трафика требуется пользователям каждого тарифа в месяц. Для этого посчитаем среднее количество, дисперсию и стандартное отклонение для каждой из услуг связи в разрезе тарифов. Результаты расчетов сохраним в таблице df_agg. Затем, применив правило трёх сигм, выясним потребности пользователей по каждому из тарифов."
   ]
  },
  {
   "cell_type": "code",
   "execution_count": 81,
   "metadata": {},
   "outputs": [
    {
     "data": {
      "text/html": [
       "<div>\n",
       "<style scoped>\n",
       "    .dataframe tbody tr th:only-of-type {\n",
       "        vertical-align: middle;\n",
       "    }\n",
       "\n",
       "    .dataframe tbody tr th {\n",
       "        vertical-align: top;\n",
       "    }\n",
       "\n",
       "    .dataframe thead tr th {\n",
       "        text-align: left;\n",
       "    }\n",
       "\n",
       "    .dataframe thead tr:last-of-type th {\n",
       "        text-align: right;\n",
       "    }\n",
       "</style>\n",
       "<table border=\"1\" class=\"dataframe\">\n",
       "  <thead>\n",
       "    <tr>\n",
       "      <th></th>\n",
       "      <th colspan=\"3\" halign=\"left\">sum_duration_calls</th>\n",
       "      <th colspan=\"3\" halign=\"left\">count_messages</th>\n",
       "      <th colspan=\"3\" halign=\"left\">sum_internet</th>\n",
       "    </tr>\n",
       "    <tr>\n",
       "      <th></th>\n",
       "      <th>mean</th>\n",
       "      <th>var</th>\n",
       "      <th>std</th>\n",
       "      <th>mean</th>\n",
       "      <th>var</th>\n",
       "      <th>std</th>\n",
       "      <th>mean</th>\n",
       "      <th>var</th>\n",
       "      <th>std</th>\n",
       "    </tr>\n",
       "    <tr>\n",
       "      <th>tariff</th>\n",
       "      <th></th>\n",
       "      <th></th>\n",
       "      <th></th>\n",
       "      <th></th>\n",
       "      <th></th>\n",
       "      <th></th>\n",
       "      <th></th>\n",
       "      <th></th>\n",
       "      <th></th>\n",
       "    </tr>\n",
       "  </thead>\n",
       "  <tbody>\n",
       "    <tr>\n",
       "      <td>smart</td>\n",
       "      <td>417.75</td>\n",
       "      <td>36,281.39</td>\n",
       "      <td>190.48</td>\n",
       "      <td>33.37</td>\n",
       "      <td>796.96</td>\n",
       "      <td>28.23</td>\n",
       "      <td>16.32</td>\n",
       "      <td>33.13</td>\n",
       "      <td>5.76</td>\n",
       "    </tr>\n",
       "    <tr>\n",
       "      <td>ultra</td>\n",
       "      <td>526.09</td>\n",
       "      <td>101,052.49</td>\n",
       "      <td>317.89</td>\n",
       "      <td>49.31</td>\n",
       "      <td>2,285.42</td>\n",
       "      <td>47.81</td>\n",
       "      <td>19.47</td>\n",
       "      <td>97.38</td>\n",
       "      <td>9.87</td>\n",
       "    </tr>\n",
       "  </tbody>\n",
       "</table>\n",
       "</div>"
      ],
      "text/plain": [
       "       sum_duration_calls                   count_messages                 \\\n",
       "                     mean        var    std           mean      var   std   \n",
       "tariff                                                                      \n",
       "smart              417.75  36,281.39 190.48          33.37   796.96 28.23   \n",
       "ultra              526.09 101,052.49 317.89          49.31 2,285.42 47.81   \n",
       "\n",
       "       sum_internet             \n",
       "               mean   var  std  \n",
       "tariff                          \n",
       "smart         16.32 33.13 5.76  \n",
       "ultra         19.47 97.38 9.87  "
      ]
     },
     "execution_count": 81,
     "metadata": {},
     "output_type": "execute_result"
    }
   ],
   "source": [
    "#расчет среднего количества, дисперсии и стандартного отклонения\n",
    "df_agg = df.groupby(['tariff']).agg({'sum_duration_calls': ['mean', 'var', 'std'],\n",
    "                                   'count_messages': ['mean', 'var', 'std'],\n",
    "                                   'sum_internet': ['mean', 'var', 'std']}) \n",
    "df_agg"
   ]
  },
  {
   "cell_type": "code",
   "execution_count": 82,
   "metadata": {},
   "outputs": [
    {
     "data": {
      "text/plain": [
       "'Пользователям тарифа smart необходимо 989.18 минут разговора в месяц, а пользователям тарифа ultra - 1479.75'"
      ]
     },
     "execution_count": 82,
     "metadata": {},
     "output_type": "execute_result"
    }
   ],
   "source": [
    "#применение правила трех сигм для длительности звонков\n",
    "sm_min = df_agg[(\"sum_duration_calls\", \"mean\")].loc[('smart')]+3*df_agg[(\"sum_duration_calls\", \"std\")].loc[('smart')]\n",
    "ul_min = df_agg[(\"sum_duration_calls\", \"mean\")].loc[('ultra')]+3*df_agg[(\"sum_duration_calls\", \"std\")].loc[('ultra')]\n",
    "f'Пользователям тарифа smart необходимо {sm_min.round(2)} минут разговора в месяц, а пользователям тарифа ultra - {ul_min.round(2)}'"
   ]
  },
  {
   "cell_type": "code",
   "execution_count": 83,
   "metadata": {},
   "outputs": [
    {
     "data": {
      "text/plain": [
       "'Пользователям тарифа smart необходимо 118.06 сообщений в месяц, а пользователям тарифа ultra - 192.73'"
      ]
     },
     "execution_count": 83,
     "metadata": {},
     "output_type": "execute_result"
    }
   ],
   "source": [
    "#применение правила трех сигм для количества сообщений\n",
    "sm_mes = df_agg[(\"count_messages\", \"mean\")].loc[('smart')]+3*df_agg[(\"count_messages\", \"std\")].loc[('smart')]\n",
    "ul_mes = df_agg[(\"count_messages\", \"mean\")].loc[('ultra')]+3*df_agg[(\"count_messages\", \"std\")].loc[('ultra')]\n",
    "f'Пользователям тарифа smart необходимо {sm_mes.round(2)} сообщений в месяц, а пользователям тарифа ultra - {ul_mes.round(2)}'"
   ]
  },
  {
   "cell_type": "code",
   "execution_count": 84,
   "metadata": {},
   "outputs": [
    {
     "data": {
      "text/plain": [
       "'Пользователям тарифа smart необходимо 33.59 Гб интернета в месяц, а пользователям тарифа ultra - 49.08'"
      ]
     },
     "execution_count": 84,
     "metadata": {},
     "output_type": "execute_result"
    }
   ],
   "source": [
    "#применение правила трех сигм для объема интернет-трафика\n",
    "sm_in = df_agg[(\"sum_internet\", \"mean\")].loc[('smart')]+3*df_agg[(\"sum_internet\", \"std\")].loc[('smart')]\n",
    "ul_in = df_agg[(\"sum_internet\", \"mean\")].loc[('ultra')]+3*df_agg[(\"sum_internet\", \"std\")].loc[('ultra')]\n",
    "f'Пользователям тарифа smart необходимо {sm_in.round(2)} Гб интернета в месяц, а пользователям тарифа ultra - {ul_in.round(2)}'"
   ]
  },
  {
   "cell_type": "markdown",
   "metadata": {},
   "source": [
    "Пользователи тарифа ultra расходуют в 1,5 раза больше минут, сообщений и Гб, чем на тарифе smart. При этом в конце месяца у них остается значительное количество неизрасходованных минут разговора и сообщений, а Гб сильно не хватает.\n",
    "\n",
    "Пользователи тарифа smart гораздо более экономные, но, тем не менее, в рамки своего тарифа они не укладываюся, им требуется примерно вдвое больше минут, сообщений и Гб.\n",
    "\n",
    "Возможно, такое значительное превышение лимита обеспечено редкими чрезмерно активными пользователями. Для ответа на этот вопрос построим гистограммы для каждой из услуг связи. Для сравнительного анализа пользователей разных тарифов разобъем общую таблицу df на две части, разделив по тарифам. <a id='раздел3'></a>"
   ]
  },
  {
   "cell_type": "code",
   "execution_count": 85,
   "metadata": {},
   "outputs": [],
   "source": [
    "#разделение таблицы df на две части\n",
    "smart = df.query('tariff == \"smart\"')\n",
    "ultra = df.query('tariff == \"ultra\"')"
   ]
  },
  {
   "cell_type": "code",
   "execution_count": 86,
   "metadata": {
    "scrolled": false
   },
   "outputs": [
    {
     "data": {
      "image/png": "[encoded data removed]",
      "text/plain": [
       "<Figure size 576x432 with 1 Axes>"
      ]
     },
     "metadata": {
      "needs_background": "light"
     },
     "output_type": "display_data"
    }
   ],
   "source": [
    "#построение гистограммы: звонки\n",
    "ax = smart.plot(y='sum_duration_calls', kind='hist', alpha=0.6, label='smart', bins=20, range=(0.001, 1200))\n",
    "ultra.plot(y='sum_duration_calls', kind='hist', ax=ax, figsize=(8, 6), alpha=0.6, label='ultra', range=(0.001, 1300),\n",
    "                                 title='Месячная длительнось разговоров пользователей', bins=20, grid=True)\n",
    "\n",
    "plt.xlabel('минуты разговора в месяц (мин)');"
   ]
  },
  {
   "cell_type": "markdown",
   "metadata": {},
   "source": [
    "В тариф smart включено 500 минут разговора, а в ultra - 3000.\n",
    "\n",
    "Обе гистограммы имеют по одной вершине. В обоих случаях присутствует некоторая скошенность влево. Это логично, учитывая специфику данных. \n",
    "\n",
    "Гистограмма по тарифу ultra имеет более сглаженные очертания в связи с меньшим количеством объектов в выборке, а гистограмма по тарифу smart имеет крутой равномерный подъем к вершине, расположенной в диапазоне значений от 300 до 500, и чуть более крутой спуск от нее.\n",
    "\n",
    "В целом гистограммы подтверждают ранее полученные расчетные данные. Действительно, примерно 25% пользователей тарифа smart превышают лемит своего тарифа по минутам разговора, а пользователи тарифа ultra не расходуют даже половины от оплаченных минут."
   ]
  },
  {
   "cell_type": "code",
   "execution_count": 87,
   "metadata": {
    "scrolled": false
   },
   "outputs": [
    {
     "data": {
      "image/png": "[encoded data removed]",
      "text/plain": [
       "<Figure size 576x432 with 1 Axes>"
      ]
     },
     "metadata": {
      "needs_background": "light"
     },
     "output_type": "display_data"
    }
   ],
   "source": [
    "#построение гистограммы: сообщения\n",
    "ax = smart.plot(y='count_messages', kind='hist', alpha=0.6, label='smart', bins=20, range=(1, 120))\n",
    "ultra.plot(y='count_messages', kind='hist', ax=ax, figsize=(8, 6), alpha=0.6, label='ultra',\n",
    "                                 title='Месячное количество сообщений пользователей', bins=20, grid=True, range=(1, 200))\n",
    "\n",
    "plt.xlabel('количество сообщений в месяц (шт)');"
   ]
  },
  {
   "cell_type": "markdown",
   "metadata": {},
   "source": [
    "В тариф smart включено 50 сообщений, а в ultra - 1000.\n",
    "\n",
    "Обе гистограммы имеют перекошенную вправо форму, слева резко отсеченную. Это нормально учитывая специфику столбца. \n",
    "\n",
    "Гистограмма по тарифу smart имеет крутую вершину в диапазоне 20-30 сообщений в месяц, затем крутой спуск до 50 сообщений и далее крутой равномерный спуск к отметке 120 сообщений.\n",
    "\n",
    "Гистограмма по тарифу ultra имеет более сглаженные очертания с пиком значений в диапазоне от 1 до 30 сообщений и немного реже - от 30 до 50. Крайне редко количество отправленных сообщений превышает значение 200.\n",
    "\n",
    "В целом гистограммы подтверждают ранее полученные расчетные данные. Действительно, пользователи тарифа smart зачастую не укладываются в лемит своего тарифа по количеству сообщений, а пользователям тарифа ultra достаточно 20% от предусмотренного количества."
   ]
  },
  {
   "cell_type": "code",
   "execution_count": 88,
   "metadata": {},
   "outputs": [
    {
     "data": {
      "image/png": "[encoded data removed]",
      "text/plain": [
       "<Figure size 576x432 with 1 Axes>"
      ]
     },
     "metadata": {
      "needs_background": "light"
     },
     "output_type": "display_data"
    }
   ],
   "source": [
    "#построение гистограммы: интернет\n",
    "ax = smart.plot(y='sum_internet', kind='hist', alpha=0.6, label='smart', bins=10)\n",
    "ultra.plot(y='sum_internet', kind='hist', ax=ax, figsize=(8, 6), alpha=0.6, label='ultra',\n",
    "                                 title='Месячный объём интернет-трафика пользователей', bins=10, grid=True)\n",
    "\n",
    "plt.xlabel('объём интернет-трафика в месяц (Гб)');"
   ]
  },
  {
   "cell_type": "markdown",
   "metadata": {},
   "source": [
    "В тариф smart включено 15 Гб интернета, а в ultra - 30.\n",
    "\n",
    "Обе гистограммы имеют по одной вершине и симметричное распредление значений в стороны от нее.\n",
    "\n",
    "Гистограмма по тарифу ultra имеет более сглаженные очертания в связи с меньшим количеством объектов в выборке, а гистограмма по тарифу smart имеет крутой равномерный подъем к вершине, расположенной в диапазоне значений от 12 до 17.\n",
    "\n",
    "В целом гистограммы подтверждают ранее полученные расчетные данные. Действительно, пользователям обоих тарифов не достаточно оплаченного объема интернет-трафика, причем среди пользователей тарифа smart почти каждый второй превышает выделенный лемит."
   ]
  },
  {
   "cell_type": "markdown",
   "metadata": {},
   "source": [
    "### Вывод"
   ]
  },
  {
   "cell_type": "markdown",
   "metadata": {},
   "source": [
    "В ходе работы определено сколько минут разговора, сколько сообщений и какой объём интернет-трафика требуется пользователям каждого тарифа в месяц. Результат представлен в сводной таблице need."
   ]
  },
  {
   "cell_type": "code",
   "execution_count": 89,
   "metadata": {},
   "outputs": [
    {
     "data": {
      "text/html": [
       "<div>\n",
       "<style scoped>\n",
       "    .dataframe tbody tr th:only-of-type {\n",
       "        vertical-align: middle;\n",
       "    }\n",
       "\n",
       "    .dataframe tbody tr th {\n",
       "        vertical-align: top;\n",
       "    }\n",
       "\n",
       "    .dataframe thead th {\n",
       "        text-align: right;\n",
       "    }\n",
       "</style>\n",
       "<table border=\"1\" class=\"dataframe\">\n",
       "  <thead>\n",
       "    <tr style=\"text-align: right;\">\n",
       "      <th></th>\n",
       "      <th></th>\n",
       "      <th>minutes</th>\n",
       "      <th>messages</th>\n",
       "      <th>Gb</th>\n",
       "    </tr>\n",
       "  </thead>\n",
       "  <tbody>\n",
       "    <tr>\n",
       "      <td>0</td>\n",
       "      <td>smart</td>\n",
       "      <td>989.18</td>\n",
       "      <td>118.06</td>\n",
       "      <td>33.59</td>\n",
       "    </tr>\n",
       "    <tr>\n",
       "      <td>1</td>\n",
       "      <td>ultra</td>\n",
       "      <td>1,479.75</td>\n",
       "      <td>192.73</td>\n",
       "      <td>49.08</td>\n",
       "    </tr>\n",
       "  </tbody>\n",
       "</table>\n",
       "</div>"
      ],
      "text/plain": [
       "          minutes  messages    Gb\n",
       "0  smart   989.18    118.06 33.59\n",
       "1  ultra 1,479.75    192.73 49.08"
      ]
     },
     "execution_count": 89,
     "metadata": {},
     "output_type": "execute_result"
    }
   ],
   "source": [
    "need = pd.DataFrame({'': ['smart', 'ultra'], 'minutes': [sm_min.round(2), ul_min.round(2)],\n",
    "                                             'messages': [sm_mes.round(2), ul_mes.round(2)], \n",
    "                                             'Gb': [sm_in.round(2), ul_in.round(2)]})\n",
    "need"
   ]
  },
  {
   "cell_type": "markdown",
   "metadata": {},
   "source": [
    "Выявлено, что пользователи тарифа smart значительно превышают установленный лимит по минутам разговора, количеству сообщений и по объему интернет-трафика. Пользователи тарифа ultra превышают установленный лимит по объему интернет-трафика, не расходуя при этом значительное количество оплаченных минут и сообщений. Для визуализации построены столбчатые диаграммы."
   ]
  },
  {
   "cell_type": "code",
   "execution_count": 90,
   "metadata": {},
   "outputs": [
    {
     "data": {
      "image/png": "[encoded data removed]",
      "text/plain": [
       "<Figure size 432x288 with 1 Axes>"
      ]
     },
     "metadata": {
      "needs_background": "light"
     },
     "output_type": "display_data"
    }
   ],
   "source": [
    "# построение столбчатой диаграммы: минуты разговора\n",
    "min_f = [sm_min.round(2), ul_min.round(2)]\n",
    "min_p = [minutes_included_smart, minutes_included_ultra]\n",
    "plt.bar(range(2), min_f, alpha=0.6, label=\"Smoker = No\")\n",
    "plt.bar(range(2), min_p, alpha=0.6, label=\"Smoker = No\")\n",
    "for i, t in enumerate(min_f):\n",
    "    plt.text(i, t + (np.max(min_f) * 0.009), t, ha=\"center\")\n",
    "for i, t in enumerate(min_p):\n",
    "    plt.text(i, t + (np.max(min_p) * 0.009), t, ha=\"center\")\n",
    "plt.title(\"Минуты разговора: израсходованно (синий) из предусмотренных тарифом(оранжевый)\")\n",
    "plt.xlabel(\"smart                                              ultra\")\n",
    "plt.ylabel(\"Количество минут\");"
   ]
  },
  {
   "cell_type": "code",
   "execution_count": 91,
   "metadata": {},
   "outputs": [
    {
     "data": {
      "image/png": "[encoded data removed]",
      "text/plain": [
       "<Figure size 432x288 with 1 Axes>"
      ]
     },
     "metadata": {
      "needs_background": "light"
     },
     "output_type": "display_data"
    }
   ],
   "source": [
    "#построение столбчатой диаграммы: количество сообщений\n",
    "mes_f = [sm_mes.round(2), ul_mes.round(2)]\n",
    "mes_p = [messages_included_smart, messages_included_ultra]\n",
    "plt.bar(range(2), mes_f, alpha=0.6)\n",
    "plt.bar(range(2), mes_p, alpha=0.6)\n",
    "for i, t in enumerate(mes_f):\n",
    "    plt.text(i, t + (np.max(mes_f) * 0.009), t, ha=\"center\")\n",
    "for i, t in enumerate(mes_p):\n",
    "    plt.text(i, t + (np.max(mes_p) * 0.009), t, ha=\"center\")\n",
    "    \n",
    "plt.title(\"Количество сообщений: израсходованно (синий) из предусмотренных тарифом(оранжевый)\")\n",
    "plt.xlabel(\"smart                                              ultra\")\n",
    "plt.ylabel(\"Количество сообщений\");"
   ]
  },
  {
   "cell_type": "code",
   "execution_count": 92,
   "metadata": {},
   "outputs": [
    {
     "data": {
      "image/png": "[encoded data removed]",
      "text/plain": [
       "<Figure size 432x288 with 1 Axes>"
      ]
     },
     "metadata": {
      "needs_background": "light"
     },
     "output_type": "display_data"
    }
   ],
   "source": [
    "#построение столбчатой диаграммы: объем интернет-трафика\n",
    "in_f = [sm_in.round(2), ul_in.round(2)]\n",
    "in_p = [mb_per_month_included_smart, mb_per_month_included_ultra]\n",
    "plt.bar(range(2), in_f, alpha=0.6)\n",
    "plt.bar(range(2), in_p, alpha=0.6)\n",
    "for i, t in enumerate(in_f):\n",
    "    plt.text(i, t + (np.max(in_f) * 0.009), t, ha=\"center\")\n",
    "for i, t in enumerate(in_p):\n",
    "    plt.text(i, t + (np.max(in_p) * 0.009), t, ha=\"center\")\n",
    "    \n",
    "plt.title(\"Объем интернет-трафика: израсходованно (синий) из предусмотренного тарифом(оранжевый)\")\n",
    "plt.xlabel(\"smart                                              ultra\")\n",
    "plt.ylabel(\"Объем интернет-трафика\");"
   ]
  },
  {
   "cell_type": "markdown",
   "metadata": {},
   "source": [
    "## Проверка гипотез"
   ]
  },
  {
   "cell_type": "markdown",
   "metadata": {},
   "source": [
    "### Сравнение средней выручки по тарифам"
   ]
  },
  {
   "cell_type": "markdown",
   "metadata": {},
   "source": [
    "Проанализируем годовую выручку для пользователей разных тарифов. Учитывая условия тарифов, можно предположить, что выручка пользователей тарифа ultra превышает выручку пользователей тарифа smart.\n",
    "Для начала сформулируем нулевую гипотезу. Учтем, что нулевая гипотеза всегда формулируется так, чтобы использовать знак равенства. \n",
    "\n",
    "В нашем случае нулевая гипотеза будет звучать так:\n",
    "\n",
    "**Между средними выручками пользователей тарифов ultra и smart нет ожидаемого различия**\n",
    "\n",
    "Альтернативная гипотеза:\n",
    "\n",
    "**Средняя выручка пользователей тарифа ultra больше чем тарифа smart**\n",
    "\n",
    "Чтобы проверить выдвинутое предположение проведем статстический тест для двух генеральных совокупностей по взятым из них выборкам. Выборку с данными помесячной выручки по тарифу smart поместим в pay_smart, по тарифу ultra - в pay_ultra. Отметим, что ранее в [разделе 3](#раздел3) для сравнительного анализа пользователей разных тарифов общая таблицу df уже была разбита на две части - smart и ultra. Уровень значимости для теста определим пороговым значением 5%. Основываясь на предположении альтернативной гипотезы (ultra > smart) установим односторонний критерий значимости. Применим метод scipy.stats.ttest_ind."
   ]
  },
  {
   "cell_type": "code",
   "execution_count": 93,
   "metadata": {},
   "outputs": [],
   "source": [
    "#подготовка выборок\n",
    "pay_smart = smart['pay_total'].to_numpy()\n",
    "pay_ultra = ultra['pay_total'].to_numpy()"
   ]
  },
  {
   "cell_type": "code",
   "execution_count": 94,
   "metadata": {},
   "outputs": [
    {
     "data": {
      "text/plain": [
       "('p-значение:', 4.0409547777449665e-161)"
      ]
     },
     "execution_count": 94,
     "metadata": {},
     "output_type": "execute_result"
    }
   ],
   "source": [
    "#проведение статистического теста, расчет p-значения\n",
    "alpha_tariff = 0.05\n",
    "results_tariff = st.ttest_ind(pay_smart, pay_ultra)\n",
    "'p-значение:', results_tariff.pvalue / 2"
   ]
  },
  {
   "cell_type": "markdown",
   "metadata": {},
   "source": [
    "Известно, что чем меньше p-значение, тем больше определенность в том, что нулевая гипотеза является ложной, и что мы нашли подлинный эффект. Приходим к выводу, что получить настолько малое p-значения в рамках нулевой гипотезы вряд ли возможно. Отвергаем нулевую гипотезу. \n",
    "\n",
    "По итогам проведения теста известно, что средняя выручка пользователей тарифа ultra отличается от тарифа smart. Удостоверимся в том, что больше выручка по тарифу ultra."
   ]
  },
  {
   "cell_type": "code",
   "execution_count": 95,
   "metadata": {},
   "outputs": [
    {
     "data": {
      "text/plain": [
       "True"
      ]
     },
     "execution_count": 95,
     "metadata": {},
     "output_type": "execute_result"
    }
   ],
   "source": [
    "#проверка истинности альтернативы\n",
    "results_tariff.pvalue / 2 < alpha_tariff and pay_smart.mean() < pay_ultra.mean()"
   ]
  },
  {
   "cell_type": "markdown",
   "metadata": {},
   "source": [
    "### Сравнение средней выручки по городам"
   ]
  },
  {
   "cell_type": "markdown",
   "metadata": {},
   "source": [
    "Проанализируем годовую выручку для пользователей проживающих в разных городах. Предположим, что средняя выручка пользователей из Москвы отличается от выручки пользователей из других регионов. Сформулируем нулевую гипотезу. Учтем, что нулевая гипотеза всегда формулируется так, чтобы использовать знак равенства.\n",
    "\n",
    "В нашем случае нулевая гипотеза будет звучать так:\n",
    "\n",
    "**Средние выручки пользователей из Москвы и пользователей из других регионов равны между собой.**\n",
    "\n",
    "Альтернативная гипотеза:\n",
    "\n",
    "**Средние выручки пользователей из Москвы и пользователей из других регионов отличаются.**\n",
    "\n",
    "Чтобы проверить выдвинутое предположение проведем статстический тест для двух генеральных совокупностей по взятым из них выборкам. Выборку с данными помесячной выручки пользователей из Москвы поместим в pay_msk, по другим регионам - в pay_no_msk. Уровень значимости для теста определим пороговым значением 5%. Основываясь на предположении альтернативной гипотезы (Москва != другие регионы) установим двусторонний критерий значимости. Применим метод scipy.stats.ttest_ind."
   ]
  },
  {
   "cell_type": "code",
   "execution_count": 96,
   "metadata": {},
   "outputs": [],
   "source": [
    "#подготовка выборок\n",
    "pay_msk = df.query('city == \"Москва\"')['pay_total'].to_numpy()\n",
    "pay_no_msk = df.query('city != \"Москва\"')['pay_total'].to_numpy()"
   ]
  },
  {
   "cell_type": "code",
   "execution_count": 97,
   "metadata": {},
   "outputs": [
    {
     "data": {
      "text/plain": [
       "('p-значение:', 0.5400751614511182)"
      ]
     },
     "execution_count": 97,
     "metadata": {},
     "output_type": "execute_result"
    }
   ],
   "source": [
    "#проведение статистического теста, расчет p-значения\n",
    "alpha_city = 0.05\n",
    "results_city = st.ttest_ind(pay_msk, pay_no_msk)\n",
    "'p-значение:', results_city.pvalue"
   ]
  },
  {
   "cell_type": "markdown",
   "metadata": {},
   "source": [
    "Высокое p-значение не дает основания отвергнуть нулевую гипотезу. Средняя выручка пользователей из Москвы не отличается от выручки пользователей из других регионов."
   ]
  },
  {
   "cell_type": "markdown",
   "metadata": {},
   "source": [
    "### Вывод"
   ]
  },
  {
   "cell_type": "markdown",
   "metadata": {},
   "source": [
    "Проведены статстические тесты для двух генеральных совокупностей по взятым из них выборкам. Установлено, что существует высокая вероятность истинности следующих предположений:\n",
    "- Средняя выручка пользователей тарифа ultra больше чем тарифа smart.\n",
    "- Средняя выручка пользователей из Москвы не отличается от выручки пользователей из других регионов."
   ]
  },
  {
   "cell_type": "markdown",
   "metadata": {},
   "source": [
    "## Общий вывод"
   ]
  },
  {
   "cell_type": "markdown",
   "metadata": {},
   "source": [
    "В ходе исследования проведен предварительный анализ тарифов компании «Мегалайн» на небольшой выборке клиентов. \n",
    "Проанализировано поведение клиентов и выявлено сколько минут разговора, сколько сообщений и какой объём интернет-трафика требуется пользователям каждого тарифа в месяц: \n",
    "- многие пользователи тарифа smart превышают установленный тарифом лимит сообщений, звонков и интернет-трафика; \n",
    "- многие пользователи тарифа ultra превышают установленный тарифом лимит интернет-трафика, а оплаченные минуты разговора и сообщения не используют в полном объеме.\n",
    "\n",
    "Расчитана помесячная выручка с каждого пользователя:\n",
    "- средняя выручка пользователей тарифа ultra больше чем тарифа smart,\n",
    "- средняя выручка пользователей из Москвы не отличается от выручки пользователей из других регионов.\n",
    "\n",
    "**Учитывая то, что тариф ultra приносит больше денег, его развитие более выгодно для компании**"
   ]
  },
  {
   "cell_type": "code",
   "execution_count": null,
   "metadata": {},
   "outputs": [],
   "source": []
  }
 ],
 "metadata": {
  "ExecuteTimeLog": [
   {
    "duration": 728,
    "start_time": "2021-12-22T15:12:44.700Z"
   },
   {
    "duration": 782,
    "start_time": "2021-12-22T15:12:47.317Z"
   },
   {
    "duration": 178,
    "start_time": "2021-12-22T15:12:49.584Z"
   },
   {
    "duration": 10,
    "start_time": "2021-12-22T15:12:58.885Z"
   },
   {
    "duration": 154,
    "start_time": "2021-12-22T15:13:20.085Z"
   },
   {
    "duration": 8,
    "start_time": "2021-12-22T15:13:21.902Z"
   },
   {
    "duration": 23,
    "start_time": "2021-12-22T15:13:59.869Z"
   },
   {
    "duration": 8,
    "start_time": "2021-12-22T15:15:27.863Z"
   },
   {
    "duration": 3,
    "start_time": "2021-12-22T15:17:23.956Z"
   },
   {
    "duration": 149,
    "start_time": "2021-12-22T15:17:25.712Z"
   },
   {
    "duration": 8,
    "start_time": "2021-12-22T15:17:27.433Z"
   },
   {
    "duration": 22,
    "start_time": "2021-12-22T15:17:29.377Z"
   },
   {
    "duration": 133,
    "start_time": "2021-12-22T15:17:32.233Z"
   },
   {
    "duration": 8,
    "start_time": "2021-12-22T15:17:34.176Z"
   },
   {
    "duration": 19,
    "start_time": "2021-12-22T15:17:36.760Z"
   },
   {
    "duration": 90,
    "start_time": "2021-12-22T15:23:54.093Z"
   },
   {
    "duration": 7,
    "start_time": "2021-12-22T15:23:56.419Z"
   },
   {
    "duration": 16,
    "start_time": "2021-12-22T15:23:59.581Z"
   },
   {
    "duration": 16,
    "start_time": "2021-12-22T15:25:51.552Z"
   },
   {
    "duration": 8,
    "start_time": "2021-12-22T15:25:53.431Z"
   },
   {
    "duration": 7,
    "start_time": "2021-12-22T15:25:57.102Z"
   },
   {
    "duration": 30,
    "start_time": "2021-12-22T15:27:26.089Z"
   },
   {
    "duration": 14,
    "start_time": "2021-12-22T15:27:27.984Z"
   },
   {
    "duration": 7,
    "start_time": "2021-12-22T15:27:30.494Z"
   },
   {
    "duration": 5,
    "start_time": "2021-12-22T15:33:11.840Z"
   },
   {
    "duration": 5,
    "start_time": "2021-12-22T15:33:21.549Z"
   },
   {
    "duration": 284,
    "start_time": "2021-12-22T15:33:52.949Z"
   },
   {
    "duration": 246,
    "start_time": "2021-12-22T15:34:07.341Z"
   },
   {
    "duration": 14,
    "start_time": "2021-12-22T16:14:10.098Z"
   },
   {
    "duration": 281,
    "start_time": "2021-12-22T17:29:45.372Z"
   },
   {
    "duration": 269,
    "start_time": "2021-12-22T17:30:02.921Z"
   },
   {
    "duration": 9,
    "start_time": "2021-12-22T17:30:35.346Z"
   },
   {
    "duration": 644,
    "start_time": "2021-12-22T17:44:57.012Z"
   },
   {
    "duration": 151,
    "start_time": "2021-12-22T17:44:57.660Z"
   },
   {
    "duration": 11,
    "start_time": "2021-12-22T17:44:57.814Z"
   },
   {
    "duration": 20,
    "start_time": "2021-12-22T17:44:57.827Z"
   },
   {
    "duration": 35,
    "start_time": "2021-12-22T17:44:57.849Z"
   },
   {
    "duration": 183,
    "start_time": "2021-12-22T17:44:57.887Z"
   },
   {
    "duration": 12,
    "start_time": "2021-12-22T17:44:58.073Z"
   },
   {
    "duration": 20,
    "start_time": "2021-12-22T17:44:58.088Z"
   },
   {
    "duration": 103,
    "start_time": "2021-12-22T17:44:58.110Z"
   },
   {
    "duration": 8,
    "start_time": "2021-12-22T17:44:58.215Z"
   },
   {
    "duration": 17,
    "start_time": "2021-12-22T17:44:58.224Z"
   },
   {
    "duration": 16,
    "start_time": "2021-12-22T17:44:58.260Z"
   },
   {
    "duration": 12,
    "start_time": "2021-12-22T17:44:58.278Z"
   },
   {
    "duration": 8,
    "start_time": "2021-12-22T17:44:58.292Z"
   },
   {
    "duration": 28,
    "start_time": "2021-12-22T17:44:58.301Z"
   },
   {
    "duration": 11,
    "start_time": "2021-12-22T17:44:58.331Z"
   },
   {
    "duration": 7,
    "start_time": "2021-12-22T17:44:58.344Z"
   },
   {
    "duration": 700,
    "start_time": "2021-12-22T18:02:07.019Z"
   },
   {
    "duration": 160,
    "start_time": "2021-12-22T18:02:07.721Z"
   },
   {
    "duration": 12,
    "start_time": "2021-12-22T18:02:07.883Z"
   },
   {
    "duration": 9,
    "start_time": "2021-12-22T18:02:07.897Z"
   },
   {
    "duration": 19,
    "start_time": "2021-12-22T18:02:07.908Z"
   },
   {
    "duration": 150,
    "start_time": "2021-12-22T18:02:07.929Z"
   },
   {
    "duration": 7,
    "start_time": "2021-12-22T18:02:08.081Z"
   },
   {
    "duration": 19,
    "start_time": "2021-12-22T18:02:08.090Z"
   },
   {
    "duration": 99,
    "start_time": "2021-12-22T18:02:08.112Z"
   },
   {
    "duration": 7,
    "start_time": "2021-12-22T18:02:08.213Z"
   },
   {
    "duration": 16,
    "start_time": "2021-12-22T18:02:08.222Z"
   },
   {
    "duration": 23,
    "start_time": "2021-12-22T18:02:08.241Z"
   },
   {
    "duration": 11,
    "start_time": "2021-12-22T18:02:08.265Z"
   },
   {
    "duration": 12,
    "start_time": "2021-12-22T18:02:08.277Z"
   },
   {
    "duration": 29,
    "start_time": "2021-12-22T18:02:08.290Z"
   },
   {
    "duration": 10,
    "start_time": "2021-12-22T18:02:08.321Z"
   },
   {
    "duration": 14,
    "start_time": "2021-12-22T18:02:08.333Z"
   },
   {
    "duration": 612,
    "start_time": "2021-12-24T07:20:57.890Z"
   },
   {
    "duration": 28,
    "start_time": "2021-12-24T07:20:58.504Z"
   },
   {
    "duration": 14,
    "start_time": "2021-12-24T07:20:58.534Z"
   },
   {
    "duration": 17,
    "start_time": "2021-12-24T07:20:58.549Z"
   },
   {
    "duration": 151,
    "start_time": "2021-12-24T07:20:58.568Z"
   },
   {
    "duration": 7,
    "start_time": "2021-12-24T07:20:58.720Z"
   },
   {
    "duration": 27,
    "start_time": "2021-12-24T07:20:58.740Z"
   },
   {
    "duration": 84,
    "start_time": "2021-12-24T07:20:58.769Z"
   },
   {
    "duration": 7,
    "start_time": "2021-12-24T07:20:58.856Z"
   },
   {
    "duration": 17,
    "start_time": "2021-12-24T07:20:58.864Z"
   },
   {
    "duration": 125,
    "start_time": "2021-12-24T07:20:58.883Z"
   },
   {
    "duration": 8,
    "start_time": "2021-12-24T07:20:59.010Z"
   },
   {
    "duration": 30,
    "start_time": "2021-12-24T07:20:59.019Z"
   },
   {
    "duration": 21,
    "start_time": "2021-12-24T07:20:59.051Z"
   },
   {
    "duration": 8,
    "start_time": "2021-12-24T07:20:59.074Z"
   },
   {
    "duration": 6,
    "start_time": "2021-12-24T07:20:59.084Z"
   },
   {
    "duration": 12,
    "start_time": "2021-12-24T07:20:59.091Z"
   },
   {
    "duration": 4,
    "start_time": "2021-12-24T07:20:59.105Z"
   },
   {
    "duration": 7,
    "start_time": "2021-12-24T07:20:59.110Z"
   },
   {
    "duration": 30,
    "start_time": "2021-12-24T07:20:59.118Z"
   },
   {
    "duration": 8,
    "start_time": "2021-12-24T07:20:59.150Z"
   },
   {
    "duration": 6,
    "start_time": "2021-12-24T07:20:59.160Z"
   },
   {
    "duration": 5,
    "start_time": "2021-12-24T07:20:59.171Z"
   },
   {
    "duration": 6,
    "start_time": "2021-12-24T07:20:59.179Z"
   },
   {
    "duration": 12,
    "start_time": "2021-12-24T07:20:59.186Z"
   },
   {
    "duration": 10,
    "start_time": "2021-12-24T07:20:59.199Z"
   },
   {
    "duration": 32,
    "start_time": "2021-12-24T07:20:59.211Z"
   },
   {
    "duration": 12,
    "start_time": "2021-12-24T07:20:59.245Z"
   },
   {
    "duration": 29,
    "start_time": "2021-12-24T07:20:59.261Z"
   },
   {
    "duration": 15,
    "start_time": "2021-12-24T07:20:59.291Z"
   },
   {
    "duration": 51,
    "start_time": "2021-12-24T07:20:59.307Z"
   },
   {
    "duration": 11,
    "start_time": "2021-12-24T07:20:59.360Z"
   },
   {
    "duration": 13,
    "start_time": "2021-12-24T07:20:59.372Z"
   },
   {
    "duration": 70,
    "start_time": "2021-12-24T07:20:59.386Z"
   },
   {
    "duration": 6,
    "start_time": "2021-12-24T07:20:59.457Z"
   },
   {
    "duration": 16,
    "start_time": "2021-12-24T07:20:59.464Z"
   },
   {
    "duration": 36,
    "start_time": "2021-12-24T07:20:59.481Z"
   },
   {
    "duration": 15,
    "start_time": "2021-12-24T07:20:59.519Z"
   },
   {
    "duration": 26,
    "start_time": "2021-12-24T07:20:59.536Z"
   },
   {
    "duration": 48,
    "start_time": "2021-12-24T07:20:59.564Z"
   },
   {
    "duration": 5,
    "start_time": "2021-12-24T07:20:59.614Z"
   },
   {
    "duration": 13,
    "start_time": "2021-12-24T07:20:59.621Z"
   },
   {
    "duration": 59,
    "start_time": "2021-12-24T07:20:59.636Z"
   },
   {
    "duration": 40,
    "start_time": "2021-12-24T07:20:59.697Z"
   },
   {
    "duration": 102,
    "start_time": "2021-12-24T07:20:59.739Z"
   },
   {
    "duration": 45,
    "start_time": "2021-12-24T07:20:59.844Z"
   },
   {
    "duration": 34,
    "start_time": "2021-12-24T07:20:59.890Z"
   },
   {
    "duration": 5,
    "start_time": "2021-12-24T07:20:59.925Z"
   },
   {
    "duration": 39,
    "start_time": "2021-12-24T07:20:59.932Z"
   },
   {
    "duration": 12,
    "start_time": "2021-12-24T07:20:59.972Z"
   },
   {
    "duration": 10,
    "start_time": "2021-12-24T07:20:59.985Z"
   },
   {
    "duration": 15,
    "start_time": "2021-12-24T07:20:59.997Z"
   },
   {
    "duration": 6,
    "start_time": "2021-12-24T07:21:00.014Z"
   },
   {
    "duration": 4,
    "start_time": "2021-12-24T07:21:36.405Z"
   },
   {
    "duration": 31,
    "start_time": "2021-12-24T07:21:36.410Z"
   },
   {
    "duration": 12,
    "start_time": "2021-12-24T07:21:36.449Z"
   },
   {
    "duration": 17,
    "start_time": "2021-12-24T07:21:36.463Z"
   },
   {
    "duration": 154,
    "start_time": "2021-12-24T07:21:36.482Z"
   },
   {
    "duration": 7,
    "start_time": "2021-12-24T07:21:36.638Z"
   },
   {
    "duration": 29,
    "start_time": "2021-12-24T07:21:36.647Z"
   },
   {
    "duration": 85,
    "start_time": "2021-12-24T07:21:36.678Z"
   },
   {
    "duration": 7,
    "start_time": "2021-12-24T07:21:36.765Z"
   },
   {
    "duration": 17,
    "start_time": "2021-12-24T07:21:36.773Z"
   },
   {
    "duration": 126,
    "start_time": "2021-12-24T07:21:36.791Z"
   },
   {
    "duration": 7,
    "start_time": "2021-12-24T07:21:36.919Z"
   },
   {
    "duration": 35,
    "start_time": "2021-12-24T07:21:36.927Z"
   },
   {
    "duration": 17,
    "start_time": "2021-12-24T07:21:36.963Z"
   },
   {
    "duration": 10,
    "start_time": "2021-12-24T07:21:36.981Z"
   },
   {
    "duration": 6,
    "start_time": "2021-12-24T07:21:36.992Z"
   },
   {
    "duration": 12,
    "start_time": "2021-12-24T07:21:37.000Z"
   },
   {
    "duration": 4,
    "start_time": "2021-12-24T07:21:37.014Z"
   },
   {
    "duration": 9,
    "start_time": "2021-12-24T07:21:37.019Z"
   },
   {
    "duration": 17,
    "start_time": "2021-12-24T07:21:37.029Z"
   },
   {
    "duration": 15,
    "start_time": "2021-12-24T07:21:37.048Z"
   },
   {
    "duration": 9,
    "start_time": "2021-12-24T07:21:37.064Z"
   },
   {
    "duration": 8,
    "start_time": "2021-12-24T07:21:37.076Z"
   },
   {
    "duration": 10,
    "start_time": "2021-12-24T07:21:37.086Z"
   },
   {
    "duration": 12,
    "start_time": "2021-12-24T07:21:37.097Z"
   },
   {
    "duration": 10,
    "start_time": "2021-12-24T07:21:37.110Z"
   },
   {
    "duration": 20,
    "start_time": "2021-12-24T07:21:37.122Z"
   },
   {
    "duration": 27,
    "start_time": "2021-12-24T07:21:37.143Z"
   },
   {
    "duration": 30,
    "start_time": "2021-12-24T07:21:37.172Z"
   },
   {
    "duration": 14,
    "start_time": "2021-12-24T07:21:37.203Z"
   },
   {
    "duration": 26,
    "start_time": "2021-12-24T07:21:37.219Z"
   },
   {
    "duration": 13,
    "start_time": "2021-12-24T07:21:37.247Z"
   },
   {
    "duration": 15,
    "start_time": "2021-12-24T07:21:37.261Z"
   },
   {
    "duration": 71,
    "start_time": "2021-12-24T07:21:37.278Z"
   },
   {
    "duration": 7,
    "start_time": "2021-12-24T07:21:37.351Z"
   },
   {
    "duration": 12,
    "start_time": "2021-12-24T07:21:37.359Z"
   },
   {
    "duration": 18,
    "start_time": "2021-12-24T07:21:37.372Z"
   },
   {
    "duration": 16,
    "start_time": "2021-12-24T07:21:37.392Z"
   },
   {
    "duration": 38,
    "start_time": "2021-12-24T07:21:37.409Z"
   },
   {
    "duration": 38,
    "start_time": "2021-12-24T07:21:37.454Z"
   },
   {
    "duration": 6,
    "start_time": "2021-12-24T07:21:37.494Z"
   },
   {
    "duration": 7,
    "start_time": "2021-12-24T07:21:37.502Z"
   },
   {
    "duration": 14,
    "start_time": "2021-12-24T07:21:37.510Z"
   },
   {
    "duration": 24,
    "start_time": "2021-12-24T07:21:37.543Z"
   },
   {
    "duration": 17,
    "start_time": "2021-12-24T07:21:37.569Z"
   },
   {
    "duration": 15,
    "start_time": "2021-12-24T07:21:37.587Z"
   },
   {
    "duration": 67,
    "start_time": "2021-12-24T07:21:37.604Z"
   },
   {
    "duration": 8,
    "start_time": "2021-12-24T07:21:37.673Z"
   },
   {
    "duration": 23,
    "start_time": "2021-12-24T07:21:37.683Z"
   },
   {
    "duration": 45,
    "start_time": "2021-12-24T07:21:37.708Z"
   },
   {
    "duration": 10,
    "start_time": "2021-12-24T07:21:37.754Z"
   },
   {
    "duration": 13,
    "start_time": "2021-12-24T07:21:37.766Z"
   },
   {
    "duration": 8,
    "start_time": "2021-12-24T07:21:37.780Z"
   },
   {
    "duration": 608,
    "start_time": "2021-12-24T07:21:46.892Z"
   },
   {
    "duration": 29,
    "start_time": "2021-12-24T07:21:47.501Z"
   },
   {
    "duration": 21,
    "start_time": "2021-12-24T07:21:47.532Z"
   },
   {
    "duration": 9,
    "start_time": "2021-12-24T07:21:47.555Z"
   },
   {
    "duration": 150,
    "start_time": "2021-12-24T07:21:47.565Z"
   },
   {
    "duration": 6,
    "start_time": "2021-12-24T07:21:47.717Z"
   },
   {
    "duration": 26,
    "start_time": "2021-12-24T07:21:47.725Z"
   },
   {
    "duration": 79,
    "start_time": "2021-12-24T07:21:47.753Z"
   },
   {
    "duration": 6,
    "start_time": "2021-12-24T07:21:47.834Z"
   },
   {
    "duration": 22,
    "start_time": "2021-12-24T07:21:47.849Z"
   },
   {
    "duration": 123,
    "start_time": "2021-12-24T07:21:47.873Z"
   },
   {
    "duration": 8,
    "start_time": "2021-12-24T07:21:47.998Z"
   },
   {
    "duration": 18,
    "start_time": "2021-12-24T07:21:48.008Z"
   },
   {
    "duration": 29,
    "start_time": "2021-12-24T07:21:48.028Z"
   },
   {
    "duration": 12,
    "start_time": "2021-12-24T07:21:48.059Z"
   },
   {
    "duration": 5,
    "start_time": "2021-12-24T07:21:48.073Z"
   },
   {
    "duration": 14,
    "start_time": "2021-12-24T07:21:48.080Z"
   },
   {
    "duration": 7,
    "start_time": "2021-12-24T07:21:48.095Z"
   },
   {
    "duration": 8,
    "start_time": "2021-12-24T07:21:48.104Z"
   },
   {
    "duration": 8,
    "start_time": "2021-12-24T07:21:48.113Z"
   },
   {
    "duration": 11,
    "start_time": "2021-12-24T07:21:48.123Z"
   },
   {
    "duration": 18,
    "start_time": "2021-12-24T07:21:48.140Z"
   },
   {
    "duration": 9,
    "start_time": "2021-12-24T07:21:48.161Z"
   },
   {
    "duration": 9,
    "start_time": "2021-12-24T07:21:48.172Z"
   },
   {
    "duration": 13,
    "start_time": "2021-12-24T07:21:48.182Z"
   },
   {
    "duration": 11,
    "start_time": "2021-12-24T07:21:48.196Z"
   },
   {
    "duration": 9,
    "start_time": "2021-12-24T07:21:48.208Z"
   },
   {
    "duration": 15,
    "start_time": "2021-12-24T07:21:48.218Z"
   },
   {
    "duration": 40,
    "start_time": "2021-12-24T07:21:48.234Z"
   },
   {
    "duration": 13,
    "start_time": "2021-12-24T07:21:48.276Z"
   },
   {
    "duration": 21,
    "start_time": "2021-12-24T07:21:48.290Z"
   },
   {
    "duration": 11,
    "start_time": "2021-12-24T07:21:48.312Z"
   },
   {
    "duration": 31,
    "start_time": "2021-12-24T07:21:48.324Z"
   },
   {
    "duration": 54,
    "start_time": "2021-12-24T07:21:48.357Z"
   },
   {
    "duration": 6,
    "start_time": "2021-12-24T07:21:48.412Z"
   },
   {
    "duration": 24,
    "start_time": "2021-12-24T07:21:48.419Z"
   },
   {
    "duration": 33,
    "start_time": "2021-12-24T07:21:48.446Z"
   },
   {
    "duration": 14,
    "start_time": "2021-12-24T07:21:48.482Z"
   },
   {
    "duration": 11,
    "start_time": "2021-12-24T07:21:48.497Z"
   },
   {
    "duration": 54,
    "start_time": "2021-12-24T07:21:48.510Z"
   },
   {
    "duration": 5,
    "start_time": "2021-12-24T07:21:48.565Z"
   },
   {
    "duration": 6,
    "start_time": "2021-12-24T07:21:48.572Z"
   },
   {
    "duration": 10,
    "start_time": "2021-12-24T07:21:48.579Z"
   },
   {
    "duration": 20,
    "start_time": "2021-12-24T07:21:48.591Z"
   },
   {
    "duration": 40,
    "start_time": "2021-12-24T07:21:48.613Z"
   },
   {
    "duration": 13,
    "start_time": "2021-12-24T07:21:48.655Z"
   },
   {
    "duration": 33,
    "start_time": "2021-12-24T07:21:48.669Z"
   },
   {
    "duration": 5,
    "start_time": "2021-12-24T07:21:48.704Z"
   },
   {
    "duration": 40,
    "start_time": "2021-12-24T07:21:48.711Z"
   },
   {
    "duration": 14,
    "start_time": "2021-12-24T07:21:48.753Z"
   },
   {
    "duration": 6,
    "start_time": "2021-12-24T07:21:48.769Z"
   },
   {
    "duration": 11,
    "start_time": "2021-12-24T07:21:48.776Z"
   },
   {
    "duration": 9,
    "start_time": "2021-12-24T07:21:48.789Z"
   },
   {
    "duration": 6,
    "start_time": "2021-12-24T08:41:26.801Z"
   },
   {
    "duration": 5,
    "start_time": "2021-12-24T08:41:35.522Z"
   },
   {
    "duration": 6336,
    "start_time": "2021-12-24T08:42:37.420Z"
   },
   {
    "duration": 7,
    "start_time": "2021-12-24T08:42:57.620Z"
   },
   {
    "duration": 10,
    "start_time": "2021-12-24T08:45:25.877Z"
   },
   {
    "duration": 8,
    "start_time": "2021-12-24T10:44:38.939Z"
   },
   {
    "duration": 8034,
    "start_time": "2021-12-24T10:49:45.719Z"
   },
   {
    "duration": 269,
    "start_time": "2021-12-24T10:50:02.439Z"
   },
   {
    "duration": 375,
    "start_time": "2021-12-24T10:54:51.705Z"
   },
   {
    "duration": 657,
    "start_time": "2021-12-24T10:54:58.468Z"
   },
   {
    "duration": 33,
    "start_time": "2021-12-24T10:54:59.127Z"
   },
   {
    "duration": 12,
    "start_time": "2021-12-24T10:54:59.162Z"
   },
   {
    "duration": 10,
    "start_time": "2021-12-24T10:54:59.175Z"
   },
   {
    "duration": 148,
    "start_time": "2021-12-24T10:54:59.186Z"
   },
   {
    "duration": 9,
    "start_time": "2021-12-24T10:54:59.336Z"
   },
   {
    "duration": 32,
    "start_time": "2021-12-24T10:54:59.347Z"
   },
   {
    "duration": 84,
    "start_time": "2021-12-24T10:54:59.382Z"
   },
   {
    "duration": 6,
    "start_time": "2021-12-24T10:54:59.469Z"
   },
   {
    "duration": 21,
    "start_time": "2021-12-24T10:54:59.476Z"
   },
   {
    "duration": 137,
    "start_time": "2021-12-24T10:54:59.498Z"
   },
   {
    "duration": 9,
    "start_time": "2021-12-24T10:54:59.637Z"
   },
   {
    "duration": 35,
    "start_time": "2021-12-24T10:54:59.647Z"
   },
   {
    "duration": 17,
    "start_time": "2021-12-24T10:54:59.684Z"
   },
   {
    "duration": 12,
    "start_time": "2021-12-24T10:54:59.703Z"
   },
   {
    "duration": 8,
    "start_time": "2021-12-24T10:54:59.717Z"
   },
   {
    "duration": 9,
    "start_time": "2021-12-24T10:54:59.727Z"
   },
   {
    "duration": 6,
    "start_time": "2021-12-24T10:54:59.737Z"
   },
   {
    "duration": 19,
    "start_time": "2021-12-24T10:54:59.747Z"
   },
   {
    "duration": 6,
    "start_time": "2021-12-24T10:54:59.767Z"
   },
   {
    "duration": 12,
    "start_time": "2021-12-24T10:54:59.774Z"
   },
   {
    "duration": 9,
    "start_time": "2021-12-24T10:54:59.788Z"
   },
   {
    "duration": 6,
    "start_time": "2021-12-24T10:54:59.802Z"
   },
   {
    "duration": 5,
    "start_time": "2021-12-24T10:54:59.811Z"
   },
   {
    "duration": 10,
    "start_time": "2021-12-24T10:54:59.817Z"
   },
   {
    "duration": 19,
    "start_time": "2021-12-24T10:54:59.828Z"
   },
   {
    "duration": 11,
    "start_time": "2021-12-24T10:54:59.853Z"
   },
   {
    "duration": 235,
    "start_time": "2021-12-24T10:54:59.866Z"
   },
   {
    "duration": 27,
    "start_time": "2021-12-24T10:55:00.102Z"
   },
   {
    "duration": 28,
    "start_time": "2021-12-24T10:55:00.130Z"
   },
   {
    "duration": 23,
    "start_time": "2021-12-24T10:55:00.160Z"
   },
   {
    "duration": 12,
    "start_time": "2021-12-24T10:55:00.185Z"
   },
   {
    "duration": 46,
    "start_time": "2021-12-24T10:55:00.199Z"
   },
   {
    "duration": 56,
    "start_time": "2021-12-24T10:55:00.246Z"
   },
   {
    "duration": 6,
    "start_time": "2021-12-24T10:55:00.304Z"
   },
   {
    "duration": 38,
    "start_time": "2021-12-24T10:55:00.311Z"
   },
   {
    "duration": 49,
    "start_time": "2021-12-24T10:55:00.351Z"
   },
   {
    "duration": 14,
    "start_time": "2021-12-24T10:55:00.402Z"
   },
   {
    "duration": 17,
    "start_time": "2021-12-24T10:55:00.418Z"
   },
   {
    "duration": 55,
    "start_time": "2021-12-24T10:55:00.437Z"
   },
   {
    "duration": 6,
    "start_time": "2021-12-24T10:55:00.494Z"
   },
   {
    "duration": 10,
    "start_time": "2021-12-24T10:55:00.501Z"
   },
   {
    "duration": 20,
    "start_time": "2021-12-24T10:55:00.513Z"
   },
   {
    "duration": 25,
    "start_time": "2021-12-24T10:55:00.535Z"
   },
   {
    "duration": 20,
    "start_time": "2021-12-24T10:55:00.562Z"
   },
   {
    "duration": 13,
    "start_time": "2021-12-24T10:55:00.584Z"
   },
   {
    "duration": 54,
    "start_time": "2021-12-24T10:55:00.599Z"
   },
   {
    "duration": 7,
    "start_time": "2021-12-24T10:55:00.655Z"
   },
   {
    "duration": 28,
    "start_time": "2021-12-24T10:55:00.664Z"
   },
   {
    "duration": 11,
    "start_time": "2021-12-24T10:55:00.693Z"
   },
   {
    "duration": 5,
    "start_time": "2021-12-24T10:55:00.706Z"
   },
   {
    "duration": 36,
    "start_time": "2021-12-24T10:55:00.713Z"
   },
   {
    "duration": 19,
    "start_time": "2021-12-24T10:55:00.751Z"
   },
   {
    "duration": 10,
    "start_time": "2021-12-24T10:56:19.522Z"
   },
   {
    "duration": 277,
    "start_time": "2021-12-24T10:58:02.358Z"
   },
   {
    "duration": 15,
    "start_time": "2021-12-24T10:58:10.205Z"
   },
   {
    "duration": 4,
    "start_time": "2021-12-24T11:07:11.556Z"
   },
   {
    "duration": 33,
    "start_time": "2021-12-24T11:07:11.562Z"
   },
   {
    "duration": 10,
    "start_time": "2021-12-24T11:07:11.597Z"
   },
   {
    "duration": 9,
    "start_time": "2021-12-24T11:07:11.609Z"
   },
   {
    "duration": 154,
    "start_time": "2021-12-24T11:07:11.619Z"
   },
   {
    "duration": 7,
    "start_time": "2021-12-24T11:07:11.775Z"
   },
   {
    "duration": 21,
    "start_time": "2021-12-24T11:07:11.783Z"
   },
   {
    "duration": 93,
    "start_time": "2021-12-24T11:07:11.805Z"
   },
   {
    "duration": 6,
    "start_time": "2021-12-24T11:07:11.901Z"
   },
   {
    "duration": 16,
    "start_time": "2021-12-24T11:07:11.909Z"
   },
   {
    "duration": 142,
    "start_time": "2021-12-24T11:07:11.927Z"
   },
   {
    "duration": 9,
    "start_time": "2021-12-24T11:07:12.072Z"
   },
   {
    "duration": 26,
    "start_time": "2021-12-24T11:07:12.083Z"
   },
   {
    "duration": 17,
    "start_time": "2021-12-24T11:07:12.111Z"
   },
   {
    "duration": 19,
    "start_time": "2021-12-24T11:07:12.130Z"
   },
   {
    "duration": 14,
    "start_time": "2021-12-24T11:07:12.150Z"
   },
   {
    "duration": 16,
    "start_time": "2021-12-24T11:07:12.166Z"
   },
   {
    "duration": 8,
    "start_time": "2021-12-24T11:07:12.184Z"
   },
   {
    "duration": 8,
    "start_time": "2021-12-24T11:07:12.194Z"
   },
   {
    "duration": 6,
    "start_time": "2021-12-24T11:07:12.204Z"
   },
   {
    "duration": 10,
    "start_time": "2021-12-24T11:07:12.212Z"
   },
   {
    "duration": 11,
    "start_time": "2021-12-24T11:07:12.223Z"
   },
   {
    "duration": 26,
    "start_time": "2021-12-24T11:07:12.235Z"
   },
   {
    "duration": 6,
    "start_time": "2021-12-24T11:07:12.263Z"
   },
   {
    "duration": 12,
    "start_time": "2021-12-24T11:07:12.270Z"
   },
   {
    "duration": 12,
    "start_time": "2021-12-24T11:07:12.284Z"
   },
   {
    "duration": 8,
    "start_time": "2021-12-24T11:07:12.299Z"
   },
   {
    "duration": 248,
    "start_time": "2021-12-24T11:07:12.309Z"
   },
   {
    "duration": 29,
    "start_time": "2021-12-24T11:07:12.559Z"
   },
   {
    "duration": 14,
    "start_time": "2021-12-24T11:07:12.590Z"
   },
   {
    "duration": 35,
    "start_time": "2021-12-24T11:07:12.606Z"
   },
   {
    "duration": 23,
    "start_time": "2021-12-24T11:07:12.643Z"
   },
   {
    "duration": 17,
    "start_time": "2021-12-24T11:07:12.667Z"
   },
   {
    "duration": 29,
    "start_time": "2021-12-24T11:07:12.686Z"
   },
   {
    "duration": 64,
    "start_time": "2021-12-24T11:07:12.716Z"
   },
   {
    "duration": 6,
    "start_time": "2021-12-24T11:07:12.781Z"
   },
   {
    "duration": 16,
    "start_time": "2021-12-24T11:07:12.788Z"
   },
   {
    "duration": 24,
    "start_time": "2021-12-24T11:07:12.806Z"
   },
   {
    "duration": 25,
    "start_time": "2021-12-24T11:07:12.831Z"
   },
   {
    "duration": 16,
    "start_time": "2021-12-24T11:07:12.858Z"
   },
   {
    "duration": 42,
    "start_time": "2021-12-24T11:07:12.876Z"
   },
   {
    "duration": 6,
    "start_time": "2021-12-24T11:07:12.919Z"
   },
   {
    "duration": 22,
    "start_time": "2021-12-24T11:07:12.927Z"
   },
   {
    "duration": 33,
    "start_time": "2021-12-24T11:07:12.951Z"
   },
   {
    "duration": 37,
    "start_time": "2021-12-24T11:07:12.986Z"
   },
   {
    "duration": 18,
    "start_time": "2021-12-24T11:07:13.024Z"
   },
   {
    "duration": 16,
    "start_time": "2021-12-24T11:07:13.043Z"
   },
   {
    "duration": 35,
    "start_time": "2021-12-24T11:07:13.062Z"
   },
   {
    "duration": 7,
    "start_time": "2021-12-24T11:07:13.099Z"
   },
   {
    "duration": 55,
    "start_time": "2021-12-24T11:07:13.107Z"
   },
   {
    "duration": 12,
    "start_time": "2021-12-24T11:07:13.164Z"
   },
   {
    "duration": 6,
    "start_time": "2021-12-24T11:07:13.177Z"
   },
   {
    "duration": 11,
    "start_time": "2021-12-24T11:07:13.185Z"
   },
   {
    "duration": 5,
    "start_time": "2021-12-24T11:07:13.198Z"
   },
   {
    "duration": 678,
    "start_time": "2021-12-24T11:07:21.636Z"
   },
   {
    "duration": 34,
    "start_time": "2021-12-24T11:07:22.315Z"
   },
   {
    "duration": 19,
    "start_time": "2021-12-24T11:07:22.352Z"
   },
   {
    "duration": 13,
    "start_time": "2021-12-24T11:07:22.374Z"
   },
   {
    "duration": 176,
    "start_time": "2021-12-24T11:07:22.389Z"
   },
   {
    "duration": 8,
    "start_time": "2021-12-24T11:07:22.567Z"
   },
   {
    "duration": 22,
    "start_time": "2021-12-24T11:07:22.576Z"
   },
   {
    "duration": 93,
    "start_time": "2021-12-24T11:07:22.601Z"
   },
   {
    "duration": 8,
    "start_time": "2021-12-24T11:07:22.697Z"
   },
   {
    "duration": 20,
    "start_time": "2021-12-24T11:07:22.707Z"
   },
   {
    "duration": 134,
    "start_time": "2021-12-24T11:07:22.741Z"
   },
   {
    "duration": 7,
    "start_time": "2021-12-24T11:07:22.877Z"
   },
   {
    "duration": 23,
    "start_time": "2021-12-24T11:07:22.886Z"
   },
   {
    "duration": 17,
    "start_time": "2021-12-24T11:07:22.910Z"
   },
   {
    "duration": 16,
    "start_time": "2021-12-24T11:07:22.929Z"
   },
   {
    "duration": 18,
    "start_time": "2021-12-24T11:07:22.946Z"
   },
   {
    "duration": 11,
    "start_time": "2021-12-24T11:07:22.965Z"
   },
   {
    "duration": 13,
    "start_time": "2021-12-24T11:07:22.977Z"
   },
   {
    "duration": 10,
    "start_time": "2021-12-24T11:07:22.992Z"
   },
   {
    "duration": 9,
    "start_time": "2021-12-24T11:07:23.004Z"
   },
   {
    "duration": 9,
    "start_time": "2021-12-24T11:07:23.014Z"
   },
   {
    "duration": 17,
    "start_time": "2021-12-24T11:07:23.024Z"
   },
   {
    "duration": 8,
    "start_time": "2021-12-24T11:07:23.051Z"
   },
   {
    "duration": 14,
    "start_time": "2021-12-24T11:07:23.061Z"
   },
   {
    "duration": 21,
    "start_time": "2021-12-24T11:07:23.077Z"
   },
   {
    "duration": 13,
    "start_time": "2021-12-24T11:07:23.100Z"
   },
   {
    "duration": 12,
    "start_time": "2021-12-24T11:07:23.115Z"
   },
   {
    "duration": 263,
    "start_time": "2021-12-24T11:07:23.129Z"
   },
   {
    "duration": 31,
    "start_time": "2021-12-24T11:07:23.393Z"
   },
   {
    "duration": 31,
    "start_time": "2021-12-24T11:07:23.425Z"
   },
   {
    "duration": 13,
    "start_time": "2021-12-24T11:07:23.459Z"
   },
   {
    "duration": 26,
    "start_time": "2021-12-24T11:07:23.474Z"
   },
   {
    "duration": 12,
    "start_time": "2021-12-24T11:07:23.501Z"
   },
   {
    "duration": 41,
    "start_time": "2021-12-24T11:07:23.514Z"
   },
   {
    "duration": 53,
    "start_time": "2021-12-24T11:07:23.557Z"
   },
   {
    "duration": 5,
    "start_time": "2021-12-24T11:07:23.612Z"
   },
   {
    "duration": 9,
    "start_time": "2021-12-24T11:07:23.619Z"
   },
   {
    "duration": 21,
    "start_time": "2021-12-24T11:07:23.649Z"
   },
   {
    "duration": 15,
    "start_time": "2021-12-24T11:07:23.671Z"
   },
   {
    "duration": 11,
    "start_time": "2021-12-24T11:07:23.687Z"
   },
   {
    "duration": 59,
    "start_time": "2021-12-24T11:07:23.700Z"
   },
   {
    "duration": 6,
    "start_time": "2021-12-24T11:07:23.761Z"
   },
   {
    "duration": 9,
    "start_time": "2021-12-24T11:07:23.768Z"
   },
   {
    "duration": 12,
    "start_time": "2021-12-24T11:07:23.779Z"
   },
   {
    "duration": 22,
    "start_time": "2021-12-24T11:07:23.793Z"
   },
   {
    "duration": 39,
    "start_time": "2021-12-24T11:07:23.816Z"
   },
   {
    "duration": 14,
    "start_time": "2021-12-24T11:07:23.857Z"
   },
   {
    "duration": 36,
    "start_time": "2021-12-24T11:07:23.873Z"
   },
   {
    "duration": 6,
    "start_time": "2021-12-24T11:07:23.910Z"
   },
   {
    "duration": 32,
    "start_time": "2021-12-24T11:07:23.941Z"
   },
   {
    "duration": 12,
    "start_time": "2021-12-24T11:07:23.975Z"
   },
   {
    "duration": 6,
    "start_time": "2021-12-24T11:07:23.988Z"
   },
   {
    "duration": 13,
    "start_time": "2021-12-24T11:07:23.995Z"
   },
   {
    "duration": 8,
    "start_time": "2021-12-24T11:07:24.009Z"
   },
   {
    "duration": 7,
    "start_time": "2021-12-24T11:09:59.629Z"
   },
   {
    "duration": 7,
    "start_time": "2021-12-24T11:10:08.369Z"
   },
   {
    "duration": 760,
    "start_time": "2021-12-24T11:14:01.354Z"
   },
   {
    "duration": 329,
    "start_time": "2021-12-24T11:15:45.495Z"
   },
   {
    "duration": 911,
    "start_time": "2021-12-24T11:15:48.742Z"
   },
   {
    "duration": 640,
    "start_time": "2021-12-24T11:15:54.030Z"
   },
   {
    "duration": 17,
    "start_time": "2021-12-24T11:16:32.478Z"
   },
   {
    "duration": 11,
    "start_time": "2021-12-24T11:17:04.008Z"
   },
   {
    "duration": 90,
    "start_time": "2021-12-24T11:18:01.465Z"
   },
   {
    "duration": 332,
    "start_time": "2021-12-24T11:18:10.816Z"
   },
   {
    "duration": 25,
    "start_time": "2021-12-24T11:18:37.401Z"
   },
   {
    "duration": 20,
    "start_time": "2021-12-24T11:19:05.064Z"
   },
   {
    "duration": 38,
    "start_time": "2021-12-24T11:19:39.833Z"
   },
   {
    "duration": 21,
    "start_time": "2021-12-24T11:20:05.762Z"
   },
   {
    "duration": 25,
    "start_time": "2021-12-24T11:23:05.628Z"
   },
   {
    "duration": 25,
    "start_time": "2021-12-24T11:23:14.156Z"
   },
   {
    "duration": 23,
    "start_time": "2021-12-24T11:23:18.332Z"
   },
   {
    "duration": 300,
    "start_time": "2021-12-24T11:23:55.213Z"
   },
   {
    "duration": 289,
    "start_time": "2021-12-24T11:24:58.381Z"
   },
   {
    "duration": 290,
    "start_time": "2021-12-24T11:25:39.294Z"
   },
   {
    "duration": 317,
    "start_time": "2021-12-24T11:25:52.654Z"
   },
   {
    "duration": 69,
    "start_time": "2021-12-24T11:26:03.343Z"
   },
   {
    "duration": 19,
    "start_time": "2021-12-24T11:27:27.616Z"
   },
   {
    "duration": 17,
    "start_time": "2021-12-24T11:27:43.992Z"
   },
   {
    "duration": 22,
    "start_time": "2021-12-24T11:27:47.728Z"
   },
   {
    "duration": 14,
    "start_time": "2021-12-24T11:28:15.216Z"
   },
   {
    "duration": 13,
    "start_time": "2021-12-24T11:28:35.544Z"
   },
   {
    "duration": 9,
    "start_time": "2021-12-24T11:29:04.016Z"
   },
   {
    "duration": 11,
    "start_time": "2021-12-24T12:18:15.487Z"
   },
   {
    "duration": 46,
    "start_time": "2021-12-24T12:27:39.104Z"
   },
   {
    "duration": 8,
    "start_time": "2021-12-24T12:37:56.902Z"
   },
   {
    "duration": 23,
    "start_time": "2021-12-24T12:41:03.481Z"
   },
   {
    "duration": 29,
    "start_time": "2021-12-24T12:44:06.083Z"
   },
   {
    "duration": 28,
    "start_time": "2021-12-24T12:44:44.388Z"
   },
   {
    "duration": 5,
    "start_time": "2021-12-24T12:45:18.906Z"
   },
   {
    "duration": 46,
    "start_time": "2021-12-24T12:45:18.913Z"
   },
   {
    "duration": 10,
    "start_time": "2021-12-24T12:45:18.962Z"
   },
   {
    "duration": 8,
    "start_time": "2021-12-24T12:45:18.974Z"
   },
   {
    "duration": 164,
    "start_time": "2021-12-24T12:45:18.984Z"
   },
   {
    "duration": 9,
    "start_time": "2021-12-24T12:45:19.150Z"
   },
   {
    "duration": 34,
    "start_time": "2021-12-24T12:45:19.161Z"
   },
   {
    "duration": 88,
    "start_time": "2021-12-24T12:45:19.197Z"
   },
   {
    "duration": 7,
    "start_time": "2021-12-24T12:45:19.287Z"
   },
   {
    "duration": 15,
    "start_time": "2021-12-24T12:45:19.295Z"
   },
   {
    "duration": 144,
    "start_time": "2021-12-24T12:45:19.312Z"
   },
   {
    "duration": 11,
    "start_time": "2021-12-24T12:45:19.459Z"
   },
   {
    "duration": 29,
    "start_time": "2021-12-24T12:45:19.472Z"
   },
   {
    "duration": 18,
    "start_time": "2021-12-24T12:45:19.504Z"
   },
   {
    "duration": 11,
    "start_time": "2021-12-24T12:45:19.524Z"
   },
   {
    "duration": 13,
    "start_time": "2021-12-24T12:45:19.537Z"
   },
   {
    "duration": 24,
    "start_time": "2021-12-24T12:45:19.552Z"
   },
   {
    "duration": 6,
    "start_time": "2021-12-24T12:45:19.577Z"
   },
   {
    "duration": 12,
    "start_time": "2021-12-24T12:45:19.584Z"
   },
   {
    "duration": 8,
    "start_time": "2021-12-24T12:45:19.598Z"
   },
   {
    "duration": 7,
    "start_time": "2021-12-24T12:45:19.608Z"
   },
   {
    "duration": 16,
    "start_time": "2021-12-24T12:45:19.616Z"
   },
   {
    "duration": 16,
    "start_time": "2021-12-24T12:45:19.635Z"
   },
   {
    "duration": 72,
    "start_time": "2021-12-24T12:45:19.653Z"
   },
   {
    "duration": 148,
    "start_time": "2021-12-24T12:45:19.727Z"
   },
   {
    "duration": 13,
    "start_time": "2021-12-24T12:45:19.877Z"
   },
   {
    "duration": 10,
    "start_time": "2021-12-24T12:45:19.891Z"
   },
   {
    "duration": 248,
    "start_time": "2021-12-24T12:45:19.902Z"
   },
   {
    "duration": 32,
    "start_time": "2021-12-24T12:45:20.152Z"
   },
   {
    "duration": 14,
    "start_time": "2021-12-24T12:45:20.185Z"
   },
   {
    "duration": 12,
    "start_time": "2021-12-24T12:45:20.201Z"
   },
   {
    "duration": 40,
    "start_time": "2021-12-24T12:45:20.215Z"
   },
   {
    "duration": 26,
    "start_time": "2021-12-24T12:45:20.257Z"
   },
   {
    "duration": 35,
    "start_time": "2021-12-24T12:45:20.285Z"
   },
   {
    "duration": 79,
    "start_time": "2021-12-24T12:45:20.323Z"
   },
   {
    "duration": 67,
    "start_time": "2021-12-24T12:45:20.404Z"
   },
   {
    "duration": 9,
    "start_time": "2021-12-24T12:45:20.473Z"
   },
   {
    "duration": 26,
    "start_time": "2021-12-24T12:45:20.484Z"
   },
   {
    "duration": 43,
    "start_time": "2021-12-24T12:45:20.513Z"
   },
   {
    "duration": 31,
    "start_time": "2021-12-24T12:45:20.558Z"
   },
   {
    "duration": 13,
    "start_time": "2021-12-24T12:45:20.591Z"
   },
   {
    "duration": 50,
    "start_time": "2021-12-24T12:45:20.606Z"
   },
   {
    "duration": 16,
    "start_time": "2021-12-24T12:45:20.659Z"
   },
   {
    "duration": 15,
    "start_time": "2021-12-24T12:45:20.677Z"
   },
   {
    "duration": 53,
    "start_time": "2021-12-24T12:45:20.693Z"
   },
   {
    "duration": 14,
    "start_time": "2021-12-24T12:45:20.748Z"
   },
   {
    "duration": 23,
    "start_time": "2021-12-24T12:45:20.763Z"
   },
   {
    "duration": 13,
    "start_time": "2021-12-24T12:45:20.788Z"
   },
   {
    "duration": 7,
    "start_time": "2021-12-24T12:45:20.803Z"
   },
   {
    "duration": 15,
    "start_time": "2021-12-24T12:45:20.841Z"
   },
   {
    "duration": 9,
    "start_time": "2021-12-24T12:45:20.858Z"
   },
   {
    "duration": 10,
    "start_time": "2021-12-24T12:47:11.974Z"
   },
   {
    "duration": 239,
    "start_time": "2021-12-24T12:48:19.022Z"
   },
   {
    "duration": 136,
    "start_time": "2021-12-24T12:48:51.910Z"
   },
   {
    "duration": 7,
    "start_time": "2021-12-24T12:49:14.463Z"
   },
   {
    "duration": 4,
    "start_time": "2021-12-24T12:50:10.736Z"
   },
   {
    "duration": 5,
    "start_time": "2021-12-24T12:57:36.836Z"
   },
   {
    "duration": 4,
    "start_time": "2021-12-24T12:57:46.858Z"
   },
   {
    "duration": 9,
    "start_time": "2021-12-24T12:58:25.454Z"
   },
   {
    "duration": 21,
    "start_time": "2021-12-24T13:37:15.484Z"
   },
   {
    "duration": 257,
    "start_time": "2021-12-24T13:37:51.812Z"
   },
   {
    "duration": 22,
    "start_time": "2021-12-24T13:38:40.460Z"
   },
   {
    "duration": 14,
    "start_time": "2021-12-24T13:41:45.664Z"
   },
   {
    "duration": 14,
    "start_time": "2021-12-24T13:46:05.867Z"
   },
   {
    "duration": 7,
    "start_time": "2021-12-24T13:54:10.200Z"
   },
   {
    "duration": 10,
    "start_time": "2021-12-24T13:57:52.796Z"
   },
   {
    "duration": 8,
    "start_time": "2021-12-24T13:58:23.789Z"
   },
   {
    "duration": 11,
    "start_time": "2021-12-24T13:58:39.796Z"
   },
   {
    "duration": 101,
    "start_time": "2021-12-24T14:04:11.665Z"
   },
   {
    "duration": 92,
    "start_time": "2021-12-24T14:04:42.907Z"
   },
   {
    "duration": 41,
    "start_time": "2021-12-24T14:05:05.258Z"
   },
   {
    "duration": 10,
    "start_time": "2021-12-24T14:08:29.997Z"
   },
   {
    "duration": 123,
    "start_time": "2021-12-24T14:09:30.606Z"
   },
   {
    "duration": 12,
    "start_time": "2021-12-24T14:10:18.407Z"
   },
   {
    "duration": 12,
    "start_time": "2021-12-24T14:11:48.272Z"
   },
   {
    "duration": 635,
    "start_time": "2021-12-24T14:13:03.425Z"
   },
   {
    "duration": 736,
    "start_time": "2021-12-24T14:17:07.908Z"
   },
   {
    "duration": 10,
    "start_time": "2021-12-24T14:18:52.536Z"
   },
   {
    "duration": 543,
    "start_time": "2021-12-24T14:19:06.125Z"
   },
   {
    "duration": 569,
    "start_time": "2021-12-24T14:19:11.676Z"
   },
   {
    "duration": 81,
    "start_time": "2021-12-24T14:19:21.757Z"
   },
   {
    "duration": 603,
    "start_time": "2021-12-24T14:19:38.756Z"
   },
   {
    "duration": 523,
    "start_time": "2021-12-24T14:19:43.965Z"
   },
   {
    "duration": 658,
    "start_time": "2021-12-24T14:19:47.701Z"
   },
   {
    "duration": 17,
    "start_time": "2021-12-24T14:20:21.079Z"
   },
   {
    "duration": 12,
    "start_time": "2021-12-24T14:20:33.582Z"
   },
   {
    "duration": 9,
    "start_time": "2021-12-24T14:25:46.484Z"
   },
   {
    "duration": 9,
    "start_time": "2021-12-24T14:28:06.645Z"
   },
   {
    "duration": 55,
    "start_time": "2021-12-24T14:30:04.573Z"
   },
   {
    "duration": 7,
    "start_time": "2021-12-24T14:39:12.261Z"
   },
   {
    "duration": 8,
    "start_time": "2021-12-24T14:40:48.343Z"
   },
   {
    "duration": 8,
    "start_time": "2021-12-24T14:40:50.343Z"
   },
   {
    "duration": 9,
    "start_time": "2021-12-24T14:44:09.666Z"
   },
   {
    "duration": 9,
    "start_time": "2021-12-24T14:45:24.970Z"
   },
   {
    "duration": 10,
    "start_time": "2021-12-24T14:46:27.211Z"
   },
   {
    "duration": 4,
    "start_time": "2021-12-24T14:54:33.434Z"
   },
   {
    "duration": 21,
    "start_time": "2021-12-24T14:58:45.453Z"
   },
   {
    "duration": 31,
    "start_time": "2021-12-24T14:59:04.380Z"
   },
   {
    "duration": 29,
    "start_time": "2021-12-24T14:59:14.012Z"
   },
   {
    "duration": 285,
    "start_time": "2021-12-24T15:00:04.085Z"
   },
   {
    "duration": 30,
    "start_time": "2021-12-24T15:00:20.622Z"
   },
   {
    "duration": 12,
    "start_time": "2021-12-24T15:02:40.592Z"
   },
   {
    "duration": 3,
    "start_time": "2021-12-24T15:02:51.498Z"
   },
   {
    "duration": 33,
    "start_time": "2021-12-24T15:02:51.503Z"
   },
   {
    "duration": 12,
    "start_time": "2021-12-24T15:02:51.538Z"
   },
   {
    "duration": 17,
    "start_time": "2021-12-24T15:02:51.552Z"
   },
   {
    "duration": 156,
    "start_time": "2021-12-24T15:02:51.570Z"
   },
   {
    "duration": 16,
    "start_time": "2021-12-24T15:02:51.728Z"
   },
   {
    "duration": 37,
    "start_time": "2021-12-24T15:02:51.746Z"
   },
   {
    "duration": 85,
    "start_time": "2021-12-24T15:02:51.785Z"
   },
   {
    "duration": 8,
    "start_time": "2021-12-24T15:02:51.872Z"
   },
   {
    "duration": 15,
    "start_time": "2021-12-24T15:02:51.882Z"
   },
   {
    "duration": 136,
    "start_time": "2021-12-24T15:02:51.899Z"
   },
   {
    "duration": 12,
    "start_time": "2021-12-24T15:02:52.037Z"
   },
   {
    "duration": 28,
    "start_time": "2021-12-24T15:02:52.051Z"
   },
   {
    "duration": 18,
    "start_time": "2021-12-24T15:02:52.081Z"
   },
   {
    "duration": 27,
    "start_time": "2021-12-24T15:02:52.101Z"
   },
   {
    "duration": 8,
    "start_time": "2021-12-24T15:02:52.130Z"
   },
   {
    "duration": 26,
    "start_time": "2021-12-24T15:02:52.140Z"
   },
   {
    "duration": 7,
    "start_time": "2021-12-24T15:02:52.168Z"
   },
   {
    "duration": 9,
    "start_time": "2021-12-24T15:02:52.178Z"
   },
   {
    "duration": 6,
    "start_time": "2021-12-24T15:02:52.189Z"
   },
   {
    "duration": 13,
    "start_time": "2021-12-24T15:02:52.196Z"
   },
   {
    "duration": 9,
    "start_time": "2021-12-24T15:02:52.210Z"
   },
   {
    "duration": 13,
    "start_time": "2021-12-24T15:02:52.220Z"
   },
   {
    "duration": 10,
    "start_time": "2021-12-24T15:02:52.234Z"
   },
   {
    "duration": 17,
    "start_time": "2021-12-24T15:02:52.249Z"
   },
   {
    "duration": 10,
    "start_time": "2021-12-24T15:02:52.268Z"
   },
   {
    "duration": 9,
    "start_time": "2021-12-24T15:02:52.279Z"
   },
   {
    "duration": 240,
    "start_time": "2021-12-24T15:02:52.289Z"
   },
   {
    "duration": 39,
    "start_time": "2021-12-24T15:02:52.531Z"
   },
   {
    "duration": 14,
    "start_time": "2021-12-24T15:02:52.571Z"
   },
   {
    "duration": 10,
    "start_time": "2021-12-24T15:02:52.586Z"
   },
   {
    "duration": 634,
    "start_time": "2021-12-24T15:02:52.597Z"
   },
   {
    "duration": 20,
    "start_time": "2021-12-24T15:02:53.232Z"
   },
   {
    "duration": 8,
    "start_time": "2021-12-24T15:02:53.254Z"
   },
   {
    "duration": 102,
    "start_time": "2021-12-24T15:02:53.263Z"
   },
   {
    "duration": 15,
    "start_time": "2021-12-24T15:02:53.367Z"
   },
   {
    "duration": 47,
    "start_time": "2021-12-24T15:02:53.383Z"
   },
   {
    "duration": 14,
    "start_time": "2021-12-24T15:02:53.431Z"
   },
   {
    "duration": 53,
    "start_time": "2021-12-24T15:02:53.446Z"
   },
   {
    "duration": 6,
    "start_time": "2021-12-24T15:02:53.501Z"
   },
   {
    "duration": 8,
    "start_time": "2021-12-24T15:02:53.508Z"
   },
   {
    "duration": 11,
    "start_time": "2021-12-24T15:02:53.518Z"
   },
   {
    "duration": 31,
    "start_time": "2021-12-24T15:02:53.530Z"
   },
   {
    "duration": 105,
    "start_time": "2021-12-24T15:02:53.563Z"
   },
   {
    "duration": 19,
    "start_time": "2021-12-24T15:02:53.670Z"
   },
   {
    "duration": 12,
    "start_time": "2021-12-24T15:02:53.690Z"
   },
   {
    "duration": 47,
    "start_time": "2021-12-24T15:02:53.703Z"
   },
   {
    "duration": 13,
    "start_time": "2021-12-24T15:02:53.752Z"
   },
   {
    "duration": 24,
    "start_time": "2021-12-24T15:02:53.766Z"
   },
   {
    "duration": 28,
    "start_time": "2021-12-24T15:02:53.791Z"
   },
   {
    "duration": 10,
    "start_time": "2021-12-24T15:02:53.841Z"
   },
   {
    "duration": 18,
    "start_time": "2021-12-24T15:02:53.853Z"
   },
   {
    "duration": 107,
    "start_time": "2021-12-24T15:02:53.873Z"
   },
   {
    "duration": 12,
    "start_time": "2021-12-24T15:02:53.982Z"
   },
   {
    "duration": 19,
    "start_time": "2021-12-24T15:02:53.998Z"
   },
   {
    "duration": 36,
    "start_time": "2021-12-24T15:02:54.019Z"
   },
   {
    "duration": 16,
    "start_time": "2021-12-24T15:02:54.057Z"
   },
   {
    "duration": 106,
    "start_time": "2021-12-24T15:02:54.075Z"
   },
   {
    "duration": 26,
    "start_time": "2021-12-24T15:02:54.182Z"
   },
   {
    "duration": 7,
    "start_time": "2021-12-24T15:02:54.210Z"
   },
   {
    "duration": 72,
    "start_time": "2021-12-24T15:02:54.219Z"
   },
   {
    "duration": 14,
    "start_time": "2021-12-24T15:02:54.293Z"
   },
   {
    "duration": 22,
    "start_time": "2021-12-24T15:02:54.309Z"
   },
   {
    "duration": 41,
    "start_time": "2021-12-24T15:02:54.333Z"
   },
   {
    "duration": 5,
    "start_time": "2021-12-24T15:02:54.376Z"
   },
   {
    "duration": 32,
    "start_time": "2021-12-24T15:02:54.382Z"
   },
   {
    "duration": 14,
    "start_time": "2021-12-24T15:02:54.415Z"
   },
   {
    "duration": 23,
    "start_time": "2021-12-24T15:02:54.431Z"
   },
   {
    "duration": 19,
    "start_time": "2021-12-24T15:02:54.456Z"
   },
   {
    "duration": 14,
    "start_time": "2021-12-24T15:02:54.477Z"
   },
   {
    "duration": 29,
    "start_time": "2021-12-24T15:58:59.820Z"
   },
   {
    "duration": 12,
    "start_time": "2021-12-24T15:59:21.540Z"
   },
   {
    "duration": 9,
    "start_time": "2021-12-24T16:01:35.311Z"
   },
   {
    "duration": 4,
    "start_time": "2021-12-24T16:01:39.401Z"
   },
   {
    "duration": 35,
    "start_time": "2021-12-24T16:01:39.407Z"
   },
   {
    "duration": 23,
    "start_time": "2021-12-24T16:01:39.444Z"
   },
   {
    "duration": 9,
    "start_time": "2021-12-24T16:01:39.470Z"
   },
   {
    "duration": 222,
    "start_time": "2021-12-24T16:01:39.481Z"
   },
   {
    "duration": 10,
    "start_time": "2021-12-24T16:01:39.705Z"
   },
   {
    "duration": 45,
    "start_time": "2021-12-24T16:01:39.718Z"
   },
   {
    "duration": 82,
    "start_time": "2021-12-24T16:01:39.767Z"
   },
   {
    "duration": 10,
    "start_time": "2021-12-24T16:01:39.852Z"
   },
   {
    "duration": 18,
    "start_time": "2021-12-24T16:01:39.863Z"
   },
   {
    "duration": 132,
    "start_time": "2021-12-24T16:01:39.882Z"
   },
   {
    "duration": 8,
    "start_time": "2021-12-24T16:01:40.016Z"
   },
   {
    "duration": 34,
    "start_time": "2021-12-24T16:01:40.026Z"
   },
   {
    "duration": 21,
    "start_time": "2021-12-24T16:01:40.063Z"
   },
   {
    "duration": 12,
    "start_time": "2021-12-24T16:01:40.086Z"
   },
   {
    "duration": 8,
    "start_time": "2021-12-24T16:01:40.100Z"
   },
   {
    "duration": 9,
    "start_time": "2021-12-24T16:01:40.110Z"
   },
   {
    "duration": 7,
    "start_time": "2021-12-24T16:01:40.120Z"
   },
   {
    "duration": 24,
    "start_time": "2021-12-24T16:01:40.129Z"
   },
   {
    "duration": 8,
    "start_time": "2021-12-24T16:01:40.155Z"
   },
   {
    "duration": 14,
    "start_time": "2021-12-24T16:01:40.165Z"
   },
   {
    "duration": 14,
    "start_time": "2021-12-24T16:01:40.180Z"
   },
   {
    "duration": 15,
    "start_time": "2021-12-24T16:01:40.197Z"
   },
   {
    "duration": 8,
    "start_time": "2021-12-24T16:01:40.215Z"
   },
   {
    "duration": 12,
    "start_time": "2021-12-24T16:01:40.224Z"
   },
   {
    "duration": 16,
    "start_time": "2021-12-24T16:01:40.238Z"
   },
   {
    "duration": 10,
    "start_time": "2021-12-24T16:01:40.258Z"
   },
   {
    "duration": 286,
    "start_time": "2021-12-24T16:01:40.270Z"
   },
   {
    "duration": 41,
    "start_time": "2021-12-24T16:01:40.558Z"
   },
   {
    "duration": 16,
    "start_time": "2021-12-24T16:01:40.601Z"
   },
   {
    "duration": 40,
    "start_time": "2021-12-24T16:01:40.620Z"
   },
   {
    "duration": 972,
    "start_time": "2021-12-24T16:01:40.662Z"
   },
   {
    "duration": 9,
    "start_time": "2021-12-24T16:01:41.641Z"
   },
   {
    "duration": 20,
    "start_time": "2021-12-24T16:01:41.652Z"
   },
   {
    "duration": 83,
    "start_time": "2021-12-24T16:01:41.673Z"
   },
   {
    "duration": 21,
    "start_time": "2021-12-24T16:01:41.758Z"
   },
   {
    "duration": 23,
    "start_time": "2021-12-24T16:01:41.781Z"
   },
   {
    "duration": 11,
    "start_time": "2021-12-24T16:01:41.806Z"
   },
   {
    "duration": 71,
    "start_time": "2021-12-24T16:01:41.819Z"
   },
   {
    "duration": 6,
    "start_time": "2021-12-24T16:01:41.892Z"
   },
   {
    "duration": 9,
    "start_time": "2021-12-24T16:01:41.900Z"
   },
   {
    "duration": 9,
    "start_time": "2021-12-24T16:01:41.911Z"
   },
   {
    "duration": 9,
    "start_time": "2021-12-24T16:01:41.942Z"
   },
   {
    "duration": 117,
    "start_time": "2021-12-24T16:01:41.953Z"
   },
   {
    "duration": 22,
    "start_time": "2021-12-24T16:01:42.072Z"
   },
   {
    "duration": 7,
    "start_time": "2021-12-24T16:01:42.096Z"
   },
   {
    "duration": 67,
    "start_time": "2021-12-24T16:01:42.105Z"
   },
   {
    "duration": 10,
    "start_time": "2021-12-24T16:01:42.174Z"
   },
   {
    "duration": 22,
    "start_time": "2021-12-24T16:01:42.185Z"
   },
   {
    "duration": 45,
    "start_time": "2021-12-24T16:01:42.209Z"
   },
   {
    "duration": 7,
    "start_time": "2021-12-24T16:01:42.259Z"
   },
   {
    "duration": 11,
    "start_time": "2021-12-24T16:01:42.267Z"
   },
   {
    "duration": 120,
    "start_time": "2021-12-24T16:01:42.279Z"
   },
   {
    "duration": 12,
    "start_time": "2021-12-24T16:01:42.401Z"
   },
   {
    "duration": 37,
    "start_time": "2021-12-24T16:01:42.415Z"
   },
   {
    "duration": 19,
    "start_time": "2021-12-24T16:01:42.455Z"
   },
   {
    "duration": 9,
    "start_time": "2021-12-24T16:01:42.476Z"
   },
   {
    "duration": 112,
    "start_time": "2021-12-24T16:01:42.487Z"
   },
   {
    "duration": 22,
    "start_time": "2021-12-24T16:01:42.601Z"
   },
   {
    "duration": 28,
    "start_time": "2021-12-24T16:01:42.624Z"
   },
   {
    "duration": 65,
    "start_time": "2021-12-24T16:01:42.657Z"
   },
   {
    "duration": 19,
    "start_time": "2021-12-24T16:01:42.724Z"
   },
   {
    "duration": 26,
    "start_time": "2021-12-24T16:01:42.746Z"
   },
   {
    "duration": 33,
    "start_time": "2021-12-24T16:01:42.774Z"
   },
   {
    "duration": 6,
    "start_time": "2021-12-24T16:01:42.809Z"
   },
   {
    "duration": 50,
    "start_time": "2021-12-24T16:01:42.817Z"
   },
   {
    "duration": 16,
    "start_time": "2021-12-24T16:01:42.869Z"
   },
   {
    "duration": 6,
    "start_time": "2021-12-24T16:01:42.891Z"
   },
   {
    "duration": 10,
    "start_time": "2021-12-24T16:01:42.899Z"
   },
   {
    "duration": 34,
    "start_time": "2021-12-24T16:01:42.910Z"
   },
   {
    "duration": 572,
    "start_time": "2021-12-24T16:02:58.903Z"
   },
   {
    "duration": 6,
    "start_time": "2021-12-24T16:23:56.872Z"
   },
   {
    "duration": 16,
    "start_time": "2021-12-24T16:28:36.317Z"
   },
   {
    "duration": 12,
    "start_time": "2021-12-24T16:30:49.517Z"
   },
   {
    "duration": 38,
    "start_time": "2021-12-24T16:40:11.645Z"
   },
   {
    "duration": 8,
    "start_time": "2021-12-24T16:42:21.422Z"
   },
   {
    "duration": 4,
    "start_time": "2021-12-24T16:48:12.345Z"
   },
   {
    "duration": 78,
    "start_time": "2021-12-24T16:48:12.357Z"
   },
   {
    "duration": 24,
    "start_time": "2021-12-24T16:48:12.437Z"
   },
   {
    "duration": 9,
    "start_time": "2021-12-24T16:48:12.463Z"
   },
   {
    "duration": 185,
    "start_time": "2021-12-24T16:48:12.473Z"
   },
   {
    "duration": 8,
    "start_time": "2021-12-24T16:48:12.660Z"
   },
   {
    "duration": 22,
    "start_time": "2021-12-24T16:48:12.670Z"
   },
   {
    "duration": 91,
    "start_time": "2021-12-24T16:48:12.693Z"
   },
   {
    "duration": 7,
    "start_time": "2021-12-24T16:48:12.786Z"
   },
   {
    "duration": 17,
    "start_time": "2021-12-24T16:48:12.795Z"
   },
   {
    "duration": 148,
    "start_time": "2021-12-24T16:48:12.814Z"
   },
   {
    "duration": 8,
    "start_time": "2021-12-24T16:48:12.964Z"
   },
   {
    "duration": 19,
    "start_time": "2021-12-24T16:48:12.975Z"
   },
   {
    "duration": 18,
    "start_time": "2021-12-24T16:48:12.996Z"
   },
   {
    "duration": 14,
    "start_time": "2021-12-24T16:48:13.016Z"
   },
   {
    "duration": 6,
    "start_time": "2021-12-24T16:48:13.043Z"
   },
   {
    "duration": 18,
    "start_time": "2021-12-24T16:48:13.051Z"
   },
   {
    "duration": 6,
    "start_time": "2021-12-24T16:48:13.071Z"
   },
   {
    "duration": 11,
    "start_time": "2021-12-24T16:48:13.078Z"
   },
   {
    "duration": 7,
    "start_time": "2021-12-24T16:48:13.091Z"
   },
   {
    "duration": 17,
    "start_time": "2021-12-24T16:48:13.099Z"
   },
   {
    "duration": 12,
    "start_time": "2021-12-24T16:48:13.117Z"
   },
   {
    "duration": 30,
    "start_time": "2021-12-24T16:48:13.130Z"
   },
   {
    "duration": 13,
    "start_time": "2021-12-24T16:48:13.165Z"
   },
   {
    "duration": 11,
    "start_time": "2021-12-24T16:48:13.180Z"
   },
   {
    "duration": 20,
    "start_time": "2021-12-24T16:48:13.193Z"
   },
   {
    "duration": 9,
    "start_time": "2021-12-24T16:48:13.215Z"
   },
   {
    "duration": 274,
    "start_time": "2021-12-24T16:48:13.225Z"
   },
   {
    "duration": 28,
    "start_time": "2021-12-24T16:48:13.501Z"
   },
   {
    "duration": 24,
    "start_time": "2021-12-24T16:48:13.540Z"
   },
   {
    "duration": 12,
    "start_time": "2021-12-24T16:48:13.566Z"
   },
   {
    "duration": 643,
    "start_time": "2021-12-24T16:48:13.579Z"
   },
   {
    "duration": 8,
    "start_time": "2021-12-24T16:48:14.223Z"
   },
   {
    "duration": 27,
    "start_time": "2021-12-24T16:48:14.233Z"
   },
   {
    "duration": 77,
    "start_time": "2021-12-24T16:48:14.262Z"
   },
   {
    "duration": 22,
    "start_time": "2021-12-24T16:48:14.341Z"
   },
   {
    "duration": 28,
    "start_time": "2021-12-24T16:48:14.365Z"
   },
   {
    "duration": 12,
    "start_time": "2021-12-24T16:48:14.395Z"
   },
   {
    "duration": 68,
    "start_time": "2021-12-24T16:48:14.409Z"
   },
   {
    "duration": 7,
    "start_time": "2021-12-24T16:48:14.479Z"
   },
   {
    "duration": 7,
    "start_time": "2021-12-24T16:48:14.488Z"
   },
   {
    "duration": 9,
    "start_time": "2021-12-24T16:48:14.497Z"
   },
   {
    "duration": 40,
    "start_time": "2021-12-24T16:48:14.507Z"
   },
   {
    "duration": 122,
    "start_time": "2021-12-24T16:48:14.549Z"
   },
   {
    "duration": 21,
    "start_time": "2021-12-24T16:48:14.673Z"
   },
   {
    "duration": 6,
    "start_time": "2021-12-24T16:48:14.696Z"
   },
   {
    "duration": 66,
    "start_time": "2021-12-24T16:48:14.704Z"
   },
   {
    "duration": 12,
    "start_time": "2021-12-24T16:48:14.771Z"
   },
   {
    "duration": 23,
    "start_time": "2021-12-24T16:48:14.785Z"
   },
   {
    "duration": 53,
    "start_time": "2021-12-24T16:48:14.810Z"
   },
   {
    "duration": 7,
    "start_time": "2021-12-24T16:48:14.866Z"
   },
   {
    "duration": 11,
    "start_time": "2021-12-24T16:48:14.874Z"
   },
   {
    "duration": 130,
    "start_time": "2021-12-24T16:48:14.886Z"
   },
   {
    "duration": 32,
    "start_time": "2021-12-24T16:48:15.018Z"
   },
   {
    "duration": 17,
    "start_time": "2021-12-24T16:48:15.053Z"
   },
   {
    "duration": 18,
    "start_time": "2021-12-24T16:48:15.071Z"
   },
   {
    "duration": 10,
    "start_time": "2021-12-24T16:48:15.091Z"
   },
   {
    "duration": 11,
    "start_time": "2021-12-24T16:48:15.103Z"
   },
   {
    "duration": 57,
    "start_time": "2021-12-24T16:48:15.115Z"
   },
   {
    "duration": 7,
    "start_time": "2021-12-24T16:48:15.174Z"
   },
   {
    "duration": 84,
    "start_time": "2021-12-24T16:48:15.184Z"
   },
   {
    "duration": 11,
    "start_time": "2021-12-24T16:48:15.270Z"
   },
   {
    "duration": 20,
    "start_time": "2021-12-24T16:48:15.283Z"
   },
   {
    "duration": 44,
    "start_time": "2021-12-24T16:48:15.304Z"
   },
   {
    "duration": 8,
    "start_time": "2021-12-24T16:48:15.350Z"
   },
   {
    "duration": 24,
    "start_time": "2021-12-24T16:48:15.361Z"
   },
   {
    "duration": 14,
    "start_time": "2021-12-24T16:48:15.386Z"
   },
   {
    "duration": 10,
    "start_time": "2021-12-24T16:48:15.401Z"
   },
   {
    "duration": 34,
    "start_time": "2021-12-24T16:48:15.415Z"
   },
   {
    "duration": 8,
    "start_time": "2021-12-24T16:48:15.451Z"
   },
   {
    "duration": 13,
    "start_time": "2021-12-24T17:03:13.086Z"
   },
   {
    "duration": 12,
    "start_time": "2021-12-24T17:04:05.504Z"
   },
   {
    "duration": 13,
    "start_time": "2021-12-24T17:24:48.078Z"
   },
   {
    "duration": 22,
    "start_time": "2021-12-24T18:36:39.405Z"
   },
   {
    "duration": 17,
    "start_time": "2021-12-24T18:36:42.342Z"
   },
   {
    "duration": 3,
    "start_time": "2021-12-24T19:04:58.111Z"
   },
   {
    "duration": 42,
    "start_time": "2021-12-24T19:04:58.118Z"
   },
   {
    "duration": 9,
    "start_time": "2021-12-24T19:04:58.162Z"
   },
   {
    "duration": 8,
    "start_time": "2021-12-24T19:04:58.173Z"
   },
   {
    "duration": 164,
    "start_time": "2021-12-24T19:04:58.182Z"
   },
   {
    "duration": 9,
    "start_time": "2021-12-24T19:04:58.347Z"
   },
   {
    "duration": 24,
    "start_time": "2021-12-24T19:04:58.357Z"
   },
   {
    "duration": 91,
    "start_time": "2021-12-24T19:04:58.383Z"
   },
   {
    "duration": 7,
    "start_time": "2021-12-24T19:04:58.476Z"
   },
   {
    "duration": 17,
    "start_time": "2021-12-24T19:04:58.485Z"
   },
   {
    "duration": 132,
    "start_time": "2021-12-24T19:04:58.504Z"
   },
   {
    "duration": 8,
    "start_time": "2021-12-24T19:04:58.638Z"
   },
   {
    "duration": 33,
    "start_time": "2021-12-24T19:04:58.647Z"
   },
   {
    "duration": 16,
    "start_time": "2021-12-24T19:04:58.682Z"
   },
   {
    "duration": 20,
    "start_time": "2021-12-24T19:04:58.700Z"
   },
   {
    "duration": 23,
    "start_time": "2021-12-24T19:04:58.722Z"
   },
   {
    "duration": 19,
    "start_time": "2021-12-24T19:04:58.747Z"
   },
   {
    "duration": 12,
    "start_time": "2021-12-24T19:04:58.767Z"
   },
   {
    "duration": 15,
    "start_time": "2021-12-24T19:04:58.780Z"
   },
   {
    "duration": 11,
    "start_time": "2021-12-24T19:04:58.796Z"
   },
   {
    "duration": 16,
    "start_time": "2021-12-24T19:04:58.808Z"
   },
   {
    "duration": 21,
    "start_time": "2021-12-24T19:04:58.825Z"
   },
   {
    "duration": 18,
    "start_time": "2021-12-24T19:04:58.847Z"
   },
   {
    "duration": 6,
    "start_time": "2021-12-24T19:04:58.867Z"
   },
   {
    "duration": 13,
    "start_time": "2021-12-24T19:04:58.875Z"
   },
   {
    "duration": 12,
    "start_time": "2021-12-24T19:04:58.890Z"
   },
   {
    "duration": 20,
    "start_time": "2021-12-24T19:04:58.904Z"
   },
   {
    "duration": 291,
    "start_time": "2021-12-24T19:04:58.928Z"
   },
   {
    "duration": 48,
    "start_time": "2021-12-24T19:04:59.222Z"
   },
   {
    "duration": 16,
    "start_time": "2021-12-24T19:04:59.272Z"
   },
   {
    "duration": 10,
    "start_time": "2021-12-24T19:04:59.290Z"
   },
   {
    "duration": 701,
    "start_time": "2021-12-24T19:04:59.302Z"
   },
   {
    "duration": 9,
    "start_time": "2021-12-24T19:05:00.005Z"
   },
   {
    "duration": 6,
    "start_time": "2021-12-24T19:05:00.016Z"
   },
   {
    "duration": 93,
    "start_time": "2021-12-24T19:05:00.024Z"
   },
   {
    "duration": 38,
    "start_time": "2021-12-24T19:05:00.119Z"
   },
   {
    "duration": 27,
    "start_time": "2021-12-24T19:05:00.159Z"
   },
   {
    "duration": 21,
    "start_time": "2021-12-24T19:05:00.188Z"
   },
   {
    "duration": 66,
    "start_time": "2021-12-24T19:05:00.211Z"
   },
   {
    "duration": 9,
    "start_time": "2021-12-24T19:05:00.279Z"
   },
   {
    "duration": 12,
    "start_time": "2021-12-24T19:05:00.289Z"
   },
   {
    "duration": 17,
    "start_time": "2021-12-24T19:05:00.303Z"
   },
   {
    "duration": 30,
    "start_time": "2021-12-24T19:05:00.322Z"
   },
   {
    "duration": 111,
    "start_time": "2021-12-24T19:05:00.354Z"
   },
   {
    "duration": 20,
    "start_time": "2021-12-24T19:05:00.466Z"
   },
   {
    "duration": 7,
    "start_time": "2021-12-24T19:05:00.487Z"
   },
   {
    "duration": 57,
    "start_time": "2021-12-24T19:05:00.496Z"
   },
   {
    "duration": 11,
    "start_time": "2021-12-24T19:05:00.555Z"
   },
   {
    "duration": 23,
    "start_time": "2021-12-24T19:05:00.568Z"
   },
   {
    "duration": 48,
    "start_time": "2021-12-24T19:05:00.593Z"
   },
   {
    "duration": 14,
    "start_time": "2021-12-24T19:05:00.643Z"
   },
   {
    "duration": 11,
    "start_time": "2021-12-24T19:05:00.658Z"
   },
   {
    "duration": 133,
    "start_time": "2021-12-24T19:05:00.670Z"
   },
   {
    "duration": 12,
    "start_time": "2021-12-24T19:05:00.805Z"
   },
   {
    "duration": 38,
    "start_time": "2021-12-24T19:05:00.819Z"
   },
   {
    "duration": 19,
    "start_time": "2021-12-24T19:05:00.859Z"
   },
   {
    "duration": 10,
    "start_time": "2021-12-24T19:05:00.880Z"
   },
   {
    "duration": 12,
    "start_time": "2021-12-24T19:05:00.892Z"
   },
   {
    "duration": 51,
    "start_time": "2021-12-24T19:05:00.905Z"
   },
   {
    "duration": 7,
    "start_time": "2021-12-24T19:05:00.958Z"
   },
   {
    "duration": 76,
    "start_time": "2021-12-24T19:05:00.966Z"
   },
   {
    "duration": 16,
    "start_time": "2021-12-24T19:05:01.047Z"
   },
   {
    "duration": 39,
    "start_time": "2021-12-24T19:05:01.065Z"
   },
   {
    "duration": 36,
    "start_time": "2021-12-24T19:05:01.106Z"
   },
   {
    "duration": 10,
    "start_time": "2021-12-24T19:05:01.146Z"
   },
   {
    "duration": 16,
    "start_time": "2021-12-24T19:05:01.158Z"
   },
   {
    "duration": 27,
    "start_time": "2021-12-24T19:05:01.176Z"
   },
   {
    "duration": 13,
    "start_time": "2021-12-24T19:05:01.205Z"
   },
   {
    "duration": 27,
    "start_time": "2021-12-24T19:05:01.220Z"
   },
   {
    "duration": 12,
    "start_time": "2021-12-24T19:05:01.250Z"
   },
   {
    "duration": 16,
    "start_time": "2021-12-24T19:05:01.263Z"
   },
   {
    "duration": 7,
    "start_time": "2021-12-24T19:05:24.840Z"
   },
   {
    "duration": 41,
    "start_time": "2021-12-24T19:05:24.850Z"
   },
   {
    "duration": 11,
    "start_time": "2021-12-24T19:05:24.893Z"
   },
   {
    "duration": 9,
    "start_time": "2021-12-24T19:05:24.906Z"
   },
   {
    "duration": 216,
    "start_time": "2021-12-24T19:05:24.917Z"
   },
   {
    "duration": 10,
    "start_time": "2021-12-24T19:05:25.141Z"
   },
   {
    "duration": 45,
    "start_time": "2021-12-24T19:05:25.153Z"
   },
   {
    "duration": 88,
    "start_time": "2021-12-24T19:05:25.200Z"
   },
   {
    "duration": 7,
    "start_time": "2021-12-24T19:05:25.291Z"
   },
   {
    "duration": 18,
    "start_time": "2021-12-24T19:05:25.299Z"
   },
   {
    "duration": 144,
    "start_time": "2021-12-24T19:05:25.319Z"
   },
   {
    "duration": 10,
    "start_time": "2021-12-24T19:05:25.466Z"
   },
   {
    "duration": 17,
    "start_time": "2021-12-24T19:05:25.477Z"
   },
   {
    "duration": 18,
    "start_time": "2021-12-24T19:05:25.495Z"
   },
   {
    "duration": 9,
    "start_time": "2021-12-24T19:05:25.514Z"
   },
   {
    "duration": 8,
    "start_time": "2021-12-24T19:05:25.524Z"
   },
   {
    "duration": 14,
    "start_time": "2021-12-24T19:05:25.545Z"
   },
   {
    "duration": 10,
    "start_time": "2021-12-24T19:05:25.561Z"
   },
   {
    "duration": 8,
    "start_time": "2021-12-24T19:05:25.573Z"
   },
   {
    "duration": 15,
    "start_time": "2021-12-24T19:05:25.582Z"
   },
   {
    "duration": 11,
    "start_time": "2021-12-24T19:05:25.599Z"
   },
   {
    "duration": 10,
    "start_time": "2021-12-24T19:05:25.612Z"
   },
   {
    "duration": 10,
    "start_time": "2021-12-24T19:05:25.626Z"
   },
   {
    "duration": 14,
    "start_time": "2021-12-24T19:05:25.640Z"
   },
   {
    "duration": 18,
    "start_time": "2021-12-24T19:05:25.655Z"
   },
   {
    "duration": 11,
    "start_time": "2021-12-24T19:05:25.674Z"
   },
   {
    "duration": 12,
    "start_time": "2021-12-24T19:05:25.686Z"
   },
   {
    "duration": 246,
    "start_time": "2021-12-24T19:05:25.699Z"
   },
   {
    "duration": 30,
    "start_time": "2021-12-24T19:05:25.947Z"
   },
   {
    "duration": 13,
    "start_time": "2021-12-24T19:05:25.979Z"
   },
   {
    "duration": 11,
    "start_time": "2021-12-24T19:05:25.993Z"
   },
   {
    "duration": 690,
    "start_time": "2021-12-24T19:05:26.005Z"
   },
   {
    "duration": 9,
    "start_time": "2021-12-24T19:05:26.697Z"
   },
   {
    "duration": 6,
    "start_time": "2021-12-24T19:05:26.707Z"
   },
   {
    "duration": 92,
    "start_time": "2021-12-24T19:05:26.715Z"
   },
   {
    "duration": 15,
    "start_time": "2021-12-24T19:05:26.809Z"
   },
   {
    "duration": 23,
    "start_time": "2021-12-24T19:05:26.842Z"
   },
   {
    "duration": 11,
    "start_time": "2021-12-24T19:05:26.866Z"
   },
   {
    "duration": 40,
    "start_time": "2021-12-24T19:05:26.879Z"
   },
   {
    "duration": 8,
    "start_time": "2021-12-24T19:05:26.941Z"
   },
   {
    "duration": 20,
    "start_time": "2021-12-24T19:05:26.951Z"
   },
   {
    "duration": 10,
    "start_time": "2021-12-24T19:05:26.972Z"
   },
   {
    "duration": 8,
    "start_time": "2021-12-24T19:05:26.984Z"
   },
   {
    "duration": 109,
    "start_time": "2021-12-24T19:05:26.994Z"
   },
   {
    "duration": 18,
    "start_time": "2021-12-24T19:05:27.105Z"
   },
   {
    "duration": 22,
    "start_time": "2021-12-24T19:05:27.125Z"
   },
   {
    "duration": 40,
    "start_time": "2021-12-24T19:05:27.154Z"
   },
   {
    "duration": 11,
    "start_time": "2021-12-24T19:05:27.195Z"
   },
   {
    "duration": 20,
    "start_time": "2021-12-24T19:05:27.208Z"
   },
   {
    "duration": 45,
    "start_time": "2021-12-24T19:05:27.229Z"
   },
   {
    "duration": 6,
    "start_time": "2021-12-24T19:05:27.276Z"
   },
   {
    "duration": 9,
    "start_time": "2021-12-24T19:05:27.284Z"
   },
   {
    "duration": 132,
    "start_time": "2021-12-24T19:05:27.295Z"
   },
   {
    "duration": 24,
    "start_time": "2021-12-24T19:05:27.428Z"
   },
   {
    "duration": 16,
    "start_time": "2021-12-24T19:05:27.454Z"
   },
   {
    "duration": 2,
    "start_time": "2021-12-24T19:05:27.472Z"
   },
   {
    "duration": 17,
    "start_time": "2021-12-24T19:05:27.476Z"
   },
   {
    "duration": 13,
    "start_time": "2021-12-24T19:05:27.495Z"
   },
   {
    "duration": 57,
    "start_time": "2021-12-24T19:05:27.510Z"
   },
   {
    "duration": 8,
    "start_time": "2021-12-24T19:05:27.569Z"
   },
   {
    "duration": 76,
    "start_time": "2021-12-24T19:05:27.579Z"
   },
   {
    "duration": 13,
    "start_time": "2021-12-24T19:05:27.657Z"
   },
   {
    "duration": 20,
    "start_time": "2021-12-24T19:05:27.672Z"
   },
   {
    "duration": 62,
    "start_time": "2021-12-24T19:05:27.694Z"
   },
   {
    "duration": 7,
    "start_time": "2021-12-24T19:05:27.757Z"
   },
   {
    "duration": 17,
    "start_time": "2021-12-24T19:05:27.766Z"
   },
   {
    "duration": 24,
    "start_time": "2021-12-24T19:05:27.784Z"
   },
   {
    "duration": 43,
    "start_time": "2021-12-24T19:05:27.812Z"
   },
   {
    "duration": 7,
    "start_time": "2021-12-24T19:05:27.857Z"
   },
   {
    "duration": 11,
    "start_time": "2021-12-24T19:05:27.865Z"
   },
   {
    "duration": 8,
    "start_time": "2021-12-24T19:05:27.878Z"
   },
   {
    "duration": 13,
    "start_time": "2021-12-24T19:14:56.802Z"
   },
   {
    "duration": 8,
    "start_time": "2021-12-24T19:15:21.460Z"
   },
   {
    "duration": 9,
    "start_time": "2021-12-24T19:16:18.413Z"
   },
   {
    "duration": 254,
    "start_time": "2021-12-24T19:17:22.286Z"
   },
   {
    "duration": 15,
    "start_time": "2021-12-24T19:17:28.573Z"
   },
   {
    "duration": 18,
    "start_time": "2021-12-24T19:28:03.903Z"
   },
   {
    "duration": 917,
    "start_time": "2021-12-24T19:30:26.113Z"
   },
   {
    "duration": 6270,
    "start_time": "2021-12-24T19:30:53.584Z"
   },
   {
    "duration": 7098,
    "start_time": "2021-12-24T19:31:25.957Z"
   },
   {
    "duration": 15,
    "start_time": "2021-12-24T19:31:58.274Z"
   },
   {
    "duration": 23,
    "start_time": "2021-12-24T19:32:15.242Z"
   },
   {
    "duration": 18,
    "start_time": "2021-12-24T19:34:26.460Z"
   },
   {
    "duration": 18,
    "start_time": "2021-12-24T19:34:30.754Z"
   },
   {
    "duration": 7,
    "start_time": "2021-12-24T19:34:40.469Z"
   },
   {
    "duration": 20,
    "start_time": "2021-12-24T19:38:10.054Z"
   },
   {
    "duration": 18,
    "start_time": "2021-12-24T19:38:27.407Z"
   },
   {
    "duration": 19,
    "start_time": "2021-12-24T19:38:58.183Z"
   },
   {
    "duration": 18,
    "start_time": "2021-12-24T19:39:17.864Z"
   },
   {
    "duration": 16,
    "start_time": "2021-12-24T19:39:27.208Z"
   },
   {
    "duration": 17,
    "start_time": "2021-12-24T19:39:36.200Z"
   },
   {
    "duration": 3,
    "start_time": "2021-12-24T19:39:40.075Z"
   },
   {
    "duration": 32,
    "start_time": "2021-12-24T19:39:40.081Z"
   },
   {
    "duration": 13,
    "start_time": "2021-12-24T19:39:40.115Z"
   },
   {
    "duration": 10,
    "start_time": "2021-12-24T19:39:40.130Z"
   },
   {
    "duration": 155,
    "start_time": "2021-12-24T19:39:40.142Z"
   },
   {
    "duration": 6,
    "start_time": "2021-12-24T19:39:40.299Z"
   },
   {
    "duration": 39,
    "start_time": "2021-12-24T19:39:40.307Z"
   },
   {
    "duration": 84,
    "start_time": "2021-12-24T19:39:40.348Z"
   },
   {
    "duration": 8,
    "start_time": "2021-12-24T19:39:40.434Z"
   },
   {
    "duration": 36,
    "start_time": "2021-12-24T19:39:40.446Z"
   },
   {
    "duration": 132,
    "start_time": "2021-12-24T19:39:40.484Z"
   },
   {
    "duration": 8,
    "start_time": "2021-12-24T19:39:40.617Z"
   },
   {
    "duration": 32,
    "start_time": "2021-12-24T19:39:40.626Z"
   },
   {
    "duration": 16,
    "start_time": "2021-12-24T19:39:40.659Z"
   },
   {
    "duration": 11,
    "start_time": "2021-12-24T19:39:40.677Z"
   },
   {
    "duration": 7,
    "start_time": "2021-12-24T19:39:40.689Z"
   },
   {
    "duration": 13,
    "start_time": "2021-12-24T19:39:40.697Z"
   },
   {
    "duration": 5,
    "start_time": "2021-12-24T19:39:40.712Z"
   },
   {
    "duration": 9,
    "start_time": "2021-12-24T19:39:40.719Z"
   },
   {
    "duration": 14,
    "start_time": "2021-12-24T19:39:40.730Z"
   },
   {
    "duration": 20,
    "start_time": "2021-12-24T19:39:40.746Z"
   },
   {
    "duration": 15,
    "start_time": "2021-12-24T19:39:40.767Z"
   },
   {
    "duration": 9,
    "start_time": "2021-12-24T19:39:40.783Z"
   },
   {
    "duration": 7,
    "start_time": "2021-12-24T19:39:40.794Z"
   },
   {
    "duration": 10,
    "start_time": "2021-12-24T19:39:40.802Z"
   },
   {
    "duration": 10,
    "start_time": "2021-12-24T19:39:40.814Z"
   },
   {
    "duration": 11,
    "start_time": "2021-12-24T19:39:40.825Z"
   },
   {
    "duration": 234,
    "start_time": "2021-12-24T19:39:40.839Z"
   },
   {
    "duration": 28,
    "start_time": "2021-12-24T19:39:41.076Z"
   },
   {
    "duration": 14,
    "start_time": "2021-12-24T19:39:41.106Z"
   },
   {
    "duration": 20,
    "start_time": "2021-12-24T19:39:41.122Z"
   },
   {
    "duration": 684,
    "start_time": "2021-12-24T19:39:41.145Z"
   },
   {
    "duration": 13,
    "start_time": "2021-12-24T19:39:41.830Z"
   },
   {
    "duration": 11,
    "start_time": "2021-12-24T19:39:41.845Z"
   },
   {
    "duration": 68,
    "start_time": "2021-12-24T19:39:41.858Z"
   },
   {
    "duration": 34,
    "start_time": "2021-12-24T19:39:41.927Z"
   },
   {
    "duration": 24,
    "start_time": "2021-12-24T19:39:41.963Z"
   },
   {
    "duration": 10,
    "start_time": "2021-12-24T19:39:41.988Z"
   },
   {
    "duration": 62,
    "start_time": "2021-12-24T19:39:42.000Z"
   },
   {
    "duration": 6,
    "start_time": "2021-12-24T19:39:42.064Z"
   },
   {
    "duration": 8,
    "start_time": "2021-12-24T19:39:42.072Z"
   },
   {
    "duration": 13,
    "start_time": "2021-12-24T19:39:42.082Z"
   },
   {
    "duration": 11,
    "start_time": "2021-12-24T19:39:42.096Z"
   },
   {
    "duration": 128,
    "start_time": "2021-12-24T19:39:42.108Z"
   },
   {
    "duration": 27,
    "start_time": "2021-12-24T19:39:42.237Z"
   },
   {
    "duration": 10,
    "start_time": "2021-12-24T19:39:42.266Z"
   },
   {
    "duration": 35,
    "start_time": "2021-12-24T19:39:42.278Z"
   },
   {
    "duration": 27,
    "start_time": "2021-12-24T19:39:42.315Z"
   },
   {
    "duration": 21,
    "start_time": "2021-12-24T19:39:42.344Z"
   },
   {
    "duration": 45,
    "start_time": "2021-12-24T19:39:42.366Z"
   },
   {
    "duration": 16,
    "start_time": "2021-12-24T19:39:42.413Z"
   },
   {
    "duration": 17,
    "start_time": "2021-12-24T19:39:42.431Z"
   },
   {
    "duration": 129,
    "start_time": "2021-12-24T19:39:42.449Z"
   },
   {
    "duration": 12,
    "start_time": "2021-12-24T19:39:42.580Z"
   },
   {
    "duration": 25,
    "start_time": "2021-12-24T19:39:42.594Z"
   },
   {
    "duration": 4,
    "start_time": "2021-12-24T19:39:42.620Z"
   },
   {
    "duration": 42,
    "start_time": "2021-12-24T19:39:42.626Z"
   },
   {
    "duration": 23,
    "start_time": "2021-12-24T19:39:42.670Z"
   },
   {
    "duration": 25,
    "start_time": "2021-12-24T19:39:42.694Z"
   },
   {
    "duration": 9,
    "start_time": "2021-12-24T19:39:42.721Z"
   },
   {
    "duration": 75,
    "start_time": "2021-12-24T19:39:42.731Z"
   },
   {
    "duration": 12,
    "start_time": "2021-12-24T19:39:42.807Z"
   },
   {
    "duration": 55,
    "start_time": "2021-12-24T19:39:42.821Z"
   },
   {
    "duration": 43,
    "start_time": "2021-12-24T19:39:42.878Z"
   },
   {
    "duration": 7,
    "start_time": "2021-12-24T19:39:42.923Z"
   },
   {
    "duration": 39,
    "start_time": "2021-12-24T19:39:42.932Z"
   },
   {
    "duration": 43,
    "start_time": "2021-12-24T19:39:42.973Z"
   },
   {
    "duration": 16,
    "start_time": "2021-12-24T19:39:43.018Z"
   },
   {
    "duration": 23,
    "start_time": "2021-12-24T19:39:43.035Z"
   },
   {
    "duration": 15,
    "start_time": "2021-12-24T19:39:43.060Z"
   },
   {
    "duration": 21,
    "start_time": "2021-12-24T19:39:43.076Z"
   },
   {
    "duration": 18,
    "start_time": "2021-12-24T19:41:41.057Z"
   },
   {
    "duration": 20,
    "start_time": "2021-12-24T19:42:27.691Z"
   },
   {
    "duration": 27,
    "start_time": "2021-12-24T19:42:35.634Z"
   },
   {
    "duration": 18,
    "start_time": "2021-12-24T19:42:40.081Z"
   },
   {
    "duration": 17,
    "start_time": "2021-12-24T19:42:49.059Z"
   },
   {
    "duration": 3,
    "start_time": "2021-12-24T19:42:51.729Z"
   },
   {
    "duration": 35,
    "start_time": "2021-12-24T19:42:51.734Z"
   },
   {
    "duration": 9,
    "start_time": "2021-12-24T19:42:51.771Z"
   },
   {
    "duration": 10,
    "start_time": "2021-12-24T19:42:51.782Z"
   },
   {
    "duration": 178,
    "start_time": "2021-12-24T19:42:51.794Z"
   },
   {
    "duration": 7,
    "start_time": "2021-12-24T19:42:51.974Z"
   },
   {
    "duration": 28,
    "start_time": "2021-12-24T19:42:51.983Z"
   },
   {
    "duration": 94,
    "start_time": "2021-12-24T19:42:52.013Z"
   },
   {
    "duration": 6,
    "start_time": "2021-12-24T19:42:52.109Z"
   },
   {
    "duration": 24,
    "start_time": "2021-12-24T19:42:52.117Z"
   },
   {
    "duration": 144,
    "start_time": "2021-12-24T19:42:52.143Z"
   },
   {
    "duration": 9,
    "start_time": "2021-12-24T19:42:52.289Z"
   },
   {
    "duration": 19,
    "start_time": "2021-12-24T19:42:52.299Z"
   },
   {
    "duration": 22,
    "start_time": "2021-12-24T19:42:52.320Z"
   },
   {
    "duration": 22,
    "start_time": "2021-12-24T19:42:52.347Z"
   },
   {
    "duration": 8,
    "start_time": "2021-12-24T19:42:52.371Z"
   },
   {
    "duration": 10,
    "start_time": "2021-12-24T19:42:52.381Z"
   },
   {
    "duration": 6,
    "start_time": "2021-12-24T19:42:52.393Z"
   },
   {
    "duration": 6,
    "start_time": "2021-12-24T19:42:52.403Z"
   },
   {
    "duration": 36,
    "start_time": "2021-12-24T19:42:52.411Z"
   },
   {
    "duration": 17,
    "start_time": "2021-12-24T19:42:52.449Z"
   },
   {
    "duration": 8,
    "start_time": "2021-12-24T19:42:52.468Z"
   },
   {
    "duration": 9,
    "start_time": "2021-12-24T19:42:52.477Z"
   },
   {
    "duration": 8,
    "start_time": "2021-12-24T19:42:52.487Z"
   },
   {
    "duration": 6,
    "start_time": "2021-12-24T19:42:52.497Z"
   },
   {
    "duration": 9,
    "start_time": "2021-12-24T19:42:52.505Z"
   },
   {
    "duration": 26,
    "start_time": "2021-12-24T19:42:52.516Z"
   },
   {
    "duration": 260,
    "start_time": "2021-12-24T19:42:52.544Z"
   },
   {
    "duration": 37,
    "start_time": "2021-12-24T19:42:52.806Z"
   },
   {
    "duration": 16,
    "start_time": "2021-12-24T19:42:52.845Z"
   },
   {
    "duration": 14,
    "start_time": "2021-12-24T19:42:52.863Z"
   },
   {
    "duration": 716,
    "start_time": "2021-12-24T19:42:52.879Z"
   },
   {
    "duration": 8,
    "start_time": "2021-12-24T19:42:53.597Z"
   },
   {
    "duration": 7,
    "start_time": "2021-12-24T19:42:53.607Z"
   },
   {
    "duration": 95,
    "start_time": "2021-12-24T19:42:53.615Z"
   },
   {
    "duration": 16,
    "start_time": "2021-12-24T19:42:53.712Z"
   },
   {
    "duration": 42,
    "start_time": "2021-12-24T19:42:53.729Z"
   },
   {
    "duration": 11,
    "start_time": "2021-12-24T19:42:53.773Z"
   },
   {
    "duration": 64,
    "start_time": "2021-12-24T19:42:53.786Z"
   },
   {
    "duration": 10,
    "start_time": "2021-12-24T19:42:53.852Z"
   },
   {
    "duration": 11,
    "start_time": "2021-12-24T19:42:53.864Z"
   },
   {
    "duration": 17,
    "start_time": "2021-12-24T19:42:53.877Z"
   },
   {
    "duration": 8,
    "start_time": "2021-12-24T19:42:53.896Z"
   },
   {
    "duration": 111,
    "start_time": "2021-12-24T19:42:53.906Z"
   },
   {
    "duration": 35,
    "start_time": "2021-12-24T19:42:54.018Z"
   },
   {
    "duration": 9,
    "start_time": "2021-12-24T19:42:54.055Z"
   },
   {
    "duration": 37,
    "start_time": "2021-12-24T19:42:54.065Z"
   },
   {
    "duration": 13,
    "start_time": "2021-12-24T19:42:54.104Z"
   },
   {
    "duration": 39,
    "start_time": "2021-12-24T19:42:54.119Z"
   },
   {
    "duration": 29,
    "start_time": "2021-12-24T19:42:54.159Z"
   },
   {
    "duration": 6,
    "start_time": "2021-12-24T19:42:54.190Z"
   },
   {
    "duration": 12,
    "start_time": "2021-12-24T19:42:54.198Z"
   },
   {
    "duration": 142,
    "start_time": "2021-12-24T19:42:54.212Z"
   },
   {
    "duration": 16,
    "start_time": "2021-12-24T19:42:54.356Z"
   },
   {
    "duration": 16,
    "start_time": "2021-12-24T19:42:54.377Z"
   },
   {
    "duration": 2,
    "start_time": "2021-12-24T19:42:54.395Z"
   },
   {
    "duration": 48,
    "start_time": "2021-12-24T19:42:54.399Z"
   },
   {
    "duration": 17,
    "start_time": "2021-12-24T19:42:54.449Z"
   },
   {
    "duration": 35,
    "start_time": "2021-12-24T19:42:54.468Z"
   },
   {
    "duration": 7,
    "start_time": "2021-12-24T19:42:54.505Z"
   },
   {
    "duration": 75,
    "start_time": "2021-12-24T19:42:54.514Z"
   },
   {
    "duration": 12,
    "start_time": "2021-12-24T19:42:54.591Z"
   },
   {
    "duration": 18,
    "start_time": "2021-12-24T19:42:54.605Z"
   },
   {
    "duration": 52,
    "start_time": "2021-12-24T19:42:54.625Z"
   },
   {
    "duration": 7,
    "start_time": "2021-12-24T19:42:54.679Z"
   },
   {
    "duration": 14,
    "start_time": "2021-12-24T19:42:54.687Z"
   },
   {
    "duration": 46,
    "start_time": "2021-12-24T19:42:54.702Z"
   },
   {
    "duration": 20,
    "start_time": "2021-12-24T19:42:54.751Z"
   },
   {
    "duration": 7,
    "start_time": "2021-12-24T19:42:54.773Z"
   },
   {
    "duration": 10,
    "start_time": "2021-12-24T19:42:54.782Z"
   },
   {
    "duration": 7,
    "start_time": "2021-12-24T19:42:54.794Z"
   },
   {
    "duration": 23,
    "start_time": "2021-12-24T19:43:01.354Z"
   },
   {
    "duration": 27,
    "start_time": "2021-12-24T19:43:10.323Z"
   },
   {
    "duration": 16,
    "start_time": "2021-12-24T19:43:37.787Z"
   },
   {
    "duration": 5,
    "start_time": "2021-12-24T19:43:44.240Z"
   },
   {
    "duration": 39,
    "start_time": "2021-12-24T19:43:44.246Z"
   },
   {
    "duration": 9,
    "start_time": "2021-12-24T19:43:44.287Z"
   },
   {
    "duration": 10,
    "start_time": "2021-12-24T19:43:44.298Z"
   },
   {
    "duration": 159,
    "start_time": "2021-12-24T19:43:44.309Z"
   },
   {
    "duration": 7,
    "start_time": "2021-12-24T19:43:44.469Z"
   },
   {
    "duration": 20,
    "start_time": "2021-12-24T19:43:44.478Z"
   },
   {
    "duration": 86,
    "start_time": "2021-12-24T19:43:44.500Z"
   },
   {
    "duration": 7,
    "start_time": "2021-12-24T19:43:44.588Z"
   },
   {
    "duration": 14,
    "start_time": "2021-12-24T19:43:44.596Z"
   },
   {
    "duration": 140,
    "start_time": "2021-12-24T19:43:44.612Z"
   },
   {
    "duration": 7,
    "start_time": "2021-12-24T19:43:44.755Z"
   },
   {
    "duration": 17,
    "start_time": "2021-12-24T19:43:44.764Z"
   },
   {
    "duration": 17,
    "start_time": "2021-12-24T19:43:44.782Z"
   },
   {
    "duration": 9,
    "start_time": "2021-12-24T19:43:44.800Z"
   },
   {
    "duration": 6,
    "start_time": "2021-12-24T19:43:44.811Z"
   },
   {
    "duration": 10,
    "start_time": "2021-12-24T19:43:44.818Z"
   },
   {
    "duration": 21,
    "start_time": "2021-12-24T19:43:44.829Z"
   },
   {
    "duration": 8,
    "start_time": "2021-12-24T19:43:44.852Z"
   },
   {
    "duration": 6,
    "start_time": "2021-12-24T19:43:44.862Z"
   },
   {
    "duration": 17,
    "start_time": "2021-12-24T19:43:44.869Z"
   },
   {
    "duration": 10,
    "start_time": "2021-12-24T19:43:44.887Z"
   },
   {
    "duration": 8,
    "start_time": "2021-12-24T19:43:44.901Z"
   },
   {
    "duration": 5,
    "start_time": "2021-12-24T19:43:44.912Z"
   },
   {
    "duration": 11,
    "start_time": "2021-12-24T19:43:44.919Z"
   },
   {
    "duration": 10,
    "start_time": "2021-12-24T19:43:44.943Z"
   },
   {
    "duration": 14,
    "start_time": "2021-12-24T19:43:44.955Z"
   },
   {
    "duration": 248,
    "start_time": "2021-12-24T19:43:44.970Z"
   },
   {
    "duration": 36,
    "start_time": "2021-12-24T19:43:45.220Z"
   },
   {
    "duration": 16,
    "start_time": "2021-12-24T19:43:45.258Z"
   },
   {
    "duration": 13,
    "start_time": "2021-12-24T19:43:45.276Z"
   },
   {
    "duration": 635,
    "start_time": "2021-12-24T19:43:45.291Z"
   },
   {
    "duration": 17,
    "start_time": "2021-12-24T19:43:45.928Z"
   },
   {
    "duration": 8,
    "start_time": "2021-12-24T19:43:45.947Z"
   },
   {
    "duration": 73,
    "start_time": "2021-12-24T19:43:45.958Z"
   },
   {
    "duration": 27,
    "start_time": "2021-12-24T19:43:46.033Z"
   },
   {
    "duration": 29,
    "start_time": "2021-12-24T19:43:46.061Z"
   },
   {
    "duration": 9,
    "start_time": "2021-12-24T19:43:46.092Z"
   },
   {
    "duration": 54,
    "start_time": "2021-12-24T19:43:46.103Z"
   },
   {
    "duration": 7,
    "start_time": "2021-12-24T19:43:46.158Z"
   },
   {
    "duration": 7,
    "start_time": "2021-12-24T19:43:46.167Z"
   },
   {
    "duration": 9,
    "start_time": "2021-12-24T19:43:46.175Z"
   },
   {
    "duration": 7,
    "start_time": "2021-12-24T19:43:46.185Z"
   },
   {
    "duration": 124,
    "start_time": "2021-12-24T19:43:46.194Z"
   },
   {
    "duration": 29,
    "start_time": "2021-12-24T19:43:46.320Z"
   },
   {
    "duration": 9,
    "start_time": "2021-12-24T19:43:46.351Z"
   },
   {
    "duration": 38,
    "start_time": "2021-12-24T19:43:46.361Z"
   },
   {
    "duration": 11,
    "start_time": "2021-12-24T19:43:46.400Z"
   },
   {
    "duration": 41,
    "start_time": "2021-12-24T19:43:46.413Z"
   },
   {
    "duration": 29,
    "start_time": "2021-12-24T19:43:46.456Z"
   },
   {
    "duration": 6,
    "start_time": "2021-12-24T19:43:46.486Z"
   },
   {
    "duration": 9,
    "start_time": "2021-12-24T19:43:46.494Z"
   },
   {
    "duration": 119,
    "start_time": "2021-12-24T19:43:46.505Z"
   },
   {
    "duration": 21,
    "start_time": "2021-12-24T19:43:46.626Z"
   },
   {
    "duration": 18,
    "start_time": "2021-12-24T19:43:46.649Z"
   },
   {
    "duration": 2,
    "start_time": "2021-12-24T19:43:46.669Z"
   },
   {
    "duration": 18,
    "start_time": "2021-12-24T19:43:46.672Z"
   },
   {
    "duration": 11,
    "start_time": "2021-12-24T19:43:46.692Z"
   },
   {
    "duration": 50,
    "start_time": "2021-12-24T19:43:46.704Z"
   },
   {
    "duration": 9,
    "start_time": "2021-12-24T19:43:46.756Z"
   },
   {
    "duration": 49,
    "start_time": "2021-12-24T19:43:46.767Z"
   },
   {
    "duration": 40,
    "start_time": "2021-12-24T19:43:46.817Z"
   },
   {
    "duration": 16,
    "start_time": "2021-12-24T19:43:46.859Z"
   },
   {
    "duration": 30,
    "start_time": "2021-12-24T19:43:46.876Z"
   },
   {
    "duration": 6,
    "start_time": "2021-12-24T19:43:46.908Z"
   },
   {
    "duration": 38,
    "start_time": "2021-12-24T19:43:46.916Z"
   },
   {
    "duration": 24,
    "start_time": "2021-12-24T19:43:46.956Z"
   },
   {
    "duration": 16,
    "start_time": "2021-12-24T19:43:46.985Z"
   },
   {
    "duration": 5,
    "start_time": "2021-12-24T19:43:47.003Z"
   },
   {
    "duration": 44,
    "start_time": "2021-12-24T19:43:47.010Z"
   },
   {
    "duration": 12,
    "start_time": "2021-12-24T19:43:47.056Z"
   },
   {
    "duration": 16,
    "start_time": "2021-12-24T19:43:50.763Z"
   },
   {
    "duration": 20,
    "start_time": "2021-12-24T19:51:00.556Z"
   },
   {
    "duration": 24,
    "start_time": "2021-12-24T19:51:17.433Z"
   },
   {
    "duration": 22,
    "start_time": "2021-12-24T19:51:23.474Z"
   },
   {
    "duration": 11,
    "start_time": "2021-12-24T19:51:56.251Z"
   },
   {
    "duration": 20,
    "start_time": "2021-12-24T19:52:06.522Z"
   },
   {
    "duration": 855,
    "start_time": "2021-12-24T19:53:02.164Z"
   },
   {
    "duration": 22,
    "start_time": "2021-12-24T19:53:09.091Z"
   },
   {
    "duration": 21,
    "start_time": "2021-12-24T19:53:41.203Z"
   },
   {
    "duration": 250,
    "start_time": "2021-12-24T19:56:26.943Z"
   },
   {
    "duration": 251,
    "start_time": "2021-12-24T19:56:58.054Z"
   },
   {
    "duration": 250,
    "start_time": "2021-12-24T19:57:14.326Z"
   },
   {
    "duration": 15,
    "start_time": "2021-12-24T19:59:52.729Z"
   },
   {
    "duration": 17,
    "start_time": "2021-12-24T20:00:21.200Z"
   },
   {
    "duration": 9,
    "start_time": "2021-12-24T20:01:32.202Z"
   },
   {
    "duration": 15,
    "start_time": "2021-12-24T20:01:48.074Z"
   },
   {
    "duration": 17,
    "start_time": "2021-12-24T20:02:57.359Z"
   },
   {
    "duration": 15,
    "start_time": "2021-12-24T20:04:07.085Z"
   },
   {
    "duration": 257,
    "start_time": "2021-12-24T20:04:29.301Z"
   },
   {
    "duration": 12,
    "start_time": "2021-12-24T20:05:46.430Z"
   },
   {
    "duration": 3,
    "start_time": "2021-12-24T20:05:52.543Z"
   },
   {
    "duration": 35,
    "start_time": "2021-12-24T20:05:52.557Z"
   },
   {
    "duration": 18,
    "start_time": "2021-12-24T20:05:52.594Z"
   },
   {
    "duration": 30,
    "start_time": "2021-12-24T20:05:52.615Z"
   },
   {
    "duration": 201,
    "start_time": "2021-12-24T20:05:52.650Z"
   },
   {
    "duration": 9,
    "start_time": "2021-12-24T20:05:52.853Z"
   },
   {
    "duration": 242,
    "start_time": "2021-12-24T20:05:52.864Z"
   },
   {
    "duration": 86,
    "start_time": "2021-12-24T20:05:53.108Z"
   },
   {
    "duration": 7,
    "start_time": "2021-12-24T20:05:53.197Z"
   },
   {
    "duration": 14,
    "start_time": "2021-12-24T20:05:53.207Z"
   },
   {
    "duration": 152,
    "start_time": "2021-12-24T20:05:53.223Z"
   },
   {
    "duration": 8,
    "start_time": "2021-12-24T20:05:53.377Z"
   },
   {
    "duration": 19,
    "start_time": "2021-12-24T20:05:53.387Z"
   },
   {
    "duration": 17,
    "start_time": "2021-12-24T20:05:53.408Z"
   },
   {
    "duration": 11,
    "start_time": "2021-12-24T20:05:53.426Z"
   },
   {
    "duration": 26,
    "start_time": "2021-12-24T20:05:53.441Z"
   },
   {
    "duration": 10,
    "start_time": "2021-12-24T20:05:53.470Z"
   },
   {
    "duration": 8,
    "start_time": "2021-12-24T20:05:53.482Z"
   },
   {
    "duration": 9,
    "start_time": "2021-12-24T20:05:53.491Z"
   },
   {
    "duration": 10,
    "start_time": "2021-12-24T20:05:53.502Z"
   },
   {
    "duration": 11,
    "start_time": "2021-12-24T20:05:53.514Z"
   },
   {
    "duration": 11,
    "start_time": "2021-12-24T20:05:53.527Z"
   },
   {
    "duration": 17,
    "start_time": "2021-12-24T20:05:53.539Z"
   },
   {
    "duration": 12,
    "start_time": "2021-12-24T20:05:53.559Z"
   },
   {
    "duration": 16,
    "start_time": "2021-12-24T20:05:53.574Z"
   },
   {
    "duration": 14,
    "start_time": "2021-12-24T20:05:53.592Z"
   },
   {
    "duration": 12,
    "start_time": "2021-12-24T20:05:53.607Z"
   },
   {
    "duration": 330,
    "start_time": "2021-12-24T20:05:53.621Z"
   },
   {
    "duration": 43,
    "start_time": "2021-12-24T20:05:53.953Z"
   },
   {
    "duration": 18,
    "start_time": "2021-12-24T20:05:53.998Z"
   },
   {
    "duration": 39,
    "start_time": "2021-12-24T20:05:54.019Z"
   },
   {
    "duration": 652,
    "start_time": "2021-12-24T20:05:54.059Z"
   },
   {
    "duration": 10,
    "start_time": "2021-12-24T20:05:54.713Z"
   },
   {
    "duration": 23,
    "start_time": "2021-12-24T20:05:54.724Z"
   },
   {
    "duration": 100,
    "start_time": "2021-12-24T20:05:54.749Z"
   },
   {
    "duration": 20,
    "start_time": "2021-12-24T20:05:54.851Z"
   },
   {
    "duration": 29,
    "start_time": "2021-12-24T20:05:54.873Z"
   },
   {
    "duration": 12,
    "start_time": "2021-12-24T20:05:54.903Z"
   },
   {
    "duration": 69,
    "start_time": "2021-12-24T20:05:54.916Z"
   },
   {
    "duration": 9,
    "start_time": "2021-12-24T20:05:54.987Z"
   },
   {
    "duration": 9,
    "start_time": "2021-12-24T20:05:54.999Z"
   },
   {
    "duration": 35,
    "start_time": "2021-12-24T20:05:55.010Z"
   },
   {
    "duration": 10,
    "start_time": "2021-12-24T20:05:55.047Z"
   },
   {
    "duration": 114,
    "start_time": "2021-12-24T20:05:55.058Z"
   },
   {
    "duration": 19,
    "start_time": "2021-12-24T20:05:55.173Z"
   },
   {
    "duration": 5,
    "start_time": "2021-12-24T20:05:55.194Z"
   },
   {
    "duration": 76,
    "start_time": "2021-12-24T20:05:55.201Z"
   },
   {
    "duration": 13,
    "start_time": "2021-12-24T20:05:55.279Z"
   },
   {
    "duration": 25,
    "start_time": "2021-12-24T20:05:55.293Z"
   },
   {
    "duration": 51,
    "start_time": "2021-12-24T20:05:55.320Z"
   },
   {
    "duration": 7,
    "start_time": "2021-12-24T20:05:55.373Z"
   },
   {
    "duration": 11,
    "start_time": "2021-12-24T20:05:55.382Z"
   },
   {
    "duration": 146,
    "start_time": "2021-12-24T20:05:55.395Z"
   },
   {
    "duration": 14,
    "start_time": "2021-12-24T20:05:55.542Z"
   },
   {
    "duration": 21,
    "start_time": "2021-12-24T20:05:55.561Z"
   },
   {
    "duration": 2,
    "start_time": "2021-12-24T20:05:55.583Z"
   },
   {
    "duration": 21,
    "start_time": "2021-12-24T20:05:55.587Z"
   },
   {
    "duration": 41,
    "start_time": "2021-12-24T20:05:55.610Z"
   },
   {
    "duration": 26,
    "start_time": "2021-12-24T20:05:55.654Z"
   },
   {
    "duration": 8,
    "start_time": "2021-12-24T20:05:55.681Z"
   },
   {
    "duration": 78,
    "start_time": "2021-12-24T20:05:55.691Z"
   },
   {
    "duration": 13,
    "start_time": "2021-12-24T20:05:55.771Z"
   },
   {
    "duration": 22,
    "start_time": "2021-12-24T20:05:55.786Z"
   },
   {
    "duration": 62,
    "start_time": "2021-12-24T20:05:55.810Z"
   },
   {
    "duration": 7,
    "start_time": "2021-12-24T20:05:55.874Z"
   },
   {
    "duration": 14,
    "start_time": "2021-12-24T20:05:55.883Z"
   },
   {
    "duration": 46,
    "start_time": "2021-12-24T20:05:55.899Z"
   },
   {
    "duration": 18,
    "start_time": "2021-12-24T20:05:55.950Z"
   },
   {
    "duration": 14,
    "start_time": "2021-12-24T20:05:55.973Z"
   },
   {
    "duration": 17,
    "start_time": "2021-12-24T20:05:55.989Z"
   },
   {
    "duration": 11,
    "start_time": "2021-12-24T20:05:56.008Z"
   },
   {
    "duration": 3,
    "start_time": "2021-12-24T20:07:42.589Z"
   },
   {
    "duration": 4,
    "start_time": "2021-12-24T20:07:51.142Z"
   },
   {
    "duration": 17,
    "start_time": "2021-12-24T20:08:48.217Z"
   },
   {
    "duration": 25,
    "start_time": "2021-12-24T20:09:15.353Z"
   },
   {
    "duration": 277,
    "start_time": "2021-12-24T20:10:36.592Z"
   },
   {
    "duration": 332,
    "start_time": "2021-12-24T20:10:44.736Z"
   },
   {
    "duration": 7006,
    "start_time": "2021-12-24T20:10:49.250Z"
   },
   {
    "duration": 1032,
    "start_time": "2021-12-24T20:11:08.330Z"
   },
   {
    "duration": 260,
    "start_time": "2021-12-24T20:12:30.739Z"
   },
   {
    "duration": 3,
    "start_time": "2021-12-24T20:13:00.221Z"
   },
   {
    "duration": 40,
    "start_time": "2021-12-24T20:13:00.226Z"
   },
   {
    "duration": 25,
    "start_time": "2021-12-24T20:13:00.268Z"
   },
   {
    "duration": 13,
    "start_time": "2021-12-24T20:13:00.295Z"
   },
   {
    "duration": 177,
    "start_time": "2021-12-24T20:13:00.309Z"
   },
   {
    "duration": 7,
    "start_time": "2021-12-24T20:13:00.488Z"
   },
   {
    "duration": 40,
    "start_time": "2021-12-24T20:13:00.498Z"
   },
   {
    "duration": 93,
    "start_time": "2021-12-24T20:13:00.540Z"
   },
   {
    "duration": 14,
    "start_time": "2021-12-24T20:13:00.635Z"
   },
   {
    "duration": 24,
    "start_time": "2021-12-24T20:13:00.651Z"
   },
   {
    "duration": 148,
    "start_time": "2021-12-24T20:13:00.677Z"
   },
   {
    "duration": 15,
    "start_time": "2021-12-24T20:13:00.827Z"
   },
   {
    "duration": 25,
    "start_time": "2021-12-24T20:13:00.844Z"
   },
   {
    "duration": 18,
    "start_time": "2021-12-24T20:13:00.870Z"
   },
   {
    "duration": 19,
    "start_time": "2021-12-24T20:13:00.890Z"
   },
   {
    "duration": 6,
    "start_time": "2021-12-24T20:13:00.911Z"
   },
   {
    "duration": 15,
    "start_time": "2021-12-24T20:13:00.919Z"
   },
   {
    "duration": 16,
    "start_time": "2021-12-24T20:13:00.936Z"
   },
   {
    "duration": 16,
    "start_time": "2021-12-24T20:13:00.956Z"
   },
   {
    "duration": 22,
    "start_time": "2021-12-24T20:13:00.975Z"
   },
   {
    "duration": 32,
    "start_time": "2021-12-24T20:13:00.998Z"
   },
   {
    "duration": 32,
    "start_time": "2021-12-24T20:13:01.032Z"
   },
   {
    "duration": 13,
    "start_time": "2021-12-24T20:13:01.066Z"
   },
   {
    "duration": 24,
    "start_time": "2021-12-24T20:13:01.081Z"
   },
   {
    "duration": 21,
    "start_time": "2021-12-24T20:13:01.106Z"
   },
   {
    "duration": 34,
    "start_time": "2021-12-24T20:13:01.128Z"
   },
   {
    "duration": 18,
    "start_time": "2021-12-24T20:13:01.164Z"
   },
   {
    "duration": 289,
    "start_time": "2021-12-24T20:13:01.184Z"
   },
   {
    "duration": 31,
    "start_time": "2021-12-24T20:13:01.475Z"
   },
   {
    "duration": 16,
    "start_time": "2021-12-24T20:13:01.508Z"
   },
   {
    "duration": 15,
    "start_time": "2021-12-24T20:13:01.549Z"
   },
   {
    "duration": 753,
    "start_time": "2021-12-24T20:13:01.566Z"
   },
   {
    "duration": 9,
    "start_time": "2021-12-24T20:13:02.321Z"
   },
   {
    "duration": 15,
    "start_time": "2021-12-24T20:13:02.342Z"
   },
   {
    "duration": 131,
    "start_time": "2021-12-24T20:13:02.359Z"
   },
   {
    "duration": 17,
    "start_time": "2021-12-24T20:13:02.492Z"
   },
   {
    "duration": 39,
    "start_time": "2021-12-24T20:13:02.511Z"
   },
   {
    "duration": 13,
    "start_time": "2021-12-24T20:13:02.554Z"
   },
   {
    "duration": 41,
    "start_time": "2021-12-24T20:13:02.569Z"
   },
   {
    "duration": 33,
    "start_time": "2021-12-24T20:13:02.613Z"
   },
   {
    "duration": 18,
    "start_time": "2021-12-24T20:13:02.648Z"
   },
   {
    "duration": 20,
    "start_time": "2021-12-24T20:13:02.667Z"
   },
   {
    "duration": 20,
    "start_time": "2021-12-24T20:13:02.689Z"
   },
   {
    "duration": 108,
    "start_time": "2021-12-24T20:13:02.710Z"
   },
   {
    "duration": 26,
    "start_time": "2021-12-24T20:13:02.819Z"
   },
   {
    "duration": 9,
    "start_time": "2021-12-24T20:13:02.847Z"
   },
   {
    "duration": 49,
    "start_time": "2021-12-24T20:13:02.860Z"
   },
   {
    "duration": 12,
    "start_time": "2021-12-24T20:13:02.911Z"
   },
   {
    "duration": 40,
    "start_time": "2021-12-24T20:13:02.925Z"
   },
   {
    "duration": 35,
    "start_time": "2021-12-24T20:13:02.968Z"
   },
   {
    "duration": 6,
    "start_time": "2021-12-24T20:13:03.005Z"
   },
   {
    "duration": 72,
    "start_time": "2021-12-24T20:13:03.013Z"
   },
   {
    "duration": 138,
    "start_time": "2021-12-24T20:13:03.087Z"
   },
   {
    "duration": 19,
    "start_time": "2021-12-24T20:13:03.227Z"
   },
   {
    "duration": 20,
    "start_time": "2021-12-24T20:13:03.252Z"
   },
   {
    "duration": 3,
    "start_time": "2021-12-24T20:13:03.274Z"
   },
   {
    "duration": 25,
    "start_time": "2021-12-24T20:13:03.278Z"
   },
   {
    "duration": 44,
    "start_time": "2021-12-24T20:13:03.305Z"
   },
   {
    "duration": 25,
    "start_time": "2021-12-24T20:13:03.351Z"
   },
   {
    "duration": 9,
    "start_time": "2021-12-24T20:13:03.378Z"
   },
   {
    "duration": 99,
    "start_time": "2021-12-24T20:13:03.389Z"
   },
   {
    "duration": 19,
    "start_time": "2021-12-24T20:13:03.490Z"
   },
   {
    "duration": 42,
    "start_time": "2021-12-24T20:13:03.511Z"
   },
   {
    "duration": 39,
    "start_time": "2021-12-24T20:13:03.555Z"
   },
   {
    "duration": 7,
    "start_time": "2021-12-24T20:13:03.596Z"
   },
   {
    "duration": 18,
    "start_time": "2021-12-24T20:13:03.604Z"
   },
   {
    "duration": 46,
    "start_time": "2021-12-24T20:13:03.623Z"
   },
   {
    "duration": 258,
    "start_time": "2021-12-24T20:13:03.670Z"
   },
   {
    "duration": -164,
    "start_time": "2021-12-24T20:13:04.094Z"
   },
   {
    "duration": -167,
    "start_time": "2021-12-24T20:13:04.098Z"
   },
   {
    "duration": -171,
    "start_time": "2021-12-24T20:13:04.103Z"
   },
   {
    "duration": -174,
    "start_time": "2021-12-24T20:13:04.107Z"
   },
   {
    "duration": 17,
    "start_time": "2021-12-24T20:14:41.901Z"
   },
   {
    "duration": 8270,
    "start_time": "2021-12-24T20:15:20.381Z"
   },
   {
    "duration": 28,
    "start_time": "2021-12-24T20:15:30.941Z"
   },
   {
    "duration": 29,
    "start_time": "2021-12-24T20:15:57.205Z"
   },
   {
    "duration": 6645,
    "start_time": "2021-12-24T20:27:03.527Z"
   },
   {
    "duration": 11,
    "start_time": "2021-12-24T20:27:18.161Z"
   },
   {
    "duration": 28,
    "start_time": "2021-12-24T20:28:44.529Z"
   },
   {
    "duration": 24,
    "start_time": "2021-12-24T20:29:50.160Z"
   },
   {
    "duration": 267,
    "start_time": "2021-12-24T20:30:52.266Z"
   },
   {
    "duration": 10,
    "start_time": "2021-12-24T20:31:01.282Z"
   },
   {
    "duration": 8,
    "start_time": "2021-12-24T20:31:37.291Z"
   },
   {
    "duration": 10,
    "start_time": "2021-12-24T20:31:48.594Z"
   },
   {
    "duration": 4,
    "start_time": "2021-12-24T20:31:51.356Z"
   },
   {
    "duration": 33,
    "start_time": "2021-12-24T20:31:51.362Z"
   },
   {
    "duration": 10,
    "start_time": "2021-12-24T20:31:51.398Z"
   },
   {
    "duration": 10,
    "start_time": "2021-12-24T20:31:51.410Z"
   },
   {
    "duration": 181,
    "start_time": "2021-12-24T20:31:51.421Z"
   },
   {
    "duration": 8,
    "start_time": "2021-12-24T20:31:51.604Z"
   },
   {
    "duration": 54,
    "start_time": "2021-12-24T20:31:51.615Z"
   },
   {
    "duration": 92,
    "start_time": "2021-12-24T20:31:51.671Z"
   },
   {
    "duration": 7,
    "start_time": "2021-12-24T20:31:51.765Z"
   },
   {
    "duration": 25,
    "start_time": "2021-12-24T20:31:51.774Z"
   },
   {
    "duration": 184,
    "start_time": "2021-12-24T20:31:51.801Z"
   },
   {
    "duration": 10,
    "start_time": "2021-12-24T20:31:51.987Z"
   },
   {
    "duration": 42,
    "start_time": "2021-12-24T20:31:51.999Z"
   },
   {
    "duration": 20,
    "start_time": "2021-12-24T20:31:52.044Z"
   },
   {
    "duration": 14,
    "start_time": "2021-12-24T20:31:52.066Z"
   },
   {
    "duration": 8,
    "start_time": "2021-12-24T20:31:52.081Z"
   },
   {
    "duration": 10,
    "start_time": "2021-12-24T20:31:52.091Z"
   },
   {
    "duration": 9,
    "start_time": "2021-12-24T20:31:52.103Z"
   },
   {
    "duration": 9,
    "start_time": "2021-12-24T20:31:52.117Z"
   },
   {
    "duration": 19,
    "start_time": "2021-12-24T20:31:52.129Z"
   },
   {
    "duration": 22,
    "start_time": "2021-12-24T20:31:52.150Z"
   },
   {
    "duration": 8,
    "start_time": "2021-12-24T20:31:52.174Z"
   },
   {
    "duration": 15,
    "start_time": "2021-12-24T20:31:52.184Z"
   },
   {
    "duration": 14,
    "start_time": "2021-12-24T20:31:52.201Z"
   },
   {
    "duration": 13,
    "start_time": "2021-12-24T20:31:52.217Z"
   },
   {
    "duration": 18,
    "start_time": "2021-12-24T20:31:52.232Z"
   },
   {
    "duration": 8,
    "start_time": "2021-12-24T20:31:52.255Z"
   },
   {
    "duration": 399,
    "start_time": "2021-12-24T20:31:52.265Z"
   },
   {
    "duration": 45,
    "start_time": "2021-12-24T20:31:52.666Z"
   },
   {
    "duration": 40,
    "start_time": "2021-12-24T20:31:52.713Z"
   },
   {
    "duration": 14,
    "start_time": "2021-12-24T20:31:52.755Z"
   },
   {
    "duration": 1062,
    "start_time": "2021-12-24T20:31:52.771Z"
   },
   {
    "duration": 15,
    "start_time": "2021-12-24T20:31:53.835Z"
   },
   {
    "duration": 13,
    "start_time": "2021-12-24T20:31:53.854Z"
   },
   {
    "duration": 91,
    "start_time": "2021-12-24T20:31:53.868Z"
   },
   {
    "duration": 17,
    "start_time": "2021-12-24T20:31:53.961Z"
   },
   {
    "duration": 25,
    "start_time": "2021-12-24T20:31:53.979Z"
   },
   {
    "duration": 11,
    "start_time": "2021-12-24T20:31:54.006Z"
   },
   {
    "duration": 63,
    "start_time": "2021-12-24T20:31:54.019Z"
   },
   {
    "duration": 6,
    "start_time": "2021-12-24T20:31:54.084Z"
   },
   {
    "duration": 12,
    "start_time": "2021-12-24T20:31:54.092Z"
   },
   {
    "duration": 10,
    "start_time": "2021-12-24T20:31:54.105Z"
   },
   {
    "duration": 29,
    "start_time": "2021-12-24T20:31:54.117Z"
   },
   {
    "duration": 123,
    "start_time": "2021-12-24T20:31:54.148Z"
   },
   {
    "duration": 23,
    "start_time": "2021-12-24T20:31:54.273Z"
   },
   {
    "duration": 7,
    "start_time": "2021-12-24T20:31:54.298Z"
   },
   {
    "duration": 67,
    "start_time": "2021-12-24T20:31:54.307Z"
   },
   {
    "duration": 12,
    "start_time": "2021-12-24T20:31:54.376Z"
   },
   {
    "duration": 26,
    "start_time": "2021-12-24T20:31:54.390Z"
   },
   {
    "duration": 53,
    "start_time": "2021-12-24T20:31:54.418Z"
   },
   {
    "duration": 7,
    "start_time": "2021-12-24T20:31:54.472Z"
   },
   {
    "duration": 9,
    "start_time": "2021-12-24T20:31:54.481Z"
   },
   {
    "duration": 146,
    "start_time": "2021-12-24T20:31:54.492Z"
   },
   {
    "duration": 17,
    "start_time": "2021-12-24T20:31:54.640Z"
   },
   {
    "duration": 18,
    "start_time": "2021-12-24T20:31:54.663Z"
   },
   {
    "duration": 2,
    "start_time": "2021-12-24T20:31:54.683Z"
   },
   {
    "duration": 21,
    "start_time": "2021-12-24T20:31:54.687Z"
   },
   {
    "duration": 49,
    "start_time": "2021-12-24T20:31:54.710Z"
   },
   {
    "duration": 33,
    "start_time": "2021-12-24T20:31:54.761Z"
   },
   {
    "duration": 9,
    "start_time": "2021-12-24T20:31:54.796Z"
   },
   {
    "duration": 89,
    "start_time": "2021-12-24T20:31:54.807Z"
   },
   {
    "duration": 21,
    "start_time": "2021-12-24T20:31:54.898Z"
   },
   {
    "duration": 33,
    "start_time": "2021-12-24T20:31:54.921Z"
   },
   {
    "duration": 34,
    "start_time": "2021-12-24T20:31:54.956Z"
   },
   {
    "duration": 6,
    "start_time": "2021-12-24T20:31:54.992Z"
   },
   {
    "duration": 16,
    "start_time": "2021-12-24T20:31:55.000Z"
   },
   {
    "duration": 58,
    "start_time": "2021-12-24T20:31:55.017Z"
   },
   {
    "duration": 11,
    "start_time": "2021-12-24T20:31:55.077Z"
   },
   {
    "duration": 4,
    "start_time": "2021-12-24T20:31:55.090Z"
   },
   {
    "duration": 5,
    "start_time": "2021-12-24T20:31:55.096Z"
   },
   {
    "duration": 4,
    "start_time": "2021-12-24T20:31:55.103Z"
   },
   {
    "duration": 43,
    "start_time": "2021-12-24T20:31:55.109Z"
   },
   {
    "duration": 11,
    "start_time": "2021-12-24T20:31:55.154Z"
   },
   {
    "duration": 11,
    "start_time": "2021-12-24T20:33:55.596Z"
   },
   {
    "duration": 10,
    "start_time": "2021-12-24T20:34:50.006Z"
   },
   {
    "duration": 12,
    "start_time": "2021-12-24T20:35:14.398Z"
   },
   {
    "duration": 7,
    "start_time": "2021-12-24T20:36:10.630Z"
   },
   {
    "duration": 6,
    "start_time": "2021-12-24T20:36:27.590Z"
   },
   {
    "duration": 13,
    "start_time": "2021-12-24T20:37:19.670Z"
   },
   {
    "duration": 15,
    "start_time": "2021-12-24T20:37:48.936Z"
   },
   {
    "duration": 10,
    "start_time": "2021-12-24T20:38:19.638Z"
   },
   {
    "duration": 9,
    "start_time": "2021-12-24T20:40:52.186Z"
   },
   {
    "duration": 29,
    "start_time": "2021-12-24T20:40:55.913Z"
   },
   {
    "duration": 4,
    "start_time": "2021-12-24T20:41:06.315Z"
   },
   {
    "duration": 36,
    "start_time": "2021-12-24T20:41:06.321Z"
   },
   {
    "duration": 12,
    "start_time": "2021-12-24T20:41:06.360Z"
   },
   {
    "duration": 8,
    "start_time": "2021-12-24T20:41:06.375Z"
   },
   {
    "duration": 209,
    "start_time": "2021-12-24T20:41:06.385Z"
   },
   {
    "duration": 9,
    "start_time": "2021-12-24T20:41:06.596Z"
   },
   {
    "duration": 54,
    "start_time": "2021-12-24T20:41:06.606Z"
   },
   {
    "duration": 115,
    "start_time": "2021-12-24T20:41:06.664Z"
   },
   {
    "duration": 9,
    "start_time": "2021-12-24T20:41:06.782Z"
   },
   {
    "duration": 14,
    "start_time": "2021-12-24T20:41:06.793Z"
   },
   {
    "duration": 153,
    "start_time": "2021-12-24T20:41:06.809Z"
   },
   {
    "duration": 8,
    "start_time": "2021-12-24T20:41:06.963Z"
   },
   {
    "duration": 23,
    "start_time": "2021-12-24T20:41:06.973Z"
   },
   {
    "duration": 18,
    "start_time": "2021-12-24T20:41:06.997Z"
   },
   {
    "duration": 10,
    "start_time": "2021-12-24T20:41:07.016Z"
   },
   {
    "duration": 14,
    "start_time": "2021-12-24T20:41:07.028Z"
   },
   {
    "duration": 17,
    "start_time": "2021-12-24T20:41:07.049Z"
   },
   {
    "duration": 15,
    "start_time": "2021-12-24T20:41:07.068Z"
   },
   {
    "duration": 7,
    "start_time": "2021-12-24T20:41:07.085Z"
   },
   {
    "duration": 10,
    "start_time": "2021-12-24T20:41:07.094Z"
   },
   {
    "duration": 13,
    "start_time": "2021-12-24T20:41:07.106Z"
   },
   {
    "duration": 9,
    "start_time": "2021-12-24T20:41:07.120Z"
   },
   {
    "duration": 15,
    "start_time": "2021-12-24T20:41:07.133Z"
   },
   {
    "duration": 18,
    "start_time": "2021-12-24T20:41:07.151Z"
   },
   {
    "duration": 14,
    "start_time": "2021-12-24T20:41:07.171Z"
   },
   {
    "duration": 10,
    "start_time": "2021-12-24T20:41:07.187Z"
   },
   {
    "duration": 9,
    "start_time": "2021-12-24T20:41:07.199Z"
   },
   {
    "duration": 294,
    "start_time": "2021-12-24T20:41:07.210Z"
   },
   {
    "duration": 38,
    "start_time": "2021-12-24T20:41:07.505Z"
   },
   {
    "duration": 18,
    "start_time": "2021-12-24T20:41:07.545Z"
   },
   {
    "duration": 11,
    "start_time": "2021-12-24T20:41:07.565Z"
   },
   {
    "duration": 759,
    "start_time": "2021-12-24T20:41:07.578Z"
   },
   {
    "duration": 10,
    "start_time": "2021-12-24T20:41:08.338Z"
   },
   {
    "duration": 30,
    "start_time": "2021-12-24T20:41:08.351Z"
   },
   {
    "duration": 83,
    "start_time": "2021-12-24T20:41:08.383Z"
   },
   {
    "duration": 17,
    "start_time": "2021-12-24T20:41:08.468Z"
   },
   {
    "duration": 27,
    "start_time": "2021-12-24T20:41:08.487Z"
   },
   {
    "duration": 32,
    "start_time": "2021-12-24T20:41:08.517Z"
   },
   {
    "duration": 50,
    "start_time": "2021-12-24T20:41:08.551Z"
   },
   {
    "duration": 9,
    "start_time": "2021-12-24T20:41:08.604Z"
   },
   {
    "duration": 36,
    "start_time": "2021-12-24T20:41:08.615Z"
   },
   {
    "duration": 10,
    "start_time": "2021-12-24T20:41:08.657Z"
   },
   {
    "duration": 7,
    "start_time": "2021-12-24T20:41:08.669Z"
   },
   {
    "duration": 124,
    "start_time": "2021-12-24T20:41:08.678Z"
   },
   {
    "duration": 19,
    "start_time": "2021-12-24T20:41:08.803Z"
   },
   {
    "duration": 6,
    "start_time": "2021-12-24T20:41:08.824Z"
   },
   {
    "duration": 52,
    "start_time": "2021-12-24T20:41:08.832Z"
   },
   {
    "duration": 13,
    "start_time": "2021-12-24T20:41:08.885Z"
   },
   {
    "duration": 48,
    "start_time": "2021-12-24T20:41:08.900Z"
   },
   {
    "duration": 32,
    "start_time": "2021-12-24T20:41:08.950Z"
   },
   {
    "duration": 8,
    "start_time": "2021-12-24T20:41:08.984Z"
   },
   {
    "duration": 8,
    "start_time": "2021-12-24T20:41:08.993Z"
   },
   {
    "duration": 178,
    "start_time": "2021-12-24T20:41:09.003Z"
   },
   {
    "duration": 14,
    "start_time": "2021-12-24T20:41:09.182Z"
   },
   {
    "duration": 19,
    "start_time": "2021-12-24T20:41:09.197Z"
   },
   {
    "duration": 2,
    "start_time": "2021-12-24T20:41:09.217Z"
   },
   {
    "duration": 40,
    "start_time": "2021-12-24T20:41:09.221Z"
   },
   {
    "duration": 14,
    "start_time": "2021-12-24T20:41:09.263Z"
   },
   {
    "duration": 25,
    "start_time": "2021-12-24T20:41:09.279Z"
   },
   {
    "duration": 45,
    "start_time": "2021-12-24T20:41:09.305Z"
   },
   {
    "duration": 61,
    "start_time": "2021-12-24T20:41:09.354Z"
   },
   {
    "duration": 29,
    "start_time": "2021-12-24T20:41:09.417Z"
   },
   {
    "duration": 34,
    "start_time": "2021-12-24T20:41:09.449Z"
   },
   {
    "duration": 46,
    "start_time": "2021-12-24T20:41:09.485Z"
   },
   {
    "duration": 19,
    "start_time": "2021-12-24T20:41:09.534Z"
   },
   {
    "duration": 23,
    "start_time": "2021-12-24T20:41:09.555Z"
   },
   {
    "duration": 26,
    "start_time": "2021-12-24T20:41:09.580Z"
   },
   {
    "duration": 6,
    "start_time": "2021-12-24T20:41:09.611Z"
   },
   {
    "duration": 32,
    "start_time": "2021-12-24T20:41:09.619Z"
   },
   {
    "duration": 15,
    "start_time": "2021-12-24T20:41:09.653Z"
   },
   {
    "duration": 6,
    "start_time": "2021-12-24T20:41:09.670Z"
   },
   {
    "duration": 30,
    "start_time": "2021-12-24T20:41:09.678Z"
   },
   {
    "duration": 2,
    "start_time": "2021-12-24T20:41:09.710Z"
   },
   {
    "duration": 5,
    "start_time": "2021-12-24T20:41:09.714Z"
   },
   {
    "duration": 32,
    "start_time": "2021-12-24T20:41:09.721Z"
   },
   {
    "duration": 23,
    "start_time": "2021-12-24T20:41:09.755Z"
   },
   {
    "duration": 49,
    "start_time": "2021-12-24T20:41:28.633Z"
   },
   {
    "duration": 3,
    "start_time": "2021-12-24T20:41:32.275Z"
   },
   {
    "duration": 33,
    "start_time": "2021-12-24T20:41:32.280Z"
   },
   {
    "duration": 9,
    "start_time": "2021-12-24T20:41:32.316Z"
   },
   {
    "duration": 10,
    "start_time": "2021-12-24T20:41:32.327Z"
   },
   {
    "duration": 206,
    "start_time": "2021-12-24T20:41:32.340Z"
   },
   {
    "duration": 10,
    "start_time": "2021-12-24T20:41:32.547Z"
   },
   {
    "duration": 48,
    "start_time": "2021-12-24T20:41:32.561Z"
   },
   {
    "duration": 120,
    "start_time": "2021-12-24T20:41:32.611Z"
   },
   {
    "duration": 13,
    "start_time": "2021-12-24T20:41:32.734Z"
   },
   {
    "duration": 28,
    "start_time": "2021-12-24T20:41:32.749Z"
   },
   {
    "duration": 147,
    "start_time": "2021-12-24T20:41:32.779Z"
   },
   {
    "duration": 8,
    "start_time": "2021-12-24T20:41:32.928Z"
   },
   {
    "duration": 32,
    "start_time": "2021-12-24T20:41:32.941Z"
   },
   {
    "duration": 18,
    "start_time": "2021-12-24T20:41:32.975Z"
   },
   {
    "duration": 10,
    "start_time": "2021-12-24T20:41:32.995Z"
   },
   {
    "duration": 7,
    "start_time": "2021-12-24T20:41:33.007Z"
   },
   {
    "duration": 11,
    "start_time": "2021-12-24T20:41:33.015Z"
   },
   {
    "duration": 20,
    "start_time": "2021-12-24T20:41:33.027Z"
   },
   {
    "duration": 13,
    "start_time": "2021-12-24T20:41:33.051Z"
   },
   {
    "duration": 9,
    "start_time": "2021-12-24T20:41:33.067Z"
   },
   {
    "duration": 25,
    "start_time": "2021-12-24T20:41:33.078Z"
   },
   {
    "duration": 12,
    "start_time": "2021-12-24T20:41:33.105Z"
   },
   {
    "duration": 9,
    "start_time": "2021-12-24T20:41:33.119Z"
   },
   {
    "duration": 12,
    "start_time": "2021-12-24T20:41:33.130Z"
   },
   {
    "duration": 34,
    "start_time": "2021-12-24T20:41:33.144Z"
   },
   {
    "duration": 16,
    "start_time": "2021-12-24T20:41:33.180Z"
   },
   {
    "duration": 9,
    "start_time": "2021-12-24T20:41:33.199Z"
   },
   {
    "duration": 412,
    "start_time": "2021-12-24T20:41:33.209Z"
   },
   {
    "duration": 55,
    "start_time": "2021-12-24T20:41:33.623Z"
   },
   {
    "duration": 18,
    "start_time": "2021-12-24T20:41:33.680Z"
   },
   {
    "duration": 13,
    "start_time": "2021-12-24T20:41:33.700Z"
   },
   {
    "duration": 809,
    "start_time": "2021-12-24T20:41:33.715Z"
   },
   {
    "duration": 19,
    "start_time": "2021-12-24T20:41:34.526Z"
   },
   {
    "duration": 11,
    "start_time": "2021-12-24T20:41:34.547Z"
   },
   {
    "duration": 144,
    "start_time": "2021-12-24T20:41:34.560Z"
   },
   {
    "duration": 17,
    "start_time": "2021-12-24T20:41:34.706Z"
   },
   {
    "duration": 38,
    "start_time": "2021-12-24T20:41:34.725Z"
   },
   {
    "duration": 15,
    "start_time": "2021-12-24T20:41:34.766Z"
   },
   {
    "duration": 81,
    "start_time": "2021-12-24T20:41:34.783Z"
   },
   {
    "duration": 9,
    "start_time": "2021-12-24T20:41:34.866Z"
   },
   {
    "duration": 7,
    "start_time": "2021-12-24T20:41:34.876Z"
   },
   {
    "duration": 9,
    "start_time": "2021-12-24T20:41:34.885Z"
   },
   {
    "duration": 7,
    "start_time": "2021-12-24T20:41:34.896Z"
   },
   {
    "duration": 167,
    "start_time": "2021-12-24T20:41:34.905Z"
   },
   {
    "duration": 21,
    "start_time": "2021-12-24T20:41:35.074Z"
   },
   {
    "duration": 6,
    "start_time": "2021-12-24T20:41:35.097Z"
   },
   {
    "duration": 68,
    "start_time": "2021-12-24T20:41:35.105Z"
   },
   {
    "duration": 13,
    "start_time": "2021-12-24T20:41:35.175Z"
   },
   {
    "duration": 30,
    "start_time": "2021-12-24T20:41:35.190Z"
   },
   {
    "duration": 53,
    "start_time": "2021-12-24T20:41:35.222Z"
   },
   {
    "duration": 12,
    "start_time": "2021-12-24T20:41:35.276Z"
   },
   {
    "duration": 11,
    "start_time": "2021-12-24T20:41:35.290Z"
   },
   {
    "duration": 154,
    "start_time": "2021-12-24T20:41:35.303Z"
   },
   {
    "duration": 17,
    "start_time": "2021-12-24T20:41:35.459Z"
   },
   {
    "duration": 24,
    "start_time": "2021-12-24T20:41:35.483Z"
   },
   {
    "duration": 2,
    "start_time": "2021-12-24T20:41:35.510Z"
   },
   {
    "duration": 47,
    "start_time": "2021-12-24T20:41:35.514Z"
   },
   {
    "duration": 16,
    "start_time": "2021-12-24T20:41:35.565Z"
   },
   {
    "duration": 29,
    "start_time": "2021-12-24T20:41:35.583Z"
   },
   {
    "duration": 34,
    "start_time": "2021-12-24T20:41:35.613Z"
   },
   {
    "duration": 61,
    "start_time": "2021-12-24T20:41:35.649Z"
   },
   {
    "duration": 29,
    "start_time": "2021-12-24T20:41:35.712Z"
   },
   {
    "duration": 39,
    "start_time": "2021-12-24T20:41:35.743Z"
   },
   {
    "duration": 50,
    "start_time": "2021-12-24T20:41:35.785Z"
   },
   {
    "duration": 9,
    "start_time": "2021-12-24T20:41:35.837Z"
   },
   {
    "duration": 34,
    "start_time": "2021-12-24T20:41:35.848Z"
   },
   {
    "duration": 23,
    "start_time": "2021-12-24T20:41:35.884Z"
   },
   {
    "duration": 5,
    "start_time": "2021-12-24T20:41:35.909Z"
   },
   {
    "duration": 9,
    "start_time": "2021-12-24T20:41:35.916Z"
   },
   {
    "duration": 29,
    "start_time": "2021-12-24T20:41:35.927Z"
   },
   {
    "duration": 6,
    "start_time": "2021-12-24T20:41:35.959Z"
   },
   {
    "duration": 30,
    "start_time": "2021-12-24T20:41:35.967Z"
   },
   {
    "duration": 3,
    "start_time": "2021-12-24T20:41:35.998Z"
   },
   {
    "duration": 14,
    "start_time": "2021-12-24T20:41:36.002Z"
   },
   {
    "duration": 31,
    "start_time": "2021-12-24T20:41:36.018Z"
   },
   {
    "duration": 12,
    "start_time": "2021-12-24T20:41:36.050Z"
   },
   {
    "duration": 258,
    "start_time": "2021-12-24T20:42:49.218Z"
   },
   {
    "duration": 27,
    "start_time": "2021-12-24T20:43:31.254Z"
   },
   {
    "duration": 47,
    "start_time": "2021-12-24T20:43:49.427Z"
   },
   {
    "duration": 306,
    "start_time": "2021-12-24T20:46:44.933Z"
   },
   {
    "duration": 269,
    "start_time": "2021-12-24T20:48:07.446Z"
   },
   {
    "duration": 264,
    "start_time": "2021-12-24T20:48:53.831Z"
   },
   {
    "duration": 18,
    "start_time": "2021-12-24T20:49:13.872Z"
   },
   {
    "duration": 356,
    "start_time": "2021-12-24T20:49:28.511Z"
   },
   {
    "duration": 686,
    "start_time": "2021-12-24T20:49:41.719Z"
   },
   {
    "duration": 22,
    "start_time": "2021-12-24T20:50:07.927Z"
   },
   {
    "duration": 14,
    "start_time": "2021-12-24T20:50:24.861Z"
   },
   {
    "duration": 23,
    "start_time": "2021-12-24T20:50:39.784Z"
   },
   {
    "duration": 333,
    "start_time": "2021-12-24T20:50:46.791Z"
   },
   {
    "duration": 49,
    "start_time": "2021-12-24T20:51:03.624Z"
   },
   {
    "duration": 54,
    "start_time": "2021-12-24T20:51:27.225Z"
   },
   {
    "duration": 54,
    "start_time": "2021-12-24T20:51:30.616Z"
   },
   {
    "duration": 38,
    "start_time": "2021-12-24T20:51:42.441Z"
   },
   {
    "duration": 4,
    "start_time": "2021-12-24T20:51:54.763Z"
   },
   {
    "duration": 34,
    "start_time": "2021-12-24T20:51:54.769Z"
   },
   {
    "duration": 18,
    "start_time": "2021-12-24T20:51:54.805Z"
   },
   {
    "duration": 9,
    "start_time": "2021-12-24T20:51:54.826Z"
   },
   {
    "duration": 170,
    "start_time": "2021-12-24T20:51:54.837Z"
   },
   {
    "duration": 8,
    "start_time": "2021-12-24T20:51:55.009Z"
   },
   {
    "duration": 45,
    "start_time": "2021-12-24T20:51:55.019Z"
   },
   {
    "duration": 107,
    "start_time": "2021-12-24T20:51:55.066Z"
   },
   {
    "duration": 7,
    "start_time": "2021-12-24T20:51:55.176Z"
   },
   {
    "duration": 21,
    "start_time": "2021-12-24T20:51:55.185Z"
   },
   {
    "duration": 135,
    "start_time": "2021-12-24T20:51:55.208Z"
   },
   {
    "duration": 9,
    "start_time": "2021-12-24T20:51:55.347Z"
   },
   {
    "duration": 26,
    "start_time": "2021-12-24T20:51:55.358Z"
   },
   {
    "duration": 18,
    "start_time": "2021-12-24T20:51:55.385Z"
   },
   {
    "duration": 12,
    "start_time": "2021-12-24T20:51:55.405Z"
   },
   {
    "duration": 8,
    "start_time": "2021-12-24T20:51:55.419Z"
   },
   {
    "duration": 27,
    "start_time": "2021-12-24T20:51:55.441Z"
   },
   {
    "duration": 5,
    "start_time": "2021-12-24T20:51:55.470Z"
   },
   {
    "duration": 8,
    "start_time": "2021-12-24T20:51:55.477Z"
   },
   {
    "duration": 6,
    "start_time": "2021-12-24T20:51:55.487Z"
   },
   {
    "duration": 11,
    "start_time": "2021-12-24T20:51:55.495Z"
   },
   {
    "duration": 11,
    "start_time": "2021-12-24T20:51:55.508Z"
   },
   {
    "duration": 24,
    "start_time": "2021-12-24T20:51:55.521Z"
   },
   {
    "duration": 20,
    "start_time": "2021-12-24T20:51:55.547Z"
   },
   {
    "duration": 12,
    "start_time": "2021-12-24T20:51:55.569Z"
   },
   {
    "duration": 15,
    "start_time": "2021-12-24T20:51:55.583Z"
   },
   {
    "duration": 21,
    "start_time": "2021-12-24T20:51:55.602Z"
   },
   {
    "duration": 282,
    "start_time": "2021-12-24T20:51:55.625Z"
   },
   {
    "duration": 40,
    "start_time": "2021-12-24T20:51:55.909Z"
   },
   {
    "duration": 17,
    "start_time": "2021-12-24T20:51:55.951Z"
   },
   {
    "duration": 12,
    "start_time": "2021-12-24T20:51:55.970Z"
   },
   {
    "duration": 922,
    "start_time": "2021-12-24T20:51:55.983Z"
   },
   {
    "duration": 11,
    "start_time": "2021-12-24T20:51:56.907Z"
   },
   {
    "duration": 9,
    "start_time": "2021-12-24T20:51:56.920Z"
   },
   {
    "duration": 109,
    "start_time": "2021-12-24T20:51:56.944Z"
   },
   {
    "duration": 22,
    "start_time": "2021-12-24T20:51:57.057Z"
   },
   {
    "duration": 25,
    "start_time": "2021-12-24T20:51:57.081Z"
   },
   {
    "duration": 13,
    "start_time": "2021-12-24T20:51:57.108Z"
   },
   {
    "duration": 83,
    "start_time": "2021-12-24T20:51:57.124Z"
   },
   {
    "duration": 7,
    "start_time": "2021-12-24T20:51:57.209Z"
   },
   {
    "duration": 27,
    "start_time": "2021-12-24T20:51:57.218Z"
   },
   {
    "duration": 13,
    "start_time": "2021-12-24T20:51:57.247Z"
   },
   {
    "duration": 16,
    "start_time": "2021-12-24T20:51:57.262Z"
   },
   {
    "duration": 137,
    "start_time": "2021-12-24T20:51:57.280Z"
   },
   {
    "duration": 31,
    "start_time": "2021-12-24T20:51:57.419Z"
   },
   {
    "duration": 10,
    "start_time": "2021-12-24T20:51:57.451Z"
   },
   {
    "duration": 40,
    "start_time": "2021-12-24T20:51:57.463Z"
   },
   {
    "duration": 13,
    "start_time": "2021-12-24T20:51:57.505Z"
   },
   {
    "duration": 25,
    "start_time": "2021-12-24T20:51:57.550Z"
   },
   {
    "duration": 34,
    "start_time": "2021-12-24T20:51:57.577Z"
   },
   {
    "duration": 7,
    "start_time": "2021-12-24T20:51:57.613Z"
   },
   {
    "duration": 27,
    "start_time": "2021-12-24T20:51:57.622Z"
   },
   {
    "duration": 166,
    "start_time": "2021-12-24T20:51:57.650Z"
   },
   {
    "duration": 13,
    "start_time": "2021-12-24T20:51:57.817Z"
   },
   {
    "duration": 29,
    "start_time": "2021-12-24T20:51:57.832Z"
   },
   {
    "duration": 2,
    "start_time": "2021-12-24T20:51:57.864Z"
   },
   {
    "duration": 20,
    "start_time": "2021-12-24T20:51:57.868Z"
   },
   {
    "duration": 12,
    "start_time": "2021-12-24T20:51:57.889Z"
   },
   {
    "duration": 50,
    "start_time": "2021-12-24T20:51:57.903Z"
   },
   {
    "duration": 8,
    "start_time": "2021-12-24T20:51:57.955Z"
   },
   {
    "duration": 52,
    "start_time": "2021-12-24T20:51:57.965Z"
   },
   {
    "duration": 24,
    "start_time": "2021-12-24T20:51:58.019Z"
   },
   {
    "duration": 19,
    "start_time": "2021-12-24T20:51:58.047Z"
   },
   {
    "duration": 34,
    "start_time": "2021-12-24T20:51:58.068Z"
   },
   {
    "duration": 7,
    "start_time": "2021-12-24T20:51:58.104Z"
   },
   {
    "duration": 17,
    "start_time": "2021-12-24T20:51:58.145Z"
   },
   {
    "duration": 28,
    "start_time": "2021-12-24T20:51:58.165Z"
   },
   {
    "duration": 6,
    "start_time": "2021-12-24T20:51:58.195Z"
   },
   {
    "duration": 46,
    "start_time": "2021-12-24T20:51:58.203Z"
   },
   {
    "duration": 18,
    "start_time": "2021-12-24T20:51:58.253Z"
   },
   {
    "duration": 7,
    "start_time": "2021-12-24T20:51:58.273Z"
   },
   {
    "duration": 34,
    "start_time": "2021-12-24T20:51:58.282Z"
   },
   {
    "duration": 2,
    "start_time": "2021-12-24T20:51:58.318Z"
   },
   {
    "duration": 27,
    "start_time": "2021-12-24T20:51:58.322Z"
   },
   {
    "duration": 30,
    "start_time": "2021-12-24T20:51:58.351Z"
   },
   {
    "duration": 8,
    "start_time": "2021-12-24T20:51:58.383Z"
   },
   {
    "duration": 281,
    "start_time": "2021-12-24T20:52:17.001Z"
   },
   {
    "duration": 696,
    "start_time": "2021-12-24T20:52:35.760Z"
   },
   {
    "duration": 32,
    "start_time": "2021-12-24T20:52:36.459Z"
   },
   {
    "duration": 12,
    "start_time": "2021-12-24T20:52:36.494Z"
   },
   {
    "duration": 10,
    "start_time": "2021-12-24T20:52:36.508Z"
   },
   {
    "duration": 165,
    "start_time": "2021-12-24T20:52:36.519Z"
   },
   {
    "duration": 7,
    "start_time": "2021-12-24T20:52:36.685Z"
   },
   {
    "duration": 24,
    "start_time": "2021-12-24T20:52:36.694Z"
   },
   {
    "duration": 96,
    "start_time": "2021-12-24T20:52:36.720Z"
   },
   {
    "duration": 7,
    "start_time": "2021-12-24T20:52:36.818Z"
   },
   {
    "duration": 28,
    "start_time": "2021-12-24T20:52:36.827Z"
   },
   {
    "duration": 136,
    "start_time": "2021-12-24T20:52:36.857Z"
   },
   {
    "duration": 7,
    "start_time": "2021-12-24T20:52:36.995Z"
   },
   {
    "duration": 18,
    "start_time": "2021-12-24T20:52:37.004Z"
   },
   {
    "duration": 17,
    "start_time": "2021-12-24T20:52:37.023Z"
   },
   {
    "duration": 14,
    "start_time": "2021-12-24T20:52:37.045Z"
   },
   {
    "duration": 25,
    "start_time": "2021-12-24T20:52:37.061Z"
   },
   {
    "duration": 13,
    "start_time": "2021-12-24T20:52:37.089Z"
   },
   {
    "duration": 7,
    "start_time": "2021-12-24T20:52:37.104Z"
   },
   {
    "duration": 10,
    "start_time": "2021-12-24T20:52:37.113Z"
   },
   {
    "duration": 29,
    "start_time": "2021-12-24T20:52:37.124Z"
   },
   {
    "duration": 22,
    "start_time": "2021-12-24T20:52:37.155Z"
   },
   {
    "duration": 8,
    "start_time": "2021-12-24T20:52:37.179Z"
   },
   {
    "duration": 7,
    "start_time": "2021-12-24T20:52:37.188Z"
   },
   {
    "duration": 9,
    "start_time": "2021-12-24T20:52:37.196Z"
   },
   {
    "duration": 19,
    "start_time": "2021-12-24T20:52:37.207Z"
   },
   {
    "duration": 13,
    "start_time": "2021-12-24T20:52:37.227Z"
   },
   {
    "duration": 21,
    "start_time": "2021-12-24T20:52:37.248Z"
   },
   {
    "duration": 288,
    "start_time": "2021-12-24T20:52:37.272Z"
   },
   {
    "duration": 31,
    "start_time": "2021-12-24T20:52:37.561Z"
   },
   {
    "duration": 17,
    "start_time": "2021-12-24T20:52:37.594Z"
   },
   {
    "duration": 49,
    "start_time": "2021-12-24T20:52:37.613Z"
   },
   {
    "duration": 693,
    "start_time": "2021-12-24T20:52:37.664Z"
   },
   {
    "duration": 10,
    "start_time": "2021-12-24T20:52:38.361Z"
   },
   {
    "duration": 13,
    "start_time": "2021-12-24T20:52:38.372Z"
   },
   {
    "duration": 116,
    "start_time": "2021-12-24T20:52:38.386Z"
   },
   {
    "duration": 18,
    "start_time": "2021-12-24T20:52:38.503Z"
   },
   {
    "duration": 32,
    "start_time": "2021-12-24T20:52:38.523Z"
   },
   {
    "duration": 11,
    "start_time": "2021-12-24T20:52:38.558Z"
   },
   {
    "duration": 44,
    "start_time": "2021-12-24T20:52:38.570Z"
   },
   {
    "duration": 26,
    "start_time": "2021-12-24T20:52:38.616Z"
   },
   {
    "duration": 10,
    "start_time": "2021-12-24T20:52:38.646Z"
   },
   {
    "duration": 19,
    "start_time": "2021-12-24T20:52:38.660Z"
   },
   {
    "duration": 7,
    "start_time": "2021-12-24T20:52:38.681Z"
   },
   {
    "duration": 121,
    "start_time": "2021-12-24T20:52:38.690Z"
   },
   {
    "duration": 30,
    "start_time": "2021-12-24T20:52:38.813Z"
   },
   {
    "duration": 9,
    "start_time": "2021-12-24T20:52:38.845Z"
   },
   {
    "duration": 42,
    "start_time": "2021-12-24T20:52:38.855Z"
   },
   {
    "duration": 10,
    "start_time": "2021-12-24T20:52:38.899Z"
   },
   {
    "duration": 45,
    "start_time": "2021-12-24T20:52:38.911Z"
   },
   {
    "duration": 33,
    "start_time": "2021-12-24T20:52:38.958Z"
   },
   {
    "duration": 7,
    "start_time": "2021-12-24T20:52:38.993Z"
   },
   {
    "duration": 8,
    "start_time": "2021-12-24T20:52:39.002Z"
   },
   {
    "duration": 155,
    "start_time": "2021-12-24T20:52:39.012Z"
   },
   {
    "duration": 14,
    "start_time": "2021-12-24T20:52:39.169Z"
   },
   {
    "duration": 17,
    "start_time": "2021-12-24T20:52:39.184Z"
   },
   {
    "duration": 2,
    "start_time": "2021-12-24T20:52:39.202Z"
   },
   {
    "duration": 46,
    "start_time": "2021-12-24T20:52:39.206Z"
   },
   {
    "duration": 14,
    "start_time": "2021-12-24T20:52:39.254Z"
   },
   {
    "duration": 24,
    "start_time": "2021-12-24T20:52:39.270Z"
   },
   {
    "duration": 7,
    "start_time": "2021-12-24T20:52:39.295Z"
   },
   {
    "duration": 93,
    "start_time": "2021-12-24T20:52:39.304Z"
   },
   {
    "duration": 11,
    "start_time": "2021-12-24T20:52:39.398Z"
   },
   {
    "duration": 19,
    "start_time": "2021-12-24T20:52:39.411Z"
   },
   {
    "duration": 38,
    "start_time": "2021-12-24T20:52:39.441Z"
   },
   {
    "duration": 7,
    "start_time": "2021-12-24T20:52:39.480Z"
   },
   {
    "duration": 17,
    "start_time": "2021-12-24T20:52:39.488Z"
   },
   {
    "duration": 48,
    "start_time": "2021-12-24T20:52:39.507Z"
   },
   {
    "duration": 6,
    "start_time": "2021-12-24T20:52:39.568Z"
   },
   {
    "duration": 23,
    "start_time": "2021-12-24T20:52:39.576Z"
   },
   {
    "duration": 11,
    "start_time": "2021-12-24T20:52:39.600Z"
   },
   {
    "duration": 6,
    "start_time": "2021-12-24T20:52:39.613Z"
   },
   {
    "duration": 45,
    "start_time": "2021-12-24T20:52:39.620Z"
   },
   {
    "duration": 2,
    "start_time": "2021-12-24T20:52:39.667Z"
   },
   {
    "duration": 6,
    "start_time": "2021-12-24T20:52:39.670Z"
   },
   {
    "duration": 15,
    "start_time": "2021-12-24T20:52:39.677Z"
   },
   {
    "duration": 8,
    "start_time": "2021-12-24T20:52:39.693Z"
   },
   {
    "duration": 515,
    "start_time": "2021-12-25T10:27:58.517Z"
   },
   {
    "duration": 885,
    "start_time": "2021-12-25T10:28:02.878Z"
   },
   {
    "duration": 35,
    "start_time": "2021-12-25T10:28:03.765Z"
   },
   {
    "duration": 18,
    "start_time": "2021-12-25T10:28:03.803Z"
   },
   {
    "duration": 9,
    "start_time": "2021-12-25T10:28:03.824Z"
   },
   {
    "duration": 203,
    "start_time": "2021-12-25T10:28:03.836Z"
   },
   {
    "duration": 19,
    "start_time": "2021-12-25T10:28:04.042Z"
   },
   {
    "duration": 27,
    "start_time": "2021-12-25T10:28:04.064Z"
   },
   {
    "duration": 120,
    "start_time": "2021-12-25T10:28:04.095Z"
   },
   {
    "duration": 9,
    "start_time": "2021-12-25T10:28:04.218Z"
   },
   {
    "duration": 37,
    "start_time": "2021-12-25T10:28:04.229Z"
   },
   {
    "duration": 167,
    "start_time": "2021-12-25T10:28:04.268Z"
   },
   {
    "duration": 12,
    "start_time": "2021-12-25T10:28:04.438Z"
   },
   {
    "duration": 22,
    "start_time": "2021-12-25T10:28:04.460Z"
   },
   {
    "duration": 19,
    "start_time": "2021-12-25T10:28:04.484Z"
   },
   {
    "duration": 12,
    "start_time": "2021-12-25T10:28:04.505Z"
   },
   {
    "duration": 9,
    "start_time": "2021-12-25T10:28:04.519Z"
   },
   {
    "duration": 41,
    "start_time": "2021-12-25T10:28:04.530Z"
   },
   {
    "duration": 6,
    "start_time": "2021-12-25T10:28:04.574Z"
   },
   {
    "duration": 15,
    "start_time": "2021-12-25T10:28:04.582Z"
   },
   {
    "duration": 8,
    "start_time": "2021-12-25T10:28:04.599Z"
   },
   {
    "duration": 10,
    "start_time": "2021-12-25T10:28:04.609Z"
   },
   {
    "duration": 44,
    "start_time": "2021-12-25T10:28:04.621Z"
   },
   {
    "duration": 8,
    "start_time": "2021-12-25T10:28:04.671Z"
   },
   {
    "duration": 6,
    "start_time": "2021-12-25T10:28:04.683Z"
   },
   {
    "duration": 8,
    "start_time": "2021-12-25T10:28:04.692Z"
   },
   {
    "duration": 10,
    "start_time": "2021-12-25T10:28:04.703Z"
   },
   {
    "duration": 51,
    "start_time": "2021-12-25T10:28:04.716Z"
   },
   {
    "duration": 300,
    "start_time": "2021-12-25T10:28:04.769Z"
   },
   {
    "duration": 45,
    "start_time": "2021-12-25T10:28:05.071Z"
   },
   {
    "duration": 44,
    "start_time": "2021-12-25T10:28:05.118Z"
   },
   {
    "duration": 19,
    "start_time": "2021-12-25T10:28:05.164Z"
   },
   {
    "duration": 974,
    "start_time": "2021-12-25T10:28:05.185Z"
   },
   {
    "duration": 12,
    "start_time": "2021-12-25T10:28:06.161Z"
   },
   {
    "duration": 11,
    "start_time": "2021-12-25T10:28:06.176Z"
   },
   {
    "duration": 169,
    "start_time": "2021-12-25T10:28:06.190Z"
   },
   {
    "duration": 24,
    "start_time": "2021-12-25T10:28:06.361Z"
   },
   {
    "duration": 32,
    "start_time": "2021-12-25T10:28:06.388Z"
   },
   {
    "duration": 44,
    "start_time": "2021-12-25T10:28:06.423Z"
   },
   {
    "duration": 62,
    "start_time": "2021-12-25T10:28:06.469Z"
   },
   {
    "duration": 30,
    "start_time": "2021-12-25T10:28:06.534Z"
   },
   {
    "duration": 9,
    "start_time": "2021-12-25T10:28:06.567Z"
   },
   {
    "duration": 18,
    "start_time": "2021-12-25T10:28:06.578Z"
   },
   {
    "duration": 15,
    "start_time": "2021-12-25T10:28:06.599Z"
   },
   {
    "duration": 188,
    "start_time": "2021-12-25T10:28:06.616Z"
   },
   {
    "duration": 31,
    "start_time": "2021-12-25T10:28:06.807Z"
   },
   {
    "duration": 28,
    "start_time": "2021-12-25T10:28:06.841Z"
   },
   {
    "duration": 89,
    "start_time": "2021-12-25T10:28:06.872Z"
   },
   {
    "duration": 15,
    "start_time": "2021-12-25T10:28:06.964Z"
   },
   {
    "duration": 35,
    "start_time": "2021-12-25T10:28:06.981Z"
   },
   {
    "duration": 71,
    "start_time": "2021-12-25T10:28:07.019Z"
   },
   {
    "duration": 12,
    "start_time": "2021-12-25T10:28:07.094Z"
   },
   {
    "duration": 14,
    "start_time": "2021-12-25T10:28:07.109Z"
   },
   {
    "duration": 209,
    "start_time": "2021-12-25T10:28:07.125Z"
   },
   {
    "duration": 25,
    "start_time": "2021-12-25T10:28:07.337Z"
   },
   {
    "duration": 30,
    "start_time": "2021-12-25T10:28:07.366Z"
   },
   {
    "duration": 3,
    "start_time": "2021-12-25T10:28:07.399Z"
   },
   {
    "duration": 59,
    "start_time": "2021-12-25T10:28:07.405Z"
   },
   {
    "duration": 18,
    "start_time": "2021-12-25T10:28:07.466Z"
   },
   {
    "duration": 33,
    "start_time": "2021-12-25T10:28:07.487Z"
   },
   {
    "duration": 43,
    "start_time": "2021-12-25T10:28:07.523Z"
   },
   {
    "duration": 133,
    "start_time": "2021-12-25T10:28:07.569Z"
   },
   {
    "duration": 25,
    "start_time": "2021-12-25T10:28:07.706Z"
   },
   {
    "duration": 41,
    "start_time": "2021-12-25T10:28:07.733Z"
   },
   {
    "duration": 50,
    "start_time": "2021-12-25T10:28:07.777Z"
   },
   {
    "duration": 39,
    "start_time": "2021-12-25T10:28:07.829Z"
   },
   {
    "duration": 19,
    "start_time": "2021-12-25T10:28:07.871Z"
   },
   {
    "duration": 39,
    "start_time": "2021-12-25T10:28:07.893Z"
   },
   {
    "duration": 14,
    "start_time": "2021-12-25T10:28:07.963Z"
   },
   {
    "duration": 33,
    "start_time": "2021-12-25T10:28:07.980Z"
   },
   {
    "duration": 48,
    "start_time": "2021-12-25T10:28:08.016Z"
   },
   {
    "duration": 10,
    "start_time": "2021-12-25T10:28:08.067Z"
   },
   {
    "duration": 29,
    "start_time": "2021-12-25T10:28:08.080Z"
   },
   {
    "duration": 12160,
    "start_time": "2021-12-25T10:28:08.112Z"
   },
   {
    "duration": -54,
    "start_time": "2021-12-25T10:28:20.328Z"
   },
   {
    "duration": -58,
    "start_time": "2021-12-25T10:28:20.334Z"
   },
   {
    "duration": -61,
    "start_time": "2021-12-25T10:28:20.339Z"
   },
   {
    "duration": 11,
    "start_time": "2021-12-25T10:28:26.013Z"
   },
   {
    "duration": 9,
    "start_time": "2021-12-25T10:35:17.668Z"
   },
   {
    "duration": 8,
    "start_time": "2021-12-25T10:36:10.286Z"
   },
   {
    "duration": 6,
    "start_time": "2021-12-25T10:36:53.964Z"
   },
   {
    "duration": 19,
    "start_time": "2021-12-25T10:37:04.471Z"
   },
   {
    "duration": 733,
    "start_time": "2021-12-25T11:18:13.020Z"
   },
   {
    "duration": 173,
    "start_time": "2021-12-25T11:18:52.728Z"
   },
   {
    "duration": 30,
    "start_time": "2021-12-25T11:19:07.044Z"
   },
   {
    "duration": 27,
    "start_time": "2021-12-25T11:22:45.647Z"
   },
   {
    "duration": 2553,
    "start_time": "2021-12-25T11:32:59.271Z"
   },
   {
    "duration": 36,
    "start_time": "2021-12-25T11:33:23.734Z"
   },
   {
    "duration": 20,
    "start_time": "2021-12-25T11:35:28.696Z"
   },
   {
    "duration": 13,
    "start_time": "2021-12-25T11:35:32.569Z"
   },
   {
    "duration": 119,
    "start_time": "2021-12-25T11:53:05.049Z"
   },
   {
    "duration": 117,
    "start_time": "2021-12-25T11:57:52.207Z"
   },
   {
    "duration": 376,
    "start_time": "2021-12-25T11:58:14.987Z"
   },
   {
    "duration": 20,
    "start_time": "2021-12-25T11:58:49.083Z"
   },
   {
    "duration": 30,
    "start_time": "2021-12-25T11:58:59.443Z"
   },
   {
    "duration": 4,
    "start_time": "2021-12-25T12:09:33.142Z"
   },
   {
    "duration": 33,
    "start_time": "2021-12-25T12:09:33.149Z"
   },
   {
    "duration": 14,
    "start_time": "2021-12-25T12:09:33.185Z"
   },
   {
    "duration": 10,
    "start_time": "2021-12-25T12:09:33.201Z"
   },
   {
    "duration": 251,
    "start_time": "2021-12-25T12:09:33.213Z"
   },
   {
    "duration": 11,
    "start_time": "2021-12-25T12:09:33.466Z"
   },
   {
    "duration": 28,
    "start_time": "2021-12-25T12:09:33.479Z"
   },
   {
    "duration": 131,
    "start_time": "2021-12-25T12:09:33.511Z"
   },
   {
    "duration": 15,
    "start_time": "2021-12-25T12:09:33.644Z"
   },
   {
    "duration": 18,
    "start_time": "2021-12-25T12:09:33.662Z"
   },
   {
    "duration": 183,
    "start_time": "2021-12-25T12:09:33.683Z"
   },
   {
    "duration": 12,
    "start_time": "2021-12-25T12:09:33.868Z"
   },
   {
    "duration": 23,
    "start_time": "2021-12-25T12:09:33.882Z"
   },
   {
    "duration": 18,
    "start_time": "2021-12-25T12:09:33.907Z"
   },
   {
    "duration": 12,
    "start_time": "2021-12-25T12:09:33.928Z"
   },
   {
    "duration": 7,
    "start_time": "2021-12-25T12:09:33.960Z"
   },
   {
    "duration": 16,
    "start_time": "2021-12-25T12:09:33.970Z"
   },
   {
    "duration": 7,
    "start_time": "2021-12-25T12:09:33.989Z"
   },
   {
    "duration": 60,
    "start_time": "2021-12-25T12:09:33.999Z"
   },
   {
    "duration": 6,
    "start_time": "2021-12-25T12:09:34.062Z"
   },
   {
    "duration": 9,
    "start_time": "2021-12-25T12:09:34.071Z"
   },
   {
    "duration": 8,
    "start_time": "2021-12-25T12:09:34.083Z"
   },
   {
    "duration": 12,
    "start_time": "2021-12-25T12:09:34.097Z"
   },
   {
    "duration": 50,
    "start_time": "2021-12-25T12:09:34.113Z"
   },
   {
    "duration": 12,
    "start_time": "2021-12-25T12:09:34.165Z"
   },
   {
    "duration": 11,
    "start_time": "2021-12-25T12:09:34.179Z"
   },
   {
    "duration": 9,
    "start_time": "2021-12-25T12:09:34.192Z"
   },
   {
    "duration": 325,
    "start_time": "2021-12-25T12:09:34.203Z"
   },
   {
    "duration": 53,
    "start_time": "2021-12-25T12:09:34.531Z"
   },
   {
    "duration": 18,
    "start_time": "2021-12-25T12:09:34.586Z"
   },
   {
    "duration": 13,
    "start_time": "2021-12-25T12:09:34.607Z"
   },
   {
    "duration": 942,
    "start_time": "2021-12-25T12:09:34.622Z"
   },
   {
    "duration": 10,
    "start_time": "2021-12-25T12:09:35.567Z"
   },
   {
    "duration": 10,
    "start_time": "2021-12-25T12:09:35.580Z"
   },
   {
    "duration": 139,
    "start_time": "2021-12-25T12:09:35.593Z"
   },
   {
    "duration": 31,
    "start_time": "2021-12-25T12:09:35.735Z"
   },
   {
    "duration": 34,
    "start_time": "2021-12-25T12:09:35.769Z"
   },
   {
    "duration": 18,
    "start_time": "2021-12-25T12:09:35.805Z"
   },
   {
    "duration": 61,
    "start_time": "2021-12-25T12:09:35.858Z"
   },
   {
    "duration": 37,
    "start_time": "2021-12-25T12:09:35.922Z"
   },
   {
    "duration": 11,
    "start_time": "2021-12-25T12:09:35.962Z"
   },
   {
    "duration": 16,
    "start_time": "2021-12-25T12:09:35.976Z"
   },
   {
    "duration": 11,
    "start_time": "2021-12-25T12:09:35.995Z"
   },
   {
    "duration": 247,
    "start_time": "2021-12-25T12:09:36.009Z"
   },
   {
    "duration": 43,
    "start_time": "2021-12-25T12:09:36.259Z"
   },
   {
    "duration": 9,
    "start_time": "2021-12-25T12:09:36.305Z"
   },
   {
    "duration": 82,
    "start_time": "2021-12-25T12:09:36.316Z"
   },
   {
    "duration": 15,
    "start_time": "2021-12-25T12:09:36.401Z"
   },
   {
    "duration": 53,
    "start_time": "2021-12-25T12:09:36.418Z"
   },
   {
    "duration": 39,
    "start_time": "2021-12-25T12:09:36.473Z"
   },
   {
    "duration": 9,
    "start_time": "2021-12-25T12:09:36.515Z"
   },
   {
    "duration": 35,
    "start_time": "2021-12-25T12:09:36.527Z"
   },
   {
    "duration": 141,
    "start_time": "2021-12-25T12:09:36.565Z"
   },
   {
    "duration": 17,
    "start_time": "2021-12-25T12:09:36.708Z"
   },
   {
    "duration": 45,
    "start_time": "2021-12-25T12:09:36.727Z"
   },
   {
    "duration": 3,
    "start_time": "2021-12-25T12:09:36.774Z"
   },
   {
    "duration": 25,
    "start_time": "2021-12-25T12:09:36.779Z"
   },
   {
    "duration": 17,
    "start_time": "2021-12-25T12:09:36.806Z"
   },
   {
    "duration": 67,
    "start_time": "2021-12-25T12:09:36.825Z"
   },
   {
    "duration": 10,
    "start_time": "2021-12-25T12:09:36.894Z"
   },
   {
    "duration": 121,
    "start_time": "2021-12-25T12:09:36.907Z"
   },
   {
    "duration": 17,
    "start_time": "2021-12-25T12:09:37.030Z"
   },
   {
    "duration": 24,
    "start_time": "2021-12-25T12:09:37.060Z"
   },
   {
    "duration": 45,
    "start_time": "2021-12-25T12:09:37.086Z"
   },
   {
    "duration": 29,
    "start_time": "2021-12-25T12:09:37.133Z"
   },
   {
    "duration": 19,
    "start_time": "2021-12-25T12:09:37.164Z"
   },
   {
    "duration": 35,
    "start_time": "2021-12-25T12:09:37.186Z"
   },
   {
    "duration": 7,
    "start_time": "2021-12-25T12:09:37.261Z"
   },
   {
    "duration": 34,
    "start_time": "2021-12-25T12:09:37.271Z"
   },
   {
    "duration": 18,
    "start_time": "2021-12-25T12:09:37.308Z"
   },
   {
    "duration": 33,
    "start_time": "2021-12-25T12:09:37.328Z"
   },
   {
    "duration": 28,
    "start_time": "2021-12-25T12:09:37.363Z"
   },
   {
    "duration": 6,
    "start_time": "2021-12-25T12:09:37.393Z"
   },
   {
    "duration": 189,
    "start_time": "2021-12-25T12:09:37.401Z"
   },
   {
    "duration": 14,
    "start_time": "2021-12-25T12:09:37.592Z"
   },
   {
    "duration": 14,
    "start_time": "2021-12-25T12:09:37.608Z"
   },
   {
    "duration": 4,
    "start_time": "2021-12-25T12:09:37.624Z"
   },
   {
    "duration": 28,
    "start_time": "2021-12-25T12:09:37.631Z"
   },
   {
    "duration": 32,
    "start_time": "2021-12-25T12:09:37.661Z"
   },
   {
    "duration": 896,
    "start_time": "2021-12-25T12:09:48.715Z"
   },
   {
    "duration": 35,
    "start_time": "2021-12-25T12:09:49.614Z"
   },
   {
    "duration": 18,
    "start_time": "2021-12-25T12:09:49.652Z"
   },
   {
    "duration": 9,
    "start_time": "2021-12-25T12:09:49.672Z"
   },
   {
    "duration": 210,
    "start_time": "2021-12-25T12:09:49.683Z"
   },
   {
    "duration": 11,
    "start_time": "2021-12-25T12:09:49.895Z"
   },
   {
    "duration": 27,
    "start_time": "2021-12-25T12:09:49.909Z"
   },
   {
    "duration": 126,
    "start_time": "2021-12-25T12:09:49.940Z"
   },
   {
    "duration": 10,
    "start_time": "2021-12-25T12:09:50.069Z"
   },
   {
    "duration": 19,
    "start_time": "2021-12-25T12:09:50.082Z"
   },
   {
    "duration": 194,
    "start_time": "2021-12-25T12:09:50.104Z"
   },
   {
    "duration": 12,
    "start_time": "2021-12-25T12:09:50.301Z"
   },
   {
    "duration": 27,
    "start_time": "2021-12-25T12:09:50.315Z"
   },
   {
    "duration": 20,
    "start_time": "2021-12-25T12:09:50.360Z"
   },
   {
    "duration": 13,
    "start_time": "2021-12-25T12:09:50.383Z"
   },
   {
    "duration": 14,
    "start_time": "2021-12-25T12:09:50.399Z"
   },
   {
    "duration": 14,
    "start_time": "2021-12-25T12:09:50.416Z"
   },
   {
    "duration": 27,
    "start_time": "2021-12-25T12:09:50.432Z"
   },
   {
    "duration": 10,
    "start_time": "2021-12-25T12:09:50.461Z"
   },
   {
    "duration": 7,
    "start_time": "2021-12-25T12:09:50.473Z"
   },
   {
    "duration": 14,
    "start_time": "2021-12-25T12:09:50.482Z"
   },
   {
    "duration": 10,
    "start_time": "2021-12-25T12:09:50.499Z"
   },
   {
    "duration": 8,
    "start_time": "2021-12-25T12:09:50.515Z"
   },
   {
    "duration": 5,
    "start_time": "2021-12-25T12:09:50.562Z"
   },
   {
    "duration": 9,
    "start_time": "2021-12-25T12:09:50.569Z"
   },
   {
    "duration": 11,
    "start_time": "2021-12-25T12:09:50.581Z"
   },
   {
    "duration": 14,
    "start_time": "2021-12-25T12:09:50.594Z"
   },
   {
    "duration": 358,
    "start_time": "2021-12-25T12:09:50.610Z"
   },
   {
    "duration": 43,
    "start_time": "2021-12-25T12:09:50.970Z"
   },
   {
    "duration": 46,
    "start_time": "2021-12-25T12:09:51.016Z"
   },
   {
    "duration": 20,
    "start_time": "2021-12-25T12:09:51.064Z"
   },
   {
    "duration": 970,
    "start_time": "2021-12-25T12:09:51.086Z"
   },
   {
    "duration": 14,
    "start_time": "2021-12-25T12:09:52.060Z"
   },
   {
    "duration": 13,
    "start_time": "2021-12-25T12:09:52.077Z"
   },
   {
    "duration": 179,
    "start_time": "2021-12-25T12:09:52.092Z"
   },
   {
    "duration": 26,
    "start_time": "2021-12-25T12:09:52.274Z"
   },
   {
    "duration": 58,
    "start_time": "2021-12-25T12:09:52.303Z"
   },
   {
    "duration": 18,
    "start_time": "2021-12-25T12:09:52.364Z"
   },
   {
    "duration": 91,
    "start_time": "2021-12-25T12:09:52.385Z"
   },
   {
    "duration": 13,
    "start_time": "2021-12-25T12:09:52.478Z"
   },
   {
    "duration": 12,
    "start_time": "2021-12-25T12:09:52.493Z"
   },
   {
    "duration": 13,
    "start_time": "2021-12-25T12:09:52.508Z"
   },
   {
    "duration": 11,
    "start_time": "2021-12-25T12:09:52.559Z"
   },
   {
    "duration": 180,
    "start_time": "2021-12-25T12:09:52.572Z"
   },
   {
    "duration": 41,
    "start_time": "2021-12-25T12:09:52.755Z"
   },
   {
    "duration": 12,
    "start_time": "2021-12-25T12:09:52.799Z"
   },
   {
    "duration": 108,
    "start_time": "2021-12-25T12:09:52.814Z"
   },
   {
    "duration": 21,
    "start_time": "2021-12-25T12:09:52.925Z"
   },
   {
    "duration": 37,
    "start_time": "2021-12-25T12:09:52.960Z"
   },
   {
    "duration": 91,
    "start_time": "2021-12-25T12:09:53.000Z"
   },
   {
    "duration": 12,
    "start_time": "2021-12-25T12:09:53.094Z"
   },
   {
    "duration": 14,
    "start_time": "2021-12-25T12:09:53.109Z"
   },
   {
    "duration": 188,
    "start_time": "2021-12-25T12:09:53.126Z"
   },
   {
    "duration": 21,
    "start_time": "2021-12-25T12:09:53.317Z"
   },
   {
    "duration": 26,
    "start_time": "2021-12-25T12:09:53.360Z"
   },
   {
    "duration": 3,
    "start_time": "2021-12-25T12:09:53.389Z"
   },
   {
    "duration": 28,
    "start_time": "2021-12-25T12:09:53.395Z"
   },
   {
    "duration": 45,
    "start_time": "2021-12-25T12:09:53.425Z"
   },
   {
    "duration": 36,
    "start_time": "2021-12-25T12:09:53.472Z"
   },
   {
    "duration": 11,
    "start_time": "2021-12-25T12:09:53.511Z"
   },
   {
    "duration": 83,
    "start_time": "2021-12-25T12:09:53.558Z"
   },
   {
    "duration": 29,
    "start_time": "2021-12-25T12:09:53.644Z"
   },
   {
    "duration": 30,
    "start_time": "2021-12-25T12:09:53.678Z"
   },
   {
    "duration": 72,
    "start_time": "2021-12-25T12:09:53.712Z"
   },
   {
    "duration": 10,
    "start_time": "2021-12-25T12:09:53.786Z"
   },
   {
    "duration": 21,
    "start_time": "2021-12-25T12:09:53.797Z"
   },
   {
    "duration": 69,
    "start_time": "2021-12-25T12:09:53.820Z"
   },
   {
    "duration": 9,
    "start_time": "2021-12-25T12:09:53.898Z"
   },
   {
    "duration": 55,
    "start_time": "2021-12-25T12:09:53.910Z"
   },
   {
    "duration": 19,
    "start_time": "2021-12-25T12:09:53.968Z"
   },
   {
    "duration": 7,
    "start_time": "2021-12-25T12:09:53.990Z"
   },
   {
    "duration": 61,
    "start_time": "2021-12-25T12:09:54.000Z"
   },
   {
    "duration": 6,
    "start_time": "2021-12-25T12:09:54.063Z"
   },
   {
    "duration": 180,
    "start_time": "2021-12-25T12:09:54.071Z"
   },
   {
    "duration": 17,
    "start_time": "2021-12-25T12:09:54.254Z"
   },
   {
    "duration": 11,
    "start_time": "2021-12-25T12:09:54.274Z"
   },
   {
    "duration": 4,
    "start_time": "2021-12-25T12:09:54.288Z"
   },
   {
    "duration": 7,
    "start_time": "2021-12-25T12:09:54.295Z"
   },
   {
    "duration": 71,
    "start_time": "2021-12-25T12:09:54.305Z"
   },
   {
    "duration": 283,
    "start_time": "2021-12-26T09:24:36.888Z"
   },
   {
    "duration": 608,
    "start_time": "2021-12-26T09:24:41.172Z"
   },
   {
    "duration": 29,
    "start_time": "2021-12-26T09:24:41.781Z"
   },
   {
    "duration": 38,
    "start_time": "2021-12-26T09:24:41.813Z"
   },
   {
    "duration": 22,
    "start_time": "2021-12-26T09:24:41.852Z"
   },
   {
    "duration": 158,
    "start_time": "2021-12-26T09:24:41.876Z"
   },
   {
    "duration": 7,
    "start_time": "2021-12-26T09:24:42.036Z"
   },
   {
    "duration": 61,
    "start_time": "2021-12-26T09:24:42.045Z"
   },
   {
    "duration": 78,
    "start_time": "2021-12-26T09:24:42.108Z"
   },
   {
    "duration": 7,
    "start_time": "2021-12-26T09:24:42.188Z"
   },
   {
    "duration": 22,
    "start_time": "2021-12-26T09:24:42.196Z"
   },
   {
    "duration": 112,
    "start_time": "2021-12-26T09:24:42.220Z"
   },
   {
    "duration": 10,
    "start_time": "2021-12-26T09:24:42.334Z"
   },
   {
    "duration": 18,
    "start_time": "2021-12-26T09:24:42.346Z"
   },
   {
    "duration": 17,
    "start_time": "2021-12-26T09:24:42.365Z"
   },
   {
    "duration": 10,
    "start_time": "2021-12-26T09:24:42.384Z"
   },
   {
    "duration": 7,
    "start_time": "2021-12-26T09:24:42.396Z"
   },
   {
    "duration": 14,
    "start_time": "2021-12-26T09:24:42.405Z"
   },
   {
    "duration": 8,
    "start_time": "2021-12-26T09:24:42.421Z"
   },
   {
    "duration": 11,
    "start_time": "2021-12-26T09:24:42.431Z"
   },
   {
    "duration": 8,
    "start_time": "2021-12-26T09:24:42.443Z"
   },
   {
    "duration": 8,
    "start_time": "2021-12-26T09:24:42.452Z"
   },
   {
    "duration": 14,
    "start_time": "2021-12-26T09:24:42.462Z"
   },
   {
    "duration": 7,
    "start_time": "2021-12-26T09:24:42.481Z"
   },
   {
    "duration": 10,
    "start_time": "2021-12-26T09:24:42.491Z"
   },
   {
    "duration": 14,
    "start_time": "2021-12-26T09:24:42.502Z"
   },
   {
    "duration": 26,
    "start_time": "2021-12-26T09:24:42.517Z"
   },
   {
    "duration": 9,
    "start_time": "2021-12-26T09:24:42.545Z"
   },
   {
    "duration": 223,
    "start_time": "2021-12-26T09:24:42.555Z"
   },
   {
    "duration": 29,
    "start_time": "2021-12-26T09:24:42.779Z"
   },
   {
    "duration": 14,
    "start_time": "2021-12-26T09:24:42.809Z"
   },
   {
    "duration": 23,
    "start_time": "2021-12-26T09:24:42.825Z"
   },
   {
    "duration": 700,
    "start_time": "2021-12-26T09:24:42.849Z"
   },
   {
    "duration": 7,
    "start_time": "2021-12-26T09:24:43.550Z"
   },
   {
    "duration": 5,
    "start_time": "2021-12-26T09:24:43.559Z"
   },
   {
    "duration": 93,
    "start_time": "2021-12-26T09:24:43.566Z"
   },
   {
    "duration": 14,
    "start_time": "2021-12-26T09:24:43.660Z"
   },
   {
    "duration": 22,
    "start_time": "2021-12-26T09:24:43.676Z"
   },
   {
    "duration": 11,
    "start_time": "2021-12-26T09:24:43.700Z"
   },
   {
    "duration": 66,
    "start_time": "2021-12-26T09:24:43.713Z"
   },
   {
    "duration": 7,
    "start_time": "2021-12-26T09:24:43.781Z"
   },
   {
    "duration": 12,
    "start_time": "2021-12-26T09:24:43.789Z"
   },
   {
    "duration": 17,
    "start_time": "2021-12-26T09:24:43.802Z"
   },
   {
    "duration": 8,
    "start_time": "2021-12-26T09:24:43.820Z"
   },
   {
    "duration": 79,
    "start_time": "2021-12-26T09:24:43.841Z"
   },
   {
    "duration": 31,
    "start_time": "2021-12-26T09:24:43.922Z"
   },
   {
    "duration": 7,
    "start_time": "2021-12-26T09:24:43.955Z"
   },
   {
    "duration": 32,
    "start_time": "2021-12-26T09:24:43.963Z"
   },
   {
    "duration": 10,
    "start_time": "2021-12-26T09:24:43.997Z"
   },
   {
    "duration": 44,
    "start_time": "2021-12-26T09:24:44.008Z"
   },
   {
    "duration": 24,
    "start_time": "2021-12-26T09:24:44.054Z"
   },
   {
    "duration": 6,
    "start_time": "2021-12-26T09:24:44.080Z"
   },
   {
    "duration": 11,
    "start_time": "2021-12-26T09:24:44.087Z"
   },
   {
    "duration": 100,
    "start_time": "2021-12-26T09:24:44.100Z"
   },
   {
    "duration": 12,
    "start_time": "2021-12-26T09:24:44.202Z"
   },
   {
    "duration": 26,
    "start_time": "2021-12-26T09:24:44.216Z"
   },
   {
    "duration": 2,
    "start_time": "2021-12-26T09:24:44.244Z"
   },
   {
    "duration": 17,
    "start_time": "2021-12-26T09:24:44.247Z"
   },
   {
    "duration": 12,
    "start_time": "2021-12-26T09:24:44.265Z"
   },
   {
    "duration": 32,
    "start_time": "2021-12-26T09:24:44.278Z"
   },
   {
    "duration": 6,
    "start_time": "2021-12-26T09:24:44.312Z"
   },
   {
    "duration": 58,
    "start_time": "2021-12-26T09:24:44.319Z"
   },
   {
    "duration": 10,
    "start_time": "2021-12-26T09:24:44.379Z"
   },
   {
    "duration": 26,
    "start_time": "2021-12-26T09:24:44.390Z"
   },
   {
    "duration": 37,
    "start_time": "2021-12-26T09:24:44.417Z"
   },
   {
    "duration": 6,
    "start_time": "2021-12-26T09:24:44.455Z"
   },
   {
    "duration": 24,
    "start_time": "2021-12-26T09:24:44.463Z"
   },
   {
    "duration": 4,
    "start_time": "2021-12-26T09:24:44.488Z"
   },
   {
    "duration": 17,
    "start_time": "2021-12-26T09:24:44.496Z"
   },
   {
    "duration": 31,
    "start_time": "2021-12-26T09:24:44.514Z"
   },
   {
    "duration": 5,
    "start_time": "2021-12-26T09:24:44.546Z"
   },
   {
    "duration": 19,
    "start_time": "2021-12-26T09:24:44.553Z"
   },
   {
    "duration": 4,
    "start_time": "2021-12-26T09:24:44.573Z"
   },
   {
    "duration": 107,
    "start_time": "2021-12-26T09:24:44.579Z"
   },
   {
    "duration": 9,
    "start_time": "2021-12-26T09:24:44.688Z"
   },
   {
    "duration": 10,
    "start_time": "2021-12-26T09:24:44.698Z"
   },
   {
    "duration": 36,
    "start_time": "2021-12-26T09:24:44.710Z"
   },
   {
    "duration": 8,
    "start_time": "2021-12-26T09:28:46.157Z"
   },
   {
    "duration": 3,
    "start_time": "2021-12-26T09:30:24.933Z"
   },
   {
    "duration": 5,
    "start_time": "2021-12-26T09:30:33.480Z"
   },
   {
    "duration": 5,
    "start_time": "2021-12-26T09:33:23.378Z"
   },
   {
    "duration": 9,
    "start_time": "2021-12-26T09:33:49.936Z"
   },
   {
    "duration": 12,
    "start_time": "2021-12-26T09:33:52.656Z"
   },
   {
    "duration": 6,
    "start_time": "2021-12-26T09:35:28.714Z"
   },
   {
    "duration": 5,
    "start_time": "2021-12-26T09:36:43.570Z"
   },
   {
    "duration": 5,
    "start_time": "2021-12-26T09:38:46.293Z"
   },
   {
    "duration": 5,
    "start_time": "2021-12-26T09:41:50.925Z"
   },
   {
    "duration": 6,
    "start_time": "2021-12-26T09:42:35.032Z"
   },
   {
    "duration": 6,
    "start_time": "2021-12-26T09:44:10.739Z"
   },
   {
    "duration": 7,
    "start_time": "2021-12-26T09:44:27.921Z"
   },
   {
    "duration": 6,
    "start_time": "2021-12-26T09:44:51.785Z"
   },
   {
    "duration": 7,
    "start_time": "2021-12-26T09:45:41.601Z"
   },
   {
    "duration": 7,
    "start_time": "2021-12-26T09:46:24.113Z"
   },
   {
    "duration": 7,
    "start_time": "2021-12-26T09:46:48.434Z"
   },
   {
    "duration": 7,
    "start_time": "2021-12-26T09:47:04.906Z"
   },
   {
    "duration": 5,
    "start_time": "2021-12-26T09:48:14.114Z"
   },
   {
    "duration": 5,
    "start_time": "2021-12-26T09:49:49.469Z"
   },
   {
    "duration": 125,
    "start_time": "2021-12-26T09:49:51.700Z"
   },
   {
    "duration": 12,
    "start_time": "2021-12-26T09:49:54.861Z"
   },
   {
    "duration": 9,
    "start_time": "2021-12-26T09:52:37.287Z"
   },
   {
    "duration": 20,
    "start_time": "2021-12-26T10:10:11.373Z"
   },
   {
    "duration": 21,
    "start_time": "2021-12-26T10:10:30.795Z"
   },
   {
    "duration": 6,
    "start_time": "2021-12-26T10:21:06.996Z"
   },
   {
    "duration": 4,
    "start_time": "2021-12-26T10:38:13.556Z"
   },
   {
    "duration": 32,
    "start_time": "2021-12-26T10:38:13.563Z"
   },
   {
    "duration": 9,
    "start_time": "2021-12-26T10:38:13.597Z"
   },
   {
    "duration": 8,
    "start_time": "2021-12-26T10:38:13.608Z"
   },
   {
    "duration": 171,
    "start_time": "2021-12-26T10:38:13.618Z"
   },
   {
    "duration": 7,
    "start_time": "2021-12-26T10:38:13.791Z"
   },
   {
    "duration": 23,
    "start_time": "2021-12-26T10:38:13.801Z"
   },
   {
    "duration": 86,
    "start_time": "2021-12-26T10:38:13.842Z"
   },
   {
    "duration": 12,
    "start_time": "2021-12-26T10:38:13.930Z"
   },
   {
    "duration": 14,
    "start_time": "2021-12-26T10:38:13.943Z"
   },
   {
    "duration": 126,
    "start_time": "2021-12-26T10:38:13.959Z"
   },
   {
    "duration": 7,
    "start_time": "2021-12-26T10:38:14.087Z"
   },
   {
    "duration": 19,
    "start_time": "2021-12-26T10:38:14.096Z"
   },
   {
    "duration": 17,
    "start_time": "2021-12-26T10:38:14.117Z"
   },
   {
    "duration": 13,
    "start_time": "2021-12-26T10:38:14.136Z"
   },
   {
    "duration": 5,
    "start_time": "2021-12-26T10:38:14.151Z"
   },
   {
    "duration": 8,
    "start_time": "2021-12-26T10:38:14.157Z"
   },
   {
    "duration": 5,
    "start_time": "2021-12-26T10:38:14.167Z"
   },
   {
    "duration": 5,
    "start_time": "2021-12-26T10:38:14.175Z"
   },
   {
    "duration": 6,
    "start_time": "2021-12-26T10:38:14.182Z"
   },
   {
    "duration": 10,
    "start_time": "2021-12-26T10:38:14.189Z"
   },
   {
    "duration": 8,
    "start_time": "2021-12-26T10:38:14.201Z"
   },
   {
    "duration": 31,
    "start_time": "2021-12-26T10:38:14.211Z"
   },
   {
    "duration": 5,
    "start_time": "2021-12-26T10:38:14.244Z"
   },
   {
    "duration": 10,
    "start_time": "2021-12-26T10:38:14.250Z"
   },
   {
    "duration": 12,
    "start_time": "2021-12-26T10:38:14.261Z"
   },
   {
    "duration": 12,
    "start_time": "2021-12-26T10:38:14.274Z"
   },
   {
    "duration": 246,
    "start_time": "2021-12-26T10:38:14.288Z"
   },
   {
    "duration": 28,
    "start_time": "2021-12-26T10:38:14.536Z"
   },
   {
    "duration": 13,
    "start_time": "2021-12-26T10:38:14.566Z"
   },
   {
    "duration": 10,
    "start_time": "2021-12-26T10:38:14.581Z"
   },
   {
    "duration": 694,
    "start_time": "2021-12-26T10:38:14.593Z"
   },
   {
    "duration": 9,
    "start_time": "2021-12-26T10:38:15.289Z"
   },
   {
    "duration": 7,
    "start_time": "2021-12-26T10:38:15.300Z"
   },
   {
    "duration": 105,
    "start_time": "2021-12-26T10:38:15.309Z"
   },
   {
    "duration": 24,
    "start_time": "2021-12-26T10:38:15.416Z"
   },
   {
    "duration": 23,
    "start_time": "2021-12-26T10:38:15.442Z"
   },
   {
    "duration": 10,
    "start_time": "2021-12-26T10:38:15.466Z"
   },
   {
    "duration": 40,
    "start_time": "2021-12-26T10:38:15.478Z"
   },
   {
    "duration": 7,
    "start_time": "2021-12-26T10:38:15.541Z"
   },
   {
    "duration": 13,
    "start_time": "2021-12-26T10:38:15.549Z"
   },
   {
    "duration": 14,
    "start_time": "2021-12-26T10:38:15.564Z"
   },
   {
    "duration": 11,
    "start_time": "2021-12-26T10:38:15.580Z"
   },
   {
    "duration": 91,
    "start_time": "2021-12-26T10:38:15.592Z"
   },
   {
    "duration": 18,
    "start_time": "2021-12-26T10:38:15.685Z"
   },
   {
    "duration": 7,
    "start_time": "2021-12-26T10:38:15.704Z"
   },
   {
    "duration": 59,
    "start_time": "2021-12-26T10:38:15.713Z"
   },
   {
    "duration": 10,
    "start_time": "2021-12-26T10:38:15.774Z"
   },
   {
    "duration": 20,
    "start_time": "2021-12-26T10:38:15.786Z"
   },
   {
    "duration": 50,
    "start_time": "2021-12-26T10:38:15.807Z"
   },
   {
    "duration": 7,
    "start_time": "2021-12-26T10:38:15.859Z"
   },
   {
    "duration": 7,
    "start_time": "2021-12-26T10:38:15.868Z"
   },
   {
    "duration": 120,
    "start_time": "2021-12-26T10:38:15.877Z"
   },
   {
    "duration": 12,
    "start_time": "2021-12-26T10:38:15.998Z"
   },
   {
    "duration": 28,
    "start_time": "2021-12-26T10:38:16.014Z"
   },
   {
    "duration": 1,
    "start_time": "2021-12-26T10:38:16.044Z"
   },
   {
    "duration": 17,
    "start_time": "2021-12-26T10:38:16.047Z"
   },
   {
    "duration": 11,
    "start_time": "2021-12-26T10:38:16.065Z"
   },
   {
    "duration": 23,
    "start_time": "2021-12-26T10:38:16.077Z"
   },
   {
    "duration": 7,
    "start_time": "2021-12-26T10:38:16.101Z"
   },
   {
    "duration": 72,
    "start_time": "2021-12-26T10:38:16.109Z"
   },
   {
    "duration": 11,
    "start_time": "2021-12-26T10:38:16.182Z"
   },
   {
    "duration": 25,
    "start_time": "2021-12-26T10:38:16.194Z"
   },
   {
    "duration": 39,
    "start_time": "2021-12-26T10:38:16.220Z"
   },
   {
    "duration": 6,
    "start_time": "2021-12-26T10:38:16.260Z"
   },
   {
    "duration": 19,
    "start_time": "2021-12-26T10:38:16.267Z"
   },
   {
    "duration": 6395,
    "start_time": "2021-12-26T10:38:16.288Z"
   },
   {
    "duration": -1618,
    "start_time": "2021-12-26T10:38:24.303Z"
   },
   {
    "duration": -1622,
    "start_time": "2021-12-26T10:38:24.308Z"
   },
   {
    "duration": -1624,
    "start_time": "2021-12-26T10:38:24.311Z"
   },
   {
    "duration": -1627,
    "start_time": "2021-12-26T10:38:24.315Z"
   },
   {
    "duration": -1632,
    "start_time": "2021-12-26T10:38:24.321Z"
   },
   {
    "duration": -1638,
    "start_time": "2021-12-26T10:38:24.328Z"
   },
   {
    "duration": -1644,
    "start_time": "2021-12-26T10:38:24.335Z"
   },
   {
    "duration": -1648,
    "start_time": "2021-12-26T10:38:24.340Z"
   },
   {
    "duration": -1651,
    "start_time": "2021-12-26T10:38:24.344Z"
   },
   {
    "duration": -1656,
    "start_time": "2021-12-26T10:38:24.350Z"
   },
   {
    "duration": -1660,
    "start_time": "2021-12-26T10:38:24.355Z"
   },
   {
    "duration": 11,
    "start_time": "2021-12-26T10:40:46.851Z"
   },
   {
    "duration": 10,
    "start_time": "2021-12-26T10:43:19.332Z"
   },
   {
    "duration": 11,
    "start_time": "2021-12-26T10:43:25.563Z"
   },
   {
    "duration": 18,
    "start_time": "2021-12-26T10:47:43.327Z"
   },
   {
    "duration": 23,
    "start_time": "2021-12-26T10:47:57.330Z"
   },
   {
    "duration": 6,
    "start_time": "2021-12-26T10:48:13.199Z"
   },
   {
    "duration": 8,
    "start_time": "2021-12-26T10:48:15.398Z"
   },
   {
    "duration": 19,
    "start_time": "2021-12-26T10:48:26.119Z"
   },
   {
    "duration": 15,
    "start_time": "2021-12-26T10:49:59.010Z"
   },
   {
    "duration": 3,
    "start_time": "2021-12-26T10:50:04.371Z"
   },
   {
    "duration": 35,
    "start_time": "2021-12-26T10:50:04.376Z"
   },
   {
    "duration": 10,
    "start_time": "2021-12-26T10:50:04.414Z"
   },
   {
    "duration": 5,
    "start_time": "2021-12-26T10:50:04.426Z"
   },
   {
    "duration": 134,
    "start_time": "2021-12-26T10:50:04.433Z"
   },
   {
    "duration": 7,
    "start_time": "2021-12-26T10:50:04.569Z"
   },
   {
    "duration": 22,
    "start_time": "2021-12-26T10:50:04.577Z"
   },
   {
    "duration": 81,
    "start_time": "2021-12-26T10:50:04.600Z"
   },
   {
    "duration": 8,
    "start_time": "2021-12-26T10:50:04.683Z"
   },
   {
    "duration": 18,
    "start_time": "2021-12-26T10:50:04.693Z"
   },
   {
    "duration": 124,
    "start_time": "2021-12-26T10:50:04.712Z"
   },
   {
    "duration": 8,
    "start_time": "2021-12-26T10:50:04.838Z"
   },
   {
    "duration": 19,
    "start_time": "2021-12-26T10:50:04.847Z"
   },
   {
    "duration": 17,
    "start_time": "2021-12-26T10:50:04.868Z"
   },
   {
    "duration": 12,
    "start_time": "2021-12-26T10:50:04.886Z"
   },
   {
    "duration": 7,
    "start_time": "2021-12-26T10:50:04.900Z"
   },
   {
    "duration": 14,
    "start_time": "2021-12-26T10:50:04.908Z"
   },
   {
    "duration": 8,
    "start_time": "2021-12-26T10:50:04.923Z"
   },
   {
    "duration": 10,
    "start_time": "2021-12-26T10:50:04.933Z"
   },
   {
    "duration": 11,
    "start_time": "2021-12-26T10:50:04.944Z"
   },
   {
    "duration": 10,
    "start_time": "2021-12-26T10:50:04.956Z"
   },
   {
    "duration": 12,
    "start_time": "2021-12-26T10:50:04.967Z"
   },
   {
    "duration": 10,
    "start_time": "2021-12-26T10:50:04.980Z"
   },
   {
    "duration": 8,
    "start_time": "2021-12-26T10:50:04.991Z"
   },
   {
    "duration": 13,
    "start_time": "2021-12-26T10:50:05.001Z"
   },
   {
    "duration": 11,
    "start_time": "2021-12-26T10:50:05.015Z"
   },
   {
    "duration": 11,
    "start_time": "2021-12-26T10:50:05.030Z"
   },
   {
    "duration": 188,
    "start_time": "2021-12-26T10:50:05.043Z"
   },
   {
    "duration": 27,
    "start_time": "2021-12-26T10:50:05.232Z"
   },
   {
    "duration": 14,
    "start_time": "2021-12-26T10:50:05.260Z"
   },
   {
    "duration": 9,
    "start_time": "2021-12-26T10:50:05.275Z"
   },
   {
    "duration": 636,
    "start_time": "2021-12-26T10:50:05.286Z"
   },
   {
    "duration": 19,
    "start_time": "2021-12-26T10:50:05.923Z"
   },
   {
    "duration": 19,
    "start_time": "2021-12-26T10:50:05.943Z"
   },
   {
    "duration": 93,
    "start_time": "2021-12-26T10:50:05.964Z"
   },
   {
    "duration": 15,
    "start_time": "2021-12-26T10:50:06.059Z"
   },
   {
    "duration": 46,
    "start_time": "2021-12-26T10:50:06.075Z"
   },
   {
    "duration": 14,
    "start_time": "2021-12-26T10:50:06.122Z"
   },
   {
    "duration": 54,
    "start_time": "2021-12-26T10:50:06.138Z"
   },
   {
    "duration": 6,
    "start_time": "2021-12-26T10:50:06.193Z"
   },
   {
    "duration": 17,
    "start_time": "2021-12-26T10:50:06.201Z"
   },
   {
    "duration": 17,
    "start_time": "2021-12-26T10:50:06.220Z"
   },
   {
    "duration": 39,
    "start_time": "2021-12-26T10:50:06.239Z"
   },
   {
    "duration": 94,
    "start_time": "2021-12-26T10:50:06.279Z"
   },
   {
    "duration": 17,
    "start_time": "2021-12-26T10:50:06.375Z"
   },
   {
    "duration": 6,
    "start_time": "2021-12-26T10:50:06.393Z"
   },
   {
    "duration": 53,
    "start_time": "2021-12-26T10:50:06.401Z"
   },
   {
    "duration": 10,
    "start_time": "2021-12-26T10:50:06.456Z"
   },
   {
    "duration": 20,
    "start_time": "2021-12-26T10:50:06.467Z"
   },
   {
    "duration": 26,
    "start_time": "2021-12-26T10:50:06.489Z"
   },
   {
    "duration": 28,
    "start_time": "2021-12-26T10:50:06.517Z"
   },
   {
    "duration": 8,
    "start_time": "2021-12-26T10:50:06.546Z"
   },
   {
    "duration": 105,
    "start_time": "2021-12-26T10:50:06.556Z"
   },
   {
    "duration": 12,
    "start_time": "2021-12-26T10:50:06.663Z"
   },
   {
    "duration": 14,
    "start_time": "2021-12-26T10:50:06.676Z"
   },
   {
    "duration": 1,
    "start_time": "2021-12-26T10:50:06.692Z"
   },
   {
    "duration": 16,
    "start_time": "2021-12-26T10:50:06.695Z"
   },
   {
    "duration": 33,
    "start_time": "2021-12-26T10:50:06.712Z"
   },
   {
    "duration": 21,
    "start_time": "2021-12-26T10:50:06.746Z"
   },
   {
    "duration": 8,
    "start_time": "2021-12-26T10:50:06.769Z"
   },
   {
    "duration": 72,
    "start_time": "2021-12-26T10:50:06.778Z"
   },
   {
    "duration": 11,
    "start_time": "2021-12-26T10:50:06.851Z"
   },
   {
    "duration": 18,
    "start_time": "2021-12-26T10:50:06.863Z"
   },
   {
    "duration": 28,
    "start_time": "2021-12-26T10:50:06.883Z"
   },
   {
    "duration": 5,
    "start_time": "2021-12-26T10:50:06.913Z"
   },
   {
    "duration": 13,
    "start_time": "2021-12-26T10:50:06.940Z"
   },
   {
    "duration": 5,
    "start_time": "2021-12-26T10:50:06.954Z"
   },
   {
    "duration": 18,
    "start_time": "2021-12-26T10:50:06.960Z"
   },
   {
    "duration": 11,
    "start_time": "2021-12-26T10:50:06.979Z"
   },
   {
    "duration": 5,
    "start_time": "2021-12-26T10:50:06.991Z"
   },
   {
    "duration": 18,
    "start_time": "2021-12-26T10:50:06.997Z"
   },
   {
    "duration": 27,
    "start_time": "2021-12-26T10:50:07.016Z"
   },
   {
    "duration": 8,
    "start_time": "2021-12-26T10:50:07.044Z"
   },
   {
    "duration": 7,
    "start_time": "2021-12-26T10:50:07.053Z"
   },
   {
    "duration": 137,
    "start_time": "2021-12-26T10:50:07.061Z"
   },
   {
    "duration": 9,
    "start_time": "2021-12-26T10:50:07.199Z"
   },
   {
    "duration": 15,
    "start_time": "2021-12-26T10:50:07.209Z"
   },
   {
    "duration": 27,
    "start_time": "2021-12-26T10:50:07.225Z"
   },
   {
    "duration": 18,
    "start_time": "2021-12-26T10:50:21.593Z"
   },
   {
    "duration": 3,
    "start_time": "2021-12-26T10:51:07.808Z"
   },
   {
    "duration": 31,
    "start_time": "2021-12-26T10:51:07.815Z"
   },
   {
    "duration": 12,
    "start_time": "2021-12-26T10:51:07.848Z"
   },
   {
    "duration": 7,
    "start_time": "2021-12-26T10:51:07.862Z"
   },
   {
    "duration": 183,
    "start_time": "2021-12-26T10:51:07.871Z"
   },
   {
    "duration": 7,
    "start_time": "2021-12-26T10:51:08.056Z"
   },
   {
    "duration": 24,
    "start_time": "2021-12-26T10:51:08.065Z"
   },
   {
    "duration": 94,
    "start_time": "2021-12-26T10:51:08.090Z"
   },
   {
    "duration": 7,
    "start_time": "2021-12-26T10:51:08.187Z"
   },
   {
    "duration": 16,
    "start_time": "2021-12-26T10:51:08.196Z"
   },
   {
    "duration": 120,
    "start_time": "2021-12-26T10:51:08.214Z"
   },
   {
    "duration": 10,
    "start_time": "2021-12-26T10:51:08.336Z"
   },
   {
    "duration": 20,
    "start_time": "2021-12-26T10:51:08.348Z"
   },
   {
    "duration": 16,
    "start_time": "2021-12-26T10:51:08.370Z"
   },
   {
    "duration": 11,
    "start_time": "2021-12-26T10:51:08.388Z"
   },
   {
    "duration": 9,
    "start_time": "2021-12-26T10:51:08.400Z"
   },
   {
    "duration": 9,
    "start_time": "2021-12-26T10:51:08.411Z"
   },
   {
    "duration": 20,
    "start_time": "2021-12-26T10:51:08.422Z"
   },
   {
    "duration": 8,
    "start_time": "2021-12-26T10:51:08.444Z"
   },
   {
    "duration": 5,
    "start_time": "2021-12-26T10:51:08.453Z"
   },
   {
    "duration": 12,
    "start_time": "2021-12-26T10:51:08.460Z"
   },
   {
    "duration": 10,
    "start_time": "2021-12-26T10:51:08.473Z"
   },
   {
    "duration": 11,
    "start_time": "2021-12-26T10:51:08.485Z"
   },
   {
    "duration": 6,
    "start_time": "2021-12-26T10:51:08.500Z"
   },
   {
    "duration": 9,
    "start_time": "2021-12-26T10:51:08.508Z"
   },
   {
    "duration": 24,
    "start_time": "2021-12-26T10:51:08.518Z"
   },
   {
    "duration": 7,
    "start_time": "2021-12-26T10:51:08.544Z"
   },
   {
    "duration": 212,
    "start_time": "2021-12-26T10:51:08.552Z"
   },
   {
    "duration": 26,
    "start_time": "2021-12-26T10:51:08.765Z"
   },
   {
    "duration": 13,
    "start_time": "2021-12-26T10:51:08.793Z"
   },
   {
    "duration": 36,
    "start_time": "2021-12-26T10:51:08.808Z"
   },
   {
    "duration": 654,
    "start_time": "2021-12-26T10:51:08.845Z"
   },
   {
    "duration": 8,
    "start_time": "2021-12-26T10:51:09.501Z"
   },
   {
    "duration": 6,
    "start_time": "2021-12-26T10:51:09.511Z"
   },
   {
    "duration": 96,
    "start_time": "2021-12-26T10:51:09.518Z"
   },
   {
    "duration": 27,
    "start_time": "2021-12-26T10:51:09.616Z"
   },
   {
    "duration": 21,
    "start_time": "2021-12-26T10:51:09.644Z"
   },
   {
    "duration": 12,
    "start_time": "2021-12-26T10:51:09.667Z"
   },
   {
    "duration": 65,
    "start_time": "2021-12-26T10:51:09.681Z"
   },
   {
    "duration": 6,
    "start_time": "2021-12-26T10:51:09.747Z"
   },
   {
    "duration": 8,
    "start_time": "2021-12-26T10:51:09.755Z"
   },
   {
    "duration": 8,
    "start_time": "2021-12-26T10:51:09.765Z"
   },
   {
    "duration": 8,
    "start_time": "2021-12-26T10:51:09.775Z"
   },
   {
    "duration": 121,
    "start_time": "2021-12-26T10:51:09.784Z"
   },
   {
    "duration": 18,
    "start_time": "2021-12-26T10:51:09.906Z"
   },
   {
    "duration": 18,
    "start_time": "2021-12-26T10:51:09.925Z"
   },
   {
    "duration": 33,
    "start_time": "2021-12-26T10:51:09.945Z"
   },
   {
    "duration": 10,
    "start_time": "2021-12-26T10:51:09.979Z"
   },
   {
    "duration": 23,
    "start_time": "2021-12-26T10:51:09.991Z"
   },
   {
    "duration": 49,
    "start_time": "2021-12-26T10:51:10.015Z"
   },
   {
    "duration": 7,
    "start_time": "2021-12-26T10:51:10.066Z"
   },
   {
    "duration": 9,
    "start_time": "2021-12-26T10:51:10.075Z"
   },
   {
    "duration": 114,
    "start_time": "2021-12-26T10:51:10.086Z"
   },
   {
    "duration": 13,
    "start_time": "2021-12-26T10:51:10.202Z"
   },
   {
    "duration": 28,
    "start_time": "2021-12-26T10:51:10.216Z"
   },
   {
    "duration": 3,
    "start_time": "2021-12-26T10:51:10.246Z"
   },
   {
    "duration": 20,
    "start_time": "2021-12-26T10:51:10.250Z"
   },
   {
    "duration": 12,
    "start_time": "2021-12-26T10:51:10.272Z"
   },
   {
    "duration": 22,
    "start_time": "2021-12-26T10:51:10.285Z"
   },
   {
    "duration": 8,
    "start_time": "2021-12-26T10:51:10.341Z"
   },
   {
    "duration": 47,
    "start_time": "2021-12-26T10:51:10.351Z"
   },
   {
    "duration": 15,
    "start_time": "2021-12-26T10:51:10.401Z"
   },
   {
    "duration": 33,
    "start_time": "2021-12-26T10:51:10.418Z"
   },
   {
    "duration": 29,
    "start_time": "2021-12-26T10:51:10.453Z"
   },
   {
    "duration": 7,
    "start_time": "2021-12-26T10:51:10.484Z"
   },
   {
    "duration": 17,
    "start_time": "2021-12-26T10:51:10.493Z"
   },
   {
    "duration": 32,
    "start_time": "2021-12-26T10:51:10.511Z"
   },
   {
    "duration": 16,
    "start_time": "2021-12-26T10:51:10.545Z"
   },
   {
    "duration": 14,
    "start_time": "2021-12-26T10:51:10.565Z"
   },
   {
    "duration": 6,
    "start_time": "2021-12-26T10:51:10.581Z"
   },
   {
    "duration": 17,
    "start_time": "2021-12-26T10:51:10.589Z"
   },
   {
    "duration": 34,
    "start_time": "2021-12-26T10:51:10.607Z"
   },
   {
    "duration": 8,
    "start_time": "2021-12-26T10:51:10.643Z"
   },
   {
    "duration": 10,
    "start_time": "2021-12-26T10:51:10.653Z"
   },
   {
    "duration": 136,
    "start_time": "2021-12-26T10:51:10.665Z"
   },
   {
    "duration": 9,
    "start_time": "2021-12-26T10:51:10.803Z"
   },
   {
    "duration": 15,
    "start_time": "2021-12-26T10:51:10.813Z"
   },
   {
    "duration": 17,
    "start_time": "2021-12-26T10:51:10.841Z"
   },
   {
    "duration": 18,
    "start_time": "2021-12-26T10:51:34.162Z"
   },
   {
    "duration": 6,
    "start_time": "2021-12-26T10:52:49.939Z"
   },
   {
    "duration": 6,
    "start_time": "2021-12-26T10:53:26.156Z"
   },
   {
    "duration": 3,
    "start_time": "2021-12-26T10:53:59.933Z"
   },
   {
    "duration": 32,
    "start_time": "2021-12-26T10:53:59.940Z"
   },
   {
    "duration": 11,
    "start_time": "2021-12-26T10:53:59.975Z"
   },
   {
    "duration": 10,
    "start_time": "2021-12-26T10:53:59.988Z"
   },
   {
    "duration": 158,
    "start_time": "2021-12-26T10:54:00.001Z"
   },
   {
    "duration": 7,
    "start_time": "2021-12-26T10:54:00.161Z"
   },
   {
    "duration": 27,
    "start_time": "2021-12-26T10:54:00.170Z"
   },
   {
    "duration": 94,
    "start_time": "2021-12-26T10:54:00.199Z"
   },
   {
    "duration": 7,
    "start_time": "2021-12-26T10:54:00.296Z"
   },
   {
    "duration": 26,
    "start_time": "2021-12-26T10:54:00.306Z"
   },
   {
    "duration": 120,
    "start_time": "2021-12-26T10:54:00.335Z"
   },
   {
    "duration": 7,
    "start_time": "2021-12-26T10:54:00.457Z"
   },
   {
    "duration": 25,
    "start_time": "2021-12-26T10:54:00.466Z"
   },
   {
    "duration": 25,
    "start_time": "2021-12-26T10:54:00.493Z"
   },
   {
    "duration": 25,
    "start_time": "2021-12-26T10:54:00.520Z"
   },
   {
    "duration": 21,
    "start_time": "2021-12-26T10:54:00.546Z"
   },
   {
    "duration": 10,
    "start_time": "2021-12-26T10:54:00.569Z"
   },
   {
    "duration": 5,
    "start_time": "2021-12-26T10:54:00.581Z"
   },
   {
    "duration": 11,
    "start_time": "2021-12-26T10:54:00.587Z"
   },
   {
    "duration": 5,
    "start_time": "2021-12-26T10:54:00.600Z"
   },
   {
    "duration": 10,
    "start_time": "2021-12-26T10:54:00.606Z"
   },
   {
    "duration": 16,
    "start_time": "2021-12-26T10:54:00.617Z"
   },
   {
    "duration": 10,
    "start_time": "2021-12-26T10:54:00.635Z"
   },
   {
    "duration": 7,
    "start_time": "2021-12-26T10:54:00.646Z"
   },
   {
    "duration": 19,
    "start_time": "2021-12-26T10:54:00.654Z"
   },
   {
    "duration": 13,
    "start_time": "2021-12-26T10:54:00.674Z"
   },
   {
    "duration": 10,
    "start_time": "2021-12-26T10:54:00.688Z"
   },
   {
    "duration": 246,
    "start_time": "2021-12-26T10:54:00.702Z"
   },
   {
    "duration": 28,
    "start_time": "2021-12-26T10:54:00.950Z"
   },
   {
    "duration": 14,
    "start_time": "2021-12-26T10:54:00.979Z"
   },
   {
    "duration": 10,
    "start_time": "2021-12-26T10:54:00.994Z"
   },
   {
    "duration": 654,
    "start_time": "2021-12-26T10:54:01.006Z"
   },
   {
    "duration": 8,
    "start_time": "2021-12-26T10:54:01.662Z"
   },
   {
    "duration": 6,
    "start_time": "2021-12-26T10:54:01.672Z"
   },
   {
    "duration": 106,
    "start_time": "2021-12-26T10:54:01.680Z"
   },
   {
    "duration": 16,
    "start_time": "2021-12-26T10:54:01.787Z"
   },
   {
    "duration": 38,
    "start_time": "2021-12-26T10:54:01.804Z"
   },
   {
    "duration": 10,
    "start_time": "2021-12-26T10:54:01.844Z"
   },
   {
    "duration": 45,
    "start_time": "2021-12-26T10:54:01.856Z"
   },
   {
    "duration": 7,
    "start_time": "2021-12-26T10:54:01.902Z"
   },
   {
    "duration": 31,
    "start_time": "2021-12-26T10:54:01.911Z"
   },
   {
    "duration": 14,
    "start_time": "2021-12-26T10:54:01.943Z"
   },
   {
    "duration": 16,
    "start_time": "2021-12-26T10:54:01.958Z"
   },
   {
    "duration": 109,
    "start_time": "2021-12-26T10:54:01.976Z"
   },
   {
    "duration": 21,
    "start_time": "2021-12-26T10:54:02.086Z"
   },
   {
    "duration": 19,
    "start_time": "2021-12-26T10:54:02.109Z"
   },
   {
    "duration": 49,
    "start_time": "2021-12-26T10:54:02.130Z"
   },
   {
    "duration": 11,
    "start_time": "2021-12-26T10:54:02.181Z"
   },
   {
    "duration": 41,
    "start_time": "2021-12-26T10:54:02.194Z"
   },
   {
    "duration": 29,
    "start_time": "2021-12-26T10:54:02.237Z"
   },
   {
    "duration": 6,
    "start_time": "2021-12-26T10:54:02.268Z"
   },
   {
    "duration": 10,
    "start_time": "2021-12-26T10:54:02.276Z"
   },
   {
    "duration": 123,
    "start_time": "2021-12-26T10:54:02.287Z"
   },
   {
    "duration": 13,
    "start_time": "2021-12-26T10:54:02.411Z"
   },
   {
    "duration": 30,
    "start_time": "2021-12-26T10:54:02.426Z"
   },
   {
    "duration": 2,
    "start_time": "2021-12-26T10:54:02.458Z"
   },
   {
    "duration": 19,
    "start_time": "2021-12-26T10:54:02.461Z"
   },
   {
    "duration": 13,
    "start_time": "2021-12-26T10:54:02.482Z"
   },
   {
    "duration": 54,
    "start_time": "2021-12-26T10:54:02.498Z"
   },
   {
    "duration": 8,
    "start_time": "2021-12-26T10:54:02.554Z"
   },
   {
    "duration": 51,
    "start_time": "2021-12-26T10:54:02.564Z"
   },
   {
    "duration": 33,
    "start_time": "2021-12-26T10:54:02.617Z"
   },
   {
    "duration": 44,
    "start_time": "2021-12-26T10:54:02.652Z"
   },
   {
    "duration": 31,
    "start_time": "2021-12-26T10:54:02.698Z"
   },
   {
    "duration": 10,
    "start_time": "2021-12-26T10:54:02.731Z"
   },
   {
    "duration": 53,
    "start_time": "2021-12-26T10:54:02.743Z"
   },
   {
    "duration": 6,
    "start_time": "2021-12-26T10:54:02.798Z"
   },
   {
    "duration": 22,
    "start_time": "2021-12-26T10:54:02.805Z"
   },
   {
    "duration": 7,
    "start_time": "2021-12-26T10:54:02.828Z"
   },
   {
    "duration": 12,
    "start_time": "2021-12-26T10:54:02.836Z"
   },
   {
    "duration": 7,
    "start_time": "2021-12-26T10:54:02.849Z"
   },
   {
    "duration": 20,
    "start_time": "2021-12-26T10:54:02.858Z"
   },
   {
    "duration": 3,
    "start_time": "2021-12-26T10:54:02.880Z"
   },
   {
    "duration": 11,
    "start_time": "2021-12-26T10:54:02.885Z"
   },
   {
    "duration": 16,
    "start_time": "2021-12-26T10:54:02.897Z"
   },
   {
    "duration": 145,
    "start_time": "2021-12-26T10:54:02.914Z"
   },
   {
    "duration": 9,
    "start_time": "2021-12-26T10:54:03.061Z"
   },
   {
    "duration": 14,
    "start_time": "2021-12-26T10:54:03.073Z"
   },
   {
    "duration": 19,
    "start_time": "2021-12-26T10:54:03.088Z"
   },
   {
    "duration": 5,
    "start_time": "2021-12-26T10:55:03.639Z"
   },
   {
    "duration": 26,
    "start_time": "2021-12-26T10:56:03.020Z"
   },
   {
    "duration": 17,
    "start_time": "2021-12-26T10:56:17.911Z"
   },
   {
    "duration": 16,
    "start_time": "2021-12-26T10:57:03.240Z"
   },
   {
    "duration": 21,
    "start_time": "2021-12-26T10:59:39.112Z"
   },
   {
    "duration": 22,
    "start_time": "2021-12-26T10:59:44.937Z"
   },
   {
    "duration": 21,
    "start_time": "2021-12-26T11:00:59.609Z"
   },
   {
    "duration": 15,
    "start_time": "2021-12-26T11:01:31.969Z"
   },
   {
    "duration": 13,
    "start_time": "2021-12-26T11:02:18.290Z"
   },
   {
    "duration": 12,
    "start_time": "2021-12-26T11:02:29.858Z"
   },
   {
    "duration": 18,
    "start_time": "2021-12-26T12:25:53.891Z"
   },
   {
    "duration": 3,
    "start_time": "2021-12-26T12:26:50.007Z"
   },
   {
    "duration": 32,
    "start_time": "2021-12-26T12:26:50.012Z"
   },
   {
    "duration": 9,
    "start_time": "2021-12-26T12:26:50.046Z"
   },
   {
    "duration": 8,
    "start_time": "2021-12-26T12:26:50.057Z"
   },
   {
    "duration": 181,
    "start_time": "2021-12-26T12:26:50.067Z"
   },
   {
    "duration": 7,
    "start_time": "2021-12-26T12:26:50.250Z"
   },
   {
    "duration": 25,
    "start_time": "2021-12-26T12:26:50.259Z"
   },
   {
    "duration": 81,
    "start_time": "2021-12-26T12:26:50.286Z"
   },
   {
    "duration": 7,
    "start_time": "2021-12-26T12:26:50.369Z"
   },
   {
    "duration": 19,
    "start_time": "2021-12-26T12:26:50.378Z"
   },
   {
    "duration": 118,
    "start_time": "2021-12-26T12:26:50.399Z"
   },
   {
    "duration": 8,
    "start_time": "2021-12-26T12:26:50.519Z"
   },
   {
    "duration": 34,
    "start_time": "2021-12-26T12:26:50.528Z"
   },
   {
    "duration": 17,
    "start_time": "2021-12-26T12:26:50.564Z"
   },
   {
    "duration": 10,
    "start_time": "2021-12-26T12:26:50.583Z"
   },
   {
    "duration": 8,
    "start_time": "2021-12-26T12:26:50.595Z"
   },
   {
    "duration": 10,
    "start_time": "2021-12-26T12:26:50.604Z"
   },
   {
    "duration": 4,
    "start_time": "2021-12-26T12:26:50.616Z"
   },
   {
    "duration": 17,
    "start_time": "2021-12-26T12:26:50.625Z"
   },
   {
    "duration": 5,
    "start_time": "2021-12-26T12:26:50.644Z"
   },
   {
    "duration": 10,
    "start_time": "2021-12-26T12:26:50.651Z"
   },
   {
    "duration": 13,
    "start_time": "2021-12-26T12:26:50.662Z"
   },
   {
    "duration": 9,
    "start_time": "2021-12-26T12:26:50.677Z"
   },
   {
    "duration": 19,
    "start_time": "2021-12-26T12:26:50.688Z"
   },
   {
    "duration": 31,
    "start_time": "2021-12-26T12:26:50.709Z"
   },
   {
    "duration": 10,
    "start_time": "2021-12-26T12:26:50.742Z"
   },
   {
    "duration": 9,
    "start_time": "2021-12-26T12:26:50.753Z"
   },
   {
    "duration": 212,
    "start_time": "2021-12-26T12:26:50.764Z"
   },
   {
    "duration": 27,
    "start_time": "2021-12-26T12:26:50.978Z"
   },
   {
    "duration": 14,
    "start_time": "2021-12-26T12:26:51.007Z"
   },
   {
    "duration": 26,
    "start_time": "2021-12-26T12:26:51.023Z"
   },
   {
    "duration": 614,
    "start_time": "2021-12-26T12:26:51.051Z"
   },
   {
    "duration": 9,
    "start_time": "2021-12-26T12:26:51.667Z"
   },
   {
    "duration": 9,
    "start_time": "2021-12-26T12:26:51.677Z"
   },
   {
    "duration": 89,
    "start_time": "2021-12-26T12:26:51.688Z"
   },
   {
    "duration": 15,
    "start_time": "2021-12-26T12:26:51.779Z"
   },
   {
    "duration": 28,
    "start_time": "2021-12-26T12:26:51.796Z"
   },
   {
    "duration": 24,
    "start_time": "2021-12-26T12:26:51.826Z"
   },
   {
    "duration": 43,
    "start_time": "2021-12-26T12:26:51.852Z"
   },
   {
    "duration": 6,
    "start_time": "2021-12-26T12:26:51.896Z"
   },
   {
    "duration": 7,
    "start_time": "2021-12-26T12:26:51.904Z"
   },
   {
    "duration": 8,
    "start_time": "2021-12-26T12:26:51.913Z"
   },
   {
    "duration": 20,
    "start_time": "2021-12-26T12:26:51.922Z"
   },
   {
    "duration": 82,
    "start_time": "2021-12-26T12:26:51.943Z"
   },
   {
    "duration": 30,
    "start_time": "2021-12-26T12:26:52.027Z"
   },
   {
    "duration": 6,
    "start_time": "2021-12-26T12:26:52.058Z"
   },
   {
    "duration": 42,
    "start_time": "2021-12-26T12:26:52.065Z"
   },
   {
    "duration": 33,
    "start_time": "2021-12-26T12:26:52.109Z"
   },
   {
    "duration": 25,
    "start_time": "2021-12-26T12:26:52.144Z"
   },
   {
    "duration": 40,
    "start_time": "2021-12-26T12:26:52.171Z"
   },
   {
    "duration": 32,
    "start_time": "2021-12-26T12:26:52.212Z"
   },
   {
    "duration": 6,
    "start_time": "2021-12-26T12:26:52.246Z"
   },
   {
    "duration": 115,
    "start_time": "2021-12-26T12:26:52.254Z"
   },
   {
    "duration": 13,
    "start_time": "2021-12-26T12:26:52.370Z"
   },
   {
    "duration": 16,
    "start_time": "2021-12-26T12:26:52.388Z"
   },
   {
    "duration": 2,
    "start_time": "2021-12-26T12:26:52.406Z"
   },
   {
    "duration": 39,
    "start_time": "2021-12-26T12:26:52.409Z"
   },
   {
    "duration": 12,
    "start_time": "2021-12-26T12:26:52.449Z"
   },
   {
    "duration": 22,
    "start_time": "2021-12-26T12:26:52.463Z"
   },
   {
    "duration": 6,
    "start_time": "2021-12-26T12:26:52.486Z"
   },
   {
    "duration": 76,
    "start_time": "2021-12-26T12:26:52.494Z"
   },
   {
    "duration": 12,
    "start_time": "2021-12-26T12:26:52.571Z"
   },
   {
    "duration": 19,
    "start_time": "2021-12-26T12:26:52.584Z"
   },
   {
    "duration": 48,
    "start_time": "2021-12-26T12:26:52.604Z"
   },
   {
    "duration": 6,
    "start_time": "2021-12-26T12:26:52.654Z"
   },
   {
    "duration": 17,
    "start_time": "2021-12-26T12:26:52.662Z"
   },
   {
    "duration": 5,
    "start_time": "2021-12-26T12:26:52.681Z"
   },
   {
    "duration": 14,
    "start_time": "2021-12-26T12:26:52.687Z"
   },
   {
    "duration": 5,
    "start_time": "2021-12-26T12:26:52.702Z"
   },
   {
    "duration": 40,
    "start_time": "2021-12-26T12:26:52.709Z"
   },
   {
    "duration": 6,
    "start_time": "2021-12-26T12:26:52.750Z"
   },
   {
    "duration": 17,
    "start_time": "2021-12-26T12:26:52.757Z"
   },
   {
    "duration": 4,
    "start_time": "2021-12-26T12:26:52.775Z"
   },
   {
    "duration": 12,
    "start_time": "2021-12-26T12:26:52.780Z"
   },
   {
    "duration": 7,
    "start_time": "2021-12-26T12:26:52.794Z"
   },
   {
    "duration": 154,
    "start_time": "2021-12-26T12:26:52.803Z"
   },
   {
    "duration": 8,
    "start_time": "2021-12-26T12:26:52.959Z"
   },
   {
    "duration": 12,
    "start_time": "2021-12-26T12:26:52.969Z"
   },
   {
    "duration": 18,
    "start_time": "2021-12-26T12:26:52.982Z"
   },
   {
    "duration": 4,
    "start_time": "2021-12-26T12:29:39.845Z"
   },
   {
    "duration": 6,
    "start_time": "2021-12-26T12:29:56.501Z"
   },
   {
    "duration": 7,
    "start_time": "2021-12-26T12:35:20.673Z"
   },
   {
    "duration": 3,
    "start_time": "2021-12-26T12:39:19.324Z"
   },
   {
    "duration": 29,
    "start_time": "2021-12-26T12:39:19.330Z"
   },
   {
    "duration": 10,
    "start_time": "2021-12-26T12:39:19.362Z"
   },
   {
    "duration": 7,
    "start_time": "2021-12-26T12:39:19.374Z"
   },
   {
    "duration": 172,
    "start_time": "2021-12-26T12:39:19.382Z"
   },
   {
    "duration": 7,
    "start_time": "2021-12-26T12:39:19.555Z"
   },
   {
    "duration": 22,
    "start_time": "2021-12-26T12:39:19.564Z"
   },
   {
    "duration": 86,
    "start_time": "2021-12-26T12:39:19.587Z"
   },
   {
    "duration": 7,
    "start_time": "2021-12-26T12:39:19.675Z"
   },
   {
    "duration": 16,
    "start_time": "2021-12-26T12:39:19.684Z"
   },
   {
    "duration": 132,
    "start_time": "2021-12-26T12:39:19.702Z"
   },
   {
    "duration": 8,
    "start_time": "2021-12-26T12:39:19.836Z"
   },
   {
    "duration": 22,
    "start_time": "2021-12-26T12:39:19.846Z"
   },
   {
    "duration": 17,
    "start_time": "2021-12-26T12:39:19.869Z"
   },
   {
    "duration": 9,
    "start_time": "2021-12-26T12:39:19.888Z"
   },
   {
    "duration": 5,
    "start_time": "2021-12-26T12:39:19.899Z"
   },
   {
    "duration": 13,
    "start_time": "2021-12-26T12:39:19.905Z"
   },
   {
    "duration": 5,
    "start_time": "2021-12-26T12:39:19.919Z"
   },
   {
    "duration": 18,
    "start_time": "2021-12-26T12:39:19.926Z"
   },
   {
    "duration": 4,
    "start_time": "2021-12-26T12:39:19.945Z"
   },
   {
    "duration": 11,
    "start_time": "2021-12-26T12:39:19.951Z"
   },
   {
    "duration": 9,
    "start_time": "2021-12-26T12:39:19.963Z"
   },
   {
    "duration": 8,
    "start_time": "2021-12-26T12:39:19.974Z"
   },
   {
    "duration": 8,
    "start_time": "2021-12-26T12:39:19.986Z"
   },
   {
    "duration": 9,
    "start_time": "2021-12-26T12:39:19.996Z"
   },
   {
    "duration": 12,
    "start_time": "2021-12-26T12:39:20.007Z"
   },
   {
    "duration": 21,
    "start_time": "2021-12-26T12:39:20.020Z"
   },
   {
    "duration": 214,
    "start_time": "2021-12-26T12:39:20.043Z"
   },
   {
    "duration": 26,
    "start_time": "2021-12-26T12:39:20.259Z"
   },
   {
    "duration": 13,
    "start_time": "2021-12-26T12:39:20.287Z"
   },
   {
    "duration": 10,
    "start_time": "2021-12-26T12:39:20.302Z"
   },
   {
    "duration": 642,
    "start_time": "2021-12-26T12:39:20.313Z"
   },
   {
    "duration": 8,
    "start_time": "2021-12-26T12:39:20.957Z"
   },
   {
    "duration": 6,
    "start_time": "2021-12-26T12:39:20.967Z"
   },
   {
    "duration": 113,
    "start_time": "2021-12-26T12:39:20.975Z"
   },
   {
    "duration": 15,
    "start_time": "2021-12-26T12:39:21.090Z"
   },
   {
    "duration": 34,
    "start_time": "2021-12-26T12:39:21.107Z"
   },
   {
    "duration": 9,
    "start_time": "2021-12-26T12:39:21.143Z"
   },
   {
    "duration": 40,
    "start_time": "2021-12-26T12:39:21.154Z"
   },
   {
    "duration": 6,
    "start_time": "2021-12-26T12:39:21.196Z"
   },
   {
    "duration": 7,
    "start_time": "2021-12-26T12:39:21.204Z"
   },
   {
    "duration": 36,
    "start_time": "2021-12-26T12:39:21.212Z"
   },
   {
    "duration": 10,
    "start_time": "2021-12-26T12:39:21.249Z"
   },
   {
    "duration": 94,
    "start_time": "2021-12-26T12:39:21.261Z"
   },
   {
    "duration": 18,
    "start_time": "2021-12-26T12:39:21.356Z"
   },
   {
    "duration": 6,
    "start_time": "2021-12-26T12:39:21.376Z"
   },
   {
    "duration": 34,
    "start_time": "2021-12-26T12:39:21.383Z"
   },
   {
    "duration": 30,
    "start_time": "2021-12-26T12:39:21.419Z"
   },
   {
    "duration": 21,
    "start_time": "2021-12-26T12:39:21.451Z"
   },
   {
    "duration": 32,
    "start_time": "2021-12-26T12:39:21.473Z"
   },
   {
    "duration": 7,
    "start_time": "2021-12-26T12:39:21.506Z"
   },
   {
    "duration": 30,
    "start_time": "2021-12-26T12:39:21.515Z"
   },
   {
    "duration": 117,
    "start_time": "2021-12-26T12:39:21.547Z"
   },
   {
    "duration": 12,
    "start_time": "2021-12-26T12:39:21.666Z"
   },
   {
    "duration": 17,
    "start_time": "2021-12-26T12:39:21.679Z"
   },
   {
    "duration": 2,
    "start_time": "2021-12-26T12:39:21.697Z"
   },
   {
    "duration": 19,
    "start_time": "2021-12-26T12:39:21.700Z"
   },
   {
    "duration": 11,
    "start_time": "2021-12-26T12:39:21.741Z"
   },
   {
    "duration": 19,
    "start_time": "2021-12-26T12:39:21.754Z"
   },
   {
    "duration": 7,
    "start_time": "2021-12-26T12:39:21.775Z"
   },
   {
    "duration": 69,
    "start_time": "2021-12-26T12:39:21.783Z"
   },
   {
    "duration": 11,
    "start_time": "2021-12-26T12:39:21.854Z"
   },
   {
    "duration": 19,
    "start_time": "2021-12-26T12:39:21.866Z"
   },
   {
    "duration": 31,
    "start_time": "2021-12-26T12:39:21.887Z"
   },
   {
    "duration": 26,
    "start_time": "2021-12-26T12:39:21.920Z"
   },
   {
    "duration": 19,
    "start_time": "2021-12-26T12:39:21.947Z"
   },
   {
    "duration": 5,
    "start_time": "2021-12-26T12:39:21.967Z"
   },
   {
    "duration": 16,
    "start_time": "2021-12-26T12:39:21.973Z"
   },
   {
    "duration": 4,
    "start_time": "2021-12-26T12:39:21.993Z"
   },
   {
    "duration": 19,
    "start_time": "2021-12-26T12:39:21.999Z"
   },
   {
    "duration": 24,
    "start_time": "2021-12-26T12:39:22.020Z"
   },
   {
    "duration": 16,
    "start_time": "2021-12-26T12:39:22.045Z"
   },
   {
    "duration": 4,
    "start_time": "2021-12-26T12:39:22.062Z"
   },
   {
    "duration": 16,
    "start_time": "2021-12-26T12:39:22.068Z"
   },
   {
    "duration": 8,
    "start_time": "2021-12-26T12:39:22.085Z"
   },
   {
    "duration": 163,
    "start_time": "2021-12-26T12:39:22.094Z"
   },
   {
    "duration": 11,
    "start_time": "2021-12-26T12:39:22.259Z"
   },
   {
    "duration": 12,
    "start_time": "2021-12-26T12:39:22.272Z"
   },
   {
    "duration": 23,
    "start_time": "2021-12-26T12:39:22.285Z"
   },
   {
    "duration": 25,
    "start_time": "2021-12-26T12:39:52.677Z"
   },
   {
    "duration": 28,
    "start_time": "2021-12-26T12:39:59.445Z"
   },
   {
    "duration": 15,
    "start_time": "2021-12-26T12:40:14.702Z"
   },
   {
    "duration": 3,
    "start_time": "2021-12-26T12:41:58.666Z"
   },
   {
    "duration": 32,
    "start_time": "2021-12-26T12:41:58.671Z"
   },
   {
    "duration": 9,
    "start_time": "2021-12-26T12:41:58.706Z"
   },
   {
    "duration": 7,
    "start_time": "2021-12-26T12:41:58.717Z"
   },
   {
    "duration": 152,
    "start_time": "2021-12-26T12:41:58.725Z"
   },
   {
    "duration": 7,
    "start_time": "2021-12-26T12:41:58.879Z"
   },
   {
    "duration": 21,
    "start_time": "2021-12-26T12:41:58.888Z"
   },
   {
    "duration": 92,
    "start_time": "2021-12-26T12:41:58.911Z"
   },
   {
    "duration": 7,
    "start_time": "2021-12-26T12:41:59.004Z"
   },
   {
    "duration": 28,
    "start_time": "2021-12-26T12:41:59.013Z"
   },
   {
    "duration": 117,
    "start_time": "2021-12-26T12:41:59.042Z"
   },
   {
    "duration": 7,
    "start_time": "2021-12-26T12:41:59.161Z"
   },
   {
    "duration": 20,
    "start_time": "2021-12-26T12:41:59.170Z"
   },
   {
    "duration": 17,
    "start_time": "2021-12-26T12:41:59.191Z"
   },
   {
    "duration": 10,
    "start_time": "2021-12-26T12:41:59.209Z"
   },
   {
    "duration": 9,
    "start_time": "2021-12-26T12:41:59.221Z"
   },
   {
    "duration": 11,
    "start_time": "2021-12-26T12:41:59.231Z"
   },
   {
    "duration": 5,
    "start_time": "2021-12-26T12:41:59.244Z"
   },
   {
    "duration": 7,
    "start_time": "2021-12-26T12:41:59.252Z"
   },
   {
    "duration": 7,
    "start_time": "2021-12-26T12:41:59.261Z"
   },
   {
    "duration": 11,
    "start_time": "2021-12-26T12:41:59.269Z"
   },
   {
    "duration": 10,
    "start_time": "2021-12-26T12:41:59.282Z"
   },
   {
    "duration": 16,
    "start_time": "2021-12-26T12:41:59.294Z"
   },
   {
    "duration": 7,
    "start_time": "2021-12-26T12:41:59.312Z"
   },
   {
    "duration": 23,
    "start_time": "2021-12-26T12:41:59.320Z"
   },
   {
    "duration": 8,
    "start_time": "2021-12-26T12:41:59.345Z"
   },
   {
    "duration": 9,
    "start_time": "2021-12-26T12:41:59.355Z"
   },
   {
    "duration": 277,
    "start_time": "2021-12-26T12:41:59.366Z"
   },
   {
    "duration": 29,
    "start_time": "2021-12-26T12:41:59.644Z"
   },
   {
    "duration": 15,
    "start_time": "2021-12-26T12:41:59.674Z"
   },
   {
    "duration": 11,
    "start_time": "2021-12-26T12:41:59.691Z"
   },
   {
    "duration": 677,
    "start_time": "2021-12-26T12:41:59.703Z"
   },
   {
    "duration": 8,
    "start_time": "2021-12-26T12:42:00.381Z"
   },
   {
    "duration": 6,
    "start_time": "2021-12-26T12:42:00.391Z"
   },
   {
    "duration": 106,
    "start_time": "2021-12-26T12:42:00.398Z"
   },
   {
    "duration": 15,
    "start_time": "2021-12-26T12:42:00.506Z"
   },
   {
    "duration": 36,
    "start_time": "2021-12-26T12:42:00.523Z"
   },
   {
    "duration": 10,
    "start_time": "2021-12-26T12:42:00.560Z"
   },
   {
    "duration": 54,
    "start_time": "2021-12-26T12:42:00.572Z"
   },
   {
    "duration": 7,
    "start_time": "2021-12-26T12:42:00.628Z"
   },
   {
    "duration": 12,
    "start_time": "2021-12-26T12:42:00.640Z"
   },
   {
    "duration": 15,
    "start_time": "2021-12-26T12:42:00.654Z"
   },
   {
    "duration": 13,
    "start_time": "2021-12-26T12:42:00.671Z"
   },
   {
    "duration": 106,
    "start_time": "2021-12-26T12:42:00.686Z"
   },
   {
    "duration": 20,
    "start_time": "2021-12-26T12:42:00.793Z"
   },
   {
    "duration": 16,
    "start_time": "2021-12-26T12:42:00.814Z"
   },
   {
    "duration": 45,
    "start_time": "2021-12-26T12:42:00.831Z"
   },
   {
    "duration": 11,
    "start_time": "2021-12-26T12:42:00.878Z"
   },
   {
    "duration": 55,
    "start_time": "2021-12-26T12:42:00.890Z"
   },
   {
    "duration": 28,
    "start_time": "2021-12-26T12:42:00.946Z"
   },
   {
    "duration": 7,
    "start_time": "2021-12-26T12:42:00.975Z"
   },
   {
    "duration": 19,
    "start_time": "2021-12-26T12:42:00.983Z"
   },
   {
    "duration": 129,
    "start_time": "2021-12-26T12:42:01.003Z"
   },
   {
    "duration": 18,
    "start_time": "2021-12-26T12:42:01.133Z"
   },
   {
    "duration": 15,
    "start_time": "2021-12-26T12:42:01.156Z"
   },
   {
    "duration": 2,
    "start_time": "2021-12-26T12:42:01.173Z"
   },
   {
    "duration": 26,
    "start_time": "2021-12-26T12:42:01.176Z"
   },
   {
    "duration": 12,
    "start_time": "2021-12-26T12:42:01.204Z"
   },
   {
    "duration": 42,
    "start_time": "2021-12-26T12:42:01.218Z"
   },
   {
    "duration": 7,
    "start_time": "2021-12-26T12:42:01.261Z"
   },
   {
    "duration": 64,
    "start_time": "2021-12-26T12:42:01.269Z"
   },
   {
    "duration": 12,
    "start_time": "2021-12-26T12:42:01.341Z"
   },
   {
    "duration": 40,
    "start_time": "2021-12-26T12:42:01.355Z"
   },
   {
    "duration": 57,
    "start_time": "2021-12-26T12:42:01.397Z"
   },
   {
    "duration": 7,
    "start_time": "2021-12-26T12:42:01.456Z"
   },
   {
    "duration": 35,
    "start_time": "2021-12-26T12:42:01.465Z"
   },
   {
    "duration": 15,
    "start_time": "2021-12-26T12:42:01.502Z"
   },
   {
    "duration": 45,
    "start_time": "2021-12-26T12:42:01.519Z"
   },
   {
    "duration": 8,
    "start_time": "2021-12-26T12:42:01.566Z"
   },
   {
    "duration": 28,
    "start_time": "2021-12-26T12:42:01.576Z"
   },
   {
    "duration": 16,
    "start_time": "2021-12-26T12:42:01.606Z"
   },
   {
    "duration": 38,
    "start_time": "2021-12-26T12:42:01.623Z"
   },
   {
    "duration": 8,
    "start_time": "2021-12-26T12:42:01.662Z"
   },
   {
    "duration": 23,
    "start_time": "2021-12-26T12:42:01.672Z"
   },
   {
    "duration": 26,
    "start_time": "2021-12-26T12:42:01.697Z"
   },
   {
    "duration": 156,
    "start_time": "2021-12-26T12:42:01.725Z"
   },
   {
    "duration": 9,
    "start_time": "2021-12-26T12:42:01.883Z"
   },
   {
    "duration": 26,
    "start_time": "2021-12-26T12:42:01.893Z"
   },
   {
    "duration": 29,
    "start_time": "2021-12-26T12:42:01.920Z"
   },
   {
    "duration": 27,
    "start_time": "2021-12-26T13:00:30.925Z"
   },
   {
    "duration": 3,
    "start_time": "2021-12-26T13:00:47.116Z"
   },
   {
    "duration": 34,
    "start_time": "2021-12-26T13:00:47.122Z"
   },
   {
    "duration": 9,
    "start_time": "2021-12-26T13:00:47.158Z"
   },
   {
    "duration": 8,
    "start_time": "2021-12-26T13:00:47.169Z"
   },
   {
    "duration": 141,
    "start_time": "2021-12-26T13:00:47.179Z"
   },
   {
    "duration": 26,
    "start_time": "2021-12-26T13:00:47.322Z"
   },
   {
    "duration": 21,
    "start_time": "2021-12-26T13:00:47.350Z"
   },
   {
    "duration": 90,
    "start_time": "2021-12-26T13:00:47.372Z"
   },
   {
    "duration": 8,
    "start_time": "2021-12-26T13:00:47.463Z"
   },
   {
    "duration": 15,
    "start_time": "2021-12-26T13:00:47.474Z"
   },
   {
    "duration": 128,
    "start_time": "2021-12-26T13:00:47.491Z"
   },
   {
    "duration": 7,
    "start_time": "2021-12-26T13:00:47.621Z"
   },
   {
    "duration": 15,
    "start_time": "2021-12-26T13:00:47.641Z"
   },
   {
    "duration": 17,
    "start_time": "2021-12-26T13:00:47.658Z"
   },
   {
    "duration": 11,
    "start_time": "2021-12-26T13:00:47.677Z"
   },
   {
    "duration": 6,
    "start_time": "2021-12-26T13:00:47.689Z"
   },
   {
    "duration": 9,
    "start_time": "2021-12-26T13:00:47.696Z"
   },
   {
    "duration": 7,
    "start_time": "2021-12-26T13:00:47.707Z"
   },
   {
    "duration": 8,
    "start_time": "2021-12-26T13:00:47.715Z"
   },
   {
    "duration": 16,
    "start_time": "2021-12-26T13:00:47.725Z"
   },
   {
    "duration": 17,
    "start_time": "2021-12-26T13:00:47.742Z"
   },
   {
    "duration": 9,
    "start_time": "2021-12-26T13:00:47.760Z"
   },
   {
    "duration": 9,
    "start_time": "2021-12-26T13:00:47.771Z"
   },
   {
    "duration": 16,
    "start_time": "2021-12-26T13:00:47.781Z"
   },
   {
    "duration": 14,
    "start_time": "2021-12-26T13:00:47.799Z"
   },
   {
    "duration": 8,
    "start_time": "2021-12-26T13:00:47.815Z"
   },
   {
    "duration": 8,
    "start_time": "2021-12-26T13:00:47.825Z"
   },
   {
    "duration": 217,
    "start_time": "2021-12-26T13:00:47.837Z"
   },
   {
    "duration": 29,
    "start_time": "2021-12-26T13:00:48.056Z"
   },
   {
    "duration": 14,
    "start_time": "2021-12-26T13:00:48.086Z"
   },
   {
    "duration": 9,
    "start_time": "2021-12-26T13:00:48.102Z"
   },
   {
    "duration": 575,
    "start_time": "2021-12-26T13:00:48.113Z"
   },
   {
    "duration": 8,
    "start_time": "2021-12-26T13:00:48.689Z"
   },
   {
    "duration": 11,
    "start_time": "2021-12-26T13:00:48.699Z"
   },
   {
    "duration": 96,
    "start_time": "2021-12-26T13:00:48.712Z"
   },
   {
    "duration": 15,
    "start_time": "2021-12-26T13:00:48.809Z"
   },
   {
    "duration": 37,
    "start_time": "2021-12-26T13:00:48.825Z"
   },
   {
    "duration": 11,
    "start_time": "2021-12-26T13:00:48.864Z"
   },
   {
    "duration": 61,
    "start_time": "2021-12-26T13:00:48.877Z"
   },
   {
    "duration": 6,
    "start_time": "2021-12-26T13:00:48.939Z"
   },
   {
    "duration": 14,
    "start_time": "2021-12-26T13:00:48.947Z"
   },
   {
    "duration": 23,
    "start_time": "2021-12-26T13:00:48.963Z"
   },
   {
    "duration": 24,
    "start_time": "2021-12-26T13:00:48.987Z"
   },
   {
    "duration": 106,
    "start_time": "2021-12-26T13:00:49.013Z"
   },
   {
    "duration": 22,
    "start_time": "2021-12-26T13:00:49.120Z"
   },
   {
    "duration": 22,
    "start_time": "2021-12-26T13:00:49.144Z"
   },
   {
    "duration": 38,
    "start_time": "2021-12-26T13:00:49.167Z"
   },
   {
    "duration": 11,
    "start_time": "2021-12-26T13:00:49.207Z"
   },
   {
    "duration": 22,
    "start_time": "2021-12-26T13:00:49.219Z"
   },
   {
    "duration": 26,
    "start_time": "2021-12-26T13:00:49.243Z"
   },
   {
    "duration": 6,
    "start_time": "2021-12-26T13:00:49.271Z"
   },
   {
    "duration": 7,
    "start_time": "2021-12-26T13:00:49.278Z"
   },
   {
    "duration": 123,
    "start_time": "2021-12-26T13:00:49.286Z"
   },
   {
    "duration": 13,
    "start_time": "2021-12-26T13:00:49.411Z"
   },
   {
    "duration": 29,
    "start_time": "2021-12-26T13:00:49.425Z"
   },
   {
    "duration": 2,
    "start_time": "2021-12-26T13:00:49.455Z"
   },
   {
    "duration": 18,
    "start_time": "2021-12-26T13:00:49.459Z"
   },
   {
    "duration": 12,
    "start_time": "2021-12-26T13:00:49.478Z"
   },
   {
    "duration": 20,
    "start_time": "2021-12-26T13:00:49.491Z"
   },
   {
    "duration": 33,
    "start_time": "2021-12-26T13:00:49.513Z"
   },
   {
    "duration": 50,
    "start_time": "2021-12-26T13:00:49.548Z"
   },
   {
    "duration": 12,
    "start_time": "2021-12-26T13:00:49.600Z"
   },
   {
    "duration": 36,
    "start_time": "2021-12-26T13:00:49.614Z"
   },
   {
    "duration": 33,
    "start_time": "2021-12-26T13:00:49.652Z"
   },
   {
    "duration": 7,
    "start_time": "2021-12-26T13:00:49.686Z"
   },
   {
    "duration": 20,
    "start_time": "2021-12-26T13:00:49.694Z"
   },
   {
    "duration": 27,
    "start_time": "2021-12-26T13:00:49.715Z"
   },
   {
    "duration": 15,
    "start_time": "2021-12-26T13:00:49.743Z"
   },
   {
    "duration": 4,
    "start_time": "2021-12-26T13:00:49.759Z"
   },
   {
    "duration": 13,
    "start_time": "2021-12-26T13:00:49.765Z"
   },
   {
    "duration": 5,
    "start_time": "2021-12-26T13:00:49.779Z"
   },
   {
    "duration": 24,
    "start_time": "2021-12-26T13:00:49.786Z"
   },
   {
    "duration": 95,
    "start_time": "2021-12-26T13:00:49.811Z"
   },
   {
    "duration": 7,
    "start_time": "2021-12-26T13:00:49.908Z"
   },
   {
    "duration": 7,
    "start_time": "2021-12-26T13:00:49.917Z"
   },
   {
    "duration": 150,
    "start_time": "2021-12-26T13:00:49.926Z"
   },
   {
    "duration": 12,
    "start_time": "2021-12-26T13:00:50.078Z"
   },
   {
    "duration": 12,
    "start_time": "2021-12-26T13:00:50.092Z"
   },
   {
    "duration": 17,
    "start_time": "2021-12-26T13:00:50.106Z"
   },
   {
    "duration": 9,
    "start_time": "2021-12-26T13:02:05.653Z"
   },
   {
    "duration": 12,
    "start_time": "2021-12-26T13:10:19.443Z"
   },
   {
    "duration": 3,
    "start_time": "2021-12-26T13:11:14.406Z"
   },
   {
    "duration": 38,
    "start_time": "2021-12-26T13:11:14.414Z"
   },
   {
    "duration": 23,
    "start_time": "2021-12-26T13:11:14.454Z"
   },
   {
    "duration": 16,
    "start_time": "2021-12-26T13:11:14.480Z"
   },
   {
    "duration": 167,
    "start_time": "2021-12-26T13:11:14.498Z"
   },
   {
    "duration": 7,
    "start_time": "2021-12-26T13:11:14.667Z"
   },
   {
    "duration": 41,
    "start_time": "2021-12-26T13:11:14.676Z"
   },
   {
    "duration": 79,
    "start_time": "2021-12-26T13:11:14.718Z"
   },
   {
    "duration": 6,
    "start_time": "2021-12-26T13:11:14.800Z"
   },
   {
    "duration": 30,
    "start_time": "2021-12-26T13:11:14.808Z"
   },
   {
    "duration": 137,
    "start_time": "2021-12-26T13:11:14.840Z"
   },
   {
    "duration": 9,
    "start_time": "2021-12-26T13:11:14.979Z"
   },
   {
    "duration": 39,
    "start_time": "2021-12-26T13:11:14.989Z"
   },
   {
    "duration": 31,
    "start_time": "2021-12-26T13:11:15.030Z"
   },
   {
    "duration": 41,
    "start_time": "2021-12-26T13:11:15.063Z"
   },
   {
    "duration": 43,
    "start_time": "2021-12-26T13:11:15.105Z"
   },
   {
    "duration": 31,
    "start_time": "2021-12-26T13:11:15.150Z"
   },
   {
    "duration": 33,
    "start_time": "2021-12-26T13:11:15.183Z"
   },
   {
    "duration": 35,
    "start_time": "2021-12-26T13:11:15.218Z"
   },
   {
    "duration": 30,
    "start_time": "2021-12-26T13:11:15.255Z"
   },
   {
    "duration": 28,
    "start_time": "2021-12-26T13:11:15.286Z"
   },
   {
    "duration": 22,
    "start_time": "2021-12-26T13:11:15.316Z"
   },
   {
    "duration": 34,
    "start_time": "2021-12-26T13:11:15.340Z"
   },
   {
    "duration": 19,
    "start_time": "2021-12-26T13:11:15.378Z"
   },
   {
    "duration": 10,
    "start_time": "2021-12-26T13:11:15.400Z"
   },
   {
    "duration": 34,
    "start_time": "2021-12-26T13:11:15.411Z"
   },
   {
    "duration": 30,
    "start_time": "2021-12-26T13:11:15.447Z"
   },
   {
    "duration": 229,
    "start_time": "2021-12-26T13:11:15.479Z"
   },
   {
    "duration": 32,
    "start_time": "2021-12-26T13:11:15.709Z"
   },
   {
    "duration": 12,
    "start_time": "2021-12-26T13:11:15.743Z"
   },
   {
    "duration": 15,
    "start_time": "2021-12-26T13:11:15.757Z"
   },
   {
    "duration": 571,
    "start_time": "2021-12-26T13:11:15.774Z"
   },
   {
    "duration": 8,
    "start_time": "2021-12-26T13:11:16.347Z"
   },
   {
    "duration": 7,
    "start_time": "2021-12-26T13:11:16.356Z"
   },
   {
    "duration": 103,
    "start_time": "2021-12-26T13:11:16.365Z"
   },
   {
    "duration": 16,
    "start_time": "2021-12-26T13:11:16.470Z"
   },
   {
    "duration": 22,
    "start_time": "2021-12-26T13:11:16.488Z"
   },
   {
    "duration": 31,
    "start_time": "2021-12-26T13:11:16.512Z"
   },
   {
    "duration": 42,
    "start_time": "2021-12-26T13:11:16.545Z"
   },
   {
    "duration": 6,
    "start_time": "2021-12-26T13:11:16.588Z"
   },
   {
    "duration": 7,
    "start_time": "2021-12-26T13:11:16.596Z"
   },
   {
    "duration": 8,
    "start_time": "2021-12-26T13:11:16.605Z"
   },
   {
    "duration": 32,
    "start_time": "2021-12-26T13:11:16.614Z"
   },
   {
    "duration": 101,
    "start_time": "2021-12-26T13:11:16.647Z"
   },
   {
    "duration": 18,
    "start_time": "2021-12-26T13:11:16.750Z"
   },
   {
    "duration": 6,
    "start_time": "2021-12-26T13:11:16.769Z"
   },
   {
    "duration": 36,
    "start_time": "2021-12-26T13:11:16.776Z"
   },
   {
    "duration": 30,
    "start_time": "2021-12-26T13:11:16.813Z"
   },
   {
    "duration": 24,
    "start_time": "2021-12-26T13:11:16.845Z"
   },
   {
    "duration": 26,
    "start_time": "2021-12-26T13:11:16.870Z"
   },
   {
    "duration": 6,
    "start_time": "2021-12-26T13:11:16.898Z"
   },
   {
    "duration": 7,
    "start_time": "2021-12-26T13:11:16.906Z"
   },
   {
    "duration": 111,
    "start_time": "2021-12-26T13:11:16.914Z"
   },
   {
    "duration": 19,
    "start_time": "2021-12-26T13:11:17.027Z"
   },
   {
    "duration": 15,
    "start_time": "2021-12-26T13:11:17.048Z"
   },
   {
    "duration": 2,
    "start_time": "2021-12-26T13:11:17.065Z"
   },
   {
    "duration": 18,
    "start_time": "2021-12-26T13:11:17.068Z"
   },
   {
    "duration": 12,
    "start_time": "2021-12-26T13:11:17.087Z"
   },
   {
    "duration": 46,
    "start_time": "2021-12-26T13:11:17.100Z"
   },
   {
    "duration": 7,
    "start_time": "2021-12-26T13:11:17.148Z"
   },
   {
    "duration": 48,
    "start_time": "2021-12-26T13:11:17.156Z"
   },
   {
    "duration": 11,
    "start_time": "2021-12-26T13:11:17.206Z"
   },
   {
    "duration": 36,
    "start_time": "2021-12-26T13:11:17.218Z"
   },
   {
    "duration": 30,
    "start_time": "2021-12-26T13:11:17.255Z"
   },
   {
    "duration": 6,
    "start_time": "2021-12-26T13:11:17.287Z"
   },
   {
    "duration": 17,
    "start_time": "2021-12-26T13:11:17.294Z"
   },
   {
    "duration": 30,
    "start_time": "2021-12-26T13:11:17.313Z"
   },
   {
    "duration": 14,
    "start_time": "2021-12-26T13:11:17.345Z"
   },
   {
    "duration": 4,
    "start_time": "2021-12-26T13:11:17.364Z"
   },
   {
    "duration": 14,
    "start_time": "2021-12-26T13:11:17.370Z"
   },
   {
    "duration": 12,
    "start_time": "2021-12-26T13:11:17.386Z"
   },
   {
    "duration": 44,
    "start_time": "2021-12-26T13:11:17.400Z"
   },
   {
    "duration": 10,
    "start_time": "2021-12-26T13:11:17.445Z"
   },
   {
    "duration": 7,
    "start_time": "2021-12-26T13:11:17.457Z"
   },
   {
    "duration": 9,
    "start_time": "2021-12-26T13:11:17.466Z"
   },
   {
    "duration": 154,
    "start_time": "2021-12-26T13:11:17.476Z"
   },
   {
    "duration": 16,
    "start_time": "2021-12-26T13:11:17.632Z"
   },
   {
    "duration": 10,
    "start_time": "2021-12-26T13:11:17.650Z"
   },
   {
    "duration": 30,
    "start_time": "2021-12-26T13:11:17.661Z"
   },
   {
    "duration": 3,
    "start_time": "2021-12-26T13:16:51.215Z"
   },
   {
    "duration": 31,
    "start_time": "2021-12-26T13:16:51.220Z"
   },
   {
    "duration": 10,
    "start_time": "2021-12-26T13:16:51.253Z"
   },
   {
    "duration": 8,
    "start_time": "2021-12-26T13:16:51.264Z"
   },
   {
    "duration": 172,
    "start_time": "2021-12-26T13:16:51.273Z"
   },
   {
    "duration": 8,
    "start_time": "2021-12-26T13:16:51.447Z"
   },
   {
    "duration": 24,
    "start_time": "2021-12-26T13:16:51.458Z"
   },
   {
    "duration": 94,
    "start_time": "2021-12-26T13:16:51.484Z"
   },
   {
    "duration": 7,
    "start_time": "2021-12-26T13:16:51.580Z"
   },
   {
    "duration": 15,
    "start_time": "2021-12-26T13:16:51.589Z"
   },
   {
    "duration": 125,
    "start_time": "2021-12-26T13:16:51.606Z"
   },
   {
    "duration": 11,
    "start_time": "2021-12-26T13:16:51.733Z"
   },
   {
    "duration": 21,
    "start_time": "2021-12-26T13:16:51.746Z"
   },
   {
    "duration": 17,
    "start_time": "2021-12-26T13:16:51.769Z"
   },
   {
    "duration": 15,
    "start_time": "2021-12-26T13:16:51.787Z"
   },
   {
    "duration": 22,
    "start_time": "2021-12-26T13:16:51.803Z"
   },
   {
    "duration": 21,
    "start_time": "2021-12-26T13:16:51.826Z"
   },
   {
    "duration": 22,
    "start_time": "2021-12-26T13:16:51.848Z"
   },
   {
    "duration": 18,
    "start_time": "2021-12-26T13:16:51.873Z"
   },
   {
    "duration": 27,
    "start_time": "2021-12-26T13:16:51.893Z"
   },
   {
    "duration": 17,
    "start_time": "2021-12-26T13:16:51.922Z"
   },
   {
    "duration": 21,
    "start_time": "2021-12-26T13:16:51.941Z"
   },
   {
    "duration": 15,
    "start_time": "2021-12-26T13:16:51.964Z"
   },
   {
    "duration": 18,
    "start_time": "2021-12-26T13:16:51.980Z"
   },
   {
    "duration": 31,
    "start_time": "2021-12-26T13:16:52.000Z"
   },
   {
    "duration": 13,
    "start_time": "2021-12-26T13:16:52.032Z"
   },
   {
    "duration": 31,
    "start_time": "2021-12-26T13:16:52.046Z"
   },
   {
    "duration": 221,
    "start_time": "2021-12-26T13:16:52.079Z"
   },
   {
    "duration": 29,
    "start_time": "2021-12-26T13:16:52.301Z"
   },
   {
    "duration": 20,
    "start_time": "2021-12-26T13:16:52.332Z"
   },
   {
    "duration": 10,
    "start_time": "2021-12-26T13:16:52.354Z"
   },
   {
    "duration": 621,
    "start_time": "2021-12-26T13:16:52.365Z"
   },
   {
    "duration": 8,
    "start_time": "2021-12-26T13:16:52.987Z"
   },
   {
    "duration": 6,
    "start_time": "2021-12-26T13:16:52.997Z"
   },
   {
    "duration": 101,
    "start_time": "2021-12-26T13:16:53.004Z"
   },
   {
    "duration": 15,
    "start_time": "2021-12-26T13:16:53.106Z"
   },
   {
    "duration": 31,
    "start_time": "2021-12-26T13:16:53.122Z"
   },
   {
    "duration": 9,
    "start_time": "2021-12-26T13:16:53.155Z"
   },
   {
    "duration": 40,
    "start_time": "2021-12-26T13:16:53.165Z"
   },
   {
    "duration": 5,
    "start_time": "2021-12-26T13:16:53.207Z"
   },
   {
    "duration": 28,
    "start_time": "2021-12-26T13:16:53.213Z"
   },
   {
    "duration": 8,
    "start_time": "2021-12-26T13:16:53.243Z"
   },
   {
    "duration": 7,
    "start_time": "2021-12-26T13:16:53.253Z"
   },
   {
    "duration": 93,
    "start_time": "2021-12-26T13:16:53.262Z"
   },
   {
    "duration": 20,
    "start_time": "2021-12-26T13:16:53.357Z"
   },
   {
    "duration": 7,
    "start_time": "2021-12-26T13:16:53.379Z"
   },
   {
    "duration": 55,
    "start_time": "2021-12-26T13:16:53.387Z"
   },
   {
    "duration": 12,
    "start_time": "2021-12-26T13:16:53.444Z"
   },
   {
    "duration": 21,
    "start_time": "2021-12-26T13:16:53.457Z"
   },
   {
    "duration": 27,
    "start_time": "2021-12-26T13:16:53.479Z"
   },
   {
    "duration": 34,
    "start_time": "2021-12-26T13:16:53.507Z"
   },
   {
    "duration": 7,
    "start_time": "2021-12-26T13:16:53.543Z"
   },
   {
    "duration": 102,
    "start_time": "2021-12-26T13:16:53.551Z"
   },
   {
    "duration": 12,
    "start_time": "2021-12-26T13:16:53.655Z"
   },
   {
    "duration": 15,
    "start_time": "2021-12-26T13:16:53.671Z"
   },
   {
    "duration": 2,
    "start_time": "2021-12-26T13:16:53.689Z"
   },
   {
    "duration": 19,
    "start_time": "2021-12-26T13:16:53.693Z"
   },
   {
    "duration": 38,
    "start_time": "2021-12-26T13:16:53.714Z"
   },
   {
    "duration": 22,
    "start_time": "2021-12-26T13:16:53.754Z"
   },
   {
    "duration": 8,
    "start_time": "2021-12-26T13:16:53.778Z"
   },
   {
    "duration": 76,
    "start_time": "2021-12-26T13:16:53.787Z"
   },
   {
    "duration": 11,
    "start_time": "2021-12-26T13:16:53.864Z"
   },
   {
    "duration": 19,
    "start_time": "2021-12-26T13:16:53.877Z"
   },
   {
    "duration": 43,
    "start_time": "2021-12-26T13:16:53.898Z"
   },
   {
    "duration": 6,
    "start_time": "2021-12-26T13:16:53.943Z"
   },
   {
    "duration": 21,
    "start_time": "2021-12-26T13:16:53.951Z"
   },
   {
    "duration": 5,
    "start_time": "2021-12-26T13:16:53.974Z"
   },
   {
    "duration": 14,
    "start_time": "2021-12-26T13:16:53.980Z"
   },
   {
    "duration": 5,
    "start_time": "2021-12-26T13:16:53.996Z"
   },
   {
    "duration": 39,
    "start_time": "2021-12-26T13:16:54.002Z"
   },
   {
    "duration": 3,
    "start_time": "2021-12-26T13:16:54.043Z"
   },
   {
    "duration": 14,
    "start_time": "2021-12-26T13:16:54.048Z"
   },
   {
    "duration": 5,
    "start_time": "2021-12-26T13:16:54.063Z"
   },
   {
    "duration": 10,
    "start_time": "2021-12-26T13:16:54.070Z"
   },
   {
    "duration": 7,
    "start_time": "2021-12-26T13:16:54.082Z"
   },
   {
    "duration": 156,
    "start_time": "2021-12-26T13:16:54.090Z"
   },
   {
    "duration": 12,
    "start_time": "2021-12-26T13:16:54.247Z"
   },
   {
    "duration": 20,
    "start_time": "2021-12-26T13:16:54.260Z"
   },
   {
    "duration": 17,
    "start_time": "2021-12-26T13:16:54.282Z"
   },
   {
    "duration": 3,
    "start_time": "2021-12-26T13:22:18.362Z"
   },
   {
    "duration": 41,
    "start_time": "2021-12-26T13:22:18.367Z"
   },
   {
    "duration": 23,
    "start_time": "2021-12-26T13:22:18.410Z"
   },
   {
    "duration": 15,
    "start_time": "2021-12-26T13:22:18.435Z"
   },
   {
    "duration": 145,
    "start_time": "2021-12-26T13:22:18.452Z"
   },
   {
    "duration": 6,
    "start_time": "2021-12-26T13:22:18.599Z"
   },
   {
    "duration": 37,
    "start_time": "2021-12-26T13:22:18.609Z"
   },
   {
    "duration": 79,
    "start_time": "2021-12-26T13:22:18.648Z"
   },
   {
    "duration": 7,
    "start_time": "2021-12-26T13:22:18.729Z"
   },
   {
    "duration": 26,
    "start_time": "2021-12-26T13:22:18.737Z"
   },
   {
    "duration": 127,
    "start_time": "2021-12-26T13:22:18.765Z"
   },
   {
    "duration": 7,
    "start_time": "2021-12-26T13:22:18.894Z"
   },
   {
    "duration": 29,
    "start_time": "2021-12-26T13:22:18.903Z"
   },
   {
    "duration": 28,
    "start_time": "2021-12-26T13:22:18.933Z"
   },
   {
    "duration": 12,
    "start_time": "2021-12-26T13:22:18.963Z"
   },
   {
    "duration": 20,
    "start_time": "2021-12-26T13:22:18.977Z"
   },
   {
    "duration": 17,
    "start_time": "2021-12-26T13:22:18.998Z"
   },
   {
    "duration": 17,
    "start_time": "2021-12-26T13:22:19.016Z"
   },
   {
    "duration": 18,
    "start_time": "2021-12-26T13:22:19.036Z"
   },
   {
    "duration": 13,
    "start_time": "2021-12-26T13:22:19.056Z"
   },
   {
    "duration": 18,
    "start_time": "2021-12-26T13:22:19.071Z"
   },
   {
    "duration": 21,
    "start_time": "2021-12-26T13:22:19.090Z"
   },
   {
    "duration": 20,
    "start_time": "2021-12-26T13:22:19.112Z"
   },
   {
    "duration": 22,
    "start_time": "2021-12-26T13:22:19.134Z"
   },
   {
    "duration": 14,
    "start_time": "2021-12-26T13:22:19.157Z"
   },
   {
    "duration": 14,
    "start_time": "2021-12-26T13:22:19.173Z"
   },
   {
    "duration": 21,
    "start_time": "2021-12-26T13:22:19.188Z"
   },
   {
    "duration": 228,
    "start_time": "2021-12-26T13:22:19.211Z"
   },
   {
    "duration": 29,
    "start_time": "2021-12-26T13:22:19.441Z"
   },
   {
    "duration": 15,
    "start_time": "2021-12-26T13:22:19.472Z"
   },
   {
    "duration": 20,
    "start_time": "2021-12-26T13:22:19.489Z"
   },
   {
    "duration": 656,
    "start_time": "2021-12-26T13:22:19.510Z"
   },
   {
    "duration": 9,
    "start_time": "2021-12-26T13:22:20.167Z"
   },
   {
    "duration": 28,
    "start_time": "2021-12-26T13:22:20.177Z"
   },
   {
    "duration": 103,
    "start_time": "2021-12-26T13:22:20.206Z"
   },
   {
    "duration": 15,
    "start_time": "2021-12-26T13:22:20.310Z"
   },
   {
    "duration": 23,
    "start_time": "2021-12-26T13:22:20.327Z"
   },
   {
    "duration": 9,
    "start_time": "2021-12-26T13:22:20.351Z"
   },
   {
    "duration": 41,
    "start_time": "2021-12-26T13:22:20.362Z"
   },
   {
    "duration": 7,
    "start_time": "2021-12-26T13:22:20.404Z"
   },
   {
    "duration": 32,
    "start_time": "2021-12-26T13:22:20.412Z"
   },
   {
    "duration": 9,
    "start_time": "2021-12-26T13:22:20.445Z"
   },
   {
    "duration": 10,
    "start_time": "2021-12-26T13:22:20.455Z"
   },
   {
    "duration": 96,
    "start_time": "2021-12-26T13:22:20.466Z"
   },
   {
    "duration": 19,
    "start_time": "2021-12-26T13:22:20.564Z"
   },
   {
    "duration": 5,
    "start_time": "2021-12-26T13:22:20.585Z"
   },
   {
    "duration": 53,
    "start_time": "2021-12-26T13:22:20.592Z"
   },
   {
    "duration": 11,
    "start_time": "2021-12-26T13:22:20.647Z"
   },
   {
    "duration": 21,
    "start_time": "2021-12-26T13:22:20.659Z"
   },
   {
    "duration": 28,
    "start_time": "2021-12-26T13:22:20.682Z"
   },
   {
    "duration": 31,
    "start_time": "2021-12-26T13:22:20.711Z"
   },
   {
    "duration": 164,
    "start_time": "2021-12-26T13:22:20.743Z"
   },
   {
    "duration": 121,
    "start_time": "2021-12-26T13:22:20.909Z"
   },
   {
    "duration": 16,
    "start_time": "2021-12-26T13:22:21.032Z"
   },
   {
    "duration": 15,
    "start_time": "2021-12-26T13:22:21.052Z"
   },
   {
    "duration": 22,
    "start_time": "2021-12-26T13:22:21.069Z"
   },
   {
    "duration": 13,
    "start_time": "2021-12-26T13:22:21.093Z"
   },
   {
    "duration": 11,
    "start_time": "2021-12-26T13:22:21.107Z"
   },
   {
    "duration": 40,
    "start_time": "2021-12-26T13:22:21.120Z"
   },
   {
    "duration": 7,
    "start_time": "2021-12-26T13:22:21.161Z"
   },
   {
    "duration": 73,
    "start_time": "2021-12-26T13:22:21.169Z"
   },
   {
    "duration": 11,
    "start_time": "2021-12-26T13:22:21.243Z"
   },
   {
    "duration": 16,
    "start_time": "2021-12-26T13:22:21.256Z"
   },
   {
    "duration": 34,
    "start_time": "2021-12-26T13:22:21.274Z"
   },
   {
    "duration": 32,
    "start_time": "2021-12-26T13:22:21.310Z"
   },
   {
    "duration": 20,
    "start_time": "2021-12-26T13:22:21.344Z"
   },
   {
    "duration": 6,
    "start_time": "2021-12-26T13:22:21.366Z"
   },
   {
    "duration": 15,
    "start_time": "2021-12-26T13:22:21.374Z"
   },
   {
    "duration": 5,
    "start_time": "2021-12-26T13:22:21.390Z"
   },
   {
    "duration": 45,
    "start_time": "2021-12-26T13:22:21.397Z"
   },
   {
    "duration": 4,
    "start_time": "2021-12-26T13:22:21.444Z"
   },
   {
    "duration": 14,
    "start_time": "2021-12-26T13:22:21.450Z"
   },
   {
    "duration": 6,
    "start_time": "2021-12-26T13:22:21.466Z"
   },
   {
    "duration": 6,
    "start_time": "2021-12-26T13:22:21.474Z"
   },
   {
    "duration": 185,
    "start_time": "2021-12-26T13:22:21.482Z"
   },
   {
    "duration": 14,
    "start_time": "2021-12-26T13:22:21.669Z"
   },
   {
    "duration": 20,
    "start_time": "2021-12-26T13:22:21.684Z"
   },
   {
    "duration": 27,
    "start_time": "2021-12-26T13:22:21.705Z"
   },
   {
    "duration": 14,
    "start_time": "2021-12-26T13:25:30.520Z"
   },
   {
    "duration": 14,
    "start_time": "2021-12-26T13:25:45.128Z"
   },
   {
    "duration": 24,
    "start_time": "2021-12-26T13:33:14.876Z"
   },
   {
    "duration": 6,
    "start_time": "2021-12-26T13:43:42.965Z"
   },
   {
    "duration": 5,
    "start_time": "2021-12-26T13:43:43.205Z"
   },
   {
    "duration": 41,
    "start_time": "2021-12-26T13:46:04.614Z"
   },
   {
    "duration": 3,
    "start_time": "2021-12-26T13:46:19.701Z"
   },
   {
    "duration": 37,
    "start_time": "2021-12-26T13:46:19.706Z"
   },
   {
    "duration": 9,
    "start_time": "2021-12-26T13:46:19.745Z"
   },
   {
    "duration": 11,
    "start_time": "2021-12-26T13:46:19.756Z"
   },
   {
    "duration": 173,
    "start_time": "2021-12-26T13:46:19.769Z"
   },
   {
    "duration": 7,
    "start_time": "2021-12-26T13:46:19.943Z"
   },
   {
    "duration": 25,
    "start_time": "2021-12-26T13:46:19.952Z"
   },
   {
    "duration": 81,
    "start_time": "2021-12-26T13:46:19.979Z"
   },
   {
    "duration": 7,
    "start_time": "2021-12-26T13:46:20.062Z"
   },
   {
    "duration": 15,
    "start_time": "2021-12-26T13:46:20.070Z"
   },
   {
    "duration": 120,
    "start_time": "2021-12-26T13:46:20.087Z"
   },
   {
    "duration": 8,
    "start_time": "2021-12-26T13:46:20.209Z"
   },
   {
    "duration": 26,
    "start_time": "2021-12-26T13:46:20.219Z"
   },
   {
    "duration": 18,
    "start_time": "2021-12-26T13:46:20.246Z"
   },
   {
    "duration": 10,
    "start_time": "2021-12-26T13:46:20.266Z"
   },
   {
    "duration": 6,
    "start_time": "2021-12-26T13:46:20.277Z"
   },
   {
    "duration": 12,
    "start_time": "2021-12-26T13:46:20.284Z"
   },
   {
    "duration": 5,
    "start_time": "2021-12-26T13:46:20.298Z"
   },
   {
    "duration": 10,
    "start_time": "2021-12-26T13:46:20.306Z"
   },
   {
    "duration": 9,
    "start_time": "2021-12-26T13:46:20.318Z"
   },
   {
    "duration": 14,
    "start_time": "2021-12-26T13:46:20.329Z"
   },
   {
    "duration": 9,
    "start_time": "2021-12-26T13:46:20.344Z"
   },
   {
    "duration": 14,
    "start_time": "2021-12-26T13:46:20.354Z"
   },
   {
    "duration": 17,
    "start_time": "2021-12-26T13:46:20.369Z"
   },
   {
    "duration": 8,
    "start_time": "2021-12-26T13:46:20.388Z"
   },
   {
    "duration": 12,
    "start_time": "2021-12-26T13:46:20.398Z"
   },
   {
    "duration": 17,
    "start_time": "2021-12-26T13:46:20.411Z"
   },
   {
    "duration": 242,
    "start_time": "2021-12-26T13:46:20.429Z"
   },
   {
    "duration": 26,
    "start_time": "2021-12-26T13:46:20.672Z"
   },
   {
    "duration": 15,
    "start_time": "2021-12-26T13:46:20.700Z"
   },
   {
    "duration": 28,
    "start_time": "2021-12-26T13:46:20.717Z"
   },
   {
    "duration": 619,
    "start_time": "2021-12-26T13:46:20.747Z"
   },
   {
    "duration": 7,
    "start_time": "2021-12-26T13:46:21.368Z"
   },
   {
    "duration": 6,
    "start_time": "2021-12-26T13:46:21.377Z"
   },
   {
    "duration": 100,
    "start_time": "2021-12-26T13:46:21.384Z"
   },
   {
    "duration": 15,
    "start_time": "2021-12-26T13:46:21.485Z"
   },
   {
    "duration": 26,
    "start_time": "2021-12-26T13:46:21.501Z"
   },
   {
    "duration": 20,
    "start_time": "2021-12-26T13:46:21.529Z"
   },
   {
    "duration": 46,
    "start_time": "2021-12-26T13:46:21.551Z"
   },
   {
    "duration": 7,
    "start_time": "2021-12-26T13:46:21.599Z"
   },
   {
    "duration": 12,
    "start_time": "2021-12-26T13:46:21.607Z"
   },
   {
    "duration": 10,
    "start_time": "2021-12-26T13:46:21.641Z"
   },
   {
    "duration": 13,
    "start_time": "2021-12-26T13:46:21.652Z"
   },
   {
    "duration": 101,
    "start_time": "2021-12-26T13:46:21.667Z"
   },
   {
    "duration": 20,
    "start_time": "2021-12-26T13:46:21.770Z"
   },
   {
    "duration": 6,
    "start_time": "2021-12-26T13:46:21.791Z"
   },
   {
    "duration": 52,
    "start_time": "2021-12-26T13:46:21.799Z"
   },
   {
    "duration": 10,
    "start_time": "2021-12-26T13:46:21.852Z"
   },
   {
    "duration": 21,
    "start_time": "2021-12-26T13:46:21.864Z"
   },
   {
    "duration": 26,
    "start_time": "2021-12-26T13:46:21.887Z"
   },
   {
    "duration": 27,
    "start_time": "2021-12-26T13:46:21.914Z"
   },
   {
    "duration": 7,
    "start_time": "2021-12-26T13:46:21.943Z"
   },
   {
    "duration": 106,
    "start_time": "2021-12-26T13:46:21.952Z"
   },
   {
    "duration": 14,
    "start_time": "2021-12-26T13:46:22.060Z"
   },
   {
    "duration": 17,
    "start_time": "2021-12-26T13:46:22.079Z"
   },
   {
    "duration": 18,
    "start_time": "2021-12-26T13:46:22.098Z"
   },
   {
    "duration": 10,
    "start_time": "2021-12-26T13:46:22.141Z"
   },
   {
    "duration": 33,
    "start_time": "2021-12-26T13:46:22.153Z"
   },
   {
    "duration": 36,
    "start_time": "2021-12-26T13:46:22.188Z"
   },
   {
    "duration": 6,
    "start_time": "2021-12-26T13:46:22.226Z"
   },
   {
    "duration": 84,
    "start_time": "2021-12-26T13:46:22.234Z"
   },
   {
    "duration": 12,
    "start_time": "2021-12-26T13:46:22.320Z"
   },
   {
    "duration": 46,
    "start_time": "2021-12-26T13:46:22.334Z"
   },
   {
    "duration": 44,
    "start_time": "2021-12-26T13:46:22.382Z"
   },
   {
    "duration": 6,
    "start_time": "2021-12-26T13:46:22.428Z"
   },
   {
    "duration": 22,
    "start_time": "2021-12-26T13:46:22.436Z"
   },
   {
    "duration": 5,
    "start_time": "2021-12-26T13:46:22.460Z"
   },
   {
    "duration": 19,
    "start_time": "2021-12-26T13:46:22.467Z"
   },
   {
    "duration": 6,
    "start_time": "2021-12-26T13:46:22.488Z"
   },
   {
    "duration": 17,
    "start_time": "2021-12-26T13:46:22.496Z"
   },
   {
    "duration": 3,
    "start_time": "2021-12-26T13:46:22.515Z"
   },
   {
    "duration": 47,
    "start_time": "2021-12-26T13:46:22.519Z"
   },
   {
    "duration": 7,
    "start_time": "2021-12-26T13:46:22.568Z"
   },
   {
    "duration": 6,
    "start_time": "2021-12-26T13:46:22.577Z"
   },
   {
    "duration": 163,
    "start_time": "2021-12-26T13:46:22.585Z"
   },
   {
    "duration": 12,
    "start_time": "2021-12-26T13:46:22.750Z"
   },
   {
    "duration": 12,
    "start_time": "2021-12-26T13:46:22.763Z"
   },
   {
    "duration": 19,
    "start_time": "2021-12-26T13:46:22.776Z"
   },
   {
    "duration": 17,
    "start_time": "2021-12-26T13:46:22.796Z"
   },
   {
    "duration": 17,
    "start_time": "2021-12-26T13:51:19.450Z"
   },
   {
    "duration": 4,
    "start_time": "2021-12-26T13:51:23.361Z"
   },
   {
    "duration": 32,
    "start_time": "2021-12-26T13:51:23.366Z"
   },
   {
    "duration": 9,
    "start_time": "2021-12-26T13:51:23.400Z"
   },
   {
    "duration": 7,
    "start_time": "2021-12-26T13:51:23.411Z"
   },
   {
    "duration": 173,
    "start_time": "2021-12-26T13:51:23.420Z"
   },
   {
    "duration": 7,
    "start_time": "2021-12-26T13:51:23.595Z"
   },
   {
    "duration": 47,
    "start_time": "2021-12-26T13:51:23.604Z"
   },
   {
    "duration": 86,
    "start_time": "2021-12-26T13:51:23.653Z"
   },
   {
    "duration": 7,
    "start_time": "2021-12-26T13:51:23.741Z"
   },
   {
    "duration": 16,
    "start_time": "2021-12-26T13:51:23.750Z"
   },
   {
    "duration": 179,
    "start_time": "2021-12-26T13:51:23.768Z"
   },
   {
    "duration": 9,
    "start_time": "2021-12-26T13:51:23.949Z"
   },
   {
    "duration": 18,
    "start_time": "2021-12-26T13:51:23.960Z"
   },
   {
    "duration": 18,
    "start_time": "2021-12-26T13:51:23.979Z"
   },
   {
    "duration": 12,
    "start_time": "2021-12-26T13:51:23.998Z"
   },
   {
    "duration": 7,
    "start_time": "2021-12-26T13:51:24.011Z"
   },
   {
    "duration": 24,
    "start_time": "2021-12-26T13:51:24.019Z"
   },
   {
    "duration": 14,
    "start_time": "2021-12-26T13:51:24.045Z"
   },
   {
    "duration": 12,
    "start_time": "2021-12-26T13:51:24.062Z"
   },
   {
    "duration": 12,
    "start_time": "2021-12-26T13:51:24.076Z"
   },
   {
    "duration": 11,
    "start_time": "2021-12-26T13:51:24.090Z"
   },
   {
    "duration": 11,
    "start_time": "2021-12-26T13:51:24.102Z"
   },
   {
    "duration": 23,
    "start_time": "2021-12-26T13:51:24.115Z"
   },
   {
    "duration": 23,
    "start_time": "2021-12-26T13:51:24.140Z"
   },
   {
    "duration": 23,
    "start_time": "2021-12-26T13:51:24.164Z"
   },
   {
    "duration": 19,
    "start_time": "2021-12-26T13:51:24.188Z"
   },
   {
    "duration": 20,
    "start_time": "2021-12-26T13:51:24.209Z"
   },
   {
    "duration": 15,
    "start_time": "2021-12-26T13:51:24.231Z"
   },
   {
    "duration": 34,
    "start_time": "2021-12-26T13:51:24.248Z"
   },
   {
    "duration": 16,
    "start_time": "2021-12-26T13:51:24.284Z"
   },
   {
    "duration": 238,
    "start_time": "2021-12-26T13:51:24.302Z"
   },
   {
    "duration": 28,
    "start_time": "2021-12-26T13:51:24.541Z"
   },
   {
    "duration": 18,
    "start_time": "2021-12-26T13:51:24.570Z"
   },
   {
    "duration": 27,
    "start_time": "2021-12-26T13:51:24.590Z"
   },
   {
    "duration": 647,
    "start_time": "2021-12-26T13:51:24.618Z"
   },
   {
    "duration": 8,
    "start_time": "2021-12-26T13:51:25.267Z"
   },
   {
    "duration": 21,
    "start_time": "2021-12-26T13:51:25.277Z"
   },
   {
    "duration": 104,
    "start_time": "2021-12-26T13:51:25.300Z"
   },
   {
    "duration": 15,
    "start_time": "2021-12-26T13:51:25.406Z"
   },
   {
    "duration": 33,
    "start_time": "2021-12-26T13:51:25.423Z"
   },
   {
    "duration": 11,
    "start_time": "2021-12-26T13:51:25.458Z"
   },
   {
    "duration": 42,
    "start_time": "2021-12-26T13:51:25.471Z"
   },
   {
    "duration": 6,
    "start_time": "2021-12-26T13:51:25.514Z"
   },
   {
    "duration": 7,
    "start_time": "2021-12-26T13:51:25.541Z"
   },
   {
    "duration": 11,
    "start_time": "2021-12-26T13:51:25.550Z"
   },
   {
    "duration": 9,
    "start_time": "2021-12-26T13:51:25.562Z"
   },
   {
    "duration": 115,
    "start_time": "2021-12-26T13:51:25.573Z"
   },
   {
    "duration": 19,
    "start_time": "2021-12-26T13:51:25.690Z"
   },
   {
    "duration": 6,
    "start_time": "2021-12-26T13:51:25.710Z"
   },
   {
    "duration": 51,
    "start_time": "2021-12-26T13:51:25.718Z"
   },
   {
    "duration": 11,
    "start_time": "2021-12-26T13:51:25.770Z"
   },
   {
    "duration": 29,
    "start_time": "2021-12-26T13:51:25.782Z"
   },
   {
    "duration": 43,
    "start_time": "2021-12-26T13:51:25.813Z"
   },
   {
    "duration": 8,
    "start_time": "2021-12-26T13:51:25.858Z"
   },
   {
    "duration": 7,
    "start_time": "2021-12-26T13:51:25.871Z"
   },
   {
    "duration": 138,
    "start_time": "2021-12-26T13:51:25.881Z"
   },
   {
    "duration": 26,
    "start_time": "2021-12-26T13:51:26.021Z"
   },
   {
    "duration": 16,
    "start_time": "2021-12-26T13:51:26.049Z"
   },
   {
    "duration": 17,
    "start_time": "2021-12-26T13:51:26.066Z"
   },
   {
    "duration": 10,
    "start_time": "2021-12-26T13:51:26.085Z"
   },
   {
    "duration": 11,
    "start_time": "2021-12-26T13:51:26.097Z"
   },
   {
    "duration": 46,
    "start_time": "2021-12-26T13:51:26.110Z"
   },
   {
    "duration": 6,
    "start_time": "2021-12-26T13:51:26.157Z"
   },
   {
    "duration": 84,
    "start_time": "2021-12-26T13:51:26.165Z"
   },
   {
    "duration": 11,
    "start_time": "2021-12-26T13:51:26.251Z"
   },
   {
    "duration": 19,
    "start_time": "2021-12-26T13:51:26.263Z"
   },
   {
    "duration": 35,
    "start_time": "2021-12-26T13:51:26.284Z"
   },
   {
    "duration": 24,
    "start_time": "2021-12-26T13:51:26.321Z"
   },
   {
    "duration": 19,
    "start_time": "2021-12-26T13:51:26.347Z"
   },
   {
    "duration": 5,
    "start_time": "2021-12-26T13:51:26.368Z"
   },
   {
    "duration": 18,
    "start_time": "2021-12-26T13:51:26.375Z"
   },
   {
    "duration": 5,
    "start_time": "2021-12-26T13:51:26.394Z"
   },
   {
    "duration": 43,
    "start_time": "2021-12-26T13:51:26.400Z"
   },
   {
    "duration": 4,
    "start_time": "2021-12-26T13:51:26.444Z"
   },
   {
    "duration": 30,
    "start_time": "2021-12-26T13:51:26.450Z"
   },
   {
    "duration": 7,
    "start_time": "2021-12-26T13:51:26.482Z"
   },
   {
    "duration": 6,
    "start_time": "2021-12-26T13:51:26.491Z"
   },
   {
    "duration": 175,
    "start_time": "2021-12-26T13:51:26.499Z"
   },
   {
    "duration": 14,
    "start_time": "2021-12-26T13:51:26.675Z"
   },
   {
    "duration": 12,
    "start_time": "2021-12-26T13:51:26.690Z"
   },
   {
    "duration": 22,
    "start_time": "2021-12-26T13:51:26.704Z"
   },
   {
    "duration": 19,
    "start_time": "2021-12-26T13:51:26.740Z"
   },
   {
    "duration": 4,
    "start_time": "2021-12-26T13:53:11.860Z"
   },
   {
    "duration": 17,
    "start_time": "2021-12-26T13:53:14.437Z"
   },
   {
    "duration": 4,
    "start_time": "2021-12-26T13:53:54.276Z"
   },
   {
    "duration": 16,
    "start_time": "2021-12-26T13:53:57.326Z"
   },
   {
    "duration": 6,
    "start_time": "2021-12-26T13:57:07.152Z"
   },
   {
    "duration": 22,
    "start_time": "2021-12-26T13:57:22.215Z"
   },
   {
    "duration": 3,
    "start_time": "2021-12-26T13:58:24.548Z"
   },
   {
    "duration": 35,
    "start_time": "2021-12-26T13:58:24.553Z"
   },
   {
    "duration": 10,
    "start_time": "2021-12-26T13:58:24.591Z"
   },
   {
    "duration": 8,
    "start_time": "2021-12-26T13:58:24.603Z"
   },
   {
    "duration": 166,
    "start_time": "2021-12-26T13:58:24.613Z"
   },
   {
    "duration": 9,
    "start_time": "2021-12-26T13:58:24.780Z"
   },
   {
    "duration": 51,
    "start_time": "2021-12-26T13:58:24.791Z"
   },
   {
    "duration": 83,
    "start_time": "2021-12-26T13:58:24.844Z"
   },
   {
    "duration": 7,
    "start_time": "2021-12-26T13:58:24.929Z"
   },
   {
    "duration": 14,
    "start_time": "2021-12-26T13:58:24.941Z"
   },
   {
    "duration": 121,
    "start_time": "2021-12-26T13:58:24.957Z"
   },
   {
    "duration": 9,
    "start_time": "2021-12-26T13:58:25.080Z"
   },
   {
    "duration": 19,
    "start_time": "2021-12-26T13:58:25.090Z"
   },
   {
    "duration": 18,
    "start_time": "2021-12-26T13:58:25.111Z"
   },
   {
    "duration": 12,
    "start_time": "2021-12-26T13:58:25.130Z"
   },
   {
    "duration": 6,
    "start_time": "2021-12-26T13:58:25.143Z"
   },
   {
    "duration": 11,
    "start_time": "2021-12-26T13:58:25.150Z"
   },
   {
    "duration": 6,
    "start_time": "2021-12-26T13:58:25.163Z"
   },
   {
    "duration": 5,
    "start_time": "2021-12-26T13:58:25.173Z"
   },
   {
    "duration": 6,
    "start_time": "2021-12-26T13:58:25.181Z"
   },
   {
    "duration": 11,
    "start_time": "2021-12-26T13:58:25.189Z"
   },
   {
    "duration": 10,
    "start_time": "2021-12-26T13:58:25.201Z"
   },
   {
    "duration": 32,
    "start_time": "2021-12-26T13:58:25.212Z"
   },
   {
    "duration": 9,
    "start_time": "2021-12-26T13:58:25.245Z"
   },
   {
    "duration": 8,
    "start_time": "2021-12-26T13:58:25.256Z"
   },
   {
    "duration": 10,
    "start_time": "2021-12-26T13:58:25.265Z"
   },
   {
    "duration": 6,
    "start_time": "2021-12-26T13:58:25.276Z"
   },
   {
    "duration": 10,
    "start_time": "2021-12-26T13:58:25.283Z"
   },
   {
    "duration": 8,
    "start_time": "2021-12-26T13:58:25.295Z"
   },
   {
    "duration": 27,
    "start_time": "2021-12-26T13:58:25.305Z"
   },
   {
    "duration": 8,
    "start_time": "2021-12-26T13:58:25.334Z"
   },
   {
    "duration": 225,
    "start_time": "2021-12-26T13:58:25.343Z"
   },
   {
    "duration": 27,
    "start_time": "2021-12-26T13:58:25.569Z"
   },
   {
    "duration": 13,
    "start_time": "2021-12-26T13:58:25.597Z"
   },
   {
    "duration": 35,
    "start_time": "2021-12-26T13:58:25.612Z"
   },
   {
    "duration": 630,
    "start_time": "2021-12-26T13:58:25.649Z"
   },
   {
    "duration": 8,
    "start_time": "2021-12-26T13:58:26.280Z"
   },
   {
    "duration": 6,
    "start_time": "2021-12-26T13:58:26.290Z"
   },
   {
    "duration": 103,
    "start_time": "2021-12-26T13:58:26.298Z"
   },
   {
    "duration": 16,
    "start_time": "2021-12-26T13:58:26.403Z"
   },
   {
    "duration": 35,
    "start_time": "2021-12-26T13:58:26.420Z"
   },
   {
    "duration": 11,
    "start_time": "2021-12-26T13:58:26.456Z"
   },
   {
    "duration": 41,
    "start_time": "2021-12-26T13:58:26.468Z"
   },
   {
    "duration": 6,
    "start_time": "2021-12-26T13:58:26.511Z"
   },
   {
    "duration": 7,
    "start_time": "2021-12-26T13:58:26.541Z"
   },
   {
    "duration": 14,
    "start_time": "2021-12-26T13:58:26.549Z"
   },
   {
    "duration": 6,
    "start_time": "2021-12-26T13:58:26.565Z"
   },
   {
    "duration": 103,
    "start_time": "2021-12-26T13:58:26.573Z"
   },
   {
    "duration": 17,
    "start_time": "2021-12-26T13:58:26.678Z"
   },
   {
    "duration": 5,
    "start_time": "2021-12-26T13:58:26.697Z"
   },
   {
    "duration": 48,
    "start_time": "2021-12-26T13:58:26.704Z"
   },
   {
    "duration": 10,
    "start_time": "2021-12-26T13:58:26.754Z"
   },
   {
    "duration": 22,
    "start_time": "2021-12-26T13:58:26.765Z"
   },
   {
    "duration": 28,
    "start_time": "2021-12-26T13:58:26.789Z"
   },
   {
    "duration": 6,
    "start_time": "2021-12-26T13:58:26.842Z"
   },
   {
    "duration": 6,
    "start_time": "2021-12-26T13:58:26.850Z"
   },
   {
    "duration": 106,
    "start_time": "2021-12-26T13:58:26.857Z"
   },
   {
    "duration": 12,
    "start_time": "2021-12-26T13:58:26.964Z"
   },
   {
    "duration": 15,
    "start_time": "2021-12-26T13:58:26.978Z"
   },
   {
    "duration": 17,
    "start_time": "2021-12-26T13:58:26.994Z"
   },
   {
    "duration": 34,
    "start_time": "2021-12-26T13:58:27.012Z"
   },
   {
    "duration": 11,
    "start_time": "2021-12-26T13:58:27.048Z"
   },
   {
    "duration": 21,
    "start_time": "2021-12-26T13:58:27.060Z"
   },
   {
    "duration": 6,
    "start_time": "2021-12-26T13:58:27.082Z"
   },
   {
    "duration": 86,
    "start_time": "2021-12-26T13:58:27.090Z"
   },
   {
    "duration": 11,
    "start_time": "2021-12-26T13:58:27.178Z"
   },
   {
    "duration": 16,
    "start_time": "2021-12-26T13:58:27.191Z"
   },
   {
    "duration": 49,
    "start_time": "2021-12-26T13:58:27.208Z"
   },
   {
    "duration": 6,
    "start_time": "2021-12-26T13:58:27.259Z"
   },
   {
    "duration": 22,
    "start_time": "2021-12-26T13:58:27.266Z"
   },
   {
    "duration": 4,
    "start_time": "2021-12-26T13:58:27.290Z"
   },
   {
    "duration": 15,
    "start_time": "2021-12-26T13:58:27.296Z"
   },
   {
    "duration": 4,
    "start_time": "2021-12-26T13:58:27.312Z"
   },
   {
    "duration": 33,
    "start_time": "2021-12-26T13:58:27.318Z"
   },
   {
    "duration": 3,
    "start_time": "2021-12-26T13:58:27.353Z"
   },
   {
    "duration": 28,
    "start_time": "2021-12-26T13:58:27.357Z"
   },
   {
    "duration": 6,
    "start_time": "2021-12-26T13:58:27.386Z"
   },
   {
    "duration": 5,
    "start_time": "2021-12-26T13:58:27.394Z"
   },
   {
    "duration": 165,
    "start_time": "2021-12-26T13:58:27.401Z"
   },
   {
    "duration": 13,
    "start_time": "2021-12-26T13:58:27.568Z"
   },
   {
    "duration": 12,
    "start_time": "2021-12-26T13:58:27.583Z"
   },
   {
    "duration": 21,
    "start_time": "2021-12-26T13:58:27.597Z"
   },
   {
    "duration": 38,
    "start_time": "2021-12-26T13:58:27.620Z"
   },
   {
    "duration": 5,
    "start_time": "2021-12-26T14:04:18.429Z"
   },
   {
    "duration": 5,
    "start_time": "2021-12-26T14:04:45.636Z"
   },
   {
    "duration": 7,
    "start_time": "2021-12-26T14:04:52.276Z"
   },
   {
    "duration": 7,
    "start_time": "2021-12-26T14:11:34.041Z"
   },
   {
    "duration": 6,
    "start_time": "2021-12-26T14:12:11.058Z"
   },
   {
    "duration": 10,
    "start_time": "2021-12-26T14:12:28.587Z"
   },
   {
    "duration": 5,
    "start_time": "2021-12-26T14:13:19.819Z"
   },
   {
    "duration": 10,
    "start_time": "2021-12-26T14:13:23.227Z"
   },
   {
    "duration": 7,
    "start_time": "2021-12-26T14:15:23.309Z"
   },
   {
    "duration": 12,
    "start_time": "2021-12-26T14:15:30.612Z"
   },
   {
    "duration": 10,
    "start_time": "2021-12-26T14:15:58.909Z"
   },
   {
    "duration": 261,
    "start_time": "2021-12-26T14:17:25.919Z"
   },
   {
    "duration": 11,
    "start_time": "2021-12-26T14:17:38.159Z"
   },
   {
    "duration": 11,
    "start_time": "2021-12-26T14:19:13.416Z"
   },
   {
    "duration": 12,
    "start_time": "2021-12-26T14:19:18.303Z"
   },
   {
    "duration": 11,
    "start_time": "2021-12-26T14:19:28.536Z"
   },
   {
    "duration": 11,
    "start_time": "2021-12-26T14:28:44.279Z"
   },
   {
    "duration": 3,
    "start_time": "2021-12-26T14:29:43.064Z"
   },
   {
    "duration": 32,
    "start_time": "2021-12-26T14:29:43.069Z"
   },
   {
    "duration": 9,
    "start_time": "2021-12-26T14:29:43.103Z"
   },
   {
    "duration": 6,
    "start_time": "2021-12-26T14:29:43.114Z"
   },
   {
    "duration": 154,
    "start_time": "2021-12-26T14:29:43.122Z"
   },
   {
    "duration": 8,
    "start_time": "2021-12-26T14:29:43.278Z"
   },
   {
    "duration": 21,
    "start_time": "2021-12-26T14:29:43.288Z"
   },
   {
    "duration": 93,
    "start_time": "2021-12-26T14:29:43.311Z"
   },
   {
    "duration": 7,
    "start_time": "2021-12-26T14:29:43.405Z"
   },
   {
    "duration": 36,
    "start_time": "2021-12-26T14:29:43.413Z"
   },
   {
    "duration": 116,
    "start_time": "2021-12-26T14:29:43.451Z"
   },
   {
    "duration": 9,
    "start_time": "2021-12-26T14:29:43.569Z"
   },
   {
    "duration": 17,
    "start_time": "2021-12-26T14:29:43.580Z"
   },
   {
    "duration": 18,
    "start_time": "2021-12-26T14:29:43.598Z"
   },
   {
    "duration": 9,
    "start_time": "2021-12-26T14:29:43.618Z"
   },
   {
    "duration": 14,
    "start_time": "2021-12-26T14:29:43.628Z"
   },
   {
    "duration": 9,
    "start_time": "2021-12-26T14:29:43.644Z"
   },
   {
    "duration": 4,
    "start_time": "2021-12-26T14:29:43.655Z"
   },
   {
    "duration": 6,
    "start_time": "2021-12-26T14:29:43.664Z"
   },
   {
    "duration": 5,
    "start_time": "2021-12-26T14:29:43.673Z"
   },
   {
    "duration": 12,
    "start_time": "2021-12-26T14:29:43.680Z"
   },
   {
    "duration": 9,
    "start_time": "2021-12-26T14:29:43.694Z"
   },
   {
    "duration": 40,
    "start_time": "2021-12-26T14:29:43.705Z"
   },
   {
    "duration": 6,
    "start_time": "2021-12-26T14:29:43.747Z"
   },
   {
    "duration": 6,
    "start_time": "2021-12-26T14:29:43.755Z"
   },
   {
    "duration": 8,
    "start_time": "2021-12-26T14:29:43.763Z"
   },
   {
    "duration": 5,
    "start_time": "2021-12-26T14:29:43.773Z"
   },
   {
    "duration": 9,
    "start_time": "2021-12-26T14:29:43.780Z"
   },
   {
    "duration": 8,
    "start_time": "2021-12-26T14:29:43.790Z"
   },
   {
    "duration": 42,
    "start_time": "2021-12-26T14:29:43.800Z"
   },
   {
    "duration": 6,
    "start_time": "2021-12-26T14:29:43.843Z"
   },
   {
    "duration": 208,
    "start_time": "2021-12-26T14:29:43.850Z"
   },
   {
    "duration": 26,
    "start_time": "2021-12-26T14:29:44.060Z"
   },
   {
    "duration": 13,
    "start_time": "2021-12-26T14:29:44.087Z"
   },
   {
    "duration": 10,
    "start_time": "2021-12-26T14:29:44.102Z"
   },
   {
    "duration": 580,
    "start_time": "2021-12-26T14:29:44.113Z"
   },
   {
    "duration": 8,
    "start_time": "2021-12-26T14:29:44.695Z"
   },
   {
    "duration": 6,
    "start_time": "2021-12-26T14:29:44.704Z"
   },
   {
    "duration": 83,
    "start_time": "2021-12-26T14:29:44.712Z"
   },
   {
    "duration": 16,
    "start_time": "2021-12-26T14:29:44.796Z"
   },
   {
    "duration": 36,
    "start_time": "2021-12-26T14:29:44.813Z"
   },
   {
    "duration": 10,
    "start_time": "2021-12-26T14:29:44.851Z"
   },
   {
    "duration": 38,
    "start_time": "2021-12-26T14:29:44.862Z"
   },
   {
    "duration": 6,
    "start_time": "2021-12-26T14:29:44.902Z"
   },
   {
    "duration": 9,
    "start_time": "2021-12-26T14:29:44.909Z"
   },
   {
    "duration": 29,
    "start_time": "2021-12-26T14:29:44.919Z"
   },
   {
    "duration": 6,
    "start_time": "2021-12-26T14:29:44.950Z"
   },
   {
    "duration": 93,
    "start_time": "2021-12-26T14:29:44.958Z"
   },
   {
    "duration": 18,
    "start_time": "2021-12-26T14:29:45.053Z"
   },
   {
    "duration": 6,
    "start_time": "2021-12-26T14:29:45.072Z"
   },
   {
    "duration": 32,
    "start_time": "2021-12-26T14:29:45.079Z"
   },
   {
    "duration": 36,
    "start_time": "2021-12-26T14:29:45.112Z"
   },
   {
    "duration": 25,
    "start_time": "2021-12-26T14:29:45.149Z"
   },
   {
    "duration": 34,
    "start_time": "2021-12-26T14:29:45.175Z"
   },
   {
    "duration": 8,
    "start_time": "2021-12-26T14:29:45.215Z"
   },
   {
    "duration": 7,
    "start_time": "2021-12-26T14:29:45.243Z"
   },
   {
    "duration": 114,
    "start_time": "2021-12-26T14:29:45.252Z"
   },
   {
    "duration": 14,
    "start_time": "2021-12-26T14:29:45.368Z"
   },
   {
    "duration": 17,
    "start_time": "2021-12-26T14:29:45.384Z"
   },
   {
    "duration": 41,
    "start_time": "2021-12-26T14:29:45.403Z"
   },
   {
    "duration": 13,
    "start_time": "2021-12-26T14:29:45.446Z"
   },
   {
    "duration": 14,
    "start_time": "2021-12-26T14:29:45.461Z"
   },
   {
    "duration": 22,
    "start_time": "2021-12-26T14:29:45.476Z"
   },
   {
    "duration": 6,
    "start_time": "2021-12-26T14:29:45.499Z"
   },
   {
    "duration": 91,
    "start_time": "2021-12-26T14:29:45.507Z"
   },
   {
    "duration": 12,
    "start_time": "2021-12-26T14:29:45.600Z"
   },
   {
    "duration": 29,
    "start_time": "2021-12-26T14:29:45.613Z"
   },
   {
    "duration": 34,
    "start_time": "2021-12-26T14:29:45.644Z"
   },
   {
    "duration": 6,
    "start_time": "2021-12-26T14:29:45.680Z"
   },
   {
    "duration": 18,
    "start_time": "2021-12-26T14:29:45.688Z"
   },
   {
    "duration": 5,
    "start_time": "2021-12-26T14:29:45.707Z"
   },
   {
    "duration": 38,
    "start_time": "2021-12-26T14:29:45.714Z"
   },
   {
    "duration": 8,
    "start_time": "2021-12-26T14:29:45.753Z"
   },
   {
    "duration": 12,
    "start_time": "2021-12-26T14:29:45.762Z"
   },
   {
    "duration": 3,
    "start_time": "2021-12-26T14:29:45.775Z"
   },
   {
    "duration": 31,
    "start_time": "2021-12-26T14:29:45.780Z"
   },
   {
    "duration": 6,
    "start_time": "2021-12-26T14:29:45.812Z"
   },
   {
    "duration": 23,
    "start_time": "2021-12-26T14:29:45.820Z"
   },
   {
    "duration": 143,
    "start_time": "2021-12-26T14:29:45.844Z"
   },
   {
    "duration": 14,
    "start_time": "2021-12-26T14:29:45.989Z"
   },
   {
    "duration": 5,
    "start_time": "2021-12-26T14:29:46.004Z"
   },
   {
    "duration": 11,
    "start_time": "2021-12-26T14:29:46.010Z"
   },
   {
    "duration": 33,
    "start_time": "2021-12-26T14:29:46.023Z"
   },
   {
    "duration": 19,
    "start_time": "2021-12-26T14:29:46.057Z"
   },
   {
    "duration": 16,
    "start_time": "2021-12-26T14:30:30.112Z"
   },
   {
    "duration": 3,
    "start_time": "2021-12-26T14:31:49.797Z"
   },
   {
    "duration": 31,
    "start_time": "2021-12-26T14:31:49.802Z"
   },
   {
    "duration": 9,
    "start_time": "2021-12-26T14:31:49.835Z"
   },
   {
    "duration": 7,
    "start_time": "2021-12-26T14:31:49.846Z"
   },
   {
    "duration": 150,
    "start_time": "2021-12-26T14:31:49.854Z"
   },
   {
    "duration": 8,
    "start_time": "2021-12-26T14:31:50.006Z"
   },
   {
    "duration": 21,
    "start_time": "2021-12-26T14:31:50.042Z"
   },
   {
    "duration": 84,
    "start_time": "2021-12-26T14:31:50.066Z"
   },
   {
    "duration": 8,
    "start_time": "2021-12-26T14:31:50.152Z"
   },
   {
    "duration": 17,
    "start_time": "2021-12-26T14:31:50.161Z"
   },
   {
    "duration": 173,
    "start_time": "2021-12-26T14:31:50.179Z"
   },
   {
    "duration": 10,
    "start_time": "2021-12-26T14:31:50.354Z"
   },
   {
    "duration": 19,
    "start_time": "2021-12-26T14:31:50.366Z"
   },
   {
    "duration": 17,
    "start_time": "2021-12-26T14:31:50.387Z"
   },
   {
    "duration": 9,
    "start_time": "2021-12-26T14:31:50.406Z"
   },
   {
    "duration": 6,
    "start_time": "2021-12-26T14:31:50.416Z"
   },
   {
    "duration": 22,
    "start_time": "2021-12-26T14:31:50.424Z"
   },
   {
    "duration": 4,
    "start_time": "2021-12-26T14:31:50.448Z"
   },
   {
    "duration": 6,
    "start_time": "2021-12-26T14:31:50.456Z"
   },
   {
    "duration": 7,
    "start_time": "2021-12-26T14:31:50.465Z"
   },
   {
    "duration": 11,
    "start_time": "2021-12-26T14:31:50.473Z"
   },
   {
    "duration": 10,
    "start_time": "2021-12-26T14:31:50.485Z"
   },
   {
    "duration": 9,
    "start_time": "2021-12-26T14:31:50.497Z"
   },
   {
    "duration": 36,
    "start_time": "2021-12-26T14:31:50.507Z"
   },
   {
    "duration": 17,
    "start_time": "2021-12-26T14:31:50.545Z"
   },
   {
    "duration": 29,
    "start_time": "2021-12-26T14:31:50.563Z"
   },
   {
    "duration": 4,
    "start_time": "2021-12-26T14:31:50.593Z"
   },
   {
    "duration": 8,
    "start_time": "2021-12-26T14:31:50.598Z"
   },
   {
    "duration": 9,
    "start_time": "2021-12-26T14:31:50.607Z"
   },
   {
    "duration": 23,
    "start_time": "2021-12-26T14:31:50.618Z"
   },
   {
    "duration": 6,
    "start_time": "2021-12-26T14:31:50.642Z"
   },
   {
    "duration": 192,
    "start_time": "2021-12-26T14:31:50.649Z"
   },
   {
    "duration": 26,
    "start_time": "2021-12-26T14:31:50.842Z"
   },
   {
    "duration": 13,
    "start_time": "2021-12-26T14:31:50.869Z"
   },
   {
    "duration": 9,
    "start_time": "2021-12-26T14:31:50.884Z"
   },
   {
    "duration": 577,
    "start_time": "2021-12-26T14:31:50.894Z"
   },
   {
    "duration": 8,
    "start_time": "2021-12-26T14:31:51.472Z"
   },
   {
    "duration": 6,
    "start_time": "2021-12-26T14:31:51.481Z"
   },
   {
    "duration": 98,
    "start_time": "2021-12-26T14:31:51.489Z"
   },
   {
    "duration": 16,
    "start_time": "2021-12-26T14:31:51.589Z"
   },
   {
    "duration": 38,
    "start_time": "2021-12-26T14:31:51.607Z"
   },
   {
    "duration": 10,
    "start_time": "2021-12-26T14:31:51.647Z"
   },
   {
    "duration": 40,
    "start_time": "2021-12-26T14:31:51.659Z"
   },
   {
    "duration": 8,
    "start_time": "2021-12-26T14:31:51.701Z"
   },
   {
    "duration": 33,
    "start_time": "2021-12-26T14:31:51.710Z"
   },
   {
    "duration": 8,
    "start_time": "2021-12-26T14:31:51.745Z"
   },
   {
    "duration": 7,
    "start_time": "2021-12-26T14:31:51.754Z"
   },
   {
    "duration": 90,
    "start_time": "2021-12-26T14:31:51.763Z"
   },
   {
    "duration": 17,
    "start_time": "2021-12-26T14:31:51.854Z"
   },
   {
    "duration": 5,
    "start_time": "2021-12-26T14:31:51.873Z"
   },
   {
    "duration": 29,
    "start_time": "2021-12-26T14:31:51.880Z"
   },
   {
    "duration": 35,
    "start_time": "2021-12-26T14:31:51.911Z"
   },
   {
    "duration": 21,
    "start_time": "2021-12-26T14:31:51.948Z"
   },
   {
    "duration": 27,
    "start_time": "2021-12-26T14:31:51.971Z"
   },
   {
    "duration": 6,
    "start_time": "2021-12-26T14:31:52.003Z"
   },
   {
    "duration": 32,
    "start_time": "2021-12-26T14:31:52.012Z"
   },
   {
    "duration": 106,
    "start_time": "2021-12-26T14:31:52.046Z"
   },
   {
    "duration": 12,
    "start_time": "2021-12-26T14:31:52.154Z"
   },
   {
    "duration": 15,
    "start_time": "2021-12-26T14:31:52.167Z"
   },
   {
    "duration": 16,
    "start_time": "2021-12-26T14:31:52.184Z"
   },
   {
    "duration": 9,
    "start_time": "2021-12-26T14:31:52.202Z"
   },
   {
    "duration": 38,
    "start_time": "2021-12-26T14:31:52.213Z"
   },
   {
    "duration": 20,
    "start_time": "2021-12-26T14:31:52.252Z"
   },
   {
    "duration": 7,
    "start_time": "2021-12-26T14:31:52.274Z"
   },
   {
    "duration": 90,
    "start_time": "2021-12-26T14:31:52.283Z"
   },
   {
    "duration": 11,
    "start_time": "2021-12-26T14:31:52.374Z"
   },
   {
    "duration": 19,
    "start_time": "2021-12-26T14:31:52.387Z"
   },
   {
    "duration": 46,
    "start_time": "2021-12-26T14:31:52.408Z"
   },
   {
    "duration": 7,
    "start_time": "2021-12-26T14:31:52.455Z"
   },
   {
    "duration": 19,
    "start_time": "2021-12-26T14:31:52.463Z"
   },
   {
    "duration": 5,
    "start_time": "2021-12-26T14:31:52.483Z"
   },
   {
    "duration": 16,
    "start_time": "2021-12-26T14:31:52.489Z"
   },
   {
    "duration": 5,
    "start_time": "2021-12-26T14:31:52.506Z"
   },
   {
    "duration": 41,
    "start_time": "2021-12-26T14:31:52.512Z"
   },
   {
    "duration": 3,
    "start_time": "2021-12-26T14:31:52.554Z"
   },
   {
    "duration": 14,
    "start_time": "2021-12-26T14:31:52.558Z"
   },
   {
    "duration": 6,
    "start_time": "2021-12-26T14:31:52.574Z"
   },
   {
    "duration": 8,
    "start_time": "2021-12-26T14:31:52.582Z"
   },
   {
    "duration": 156,
    "start_time": "2021-12-26T14:31:52.592Z"
   },
   {
    "duration": 15,
    "start_time": "2021-12-26T14:31:52.750Z"
   },
   {
    "duration": 4,
    "start_time": "2021-12-26T14:31:52.767Z"
   },
   {
    "duration": 12,
    "start_time": "2021-12-26T14:31:52.773Z"
   },
   {
    "duration": 16,
    "start_time": "2021-12-26T14:31:52.786Z"
   },
   {
    "duration": 42,
    "start_time": "2021-12-26T14:31:52.804Z"
   },
   {
    "duration": 3,
    "start_time": "2021-12-26T14:34:40.673Z"
   },
   {
    "duration": 34,
    "start_time": "2021-12-26T14:34:40.678Z"
   },
   {
    "duration": 8,
    "start_time": "2021-12-26T14:34:40.714Z"
   },
   {
    "duration": 8,
    "start_time": "2021-12-26T14:34:40.724Z"
   },
   {
    "duration": 158,
    "start_time": "2021-12-26T14:34:40.734Z"
   },
   {
    "duration": 8,
    "start_time": "2021-12-26T14:34:40.894Z"
   },
   {
    "duration": 45,
    "start_time": "2021-12-26T14:34:40.905Z"
   },
   {
    "duration": 80,
    "start_time": "2021-12-26T14:34:40.952Z"
   },
   {
    "duration": 8,
    "start_time": "2021-12-26T14:34:41.034Z"
   },
   {
    "duration": 14,
    "start_time": "2021-12-26T14:34:41.044Z"
   },
   {
    "duration": 120,
    "start_time": "2021-12-26T14:34:41.060Z"
   },
   {
    "duration": 8,
    "start_time": "2021-12-26T14:34:41.181Z"
   },
   {
    "duration": 18,
    "start_time": "2021-12-26T14:34:41.190Z"
   },
   {
    "duration": 17,
    "start_time": "2021-12-26T14:34:41.209Z"
   },
   {
    "duration": 9,
    "start_time": "2021-12-26T14:34:41.227Z"
   },
   {
    "duration": 9,
    "start_time": "2021-12-26T14:34:41.237Z"
   },
   {
    "duration": 10,
    "start_time": "2021-12-26T14:34:41.248Z"
   },
   {
    "duration": 6,
    "start_time": "2021-12-26T14:34:41.259Z"
   },
   {
    "duration": 8,
    "start_time": "2021-12-26T14:34:41.268Z"
   },
   {
    "duration": 8,
    "start_time": "2021-12-26T14:34:41.278Z"
   },
   {
    "duration": 12,
    "start_time": "2021-12-26T14:34:41.287Z"
   },
   {
    "duration": 10,
    "start_time": "2021-12-26T14:34:41.300Z"
   },
   {
    "duration": 9,
    "start_time": "2021-12-26T14:34:41.311Z"
   },
   {
    "duration": 20,
    "start_time": "2021-12-26T14:34:41.322Z"
   },
   {
    "duration": 9,
    "start_time": "2021-12-26T14:34:41.344Z"
   },
   {
    "duration": 10,
    "start_time": "2021-12-26T14:34:41.354Z"
   },
   {
    "duration": 5,
    "start_time": "2021-12-26T14:34:41.365Z"
   },
   {
    "duration": 9,
    "start_time": "2021-12-26T14:34:41.371Z"
   },
   {
    "duration": 9,
    "start_time": "2021-12-26T14:34:41.381Z"
   },
   {
    "duration": 24,
    "start_time": "2021-12-26T14:34:41.392Z"
   },
   {
    "duration": 6,
    "start_time": "2021-12-26T14:34:41.418Z"
   },
   {
    "duration": 215,
    "start_time": "2021-12-26T14:34:41.426Z"
   },
   {
    "duration": 26,
    "start_time": "2021-12-26T14:34:41.642Z"
   },
   {
    "duration": 14,
    "start_time": "2021-12-26T14:34:41.670Z"
   },
   {
    "duration": 10,
    "start_time": "2021-12-26T14:34:41.685Z"
   },
   {
    "duration": 636,
    "start_time": "2021-12-26T14:34:41.696Z"
   },
   {
    "duration": 12,
    "start_time": "2021-12-26T14:34:42.334Z"
   },
   {
    "duration": 7,
    "start_time": "2021-12-26T14:34:42.348Z"
   },
   {
    "duration": 88,
    "start_time": "2021-12-26T14:34:42.356Z"
   },
   {
    "duration": 16,
    "start_time": "2021-12-26T14:34:42.445Z"
   },
   {
    "duration": 24,
    "start_time": "2021-12-26T14:34:42.462Z"
   },
   {
    "duration": 11,
    "start_time": "2021-12-26T14:34:42.487Z"
   },
   {
    "duration": 66,
    "start_time": "2021-12-26T14:34:42.499Z"
   },
   {
    "duration": 6,
    "start_time": "2021-12-26T14:34:42.566Z"
   },
   {
    "duration": 8,
    "start_time": "2021-12-26T14:34:42.574Z"
   },
   {
    "duration": 8,
    "start_time": "2021-12-26T14:34:42.583Z"
   },
   {
    "duration": 6,
    "start_time": "2021-12-26T14:34:42.593Z"
   },
   {
    "duration": 109,
    "start_time": "2021-12-26T14:34:42.601Z"
   },
   {
    "duration": 18,
    "start_time": "2021-12-26T14:34:42.712Z"
   },
   {
    "duration": 14,
    "start_time": "2021-12-26T14:34:42.732Z"
   },
   {
    "duration": 33,
    "start_time": "2021-12-26T14:34:42.747Z"
   },
   {
    "duration": 10,
    "start_time": "2021-12-26T14:34:42.781Z"
   },
   {
    "duration": 19,
    "start_time": "2021-12-26T14:34:42.793Z"
   },
   {
    "duration": 52,
    "start_time": "2021-12-26T14:34:42.814Z"
   },
   {
    "duration": 6,
    "start_time": "2021-12-26T14:34:42.870Z"
   },
   {
    "duration": 7,
    "start_time": "2021-12-26T14:34:42.878Z"
   },
   {
    "duration": 119,
    "start_time": "2021-12-26T14:34:42.886Z"
   },
   {
    "duration": 11,
    "start_time": "2021-12-26T14:34:43.007Z"
   },
   {
    "duration": 32,
    "start_time": "2021-12-26T14:34:43.020Z"
   },
   {
    "duration": 17,
    "start_time": "2021-12-26T14:34:43.053Z"
   },
   {
    "duration": 9,
    "start_time": "2021-12-26T14:34:43.071Z"
   },
   {
    "duration": 10,
    "start_time": "2021-12-26T14:34:43.082Z"
   },
   {
    "duration": 20,
    "start_time": "2021-12-26T14:34:43.093Z"
   },
   {
    "duration": 31,
    "start_time": "2021-12-26T14:34:43.114Z"
   },
   {
    "duration": 52,
    "start_time": "2021-12-26T14:34:43.146Z"
   },
   {
    "duration": 11,
    "start_time": "2021-12-26T14:34:43.200Z"
   },
   {
    "duration": 34,
    "start_time": "2021-12-26T14:34:43.212Z"
   },
   {
    "duration": 34,
    "start_time": "2021-12-26T14:34:43.248Z"
   },
   {
    "duration": 5,
    "start_time": "2021-12-26T14:34:43.284Z"
   },
   {
    "duration": 21,
    "start_time": "2021-12-26T14:34:43.290Z"
   },
   {
    "duration": 4,
    "start_time": "2021-12-26T14:34:43.312Z"
   },
   {
    "duration": 34,
    "start_time": "2021-12-26T14:34:43.318Z"
   },
   {
    "duration": 7,
    "start_time": "2021-12-26T14:34:43.354Z"
   },
   {
    "duration": 17,
    "start_time": "2021-12-26T14:34:43.362Z"
   },
   {
    "duration": 3,
    "start_time": "2021-12-26T14:34:43.380Z"
   },
   {
    "duration": 18,
    "start_time": "2021-12-26T14:34:43.385Z"
   },
   {
    "duration": 18,
    "start_time": "2021-12-26T14:34:43.404Z"
   },
   {
    "duration": 8,
    "start_time": "2021-12-26T14:34:43.441Z"
   },
   {
    "duration": 6,
    "start_time": "2021-12-26T14:34:43.451Z"
   },
   {
    "duration": 146,
    "start_time": "2021-12-26T14:34:43.458Z"
   },
   {
    "duration": 15,
    "start_time": "2021-12-26T14:34:43.605Z"
   },
   {
    "duration": 5,
    "start_time": "2021-12-26T14:34:43.621Z"
   },
   {
    "duration": 21,
    "start_time": "2021-12-26T14:34:43.627Z"
   },
   {
    "duration": 16,
    "start_time": "2021-12-26T14:34:43.650Z"
   },
   {
    "duration": 19,
    "start_time": "2021-12-26T14:34:43.667Z"
   },
   {
    "duration": 13,
    "start_time": "2021-12-26T14:52:53.562Z"
   },
   {
    "duration": 3,
    "start_time": "2021-12-26T14:53:00.770Z"
   },
   {
    "duration": 40,
    "start_time": "2021-12-26T14:53:00.776Z"
   },
   {
    "duration": 30,
    "start_time": "2021-12-26T14:53:00.818Z"
   },
   {
    "duration": 20,
    "start_time": "2021-12-26T14:53:00.850Z"
   },
   {
    "duration": 174,
    "start_time": "2021-12-26T14:53:00.872Z"
   },
   {
    "duration": 7,
    "start_time": "2021-12-26T14:53:01.048Z"
   },
   {
    "duration": 29,
    "start_time": "2021-12-26T14:53:01.057Z"
   },
   {
    "duration": 93,
    "start_time": "2021-12-26T14:53:01.087Z"
   },
   {
    "duration": 7,
    "start_time": "2021-12-26T14:53:01.183Z"
   },
   {
    "duration": 22,
    "start_time": "2021-12-26T14:53:01.193Z"
   },
   {
    "duration": 135,
    "start_time": "2021-12-26T14:53:01.217Z"
   },
   {
    "duration": 10,
    "start_time": "2021-12-26T14:53:01.353Z"
   },
   {
    "duration": 39,
    "start_time": "2021-12-26T14:53:01.364Z"
   },
   {
    "duration": 17,
    "start_time": "2021-12-26T14:53:01.406Z"
   },
   {
    "duration": 15,
    "start_time": "2021-12-26T14:53:01.425Z"
   },
   {
    "duration": 20,
    "start_time": "2021-12-26T14:53:01.442Z"
   },
   {
    "duration": 20,
    "start_time": "2021-12-26T14:53:01.464Z"
   },
   {
    "duration": 15,
    "start_time": "2021-12-26T14:53:01.486Z"
   },
   {
    "duration": 8,
    "start_time": "2021-12-26T14:53:01.502Z"
   },
   {
    "duration": 9,
    "start_time": "2021-12-26T14:53:01.512Z"
   },
   {
    "duration": 20,
    "start_time": "2021-12-26T14:53:01.523Z"
   },
   {
    "duration": 8,
    "start_time": "2021-12-26T14:53:01.544Z"
   },
   {
    "duration": 15,
    "start_time": "2021-12-26T14:53:01.553Z"
   },
   {
    "duration": 5,
    "start_time": "2021-12-26T14:53:01.572Z"
   },
   {
    "duration": 19,
    "start_time": "2021-12-26T14:53:01.579Z"
   },
   {
    "duration": 26,
    "start_time": "2021-12-26T14:53:01.600Z"
   },
   {
    "duration": 27,
    "start_time": "2021-12-26T14:53:01.627Z"
   },
   {
    "duration": 17,
    "start_time": "2021-12-26T14:53:01.655Z"
   },
   {
    "duration": 11,
    "start_time": "2021-12-26T14:53:01.673Z"
   },
   {
    "duration": 43,
    "start_time": "2021-12-26T14:53:01.685Z"
   },
   {
    "duration": 16,
    "start_time": "2021-12-26T14:53:01.730Z"
   },
   {
    "duration": 261,
    "start_time": "2021-12-26T14:53:01.748Z"
   },
   {
    "duration": 33,
    "start_time": "2021-12-26T14:53:02.011Z"
   },
   {
    "duration": 14,
    "start_time": "2021-12-26T14:53:02.045Z"
   },
   {
    "duration": 29,
    "start_time": "2021-12-26T14:53:02.061Z"
   },
   {
    "duration": 680,
    "start_time": "2021-12-26T14:53:02.092Z"
   },
   {
    "duration": 10,
    "start_time": "2021-12-26T14:53:02.774Z"
   },
   {
    "duration": 5,
    "start_time": "2021-12-26T14:53:02.786Z"
   },
   {
    "duration": 88,
    "start_time": "2021-12-26T14:53:02.793Z"
   },
   {
    "duration": 16,
    "start_time": "2021-12-26T14:53:02.883Z"
   },
   {
    "duration": 33,
    "start_time": "2021-12-26T14:53:02.900Z"
   },
   {
    "duration": 14,
    "start_time": "2021-12-26T14:53:02.935Z"
   },
   {
    "duration": 42,
    "start_time": "2021-12-26T14:53:02.950Z"
   },
   {
    "duration": 6,
    "start_time": "2021-12-26T14:53:02.993Z"
   },
   {
    "duration": 13,
    "start_time": "2021-12-26T14:53:03.001Z"
   },
   {
    "duration": 12,
    "start_time": "2021-12-26T14:53:03.016Z"
   },
   {
    "duration": 13,
    "start_time": "2021-12-26T14:53:03.030Z"
   },
   {
    "duration": 92,
    "start_time": "2021-12-26T14:53:03.045Z"
   },
   {
    "duration": 19,
    "start_time": "2021-12-26T14:53:03.139Z"
   },
   {
    "duration": 6,
    "start_time": "2021-12-26T14:53:03.159Z"
   },
   {
    "duration": 30,
    "start_time": "2021-12-26T14:53:03.167Z"
   },
   {
    "duration": 10,
    "start_time": "2021-12-26T14:53:03.199Z"
   },
   {
    "duration": 46,
    "start_time": "2021-12-26T14:53:03.211Z"
   },
   {
    "duration": 29,
    "start_time": "2021-12-26T14:53:03.259Z"
   },
   {
    "duration": 14,
    "start_time": "2021-12-26T14:53:03.290Z"
   },
   {
    "duration": 8,
    "start_time": "2021-12-26T14:53:03.306Z"
   },
   {
    "duration": 127,
    "start_time": "2021-12-26T14:53:03.316Z"
   },
   {
    "duration": 12,
    "start_time": "2021-12-26T14:53:03.445Z"
   },
   {
    "duration": 16,
    "start_time": "2021-12-26T14:53:03.459Z"
   },
   {
    "duration": 17,
    "start_time": "2021-12-26T14:53:03.477Z"
   },
   {
    "duration": 10,
    "start_time": "2021-12-26T14:53:03.496Z"
   },
   {
    "duration": 44,
    "start_time": "2021-12-26T14:53:03.507Z"
   },
   {
    "duration": 20,
    "start_time": "2021-12-26T14:53:03.553Z"
   },
   {
    "duration": 5,
    "start_time": "2021-12-26T14:53:03.575Z"
   },
   {
    "duration": 73,
    "start_time": "2021-12-26T14:53:03.581Z"
   },
   {
    "duration": 11,
    "start_time": "2021-12-26T14:53:03.656Z"
   },
   {
    "duration": 21,
    "start_time": "2021-12-26T14:53:03.669Z"
   },
   {
    "duration": 50,
    "start_time": "2021-12-26T14:53:03.692Z"
   },
   {
    "duration": 7,
    "start_time": "2021-12-26T14:53:03.747Z"
   },
   {
    "duration": 22,
    "start_time": "2021-12-26T14:53:03.756Z"
   },
   {
    "duration": 5,
    "start_time": "2021-12-26T14:53:03.779Z"
   },
   {
    "duration": 16,
    "start_time": "2021-12-26T14:53:03.786Z"
   },
   {
    "duration": 4,
    "start_time": "2021-12-26T14:53:03.804Z"
   },
   {
    "duration": 37,
    "start_time": "2021-12-26T14:53:03.810Z"
   },
   {
    "duration": 3,
    "start_time": "2021-12-26T14:53:03.849Z"
   },
   {
    "duration": 15,
    "start_time": "2021-12-26T14:53:03.854Z"
   },
   {
    "duration": 20,
    "start_time": "2021-12-26T14:53:03.871Z"
   },
   {
    "duration": 14,
    "start_time": "2021-12-26T14:53:03.892Z"
   },
   {
    "duration": 50,
    "start_time": "2021-12-26T14:53:03.907Z"
   },
   {
    "duration": 5,
    "start_time": "2021-12-26T14:53:03.959Z"
   },
   {
    "duration": 133,
    "start_time": "2021-12-26T14:53:03.966Z"
   },
   {
    "duration": 15,
    "start_time": "2021-12-26T14:53:04.101Z"
   },
   {
    "duration": 5,
    "start_time": "2021-12-26T14:53:04.117Z"
   },
   {
    "duration": 31,
    "start_time": "2021-12-26T14:53:04.123Z"
   },
   {
    "duration": 20,
    "start_time": "2021-12-26T14:53:04.155Z"
   },
   {
    "duration": 9,
    "start_time": "2021-12-26T15:10:26.918Z"
   },
   {
    "duration": 18,
    "start_time": "2021-12-26T15:10:49.798Z"
   },
   {
    "duration": 3,
    "start_time": "2021-12-26T15:10:53.601Z"
   },
   {
    "duration": 32,
    "start_time": "2021-12-26T15:10:53.605Z"
   },
   {
    "duration": 8,
    "start_time": "2021-12-26T15:10:53.639Z"
   },
   {
    "duration": 6,
    "start_time": "2021-12-26T15:10:53.649Z"
   },
   {
    "duration": 163,
    "start_time": "2021-12-26T15:10:53.657Z"
   },
   {
    "duration": 6,
    "start_time": "2021-12-26T15:10:53.842Z"
   },
   {
    "duration": 20,
    "start_time": "2021-12-26T15:10:53.851Z"
   },
   {
    "duration": 86,
    "start_time": "2021-12-26T15:10:53.873Z"
   },
   {
    "duration": 8,
    "start_time": "2021-12-26T15:10:53.961Z"
   },
   {
    "duration": 16,
    "start_time": "2021-12-26T15:10:53.971Z"
   },
   {
    "duration": 129,
    "start_time": "2021-12-26T15:10:53.988Z"
   },
   {
    "duration": 7,
    "start_time": "2021-12-26T15:10:54.119Z"
   },
   {
    "duration": 28,
    "start_time": "2021-12-26T15:10:54.127Z"
   },
   {
    "duration": 20,
    "start_time": "2021-12-26T15:10:54.157Z"
   },
   {
    "duration": 10,
    "start_time": "2021-12-26T15:10:54.179Z"
   },
   {
    "duration": 9,
    "start_time": "2021-12-26T15:10:54.191Z"
   },
   {
    "duration": 10,
    "start_time": "2021-12-26T15:10:54.201Z"
   },
   {
    "duration": 9,
    "start_time": "2021-12-26T15:10:54.212Z"
   },
   {
    "duration": 7,
    "start_time": "2021-12-26T15:10:54.224Z"
   },
   {
    "duration": 4,
    "start_time": "2021-12-26T15:10:54.241Z"
   },
   {
    "duration": 10,
    "start_time": "2021-12-26T15:10:54.247Z"
   },
   {
    "duration": 9,
    "start_time": "2021-12-26T15:10:54.259Z"
   },
   {
    "duration": 14,
    "start_time": "2021-12-26T15:10:54.270Z"
   },
   {
    "duration": 9,
    "start_time": "2021-12-26T15:10:54.286Z"
   },
   {
    "duration": 19,
    "start_time": "2021-12-26T15:10:54.296Z"
   },
   {
    "duration": 20,
    "start_time": "2021-12-26T15:10:54.316Z"
   },
   {
    "duration": 8,
    "start_time": "2021-12-26T15:10:54.337Z"
   },
   {
    "duration": 15,
    "start_time": "2021-12-26T15:10:54.346Z"
   },
   {
    "duration": 9,
    "start_time": "2021-12-26T15:10:54.363Z"
   },
   {
    "duration": 32,
    "start_time": "2021-12-26T15:10:54.374Z"
   },
   {
    "duration": 6,
    "start_time": "2021-12-26T15:10:54.407Z"
   },
   {
    "duration": 227,
    "start_time": "2021-12-26T15:10:54.414Z"
   },
   {
    "duration": 28,
    "start_time": "2021-12-26T15:10:54.642Z"
   },
   {
    "duration": 14,
    "start_time": "2021-12-26T15:10:54.671Z"
   },
   {
    "duration": 10,
    "start_time": "2021-12-26T15:10:54.686Z"
   },
   {
    "duration": 663,
    "start_time": "2021-12-26T15:10:54.698Z"
   },
   {
    "duration": 9,
    "start_time": "2021-12-26T15:10:55.362Z"
   },
   {
    "duration": 6,
    "start_time": "2021-12-26T15:10:55.373Z"
   },
   {
    "duration": 102,
    "start_time": "2021-12-26T15:10:55.380Z"
   },
   {
    "duration": 15,
    "start_time": "2021-12-26T15:10:55.484Z"
   },
   {
    "duration": 36,
    "start_time": "2021-12-26T15:10:55.500Z"
   },
   {
    "duration": 10,
    "start_time": "2021-12-26T15:10:55.537Z"
   },
   {
    "duration": 46,
    "start_time": "2021-12-26T15:10:55.548Z"
   },
   {
    "duration": 7,
    "start_time": "2021-12-26T15:10:55.595Z"
   },
   {
    "duration": 14,
    "start_time": "2021-12-26T15:10:55.603Z"
   },
   {
    "duration": 24,
    "start_time": "2021-12-26T15:10:55.618Z"
   },
   {
    "duration": 12,
    "start_time": "2021-12-26T15:10:55.643Z"
   },
   {
    "duration": 97,
    "start_time": "2021-12-26T15:10:55.656Z"
   },
   {
    "duration": 18,
    "start_time": "2021-12-26T15:10:55.755Z"
   },
   {
    "duration": 6,
    "start_time": "2021-12-26T15:10:55.775Z"
   },
   {
    "duration": 39,
    "start_time": "2021-12-26T15:10:55.783Z"
   },
   {
    "duration": 27,
    "start_time": "2021-12-26T15:10:55.824Z"
   },
   {
    "duration": 20,
    "start_time": "2021-12-26T15:10:55.853Z"
   },
   {
    "duration": 28,
    "start_time": "2021-12-26T15:10:55.875Z"
   },
   {
    "duration": 7,
    "start_time": "2021-12-26T15:10:55.907Z"
   },
   {
    "duration": 7,
    "start_time": "2021-12-26T15:10:55.940Z"
   },
   {
    "duration": 113,
    "start_time": "2021-12-26T15:10:55.949Z"
   },
   {
    "duration": 13,
    "start_time": "2021-12-26T15:10:56.064Z"
   },
   {
    "duration": 16,
    "start_time": "2021-12-26T15:10:56.078Z"
   },
   {
    "duration": 18,
    "start_time": "2021-12-26T15:10:56.096Z"
   },
   {
    "duration": 31,
    "start_time": "2021-12-26T15:10:56.116Z"
   },
   {
    "duration": 11,
    "start_time": "2021-12-26T15:10:56.149Z"
   },
   {
    "duration": 20,
    "start_time": "2021-12-26T15:10:56.162Z"
   },
   {
    "duration": 5,
    "start_time": "2021-12-26T15:10:56.184Z"
   },
   {
    "duration": 92,
    "start_time": "2021-12-26T15:10:56.191Z"
   },
   {
    "duration": 11,
    "start_time": "2021-12-26T15:10:56.285Z"
   },
   {
    "duration": 19,
    "start_time": "2021-12-26T15:10:56.297Z"
   },
   {
    "duration": 46,
    "start_time": "2021-12-26T15:10:56.317Z"
   },
   {
    "duration": 6,
    "start_time": "2021-12-26T15:10:56.365Z"
   },
   {
    "duration": 27,
    "start_time": "2021-12-26T15:10:56.373Z"
   },
   {
    "duration": 4,
    "start_time": "2021-12-26T15:10:56.402Z"
   },
   {
    "duration": 14,
    "start_time": "2021-12-26T15:10:56.408Z"
   },
   {
    "duration": 5,
    "start_time": "2021-12-26T15:10:56.440Z"
   },
   {
    "duration": 16,
    "start_time": "2021-12-26T15:10:56.446Z"
   },
   {
    "duration": 3,
    "start_time": "2021-12-26T15:10:56.464Z"
   },
   {
    "duration": 15,
    "start_time": "2021-12-26T15:10:56.468Z"
   },
   {
    "duration": 11,
    "start_time": "2021-12-26T15:10:56.485Z"
   },
   {
    "duration": 10,
    "start_time": "2021-12-26T15:10:56.498Z"
   },
   {
    "duration": 43,
    "start_time": "2021-12-26T15:10:56.510Z"
   },
   {
    "duration": 7,
    "start_time": "2021-12-26T15:10:56.554Z"
   },
   {
    "duration": 6,
    "start_time": "2021-12-26T15:10:56.562Z"
   },
   {
    "duration": 151,
    "start_time": "2021-12-26T15:10:56.569Z"
   },
   {
    "duration": 21,
    "start_time": "2021-12-26T15:10:56.721Z"
   },
   {
    "duration": 4,
    "start_time": "2021-12-26T15:10:56.743Z"
   },
   {
    "duration": 21,
    "start_time": "2021-12-26T15:10:56.749Z"
   },
   {
    "duration": 18,
    "start_time": "2021-12-26T15:10:56.771Z"
   },
   {
    "duration": 3,
    "start_time": "2021-12-26T15:19:32.849Z"
   },
   {
    "duration": 34,
    "start_time": "2021-12-26T15:19:32.854Z"
   },
   {
    "duration": 13,
    "start_time": "2021-12-26T15:19:32.890Z"
   },
   {
    "duration": 9,
    "start_time": "2021-12-26T15:19:32.905Z"
   },
   {
    "duration": 163,
    "start_time": "2021-12-26T15:19:32.916Z"
   },
   {
    "duration": 7,
    "start_time": "2021-12-26T15:19:33.082Z"
   },
   {
    "duration": 24,
    "start_time": "2021-12-26T15:19:33.091Z"
   },
   {
    "duration": 84,
    "start_time": "2021-12-26T15:19:33.141Z"
   },
   {
    "duration": 6,
    "start_time": "2021-12-26T15:19:33.228Z"
   },
   {
    "duration": 16,
    "start_time": "2021-12-26T15:19:33.236Z"
   },
   {
    "duration": 121,
    "start_time": "2021-12-26T15:19:33.254Z"
   },
   {
    "duration": 8,
    "start_time": "2021-12-26T15:19:33.377Z"
   },
   {
    "duration": 18,
    "start_time": "2021-12-26T15:19:33.387Z"
   },
   {
    "duration": 17,
    "start_time": "2021-12-26T15:19:33.407Z"
   },
   {
    "duration": 15,
    "start_time": "2021-12-26T15:19:33.426Z"
   },
   {
    "duration": 6,
    "start_time": "2021-12-26T15:19:33.442Z"
   },
   {
    "duration": 11,
    "start_time": "2021-12-26T15:19:33.449Z"
   },
   {
    "duration": 5,
    "start_time": "2021-12-26T15:19:33.461Z"
   },
   {
    "duration": 8,
    "start_time": "2021-12-26T15:19:33.467Z"
   },
   {
    "duration": 11,
    "start_time": "2021-12-26T15:19:33.477Z"
   },
   {
    "duration": 10,
    "start_time": "2021-12-26T15:19:33.490Z"
   },
   {
    "duration": 10,
    "start_time": "2021-12-26T15:19:33.501Z"
   },
   {
    "duration": 29,
    "start_time": "2021-12-26T15:19:33.513Z"
   },
   {
    "duration": 6,
    "start_time": "2021-12-26T15:19:33.543Z"
   },
   {
    "duration": 6,
    "start_time": "2021-12-26T15:19:33.551Z"
   },
   {
    "duration": 10,
    "start_time": "2021-12-26T15:19:33.558Z"
   },
   {
    "duration": 5,
    "start_time": "2021-12-26T15:19:33.572Z"
   },
   {
    "duration": 8,
    "start_time": "2021-12-26T15:19:33.579Z"
   },
   {
    "duration": 9,
    "start_time": "2021-12-26T15:19:33.589Z"
   },
   {
    "duration": 23,
    "start_time": "2021-12-26T15:19:33.599Z"
   },
   {
    "duration": 17,
    "start_time": "2021-12-26T15:19:33.624Z"
   },
   {
    "duration": 215,
    "start_time": "2021-12-26T15:19:33.643Z"
   },
   {
    "duration": 27,
    "start_time": "2021-12-26T15:19:33.860Z"
   },
   {
    "duration": 14,
    "start_time": "2021-12-26T15:19:33.888Z"
   },
   {
    "duration": 11,
    "start_time": "2021-12-26T15:19:33.903Z"
   },
   {
    "duration": 682,
    "start_time": "2021-12-26T15:19:33.915Z"
   },
   {
    "duration": 8,
    "start_time": "2021-12-26T15:19:34.599Z"
   },
   {
    "duration": 5,
    "start_time": "2021-12-26T15:19:34.609Z"
   },
   {
    "duration": 98,
    "start_time": "2021-12-26T15:19:34.616Z"
   },
   {
    "duration": 27,
    "start_time": "2021-12-26T15:19:34.716Z"
   },
   {
    "duration": 21,
    "start_time": "2021-12-26T15:19:34.745Z"
   },
   {
    "duration": 10,
    "start_time": "2021-12-26T15:19:34.768Z"
   },
   {
    "duration": 39,
    "start_time": "2021-12-26T15:19:34.780Z"
   },
   {
    "duration": 7,
    "start_time": "2021-12-26T15:19:34.841Z"
   },
   {
    "duration": 8,
    "start_time": "2021-12-26T15:19:34.849Z"
   },
   {
    "duration": 13,
    "start_time": "2021-12-26T15:19:34.858Z"
   },
   {
    "duration": 21,
    "start_time": "2021-12-26T15:19:34.873Z"
   },
   {
    "duration": 82,
    "start_time": "2021-12-26T15:19:34.896Z"
   },
   {
    "duration": 17,
    "start_time": "2021-12-26T15:19:34.980Z"
   },
   {
    "duration": 6,
    "start_time": "2021-12-26T15:19:34.999Z"
   },
   {
    "duration": 53,
    "start_time": "2021-12-26T15:19:35.006Z"
   },
   {
    "duration": 10,
    "start_time": "2021-12-26T15:19:35.060Z"
   },
   {
    "duration": 20,
    "start_time": "2021-12-26T15:19:35.072Z"
   },
   {
    "duration": 26,
    "start_time": "2021-12-26T15:19:35.093Z"
   },
   {
    "duration": 25,
    "start_time": "2021-12-26T15:19:35.120Z"
   },
   {
    "duration": 11,
    "start_time": "2021-12-26T15:19:35.146Z"
   },
   {
    "duration": 97,
    "start_time": "2021-12-26T15:19:35.158Z"
   },
   {
    "duration": 11,
    "start_time": "2021-12-26T15:19:35.257Z"
   },
   {
    "duration": 15,
    "start_time": "2021-12-26T15:19:35.270Z"
   },
   {
    "duration": 17,
    "start_time": "2021-12-26T15:19:35.286Z"
   },
   {
    "duration": 9,
    "start_time": "2021-12-26T15:19:35.304Z"
   },
   {
    "duration": 11,
    "start_time": "2021-12-26T15:19:35.341Z"
   },
   {
    "duration": 20,
    "start_time": "2021-12-26T15:19:35.353Z"
   },
   {
    "duration": 5,
    "start_time": "2021-12-26T15:19:35.374Z"
   },
   {
    "duration": 73,
    "start_time": "2021-12-26T15:19:35.381Z"
   },
   {
    "duration": 11,
    "start_time": "2021-12-26T15:19:35.455Z"
   },
   {
    "duration": 21,
    "start_time": "2021-12-26T15:19:35.467Z"
   },
   {
    "duration": 33,
    "start_time": "2021-12-26T15:19:35.489Z"
   },
   {
    "duration": 22,
    "start_time": "2021-12-26T15:19:35.524Z"
   },
   {
    "duration": 19,
    "start_time": "2021-12-26T15:19:35.548Z"
   },
   {
    "duration": 5,
    "start_time": "2021-12-26T15:19:35.568Z"
   },
   {
    "duration": 14,
    "start_time": "2021-12-26T15:19:35.574Z"
   },
   {
    "duration": 4,
    "start_time": "2021-12-26T15:19:35.590Z"
   },
   {
    "duration": 47,
    "start_time": "2021-12-26T15:19:35.595Z"
   },
   {
    "duration": 3,
    "start_time": "2021-12-26T15:19:35.643Z"
   },
   {
    "duration": 18,
    "start_time": "2021-12-26T15:19:35.648Z"
   },
   {
    "duration": 13,
    "start_time": "2021-12-26T15:19:35.668Z"
   },
   {
    "duration": 10,
    "start_time": "2021-12-26T15:19:35.683Z"
   },
   {
    "duration": 18,
    "start_time": "2021-12-26T15:19:35.694Z"
   },
   {
    "duration": 31,
    "start_time": "2021-12-26T15:19:35.714Z"
   },
   {
    "duration": 8,
    "start_time": "2021-12-26T15:19:35.751Z"
   },
   {
    "duration": 142,
    "start_time": "2021-12-26T15:19:35.761Z"
   },
   {
    "duration": 16,
    "start_time": "2021-12-26T15:19:35.904Z"
   },
   {
    "duration": 19,
    "start_time": "2021-12-26T15:19:35.922Z"
   },
   {
    "duration": 17,
    "start_time": "2021-12-26T15:19:35.943Z"
   },
   {
    "duration": 24,
    "start_time": "2021-12-26T15:19:35.962Z"
   },
   {
    "duration": 11,
    "start_time": "2021-12-26T15:24:12.544Z"
   },
   {
    "duration": 6766,
    "start_time": "2021-12-26T15:24:31.224Z"
   },
   {
    "duration": 11,
    "start_time": "2021-12-26T15:24:49.267Z"
   },
   {
    "duration": 12,
    "start_time": "2021-12-26T15:25:41.402Z"
   },
   {
    "duration": 3,
    "start_time": "2021-12-26T15:25:48.042Z"
   },
   {
    "duration": 32,
    "start_time": "2021-12-26T15:25:48.047Z"
   },
   {
    "duration": 9,
    "start_time": "2021-12-26T15:25:48.081Z"
   },
   {
    "duration": 8,
    "start_time": "2021-12-26T15:25:48.091Z"
   },
   {
    "duration": 153,
    "start_time": "2021-12-26T15:25:48.100Z"
   },
   {
    "duration": 7,
    "start_time": "2021-12-26T15:25:48.255Z"
   },
   {
    "duration": 20,
    "start_time": "2021-12-26T15:25:48.264Z"
   },
   {
    "duration": 99,
    "start_time": "2021-12-26T15:25:48.285Z"
   },
   {
    "duration": 7,
    "start_time": "2021-12-26T15:25:48.386Z"
   },
   {
    "duration": 15,
    "start_time": "2021-12-26T15:25:48.394Z"
   },
   {
    "duration": 118,
    "start_time": "2021-12-26T15:25:48.411Z"
   },
   {
    "duration": 11,
    "start_time": "2021-12-26T15:25:48.530Z"
   },
   {
    "duration": 15,
    "start_time": "2021-12-26T15:25:48.543Z"
   },
   {
    "duration": 17,
    "start_time": "2021-12-26T15:25:48.560Z"
   },
   {
    "duration": 10,
    "start_time": "2021-12-26T15:25:48.578Z"
   },
   {
    "duration": 5,
    "start_time": "2021-12-26T15:25:48.590Z"
   },
   {
    "duration": 10,
    "start_time": "2021-12-26T15:25:48.597Z"
   },
   {
    "duration": 6,
    "start_time": "2021-12-26T15:25:48.609Z"
   },
   {
    "duration": 27,
    "start_time": "2021-12-26T15:25:48.618Z"
   },
   {
    "duration": 9,
    "start_time": "2021-12-26T15:25:48.647Z"
   },
   {
    "duration": 8,
    "start_time": "2021-12-26T15:25:48.658Z"
   },
   {
    "duration": 11,
    "start_time": "2021-12-26T15:25:48.668Z"
   },
   {
    "duration": 11,
    "start_time": "2021-12-26T15:25:48.680Z"
   },
   {
    "duration": 7,
    "start_time": "2021-12-26T15:25:48.693Z"
   },
   {
    "duration": 11,
    "start_time": "2021-12-26T15:25:48.702Z"
   },
   {
    "duration": 11,
    "start_time": "2021-12-26T15:25:48.715Z"
   },
   {
    "duration": 15,
    "start_time": "2021-12-26T15:25:48.727Z"
   },
   {
    "duration": 5,
    "start_time": "2021-12-26T15:25:48.743Z"
   },
   {
    "duration": 9,
    "start_time": "2021-12-26T15:25:48.750Z"
   },
   {
    "duration": 23,
    "start_time": "2021-12-26T15:25:48.761Z"
   },
   {
    "duration": 7,
    "start_time": "2021-12-26T15:25:48.786Z"
   },
   {
    "duration": 212,
    "start_time": "2021-12-26T15:25:48.795Z"
   },
   {
    "duration": 37,
    "start_time": "2021-12-26T15:25:49.009Z"
   },
   {
    "duration": 16,
    "start_time": "2021-12-26T15:25:49.048Z"
   },
   {
    "duration": 12,
    "start_time": "2021-12-26T15:25:49.065Z"
   },
   {
    "duration": 649,
    "start_time": "2021-12-26T15:25:49.078Z"
   },
   {
    "duration": 16,
    "start_time": "2021-12-26T15:25:49.729Z"
   },
   {
    "duration": 6,
    "start_time": "2021-12-26T15:25:49.746Z"
   },
   {
    "duration": 71,
    "start_time": "2021-12-26T15:25:49.754Z"
   },
   {
    "duration": 27,
    "start_time": "2021-12-26T15:25:49.826Z"
   },
   {
    "duration": 28,
    "start_time": "2021-12-26T15:25:49.855Z"
   },
   {
    "duration": 10,
    "start_time": "2021-12-26T15:25:49.884Z"
   },
   {
    "duration": 51,
    "start_time": "2021-12-26T15:25:49.895Z"
   },
   {
    "duration": 6,
    "start_time": "2021-12-26T15:25:49.948Z"
   },
   {
    "duration": 8,
    "start_time": "2021-12-26T15:25:49.955Z"
   },
   {
    "duration": 9,
    "start_time": "2021-12-26T15:25:49.964Z"
   },
   {
    "duration": 7,
    "start_time": "2021-12-26T15:25:49.974Z"
   },
   {
    "duration": 109,
    "start_time": "2021-12-26T15:25:49.983Z"
   },
   {
    "duration": 17,
    "start_time": "2021-12-26T15:25:50.094Z"
   },
   {
    "duration": 5,
    "start_time": "2021-12-26T15:25:50.113Z"
   },
   {
    "duration": 51,
    "start_time": "2021-12-26T15:25:50.119Z"
   },
   {
    "duration": 10,
    "start_time": "2021-12-26T15:25:50.171Z"
   },
   {
    "duration": 21,
    "start_time": "2021-12-26T15:25:50.182Z"
   },
   {
    "duration": 42,
    "start_time": "2021-12-26T15:25:50.205Z"
   },
   {
    "duration": 6,
    "start_time": "2021-12-26T15:25:50.251Z"
   },
   {
    "duration": 9,
    "start_time": "2021-12-26T15:25:50.258Z"
   },
   {
    "duration": 106,
    "start_time": "2021-12-26T15:25:50.269Z"
   },
   {
    "duration": 12,
    "start_time": "2021-12-26T15:25:50.377Z"
   },
   {
    "duration": 15,
    "start_time": "2021-12-26T15:25:50.390Z"
   },
   {
    "duration": 37,
    "start_time": "2021-12-26T15:25:50.407Z"
   },
   {
    "duration": 11,
    "start_time": "2021-12-26T15:25:50.446Z"
   },
   {
    "duration": 12,
    "start_time": "2021-12-26T15:25:50.458Z"
   },
   {
    "duration": 22,
    "start_time": "2021-12-26T15:25:50.472Z"
   },
   {
    "duration": 7,
    "start_time": "2021-12-26T15:25:50.495Z"
   },
   {
    "duration": 87,
    "start_time": "2021-12-26T15:25:50.504Z"
   },
   {
    "duration": 12,
    "start_time": "2021-12-26T15:25:50.593Z"
   },
   {
    "duration": 17,
    "start_time": "2021-12-26T15:25:50.606Z"
   },
   {
    "duration": 45,
    "start_time": "2021-12-26T15:25:50.625Z"
   },
   {
    "duration": 6,
    "start_time": "2021-12-26T15:25:50.672Z"
   },
   {
    "duration": 23,
    "start_time": "2021-12-26T15:25:50.679Z"
   },
   {
    "duration": 5,
    "start_time": "2021-12-26T15:25:50.703Z"
   },
   {
    "duration": 37,
    "start_time": "2021-12-26T15:25:50.709Z"
   },
   {
    "duration": 5,
    "start_time": "2021-12-26T15:25:50.748Z"
   },
   {
    "duration": 13,
    "start_time": "2021-12-26T15:25:50.754Z"
   },
   {
    "duration": 3,
    "start_time": "2021-12-26T15:25:50.769Z"
   },
   {
    "duration": 18,
    "start_time": "2021-12-26T15:25:50.773Z"
   },
   {
    "duration": 12,
    "start_time": "2021-12-26T15:25:50.793Z"
   },
   {
    "duration": 36,
    "start_time": "2021-12-26T15:25:50.806Z"
   },
   {
    "duration": 19,
    "start_time": "2021-12-26T15:25:50.843Z"
   },
   {
    "duration": 8,
    "start_time": "2021-12-26T15:25:50.864Z"
   },
   {
    "duration": 7,
    "start_time": "2021-12-26T15:25:50.874Z"
   },
   {
    "duration": 153,
    "start_time": "2021-12-26T15:25:50.883Z"
   },
   {
    "duration": 15,
    "start_time": "2021-12-26T15:25:51.038Z"
   },
   {
    "duration": 4,
    "start_time": "2021-12-26T15:25:51.055Z"
   },
   {
    "duration": 18,
    "start_time": "2021-12-26T15:25:51.061Z"
   },
   {
    "duration": 18,
    "start_time": "2021-12-26T15:25:51.081Z"
   },
   {
    "duration": 15,
    "start_time": "2021-12-26T15:26:25.674Z"
   },
   {
    "duration": 14,
    "start_time": "2021-12-26T15:28:18.116Z"
   },
   {
    "duration": 11,
    "start_time": "2021-12-26T15:28:31.189Z"
   },
   {
    "duration": 17,
    "start_time": "2021-12-26T15:28:41.124Z"
   },
   {
    "duration": 8,
    "start_time": "2021-12-26T15:29:24.117Z"
   },
   {
    "duration": 3,
    "start_time": "2021-12-26T15:29:56.569Z"
   },
   {
    "duration": 31,
    "start_time": "2021-12-26T15:29:56.575Z"
   },
   {
    "duration": 9,
    "start_time": "2021-12-26T15:29:56.608Z"
   },
   {
    "duration": 6,
    "start_time": "2021-12-26T15:29:56.619Z"
   },
   {
    "duration": 153,
    "start_time": "2021-12-26T15:29:56.627Z"
   },
   {
    "duration": 8,
    "start_time": "2021-12-26T15:29:56.782Z"
   },
   {
    "duration": 51,
    "start_time": "2021-12-26T15:29:56.792Z"
   },
   {
    "duration": 83,
    "start_time": "2021-12-26T15:29:56.845Z"
   },
   {
    "duration": 7,
    "start_time": "2021-12-26T15:29:56.930Z"
   },
   {
    "duration": 15,
    "start_time": "2021-12-26T15:29:56.943Z"
   },
   {
    "duration": 126,
    "start_time": "2021-12-26T15:29:56.961Z"
   },
   {
    "duration": 7,
    "start_time": "2021-12-26T15:29:57.089Z"
   },
   {
    "duration": 21,
    "start_time": "2021-12-26T15:29:57.098Z"
   },
   {
    "duration": 16,
    "start_time": "2021-12-26T15:29:57.121Z"
   },
   {
    "duration": 11,
    "start_time": "2021-12-26T15:29:57.141Z"
   },
   {
    "duration": 8,
    "start_time": "2021-12-26T15:29:57.154Z"
   },
   {
    "duration": 15,
    "start_time": "2021-12-26T15:29:57.163Z"
   },
   {
    "duration": 9,
    "start_time": "2021-12-26T15:29:57.180Z"
   },
   {
    "duration": 13,
    "start_time": "2021-12-26T15:29:57.191Z"
   },
   {
    "duration": 16,
    "start_time": "2021-12-26T15:29:57.206Z"
   },
   {
    "duration": 13,
    "start_time": "2021-12-26T15:29:57.223Z"
   },
   {
    "duration": 17,
    "start_time": "2021-12-26T15:29:57.237Z"
   },
   {
    "duration": 9,
    "start_time": "2021-12-26T15:29:57.255Z"
   },
   {
    "duration": 8,
    "start_time": "2021-12-26T15:29:57.266Z"
   },
   {
    "duration": 16,
    "start_time": "2021-12-26T15:29:57.276Z"
   },
   {
    "duration": 20,
    "start_time": "2021-12-26T15:29:57.293Z"
   },
   {
    "duration": 11,
    "start_time": "2021-12-26T15:29:57.315Z"
   },
   {
    "duration": 6,
    "start_time": "2021-12-26T15:29:57.330Z"
   },
   {
    "duration": 11,
    "start_time": "2021-12-26T15:29:57.338Z"
   },
   {
    "duration": 21,
    "start_time": "2021-12-26T15:29:57.351Z"
   },
   {
    "duration": 6,
    "start_time": "2021-12-26T15:29:57.374Z"
   },
   {
    "duration": 192,
    "start_time": "2021-12-26T15:29:57.381Z"
   },
   {
    "duration": 27,
    "start_time": "2021-12-26T15:29:57.575Z"
   },
   {
    "duration": 13,
    "start_time": "2021-12-26T15:29:57.604Z"
   },
   {
    "duration": 26,
    "start_time": "2021-12-26T15:29:57.619Z"
   },
   {
    "duration": 633,
    "start_time": "2021-12-26T15:29:57.646Z"
   },
   {
    "duration": 8,
    "start_time": "2021-12-26T15:29:58.281Z"
   },
   {
    "duration": 10,
    "start_time": "2021-12-26T15:29:58.290Z"
   },
   {
    "duration": 87,
    "start_time": "2021-12-26T15:29:58.301Z"
   },
   {
    "duration": 15,
    "start_time": "2021-12-26T15:29:58.390Z"
   },
   {
    "duration": 35,
    "start_time": "2021-12-26T15:29:58.407Z"
   },
   {
    "duration": 10,
    "start_time": "2021-12-26T15:29:58.444Z"
   },
   {
    "duration": 56,
    "start_time": "2021-12-26T15:29:58.455Z"
   },
   {
    "duration": 5,
    "start_time": "2021-12-26T15:29:58.513Z"
   },
   {
    "duration": 14,
    "start_time": "2021-12-26T15:29:58.520Z"
   },
   {
    "duration": 9,
    "start_time": "2021-12-26T15:29:58.536Z"
   },
   {
    "duration": 18,
    "start_time": "2021-12-26T15:29:58.546Z"
   },
   {
    "duration": 81,
    "start_time": "2021-12-26T15:29:58.565Z"
   },
   {
    "duration": 22,
    "start_time": "2021-12-26T15:29:58.647Z"
   },
   {
    "duration": 5,
    "start_time": "2021-12-26T15:29:58.671Z"
   },
   {
    "duration": 32,
    "start_time": "2021-12-26T15:29:58.677Z"
   },
   {
    "duration": 32,
    "start_time": "2021-12-26T15:29:58.711Z"
   },
   {
    "duration": 18,
    "start_time": "2021-12-26T15:29:58.744Z"
   },
   {
    "duration": 26,
    "start_time": "2021-12-26T15:29:58.763Z"
   },
   {
    "duration": 6,
    "start_time": "2021-12-26T15:29:58.790Z"
   },
   {
    "duration": 6,
    "start_time": "2021-12-26T15:29:58.797Z"
   },
   {
    "duration": 116,
    "start_time": "2021-12-26T15:29:58.804Z"
   },
   {
    "duration": 21,
    "start_time": "2021-12-26T15:29:58.921Z"
   },
   {
    "duration": 15,
    "start_time": "2021-12-26T15:29:58.943Z"
   },
   {
    "duration": 16,
    "start_time": "2021-12-26T15:29:58.960Z"
   },
   {
    "duration": 9,
    "start_time": "2021-12-26T15:29:58.978Z"
   },
   {
    "duration": 10,
    "start_time": "2021-12-26T15:29:58.989Z"
   },
   {
    "duration": 49,
    "start_time": "2021-12-26T15:29:59.000Z"
   },
   {
    "duration": 5,
    "start_time": "2021-12-26T15:29:59.051Z"
   },
   {
    "duration": 55,
    "start_time": "2021-12-26T15:29:59.058Z"
   },
   {
    "duration": 27,
    "start_time": "2021-12-26T15:29:59.115Z"
   },
   {
    "duration": 16,
    "start_time": "2021-12-26T15:29:59.143Z"
   },
   {
    "duration": 31,
    "start_time": "2021-12-26T15:29:59.161Z"
   },
   {
    "duration": 7,
    "start_time": "2021-12-26T15:29:59.194Z"
   },
   {
    "duration": 43,
    "start_time": "2021-12-26T15:29:59.203Z"
   },
   {
    "duration": 6,
    "start_time": "2021-12-26T15:29:59.248Z"
   },
   {
    "duration": 17,
    "start_time": "2021-12-26T15:29:59.256Z"
   },
   {
    "duration": 5,
    "start_time": "2021-12-26T15:29:59.275Z"
   },
   {
    "duration": 14,
    "start_time": "2021-12-26T15:29:59.281Z"
   },
   {
    "duration": 3,
    "start_time": "2021-12-26T15:29:59.296Z"
   },
   {
    "duration": 16,
    "start_time": "2021-12-26T15:29:59.300Z"
   },
   {
    "duration": 11,
    "start_time": "2021-12-26T15:29:59.341Z"
   },
   {
    "duration": 10,
    "start_time": "2021-12-26T15:29:59.354Z"
   },
   {
    "duration": 6,
    "start_time": "2021-12-26T15:29:59.365Z"
   },
   {
    "duration": 10,
    "start_time": "2021-12-26T15:29:59.372Z"
   },
   {
    "duration": 158,
    "start_time": "2021-12-26T15:29:59.383Z"
   },
   {
    "duration": 14,
    "start_time": "2021-12-26T15:29:59.546Z"
   },
   {
    "duration": 11,
    "start_time": "2021-12-26T15:29:59.561Z"
   },
   {
    "duration": 6,
    "start_time": "2021-12-26T15:29:59.574Z"
   },
   {
    "duration": 18,
    "start_time": "2021-12-26T15:29:59.582Z"
   },
   {
    "duration": 43,
    "start_time": "2021-12-26T15:29:59.601Z"
   },
   {
    "duration": 13,
    "start_time": "2021-12-26T15:30:41.924Z"
   },
   {
    "duration": 263,
    "start_time": "2021-12-26T15:31:37.710Z"
   },
   {
    "duration": 8,
    "start_time": "2021-12-26T15:31:48.407Z"
   },
   {
    "duration": 4,
    "start_time": "2021-12-26T15:32:37.100Z"
   },
   {
    "duration": 21,
    "start_time": "2021-12-26T15:32:37.105Z"
   },
   {
    "duration": 9,
    "start_time": "2021-12-26T15:32:37.128Z"
   },
   {
    "duration": 9,
    "start_time": "2021-12-26T15:32:37.139Z"
   },
   {
    "duration": 145,
    "start_time": "2021-12-26T15:32:37.149Z"
   },
   {
    "duration": 7,
    "start_time": "2021-12-26T15:32:37.296Z"
   },
   {
    "duration": 46,
    "start_time": "2021-12-26T15:32:37.305Z"
   },
   {
    "duration": 84,
    "start_time": "2021-12-26T15:32:37.353Z"
   },
   {
    "duration": 7,
    "start_time": "2021-12-26T15:32:37.441Z"
   },
   {
    "duration": 19,
    "start_time": "2021-12-26T15:32:37.449Z"
   },
   {
    "duration": 117,
    "start_time": "2021-12-26T15:32:37.469Z"
   },
   {
    "duration": 7,
    "start_time": "2021-12-26T15:32:37.588Z"
   },
   {
    "duration": 24,
    "start_time": "2021-12-26T15:32:37.598Z"
   },
   {
    "duration": 17,
    "start_time": "2021-12-26T15:32:37.624Z"
   },
   {
    "duration": 19,
    "start_time": "2021-12-26T15:32:37.643Z"
   },
   {
    "duration": 6,
    "start_time": "2021-12-26T15:32:37.664Z"
   },
   {
    "duration": 10,
    "start_time": "2021-12-26T15:32:37.672Z"
   },
   {
    "duration": 6,
    "start_time": "2021-12-26T15:32:37.684Z"
   },
   {
    "duration": 6,
    "start_time": "2021-12-26T15:32:37.694Z"
   },
   {
    "duration": 11,
    "start_time": "2021-12-26T15:32:37.702Z"
   },
   {
    "duration": 12,
    "start_time": "2021-12-26T15:32:37.715Z"
   },
   {
    "duration": 16,
    "start_time": "2021-12-26T15:32:37.729Z"
   },
   {
    "duration": 9,
    "start_time": "2021-12-26T15:32:37.747Z"
   },
   {
    "duration": 8,
    "start_time": "2021-12-26T15:32:37.758Z"
   },
   {
    "duration": 9,
    "start_time": "2021-12-26T15:32:37.768Z"
   },
   {
    "duration": 10,
    "start_time": "2021-12-26T15:32:37.778Z"
   },
   {
    "duration": 8,
    "start_time": "2021-12-26T15:32:37.789Z"
   },
   {
    "duration": 9,
    "start_time": "2021-12-26T15:32:37.799Z"
   },
   {
    "duration": 9,
    "start_time": "2021-12-26T15:32:37.809Z"
   },
   {
    "duration": 34,
    "start_time": "2021-12-26T15:32:37.819Z"
   },
   {
    "duration": 6,
    "start_time": "2021-12-26T15:32:37.854Z"
   },
   {
    "duration": 213,
    "start_time": "2021-12-26T15:32:37.861Z"
   },
   {
    "duration": 27,
    "start_time": "2021-12-26T15:32:38.075Z"
   },
   {
    "duration": 14,
    "start_time": "2021-12-26T15:32:38.104Z"
   },
   {
    "duration": 27,
    "start_time": "2021-12-26T15:32:38.119Z"
   },
   {
    "duration": 584,
    "start_time": "2021-12-26T15:32:38.147Z"
   },
   {
    "duration": 12,
    "start_time": "2021-12-26T15:32:38.733Z"
   },
   {
    "duration": 6,
    "start_time": "2021-12-26T15:32:38.747Z"
   },
   {
    "duration": 89,
    "start_time": "2021-12-26T15:32:38.754Z"
   },
   {
    "duration": 15,
    "start_time": "2021-12-26T15:32:38.845Z"
   },
   {
    "duration": 25,
    "start_time": "2021-12-26T15:32:38.861Z"
   },
   {
    "duration": 10,
    "start_time": "2021-12-26T15:32:38.887Z"
   },
   {
    "duration": 63,
    "start_time": "2021-12-26T15:32:38.898Z"
   },
   {
    "duration": 6,
    "start_time": "2021-12-26T15:32:38.963Z"
   },
   {
    "duration": 7,
    "start_time": "2021-12-26T15:32:38.971Z"
   },
   {
    "duration": 9,
    "start_time": "2021-12-26T15:32:38.979Z"
   },
   {
    "duration": 8,
    "start_time": "2021-12-26T15:32:38.990Z"
   },
   {
    "duration": 104,
    "start_time": "2021-12-26T15:32:39.000Z"
   },
   {
    "duration": 18,
    "start_time": "2021-12-26T15:32:39.106Z"
   },
   {
    "duration": 18,
    "start_time": "2021-12-26T15:32:39.125Z"
   },
   {
    "duration": 34,
    "start_time": "2021-12-26T15:32:39.144Z"
   },
   {
    "duration": 11,
    "start_time": "2021-12-26T15:32:39.180Z"
   },
   {
    "duration": 20,
    "start_time": "2021-12-26T15:32:39.193Z"
   },
   {
    "duration": 53,
    "start_time": "2021-12-26T15:32:39.215Z"
   },
   {
    "duration": 7,
    "start_time": "2021-12-26T15:32:39.273Z"
   },
   {
    "duration": 8,
    "start_time": "2021-12-26T15:32:39.282Z"
   },
   {
    "duration": 117,
    "start_time": "2021-12-26T15:32:39.291Z"
   },
   {
    "duration": 12,
    "start_time": "2021-12-26T15:32:39.410Z"
   },
   {
    "duration": 33,
    "start_time": "2021-12-26T15:32:39.423Z"
   },
   {
    "duration": 16,
    "start_time": "2021-12-26T15:32:39.457Z"
   },
   {
    "duration": 9,
    "start_time": "2021-12-26T15:32:39.475Z"
   },
   {
    "duration": 10,
    "start_time": "2021-12-26T15:32:39.486Z"
   },
   {
    "duration": 44,
    "start_time": "2021-12-26T15:32:39.498Z"
   },
   {
    "duration": 6,
    "start_time": "2021-12-26T15:32:39.543Z"
   },
   {
    "duration": 59,
    "start_time": "2021-12-26T15:32:39.551Z"
   },
   {
    "duration": 31,
    "start_time": "2021-12-26T15:32:39.611Z"
   },
   {
    "duration": 15,
    "start_time": "2021-12-26T15:32:39.644Z"
   },
   {
    "duration": 34,
    "start_time": "2021-12-26T15:32:39.660Z"
   },
   {
    "duration": 7,
    "start_time": "2021-12-26T15:32:39.696Z"
   },
   {
    "duration": 42,
    "start_time": "2021-12-26T15:32:39.705Z"
   },
   {
    "duration": 5,
    "start_time": "2021-12-26T15:32:39.749Z"
   },
   {
    "duration": 16,
    "start_time": "2021-12-26T15:32:39.755Z"
   },
   {
    "duration": 6,
    "start_time": "2021-12-26T15:32:39.773Z"
   },
   {
    "duration": 16,
    "start_time": "2021-12-26T15:32:39.780Z"
   },
   {
    "duration": 3,
    "start_time": "2021-12-26T15:32:39.797Z"
   },
   {
    "duration": 45,
    "start_time": "2021-12-26T15:32:39.802Z"
   },
   {
    "duration": 12,
    "start_time": "2021-12-26T15:32:39.848Z"
   },
   {
    "duration": 13,
    "start_time": "2021-12-26T15:32:39.861Z"
   },
   {
    "duration": 7,
    "start_time": "2021-12-26T15:32:39.875Z"
   },
   {
    "duration": 9,
    "start_time": "2021-12-26T15:32:39.883Z"
   },
   {
    "duration": 158,
    "start_time": "2021-12-26T15:32:39.893Z"
   },
   {
    "duration": 15,
    "start_time": "2021-12-26T15:32:40.052Z"
   },
   {
    "duration": 12,
    "start_time": "2021-12-26T15:32:40.068Z"
   },
   {
    "duration": 7,
    "start_time": "2021-12-26T15:32:40.082Z"
   },
   {
    "duration": 18,
    "start_time": "2021-12-26T15:32:40.090Z"
   },
   {
    "duration": 48,
    "start_time": "2021-12-26T15:32:40.110Z"
   },
   {
    "duration": 640,
    "start_time": "2021-12-26T15:32:48.260Z"
   },
   {
    "duration": 18,
    "start_time": "2021-12-26T15:32:48.902Z"
   },
   {
    "duration": 12,
    "start_time": "2021-12-26T15:32:48.922Z"
   },
   {
    "duration": 6,
    "start_time": "2021-12-26T15:32:48.936Z"
   },
   {
    "duration": 149,
    "start_time": "2021-12-26T15:32:48.943Z"
   },
   {
    "duration": 7,
    "start_time": "2021-12-26T15:32:49.094Z"
   },
   {
    "duration": 21,
    "start_time": "2021-12-26T15:32:49.102Z"
   },
   {
    "duration": 83,
    "start_time": "2021-12-26T15:32:49.126Z"
   },
   {
    "duration": 7,
    "start_time": "2021-12-26T15:32:49.211Z"
   },
   {
    "duration": 28,
    "start_time": "2021-12-26T15:32:49.220Z"
   },
   {
    "duration": 123,
    "start_time": "2021-12-26T15:32:49.250Z"
   },
   {
    "duration": 8,
    "start_time": "2021-12-26T15:32:49.374Z"
   },
   {
    "duration": 18,
    "start_time": "2021-12-26T15:32:49.383Z"
   },
   {
    "duration": 16,
    "start_time": "2021-12-26T15:32:49.403Z"
   },
   {
    "duration": 10,
    "start_time": "2021-12-26T15:32:49.421Z"
   },
   {
    "duration": 10,
    "start_time": "2021-12-26T15:32:49.433Z"
   },
   {
    "duration": 9,
    "start_time": "2021-12-26T15:32:49.444Z"
   },
   {
    "duration": 9,
    "start_time": "2021-12-26T15:32:49.454Z"
   },
   {
    "duration": 7,
    "start_time": "2021-12-26T15:32:49.464Z"
   },
   {
    "duration": 8,
    "start_time": "2021-12-26T15:32:49.473Z"
   },
   {
    "duration": 12,
    "start_time": "2021-12-26T15:32:49.482Z"
   },
   {
    "duration": 10,
    "start_time": "2021-12-26T15:32:49.495Z"
   },
   {
    "duration": 9,
    "start_time": "2021-12-26T15:32:49.508Z"
   },
   {
    "duration": 27,
    "start_time": "2021-12-26T15:32:49.519Z"
   },
   {
    "duration": 13,
    "start_time": "2021-12-26T15:32:49.547Z"
   },
   {
    "duration": 9,
    "start_time": "2021-12-26T15:32:49.562Z"
   },
   {
    "duration": 6,
    "start_time": "2021-12-26T15:32:49.572Z"
   },
   {
    "duration": 9,
    "start_time": "2021-12-26T15:32:49.579Z"
   },
   {
    "duration": 10,
    "start_time": "2021-12-26T15:32:49.589Z"
   },
   {
    "duration": 28,
    "start_time": "2021-12-26T15:32:49.601Z"
   },
   {
    "duration": 6,
    "start_time": "2021-12-26T15:32:49.630Z"
   },
   {
    "duration": 244,
    "start_time": "2021-12-26T15:32:49.640Z"
   },
   {
    "duration": 28,
    "start_time": "2021-12-26T15:32:49.885Z"
   },
   {
    "duration": 28,
    "start_time": "2021-12-26T15:32:49.915Z"
   },
   {
    "duration": 11,
    "start_time": "2021-12-26T15:32:49.944Z"
   },
   {
    "duration": 760,
    "start_time": "2021-12-26T15:32:49.956Z"
   },
   {
    "duration": 8,
    "start_time": "2021-12-26T15:32:50.717Z"
   },
   {
    "duration": 17,
    "start_time": "2021-12-26T15:32:50.726Z"
   },
   {
    "duration": 101,
    "start_time": "2021-12-26T15:32:50.744Z"
   },
   {
    "duration": 16,
    "start_time": "2021-12-26T15:32:50.847Z"
   },
   {
    "duration": 23,
    "start_time": "2021-12-26T15:32:50.864Z"
   },
   {
    "duration": 9,
    "start_time": "2021-12-26T15:32:50.889Z"
   },
   {
    "duration": 61,
    "start_time": "2021-12-26T15:32:50.900Z"
   },
   {
    "duration": 6,
    "start_time": "2021-12-26T15:32:50.963Z"
   },
   {
    "duration": 8,
    "start_time": "2021-12-26T15:32:50.970Z"
   },
   {
    "duration": 10,
    "start_time": "2021-12-26T15:32:50.979Z"
   },
   {
    "duration": 9,
    "start_time": "2021-12-26T15:32:50.990Z"
   },
   {
    "duration": 103,
    "start_time": "2021-12-26T15:32:51.000Z"
   },
   {
    "duration": 18,
    "start_time": "2021-12-26T15:32:51.105Z"
   },
   {
    "duration": 20,
    "start_time": "2021-12-26T15:32:51.124Z"
   },
   {
    "duration": 38,
    "start_time": "2021-12-26T15:32:51.145Z"
   },
   {
    "duration": 9,
    "start_time": "2021-12-26T15:32:51.185Z"
   },
   {
    "duration": 24,
    "start_time": "2021-12-26T15:32:51.195Z"
   },
   {
    "duration": 44,
    "start_time": "2021-12-26T15:32:51.221Z"
   },
   {
    "duration": 7,
    "start_time": "2021-12-26T15:32:51.267Z"
   },
   {
    "duration": 7,
    "start_time": "2021-12-26T15:32:51.275Z"
   },
   {
    "duration": 120,
    "start_time": "2021-12-26T15:32:51.283Z"
   },
   {
    "duration": 13,
    "start_time": "2021-12-26T15:32:51.404Z"
   },
   {
    "duration": 28,
    "start_time": "2021-12-26T15:32:51.419Z"
   },
   {
    "duration": 17,
    "start_time": "2021-12-26T15:32:51.449Z"
   },
   {
    "duration": 9,
    "start_time": "2021-12-26T15:32:51.468Z"
   },
   {
    "duration": 11,
    "start_time": "2021-12-26T15:32:51.478Z"
   },
   {
    "duration": 21,
    "start_time": "2021-12-26T15:32:51.490Z"
   },
   {
    "duration": 30,
    "start_time": "2021-12-26T15:32:51.512Z"
   },
   {
    "duration": 56,
    "start_time": "2021-12-26T15:32:51.543Z"
   },
   {
    "duration": 9,
    "start_time": "2021-12-26T15:32:51.601Z"
   },
   {
    "duration": 34,
    "start_time": "2021-12-26T15:32:51.611Z"
   },
   {
    "duration": 33,
    "start_time": "2021-12-26T15:32:51.650Z"
   },
   {
    "duration": 7,
    "start_time": "2021-12-26T15:32:51.684Z"
   },
   {
    "duration": 17,
    "start_time": "2021-12-26T15:32:51.693Z"
   },
   {
    "duration": 4,
    "start_time": "2021-12-26T15:32:51.712Z"
   },
   {
    "duration": 14,
    "start_time": "2021-12-26T15:32:51.740Z"
   },
   {
    "duration": 4,
    "start_time": "2021-12-26T15:32:51.756Z"
   },
   {
    "duration": 14,
    "start_time": "2021-12-26T15:32:51.762Z"
   },
   {
    "duration": 2,
    "start_time": "2021-12-26T15:32:51.778Z"
   },
   {
    "duration": 16,
    "start_time": "2021-12-26T15:32:51.782Z"
   },
   {
    "duration": 12,
    "start_time": "2021-12-26T15:32:51.799Z"
   },
   {
    "duration": 36,
    "start_time": "2021-12-26T15:32:51.812Z"
   },
   {
    "duration": 6,
    "start_time": "2021-12-26T15:32:51.850Z"
   },
   {
    "duration": 8,
    "start_time": "2021-12-26T15:32:51.857Z"
   },
   {
    "duration": 158,
    "start_time": "2021-12-26T15:32:51.866Z"
   },
   {
    "duration": 18,
    "start_time": "2021-12-26T15:32:52.025Z"
   },
   {
    "duration": 11,
    "start_time": "2021-12-26T15:32:52.044Z"
   },
   {
    "duration": 6,
    "start_time": "2021-12-26T15:32:52.056Z"
   },
   {
    "duration": 18,
    "start_time": "2021-12-26T15:32:52.063Z"
   },
   {
    "duration": 17,
    "start_time": "2021-12-26T15:32:52.083Z"
   },
   {
    "duration": 21,
    "start_time": "2021-12-26T17:57:56.676Z"
   },
   {
    "duration": 14,
    "start_time": "2021-12-26T17:58:13.053Z"
   },
   {
    "duration": 24,
    "start_time": "2021-12-26T19:01:59.587Z"
   },
   {
    "duration": 7,
    "start_time": "2021-12-26T19:13:13.253Z"
   },
   {
    "duration": 324,
    "start_time": "2021-12-26T19:16:13.143Z"
   },
   {
    "duration": 19,
    "start_time": "2021-12-26T19:16:37.694Z"
   },
   {
    "duration": 255,
    "start_time": "2021-12-26T19:25:10.614Z"
   },
   {
    "duration": 260,
    "start_time": "2021-12-26T19:39:58.321Z"
   },
   {
    "duration": 325,
    "start_time": "2021-12-26T19:40:18.737Z"
   },
   {
    "duration": 454,
    "start_time": "2021-12-26T19:41:33.657Z"
   },
   {
    "duration": 326,
    "start_time": "2021-12-26T19:41:42.337Z"
   },
   {
    "duration": 344,
    "start_time": "2021-12-26T19:41:51.562Z"
   },
   {
    "duration": 353,
    "start_time": "2021-12-26T19:44:00.797Z"
   },
   {
    "duration": 319,
    "start_time": "2021-12-26T19:44:12.288Z"
   },
   {
    "duration": 237,
    "start_time": "2021-12-26T19:44:36.477Z"
   },
   {
    "duration": 308,
    "start_time": "2021-12-26T19:44:41.908Z"
   },
   {
    "duration": 259,
    "start_time": "2021-12-26T19:44:46.453Z"
   },
   {
    "duration": 401,
    "start_time": "2021-12-26T19:45:13.294Z"
   },
   {
    "duration": 394,
    "start_time": "2021-12-26T19:45:19.982Z"
   },
   {
    "duration": 402,
    "start_time": "2021-12-26T19:45:43.222Z"
   },
   {
    "duration": 271,
    "start_time": "2021-12-26T19:47:32.158Z"
   },
   {
    "duration": 353,
    "start_time": "2021-12-26T19:47:41.367Z"
   },
   {
    "duration": 335,
    "start_time": "2021-12-26T19:54:07.129Z"
   },
   {
    "duration": 309,
    "start_time": "2021-12-26T19:54:43.988Z"
   },
   {
    "duration": 301,
    "start_time": "2021-12-26T19:54:55.949Z"
   },
   {
    "duration": 420,
    "start_time": "2021-12-26T19:55:49.317Z"
   },
   {
    "duration": 341,
    "start_time": "2021-12-26T20:00:57.333Z"
   },
   {
    "duration": 308,
    "start_time": "2021-12-26T20:05:48.034Z"
   },
   {
    "duration": 448,
    "start_time": "2021-12-26T20:07:42.442Z"
   },
   {
    "duration": 342,
    "start_time": "2021-12-26T20:07:57.335Z"
   },
   {
    "duration": 358,
    "start_time": "2021-12-26T20:08:04.942Z"
   },
   {
    "duration": 282,
    "start_time": "2021-12-26T20:08:09.374Z"
   },
   {
    "duration": 320,
    "start_time": "2021-12-26T20:08:13.815Z"
   },
   {
    "duration": 519,
    "start_time": "2021-12-26T20:11:42.294Z"
   },
   {
    "duration": 333,
    "start_time": "2021-12-26T20:12:04.715Z"
   },
   {
    "duration": 333,
    "start_time": "2021-12-26T20:13:03.467Z"
   },
   {
    "duration": 445,
    "start_time": "2021-12-26T20:13:06.978Z"
   },
   {
    "duration": 327,
    "start_time": "2021-12-26T20:14:07.691Z"
   },
   {
    "duration": 342,
    "start_time": "2021-12-26T20:14:20.580Z"
   },
   {
    "duration": 8,
    "start_time": "2021-12-26T20:48:43.880Z"
   },
   {
    "duration": 8,
    "start_time": "2021-12-26T20:48:58.188Z"
   },
   {
    "duration": 7,
    "start_time": "2021-12-26T20:50:36.962Z"
   },
   {
    "duration": 8,
    "start_time": "2021-12-26T20:50:38.918Z"
   },
   {
    "duration": 7,
    "start_time": "2021-12-26T20:52:07.425Z"
   },
   {
    "duration": 8,
    "start_time": "2021-12-26T20:52:09.393Z"
   },
   {
    "duration": 4,
    "start_time": "2021-12-26T20:53:03.897Z"
   },
   {
    "duration": 44,
    "start_time": "2021-12-26T20:53:03.902Z"
   },
   {
    "duration": 18,
    "start_time": "2021-12-26T20:53:03.948Z"
   },
   {
    "duration": 11,
    "start_time": "2021-12-26T20:53:03.967Z"
   },
   {
    "duration": 147,
    "start_time": "2021-12-26T20:53:03.980Z"
   },
   {
    "duration": 6,
    "start_time": "2021-12-26T20:53:04.142Z"
   },
   {
    "duration": 26,
    "start_time": "2021-12-26T20:53:04.150Z"
   },
   {
    "duration": 95,
    "start_time": "2021-12-26T20:53:04.178Z"
   },
   {
    "duration": 6,
    "start_time": "2021-12-26T20:53:04.275Z"
   },
   {
    "duration": 38,
    "start_time": "2021-12-26T20:53:04.283Z"
   },
   {
    "duration": 146,
    "start_time": "2021-12-26T20:53:04.323Z"
   },
   {
    "duration": 7,
    "start_time": "2021-12-26T20:53:04.471Z"
   },
   {
    "duration": 24,
    "start_time": "2021-12-26T20:53:04.480Z"
   },
   {
    "duration": 25,
    "start_time": "2021-12-26T20:53:04.505Z"
   },
   {
    "duration": 26,
    "start_time": "2021-12-26T20:53:04.531Z"
   },
   {
    "duration": 11,
    "start_time": "2021-12-26T20:53:04.558Z"
   },
   {
    "duration": 30,
    "start_time": "2021-12-26T20:53:04.571Z"
   },
   {
    "duration": 13,
    "start_time": "2021-12-26T20:53:04.602Z"
   },
   {
    "duration": 17,
    "start_time": "2021-12-26T20:53:04.619Z"
   },
   {
    "duration": 18,
    "start_time": "2021-12-26T20:53:04.638Z"
   },
   {
    "duration": 17,
    "start_time": "2021-12-26T20:53:04.658Z"
   },
   {
    "duration": 18,
    "start_time": "2021-12-26T20:53:04.677Z"
   },
   {
    "duration": 20,
    "start_time": "2021-12-26T20:53:04.696Z"
   },
   {
    "duration": 25,
    "start_time": "2021-12-26T20:53:04.718Z"
   },
   {
    "duration": 16,
    "start_time": "2021-12-26T20:53:04.744Z"
   },
   {
    "duration": 20,
    "start_time": "2021-12-26T20:53:04.762Z"
   },
   {
    "duration": 45,
    "start_time": "2021-12-26T20:53:04.783Z"
   },
   {
    "duration": 24,
    "start_time": "2021-12-26T20:53:04.829Z"
   },
   {
    "duration": 268,
    "start_time": "2021-12-26T20:53:04.854Z"
   },
   {
    "duration": 33,
    "start_time": "2021-12-26T20:53:05.124Z"
   },
   {
    "duration": 15,
    "start_time": "2021-12-26T20:53:05.158Z"
   },
   {
    "duration": 20,
    "start_time": "2021-12-26T20:53:05.175Z"
   },
   {
    "duration": 903,
    "start_time": "2021-12-26T20:53:05.196Z"
   },
   {
    "duration": 8,
    "start_time": "2021-12-26T20:53:06.100Z"
   },
   {
    "duration": 11,
    "start_time": "2021-12-26T20:53:06.109Z"
   },
   {
    "duration": 102,
    "start_time": "2021-12-26T20:53:06.122Z"
   },
   {
    "duration": 18,
    "start_time": "2021-12-26T20:53:06.225Z"
   },
   {
    "duration": 21,
    "start_time": "2021-12-26T20:53:06.244Z"
   },
   {
    "duration": 10,
    "start_time": "2021-12-26T20:53:06.266Z"
   },
   {
    "duration": 40,
    "start_time": "2021-12-26T20:53:06.277Z"
   },
   {
    "duration": 29,
    "start_time": "2021-12-26T20:53:06.319Z"
   },
   {
    "duration": 8,
    "start_time": "2021-12-26T20:53:06.349Z"
   },
   {
    "duration": 8,
    "start_time": "2021-12-26T20:53:06.358Z"
   },
   {
    "duration": 7,
    "start_time": "2021-12-26T20:53:06.367Z"
   },
   {
    "duration": 110,
    "start_time": "2021-12-26T20:53:06.376Z"
   },
   {
    "duration": 19,
    "start_time": "2021-12-26T20:53:06.488Z"
   },
   {
    "duration": 6,
    "start_time": "2021-12-26T20:53:06.508Z"
   },
   {
    "duration": 55,
    "start_time": "2021-12-26T20:53:06.515Z"
   },
   {
    "duration": 9,
    "start_time": "2021-12-26T20:53:06.572Z"
   },
   {
    "duration": 21,
    "start_time": "2021-12-26T20:53:06.582Z"
   },
   {
    "duration": 43,
    "start_time": "2021-12-26T20:53:06.604Z"
   },
   {
    "duration": 6,
    "start_time": "2021-12-26T20:53:06.649Z"
   },
   {
    "duration": 8,
    "start_time": "2021-12-26T20:53:06.656Z"
   },
   {
    "duration": 109,
    "start_time": "2021-12-26T20:53:06.666Z"
   },
   {
    "duration": 12,
    "start_time": "2021-12-26T20:53:06.779Z"
   },
   {
    "duration": 16,
    "start_time": "2021-12-26T20:53:06.793Z"
   },
   {
    "duration": 39,
    "start_time": "2021-12-26T20:53:06.811Z"
   },
   {
    "duration": 10,
    "start_time": "2021-12-26T20:53:06.852Z"
   },
   {
    "duration": 11,
    "start_time": "2021-12-26T20:53:06.864Z"
   },
   {
    "duration": 21,
    "start_time": "2021-12-26T20:53:06.877Z"
   },
   {
    "duration": 7,
    "start_time": "2021-12-26T20:53:06.900Z"
   },
   {
    "duration": 86,
    "start_time": "2021-12-26T20:53:06.908Z"
   },
   {
    "duration": 11,
    "start_time": "2021-12-26T20:53:06.996Z"
   },
   {
    "duration": 37,
    "start_time": "2021-12-26T20:53:07.008Z"
   },
   {
    "duration": 36,
    "start_time": "2021-12-26T20:53:07.046Z"
   },
   {
    "duration": 7,
    "start_time": "2021-12-26T20:53:07.084Z"
   },
   {
    "duration": 18,
    "start_time": "2021-12-26T20:53:07.093Z"
   },
   {
    "duration": 31,
    "start_time": "2021-12-26T20:53:07.113Z"
   },
   {
    "duration": 15,
    "start_time": "2021-12-26T20:53:07.146Z"
   },
   {
    "duration": 5,
    "start_time": "2021-12-26T20:53:07.162Z"
   },
   {
    "duration": 15,
    "start_time": "2021-12-26T20:53:07.168Z"
   },
   {
    "duration": 3,
    "start_time": "2021-12-26T20:53:07.185Z"
   },
   {
    "duration": 19,
    "start_time": "2021-12-26T20:53:07.189Z"
   },
   {
    "duration": 40,
    "start_time": "2021-12-26T20:53:07.209Z"
   },
   {
    "duration": 11,
    "start_time": "2021-12-26T20:53:07.250Z"
   },
   {
    "duration": 7,
    "start_time": "2021-12-26T20:53:07.262Z"
   },
   {
    "duration": 8,
    "start_time": "2021-12-26T20:53:07.271Z"
   },
   {
    "duration": 157,
    "start_time": "2021-12-26T20:53:07.280Z"
   },
   {
    "duration": 13,
    "start_time": "2021-12-26T20:53:07.439Z"
   },
   {
    "duration": 10,
    "start_time": "2021-12-26T20:53:07.454Z"
   },
   {
    "duration": 6,
    "start_time": "2021-12-26T20:53:07.466Z"
   },
   {
    "duration": 15,
    "start_time": "2021-12-26T20:53:07.473Z"
   },
   {
    "duration": 328,
    "start_time": "2021-12-26T20:53:07.490Z"
   },
   {
    "duration": 7,
    "start_time": "2021-12-26T20:53:07.820Z"
   },
   {
    "duration": 17,
    "start_time": "2021-12-26T20:53:07.829Z"
   },
   {
    "duration": 324,
    "start_time": "2021-12-26T20:53:07.847Z"
   },
   {
    "duration": 7,
    "start_time": "2021-12-26T20:53:08.174Z"
   },
   {
    "duration": 9,
    "start_time": "2021-12-26T20:53:08.183Z"
   },
   {
    "duration": 330,
    "start_time": "2021-12-26T20:53:08.194Z"
   },
   {
    "duration": 16,
    "start_time": "2021-12-26T20:53:08.526Z"
   },
   {
    "duration": 6,
    "start_time": "2021-12-26T20:53:08.544Z"
   },
   {
    "duration": 20,
    "start_time": "2021-12-26T20:53:08.552Z"
   },
   {
    "duration": 17,
    "start_time": "2021-12-26T20:53:08.573Z"
   },
   {
    "duration": 671,
    "start_time": "2021-12-26T20:54:29.143Z"
   },
   {
    "duration": 31,
    "start_time": "2021-12-26T20:54:29.815Z"
   },
   {
    "duration": 14,
    "start_time": "2021-12-26T20:54:29.848Z"
   },
   {
    "duration": 8,
    "start_time": "2021-12-26T20:54:29.864Z"
   },
   {
    "duration": 178,
    "start_time": "2021-12-26T20:54:29.873Z"
   },
   {
    "duration": 8,
    "start_time": "2021-12-26T20:54:30.053Z"
   },
   {
    "duration": 24,
    "start_time": "2021-12-26T20:54:30.063Z"
   },
   {
    "duration": 90,
    "start_time": "2021-12-26T20:54:30.089Z"
   },
   {
    "duration": 7,
    "start_time": "2021-12-26T20:54:30.182Z"
   },
   {
    "duration": 26,
    "start_time": "2021-12-26T20:54:30.191Z"
   },
   {
    "duration": 163,
    "start_time": "2021-12-26T20:54:30.220Z"
   },
   {
    "duration": 10,
    "start_time": "2021-12-26T20:54:30.385Z"
   },
   {
    "duration": 24,
    "start_time": "2021-12-26T20:54:30.397Z"
   },
   {
    "duration": 18,
    "start_time": "2021-12-26T20:54:30.422Z"
   },
   {
    "duration": 10,
    "start_time": "2021-12-26T20:54:30.442Z"
   },
   {
    "duration": 20,
    "start_time": "2021-12-26T20:54:30.454Z"
   },
   {
    "duration": 30,
    "start_time": "2021-12-26T20:54:30.475Z"
   },
   {
    "duration": 29,
    "start_time": "2021-12-26T20:54:30.507Z"
   },
   {
    "duration": 26,
    "start_time": "2021-12-26T20:54:30.538Z"
   },
   {
    "duration": 27,
    "start_time": "2021-12-26T20:54:30.565Z"
   },
   {
    "duration": 15,
    "start_time": "2021-12-26T20:54:30.594Z"
   },
   {
    "duration": 12,
    "start_time": "2021-12-26T20:54:30.610Z"
   },
   {
    "duration": 28,
    "start_time": "2021-12-26T20:54:30.625Z"
   },
   {
    "duration": 12,
    "start_time": "2021-12-26T20:54:30.655Z"
   },
   {
    "duration": 8,
    "start_time": "2021-12-26T20:54:30.668Z"
   },
   {
    "duration": 20,
    "start_time": "2021-12-26T20:54:30.678Z"
   },
   {
    "duration": 33,
    "start_time": "2021-12-26T20:54:30.700Z"
   },
   {
    "duration": 6,
    "start_time": "2021-12-26T20:54:30.734Z"
   },
   {
    "duration": 294,
    "start_time": "2021-12-26T20:54:30.742Z"
   },
   {
    "duration": 29,
    "start_time": "2021-12-26T20:54:31.038Z"
   },
   {
    "duration": 16,
    "start_time": "2021-12-26T20:54:31.069Z"
   },
   {
    "duration": 17,
    "start_time": "2021-12-26T20:54:31.087Z"
   },
   {
    "duration": 670,
    "start_time": "2021-12-26T20:54:31.105Z"
   },
   {
    "duration": 9,
    "start_time": "2021-12-26T20:54:31.777Z"
   },
   {
    "duration": 7,
    "start_time": "2021-12-26T20:54:31.787Z"
   },
   {
    "duration": 113,
    "start_time": "2021-12-26T20:54:31.796Z"
   },
   {
    "duration": 16,
    "start_time": "2021-12-26T20:54:31.911Z"
   },
   {
    "duration": 32,
    "start_time": "2021-12-26T20:54:31.928Z"
   },
   {
    "duration": 10,
    "start_time": "2021-12-26T20:54:31.961Z"
   },
   {
    "duration": 45,
    "start_time": "2021-12-26T20:54:31.972Z"
   },
   {
    "duration": 22,
    "start_time": "2021-12-26T20:54:32.019Z"
   },
   {
    "duration": 7,
    "start_time": "2021-12-26T20:54:32.042Z"
   },
   {
    "duration": 13,
    "start_time": "2021-12-26T20:54:32.050Z"
   },
   {
    "duration": 9,
    "start_time": "2021-12-26T20:54:32.065Z"
   },
   {
    "duration": 117,
    "start_time": "2021-12-26T20:54:32.075Z"
   },
   {
    "duration": 20,
    "start_time": "2021-12-26T20:54:32.193Z"
   },
   {
    "duration": 7,
    "start_time": "2021-12-26T20:54:32.215Z"
   },
   {
    "duration": 54,
    "start_time": "2021-12-26T20:54:32.224Z"
   },
   {
    "duration": 9,
    "start_time": "2021-12-26T20:54:32.279Z"
   },
   {
    "duration": 20,
    "start_time": "2021-12-26T20:54:32.290Z"
   },
   {
    "duration": 47,
    "start_time": "2021-12-26T20:54:32.312Z"
   },
   {
    "duration": 6,
    "start_time": "2021-12-26T20:54:32.360Z"
   },
   {
    "duration": 9,
    "start_time": "2021-12-26T20:54:32.368Z"
   },
   {
    "duration": 107,
    "start_time": "2021-12-26T20:54:32.379Z"
   },
   {
    "duration": 15,
    "start_time": "2021-12-26T20:54:32.487Z"
   },
   {
    "duration": 38,
    "start_time": "2021-12-26T20:54:32.503Z"
   },
   {
    "duration": 19,
    "start_time": "2021-12-26T20:54:32.543Z"
   },
   {
    "duration": 11,
    "start_time": "2021-12-26T20:54:32.564Z"
   },
   {
    "duration": 12,
    "start_time": "2021-12-26T20:54:32.576Z"
   },
   {
    "duration": 21,
    "start_time": "2021-12-26T20:54:32.590Z"
   },
   {
    "duration": 7,
    "start_time": "2021-12-26T20:54:32.641Z"
   },
   {
    "duration": 61,
    "start_time": "2021-12-26T20:54:32.649Z"
   },
   {
    "duration": 9,
    "start_time": "2021-12-26T20:54:32.712Z"
   },
   {
    "duration": 32,
    "start_time": "2021-12-26T20:54:32.722Z"
   },
   {
    "duration": 33,
    "start_time": "2021-12-26T20:54:32.755Z"
   },
   {
    "duration": 6,
    "start_time": "2021-12-26T20:54:32.789Z"
   },
   {
    "duration": 17,
    "start_time": "2021-12-26T20:54:32.796Z"
   },
   {
    "duration": 5,
    "start_time": "2021-12-26T20:54:32.843Z"
   },
   {
    "duration": 16,
    "start_time": "2021-12-26T20:54:32.850Z"
   },
   {
    "duration": 5,
    "start_time": "2021-12-26T20:54:32.867Z"
   },
   {
    "duration": 15,
    "start_time": "2021-12-26T20:54:32.874Z"
   },
   {
    "duration": 4,
    "start_time": "2021-12-26T20:54:32.891Z"
   },
   {
    "duration": 19,
    "start_time": "2021-12-26T20:54:32.897Z"
   },
   {
    "duration": 15,
    "start_time": "2021-12-26T20:54:32.942Z"
   },
   {
    "duration": 14,
    "start_time": "2021-12-26T20:54:32.958Z"
   },
   {
    "duration": 8,
    "start_time": "2021-12-26T20:54:32.974Z"
   },
   {
    "duration": 6,
    "start_time": "2021-12-26T20:54:32.984Z"
   },
   {
    "duration": 170,
    "start_time": "2021-12-26T20:54:32.992Z"
   },
   {
    "duration": 13,
    "start_time": "2021-12-26T20:54:33.164Z"
   },
   {
    "duration": 10,
    "start_time": "2021-12-26T20:54:33.178Z"
   },
   {
    "duration": 5,
    "start_time": "2021-12-26T20:54:33.190Z"
   },
   {
    "duration": 13,
    "start_time": "2021-12-26T20:54:33.197Z"
   },
   {
    "duration": 337,
    "start_time": "2021-12-26T20:54:33.212Z"
   },
   {
    "duration": 7,
    "start_time": "2021-12-26T20:54:33.550Z"
   },
   {
    "duration": 6,
    "start_time": "2021-12-26T20:54:33.559Z"
   },
   {
    "duration": 342,
    "start_time": "2021-12-26T20:54:33.567Z"
   },
   {
    "duration": 7,
    "start_time": "2021-12-26T20:54:33.910Z"
   },
   {
    "duration": 23,
    "start_time": "2021-12-26T20:54:33.919Z"
   },
   {
    "duration": 400,
    "start_time": "2021-12-26T20:54:33.943Z"
   },
   {
    "duration": 9,
    "start_time": "2021-12-26T20:54:34.345Z"
   },
   {
    "duration": 13,
    "start_time": "2021-12-26T20:54:34.356Z"
   },
   {
    "duration": 24,
    "start_time": "2021-12-26T20:54:34.371Z"
   },
   {
    "duration": 21,
    "start_time": "2021-12-26T20:54:34.397Z"
   },
   {
    "duration": 342,
    "start_time": "2021-12-27T08:25:50.184Z"
   },
   {
    "duration": 926,
    "start_time": "2021-12-27T08:26:00.708Z"
   },
   {
    "duration": 28,
    "start_time": "2021-12-27T08:26:01.636Z"
   },
   {
    "duration": 34,
    "start_time": "2021-12-27T08:26:01.667Z"
   },
   {
    "duration": 24,
    "start_time": "2021-12-27T08:26:01.703Z"
   },
   {
    "duration": 230,
    "start_time": "2021-12-27T08:26:01.729Z"
   },
   {
    "duration": 24,
    "start_time": "2021-12-27T08:26:01.961Z"
   },
   {
    "duration": 36,
    "start_time": "2021-12-27T08:26:01.987Z"
   },
   {
    "duration": 124,
    "start_time": "2021-12-27T08:26:02.027Z"
   },
   {
    "duration": 10,
    "start_time": "2021-12-27T08:26:02.155Z"
   },
   {
    "duration": 30,
    "start_time": "2021-12-27T08:26:02.172Z"
   },
   {
    "duration": 186,
    "start_time": "2021-12-27T08:26:02.205Z"
   },
   {
    "duration": 12,
    "start_time": "2021-12-27T08:26:02.394Z"
   },
   {
    "duration": 33,
    "start_time": "2021-12-27T08:26:02.408Z"
   },
   {
    "duration": 28,
    "start_time": "2021-12-27T08:26:02.444Z"
   },
   {
    "duration": 30,
    "start_time": "2021-12-27T08:26:02.474Z"
   },
   {
    "duration": 12,
    "start_time": "2021-12-27T08:26:02.507Z"
   },
   {
    "duration": 24,
    "start_time": "2021-12-27T08:26:02.521Z"
   },
   {
    "duration": 28,
    "start_time": "2021-12-27T08:26:02.548Z"
   },
   {
    "duration": 10,
    "start_time": "2021-12-27T08:26:02.579Z"
   },
   {
    "duration": 10,
    "start_time": "2021-12-27T08:26:02.591Z"
   },
   {
    "duration": 20,
    "start_time": "2021-12-27T08:26:02.603Z"
   },
   {
    "duration": 10,
    "start_time": "2021-12-27T08:26:02.625Z"
   },
   {
    "duration": 41,
    "start_time": "2021-12-27T08:26:02.642Z"
   },
   {
    "duration": 15,
    "start_time": "2021-12-27T08:26:02.687Z"
   },
   {
    "duration": 12,
    "start_time": "2021-12-27T08:26:02.704Z"
   },
   {
    "duration": 13,
    "start_time": "2021-12-27T08:26:02.718Z"
   },
   {
    "duration": 57,
    "start_time": "2021-12-27T08:26:02.733Z"
   },
   {
    "duration": 10,
    "start_time": "2021-12-27T08:26:02.792Z"
   },
   {
    "duration": 370,
    "start_time": "2021-12-27T08:26:02.804Z"
   },
   {
    "duration": 44,
    "start_time": "2021-12-27T08:26:03.177Z"
   },
   {
    "duration": 21,
    "start_time": "2021-12-27T08:26:03.223Z"
   },
   {
    "duration": 34,
    "start_time": "2021-12-27T08:26:03.247Z"
   },
   {
    "duration": 1050,
    "start_time": "2021-12-27T08:26:03.283Z"
   },
   {
    "duration": 11,
    "start_time": "2021-12-27T08:26:04.336Z"
   },
   {
    "duration": 31,
    "start_time": "2021-12-27T08:26:04.349Z"
   },
   {
    "duration": 160,
    "start_time": "2021-12-27T08:26:04.384Z"
   },
   {
    "duration": 29,
    "start_time": "2021-12-27T08:26:04.547Z"
   },
   {
    "duration": 37,
    "start_time": "2021-12-27T08:26:04.579Z"
   },
   {
    "duration": 18,
    "start_time": "2021-12-27T08:26:04.619Z"
   },
   {
    "duration": 67,
    "start_time": "2021-12-27T08:26:04.670Z"
   },
   {
    "duration": 10,
    "start_time": "2021-12-27T08:26:04.740Z"
   },
   {
    "duration": 12,
    "start_time": "2021-12-27T08:26:04.769Z"
   },
   {
    "duration": 14,
    "start_time": "2021-12-27T08:26:04.783Z"
   },
   {
    "duration": 9,
    "start_time": "2021-12-27T08:26:04.800Z"
   },
   {
    "duration": 176,
    "start_time": "2021-12-27T08:26:04.812Z"
   },
   {
    "duration": 28,
    "start_time": "2021-12-27T08:26:04.991Z"
   },
   {
    "duration": 9,
    "start_time": "2021-12-27T08:26:05.021Z"
   },
   {
    "duration": 96,
    "start_time": "2021-12-27T08:26:05.033Z"
   },
   {
    "duration": 16,
    "start_time": "2021-12-27T08:26:05.132Z"
   },
   {
    "duration": 62,
    "start_time": "2021-12-27T08:26:05.150Z"
   },
   {
    "duration": 44,
    "start_time": "2021-12-27T08:26:05.214Z"
   },
   {
    "duration": 17,
    "start_time": "2021-12-27T08:26:05.261Z"
   },
   {
    "duration": 13,
    "start_time": "2021-12-27T08:26:05.281Z"
   },
   {
    "duration": 178,
    "start_time": "2021-12-27T08:26:05.297Z"
   },
   {
    "duration": 21,
    "start_time": "2021-12-27T08:26:05.477Z"
   },
   {
    "duration": 24,
    "start_time": "2021-12-27T08:26:05.501Z"
   },
   {
    "duration": 58,
    "start_time": "2021-12-27T08:26:05.527Z"
   },
   {
    "duration": 16,
    "start_time": "2021-12-27T08:26:05.587Z"
   },
   {
    "duration": 16,
    "start_time": "2021-12-27T08:26:05.606Z"
   },
   {
    "duration": 64,
    "start_time": "2021-12-27T08:26:05.624Z"
   },
   {
    "duration": 9,
    "start_time": "2021-12-27T08:26:05.691Z"
   },
   {
    "duration": 134,
    "start_time": "2021-12-27T08:26:05.703Z"
   },
   {
    "duration": 16,
    "start_time": "2021-12-27T08:26:05.840Z"
   },
   {
    "duration": 23,
    "start_time": "2021-12-27T08:26:05.867Z"
   },
   {
    "duration": 89,
    "start_time": "2021-12-27T08:26:05.893Z"
   },
   {
    "duration": 9,
    "start_time": "2021-12-27T08:26:05.985Z"
   },
   {
    "duration": 35,
    "start_time": "2021-12-27T08:26:05.997Z"
   },
   {
    "duration": 29,
    "start_time": "2021-12-27T08:26:06.041Z"
   },
   {
    "duration": 27,
    "start_time": "2021-12-27T08:26:06.074Z"
   },
   {
    "duration": 6,
    "start_time": "2021-12-27T08:26:06.104Z"
   },
   {
    "duration": 32,
    "start_time": "2021-12-27T08:26:06.113Z"
   },
   {
    "duration": 27,
    "start_time": "2021-12-27T08:26:06.147Z"
   },
   {
    "duration": 25,
    "start_time": "2021-12-27T08:26:06.176Z"
   },
   {
    "duration": 34,
    "start_time": "2021-12-27T08:26:06.204Z"
   },
   {
    "duration": 45,
    "start_time": "2021-12-27T08:26:06.241Z"
   },
   {
    "duration": 13,
    "start_time": "2021-12-27T08:26:06.289Z"
   },
   {
    "duration": 9,
    "start_time": "2021-12-27T08:26:06.304Z"
   },
   {
    "duration": 302,
    "start_time": "2021-12-27T08:26:06.315Z"
   },
   {
    "duration": 23,
    "start_time": "2021-12-27T08:26:06.619Z"
   },
   {
    "duration": 37,
    "start_time": "2021-12-27T08:26:06.645Z"
   },
   {
    "duration": 11,
    "start_time": "2021-12-27T08:26:06.684Z"
   },
   {
    "duration": 312,
    "start_time": "2021-12-27T08:26:06.697Z"
   },
   {
    "duration": -20,
    "start_time": "2021-12-27T08:26:07.032Z"
   },
   {
    "duration": -28,
    "start_time": "2021-12-27T08:26:07.042Z"
   },
   {
    "duration": -34,
    "start_time": "2021-12-27T08:26:07.050Z"
   },
   {
    "duration": -38,
    "start_time": "2021-12-27T08:26:07.056Z"
   },
   {
    "duration": -44,
    "start_time": "2021-12-27T08:26:07.064Z"
   },
   {
    "duration": -48,
    "start_time": "2021-12-27T08:26:07.071Z"
   },
   {
    "duration": -54,
    "start_time": "2021-12-27T08:26:07.079Z"
   },
   {
    "duration": -56,
    "start_time": "2021-12-27T08:26:07.083Z"
   },
   {
    "duration": -59,
    "start_time": "2021-12-27T08:26:07.088Z"
   },
   {
    "duration": -61,
    "start_time": "2021-12-27T08:26:07.092Z"
   },
   {
    "duration": -63,
    "start_time": "2021-12-27T08:26:07.096Z"
   },
   {
    "duration": -66,
    "start_time": "2021-12-27T08:26:07.101Z"
   },
   {
    "duration": 272,
    "start_time": "2021-12-27T08:26:25.023Z"
   },
   {
    "duration": 17,
    "start_time": "2021-12-27T08:26:29.833Z"
   },
   {
    "duration": 8,
    "start_time": "2021-12-27T08:27:14.184Z"
   },
   {
    "duration": 18,
    "start_time": "2021-12-27T08:28:04.489Z"
   },
   {
    "duration": 21,
    "start_time": "2021-12-27T08:28:38.066Z"
   },
   {
    "duration": 21,
    "start_time": "2021-12-27T08:28:56.569Z"
   },
   {
    "duration": 5,
    "start_time": "2021-12-27T08:29:06.473Z"
   },
   {
    "duration": 36,
    "start_time": "2021-12-27T08:29:06.481Z"
   },
   {
    "duration": 16,
    "start_time": "2021-12-27T08:29:06.520Z"
   },
   {
    "duration": 12,
    "start_time": "2021-12-27T08:29:06.539Z"
   },
   {
    "duration": 254,
    "start_time": "2021-12-27T08:29:06.576Z"
   },
   {
    "duration": 37,
    "start_time": "2021-12-27T08:29:06.832Z"
   },
   {
    "duration": 35,
    "start_time": "2021-12-27T08:29:06.873Z"
   },
   {
    "duration": 130,
    "start_time": "2021-12-27T08:29:06.911Z"
   },
   {
    "duration": 10,
    "start_time": "2021-12-27T08:29:07.043Z"
   },
   {
    "duration": 28,
    "start_time": "2021-12-27T08:29:07.067Z"
   },
   {
    "duration": 199,
    "start_time": "2021-12-27T08:29:07.098Z"
   },
   {
    "duration": 11,
    "start_time": "2021-12-27T08:29:07.300Z"
   },
   {
    "duration": 30,
    "start_time": "2021-12-27T08:29:07.314Z"
   },
   {
    "duration": 38,
    "start_time": "2021-12-27T08:29:07.346Z"
   },
   {
    "duration": 19,
    "start_time": "2021-12-27T08:29:07.387Z"
   },
   {
    "duration": 15,
    "start_time": "2021-12-27T08:29:07.408Z"
   },
   {
    "duration": 17,
    "start_time": "2021-12-27T08:29:07.426Z"
   },
   {
    "duration": 26,
    "start_time": "2021-12-27T08:29:07.446Z"
   },
   {
    "duration": 10,
    "start_time": "2021-12-27T08:29:07.481Z"
   },
   {
    "duration": 10,
    "start_time": "2021-12-27T08:29:07.495Z"
   },
   {
    "duration": 15,
    "start_time": "2021-12-27T08:29:07.507Z"
   },
   {
    "duration": 11,
    "start_time": "2021-12-27T08:29:07.525Z"
   },
   {
    "duration": 12,
    "start_time": "2021-12-27T08:29:07.568Z"
   },
   {
    "duration": 13,
    "start_time": "2021-12-27T08:29:07.582Z"
   },
   {
    "duration": 9,
    "start_time": "2021-12-27T08:29:07.598Z"
   },
   {
    "duration": 13,
    "start_time": "2021-12-27T08:29:07.609Z"
   },
   {
    "duration": 79,
    "start_time": "2021-12-27T08:29:07.625Z"
   },
   {
    "duration": 13,
    "start_time": "2021-12-27T08:29:07.706Z"
   },
   {
    "duration": 366,
    "start_time": "2021-12-27T08:29:07.721Z"
   },
   {
    "duration": 44,
    "start_time": "2021-12-27T08:29:08.089Z"
   },
   {
    "duration": 49,
    "start_time": "2021-12-27T08:29:08.135Z"
   },
   {
    "duration": 13,
    "start_time": "2021-12-27T08:29:08.186Z"
   },
   {
    "duration": 1024,
    "start_time": "2021-12-27T08:29:08.202Z"
   },
   {
    "duration": 11,
    "start_time": "2021-12-27T08:29:09.228Z"
   },
   {
    "duration": 32,
    "start_time": "2021-12-27T08:29:09.241Z"
   },
   {
    "duration": 133,
    "start_time": "2021-12-27T08:29:09.276Z"
   },
   {
    "duration": 25,
    "start_time": "2021-12-27T08:29:09.411Z"
   },
   {
    "duration": 55,
    "start_time": "2021-12-27T08:29:09.438Z"
   },
   {
    "duration": 17,
    "start_time": "2021-12-27T08:29:09.496Z"
   },
   {
    "duration": 88,
    "start_time": "2021-12-27T08:29:09.518Z"
   },
   {
    "duration": 9,
    "start_time": "2021-12-27T08:29:09.608Z"
   },
   {
    "duration": 10,
    "start_time": "2021-12-27T08:29:09.620Z"
   },
   {
    "duration": 43,
    "start_time": "2021-12-27T08:29:09.633Z"
   },
   {
    "duration": 10,
    "start_time": "2021-12-27T08:29:09.680Z"
   },
   {
    "duration": 159,
    "start_time": "2021-12-27T08:29:09.693Z"
   },
   {
    "duration": 39,
    "start_time": "2021-12-27T08:29:09.854Z"
   },
   {
    "duration": 10,
    "start_time": "2021-12-27T08:29:09.895Z"
   },
   {
    "duration": 88,
    "start_time": "2021-12-27T08:29:09.908Z"
   },
   {
    "duration": 16,
    "start_time": "2021-12-27T08:29:09.999Z"
   },
   {
    "duration": 59,
    "start_time": "2021-12-27T08:29:10.017Z"
   },
   {
    "duration": 44,
    "start_time": "2021-12-27T08:29:10.080Z"
   },
   {
    "duration": 9,
    "start_time": "2021-12-27T08:29:10.127Z"
   },
   {
    "duration": 38,
    "start_time": "2021-12-27T08:29:10.139Z"
   },
   {
    "duration": 173,
    "start_time": "2021-12-27T08:29:10.180Z"
   },
   {
    "duration": 27,
    "start_time": "2021-12-27T08:29:10.360Z"
   },
   {
    "duration": 29,
    "start_time": "2021-12-27T08:29:10.390Z"
   },
   {
    "duration": 57,
    "start_time": "2021-12-27T08:29:10.422Z"
   },
   {
    "duration": 18,
    "start_time": "2021-12-27T08:29:10.481Z"
   },
   {
    "duration": 16,
    "start_time": "2021-12-27T08:29:10.502Z"
   },
   {
    "duration": 65,
    "start_time": "2021-12-27T08:29:10.520Z"
   },
   {
    "duration": 10,
    "start_time": "2021-12-27T08:29:10.588Z"
   },
   {
    "duration": 117,
    "start_time": "2021-12-27T08:29:10.600Z"
   },
   {
    "duration": 17,
    "start_time": "2021-12-27T08:29:10.720Z"
   },
   {
    "duration": 45,
    "start_time": "2021-12-27T08:29:10.740Z"
   },
   {
    "duration": 54,
    "start_time": "2021-12-27T08:29:10.787Z"
   },
   {
    "duration": 31,
    "start_time": "2021-12-27T08:29:10.843Z"
   },
   {
    "duration": 38,
    "start_time": "2021-12-27T08:29:10.877Z"
   },
   {
    "duration": 9,
    "start_time": "2021-12-27T08:29:10.918Z"
   },
   {
    "duration": 60,
    "start_time": "2021-12-27T08:29:10.930Z"
   },
   {
    "duration": 8,
    "start_time": "2021-12-27T08:29:10.993Z"
   },
   {
    "duration": 24,
    "start_time": "2021-12-27T08:29:11.003Z"
   },
   {
    "duration": 38,
    "start_time": "2021-12-27T08:29:11.029Z"
   },
   {
    "duration": 25,
    "start_time": "2021-12-27T08:29:11.069Z"
   },
   {
    "duration": 23,
    "start_time": "2021-12-27T08:29:11.096Z"
   },
   {
    "duration": 49,
    "start_time": "2021-12-27T08:29:11.122Z"
   },
   {
    "duration": 13,
    "start_time": "2021-12-27T08:29:11.175Z"
   },
   {
    "duration": 10,
    "start_time": "2021-12-27T08:29:11.191Z"
   },
   {
    "duration": 299,
    "start_time": "2021-12-27T08:29:11.204Z"
   },
   {
    "duration": 25,
    "start_time": "2021-12-27T08:29:11.505Z"
   },
   {
    "duration": 51,
    "start_time": "2021-12-27T08:29:11.533Z"
   },
   {
    "duration": 11,
    "start_time": "2021-12-27T08:29:11.587Z"
   },
   {
    "duration": 22,
    "start_time": "2021-12-27T08:29:11.601Z"
   },
   {
    "duration": 43,
    "start_time": "2021-12-27T08:29:11.626Z"
   },
   {
    "duration": 16,
    "start_time": "2021-12-27T08:29:11.672Z"
   },
   {
    "duration": 640,
    "start_time": "2021-12-27T08:29:11.690Z"
   },
   {
    "duration": 12,
    "start_time": "2021-12-27T08:29:12.333Z"
   },
   {
    "duration": 37,
    "start_time": "2021-12-27T08:29:12.348Z"
   },
   {
    "duration": 726,
    "start_time": "2021-12-27T08:29:12.387Z"
   },
   {
    "duration": 13,
    "start_time": "2021-12-27T08:29:13.116Z"
   },
   {
    "duration": 46,
    "start_time": "2021-12-27T08:29:13.132Z"
   },
   {
    "duration": 625,
    "start_time": "2021-12-27T08:29:13.180Z"
   },
   {
    "duration": 13,
    "start_time": "2021-12-27T08:29:13.808Z"
   },
   {
    "duration": 52,
    "start_time": "2021-12-27T08:29:13.824Z"
   },
   {
    "duration": 33,
    "start_time": "2021-12-27T08:29:13.880Z"
   },
   {
    "duration": 32,
    "start_time": "2021-12-27T08:29:13.915Z"
   },
   {
    "duration": 21,
    "start_time": "2021-12-27T08:30:36.259Z"
   },
   {
    "duration": 18,
    "start_time": "2021-12-27T08:30:45.787Z"
   },
   {
    "duration": 18,
    "start_time": "2021-12-27T08:31:25.027Z"
   },
   {
    "duration": 278,
    "start_time": "2021-12-27T08:38:19.818Z"
   },
   {
    "duration": 96,
    "start_time": "2021-12-27T08:38:25.288Z"
   },
   {
    "duration": 29,
    "start_time": "2021-12-27T08:38:27.944Z"
   },
   {
    "duration": 11,
    "start_time": "2021-12-27T08:38:34.225Z"
   },
   {
    "duration": 35,
    "start_time": "2021-12-27T08:38:36.176Z"
   },
   {
    "duration": 11,
    "start_time": "2021-12-27T08:41:33.851Z"
   },
   {
    "duration": 32,
    "start_time": "2021-12-27T08:41:36.283Z"
   },
   {
    "duration": 12,
    "start_time": "2021-12-27T08:44:43.278Z"
   },
   {
    "duration": 48,
    "start_time": "2021-12-27T08:44:45.173Z"
   },
   {
    "duration": 10,
    "start_time": "2021-12-27T08:45:18.510Z"
   },
   {
    "duration": 34,
    "start_time": "2021-12-27T08:45:20.654Z"
   },
   {
    "duration": 15,
    "start_time": "2021-12-27T08:45:56.223Z"
   },
   {
    "duration": 10,
    "start_time": "2021-12-27T08:46:09.118Z"
   },
   {
    "duration": 35,
    "start_time": "2021-12-27T08:46:11.118Z"
   },
   {
    "duration": 11,
    "start_time": "2021-12-27T08:46:45.271Z"
   },
   {
    "duration": 34,
    "start_time": "2021-12-27T08:46:48.472Z"
   },
   {
    "duration": 100,
    "start_time": "2021-12-27T08:47:35.495Z"
   },
   {
    "duration": 97,
    "start_time": "2021-12-27T08:47:37.911Z"
   },
   {
    "duration": 22,
    "start_time": "2021-12-27T08:48:04.265Z"
   },
   {
    "duration": 11,
    "start_time": "2021-12-27T08:48:25.905Z"
   },
   {
    "duration": 32,
    "start_time": "2021-12-27T08:48:27.769Z"
   },
   {
    "duration": 32,
    "start_time": "2021-12-27T08:49:36.489Z"
   },
   {
    "duration": 8,
    "start_time": "2021-12-27T09:21:35.457Z"
   },
   {
    "duration": 7,
    "start_time": "2021-12-27T09:22:12.490Z"
   },
   {
    "duration": 118,
    "start_time": "2021-12-27T09:22:34.347Z"
   },
   {
    "duration": 7,
    "start_time": "2021-12-27T09:22:44.618Z"
   },
   {
    "duration": 7,
    "start_time": "2021-12-27T09:23:40.474Z"
   },
   {
    "duration": 97,
    "start_time": "2021-12-27T09:29:28.007Z"
   },
   {
    "duration": 83,
    "start_time": "2021-12-27T09:29:46.207Z"
   },
   {
    "duration": 96,
    "start_time": "2021-12-27T09:30:26.167Z"
   },
   {
    "duration": 6,
    "start_time": "2021-12-27T09:30:42.665Z"
   },
   {
    "duration": 11,
    "start_time": "2021-12-27T09:30:48.897Z"
   },
   {
    "duration": 7,
    "start_time": "2021-12-27T09:31:28.680Z"
   },
   {
    "duration": 7,
    "start_time": "2021-12-27T09:31:46.737Z"
   },
   {
    "duration": 10,
    "start_time": "2021-12-27T09:31:59.777Z"
   },
   {
    "duration": 97,
    "start_time": "2021-12-27T09:32:06.401Z"
   },
   {
    "duration": 7,
    "start_time": "2021-12-27T09:32:14.984Z"
   },
   {
    "duration": 8,
    "start_time": "2021-12-27T09:34:07.451Z"
   },
   {
    "duration": 8,
    "start_time": "2021-12-27T09:35:49.853Z"
   },
   {
    "duration": 8,
    "start_time": "2021-12-27T09:36:16.228Z"
   },
   {
    "duration": 11,
    "start_time": "2021-12-27T09:39:10.500Z"
   },
   {
    "duration": 4,
    "start_time": "2021-12-27T09:40:29.354Z"
   },
   {
    "duration": 58,
    "start_time": "2021-12-27T09:40:29.361Z"
   },
   {
    "duration": 15,
    "start_time": "2021-12-27T09:40:29.422Z"
   },
   {
    "duration": 18,
    "start_time": "2021-12-27T09:40:29.439Z"
   },
   {
    "duration": 274,
    "start_time": "2021-12-27T09:40:29.460Z"
   },
   {
    "duration": 12,
    "start_time": "2021-12-27T09:40:29.736Z"
   },
   {
    "duration": 51,
    "start_time": "2021-12-27T09:40:29.751Z"
   },
   {
    "duration": 134,
    "start_time": "2021-12-27T09:40:29.805Z"
   },
   {
    "duration": 10,
    "start_time": "2021-12-27T09:40:29.944Z"
   },
   {
    "duration": 38,
    "start_time": "2021-12-27T09:40:29.958Z"
   },
   {
    "duration": 191,
    "start_time": "2021-12-27T09:40:29.999Z"
   },
   {
    "duration": 12,
    "start_time": "2021-12-27T09:40:30.193Z"
   },
   {
    "duration": 35,
    "start_time": "2021-12-27T09:40:30.207Z"
   },
   {
    "duration": 18,
    "start_time": "2021-12-27T09:40:30.244Z"
   },
   {
    "duration": 25,
    "start_time": "2021-12-27T09:40:30.264Z"
   },
   {
    "duration": 24,
    "start_time": "2021-12-27T09:40:30.292Z"
   },
   {
    "duration": 29,
    "start_time": "2021-12-27T09:40:30.319Z"
   },
   {
    "duration": 8,
    "start_time": "2021-12-27T09:40:30.350Z"
   },
   {
    "duration": 13,
    "start_time": "2021-12-27T09:40:30.360Z"
   },
   {
    "duration": 9,
    "start_time": "2021-12-27T09:40:30.376Z"
   },
   {
    "duration": 14,
    "start_time": "2021-12-27T09:40:30.388Z"
   },
   {
    "duration": 13,
    "start_time": "2021-12-27T09:40:30.404Z"
   },
   {
    "duration": 14,
    "start_time": "2021-12-27T09:40:30.419Z"
   },
   {
    "duration": 21,
    "start_time": "2021-12-27T09:40:30.435Z"
   },
   {
    "duration": 22,
    "start_time": "2021-12-27T09:40:30.458Z"
   },
   {
    "duration": 14,
    "start_time": "2021-12-27T09:40:30.483Z"
   },
   {
    "duration": 73,
    "start_time": "2021-12-27T09:40:30.505Z"
   },
   {
    "duration": 11,
    "start_time": "2021-12-27T09:40:30.583Z"
   },
   {
    "duration": 503,
    "start_time": "2021-12-27T09:40:30.596Z"
   },
   {
    "duration": 44,
    "start_time": "2021-12-27T09:40:31.101Z"
   },
   {
    "duration": 21,
    "start_time": "2021-12-27T09:40:31.168Z"
   },
   {
    "duration": 14,
    "start_time": "2021-12-27T09:40:31.192Z"
   },
   {
    "duration": 1095,
    "start_time": "2021-12-27T09:40:31.209Z"
   },
   {
    "duration": 11,
    "start_time": "2021-12-27T09:40:32.306Z"
   },
   {
    "duration": 11,
    "start_time": "2021-12-27T09:40:32.319Z"
   },
   {
    "duration": 175,
    "start_time": "2021-12-27T09:40:32.333Z"
   },
   {
    "duration": 25,
    "start_time": "2021-12-27T09:40:32.511Z"
   },
   {
    "duration": 55,
    "start_time": "2021-12-27T09:40:32.538Z"
   },
   {
    "duration": 16,
    "start_time": "2021-12-27T09:40:32.595Z"
   },
   {
    "duration": 117,
    "start_time": "2021-12-27T09:40:32.614Z"
   },
   {
    "duration": 12,
    "start_time": "2021-12-27T09:40:32.734Z"
   },
   {
    "duration": 27,
    "start_time": "2021-12-27T09:40:32.749Z"
   },
   {
    "duration": 17,
    "start_time": "2021-12-27T09:40:32.779Z"
   },
   {
    "duration": 14,
    "start_time": "2021-12-27T09:40:32.798Z"
   },
   {
    "duration": 193,
    "start_time": "2021-12-27T09:40:32.814Z"
   },
   {
    "duration": 29,
    "start_time": "2021-12-27T09:40:33.010Z"
   },
   {
    "duration": 39,
    "start_time": "2021-12-27T09:40:33.041Z"
   },
   {
    "duration": 58,
    "start_time": "2021-12-27T09:40:33.083Z"
   },
   {
    "duration": 33,
    "start_time": "2021-12-27T09:40:33.144Z"
   },
   {
    "duration": 35,
    "start_time": "2021-12-27T09:40:33.180Z"
   },
   {
    "duration": 70,
    "start_time": "2021-12-27T09:40:33.218Z"
   },
   {
    "duration": 10,
    "start_time": "2021-12-27T09:40:33.290Z"
   },
   {
    "duration": 17,
    "start_time": "2021-12-27T09:40:33.303Z"
   },
   {
    "duration": 220,
    "start_time": "2021-12-27T09:40:33.323Z"
   },
   {
    "duration": 28,
    "start_time": "2021-12-27T09:40:33.545Z"
   },
   {
    "duration": 28,
    "start_time": "2021-12-27T09:40:33.576Z"
   },
   {
    "duration": 26,
    "start_time": "2021-12-27T09:40:33.606Z"
   },
   {
    "duration": 48,
    "start_time": "2021-12-27T09:40:33.634Z"
   },
   {
    "duration": 18,
    "start_time": "2021-12-27T09:40:33.685Z"
   },
   {
    "duration": 71,
    "start_time": "2021-12-27T09:40:33.705Z"
   },
   {
    "duration": 10,
    "start_time": "2021-12-27T09:40:33.779Z"
   },
   {
    "duration": 132,
    "start_time": "2021-12-27T09:40:33.791Z"
   },
   {
    "duration": 17,
    "start_time": "2021-12-27T09:40:33.926Z"
   },
   {
    "duration": 38,
    "start_time": "2021-12-27T09:40:33.946Z"
   },
   {
    "duration": 56,
    "start_time": "2021-12-27T09:40:33.987Z"
   },
   {
    "duration": 31,
    "start_time": "2021-12-27T09:40:34.046Z"
   },
   {
    "duration": 33,
    "start_time": "2021-12-27T09:40:34.080Z"
   },
   {
    "duration": 7,
    "start_time": "2021-12-27T09:40:34.116Z"
   },
   {
    "duration": 67,
    "start_time": "2021-12-27T09:40:34.125Z"
   },
   {
    "duration": 6,
    "start_time": "2021-12-27T09:40:34.195Z"
   },
   {
    "duration": 25,
    "start_time": "2021-12-27T09:40:34.204Z"
   },
   {
    "duration": 5,
    "start_time": "2021-12-27T09:40:34.232Z"
   },
   {
    "duration": 48,
    "start_time": "2021-12-27T09:40:34.240Z"
   },
   {
    "duration": 20,
    "start_time": "2021-12-27T09:40:34.291Z"
   },
   {
    "duration": 18,
    "start_time": "2021-12-27T09:40:34.313Z"
   },
   {
    "duration": 17,
    "start_time": "2021-12-27T09:40:34.366Z"
   },
   {
    "duration": 9,
    "start_time": "2021-12-27T09:40:34.385Z"
   },
   {
    "duration": 364,
    "start_time": "2021-12-27T09:40:34.397Z"
   },
   {
    "duration": 26,
    "start_time": "2021-12-27T09:40:34.764Z"
   },
   {
    "duration": 20,
    "start_time": "2021-12-27T09:40:34.792Z"
   },
   {
    "duration": 10,
    "start_time": "2021-12-27T09:40:34.821Z"
   },
   {
    "duration": 34,
    "start_time": "2021-12-27T09:40:34.868Z"
   },
   {
    "duration": 9,
    "start_time": "2021-12-27T09:40:34.904Z"
   },
   {
    "duration": 11,
    "start_time": "2021-12-27T09:40:34.915Z"
   },
   {
    "duration": 48,
    "start_time": "2021-12-27T09:40:34.929Z"
   },
   {
    "duration": 16,
    "start_time": "2021-12-27T09:40:34.980Z"
   },
   {
    "duration": 626,
    "start_time": "2021-12-27T09:40:34.998Z"
   },
   {
    "duration": 12,
    "start_time": "2021-12-27T09:40:35.626Z"
   },
   {
    "duration": 31,
    "start_time": "2021-12-27T09:40:35.641Z"
   },
   {
    "duration": 700,
    "start_time": "2021-12-27T09:40:35.675Z"
   },
   {
    "duration": 11,
    "start_time": "2021-12-27T09:40:36.378Z"
   },
   {
    "duration": 10,
    "start_time": "2021-12-27T09:40:36.392Z"
   },
   {
    "duration": 653,
    "start_time": "2021-12-27T09:40:36.405Z"
   },
   {
    "duration": 17,
    "start_time": "2021-12-27T09:40:37.061Z"
   },
   {
    "duration": 11,
    "start_time": "2021-12-27T09:40:37.084Z"
   },
   {
    "duration": 35,
    "start_time": "2021-12-27T09:40:37.097Z"
   },
   {
    "duration": 23,
    "start_time": "2021-12-27T09:40:50.057Z"
   },
   {
    "duration": 6,
    "start_time": "2021-12-27T09:51:54.424Z"
   },
   {
    "duration": 6,
    "start_time": "2021-12-27T09:52:13.544Z"
   },
   {
    "duration": 6,
    "start_time": "2021-12-27T09:52:40.274Z"
   },
   {
    "duration": 5,
    "start_time": "2021-12-27T09:53:08.609Z"
   },
   {
    "duration": 631,
    "start_time": "2021-12-27T10:24:39.145Z"
   },
   {
    "duration": 83,
    "start_time": "2021-12-27T10:28:42.661Z"
   },
   {
    "duration": 610,
    "start_time": "2021-12-27T10:28:47.244Z"
   },
   {
    "duration": 623,
    "start_time": "2021-12-27T10:29:19.110Z"
   },
   {
    "duration": 629,
    "start_time": "2021-12-27T10:29:44.605Z"
   },
   {
    "duration": 702,
    "start_time": "2021-12-27T10:29:52.397Z"
   },
   {
    "duration": 579,
    "start_time": "2021-12-27T10:30:02.206Z"
   },
   {
    "duration": 606,
    "start_time": "2021-12-27T11:05:50.265Z"
   },
   {
    "duration": 626,
    "start_time": "2021-12-27T11:06:56.777Z"
   },
   {
    "duration": 887,
    "start_time": "2021-12-27T11:07:05.690Z"
   },
   {
    "duration": 547,
    "start_time": "2021-12-27T12:11:46.530Z"
   },
   {
    "duration": 689,
    "start_time": "2021-12-27T12:11:53.626Z"
   },
   {
    "duration": 597,
    "start_time": "2021-12-27T12:12:01.891Z"
   },
   {
    "duration": 679,
    "start_time": "2021-12-27T12:12:11.882Z"
   },
   {
    "duration": 751,
    "start_time": "2021-12-27T12:48:47.926Z"
   },
   {
    "duration": 621,
    "start_time": "2021-12-27T12:49:03.887Z"
   },
   {
    "duration": 579,
    "start_time": "2021-12-27T12:49:16.141Z"
   },
   {
    "duration": 469,
    "start_time": "2021-12-27T12:49:22.023Z"
   },
   {
    "duration": 261,
    "start_time": "2021-12-27T12:52:28.041Z"
   },
   {
    "duration": 296,
    "start_time": "2021-12-27T12:56:57.228Z"
   },
   {
    "duration": 665,
    "start_time": "2021-12-27T12:57:03.372Z"
   },
   {
    "duration": 302,
    "start_time": "2021-12-27T12:57:15.118Z"
   },
   {
    "duration": 571,
    "start_time": "2021-12-27T12:58:28.678Z"
   },
   {
    "duration": 303,
    "start_time": "2021-12-27T12:58:35.525Z"
   },
   {
    "duration": 314,
    "start_time": "2021-12-27T12:59:09.398Z"
   },
   {
    "duration": 302,
    "start_time": "2021-12-27T12:59:18.406Z"
   },
   {
    "duration": 306,
    "start_time": "2021-12-27T12:59:39.919Z"
   },
   {
    "duration": 298,
    "start_time": "2021-12-27T12:59:45.582Z"
   },
   {
    "duration": 300,
    "start_time": "2021-12-27T12:59:54.727Z"
   },
   {
    "duration": 290,
    "start_time": "2021-12-27T12:59:59.526Z"
   },
   {
    "duration": 273,
    "start_time": "2021-12-27T13:00:55.368Z"
   },
   {
    "duration": 796,
    "start_time": "2021-12-27T13:01:24.449Z"
   },
   {
    "duration": 542,
    "start_time": "2021-12-27T13:01:45.537Z"
   },
   {
    "duration": 554,
    "start_time": "2021-12-27T13:02:49.641Z"
   },
   {
    "duration": 648,
    "start_time": "2021-12-27T13:03:23.540Z"
   },
   {
    "duration": 513,
    "start_time": "2021-12-27T13:03:54.786Z"
   },
   {
    "duration": 270,
    "start_time": "2021-12-27T13:04:04.578Z"
   },
   {
    "duration": 5,
    "start_time": "2021-12-27T13:04:35.026Z"
   },
   {
    "duration": 5,
    "start_time": "2021-12-27T13:04:47.730Z"
   },
   {
    "duration": 395,
    "start_time": "2021-12-27T13:05:48.867Z"
   },
   {
    "duration": 94,
    "start_time": "2021-12-27T13:09:14.055Z"
   },
   {
    "duration": 256,
    "start_time": "2021-12-27T13:09:22.862Z"
   },
   {
    "duration": 387,
    "start_time": "2021-12-27T13:09:34.927Z"
   },
   {
    "duration": 245,
    "start_time": "2021-12-27T13:11:24.312Z"
   },
   {
    "duration": 255,
    "start_time": "2021-12-27T13:12:28.304Z"
   },
   {
    "duration": 880,
    "start_time": "2021-12-27T13:12:39.384Z"
   },
   {
    "duration": 303,
    "start_time": "2021-12-27T13:12:57.282Z"
   },
   {
    "duration": 276,
    "start_time": "2021-12-27T13:13:32.305Z"
   },
   {
    "duration": 94,
    "start_time": "2021-12-27T13:15:55.339Z"
   },
   {
    "duration": 497,
    "start_time": "2021-12-27T13:21:41.520Z"
   },
   {
    "duration": 669,
    "start_time": "2021-12-27T13:21:55.898Z"
   },
   {
    "duration": 699,
    "start_time": "2021-12-27T13:24:14.883Z"
   },
   {
    "duration": 438,
    "start_time": "2021-12-27T13:24:40.973Z"
   },
   {
    "duration": 552,
    "start_time": "2021-12-27T13:26:11.003Z"
   },
   {
    "duration": 401,
    "start_time": "2021-12-27T13:27:06.453Z"
   },
   {
    "duration": 622,
    "start_time": "2021-12-27T13:27:19.596Z"
   },
   {
    "duration": 517,
    "start_time": "2021-12-27T13:27:55.693Z"
   },
   {
    "duration": 388,
    "start_time": "2021-12-27T13:28:07.900Z"
   },
   {
    "duration": 304,
    "start_time": "2021-12-27T13:52:31.975Z"
   },
   {
    "duration": 253,
    "start_time": "2021-12-27T13:53:16.535Z"
   },
   {
    "duration": 308,
    "start_time": "2021-12-27T13:54:08.258Z"
   },
   {
    "duration": 281,
    "start_time": "2021-12-27T13:55:55.234Z"
   },
   {
    "duration": 282,
    "start_time": "2021-12-27T13:56:14.427Z"
   },
   {
    "duration": 448,
    "start_time": "2021-12-27T13:56:33.169Z"
   },
   {
    "duration": 289,
    "start_time": "2021-12-27T13:57:01.162Z"
   },
   {
    "duration": 548,
    "start_time": "2021-12-27T13:58:55.326Z"
   },
   {
    "duration": 289,
    "start_time": "2021-12-27T13:59:08.460Z"
   },
   {
    "duration": 300,
    "start_time": "2021-12-27T14:00:20.405Z"
   },
   {
    "duration": 306,
    "start_time": "2021-12-27T14:03:17.223Z"
   },
   {
    "duration": 294,
    "start_time": "2021-12-27T14:03:44.440Z"
   },
   {
    "duration": 299,
    "start_time": "2021-12-27T14:03:52.023Z"
   },
   {
    "duration": 314,
    "start_time": "2021-12-27T14:03:55.168Z"
   },
   {
    "duration": 405,
    "start_time": "2021-12-27T14:04:20.478Z"
   },
   {
    "duration": 306,
    "start_time": "2021-12-27T14:06:21.890Z"
   },
   {
    "duration": 291,
    "start_time": "2021-12-27T14:06:42.034Z"
   },
   {
    "duration": 299,
    "start_time": "2021-12-27T14:06:57.258Z"
   },
   {
    "duration": 8533,
    "start_time": "2021-12-27T14:22:12.824Z"
   },
   {
    "duration": 541,
    "start_time": "2021-12-27T14:23:01.920Z"
   },
   {
    "duration": 544,
    "start_time": "2021-12-27T14:23:20.735Z"
   },
   {
    "duration": 14,
    "start_time": "2021-12-27T14:30:46.348Z"
   },
   {
    "duration": 91,
    "start_time": "2021-12-27T14:38:12.777Z"
   },
   {
    "duration": 514,
    "start_time": "2021-12-27T14:38:23.306Z"
   },
   {
    "duration": 303,
    "start_time": "2021-12-27T14:38:47.210Z"
   },
   {
    "duration": 540,
    "start_time": "2021-12-27T14:40:55.981Z"
   },
   {
    "duration": 331,
    "start_time": "2021-12-27T14:41:18.872Z"
   },
   {
    "duration": 311,
    "start_time": "2021-12-27T14:41:29.028Z"
   },
   {
    "duration": 1334,
    "start_time": "2021-12-27T14:44:14.943Z"
   },
   {
    "duration": 840,
    "start_time": "2021-12-27T14:44:37.278Z"
   },
   {
    "duration": 435,
    "start_time": "2021-12-27T14:44:41.951Z"
   },
   {
    "duration": 329,
    "start_time": "2021-12-27T14:44:45.894Z"
   },
   {
    "duration": 599,
    "start_time": "2021-12-27T14:44:55.127Z"
   },
   {
    "duration": 348,
    "start_time": "2021-12-27T14:45:04.135Z"
   },
   {
    "duration": 320,
    "start_time": "2021-12-27T14:45:17.559Z"
   },
   {
    "duration": 283,
    "start_time": "2021-12-27T14:47:54.489Z"
   },
   {
    "duration": 291,
    "start_time": "2021-12-27T14:49:26.547Z"
   },
   {
    "duration": 657,
    "start_time": "2021-12-27T14:49:46.219Z"
   },
   {
    "duration": 444,
    "start_time": "2021-12-27T14:50:14.412Z"
   },
   {
    "duration": 13,
    "start_time": "2021-12-27T15:34:30.925Z"
   },
   {
    "duration": 13,
    "start_time": "2021-12-27T15:35:32.766Z"
   },
   {
    "duration": 330,
    "start_time": "2021-12-27T15:35:32.782Z"
   },
   {
    "duration": 337,
    "start_time": "2021-12-27T15:35:33.115Z"
   },
   {
    "duration": 146,
    "start_time": "2021-12-27T15:35:33.455Z"
   },
   {
    "duration": 497,
    "start_time": "2021-12-27T15:35:33.604Z"
   },
   {
    "duration": 73,
    "start_time": "2021-12-27T15:35:34.104Z"
   },
   {
    "duration": 227,
    "start_time": "2021-12-27T15:35:34.181Z"
   },
   {
    "duration": 332,
    "start_time": "2021-12-27T15:35:34.410Z"
   },
   {
    "duration": 181,
    "start_time": "2021-12-27T15:35:34.746Z"
   },
   {
    "duration": 336,
    "start_time": "2021-12-27T15:35:34.930Z"
   },
   {
    "duration": 518,
    "start_time": "2021-12-27T15:35:35.268Z"
   },
   {
    "duration": 263,
    "start_time": "2021-12-27T15:35:35.788Z"
   },
   {
    "duration": 252,
    "start_time": "2021-12-27T15:35:36.054Z"
   },
   {
    "duration": 284,
    "start_time": "2021-12-27T15:35:36.309Z"
   },
   {
    "duration": 303,
    "start_time": "2021-12-27T15:35:36.595Z"
   },
   {
    "duration": 197,
    "start_time": "2021-12-27T15:35:36.900Z"
   },
   {
    "duration": 194,
    "start_time": "2021-12-27T15:35:37.099Z"
   },
   {
    "duration": 205,
    "start_time": "2021-12-27T15:35:37.296Z"
   },
   {
    "duration": 230,
    "start_time": "2021-12-27T15:35:37.504Z"
   },
   {
    "duration": 194,
    "start_time": "2021-12-27T15:35:37.736Z"
   },
   {
    "duration": 230,
    "start_time": "2021-12-27T15:35:37.933Z"
   },
   {
    "duration": 198,
    "start_time": "2021-12-27T15:35:38.166Z"
   },
   {
    "duration": 191,
    "start_time": "2021-12-27T15:35:38.367Z"
   },
   {
    "duration": 194,
    "start_time": "2021-12-27T15:35:38.560Z"
   },
   {
    "duration": 203,
    "start_time": "2021-12-27T15:35:38.756Z"
   },
   {
    "duration": 207,
    "start_time": "2021-12-27T15:35:38.961Z"
   },
   {
    "duration": 222,
    "start_time": "2021-12-27T15:35:39.177Z"
   },
   {
    "duration": 218,
    "start_time": "2021-12-27T15:35:39.403Z"
   },
   {
    "duration": 535,
    "start_time": "2021-12-27T15:35:39.624Z"
   },
   {
    "duration": 57,
    "start_time": "2021-12-27T15:35:40.161Z"
   },
   {
    "duration": 182,
    "start_time": "2021-12-27T15:35:40.221Z"
   },
   {
    "duration": 202,
    "start_time": "2021-12-27T15:35:40.405Z"
   },
   {
    "duration": 1445,
    "start_time": "2021-12-27T15:35:40.609Z"
   },
   {
    "duration": 23,
    "start_time": "2021-12-27T15:35:42.057Z"
   },
   {
    "duration": 207,
    "start_time": "2021-12-27T15:35:42.083Z"
   },
   {
    "duration": 324,
    "start_time": "2021-12-27T15:35:42.293Z"
   },
   {
    "duration": 98,
    "start_time": "2021-12-27T15:35:42.619Z"
   },
   {
    "duration": 246,
    "start_time": "2021-12-27T15:35:42.720Z"
   },
   {
    "duration": 170,
    "start_time": "2021-12-27T15:35:42.973Z"
   },
   {
    "duration": 357,
    "start_time": "2021-12-27T15:35:43.146Z"
   },
   {
    "duration": 255,
    "start_time": "2021-12-27T15:35:43.505Z"
   },
   {
    "duration": 292,
    "start_time": "2021-12-27T15:35:43.762Z"
   },
   {
    "duration": 202,
    "start_time": "2021-12-27T15:35:44.058Z"
   },
   {
    "duration": 226,
    "start_time": "2021-12-27T15:35:44.262Z"
   },
   {
    "duration": 492,
    "start_time": "2021-12-27T15:35:44.490Z"
   },
   {
    "duration": 53,
    "start_time": "2021-12-27T15:35:44.987Z"
   },
   {
    "duration": 259,
    "start_time": "2021-12-27T15:35:45.042Z"
   },
   {
    "duration": 341,
    "start_time": "2021-12-27T15:35:45.304Z"
   },
   {
    "duration": 298,
    "start_time": "2021-12-27T15:35:45.648Z"
   },
   {
    "duration": 307,
    "start_time": "2021-12-27T15:35:45.948Z"
   },
   {
    "duration": 423,
    "start_time": "2021-12-27T15:35:46.258Z"
   },
   {
    "duration": 162,
    "start_time": "2021-12-27T15:35:46.683Z"
   },
   {
    "duration": 229,
    "start_time": "2021-12-27T15:35:46.847Z"
   },
   {
    "duration": 363,
    "start_time": "2021-12-27T15:35:47.079Z"
   },
   {
    "duration": 131,
    "start_time": "2021-12-27T15:35:47.445Z"
   },
   {
    "duration": 202,
    "start_time": "2021-12-27T15:35:47.579Z"
   },
   {
    "duration": 249,
    "start_time": "2021-12-27T15:35:47.784Z"
   },
   {
    "duration": 177,
    "start_time": "2021-12-27T15:35:48.036Z"
   },
   {
    "duration": 197,
    "start_time": "2021-12-27T15:35:48.216Z"
   },
   {
    "duration": 203,
    "start_time": "2021-12-27T15:35:48.416Z"
   },
   {
    "duration": 184,
    "start_time": "2021-12-27T15:35:48.621Z"
   },
   {
    "duration": 294,
    "start_time": "2021-12-27T15:35:48.807Z"
   },
   {
    "duration": 191,
    "start_time": "2021-12-27T15:35:49.103Z"
   },
   {
    "duration": 186,
    "start_time": "2021-12-27T15:35:49.296Z"
   },
   {
    "duration": 228,
    "start_time": "2021-12-27T15:35:49.485Z"
   },
   {
    "duration": 179,
    "start_time": "2021-12-27T15:35:49.716Z"
   },
   {
    "duration": 241,
    "start_time": "2021-12-27T15:35:49.897Z"
   },
   {
    "duration": 158,
    "start_time": "2021-12-27T15:35:50.141Z"
   },
   {
    "duration": 228,
    "start_time": "2021-12-27T15:35:50.302Z"
   },
   {
    "duration": 279,
    "start_time": "2021-12-27T15:35:50.532Z"
   },
   {
    "duration": 251,
    "start_time": "2021-12-27T15:35:50.814Z"
   },
   {
    "duration": 187,
    "start_time": "2021-12-27T15:35:51.076Z"
   },
   {
    "duration": 240,
    "start_time": "2021-12-27T15:35:51.265Z"
   },
   {
    "duration": 296,
    "start_time": "2021-12-27T15:35:51.508Z"
   },
   {
    "duration": 340,
    "start_time": "2021-12-27T15:35:51.807Z"
   },
   {
    "duration": 311,
    "start_time": "2021-12-27T15:35:52.150Z"
   },
   {
    "duration": 332,
    "start_time": "2021-12-27T15:35:52.463Z"
   },
   {
    "duration": 625,
    "start_time": "2021-12-27T15:35:52.798Z"
   },
   {
    "duration": 65,
    "start_time": "2021-12-27T15:35:53.426Z"
   },
   {
    "duration": 202,
    "start_time": "2021-12-27T15:35:53.494Z"
   },
   {
    "duration": 190,
    "start_time": "2021-12-27T15:35:53.705Z"
   },
   {
    "duration": 310,
    "start_time": "2021-12-27T15:35:53.897Z"
   },
   {
    "duration": 158,
    "start_time": "2021-12-27T15:35:54.211Z"
   },
   {
    "duration": 211,
    "start_time": "2021-12-27T15:35:54.372Z"
   },
   {
    "duration": 6651,
    "start_time": "2021-12-27T15:35:54.585Z"
   },
   {
    "duration": 558,
    "start_time": "2021-12-27T15:36:00.682Z"
   },
   {
    "duration": 554,
    "start_time": "2021-12-27T15:36:00.688Z"
   },
   {
    "duration": 551,
    "start_time": "2021-12-27T15:36:00.693Z"
   },
   {
    "duration": 549,
    "start_time": "2021-12-27T15:36:00.698Z"
   },
   {
    "duration": 546,
    "start_time": "2021-12-27T15:36:00.703Z"
   },
   {
    "duration": 543,
    "start_time": "2021-12-27T15:36:00.708Z"
   },
   {
    "duration": 539,
    "start_time": "2021-12-27T15:36:00.714Z"
   },
   {
    "duration": 535,
    "start_time": "2021-12-27T15:36:00.720Z"
   },
   {
    "duration": 511,
    "start_time": "2021-12-27T15:36:00.746Z"
   },
   {
    "duration": 4,
    "start_time": "2021-12-27T15:36:20.659Z"
   },
   {
    "duration": 369,
    "start_time": "2021-12-27T15:36:20.667Z"
   },
   {
    "duration": 338,
    "start_time": "2021-12-27T15:36:21.039Z"
   },
   {
    "duration": 182,
    "start_time": "2021-12-27T15:36:21.380Z"
   },
   {
    "duration": 417,
    "start_time": "2021-12-27T15:36:21.566Z"
   },
   {
    "duration": 97,
    "start_time": "2021-12-27T15:36:21.985Z"
   },
   {
    "duration": 303,
    "start_time": "2021-12-27T15:36:22.086Z"
   },
   {
    "duration": 392,
    "start_time": "2021-12-27T15:36:22.392Z"
   },
   {
    "duration": 301,
    "start_time": "2021-12-27T15:36:22.788Z"
   },
   {
    "duration": 389,
    "start_time": "2021-12-27T15:36:23.092Z"
   },
   {
    "duration": 451,
    "start_time": "2021-12-27T15:36:23.484Z"
   },
   {
    "duration": 98,
    "start_time": "2021-12-27T15:36:23.938Z"
   },
   {
    "duration": 299,
    "start_time": "2021-12-27T15:36:24.038Z"
   },
   {
    "duration": 451,
    "start_time": "2021-12-27T15:36:24.340Z"
   },
   {
    "duration": 312,
    "start_time": "2021-12-27T15:36:24.795Z"
   },
   {
    "duration": 311,
    "start_time": "2021-12-27T15:36:25.110Z"
   },
   {
    "duration": 324,
    "start_time": "2021-12-27T15:36:25.423Z"
   },
   {
    "duration": 304,
    "start_time": "2021-12-27T15:36:25.749Z"
   },
   {
    "duration": 305,
    "start_time": "2021-12-27T15:36:26.055Z"
   },
   {
    "duration": 448,
    "start_time": "2021-12-27T15:36:26.363Z"
   },
   {
    "duration": 277,
    "start_time": "2021-12-27T15:36:26.814Z"
   },
   {
    "duration": 306,
    "start_time": "2021-12-27T15:36:27.093Z"
   },
   {
    "duration": 289,
    "start_time": "2021-12-27T15:36:27.402Z"
   },
   {
    "duration": 535,
    "start_time": "2021-12-27T15:36:27.693Z"
   },
   {
    "duration": 364,
    "start_time": "2021-12-27T15:36:28.231Z"
   },
   {
    "duration": 216,
    "start_time": "2021-12-27T15:36:28.597Z"
   },
   {
    "duration": 313,
    "start_time": "2021-12-27T15:36:28.819Z"
   },
   {
    "duration": 266,
    "start_time": "2021-12-27T15:36:29.136Z"
   },
   {
    "duration": 580,
    "start_time": "2021-12-27T15:36:29.404Z"
   },
   {
    "duration": 123,
    "start_time": "2021-12-27T15:36:29.986Z"
   },
   {
    "duration": 229,
    "start_time": "2021-12-27T15:36:30.112Z"
   },
   {
    "duration": 234,
    "start_time": "2021-12-27T15:36:30.343Z"
   },
   {
    "duration": 1504,
    "start_time": "2021-12-27T15:36:30.580Z"
   },
   {
    "duration": 11,
    "start_time": "2021-12-27T15:36:32.086Z"
   },
   {
    "duration": 236,
    "start_time": "2021-12-27T15:36:32.100Z"
   },
   {
    "duration": 373,
    "start_time": "2021-12-27T15:36:32.339Z"
   },
   {
    "duration": 155,
    "start_time": "2021-12-27T15:36:32.714Z"
   },
   {
    "duration": 273,
    "start_time": "2021-12-27T15:36:32.871Z"
   },
   {
    "duration": 190,
    "start_time": "2021-12-27T15:36:33.147Z"
   },
   {
    "duration": 287,
    "start_time": "2021-12-27T15:36:33.339Z"
   },
   {
    "duration": 293,
    "start_time": "2021-12-27T15:36:33.629Z"
   },
   {
    "duration": 323,
    "start_time": "2021-12-27T15:36:33.924Z"
   },
   {
    "duration": 213,
    "start_time": "2021-12-27T15:36:34.249Z"
   },
   {
    "duration": 150,
    "start_time": "2021-12-27T15:36:34.464Z"
   },
   {
    "duration": 313,
    "start_time": "2021-12-27T15:36:34.617Z"
   },
   {
    "duration": 107,
    "start_time": "2021-12-27T15:36:34.933Z"
   },
   {
    "duration": 214,
    "start_time": "2021-12-27T15:36:35.043Z"
   },
   {
    "duration": 230,
    "start_time": "2021-12-27T15:36:35.260Z"
   },
   {
    "duration": 201,
    "start_time": "2021-12-27T15:36:35.492Z"
   },
   {
    "duration": 189,
    "start_time": "2021-12-27T15:36:35.695Z"
   },
   {
    "duration": 206,
    "start_time": "2021-12-27T15:36:35.887Z"
   },
   {
    "duration": 232,
    "start_time": "2021-12-27T15:36:36.095Z"
   },
   {
    "duration": 201,
    "start_time": "2021-12-27T15:36:36.329Z"
   },
   {
    "duration": 449,
    "start_time": "2021-12-27T15:36:36.532Z"
   },
   {
    "duration": 208,
    "start_time": "2021-12-27T15:36:36.984Z"
   },
   {
    "duration": 209,
    "start_time": "2021-12-27T15:36:37.195Z"
   },
   {
    "duration": 200,
    "start_time": "2021-12-27T15:36:37.407Z"
   },
   {
    "duration": 189,
    "start_time": "2021-12-27T15:36:37.610Z"
   },
   {
    "duration": 179,
    "start_time": "2021-12-27T15:36:37.802Z"
   },
   {
    "duration": 215,
    "start_time": "2021-12-27T15:36:37.983Z"
   },
   {
    "duration": 190,
    "start_time": "2021-12-27T15:36:38.200Z"
   },
   {
    "duration": 270,
    "start_time": "2021-12-27T15:36:38.392Z"
   },
   {
    "duration": 81,
    "start_time": "2021-12-27T15:36:38.666Z"
   },
   {
    "duration": 277,
    "start_time": "2021-12-27T15:36:38.749Z"
   },
   {
    "duration": 224,
    "start_time": "2021-12-27T15:36:39.029Z"
   },
   {
    "duration": 122,
    "start_time": "2021-12-27T15:36:39.255Z"
   },
   {
    "duration": 182,
    "start_time": "2021-12-27T15:36:39.380Z"
   },
   {
    "duration": 162,
    "start_time": "2021-12-27T15:36:39.564Z"
   },
   {
    "duration": 191,
    "start_time": "2021-12-27T15:36:39.728Z"
   },
   {
    "duration": 264,
    "start_time": "2021-12-27T15:36:39.922Z"
   },
   {
    "duration": 168,
    "start_time": "2021-12-27T15:36:40.190Z"
   },
   {
    "duration": 153,
    "start_time": "2021-12-27T15:36:40.360Z"
   },
   {
    "duration": 191,
    "start_time": "2021-12-27T15:36:40.516Z"
   },
   {
    "duration": 190,
    "start_time": "2021-12-27T15:36:40.710Z"
   },
   {
    "duration": 227,
    "start_time": "2021-12-27T15:36:40.903Z"
   },
   {
    "duration": 215,
    "start_time": "2021-12-27T15:36:41.133Z"
   },
   {
    "duration": 204,
    "start_time": "2021-12-27T15:36:41.351Z"
   },
   {
    "duration": 514,
    "start_time": "2021-12-27T15:36:41.557Z"
   },
   {
    "duration": 27,
    "start_time": "2021-12-27T15:36:42.077Z"
   },
   {
    "duration": 165,
    "start_time": "2021-12-27T15:36:42.107Z"
   },
   {
    "duration": 177,
    "start_time": "2021-12-27T15:36:42.283Z"
   },
   {
    "duration": 327,
    "start_time": "2021-12-27T15:36:42.464Z"
   },
   {
    "duration": 145,
    "start_time": "2021-12-27T15:36:42.794Z"
   },
   {
    "duration": 157,
    "start_time": "2021-12-27T15:36:42.942Z"
   },
   {
    "duration": 202,
    "start_time": "2021-12-27T15:36:43.102Z"
   },
   {
    "duration": 283,
    "start_time": "2021-12-27T15:36:43.307Z"
   },
   {
    "duration": 760,
    "start_time": "2021-12-27T15:36:43.592Z"
   },
   {
    "duration": 594,
    "start_time": "2021-12-27T15:36:44.355Z"
   },
   {
    "duration": 507,
    "start_time": "2021-12-27T15:36:44.952Z"
   },
   {
    "duration": 23,
    "start_time": "2021-12-27T15:36:45.461Z"
   },
   {
    "duration": 487,
    "start_time": "2021-12-27T15:36:45.486Z"
   },
   {
    "duration": 326,
    "start_time": "2021-12-27T15:36:45.977Z"
   },
   {
    "duration": 341,
    "start_time": "2021-12-27T15:36:46.306Z"
   },
   {
    "duration": 30,
    "start_time": "2021-12-27T15:36:46.650Z"
   },
   {
    "duration": 340,
    "start_time": "2021-12-27T15:44:56.004Z"
   },
   {
    "duration": 379,
    "start_time": "2021-12-27T15:47:30.272Z"
   },
   {
    "duration": 351,
    "start_time": "2021-12-27T15:47:36.590Z"
   },
   {
    "duration": 346,
    "start_time": "2021-12-27T15:47:41.183Z"
   },
   {
    "duration": 84,
    "start_time": "2021-12-27T15:48:05.304Z"
   },
   {
    "duration": 451,
    "start_time": "2021-12-27T15:48:20.549Z"
   },
   {
    "duration": 349,
    "start_time": "2021-12-27T15:48:32.879Z"
   },
   {
    "duration": 346,
    "start_time": "2021-12-27T15:49:36.496Z"
   },
   {
    "duration": 367,
    "start_time": "2021-12-27T15:50:16.720Z"
   },
   {
    "duration": 614,
    "start_time": "2021-12-27T15:50:38.234Z"
   },
   {
    "duration": 362,
    "start_time": "2021-12-27T15:51:02.122Z"
   },
   {
    "duration": 331,
    "start_time": "2021-12-27T15:51:10.817Z"
   },
   {
    "duration": 350,
    "start_time": "2021-12-27T15:52:07.682Z"
   },
   {
    "duration": 529,
    "start_time": "2021-12-27T15:52:23.467Z"
   },
   {
    "duration": 363,
    "start_time": "2021-12-27T16:00:21.853Z"
   },
   {
    "duration": 456,
    "start_time": "2021-12-27T16:00:52.344Z"
   },
   {
    "duration": 379,
    "start_time": "2021-12-27T16:01:28.377Z"
   },
   {
    "duration": 375,
    "start_time": "2021-12-27T16:06:22.797Z"
   },
   {
    "duration": 363,
    "start_time": "2021-12-27T16:06:33.765Z"
   },
   {
    "duration": 1046,
    "start_time": "2021-12-28T07:21:41.707Z"
   },
   {
    "duration": 349,
    "start_time": "2021-12-28T07:30:59.501Z"
   },
   {
    "duration": 5,
    "start_time": "2021-12-28T07:31:02.716Z"
   },
   {
    "duration": 39,
    "start_time": "2021-12-28T07:31:02.723Z"
   },
   {
    "duration": 22,
    "start_time": "2021-12-28T07:31:02.765Z"
   },
   {
    "duration": 9,
    "start_time": "2021-12-28T07:31:02.790Z"
   },
   {
    "duration": 211,
    "start_time": "2021-12-28T07:31:02.801Z"
   },
   {
    "duration": 8,
    "start_time": "2021-12-28T07:31:03.015Z"
   },
   {
    "duration": 51,
    "start_time": "2021-12-28T07:31:03.025Z"
   },
   {
    "duration": 99,
    "start_time": "2021-12-28T07:31:03.078Z"
   },
   {
    "duration": 7,
    "start_time": "2021-12-28T07:31:03.179Z"
   },
   {
    "duration": 23,
    "start_time": "2021-12-28T07:31:03.188Z"
   },
   {
    "duration": 142,
    "start_time": "2021-12-28T07:31:03.213Z"
   },
   {
    "duration": 8,
    "start_time": "2021-12-28T07:31:03.357Z"
   },
   {
    "duration": 23,
    "start_time": "2021-12-28T07:31:03.367Z"
   },
   {
    "duration": 16,
    "start_time": "2021-12-28T07:31:03.392Z"
   },
   {
    "duration": 11,
    "start_time": "2021-12-28T07:31:03.410Z"
   },
   {
    "duration": 10,
    "start_time": "2021-12-28T07:31:03.423Z"
   },
   {
    "duration": 14,
    "start_time": "2021-12-28T07:31:03.435Z"
   },
   {
    "duration": 12,
    "start_time": "2021-12-28T07:31:03.450Z"
   },
   {
    "duration": 7,
    "start_time": "2021-12-28T07:31:03.466Z"
   },
   {
    "duration": 10,
    "start_time": "2021-12-28T07:31:03.476Z"
   },
   {
    "duration": 11,
    "start_time": "2021-12-28T07:31:03.488Z"
   },
   {
    "duration": 16,
    "start_time": "2021-12-28T07:31:03.501Z"
   },
   {
    "duration": 13,
    "start_time": "2021-12-28T07:31:03.519Z"
   },
   {
    "duration": 28,
    "start_time": "2021-12-28T07:31:03.533Z"
   },
   {
    "duration": 6,
    "start_time": "2021-12-28T07:31:03.563Z"
   },
   {
    "duration": 13,
    "start_time": "2021-12-28T07:31:03.571Z"
   },
   {
    "duration": 31,
    "start_time": "2021-12-28T07:31:03.587Z"
   },
   {
    "duration": 8,
    "start_time": "2021-12-28T07:31:03.621Z"
   },
   {
    "duration": 363,
    "start_time": "2021-12-28T07:31:03.632Z"
   },
   {
    "duration": 34,
    "start_time": "2021-12-28T07:31:03.997Z"
   },
   {
    "duration": 38,
    "start_time": "2021-12-28T07:31:04.033Z"
   },
   {
    "duration": 12,
    "start_time": "2021-12-28T07:31:04.073Z"
   },
   {
    "duration": 667,
    "start_time": "2021-12-28T07:31:04.087Z"
   },
   {
    "duration": 8,
    "start_time": "2021-12-28T07:31:04.756Z"
   },
   {
    "duration": 10,
    "start_time": "2021-12-28T07:31:04.766Z"
   },
   {
    "duration": 172,
    "start_time": "2021-12-28T07:31:04.779Z"
   },
   {
    "duration": 30,
    "start_time": "2021-12-28T07:31:04.953Z"
   },
   {
    "duration": 28,
    "start_time": "2021-12-28T07:31:04.985Z"
   },
   {
    "duration": 12,
    "start_time": "2021-12-28T07:31:05.015Z"
   },
   {
    "duration": 72,
    "start_time": "2021-12-28T07:31:05.029Z"
   },
   {
    "duration": 7,
    "start_time": "2021-12-28T07:31:05.103Z"
   },
   {
    "duration": 15,
    "start_time": "2021-12-28T07:31:05.112Z"
   },
   {
    "duration": 15,
    "start_time": "2021-12-28T07:31:05.129Z"
   },
   {
    "duration": 26,
    "start_time": "2021-12-28T07:31:05.146Z"
   },
   {
    "duration": 154,
    "start_time": "2021-12-28T07:31:05.175Z"
   },
   {
    "duration": 31,
    "start_time": "2021-12-28T07:31:05.332Z"
   },
   {
    "duration": 7,
    "start_time": "2021-12-28T07:31:05.365Z"
   },
   {
    "duration": 44,
    "start_time": "2021-12-28T07:31:05.374Z"
   },
   {
    "duration": 11,
    "start_time": "2021-12-28T07:31:05.420Z"
   },
   {
    "duration": 45,
    "start_time": "2021-12-28T07:31:05.433Z"
   },
   {
    "duration": 39,
    "start_time": "2021-12-28T07:31:05.479Z"
   },
   {
    "duration": 9,
    "start_time": "2021-12-28T07:31:05.520Z"
   },
   {
    "duration": 36,
    "start_time": "2021-12-28T07:31:05.531Z"
   },
   {
    "duration": 160,
    "start_time": "2021-12-28T07:31:05.569Z"
   },
   {
    "duration": 15,
    "start_time": "2021-12-28T07:31:05.735Z"
   },
   {
    "duration": 18,
    "start_time": "2021-12-28T07:31:05.761Z"
   },
   {
    "duration": 20,
    "start_time": "2021-12-28T07:31:05.781Z"
   },
   {
    "duration": 12,
    "start_time": "2021-12-28T07:31:05.803Z"
   },
   {
    "duration": 44,
    "start_time": "2021-12-28T07:31:05.816Z"
   },
   {
    "duration": 25,
    "start_time": "2021-12-28T07:31:05.863Z"
   },
   {
    "duration": 6,
    "start_time": "2021-12-28T07:31:05.890Z"
   },
   {
    "duration": 92,
    "start_time": "2021-12-28T07:31:05.898Z"
   },
   {
    "duration": 11,
    "start_time": "2021-12-28T07:31:05.992Z"
   },
   {
    "duration": 27,
    "start_time": "2021-12-28T07:31:06.005Z"
   },
   {
    "duration": 60,
    "start_time": "2021-12-28T07:31:06.033Z"
   },
   {
    "duration": 7,
    "start_time": "2021-12-28T07:31:06.095Z"
   },
   {
    "duration": 26,
    "start_time": "2021-12-28T07:31:06.104Z"
   },
   {
    "duration": 6,
    "start_time": "2021-12-28T07:31:06.132Z"
   },
   {
    "duration": 17,
    "start_time": "2021-12-28T07:31:06.161Z"
   },
   {
    "duration": 10,
    "start_time": "2021-12-28T07:31:06.180Z"
   },
   {
    "duration": 18,
    "start_time": "2021-12-28T07:31:06.192Z"
   },
   {
    "duration": 4,
    "start_time": "2021-12-28T07:31:06.212Z"
   },
   {
    "duration": 52,
    "start_time": "2021-12-28T07:31:06.217Z"
   },
   {
    "duration": 13,
    "start_time": "2021-12-28T07:31:06.271Z"
   },
   {
    "duration": 14,
    "start_time": "2021-12-28T07:31:06.286Z"
   },
   {
    "duration": 8,
    "start_time": "2021-12-28T07:31:06.302Z"
   },
   {
    "duration": 12,
    "start_time": "2021-12-28T07:31:06.311Z"
   },
   {
    "duration": 242,
    "start_time": "2021-12-28T07:31:06.325Z"
   },
   {
    "duration": 15,
    "start_time": "2021-12-28T07:31:06.569Z"
   },
   {
    "duration": 14,
    "start_time": "2021-12-28T07:31:06.586Z"
   },
   {
    "duration": 8,
    "start_time": "2021-12-28T07:31:06.601Z"
   },
   {
    "duration": 30,
    "start_time": "2021-12-28T07:31:06.610Z"
   },
   {
    "duration": 24,
    "start_time": "2021-12-28T07:31:06.642Z"
   },
   {
    "duration": 11,
    "start_time": "2021-12-28T07:31:06.668Z"
   },
   {
    "duration": 7,
    "start_time": "2021-12-28T07:31:06.681Z"
   },
   {
    "duration": 15,
    "start_time": "2021-12-28T07:31:06.689Z"
   },
   {
    "duration": 360,
    "start_time": "2021-12-28T07:31:06.706Z"
   },
   {
    "duration": 355,
    "start_time": "2021-12-28T07:31:07.069Z"
   },
   {
    "duration": 291,
    "start_time": "2021-12-28T07:31:07.427Z"
   },
   {
    "duration": 10,
    "start_time": "2021-12-28T07:31:07.720Z"
   },
   {
    "duration": 230,
    "start_time": "2021-12-28T07:31:07.731Z"
   },
   {
    "duration": 216,
    "start_time": "2021-12-28T07:31:07.963Z"
   },
   {
    "duration": 228,
    "start_time": "2021-12-28T07:31:08.181Z"
   },
   {
    "duration": 23,
    "start_time": "2021-12-28T07:31:08.410Z"
   },
   {
    "duration": 3,
    "start_time": "2021-12-28T07:34:32.138Z"
   },
   {
    "duration": 5,
    "start_time": "2021-12-28T07:34:40.256Z"
   },
   {
    "duration": 4,
    "start_time": "2021-12-28T07:35:00.319Z"
   },
   {
    "duration": 7,
    "start_time": "2021-12-28T07:35:02.126Z"
   },
   {
    "duration": 265,
    "start_time": "2021-12-28T07:36:46.201Z"
   },
   {
    "duration": 6,
    "start_time": "2021-12-28T07:37:35.237Z"
   },
   {
    "duration": 5,
    "start_time": "2021-12-28T07:37:37.224Z"
   },
   {
    "duration": 8,
    "start_time": "2021-12-28T07:41:54.199Z"
   },
   {
    "duration": 9,
    "start_time": "2021-12-28T07:42:02.692Z"
   },
   {
    "duration": 6,
    "start_time": "2021-12-28T07:42:36.749Z"
   },
   {
    "duration": 5,
    "start_time": "2021-12-28T07:43:24.437Z"
   },
   {
    "duration": 5,
    "start_time": "2021-12-28T07:43:28.637Z"
   },
   {
    "duration": 6,
    "start_time": "2021-12-28T07:43:34.693Z"
   },
   {
    "duration": 31,
    "start_time": "2021-12-28T07:43:37.440Z"
   },
   {
    "duration": 5,
    "start_time": "2021-12-28T07:44:05.197Z"
   },
   {
    "duration": 5,
    "start_time": "2021-12-28T07:44:24.782Z"
   },
   {
    "duration": 11,
    "start_time": "2021-12-28T07:45:01.521Z"
   },
   {
    "duration": 7,
    "start_time": "2021-12-28T09:03:17.776Z"
   },
   {
    "duration": 7,
    "start_time": "2021-12-28T09:03:38.814Z"
   },
   {
    "duration": 7,
    "start_time": "2021-12-28T09:04:56.291Z"
   },
   {
    "duration": 6,
    "start_time": "2021-12-28T09:44:29.041Z"
   },
   {
    "duration": 92,
    "start_time": "2021-12-28T10:03:43.953Z"
   },
   {
    "duration": 5,
    "start_time": "2021-12-28T10:03:53.113Z"
   },
   {
    "duration": 6,
    "start_time": "2021-12-28T10:03:59.216Z"
   },
   {
    "duration": 6,
    "start_time": "2021-12-28T10:04:04.728Z"
   },
   {
    "duration": 5,
    "start_time": "2021-12-28T10:04:13.753Z"
   },
   {
    "duration": 6,
    "start_time": "2021-12-28T10:04:22.512Z"
   },
   {
    "duration": 6,
    "start_time": "2021-12-28T10:04:46.830Z"
   },
   {
    "duration": 5,
    "start_time": "2021-12-28T10:09:38.576Z"
   },
   {
    "duration": 5,
    "start_time": "2021-12-28T10:15:52.154Z"
   },
   {
    "duration": 5,
    "start_time": "2021-12-28T10:32:49.947Z"
   },
   {
    "duration": 6,
    "start_time": "2021-12-28T10:33:15.046Z"
   },
   {
    "duration": 6,
    "start_time": "2021-12-28T10:34:18.855Z"
   },
   {
    "duration": 5,
    "start_time": "2021-12-28T11:05:02.087Z"
   },
   {
    "duration": 6,
    "start_time": "2021-12-28T11:11:34.334Z"
   },
   {
    "duration": 7,
    "start_time": "2021-12-28T12:29:10.331Z"
   },
   {
    "duration": 12,
    "start_time": "2021-12-28T12:30:12.952Z"
   },
   {
    "duration": 9,
    "start_time": "2021-12-28T12:30:46.640Z"
   },
   {
    "duration": 7,
    "start_time": "2021-12-28T12:39:09.350Z"
   },
   {
    "duration": 4,
    "start_time": "2021-12-28T12:39:40.823Z"
   },
   {
    "duration": 3,
    "start_time": "2021-12-28T12:48:59.626Z"
   },
   {
    "duration": 6,
    "start_time": "2021-12-28T12:51:05.049Z"
   },
   {
    "duration": 5,
    "start_time": "2021-12-28T12:51:18.633Z"
   },
   {
    "duration": 5,
    "start_time": "2021-12-28T12:51:29.409Z"
   },
   {
    "duration": 4,
    "start_time": "2021-12-28T12:51:57.194Z"
   },
   {
    "duration": 7,
    "start_time": "2021-12-28T12:51:59.673Z"
   },
   {
    "duration": 5,
    "start_time": "2021-12-28T13:10:19.971Z"
   },
   {
    "duration": 5,
    "start_time": "2021-12-28T13:10:38.560Z"
   },
   {
    "duration": 10,
    "start_time": "2021-12-28T13:10:46.431Z"
   },
   {
    "duration": 6,
    "start_time": "2021-12-28T13:10:48.759Z"
   },
   {
    "duration": 5,
    "start_time": "2021-12-28T13:11:04.446Z"
   },
   {
    "duration": 5,
    "start_time": "2021-12-28T13:17:24.534Z"
   },
   {
    "duration": 29,
    "start_time": "2021-12-28T13:17:24.541Z"
   },
   {
    "duration": 14,
    "start_time": "2021-12-28T13:17:24.573Z"
   },
   {
    "duration": 15,
    "start_time": "2021-12-28T13:17:24.588Z"
   },
   {
    "duration": 165,
    "start_time": "2021-12-28T13:17:24.605Z"
   },
   {
    "duration": 9,
    "start_time": "2021-12-28T13:17:24.772Z"
   },
   {
    "duration": 30,
    "start_time": "2021-12-28T13:17:24.784Z"
   },
   {
    "duration": 116,
    "start_time": "2021-12-28T13:17:24.817Z"
   },
   {
    "duration": 8,
    "start_time": "2021-12-28T13:17:24.935Z"
   },
   {
    "duration": 17,
    "start_time": "2021-12-28T13:17:24.961Z"
   },
   {
    "duration": 144,
    "start_time": "2021-12-28T13:17:24.980Z"
   },
   {
    "duration": 7,
    "start_time": "2021-12-28T13:17:25.126Z"
   },
   {
    "duration": 34,
    "start_time": "2021-12-28T13:17:25.135Z"
   },
   {
    "duration": 15,
    "start_time": "2021-12-28T13:17:25.171Z"
   },
   {
    "duration": 12,
    "start_time": "2021-12-28T13:17:25.188Z"
   },
   {
    "duration": 8,
    "start_time": "2021-12-28T13:17:25.201Z"
   },
   {
    "duration": 14,
    "start_time": "2021-12-28T13:17:25.211Z"
   },
   {
    "duration": 10,
    "start_time": "2021-12-28T13:17:25.226Z"
   },
   {
    "duration": 24,
    "start_time": "2021-12-28T13:17:25.240Z"
   },
   {
    "duration": 11,
    "start_time": "2021-12-28T13:17:25.267Z"
   },
   {
    "duration": 12,
    "start_time": "2021-12-28T13:17:25.279Z"
   },
   {
    "duration": 9,
    "start_time": "2021-12-28T13:17:25.293Z"
   },
   {
    "duration": 11,
    "start_time": "2021-12-28T13:17:25.304Z"
   },
   {
    "duration": 10,
    "start_time": "2021-12-28T13:17:25.317Z"
   },
   {
    "duration": 13,
    "start_time": "2021-12-28T13:17:25.329Z"
   },
   {
    "duration": 19,
    "start_time": "2021-12-28T13:17:25.344Z"
   },
   {
    "duration": 33,
    "start_time": "2021-12-28T13:17:25.366Z"
   },
   {
    "duration": 8,
    "start_time": "2021-12-28T13:17:25.402Z"
   },
   {
    "duration": 299,
    "start_time": "2021-12-28T13:17:25.412Z"
   },
   {
    "duration": 28,
    "start_time": "2021-12-28T13:17:25.713Z"
   },
   {
    "duration": 27,
    "start_time": "2021-12-28T13:17:25.743Z"
   },
   {
    "duration": 12,
    "start_time": "2021-12-28T13:17:25.772Z"
   },
   {
    "duration": 739,
    "start_time": "2021-12-28T13:17:25.786Z"
   },
   {
    "duration": 10,
    "start_time": "2021-12-28T13:17:26.528Z"
   },
   {
    "duration": 25,
    "start_time": "2021-12-28T13:17:26.541Z"
   },
   {
    "duration": 107,
    "start_time": "2021-12-28T13:17:26.569Z"
   },
   {
    "duration": 18,
    "start_time": "2021-12-28T13:17:26.679Z"
   },
   {
    "duration": 32,
    "start_time": "2021-12-28T13:17:26.700Z"
   },
   {
    "duration": 30,
    "start_time": "2021-12-28T13:17:26.734Z"
   },
   {
    "duration": 61,
    "start_time": "2021-12-28T13:17:26.766Z"
   },
   {
    "duration": 8,
    "start_time": "2021-12-28T13:17:26.829Z"
   },
   {
    "duration": 20,
    "start_time": "2021-12-28T13:17:26.840Z"
   },
   {
    "duration": 29,
    "start_time": "2021-12-28T13:17:26.862Z"
   },
   {
    "duration": 22,
    "start_time": "2021-12-28T13:17:26.893Z"
   },
   {
    "duration": 144,
    "start_time": "2021-12-28T13:17:26.917Z"
   },
   {
    "duration": 21,
    "start_time": "2021-12-28T13:17:27.063Z"
   },
   {
    "duration": 6,
    "start_time": "2021-12-28T13:17:27.086Z"
   },
   {
    "duration": 64,
    "start_time": "2021-12-28T13:17:27.094Z"
   },
   {
    "duration": 14,
    "start_time": "2021-12-28T13:17:27.159Z"
   },
   {
    "duration": 24,
    "start_time": "2021-12-28T13:17:27.175Z"
   },
   {
    "duration": 29,
    "start_time": "2021-12-28T13:17:27.201Z"
   },
   {
    "duration": 6,
    "start_time": "2021-12-28T13:17:27.232Z"
   },
   {
    "duration": 8,
    "start_time": "2021-12-28T13:17:27.261Z"
   },
   {
    "duration": 139,
    "start_time": "2021-12-28T13:17:27.271Z"
   },
   {
    "duration": 14,
    "start_time": "2021-12-28T13:17:27.416Z"
   },
   {
    "duration": 40,
    "start_time": "2021-12-28T13:17:27.433Z"
   },
   {
    "duration": 19,
    "start_time": "2021-12-28T13:17:27.475Z"
   },
   {
    "duration": 12,
    "start_time": "2021-12-28T13:17:27.496Z"
   },
   {
    "duration": 15,
    "start_time": "2021-12-28T13:17:27.510Z"
   },
   {
    "duration": 52,
    "start_time": "2021-12-28T13:17:27.527Z"
   },
   {
    "duration": 7,
    "start_time": "2021-12-28T13:17:27.581Z"
   },
   {
    "duration": 113,
    "start_time": "2021-12-28T13:17:27.590Z"
   },
   {
    "duration": 18,
    "start_time": "2021-12-28T13:17:27.705Z"
   },
   {
    "duration": 35,
    "start_time": "2021-12-28T13:17:27.725Z"
   },
   {
    "duration": 54,
    "start_time": "2021-12-28T13:17:27.763Z"
   },
   {
    "duration": 9,
    "start_time": "2021-12-28T13:17:27.819Z"
   },
   {
    "duration": 47,
    "start_time": "2021-12-28T13:17:27.830Z"
   },
   {
    "duration": 5,
    "start_time": "2021-12-28T13:17:27.879Z"
   },
   {
    "duration": 20,
    "start_time": "2021-12-28T13:17:27.885Z"
   },
   {
    "duration": 10,
    "start_time": "2021-12-28T13:17:27.907Z"
   },
   {
    "duration": 23,
    "start_time": "2021-12-28T13:17:27.919Z"
   },
   {
    "duration": 18,
    "start_time": "2021-12-28T13:17:27.944Z"
   },
   {
    "duration": 17,
    "start_time": "2021-12-28T13:17:27.964Z"
   },
   {
    "duration": 14,
    "start_time": "2021-12-28T13:17:27.982Z"
   },
   {
    "duration": 15,
    "start_time": "2021-12-28T13:17:27.997Z"
   },
   {
    "duration": 9,
    "start_time": "2021-12-28T13:17:28.014Z"
   },
   {
    "duration": 7,
    "start_time": "2021-12-28T13:17:28.025Z"
   },
   {
    "duration": 171,
    "start_time": "2021-12-28T13:17:28.061Z"
   },
   {
    "duration": 15,
    "start_time": "2021-12-28T13:17:28.234Z"
   },
   {
    "duration": 20,
    "start_time": "2021-12-28T13:17:28.250Z"
   },
   {
    "duration": 11,
    "start_time": "2021-12-28T13:17:28.271Z"
   },
   {
    "duration": 53,
    "start_time": "2021-12-28T13:17:28.284Z"
   },
   {
    "duration": 11,
    "start_time": "2021-12-28T13:17:28.340Z"
   },
   {
    "duration": 28,
    "start_time": "2021-12-28T13:17:28.352Z"
   },
   {
    "duration": 19,
    "start_time": "2021-12-28T13:17:28.381Z"
   },
   {
    "duration": 24,
    "start_time": "2021-12-28T13:17:28.402Z"
   },
   {
    "duration": 338,
    "start_time": "2021-12-28T13:17:28.428Z"
   },
   {
    "duration": 331,
    "start_time": "2021-12-28T13:17:28.768Z"
   },
   {
    "duration": 308,
    "start_time": "2021-12-28T13:17:29.101Z"
   },
   {
    "duration": 11,
    "start_time": "2021-12-28T13:17:29.411Z"
   },
   {
    "duration": 229,
    "start_time": "2021-12-28T13:17:29.424Z"
   },
   {
    "duration": 220,
    "start_time": "2021-12-28T13:17:29.655Z"
   },
   {
    "duration": 226,
    "start_time": "2021-12-28T13:17:29.877Z"
   },
   {
    "duration": 3,
    "start_time": "2021-12-28T13:17:30.105Z"
   },
   {
    "duration": 34,
    "start_time": "2021-12-28T13:17:30.110Z"
   },
   {
    "duration": 18,
    "start_time": "2021-12-28T13:17:30.146Z"
   },
   {
    "duration": 20,
    "start_time": "2021-12-28T13:17:30.166Z"
   },
   {
    "duration": 38,
    "start_time": "2021-12-28T13:17:30.187Z"
   },
   {
    "duration": 3,
    "start_time": "2021-12-28T13:34:37.186Z"
   },
   {
    "duration": 45,
    "start_time": "2021-12-28T13:34:37.192Z"
   },
   {
    "duration": 22,
    "start_time": "2021-12-28T13:34:37.239Z"
   },
   {
    "duration": 47,
    "start_time": "2021-12-28T13:34:37.263Z"
   },
   {
    "duration": 178,
    "start_time": "2021-12-28T13:34:37.312Z"
   },
   {
    "duration": 7,
    "start_time": "2021-12-28T13:34:37.492Z"
   },
   {
    "duration": 38,
    "start_time": "2021-12-28T13:34:37.502Z"
   },
   {
    "duration": 101,
    "start_time": "2021-12-28T13:34:37.542Z"
   },
   {
    "duration": 9,
    "start_time": "2021-12-28T13:34:37.645Z"
   },
   {
    "duration": 28,
    "start_time": "2021-12-28T13:34:37.656Z"
   },
   {
    "duration": 134,
    "start_time": "2021-12-28T13:34:37.686Z"
   },
   {
    "duration": 8,
    "start_time": "2021-12-28T13:34:37.822Z"
   },
   {
    "duration": 38,
    "start_time": "2021-12-28T13:34:37.832Z"
   },
   {
    "duration": 28,
    "start_time": "2021-12-28T13:34:37.872Z"
   },
   {
    "duration": 21,
    "start_time": "2021-12-28T13:34:37.902Z"
   },
   {
    "duration": 13,
    "start_time": "2021-12-28T13:34:37.924Z"
   },
   {
    "duration": 26,
    "start_time": "2021-12-28T13:34:37.939Z"
   },
   {
    "duration": 21,
    "start_time": "2021-12-28T13:34:37.967Z"
   },
   {
    "duration": 28,
    "start_time": "2021-12-28T13:34:37.991Z"
   },
   {
    "duration": 9,
    "start_time": "2021-12-28T13:34:38.022Z"
   },
   {
    "duration": 28,
    "start_time": "2021-12-28T13:34:38.033Z"
   },
   {
    "duration": 26,
    "start_time": "2021-12-28T13:34:38.063Z"
   },
   {
    "duration": 19,
    "start_time": "2021-12-28T13:34:38.091Z"
   },
   {
    "duration": 21,
    "start_time": "2021-12-28T13:34:38.112Z"
   },
   {
    "duration": 27,
    "start_time": "2021-12-28T13:34:38.135Z"
   },
   {
    "duration": 21,
    "start_time": "2021-12-28T13:34:38.164Z"
   },
   {
    "duration": 45,
    "start_time": "2021-12-28T13:34:38.187Z"
   },
   {
    "duration": 31,
    "start_time": "2021-12-28T13:34:38.235Z"
   },
   {
    "duration": 277,
    "start_time": "2021-12-28T13:34:38.268Z"
   },
   {
    "duration": 40,
    "start_time": "2021-12-28T13:34:38.547Z"
   },
   {
    "duration": 27,
    "start_time": "2021-12-28T13:34:38.590Z"
   },
   {
    "duration": 12,
    "start_time": "2021-12-28T13:34:38.619Z"
   },
   {
    "duration": 751,
    "start_time": "2021-12-28T13:34:38.632Z"
   },
   {
    "duration": 8,
    "start_time": "2021-12-28T13:34:39.384Z"
   },
   {
    "duration": 16,
    "start_time": "2021-12-28T13:34:39.394Z"
   },
   {
    "duration": 103,
    "start_time": "2021-12-28T13:34:39.412Z"
   },
   {
    "duration": 18,
    "start_time": "2021-12-28T13:34:39.517Z"
   },
   {
    "duration": 38,
    "start_time": "2021-12-28T13:34:39.537Z"
   },
   {
    "duration": 11,
    "start_time": "2021-12-28T13:34:39.577Z"
   },
   {
    "duration": 50,
    "start_time": "2021-12-28T13:34:39.590Z"
   },
   {
    "duration": 24,
    "start_time": "2021-12-28T13:34:39.642Z"
   },
   {
    "duration": 33,
    "start_time": "2021-12-28T13:34:39.668Z"
   },
   {
    "duration": 21,
    "start_time": "2021-12-28T13:34:39.703Z"
   },
   {
    "duration": 30,
    "start_time": "2021-12-28T13:34:39.726Z"
   },
   {
    "duration": 152,
    "start_time": "2021-12-28T13:34:39.758Z"
   },
   {
    "duration": 20,
    "start_time": "2021-12-28T13:34:39.912Z"
   },
   {
    "duration": 24,
    "start_time": "2021-12-28T13:34:39.934Z"
   },
   {
    "duration": 55,
    "start_time": "2021-12-28T13:34:39.960Z"
   },
   {
    "duration": 12,
    "start_time": "2021-12-28T13:34:40.018Z"
   },
   {
    "duration": 30,
    "start_time": "2021-12-28T13:34:40.032Z"
   },
   {
    "duration": 34,
    "start_time": "2021-12-28T13:34:40.064Z"
   },
   {
    "duration": 7,
    "start_time": "2021-12-28T13:34:40.100Z"
   },
   {
    "duration": 8,
    "start_time": "2021-12-28T13:34:40.109Z"
   },
   {
    "duration": 172,
    "start_time": "2021-12-28T13:34:40.119Z"
   },
   {
    "duration": 16,
    "start_time": "2021-12-28T13:34:40.298Z"
   },
   {
    "duration": 20,
    "start_time": "2021-12-28T13:34:40.317Z"
   },
   {
    "duration": 48,
    "start_time": "2021-12-28T13:34:40.339Z"
   },
   {
    "duration": 15,
    "start_time": "2021-12-28T13:34:40.389Z"
   },
   {
    "duration": 15,
    "start_time": "2021-12-28T13:34:40.406Z"
   },
   {
    "duration": 52,
    "start_time": "2021-12-28T13:34:40.423Z"
   },
   {
    "duration": 6,
    "start_time": "2021-12-28T13:34:40.477Z"
   },
   {
    "duration": 86,
    "start_time": "2021-12-28T13:34:40.485Z"
   },
   {
    "duration": 12,
    "start_time": "2021-12-28T13:34:40.573Z"
   },
   {
    "duration": 31,
    "start_time": "2021-12-28T13:34:40.587Z"
   },
   {
    "duration": 47,
    "start_time": "2021-12-28T13:34:40.619Z"
   },
   {
    "duration": 7,
    "start_time": "2021-12-28T13:34:40.668Z"
   },
   {
    "duration": 20,
    "start_time": "2021-12-28T13:34:40.676Z"
   },
   {
    "duration": 6,
    "start_time": "2021-12-28T13:34:40.698Z"
   },
   {
    "duration": 20,
    "start_time": "2021-12-28T13:34:40.705Z"
   },
   {
    "duration": 5,
    "start_time": "2021-12-28T13:34:40.727Z"
   },
   {
    "duration": 15,
    "start_time": "2021-12-28T13:34:40.761Z"
   },
   {
    "duration": 4,
    "start_time": "2021-12-28T13:34:40.778Z"
   },
   {
    "duration": 18,
    "start_time": "2021-12-28T13:34:40.784Z"
   },
   {
    "duration": 19,
    "start_time": "2021-12-28T13:34:40.804Z"
   },
   {
    "duration": 48,
    "start_time": "2021-12-28T13:34:40.825Z"
   },
   {
    "duration": 9,
    "start_time": "2021-12-28T13:34:40.875Z"
   },
   {
    "duration": 8,
    "start_time": "2021-12-28T13:34:40.886Z"
   },
   {
    "duration": 184,
    "start_time": "2021-12-28T13:34:40.896Z"
   },
   {
    "duration": 17,
    "start_time": "2021-12-28T13:34:41.082Z"
   },
   {
    "duration": 13,
    "start_time": "2021-12-28T13:34:41.101Z"
   },
   {
    "duration": 8,
    "start_time": "2021-12-28T13:34:41.116Z"
   },
   {
    "duration": 49,
    "start_time": "2021-12-28T13:34:41.125Z"
   },
   {
    "duration": 7,
    "start_time": "2021-12-28T13:34:41.176Z"
   },
   {
    "duration": 8,
    "start_time": "2021-12-28T13:34:41.185Z"
   },
   {
    "duration": 14,
    "start_time": "2021-12-28T13:34:41.195Z"
   },
   {
    "duration": 13,
    "start_time": "2021-12-28T13:34:41.210Z"
   },
   {
    "duration": 328,
    "start_time": "2021-12-28T13:34:41.225Z"
   },
   {
    "duration": 337,
    "start_time": "2021-12-28T13:34:41.555Z"
   },
   {
    "duration": 359,
    "start_time": "2021-12-28T13:34:41.893Z"
   },
   {
    "duration": 12,
    "start_time": "2021-12-28T13:34:42.254Z"
   },
   {
    "duration": 206,
    "start_time": "2021-12-28T13:34:42.268Z"
   },
   {
    "duration": 219,
    "start_time": "2021-12-28T13:34:42.475Z"
   },
   {
    "duration": 214,
    "start_time": "2021-12-28T13:34:42.696Z"
   },
   {
    "duration": 2,
    "start_time": "2021-12-28T13:34:42.912Z"
   },
   {
    "duration": 10,
    "start_time": "2021-12-28T13:34:42.916Z"
   },
   {
    "duration": 7,
    "start_time": "2021-12-28T13:34:42.928Z"
   },
   {
    "duration": 28,
    "start_time": "2021-12-28T13:34:42.937Z"
   },
   {
    "duration": 5,
    "start_time": "2021-12-28T13:34:42.967Z"
   },
   {
    "duration": 1159,
    "start_time": "2021-12-28T13:35:07.937Z"
   },
   {
    "duration": 27,
    "start_time": "2021-12-28T13:35:09.098Z"
   },
   {
    "duration": 13,
    "start_time": "2021-12-28T13:35:09.127Z"
   },
   {
    "duration": 7,
    "start_time": "2021-12-28T13:35:09.142Z"
   },
   {
    "duration": 157,
    "start_time": "2021-12-28T13:35:09.150Z"
   },
   {
    "duration": 8,
    "start_time": "2021-12-28T13:35:09.308Z"
   },
   {
    "duration": 23,
    "start_time": "2021-12-28T13:35:09.318Z"
   },
   {
    "duration": 92,
    "start_time": "2021-12-28T13:35:09.343Z"
   },
   {
    "duration": 7,
    "start_time": "2021-12-28T13:35:09.437Z"
   },
   {
    "duration": 30,
    "start_time": "2021-12-28T13:35:09.446Z"
   },
   {
    "duration": 138,
    "start_time": "2021-12-28T13:35:09.478Z"
   },
   {
    "duration": 9,
    "start_time": "2021-12-28T13:35:09.618Z"
   },
   {
    "duration": 35,
    "start_time": "2021-12-28T13:35:09.628Z"
   },
   {
    "duration": 16,
    "start_time": "2021-12-28T13:35:09.665Z"
   },
   {
    "duration": 14,
    "start_time": "2021-12-28T13:35:09.683Z"
   },
   {
    "duration": 11,
    "start_time": "2021-12-28T13:35:09.699Z"
   },
   {
    "duration": 12,
    "start_time": "2021-12-28T13:35:09.711Z"
   },
   {
    "duration": 8,
    "start_time": "2021-12-28T13:35:09.725Z"
   },
   {
    "duration": 8,
    "start_time": "2021-12-28T13:35:09.734Z"
   },
   {
    "duration": 17,
    "start_time": "2021-12-28T13:35:09.744Z"
   },
   {
    "duration": 11,
    "start_time": "2021-12-28T13:35:09.763Z"
   },
   {
    "duration": 10,
    "start_time": "2021-12-28T13:35:09.776Z"
   },
   {
    "duration": 6,
    "start_time": "2021-12-28T13:35:09.791Z"
   },
   {
    "duration": 12,
    "start_time": "2021-12-28T13:35:09.800Z"
   },
   {
    "duration": 10,
    "start_time": "2021-12-28T13:35:09.814Z"
   },
   {
    "duration": 36,
    "start_time": "2021-12-28T13:35:09.826Z"
   },
   {
    "duration": 27,
    "start_time": "2021-12-28T13:35:09.864Z"
   },
   {
    "duration": 7,
    "start_time": "2021-12-28T13:35:09.892Z"
   },
   {
    "duration": 308,
    "start_time": "2021-12-28T13:35:09.900Z"
   },
   {
    "duration": 31,
    "start_time": "2021-12-28T13:35:10.210Z"
   },
   {
    "duration": 30,
    "start_time": "2021-12-28T13:35:10.243Z"
   },
   {
    "duration": 13,
    "start_time": "2021-12-28T13:35:10.275Z"
   },
   {
    "duration": 651,
    "start_time": "2021-12-28T13:35:10.290Z"
   },
   {
    "duration": 18,
    "start_time": "2021-12-28T13:35:10.943Z"
   },
   {
    "duration": 8,
    "start_time": "2021-12-28T13:35:10.963Z"
   },
   {
    "duration": 118,
    "start_time": "2021-12-28T13:35:10.972Z"
   },
   {
    "duration": 20,
    "start_time": "2021-12-28T13:35:11.092Z"
   },
   {
    "duration": 37,
    "start_time": "2021-12-28T13:35:11.114Z"
   },
   {
    "duration": 16,
    "start_time": "2021-12-28T13:35:11.153Z"
   },
   {
    "duration": 44,
    "start_time": "2021-12-28T13:35:11.172Z"
   },
   {
    "duration": 7,
    "start_time": "2021-12-28T13:35:11.218Z"
   },
   {
    "duration": 38,
    "start_time": "2021-12-28T13:35:11.227Z"
   },
   {
    "duration": 10,
    "start_time": "2021-12-28T13:35:11.268Z"
   },
   {
    "duration": 15,
    "start_time": "2021-12-28T13:35:11.280Z"
   },
   {
    "duration": 128,
    "start_time": "2021-12-28T13:35:11.298Z"
   },
   {
    "duration": 34,
    "start_time": "2021-12-28T13:35:11.428Z"
   },
   {
    "duration": 7,
    "start_time": "2021-12-28T13:35:11.464Z"
   },
   {
    "duration": 44,
    "start_time": "2021-12-28T13:35:11.473Z"
   },
   {
    "duration": 11,
    "start_time": "2021-12-28T13:35:11.518Z"
   },
   {
    "duration": 47,
    "start_time": "2021-12-28T13:35:11.530Z"
   },
   {
    "duration": 30,
    "start_time": "2021-12-28T13:35:11.579Z"
   },
   {
    "duration": 12,
    "start_time": "2021-12-28T13:35:11.611Z"
   },
   {
    "duration": 30,
    "start_time": "2021-12-28T13:35:11.625Z"
   },
   {
    "duration": 135,
    "start_time": "2021-12-28T13:35:11.657Z"
   },
   {
    "duration": 15,
    "start_time": "2021-12-28T13:35:11.794Z"
   },
   {
    "duration": 17,
    "start_time": "2021-12-28T13:35:11.810Z"
   },
   {
    "duration": 44,
    "start_time": "2021-12-28T13:35:11.829Z"
   },
   {
    "duration": 12,
    "start_time": "2021-12-28T13:35:11.875Z"
   },
   {
    "duration": 14,
    "start_time": "2021-12-28T13:35:11.890Z"
   },
   {
    "duration": 24,
    "start_time": "2021-12-28T13:35:11.906Z"
   },
   {
    "duration": 31,
    "start_time": "2021-12-28T13:35:11.932Z"
   },
   {
    "duration": 73,
    "start_time": "2021-12-28T13:35:11.965Z"
   },
   {
    "duration": 25,
    "start_time": "2021-12-28T13:35:12.040Z"
   },
   {
    "duration": 30,
    "start_time": "2021-12-28T13:35:12.067Z"
   },
   {
    "duration": 37,
    "start_time": "2021-12-28T13:35:12.099Z"
   },
   {
    "duration": 22,
    "start_time": "2021-12-28T13:35:12.138Z"
   },
   {
    "duration": 21,
    "start_time": "2021-12-28T13:35:12.163Z"
   },
   {
    "duration": 7,
    "start_time": "2021-12-28T13:35:12.190Z"
   },
   {
    "duration": 17,
    "start_time": "2021-12-28T13:35:12.199Z"
   },
   {
    "duration": 6,
    "start_time": "2021-12-28T13:35:12.218Z"
   },
   {
    "duration": 53,
    "start_time": "2021-12-28T13:35:12.226Z"
   },
   {
    "duration": 4,
    "start_time": "2021-12-28T13:35:12.281Z"
   },
   {
    "duration": 25,
    "start_time": "2021-12-28T13:35:12.287Z"
   },
   {
    "duration": 13,
    "start_time": "2021-12-28T13:35:12.314Z"
   },
   {
    "duration": 39,
    "start_time": "2021-12-28T13:35:12.328Z"
   },
   {
    "duration": 7,
    "start_time": "2021-12-28T13:35:12.368Z"
   },
   {
    "duration": 12,
    "start_time": "2021-12-28T13:35:12.377Z"
   },
   {
    "duration": 215,
    "start_time": "2021-12-28T13:35:12.391Z"
   },
   {
    "duration": 15,
    "start_time": "2021-12-28T13:35:12.608Z"
   },
   {
    "duration": 12,
    "start_time": "2021-12-28T13:35:12.624Z"
   },
   {
    "duration": 28,
    "start_time": "2021-12-28T13:35:12.638Z"
   },
   {
    "duration": 37,
    "start_time": "2021-12-28T13:35:12.668Z"
   },
   {
    "duration": 7,
    "start_time": "2021-12-28T13:35:12.706Z"
   },
   {
    "duration": 14,
    "start_time": "2021-12-28T13:35:12.714Z"
   },
   {
    "duration": 20,
    "start_time": "2021-12-28T13:35:12.730Z"
   },
   {
    "duration": 26,
    "start_time": "2021-12-28T13:35:12.752Z"
   },
   {
    "duration": 314,
    "start_time": "2021-12-28T13:35:12.780Z"
   },
   {
    "duration": 336,
    "start_time": "2021-12-28T13:35:13.096Z"
   },
   {
    "duration": 285,
    "start_time": "2021-12-28T13:35:13.434Z"
   },
   {
    "duration": 9,
    "start_time": "2021-12-28T13:35:13.721Z"
   },
   {
    "duration": 231,
    "start_time": "2021-12-28T13:35:13.732Z"
   },
   {
    "duration": 203,
    "start_time": "2021-12-28T13:35:13.964Z"
   },
   {
    "duration": 213,
    "start_time": "2021-12-28T13:35:14.169Z"
   },
   {
    "duration": 3,
    "start_time": "2021-12-28T13:35:14.384Z"
   },
   {
    "duration": 9,
    "start_time": "2021-12-28T13:35:14.389Z"
   },
   {
    "duration": 18,
    "start_time": "2021-12-28T13:35:14.399Z"
   },
   {
    "duration": 11,
    "start_time": "2021-12-28T13:35:14.419Z"
   },
   {
    "duration": 16,
    "start_time": "2021-12-28T13:35:14.432Z"
   },
   {
    "duration": 1680,
    "start_time": "2021-12-29T13:15:38.200Z"
   },
   {
    "duration": 36,
    "start_time": "2021-12-29T13:15:39.883Z"
   },
   {
    "duration": 26,
    "start_time": "2021-12-29T13:15:39.923Z"
   },
   {
    "duration": 15,
    "start_time": "2021-12-29T13:15:39.952Z"
   },
   {
    "duration": 206,
    "start_time": "2021-12-29T13:15:39.969Z"
   },
   {
    "duration": 10,
    "start_time": "2021-12-29T13:15:40.178Z"
   },
   {
    "duration": 42,
    "start_time": "2021-12-29T13:15:40.191Z"
   },
   {
    "duration": 125,
    "start_time": "2021-12-29T13:15:40.239Z"
   },
   {
    "duration": 11,
    "start_time": "2021-12-29T13:15:40.368Z"
   },
   {
    "duration": 19,
    "start_time": "2021-12-29T13:15:40.382Z"
   },
   {
    "duration": 166,
    "start_time": "2021-12-29T13:15:40.424Z"
   },
   {
    "duration": 11,
    "start_time": "2021-12-29T13:15:40.593Z"
   },
   {
    "duration": 35,
    "start_time": "2021-12-29T13:15:40.606Z"
   },
   {
    "duration": 16,
    "start_time": "2021-12-29T13:15:40.643Z"
   },
   {
    "duration": 14,
    "start_time": "2021-12-29T13:15:40.662Z"
   },
   {
    "duration": 8,
    "start_time": "2021-12-29T13:15:40.679Z"
   },
   {
    "duration": 37,
    "start_time": "2021-12-29T13:15:40.689Z"
   },
   {
    "duration": 11,
    "start_time": "2021-12-29T13:15:40.728Z"
   },
   {
    "duration": 10,
    "start_time": "2021-12-29T13:15:40.741Z"
   },
   {
    "duration": 11,
    "start_time": "2021-12-29T13:15:40.753Z"
   },
   {
    "duration": 14,
    "start_time": "2021-12-29T13:15:40.767Z"
   },
   {
    "duration": 44,
    "start_time": "2021-12-29T13:15:40.783Z"
   },
   {
    "duration": 19,
    "start_time": "2021-12-29T13:15:40.833Z"
   },
   {
    "duration": 26,
    "start_time": "2021-12-29T13:15:40.856Z"
   },
   {
    "duration": 30,
    "start_time": "2021-12-29T13:15:40.884Z"
   },
   {
    "duration": 24,
    "start_time": "2021-12-29T13:15:40.916Z"
   },
   {
    "duration": 46,
    "start_time": "2021-12-29T13:15:40.942Z"
   },
   {
    "duration": 11,
    "start_time": "2021-12-29T13:15:40.991Z"
   },
   {
    "duration": 326,
    "start_time": "2021-12-29T13:15:41.005Z"
   },
   {
    "duration": 44,
    "start_time": "2021-12-29T13:15:41.334Z"
   },
   {
    "duration": 47,
    "start_time": "2021-12-29T13:15:41.380Z"
   },
   {
    "duration": 14,
    "start_time": "2021-12-29T13:15:41.429Z"
   },
   {
    "duration": 910,
    "start_time": "2021-12-29T13:15:41.445Z"
   },
   {
    "duration": 12,
    "start_time": "2021-12-29T13:15:42.357Z"
   },
   {
    "duration": 11,
    "start_time": "2021-12-29T13:15:42.372Z"
   },
   {
    "duration": 149,
    "start_time": "2021-12-29T13:15:42.386Z"
   },
   {
    "duration": 23,
    "start_time": "2021-12-29T13:15:42.537Z"
   },
   {
    "duration": 34,
    "start_time": "2021-12-29T13:15:42.562Z"
   },
   {
    "duration": 35,
    "start_time": "2021-12-29T13:15:42.599Z"
   },
   {
    "duration": 60,
    "start_time": "2021-12-29T13:15:42.637Z"
   },
   {
    "duration": 31,
    "start_time": "2021-12-29T13:15:42.699Z"
   },
   {
    "duration": 11,
    "start_time": "2021-12-29T13:15:42.732Z"
   },
   {
    "duration": 18,
    "start_time": "2021-12-29T13:15:42.745Z"
   },
   {
    "duration": 10,
    "start_time": "2021-12-29T13:15:42.766Z"
   },
   {
    "duration": 178,
    "start_time": "2021-12-29T13:15:42.779Z"
   },
   {
    "duration": 30,
    "start_time": "2021-12-29T13:15:42.960Z"
   },
   {
    "duration": 32,
    "start_time": "2021-12-29T13:15:42.993Z"
   },
   {
    "duration": 55,
    "start_time": "2021-12-29T13:15:43.028Z"
   },
   {
    "duration": 41,
    "start_time": "2021-12-29T13:15:43.085Z"
   },
   {
    "duration": 37,
    "start_time": "2021-12-29T13:15:43.128Z"
   },
   {
    "duration": 89,
    "start_time": "2021-12-29T13:15:43.167Z"
   },
   {
    "duration": 16,
    "start_time": "2021-12-29T13:15:43.262Z"
   },
   {
    "duration": 15,
    "start_time": "2021-12-29T13:15:43.281Z"
   },
   {
    "duration": 247,
    "start_time": "2021-12-29T13:15:43.298Z"
   },
   {
    "duration": 20,
    "start_time": "2021-12-29T13:15:43.548Z"
   },
   {
    "duration": 25,
    "start_time": "2021-12-29T13:15:43.570Z"
   },
   {
    "duration": 49,
    "start_time": "2021-12-29T13:15:43.597Z"
   },
   {
    "duration": 16,
    "start_time": "2021-12-29T13:15:43.648Z"
   },
   {
    "duration": 17,
    "start_time": "2021-12-29T13:15:43.667Z"
   },
   {
    "duration": 64,
    "start_time": "2021-12-29T13:15:43.686Z"
   },
   {
    "duration": 9,
    "start_time": "2021-12-29T13:15:43.753Z"
   },
   {
    "duration": 128,
    "start_time": "2021-12-29T13:15:43.764Z"
   },
   {
    "duration": 14,
    "start_time": "2021-12-29T13:15:43.894Z"
   },
   {
    "duration": 35,
    "start_time": "2021-12-29T13:15:43.910Z"
   },
   {
    "duration": 56,
    "start_time": "2021-12-29T13:15:43.947Z"
   },
   {
    "duration": 11,
    "start_time": "2021-12-29T13:15:44.023Z"
   },
   {
    "duration": 41,
    "start_time": "2021-12-29T13:15:44.036Z"
   },
   {
    "duration": 8,
    "start_time": "2021-12-29T13:15:44.085Z"
   },
   {
    "duration": 56,
    "start_time": "2021-12-29T13:15:44.096Z"
   },
   {
    "duration": 7,
    "start_time": "2021-12-29T13:15:44.155Z"
   },
   {
    "duration": 39,
    "start_time": "2021-12-29T13:15:44.165Z"
   },
   {
    "duration": 12,
    "start_time": "2021-12-29T13:15:44.206Z"
   },
   {
    "duration": 33,
    "start_time": "2021-12-29T13:15:44.224Z"
   },
   {
    "duration": 25,
    "start_time": "2021-12-29T13:15:44.260Z"
   },
   {
    "duration": 27,
    "start_time": "2021-12-29T13:15:44.287Z"
   },
   {
    "duration": 13,
    "start_time": "2021-12-29T13:15:44.324Z"
   },
   {
    "duration": 18,
    "start_time": "2021-12-29T13:15:44.340Z"
   },
   {
    "duration": 484,
    "start_time": "2021-12-29T13:15:44.360Z"
   },
   {
    "duration": 30,
    "start_time": "2021-12-29T13:15:44.847Z"
   },
   {
    "duration": 45,
    "start_time": "2021-12-29T13:15:44.880Z"
   },
   {
    "duration": 12,
    "start_time": "2021-12-29T13:15:44.928Z"
   },
   {
    "duration": 42,
    "start_time": "2021-12-29T13:15:44.943Z"
   },
   {
    "duration": 37,
    "start_time": "2021-12-29T13:15:44.988Z"
   },
   {
    "duration": 15,
    "start_time": "2021-12-29T13:15:45.027Z"
   },
   {
    "duration": 12,
    "start_time": "2021-12-29T13:15:45.044Z"
   },
   {
    "duration": 16,
    "start_time": "2021-12-29T13:15:45.059Z"
   },
   {
    "duration": 718,
    "start_time": "2021-12-29T13:15:45.077Z"
   },
   {
    "duration": 772,
    "start_time": "2021-12-29T13:15:45.798Z"
   },
   {
    "duration": 510,
    "start_time": "2021-12-29T13:15:46.573Z"
   },
   {
    "duration": 14,
    "start_time": "2021-12-29T13:15:47.086Z"
   },
   {
    "duration": 370,
    "start_time": "2021-12-29T13:15:47.102Z"
   },
   {
    "duration": 345,
    "start_time": "2021-12-29T13:15:47.474Z"
   },
   {
    "duration": 370,
    "start_time": "2021-12-29T13:15:47.823Z"
   },
   {
    "duration": 5,
    "start_time": "2021-12-29T13:15:48.196Z"
   },
   {
    "duration": 23,
    "start_time": "2021-12-29T13:15:48.203Z"
   },
   {
    "duration": 33,
    "start_time": "2021-12-29T13:15:48.229Z"
   },
   {
    "duration": 26,
    "start_time": "2021-12-29T13:15:48.265Z"
   },
   {
    "duration": 34,
    "start_time": "2021-12-29T13:15:48.293Z"
   },
   {
    "duration": 14,
    "start_time": "2021-12-29T13:26:57.870Z"
   },
   {
    "duration": 31,
    "start_time": "2021-12-29T13:27:11.233Z"
   },
   {
    "duration": 28,
    "start_time": "2021-12-29T13:27:19.446Z"
   },
   {
    "duration": 19,
    "start_time": "2021-12-29T13:27:26.506Z"
   },
   {
    "duration": 25,
    "start_time": "2021-12-29T13:30:20.654Z"
   },
   {
    "duration": 37,
    "start_time": "2021-12-29T13:33:57.133Z"
   },
   {
    "duration": 27,
    "start_time": "2021-12-29T13:34:09.865Z"
   },
   {
    "duration": 395,
    "start_time": "2021-12-29T13:55:29.208Z"
   },
   {
    "duration": 1530,
    "start_time": "2021-12-29T18:00:17.025Z"
   },
   {
    "duration": 35,
    "start_time": "2021-12-29T18:00:18.558Z"
   },
   {
    "duration": 24,
    "start_time": "2021-12-29T18:00:18.597Z"
   },
   {
    "duration": 10,
    "start_time": "2021-12-29T18:00:18.625Z"
   },
   {
    "duration": 240,
    "start_time": "2021-12-29T18:00:18.638Z"
   },
   {
    "duration": 12,
    "start_time": "2021-12-29T18:00:18.880Z"
   },
   {
    "duration": 30,
    "start_time": "2021-12-29T18:00:18.895Z"
   },
   {
    "duration": 147,
    "start_time": "2021-12-29T18:00:18.929Z"
   },
   {
    "duration": 10,
    "start_time": "2021-12-29T18:00:19.080Z"
   },
   {
    "duration": 21,
    "start_time": "2021-12-29T18:00:19.093Z"
   },
   {
    "duration": 220,
    "start_time": "2021-12-29T18:00:19.118Z"
   },
   {
    "duration": 24,
    "start_time": "2021-12-29T18:00:19.341Z"
   },
   {
    "duration": 26,
    "start_time": "2021-12-29T18:00:19.368Z"
   },
   {
    "duration": 20,
    "start_time": "2021-12-29T18:00:19.397Z"
   },
   {
    "duration": 20,
    "start_time": "2021-12-29T18:00:19.420Z"
   },
   {
    "duration": 9,
    "start_time": "2021-12-29T18:00:19.464Z"
   },
   {
    "duration": 17,
    "start_time": "2021-12-29T18:00:19.476Z"
   },
   {
    "duration": 9,
    "start_time": "2021-12-29T18:00:19.497Z"
   },
   {
    "duration": 57,
    "start_time": "2021-12-29T18:00:19.509Z"
   },
   {
    "duration": 15,
    "start_time": "2021-12-29T18:00:19.568Z"
   },
   {
    "duration": 15,
    "start_time": "2021-12-29T18:00:19.585Z"
   },
   {
    "duration": 11,
    "start_time": "2021-12-29T18:00:19.602Z"
   },
   {
    "duration": 9,
    "start_time": "2021-12-29T18:00:19.621Z"
   },
   {
    "duration": 11,
    "start_time": "2021-12-29T18:00:19.666Z"
   },
   {
    "duration": 11,
    "start_time": "2021-12-29T18:00:19.680Z"
   },
   {
    "duration": 13,
    "start_time": "2021-12-29T18:00:19.693Z"
   },
   {
    "duration": 78,
    "start_time": "2021-12-29T18:00:19.709Z"
   },
   {
    "duration": 11,
    "start_time": "2021-12-29T18:00:19.789Z"
   },
   {
    "duration": 374,
    "start_time": "2021-12-29T18:00:19.803Z"
   },
   {
    "duration": 44,
    "start_time": "2021-12-29T18:00:20.179Z"
   },
   {
    "duration": 45,
    "start_time": "2021-12-29T18:00:20.226Z"
   },
   {
    "duration": 17,
    "start_time": "2021-12-29T18:00:20.274Z"
   },
   {
    "duration": 933,
    "start_time": "2021-12-29T18:00:20.294Z"
   },
   {
    "duration": 32,
    "start_time": "2021-12-29T18:00:21.230Z"
   },
   {
    "duration": 14,
    "start_time": "2021-12-29T18:00:21.264Z"
   },
   {
    "duration": 162,
    "start_time": "2021-12-29T18:00:21.281Z"
   },
   {
    "duration": 34,
    "start_time": "2021-12-29T18:00:21.446Z"
   },
   {
    "duration": 22,
    "start_time": "2021-12-29T18:00:21.482Z"
   },
   {
    "duration": 64,
    "start_time": "2021-12-29T18:00:21.506Z"
   },
   {
    "duration": 20,
    "start_time": "2021-12-29T18:00:21.573Z"
   },
   {
    "duration": 88,
    "start_time": "2021-12-29T18:00:21.596Z"
   },
   {
    "duration": 9,
    "start_time": "2021-12-29T18:00:21.687Z"
   },
   {
    "duration": 10,
    "start_time": "2021-12-29T18:00:21.699Z"
   },
   {
    "duration": 13,
    "start_time": "2021-12-29T18:00:21.711Z"
   },
   {
    "duration": 46,
    "start_time": "2021-12-29T18:00:21.726Z"
   },
   {
    "duration": 151,
    "start_time": "2021-12-29T18:00:21.775Z"
   },
   {
    "duration": 42,
    "start_time": "2021-12-29T18:00:21.928Z"
   },
   {
    "duration": 10,
    "start_time": "2021-12-29T18:00:21.972Z"
   },
   {
    "duration": 62,
    "start_time": "2021-12-29T18:00:21.984Z"
   },
   {
    "duration": 29,
    "start_time": "2021-12-29T18:00:22.049Z"
   },
   {
    "duration": 36,
    "start_time": "2021-12-29T18:00:22.080Z"
   },
   {
    "duration": 67,
    "start_time": "2021-12-29T18:00:22.119Z"
   },
   {
    "duration": 10,
    "start_time": "2021-12-29T18:00:22.188Z"
   },
   {
    "duration": 11,
    "start_time": "2021-12-29T18:00:22.200Z"
   },
   {
    "duration": 187,
    "start_time": "2021-12-29T18:00:22.213Z"
   },
   {
    "duration": 20,
    "start_time": "2021-12-29T18:00:22.402Z"
   },
   {
    "duration": 50,
    "start_time": "2021-12-29T18:00:22.425Z"
   },
   {
    "duration": 25,
    "start_time": "2021-12-29T18:00:22.478Z"
   },
   {
    "duration": 16,
    "start_time": "2021-12-29T18:00:22.506Z"
   },
   {
    "duration": 44,
    "start_time": "2021-12-29T18:00:22.524Z"
   },
   {
    "duration": 32,
    "start_time": "2021-12-29T18:00:22.570Z"
   },
   {
    "duration": 9,
    "start_time": "2021-12-29T18:00:22.605Z"
   },
   {
    "duration": 142,
    "start_time": "2021-12-29T18:00:22.616Z"
   },
   {
    "duration": 15,
    "start_time": "2021-12-29T18:00:22.762Z"
   },
   {
    "duration": 28,
    "start_time": "2021-12-29T18:00:22.780Z"
   },
   {
    "duration": 74,
    "start_time": "2021-12-29T18:00:22.810Z"
   },
   {
    "duration": 9,
    "start_time": "2021-12-29T18:00:22.887Z"
   },
   {
    "duration": 30,
    "start_time": "2021-12-29T18:00:22.905Z"
   },
   {
    "duration": 9,
    "start_time": "2021-12-29T18:00:22.963Z"
   },
   {
    "duration": 25,
    "start_time": "2021-12-29T18:00:22.974Z"
   },
   {
    "duration": 7,
    "start_time": "2021-12-29T18:00:23.002Z"
   },
   {
    "duration": 56,
    "start_time": "2021-12-29T18:00:23.012Z"
   },
   {
    "duration": 6,
    "start_time": "2021-12-29T18:00:23.070Z"
   },
   {
    "duration": 26,
    "start_time": "2021-12-29T18:00:23.078Z"
   },
   {
    "duration": 21,
    "start_time": "2021-12-29T18:00:23.106Z"
   },
   {
    "duration": 48,
    "start_time": "2021-12-29T18:00:23.129Z"
   },
   {
    "duration": 13,
    "start_time": "2021-12-29T18:00:23.179Z"
   },
   {
    "duration": 21,
    "start_time": "2021-12-29T18:00:23.194Z"
   },
   {
    "duration": 339,
    "start_time": "2021-12-29T18:00:23.218Z"
   },
   {
    "duration": 24,
    "start_time": "2021-12-29T18:00:23.560Z"
   },
   {
    "duration": 20,
    "start_time": "2021-12-29T18:00:23.586Z"
   },
   {
    "duration": 10,
    "start_time": "2021-12-29T18:00:23.608Z"
   },
   {
    "duration": 67,
    "start_time": "2021-12-29T18:00:23.620Z"
   },
   {
    "duration": 10,
    "start_time": "2021-12-29T18:00:23.690Z"
   },
   {
    "duration": 9,
    "start_time": "2021-12-29T18:00:23.702Z"
   },
   {
    "duration": 8,
    "start_time": "2021-12-29T18:00:23.713Z"
   },
   {
    "duration": 12,
    "start_time": "2021-12-29T18:00:23.764Z"
   },
   {
    "duration": 537,
    "start_time": "2021-12-29T18:00:23.778Z"
   },
   {
    "duration": 549,
    "start_time": "2021-12-29T18:00:24.317Z"
   },
   {
    "duration": 446,
    "start_time": "2021-12-29T18:00:24.869Z"
   },
   {
    "duration": 13,
    "start_time": "2021-12-29T18:00:25.318Z"
   },
   {
    "duration": 374,
    "start_time": "2021-12-29T18:00:25.334Z"
   },
   {
    "duration": 351,
    "start_time": "2021-12-29T18:00:25.711Z"
   },
   {
    "duration": 344,
    "start_time": "2021-12-29T18:00:26.065Z"
   },
   {
    "duration": 4,
    "start_time": "2021-12-29T18:00:26.412Z"
   },
   {
    "duration": 9,
    "start_time": "2021-12-29T18:00:26.418Z"
   },
   {
    "duration": 32,
    "start_time": "2021-12-29T18:00:26.430Z"
   },
   {
    "duration": 13,
    "start_time": "2021-12-29T18:00:26.465Z"
   },
   {
    "duration": 14,
    "start_time": "2021-12-29T18:00:26.480Z"
   },
   {
    "duration": 99,
    "start_time": "2021-12-29T18:33:00.195Z"
   },
   {
    "duration": 191,
    "start_time": "2021-12-29T18:34:24.284Z"
   },
   {
    "duration": 100,
    "start_time": "2021-12-29T18:35:25.090Z"
   },
   {
    "duration": 91,
    "start_time": "2021-12-29T18:35:35.113Z"
   },
   {
    "duration": 118,
    "start_time": "2021-12-29T18:36:17.450Z"
   },
   {
    "duration": 4,
    "start_time": "2021-12-29T18:36:27.418Z"
   },
   {
    "duration": 564,
    "start_time": "2021-12-29T18:36:47.435Z"
   },
   {
    "duration": 28,
    "start_time": "2021-12-29T18:37:28.076Z"
   },
   {
    "duration": 77,
    "start_time": "2021-12-29T18:48:45.216Z"
   },
   {
    "duration": 71,
    "start_time": "2021-12-29T18:48:53.308Z"
   },
   {
    "duration": 13,
    "start_time": "2021-12-29T18:50:13.957Z"
   },
   {
    "duration": 98,
    "start_time": "2021-12-29T18:50:24.053Z"
   },
   {
    "duration": 15,
    "start_time": "2021-12-29T18:50:30.052Z"
   },
   {
    "duration": 72,
    "start_time": "2021-12-29T18:50:52.517Z"
   },
   {
    "duration": 74,
    "start_time": "2021-12-29T18:51:00.941Z"
   },
   {
    "duration": 277,
    "start_time": "2021-12-29T18:51:25.805Z"
   },
   {
    "duration": 11,
    "start_time": "2021-12-29T18:51:34.477Z"
   },
   {
    "duration": 115,
    "start_time": "2021-12-29T18:52:07.094Z"
   },
   {
    "duration": 745,
    "start_time": "2021-12-29T18:52:47.230Z"
   },
   {
    "duration": 114,
    "start_time": "2021-12-29T18:52:54.503Z"
   },
   {
    "duration": 71,
    "start_time": "2021-12-29T18:53:25.656Z"
   },
   {
    "duration": 79,
    "start_time": "2021-12-29T18:56:20.757Z"
   },
   {
    "duration": 74,
    "start_time": "2021-12-29T18:57:34.131Z"
   },
   {
    "duration": 5,
    "start_time": "2021-12-29T18:59:38.804Z"
   },
   {
    "duration": 43,
    "start_time": "2021-12-29T18:59:50.260Z"
   },
   {
    "duration": 70,
    "start_time": "2021-12-29T19:01:24.815Z"
   },
   {
    "duration": 37,
    "start_time": "2021-12-29T19:02:13.143Z"
   },
   {
    "duration": 59,
    "start_time": "2021-12-29T19:03:03.312Z"
   },
   {
    "duration": 6,
    "start_time": "2021-12-29T19:03:24.491Z"
   },
   {
    "duration": 32,
    "start_time": "2021-12-29T19:03:24.502Z"
   },
   {
    "duration": 4,
    "start_time": "2021-12-29T19:03:24.537Z"
   },
   {
    "duration": 51,
    "start_time": "2021-12-29T19:03:24.544Z"
   },
   {
    "duration": 212,
    "start_time": "2021-12-29T19:03:24.598Z"
   },
   {
    "duration": 66,
    "start_time": "2021-12-29T19:03:24.813Z"
   },
   {
    "duration": 119,
    "start_time": "2021-12-29T19:03:24.882Z"
   },
   {
    "duration": 57,
    "start_time": "2021-12-29T19:03:25.005Z"
   },
   {
    "duration": 180,
    "start_time": "2021-12-29T19:03:25.066Z"
   },
   {
    "duration": 62,
    "start_time": "2021-12-29T19:03:25.250Z"
   },
   {
    "duration": 19,
    "start_time": "2021-12-29T19:03:25.315Z"
   },
   {
    "duration": 26,
    "start_time": "2021-12-29T19:03:25.336Z"
   },
   {
    "duration": 7,
    "start_time": "2021-12-29T19:03:25.365Z"
   },
   {
    "duration": 14,
    "start_time": "2021-12-29T19:03:25.374Z"
   },
   {
    "duration": 7,
    "start_time": "2021-12-29T19:03:25.391Z"
   },
   {
    "duration": 10,
    "start_time": "2021-12-29T19:03:25.400Z"
   },
   {
    "duration": 52,
    "start_time": "2021-12-29T19:03:25.412Z"
   },
   {
    "duration": 10,
    "start_time": "2021-12-29T19:03:25.467Z"
   },
   {
    "duration": 10,
    "start_time": "2021-12-29T19:03:25.479Z"
   },
   {
    "duration": 12,
    "start_time": "2021-12-29T19:03:25.491Z"
   },
   {
    "duration": 12,
    "start_time": "2021-12-29T19:03:25.506Z"
   },
   {
    "duration": 11,
    "start_time": "2021-12-29T19:03:25.564Z"
   },
   {
    "duration": 13,
    "start_time": "2021-12-29T19:03:25.578Z"
   },
   {
    "duration": 89,
    "start_time": "2021-12-29T19:03:25.594Z"
   },
   {
    "duration": 13,
    "start_time": "2021-12-29T19:03:25.687Z"
   },
   {
    "duration": 476,
    "start_time": "2021-12-29T19:03:25.703Z"
   },
   {
    "duration": 83,
    "start_time": "2021-12-29T19:03:26.190Z"
   },
   {
    "duration": 25,
    "start_time": "2021-12-29T19:03:26.279Z"
   },
   {
    "duration": 18,
    "start_time": "2021-12-29T19:03:26.307Z"
   },
   {
    "duration": 1007,
    "start_time": "2021-12-29T19:03:26.327Z"
   },
   {
    "duration": 11,
    "start_time": "2021-12-29T19:03:27.336Z"
   },
   {
    "duration": 10,
    "start_time": "2021-12-29T19:03:27.363Z"
   },
   {
    "duration": 128,
    "start_time": "2021-12-29T19:03:27.376Z"
   },
   {
    "duration": 23,
    "start_time": "2021-12-29T19:03:27.507Z"
   },
   {
    "duration": 40,
    "start_time": "2021-12-29T19:03:27.533Z"
   },
   {
    "duration": 29,
    "start_time": "2021-12-29T19:03:27.576Z"
   },
   {
    "duration": 15,
    "start_time": "2021-12-29T19:03:27.608Z"
   },
   {
    "duration": 115,
    "start_time": "2021-12-29T19:03:27.625Z"
   },
   {
    "duration": 10,
    "start_time": "2021-12-29T19:03:27.742Z"
   },
   {
    "duration": 11,
    "start_time": "2021-12-29T19:03:27.762Z"
   },
   {
    "duration": 16,
    "start_time": "2021-12-29T19:03:27.775Z"
   },
   {
    "duration": 10,
    "start_time": "2021-12-29T19:03:27.795Z"
   },
   {
    "duration": 177,
    "start_time": "2021-12-29T19:03:27.809Z"
   },
   {
    "duration": 28,
    "start_time": "2021-12-29T19:03:27.989Z"
   },
   {
    "duration": 9,
    "start_time": "2021-12-29T19:03:28.019Z"
   },
   {
    "duration": 81,
    "start_time": "2021-12-29T19:03:28.030Z"
   },
   {
    "duration": 21,
    "start_time": "2021-12-29T19:03:28.114Z"
   },
   {
    "duration": 38,
    "start_time": "2021-12-29T19:03:28.164Z"
   },
   {
    "duration": 89,
    "start_time": "2021-12-29T19:03:28.205Z"
   },
   {
    "duration": 13,
    "start_time": "2021-12-29T19:03:28.297Z"
   },
   {
    "duration": 16,
    "start_time": "2021-12-29T19:03:28.313Z"
   },
   {
    "duration": 265,
    "start_time": "2021-12-29T19:03:28.332Z"
   },
   {
    "duration": 22,
    "start_time": "2021-12-29T19:03:28.600Z"
   },
   {
    "duration": 57,
    "start_time": "2021-12-29T19:03:28.625Z"
   },
   {
    "duration": 35,
    "start_time": "2021-12-29T19:03:28.686Z"
   },
   {
    "duration": 43,
    "start_time": "2021-12-29T19:03:28.725Z"
   },
   {
    "duration": 15,
    "start_time": "2021-12-29T19:03:28.771Z"
   },
   {
    "duration": 31,
    "start_time": "2021-12-29T19:03:28.789Z"
   },
   {
    "duration": 42,
    "start_time": "2021-12-29T19:03:28.823Z"
   },
   {
    "duration": 121,
    "start_time": "2021-12-29T19:03:28.867Z"
   },
   {
    "duration": 16,
    "start_time": "2021-12-29T19:03:28.990Z"
   },
   {
    "duration": 24,
    "start_time": "2021-12-29T19:03:29.008Z"
   },
   {
    "duration": 79,
    "start_time": "2021-12-29T19:03:29.035Z"
   },
   {
    "duration": 10,
    "start_time": "2021-12-29T19:03:29.116Z"
   },
   {
    "duration": 78,
    "start_time": "2021-12-29T19:03:29.129Z"
   },
   {
    "duration": 10,
    "start_time": "2021-12-29T19:03:29.210Z"
   },
   {
    "duration": 1804,
    "start_time": "2021-12-29T19:03:29.224Z"
   },
   {
    "duration": 1045,
    "start_time": "2021-12-29T19:03:29.987Z"
   },
   {
    "duration": 1040,
    "start_time": "2021-12-29T19:03:29.993Z"
   },
   {
    "duration": 1037,
    "start_time": "2021-12-29T19:03:29.998Z"
   },
   {
    "duration": 1033,
    "start_time": "2021-12-29T19:03:30.003Z"
   },
   {
    "duration": 1029,
    "start_time": "2021-12-29T19:03:30.008Z"
   },
   {
    "duration": 1026,
    "start_time": "2021-12-29T19:03:30.013Z"
   },
   {
    "duration": 1022,
    "start_time": "2021-12-29T19:03:30.018Z"
   },
   {
    "duration": 1018,
    "start_time": "2021-12-29T19:03:30.024Z"
   },
   {
    "duration": 1014,
    "start_time": "2021-12-29T19:03:30.029Z"
   },
   {
    "duration": 1000,
    "start_time": "2021-12-29T19:03:30.044Z"
   },
   {
    "duration": 997,
    "start_time": "2021-12-29T19:03:30.049Z"
   },
   {
    "duration": 993,
    "start_time": "2021-12-29T19:03:30.054Z"
   },
   {
    "duration": 989,
    "start_time": "2021-12-29T19:03:30.059Z"
   },
   {
    "duration": 986,
    "start_time": "2021-12-29T19:03:30.064Z"
   },
   {
    "duration": 983,
    "start_time": "2021-12-29T19:03:30.068Z"
   },
   {
    "duration": 979,
    "start_time": "2021-12-29T19:03:30.073Z"
   },
   {
    "duration": 976,
    "start_time": "2021-12-29T19:03:30.078Z"
   },
   {
    "duration": 971,
    "start_time": "2021-12-29T19:03:30.084Z"
   },
   {
    "duration": 968,
    "start_time": "2021-12-29T19:03:30.088Z"
   },
   {
    "duration": 965,
    "start_time": "2021-12-29T19:03:30.093Z"
   },
   {
    "duration": 961,
    "start_time": "2021-12-29T19:03:30.098Z"
   },
   {
    "duration": 958,
    "start_time": "2021-12-29T19:03:30.103Z"
   },
   {
    "duration": 954,
    "start_time": "2021-12-29T19:03:30.108Z"
   },
   {
    "duration": 950,
    "start_time": "2021-12-29T19:03:30.113Z"
   },
   {
    "duration": 947,
    "start_time": "2021-12-29T19:03:30.118Z"
   },
   {
    "duration": 943,
    "start_time": "2021-12-29T19:03:30.123Z"
   },
   {
    "duration": 939,
    "start_time": "2021-12-29T19:03:30.128Z"
   },
   {
    "duration": 936,
    "start_time": "2021-12-29T19:03:30.133Z"
   },
   {
    "duration": 931,
    "start_time": "2021-12-29T19:03:30.139Z"
   },
   {
    "duration": 5,
    "start_time": "2021-12-29T19:04:12.146Z"
   },
   {
    "duration": 36,
    "start_time": "2021-12-29T19:04:12.153Z"
   },
   {
    "duration": 16,
    "start_time": "2021-12-29T19:04:12.192Z"
   },
   {
    "duration": 36,
    "start_time": "2021-12-29T19:04:12.210Z"
   },
   {
    "duration": 263,
    "start_time": "2021-12-29T19:04:12.248Z"
   },
   {
    "duration": 86,
    "start_time": "2021-12-29T19:04:12.513Z"
   },
   {
    "duration": 132,
    "start_time": "2021-12-29T19:04:12.603Z"
   },
   {
    "duration": 44,
    "start_time": "2021-12-29T19:04:12.738Z"
   },
   {
    "duration": 266,
    "start_time": "2021-12-29T19:04:12.784Z"
   },
   {
    "duration": 89,
    "start_time": "2021-12-29T19:04:13.053Z"
   },
   {
    "duration": 22,
    "start_time": "2021-12-29T19:04:13.146Z"
   },
   {
    "duration": 22,
    "start_time": "2021-12-29T19:04:13.171Z"
   },
   {
    "duration": 9,
    "start_time": "2021-12-29T19:04:13.196Z"
   },
   {
    "duration": 30,
    "start_time": "2021-12-29T19:04:13.207Z"
   },
   {
    "duration": 26,
    "start_time": "2021-12-29T19:04:13.240Z"
   },
   {
    "duration": 9,
    "start_time": "2021-12-29T19:04:13.268Z"
   },
   {
    "duration": 17,
    "start_time": "2021-12-29T19:04:13.280Z"
   },
   {
    "duration": 10,
    "start_time": "2021-12-29T19:04:13.300Z"
   },
   {
    "duration": 25,
    "start_time": "2021-12-29T19:04:13.316Z"
   },
   {
    "duration": 26,
    "start_time": "2021-12-29T19:04:13.344Z"
   },
   {
    "duration": 13,
    "start_time": "2021-12-29T19:04:13.373Z"
   },
   {
    "duration": 24,
    "start_time": "2021-12-29T19:04:13.389Z"
   },
   {
    "duration": 9,
    "start_time": "2021-12-29T19:04:13.416Z"
   },
   {
    "duration": 65,
    "start_time": "2021-12-29T19:04:13.428Z"
   },
   {
    "duration": 12,
    "start_time": "2021-12-29T19:04:13.496Z"
   },
   {
    "duration": 312,
    "start_time": "2021-12-29T19:04:13.511Z"
   },
   {
    "duration": 63,
    "start_time": "2021-12-29T19:04:13.826Z"
   },
   {
    "duration": 21,
    "start_time": "2021-12-29T19:04:13.892Z"
   },
   {
    "duration": 47,
    "start_time": "2021-12-29T19:04:13.916Z"
   },
   {
    "duration": 1048,
    "start_time": "2021-12-29T19:04:13.966Z"
   },
   {
    "duration": 11,
    "start_time": "2021-12-29T19:04:15.016Z"
   },
   {
    "duration": 36,
    "start_time": "2021-12-29T19:04:15.030Z"
   },
   {
    "duration": 138,
    "start_time": "2021-12-29T19:04:15.069Z"
   },
   {
    "duration": 24,
    "start_time": "2021-12-29T19:04:15.210Z"
   },
   {
    "duration": 51,
    "start_time": "2021-12-29T19:04:15.237Z"
   },
   {
    "duration": 43,
    "start_time": "2021-12-29T19:04:15.291Z"
   },
   {
    "duration": 39,
    "start_time": "2021-12-29T19:04:15.337Z"
   },
   {
    "duration": 105,
    "start_time": "2021-12-29T19:04:15.379Z"
   },
   {
    "duration": 10,
    "start_time": "2021-12-29T19:04:15.486Z"
   },
   {
    "duration": 11,
    "start_time": "2021-12-29T19:04:15.498Z"
   },
   {
    "duration": 15,
    "start_time": "2021-12-29T19:04:15.512Z"
   },
   {
    "duration": 10,
    "start_time": "2021-12-29T19:04:15.562Z"
   },
   {
    "duration": 150,
    "start_time": "2021-12-29T19:04:15.575Z"
   },
   {
    "duration": 39,
    "start_time": "2021-12-29T19:04:15.727Z"
   },
   {
    "duration": 9,
    "start_time": "2021-12-29T19:04:15.768Z"
   },
   {
    "duration": 52,
    "start_time": "2021-12-29T19:04:15.780Z"
   },
   {
    "duration": 39,
    "start_time": "2021-12-29T19:04:15.835Z"
   },
   {
    "duration": 33,
    "start_time": "2021-12-29T19:04:15.877Z"
   },
   {
    "duration": 65,
    "start_time": "2021-12-29T19:04:15.912Z"
   },
   {
    "duration": 9,
    "start_time": "2021-12-29T19:04:15.980Z"
   },
   {
    "duration": 11,
    "start_time": "2021-12-29T19:04:15.992Z"
   },
   {
    "duration": 186,
    "start_time": "2021-12-29T19:04:16.005Z"
   },
   {
    "duration": 17,
    "start_time": "2021-12-29T19:04:16.193Z"
   },
   {
    "duration": 52,
    "start_time": "2021-12-29T19:04:16.212Z"
   },
   {
    "duration": 24,
    "start_time": "2021-12-29T19:04:16.272Z"
   },
   {
    "duration": 15,
    "start_time": "2021-12-29T19:04:16.300Z"
   },
   {
    "duration": 54,
    "start_time": "2021-12-29T19:04:16.319Z"
   },
   {
    "duration": 49,
    "start_time": "2021-12-29T19:04:16.376Z"
   },
   {
    "duration": 43,
    "start_time": "2021-12-29T19:04:16.428Z"
   },
   {
    "duration": 146,
    "start_time": "2021-12-29T19:04:16.474Z"
   },
   {
    "duration": 25,
    "start_time": "2021-12-29T19:04:16.623Z"
   },
   {
    "duration": 29,
    "start_time": "2021-12-29T19:04:16.664Z"
   },
   {
    "duration": 103,
    "start_time": "2021-12-29T19:04:16.696Z"
   },
   {
    "duration": 10,
    "start_time": "2021-12-29T19:04:16.801Z"
   },
   {
    "duration": 58,
    "start_time": "2021-12-29T19:04:16.813Z"
   },
   {
    "duration": 8,
    "start_time": "2021-12-29T19:04:16.873Z"
   },
   {
    "duration": 34,
    "start_time": "2021-12-29T19:04:16.884Z"
   },
   {
    "duration": 7,
    "start_time": "2021-12-29T19:04:16.920Z"
   },
   {
    "duration": 52,
    "start_time": "2021-12-29T19:04:16.930Z"
   },
   {
    "duration": 8,
    "start_time": "2021-12-29T19:04:16.984Z"
   },
   {
    "duration": 25,
    "start_time": "2021-12-29T19:04:16.994Z"
   },
   {
    "duration": 51,
    "start_time": "2021-12-29T19:04:17.021Z"
   },
   {
    "duration": 29,
    "start_time": "2021-12-29T19:04:17.075Z"
   },
   {
    "duration": 16,
    "start_time": "2021-12-29T19:04:17.107Z"
   },
   {
    "duration": 45,
    "start_time": "2021-12-29T19:04:17.126Z"
   },
   {
    "duration": 1023,
    "start_time": "2021-12-29T19:04:17.174Z"
   },
   {
    "duration": 28,
    "start_time": "2021-12-29T19:04:18.200Z"
   },
   {
    "duration": 43,
    "start_time": "2021-12-29T19:04:18.232Z"
   },
   {
    "duration": 11,
    "start_time": "2021-12-29T19:04:18.278Z"
   },
   {
    "duration": 36,
    "start_time": "2021-12-29T19:04:18.291Z"
   },
   {
    "duration": 40,
    "start_time": "2021-12-29T19:04:18.330Z"
   },
   {
    "duration": 12,
    "start_time": "2021-12-29T19:04:18.374Z"
   },
   {
    "duration": 13,
    "start_time": "2021-12-29T19:04:18.389Z"
   },
   {
    "duration": 18,
    "start_time": "2021-12-29T19:04:18.405Z"
   },
   {
    "duration": 816,
    "start_time": "2021-12-29T19:04:18.463Z"
   },
   {
    "duration": 569,
    "start_time": "2021-12-29T19:04:19.283Z"
   },
   {
    "duration": 546,
    "start_time": "2021-12-29T19:04:19.854Z"
   },
   {
    "duration": 14,
    "start_time": "2021-12-29T19:04:20.402Z"
   },
   {
    "duration": 356,
    "start_time": "2021-12-29T19:04:20.418Z"
   },
   {
    "duration": 350,
    "start_time": "2021-12-29T19:04:20.777Z"
   },
   {
    "duration": 348,
    "start_time": "2021-12-29T19:04:21.130Z"
   },
   {
    "duration": 4,
    "start_time": "2021-12-29T19:04:21.481Z"
   },
   {
    "duration": 9,
    "start_time": "2021-12-29T19:04:21.488Z"
   },
   {
    "duration": 14,
    "start_time": "2021-12-29T19:04:21.499Z"
   },
   {
    "duration": 52,
    "start_time": "2021-12-29T19:04:21.516Z"
   },
   {
    "duration": 8,
    "start_time": "2021-12-29T19:04:21.572Z"
   },
   {
    "duration": 536,
    "start_time": "2021-12-29T19:04:52.779Z"
   },
   {
    "duration": 432,
    "start_time": "2021-12-29T19:04:58.833Z"
   },
   {
    "duration": 328,
    "start_time": "2021-12-29T19:05:05.288Z"
   },
   {
    "duration": 421,
    "start_time": "2021-12-29T19:05:19.602Z"
   },
   {
    "duration": 318,
    "start_time": "2021-12-29T19:05:25.537Z"
   },
   {
    "duration": 4,
    "start_time": "2021-12-29T19:05:34.141Z"
   },
   {
    "duration": 36,
    "start_time": "2021-12-29T19:05:34.148Z"
   },
   {
    "duration": 4,
    "start_time": "2021-12-29T19:05:34.187Z"
   },
   {
    "duration": 30,
    "start_time": "2021-12-29T19:05:34.194Z"
   },
   {
    "duration": 286,
    "start_time": "2021-12-29T19:05:34.227Z"
   },
   {
    "duration": 85,
    "start_time": "2021-12-29T19:05:34.516Z"
   },
   {
    "duration": 121,
    "start_time": "2021-12-29T19:05:34.605Z"
   },
   {
    "duration": 43,
    "start_time": "2021-12-29T19:05:34.729Z"
   },
   {
    "duration": 171,
    "start_time": "2021-12-29T19:05:34.774Z"
   },
   {
    "duration": 58,
    "start_time": "2021-12-29T19:05:34.948Z"
   },
   {
    "duration": 22,
    "start_time": "2021-12-29T19:05:35.009Z"
   },
   {
    "duration": 35,
    "start_time": "2021-12-29T19:05:35.034Z"
   },
   {
    "duration": 9,
    "start_time": "2021-12-29T19:05:35.073Z"
   },
   {
    "duration": 15,
    "start_time": "2021-12-29T19:05:35.085Z"
   },
   {
    "duration": 8,
    "start_time": "2021-12-29T19:05:35.103Z"
   },
   {
    "duration": 54,
    "start_time": "2021-12-29T19:05:35.114Z"
   },
   {
    "duration": 12,
    "start_time": "2021-12-29T19:05:35.170Z"
   },
   {
    "duration": 10,
    "start_time": "2021-12-29T19:05:35.184Z"
   },
   {
    "duration": 8,
    "start_time": "2021-12-29T19:05:35.199Z"
   },
   {
    "duration": 9,
    "start_time": "2021-12-29T19:05:35.211Z"
   },
   {
    "duration": 10,
    "start_time": "2021-12-29T19:05:35.264Z"
   },
   {
    "duration": 10,
    "start_time": "2021-12-29T19:05:35.276Z"
   },
   {
    "duration": 9,
    "start_time": "2021-12-29T19:05:35.288Z"
   },
   {
    "duration": 75,
    "start_time": "2021-12-29T19:05:35.300Z"
   },
   {
    "duration": 10,
    "start_time": "2021-12-29T19:05:35.378Z"
   },
   {
    "duration": 310,
    "start_time": "2021-12-29T19:05:35.391Z"
   },
   {
    "duration": 63,
    "start_time": "2021-12-29T19:05:35.704Z"
   },
   {
    "duration": 19,
    "start_time": "2021-12-29T19:05:35.769Z"
   },
   {
    "duration": 13,
    "start_time": "2021-12-29T19:05:35.791Z"
   },
   {
    "duration": 970,
    "start_time": "2021-12-29T19:05:35.806Z"
   },
   {
    "duration": 11,
    "start_time": "2021-12-29T19:05:36.778Z"
   },
   {
    "duration": 10,
    "start_time": "2021-12-29T19:05:36.791Z"
   },
   {
    "duration": 153,
    "start_time": "2021-12-29T19:05:36.803Z"
   },
   {
    "duration": 23,
    "start_time": "2021-12-29T19:05:36.958Z"
   },
   {
    "duration": 20,
    "start_time": "2021-12-29T19:05:36.984Z"
   },
   {
    "duration": 63,
    "start_time": "2021-12-29T19:05:37.007Z"
   },
   {
    "duration": 16,
    "start_time": "2021-12-29T19:05:37.073Z"
   },
   {
    "duration": 108,
    "start_time": "2021-12-29T19:05:37.092Z"
   },
   {
    "duration": 10,
    "start_time": "2021-12-29T19:05:37.202Z"
   },
   {
    "duration": 10,
    "start_time": "2021-12-29T19:05:37.214Z"
   },
   {
    "duration": 44,
    "start_time": "2021-12-29T19:05:37.226Z"
   },
   {
    "duration": 10,
    "start_time": "2021-12-29T19:05:37.272Z"
   },
   {
    "duration": 148,
    "start_time": "2021-12-29T19:05:37.285Z"
   },
   {
    "duration": 37,
    "start_time": "2021-12-29T19:05:37.436Z"
   },
   {
    "duration": 9,
    "start_time": "2021-12-29T19:05:37.476Z"
   },
   {
    "duration": 77,
    "start_time": "2021-12-29T19:05:37.488Z"
   },
   {
    "duration": 17,
    "start_time": "2021-12-29T19:05:37.567Z"
   },
   {
    "duration": 34,
    "start_time": "2021-12-29T19:05:37.587Z"
   },
   {
    "duration": 66,
    "start_time": "2021-12-29T19:05:37.623Z"
   },
   {
    "duration": 10,
    "start_time": "2021-12-29T19:05:37.692Z"
   },
   {
    "duration": 11,
    "start_time": "2021-12-29T19:05:37.705Z"
   },
   {
    "duration": 182,
    "start_time": "2021-12-29T19:05:37.718Z"
   },
   {
    "duration": 17,
    "start_time": "2021-12-29T19:05:37.903Z"
   },
   {
    "duration": 46,
    "start_time": "2021-12-29T19:05:37.922Z"
   },
   {
    "duration": 25,
    "start_time": "2021-12-29T19:05:37.976Z"
   },
   {
    "duration": 16,
    "start_time": "2021-12-29T19:05:38.005Z"
   },
   {
    "duration": 47,
    "start_time": "2021-12-29T19:05:38.024Z"
   },
   {
    "duration": 34,
    "start_time": "2021-12-29T19:05:38.073Z"
   },
   {
    "duration": 11,
    "start_time": "2021-12-29T19:05:38.110Z"
   },
   {
    "duration": 141,
    "start_time": "2021-12-29T19:05:38.123Z"
   },
   {
    "duration": 15,
    "start_time": "2021-12-29T19:05:38.266Z"
   },
   {
    "duration": 30,
    "start_time": "2021-12-29T19:05:38.284Z"
   },
   {
    "duration": 78,
    "start_time": "2021-12-29T19:05:38.316Z"
   },
   {
    "duration": 11,
    "start_time": "2021-12-29T19:05:38.396Z"
   },
   {
    "duration": 61,
    "start_time": "2021-12-29T19:05:38.410Z"
   },
   {
    "duration": 9,
    "start_time": "2021-12-29T19:05:38.474Z"
   },
   {
    "duration": 137,
    "start_time": "2021-12-29T19:05:38.487Z"
   },
   {
    "duration": 9,
    "start_time": "2021-12-29T19:05:38.626Z"
   },
   {
    "duration": 43,
    "start_time": "2021-12-29T19:05:38.638Z"
   },
   {
    "duration": 8,
    "start_time": "2021-12-29T19:05:38.684Z"
   },
   {
    "duration": 26,
    "start_time": "2021-12-29T19:05:38.696Z"
   },
   {
    "duration": 55,
    "start_time": "2021-12-29T19:05:38.725Z"
   },
   {
    "duration": 23,
    "start_time": "2021-12-29T19:05:38.783Z"
   },
   {
    "duration": 14,
    "start_time": "2021-12-29T19:05:38.809Z"
   },
   {
    "duration": 11,
    "start_time": "2021-12-29T19:05:38.864Z"
   },
   {
    "duration": 684,
    "start_time": "2021-12-29T19:05:38.878Z"
   },
   {
    "duration": 24,
    "start_time": "2021-12-29T19:05:39.565Z"
   },
   {
    "duration": 19,
    "start_time": "2021-12-29T19:05:39.592Z"
   },
   {
    "duration": 11,
    "start_time": "2021-12-29T19:05:39.613Z"
   },
   {
    "duration": 67,
    "start_time": "2021-12-29T19:05:39.627Z"
   },
   {
    "duration": 9,
    "start_time": "2021-12-29T19:05:39.697Z"
   },
   {
    "duration": 11,
    "start_time": "2021-12-29T19:05:39.710Z"
   },
   {
    "duration": 48,
    "start_time": "2021-12-29T19:05:39.724Z"
   },
   {
    "duration": 17,
    "start_time": "2021-12-29T19:05:39.775Z"
   },
   {
    "duration": 541,
    "start_time": "2021-12-29T19:05:39.795Z"
   },
   {
    "duration": 549,
    "start_time": "2021-12-29T19:05:40.339Z"
   },
   {
    "duration": 446,
    "start_time": "2021-12-29T19:05:40.891Z"
   },
   {
    "duration": 29,
    "start_time": "2021-12-29T19:05:41.340Z"
   },
   {
    "duration": 349,
    "start_time": "2021-12-29T19:05:41.371Z"
   },
   {
    "duration": 343,
    "start_time": "2021-12-29T19:05:41.722Z"
   },
   {
    "duration": 326,
    "start_time": "2021-12-29T19:05:42.068Z"
   },
   {
    "duration": 4,
    "start_time": "2021-12-29T19:05:42.397Z"
   },
   {
    "duration": 8,
    "start_time": "2021-12-29T19:05:42.403Z"
   },
   {
    "duration": 6,
    "start_time": "2021-12-29T19:05:42.414Z"
   },
   {
    "duration": 46,
    "start_time": "2021-12-29T19:05:42.422Z"
   },
   {
    "duration": 6,
    "start_time": "2021-12-29T19:05:42.471Z"
   },
   {
    "duration": 716,
    "start_time": "2021-12-29T19:13:56.634Z"
   },
   {
    "duration": 433,
    "start_time": "2021-12-29T19:14:04.793Z"
   },
   {
    "duration": 6,
    "start_time": "2021-12-29T19:15:42.800Z"
   },
   {
    "duration": 38,
    "start_time": "2021-12-29T19:15:42.810Z"
   },
   {
    "duration": 5,
    "start_time": "2021-12-29T19:15:42.852Z"
   },
   {
    "duration": 35,
    "start_time": "2021-12-29T19:15:42.859Z"
   },
   {
    "duration": 220,
    "start_time": "2021-12-29T19:15:42.897Z"
   },
   {
    "duration": 68,
    "start_time": "2021-12-29T19:15:43.120Z"
   },
   {
    "duration": 117,
    "start_time": "2021-12-29T19:15:43.191Z"
   },
   {
    "duration": 48,
    "start_time": "2021-12-29T19:15:43.311Z"
   },
   {
    "duration": 211,
    "start_time": "2021-12-29T19:15:43.365Z"
   },
   {
    "duration": 70,
    "start_time": "2021-12-29T19:15:43.579Z"
   },
   {
    "duration": 21,
    "start_time": "2021-12-29T19:15:43.651Z"
   },
   {
    "duration": 16,
    "start_time": "2021-12-29T19:15:43.675Z"
   },
   {
    "duration": 7,
    "start_time": "2021-12-29T19:15:43.694Z"
   },
   {
    "duration": 16,
    "start_time": "2021-12-29T19:15:43.703Z"
   },
   {
    "duration": 6,
    "start_time": "2021-12-29T19:15:43.722Z"
   },
   {
    "duration": 42,
    "start_time": "2021-12-29T19:15:43.731Z"
   },
   {
    "duration": 9,
    "start_time": "2021-12-29T19:15:43.775Z"
   },
   {
    "duration": 11,
    "start_time": "2021-12-29T19:15:43.786Z"
   },
   {
    "duration": 65,
    "start_time": "2021-12-29T19:15:43.800Z"
   },
   {
    "duration": 14,
    "start_time": "2021-12-29T19:15:43.868Z"
   },
   {
    "duration": 10,
    "start_time": "2021-12-29T19:15:43.884Z"
   },
   {
    "duration": 66,
    "start_time": "2021-12-29T19:15:43.897Z"
   },
   {
    "duration": 11,
    "start_time": "2021-12-29T19:15:43.965Z"
   },
   {
    "duration": 41,
    "start_time": "2021-12-29T19:15:43.979Z"
   },
   {
    "duration": 11,
    "start_time": "2021-12-29T19:15:44.064Z"
   },
   {
    "duration": 356,
    "start_time": "2021-12-29T19:15:44.078Z"
   },
   {
    "duration": 52,
    "start_time": "2021-12-29T19:15:44.443Z"
   },
   {
    "duration": 21,
    "start_time": "2021-12-29T19:15:44.500Z"
   },
   {
    "duration": 44,
    "start_time": "2021-12-29T19:15:44.524Z"
   },
   {
    "duration": 1093,
    "start_time": "2021-12-29T19:15:44.571Z"
   },
   {
    "duration": 12,
    "start_time": "2021-12-29T19:15:45.666Z"
   },
   {
    "duration": 12,
    "start_time": "2021-12-29T19:15:45.681Z"
   },
   {
    "duration": 166,
    "start_time": "2021-12-29T19:15:45.696Z"
   },
   {
    "duration": 24,
    "start_time": "2021-12-29T19:15:45.864Z"
   },
   {
    "duration": 25,
    "start_time": "2021-12-29T19:15:45.890Z"
   },
   {
    "duration": 63,
    "start_time": "2021-12-29T19:15:45.917Z"
   },
   {
    "duration": 16,
    "start_time": "2021-12-29T19:15:45.983Z"
   },
   {
    "duration": 112,
    "start_time": "2021-12-29T19:15:46.001Z"
   },
   {
    "duration": 10,
    "start_time": "2021-12-29T19:15:46.116Z"
   },
   {
    "duration": 34,
    "start_time": "2021-12-29T19:15:46.129Z"
   },
   {
    "duration": 23,
    "start_time": "2021-12-29T19:15:46.166Z"
   },
   {
    "duration": 14,
    "start_time": "2021-12-29T19:15:46.192Z"
   },
   {
    "duration": 163,
    "start_time": "2021-12-29T19:15:46.210Z"
   },
   {
    "duration": 39,
    "start_time": "2021-12-29T19:15:46.375Z"
   },
   {
    "duration": 9,
    "start_time": "2021-12-29T19:15:46.416Z"
   },
   {
    "duration": 72,
    "start_time": "2021-12-29T19:15:46.428Z"
   },
   {
    "duration": 16,
    "start_time": "2021-12-29T19:15:46.503Z"
   },
   {
    "duration": 53,
    "start_time": "2021-12-29T19:15:46.522Z"
   },
   {
    "duration": 42,
    "start_time": "2021-12-29T19:15:46.578Z"
   },
   {
    "duration": 10,
    "start_time": "2021-12-29T19:15:46.622Z"
   },
   {
    "duration": 37,
    "start_time": "2021-12-29T19:15:46.634Z"
   },
   {
    "duration": 158,
    "start_time": "2021-12-29T19:15:46.674Z"
   },
   {
    "duration": 31,
    "start_time": "2021-12-29T19:15:46.834Z"
   },
   {
    "duration": 26,
    "start_time": "2021-12-29T19:15:46.867Z"
   },
   {
    "duration": 25,
    "start_time": "2021-12-29T19:15:46.895Z"
   },
   {
    "duration": 44,
    "start_time": "2021-12-29T19:15:46.922Z"
   },
   {
    "duration": 17,
    "start_time": "2021-12-29T19:15:46.968Z"
   },
   {
    "duration": 30,
    "start_time": "2021-12-29T19:15:46.988Z"
   },
   {
    "duration": 47,
    "start_time": "2021-12-29T19:15:47.021Z"
   },
   {
    "duration": 107,
    "start_time": "2021-12-29T19:15:47.071Z"
   },
   {
    "duration": 18,
    "start_time": "2021-12-29T19:15:47.181Z"
   },
   {
    "duration": 23,
    "start_time": "2021-12-29T19:15:47.202Z"
   },
   {
    "duration": 80,
    "start_time": "2021-12-29T19:15:47.227Z"
   },
   {
    "duration": 11,
    "start_time": "2021-12-29T19:15:47.309Z"
   },
   {
    "duration": 83,
    "start_time": "2021-12-29T19:15:47.323Z"
   },
   {
    "duration": 11,
    "start_time": "2021-12-29T19:15:47.409Z"
   },
   {
    "duration": 80,
    "start_time": "2021-12-29T19:15:47.423Z"
   },
   {
    "duration": 9,
    "start_time": "2021-12-29T19:15:47.507Z"
   },
   {
    "duration": 25,
    "start_time": "2021-12-29T19:15:47.519Z"
   },
   {
    "duration": 8,
    "start_time": "2021-12-29T19:15:47.564Z"
   },
   {
    "duration": 27,
    "start_time": "2021-12-29T19:15:47.575Z"
   },
   {
    "duration": 20,
    "start_time": "2021-12-29T19:15:47.605Z"
   },
   {
    "duration": 23,
    "start_time": "2021-12-29T19:15:47.662Z"
   },
   {
    "duration": 12,
    "start_time": "2021-12-29T19:15:47.687Z"
   },
   {
    "duration": 10,
    "start_time": "2021-12-29T19:15:47.701Z"
   },
   {
    "duration": 597,
    "start_time": "2021-12-29T19:15:47.714Z"
   },
   {
    "duration": 24,
    "start_time": "2021-12-29T19:15:48.314Z"
   },
   {
    "duration": 37,
    "start_time": "2021-12-29T19:15:48.340Z"
   },
   {
    "duration": 12,
    "start_time": "2021-12-29T19:15:48.379Z"
   },
   {
    "duration": 33,
    "start_time": "2021-12-29T19:15:48.394Z"
   },
   {
    "duration": 13,
    "start_time": "2021-12-29T19:15:48.467Z"
   },
   {
    "duration": 10,
    "start_time": "2021-12-29T19:15:48.483Z"
   },
   {
    "duration": 11,
    "start_time": "2021-12-29T19:15:48.496Z"
   },
   {
    "duration": 53,
    "start_time": "2021-12-29T19:15:48.510Z"
   },
   {
    "duration": 622,
    "start_time": "2021-12-29T19:15:48.566Z"
   },
   {
    "duration": 566,
    "start_time": "2021-12-29T19:15:49.192Z"
   },
   {
    "duration": 544,
    "start_time": "2021-12-29T19:15:49.764Z"
   },
   {
    "duration": 13,
    "start_time": "2021-12-29T19:15:50.311Z"
   },
   {
    "duration": 354,
    "start_time": "2021-12-29T19:15:50.327Z"
   },
   {
    "duration": 342,
    "start_time": "2021-12-29T19:15:50.684Z"
   },
   {
    "duration": 350,
    "start_time": "2021-12-29T19:15:51.028Z"
   },
   {
    "duration": 4,
    "start_time": "2021-12-29T19:15:51.381Z"
   },
   {
    "duration": 9,
    "start_time": "2021-12-29T19:15:51.388Z"
   },
   {
    "duration": 7,
    "start_time": "2021-12-29T19:15:51.400Z"
   },
   {
    "duration": 52,
    "start_time": "2021-12-29T19:15:51.411Z"
   },
   {
    "duration": 8,
    "start_time": "2021-12-29T19:15:51.466Z"
   },
   {
    "duration": 105,
    "start_time": "2021-12-29T19:17:37.725Z"
   },
   {
    "duration": 104,
    "start_time": "2021-12-29T19:17:43.356Z"
   },
   {
    "duration": 364,
    "start_time": "2021-12-29T19:17:48.484Z"
   },
   {
    "duration": 1563,
    "start_time": "2021-12-29T19:17:57.594Z"
   },
   {
    "duration": 36,
    "start_time": "2021-12-29T19:17:59.160Z"
   },
   {
    "duration": 4,
    "start_time": "2021-12-29T19:17:59.201Z"
   },
   {
    "duration": 34,
    "start_time": "2021-12-29T19:17:59.209Z"
   },
   {
    "duration": 270,
    "start_time": "2021-12-29T19:17:59.262Z"
   },
   {
    "duration": 63,
    "start_time": "2021-12-29T19:17:59.535Z"
   },
   {
    "duration": 133,
    "start_time": "2021-12-29T19:17:59.601Z"
   },
   {
    "duration": 44,
    "start_time": "2021-12-29T19:17:59.738Z"
   },
   {
    "duration": 262,
    "start_time": "2021-12-29T19:17:59.785Z"
   },
   {
    "duration": 89,
    "start_time": "2021-12-29T19:18:00.050Z"
   },
   {
    "duration": 23,
    "start_time": "2021-12-29T19:18:00.142Z"
   },
   {
    "duration": 28,
    "start_time": "2021-12-29T19:18:00.167Z"
   },
   {
    "duration": 20,
    "start_time": "2021-12-29T19:18:00.197Z"
   },
   {
    "duration": 20,
    "start_time": "2021-12-29T19:18:00.220Z"
   },
   {
    "duration": 44,
    "start_time": "2021-12-29T19:18:00.242Z"
   },
   {
    "duration": 13,
    "start_time": "2021-12-29T19:18:00.288Z"
   },
   {
    "duration": 11,
    "start_time": "2021-12-29T19:18:00.303Z"
   },
   {
    "duration": 18,
    "start_time": "2021-12-29T19:18:00.317Z"
   },
   {
    "duration": 24,
    "start_time": "2021-12-29T19:18:00.338Z"
   },
   {
    "duration": 21,
    "start_time": "2021-12-29T19:18:00.364Z"
   },
   {
    "duration": 15,
    "start_time": "2021-12-29T19:18:00.387Z"
   },
   {
    "duration": 16,
    "start_time": "2021-12-29T19:18:00.405Z"
   },
   {
    "duration": 15,
    "start_time": "2021-12-29T19:18:00.428Z"
   },
   {
    "duration": 55,
    "start_time": "2021-12-29T19:18:00.447Z"
   },
   {
    "duration": 11,
    "start_time": "2021-12-29T19:18:00.505Z"
   },
   {
    "duration": 598,
    "start_time": "2021-12-29T19:18:00.519Z"
   },
   {
    "duration": 57,
    "start_time": "2021-12-29T19:18:01.120Z"
   },
   {
    "duration": 19,
    "start_time": "2021-12-29T19:18:01.180Z"
   },
   {
    "duration": 15,
    "start_time": "2021-12-29T19:18:01.202Z"
   },
   {
    "duration": 945,
    "start_time": "2021-12-29T19:18:01.219Z"
   },
   {
    "duration": 11,
    "start_time": "2021-12-29T19:18:02.166Z"
   },
   {
    "duration": 12,
    "start_time": "2021-12-29T19:18:02.179Z"
   },
   {
    "duration": 175,
    "start_time": "2021-12-29T19:18:02.193Z"
   },
   {
    "duration": 25,
    "start_time": "2021-12-29T19:18:02.370Z"
   },
   {
    "duration": 20,
    "start_time": "2021-12-29T19:18:02.398Z"
   },
   {
    "duration": 62,
    "start_time": "2021-12-29T19:18:02.420Z"
   },
   {
    "duration": 17,
    "start_time": "2021-12-29T19:18:02.484Z"
   },
   {
    "duration": 118,
    "start_time": "2021-12-29T19:18:02.503Z"
   },
   {
    "duration": 10,
    "start_time": "2021-12-29T19:18:02.624Z"
   },
   {
    "duration": 35,
    "start_time": "2021-12-29T19:18:02.636Z"
   },
   {
    "duration": 23,
    "start_time": "2021-12-29T19:18:02.673Z"
   },
   {
    "duration": 15,
    "start_time": "2021-12-29T19:18:02.698Z"
   },
   {
    "duration": 170,
    "start_time": "2021-12-29T19:18:02.716Z"
   },
   {
    "duration": 28,
    "start_time": "2021-12-29T19:18:02.889Z"
   },
   {
    "duration": 9,
    "start_time": "2021-12-29T19:18:02.920Z"
   },
   {
    "duration": 86,
    "start_time": "2021-12-29T19:18:02.932Z"
   },
   {
    "duration": 15,
    "start_time": "2021-12-29T19:18:03.020Z"
   },
   {
    "duration": 50,
    "start_time": "2021-12-29T19:18:03.038Z"
   },
   {
    "duration": 43,
    "start_time": "2021-12-29T19:18:03.091Z"
   },
   {
    "duration": 36,
    "start_time": "2021-12-29T19:18:03.137Z"
   },
   {
    "duration": 22,
    "start_time": "2021-12-29T19:18:03.175Z"
   },
   {
    "duration": 177,
    "start_time": "2021-12-29T19:18:03.199Z"
   },
   {
    "duration": 18,
    "start_time": "2021-12-29T19:18:03.379Z"
   },
   {
    "duration": 28,
    "start_time": "2021-12-29T19:18:03.399Z"
   },
   {
    "duration": 55,
    "start_time": "2021-12-29T19:18:03.429Z"
   },
   {
    "duration": 18,
    "start_time": "2021-12-29T19:18:03.487Z"
   },
   {
    "duration": 56,
    "start_time": "2021-12-29T19:18:03.508Z"
   },
   {
    "duration": 34,
    "start_time": "2021-12-29T19:18:03.567Z"
   },
   {
    "duration": 10,
    "start_time": "2021-12-29T19:18:03.603Z"
   },
   {
    "duration": 138,
    "start_time": "2021-12-29T19:18:03.615Z"
   },
   {
    "duration": 15,
    "start_time": "2021-12-29T19:18:03.755Z"
   },
   {
    "duration": 24,
    "start_time": "2021-12-29T19:18:03.773Z"
   },
   {
    "duration": 84,
    "start_time": "2021-12-29T19:18:03.799Z"
   },
   {
    "duration": 10,
    "start_time": "2021-12-29T19:18:03.885Z"
   },
   {
    "duration": 35,
    "start_time": "2021-12-29T19:18:03.898Z"
   },
   {
    "duration": 32,
    "start_time": "2021-12-29T19:18:03.935Z"
   },
   {
    "duration": 100,
    "start_time": "2021-12-29T19:18:03.969Z"
   },
   {
    "duration": 7,
    "start_time": "2021-12-29T19:18:04.077Z"
   },
   {
    "duration": 25,
    "start_time": "2021-12-29T19:18:04.087Z"
   },
   {
    "duration": 7,
    "start_time": "2021-12-29T19:18:04.114Z"
   },
   {
    "duration": 53,
    "start_time": "2021-12-29T19:18:04.124Z"
   },
   {
    "duration": 21,
    "start_time": "2021-12-29T19:18:04.181Z"
   },
   {
    "duration": 23,
    "start_time": "2021-12-29T19:18:04.205Z"
   },
   {
    "duration": 13,
    "start_time": "2021-12-29T19:18:04.264Z"
   },
   {
    "duration": 9,
    "start_time": "2021-12-29T19:18:04.280Z"
   },
   {
    "duration": 537,
    "start_time": "2021-12-29T19:18:04.292Z"
   },
   {
    "duration": 22,
    "start_time": "2021-12-29T19:18:04.832Z"
   },
   {
    "duration": 19,
    "start_time": "2021-12-29T19:18:04.863Z"
   },
   {
    "duration": 10,
    "start_time": "2021-12-29T19:18:04.885Z"
   },
   {
    "duration": 69,
    "start_time": "2021-12-29T19:18:04.897Z"
   },
   {
    "duration": 11,
    "start_time": "2021-12-29T19:18:04.968Z"
   },
   {
    "duration": 13,
    "start_time": "2021-12-29T19:18:04.982Z"
   },
   {
    "duration": 15,
    "start_time": "2021-12-29T19:18:04.998Z"
   },
   {
    "duration": 53,
    "start_time": "2021-12-29T19:18:05.016Z"
   },
   {
    "duration": 522,
    "start_time": "2021-12-29T19:18:05.071Z"
   },
   {
    "duration": 549,
    "start_time": "2021-12-29T19:18:05.596Z"
   },
   {
    "duration": 491,
    "start_time": "2021-12-29T19:18:06.148Z"
   },
   {
    "duration": 28,
    "start_time": "2021-12-29T19:18:06.643Z"
   },
   {
    "duration": 359,
    "start_time": "2021-12-29T19:18:06.674Z"
   },
   {
    "duration": 356,
    "start_time": "2021-12-29T19:18:07.037Z"
   },
   {
    "duration": 342,
    "start_time": "2021-12-29T19:18:07.397Z"
   },
   {
    "duration": 4,
    "start_time": "2021-12-29T19:18:07.742Z"
   },
   {
    "duration": 22,
    "start_time": "2021-12-29T19:18:07.749Z"
   },
   {
    "duration": 6,
    "start_time": "2021-12-29T19:18:07.774Z"
   },
   {
    "duration": 12,
    "start_time": "2021-12-29T19:18:07.783Z"
   },
   {
    "duration": 8,
    "start_time": "2021-12-29T19:18:07.797Z"
   },
   {
    "duration": 4,
    "start_time": "2021-12-29T19:20:41.181Z"
   },
   {
    "duration": 34,
    "start_time": "2021-12-29T19:20:41.189Z"
   },
   {
    "duration": 5,
    "start_time": "2021-12-29T19:20:41.227Z"
   },
   {
    "duration": 42,
    "start_time": "2021-12-29T19:20:41.236Z"
   },
   {
    "duration": 297,
    "start_time": "2021-12-29T19:20:41.280Z"
   },
   {
    "duration": 62,
    "start_time": "2021-12-29T19:20:41.580Z"
   },
   {
    "duration": 119,
    "start_time": "2021-12-29T19:20:41.665Z"
   },
   {
    "duration": 37,
    "start_time": "2021-12-29T19:20:41.787Z"
   },
   {
    "duration": 188,
    "start_time": "2021-12-29T19:20:41.827Z"
   },
   {
    "duration": 70,
    "start_time": "2021-12-29T19:20:42.017Z"
   },
   {
    "duration": 21,
    "start_time": "2021-12-29T19:20:42.091Z"
   },
   {
    "duration": 13,
    "start_time": "2021-12-29T19:20:42.115Z"
   },
   {
    "duration": 32,
    "start_time": "2021-12-29T19:20:42.131Z"
   },
   {
    "duration": 18,
    "start_time": "2021-12-29T19:20:42.167Z"
   },
   {
    "duration": 6,
    "start_time": "2021-12-29T19:20:42.188Z"
   },
   {
    "duration": 12,
    "start_time": "2021-12-29T19:20:42.196Z"
   },
   {
    "duration": 7,
    "start_time": "2021-12-29T19:20:42.211Z"
   },
   {
    "duration": 15,
    "start_time": "2021-12-29T19:20:42.264Z"
   },
   {
    "duration": 9,
    "start_time": "2021-12-29T19:20:42.285Z"
   },
   {
    "duration": 9,
    "start_time": "2021-12-29T19:20:42.298Z"
   },
   {
    "duration": 10,
    "start_time": "2021-12-29T19:20:42.309Z"
   },
   {
    "duration": 47,
    "start_time": "2021-12-29T19:20:42.322Z"
   },
   {
    "duration": 14,
    "start_time": "2021-12-29T19:20:42.372Z"
   },
   {
    "duration": 73,
    "start_time": "2021-12-29T19:20:42.390Z"
   },
   {
    "duration": 11,
    "start_time": "2021-12-29T19:20:42.466Z"
   },
   {
    "duration": 353,
    "start_time": "2021-12-29T19:20:42.480Z"
   },
   {
    "duration": 50,
    "start_time": "2021-12-29T19:20:42.836Z"
   },
   {
    "duration": 19,
    "start_time": "2021-12-29T19:20:42.888Z"
   },
   {
    "duration": 13,
    "start_time": "2021-12-29T19:20:42.910Z"
   },
   {
    "duration": 1176,
    "start_time": "2021-12-29T19:20:42.926Z"
   },
   {
    "duration": 12,
    "start_time": "2021-12-29T19:20:44.105Z"
   },
   {
    "duration": 15,
    "start_time": "2021-12-29T19:20:44.119Z"
   },
   {
    "duration": 138,
    "start_time": "2021-12-29T19:20:44.163Z"
   },
   {
    "duration": 28,
    "start_time": "2021-12-29T19:20:44.303Z"
   },
   {
    "duration": 42,
    "start_time": "2021-12-29T19:20:44.334Z"
   },
   {
    "duration": 39,
    "start_time": "2021-12-29T19:20:44.379Z"
   },
   {
    "duration": 18,
    "start_time": "2021-12-29T19:20:44.421Z"
   },
   {
    "duration": 130,
    "start_time": "2021-12-29T19:20:44.442Z"
   },
   {
    "duration": 13,
    "start_time": "2021-12-29T19:20:44.574Z"
   },
   {
    "duration": 12,
    "start_time": "2021-12-29T19:20:44.590Z"
   },
   {
    "duration": 14,
    "start_time": "2021-12-29T19:20:44.605Z"
   },
   {
    "duration": 46,
    "start_time": "2021-12-29T19:20:44.622Z"
   },
   {
    "duration": 152,
    "start_time": "2021-12-29T19:20:44.671Z"
   },
   {
    "duration": 45,
    "start_time": "2021-12-29T19:20:44.826Z"
   },
   {
    "duration": 10,
    "start_time": "2021-12-29T19:20:44.874Z"
   },
   {
    "duration": 89,
    "start_time": "2021-12-29T19:20:44.887Z"
   },
   {
    "duration": 15,
    "start_time": "2021-12-29T19:20:44.979Z"
   },
   {
    "duration": 37,
    "start_time": "2021-12-29T19:20:44.997Z"
   },
   {
    "duration": 65,
    "start_time": "2021-12-29T19:20:45.064Z"
   },
   {
    "duration": 31,
    "start_time": "2021-12-29T19:20:45.132Z"
   },
   {
    "duration": 11,
    "start_time": "2021-12-29T19:20:45.166Z"
   },
   {
    "duration": 210,
    "start_time": "2021-12-29T19:20:45.180Z"
   },
   {
    "duration": 19,
    "start_time": "2021-12-29T19:20:45.393Z"
   },
   {
    "duration": 58,
    "start_time": "2021-12-29T19:20:45.415Z"
   },
   {
    "duration": 25,
    "start_time": "2021-12-29T19:20:45.483Z"
   },
   {
    "duration": 16,
    "start_time": "2021-12-29T19:20:45.512Z"
   },
   {
    "duration": 46,
    "start_time": "2021-12-29T19:20:45.532Z"
   },
   {
    "duration": 33,
    "start_time": "2021-12-29T19:20:45.581Z"
   },
   {
    "duration": 47,
    "start_time": "2021-12-29T19:20:45.616Z"
   },
   {
    "duration": 153,
    "start_time": "2021-12-29T19:20:45.666Z"
   },
   {
    "duration": 23,
    "start_time": "2021-12-29T19:20:45.822Z"
   },
   {
    "duration": 26,
    "start_time": "2021-12-29T19:20:45.862Z"
   },
   {
    "duration": 98,
    "start_time": "2021-12-29T19:20:45.890Z"
   },
   {
    "duration": 12,
    "start_time": "2021-12-29T19:20:45.991Z"
   },
   {
    "duration": 63,
    "start_time": "2021-12-29T19:20:46.006Z"
   },
   {
    "duration": 10,
    "start_time": "2021-12-29T19:20:46.072Z"
   },
   {
    "duration": 11,
    "start_time": "2021-12-29T19:20:46.085Z"
   },
   {
    "duration": 7,
    "start_time": "2021-12-29T19:20:46.099Z"
   },
   {
    "duration": 61,
    "start_time": "2021-12-29T19:20:46.109Z"
   },
   {
    "duration": 5,
    "start_time": "2021-12-29T19:20:46.173Z"
   },
   {
    "duration": 30,
    "start_time": "2021-12-29T19:20:46.180Z"
   },
   {
    "duration": 51,
    "start_time": "2021-12-29T19:20:46.213Z"
   },
   {
    "duration": 37,
    "start_time": "2021-12-29T19:20:46.268Z"
   },
   {
    "duration": 17,
    "start_time": "2021-12-29T19:20:46.308Z"
   },
   {
    "duration": 55,
    "start_time": "2021-12-29T19:20:46.329Z"
   },
   {
    "duration": 266,
    "start_time": "2021-12-29T19:20:46.387Z"
   },
   {
    "duration": 24,
    "start_time": "2021-12-29T19:20:46.656Z"
   },
   {
    "duration": 18,
    "start_time": "2021-12-29T19:20:46.683Z"
   },
   {
    "duration": 9,
    "start_time": "2021-12-29T19:20:46.704Z"
   },
   {
    "duration": 72,
    "start_time": "2021-12-29T19:20:46.716Z"
   },
   {
    "duration": 8,
    "start_time": "2021-12-29T19:20:46.791Z"
   },
   {
    "duration": 9,
    "start_time": "2021-12-29T19:20:46.801Z"
   },
   {
    "duration": 50,
    "start_time": "2021-12-29T19:20:46.813Z"
   },
   {
    "duration": 12,
    "start_time": "2021-12-29T19:20:46.866Z"
   },
   {
    "duration": 541,
    "start_time": "2021-12-29T19:20:46.881Z"
   },
   {
    "duration": 562,
    "start_time": "2021-12-29T19:20:47.425Z"
   },
   {
    "duration": 452,
    "start_time": "2021-12-29T19:20:47.990Z"
   },
   {
    "duration": 24,
    "start_time": "2021-12-29T19:20:48.445Z"
   },
   {
    "duration": 369,
    "start_time": "2021-12-29T19:20:48.472Z"
   },
   {
    "duration": 428,
    "start_time": "2021-12-29T19:20:48.844Z"
   },
   {
    "duration": 387,
    "start_time": "2021-12-29T19:20:49.275Z"
   },
   {
    "duration": 4,
    "start_time": "2021-12-29T19:20:49.665Z"
   },
   {
    "duration": 10,
    "start_time": "2021-12-29T19:20:49.672Z"
   },
   {
    "duration": 7,
    "start_time": "2021-12-29T19:20:49.685Z"
   },
   {
    "duration": 12,
    "start_time": "2021-12-29T19:20:49.694Z"
   },
   {
    "duration": 56,
    "start_time": "2021-12-29T19:20:49.709Z"
   },
   {
    "duration": 442,
    "start_time": "2021-12-29T19:21:27.993Z"
   },
   {
    "duration": 276,
    "start_time": "2021-12-29T20:20:34.347Z"
   },
   {
    "duration": 6,
    "start_time": "2021-12-29T20:25:52.152Z"
   },
   {
    "duration": 39,
    "start_time": "2021-12-29T20:25:52.160Z"
   },
   {
    "duration": 5,
    "start_time": "2021-12-29T20:25:52.204Z"
   },
   {
    "duration": 31,
    "start_time": "2021-12-29T20:25:52.212Z"
   },
   {
    "duration": 207,
    "start_time": "2021-12-29T20:25:52.245Z"
   },
   {
    "duration": 66,
    "start_time": "2021-12-29T20:25:52.455Z"
   },
   {
    "duration": 117,
    "start_time": "2021-12-29T20:25:52.524Z"
   },
   {
    "duration": 35,
    "start_time": "2021-12-29T20:25:52.644Z"
   },
   {
    "duration": 175,
    "start_time": "2021-12-29T20:25:52.683Z"
   },
   {
    "duration": 58,
    "start_time": "2021-12-29T20:25:52.862Z"
   },
   {
    "duration": 19,
    "start_time": "2021-12-29T20:25:52.923Z"
   },
   {
    "duration": 13,
    "start_time": "2021-12-29T20:25:52.944Z"
   },
   {
    "duration": 8,
    "start_time": "2021-12-29T20:25:52.959Z"
   },
   {
    "duration": 13,
    "start_time": "2021-12-29T20:25:52.970Z"
   },
   {
    "duration": 6,
    "start_time": "2021-12-29T20:25:52.985Z"
   },
   {
    "duration": 10,
    "start_time": "2021-12-29T20:25:52.993Z"
   },
   {
    "duration": 6,
    "start_time": "2021-12-29T20:25:53.005Z"
   },
   {
    "duration": 10,
    "start_time": "2021-12-29T20:25:53.013Z"
   },
   {
    "duration": 10,
    "start_time": "2021-12-29T20:25:53.026Z"
   },
   {
    "duration": 9,
    "start_time": "2021-12-29T20:25:53.039Z"
   },
   {
    "duration": 19,
    "start_time": "2021-12-29T20:25:53.050Z"
   },
   {
    "duration": 10,
    "start_time": "2021-12-29T20:25:53.071Z"
   },
   {
    "duration": 11,
    "start_time": "2021-12-29T20:25:53.085Z"
   },
   {
    "duration": 82,
    "start_time": "2021-12-29T20:25:53.098Z"
   },
   {
    "duration": 11,
    "start_time": "2021-12-29T20:25:53.182Z"
   },
   {
    "duration": 453,
    "start_time": "2021-12-29T20:25:53.196Z"
   },
   {
    "duration": 44,
    "start_time": "2021-12-29T20:25:53.663Z"
   },
   {
    "duration": 21,
    "start_time": "2021-12-29T20:25:53.713Z"
   },
   {
    "duration": 14,
    "start_time": "2021-12-29T20:25:53.763Z"
   },
   {
    "duration": 1038,
    "start_time": "2021-12-29T20:25:53.780Z"
   },
   {
    "duration": 10,
    "start_time": "2021-12-29T20:25:54.821Z"
   },
   {
    "duration": 30,
    "start_time": "2021-12-29T20:25:54.834Z"
   },
   {
    "duration": 129,
    "start_time": "2021-12-29T20:25:54.866Z"
   },
   {
    "duration": 24,
    "start_time": "2021-12-29T20:25:54.998Z"
   },
   {
    "duration": 40,
    "start_time": "2021-12-29T20:25:55.025Z"
   },
   {
    "duration": 33,
    "start_time": "2021-12-29T20:25:55.068Z"
   },
   {
    "duration": 17,
    "start_time": "2021-12-29T20:25:55.103Z"
   },
   {
    "duration": 119,
    "start_time": "2021-12-29T20:25:55.122Z"
   },
   {
    "duration": 21,
    "start_time": "2021-12-29T20:25:55.244Z"
   },
   {
    "duration": 10,
    "start_time": "2021-12-29T20:25:55.267Z"
   },
   {
    "duration": 15,
    "start_time": "2021-12-29T20:25:55.280Z"
   },
   {
    "duration": 10,
    "start_time": "2021-12-29T20:25:55.298Z"
   },
   {
    "duration": 173,
    "start_time": "2021-12-29T20:25:55.311Z"
   },
   {
    "duration": 28,
    "start_time": "2021-12-29T20:25:55.487Z"
   },
   {
    "duration": 9,
    "start_time": "2021-12-29T20:25:55.518Z"
   },
   {
    "duration": 81,
    "start_time": "2021-12-29T20:25:55.529Z"
   },
   {
    "duration": 17,
    "start_time": "2021-12-29T20:25:55.612Z"
   },
   {
    "duration": 58,
    "start_time": "2021-12-29T20:25:55.632Z"
   },
   {
    "duration": 76,
    "start_time": "2021-12-29T20:25:55.692Z"
   },
   {
    "duration": 11,
    "start_time": "2021-12-29T20:25:55.771Z"
   },
   {
    "duration": 12,
    "start_time": "2021-12-29T20:25:55.784Z"
   },
   {
    "duration": 255,
    "start_time": "2021-12-29T20:25:55.798Z"
   },
   {
    "duration": 23,
    "start_time": "2021-12-29T20:25:56.064Z"
   },
   {
    "duration": 25,
    "start_time": "2021-12-29T20:25:56.089Z"
   },
   {
    "duration": 58,
    "start_time": "2021-12-29T20:25:56.117Z"
   },
   {
    "duration": 15,
    "start_time": "2021-12-29T20:25:56.177Z"
   },
   {
    "duration": 17,
    "start_time": "2021-12-29T20:25:56.195Z"
   },
   {
    "duration": 64,
    "start_time": "2021-12-29T20:25:56.214Z"
   },
   {
    "duration": 8,
    "start_time": "2021-12-29T20:25:56.281Z"
   },
   {
    "duration": 123,
    "start_time": "2021-12-29T20:25:56.292Z"
   },
   {
    "duration": 15,
    "start_time": "2021-12-29T20:25:56.417Z"
   },
   {
    "duration": 40,
    "start_time": "2021-12-29T20:25:56.436Z"
   },
   {
    "duration": 89,
    "start_time": "2021-12-29T20:25:56.479Z"
   },
   {
    "duration": 10,
    "start_time": "2021-12-29T20:25:56.571Z"
   },
   {
    "duration": 38,
    "start_time": "2021-12-29T20:25:56.584Z"
   },
   {
    "duration": 38,
    "start_time": "2021-12-29T20:25:56.625Z"
   },
   {
    "duration": 12,
    "start_time": "2021-12-29T20:25:56.666Z"
   },
   {
    "duration": 7,
    "start_time": "2021-12-29T20:25:56.681Z"
   },
   {
    "duration": 24,
    "start_time": "2021-12-29T20:25:56.691Z"
   },
   {
    "duration": 4,
    "start_time": "2021-12-29T20:25:56.718Z"
   },
   {
    "duration": 23,
    "start_time": "2021-12-29T20:25:56.764Z"
   },
   {
    "duration": 20,
    "start_time": "2021-12-29T20:25:56.790Z"
   },
   {
    "duration": 61,
    "start_time": "2021-12-29T20:25:56.813Z"
   },
   {
    "duration": 11,
    "start_time": "2021-12-29T20:25:56.877Z"
   },
   {
    "duration": 8,
    "start_time": "2021-12-29T20:25:56.891Z"
   },
   {
    "duration": 287,
    "start_time": "2021-12-29T20:25:56.902Z"
   },
   {
    "duration": 30,
    "start_time": "2021-12-29T20:25:57.192Z"
   },
   {
    "duration": 46,
    "start_time": "2021-12-29T20:25:57.225Z"
   },
   {
    "duration": 14,
    "start_time": "2021-12-29T20:25:57.274Z"
   },
   {
    "duration": 71,
    "start_time": "2021-12-29T20:25:57.291Z"
   },
   {
    "duration": 9,
    "start_time": "2021-12-29T20:25:57.371Z"
   },
   {
    "duration": 9,
    "start_time": "2021-12-29T20:25:57.383Z"
   },
   {
    "duration": 8,
    "start_time": "2021-12-29T20:25:57.395Z"
   },
   {
    "duration": 62,
    "start_time": "2021-12-29T20:25:57.406Z"
   },
   {
    "duration": 524,
    "start_time": "2021-12-29T20:25:57.470Z"
   },
   {
    "duration": 560,
    "start_time": "2021-12-29T20:25:57.998Z"
   },
   {
    "duration": 504,
    "start_time": "2021-12-29T20:25:58.564Z"
   },
   {
    "duration": 19,
    "start_time": "2021-12-29T20:25:59.071Z"
   },
   {
    "duration": 474,
    "start_time": "2021-12-29T20:25:59.093Z"
   },
   {
    "duration": 512,
    "start_time": "2021-12-29T20:25:59.571Z"
   },
   {
    "duration": 530,
    "start_time": "2021-12-29T20:26:00.087Z"
   },
   {
    "duration": 5,
    "start_time": "2021-12-29T20:26:00.621Z"
   },
   {
    "duration": 19,
    "start_time": "2021-12-29T20:26:00.628Z"
   },
   {
    "duration": 12,
    "start_time": "2021-12-29T20:26:00.663Z"
   },
   {
    "duration": 20,
    "start_time": "2021-12-29T20:26:00.678Z"
   },
   {
    "duration": 21,
    "start_time": "2021-12-29T20:26:00.701Z"
   },
   {
    "duration": 1501,
    "start_time": "2021-12-29T20:26:25.735Z"
   },
   {
    "duration": 32,
    "start_time": "2021-12-29T20:26:27.239Z"
   },
   {
    "duration": 5,
    "start_time": "2021-12-29T20:26:27.274Z"
   },
   {
    "duration": 36,
    "start_time": "2021-12-29T20:26:27.282Z"
   },
   {
    "duration": 230,
    "start_time": "2021-12-29T20:26:27.320Z"
   },
   {
    "duration": 72,
    "start_time": "2021-12-29T20:26:27.552Z"
   },
   {
    "duration": 146,
    "start_time": "2021-12-29T20:26:27.627Z"
   },
   {
    "duration": 37,
    "start_time": "2021-12-29T20:26:27.777Z"
   },
   {
    "duration": 201,
    "start_time": "2021-12-29T20:26:27.818Z"
   },
   {
    "duration": 85,
    "start_time": "2021-12-29T20:26:28.021Z"
   },
   {
    "duration": 22,
    "start_time": "2021-12-29T20:26:28.109Z"
   },
   {
    "duration": 15,
    "start_time": "2021-12-29T20:26:28.133Z"
   },
   {
    "duration": 19,
    "start_time": "2021-12-29T20:26:28.151Z"
   },
   {
    "duration": 16,
    "start_time": "2021-12-29T20:26:28.173Z"
   },
   {
    "duration": 7,
    "start_time": "2021-12-29T20:26:28.191Z"
   },
   {
    "duration": 10,
    "start_time": "2021-12-29T20:26:28.201Z"
   },
   {
    "duration": 53,
    "start_time": "2021-12-29T20:26:28.213Z"
   },
   {
    "duration": 11,
    "start_time": "2021-12-29T20:26:28.269Z"
   },
   {
    "duration": 11,
    "start_time": "2021-12-29T20:26:28.283Z"
   },
   {
    "duration": 9,
    "start_time": "2021-12-29T20:26:28.297Z"
   },
   {
    "duration": 9,
    "start_time": "2021-12-29T20:26:28.308Z"
   },
   {
    "duration": 8,
    "start_time": "2021-12-29T20:26:28.363Z"
   },
   {
    "duration": 10,
    "start_time": "2021-12-29T20:26:28.378Z"
   },
   {
    "duration": 40,
    "start_time": "2021-12-29T20:26:28.393Z"
   },
   {
    "duration": 12,
    "start_time": "2021-12-29T20:26:28.464Z"
   },
   {
    "duration": 440,
    "start_time": "2021-12-29T20:26:28.478Z"
   },
   {
    "duration": 81,
    "start_time": "2021-12-29T20:26:28.921Z"
   },
   {
    "duration": 26,
    "start_time": "2021-12-29T20:26:29.005Z"
   },
   {
    "duration": 39,
    "start_time": "2021-12-29T20:26:29.035Z"
   },
   {
    "duration": 1065,
    "start_time": "2021-12-29T20:26:29.076Z"
   },
   {
    "duration": 24,
    "start_time": "2021-12-29T20:26:30.144Z"
   },
   {
    "duration": 12,
    "start_time": "2021-12-29T20:26:30.170Z"
   },
   {
    "duration": 155,
    "start_time": "2021-12-29T20:26:30.185Z"
   },
   {
    "duration": 30,
    "start_time": "2021-12-29T20:26:30.342Z"
   },
   {
    "duration": 28,
    "start_time": "2021-12-29T20:26:30.374Z"
   },
   {
    "duration": 50,
    "start_time": "2021-12-29T20:26:30.404Z"
   },
   {
    "duration": 20,
    "start_time": "2021-12-29T20:26:30.456Z"
   },
   {
    "duration": 122,
    "start_time": "2021-12-29T20:26:30.479Z"
   },
   {
    "duration": 10,
    "start_time": "2021-12-29T20:26:30.604Z"
   },
   {
    "duration": 39,
    "start_time": "2021-12-29T20:26:30.617Z"
   },
   {
    "duration": 29,
    "start_time": "2021-12-29T20:26:30.660Z"
   },
   {
    "duration": 19,
    "start_time": "2021-12-29T20:26:30.692Z"
   },
   {
    "duration": 272,
    "start_time": "2021-12-29T20:26:30.714Z"
   },
   {
    "duration": 42,
    "start_time": "2021-12-29T20:26:30.990Z"
   },
   {
    "duration": 34,
    "start_time": "2021-12-29T20:26:31.035Z"
   },
   {
    "duration": 94,
    "start_time": "2021-12-29T20:26:31.072Z"
   },
   {
    "duration": 23,
    "start_time": "2021-12-29T20:26:31.169Z"
   },
   {
    "duration": 68,
    "start_time": "2021-12-29T20:26:31.195Z"
   },
   {
    "duration": 120,
    "start_time": "2021-12-29T20:26:31.267Z"
   },
   {
    "duration": 14,
    "start_time": "2021-12-29T20:26:31.389Z"
   },
   {
    "duration": 12,
    "start_time": "2021-12-29T20:26:31.406Z"
   },
   {
    "duration": 182,
    "start_time": "2021-12-29T20:26:31.421Z"
   },
   {
    "duration": 17,
    "start_time": "2021-12-29T20:26:31.606Z"
   },
   {
    "duration": 58,
    "start_time": "2021-12-29T20:26:31.625Z"
   },
   {
    "duration": 41,
    "start_time": "2021-12-29T20:26:31.686Z"
   },
   {
    "duration": 41,
    "start_time": "2021-12-29T20:26:31.731Z"
   },
   {
    "duration": 16,
    "start_time": "2021-12-29T20:26:31.774Z"
   },
   {
    "duration": 31,
    "start_time": "2021-12-29T20:26:31.792Z"
   },
   {
    "duration": 42,
    "start_time": "2021-12-29T20:26:31.826Z"
   },
   {
    "duration": 109,
    "start_time": "2021-12-29T20:26:31.871Z"
   },
   {
    "duration": 15,
    "start_time": "2021-12-29T20:26:31.982Z"
   },
   {
    "duration": 23,
    "start_time": "2021-12-29T20:26:32.000Z"
   },
   {
    "duration": 110,
    "start_time": "2021-12-29T20:26:32.025Z"
   },
   {
    "duration": 10,
    "start_time": "2021-12-29T20:26:32.137Z"
   },
   {
    "duration": 58,
    "start_time": "2021-12-29T20:26:32.163Z"
   },
   {
    "duration": 9,
    "start_time": "2021-12-29T20:26:32.225Z"
   },
   {
    "duration": 7,
    "start_time": "2021-12-29T20:26:32.264Z"
   },
   {
    "duration": 6,
    "start_time": "2021-12-29T20:26:32.279Z"
   },
   {
    "duration": 22,
    "start_time": "2021-12-29T20:26:32.288Z"
   },
   {
    "duration": 4,
    "start_time": "2021-12-29T20:26:32.312Z"
   },
   {
    "duration": 67,
    "start_time": "2021-12-29T20:26:32.318Z"
   },
   {
    "duration": 20,
    "start_time": "2021-12-29T20:26:32.388Z"
   },
   {
    "duration": 117,
    "start_time": "2021-12-29T20:26:32.411Z"
   },
   {
    "duration": 32,
    "start_time": "2021-12-29T20:26:32.531Z"
   },
   {
    "duration": 9,
    "start_time": "2021-12-29T20:26:32.565Z"
   },
   {
    "duration": 267,
    "start_time": "2021-12-29T20:26:32.576Z"
   },
   {
    "duration": 30,
    "start_time": "2021-12-29T20:26:32.845Z"
   },
   {
    "duration": 18,
    "start_time": "2021-12-29T20:26:32.878Z"
   },
   {
    "duration": 13,
    "start_time": "2021-12-29T20:26:32.898Z"
   },
   {
    "duration": 75,
    "start_time": "2021-12-29T20:26:32.915Z"
   },
   {
    "duration": 13,
    "start_time": "2021-12-29T20:26:32.994Z"
   },
   {
    "duration": 18,
    "start_time": "2021-12-29T20:26:33.010Z"
   },
   {
    "duration": 37,
    "start_time": "2021-12-29T20:26:33.031Z"
   },
   {
    "duration": 15,
    "start_time": "2021-12-29T20:26:33.070Z"
   },
   {
    "duration": 528,
    "start_time": "2021-12-29T20:26:33.087Z"
   },
   {
    "duration": 546,
    "start_time": "2021-12-29T20:26:33.617Z"
   },
   {
    "duration": 440,
    "start_time": "2021-12-29T20:26:34.166Z"
   },
   {
    "duration": 12,
    "start_time": "2021-12-29T20:26:34.609Z"
   },
   {
    "duration": 364,
    "start_time": "2021-12-29T20:26:34.624Z"
   },
   {
    "duration": 349,
    "start_time": "2021-12-29T20:26:34.991Z"
   },
   {
    "duration": 341,
    "start_time": "2021-12-29T20:26:35.342Z"
   },
   {
    "duration": 4,
    "start_time": "2021-12-29T20:26:35.685Z"
   },
   {
    "duration": 12,
    "start_time": "2021-12-29T20:26:35.692Z"
   },
   {
    "duration": 8,
    "start_time": "2021-12-29T20:26:35.707Z"
   },
   {
    "duration": 14,
    "start_time": "2021-12-29T20:26:35.718Z"
   },
   {
    "duration": 35,
    "start_time": "2021-12-29T20:26:35.735Z"
   },
   {
    "duration": 1257,
    "start_time": "2022-01-10T10:27:48.644Z"
   },
   {
    "duration": 52,
    "start_time": "2022-01-10T10:27:49.902Z"
   },
   {
    "duration": 5,
    "start_time": "2022-01-10T10:27:49.957Z"
   },
   {
    "duration": 25,
    "start_time": "2022-01-10T10:27:49.964Z"
   },
   {
    "duration": 170,
    "start_time": "2022-01-10T10:27:49.990Z"
   },
   {
    "duration": 42,
    "start_time": "2022-01-10T10:27:50.161Z"
   },
   {
    "duration": 2,
    "start_time": "2022-01-10T10:27:50.205Z"
   },
   {
    "duration": 102,
    "start_time": "2022-01-10T10:27:50.209Z"
   },
   {
    "duration": 30,
    "start_time": "2022-01-10T10:27:50.313Z"
   },
   {
    "duration": 139,
    "start_time": "2022-01-10T10:27:50.345Z"
   },
   {
    "duration": 48,
    "start_time": "2022-01-10T10:27:50.486Z"
   },
   {
    "duration": 17,
    "start_time": "2022-01-10T10:27:50.536Z"
   },
   {
    "duration": 10,
    "start_time": "2022-01-10T10:27:50.554Z"
   },
   {
    "duration": 5,
    "start_time": "2022-01-10T10:27:50.565Z"
   },
   {
    "duration": 11,
    "start_time": "2022-01-10T10:27:50.571Z"
   },
   {
    "duration": 9,
    "start_time": "2022-01-10T10:27:50.584Z"
   },
   {
    "duration": 17,
    "start_time": "2022-01-10T10:27:50.595Z"
   },
   {
    "duration": 13,
    "start_time": "2022-01-10T10:27:50.614Z"
   },
   {
    "duration": 7,
    "start_time": "2022-01-10T10:27:50.628Z"
   },
   {
    "duration": 8,
    "start_time": "2022-01-10T10:27:50.637Z"
   },
   {
    "duration": 8,
    "start_time": "2022-01-10T10:27:50.646Z"
   },
   {
    "duration": 9,
    "start_time": "2022-01-10T10:27:50.656Z"
   },
   {
    "duration": 13,
    "start_time": "2022-01-10T10:27:50.669Z"
   },
   {
    "duration": 10,
    "start_time": "2022-01-10T10:27:50.684Z"
   },
   {
    "duration": 39,
    "start_time": "2022-01-10T10:27:50.696Z"
   },
   {
    "duration": 7,
    "start_time": "2022-01-10T10:27:50.737Z"
   },
   {
    "duration": 231,
    "start_time": "2022-01-10T10:27:50.745Z"
   },
   {
    "duration": 34,
    "start_time": "2022-01-10T10:27:50.978Z"
   },
   {
    "duration": 27,
    "start_time": "2022-01-10T10:27:51.014Z"
   },
   {
    "duration": 12,
    "start_time": "2022-01-10T10:27:51.043Z"
   },
   {
    "duration": 638,
    "start_time": "2022-01-10T10:27:51.057Z"
   },
   {
    "duration": 8,
    "start_time": "2022-01-10T10:27:51.697Z"
   },
   {
    "duration": 21,
    "start_time": "2022-01-10T10:27:51.706Z"
   },
   {
    "duration": 83,
    "start_time": "2022-01-10T10:27:51.729Z"
   },
   {
    "duration": 25,
    "start_time": "2022-01-10T10:27:51.813Z"
   },
   {
    "duration": 16,
    "start_time": "2022-01-10T10:27:51.839Z"
   },
   {
    "duration": 24,
    "start_time": "2022-01-10T10:27:51.856Z"
   },
   {
    "duration": 10,
    "start_time": "2022-01-10T10:27:51.881Z"
   },
   {
    "duration": 78,
    "start_time": "2022-01-10T10:27:51.892Z"
   },
   {
    "duration": 7,
    "start_time": "2022-01-10T10:27:51.972Z"
   },
   {
    "duration": 7,
    "start_time": "2022-01-10T10:27:51.980Z"
   },
   {
    "duration": 10,
    "start_time": "2022-01-10T10:27:51.989Z"
   },
   {
    "duration": 31,
    "start_time": "2022-01-10T10:27:52.000Z"
   },
   {
    "duration": 78,
    "start_time": "2022-01-10T10:27:52.033Z"
   },
   {
    "duration": 30,
    "start_time": "2022-01-10T10:27:52.112Z"
   },
   {
    "duration": 5,
    "start_time": "2022-01-10T10:27:52.144Z"
   },
   {
    "duration": 32,
    "start_time": "2022-01-10T10:27:52.150Z"
   },
   {
    "duration": 9,
    "start_time": "2022-01-10T10:27:52.183Z"
   },
   {
    "duration": 45,
    "start_time": "2022-01-10T10:27:52.194Z"
   },
   {
    "duration": 39,
    "start_time": "2022-01-10T10:27:52.241Z"
   },
   {
    "duration": 6,
    "start_time": "2022-01-10T10:27:52.281Z"
   },
   {
    "duration": 7,
    "start_time": "2022-01-10T10:27:52.289Z"
   },
   {
    "duration": 122,
    "start_time": "2022-01-10T10:27:52.297Z"
   },
   {
    "duration": 16,
    "start_time": "2022-01-10T10:27:52.421Z"
   },
   {
    "duration": 15,
    "start_time": "2022-01-10T10:27:52.439Z"
   },
   {
    "duration": 16,
    "start_time": "2022-01-10T10:27:52.456Z"
   },
   {
    "duration": 9,
    "start_time": "2022-01-10T10:27:52.473Z"
   },
   {
    "duration": 44,
    "start_time": "2022-01-10T10:27:52.484Z"
   },
   {
    "duration": 20,
    "start_time": "2022-01-10T10:27:52.530Z"
   },
   {
    "duration": 6,
    "start_time": "2022-01-10T10:27:52.552Z"
   },
   {
    "duration": 75,
    "start_time": "2022-01-10T10:27:52.559Z"
   },
   {
    "duration": 9,
    "start_time": "2022-01-10T10:27:52.636Z"
   },
   {
    "duration": 16,
    "start_time": "2022-01-10T10:27:52.647Z"
   },
   {
    "duration": 64,
    "start_time": "2022-01-10T10:27:52.664Z"
   },
   {
    "duration": 7,
    "start_time": "2022-01-10T10:27:52.730Z"
   },
   {
    "duration": 21,
    "start_time": "2022-01-10T10:27:52.738Z"
   },
   {
    "duration": 5,
    "start_time": "2022-01-10T10:27:52.761Z"
   },
   {
    "duration": 5,
    "start_time": "2022-01-10T10:27:52.771Z"
   },
   {
    "duration": 8,
    "start_time": "2022-01-10T10:27:52.778Z"
   },
   {
    "duration": 15,
    "start_time": "2022-01-10T10:27:52.787Z"
   },
   {
    "duration": 3,
    "start_time": "2022-01-10T10:27:52.827Z"
   },
   {
    "duration": 14,
    "start_time": "2022-01-10T10:27:52.831Z"
   },
   {
    "duration": 11,
    "start_time": "2022-01-10T10:27:52.847Z"
   },
   {
    "duration": 83,
    "start_time": "2022-01-10T10:27:52.860Z"
   },
   {
    "duration": 8,
    "start_time": "2022-01-10T10:27:52.945Z"
   },
   {
    "duration": 6,
    "start_time": "2022-01-10T10:27:52.954Z"
   },
   {
    "duration": 160,
    "start_time": "2022-01-10T10:27:52.962Z"
   },
   {
    "duration": 14,
    "start_time": "2022-01-10T10:27:53.123Z"
   },
   {
    "duration": 13,
    "start_time": "2022-01-10T10:27:53.138Z"
   },
   {
    "duration": 6,
    "start_time": "2022-01-10T10:27:53.153Z"
   },
   {
    "duration": 21,
    "start_time": "2022-01-10T10:27:53.161Z"
   },
   {
    "duration": 5,
    "start_time": "2022-01-10T10:27:53.184Z"
   },
   {
    "duration": 6,
    "start_time": "2022-01-10T10:27:53.191Z"
   },
   {
    "duration": 32,
    "start_time": "2022-01-10T10:27:53.198Z"
   },
   {
    "duration": 12,
    "start_time": "2022-01-10T10:27:53.232Z"
   },
   {
    "duration": 275,
    "start_time": "2022-01-10T10:27:53.246Z"
   },
   {
    "duration": 281,
    "start_time": "2022-01-10T10:27:53.527Z"
   },
   {
    "duration": 239,
    "start_time": "2022-01-10T10:27:53.810Z"
   },
   {
    "duration": 8,
    "start_time": "2022-01-10T10:27:54.051Z"
   },
   {
    "duration": 201,
    "start_time": "2022-01-10T10:27:54.060Z"
   },
   {
    "duration": 191,
    "start_time": "2022-01-10T10:27:54.263Z"
   },
   {
    "duration": 187,
    "start_time": "2022-01-10T10:27:54.456Z"
   },
   {
    "duration": 3,
    "start_time": "2022-01-10T10:27:54.645Z"
   },
   {
    "duration": 7,
    "start_time": "2022-01-10T10:27:54.649Z"
   },
   {
    "duration": 5,
    "start_time": "2022-01-10T10:27:54.657Z"
   },
   {
    "duration": 9,
    "start_time": "2022-01-10T10:27:54.663Z"
   },
   {
    "duration": 4,
    "start_time": "2022-01-10T10:27:54.674Z"
   },
   {
    "duration": 4,
    "start_time": "2022-01-10T10:28:47.846Z"
   },
   {
    "duration": 29,
    "start_time": "2022-01-10T10:28:51.747Z"
   }
  ],
  "kernelspec": {
   "display_name": "Python 3",
   "language": "python",
   "name": "python3"
  },
  "language_info": {
   "codemirror_mode": {
    "name": "ipython",
    "version": 3
   },
   "file_extension": ".py",
   "mimetype": "text/x-python",
   "name": "python",
   "nbconvert_exporter": "python",
   "pygments_lexer": "ipython3",
   "version": "3.8.8"
  },
  "toc": {
   "base_numbering": 1,
   "nav_menu": {},
   "number_sections": true,
   "sideBar": true,
   "skip_h1_title": true,
   "title_cell": "Table of Contents",
   "title_sidebar": "Contents",
   "toc_cell": false,
   "toc_position": {
    "height": "calc(100% - 180px)",
    "left": "10px",
    "top": "150px",
    "width": "366.391px"
   },
   "toc_section_display": true,
   "toc_window_display": true
  }
 },
 "nbformat": 4,
 "nbformat_minor": 2
}
