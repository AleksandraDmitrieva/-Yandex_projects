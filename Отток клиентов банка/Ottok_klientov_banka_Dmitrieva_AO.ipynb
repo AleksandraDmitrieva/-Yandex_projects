{
 "cells": [
  {
   "cell_type": "markdown",
   "metadata": {},
   "source": [
    "# Отток клиентов"
   ]
  },
  {
   "cell_type": "markdown",
   "metadata": {},
   "source": [
    "Из «Бета-Банка» стали уходить клиенты. Каждый месяц. Немного, но заметно. Банковские маркетологи посчитали: сохранять текущих клиентов дешевле, чем привлекать новых.\n",
    "\n",
    "Нужно спрогнозировать, уйдёт клиент из банка в ближайшее время или нет. Вам предоставлены исторические данные о поведении клиентов и расторжении договоров с банком. \n",
    "\n",
    "Постройте модель с предельно большим значением *F1*-меры. Чтобы сдать проект успешно, нужно довести метрику до 0.59. Проверьте *F1*-меру на тестовой выборке самостоятельно.\n",
    "\n",
    "Дополнительно измеряйте *AUC-ROC*, сравнивайте её значение с *F1*-мерой.\n",
    "\n",
    "Источник данных: [https://www.kaggle.com/barelydedicated/bank-customer-churn-modeling](https://www.kaggle.com/barelydedicated/bank-customer-churn-modeling)"
   ]
  },
  {
   "cell_type": "markdown",
   "metadata": {},
   "source": [
    "## Подготовка данных"
   ]
  },
  {
   "cell_type": "code",
   "execution_count": 1,
   "metadata": {},
   "outputs": [],
   "source": [
    "# импорт необходимых библиотек\n",
    "import pandas as pd\n",
    "import seaborn as sns\n",
    "import matplotlib.pyplot as plt\n",
    "import matplotlib as mpl\n",
    "from sklearn.model_selection import train_test_split\n",
    "from sklearn.preprocessing import StandardScaler, OrdinalEncoder\n",
    "from sklearn.ensemble import RandomForestClassifier\n",
    "from sklearn.linear_model import LogisticRegression\n",
    "from sklearn.metrics import f1_score, roc_curve, roc_auc_score, precision_score, recall_score\n",
    "from sklearn.utils import shuffle"
   ]
  },
  {
   "cell_type": "markdown",
   "metadata": {},
   "source": [
    "### Получение общих сведений о данных"
   ]
  },
  {
   "cell_type": "code",
   "execution_count": 2,
   "metadata": {},
   "outputs": [],
   "source": [
    "# чтение файла с данными и сохранение в df\n",
    "data = pd.read_csv('/datasets/Churn.csv')"
   ]
  },
  {
   "cell_type": "code",
   "execution_count": 3,
   "metadata": {},
   "outputs": [
    {
     "data": {
      "text/html": [
       "<div>\n",
       "<style scoped>\n",
       "    .dataframe tbody tr th:only-of-type {\n",
       "        vertical-align: middle;\n",
       "    }\n",
       "\n",
       "    .dataframe tbody tr th {\n",
       "        vertical-align: top;\n",
       "    }\n",
       "\n",
       "    .dataframe thead th {\n",
       "        text-align: right;\n",
       "    }\n",
       "</style>\n",
       "<table border=\"1\" class=\"dataframe\">\n",
       "  <thead>\n",
       "    <tr style=\"text-align: right;\">\n",
       "      <th></th>\n",
       "      <th>RowNumber</th>\n",
       "      <th>CustomerId</th>\n",
       "      <th>Surname</th>\n",
       "      <th>CreditScore</th>\n",
       "      <th>Geography</th>\n",
       "      <th>Gender</th>\n",
       "      <th>Age</th>\n",
       "      <th>Tenure</th>\n",
       "      <th>Balance</th>\n",
       "      <th>NumOfProducts</th>\n",
       "      <th>HasCrCard</th>\n",
       "      <th>IsActiveMember</th>\n",
       "      <th>EstimatedSalary</th>\n",
       "      <th>Exited</th>\n",
       "    </tr>\n",
       "  </thead>\n",
       "  <tbody>\n",
       "    <tr>\n",
       "      <td>0</td>\n",
       "      <td>1</td>\n",
       "      <td>15634602</td>\n",
       "      <td>Hargrave</td>\n",
       "      <td>619</td>\n",
       "      <td>France</td>\n",
       "      <td>Female</td>\n",
       "      <td>42</td>\n",
       "      <td>2.0</td>\n",
       "      <td>0.00</td>\n",
       "      <td>1</td>\n",
       "      <td>1</td>\n",
       "      <td>1</td>\n",
       "      <td>101348.88</td>\n",
       "      <td>1</td>\n",
       "    </tr>\n",
       "    <tr>\n",
       "      <td>1</td>\n",
       "      <td>2</td>\n",
       "      <td>15647311</td>\n",
       "      <td>Hill</td>\n",
       "      <td>608</td>\n",
       "      <td>Spain</td>\n",
       "      <td>Female</td>\n",
       "      <td>41</td>\n",
       "      <td>1.0</td>\n",
       "      <td>83807.86</td>\n",
       "      <td>1</td>\n",
       "      <td>0</td>\n",
       "      <td>1</td>\n",
       "      <td>112542.58</td>\n",
       "      <td>0</td>\n",
       "    </tr>\n",
       "    <tr>\n",
       "      <td>2</td>\n",
       "      <td>3</td>\n",
       "      <td>15619304</td>\n",
       "      <td>Onio</td>\n",
       "      <td>502</td>\n",
       "      <td>France</td>\n",
       "      <td>Female</td>\n",
       "      <td>42</td>\n",
       "      <td>8.0</td>\n",
       "      <td>159660.80</td>\n",
       "      <td>3</td>\n",
       "      <td>1</td>\n",
       "      <td>0</td>\n",
       "      <td>113931.57</td>\n",
       "      <td>1</td>\n",
       "    </tr>\n",
       "    <tr>\n",
       "      <td>3</td>\n",
       "      <td>4</td>\n",
       "      <td>15701354</td>\n",
       "      <td>Boni</td>\n",
       "      <td>699</td>\n",
       "      <td>France</td>\n",
       "      <td>Female</td>\n",
       "      <td>39</td>\n",
       "      <td>1.0</td>\n",
       "      <td>0.00</td>\n",
       "      <td>2</td>\n",
       "      <td>0</td>\n",
       "      <td>0</td>\n",
       "      <td>93826.63</td>\n",
       "      <td>0</td>\n",
       "    </tr>\n",
       "    <tr>\n",
       "      <td>4</td>\n",
       "      <td>5</td>\n",
       "      <td>15737888</td>\n",
       "      <td>Mitchell</td>\n",
       "      <td>850</td>\n",
       "      <td>Spain</td>\n",
       "      <td>Female</td>\n",
       "      <td>43</td>\n",
       "      <td>2.0</td>\n",
       "      <td>125510.82</td>\n",
       "      <td>1</td>\n",
       "      <td>1</td>\n",
       "      <td>1</td>\n",
       "      <td>79084.10</td>\n",
       "      <td>0</td>\n",
       "    </tr>\n",
       "    <tr>\n",
       "      <td>5</td>\n",
       "      <td>6</td>\n",
       "      <td>15574012</td>\n",
       "      <td>Chu</td>\n",
       "      <td>645</td>\n",
       "      <td>Spain</td>\n",
       "      <td>Male</td>\n",
       "      <td>44</td>\n",
       "      <td>8.0</td>\n",
       "      <td>113755.78</td>\n",
       "      <td>2</td>\n",
       "      <td>1</td>\n",
       "      <td>0</td>\n",
       "      <td>149756.71</td>\n",
       "      <td>1</td>\n",
       "    </tr>\n",
       "    <tr>\n",
       "      <td>6</td>\n",
       "      <td>7</td>\n",
       "      <td>15592531</td>\n",
       "      <td>Bartlett</td>\n",
       "      <td>822</td>\n",
       "      <td>France</td>\n",
       "      <td>Male</td>\n",
       "      <td>50</td>\n",
       "      <td>7.0</td>\n",
       "      <td>0.00</td>\n",
       "      <td>2</td>\n",
       "      <td>1</td>\n",
       "      <td>1</td>\n",
       "      <td>10062.80</td>\n",
       "      <td>0</td>\n",
       "    </tr>\n",
       "    <tr>\n",
       "      <td>7</td>\n",
       "      <td>8</td>\n",
       "      <td>15656148</td>\n",
       "      <td>Obinna</td>\n",
       "      <td>376</td>\n",
       "      <td>Germany</td>\n",
       "      <td>Female</td>\n",
       "      <td>29</td>\n",
       "      <td>4.0</td>\n",
       "      <td>115046.74</td>\n",
       "      <td>4</td>\n",
       "      <td>1</td>\n",
       "      <td>0</td>\n",
       "      <td>119346.88</td>\n",
       "      <td>1</td>\n",
       "    </tr>\n",
       "    <tr>\n",
       "      <td>8</td>\n",
       "      <td>9</td>\n",
       "      <td>15792365</td>\n",
       "      <td>He</td>\n",
       "      <td>501</td>\n",
       "      <td>France</td>\n",
       "      <td>Male</td>\n",
       "      <td>44</td>\n",
       "      <td>4.0</td>\n",
       "      <td>142051.07</td>\n",
       "      <td>2</td>\n",
       "      <td>0</td>\n",
       "      <td>1</td>\n",
       "      <td>74940.50</td>\n",
       "      <td>0</td>\n",
       "    </tr>\n",
       "    <tr>\n",
       "      <td>9</td>\n",
       "      <td>10</td>\n",
       "      <td>15592389</td>\n",
       "      <td>H?</td>\n",
       "      <td>684</td>\n",
       "      <td>France</td>\n",
       "      <td>Male</td>\n",
       "      <td>27</td>\n",
       "      <td>2.0</td>\n",
       "      <td>134603.88</td>\n",
       "      <td>1</td>\n",
       "      <td>1</td>\n",
       "      <td>1</td>\n",
       "      <td>71725.73</td>\n",
       "      <td>0</td>\n",
       "    </tr>\n",
       "  </tbody>\n",
       "</table>\n",
       "</div>"
      ],
      "text/plain": [
       "   RowNumber  CustomerId   Surname  CreditScore Geography  Gender  Age  \\\n",
       "0          1    15634602  Hargrave          619    France  Female   42   \n",
       "1          2    15647311      Hill          608     Spain  Female   41   \n",
       "2          3    15619304      Onio          502    France  Female   42   \n",
       "3          4    15701354      Boni          699    France  Female   39   \n",
       "4          5    15737888  Mitchell          850     Spain  Female   43   \n",
       "5          6    15574012       Chu          645     Spain    Male   44   \n",
       "6          7    15592531  Bartlett          822    France    Male   50   \n",
       "7          8    15656148    Obinna          376   Germany  Female   29   \n",
       "8          9    15792365        He          501    France    Male   44   \n",
       "9         10    15592389        H?          684    France    Male   27   \n",
       "\n",
       "   Tenure    Balance  NumOfProducts  HasCrCard  IsActiveMember  \\\n",
       "0     2.0       0.00              1          1               1   \n",
       "1     1.0   83807.86              1          0               1   \n",
       "2     8.0  159660.80              3          1               0   \n",
       "3     1.0       0.00              2          0               0   \n",
       "4     2.0  125510.82              1          1               1   \n",
       "5     8.0  113755.78              2          1               0   \n",
       "6     7.0       0.00              2          1               1   \n",
       "7     4.0  115046.74              4          1               0   \n",
       "8     4.0  142051.07              2          0               1   \n",
       "9     2.0  134603.88              1          1               1   \n",
       "\n",
       "   EstimatedSalary  Exited  \n",
       "0        101348.88       1  \n",
       "1        112542.58       0  \n",
       "2        113931.57       1  \n",
       "3         93826.63       0  \n",
       "4         79084.10       0  \n",
       "5        149756.71       1  \n",
       "6         10062.80       0  \n",
       "7        119346.88       1  \n",
       "8         74940.50       0  \n",
       "9         71725.73       0  "
      ]
     },
     "execution_count": 3,
     "metadata": {},
     "output_type": "execute_result"
    }
   ],
   "source": [
    "# получение первых 10 строк таблицы df\n",
    "data.head(10)"
   ]
  },
  {
   "cell_type": "code",
   "execution_count": 4,
   "metadata": {},
   "outputs": [
    {
     "name": "stdout",
     "output_type": "stream",
     "text": [
      "<class 'pandas.core.frame.DataFrame'>\n",
      "RangeIndex: 10000 entries, 0 to 9999\n",
      "Data columns (total 14 columns):\n",
      "RowNumber          10000 non-null int64\n",
      "CustomerId         10000 non-null int64\n",
      "Surname            10000 non-null object\n",
      "CreditScore        10000 non-null int64\n",
      "Geography          10000 non-null object\n",
      "Gender             10000 non-null object\n",
      "Age                10000 non-null int64\n",
      "Tenure             9091 non-null float64\n",
      "Balance            10000 non-null float64\n",
      "NumOfProducts      10000 non-null int64\n",
      "HasCrCard          10000 non-null int64\n",
      "IsActiveMember     10000 non-null int64\n",
      "EstimatedSalary    10000 non-null float64\n",
      "Exited             10000 non-null int64\n",
      "dtypes: float64(3), int64(8), object(3)\n",
      "memory usage: 1.1+ MB\n"
     ]
    }
   ],
   "source": [
    "# получение общей информации о данных в таблице df\n",
    "data.info()"
   ]
  },
  {
   "cell_type": "markdown",
   "metadata": {},
   "source": [
    "Признаки\n",
    "- RowNumber — индекс строки в данных\n",
    "- CustomerId — уникальный идентификатор клиента\n",
    "- Surname — фамилия\n",
    "- CreditScore — кредитный рейтинг\n",
    "- Geography — страна проживания\n",
    "- Gender — пол\n",
    "- Age — возраст\n",
    "- Tenure — сколько лет человек является клиентом банка\n",
    "- Balance — баланс на счёте\n",
    "- NumOfProducts — количество продуктов банка, используемых клиентом\n",
    "- HasCrCard — наличие кредитной карты\n",
    "- IsActiveMember — активность клиента\n",
    "- EstimatedSalary — предполагаемая зарплата\n",
    "\n",
    "Целевой признак\n",
    "- Exited — факт ухода клиента"
   ]
  },
  {
   "cell_type": "markdown",
   "metadata": {},
   "source": [
    "Исходные данные содержат 13 признаков 10 000 наблюдений. Признаки RowNumber, RowNumber и Surname не содержат полезной для моделирования информации, их удалим. Также устраним нарушения стиля в наименовании столбцов."
   ]
  },
  {
   "cell_type": "code",
   "execution_count": 5,
   "metadata": {},
   "outputs": [],
   "source": [
    "#удаление столбцов\n",
    "df = data.drop(['RowNumber', 'CustomerId', 'Surname'], axis=1)"
   ]
  },
  {
   "cell_type": "code",
   "execution_count": 6,
   "metadata": {},
   "outputs": [],
   "source": [
    "#переименование столбцов\n",
    "df.rename(columns = {'CreditScore' : 'Credit_Score',\n",
    "                     'NumOfProducts' : 'Num_Of_Products',\n",
    "                      'HasCrCard' : 'Has_Cr_Card',\n",
    "                     'IsActiveMember' : 'Is_Active_Member',\n",
    "                     'EstimatedSalary' : 'Estimated_Salary'}, inplace = True)\n",
    "\n",
    "df.columns = [x.lower() for x in df.columns]"
   ]
  },
  {
   "cell_type": "code",
   "execution_count": 7,
   "metadata": {},
   "outputs": [
    {
     "data": {
      "text/plain": [
       "0"
      ]
     },
     "execution_count": 7,
     "metadata": {},
     "output_type": "execute_result"
    }
   ],
   "source": [
    "# подсчет дубликатов\n",
    "df.duplicated().sum()"
   ]
  },
  {
   "cell_type": "markdown",
   "metadata": {},
   "source": [
    "### Изучение значений"
   ]
  },
  {
   "cell_type": "markdown",
   "metadata": {},
   "source": [
    "Для начала изучим диапазоны значений численных признаков (credit_score, balance, estimated_salary и age)"
   ]
  },
  {
   "cell_type": "code",
   "execution_count": 8,
   "metadata": {},
   "outputs": [
    {
     "data": {
      "text/html": [
       "<div>\n",
       "<style scoped>\n",
       "    .dataframe tbody tr th:only-of-type {\n",
       "        vertical-align: middle;\n",
       "    }\n",
       "\n",
       "    .dataframe tbody tr th {\n",
       "        vertical-align: top;\n",
       "    }\n",
       "\n",
       "    .dataframe thead th {\n",
       "        text-align: right;\n",
       "    }\n",
       "</style>\n",
       "<table border=\"1\" class=\"dataframe\">\n",
       "  <thead>\n",
       "    <tr style=\"text-align: right;\">\n",
       "      <th></th>\n",
       "      <th>credit_score</th>\n",
       "      <th>balance</th>\n",
       "      <th>estimated_salary</th>\n",
       "      <th>age</th>\n",
       "    </tr>\n",
       "  </thead>\n",
       "  <tbody>\n",
       "    <tr>\n",
       "      <td>count</td>\n",
       "      <td>10000.000000</td>\n",
       "      <td>10000.000000</td>\n",
       "      <td>10000.000000</td>\n",
       "      <td>10000.000000</td>\n",
       "    </tr>\n",
       "    <tr>\n",
       "      <td>mean</td>\n",
       "      <td>650.528800</td>\n",
       "      <td>76485.889288</td>\n",
       "      <td>100090.239881</td>\n",
       "      <td>38.921800</td>\n",
       "    </tr>\n",
       "    <tr>\n",
       "      <td>std</td>\n",
       "      <td>96.653299</td>\n",
       "      <td>62397.405202</td>\n",
       "      <td>57510.492818</td>\n",
       "      <td>10.487806</td>\n",
       "    </tr>\n",
       "    <tr>\n",
       "      <td>min</td>\n",
       "      <td>350.000000</td>\n",
       "      <td>0.000000</td>\n",
       "      <td>11.580000</td>\n",
       "      <td>18.000000</td>\n",
       "    </tr>\n",
       "    <tr>\n",
       "      <td>25%</td>\n",
       "      <td>584.000000</td>\n",
       "      <td>0.000000</td>\n",
       "      <td>51002.110000</td>\n",
       "      <td>32.000000</td>\n",
       "    </tr>\n",
       "    <tr>\n",
       "      <td>50%</td>\n",
       "      <td>652.000000</td>\n",
       "      <td>97198.540000</td>\n",
       "      <td>100193.915000</td>\n",
       "      <td>37.000000</td>\n",
       "    </tr>\n",
       "    <tr>\n",
       "      <td>75%</td>\n",
       "      <td>718.000000</td>\n",
       "      <td>127644.240000</td>\n",
       "      <td>149388.247500</td>\n",
       "      <td>44.000000</td>\n",
       "    </tr>\n",
       "    <tr>\n",
       "      <td>max</td>\n",
       "      <td>850.000000</td>\n",
       "      <td>250898.090000</td>\n",
       "      <td>199992.480000</td>\n",
       "      <td>92.000000</td>\n",
       "    </tr>\n",
       "  </tbody>\n",
       "</table>\n",
       "</div>"
      ],
      "text/plain": [
       "       credit_score        balance  estimated_salary           age\n",
       "count  10000.000000   10000.000000      10000.000000  10000.000000\n",
       "mean     650.528800   76485.889288     100090.239881     38.921800\n",
       "std       96.653299   62397.405202      57510.492818     10.487806\n",
       "min      350.000000       0.000000         11.580000     18.000000\n",
       "25%      584.000000       0.000000      51002.110000     32.000000\n",
       "50%      652.000000   97198.540000     100193.915000     37.000000\n",
       "75%      718.000000  127644.240000     149388.247500     44.000000\n",
       "max      850.000000  250898.090000     199992.480000     92.000000"
      ]
     },
     "execution_count": 8,
     "metadata": {},
     "output_type": "execute_result"
    }
   ],
   "source": [
    "#создание описательной статистики\n",
    "df[['credit_score', 'balance', 'estimated_salary', 'age']].describe()"
   ]
  },
  {
   "cell_type": "code",
   "execution_count": 9,
   "metadata": {},
   "outputs": [
    {
     "data": {
      "image/png": "[encoded data removed]",
      "text/plain": [
       "<Figure size 432x288 with 1 Axes>"
      ]
     },
     "metadata": {
      "needs_background": "light"
     },
     "output_type": "display_data"
    }
   ],
   "source": [
    "#построение гистограммы credit_score\n",
    "df['credit_score'].hist(bins=25);"
   ]
  },
  {
   "cell_type": "code",
   "execution_count": 10,
   "metadata": {},
   "outputs": [
    {
     "data": {
      "image/png": "[encoded data removed]",
      "text/plain": [
       "<Figure size 432x288 with 1 Axes>"
      ]
     },
     "metadata": {
      "needs_background": "light"
     },
     "output_type": "display_data"
    }
   ],
   "source": [
    "#построение гистограммы balance\n",
    "df['balance'].hist(bins=20);"
   ]
  },
  {
   "cell_type": "code",
   "execution_count": 11,
   "metadata": {},
   "outputs": [
    {
     "data": {
      "image/png": "[encoded data removed]",
      "text/plain": [
       "<Figure size 432x288 with 1 Axes>"
      ]
     },
     "metadata": {
      "needs_background": "light"
     },
     "output_type": "display_data"
    }
   ],
   "source": [
    "#построение гистограммы estimated_salary\n",
    "df['estimated_salary'].hist(bins=6);"
   ]
  },
  {
   "cell_type": "code",
   "execution_count": 12,
   "metadata": {},
   "outputs": [
    {
     "data": {
      "image/png": "[encoded data removed]",
      "text/plain": [
       "<Figure size 432x288 with 1 Axes>"
      ]
     },
     "metadata": {
      "needs_background": "light"
     },
     "output_type": "display_data"
    }
   ],
   "source": [
    "#построение гистограммы age\n",
    "df['age'].hist(bins=12);"
   ]
  },
  {
   "cell_type": "markdown",
   "metadata": {},
   "source": [
    "В столбце balance наблюдается значительное количество (около 30%) нулевых значений, искажающих общую картину распределения. Учитывая их большое количество, а также значимость признака, их удаление или замена не целесообразна.\n",
    "\n",
    "Необходимо отмасштабировать значения столбцов balance и estimated_salary\n",
    "\n",
    "Значения столбца age необходимо категоризовать.\n",
    "\n",
    "В целях проведения категоризации учтем, что возрастное деление клиентуры банка связано с понятием «жизненного цикла» людей – последовательных стадий, которые проходит личность в течение жизни, каждой из которых обычно присущи определенные потребности, а значит и использование определенных банковских продуктов.\n",
    "Исходя из этой логики выделим следующие категории:\n",
    "\n",
    "- 1 (18 - 25 лет): люди впервые нанимающиеся на работу, готовящиеся вступить в брак,\n",
    "- 2 (25 - 35 лет): люди, недавно образовавшие семью,\n",
    "- 3 (35 - 45 лет): люди, впервые покупающие дом и потребительские товары длительного пользования,\n",
    "- 4 (45 - 55 лет): люди «зрелого возраста», имеющие рост дохода по мере снижения финансовых обязательств,\n",
    "- 5 (старше 55 лет): люди, имеющие накопленный капитал и стремщиеся обеспечить его сохранность и настоящий устойчивый доход."
   ]
  },
  {
   "cell_type": "code",
   "execution_count": 13,
   "metadata": {},
   "outputs": [
    {
     "data": {
      "image/png": "[encoded data removed]",
      "text/plain": [
       "<Figure size 432x288 with 1 Axes>"
      ]
     },
     "metadata": {
      "needs_background": "light"
     },
     "output_type": "display_data"
    }
   ],
   "source": [
    "#категоризация столбца age\n",
    "cut_labels = [0, 1, 2, 3, 4]\n",
    "cut_bins = [0, 25, 35, 45, 55, 100]\n",
    "\n",
    "df['cut_age'] = pd.cut(df['age'], bins=cut_bins, labels=cut_labels)\n",
    "df.groupby('cut_age')['cut_age'].count().plot(kind='bar', y='cut_age');"
   ]
  },
  {
   "cell_type": "code",
   "execution_count": 14,
   "metadata": {},
   "outputs": [],
   "source": [
    "#удаление исходного столбца age\n",
    "df = df.drop(['age'], axis=1)"
   ]
  },
  {
   "cell_type": "markdown",
   "metadata": {},
   "source": [
    "В столбце tenure имеется значительное количество пропущенных значений. Целесообразно заполнение пропущенных значений медианой, вычисленной по столбцу. "
   ]
  },
  {
   "cell_type": "code",
   "execution_count": 15,
   "metadata": {},
   "outputs": [],
   "source": [
    "#заполнение пропущенных значений\n",
    "med = df['tenure'].median()\n",
    "df['tenure'] = df['tenure'].fillna(med)"
   ]
  },
  {
   "cell_type": "code",
   "execution_count": 16,
   "metadata": {},
   "outputs": [
    {
     "data": {
      "text/plain": [
       "0.0      382\n",
       "1.0      952\n",
       "2.0      950\n",
       "3.0      928\n",
       "4.0      885\n",
       "5.0     1836\n",
       "6.0      881\n",
       "7.0      925\n",
       "8.0      933\n",
       "9.0      882\n",
       "10.0     446\n",
       "Name: tenure, dtype: int64"
      ]
     },
     "execution_count": 16,
     "metadata": {},
     "output_type": "execute_result"
    }
   ],
   "source": [
    "#получение значений столбца\n",
    "df['tenure'].value_counts().sort_index(ascending=True)"
   ]
  },
  {
   "cell_type": "code",
   "execution_count": 17,
   "metadata": {},
   "outputs": [
    {
     "data": {
      "text/plain": [
       "1    5084\n",
       "2    4590\n",
       "3     266\n",
       "4      60\n",
       "Name: num_of_products, dtype: int64"
      ]
     },
     "execution_count": 17,
     "metadata": {},
     "output_type": "execute_result"
    }
   ],
   "source": [
    "#получение значений столбца\n",
    "df['num_of_products'].value_counts().sort_index(ascending=True)"
   ]
  },
  {
   "cell_type": "markdown",
   "metadata": {},
   "source": [
    "Далее изучим категориальные признаки (geography, gender, has_cr_card, is_active_member и exited)"
   ]
  },
  {
   "cell_type": "code",
   "execution_count": 18,
   "metadata": {},
   "outputs": [
    {
     "data": {
      "text/plain": [
       "France     5014\n",
       "Germany    2509\n",
       "Spain      2477\n",
       "Name: geography, dtype: int64"
      ]
     },
     "execution_count": 18,
     "metadata": {},
     "output_type": "execute_result"
    }
   ],
   "source": [
    "#получение значений столбца\n",
    "df['geography'].value_counts()"
   ]
  },
  {
   "cell_type": "code",
   "execution_count": 19,
   "metadata": {},
   "outputs": [
    {
     "data": {
      "text/plain": [
       "Male      5457\n",
       "Female    4543\n",
       "Name: gender, dtype: int64"
      ]
     },
     "execution_count": 19,
     "metadata": {},
     "output_type": "execute_result"
    }
   ],
   "source": [
    "#получение значений столбца\n",
    "df['gender'].value_counts()"
   ]
  },
  {
   "cell_type": "code",
   "execution_count": 20,
   "metadata": {},
   "outputs": [
    {
     "data": {
      "text/plain": [
       "1    7055\n",
       "0    2945\n",
       "Name: has_cr_card, dtype: int64"
      ]
     },
     "execution_count": 20,
     "metadata": {},
     "output_type": "execute_result"
    }
   ],
   "source": [
    "#получение значений столбца\n",
    "df['has_cr_card'].value_counts()"
   ]
  },
  {
   "cell_type": "code",
   "execution_count": 21,
   "metadata": {},
   "outputs": [
    {
     "data": {
      "text/plain": [
       "1    5151\n",
       "0    4849\n",
       "Name: is_active_member, dtype: int64"
      ]
     },
     "execution_count": 21,
     "metadata": {},
     "output_type": "execute_result"
    }
   ],
   "source": [
    "#получение значений столбца\n",
    "df['is_active_member'].value_counts()"
   ]
  },
  {
   "cell_type": "code",
   "execution_count": 22,
   "metadata": {},
   "outputs": [
    {
     "data": {
      "text/plain": [
       "0    7963\n",
       "1    2037\n",
       "Name: exited, dtype: int64"
      ]
     },
     "execution_count": 22,
     "metadata": {},
     "output_type": "execute_result"
    }
   ],
   "source": [
    "#получение значений столбца\n",
    "df['exited'].value_counts()"
   ]
  },
  {
   "cell_type": "markdown",
   "metadata": {},
   "source": [
    "В отношении признаков geography и gender требуется кодирование.\n",
    "\n",
    "В отношении целевого признака наблюдается значительный дисбаланс классов."
   ]
  },
  {
   "cell_type": "markdown",
   "metadata": {},
   "source": [
    "### Кодирование признаков"
   ]
  },
  {
   "cell_type": "markdown",
   "metadata": {},
   "source": [
    "Преобразуем категориальные номинальные признаки geography и gender в численные с помощью техники прямого кодирования One-Hot Encoding, а категориальный ординальный признак cut_age - с помощью техники OrdinalEncoder."
   ]
  },
  {
   "cell_type": "code",
   "execution_count": 23,
   "metadata": {
    "scrolled": false
   },
   "outputs": [],
   "source": [
    "#кодирование признака geography\n",
    "df[['geography_g', 'geography_s']] = pd.get_dummies(df['geography'], drop_first=True)\n",
    "df = df.drop(['geography'], axis=1)"
   ]
  },
  {
   "cell_type": "code",
   "execution_count": 24,
   "metadata": {
    "scrolled": false
   },
   "outputs": [],
   "source": [
    "#кодирование признака gender\n",
    "df['gender'] = pd.get_dummies(df['gender'], drop_first=True)"
   ]
  },
  {
   "cell_type": "markdown",
   "metadata": {},
   "source": [
    "### Подготовка выборок"
   ]
  },
  {
   "cell_type": "markdown",
   "metadata": {},
   "source": [
    "Разобъем исходные данные на три части: обучающую, валидационную и тестовую в соотношении 3:1:1."
   ]
  },
  {
   "cell_type": "code",
   "execution_count": 26,
   "metadata": {},
   "outputs": [],
   "source": [
    "#разбиение данных на выборки\n",
    "df_train, df_valid_test = train_test_split(df, test_size=0.4, random_state=1)\n",
    "df_valid, df_test = train_test_split(df_valid_test, test_size=0.5, random_state=1)"
   ]
  },
  {
   "cell_type": "code",
   "execution_count": 27,
   "metadata": {},
   "outputs": [
    {
     "data": {
      "text/plain": [
       "((6000, 12), (2000, 12), (2000, 12))"
      ]
     },
     "execution_count": 27,
     "metadata": {},
     "output_type": "execute_result"
    }
   ],
   "source": [
    "#вывод размеров таблиц\n",
    "df_train.shape, df_valid.shape, df_test.shape"
   ]
  },
  {
   "cell_type": "code",
   "execution_count": 28,
   "metadata": {},
   "outputs": [],
   "source": [
    "#выделение признаков и целевого признака обучающей выборки\n",
    "features_train = df_train.drop(['exited'], axis=1)\n",
    "target_train = df_train['exited']"
   ]
  },
  {
   "cell_type": "code",
   "execution_count": 29,
   "metadata": {},
   "outputs": [],
   "source": [
    "#выделение признаков и целевого признака валидационной выборки\n",
    "features_valid = df_valid.drop(['exited'], axis=1)\n",
    "target_valid = df_valid['exited']"
   ]
  },
  {
   "cell_type": "code",
   "execution_count": 30,
   "metadata": {},
   "outputs": [],
   "source": [
    "#выделение признаков и целевого признака тестовой выборки\n",
    "features_test = df_test.drop(['exited'], axis=1)\n",
    "target_test = df_test['exited']"
   ]
  },
  {
   "cell_type": "markdown",
   "metadata": {},
   "source": [
    "### Масштабирование признаков"
   ]
  },
  {
   "cell_type": "markdown",
   "metadata": {},
   "source": [
    "Масштабируем признаки balance и estimated_salary. Для масштабирования применим метод стандартизации данных."
   ]
  },
  {
   "cell_type": "code",
   "execution_count": 31,
   "metadata": {},
   "outputs": [
    {
     "data": {
      "text/plain": [
       "StandardScaler(copy=True, with_mean=True, with_std=True)"
      ]
     },
     "execution_count": 31,
     "metadata": {},
     "output_type": "execute_result"
    }
   ],
   "source": [
    "#настройка параметров масштабирования\n",
    "numeric = ['balance', 'estimated_salary']\n",
    "\n",
    "scaler = StandardScaler()\n",
    "scaler.fit(features_train[numeric])"
   ]
  },
  {
   "cell_type": "code",
   "execution_count": 32,
   "metadata": {},
   "outputs": [],
   "source": [
    "#стандартизация обучающей выборки\n",
    "features_train[numeric] = scaler.transform(features_train[numeric])"
   ]
  },
  {
   "cell_type": "code",
   "execution_count": 33,
   "metadata": {},
   "outputs": [],
   "source": [
    "#стандартизация валидационной выборки\n",
    "features_valid[numeric] = scaler.transform(features_valid[numeric])"
   ]
  },
  {
   "cell_type": "code",
   "execution_count": 34,
   "metadata": {},
   "outputs": [],
   "source": [
    "#стандартизация тестовой выборки\n",
    "features_test[numeric] = scaler.transform(features_test[numeric])"
   ]
  },
  {
   "cell_type": "markdown",
   "metadata": {},
   "source": [
    "### Вывод"
   ]
  },
  {
   "cell_type": "markdown",
   "metadata": {},
   "source": [
    "Изучены исходные данные. Проведена необходимая предобработка:\n",
    "- удалены признаки RowNumber, CustomerId и Surname,\n",
    "- заполнены пропущенные значения признака tenure медианой по столбцу,\n",
    "- закодированы признаки geography, gender и age\n",
    "- отмасштабированы признаки balance и estimated_salary,\n",
    "- данные разбиты на три части: обучающую, валидационную и тестовую.\n",
    "\n",
    "Данных достаточно для построения модели, однако наблюдается значительный дисбаланс классов целевого признака."
   ]
  },
  {
   "cell_type": "markdown",
   "metadata": {},
   "source": [
    "## Исследование задачи"
   ]
  },
  {
   "cell_type": "markdown",
   "metadata": {},
   "source": [
    "Для решения задачи бинарной классификации воспользуемся алгоритмами:\n",
    "- LogisticRegression\n",
    "- RandomForest\n",
    "\n",
    "Для выявления оптимальной модели воспользуемся метриками классификации F1-мера и AUC-ROC"
   ]
  },
  {
   "cell_type": "markdown",
   "metadata": {},
   "source": [
    "### Классификация с помощью логистической регрессии"
   ]
  },
  {
   "cell_type": "code",
   "execution_count": 35,
   "metadata": {},
   "outputs": [
    {
     "data": {
      "text/plain": [
       "0.3745583038869258"
      ]
     },
     "execution_count": 35,
     "metadata": {},
     "output_type": "execute_result"
    }
   ],
   "source": [
    "# обучение модели\n",
    "model_log_reg = LogisticRegression(random_state=1, solver='liblinear')\n",
    "model_log_reg.fit(features_train, target_train)\n",
    "predicted_valid = model_log_reg.predict(features_valid)\n",
    "f1_log_reg = f1_score(target_valid, predicted_valid)\n",
    "\n",
    "f1_log_reg"
   ]
  },
  {
   "cell_type": "markdown",
   "metadata": {},
   "source": [
    "F1-мера обученной модели на валидацинной выборке достигает значения 0,38."
   ]
  },
  {
   "cell_type": "code",
   "execution_count": 36,
   "metadata": {},
   "outputs": [],
   "source": [
    "#вычисление вероятностей классов\n",
    "probabilities_valid_log_reg = model_log_reg.predict_proba(features_valid)\n",
    "probabilities_one_valid = probabilities_valid_log_reg[:, 1]\n",
    "\n",
    "fpr, tpr, thresholds = roc_curve(target_valid, probabilities_one_valid)"
   ]
  },
  {
   "cell_type": "code",
   "execution_count": 37,
   "metadata": {},
   "outputs": [
    {
     "data": {
      "image/png": "[encoded data removed]",
      "text/plain": [
       "<Figure size 432x288 with 1 Axes>"
      ]
     },
     "metadata": {
      "needs_background": "light"
     },
     "output_type": "display_data"
    }
   ],
   "source": [
    "#построение ROC-кривой\n",
    "plt.figure()\n",
    "plt.plot(fpr, tpr)\n",
    "plt.plot([0.0, 1.0], [0.0, 1.0], linestyle='--')# ROC-кривая случайной модели\n",
    "plt.ylim([0.0, 1.0])\n",
    "plt.xlim([0.0, 1.0])\n",
    "plt.xlabel('False Positive Rate')\n",
    "plt.ylabel('True Positive Rate')\n",
    "plt.title('ROC-кривая')\n",
    "plt.show()"
   ]
  },
  {
   "cell_type": "code",
   "execution_count": 38,
   "metadata": {},
   "outputs": [
    {
     "data": {
      "text/plain": [
       "0.7778849176919755"
      ]
     },
     "execution_count": 38,
     "metadata": {},
     "output_type": "execute_result"
    }
   ],
   "source": [
    "#получение значения auc_roc\n",
    "auc_roc = roc_auc_score(target_valid, probabilities_one_valid)\n",
    "auc_roc"
   ]
  },
  {
   "cell_type": "markdown",
   "metadata": {},
   "source": [
    "AUC-ROC обученной модели на валидацинной выборке достигает значения 0,78."
   ]
  },
  {
   "cell_type": "markdown",
   "metadata": {},
   "source": [
    "### Классификация с помощью случайного леса"
   ]
  },
  {
   "cell_type": "code",
   "execution_count": 39,
   "metadata": {},
   "outputs": [
    {
     "name": "stderr",
     "output_type": "stream",
     "text": [
      "/opt/conda/lib/python3.7/site-packages/sklearn/metrics/classification.py:1437: UndefinedMetricWarning: F-score is ill-defined and being set to 0.0 due to no predicted samples.\n",
      "  'precision', 'predicted', average, warn_for)\n"
     ]
    },
    {
     "name": "stdout",
     "output_type": "stream",
     "text": [
      "CPU times: user 1.63 s, sys: 2.31 ms, total: 1.63 s\n",
      "Wall time: 1.63 s\n"
     ]
    },
    {
     "data": {
      "text/plain": [
       "(0.5602409638554217, 15)"
      ]
     },
     "execution_count": 39,
     "metadata": {},
     "output_type": "execute_result"
    }
   ],
   "source": [
    "%%time\n",
    "# подбор наилучших гиперпараметров модели\n",
    "best_model_forest = None\n",
    "best_result = 0\n",
    "best_depth = 0\n",
    "for depth in range (1, 16, 1):\n",
    "    model_forest = RandomForestClassifier(random_state=1, n_estimators=20, max_depth=depth)\n",
    "    model_forest.fit(features_train, target_train)\n",
    "    predicted_valid = model_forest.predict(features_valid)\n",
    "    result = f1_score(target_valid, predicted_valid)\n",
    "    if result > best_result:\n",
    "        best_model_forest = model_forest\n",
    "        best_result = result\n",
    "        best_depth = depth     \n",
    "                \n",
    "best_result, best_depth"
   ]
  },
  {
   "cell_type": "code",
   "execution_count": 40,
   "metadata": {},
   "outputs": [
    {
     "name": "stdout",
     "output_type": "stream",
     "text": [
      "CPU times: user 1min 26s, sys: 650 ms, total: 1min 27s\n",
      "Wall time: 1min 28s\n"
     ]
    },
    {
     "data": {
      "text/plain": [
       "(0.5753012048192772, 491)"
      ]
     },
     "execution_count": 40,
     "metadata": {},
     "output_type": "execute_result"
    }
   ],
   "source": [
    "%%time\n",
    "# подбор наилучших гиперпараметров модели\n",
    "best_model_forest = None\n",
    "best_result = 0\n",
    "best_est = 0\n",
    "for est in range (1, 501, 10):\n",
    "    model_forest = RandomForestClassifier(random_state=1, n_estimators=est, max_depth=15)\n",
    "    model_forest.fit(features_train, target_train)\n",
    "    predicted_valid = model_forest.predict(features_valid)\n",
    "    result = f1_score(target_valid, predicted_valid)\n",
    "    if result > best_result:\n",
    "        best_model_forest = model_forest\n",
    "        f1_score_forest = result\n",
    "        best_est = est     \n",
    "                \n",
    "f1_score_forest, best_est"
   ]
  },
  {
   "cell_type": "markdown",
   "metadata": {},
   "source": [
    "F1-мера обученной модели на валидацинной выборке достигает значения 0,57. Гиперпараметры при этом имеют следующие значения: число деревьев - 491, максимальная глубина дерева - 15."
   ]
  },
  {
   "cell_type": "code",
   "execution_count": 41,
   "metadata": {},
   "outputs": [
    {
     "data": {
      "text/plain": [
       "RandomForestClassifier(bootstrap=True, class_weight=None, criterion='gini',\n",
       "                       max_depth=15, max_features='auto', max_leaf_nodes=None,\n",
       "                       min_impurity_decrease=0.0, min_impurity_split=None,\n",
       "                       min_samples_leaf=1, min_samples_split=2,\n",
       "                       min_weight_fraction_leaf=0.0, n_estimators=491,\n",
       "                       n_jobs=None, oob_score=False, random_state=1, verbose=0,\n",
       "                       warm_start=False)"
      ]
     },
     "execution_count": 41,
     "metadata": {},
     "output_type": "execute_result"
    }
   ],
   "source": [
    "best_model_forest"
   ]
  },
  {
   "cell_type": "code",
   "execution_count": 42,
   "metadata": {},
   "outputs": [],
   "source": [
    "best_model_forest.fit(features_train, target_train)\n",
    "predicted_valid = best_model_forest.predict(features_valid)\n",
    "f1_score_forest = f1_score(target_valid, predicted_valid)"
   ]
  },
  {
   "cell_type": "code",
   "execution_count": 43,
   "metadata": {},
   "outputs": [],
   "source": [
    "#получение значений precision и recall\n",
    "precision_score_forest = precision_score(target_valid, predicted_valid)\n",
    "recall_score_forest = recall_score(target_valid, predicted_valid)"
   ]
  },
  {
   "cell_type": "code",
   "execution_count": 44,
   "metadata": {},
   "outputs": [],
   "source": [
    "#вычисление вероятностей классов\n",
    "probabilities_valid_forest = best_model_forest.predict_proba(features_valid)\n",
    "probabilities_one_valid = probabilities_valid_forest[:, 1]\n",
    "\n",
    "fpr, tpr, thresholds = roc_curve(target_valid, probabilities_one_valid)"
   ]
  },
  {
   "cell_type": "code",
   "execution_count": 45,
   "metadata": {},
   "outputs": [
    {
     "data": {
      "image/png": "[encoded data removed]",
      "text/plain": [
       "<Figure size 432x288 with 1 Axes>"
      ]
     },
     "metadata": {
      "needs_background": "light"
     },
     "output_type": "display_data"
    }
   ],
   "source": [
    "#построение ROC-кривой\n",
    "plt.figure()\n",
    "plt.plot(fpr, tpr)\n",
    "plt.plot([0.0, 1.0], [0.0, 1.0], linestyle='--')# ROC-кривая случайной модели\n",
    "plt.ylim([0.0, 1.0])\n",
    "plt.xlim([0.0, 1.0])\n",
    "plt.xlabel('False Positive Rate')\n",
    "plt.ylabel('True Positive Rate')\n",
    "plt.title('ROC-кривая')\n",
    "plt.show()"
   ]
  },
  {
   "cell_type": "code",
   "execution_count": 46,
   "metadata": {},
   "outputs": [
    {
     "data": {
      "text/plain": [
       "0.8580372736585741"
      ]
     },
     "execution_count": 46,
     "metadata": {},
     "output_type": "execute_result"
    }
   ],
   "source": [
    "#получение значения auc_roc\n",
    "auc_roc_forest = roc_auc_score(target_valid, probabilities_one_valid)\n",
    "auc_roc_forest"
   ]
  },
  {
   "cell_type": "markdown",
   "metadata": {},
   "source": [
    "AUC-ROC обученной модели на валидацинной выборке достигает значения 0,86."
   ]
  },
  {
   "cell_type": "markdown",
   "metadata": {},
   "source": [
    "### Вывод"
   ]
  },
  {
   "cell_type": "markdown",
   "metadata": {},
   "source": [
    "Прооведено исследование моделей:\n",
    "- логистическая регрессия (F1-мера 0,38, AUC-ROC 0,78)\n",
    "- случайный лес (F1-мера 0,57, AUC-ROC 0,86),\n",
    "\n",
    "Наилучший результат на валидационной выборке показала модель случайного леса. Гиперпараметры при этом имеют следующие значения: число деревьев - 491, максимальная глубина дерева - 15. Далее работаем с этой моделью. "
   ]
  },
  {
   "cell_type": "markdown",
   "metadata": {},
   "source": [
    "## Борьба с дисбалансом"
   ]
  },
  {
   "cell_type": "code",
   "execution_count": 47,
   "metadata": {},
   "outputs": [
    {
     "data": {
      "text/plain": [
       "0    0.7963\n",
       "1    0.2037\n",
       "Name: exited, dtype: float64"
      ]
     },
     "execution_count": 47,
     "metadata": {},
     "output_type": "execute_result"
    }
   ],
   "source": [
    "#соотношение классов целевого признака\n",
    "df['exited'].value_counts(normalize=True)"
   ]
  },
  {
   "cell_type": "markdown",
   "metadata": {},
   "source": [
    "Значения целевого признака exited не сбалансированы. Соотношение отрицательных и положительных значений 4:1. \n",
    "\n",
    "Для повышения качества модели проведем балансировку классов следующими способами:\n",
    "- автоматическая корректировка весов классов с помощью режима balanced параметра class_weight,\n",
    "- увеличение выборки с помощью техники upsampling,\n",
    "- уменьшение выборки с помощью техники downsampled.\n",
    "\n",
    "По результатам обучения модели каждым из предложенных способов, оценим качество обученной модели метриками:\n",
    "- f1 (сохраним в переменные f1_score_balanced, f1_score_up и f1_score_down соответственно),\n",
    "- precision (precision_score_balanced, precision_score_up и precision_score_down),\n",
    "- recall (recall_score_balanced, recall_score_up и recall_score_down),\n",
    "- roc_auc (auc_roc_balanced, auc_roc_up и auc_roc_down).\n",
    "\n",
    "Метрики качества модели, обученной на несбалансированной выборке определены в пункте 2.2 исследования и сохранены в переменных f1_score_forest, precision_score_forest, recall_score_forest и auc_roc_forest."
   ]
  },
  {
   "cell_type": "markdown",
   "metadata": {},
   "source": [
    "### Использование режима balanced"
   ]
  },
  {
   "cell_type": "code",
   "execution_count": 48,
   "metadata": {
    "scrolled": true
   },
   "outputs": [],
   "source": [
    "#получение структуры модели\n",
    "model_result = RandomForestClassifier(random_state=1, n_estimators=491, max_depth=15, class_weight='balanced')"
   ]
  },
  {
   "cell_type": "code",
   "execution_count": 49,
   "metadata": {},
   "outputs": [
    {
     "data": {
      "text/plain": [
       "RandomForestClassifier(bootstrap=True, class_weight='balanced',\n",
       "                       criterion='gini', max_depth=15, max_features='auto',\n",
       "                       max_leaf_nodes=None, min_impurity_decrease=0.0,\n",
       "                       min_impurity_split=None, min_samples_leaf=1,\n",
       "                       min_samples_split=2, min_weight_fraction_leaf=0.0,\n",
       "                       n_estimators=491, n_jobs=None, oob_score=False,\n",
       "                       random_state=1, verbose=0, warm_start=False)"
      ]
     },
     "execution_count": 49,
     "metadata": {},
     "output_type": "execute_result"
    }
   ],
   "source": [
    "# обученние модели\n",
    "model_result.fit(features_train, target_train)"
   ]
  },
  {
   "cell_type": "code",
   "execution_count": 50,
   "metadata": {},
   "outputs": [
    {
     "data": {
      "text/plain": [
       "0.5953079178885631"
      ]
     },
     "execution_count": 50,
     "metadata": {},
     "output_type": "execute_result"
    }
   ],
   "source": [
    "#получение значения f1-меры\n",
    "predicted_valid = model_result.predict(features_valid)\n",
    "f1_score_balanced = f1_score(target_valid, predicted_valid)\n",
    "f1_score_balanced"
   ]
  },
  {
   "cell_type": "code",
   "execution_count": 51,
   "metadata": {},
   "outputs": [],
   "source": [
    "#получение значений precision и recall\n",
    "precision_score_balanced = precision_score(target_valid, predicted_valid)\n",
    "recall_score_balanced = recall_score(target_valid, predicted_valid)"
   ]
  },
  {
   "cell_type": "code",
   "execution_count": 52,
   "metadata": {},
   "outputs": [
    {
     "data": {
      "text/plain": [
       "0.8543712834275279"
      ]
     },
     "execution_count": 52,
     "metadata": {},
     "output_type": "execute_result"
    }
   ],
   "source": [
    "#получение значения auc_roc\n",
    "probabilities_valid = model_result.predict_proba(features_valid)\n",
    "probabilities_one_valid = probabilities_valid[:, 1]\n",
    "\n",
    "fpr, tpr, thresholds = roc_curve(target_valid, probabilities_one_valid)\n",
    "auc_roc_balanced = roc_auc_score(target_valid, probabilities_one_valid)\n",
    "auc_roc_balanced"
   ]
  },
  {
   "cell_type": "markdown",
   "metadata": {},
   "source": [
    "### Увеличение выборки"
   ]
  },
  {
   "cell_type": "code",
   "execution_count": 53,
   "metadata": {},
   "outputs": [],
   "source": [
    "#деление обучающей выборки на отрицательные и положительные объекты\n",
    "features_zeros = features_train[target_train == 0]\n",
    "features_ones = features_train[target_train == 1]\n",
    "target_zeros = target_train[target_train == 0]\n",
    "target_ones = target_train[target_train == 1]"
   ]
  },
  {
   "cell_type": "markdown",
   "metadata": {},
   "source": [
    "Учитывая соотношение отрицательных и положительных значений целевого признака (4:1) целесообразно увеличить количество положительных объектов в 4 раза."
   ]
  },
  {
   "cell_type": "code",
   "execution_count": 54,
   "metadata": {},
   "outputs": [],
   "source": [
    "#сборка сбалансированных выборок\n",
    "features_upsampled = pd.concat([features_zeros] + [features_ones] * 4)\n",
    "target_upsampled = pd.concat([target_zeros] + [target_ones] * 4)"
   ]
  },
  {
   "cell_type": "code",
   "execution_count": 55,
   "metadata": {},
   "outputs": [],
   "source": [
    "#перемешивание данных\n",
    "features_upsampled, target_upsampled = shuffle(features_upsampled, target_upsampled, random_state=1)"
   ]
  },
  {
   "cell_type": "code",
   "execution_count": 56,
   "metadata": {},
   "outputs": [
    {
     "data": {
      "text/plain": [
       "RandomForestClassifier(bootstrap=True, class_weight='balanced',\n",
       "                       criterion='gini', max_depth=15, max_features='auto',\n",
       "                       max_leaf_nodes=None, min_impurity_decrease=0.0,\n",
       "                       min_impurity_split=None, min_samples_leaf=1,\n",
       "                       min_samples_split=2, min_weight_fraction_leaf=0.0,\n",
       "                       n_estimators=491, n_jobs=None, oob_score=False,\n",
       "                       random_state=1, verbose=0, warm_start=False)"
      ]
     },
     "execution_count": 56,
     "metadata": {},
     "output_type": "execute_result"
    }
   ],
   "source": [
    "#обучение модели на сбалансированных признаках\n",
    "model_result.fit(features_upsampled, target_upsampled)"
   ]
  },
  {
   "cell_type": "code",
   "execution_count": 57,
   "metadata": {},
   "outputs": [
    {
     "data": {
      "text/plain": [
       "0.6352357320099256"
      ]
     },
     "execution_count": 57,
     "metadata": {},
     "output_type": "execute_result"
    }
   ],
   "source": [
    "#получение значения f1-меры\n",
    "predicted_valid = model_result.predict(features_valid)\n",
    "f1_score_up = f1_score(target_valid, predicted_valid)\n",
    "f1_score_up"
   ]
  },
  {
   "cell_type": "code",
   "execution_count": 58,
   "metadata": {},
   "outputs": [],
   "source": [
    "#получение значений precision и recall\n",
    "precision_score_up = precision_score(target_valid, predicted_valid)\n",
    "recall_score_up = recall_score(target_valid, predicted_valid)"
   ]
  },
  {
   "cell_type": "code",
   "execution_count": 59,
   "metadata": {},
   "outputs": [
    {
     "data": {
      "text/plain": [
       "0.8515928328913186"
      ]
     },
     "execution_count": 59,
     "metadata": {},
     "output_type": "execute_result"
    }
   ],
   "source": [
    "#получение значения auc_roc\n",
    "probabilities_valid = model_result.predict_proba(features_valid)\n",
    "probabilities_one_valid = probabilities_valid[:, 1]\n",
    "\n",
    "fpr, tpr, thresholds = roc_curve(target_valid, probabilities_one_valid)\n",
    "auc_roc_up = roc_auc_score(target_valid, probabilities_one_valid)\n",
    "auc_roc_up"
   ]
  },
  {
   "cell_type": "markdown",
   "metadata": {},
   "source": [
    "### Уменьшение выборки"
   ]
  },
  {
   "cell_type": "markdown",
   "metadata": {},
   "source": [
    "Учитывая соотношение отрицательных и положительных значений целевого признака (4:1) целесообразно уменьшить количество отрицательных объектов в 0.3 раза."
   ]
  },
  {
   "cell_type": "code",
   "execution_count": 60,
   "metadata": {},
   "outputs": [],
   "source": [
    "#сборка сбалансированных выборок\n",
    "features_downsampled = pd.concat([features_zeros.sample(frac=0.3, random_state=1)] + [features_ones])\n",
    "target_downsampled = pd.concat([target_zeros.sample(frac=0.3, random_state=1)] + [target_ones])"
   ]
  },
  {
   "cell_type": "code",
   "execution_count": 61,
   "metadata": {},
   "outputs": [],
   "source": [
    "#перемешивание данных\n",
    "features_downsampled, target_downsampled = shuffle(features_downsampled, target_downsampled, random_state=1)"
   ]
  },
  {
   "cell_type": "code",
   "execution_count": 62,
   "metadata": {},
   "outputs": [
    {
     "data": {
      "text/plain": [
       "RandomForestClassifier(bootstrap=True, class_weight='balanced',\n",
       "                       criterion='gini', max_depth=15, max_features='auto',\n",
       "                       max_leaf_nodes=None, min_impurity_decrease=0.0,\n",
       "                       min_impurity_split=None, min_samples_leaf=1,\n",
       "                       min_samples_split=2, min_weight_fraction_leaf=0.0,\n",
       "                       n_estimators=491, n_jobs=None, oob_score=False,\n",
       "                       random_state=1, verbose=0, warm_start=False)"
      ]
     },
     "execution_count": 62,
     "metadata": {},
     "output_type": "execute_result"
    }
   ],
   "source": [
    "#обучение модели на сбалансированных признаках\n",
    "model_result.fit(features_downsampled, target_downsampled)"
   ]
  },
  {
   "cell_type": "code",
   "execution_count": 63,
   "metadata": {},
   "outputs": [
    {
     "data": {
      "text/plain": [
       "0.6046046046046046"
      ]
     },
     "execution_count": 63,
     "metadata": {},
     "output_type": "execute_result"
    }
   ],
   "source": [
    "#получение значения f1-меры\n",
    "predicted_valid = model_result.predict(features_valid)\n",
    "f1_score_down = f1_score(target_valid, predicted_valid)\n",
    "f1_score_down"
   ]
  },
  {
   "cell_type": "code",
   "execution_count": 64,
   "metadata": {},
   "outputs": [],
   "source": [
    "#получение значений precision и recall\n",
    "precision_score_down = precision_score(target_valid, predicted_valid)\n",
    "recall_score_down = recall_score(target_valid, predicted_valid)"
   ]
  },
  {
   "cell_type": "code",
   "execution_count": 65,
   "metadata": {},
   "outputs": [
    {
     "data": {
      "text/plain": [
       "0.8473040605693191"
      ]
     },
     "execution_count": 65,
     "metadata": {},
     "output_type": "execute_result"
    }
   ],
   "source": [
    "#получение значения auc_roc\n",
    "probabilities_valid = model_result.predict_proba(features_valid)\n",
    "probabilities_one_valid = probabilities_valid[:, 1]\n",
    "\n",
    "fpr, tpr, thresholds = roc_curve(target_valid, probabilities_one_valid)\n",
    "auc_roc_down = roc_auc_score(target_valid, probabilities_one_valid)\n",
    "auc_roc_down"
   ]
  },
  {
   "cell_type": "markdown",
   "metadata": {},
   "source": [
    "### Вывод"
   ]
  },
  {
   "cell_type": "markdown",
   "metadata": {},
   "source": [
    "Соберем все полученные метрики качества модели в сводную таблицу. Изучим получившийся результат."
   ]
  },
  {
   "cell_type": "code",
   "execution_count": 66,
   "metadata": {},
   "outputs": [
    {
     "data": {
      "text/html": [
       "<style  type=\"text/css\" >\n",
       "</style><table id=\"T_4424c88e_90fd_11ec_b312_02420a39257d\" ><thead>    <tr>        <th class=\"blank level0\" ></th>        <th class=\"col_heading level0 col0\" >f1_score</th>        <th class=\"col_heading level0 col1\" >auc_roc</th>        <th class=\"col_heading level0 col2\" >precision_score</th>        <th class=\"col_heading level0 col3\" >recall_score</th>    </tr></thead><tbody>\n",
       "                <tr>\n",
       "                        <th id=\"T_4424c88e_90fd_11ec_b312_02420a39257dlevel0_row0\" class=\"row_heading level0 row0\" >no_balanced</th>\n",
       "                        <td id=\"T_4424c88e_90fd_11ec_b312_02420a39257drow0_col0\" class=\"data row0 col0\" >0.58</td>\n",
       "                        <td id=\"T_4424c88e_90fd_11ec_b312_02420a39257drow0_col1\" class=\"data row0 col1\" >0.86</td>\n",
       "                        <td id=\"T_4424c88e_90fd_11ec_b312_02420a39257drow0_col2\" class=\"data row0 col2\" >0.79</td>\n",
       "                        <td id=\"T_4424c88e_90fd_11ec_b312_02420a39257drow0_col3\" class=\"data row0 col3\" >0.45</td>\n",
       "            </tr>\n",
       "            <tr>\n",
       "                        <th id=\"T_4424c88e_90fd_11ec_b312_02420a39257dlevel0_row1\" class=\"row_heading level0 row1\" >balanced</th>\n",
       "                        <td id=\"T_4424c88e_90fd_11ec_b312_02420a39257drow1_col0\" class=\"data row1 col0\" >0.6</td>\n",
       "                        <td id=\"T_4424c88e_90fd_11ec_b312_02420a39257drow1_col1\" class=\"data row1 col1\" >0.85</td>\n",
       "                        <td id=\"T_4424c88e_90fd_11ec_b312_02420a39257drow1_col2\" class=\"data row1 col2\" >0.78</td>\n",
       "                        <td id=\"T_4424c88e_90fd_11ec_b312_02420a39257drow1_col3\" class=\"data row1 col3\" >0.48</td>\n",
       "            </tr>\n",
       "            <tr>\n",
       "                        <th id=\"T_4424c88e_90fd_11ec_b312_02420a39257dlevel0_row2\" class=\"row_heading level0 row2\" >upsampled</th>\n",
       "                        <td id=\"T_4424c88e_90fd_11ec_b312_02420a39257drow2_col0\" class=\"data row2 col0\" >0.64</td>\n",
       "                        <td id=\"T_4424c88e_90fd_11ec_b312_02420a39257drow2_col1\" class=\"data row2 col1\" >0.85</td>\n",
       "                        <td id=\"T_4424c88e_90fd_11ec_b312_02420a39257drow2_col2\" class=\"data row2 col2\" >0.66</td>\n",
       "                        <td id=\"T_4424c88e_90fd_11ec_b312_02420a39257drow2_col3\" class=\"data row2 col3\" >0.61</td>\n",
       "            </tr>\n",
       "            <tr>\n",
       "                        <th id=\"T_4424c88e_90fd_11ec_b312_02420a39257dlevel0_row3\" class=\"row_heading level0 row3\" >downsampled</th>\n",
       "                        <td id=\"T_4424c88e_90fd_11ec_b312_02420a39257drow3_col0\" class=\"data row3 col0\" >0.6</td>\n",
       "                        <td id=\"T_4424c88e_90fd_11ec_b312_02420a39257drow3_col1\" class=\"data row3 col1\" >0.85</td>\n",
       "                        <td id=\"T_4424c88e_90fd_11ec_b312_02420a39257drow3_col2\" class=\"data row3 col2\" >0.52</td>\n",
       "                        <td id=\"T_4424c88e_90fd_11ec_b312_02420a39257drow3_col3\" class=\"data row3 col3\" >0.72</td>\n",
       "            </tr>\n",
       "    </tbody></table>"
      ],
      "text/plain": [
       "<pandas.io.formats.style.Styler at 0x7f1153f2fed0>"
      ]
     },
     "execution_count": 66,
     "metadata": {},
     "output_type": "execute_result"
    }
   ],
   "source": [
    "#подготовка сводной таблицы\n",
    "d = {\"f1_score\":pd.Series([f1_score_forest, f1_score_balanced, f1_score_up, f1_score_down], index=['no_balanced', 'balanced', 'upsampled', 'downsampled']),\n",
    "     \"auc_roc\": pd.Series([auc_roc_forest, auc_roc_balanced, auc_roc_up, auc_roc_down], index=['no_balanced', 'balanced', 'upsampled', 'downsampled']),\n",
    "     \"precision_score\":pd.Series([precision_score_forest, precision_score_balanced, precision_score_up, precision_score_down], index=['no_balanced', 'balanced', 'upsampled', 'downsampled']),\n",
    "     \"recall_score\":pd.Series([recall_score_forest, recall_score_balanced, recall_score_up, recall_score_down], index=['no_balanced', 'balanced', 'upsampled', 'downsampled'])}\n",
    "\n",
    "pivot = pd.DataFrame(d)\n",
    "pivot.round(decimals=2).style"
   ]
  },
  {
   "cell_type": "markdown",
   "metadata": {},
   "source": [
    "Наивысшее значение f1-меры (0.64) получено на модели, обученной на выборке сбалансированной с помощью техники upsampling, однако наивысшее значение auc_roc (0.86) получено при обучении модели на несбалансированной выборке.\n",
    "Определим какая метрика качества модели будет первостепенной.\n",
    "\n",
    "В случае несбалансированности классов целевого признака метрика auc_roc не показательна - ее высокие значения в нашем случае обусловлены высоким значением точности (precision 0.79) в ущерб полноте (recall 0.45). После обучения модели на сбалансированной выборке значение точности снижается, а значение полноты повышается. Это явление лучшим образом учитывает метрика f1\n",
    "\n",
    "Тестировать целесообразно модель, обученную на выборке сбалансированной с помощью техники upsampling, она выдает средние значения точности (precision 0.66) и полноты (recall 0.61) и имеет наибольший показатель f1-меры."
   ]
  },
  {
   "cell_type": "markdown",
   "metadata": {},
   "source": [
    "## Тестирование модели"
   ]
  },
  {
   "cell_type": "code",
   "execution_count": 67,
   "metadata": {},
   "outputs": [
    {
     "data": {
      "text/plain": [
       "RandomForestClassifier(bootstrap=True, class_weight='balanced',\n",
       "                       criterion='gini', max_depth=15, max_features='auto',\n",
       "                       max_leaf_nodes=None, min_impurity_decrease=0.0,\n",
       "                       min_impurity_split=None, min_samples_leaf=1,\n",
       "                       min_samples_split=2, min_weight_fraction_leaf=0.0,\n",
       "                       n_estimators=491, n_jobs=None, oob_score=False,\n",
       "                       random_state=1, verbose=0, warm_start=False)"
      ]
     },
     "execution_count": 67,
     "metadata": {},
     "output_type": "execute_result"
    }
   ],
   "source": [
    "#вызов параметров модели\n",
    "model_result"
   ]
  },
  {
   "cell_type": "code",
   "execution_count": 68,
   "metadata": {},
   "outputs": [
    {
     "data": {
      "text/plain": [
       "(8000, 12)"
      ]
     },
     "execution_count": 68,
     "metadata": {},
     "output_type": "execute_result"
    }
   ],
   "source": [
    "# объединение тренировочной и валидационной выборок для лучшего обучения\n",
    "df_train_valid = pd.merge(df_train, df_valid, how='outer')\n",
    "df_train_valid.shape"
   ]
  },
  {
   "cell_type": "code",
   "execution_count": 69,
   "metadata": {},
   "outputs": [],
   "source": [
    "#выделение признаков и целевого признака совмещенной обучающей выборки\n",
    "features_train_valid = df_train_valid.drop(['exited'], axis=1)\n",
    "target_train_valid = df_train_valid['exited']"
   ]
  },
  {
   "cell_type": "code",
   "execution_count": 70,
   "metadata": {},
   "outputs": [],
   "source": [
    "#стандартизация совмещенной обучающей выборки\n",
    "features_train_valid[numeric] = scaler.transform(features_train_valid[numeric])"
   ]
  },
  {
   "cell_type": "code",
   "execution_count": 71,
   "metadata": {},
   "outputs": [],
   "source": [
    "#деление совмещенной обучающей выборки на отрицательные и положительные объекты\n",
    "features_zeros = features_train_valid[target_train_valid == 0]\n",
    "features_ones = features_train_valid[target_train_valid == 1]\n",
    "target_zeros = target_train_valid[target_train_valid == 0]\n",
    "target_ones = target_train_valid[target_train_valid == 1]"
   ]
  },
  {
   "cell_type": "code",
   "execution_count": 72,
   "metadata": {},
   "outputs": [],
   "source": [
    "#сборка сбалансированных выборок\n",
    "features_upsampled = pd.concat([features_zeros] + [features_ones] * 4)\n",
    "target_upsampled = pd.concat([target_zeros] + [target_ones] * 4)"
   ]
  },
  {
   "cell_type": "code",
   "execution_count": 73,
   "metadata": {},
   "outputs": [],
   "source": [
    "#перемешивание данных\n",
    "features_upsampled, target_upsampled = shuffle(features_upsampled, target_upsampled, random_state=1)"
   ]
  },
  {
   "cell_type": "code",
   "execution_count": 74,
   "metadata": {},
   "outputs": [
    {
     "data": {
      "text/plain": [
       "RandomForestClassifier(bootstrap=True, class_weight='balanced',\n",
       "                       criterion='gini', max_depth=15, max_features='auto',\n",
       "                       max_leaf_nodes=None, min_impurity_decrease=0.0,\n",
       "                       min_impurity_split=None, min_samples_leaf=1,\n",
       "                       min_samples_split=2, min_weight_fraction_leaf=0.0,\n",
       "                       n_estimators=491, n_jobs=None, oob_score=False,\n",
       "                       random_state=1, verbose=0, warm_start=False)"
      ]
     },
     "execution_count": 74,
     "metadata": {},
     "output_type": "execute_result"
    }
   ],
   "source": [
    "#обучение модели на сбалансированных признаках\n",
    "model_result.fit(features_upsampled, target_upsampled)"
   ]
  },
  {
   "cell_type": "code",
   "execution_count": 75,
   "metadata": {},
   "outputs": [
    {
     "data": {
      "text/plain": [
       "0.616774193548387"
      ]
     },
     "execution_count": 75,
     "metadata": {},
     "output_type": "execute_result"
    }
   ],
   "source": [
    "#получение значения f1-меры\n",
    "predicted_test = model_result.predict(features_test)\n",
    "f1_score_test = f1_score(target_test, predicted_test)\n",
    "f1_score_test"
   ]
  },
  {
   "cell_type": "code",
   "execution_count": 76,
   "metadata": {},
   "outputs": [
    {
     "data": {
      "text/plain": [
       "0.8496473779385173"
      ]
     },
     "execution_count": 76,
     "metadata": {},
     "output_type": "execute_result"
    }
   ],
   "source": [
    "#получение значения auc_roc\n",
    "probabilities_test = model_result.predict_proba(features_test)\n",
    "probabilities_one_test = probabilities_test[:, 1]\n",
    "\n",
    "fpr, tpr, thresholds = roc_curve(target_test, probabilities_one_test)\n",
    "auc_roc_test = roc_auc_score(target_test, probabilities_one_test)\n",
    "auc_roc_test"
   ]
  },
  {
   "cell_type": "code",
   "execution_count": 77,
   "metadata": {},
   "outputs": [
    {
     "data": {
      "image/png": "[encoded data removed]",
      "text/plain": [
       "<Figure size 432x288 with 1 Axes>"
      ]
     },
     "metadata": {
      "needs_background": "light"
     },
     "output_type": "display_data"
    }
   ],
   "source": [
    "#построение ROC-кривой\n",
    "plt.figure()\n",
    "plt.plot(fpr, tpr)\n",
    "plt.plot([0.0, 1.0], [0.0, 1.0], linestyle='--')# ROC-кривая случайной модели\n",
    "plt.ylim([0.0, 1.0])\n",
    "plt.xlim([0.0, 1.0])\n",
    "plt.xlabel('False Positive Rate')\n",
    "plt.ylabel('True Positive Rate')\n",
    "plt.title('ROC-кривая')\n",
    "plt.show()"
   ]
  },
  {
   "cell_type": "markdown",
   "metadata": {},
   "source": [
    "### Вывод"
   ]
  },
  {
   "cell_type": "markdown",
   "metadata": {},
   "source": [
    "F1-мера обученной модели на тренировочной выборке достигает значения 0,62, значение auc_roc - 0,85"
   ]
  },
  {
   "cell_type": "markdown",
   "metadata": {},
   "source": [
    "## Общий вывод"
   ]
  },
  {
   "cell_type": "markdown",
   "metadata": {},
   "source": [
    "В целях прогнозирования оттока клиентов из банка изучены исторические данные о поведении клиентов и расторжении договоров с банком.\n",
    "\n",
    "Проведено исследовние различных моделей машинного обучения. \n",
    "\n",
    "Наилучший результат на валидационной выборке (F1-мера = 0,60) показала модель случайного леса с гипепарамрами: число деревьев - 491, максимальная глубина дерева - 15 с применением автоматической корректировки весов классов с помощью режима balanced параметра class_weight.\n",
    "\n",
    "Для повышения качества модели проведена балансировка классов путем увеличения выборки с помощью техники upsampling. В результате значение F1-меры модели на валидационной выборке увеличено до 0.64.\n",
    "\n",
    "Значение F1-меры на тестовой выборке для даной модели - 0,62, значение auc_roc - 0,85."
   ]
  }
 ],
 "metadata": {
  "ExecuteTimeLog": [
   {
    "duration": 1428,
    "start_time": "2022-02-14T13:54:38.521Z"
   },
   {
    "duration": 32,
    "start_time": "2022-02-14T13:54:42.226Z"
   },
   {
    "duration": 28,
    "start_time": "2022-02-14T13:54:44.185Z"
   },
   {
    "duration": 12,
    "start_time": "2022-02-14T13:56:24.519Z"
   },
   {
    "duration": 36728,
    "start_time": "2022-02-14T14:14:29.029Z"
   },
   {
    "duration": 6,
    "start_time": "2022-02-14T14:15:07.978Z"
   },
   {
    "duration": 40,
    "start_time": "2022-02-14T14:15:07.987Z"
   },
   {
    "duration": 22,
    "start_time": "2022-02-14T14:15:08.030Z"
   },
   {
    "duration": 21,
    "start_time": "2022-02-14T14:15:08.056Z"
   },
   {
    "duration": 37414,
    "start_time": "2022-02-14T14:15:08.079Z"
   },
   {
    "duration": 39221,
    "start_time": "2022-02-14T14:18:01.381Z"
   },
   {
    "duration": 39776,
    "start_time": "2022-02-14T14:19:37.461Z"
   },
   {
    "duration": 6,
    "start_time": "2022-02-14T14:24:08.436Z"
   },
   {
    "duration": 26601,
    "start_time": "2022-02-14T14:24:17.452Z"
   },
   {
    "duration": 22,
    "start_time": "2022-02-14T14:42:00.575Z"
   },
   {
    "duration": 933,
    "start_time": "2022-02-14T14:48:22.813Z"
   },
   {
    "duration": 83,
    "start_time": "2022-02-14T14:48:44.707Z"
   },
   {
    "duration": 105,
    "start_time": "2022-02-14T14:48:49.507Z"
   },
   {
    "duration": 6,
    "start_time": "2022-02-14T14:58:56.640Z"
   },
   {
    "duration": 9,
    "start_time": "2022-02-14T14:59:08.650Z"
   },
   {
    "duration": 1198,
    "start_time": "2022-02-14T15:06:04.173Z"
   },
   {
    "duration": 1142,
    "start_time": "2022-02-14T15:18:52.219Z"
   },
   {
    "duration": 3,
    "start_time": "2022-02-14T15:27:57.748Z"
   },
   {
    "duration": 4,
    "start_time": "2022-02-14T15:28:46.265Z"
   },
   {
    "duration": 41,
    "start_time": "2022-02-14T15:28:46.272Z"
   },
   {
    "duration": 22,
    "start_time": "2022-02-14T15:28:46.316Z"
   },
   {
    "duration": 31,
    "start_time": "2022-02-14T15:28:46.342Z"
   },
   {
    "duration": 3,
    "start_time": "2022-02-14T15:28:46.376Z"
   },
   {
    "duration": 9,
    "start_time": "2022-02-14T15:28:46.381Z"
   },
   {
    "duration": 8,
    "start_time": "2022-02-14T15:28:46.392Z"
   },
   {
    "duration": 92,
    "start_time": "2022-02-14T15:28:46.403Z"
   },
   {
    "duration": 6,
    "start_time": "2022-02-14T15:29:53.228Z"
   },
   {
    "duration": 6,
    "start_time": "2022-02-14T15:33:14.158Z"
   },
   {
    "duration": 93,
    "start_time": "2022-02-14T15:36:31.180Z"
   },
   {
    "duration": 7,
    "start_time": "2022-02-14T15:36:40.876Z"
   },
   {
    "duration": 7,
    "start_time": "2022-02-14T15:36:42.368Z"
   },
   {
    "duration": 6,
    "start_time": "2022-02-14T15:37:03.808Z"
   },
   {
    "duration": 6,
    "start_time": "2022-02-14T15:37:21.305Z"
   },
   {
    "duration": 4,
    "start_time": "2022-02-14T15:37:23.833Z"
   },
   {
    "duration": 38,
    "start_time": "2022-02-14T15:37:23.841Z"
   },
   {
    "duration": 26,
    "start_time": "2022-02-14T15:37:23.882Z"
   },
   {
    "duration": 22,
    "start_time": "2022-02-14T15:37:23.911Z"
   },
   {
    "duration": 9,
    "start_time": "2022-02-14T15:37:23.935Z"
   },
   {
    "duration": 26,
    "start_time": "2022-02-14T15:37:23.947Z"
   },
   {
    "duration": 9,
    "start_time": "2022-02-14T15:37:23.976Z"
   },
   {
    "duration": 20,
    "start_time": "2022-02-14T15:37:23.988Z"
   },
   {
    "duration": 81,
    "start_time": "2022-02-14T15:37:24.010Z"
   },
   {
    "duration": 4,
    "start_time": "2022-02-14T15:54:18.822Z"
   },
   {
    "duration": 6,
    "start_time": "2022-02-14T15:54:21.198Z"
   },
   {
    "duration": 63,
    "start_time": "2022-02-14T15:54:39.998Z"
   },
   {
    "duration": 5,
    "start_time": "2022-02-14T15:54:50.468Z"
   },
   {
    "duration": 33,
    "start_time": "2022-02-14T15:54:50.476Z"
   },
   {
    "duration": 20,
    "start_time": "2022-02-14T15:54:50.513Z"
   },
   {
    "duration": 38,
    "start_time": "2022-02-14T15:54:50.536Z"
   },
   {
    "duration": 6,
    "start_time": "2022-02-14T15:54:50.577Z"
   },
   {
    "duration": 14,
    "start_time": "2022-02-14T15:54:50.585Z"
   },
   {
    "duration": 8,
    "start_time": "2022-02-14T15:54:50.601Z"
   },
   {
    "duration": 13,
    "start_time": "2022-02-14T15:54:50.612Z"
   },
   {
    "duration": 82,
    "start_time": "2022-02-14T15:54:50.628Z"
   },
   {
    "duration": 1705,
    "start_time": "2022-02-14T15:55:14.600Z"
   },
   {
    "duration": 31,
    "start_time": "2022-02-14T15:55:16.308Z"
   },
   {
    "duration": 34,
    "start_time": "2022-02-14T15:55:16.342Z"
   },
   {
    "duration": 13,
    "start_time": "2022-02-14T15:55:16.379Z"
   },
   {
    "duration": 6,
    "start_time": "2022-02-14T15:55:16.394Z"
   },
   {
    "duration": 7,
    "start_time": "2022-02-14T15:55:16.402Z"
   },
   {
    "duration": 13,
    "start_time": "2022-02-14T15:55:16.411Z"
   },
   {
    "duration": 48,
    "start_time": "2022-02-14T15:55:16.427Z"
   },
   {
    "duration": 767,
    "start_time": "2022-02-14T15:55:16.478Z"
   },
   {
    "duration": 1361,
    "start_time": "2022-02-14T16:04:15.987Z"
   },
   {
    "duration": 4,
    "start_time": "2022-02-14T16:04:39.124Z"
   },
   {
    "duration": 7,
    "start_time": "2022-02-14T16:04:41.624Z"
   },
   {
    "duration": 665,
    "start_time": "2022-02-14T16:04:44.793Z"
   },
   {
    "duration": 31,
    "start_time": "2022-02-14T16:07:33.924Z"
   },
   {
    "duration": 12,
    "start_time": "2022-02-14T16:08:37.204Z"
   },
   {
    "duration": 471,
    "start_time": "2022-02-14T16:11:23.999Z"
   },
   {
    "duration": 343,
    "start_time": "2022-02-14T16:12:10.015Z"
   },
   {
    "duration": 248,
    "start_time": "2022-02-14T16:12:36.160Z"
   },
   {
    "duration": 246,
    "start_time": "2022-02-14T16:12:39.335Z"
   },
   {
    "duration": 615,
    "start_time": "2022-02-14T16:13:20.049Z"
   },
   {
    "duration": 317,
    "start_time": "2022-02-14T16:13:26.224Z"
   },
   {
    "duration": 396,
    "start_time": "2022-02-14T16:13:32.039Z"
   },
   {
    "duration": 371,
    "start_time": "2022-02-14T16:14:21.593Z"
   },
   {
    "duration": 299,
    "start_time": "2022-02-14T16:14:28.921Z"
   },
   {
    "duration": 240,
    "start_time": "2022-02-14T16:14:31.881Z"
   },
   {
    "duration": 10,
    "start_time": "2022-02-14T16:21:10.365Z"
   },
   {
    "duration": 10,
    "start_time": "2022-02-14T16:22:09.047Z"
   },
   {
    "duration": 10,
    "start_time": "2022-02-14T16:22:41.238Z"
   },
   {
    "duration": 11,
    "start_time": "2022-02-14T16:23:38.560Z"
   },
   {
    "duration": 244,
    "start_time": "2022-02-14T16:24:29.529Z"
   },
   {
    "duration": 17,
    "start_time": "2022-02-14T16:26:06.691Z"
   },
   {
    "duration": 12,
    "start_time": "2022-02-14T16:26:18.969Z"
   },
   {
    "duration": 12,
    "start_time": "2022-02-14T16:26:22.657Z"
   },
   {
    "duration": 13,
    "start_time": "2022-02-14T16:26:26.633Z"
   },
   {
    "duration": 12,
    "start_time": "2022-02-14T16:26:31.834Z"
   },
   {
    "duration": 12,
    "start_time": "2022-02-14T16:26:37.042Z"
   },
   {
    "duration": 12,
    "start_time": "2022-02-14T16:26:39.698Z"
   },
   {
    "duration": 13,
    "start_time": "2022-02-14T16:26:43.723Z"
   },
   {
    "duration": 302,
    "start_time": "2022-02-14T16:27:10.299Z"
   },
   {
    "duration": 14,
    "start_time": "2022-02-14T16:31:31.910Z"
   },
   {
    "duration": 13,
    "start_time": "2022-02-14T16:31:36.029Z"
   },
   {
    "duration": 12,
    "start_time": "2022-02-14T16:31:40.070Z"
   },
   {
    "duration": 16,
    "start_time": "2022-02-14T16:31:43.030Z"
   },
   {
    "duration": 22,
    "start_time": "2022-02-14T16:33:29.360Z"
   },
   {
    "duration": 13,
    "start_time": "2022-02-14T16:33:41.092Z"
   },
   {
    "duration": 12,
    "start_time": "2022-02-14T16:33:45.591Z"
   },
   {
    "duration": 11,
    "start_time": "2022-02-14T16:33:51.808Z"
   },
   {
    "duration": 12,
    "start_time": "2022-02-14T16:34:11.888Z"
   },
   {
    "duration": 11,
    "start_time": "2022-02-14T16:34:22.313Z"
   },
   {
    "duration": 10,
    "start_time": "2022-02-14T16:34:44.443Z"
   },
   {
    "duration": 9,
    "start_time": "2022-02-14T16:34:59.697Z"
   },
   {
    "duration": 11,
    "start_time": "2022-02-14T16:35:48.178Z"
   },
   {
    "duration": 10,
    "start_time": "2022-02-14T16:35:58.810Z"
   },
   {
    "duration": 5,
    "start_time": "2022-02-14T17:24:21.816Z"
   },
   {
    "duration": 9,
    "start_time": "2022-02-14T17:24:24.255Z"
   },
   {
    "duration": 8593,
    "start_time": "2022-02-14T17:28:17.859Z"
   },
   {
    "duration": 35,
    "start_time": "2022-02-14T17:28:36.211Z"
   },
   {
    "duration": 10,
    "start_time": "2022-02-14T17:30:47.834Z"
   },
   {
    "duration": 9,
    "start_time": "2022-02-14T17:31:58.054Z"
   },
   {
    "duration": 11,
    "start_time": "2022-02-14T17:35:36.857Z"
   },
   {
    "duration": 244,
    "start_time": "2022-02-14T17:37:02.170Z"
   },
   {
    "duration": 10,
    "start_time": "2022-02-14T17:38:05.203Z"
   },
   {
    "duration": 9,
    "start_time": "2022-02-14T17:38:44.740Z"
   },
   {
    "duration": 10,
    "start_time": "2022-02-14T17:40:15.717Z"
   },
   {
    "duration": 12,
    "start_time": "2022-02-14T17:41:16.814Z"
   },
   {
    "duration": 262,
    "start_time": "2022-02-14T17:41:58.245Z"
   },
   {
    "duration": 9,
    "start_time": "2022-02-14T17:45:04.785Z"
   },
   {
    "duration": 91,
    "start_time": "2022-02-14T18:14:25.351Z"
   },
   {
    "duration": 12,
    "start_time": "2022-02-14T18:14:32.432Z"
   },
   {
    "duration": 6,
    "start_time": "2022-02-14T18:14:34.366Z"
   },
   {
    "duration": 7,
    "start_time": "2022-02-14T18:43:26.886Z"
   },
   {
    "duration": 31,
    "start_time": "2022-02-14T18:47:44.761Z"
   },
   {
    "duration": 258,
    "start_time": "2022-02-14T18:48:17.437Z"
   },
   {
    "duration": 15,
    "start_time": "2022-02-14T18:48:24.418Z"
   },
   {
    "duration": 15,
    "start_time": "2022-02-14T18:49:20.754Z"
   },
   {
    "duration": 311,
    "start_time": "2022-02-14T18:59:27.498Z"
   },
   {
    "duration": 8,
    "start_time": "2022-02-14T18:59:34.418Z"
   },
   {
    "duration": 9,
    "start_time": "2022-02-14T19:00:46.084Z"
   },
   {
    "duration": 7,
    "start_time": "2022-02-14T19:03:03.450Z"
   },
   {
    "duration": 922,
    "start_time": "2022-02-14T19:03:03.460Z"
   },
   {
    "duration": 356,
    "start_time": "2022-02-14T19:03:04.386Z"
   },
   {
    "duration": 641,
    "start_time": "2022-02-14T19:03:04.745Z"
   },
   {
    "duration": 268,
    "start_time": "2022-02-14T19:03:05.389Z"
   },
   {
    "duration": 305,
    "start_time": "2022-02-14T19:03:05.661Z"
   },
   {
    "duration": 369,
    "start_time": "2022-02-14T19:03:05.969Z"
   },
   {
    "duration": 204,
    "start_time": "2022-02-14T19:03:06.343Z"
   },
   {
    "duration": 277,
    "start_time": "2022-02-14T19:03:06.551Z"
   },
   {
    "duration": 565,
    "start_time": "2022-02-14T19:03:06.832Z"
   },
   {
    "duration": 10,
    "start_time": "2022-02-14T19:03:07.400Z"
   },
   {
    "duration": 183,
    "start_time": "2022-02-14T19:03:07.412Z"
   },
   {
    "duration": 352,
    "start_time": "2022-02-14T19:03:07.597Z"
   },
   {
    "duration": 300,
    "start_time": "2022-02-14T19:03:07.952Z"
   },
   {
    "duration": 283,
    "start_time": "2022-02-14T19:03:08.255Z"
   },
   {
    "duration": 578,
    "start_time": "2022-02-14T19:03:08.541Z"
   },
   {
    "duration": 12,
    "start_time": "2022-02-14T19:03:09.122Z"
   },
   {
    "duration": 176,
    "start_time": "2022-02-14T19:03:09.137Z"
   },
   {
    "duration": 191,
    "start_time": "2022-02-14T19:03:09.316Z"
   },
   {
    "duration": 253,
    "start_time": "2022-02-14T19:03:09.510Z"
   },
   {
    "duration": 201,
    "start_time": "2022-02-14T19:03:09.765Z"
   },
   {
    "duration": 489,
    "start_time": "2022-02-14T19:03:09.968Z"
   },
   {
    "duration": 231,
    "start_time": "2022-02-14T19:03:10.462Z"
   },
   {
    "duration": 259,
    "start_time": "2022-02-14T19:03:10.696Z"
   },
   {
    "duration": 221,
    "start_time": "2022-02-14T19:03:10.958Z"
   },
   {
    "duration": 247,
    "start_time": "2022-02-14T19:03:11.182Z"
   },
   {
    "duration": 234,
    "start_time": "2022-02-14T19:03:11.432Z"
   },
   {
    "duration": 247,
    "start_time": "2022-02-14T19:03:11.669Z"
   },
   {
    "duration": 457,
    "start_time": "2022-02-14T19:07:36.187Z"
   },
   {
    "duration": 12,
    "start_time": "2022-02-14T19:09:32.027Z"
   },
   {
    "duration": 5,
    "start_time": "2022-02-14T19:19:12.660Z"
   },
   {
    "duration": 46,
    "start_time": "2022-02-14T19:19:12.668Z"
   },
   {
    "duration": 24,
    "start_time": "2022-02-14T19:19:12.717Z"
   },
   {
    "duration": 16,
    "start_time": "2022-02-14T19:19:12.769Z"
   },
   {
    "duration": 7,
    "start_time": "2022-02-14T19:19:12.788Z"
   },
   {
    "duration": 11,
    "start_time": "2022-02-14T19:19:12.798Z"
   },
   {
    "duration": 111,
    "start_time": "2022-02-14T19:19:12.812Z"
   },
   {
    "duration": 14,
    "start_time": "2022-02-14T19:19:12.927Z"
   },
   {
    "duration": 34,
    "start_time": "2022-02-14T19:19:12.945Z"
   },
   {
    "duration": 383,
    "start_time": "2022-02-14T19:19:12.982Z"
   },
   {
    "duration": 13,
    "start_time": "2022-02-14T19:19:13.370Z"
   },
   {
    "duration": 12,
    "start_time": "2022-02-14T19:19:13.386Z"
   },
   {
    "duration": 13,
    "start_time": "2022-02-14T19:19:13.401Z"
   },
   {
    "duration": 376,
    "start_time": "2022-02-14T19:19:13.417Z"
   },
   {
    "duration": 10,
    "start_time": "2022-02-14T19:19:13.796Z"
   },
   {
    "duration": 4,
    "start_time": "2022-02-14T19:19:13.809Z"
   },
   {
    "duration": 9,
    "start_time": "2022-02-14T19:19:13.816Z"
   },
   {
    "duration": 43,
    "start_time": "2022-02-14T19:19:13.827Z"
   },
   {
    "duration": 13,
    "start_time": "2022-02-14T19:19:13.873Z"
   },
   {
    "duration": 10,
    "start_time": "2022-02-14T19:19:13.889Z"
   },
   {
    "duration": 10,
    "start_time": "2022-02-14T19:19:13.902Z"
   },
   {
    "duration": 10,
    "start_time": "2022-02-14T19:19:13.915Z"
   },
   {
    "duration": 13,
    "start_time": "2022-02-14T19:19:13.970Z"
   },
   {
    "duration": 10,
    "start_time": "2022-02-14T19:19:13.986Z"
   },
   {
    "duration": 12,
    "start_time": "2022-02-14T19:19:13.998Z"
   },
   {
    "duration": 5,
    "start_time": "2022-02-14T19:19:14.013Z"
   },
   {
    "duration": 12,
    "start_time": "2022-02-14T19:19:31.739Z"
   },
   {
    "duration": 33,
    "start_time": "2022-02-14T19:23:13.550Z"
   },
   {
    "duration": 82,
    "start_time": "2022-02-14T19:23:22.193Z"
   },
   {
    "duration": 20,
    "start_time": "2022-02-14T19:23:29.749Z"
   },
   {
    "duration": 295,
    "start_time": "2022-02-14T19:23:57.158Z"
   },
   {
    "duration": 27,
    "start_time": "2022-02-14T19:24:04.127Z"
   },
   {
    "duration": 7,
    "start_time": "2022-02-14T19:41:16.878Z"
   },
   {
    "duration": 35,
    "start_time": "2022-02-14T19:41:16.890Z"
   },
   {
    "duration": 44,
    "start_time": "2022-02-14T19:41:16.928Z"
   },
   {
    "duration": 14,
    "start_time": "2022-02-14T19:41:16.976Z"
   },
   {
    "duration": 5,
    "start_time": "2022-02-14T19:41:16.993Z"
   },
   {
    "duration": 10,
    "start_time": "2022-02-14T19:41:17.001Z"
   },
   {
    "duration": 108,
    "start_time": "2022-02-14T19:41:17.013Z"
   },
   {
    "duration": 14,
    "start_time": "2022-02-14T19:41:17.127Z"
   },
   {
    "duration": 32,
    "start_time": "2022-02-14T19:41:17.144Z"
   },
   {
    "duration": 342,
    "start_time": "2022-02-14T19:41:17.183Z"
   },
   {
    "duration": 9,
    "start_time": "2022-02-14T19:41:17.528Z"
   },
   {
    "duration": 34,
    "start_time": "2022-02-14T19:41:17.539Z"
   },
   {
    "duration": 13,
    "start_time": "2022-02-14T19:41:17.576Z"
   },
   {
    "duration": 292,
    "start_time": "2022-02-14T19:41:17.592Z"
   },
   {
    "duration": 10,
    "start_time": "2022-02-14T19:41:17.887Z"
   },
   {
    "duration": 29,
    "start_time": "2022-02-14T19:41:17.900Z"
   },
   {
    "duration": 9,
    "start_time": "2022-02-14T19:41:17.932Z"
   },
   {
    "duration": 15,
    "start_time": "2022-02-14T19:41:17.968Z"
   },
   {
    "duration": 11,
    "start_time": "2022-02-14T19:41:17.986Z"
   },
   {
    "duration": 17,
    "start_time": "2022-02-14T19:41:17.999Z"
   },
   {
    "duration": 9,
    "start_time": "2022-02-14T19:41:18.019Z"
   },
   {
    "duration": 46,
    "start_time": "2022-02-14T19:41:18.030Z"
   },
   {
    "duration": 10,
    "start_time": "2022-02-14T19:41:18.082Z"
   },
   {
    "duration": 13,
    "start_time": "2022-02-14T19:41:18.095Z"
   },
   {
    "duration": 10,
    "start_time": "2022-02-14T19:41:18.110Z"
   },
   {
    "duration": 12,
    "start_time": "2022-02-14T19:41:18.122Z"
   },
   {
    "duration": 17,
    "start_time": "2022-02-14T19:41:18.170Z"
   },
   {
    "duration": 297,
    "start_time": "2022-02-15T14:12:26.855Z"
   },
   {
    "duration": 1293,
    "start_time": "2022-02-15T14:12:29.754Z"
   },
   {
    "duration": 38,
    "start_time": "2022-02-15T14:12:31.049Z"
   },
   {
    "duration": 18,
    "start_time": "2022-02-15T14:12:31.089Z"
   },
   {
    "duration": 13,
    "start_time": "2022-02-15T14:12:31.109Z"
   },
   {
    "duration": 4,
    "start_time": "2022-02-15T14:12:31.124Z"
   },
   {
    "duration": 16,
    "start_time": "2022-02-15T14:12:31.130Z"
   },
   {
    "duration": 27,
    "start_time": "2022-02-15T14:12:31.148Z"
   },
   {
    "duration": 11,
    "start_time": "2022-02-15T14:12:31.178Z"
   },
   {
    "duration": 12,
    "start_time": "2022-02-15T14:12:31.192Z"
   },
   {
    "duration": 16,
    "start_time": "2022-02-15T14:12:31.206Z"
   },
   {
    "duration": 24,
    "start_time": "2022-02-15T14:12:31.224Z"
   },
   {
    "duration": 20,
    "start_time": "2022-02-15T14:12:31.250Z"
   },
   {
    "duration": 9,
    "start_time": "2022-02-15T14:12:31.272Z"
   },
   {
    "duration": 18,
    "start_time": "2022-02-15T14:12:31.283Z"
   },
   {
    "duration": 8,
    "start_time": "2022-02-15T14:12:31.303Z"
   },
   {
    "duration": 8,
    "start_time": "2022-02-15T14:12:31.313Z"
   },
   {
    "duration": 9,
    "start_time": "2022-02-15T14:12:31.323Z"
   },
   {
    "duration": 11,
    "start_time": "2022-02-15T14:12:31.334Z"
   },
   {
    "duration": 28,
    "start_time": "2022-02-15T14:12:31.346Z"
   },
   {
    "duration": 7,
    "start_time": "2022-02-15T14:12:31.376Z"
   },
   {
    "duration": 7,
    "start_time": "2022-02-15T14:12:31.385Z"
   },
   {
    "duration": 10,
    "start_time": "2022-02-15T14:12:31.393Z"
   },
   {
    "duration": 6,
    "start_time": "2022-02-15T14:12:31.406Z"
   },
   {
    "duration": 9,
    "start_time": "2022-02-15T14:12:31.414Z"
   },
   {
    "duration": 4,
    "start_time": "2022-02-15T14:12:31.425Z"
   },
   {
    "duration": 1112,
    "start_time": "2022-02-15T14:14:10.933Z"
   },
   {
    "duration": 27,
    "start_time": "2022-02-15T14:14:15.777Z"
   },
   {
    "duration": 3,
    "start_time": "2022-02-15T14:14:40.405Z"
   },
   {
    "duration": 61,
    "start_time": "2022-02-15T14:14:40.410Z"
   },
   {
    "duration": 17,
    "start_time": "2022-02-15T14:14:40.473Z"
   },
   {
    "duration": 25,
    "start_time": "2022-02-15T14:14:40.492Z"
   },
   {
    "duration": 7,
    "start_time": "2022-02-15T14:14:40.519Z"
   },
   {
    "duration": 31,
    "start_time": "2022-02-15T14:14:40.528Z"
   },
   {
    "duration": 43,
    "start_time": "2022-02-15T14:14:40.561Z"
   },
   {
    "duration": 21,
    "start_time": "2022-02-15T14:14:40.606Z"
   },
   {
    "duration": 36,
    "start_time": "2022-02-15T14:14:40.631Z"
   },
   {
    "duration": 16,
    "start_time": "2022-02-15T14:14:40.669Z"
   },
   {
    "duration": 19,
    "start_time": "2022-02-15T14:14:40.687Z"
   },
   {
    "duration": 23,
    "start_time": "2022-02-15T14:14:40.708Z"
   },
   {
    "duration": 14,
    "start_time": "2022-02-15T14:14:40.733Z"
   },
   {
    "duration": 26,
    "start_time": "2022-02-15T14:14:40.749Z"
   },
   {
    "duration": 12,
    "start_time": "2022-02-15T14:14:40.777Z"
   },
   {
    "duration": 23,
    "start_time": "2022-02-15T14:14:40.792Z"
   },
   {
    "duration": 30,
    "start_time": "2022-02-15T14:14:40.817Z"
   },
   {
    "duration": 19,
    "start_time": "2022-02-15T14:14:40.849Z"
   },
   {
    "duration": 18,
    "start_time": "2022-02-15T14:14:40.869Z"
   },
   {
    "duration": 10,
    "start_time": "2022-02-15T14:14:40.889Z"
   },
   {
    "duration": 25,
    "start_time": "2022-02-15T14:14:40.901Z"
   },
   {
    "duration": 13,
    "start_time": "2022-02-15T14:14:40.928Z"
   },
   {
    "duration": 237,
    "start_time": "2022-02-15T14:15:23.977Z"
   },
   {
    "duration": 282,
    "start_time": "2022-02-15T14:15:46.033Z"
   },
   {
    "duration": 248,
    "start_time": "2022-02-15T14:16:16.146Z"
   },
   {
    "duration": 265,
    "start_time": "2022-02-15T14:16:21.155Z"
   },
   {
    "duration": 317,
    "start_time": "2022-02-15T14:16:36.836Z"
   },
   {
    "duration": 249,
    "start_time": "2022-02-15T14:16:44.345Z"
   },
   {
    "duration": 238,
    "start_time": "2022-02-15T14:17:13.731Z"
   },
   {
    "duration": 246,
    "start_time": "2022-02-15T14:17:17.339Z"
   },
   {
    "duration": 8,
    "start_time": "2022-02-15T14:21:46.744Z"
   },
   {
    "duration": 225,
    "start_time": "2022-02-15T14:27:32.029Z"
   },
   {
    "duration": 298,
    "start_time": "2022-02-15T14:35:01.075Z"
   },
   {
    "duration": 226,
    "start_time": "2022-02-15T14:35:04.267Z"
   },
   {
    "duration": 407,
    "start_time": "2022-02-15T14:35:08.922Z"
   },
   {
    "duration": 927,
    "start_time": "2022-02-15T14:35:29.426Z"
   },
   {
    "duration": 986,
    "start_time": "2022-02-15T14:35:38.777Z"
   },
   {
    "duration": 637,
    "start_time": "2022-02-15T14:35:43.770Z"
   },
   {
    "duration": 1188,
    "start_time": "2022-02-15T14:35:48.099Z"
   },
   {
    "duration": 1096,
    "start_time": "2022-02-15T14:36:23.906Z"
   },
   {
    "duration": 307,
    "start_time": "2022-02-15T14:37:58.052Z"
   },
   {
    "duration": 294,
    "start_time": "2022-02-15T14:38:07.387Z"
   },
   {
    "duration": 434,
    "start_time": "2022-02-15T14:38:13.156Z"
   },
   {
    "duration": 212,
    "start_time": "2022-02-15T14:38:29.837Z"
   },
   {
    "duration": 220,
    "start_time": "2022-02-15T14:40:24.334Z"
   },
   {
    "duration": 210,
    "start_time": "2022-02-15T14:40:29.303Z"
   },
   {
    "duration": 205,
    "start_time": "2022-02-15T14:40:35.342Z"
   },
   {
    "duration": 205,
    "start_time": "2022-02-15T14:40:39.531Z"
   },
   {
    "duration": 219,
    "start_time": "2022-02-15T14:40:43.107Z"
   },
   {
    "duration": 223,
    "start_time": "2022-02-15T14:40:49.221Z"
   },
   {
    "duration": 22,
    "start_time": "2022-02-15T14:42:46.415Z"
   },
   {
    "duration": 23,
    "start_time": "2022-02-15T14:43:11.181Z"
   },
   {
    "duration": 20,
    "start_time": "2022-02-15T14:43:16.361Z"
   },
   {
    "duration": 22,
    "start_time": "2022-02-15T14:43:19.603Z"
   },
   {
    "duration": 21,
    "start_time": "2022-02-15T14:43:34.137Z"
   },
   {
    "duration": 22,
    "start_time": "2022-02-15T14:43:38.329Z"
   },
   {
    "duration": 9,
    "start_time": "2022-02-15T14:43:43.905Z"
   },
   {
    "duration": 27,
    "start_time": "2022-02-15T14:43:48.273Z"
   },
   {
    "duration": 24,
    "start_time": "2022-02-15T14:47:44.318Z"
   },
   {
    "duration": 194,
    "start_time": "2022-02-15T14:48:17.124Z"
   },
   {
    "duration": 206,
    "start_time": "2022-02-15T14:48:21.668Z"
   },
   {
    "duration": 202,
    "start_time": "2022-02-15T14:48:25.420Z"
   },
   {
    "duration": 5,
    "start_time": "2022-02-15T17:20:38.082Z"
   },
   {
    "duration": 4,
    "start_time": "2022-02-15T17:22:56.499Z"
   },
   {
    "duration": 4,
    "start_time": "2022-02-15T17:22:58.116Z"
   },
   {
    "duration": 5,
    "start_time": "2022-02-15T17:23:39.661Z"
   },
   {
    "duration": 23,
    "start_time": "2022-02-15T17:24:12.955Z"
   },
   {
    "duration": 21,
    "start_time": "2022-02-15T17:25:25.474Z"
   },
   {
    "duration": 23,
    "start_time": "2022-02-15T17:25:32.894Z"
   },
   {
    "duration": 17,
    "start_time": "2022-02-15T17:25:39.229Z"
   },
   {
    "duration": 4,
    "start_time": "2022-02-15T17:27:20.989Z"
   },
   {
    "duration": 49,
    "start_time": "2022-02-15T17:27:20.995Z"
   },
   {
    "duration": 15,
    "start_time": "2022-02-15T17:27:21.047Z"
   },
   {
    "duration": 14,
    "start_time": "2022-02-15T17:27:21.065Z"
   },
   {
    "duration": 9,
    "start_time": "2022-02-15T17:27:21.082Z"
   },
   {
    "duration": 15,
    "start_time": "2022-02-15T17:27:21.094Z"
   },
   {
    "duration": 16,
    "start_time": "2022-02-15T17:27:21.112Z"
   },
   {
    "duration": 52,
    "start_time": "2022-02-15T17:27:21.131Z"
   },
   {
    "duration": 269,
    "start_time": "2022-02-15T17:27:21.186Z"
   },
   {
    "duration": 336,
    "start_time": "2022-02-15T17:27:21.458Z"
   },
   {
    "duration": 235,
    "start_time": "2022-02-15T17:27:21.797Z"
   },
   {
    "duration": 232,
    "start_time": "2022-02-15T17:27:22.034Z"
   },
   {
    "duration": 4,
    "start_time": "2022-02-15T17:27:22.268Z"
   },
   {
    "duration": 20,
    "start_time": "2022-02-15T17:27:22.274Z"
   },
   {
    "duration": 13,
    "start_time": "2022-02-15T17:27:22.297Z"
   },
   {
    "duration": 11,
    "start_time": "2022-02-15T17:27:22.313Z"
   },
   {
    "duration": 14,
    "start_time": "2022-02-15T17:27:22.326Z"
   },
   {
    "duration": 11,
    "start_time": "2022-02-15T17:27:22.342Z"
   },
   {
    "duration": 18,
    "start_time": "2022-02-15T17:27:22.354Z"
   },
   {
    "duration": 8,
    "start_time": "2022-02-15T17:27:22.374Z"
   },
   {
    "duration": 21,
    "start_time": "2022-02-15T17:27:22.384Z"
   },
   {
    "duration": 10,
    "start_time": "2022-02-15T17:27:22.407Z"
   },
   {
    "duration": 11,
    "start_time": "2022-02-15T17:27:22.419Z"
   },
   {
    "duration": 13,
    "start_time": "2022-02-15T17:27:22.432Z"
   },
   {
    "duration": 14,
    "start_time": "2022-02-15T17:27:22.447Z"
   },
   {
    "duration": 26,
    "start_time": "2022-02-15T17:27:22.463Z"
   },
   {
    "duration": 20,
    "start_time": "2022-02-15T17:27:22.492Z"
   },
   {
    "duration": 19,
    "start_time": "2022-02-15T17:27:22.514Z"
   },
   {
    "duration": 23,
    "start_time": "2022-02-15T17:27:22.535Z"
   },
   {
    "duration": 7,
    "start_time": "2022-02-15T17:56:22.351Z"
   },
   {
    "duration": 27,
    "start_time": "2022-02-15T17:56:27.822Z"
   },
   {
    "duration": 25,
    "start_time": "2022-02-15T17:57:52.294Z"
   },
   {
    "duration": 13,
    "start_time": "2022-02-15T17:58:35.176Z"
   },
   {
    "duration": 25,
    "start_time": "2022-02-15T18:01:19.066Z"
   },
   {
    "duration": 289,
    "start_time": "2022-02-15T18:16:09.233Z"
   },
   {
    "duration": 224,
    "start_time": "2022-02-15T18:19:04.577Z"
   },
   {
    "duration": 205,
    "start_time": "2022-02-15T18:19:44.345Z"
   },
   {
    "duration": 204,
    "start_time": "2022-02-15T18:19:58.009Z"
   },
   {
    "duration": 4,
    "start_time": "2022-02-15T18:20:58.843Z"
   },
   {
    "duration": 34,
    "start_time": "2022-02-15T18:20:58.849Z"
   },
   {
    "duration": 17,
    "start_time": "2022-02-15T18:20:58.885Z"
   },
   {
    "duration": 12,
    "start_time": "2022-02-15T18:20:58.904Z"
   },
   {
    "duration": 5,
    "start_time": "2022-02-15T18:20:58.917Z"
   },
   {
    "duration": 9,
    "start_time": "2022-02-15T18:20:58.924Z"
   },
   {
    "duration": 45,
    "start_time": "2022-02-15T18:20:58.934Z"
   },
   {
    "duration": 26,
    "start_time": "2022-02-15T18:20:58.982Z"
   },
   {
    "duration": 244,
    "start_time": "2022-02-15T18:20:59.011Z"
   },
   {
    "duration": 229,
    "start_time": "2022-02-15T18:20:59.256Z"
   },
   {
    "duration": 247,
    "start_time": "2022-02-15T18:20:59.487Z"
   },
   {
    "duration": 222,
    "start_time": "2022-02-15T18:20:59.736Z"
   },
   {
    "duration": 284,
    "start_time": "2022-02-15T18:20:59.959Z"
   },
   {
    "duration": 1391,
    "start_time": "2022-02-15T18:20:58.854Z"
   },
   {
    "duration": 1389,
    "start_time": "2022-02-15T18:20:58.857Z"
   },
   {
    "duration": 1387,
    "start_time": "2022-02-15T18:20:58.860Z"
   },
   {
    "duration": 1387,
    "start_time": "2022-02-15T18:20:58.862Z"
   },
   {
    "duration": 1383,
    "start_time": "2022-02-15T18:20:58.867Z"
   },
   {
    "duration": 1379,
    "start_time": "2022-02-15T18:20:58.872Z"
   },
   {
    "duration": 1377,
    "start_time": "2022-02-15T18:20:58.875Z"
   },
   {
    "duration": 1375,
    "start_time": "2022-02-15T18:20:58.878Z"
   },
   {
    "duration": 1374,
    "start_time": "2022-02-15T18:20:58.880Z"
   },
   {
    "duration": 1372,
    "start_time": "2022-02-15T18:20:58.883Z"
   },
   {
    "duration": 1372,
    "start_time": "2022-02-15T18:20:58.885Z"
   },
   {
    "duration": 1370,
    "start_time": "2022-02-15T18:20:58.888Z"
   },
   {
    "duration": 1369,
    "start_time": "2022-02-15T18:20:58.890Z"
   },
   {
    "duration": 1367,
    "start_time": "2022-02-15T18:20:58.893Z"
   },
   {
    "duration": 1366,
    "start_time": "2022-02-15T18:20:58.895Z"
   },
   {
    "duration": 1364,
    "start_time": "2022-02-15T18:20:58.898Z"
   },
   {
    "duration": 1362,
    "start_time": "2022-02-15T18:20:58.901Z"
   },
   {
    "duration": 22,
    "start_time": "2022-02-15T18:28:12.151Z"
   },
   {
    "duration": 346,
    "start_time": "2022-02-15T18:29:19.626Z"
   },
   {
    "duration": 4,
    "start_time": "2022-02-15T18:29:48.894Z"
   },
   {
    "duration": 44,
    "start_time": "2022-02-15T18:29:48.899Z"
   },
   {
    "duration": 14,
    "start_time": "2022-02-15T18:29:48.946Z"
   },
   {
    "duration": 10,
    "start_time": "2022-02-15T18:29:48.962Z"
   },
   {
    "duration": 4,
    "start_time": "2022-02-15T18:29:48.974Z"
   },
   {
    "duration": 6,
    "start_time": "2022-02-15T18:29:48.980Z"
   },
   {
    "duration": 11,
    "start_time": "2022-02-15T18:29:48.988Z"
   },
   {
    "duration": 23,
    "start_time": "2022-02-15T18:29:49.002Z"
   },
   {
    "duration": 264,
    "start_time": "2022-02-15T18:29:49.027Z"
   },
   {
    "duration": 234,
    "start_time": "2022-02-15T18:29:49.293Z"
   },
   {
    "duration": 227,
    "start_time": "2022-02-15T18:29:49.529Z"
   },
   {
    "duration": 227,
    "start_time": "2022-02-15T18:29:49.758Z"
   },
   {
    "duration": 171,
    "start_time": "2022-02-15T18:29:49.987Z"
   },
   {
    "duration": 11,
    "start_time": "2022-02-15T18:29:50.160Z"
   },
   {
    "duration": 10,
    "start_time": "2022-02-15T18:29:50.172Z"
   },
   {
    "duration": 7,
    "start_time": "2022-02-15T18:29:50.185Z"
   },
   {
    "duration": 10,
    "start_time": "2022-02-15T18:29:50.194Z"
   },
   {
    "duration": 12,
    "start_time": "2022-02-15T18:29:50.206Z"
   },
   {
    "duration": 9,
    "start_time": "2022-02-15T18:29:50.219Z"
   },
   {
    "duration": 10,
    "start_time": "2022-02-15T18:29:50.229Z"
   },
   {
    "duration": 33,
    "start_time": "2022-02-15T18:29:50.241Z"
   },
   {
    "duration": 11,
    "start_time": "2022-02-15T18:29:50.276Z"
   },
   {
    "duration": 3,
    "start_time": "2022-02-15T18:29:50.290Z"
   },
   {
    "duration": 9,
    "start_time": "2022-02-15T18:29:50.295Z"
   },
   {
    "duration": 9,
    "start_time": "2022-02-15T18:29:50.305Z"
   },
   {
    "duration": 8,
    "start_time": "2022-02-15T18:29:50.316Z"
   },
   {
    "duration": 14,
    "start_time": "2022-02-15T18:29:50.325Z"
   },
   {
    "duration": 31,
    "start_time": "2022-02-15T18:29:50.341Z"
   },
   {
    "duration": 7,
    "start_time": "2022-02-15T18:29:50.374Z"
   },
   {
    "duration": 14,
    "start_time": "2022-02-15T18:29:50.382Z"
   },
   {
    "duration": 32,
    "start_time": "2022-02-15T18:29:50.398Z"
   },
   {
    "duration": 4,
    "start_time": "2022-02-15T18:30:58.769Z"
   },
   {
    "duration": 42,
    "start_time": "2022-02-15T18:30:58.775Z"
   },
   {
    "duration": 14,
    "start_time": "2022-02-15T18:30:58.819Z"
   },
   {
    "duration": 27,
    "start_time": "2022-02-15T18:30:58.835Z"
   },
   {
    "duration": 20,
    "start_time": "2022-02-15T18:30:58.864Z"
   },
   {
    "duration": 22,
    "start_time": "2022-02-15T18:30:58.886Z"
   },
   {
    "duration": 29,
    "start_time": "2022-02-15T18:30:58.910Z"
   },
   {
    "duration": 29,
    "start_time": "2022-02-15T18:30:58.942Z"
   },
   {
    "duration": 237,
    "start_time": "2022-02-15T18:30:58.974Z"
   },
   {
    "duration": 219,
    "start_time": "2022-02-15T18:30:59.212Z"
   },
   {
    "duration": 240,
    "start_time": "2022-02-15T18:30:59.432Z"
   },
   {
    "duration": 220,
    "start_time": "2022-02-15T18:30:59.674Z"
   },
   {
    "duration": 174,
    "start_time": "2022-02-15T18:30:59.895Z"
   },
   {
    "duration": 4,
    "start_time": "2022-02-15T18:31:00.071Z"
   },
   {
    "duration": 13,
    "start_time": "2022-02-15T18:31:00.077Z"
   },
   {
    "duration": 12,
    "start_time": "2022-02-15T18:31:00.092Z"
   },
   {
    "duration": 12,
    "start_time": "2022-02-15T18:31:00.106Z"
   },
   {
    "duration": 15,
    "start_time": "2022-02-15T18:31:00.119Z"
   },
   {
    "duration": 11,
    "start_time": "2022-02-15T18:31:00.135Z"
   },
   {
    "duration": 19,
    "start_time": "2022-02-15T18:31:00.148Z"
   },
   {
    "duration": 22,
    "start_time": "2022-02-15T18:31:00.169Z"
   },
   {
    "duration": 11,
    "start_time": "2022-02-15T18:31:00.193Z"
   },
   {
    "duration": 22,
    "start_time": "2022-02-15T18:31:00.208Z"
   },
   {
    "duration": 10,
    "start_time": "2022-02-15T18:31:00.232Z"
   },
   {
    "duration": 12,
    "start_time": "2022-02-15T18:31:00.244Z"
   },
   {
    "duration": 12,
    "start_time": "2022-02-15T18:31:00.257Z"
   },
   {
    "duration": 31,
    "start_time": "2022-02-15T18:31:00.271Z"
   },
   {
    "duration": 20,
    "start_time": "2022-02-15T18:31:00.304Z"
   },
   {
    "duration": 19,
    "start_time": "2022-02-15T18:31:00.326Z"
   },
   {
    "duration": 14,
    "start_time": "2022-02-15T18:31:00.347Z"
   },
   {
    "duration": 15,
    "start_time": "2022-02-15T18:31:00.362Z"
   },
   {
    "duration": 37,
    "start_time": "2022-02-15T18:31:00.379Z"
   },
   {
    "duration": 9,
    "start_time": "2022-02-15T18:45:56.597Z"
   },
   {
    "duration": 25,
    "start_time": "2022-02-15T18:46:00.508Z"
   },
   {
    "duration": 17,
    "start_time": "2022-02-15T18:46:09.412Z"
   },
   {
    "duration": 97,
    "start_time": "2022-02-15T18:46:27.829Z"
   },
   {
    "duration": 6615,
    "start_time": "2022-02-15T18:46:31.453Z"
   },
   {
    "duration": 286,
    "start_time": "2022-02-15T18:46:52.757Z"
   },
   {
    "duration": 288,
    "start_time": "2022-02-15T18:47:22.638Z"
   },
   {
    "duration": 22,
    "start_time": "2022-02-15T18:48:01.015Z"
   },
   {
    "duration": 20,
    "start_time": "2022-02-15T18:50:10.699Z"
   },
   {
    "duration": 3,
    "start_time": "2022-02-15T18:51:04.709Z"
   },
   {
    "duration": 50,
    "start_time": "2022-02-15T18:51:04.714Z"
   },
   {
    "duration": 14,
    "start_time": "2022-02-15T18:51:04.766Z"
   },
   {
    "duration": 27,
    "start_time": "2022-02-15T18:51:04.782Z"
   },
   {
    "duration": 15,
    "start_time": "2022-02-15T18:51:04.811Z"
   },
   {
    "duration": 19,
    "start_time": "2022-02-15T18:51:04.828Z"
   },
   {
    "duration": 31,
    "start_time": "2022-02-15T18:51:04.849Z"
   },
   {
    "duration": 34,
    "start_time": "2022-02-15T18:51:04.882Z"
   },
   {
    "duration": 236,
    "start_time": "2022-02-15T18:51:04.917Z"
   },
   {
    "duration": 334,
    "start_time": "2022-02-15T18:51:05.154Z"
   },
   {
    "duration": 217,
    "start_time": "2022-02-15T18:51:05.490Z"
   },
   {
    "duration": 214,
    "start_time": "2022-02-15T18:51:05.708Z"
   },
   {
    "duration": 175,
    "start_time": "2022-02-15T18:51:05.924Z"
   },
   {
    "duration": 4,
    "start_time": "2022-02-15T18:51:06.101Z"
   },
   {
    "duration": 18,
    "start_time": "2022-02-15T18:51:06.107Z"
   },
   {
    "duration": 24,
    "start_time": "2022-02-15T18:51:06.126Z"
   },
   {
    "duration": 14,
    "start_time": "2022-02-15T18:51:06.151Z"
   },
   {
    "duration": 14,
    "start_time": "2022-02-15T18:51:06.167Z"
   },
   {
    "duration": 27,
    "start_time": "2022-02-15T18:51:06.184Z"
   },
   {
    "duration": 18,
    "start_time": "2022-02-15T18:51:06.214Z"
   },
   {
    "duration": 18,
    "start_time": "2022-02-15T18:51:06.234Z"
   },
   {
    "duration": 29,
    "start_time": "2022-02-15T18:51:06.254Z"
   },
   {
    "duration": 19,
    "start_time": "2022-02-15T18:51:06.285Z"
   },
   {
    "duration": 23,
    "start_time": "2022-02-15T18:51:06.306Z"
   },
   {
    "duration": 28,
    "start_time": "2022-02-15T18:51:06.331Z"
   },
   {
    "duration": 17,
    "start_time": "2022-02-15T18:51:06.361Z"
   },
   {
    "duration": 25,
    "start_time": "2022-02-15T18:51:06.380Z"
   },
   {
    "duration": 38,
    "start_time": "2022-02-15T18:51:06.406Z"
   },
   {
    "duration": 17,
    "start_time": "2022-02-15T18:51:06.446Z"
   },
   {
    "duration": 7,
    "start_time": "2022-02-15T18:51:06.465Z"
   },
   {
    "duration": 14,
    "start_time": "2022-02-15T18:51:06.474Z"
   },
   {
    "duration": 26,
    "start_time": "2022-02-15T18:51:06.490Z"
   },
   {
    "duration": 21,
    "start_time": "2022-02-15T18:52:30.058Z"
   },
   {
    "duration": 23,
    "start_time": "2022-02-15T18:52:45.553Z"
   },
   {
    "duration": 23,
    "start_time": "2022-02-15T19:01:23.457Z"
   },
   {
    "duration": 4,
    "start_time": "2022-02-15T19:02:01.685Z"
   },
   {
    "duration": 37,
    "start_time": "2022-02-15T19:02:01.691Z"
   },
   {
    "duration": 15,
    "start_time": "2022-02-15T19:02:01.730Z"
   },
   {
    "duration": 13,
    "start_time": "2022-02-15T19:02:01.747Z"
   },
   {
    "duration": 10,
    "start_time": "2022-02-15T19:02:01.762Z"
   },
   {
    "duration": 18,
    "start_time": "2022-02-15T19:02:01.774Z"
   },
   {
    "duration": 18,
    "start_time": "2022-02-15T19:02:01.794Z"
   },
   {
    "duration": 24,
    "start_time": "2022-02-15T19:02:01.814Z"
   },
   {
    "duration": 258,
    "start_time": "2022-02-15T19:02:01.840Z"
   },
   {
    "duration": 246,
    "start_time": "2022-02-15T19:02:02.099Z"
   },
   {
    "duration": 228,
    "start_time": "2022-02-15T19:02:02.347Z"
   },
   {
    "duration": 223,
    "start_time": "2022-02-15T19:02:02.577Z"
   },
   {
    "duration": 173,
    "start_time": "2022-02-15T19:02:02.802Z"
   },
   {
    "duration": 4,
    "start_time": "2022-02-15T19:02:02.977Z"
   },
   {
    "duration": 14,
    "start_time": "2022-02-15T19:02:02.983Z"
   },
   {
    "duration": 18,
    "start_time": "2022-02-15T19:02:02.999Z"
   },
   {
    "duration": 8,
    "start_time": "2022-02-15T19:02:03.019Z"
   },
   {
    "duration": 9,
    "start_time": "2022-02-15T19:02:03.028Z"
   },
   {
    "duration": 14,
    "start_time": "2022-02-15T19:02:03.040Z"
   },
   {
    "duration": 15,
    "start_time": "2022-02-15T19:02:03.056Z"
   },
   {
    "duration": 11,
    "start_time": "2022-02-15T19:02:03.073Z"
   },
   {
    "duration": 8,
    "start_time": "2022-02-15T19:02:03.086Z"
   },
   {
    "duration": 24,
    "start_time": "2022-02-15T19:02:03.095Z"
   },
   {
    "duration": 9,
    "start_time": "2022-02-15T19:02:03.120Z"
   },
   {
    "duration": 3,
    "start_time": "2022-02-15T19:02:03.131Z"
   },
   {
    "duration": 35,
    "start_time": "2022-02-15T19:02:03.136Z"
   },
   {
    "duration": 4,
    "start_time": "2022-02-15T19:02:03.172Z"
   },
   {
    "duration": 7,
    "start_time": "2022-02-15T19:02:03.178Z"
   },
   {
    "duration": 9,
    "start_time": "2022-02-15T19:02:03.187Z"
   },
   {
    "duration": 7,
    "start_time": "2022-02-15T19:02:03.197Z"
   },
   {
    "duration": 9,
    "start_time": "2022-02-15T19:02:03.205Z"
   },
   {
    "duration": 23,
    "start_time": "2022-02-15T19:02:03.216Z"
   },
   {
    "duration": 3,
    "start_time": "2022-02-15T19:02:17.982Z"
   },
   {
    "duration": 39,
    "start_time": "2022-02-15T19:02:17.988Z"
   },
   {
    "duration": 14,
    "start_time": "2022-02-15T19:02:18.030Z"
   },
   {
    "duration": 11,
    "start_time": "2022-02-15T19:02:18.046Z"
   },
   {
    "duration": 10,
    "start_time": "2022-02-15T19:02:18.059Z"
   },
   {
    "duration": 5,
    "start_time": "2022-02-15T19:02:18.071Z"
   },
   {
    "duration": 12,
    "start_time": "2022-02-15T19:02:18.077Z"
   },
   {
    "duration": 25,
    "start_time": "2022-02-15T19:02:18.091Z"
   },
   {
    "duration": 270,
    "start_time": "2022-02-15T19:02:18.118Z"
   },
   {
    "duration": 233,
    "start_time": "2022-02-15T19:02:18.390Z"
   },
   {
    "duration": 219,
    "start_time": "2022-02-15T19:02:18.625Z"
   },
   {
    "duration": 335,
    "start_time": "2022-02-15T19:02:18.846Z"
   },
   {
    "duration": 172,
    "start_time": "2022-02-15T19:02:19.183Z"
   },
   {
    "duration": 13,
    "start_time": "2022-02-15T19:02:19.356Z"
   },
   {
    "duration": 17,
    "start_time": "2022-02-15T19:02:19.371Z"
   },
   {
    "duration": 13,
    "start_time": "2022-02-15T19:02:19.390Z"
   },
   {
    "duration": 15,
    "start_time": "2022-02-15T19:02:19.405Z"
   },
   {
    "duration": 8,
    "start_time": "2022-02-15T19:02:19.422Z"
   },
   {
    "duration": 14,
    "start_time": "2022-02-15T19:02:19.431Z"
   },
   {
    "duration": 11,
    "start_time": "2022-02-15T19:02:19.447Z"
   },
   {
    "duration": 5,
    "start_time": "2022-02-15T19:02:19.459Z"
   },
   {
    "duration": 5,
    "start_time": "2022-02-15T19:02:19.469Z"
   },
   {
    "duration": 23,
    "start_time": "2022-02-15T19:02:19.478Z"
   },
   {
    "duration": 9,
    "start_time": "2022-02-15T19:02:19.503Z"
   },
   {
    "duration": 3,
    "start_time": "2022-02-15T19:02:19.514Z"
   },
   {
    "duration": 6,
    "start_time": "2022-02-15T19:02:19.519Z"
   },
   {
    "duration": 8,
    "start_time": "2022-02-15T19:02:19.526Z"
   },
   {
    "duration": 36,
    "start_time": "2022-02-15T19:02:19.535Z"
   },
   {
    "duration": 10,
    "start_time": "2022-02-15T19:02:19.573Z"
   },
   {
    "duration": 9,
    "start_time": "2022-02-15T19:02:19.584Z"
   },
   {
    "duration": 18,
    "start_time": "2022-02-15T19:02:19.595Z"
   },
   {
    "duration": 18,
    "start_time": "2022-02-15T19:02:19.614Z"
   },
   {
    "duration": 30,
    "start_time": "2022-02-15T19:06:15.621Z"
   },
   {
    "duration": 3,
    "start_time": "2022-02-15T19:11:53.393Z"
   },
   {
    "duration": 29,
    "start_time": "2022-02-15T19:14:07.228Z"
   },
   {
    "duration": 43,
    "start_time": "2022-02-15T19:14:26.355Z"
   },
   {
    "duration": 274,
    "start_time": "2022-02-15T19:16:41.941Z"
   },
   {
    "duration": 716,
    "start_time": "2022-02-15T19:16:48.364Z"
   },
   {
    "duration": 739,
    "start_time": "2022-02-15T19:18:56.279Z"
   },
   {
    "duration": 569,
    "start_time": "2022-02-15T19:20:17.672Z"
   },
   {
    "duration": 469,
    "start_time": "2022-02-15T19:20:33.624Z"
   },
   {
    "duration": 9,
    "start_time": "2022-02-15T19:21:49.114Z"
   },
   {
    "duration": 22,
    "start_time": "2022-02-15T19:22:06.073Z"
   },
   {
    "duration": 10,
    "start_time": "2022-02-15T19:22:18.353Z"
   },
   {
    "duration": 6720,
    "start_time": "2022-02-15T19:22:36.673Z"
   },
   {
    "duration": 4,
    "start_time": "2022-02-15T19:22:50.728Z"
   },
   {
    "duration": 36,
    "start_time": "2022-02-15T19:22:50.733Z"
   },
   {
    "duration": 14,
    "start_time": "2022-02-15T19:22:50.771Z"
   },
   {
    "duration": 30,
    "start_time": "2022-02-15T19:22:50.787Z"
   },
   {
    "duration": 19,
    "start_time": "2022-02-15T19:22:50.818Z"
   },
   {
    "duration": 19,
    "start_time": "2022-02-15T19:22:50.838Z"
   },
   {
    "duration": 26,
    "start_time": "2022-02-15T19:22:50.859Z"
   },
   {
    "duration": 24,
    "start_time": "2022-02-15T19:22:50.887Z"
   },
   {
    "duration": 243,
    "start_time": "2022-02-15T19:22:50.913Z"
   },
   {
    "duration": 235,
    "start_time": "2022-02-15T19:22:51.158Z"
   },
   {
    "duration": 218,
    "start_time": "2022-02-15T19:22:51.395Z"
   },
   {
    "duration": 208,
    "start_time": "2022-02-15T19:22:51.615Z"
   },
   {
    "duration": 168,
    "start_time": "2022-02-15T19:22:51.824Z"
   },
   {
    "duration": 4,
    "start_time": "2022-02-15T19:22:51.994Z"
   },
   {
    "duration": 11,
    "start_time": "2022-02-15T19:22:52.000Z"
   },
   {
    "duration": 8,
    "start_time": "2022-02-15T19:22:52.013Z"
   },
   {
    "duration": 5,
    "start_time": "2022-02-15T19:22:52.023Z"
   },
   {
    "duration": 8,
    "start_time": "2022-02-15T19:22:52.030Z"
   },
   {
    "duration": 31,
    "start_time": "2022-02-15T19:22:52.039Z"
   },
   {
    "duration": 6,
    "start_time": "2022-02-15T19:22:52.071Z"
   },
   {
    "duration": 8,
    "start_time": "2022-02-15T19:22:52.079Z"
   },
   {
    "duration": 7,
    "start_time": "2022-02-15T19:22:52.088Z"
   },
   {
    "duration": 9,
    "start_time": "2022-02-15T19:22:52.098Z"
   },
   {
    "duration": 8,
    "start_time": "2022-02-15T19:22:52.109Z"
   },
   {
    "duration": 6,
    "start_time": "2022-02-15T19:22:52.118Z"
   },
   {
    "duration": 8,
    "start_time": "2022-02-15T19:22:52.126Z"
   },
   {
    "duration": 36,
    "start_time": "2022-02-15T19:22:52.136Z"
   },
   {
    "duration": 6,
    "start_time": "2022-02-15T19:22:52.174Z"
   },
   {
    "duration": 13,
    "start_time": "2022-02-15T19:22:52.181Z"
   },
   {
    "duration": 16,
    "start_time": "2022-02-15T19:22:52.195Z"
   },
   {
    "duration": 7,
    "start_time": "2022-02-15T19:22:52.213Z"
   },
   {
    "duration": 8,
    "start_time": "2022-02-15T19:22:52.221Z"
   },
   {
    "duration": 10,
    "start_time": "2022-02-15T19:23:37.544Z"
   },
   {
    "duration": 9,
    "start_time": "2022-02-15T19:23:51.698Z"
   },
   {
    "duration": 84,
    "start_time": "2022-02-15T19:24:46.411Z"
   },
   {
    "duration": 6,
    "start_time": "2022-02-15T19:24:53.539Z"
   },
   {
    "duration": 22,
    "start_time": "2022-02-15T19:24:56.754Z"
   },
   {
    "duration": 267,
    "start_time": "2022-02-15T19:26:01.420Z"
   },
   {
    "duration": 25,
    "start_time": "2022-02-15T19:26:07.900Z"
   },
   {
    "duration": 24,
    "start_time": "2022-02-15T19:28:03.238Z"
   },
   {
    "duration": 25,
    "start_time": "2022-02-15T19:28:12.110Z"
   },
   {
    "duration": 3,
    "start_time": "2022-02-15T19:28:18.892Z"
   },
   {
    "duration": 35,
    "start_time": "2022-02-15T19:28:18.897Z"
   },
   {
    "duration": 15,
    "start_time": "2022-02-15T19:28:18.934Z"
   },
   {
    "duration": 10,
    "start_time": "2022-02-15T19:28:18.951Z"
   },
   {
    "duration": 12,
    "start_time": "2022-02-15T19:28:18.962Z"
   },
   {
    "duration": 8,
    "start_time": "2022-02-15T19:28:18.976Z"
   },
   {
    "duration": 11,
    "start_time": "2022-02-15T19:28:18.986Z"
   },
   {
    "duration": 24,
    "start_time": "2022-02-15T19:28:18.999Z"
   },
   {
    "duration": 260,
    "start_time": "2022-02-15T19:28:19.025Z"
   },
   {
    "duration": 343,
    "start_time": "2022-02-15T19:28:19.287Z"
   },
   {
    "duration": 215,
    "start_time": "2022-02-15T19:28:19.632Z"
   },
   {
    "duration": 214,
    "start_time": "2022-02-15T19:28:19.849Z"
   },
   {
    "duration": 169,
    "start_time": "2022-02-15T19:28:20.065Z"
   },
   {
    "duration": 4,
    "start_time": "2022-02-15T19:28:20.236Z"
   },
   {
    "duration": 7,
    "start_time": "2022-02-15T19:28:20.242Z"
   },
   {
    "duration": 19,
    "start_time": "2022-02-15T19:28:20.251Z"
   },
   {
    "duration": 6,
    "start_time": "2022-02-15T19:28:20.271Z"
   },
   {
    "duration": 14,
    "start_time": "2022-02-15T19:28:20.279Z"
   },
   {
    "duration": 7,
    "start_time": "2022-02-15T19:28:20.296Z"
   },
   {
    "duration": 10,
    "start_time": "2022-02-15T19:28:20.305Z"
   },
   {
    "duration": 8,
    "start_time": "2022-02-15T19:28:20.317Z"
   },
   {
    "duration": 7,
    "start_time": "2022-02-15T19:28:20.327Z"
   },
   {
    "duration": 58,
    "start_time": "2022-02-15T19:28:20.336Z"
   },
   {
    "duration": 10,
    "start_time": "2022-02-15T19:28:20.396Z"
   },
   {
    "duration": 5,
    "start_time": "2022-02-15T19:28:20.407Z"
   },
   {
    "duration": 7,
    "start_time": "2022-02-15T19:28:20.414Z"
   },
   {
    "duration": 10,
    "start_time": "2022-02-15T19:28:20.422Z"
   },
   {
    "duration": 11,
    "start_time": "2022-02-15T19:28:20.434Z"
   },
   {
    "duration": 9,
    "start_time": "2022-02-15T19:28:20.468Z"
   },
   {
    "duration": 9,
    "start_time": "2022-02-15T19:28:20.479Z"
   },
   {
    "duration": 8,
    "start_time": "2022-02-15T19:28:20.489Z"
   },
   {
    "duration": 8,
    "start_time": "2022-02-15T19:28:20.498Z"
   },
   {
    "duration": 7,
    "start_time": "2022-02-15T19:31:47.784Z"
   },
   {
    "duration": 6658,
    "start_time": "2022-02-15T19:31:52.384Z"
   },
   {
    "duration": 6626,
    "start_time": "2022-02-15T19:31:59.993Z"
   },
   {
    "duration": 3,
    "start_time": "2022-02-15T19:32:21.612Z"
   },
   {
    "duration": 48,
    "start_time": "2022-02-15T19:32:21.617Z"
   },
   {
    "duration": 15,
    "start_time": "2022-02-15T19:32:21.668Z"
   },
   {
    "duration": 30,
    "start_time": "2022-02-15T19:32:21.685Z"
   },
   {
    "duration": 20,
    "start_time": "2022-02-15T19:32:21.717Z"
   },
   {
    "duration": 26,
    "start_time": "2022-02-15T19:32:21.738Z"
   },
   {
    "duration": 31,
    "start_time": "2022-02-15T19:32:21.765Z"
   },
   {
    "duration": 37,
    "start_time": "2022-02-15T19:32:21.798Z"
   },
   {
    "duration": 231,
    "start_time": "2022-02-15T19:32:21.838Z"
   },
   {
    "duration": 229,
    "start_time": "2022-02-15T19:32:22.072Z"
   },
   {
    "duration": 227,
    "start_time": "2022-02-15T19:32:22.303Z"
   },
   {
    "duration": 217,
    "start_time": "2022-02-15T19:32:22.532Z"
   },
   {
    "duration": 162,
    "start_time": "2022-02-15T19:32:22.752Z"
   },
   {
    "duration": 5,
    "start_time": "2022-02-15T19:32:22.917Z"
   },
   {
    "duration": 17,
    "start_time": "2022-02-15T19:32:22.924Z"
   },
   {
    "duration": 11,
    "start_time": "2022-02-15T19:32:22.943Z"
   },
   {
    "duration": 17,
    "start_time": "2022-02-15T19:32:22.956Z"
   },
   {
    "duration": 8,
    "start_time": "2022-02-15T19:32:22.975Z"
   },
   {
    "duration": 13,
    "start_time": "2022-02-15T19:32:22.985Z"
   },
   {
    "duration": 7,
    "start_time": "2022-02-15T19:32:23.000Z"
   },
   {
    "duration": 11,
    "start_time": "2022-02-15T19:32:23.009Z"
   },
   {
    "duration": 26,
    "start_time": "2022-02-15T19:32:23.022Z"
   },
   {
    "duration": 37,
    "start_time": "2022-02-15T19:32:23.050Z"
   },
   {
    "duration": 10,
    "start_time": "2022-02-15T19:32:23.089Z"
   },
   {
    "duration": 5,
    "start_time": "2022-02-15T19:32:23.101Z"
   },
   {
    "duration": 6,
    "start_time": "2022-02-15T19:32:23.108Z"
   },
   {
    "duration": 6,
    "start_time": "2022-02-15T19:32:23.118Z"
   },
   {
    "duration": 11,
    "start_time": "2022-02-15T19:32:23.126Z"
   },
   {
    "duration": 38,
    "start_time": "2022-02-15T19:32:23.138Z"
   },
   {
    "duration": 9,
    "start_time": "2022-02-15T19:32:23.178Z"
   },
   {
    "duration": 7,
    "start_time": "2022-02-15T19:32:23.188Z"
   },
   {
    "duration": 9,
    "start_time": "2022-02-15T19:32:23.197Z"
   },
   {
    "duration": 22,
    "start_time": "2022-02-15T19:33:56.994Z"
   },
   {
    "duration": 4,
    "start_time": "2022-02-15T19:36:06.803Z"
   },
   {
    "duration": 26,
    "start_time": "2022-02-15T19:36:13.274Z"
   },
   {
    "duration": 42,
    "start_time": "2022-02-15T19:36:18.475Z"
   },
   {
    "duration": 29,
    "start_time": "2022-02-15T19:36:46.451Z"
   },
   {
    "duration": 41,
    "start_time": "2022-02-15T19:37:25.676Z"
   },
   {
    "duration": 281,
    "start_time": "2022-02-15T19:38:32.741Z"
   },
   {
    "duration": 325,
    "start_time": "2022-02-15T19:38:36.581Z"
   },
   {
    "duration": 276,
    "start_time": "2022-02-15T19:39:18.814Z"
   },
   {
    "duration": 889,
    "start_time": "2022-02-15T19:40:16.607Z"
   },
   {
    "duration": 38,
    "start_time": "2022-02-15T19:41:33.897Z"
   },
   {
    "duration": 28,
    "start_time": "2022-02-15T19:41:49.184Z"
   },
   {
    "duration": 6430,
    "start_time": "2022-02-15T19:42:28.560Z"
   },
   {
    "duration": 1481,
    "start_time": "2022-02-15T19:42:33.511Z"
   },
   {
    "duration": 36,
    "start_time": "2022-02-15T19:43:21.625Z"
   },
   {
    "duration": 3,
    "start_time": "2022-02-15T19:43:33.915Z"
   },
   {
    "duration": 32,
    "start_time": "2022-02-15T19:43:33.920Z"
   },
   {
    "duration": 14,
    "start_time": "2022-02-15T19:43:33.954Z"
   },
   {
    "duration": 12,
    "start_time": "2022-02-15T19:43:33.970Z"
   },
   {
    "duration": 8,
    "start_time": "2022-02-15T19:43:33.983Z"
   },
   {
    "duration": 7,
    "start_time": "2022-02-15T19:43:33.993Z"
   },
   {
    "duration": 17,
    "start_time": "2022-02-15T19:43:34.002Z"
   },
   {
    "duration": 23,
    "start_time": "2022-02-15T19:43:34.022Z"
   },
   {
    "duration": 247,
    "start_time": "2022-02-15T19:43:34.047Z"
   },
   {
    "duration": 234,
    "start_time": "2022-02-15T19:43:34.295Z"
   },
   {
    "duration": 218,
    "start_time": "2022-02-15T19:43:34.531Z"
   },
   {
    "duration": 210,
    "start_time": "2022-02-15T19:43:34.750Z"
   },
   {
    "duration": 170,
    "start_time": "2022-02-15T19:43:34.962Z"
   },
   {
    "duration": 4,
    "start_time": "2022-02-15T19:43:35.134Z"
   },
   {
    "duration": 6,
    "start_time": "2022-02-15T19:43:35.140Z"
   },
   {
    "duration": 22,
    "start_time": "2022-02-15T19:43:35.148Z"
   },
   {
    "duration": 5,
    "start_time": "2022-02-15T19:43:35.172Z"
   },
   {
    "duration": 8,
    "start_time": "2022-02-15T19:43:35.179Z"
   },
   {
    "duration": 8,
    "start_time": "2022-02-15T19:43:35.189Z"
   },
   {
    "duration": 7,
    "start_time": "2022-02-15T19:43:35.199Z"
   },
   {
    "duration": 6,
    "start_time": "2022-02-15T19:43:35.208Z"
   },
   {
    "duration": 5,
    "start_time": "2022-02-15T19:43:35.216Z"
   },
   {
    "duration": 7,
    "start_time": "2022-02-15T19:43:35.224Z"
   },
   {
    "duration": 40,
    "start_time": "2022-02-15T19:43:35.233Z"
   },
   {
    "duration": 26,
    "start_time": "2022-02-15T19:43:35.274Z"
   },
   {
    "duration": 9,
    "start_time": "2022-02-15T19:43:35.301Z"
   },
   {
    "duration": 4,
    "start_time": "2022-02-15T19:43:35.311Z"
   },
   {
    "duration": 6,
    "start_time": "2022-02-15T19:43:35.317Z"
   },
   {
    "duration": 6,
    "start_time": "2022-02-15T19:43:35.325Z"
   },
   {
    "duration": 37,
    "start_time": "2022-02-15T19:43:35.333Z"
   },
   {
    "duration": 9,
    "start_time": "2022-02-15T19:43:35.372Z"
   },
   {
    "duration": 7,
    "start_time": "2022-02-15T19:43:35.383Z"
   },
   {
    "duration": 8,
    "start_time": "2022-02-15T19:43:35.392Z"
   },
   {
    "duration": 7,
    "start_time": "2022-02-15T19:43:35.402Z"
   },
   {
    "duration": 1168,
    "start_time": "2022-02-15T19:56:36.727Z"
   },
   {
    "duration": 30,
    "start_time": "2022-02-15T19:56:37.897Z"
   },
   {
    "duration": 18,
    "start_time": "2022-02-15T19:56:37.930Z"
   },
   {
    "duration": 19,
    "start_time": "2022-02-15T19:56:37.950Z"
   },
   {
    "duration": 3,
    "start_time": "2022-02-15T19:56:37.971Z"
   },
   {
    "duration": 7,
    "start_time": "2022-02-15T19:56:37.976Z"
   },
   {
    "duration": 11,
    "start_time": "2022-02-15T19:56:37.984Z"
   },
   {
    "duration": 23,
    "start_time": "2022-02-15T19:56:37.997Z"
   },
   {
    "duration": 265,
    "start_time": "2022-02-15T19:56:38.022Z"
   },
   {
    "duration": 229,
    "start_time": "2022-02-15T19:56:38.289Z"
   },
   {
    "duration": 215,
    "start_time": "2022-02-15T19:56:38.520Z"
   },
   {
    "duration": 210,
    "start_time": "2022-02-15T19:56:38.737Z"
   },
   {
    "duration": 241,
    "start_time": "2022-02-15T19:56:38.949Z"
   },
   {
    "duration": 4,
    "start_time": "2022-02-15T19:56:39.192Z"
   },
   {
    "duration": 8,
    "start_time": "2022-02-15T19:56:39.199Z"
   },
   {
    "duration": 12,
    "start_time": "2022-02-15T19:56:39.208Z"
   },
   {
    "duration": 6,
    "start_time": "2022-02-15T19:56:39.222Z"
   },
   {
    "duration": 7,
    "start_time": "2022-02-15T19:56:39.230Z"
   },
   {
    "duration": 34,
    "start_time": "2022-02-15T19:56:39.239Z"
   },
   {
    "duration": 9,
    "start_time": "2022-02-15T19:56:39.274Z"
   },
   {
    "duration": 8,
    "start_time": "2022-02-15T19:56:39.285Z"
   },
   {
    "duration": 10,
    "start_time": "2022-02-15T19:56:39.294Z"
   },
   {
    "duration": 7,
    "start_time": "2022-02-15T19:56:39.307Z"
   },
   {
    "duration": 6,
    "start_time": "2022-02-15T19:56:39.315Z"
   },
   {
    "duration": 49,
    "start_time": "2022-02-15T19:56:39.322Z"
   },
   {
    "duration": 9,
    "start_time": "2022-02-15T19:56:39.373Z"
   },
   {
    "duration": 4,
    "start_time": "2022-02-15T19:56:39.384Z"
   },
   {
    "duration": 8,
    "start_time": "2022-02-15T19:56:39.389Z"
   },
   {
    "duration": 6,
    "start_time": "2022-02-15T19:56:39.399Z"
   },
   {
    "duration": 8,
    "start_time": "2022-02-15T19:56:39.407Z"
   },
   {
    "duration": 13,
    "start_time": "2022-02-15T19:56:39.417Z"
   },
   {
    "duration": 7,
    "start_time": "2022-02-15T19:56:39.431Z"
   },
   {
    "duration": 32,
    "start_time": "2022-02-15T19:56:39.439Z"
   },
   {
    "duration": 5,
    "start_time": "2022-02-15T19:56:39.473Z"
   },
   {
    "duration": 1506,
    "start_time": "2022-02-16T07:29:32.575Z"
   },
   {
    "duration": 34,
    "start_time": "2022-02-16T07:29:34.084Z"
   },
   {
    "duration": 25,
    "start_time": "2022-02-16T07:29:34.121Z"
   },
   {
    "duration": 15,
    "start_time": "2022-02-16T07:29:34.149Z"
   },
   {
    "duration": 5,
    "start_time": "2022-02-16T07:29:34.166Z"
   },
   {
    "duration": 8,
    "start_time": "2022-02-16T07:29:34.173Z"
   },
   {
    "duration": 50,
    "start_time": "2022-02-16T07:29:34.183Z"
   },
   {
    "duration": 34,
    "start_time": "2022-02-16T07:29:34.239Z"
   },
   {
    "duration": 349,
    "start_time": "2022-02-16T07:29:34.276Z"
   },
   {
    "duration": 319,
    "start_time": "2022-02-16T07:29:34.631Z"
   },
   {
    "duration": 311,
    "start_time": "2022-02-16T07:29:34.952Z"
   },
   {
    "duration": 291,
    "start_time": "2022-02-16T07:29:35.265Z"
   },
   {
    "duration": 309,
    "start_time": "2022-02-16T07:29:35.559Z"
   },
   {
    "duration": 6,
    "start_time": "2022-02-16T07:29:35.870Z"
   },
   {
    "duration": 7,
    "start_time": "2022-02-16T07:29:35.879Z"
   },
   {
    "duration": 16,
    "start_time": "2022-02-16T07:29:35.889Z"
   },
   {
    "duration": 28,
    "start_time": "2022-02-16T07:29:35.908Z"
   },
   {
    "duration": 19,
    "start_time": "2022-02-16T07:29:35.939Z"
   },
   {
    "duration": 16,
    "start_time": "2022-02-16T07:29:35.960Z"
   },
   {
    "duration": 8,
    "start_time": "2022-02-16T07:29:35.978Z"
   },
   {
    "duration": 10,
    "start_time": "2022-02-16T07:29:35.989Z"
   },
   {
    "duration": 37,
    "start_time": "2022-02-16T07:29:36.002Z"
   },
   {
    "duration": 11,
    "start_time": "2022-02-16T07:29:36.046Z"
   },
   {
    "duration": 6,
    "start_time": "2022-02-16T07:29:36.061Z"
   },
   {
    "duration": 74,
    "start_time": "2022-02-16T07:29:36.070Z"
   },
   {
    "duration": 11,
    "start_time": "2022-02-16T07:29:36.146Z"
   },
   {
    "duration": 5,
    "start_time": "2022-02-16T07:29:36.159Z"
   },
   {
    "duration": 7,
    "start_time": "2022-02-16T07:29:36.166Z"
   },
   {
    "duration": 7,
    "start_time": "2022-02-16T07:29:36.175Z"
   },
   {
    "duration": 7,
    "start_time": "2022-02-16T07:29:36.185Z"
   },
   {
    "duration": 49,
    "start_time": "2022-02-16T07:29:36.194Z"
   },
   {
    "duration": 10,
    "start_time": "2022-02-16T07:29:36.245Z"
   },
   {
    "duration": 11,
    "start_time": "2022-02-16T07:29:36.258Z"
   },
   {
    "duration": 15,
    "start_time": "2022-02-16T07:29:36.272Z"
   },
   {
    "duration": 450,
    "start_time": "2022-02-16T07:29:36.290Z"
   },
   {
    "duration": 312,
    "start_time": "2022-02-16T07:32:02.312Z"
   },
   {
    "duration": 56,
    "start_time": "2022-02-16T07:37:37.009Z"
   },
   {
    "duration": 412,
    "start_time": "2022-02-16T07:42:14.335Z"
   },
   {
    "duration": 76,
    "start_time": "2022-02-16T07:42:29.361Z"
   },
   {
    "duration": 237,
    "start_time": "2022-02-16T08:03:34.197Z"
   },
   {
    "duration": 304,
    "start_time": "2022-02-16T08:03:41.450Z"
   },
   {
    "duration": 353,
    "start_time": "2022-02-16T08:04:32.794Z"
   },
   {
    "duration": 2084,
    "start_time": "2022-02-16T08:04:52.986Z"
   },
   {
    "duration": 2947,
    "start_time": "2022-02-16T08:05:39.755Z"
   },
   {
    "duration": 4828,
    "start_time": "2022-02-16T08:05:48.291Z"
   },
   {
    "duration": 7618,
    "start_time": "2022-02-16T08:05:59.388Z"
   },
   {
    "duration": 19991,
    "start_time": "2022-02-16T08:06:14.075Z"
   },
   {
    "duration": 2199,
    "start_time": "2022-02-16T08:06:46.477Z"
   },
   {
    "duration": 276,
    "start_time": "2022-02-16T08:08:27.013Z"
   },
   {
    "duration": 41457,
    "start_time": "2022-02-16T08:09:05.790Z"
   },
   {
    "duration": 109312,
    "start_time": "2022-02-16T08:10:12.558Z"
   },
   {
    "duration": 5112439,
    "start_time": "2022-02-16T08:14:49.466Z"
   },
   {
    "duration": 1415,
    "start_time": "2022-02-16T09:43:54.306Z"
   },
   {
    "duration": 520576,
    "start_time": "2022-02-16T10:54:28.875Z"
   },
   {
    "duration": 496261,
    "start_time": "2022-02-16T16:27:17.815Z"
   },
   {
    "duration": 5017,
    "start_time": "2022-02-16T17:06:12.681Z"
   },
   {
    "duration": 3318,
    "start_time": "2022-02-16T17:07:02.706Z"
   },
   {
    "duration": 206,
    "start_time": "2022-02-16T17:09:42.187Z"
   },
   {
    "duration": 198,
    "start_time": "2022-02-16T17:09:48.700Z"
   },
   {
    "duration": 5,
    "start_time": "2022-02-16T17:21:45.424Z"
   },
   {
    "duration": 65,
    "start_time": "2022-02-16T17:22:52.998Z"
   },
   {
    "duration": 236,
    "start_time": "2022-02-16T17:23:06.189Z"
   },
   {
    "duration": 2178,
    "start_time": "2022-02-16T17:23:12.502Z"
   },
   {
    "duration": 302,
    "start_time": "2022-02-16T17:25:57.785Z"
   },
   {
    "duration": 271,
    "start_time": "2022-02-16T17:26:10.064Z"
   },
   {
    "duration": 5,
    "start_time": "2022-02-16T17:26:33.368Z"
   },
   {
    "duration": 28,
    "start_time": "2022-02-16T17:26:38.705Z"
   },
   {
    "duration": 11,
    "start_time": "2022-02-16T17:31:03.862Z"
   },
   {
    "duration": 10,
    "start_time": "2022-02-16T17:31:05.663Z"
   },
   {
    "duration": 241,
    "start_time": "2022-02-16T17:32:08.030Z"
   },
   {
    "duration": 6,
    "start_time": "2022-02-16T17:32:29.629Z"
   },
   {
    "duration": 276,
    "start_time": "2022-02-16T17:32:36.447Z"
   },
   {
    "duration": 20,
    "start_time": "2022-02-16T18:45:21.126Z"
   },
   {
    "duration": 298,
    "start_time": "2022-02-16T18:45:34.318Z"
   },
   {
    "duration": 9,
    "start_time": "2022-02-16T18:45:52.822Z"
   },
   {
    "duration": 235,
    "start_time": "2022-02-16T18:54:43.253Z"
   },
   {
    "duration": 201,
    "start_time": "2022-02-16T18:57:10.415Z"
   },
   {
    "duration": 202,
    "start_time": "2022-02-16T18:57:44.223Z"
   },
   {
    "duration": 498,
    "start_time": "2022-02-16T19:03:34.623Z"
   },
   {
    "duration": 6,
    "start_time": "2022-02-16T19:03:56.995Z"
   },
   {
    "duration": 527,
    "start_time": "2022-02-16T19:04:03.699Z"
   },
   {
    "duration": 25,
    "start_time": "2022-02-16T19:07:49.304Z"
   },
   {
    "duration": 489,
    "start_time": "2022-02-16T19:10:07.077Z"
   },
   {
    "duration": 31,
    "start_time": "2022-02-16T19:10:14.121Z"
   },
   {
    "duration": 28,
    "start_time": "2022-02-16T19:12:20.874Z"
   },
   {
    "duration": 669,
    "start_time": "2022-02-16T19:12:22.714Z"
   },
   {
    "duration": 10,
    "start_time": "2022-02-16T19:12:24.723Z"
   },
   {
    "duration": 24,
    "start_time": "2022-02-16T19:12:30.363Z"
   },
   {
    "duration": 21,
    "start_time": "2022-02-16T19:12:35.547Z"
   },
   {
    "duration": 90,
    "start_time": "2022-02-16T19:12:38.378Z"
   },
   {
    "duration": 9,
    "start_time": "2022-02-16T19:13:03.130Z"
   },
   {
    "duration": 24,
    "start_time": "2022-02-16T19:13:29.939Z"
   },
   {
    "duration": 33,
    "start_time": "2022-02-16T19:14:38.820Z"
   },
   {
    "duration": 341,
    "start_time": "2022-02-16T19:14:40.515Z"
   },
   {
    "duration": 9,
    "start_time": "2022-02-16T19:14:43.059Z"
   },
   {
    "duration": 23,
    "start_time": "2022-02-16T19:14:48.467Z"
   },
   {
    "duration": 307,
    "start_time": "2022-02-16T19:14:50.156Z"
   },
   {
    "duration": 8,
    "start_time": "2022-02-16T19:14:53.323Z"
   },
   {
    "duration": 22,
    "start_time": "2022-02-16T19:14:57.580Z"
   },
   {
    "duration": 258,
    "start_time": "2022-02-16T19:14:59.187Z"
   },
   {
    "duration": 9,
    "start_time": "2022-02-16T19:15:00.820Z"
   },
   {
    "duration": 23,
    "start_time": "2022-02-16T19:15:09.588Z"
   },
   {
    "duration": 300,
    "start_time": "2022-02-16T19:15:11.204Z"
   },
   {
    "duration": 10,
    "start_time": "2022-02-16T19:15:13.124Z"
   },
   {
    "duration": 25,
    "start_time": "2022-02-16T19:15:16.788Z"
   },
   {
    "duration": 22,
    "start_time": "2022-02-16T19:15:55.365Z"
   },
   {
    "duration": 112,
    "start_time": "2022-02-16T19:15:57.404Z"
   },
   {
    "duration": 8,
    "start_time": "2022-02-16T19:15:59.341Z"
   },
   {
    "duration": 20,
    "start_time": "2022-02-16T19:16:06.037Z"
   },
   {
    "duration": 119,
    "start_time": "2022-02-16T19:16:07.684Z"
   },
   {
    "duration": 11,
    "start_time": "2022-02-16T19:16:09.261Z"
   },
   {
    "duration": 20,
    "start_time": "2022-02-16T19:16:20.149Z"
   },
   {
    "duration": 126,
    "start_time": "2022-02-16T19:16:21.717Z"
   },
   {
    "duration": 10,
    "start_time": "2022-02-16T19:16:23.357Z"
   },
   {
    "duration": 20,
    "start_time": "2022-02-16T19:16:28.788Z"
   },
   {
    "duration": 117,
    "start_time": "2022-02-16T19:16:30.476Z"
   },
   {
    "duration": 8,
    "start_time": "2022-02-16T19:16:32.564Z"
   },
   {
    "duration": 23,
    "start_time": "2022-02-16T19:16:39.668Z"
   },
   {
    "duration": 284,
    "start_time": "2022-02-16T19:24:43.222Z"
   },
   {
    "duration": 243,
    "start_time": "2022-02-16T19:25:49.453Z"
   },
   {
    "duration": 10,
    "start_time": "2022-02-16T19:27:03.664Z"
   },
   {
    "duration": 13,
    "start_time": "2022-02-16T19:27:09.816Z"
   },
   {
    "duration": 9,
    "start_time": "2022-02-16T19:27:12.486Z"
   },
   {
    "duration": 298,
    "start_time": "2022-02-16T19:27:14.302Z"
   },
   {
    "duration": 10,
    "start_time": "2022-02-16T19:27:16.877Z"
   },
   {
    "duration": 31,
    "start_time": "2022-02-16T19:27:25.335Z"
   },
   {
    "duration": 17,
    "start_time": "2022-02-16T19:29:33.744Z"
   },
   {
    "duration": 7,
    "start_time": "2022-02-16T19:29:35.664Z"
   },
   {
    "duration": 119,
    "start_time": "2022-02-16T19:29:38.352Z"
   },
   {
    "duration": 11,
    "start_time": "2022-02-16T19:29:40.560Z"
   },
   {
    "duration": 25,
    "start_time": "2022-02-16T19:29:45.079Z"
   },
   {
    "duration": 202,
    "start_time": "2022-02-16T19:41:25.296Z"
   },
   {
    "duration": 25,
    "start_time": "2022-02-16T19:44:23.042Z"
   },
   {
    "duration": 203,
    "start_time": "2022-02-16T19:45:56.695Z"
   },
   {
    "duration": 48,
    "start_time": "2022-02-16T19:45:56.901Z"
   },
   {
    "duration": 10,
    "start_time": "2022-02-16T19:45:56.952Z"
   },
   {
    "duration": 14,
    "start_time": "2022-02-16T19:45:56.964Z"
   },
   {
    "duration": 7,
    "start_time": "2022-02-16T19:45:56.980Z"
   },
   {
    "duration": 300,
    "start_time": "2022-02-16T19:45:56.989Z"
   },
   {
    "duration": 22,
    "start_time": "2022-02-16T19:45:57.291Z"
   },
   {
    "duration": 24,
    "start_time": "2022-02-16T19:45:57.333Z"
   },
   {
    "duration": 12,
    "start_time": "2022-02-16T19:45:57.359Z"
   },
   {
    "duration": 9,
    "start_time": "2022-02-16T19:45:57.374Z"
   },
   {
    "duration": 139,
    "start_time": "2022-02-16T19:45:57.385Z"
   },
   {
    "duration": 25,
    "start_time": "2022-02-16T19:45:57.526Z"
   },
   {
    "duration": 22,
    "start_time": "2022-02-16T19:45:57.553Z"
   },
   {
    "duration": 5,
    "start_time": "2022-02-16T20:11:48.490Z"
   },
   {
    "duration": 38,
    "start_time": "2022-02-16T20:11:48.498Z"
   },
   {
    "duration": 20,
    "start_time": "2022-02-16T20:11:48.539Z"
   },
   {
    "duration": 11,
    "start_time": "2022-02-16T20:11:48.563Z"
   },
   {
    "duration": 6,
    "start_time": "2022-02-16T20:11:48.577Z"
   },
   {
    "duration": 49,
    "start_time": "2022-02-16T20:11:48.585Z"
   },
   {
    "duration": 15,
    "start_time": "2022-02-16T20:11:48.636Z"
   },
   {
    "duration": 36,
    "start_time": "2022-02-16T20:11:48.655Z"
   },
   {
    "duration": 402,
    "start_time": "2022-02-16T20:11:48.694Z"
   },
   {
    "duration": 334,
    "start_time": "2022-02-16T20:11:49.098Z"
   },
   {
    "duration": 385,
    "start_time": "2022-02-16T20:11:49.435Z"
   },
   {
    "duration": 322,
    "start_time": "2022-02-16T20:11:49.823Z"
   },
   {
    "duration": 252,
    "start_time": "2022-02-16T20:11:50.148Z"
   },
   {
    "duration": 6,
    "start_time": "2022-02-16T20:11:50.403Z"
   },
   {
    "duration": 21,
    "start_time": "2022-02-16T20:11:50.412Z"
   },
   {
    "duration": 14,
    "start_time": "2022-02-16T20:11:50.435Z"
   },
   {
    "duration": 7,
    "start_time": "2022-02-16T20:11:50.451Z"
   },
   {
    "duration": 13,
    "start_time": "2022-02-16T20:11:50.461Z"
   },
   {
    "duration": 11,
    "start_time": "2022-02-16T20:11:50.476Z"
   },
   {
    "duration": 43,
    "start_time": "2022-02-16T20:11:50.490Z"
   },
   {
    "duration": 9,
    "start_time": "2022-02-16T20:11:50.536Z"
   },
   {
    "duration": 9,
    "start_time": "2022-02-16T20:11:50.547Z"
   },
   {
    "duration": 11,
    "start_time": "2022-02-16T20:11:50.561Z"
   },
   {
    "duration": 5,
    "start_time": "2022-02-16T20:11:50.575Z"
   },
   {
    "duration": 69,
    "start_time": "2022-02-16T20:11:50.583Z"
   },
   {
    "duration": 10,
    "start_time": "2022-02-16T20:11:50.655Z"
   },
   {
    "duration": 9,
    "start_time": "2022-02-16T20:11:50.668Z"
   },
   {
    "duration": 10,
    "start_time": "2022-02-16T20:11:50.680Z"
   },
   {
    "duration": 12,
    "start_time": "2022-02-16T20:11:50.693Z"
   },
   {
    "duration": 27,
    "start_time": "2022-02-16T20:11:50.708Z"
   },
   {
    "duration": 21,
    "start_time": "2022-02-16T20:11:50.737Z"
   },
   {
    "duration": 10,
    "start_time": "2022-02-16T20:11:50.760Z"
   },
   {
    "duration": 13,
    "start_time": "2022-02-16T20:11:50.772Z"
   },
   {
    "duration": 19,
    "start_time": "2022-02-16T20:11:50.787Z"
   },
   {
    "duration": 126,
    "start_time": "2022-02-16T20:11:50.809Z"
   },
   {
    "duration": 101,
    "start_time": "2022-02-16T20:11:50.938Z"
   },
   {
    "duration": 370,
    "start_time": "2022-02-16T20:11:51.131Z"
   },
   {
    "duration": 9,
    "start_time": "2022-02-16T20:11:51.504Z"
   },
   {
    "duration": 2180,
    "start_time": "2022-02-16T20:11:51.515Z"
   },
   {
    "duration": 111396,
    "start_time": "2022-02-16T20:11:53.698Z"
   },
   {
    "duration": 254,
    "start_time": "2022-02-16T20:13:45.097Z"
   },
   {
    "duration": 264,
    "start_time": "2022-02-16T20:13:45.353Z"
   },
   {
    "duration": 18,
    "start_time": "2022-02-16T20:13:45.621Z"
   },
   {
    "duration": 5,
    "start_time": "2022-02-16T20:13:45.642Z"
   },
   {
    "duration": 14,
    "start_time": "2022-02-16T20:13:45.650Z"
   },
   {
    "duration": 11,
    "start_time": "2022-02-16T20:13:45.666Z"
   },
   {
    "duration": 8,
    "start_time": "2022-02-16T20:13:45.679Z"
   },
   {
    "duration": 300,
    "start_time": "2022-02-16T20:13:45.689Z"
   },
   {
    "duration": 21,
    "start_time": "2022-02-16T20:13:45.991Z"
   },
   {
    "duration": 39,
    "start_time": "2022-02-16T20:13:46.014Z"
   },
   {
    "duration": 12,
    "start_time": "2022-02-16T20:13:46.056Z"
   },
   {
    "duration": 7,
    "start_time": "2022-02-16T20:13:46.070Z"
   },
   {
    "duration": 136,
    "start_time": "2022-02-16T20:13:46.080Z"
   },
   {
    "duration": 27,
    "start_time": "2022-02-16T20:13:46.218Z"
   },
   {
    "duration": 21,
    "start_time": "2022-02-16T20:13:46.248Z"
   },
   {
    "duration": 5,
    "start_time": "2022-02-16T20:13:46.271Z"
   },
   {
    "duration": 13,
    "start_time": "2022-02-16T20:14:02.424Z"
   },
   {
    "duration": 7,
    "start_time": "2022-02-16T20:16:26.529Z"
   },
   {
    "duration": 1579,
    "start_time": "2022-02-16T20:17:35.431Z"
   },
   {
    "duration": 39,
    "start_time": "2022-02-16T20:17:37.012Z"
   },
   {
    "duration": 25,
    "start_time": "2022-02-16T20:17:37.054Z"
   },
   {
    "duration": 11,
    "start_time": "2022-02-16T20:17:37.082Z"
   },
   {
    "duration": 9,
    "start_time": "2022-02-16T20:17:37.095Z"
   },
   {
    "duration": 32,
    "start_time": "2022-02-16T20:17:37.106Z"
   },
   {
    "duration": 14,
    "start_time": "2022-02-16T20:17:37.140Z"
   },
   {
    "duration": 33,
    "start_time": "2022-02-16T20:17:37.157Z"
   },
   {
    "duration": 384,
    "start_time": "2022-02-16T20:17:37.193Z"
   },
   {
    "duration": 430,
    "start_time": "2022-02-16T20:17:37.580Z"
   },
   {
    "duration": 338,
    "start_time": "2022-02-16T20:17:38.013Z"
   },
   {
    "duration": 314,
    "start_time": "2022-02-16T20:17:38.353Z"
   },
   {
    "duration": 317,
    "start_time": "2022-02-16T20:17:38.669Z"
   },
   {
    "duration": 6,
    "start_time": "2022-02-16T20:17:38.988Z"
   },
   {
    "duration": 8,
    "start_time": "2022-02-16T20:17:38.996Z"
   },
   {
    "duration": 28,
    "start_time": "2022-02-16T20:17:39.006Z"
   },
   {
    "duration": 7,
    "start_time": "2022-02-16T20:17:39.037Z"
   },
   {
    "duration": 10,
    "start_time": "2022-02-16T20:17:39.048Z"
   },
   {
    "duration": 11,
    "start_time": "2022-02-16T20:17:39.061Z"
   },
   {
    "duration": 9,
    "start_time": "2022-02-16T20:17:39.074Z"
   },
   {
    "duration": 9,
    "start_time": "2022-02-16T20:17:39.133Z"
   },
   {
    "duration": 9,
    "start_time": "2022-02-16T20:17:39.144Z"
   },
   {
    "duration": 11,
    "start_time": "2022-02-16T20:17:39.159Z"
   },
   {
    "duration": 7,
    "start_time": "2022-02-16T20:17:39.173Z"
   },
   {
    "duration": 76,
    "start_time": "2022-02-16T20:17:39.182Z"
   },
   {
    "duration": 11,
    "start_time": "2022-02-16T20:17:39.260Z"
   },
   {
    "duration": 6,
    "start_time": "2022-02-16T20:17:39.273Z"
   },
   {
    "duration": 7,
    "start_time": "2022-02-16T20:17:39.282Z"
   },
   {
    "duration": 40,
    "start_time": "2022-02-16T20:17:39.292Z"
   },
   {
    "duration": 9,
    "start_time": "2022-02-16T20:17:39.335Z"
   },
   {
    "duration": 17,
    "start_time": "2022-02-16T20:17:39.346Z"
   },
   {
    "duration": 11,
    "start_time": "2022-02-16T20:17:39.365Z"
   },
   {
    "duration": 13,
    "start_time": "2022-02-16T20:17:39.378Z"
   },
   {
    "duration": 15,
    "start_time": "2022-02-16T20:17:39.393Z"
   },
   {
    "duration": 128,
    "start_time": "2022-02-16T20:17:39.410Z"
   },
   {
    "duration": 100,
    "start_time": "2022-02-16T20:17:39.540Z"
   },
   {
    "duration": 463,
    "start_time": "2022-02-16T20:17:39.644Z"
   },
   {
    "duration": 25,
    "start_time": "2022-02-16T20:17:40.110Z"
   },
   {
    "duration": 2219,
    "start_time": "2022-02-16T20:17:40.137Z"
   },
   {
    "duration": 113831,
    "start_time": "2022-02-16T20:17:42.359Z"
   },
   {
    "duration": 271,
    "start_time": "2022-02-16T20:19:36.192Z"
   },
   {
    "duration": 294,
    "start_time": "2022-02-16T20:19:36.466Z"
   },
   {
    "duration": 8,
    "start_time": "2022-02-16T20:19:36.763Z"
   },
   {
    "duration": 4,
    "start_time": "2022-02-16T20:19:36.773Z"
   },
   {
    "duration": 20,
    "start_time": "2022-02-16T20:19:36.780Z"
   },
   {
    "duration": 33,
    "start_time": "2022-02-16T20:19:36.803Z"
   },
   {
    "duration": 8,
    "start_time": "2022-02-16T20:19:36.839Z"
   },
   {
    "duration": 284,
    "start_time": "2022-02-16T20:19:36.849Z"
   },
   {
    "duration": 24,
    "start_time": "2022-02-16T20:19:37.136Z"
   },
   {
    "duration": 25,
    "start_time": "2022-02-16T20:19:37.163Z"
   },
   {
    "duration": 47,
    "start_time": "2022-02-16T20:19:37.191Z"
   },
   {
    "duration": 8,
    "start_time": "2022-02-16T20:19:37.241Z"
   },
   {
    "duration": 120,
    "start_time": "2022-02-16T20:19:37.251Z"
   },
   {
    "duration": 21,
    "start_time": "2022-02-16T20:19:37.373Z"
   },
   {
    "duration": 409,
    "start_time": "2022-02-16T20:19:37.397Z"
   },
   {
    "duration": 774,
    "start_time": "2022-02-16T20:19:37.034Z"
   },
   {
    "duration": 773,
    "start_time": "2022-02-16T20:19:37.037Z"
   },
   {
    "duration": 25,
    "start_time": "2022-02-16T20:21:55.716Z"
   },
   {
    "duration": 13,
    "start_time": "2022-02-16T20:22:01.620Z"
   },
   {
    "duration": 4,
    "start_time": "2022-02-16T20:22:39.720Z"
   },
   {
    "duration": 14,
    "start_time": "2022-02-16T20:22:39.727Z"
   },
   {
    "duration": 15,
    "start_time": "2022-02-16T20:22:39.745Z"
   },
   {
    "duration": 8,
    "start_time": "2022-02-16T20:22:39.764Z"
   },
   {
    "duration": 334,
    "start_time": "2022-02-16T20:22:39.775Z"
   },
   {
    "duration": 34,
    "start_time": "2022-02-16T20:22:40.111Z"
   },
   {
    "duration": 24,
    "start_time": "2022-02-16T20:22:40.148Z"
   },
   {
    "duration": 14,
    "start_time": "2022-02-16T20:22:40.175Z"
   },
   {
    "duration": 41,
    "start_time": "2022-02-16T20:22:40.191Z"
   },
   {
    "duration": 121,
    "start_time": "2022-02-16T20:22:40.235Z"
   },
   {
    "duration": 22,
    "start_time": "2022-02-16T20:22:40.359Z"
   },
   {
    "duration": 53,
    "start_time": "2022-02-16T20:22:40.384Z"
   },
   {
    "duration": 13,
    "start_time": "2022-02-16T20:22:40.439Z"
   },
   {
    "duration": 8,
    "start_time": "2022-02-16T20:22:40.455Z"
   },
   {
    "duration": 4,
    "start_time": "2022-02-16T20:23:52.377Z"
   },
   {
    "duration": 13,
    "start_time": "2022-02-16T20:23:52.385Z"
   },
   {
    "duration": 15,
    "start_time": "2022-02-16T20:23:52.401Z"
   },
   {
    "duration": 15,
    "start_time": "2022-02-16T20:23:52.419Z"
   },
   {
    "duration": 6079,
    "start_time": "2022-02-16T20:23:52.436Z"
   },
   {
    "duration": 287,
    "start_time": "2022-02-16T20:23:58.518Z"
   },
   {
    "duration": 272,
    "start_time": "2022-02-16T20:23:58.808Z"
   },
   {
    "duration": 12,
    "start_time": "2022-02-16T20:23:59.082Z"
   },
   {
    "duration": 13,
    "start_time": "2022-02-16T20:23:59.097Z"
   },
   {
    "duration": 2233,
    "start_time": "2022-02-16T20:23:59.112Z"
   },
   {
    "duration": 250,
    "start_time": "2022-02-16T20:24:01.347Z"
   },
   {
    "duration": 253,
    "start_time": "2022-02-16T20:24:01.599Z"
   },
   {
    "duration": 12,
    "start_time": "2022-02-16T20:24:01.854Z"
   },
   {
    "duration": 20,
    "start_time": "2022-02-16T20:24:01.868Z"
   },
   {
    "duration": 38,
    "start_time": "2022-02-16T20:30:36.299Z"
   },
   {
    "duration": 9,
    "start_time": "2022-02-16T20:33:37.191Z"
   },
   {
    "duration": 11,
    "start_time": "2022-02-16T20:33:43.126Z"
   },
   {
    "duration": 13,
    "start_time": "2022-02-16T20:36:25.921Z"
   },
   {
    "duration": 13,
    "start_time": "2022-02-16T20:43:07.412Z"
   },
   {
    "duration": 10,
    "start_time": "2022-02-16T20:43:09.467Z"
   },
   {
    "duration": 8009,
    "start_time": "2022-02-16T20:43:29.581Z"
   },
   {
    "duration": 277,
    "start_time": "2022-02-16T20:45:18.446Z"
   },
   {
    "duration": 323,
    "start_time": "2022-02-16T20:47:54.768Z"
   },
   {
    "duration": 269,
    "start_time": "2022-02-16T20:48:41.266Z"
   },
   {
    "duration": 370,
    "start_time": "2022-02-17T15:03:12.751Z"
   },
   {
    "duration": 1225,
    "start_time": "2022-02-17T15:03:18.789Z"
   },
   {
    "duration": 29,
    "start_time": "2022-02-17T15:03:20.015Z"
   },
   {
    "duration": 18,
    "start_time": "2022-02-17T15:03:20.046Z"
   },
   {
    "duration": 9,
    "start_time": "2022-02-17T15:03:20.066Z"
   },
   {
    "duration": 5,
    "start_time": "2022-02-17T15:03:20.077Z"
   },
   {
    "duration": 5,
    "start_time": "2022-02-17T15:03:20.085Z"
   },
   {
    "duration": 40,
    "start_time": "2022-02-17T15:03:20.092Z"
   },
   {
    "duration": 22,
    "start_time": "2022-02-17T15:03:20.134Z"
   },
   {
    "duration": 211,
    "start_time": "2022-02-17T15:03:20.158Z"
   },
   {
    "duration": 190,
    "start_time": "2022-02-17T15:03:20.371Z"
   },
   {
    "duration": 194,
    "start_time": "2022-02-17T15:03:20.563Z"
   },
   {
    "duration": 176,
    "start_time": "2022-02-17T15:03:20.759Z"
   },
   {
    "duration": 148,
    "start_time": "2022-02-17T15:03:20.936Z"
   },
   {
    "duration": 4,
    "start_time": "2022-02-17T15:03:21.086Z"
   },
   {
    "duration": 6,
    "start_time": "2022-02-17T15:03:21.092Z"
   },
   {
    "duration": 7,
    "start_time": "2022-02-17T15:03:21.099Z"
   },
   {
    "duration": 24,
    "start_time": "2022-02-17T15:03:21.107Z"
   },
   {
    "duration": 6,
    "start_time": "2022-02-17T15:03:21.133Z"
   },
   {
    "duration": 5,
    "start_time": "2022-02-17T15:03:21.141Z"
   },
   {
    "duration": 5,
    "start_time": "2022-02-17T15:03:21.148Z"
   },
   {
    "duration": 85,
    "start_time": "2022-02-17T15:03:21.155Z"
   },
   {
    "duration": 7,
    "start_time": "2022-02-17T15:03:21.242Z"
   },
   {
    "duration": 7,
    "start_time": "2022-02-17T15:03:21.253Z"
   },
   {
    "duration": 3,
    "start_time": "2022-02-17T15:03:21.262Z"
   },
   {
    "duration": 21,
    "start_time": "2022-02-17T15:03:21.267Z"
   },
   {
    "duration": 7,
    "start_time": "2022-02-17T15:03:21.290Z"
   },
   {
    "duration": 3,
    "start_time": "2022-02-17T15:03:21.299Z"
   },
   {
    "duration": 10,
    "start_time": "2022-02-17T15:03:21.331Z"
   },
   {
    "duration": 10,
    "start_time": "2022-02-17T15:03:21.343Z"
   },
   {
    "duration": 10,
    "start_time": "2022-02-17T15:03:21.355Z"
   },
   {
    "duration": 12,
    "start_time": "2022-02-17T15:03:21.367Z"
   },
   {
    "duration": 8,
    "start_time": "2022-02-17T15:03:21.381Z"
   },
   {
    "duration": 8,
    "start_time": "2022-02-17T15:03:21.391Z"
   },
   {
    "duration": 8,
    "start_time": "2022-02-17T15:03:21.401Z"
   },
   {
    "duration": 138,
    "start_time": "2022-02-17T15:03:21.411Z"
   },
   {
    "duration": 83,
    "start_time": "2022-02-17T15:03:21.552Z"
   },
   {
    "duration": 310,
    "start_time": "2022-02-17T15:03:21.639Z"
   },
   {
    "duration": 6,
    "start_time": "2022-02-17T15:03:21.951Z"
   },
   {
    "duration": 381,
    "start_time": "2022-02-17T15:03:21.958Z"
   },
   {
    "duration": -132,
    "start_time": "2022-02-17T15:03:22.473Z"
   },
   {
    "duration": -135,
    "start_time": "2022-02-17T15:03:22.477Z"
   },
   {
    "duration": -137,
    "start_time": "2022-02-17T15:03:22.481Z"
   },
   {
    "duration": -140,
    "start_time": "2022-02-17T15:03:22.485Z"
   },
   {
    "duration": -142,
    "start_time": "2022-02-17T15:03:22.488Z"
   },
   {
    "duration": -145,
    "start_time": "2022-02-17T15:03:22.492Z"
   },
   {
    "duration": -148,
    "start_time": "2022-02-17T15:03:22.496Z"
   },
   {
    "duration": -156,
    "start_time": "2022-02-17T15:03:22.505Z"
   },
   {
    "duration": -159,
    "start_time": "2022-02-17T15:03:22.509Z"
   },
   {
    "duration": -162,
    "start_time": "2022-02-17T15:03:22.513Z"
   },
   {
    "duration": -165,
    "start_time": "2022-02-17T15:03:22.517Z"
   },
   {
    "duration": -167,
    "start_time": "2022-02-17T15:03:22.520Z"
   },
   {
    "duration": -169,
    "start_time": "2022-02-17T15:03:22.523Z"
   },
   {
    "duration": -172,
    "start_time": "2022-02-17T15:03:22.527Z"
   },
   {
    "duration": -175,
    "start_time": "2022-02-17T15:03:22.531Z"
   },
   {
    "duration": -176,
    "start_time": "2022-02-17T15:03:22.534Z"
   },
   {
    "duration": -179,
    "start_time": "2022-02-17T15:03:22.538Z"
   },
   {
    "duration": -181,
    "start_time": "2022-02-17T15:03:22.541Z"
   },
   {
    "duration": -183,
    "start_time": "2022-02-17T15:03:22.544Z"
   },
   {
    "duration": -187,
    "start_time": "2022-02-17T15:03:22.548Z"
   },
   {
    "duration": -189,
    "start_time": "2022-02-17T15:03:22.551Z"
   },
   {
    "duration": -192,
    "start_time": "2022-02-17T15:03:22.555Z"
   },
   {
    "duration": -195,
    "start_time": "2022-02-17T15:03:22.558Z"
   },
   {
    "duration": -198,
    "start_time": "2022-02-17T15:03:22.562Z"
   },
   {
    "duration": -200,
    "start_time": "2022-02-17T15:03:22.565Z"
   },
   {
    "duration": -203,
    "start_time": "2022-02-17T15:03:22.568Z"
   },
   {
    "duration": 5,
    "start_time": "2022-02-17T15:05:40.046Z"
   },
   {
    "duration": 40,
    "start_time": "2022-02-17T15:05:40.053Z"
   },
   {
    "duration": 14,
    "start_time": "2022-02-17T15:05:40.096Z"
   },
   {
    "duration": 8,
    "start_time": "2022-02-17T15:05:40.112Z"
   },
   {
    "duration": 13,
    "start_time": "2022-02-17T15:05:40.122Z"
   },
   {
    "duration": 5,
    "start_time": "2022-02-17T15:05:40.137Z"
   },
   {
    "duration": 10,
    "start_time": "2022-02-17T15:05:40.145Z"
   },
   {
    "duration": 21,
    "start_time": "2022-02-17T15:05:40.157Z"
   },
   {
    "duration": 249,
    "start_time": "2022-02-17T15:05:40.180Z"
   },
   {
    "duration": 191,
    "start_time": "2022-02-17T15:05:40.431Z"
   },
   {
    "duration": 273,
    "start_time": "2022-02-17T15:05:40.631Z"
   },
   {
    "duration": 185,
    "start_time": "2022-02-17T15:05:40.906Z"
   },
   {
    "duration": 221,
    "start_time": "2022-02-17T15:05:41.093Z"
   },
   {
    "duration": 16,
    "start_time": "2022-02-17T15:05:41.317Z"
   },
   {
    "duration": 17,
    "start_time": "2022-02-17T15:05:41.335Z"
   },
   {
    "duration": 15,
    "start_time": "2022-02-17T15:05:41.355Z"
   },
   {
    "duration": 8,
    "start_time": "2022-02-17T15:05:41.371Z"
   },
   {
    "duration": 15,
    "start_time": "2022-02-17T15:05:41.381Z"
   },
   {
    "duration": 10,
    "start_time": "2022-02-17T15:05:41.399Z"
   },
   {
    "duration": 27,
    "start_time": "2022-02-17T15:05:41.411Z"
   },
   {
    "duration": 6,
    "start_time": "2022-02-17T15:05:41.440Z"
   },
   {
    "duration": 7,
    "start_time": "2022-02-17T15:05:41.448Z"
   },
   {
    "duration": 10,
    "start_time": "2022-02-17T15:05:41.462Z"
   },
   {
    "duration": 7,
    "start_time": "2022-02-17T15:05:41.475Z"
   },
   {
    "duration": 59,
    "start_time": "2022-02-17T15:05:41.484Z"
   },
   {
    "duration": 10,
    "start_time": "2022-02-17T15:05:41.546Z"
   },
   {
    "duration": 5,
    "start_time": "2022-02-17T15:05:41.558Z"
   },
   {
    "duration": 6,
    "start_time": "2022-02-17T15:05:41.565Z"
   },
   {
    "duration": 8,
    "start_time": "2022-02-17T15:05:41.573Z"
   },
   {
    "duration": 11,
    "start_time": "2022-02-17T15:05:41.583Z"
   },
   {
    "duration": 41,
    "start_time": "2022-02-17T15:05:41.596Z"
   },
   {
    "duration": 9,
    "start_time": "2022-02-17T15:05:41.639Z"
   },
   {
    "duration": 8,
    "start_time": "2022-02-17T15:05:41.650Z"
   },
   {
    "duration": 11,
    "start_time": "2022-02-17T15:05:41.660Z"
   },
   {
    "duration": 169,
    "start_time": "2022-02-17T15:05:41.672Z"
   },
   {
    "duration": 10,
    "start_time": "2022-02-17T15:05:41.843Z"
   },
   {
    "duration": 252,
    "start_time": "2022-02-17T15:05:41.933Z"
   },
   {
    "duration": 7,
    "start_time": "2022-02-17T15:05:42.187Z"
   },
   {
    "duration": 324,
    "start_time": "2022-02-17T15:05:42.196Z"
   },
   {
    "duration": -104,
    "start_time": "2022-02-17T15:05:42.626Z"
   },
   {
    "duration": -108,
    "start_time": "2022-02-17T15:05:42.631Z"
   },
   {
    "duration": -121,
    "start_time": "2022-02-17T15:05:42.645Z"
   },
   {
    "duration": -127,
    "start_time": "2022-02-17T15:05:42.652Z"
   },
   {
    "duration": -133,
    "start_time": "2022-02-17T15:05:42.659Z"
   },
   {
    "duration": -148,
    "start_time": "2022-02-17T15:05:42.675Z"
   },
   {
    "duration": -151,
    "start_time": "2022-02-17T15:05:42.679Z"
   },
   {
    "duration": -154,
    "start_time": "2022-02-17T15:05:42.683Z"
   },
   {
    "duration": -157,
    "start_time": "2022-02-17T15:05:42.687Z"
   },
   {
    "duration": -161,
    "start_time": "2022-02-17T15:05:42.692Z"
   },
   {
    "duration": -163,
    "start_time": "2022-02-17T15:05:42.695Z"
   },
   {
    "duration": -165,
    "start_time": "2022-02-17T15:05:42.699Z"
   },
   {
    "duration": -168,
    "start_time": "2022-02-17T15:05:42.702Z"
   },
   {
    "duration": -171,
    "start_time": "2022-02-17T15:05:42.706Z"
   },
   {
    "duration": -174,
    "start_time": "2022-02-17T15:05:42.710Z"
   },
   {
    "duration": -177,
    "start_time": "2022-02-17T15:05:42.714Z"
   },
   {
    "duration": -179,
    "start_time": "2022-02-17T15:05:42.717Z"
   },
   {
    "duration": -184,
    "start_time": "2022-02-17T15:05:42.723Z"
   },
   {
    "duration": -190,
    "start_time": "2022-02-17T15:05:42.730Z"
   },
   {
    "duration": -198,
    "start_time": "2022-02-17T15:05:42.738Z"
   },
   {
    "duration": -204,
    "start_time": "2022-02-17T15:05:42.745Z"
   },
   {
    "duration": -217,
    "start_time": "2022-02-17T15:05:42.759Z"
   },
   {
    "duration": -218,
    "start_time": "2022-02-17T15:05:42.762Z"
   },
   {
    "duration": -220,
    "start_time": "2022-02-17T15:05:42.766Z"
   },
   {
    "duration": -223,
    "start_time": "2022-02-17T15:05:42.770Z"
   },
   {
    "duration": -226,
    "start_time": "2022-02-17T15:05:42.774Z"
   },
   {
    "duration": -228,
    "start_time": "2022-02-17T15:05:42.777Z"
   },
   {
    "duration": 4,
    "start_time": "2022-02-17T15:06:03.409Z"
   },
   {
    "duration": 51,
    "start_time": "2022-02-17T15:06:03.416Z"
   },
   {
    "duration": 18,
    "start_time": "2022-02-17T15:06:03.470Z"
   },
   {
    "duration": 10,
    "start_time": "2022-02-17T15:06:03.490Z"
   },
   {
    "duration": 7,
    "start_time": "2022-02-17T15:06:03.502Z"
   },
   {
    "duration": 21,
    "start_time": "2022-02-17T15:06:03.511Z"
   },
   {
    "duration": 22,
    "start_time": "2022-02-17T15:06:03.534Z"
   },
   {
    "duration": 31,
    "start_time": "2022-02-17T15:06:03.558Z"
   },
   {
    "duration": 341,
    "start_time": "2022-02-17T15:06:03.591Z"
   },
   {
    "duration": 302,
    "start_time": "2022-02-17T15:06:03.934Z"
   },
   {
    "duration": 277,
    "start_time": "2022-02-17T15:06:04.238Z"
   },
   {
    "duration": 206,
    "start_time": "2022-02-17T15:06:04.517Z"
   },
   {
    "duration": 316,
    "start_time": "2022-02-17T15:06:04.725Z"
   },
   {
    "duration": 5,
    "start_time": "2022-02-17T15:06:05.043Z"
   },
   {
    "duration": 23,
    "start_time": "2022-02-17T15:06:05.050Z"
   },
   {
    "duration": 13,
    "start_time": "2022-02-17T15:06:05.075Z"
   },
   {
    "duration": 15,
    "start_time": "2022-02-17T15:06:05.090Z"
   },
   {
    "duration": 15,
    "start_time": "2022-02-17T15:06:05.108Z"
   },
   {
    "duration": 15,
    "start_time": "2022-02-17T15:06:05.128Z"
   },
   {
    "duration": 7,
    "start_time": "2022-02-17T15:06:05.146Z"
   },
   {
    "duration": 7,
    "start_time": "2022-02-17T15:06:05.155Z"
   },
   {
    "duration": 6,
    "start_time": "2022-02-17T15:06:05.163Z"
   },
   {
    "duration": 9,
    "start_time": "2022-02-17T15:06:05.170Z"
   },
   {
    "duration": 9,
    "start_time": "2022-02-17T15:06:05.180Z"
   },
   {
    "duration": 54,
    "start_time": "2022-02-17T15:06:05.191Z"
   },
   {
    "duration": 8,
    "start_time": "2022-02-17T15:06:05.247Z"
   },
   {
    "duration": 5,
    "start_time": "2022-02-17T15:06:05.257Z"
   },
   {
    "duration": 6,
    "start_time": "2022-02-17T15:06:05.264Z"
   },
   {
    "duration": 7,
    "start_time": "2022-02-17T15:06:05.272Z"
   },
   {
    "duration": 12,
    "start_time": "2022-02-17T15:06:05.282Z"
   },
   {
    "duration": 13,
    "start_time": "2022-02-17T15:06:05.296Z"
   },
   {
    "duration": 8,
    "start_time": "2022-02-17T15:06:05.331Z"
   },
   {
    "duration": 9,
    "start_time": "2022-02-17T15:06:05.341Z"
   },
   {
    "duration": 13,
    "start_time": "2022-02-17T15:06:05.351Z"
   },
   {
    "duration": 171,
    "start_time": "2022-02-17T15:06:05.367Z"
   },
   {
    "duration": 100,
    "start_time": "2022-02-17T15:06:05.543Z"
   },
   {
    "duration": 328,
    "start_time": "2022-02-17T15:06:05.649Z"
   },
   {
    "duration": 6,
    "start_time": "2022-02-17T15:06:05.979Z"
   },
   {
    "duration": 620,
    "start_time": "2022-02-17T15:06:05.987Z"
   },
   {
    "duration": -423,
    "start_time": "2022-02-17T15:06:07.033Z"
   },
   {
    "duration": -424,
    "start_time": "2022-02-17T15:06:07.036Z"
   },
   {
    "duration": -426,
    "start_time": "2022-02-17T15:06:07.039Z"
   },
   {
    "duration": -429,
    "start_time": "2022-02-17T15:06:07.043Z"
   },
   {
    "duration": -431,
    "start_time": "2022-02-17T15:06:07.047Z"
   },
   {
    "duration": -433,
    "start_time": "2022-02-17T15:06:07.050Z"
   },
   {
    "duration": -435,
    "start_time": "2022-02-17T15:06:07.054Z"
   },
   {
    "duration": -437,
    "start_time": "2022-02-17T15:06:07.057Z"
   },
   {
    "duration": -456,
    "start_time": "2022-02-17T15:06:07.077Z"
   },
   {
    "duration": -458,
    "start_time": "2022-02-17T15:06:07.081Z"
   },
   {
    "duration": -460,
    "start_time": "2022-02-17T15:06:07.084Z"
   },
   {
    "duration": -463,
    "start_time": "2022-02-17T15:06:07.088Z"
   },
   {
    "duration": -465,
    "start_time": "2022-02-17T15:06:07.091Z"
   },
   {
    "duration": -468,
    "start_time": "2022-02-17T15:06:07.095Z"
   },
   {
    "duration": -471,
    "start_time": "2022-02-17T15:06:07.099Z"
   },
   {
    "duration": -473,
    "start_time": "2022-02-17T15:06:07.102Z"
   },
   {
    "duration": -475,
    "start_time": "2022-02-17T15:06:07.106Z"
   },
   {
    "duration": -477,
    "start_time": "2022-02-17T15:06:07.109Z"
   },
   {
    "duration": -480,
    "start_time": "2022-02-17T15:06:07.113Z"
   },
   {
    "duration": -482,
    "start_time": "2022-02-17T15:06:07.116Z"
   },
   {
    "duration": -484,
    "start_time": "2022-02-17T15:06:07.120Z"
   },
   {
    "duration": -486,
    "start_time": "2022-02-17T15:06:07.123Z"
   },
   {
    "duration": -488,
    "start_time": "2022-02-17T15:06:07.126Z"
   },
   {
    "duration": -493,
    "start_time": "2022-02-17T15:06:07.132Z"
   },
   {
    "duration": -495,
    "start_time": "2022-02-17T15:06:07.135Z"
   },
   {
    "duration": -496,
    "start_time": "2022-02-17T15:06:07.138Z"
   },
   {
    "duration": 342,
    "start_time": "2022-02-17T15:07:06.287Z"
   },
   {
    "duration": -139,
    "start_time": "2022-02-17T15:07:06.772Z"
   },
   {
    "duration": -141,
    "start_time": "2022-02-17T15:07:06.776Z"
   },
   {
    "duration": -149,
    "start_time": "2022-02-17T15:07:06.785Z"
   },
   {
    "duration": -154,
    "start_time": "2022-02-17T15:07:06.790Z"
   },
   {
    "duration": -156,
    "start_time": "2022-02-17T15:07:06.793Z"
   },
   {
    "duration": -159,
    "start_time": "2022-02-17T15:07:06.797Z"
   },
   {
    "duration": -161,
    "start_time": "2022-02-17T15:07:06.800Z"
   },
   {
    "duration": -163,
    "start_time": "2022-02-17T15:07:06.803Z"
   },
   {
    "duration": -166,
    "start_time": "2022-02-17T15:07:06.807Z"
   },
   {
    "duration": -170,
    "start_time": "2022-02-17T15:07:06.811Z"
   },
   {
    "duration": -172,
    "start_time": "2022-02-17T15:07:06.814Z"
   },
   {
    "duration": -176,
    "start_time": "2022-02-17T15:07:06.819Z"
   },
   {
    "duration": -178,
    "start_time": "2022-02-17T15:07:06.822Z"
   },
   {
    "duration": -182,
    "start_time": "2022-02-17T15:07:06.827Z"
   },
   {
    "duration": -185,
    "start_time": "2022-02-17T15:07:06.831Z"
   },
   {
    "duration": -188,
    "start_time": "2022-02-17T15:07:06.835Z"
   },
   {
    "duration": -191,
    "start_time": "2022-02-17T15:07:06.838Z"
   },
   {
    "duration": -194,
    "start_time": "2022-02-17T15:07:06.842Z"
   },
   {
    "duration": -196,
    "start_time": "2022-02-17T15:07:06.845Z"
   },
   {
    "duration": -199,
    "start_time": "2022-02-17T15:07:06.849Z"
   },
   {
    "duration": -202,
    "start_time": "2022-02-17T15:07:06.853Z"
   },
   {
    "duration": -205,
    "start_time": "2022-02-17T15:07:06.857Z"
   },
   {
    "duration": -217,
    "start_time": "2022-02-17T15:07:06.869Z"
   },
   {
    "duration": -220,
    "start_time": "2022-02-17T15:07:06.873Z"
   },
   {
    "duration": -222,
    "start_time": "2022-02-17T15:07:06.876Z"
   },
   {
    "duration": -225,
    "start_time": "2022-02-17T15:07:06.880Z"
   },
   {
    "duration": -227,
    "start_time": "2022-02-17T15:07:06.883Z"
   },
   {
    "duration": -231,
    "start_time": "2022-02-17T15:07:06.888Z"
   },
   {
    "duration": -233,
    "start_time": "2022-02-17T15:07:06.891Z"
   },
   {
    "duration": -236,
    "start_time": "2022-02-17T15:07:06.895Z"
   },
   {
    "duration": -239,
    "start_time": "2022-02-17T15:07:06.899Z"
   },
   {
    "duration": -241,
    "start_time": "2022-02-17T15:07:06.902Z"
   },
   {
    "duration": -244,
    "start_time": "2022-02-17T15:07:06.905Z"
   },
   {
    "duration": -247,
    "start_time": "2022-02-17T15:07:06.909Z"
   },
   {
    "duration": -250,
    "start_time": "2022-02-17T15:07:06.913Z"
   },
   {
    "duration": -253,
    "start_time": "2022-02-17T15:07:06.917Z"
   },
   {
    "duration": -255,
    "start_time": "2022-02-17T15:07:06.920Z"
   },
   {
    "duration": -274,
    "start_time": "2022-02-17T15:07:06.940Z"
   },
   {
    "duration": -277,
    "start_time": "2022-02-17T15:07:06.944Z"
   },
   {
    "duration": -280,
    "start_time": "2022-02-17T15:07:06.948Z"
   },
   {
    "duration": -283,
    "start_time": "2022-02-17T15:07:06.951Z"
   },
   {
    "duration": -286,
    "start_time": "2022-02-17T15:07:06.955Z"
   },
   {
    "duration": -288,
    "start_time": "2022-02-17T15:07:06.958Z"
   },
   {
    "duration": -290,
    "start_time": "2022-02-17T15:07:06.961Z"
   },
   {
    "duration": -292,
    "start_time": "2022-02-17T15:07:06.964Z"
   },
   {
    "duration": -295,
    "start_time": "2022-02-17T15:07:06.968Z"
   },
   {
    "duration": -311,
    "start_time": "2022-02-17T15:07:06.985Z"
   },
   {
    "duration": -318,
    "start_time": "2022-02-17T15:07:06.993Z"
   },
   {
    "duration": -269,
    "start_time": "2022-02-17T15:07:07.000Z"
   },
   {
    "duration": -274,
    "start_time": "2022-02-17T15:07:07.006Z"
   },
   {
    "duration": -276,
    "start_time": "2022-02-17T15:07:07.009Z"
   },
   {
    "duration": -278,
    "start_time": "2022-02-17T15:07:07.013Z"
   },
   {
    "duration": -280,
    "start_time": "2022-02-17T15:07:07.016Z"
   },
   {
    "duration": -283,
    "start_time": "2022-02-17T15:07:07.020Z"
   },
   {
    "duration": -285,
    "start_time": "2022-02-17T15:07:07.023Z"
   },
   {
    "duration": -288,
    "start_time": "2022-02-17T15:07:07.027Z"
   },
   {
    "duration": -289,
    "start_time": "2022-02-17T15:07:07.030Z"
   },
   {
    "duration": -292,
    "start_time": "2022-02-17T15:07:07.034Z"
   },
   {
    "duration": -294,
    "start_time": "2022-02-17T15:07:07.037Z"
   },
   {
    "duration": -296,
    "start_time": "2022-02-17T15:07:07.040Z"
   },
   {
    "duration": -302,
    "start_time": "2022-02-17T15:07:07.047Z"
   },
   {
    "duration": -311,
    "start_time": "2022-02-17T15:07:07.057Z"
   },
   {
    "duration": -316,
    "start_time": "2022-02-17T15:07:07.064Z"
   },
   {
    "duration": -319,
    "start_time": "2022-02-17T15:07:07.068Z"
   },
   {
    "duration": 10,
    "start_time": "2022-02-17T15:07:33.626Z"
   },
   {
    "duration": 26,
    "start_time": "2022-02-17T15:07:33.638Z"
   },
   {
    "duration": 14,
    "start_time": "2022-02-17T15:07:33.666Z"
   },
   {
    "duration": 9,
    "start_time": "2022-02-17T15:07:33.682Z"
   },
   {
    "duration": 4,
    "start_time": "2022-02-17T15:07:33.692Z"
   },
   {
    "duration": 5,
    "start_time": "2022-02-17T15:07:33.697Z"
   },
   {
    "duration": 37,
    "start_time": "2022-02-17T15:07:33.704Z"
   },
   {
    "duration": 20,
    "start_time": "2022-02-17T15:07:33.744Z"
   },
   {
    "duration": 317,
    "start_time": "2022-02-17T15:07:33.766Z"
   },
   {
    "duration": 289,
    "start_time": "2022-02-17T15:07:34.085Z"
   },
   {
    "duration": 184,
    "start_time": "2022-02-17T15:07:34.376Z"
   },
   {
    "duration": 174,
    "start_time": "2022-02-17T15:07:34.562Z"
   },
   {
    "duration": 142,
    "start_time": "2022-02-17T15:07:34.738Z"
   },
   {
    "duration": 4,
    "start_time": "2022-02-17T15:07:34.881Z"
   },
   {
    "duration": 7,
    "start_time": "2022-02-17T15:07:34.887Z"
   },
   {
    "duration": 7,
    "start_time": "2022-02-17T15:07:34.896Z"
   },
   {
    "duration": 28,
    "start_time": "2022-02-17T15:07:34.905Z"
   },
   {
    "duration": 7,
    "start_time": "2022-02-17T15:07:34.935Z"
   },
   {
    "duration": 5,
    "start_time": "2022-02-17T15:07:34.944Z"
   },
   {
    "duration": 6,
    "start_time": "2022-02-17T15:07:34.951Z"
   },
   {
    "duration": 8,
    "start_time": "2022-02-17T15:07:34.959Z"
   },
   {
    "duration": 8,
    "start_time": "2022-02-17T15:07:34.969Z"
   },
   {
    "duration": 7,
    "start_time": "2022-02-17T15:07:34.981Z"
   },
   {
    "duration": 7,
    "start_time": "2022-02-17T15:07:34.991Z"
   },
   {
    "duration": 53,
    "start_time": "2022-02-17T15:07:34.999Z"
   },
   {
    "duration": 9,
    "start_time": "2022-02-17T15:07:35.053Z"
   },
   {
    "duration": 5,
    "start_time": "2022-02-17T15:07:35.064Z"
   },
   {
    "duration": 5,
    "start_time": "2022-02-17T15:07:35.071Z"
   },
   {
    "duration": 12,
    "start_time": "2022-02-17T15:07:35.077Z"
   },
   {
    "duration": 13,
    "start_time": "2022-02-17T15:07:35.091Z"
   },
   {
    "duration": 28,
    "start_time": "2022-02-17T15:07:35.106Z"
   },
   {
    "duration": 8,
    "start_time": "2022-02-17T15:07:35.135Z"
   },
   {
    "duration": 8,
    "start_time": "2022-02-17T15:07:35.145Z"
   },
   {
    "duration": 9,
    "start_time": "2022-02-17T15:07:35.155Z"
   },
   {
    "duration": 171,
    "start_time": "2022-02-17T15:07:35.166Z"
   },
   {
    "duration": 8,
    "start_time": "2022-02-17T15:07:35.339Z"
   },
   {
    "duration": 382,
    "start_time": "2022-02-17T15:07:35.350Z"
   },
   {
    "duration": 6,
    "start_time": "2022-02-17T15:07:35.734Z"
   },
   {
    "duration": 315,
    "start_time": "2022-02-17T15:07:35.743Z"
   },
   {
    "duration": -134,
    "start_time": "2022-02-17T15:07:36.195Z"
   },
   {
    "duration": -137,
    "start_time": "2022-02-17T15:07:36.199Z"
   },
   {
    "duration": -140,
    "start_time": "2022-02-17T15:07:36.203Z"
   },
   {
    "duration": -143,
    "start_time": "2022-02-17T15:07:36.207Z"
   },
   {
    "duration": -145,
    "start_time": "2022-02-17T15:07:36.211Z"
   },
   {
    "duration": -149,
    "start_time": "2022-02-17T15:07:36.216Z"
   },
   {
    "duration": -152,
    "start_time": "2022-02-17T15:07:36.220Z"
   },
   {
    "duration": -155,
    "start_time": "2022-02-17T15:07:36.224Z"
   },
   {
    "duration": -158,
    "start_time": "2022-02-17T15:07:36.228Z"
   },
   {
    "duration": -161,
    "start_time": "2022-02-17T15:07:36.232Z"
   },
   {
    "duration": -162,
    "start_time": "2022-02-17T15:07:36.235Z"
   },
   {
    "duration": -165,
    "start_time": "2022-02-17T15:07:36.239Z"
   },
   {
    "duration": -168,
    "start_time": "2022-02-17T15:07:36.243Z"
   },
   {
    "duration": -170,
    "start_time": "2022-02-17T15:07:36.246Z"
   },
   {
    "duration": -173,
    "start_time": "2022-02-17T15:07:36.250Z"
   },
   {
    "duration": -176,
    "start_time": "2022-02-17T15:07:36.254Z"
   },
   {
    "duration": -179,
    "start_time": "2022-02-17T15:07:36.258Z"
   },
   {
    "duration": -182,
    "start_time": "2022-02-17T15:07:36.262Z"
   },
   {
    "duration": -185,
    "start_time": "2022-02-17T15:07:36.266Z"
   },
   {
    "duration": -187,
    "start_time": "2022-02-17T15:07:36.269Z"
   },
   {
    "duration": -190,
    "start_time": "2022-02-17T15:07:36.273Z"
   },
   {
    "duration": -191,
    "start_time": "2022-02-17T15:07:36.276Z"
   },
   {
    "duration": -194,
    "start_time": "2022-02-17T15:07:36.280Z"
   },
   {
    "duration": -197,
    "start_time": "2022-02-17T15:07:36.284Z"
   },
   {
    "duration": -200,
    "start_time": "2022-02-17T15:07:36.288Z"
   },
   {
    "duration": -202,
    "start_time": "2022-02-17T15:07:36.291Z"
   },
   {
    "duration": 3736,
    "start_time": "2022-02-17T15:10:08.637Z"
   },
   {
    "duration": 4,
    "start_time": "2022-02-17T15:10:15.182Z"
   },
   {
    "duration": 38,
    "start_time": "2022-02-17T15:10:15.188Z"
   },
   {
    "duration": 13,
    "start_time": "2022-02-17T15:10:15.229Z"
   },
   {
    "duration": 8,
    "start_time": "2022-02-17T15:10:15.244Z"
   },
   {
    "duration": 3,
    "start_time": "2022-02-17T15:10:15.254Z"
   },
   {
    "duration": 5,
    "start_time": "2022-02-17T15:10:15.259Z"
   },
   {
    "duration": 12,
    "start_time": "2022-02-17T15:10:15.266Z"
   },
   {
    "duration": 63,
    "start_time": "2022-02-17T15:10:15.281Z"
   },
   {
    "duration": 204,
    "start_time": "2022-02-17T15:10:15.347Z"
   },
   {
    "duration": 261,
    "start_time": "2022-02-17T15:10:15.553Z"
   },
   {
    "duration": 187,
    "start_time": "2022-02-17T15:10:15.816Z"
   },
   {
    "duration": 173,
    "start_time": "2022-02-17T15:10:16.005Z"
   },
   {
    "duration": 136,
    "start_time": "2022-02-17T15:10:16.180Z"
   },
   {
    "duration": 14,
    "start_time": "2022-02-17T15:10:16.318Z"
   },
   {
    "duration": 5,
    "start_time": "2022-02-17T15:10:16.334Z"
   },
   {
    "duration": 8,
    "start_time": "2022-02-17T15:10:16.340Z"
   },
   {
    "duration": 7,
    "start_time": "2022-02-17T15:10:16.349Z"
   },
   {
    "duration": 8,
    "start_time": "2022-02-17T15:10:16.358Z"
   },
   {
    "duration": 9,
    "start_time": "2022-02-17T15:10:16.367Z"
   },
   {
    "duration": 6,
    "start_time": "2022-02-17T15:10:16.378Z"
   },
   {
    "duration": 8,
    "start_time": "2022-02-17T15:10:16.386Z"
   },
   {
    "duration": 8,
    "start_time": "2022-02-17T15:10:16.432Z"
   },
   {
    "duration": 9,
    "start_time": "2022-02-17T15:10:16.445Z"
   },
   {
    "duration": 6,
    "start_time": "2022-02-17T15:10:16.457Z"
   },
   {
    "duration": 28,
    "start_time": "2022-02-17T15:10:16.465Z"
   },
   {
    "duration": 7,
    "start_time": "2022-02-17T15:10:16.494Z"
   },
   {
    "duration": 30,
    "start_time": "2022-02-17T15:10:16.503Z"
   },
   {
    "duration": 11,
    "start_time": "2022-02-17T15:10:16.535Z"
   },
   {
    "duration": 9,
    "start_time": "2022-02-17T15:10:16.547Z"
   },
   {
    "duration": 17,
    "start_time": "2022-02-17T15:10:16.557Z"
   },
   {
    "duration": 18,
    "start_time": "2022-02-17T15:10:16.576Z"
   },
   {
    "duration": 11,
    "start_time": "2022-02-17T15:10:16.595Z"
   },
   {
    "duration": 15,
    "start_time": "2022-02-17T15:10:16.607Z"
   },
   {
    "duration": 14,
    "start_time": "2022-02-17T15:10:16.623Z"
   },
   {
    "duration": 107,
    "start_time": "2022-02-17T15:10:16.639Z"
   },
   {
    "duration": 8,
    "start_time": "2022-02-17T15:10:16.832Z"
   },
   {
    "duration": 328,
    "start_time": "2022-02-17T15:10:16.842Z"
   },
   {
    "duration": 5,
    "start_time": "2022-02-17T15:10:17.172Z"
   },
   {
    "duration": 4006,
    "start_time": "2022-02-17T15:10:17.179Z"
   },
   {
    "duration": 247,
    "start_time": "2022-02-17T15:10:21.188Z"
   },
   {
    "duration": 7,
    "start_time": "2022-02-17T15:10:21.437Z"
   },
   {
    "duration": 2,
    "start_time": "2022-02-17T15:10:21.446Z"
   },
   {
    "duration": 10,
    "start_time": "2022-02-17T15:10:21.450Z"
   },
   {
    "duration": 10,
    "start_time": "2022-02-17T15:10:21.462Z"
   },
   {
    "duration": 6,
    "start_time": "2022-02-17T15:10:21.474Z"
   },
   {
    "duration": 5499,
    "start_time": "2022-02-17T15:10:21.482Z"
   },
   {
    "duration": 259,
    "start_time": "2022-02-17T15:10:26.983Z"
   },
   {
    "duration": 177,
    "start_time": "2022-02-17T15:10:27.244Z"
   },
   {
    "duration": 14,
    "start_time": "2022-02-17T15:10:27.423Z"
   },
   {
    "duration": 5,
    "start_time": "2022-02-17T15:10:27.439Z"
   },
   {
    "duration": 1434,
    "start_time": "2022-02-17T15:10:27.445Z"
   },
   {
    "duration": 160,
    "start_time": "2022-02-17T15:10:28.881Z"
   },
   {
    "duration": 170,
    "start_time": "2022-02-17T15:10:29.043Z"
   },
   {
    "duration": 309,
    "start_time": "2022-02-17T15:10:29.215Z"
   },
   {
    "duration": -128,
    "start_time": "2022-02-17T15:10:29.654Z"
   },
   {
    "duration": -133,
    "start_time": "2022-02-17T15:10:29.661Z"
   },
   {
    "duration": -135,
    "start_time": "2022-02-17T15:10:29.664Z"
   },
   {
    "duration": -138,
    "start_time": "2022-02-17T15:10:29.668Z"
   },
   {
    "duration": -140,
    "start_time": "2022-02-17T15:10:29.671Z"
   },
   {
    "duration": -143,
    "start_time": "2022-02-17T15:10:29.675Z"
   },
   {
    "duration": -145,
    "start_time": "2022-02-17T15:10:29.678Z"
   },
   {
    "duration": -148,
    "start_time": "2022-02-17T15:10:29.682Z"
   },
   {
    "duration": -150,
    "start_time": "2022-02-17T15:10:29.685Z"
   },
   {
    "duration": -153,
    "start_time": "2022-02-17T15:10:29.689Z"
   },
   {
    "duration": -155,
    "start_time": "2022-02-17T15:10:29.692Z"
   },
   {
    "duration": 6,
    "start_time": "2022-02-17T15:11:28.203Z"
   },
   {
    "duration": 43,
    "start_time": "2022-02-17T15:11:28.212Z"
   },
   {
    "duration": 19,
    "start_time": "2022-02-17T15:11:28.257Z"
   },
   {
    "duration": 11,
    "start_time": "2022-02-17T15:11:28.279Z"
   },
   {
    "duration": 4,
    "start_time": "2022-02-17T15:11:28.292Z"
   },
   {
    "duration": 34,
    "start_time": "2022-02-17T15:11:28.298Z"
   },
   {
    "duration": 10,
    "start_time": "2022-02-17T15:11:28.334Z"
   },
   {
    "duration": 24,
    "start_time": "2022-02-17T15:11:28.346Z"
   },
   {
    "duration": 327,
    "start_time": "2022-02-17T15:11:28.372Z"
   },
   {
    "duration": 305,
    "start_time": "2022-02-17T15:11:28.701Z"
   },
   {
    "duration": 183,
    "start_time": "2022-02-17T15:11:29.008Z"
   },
   {
    "duration": 169,
    "start_time": "2022-02-17T15:11:29.193Z"
   },
   {
    "duration": 216,
    "start_time": "2022-02-17T15:11:29.364Z"
   },
   {
    "duration": 4,
    "start_time": "2022-02-17T15:11:29.581Z"
   },
   {
    "duration": 7,
    "start_time": "2022-02-17T15:11:29.587Z"
   },
   {
    "duration": 7,
    "start_time": "2022-02-17T15:11:29.596Z"
   },
   {
    "duration": 8,
    "start_time": "2022-02-17T15:11:29.604Z"
   },
   {
    "duration": 23,
    "start_time": "2022-02-17T15:11:29.613Z"
   },
   {
    "duration": 11,
    "start_time": "2022-02-17T15:11:29.638Z"
   },
   {
    "duration": 9,
    "start_time": "2022-02-17T15:11:29.650Z"
   },
   {
    "duration": 10,
    "start_time": "2022-02-17T15:11:29.661Z"
   },
   {
    "duration": 8,
    "start_time": "2022-02-17T15:11:29.673Z"
   },
   {
    "duration": 10,
    "start_time": "2022-02-17T15:11:29.685Z"
   },
   {
    "duration": 11,
    "start_time": "2022-02-17T15:11:29.698Z"
   },
   {
    "duration": 49,
    "start_time": "2022-02-17T15:11:29.711Z"
   },
   {
    "duration": 10,
    "start_time": "2022-02-17T15:11:29.762Z"
   },
   {
    "duration": 4,
    "start_time": "2022-02-17T15:11:29.774Z"
   },
   {
    "duration": 6,
    "start_time": "2022-02-17T15:11:29.780Z"
   },
   {
    "duration": 10,
    "start_time": "2022-02-17T15:11:29.787Z"
   },
   {
    "duration": 9,
    "start_time": "2022-02-17T15:11:29.798Z"
   },
   {
    "duration": 11,
    "start_time": "2022-02-17T15:11:29.809Z"
   },
   {
    "duration": 14,
    "start_time": "2022-02-17T15:11:29.822Z"
   },
   {
    "duration": 10,
    "start_time": "2022-02-17T15:11:29.837Z"
   },
   {
    "duration": 12,
    "start_time": "2022-02-17T15:11:29.848Z"
   },
   {
    "duration": 171,
    "start_time": "2022-02-17T15:11:29.861Z"
   },
   {
    "duration": 6,
    "start_time": "2022-02-17T15:11:30.034Z"
   },
   {
    "duration": 314,
    "start_time": "2022-02-17T15:11:30.043Z"
   },
   {
    "duration": 7,
    "start_time": "2022-02-17T15:11:30.359Z"
   },
   {
    "duration": 72299,
    "start_time": "2022-02-17T15:11:30.367Z"
   },
   {
    "duration": -124,
    "start_time": "2022-02-17T15:12:42.823Z"
   },
   {
    "duration": -128,
    "start_time": "2022-02-17T15:12:42.828Z"
   },
   {
    "duration": -131,
    "start_time": "2022-02-17T15:12:42.832Z"
   },
   {
    "duration": -144,
    "start_time": "2022-02-17T15:12:42.845Z"
   },
   {
    "duration": -146,
    "start_time": "2022-02-17T15:12:42.848Z"
   },
   {
    "duration": -149,
    "start_time": "2022-02-17T15:12:42.852Z"
   },
   {
    "duration": -152,
    "start_time": "2022-02-17T15:12:42.855Z"
   },
   {
    "duration": -154,
    "start_time": "2022-02-17T15:12:42.858Z"
   },
   {
    "duration": -158,
    "start_time": "2022-02-17T15:12:42.862Z"
   },
   {
    "duration": -159,
    "start_time": "2022-02-17T15:12:42.865Z"
   },
   {
    "duration": -162,
    "start_time": "2022-02-17T15:12:42.868Z"
   },
   {
    "duration": -141,
    "start_time": "2022-02-17T15:12:42.872Z"
   },
   {
    "duration": -151,
    "start_time": "2022-02-17T15:12:42.883Z"
   },
   {
    "duration": -153,
    "start_time": "2022-02-17T15:12:42.887Z"
   },
   {
    "duration": -193,
    "start_time": "2022-02-17T15:12:42.928Z"
   },
   {
    "duration": -259,
    "start_time": "2022-02-17T15:12:42.995Z"
   },
   {
    "duration": -262,
    "start_time": "2022-02-17T15:12:42.999Z"
   },
   {
    "duration": -264,
    "start_time": "2022-02-17T15:12:43.003Z"
   },
   {
    "duration": -267,
    "start_time": "2022-02-17T15:12:43.007Z"
   },
   {
    "duration": -269,
    "start_time": "2022-02-17T15:12:43.010Z"
   },
   {
    "duration": -271,
    "start_time": "2022-02-17T15:12:43.013Z"
   },
   {
    "duration": -273,
    "start_time": "2022-02-17T15:12:43.017Z"
   },
   {
    "duration": -275,
    "start_time": "2022-02-17T15:12:43.020Z"
   },
   {
    "duration": -277,
    "start_time": "2022-02-17T15:12:43.023Z"
   },
   {
    "duration": -279,
    "start_time": "2022-02-17T15:12:43.027Z"
   },
   {
    "duration": -281,
    "start_time": "2022-02-17T15:12:43.030Z"
   },
   {
    "duration": -283,
    "start_time": "2022-02-17T15:12:43.034Z"
   },
   {
    "duration": -544,
    "start_time": "2022-02-17T15:12:43.296Z"
   },
   {
    "duration": -567,
    "start_time": "2022-02-17T15:12:43.320Z"
   },
   {
    "duration": -569,
    "start_time": "2022-02-17T15:12:43.323Z"
   },
   {
    "duration": -570,
    "start_time": "2022-02-17T15:12:43.326Z"
   },
   {
    "duration": -572,
    "start_time": "2022-02-17T15:12:43.329Z"
   },
   {
    "duration": -581,
    "start_time": "2022-02-17T15:12:43.339Z"
   },
   {
    "duration": -584,
    "start_time": "2022-02-17T15:12:43.343Z"
   },
   {
    "duration": -586,
    "start_time": "2022-02-17T15:12:43.346Z"
   },
   {
    "duration": -589,
    "start_time": "2022-02-17T15:12:43.349Z"
   },
   {
    "duration": -595,
    "start_time": "2022-02-17T15:12:43.356Z"
   },
   {
    "duration": -597,
    "start_time": "2022-02-17T15:12:43.359Z"
   },
   {
    "duration": -599,
    "start_time": "2022-02-17T15:12:43.362Z"
   },
   {
    "duration": -601,
    "start_time": "2022-02-17T15:12:43.365Z"
   },
   {
    "duration": -604,
    "start_time": "2022-02-17T15:12:43.369Z"
   },
   {
    "duration": -605,
    "start_time": "2022-02-17T15:12:43.372Z"
   },
   {
    "duration": -608,
    "start_time": "2022-02-17T15:12:43.375Z"
   },
   {
    "duration": -610,
    "start_time": "2022-02-17T15:12:43.378Z"
   },
   {
    "duration": -613,
    "start_time": "2022-02-17T15:12:43.382Z"
   },
   {
    "duration": -614,
    "start_time": "2022-02-17T15:12:43.385Z"
   },
   {
    "duration": -617,
    "start_time": "2022-02-17T15:12:43.389Z"
   },
   {
    "duration": -561,
    "start_time": "2022-02-17T15:12:43.392Z"
   },
   {
    "duration": -563,
    "start_time": "2022-02-17T15:12:43.395Z"
   },
   {
    "duration": -565,
    "start_time": "2022-02-17T15:12:43.398Z"
   },
   {
    "duration": -567,
    "start_time": "2022-02-17T15:12:43.401Z"
   },
   {
    "duration": -569,
    "start_time": "2022-02-17T15:12:43.404Z"
   },
   {
    "duration": -572,
    "start_time": "2022-02-17T15:12:43.408Z"
   },
   {
    "duration": -574,
    "start_time": "2022-02-17T15:12:43.411Z"
   },
   {
    "duration": -576,
    "start_time": "2022-02-17T15:12:43.414Z"
   },
   {
    "duration": -577,
    "start_time": "2022-02-17T15:12:43.417Z"
   },
   {
    "duration": -580,
    "start_time": "2022-02-17T15:12:43.421Z"
   },
   {
    "duration": -587,
    "start_time": "2022-02-17T15:12:43.429Z"
   },
   {
    "duration": -590,
    "start_time": "2022-02-17T15:12:43.432Z"
   },
   {
    "duration": -592,
    "start_time": "2022-02-17T15:12:43.435Z"
   },
   {
    "duration": -605,
    "start_time": "2022-02-17T15:12:43.449Z"
   },
   {
    "duration": -607,
    "start_time": "2022-02-17T15:12:43.452Z"
   },
   {
    "duration": -610,
    "start_time": "2022-02-17T15:12:43.456Z"
   },
   {
    "duration": -612,
    "start_time": "2022-02-17T15:12:43.459Z"
   },
   {
    "duration": -617,
    "start_time": "2022-02-17T15:12:43.465Z"
   },
   {
    "duration": 4,
    "start_time": "2022-02-17T15:12:53.473Z"
   },
   {
    "duration": 47,
    "start_time": "2022-02-17T15:12:53.479Z"
   },
   {
    "duration": 18,
    "start_time": "2022-02-17T15:12:53.528Z"
   },
   {
    "duration": 28,
    "start_time": "2022-02-17T15:12:53.548Z"
   },
   {
    "duration": 30,
    "start_time": "2022-02-17T15:12:53.578Z"
   },
   {
    "duration": 14,
    "start_time": "2022-02-17T15:12:53.610Z"
   },
   {
    "duration": 24,
    "start_time": "2022-02-17T15:12:53.627Z"
   },
   {
    "duration": 20,
    "start_time": "2022-02-17T15:12:53.653Z"
   },
   {
    "duration": 187,
    "start_time": "2022-02-17T15:12:53.675Z"
   },
   {
    "duration": 181,
    "start_time": "2022-02-17T15:12:53.865Z"
   },
   {
    "duration": 272,
    "start_time": "2022-02-17T15:12:54.048Z"
   },
   {
    "duration": 357,
    "start_time": "2022-02-17T15:12:54.322Z"
   },
   {
    "duration": 218,
    "start_time": "2022-02-17T15:12:54.681Z"
   },
   {
    "duration": 5,
    "start_time": "2022-02-17T15:12:54.901Z"
   },
   {
    "duration": 6,
    "start_time": "2022-02-17T15:12:54.908Z"
   },
   {
    "duration": 21,
    "start_time": "2022-02-17T15:12:54.916Z"
   },
   {
    "duration": 7,
    "start_time": "2022-02-17T15:12:54.939Z"
   },
   {
    "duration": 8,
    "start_time": "2022-02-17T15:12:54.948Z"
   },
   {
    "duration": 6,
    "start_time": "2022-02-17T15:12:54.959Z"
   },
   {
    "duration": 5,
    "start_time": "2022-02-17T15:12:54.967Z"
   },
   {
    "duration": 7,
    "start_time": "2022-02-17T15:12:54.974Z"
   },
   {
    "duration": 7,
    "start_time": "2022-02-17T15:12:54.983Z"
   },
   {
    "duration": 42,
    "start_time": "2022-02-17T15:12:54.992Z"
   },
   {
    "duration": 5,
    "start_time": "2022-02-17T15:12:55.036Z"
   },
   {
    "duration": 22,
    "start_time": "2022-02-17T15:12:55.042Z"
   },
   {
    "duration": 8,
    "start_time": "2022-02-17T15:12:55.065Z"
   },
   {
    "duration": 7,
    "start_time": "2022-02-17T15:12:55.074Z"
   },
   {
    "duration": 8,
    "start_time": "2022-02-17T15:12:55.082Z"
   },
   {
    "duration": 9,
    "start_time": "2022-02-17T15:12:55.092Z"
   },
   {
    "duration": 30,
    "start_time": "2022-02-17T15:12:55.102Z"
   },
   {
    "duration": 7,
    "start_time": "2022-02-17T15:12:55.134Z"
   },
   {
    "duration": 7,
    "start_time": "2022-02-17T15:12:55.143Z"
   },
   {
    "duration": 9,
    "start_time": "2022-02-17T15:12:55.152Z"
   },
   {
    "duration": 11,
    "start_time": "2022-02-17T15:12:55.163Z"
   },
   {
    "duration": 162,
    "start_time": "2022-02-17T15:12:55.176Z"
   },
   {
    "duration": 6,
    "start_time": "2022-02-17T15:12:55.340Z"
   },
   {
    "duration": 327,
    "start_time": "2022-02-17T15:12:55.433Z"
   },
   {
    "duration": 8,
    "start_time": "2022-02-17T15:12:55.763Z"
   },
   {
    "duration": 4034,
    "start_time": "2022-02-17T15:12:55.773Z"
   },
   {
    "duration": 172,
    "start_time": "2022-02-17T15:12:59.809Z"
   },
   {
    "duration": 5,
    "start_time": "2022-02-17T15:12:59.983Z"
   },
   {
    "duration": 3,
    "start_time": "2022-02-17T15:12:59.990Z"
   },
   {
    "duration": 8,
    "start_time": "2022-02-17T15:12:59.994Z"
   },
   {
    "duration": 28,
    "start_time": "2022-02-17T15:13:00.004Z"
   },
   {
    "duration": 9,
    "start_time": "2022-02-17T15:13:00.034Z"
   },
   {
    "duration": 3979,
    "start_time": "2022-02-17T15:13:00.044Z"
   },
   {
    "duration": 184,
    "start_time": "2022-02-17T15:13:04.025Z"
   },
   {
    "duration": 194,
    "start_time": "2022-02-17T15:13:04.210Z"
   },
   {
    "duration": 11,
    "start_time": "2022-02-17T15:13:04.406Z"
   },
   {
    "duration": 6,
    "start_time": "2022-02-17T15:13:04.432Z"
   },
   {
    "duration": 1543,
    "start_time": "2022-02-17T15:13:04.441Z"
   },
   {
    "duration": 176,
    "start_time": "2022-02-17T15:13:05.985Z"
   },
   {
    "duration": 224,
    "start_time": "2022-02-17T15:13:06.163Z"
   },
   {
    "duration": 11,
    "start_time": "2022-02-17T15:13:06.389Z"
   },
   {
    "duration": 4,
    "start_time": "2022-02-17T15:13:06.405Z"
   },
   {
    "duration": 54,
    "start_time": "2022-02-17T15:13:06.411Z"
   },
   {
    "duration": 6,
    "start_time": "2022-02-17T15:13:06.467Z"
   },
   {
    "duration": 7,
    "start_time": "2022-02-17T15:13:06.474Z"
   },
   {
    "duration": 9,
    "start_time": "2022-02-17T15:13:06.484Z"
   },
   {
    "duration": 10,
    "start_time": "2022-02-17T15:13:06.495Z"
   },
   {
    "duration": 31,
    "start_time": "2022-02-17T15:13:06.507Z"
   },
   {
    "duration": 5249,
    "start_time": "2022-02-17T15:13:06.540Z"
   },
   {
    "duration": 191,
    "start_time": "2022-02-17T15:13:11.791Z"
   },
   {
    "duration": 196,
    "start_time": "2022-02-17T15:13:11.984Z"
   },
   {
    "duration": 176,
    "start_time": "2022-02-17T15:13:12.182Z"
   },
   {
    "duration": 3,
    "start_time": "2022-02-17T15:17:16.706Z"
   },
   {
    "duration": 6,
    "start_time": "2022-02-17T15:17:19.554Z"
   },
   {
    "duration": 38,
    "start_time": "2022-02-17T15:17:19.562Z"
   },
   {
    "duration": 13,
    "start_time": "2022-02-17T15:17:19.602Z"
   },
   {
    "duration": 10,
    "start_time": "2022-02-17T15:17:19.617Z"
   },
   {
    "duration": 4,
    "start_time": "2022-02-17T15:17:19.628Z"
   },
   {
    "duration": 12,
    "start_time": "2022-02-17T15:17:19.633Z"
   },
   {
    "duration": 11,
    "start_time": "2022-02-17T15:17:19.646Z"
   },
   {
    "duration": 22,
    "start_time": "2022-02-17T15:17:19.660Z"
   },
   {
    "duration": 220,
    "start_time": "2022-02-17T15:17:19.685Z"
   },
   {
    "duration": 183,
    "start_time": "2022-02-17T15:17:19.907Z"
   },
   {
    "duration": 183,
    "start_time": "2022-02-17T15:17:20.092Z"
   },
   {
    "duration": 184,
    "start_time": "2022-02-17T15:17:20.277Z"
   },
   {
    "duration": 227,
    "start_time": "2022-02-17T15:17:20.462Z"
   },
   {
    "duration": 4,
    "start_time": "2022-02-17T15:17:20.691Z"
   },
   {
    "duration": 5,
    "start_time": "2022-02-17T15:17:20.697Z"
   },
   {
    "duration": 28,
    "start_time": "2022-02-17T15:17:20.705Z"
   },
   {
    "duration": 6,
    "start_time": "2022-02-17T15:17:20.735Z"
   },
   {
    "duration": 8,
    "start_time": "2022-02-17T15:17:20.743Z"
   },
   {
    "duration": 11,
    "start_time": "2022-02-17T15:17:20.753Z"
   },
   {
    "duration": 7,
    "start_time": "2022-02-17T15:17:20.766Z"
   },
   {
    "duration": 7,
    "start_time": "2022-02-17T15:17:20.775Z"
   },
   {
    "duration": 7,
    "start_time": "2022-02-17T15:17:20.785Z"
   },
   {
    "duration": 41,
    "start_time": "2022-02-17T15:17:20.797Z"
   },
   {
    "duration": 6,
    "start_time": "2022-02-17T15:17:20.842Z"
   },
   {
    "duration": 24,
    "start_time": "2022-02-17T15:17:20.850Z"
   },
   {
    "duration": 11,
    "start_time": "2022-02-17T15:17:20.876Z"
   },
   {
    "duration": 7,
    "start_time": "2022-02-17T15:17:20.888Z"
   },
   {
    "duration": 13,
    "start_time": "2022-02-17T15:17:20.896Z"
   },
   {
    "duration": 5,
    "start_time": "2022-02-17T15:17:20.932Z"
   },
   {
    "duration": 9,
    "start_time": "2022-02-17T15:17:20.939Z"
   },
   {
    "duration": 16,
    "start_time": "2022-02-17T15:17:20.949Z"
   },
   {
    "duration": 14,
    "start_time": "2022-02-17T15:17:20.966Z"
   },
   {
    "duration": 8,
    "start_time": "2022-02-17T15:17:20.983Z"
   },
   {
    "duration": 9,
    "start_time": "2022-02-17T15:17:20.993Z"
   },
   {
    "duration": 138,
    "start_time": "2022-02-17T15:17:21.004Z"
   },
   {
    "duration": 102,
    "start_time": "2022-02-17T15:17:21.144Z"
   },
   {
    "duration": 407,
    "start_time": "2022-02-17T15:17:21.248Z"
   },
   {
    "duration": 7,
    "start_time": "2022-02-17T15:17:21.657Z"
   },
   {
    "duration": 4051,
    "start_time": "2022-02-17T15:17:21.666Z"
   },
   {
    "duration": 185,
    "start_time": "2022-02-17T15:17:25.719Z"
   },
   {
    "duration": 7,
    "start_time": "2022-02-17T15:17:25.906Z"
   },
   {
    "duration": 3,
    "start_time": "2022-02-17T15:17:25.914Z"
   },
   {
    "duration": 9,
    "start_time": "2022-02-17T15:17:25.931Z"
   },
   {
    "duration": 10,
    "start_time": "2022-02-17T15:17:25.941Z"
   },
   {
    "duration": 5,
    "start_time": "2022-02-17T15:17:25.953Z"
   },
   {
    "duration": 3838,
    "start_time": "2022-02-17T15:17:25.961Z"
   },
   {
    "duration": 183,
    "start_time": "2022-02-17T15:17:29.801Z"
   },
   {
    "duration": 184,
    "start_time": "2022-02-17T15:17:29.985Z"
   },
   {
    "duration": 9,
    "start_time": "2022-02-17T15:17:30.170Z"
   },
   {
    "duration": 18,
    "start_time": "2022-02-17T15:17:30.181Z"
   },
   {
    "duration": 2115,
    "start_time": "2022-02-17T15:17:30.201Z"
   },
   {
    "duration": 165,
    "start_time": "2022-02-17T15:17:32.318Z"
   },
   {
    "duration": 232,
    "start_time": "2022-02-17T15:17:32.485Z"
   },
   {
    "duration": 16,
    "start_time": "2022-02-17T15:17:32.719Z"
   },
   {
    "duration": 17,
    "start_time": "2022-02-17T15:17:32.737Z"
   },
   {
    "duration": 50,
    "start_time": "2022-02-17T15:17:32.755Z"
   },
   {
    "duration": 7,
    "start_time": "2022-02-17T15:17:32.807Z"
   },
   {
    "duration": 20,
    "start_time": "2022-02-17T15:17:32.815Z"
   },
   {
    "duration": 17,
    "start_time": "2022-02-17T15:17:32.837Z"
   },
   {
    "duration": 20,
    "start_time": "2022-02-17T15:17:32.856Z"
   },
   {
    "duration": 13,
    "start_time": "2022-02-17T15:17:32.878Z"
   },
   {
    "duration": 6940,
    "start_time": "2022-02-17T15:17:32.893Z"
   },
   {
    "duration": 188,
    "start_time": "2022-02-17T15:17:39.834Z"
   },
   {
    "duration": 203,
    "start_time": "2022-02-17T15:17:40.024Z"
   },
   {
    "duration": 163,
    "start_time": "2022-02-17T15:17:40.228Z"
   },
   {
    "duration": 4,
    "start_time": "2022-02-17T15:20:07.814Z"
   },
   {
    "duration": 34,
    "start_time": "2022-02-17T15:20:07.821Z"
   },
   {
    "duration": 18,
    "start_time": "2022-02-17T15:20:07.858Z"
   },
   {
    "duration": 11,
    "start_time": "2022-02-17T15:20:07.878Z"
   },
   {
    "duration": 5,
    "start_time": "2022-02-17T15:20:07.891Z"
   },
   {
    "duration": 7,
    "start_time": "2022-02-17T15:20:07.898Z"
   },
   {
    "duration": 9,
    "start_time": "2022-02-17T15:20:07.932Z"
   },
   {
    "duration": 22,
    "start_time": "2022-02-17T15:20:07.943Z"
   },
   {
    "duration": 215,
    "start_time": "2022-02-17T15:20:07.968Z"
   },
   {
    "duration": 202,
    "start_time": "2022-02-17T15:20:08.185Z"
   },
   {
    "duration": 188,
    "start_time": "2022-02-17T15:20:08.389Z"
   },
   {
    "duration": 204,
    "start_time": "2022-02-17T15:20:08.579Z"
   },
   {
    "duration": 144,
    "start_time": "2022-02-17T15:20:08.784Z"
   },
   {
    "duration": 4,
    "start_time": "2022-02-17T15:20:08.932Z"
   },
   {
    "duration": 6,
    "start_time": "2022-02-17T15:20:08.938Z"
   },
   {
    "duration": 6,
    "start_time": "2022-02-17T15:20:08.946Z"
   },
   {
    "duration": 5,
    "start_time": "2022-02-17T15:20:08.954Z"
   },
   {
    "duration": 8,
    "start_time": "2022-02-17T15:20:08.961Z"
   },
   {
    "duration": 9,
    "start_time": "2022-02-17T15:20:08.971Z"
   },
   {
    "duration": 53,
    "start_time": "2022-02-17T15:20:08.982Z"
   },
   {
    "duration": 6,
    "start_time": "2022-02-17T15:20:09.037Z"
   },
   {
    "duration": 16,
    "start_time": "2022-02-17T15:20:09.045Z"
   },
   {
    "duration": 10,
    "start_time": "2022-02-17T15:20:09.063Z"
   },
   {
    "duration": 8,
    "start_time": "2022-02-17T15:20:09.075Z"
   },
   {
    "duration": 26,
    "start_time": "2022-02-17T15:20:09.084Z"
   },
   {
    "duration": 140,
    "start_time": "2022-02-17T15:20:09.112Z"
   },
   {
    "duration": 4,
    "start_time": "2022-02-17T15:20:09.258Z"
   },
   {
    "duration": 6,
    "start_time": "2022-02-17T15:20:09.264Z"
   },
   {
    "duration": 6,
    "start_time": "2022-02-17T15:20:09.272Z"
   },
   {
    "duration": 5,
    "start_time": "2022-02-17T15:20:09.280Z"
   },
   {
    "duration": 7,
    "start_time": "2022-02-17T15:20:09.286Z"
   },
   {
    "duration": 38,
    "start_time": "2022-02-17T15:20:09.295Z"
   },
   {
    "duration": 6,
    "start_time": "2022-02-17T15:20:09.335Z"
   },
   {
    "duration": 9,
    "start_time": "2022-02-17T15:20:09.342Z"
   },
   {
    "duration": 84,
    "start_time": "2022-02-17T15:20:09.353Z"
   },
   {
    "duration": 7,
    "start_time": "2022-02-17T15:20:09.439Z"
   },
   {
    "duration": 249,
    "start_time": "2022-02-17T15:20:09.533Z"
   },
   {
    "duration": 7,
    "start_time": "2022-02-17T15:20:09.784Z"
   },
   {
    "duration": 4061,
    "start_time": "2022-02-17T15:20:09.793Z"
   },
   {
    "duration": 270,
    "start_time": "2022-02-17T15:20:13.856Z"
   },
   {
    "duration": 9,
    "start_time": "2022-02-17T15:20:14.132Z"
   },
   {
    "duration": 4,
    "start_time": "2022-02-17T15:20:14.143Z"
   },
   {
    "duration": 8,
    "start_time": "2022-02-17T15:20:14.148Z"
   },
   {
    "duration": 8,
    "start_time": "2022-02-17T15:20:14.157Z"
   },
   {
    "duration": 7,
    "start_time": "2022-02-17T15:20:14.167Z"
   },
   {
    "duration": 5539,
    "start_time": "2022-02-17T15:20:14.175Z"
   },
   {
    "duration": 270,
    "start_time": "2022-02-17T15:20:19.716Z"
   },
   {
    "duration": 257,
    "start_time": "2022-02-17T15:20:19.988Z"
   },
   {
    "duration": 9,
    "start_time": "2022-02-17T15:20:20.246Z"
   },
   {
    "duration": 6,
    "start_time": "2022-02-17T15:20:20.257Z"
   },
   {
    "duration": 2127,
    "start_time": "2022-02-17T15:20:20.265Z"
   },
   {
    "duration": 238,
    "start_time": "2022-02-17T15:20:22.394Z"
   },
   {
    "duration": 227,
    "start_time": "2022-02-17T15:20:22.634Z"
   },
   {
    "duration": 9,
    "start_time": "2022-02-17T15:20:22.863Z"
   },
   {
    "duration": 5,
    "start_time": "2022-02-17T15:20:22.874Z"
   },
   {
    "duration": 25,
    "start_time": "2022-02-17T15:20:22.881Z"
   },
   {
    "duration": 7,
    "start_time": "2022-02-17T15:20:22.933Z"
   },
   {
    "duration": 12,
    "start_time": "2022-02-17T15:20:22.942Z"
   },
   {
    "duration": 10,
    "start_time": "2022-02-17T15:20:22.956Z"
   },
   {
    "duration": 11,
    "start_time": "2022-02-17T15:20:22.969Z"
   },
   {
    "duration": 8,
    "start_time": "2022-02-17T15:20:22.982Z"
   },
   {
    "duration": 5292,
    "start_time": "2022-02-17T15:20:22.994Z"
   },
   {
    "duration": 193,
    "start_time": "2022-02-17T15:20:28.288Z"
   },
   {
    "duration": 252,
    "start_time": "2022-02-17T15:20:28.483Z"
   },
   {
    "duration": 254,
    "start_time": "2022-02-17T15:20:28.737Z"
   },
   {
    "duration": 5,
    "start_time": "2022-02-17T15:20:55.512Z"
   },
   {
    "duration": 39,
    "start_time": "2022-02-17T15:20:55.520Z"
   },
   {
    "duration": 12,
    "start_time": "2022-02-17T15:20:55.561Z"
   },
   {
    "duration": 11,
    "start_time": "2022-02-17T15:20:55.575Z"
   },
   {
    "duration": 4,
    "start_time": "2022-02-17T15:20:55.589Z"
   },
   {
    "duration": 5,
    "start_time": "2022-02-17T15:20:55.595Z"
   },
   {
    "duration": 32,
    "start_time": "2022-02-17T15:20:55.602Z"
   },
   {
    "duration": 30,
    "start_time": "2022-02-17T15:20:55.637Z"
   },
   {
    "duration": 218,
    "start_time": "2022-02-17T15:20:55.669Z"
   },
   {
    "duration": 190,
    "start_time": "2022-02-17T15:20:55.888Z"
   },
   {
    "duration": 177,
    "start_time": "2022-02-17T15:20:56.079Z"
   },
   {
    "duration": 193,
    "start_time": "2022-02-17T15:20:56.258Z"
   },
   {
    "duration": 182,
    "start_time": "2022-02-17T15:20:56.453Z"
   },
   {
    "duration": 5,
    "start_time": "2022-02-17T15:20:56.637Z"
   },
   {
    "duration": 5,
    "start_time": "2022-02-17T15:20:56.644Z"
   },
   {
    "duration": 6,
    "start_time": "2022-02-17T15:20:56.651Z"
   },
   {
    "duration": 6,
    "start_time": "2022-02-17T15:20:56.658Z"
   },
   {
    "duration": 6,
    "start_time": "2022-02-17T15:20:56.665Z"
   },
   {
    "duration": 7,
    "start_time": "2022-02-17T15:20:56.672Z"
   },
   {
    "duration": 9,
    "start_time": "2022-02-17T15:20:56.681Z"
   },
   {
    "duration": 47,
    "start_time": "2022-02-17T15:20:56.691Z"
   },
   {
    "duration": 5,
    "start_time": "2022-02-17T15:20:56.740Z"
   },
   {
    "duration": 7,
    "start_time": "2022-02-17T15:20:56.749Z"
   },
   {
    "duration": 5,
    "start_time": "2022-02-17T15:20:56.758Z"
   },
   {
    "duration": 28,
    "start_time": "2022-02-17T15:20:56.765Z"
   },
   {
    "duration": 36,
    "start_time": "2022-02-17T15:20:56.796Z"
   },
   {
    "duration": 4,
    "start_time": "2022-02-17T15:20:56.834Z"
   },
   {
    "duration": 5,
    "start_time": "2022-02-17T15:20:56.839Z"
   },
   {
    "duration": 7,
    "start_time": "2022-02-17T15:20:56.845Z"
   },
   {
    "duration": 9,
    "start_time": "2022-02-17T15:20:56.854Z"
   },
   {
    "duration": 12,
    "start_time": "2022-02-17T15:20:56.864Z"
   },
   {
    "duration": 10,
    "start_time": "2022-02-17T15:20:56.877Z"
   },
   {
    "duration": 17,
    "start_time": "2022-02-17T15:20:56.888Z"
   },
   {
    "duration": 99,
    "start_time": "2022-02-17T15:20:56.908Z"
   },
   {
    "duration": 225,
    "start_time": "2022-02-17T15:20:57.009Z"
   },
   {
    "duration": 11,
    "start_time": "2022-02-17T15:20:57.235Z"
   },
   {
    "duration": 334,
    "start_time": "2022-02-17T15:20:57.248Z"
   },
   {
    "duration": 6,
    "start_time": "2022-02-17T15:20:57.584Z"
   },
   {
    "duration": 2826,
    "start_time": "2022-02-17T15:20:57.592Z"
   },
   {
    "duration": 157,
    "start_time": "2022-02-17T15:21:00.419Z"
   },
   {
    "duration": 5,
    "start_time": "2022-02-17T15:21:00.578Z"
   },
   {
    "duration": 4,
    "start_time": "2022-02-17T15:21:00.585Z"
   },
   {
    "duration": 11,
    "start_time": "2022-02-17T15:21:00.590Z"
   },
   {
    "duration": 33,
    "start_time": "2022-02-17T15:21:00.602Z"
   },
   {
    "duration": 5,
    "start_time": "2022-02-17T15:21:00.637Z"
   },
   {
    "duration": 3807,
    "start_time": "2022-02-17T15:21:00.643Z"
   },
   {
    "duration": 196,
    "start_time": "2022-02-17T15:21:04.452Z"
   },
   {
    "duration": 185,
    "start_time": "2022-02-17T15:21:04.650Z"
   },
   {
    "duration": 9,
    "start_time": "2022-02-17T15:21:04.837Z"
   },
   {
    "duration": 6,
    "start_time": "2022-02-17T15:21:04.848Z"
   },
   {
    "duration": 2118,
    "start_time": "2022-02-17T15:21:04.856Z"
   },
   {
    "duration": 247,
    "start_time": "2022-02-17T15:21:06.975Z"
   },
   {
    "duration": 271,
    "start_time": "2022-02-17T15:21:07.224Z"
   },
   {
    "duration": 11,
    "start_time": "2022-02-17T15:21:07.497Z"
   },
   {
    "duration": 4,
    "start_time": "2022-02-17T15:21:07.510Z"
   },
   {
    "duration": 25,
    "start_time": "2022-02-17T15:21:07.532Z"
   },
   {
    "duration": 6,
    "start_time": "2022-02-17T15:21:07.559Z"
   },
   {
    "duration": 9,
    "start_time": "2022-02-17T15:21:07.567Z"
   },
   {
    "duration": 7,
    "start_time": "2022-02-17T15:21:07.578Z"
   },
   {
    "duration": 9,
    "start_time": "2022-02-17T15:21:07.587Z"
   },
   {
    "duration": 40,
    "start_time": "2022-02-17T15:21:07.597Z"
   },
   {
    "duration": 5026,
    "start_time": "2022-02-17T15:21:07.639Z"
   },
   {
    "duration": 193,
    "start_time": "2022-02-17T15:21:12.667Z"
   },
   {
    "duration": 186,
    "start_time": "2022-02-17T15:21:12.862Z"
   },
   {
    "duration": 160,
    "start_time": "2022-02-17T15:21:13.049Z"
   },
   {
    "duration": 4,
    "start_time": "2022-02-17T15:21:43.191Z"
   },
   {
    "duration": 54,
    "start_time": "2022-02-17T15:21:43.197Z"
   },
   {
    "duration": 14,
    "start_time": "2022-02-17T15:21:43.253Z"
   },
   {
    "duration": 22,
    "start_time": "2022-02-17T15:21:43.269Z"
   },
   {
    "duration": 4,
    "start_time": "2022-02-17T15:21:43.292Z"
   },
   {
    "duration": 13,
    "start_time": "2022-02-17T15:21:43.298Z"
   },
   {
    "duration": 24,
    "start_time": "2022-02-17T15:21:43.314Z"
   },
   {
    "duration": 22,
    "start_time": "2022-02-17T15:21:43.340Z"
   },
   {
    "duration": 223,
    "start_time": "2022-02-17T15:21:43.364Z"
   },
   {
    "duration": 197,
    "start_time": "2022-02-17T15:21:43.588Z"
   },
   {
    "duration": 181,
    "start_time": "2022-02-17T15:21:43.788Z"
   },
   {
    "duration": 178,
    "start_time": "2022-02-17T15:21:43.971Z"
   },
   {
    "duration": 141,
    "start_time": "2022-02-17T15:21:44.151Z"
   },
   {
    "duration": 4,
    "start_time": "2022-02-17T15:21:44.294Z"
   },
   {
    "duration": 6,
    "start_time": "2022-02-17T15:21:44.300Z"
   },
   {
    "duration": 6,
    "start_time": "2022-02-17T15:21:44.308Z"
   },
   {
    "duration": 20,
    "start_time": "2022-02-17T15:21:44.315Z"
   },
   {
    "duration": 7,
    "start_time": "2022-02-17T15:21:44.337Z"
   },
   {
    "duration": 6,
    "start_time": "2022-02-17T15:21:44.348Z"
   },
   {
    "duration": 5,
    "start_time": "2022-02-17T15:21:44.356Z"
   },
   {
    "duration": 9,
    "start_time": "2022-02-17T15:21:44.362Z"
   },
   {
    "duration": 14,
    "start_time": "2022-02-17T15:21:44.372Z"
   },
   {
    "duration": 12,
    "start_time": "2022-02-17T15:21:44.388Z"
   },
   {
    "duration": 32,
    "start_time": "2022-02-17T15:21:44.401Z"
   },
   {
    "duration": 24,
    "start_time": "2022-02-17T15:21:44.435Z"
   },
   {
    "duration": 8,
    "start_time": "2022-02-17T15:21:44.460Z"
   },
   {
    "duration": 4,
    "start_time": "2022-02-17T15:21:44.470Z"
   },
   {
    "duration": 10,
    "start_time": "2022-02-17T15:21:44.475Z"
   },
   {
    "duration": 10,
    "start_time": "2022-02-17T15:21:44.486Z"
   },
   {
    "duration": 11,
    "start_time": "2022-02-17T15:21:44.497Z"
   },
   {
    "duration": 23,
    "start_time": "2022-02-17T15:21:44.509Z"
   },
   {
    "duration": 7,
    "start_time": "2022-02-17T15:21:44.533Z"
   },
   {
    "duration": 9,
    "start_time": "2022-02-17T15:21:44.541Z"
   },
   {
    "duration": 15,
    "start_time": "2022-02-17T15:21:44.552Z"
   },
   {
    "duration": 75,
    "start_time": "2022-02-17T15:21:44.568Z"
   },
   {
    "duration": 92,
    "start_time": "2022-02-17T15:21:44.646Z"
   },
   {
    "duration": 275,
    "start_time": "2022-02-17T15:21:44.743Z"
   },
   {
    "duration": 15,
    "start_time": "2022-02-17T15:21:45.020Z"
   },
   {
    "duration": 2919,
    "start_time": "2022-02-17T15:21:45.037Z"
   },
   {
    "duration": 160,
    "start_time": "2022-02-17T15:21:47.958Z"
   },
   {
    "duration": 15,
    "start_time": "2022-02-17T15:21:48.119Z"
   },
   {
    "duration": 3,
    "start_time": "2022-02-17T15:21:48.135Z"
   },
   {
    "duration": 11,
    "start_time": "2022-02-17T15:21:48.139Z"
   },
   {
    "duration": 8,
    "start_time": "2022-02-17T15:21:48.152Z"
   },
   {
    "duration": 7,
    "start_time": "2022-02-17T15:21:48.162Z"
   },
   {
    "duration": 3911,
    "start_time": "2022-02-17T15:21:48.170Z"
   },
   {
    "duration": 179,
    "start_time": "2022-02-17T15:21:52.082Z"
   },
   {
    "duration": 181,
    "start_time": "2022-02-17T15:21:52.263Z"
   },
   {
    "duration": 8,
    "start_time": "2022-02-17T15:21:52.446Z"
   },
   {
    "duration": 5,
    "start_time": "2022-02-17T15:21:52.455Z"
   },
   {
    "duration": 1435,
    "start_time": "2022-02-17T15:21:52.461Z"
   },
   {
    "duration": 166,
    "start_time": "2022-02-17T15:21:53.898Z"
   },
   {
    "duration": 165,
    "start_time": "2022-02-17T15:21:54.065Z"
   },
   {
    "duration": 7,
    "start_time": "2022-02-17T15:21:54.232Z"
   },
   {
    "duration": 4,
    "start_time": "2022-02-17T15:21:54.243Z"
   },
   {
    "duration": 25,
    "start_time": "2022-02-17T15:21:54.249Z"
   },
   {
    "duration": 5,
    "start_time": "2022-02-17T15:21:54.275Z"
   },
   {
    "duration": 7,
    "start_time": "2022-02-17T15:21:54.281Z"
   },
   {
    "duration": 7,
    "start_time": "2022-02-17T15:21:54.289Z"
   },
   {
    "duration": 40,
    "start_time": "2022-02-17T15:21:54.297Z"
   },
   {
    "duration": 6,
    "start_time": "2022-02-17T15:21:54.338Z"
   },
   {
    "duration": 4858,
    "start_time": "2022-02-17T15:21:54.346Z"
   },
   {
    "duration": 188,
    "start_time": "2022-02-17T15:21:59.206Z"
   },
   {
    "duration": 178,
    "start_time": "2022-02-17T15:21:59.395Z"
   },
   {
    "duration": 156,
    "start_time": "2022-02-17T15:21:59.575Z"
   },
   {
    "duration": 10,
    "start_time": "2022-02-17T15:24:13.290Z"
   },
   {
    "duration": 20,
    "start_time": "2022-02-17T15:24:17.654Z"
   },
   {
    "duration": 4,
    "start_time": "2022-02-17T15:24:24.296Z"
   },
   {
    "duration": 29,
    "start_time": "2022-02-17T15:24:24.302Z"
   },
   {
    "duration": 16,
    "start_time": "2022-02-17T15:24:24.333Z"
   },
   {
    "duration": 10,
    "start_time": "2022-02-17T15:24:24.351Z"
   },
   {
    "duration": 5,
    "start_time": "2022-02-17T15:24:24.363Z"
   },
   {
    "duration": 8,
    "start_time": "2022-02-17T15:24:24.369Z"
   },
   {
    "duration": 10,
    "start_time": "2022-02-17T15:24:24.380Z"
   },
   {
    "duration": 60,
    "start_time": "2022-02-17T15:24:24.392Z"
   },
   {
    "duration": 216,
    "start_time": "2022-02-17T15:24:24.453Z"
   },
   {
    "duration": 15,
    "start_time": "2022-02-17T15:24:24.670Z"
   },
   {
    "duration": 188,
    "start_time": "2022-02-17T15:24:24.687Z"
   },
   {
    "duration": 177,
    "start_time": "2022-02-17T15:24:24.877Z"
   },
   {
    "duration": 179,
    "start_time": "2022-02-17T15:24:25.055Z"
   },
   {
    "duration": 138,
    "start_time": "2022-02-17T15:24:25.236Z"
   },
   {
    "duration": 4,
    "start_time": "2022-02-17T15:24:25.375Z"
   },
   {
    "duration": 6,
    "start_time": "2022-02-17T15:24:25.381Z"
   },
   {
    "duration": 6,
    "start_time": "2022-02-17T15:24:25.389Z"
   },
   {
    "duration": 5,
    "start_time": "2022-02-17T15:24:25.396Z"
   },
   {
    "duration": 27,
    "start_time": "2022-02-17T15:24:25.405Z"
   },
   {
    "duration": 6,
    "start_time": "2022-02-17T15:24:25.435Z"
   },
   {
    "duration": 9,
    "start_time": "2022-02-17T15:24:25.443Z"
   },
   {
    "duration": 15,
    "start_time": "2022-02-17T15:24:25.453Z"
   },
   {
    "duration": 9,
    "start_time": "2022-02-17T15:24:25.470Z"
   },
   {
    "duration": 9,
    "start_time": "2022-02-17T15:24:25.481Z"
   },
   {
    "duration": 6,
    "start_time": "2022-02-17T15:24:25.491Z"
   },
   {
    "duration": 38,
    "start_time": "2022-02-17T15:24:25.499Z"
   },
   {
    "duration": 8,
    "start_time": "2022-02-17T15:24:25.539Z"
   },
   {
    "duration": 6,
    "start_time": "2022-02-17T15:24:25.549Z"
   },
   {
    "duration": 8,
    "start_time": "2022-02-17T15:24:25.557Z"
   },
   {
    "duration": 8,
    "start_time": "2022-02-17T15:24:25.566Z"
   },
   {
    "duration": 12,
    "start_time": "2022-02-17T15:24:25.576Z"
   },
   {
    "duration": 14,
    "start_time": "2022-02-17T15:24:25.590Z"
   },
   {
    "duration": 12,
    "start_time": "2022-02-17T15:24:25.605Z"
   },
   {
    "duration": 14,
    "start_time": "2022-02-17T15:24:25.619Z"
   },
   {
    "duration": 7,
    "start_time": "2022-02-17T15:24:25.635Z"
   },
   {
    "duration": 372,
    "start_time": "2022-02-17T15:24:25.643Z"
   },
   {
    "duration": -143,
    "start_time": "2022-02-17T15:24:26.160Z"
   },
   {
    "duration": -145,
    "start_time": "2022-02-17T15:24:26.163Z"
   },
   {
    "duration": -148,
    "start_time": "2022-02-17T15:24:26.167Z"
   },
   {
    "duration": -151,
    "start_time": "2022-02-17T15:24:26.171Z"
   },
   {
    "duration": -153,
    "start_time": "2022-02-17T15:24:26.174Z"
   },
   {
    "duration": -155,
    "start_time": "2022-02-17T15:24:26.177Z"
   },
   {
    "duration": -158,
    "start_time": "2022-02-17T15:24:26.181Z"
   },
   {
    "duration": -160,
    "start_time": "2022-02-17T15:24:26.184Z"
   },
   {
    "duration": -163,
    "start_time": "2022-02-17T15:24:26.188Z"
   },
   {
    "duration": -166,
    "start_time": "2022-02-17T15:24:26.192Z"
   },
   {
    "duration": -168,
    "start_time": "2022-02-17T15:24:26.195Z"
   },
   {
    "duration": -171,
    "start_time": "2022-02-17T15:24:26.199Z"
   },
   {
    "duration": -173,
    "start_time": "2022-02-17T15:24:26.202Z"
   },
   {
    "duration": -175,
    "start_time": "2022-02-17T15:24:26.205Z"
   },
   {
    "duration": -178,
    "start_time": "2022-02-17T15:24:26.209Z"
   },
   {
    "duration": -180,
    "start_time": "2022-02-17T15:24:26.212Z"
   },
   {
    "duration": -183,
    "start_time": "2022-02-17T15:24:26.216Z"
   },
   {
    "duration": -185,
    "start_time": "2022-02-17T15:24:26.219Z"
   },
   {
    "duration": -187,
    "start_time": "2022-02-17T15:24:26.222Z"
   },
   {
    "duration": -190,
    "start_time": "2022-02-17T15:24:26.226Z"
   },
   {
    "duration": -194,
    "start_time": "2022-02-17T15:24:26.230Z"
   },
   {
    "duration": -196,
    "start_time": "2022-02-17T15:24:26.233Z"
   },
   {
    "duration": -198,
    "start_time": "2022-02-17T15:24:26.236Z"
   },
   {
    "duration": -201,
    "start_time": "2022-02-17T15:24:26.240Z"
   },
   {
    "duration": -203,
    "start_time": "2022-02-17T15:24:26.243Z"
   },
   {
    "duration": -205,
    "start_time": "2022-02-17T15:24:26.247Z"
   },
   {
    "duration": -207,
    "start_time": "2022-02-17T15:24:26.250Z"
   },
   {
    "duration": -229,
    "start_time": "2022-02-17T15:24:26.273Z"
   },
   {
    "duration": -233,
    "start_time": "2022-02-17T15:24:26.277Z"
   },
   {
    "duration": -234,
    "start_time": "2022-02-17T15:24:26.280Z"
   },
   {
    "duration": 31,
    "start_time": "2022-02-17T15:25:59.673Z"
   },
   {
    "duration": 1374,
    "start_time": "2022-02-17T15:28:11.424Z"
   },
   {
    "duration": 28,
    "start_time": "2022-02-17T15:28:12.800Z"
   },
   {
    "duration": 15,
    "start_time": "2022-02-17T15:28:12.830Z"
   },
   {
    "duration": 8,
    "start_time": "2022-02-17T15:28:12.848Z"
   },
   {
    "duration": 4,
    "start_time": "2022-02-17T15:28:12.858Z"
   },
   {
    "duration": 6,
    "start_time": "2022-02-17T15:28:12.864Z"
   },
   {
    "duration": 13,
    "start_time": "2022-02-17T15:28:12.872Z"
   },
   {
    "duration": 53,
    "start_time": "2022-02-17T15:28:12.887Z"
   },
   {
    "duration": 201,
    "start_time": "2022-02-17T15:28:12.942Z"
   },
   {
    "duration": 20,
    "start_time": "2022-02-17T15:28:13.145Z"
   },
   {
    "duration": 200,
    "start_time": "2022-02-17T15:28:13.167Z"
   },
   {
    "duration": 189,
    "start_time": "2022-02-17T15:28:13.368Z"
   },
   {
    "duration": 205,
    "start_time": "2022-02-17T15:28:13.559Z"
   },
   {
    "duration": 213,
    "start_time": "2022-02-17T15:28:13.766Z"
   },
   {
    "duration": 5,
    "start_time": "2022-02-17T15:28:13.981Z"
   },
   {
    "duration": 6,
    "start_time": "2022-02-17T15:28:13.987Z"
   },
   {
    "duration": 7,
    "start_time": "2022-02-17T15:28:13.995Z"
   },
   {
    "duration": 6,
    "start_time": "2022-02-17T15:28:14.004Z"
   },
   {
    "duration": 8,
    "start_time": "2022-02-17T15:28:14.032Z"
   },
   {
    "duration": 9,
    "start_time": "2022-02-17T15:28:14.042Z"
   },
   {
    "duration": 7,
    "start_time": "2022-02-17T15:28:14.052Z"
   },
   {
    "duration": 6,
    "start_time": "2022-02-17T15:28:14.061Z"
   },
   {
    "duration": 5,
    "start_time": "2022-02-17T15:28:14.072Z"
   },
   {
    "duration": 9,
    "start_time": "2022-02-17T15:28:14.080Z"
   },
   {
    "duration": 42,
    "start_time": "2022-02-17T15:28:14.090Z"
   },
   {
    "duration": 23,
    "start_time": "2022-02-17T15:28:14.133Z"
   },
   {
    "duration": 7,
    "start_time": "2022-02-17T15:28:14.158Z"
   },
   {
    "duration": 3,
    "start_time": "2022-02-17T15:28:14.167Z"
   },
   {
    "duration": 7,
    "start_time": "2022-02-17T15:28:14.172Z"
   },
   {
    "duration": 10,
    "start_time": "2022-02-17T15:28:14.180Z"
   },
   {
    "duration": 13,
    "start_time": "2022-02-17T15:28:14.191Z"
   },
   {
    "duration": 32,
    "start_time": "2022-02-17T15:28:14.206Z"
   },
   {
    "duration": 6,
    "start_time": "2022-02-17T15:28:14.240Z"
   },
   {
    "duration": 10,
    "start_time": "2022-02-17T15:28:14.248Z"
   },
   {
    "duration": 11,
    "start_time": "2022-02-17T15:28:14.259Z"
   },
   {
    "duration": 399,
    "start_time": "2022-02-17T15:28:14.272Z"
   },
   {
    "duration": -97,
    "start_time": "2022-02-17T15:28:14.771Z"
   },
   {
    "duration": -100,
    "start_time": "2022-02-17T15:28:14.774Z"
   },
   {
    "duration": -103,
    "start_time": "2022-02-17T15:28:14.778Z"
   },
   {
    "duration": -105,
    "start_time": "2022-02-17T15:28:14.782Z"
   },
   {
    "duration": -108,
    "start_time": "2022-02-17T15:28:14.785Z"
   },
   {
    "duration": -109,
    "start_time": "2022-02-17T15:28:14.788Z"
   },
   {
    "duration": -112,
    "start_time": "2022-02-17T15:28:14.792Z"
   },
   {
    "duration": -114,
    "start_time": "2022-02-17T15:28:14.795Z"
   },
   {
    "duration": -132,
    "start_time": "2022-02-17T15:28:14.814Z"
   },
   {
    "duration": -135,
    "start_time": "2022-02-17T15:28:14.818Z"
   },
   {
    "duration": -138,
    "start_time": "2022-02-17T15:28:14.822Z"
   },
   {
    "duration": -140,
    "start_time": "2022-02-17T15:28:14.825Z"
   },
   {
    "duration": -143,
    "start_time": "2022-02-17T15:28:14.829Z"
   },
   {
    "duration": -145,
    "start_time": "2022-02-17T15:28:14.832Z"
   },
   {
    "duration": -147,
    "start_time": "2022-02-17T15:28:14.835Z"
   },
   {
    "duration": -150,
    "start_time": "2022-02-17T15:28:14.839Z"
   },
   {
    "duration": -152,
    "start_time": "2022-02-17T15:28:14.842Z"
   },
   {
    "duration": -155,
    "start_time": "2022-02-17T15:28:14.846Z"
   },
   {
    "duration": -157,
    "start_time": "2022-02-17T15:28:14.849Z"
   },
   {
    "duration": -159,
    "start_time": "2022-02-17T15:28:14.852Z"
   },
   {
    "duration": -162,
    "start_time": "2022-02-17T15:28:14.856Z"
   },
   {
    "duration": -164,
    "start_time": "2022-02-17T15:28:14.859Z"
   },
   {
    "duration": -167,
    "start_time": "2022-02-17T15:28:14.863Z"
   },
   {
    "duration": -169,
    "start_time": "2022-02-17T15:28:14.866Z"
   },
   {
    "duration": -172,
    "start_time": "2022-02-17T15:28:14.869Z"
   },
   {
    "duration": -183,
    "start_time": "2022-02-17T15:28:14.881Z"
   },
   {
    "duration": -186,
    "start_time": "2022-02-17T15:28:14.885Z"
   },
   {
    "duration": -188,
    "start_time": "2022-02-17T15:28:14.888Z"
   },
   {
    "duration": -190,
    "start_time": "2022-02-17T15:28:14.891Z"
   },
   {
    "duration": -193,
    "start_time": "2022-02-17T15:28:14.895Z"
   },
   {
    "duration": 34,
    "start_time": "2022-02-17T15:30:07.308Z"
   },
   {
    "duration": 5,
    "start_time": "2022-02-17T15:30:14.913Z"
   },
   {
    "duration": 31,
    "start_time": "2022-02-17T15:30:14.920Z"
   },
   {
    "duration": 13,
    "start_time": "2022-02-17T15:30:14.953Z"
   },
   {
    "duration": 13,
    "start_time": "2022-02-17T15:30:14.969Z"
   },
   {
    "duration": 14,
    "start_time": "2022-02-17T15:30:14.984Z"
   },
   {
    "duration": 31,
    "start_time": "2022-02-17T15:30:15.001Z"
   },
   {
    "duration": 10,
    "start_time": "2022-02-17T15:30:15.034Z"
   },
   {
    "duration": 20,
    "start_time": "2022-02-17T15:30:15.046Z"
   },
   {
    "duration": 238,
    "start_time": "2022-02-17T15:30:15.068Z"
   },
   {
    "duration": 38,
    "start_time": "2022-02-17T15:30:15.308Z"
   },
   {
    "duration": 210,
    "start_time": "2022-02-17T15:30:15.351Z"
   },
   {
    "duration": 243,
    "start_time": "2022-02-17T15:30:15.563Z"
   },
   {
    "duration": 176,
    "start_time": "2022-02-17T15:30:15.808Z"
   },
   {
    "duration": 169,
    "start_time": "2022-02-17T15:30:15.986Z"
   },
   {
    "duration": 6,
    "start_time": "2022-02-17T15:30:16.157Z"
   },
   {
    "duration": 7,
    "start_time": "2022-02-17T15:30:16.165Z"
   },
   {
    "duration": 7,
    "start_time": "2022-02-17T15:30:16.174Z"
   },
   {
    "duration": 9,
    "start_time": "2022-02-17T15:30:16.183Z"
   },
   {
    "duration": 42,
    "start_time": "2022-02-17T15:30:16.194Z"
   },
   {
    "duration": 9,
    "start_time": "2022-02-17T15:30:16.239Z"
   },
   {
    "duration": 10,
    "start_time": "2022-02-17T15:30:16.250Z"
   },
   {
    "duration": 6,
    "start_time": "2022-02-17T15:30:16.262Z"
   },
   {
    "duration": 6,
    "start_time": "2022-02-17T15:30:16.274Z"
   },
   {
    "duration": 18,
    "start_time": "2022-02-17T15:30:16.283Z"
   },
   {
    "duration": 33,
    "start_time": "2022-02-17T15:30:16.303Z"
   },
   {
    "duration": 34,
    "start_time": "2022-02-17T15:30:16.338Z"
   },
   {
    "duration": 10,
    "start_time": "2022-02-17T15:30:16.374Z"
   },
   {
    "duration": 4,
    "start_time": "2022-02-17T15:30:16.386Z"
   },
   {
    "duration": 8,
    "start_time": "2022-02-17T15:30:16.392Z"
   },
   {
    "duration": 9,
    "start_time": "2022-02-17T15:30:16.402Z"
   },
   {
    "duration": 4,
    "start_time": "2022-02-17T15:30:16.432Z"
   },
   {
    "duration": 11,
    "start_time": "2022-02-17T15:30:16.439Z"
   },
   {
    "duration": 8,
    "start_time": "2022-02-17T15:30:16.451Z"
   },
   {
    "duration": 8,
    "start_time": "2022-02-17T15:30:16.461Z"
   },
   {
    "duration": 10,
    "start_time": "2022-02-17T15:30:16.470Z"
   },
   {
    "duration": 328,
    "start_time": "2022-02-17T15:30:16.482Z"
   },
   {
    "duration": -164,
    "start_time": "2022-02-17T15:30:16.976Z"
   },
   {
    "duration": -167,
    "start_time": "2022-02-17T15:30:16.979Z"
   },
   {
    "duration": -169,
    "start_time": "2022-02-17T15:30:16.982Z"
   },
   {
    "duration": -171,
    "start_time": "2022-02-17T15:30:16.985Z"
   },
   {
    "duration": -175,
    "start_time": "2022-02-17T15:30:16.989Z"
   },
   {
    "duration": -177,
    "start_time": "2022-02-17T15:30:16.992Z"
   },
   {
    "duration": -179,
    "start_time": "2022-02-17T15:30:16.995Z"
   },
   {
    "duration": -182,
    "start_time": "2022-02-17T15:30:16.998Z"
   },
   {
    "duration": -184,
    "start_time": "2022-02-17T15:30:17.001Z"
   },
   {
    "duration": -187,
    "start_time": "2022-02-17T15:30:17.004Z"
   },
   {
    "duration": -190,
    "start_time": "2022-02-17T15:30:17.008Z"
   },
   {
    "duration": -192,
    "start_time": "2022-02-17T15:30:17.011Z"
   },
   {
    "duration": -212,
    "start_time": "2022-02-17T15:30:17.032Z"
   },
   {
    "duration": -225,
    "start_time": "2022-02-17T15:30:17.046Z"
   },
   {
    "duration": -228,
    "start_time": "2022-02-17T15:30:17.050Z"
   },
   {
    "duration": -241,
    "start_time": "2022-02-17T15:30:17.064Z"
   },
   {
    "duration": -253,
    "start_time": "2022-02-17T15:30:17.077Z"
   },
   {
    "duration": -257,
    "start_time": "2022-02-17T15:30:17.081Z"
   },
   {
    "duration": -268,
    "start_time": "2022-02-17T15:30:17.093Z"
   },
   {
    "duration": -271,
    "start_time": "2022-02-17T15:30:17.097Z"
   },
   {
    "duration": -273,
    "start_time": "2022-02-17T15:30:17.100Z"
   },
   {
    "duration": -284,
    "start_time": "2022-02-17T15:30:17.112Z"
   },
   {
    "duration": -287,
    "start_time": "2022-02-17T15:30:17.116Z"
   },
   {
    "duration": -298,
    "start_time": "2022-02-17T15:30:17.128Z"
   },
   {
    "duration": -301,
    "start_time": "2022-02-17T15:30:17.131Z"
   },
   {
    "duration": -303,
    "start_time": "2022-02-17T15:30:17.135Z"
   },
   {
    "duration": -313,
    "start_time": "2022-02-17T15:30:17.146Z"
   },
   {
    "duration": -318,
    "start_time": "2022-02-17T15:30:17.152Z"
   },
   {
    "duration": -327,
    "start_time": "2022-02-17T15:30:17.162Z"
   },
   {
    "duration": -330,
    "start_time": "2022-02-17T15:30:17.166Z"
   },
   {
    "duration": 4,
    "start_time": "2022-02-17T15:32:07.301Z"
   },
   {
    "duration": 61,
    "start_time": "2022-02-17T15:32:07.307Z"
   },
   {
    "duration": 17,
    "start_time": "2022-02-17T15:32:07.370Z"
   },
   {
    "duration": 30,
    "start_time": "2022-02-17T15:32:07.389Z"
   },
   {
    "duration": 11,
    "start_time": "2022-02-17T15:32:07.421Z"
   },
   {
    "duration": 32,
    "start_time": "2022-02-17T15:32:07.434Z"
   },
   {
    "duration": 15,
    "start_time": "2022-02-17T15:32:07.469Z"
   },
   {
    "duration": 41,
    "start_time": "2022-02-17T15:32:07.486Z"
   },
   {
    "duration": 195,
    "start_time": "2022-02-17T15:32:07.528Z"
   },
   {
    "duration": 18,
    "start_time": "2022-02-17T15:32:07.725Z"
   },
   {
    "duration": 182,
    "start_time": "2022-02-17T15:32:07.745Z"
   },
   {
    "duration": 181,
    "start_time": "2022-02-17T15:32:07.929Z"
   },
   {
    "duration": 173,
    "start_time": "2022-02-17T15:32:08.112Z"
   },
   {
    "duration": 145,
    "start_time": "2022-02-17T15:32:08.287Z"
   },
   {
    "duration": 5,
    "start_time": "2022-02-17T15:32:08.433Z"
   },
   {
    "duration": 20,
    "start_time": "2022-02-17T15:32:08.439Z"
   },
   {
    "duration": 10,
    "start_time": "2022-02-17T15:32:08.460Z"
   },
   {
    "duration": 26,
    "start_time": "2022-02-17T15:32:08.472Z"
   },
   {
    "duration": 19,
    "start_time": "2022-02-17T15:32:08.501Z"
   },
   {
    "duration": 9,
    "start_time": "2022-02-17T15:32:08.523Z"
   },
   {
    "duration": 34,
    "start_time": "2022-02-17T15:32:08.533Z"
   },
   {
    "duration": 23,
    "start_time": "2022-02-17T15:32:08.568Z"
   },
   {
    "duration": 14,
    "start_time": "2022-02-17T15:32:08.593Z"
   },
   {
    "duration": 110,
    "start_time": "2022-02-17T15:32:08.609Z"
   },
   {
    "duration": 19,
    "start_time": "2022-02-17T15:32:08.721Z"
   },
   {
    "duration": 34,
    "start_time": "2022-02-17T15:32:08.742Z"
   },
   {
    "duration": 11,
    "start_time": "2022-02-17T15:32:08.778Z"
   },
   {
    "duration": 11,
    "start_time": "2022-02-17T15:32:08.790Z"
   },
   {
    "duration": 22,
    "start_time": "2022-02-17T15:32:08.803Z"
   },
   {
    "duration": 29,
    "start_time": "2022-02-17T15:32:08.826Z"
   },
   {
    "duration": 4,
    "start_time": "2022-02-17T15:32:08.857Z"
   },
   {
    "duration": 8,
    "start_time": "2022-02-17T15:32:08.863Z"
   },
   {
    "duration": 7,
    "start_time": "2022-02-17T15:32:08.872Z"
   },
   {
    "duration": 7,
    "start_time": "2022-02-17T15:32:08.881Z"
   },
   {
    "duration": 10,
    "start_time": "2022-02-17T15:32:08.889Z"
   },
   {
    "duration": 346,
    "start_time": "2022-02-17T15:32:08.900Z"
   },
   {
    "duration": -110,
    "start_time": "2022-02-17T15:32:09.358Z"
   },
   {
    "duration": -112,
    "start_time": "2022-02-17T15:32:09.361Z"
   },
   {
    "duration": -115,
    "start_time": "2022-02-17T15:32:09.365Z"
   },
   {
    "duration": -123,
    "start_time": "2022-02-17T15:32:09.374Z"
   },
   {
    "duration": -127,
    "start_time": "2022-02-17T15:32:09.378Z"
   },
   {
    "duration": -129,
    "start_time": "2022-02-17T15:32:09.381Z"
   },
   {
    "duration": -147,
    "start_time": "2022-02-17T15:32:09.400Z"
   },
   {
    "duration": -156,
    "start_time": "2022-02-17T15:32:09.410Z"
   },
   {
    "duration": -165,
    "start_time": "2022-02-17T15:32:09.419Z"
   },
   {
    "duration": -171,
    "start_time": "2022-02-17T15:32:09.426Z"
   },
   {
    "duration": -177,
    "start_time": "2022-02-17T15:32:09.433Z"
   },
   {
    "duration": -183,
    "start_time": "2022-02-17T15:32:09.440Z"
   },
   {
    "duration": -189,
    "start_time": "2022-02-17T15:32:09.447Z"
   },
   {
    "duration": -191,
    "start_time": "2022-02-17T15:32:09.450Z"
   },
   {
    "duration": -194,
    "start_time": "2022-02-17T15:32:09.454Z"
   },
   {
    "duration": -198,
    "start_time": "2022-02-17T15:32:09.459Z"
   },
   {
    "duration": -205,
    "start_time": "2022-02-17T15:32:09.467Z"
   },
   {
    "duration": -210,
    "start_time": "2022-02-17T15:32:09.473Z"
   },
   {
    "duration": -214,
    "start_time": "2022-02-17T15:32:09.478Z"
   },
   {
    "duration": -216,
    "start_time": "2022-02-17T15:32:09.481Z"
   },
   {
    "duration": -219,
    "start_time": "2022-02-17T15:32:09.485Z"
   },
   {
    "duration": -221,
    "start_time": "2022-02-17T15:32:09.488Z"
   },
   {
    "duration": -224,
    "start_time": "2022-02-17T15:32:09.492Z"
   },
   {
    "duration": -226,
    "start_time": "2022-02-17T15:32:09.495Z"
   },
   {
    "duration": -229,
    "start_time": "2022-02-17T15:32:09.499Z"
   },
   {
    "duration": -231,
    "start_time": "2022-02-17T15:32:09.502Z"
   },
   {
    "duration": -234,
    "start_time": "2022-02-17T15:32:09.506Z"
   },
   {
    "duration": -244,
    "start_time": "2022-02-17T15:32:09.517Z"
   },
   {
    "duration": -248,
    "start_time": "2022-02-17T15:32:09.521Z"
   },
   {
    "duration": -250,
    "start_time": "2022-02-17T15:32:09.524Z"
   },
   {
    "duration": 5,
    "start_time": "2022-02-17T15:32:33.146Z"
   },
   {
    "duration": 1499,
    "start_time": "2022-02-17T15:32:33.152Z"
   },
   {
    "duration": 17,
    "start_time": "2022-02-17T15:32:34.654Z"
   },
   {
    "duration": 9,
    "start_time": "2022-02-17T15:32:34.673Z"
   },
   {
    "duration": 5,
    "start_time": "2022-02-17T15:32:34.683Z"
   },
   {
    "duration": 6,
    "start_time": "2022-02-17T15:32:34.690Z"
   },
   {
    "duration": 11,
    "start_time": "2022-02-17T15:32:34.697Z"
   },
   {
    "duration": 23,
    "start_time": "2022-02-17T15:32:34.731Z"
   },
   {
    "duration": 209,
    "start_time": "2022-02-17T15:32:34.756Z"
   },
   {
    "duration": 310,
    "start_time": "2022-02-17T15:32:34.968Z"
   },
   {
    "duration": 296,
    "start_time": "2022-02-17T15:32:35.280Z"
   },
   {
    "duration": 209,
    "start_time": "2022-02-17T15:32:35.578Z"
   },
   {
    "duration": 144,
    "start_time": "2022-02-17T15:32:35.789Z"
   },
   {
    "duration": 7,
    "start_time": "2022-02-17T15:32:35.935Z"
   },
   {
    "duration": 7,
    "start_time": "2022-02-17T15:32:35.944Z"
   },
   {
    "duration": 8,
    "start_time": "2022-02-17T15:32:35.953Z"
   },
   {
    "duration": 6,
    "start_time": "2022-02-17T15:32:35.963Z"
   },
   {
    "duration": 9,
    "start_time": "2022-02-17T15:32:35.970Z"
   },
   {
    "duration": 6,
    "start_time": "2022-02-17T15:32:35.982Z"
   },
   {
    "duration": 47,
    "start_time": "2022-02-17T15:32:35.990Z"
   },
   {
    "duration": 7,
    "start_time": "2022-02-17T15:32:36.039Z"
   },
   {
    "duration": 10,
    "start_time": "2022-02-17T15:32:36.048Z"
   },
   {
    "duration": 8,
    "start_time": "2022-02-17T15:32:36.063Z"
   },
   {
    "duration": 8,
    "start_time": "2022-02-17T15:32:36.073Z"
   },
   {
    "duration": 49,
    "start_time": "2022-02-17T15:32:36.083Z"
   },
   {
    "duration": 10,
    "start_time": "2022-02-17T15:32:36.134Z"
   },
   {
    "duration": 5,
    "start_time": "2022-02-17T15:32:36.145Z"
   },
   {
    "duration": 4,
    "start_time": "2022-02-17T15:32:36.152Z"
   },
   {
    "duration": 7,
    "start_time": "2022-02-17T15:32:36.158Z"
   },
   {
    "duration": 13,
    "start_time": "2022-02-17T15:32:36.167Z"
   },
   {
    "duration": 17,
    "start_time": "2022-02-17T15:32:36.182Z"
   },
   {
    "duration": 12,
    "start_time": "2022-02-17T15:32:36.200Z"
   },
   {
    "duration": 20,
    "start_time": "2022-02-17T15:32:36.214Z"
   },
   {
    "duration": 7,
    "start_time": "2022-02-17T15:32:36.236Z"
   },
   {
    "duration": 188,
    "start_time": "2022-02-17T15:32:36.245Z"
   },
   {
    "duration": 96,
    "start_time": "2022-02-17T15:32:36.436Z"
   },
   {
    "duration": 237,
    "start_time": "2022-02-17T15:32:36.534Z"
   },
   {
    "duration": 6,
    "start_time": "2022-02-17T15:32:36.773Z"
   },
   {
    "duration": 2796,
    "start_time": "2022-02-17T15:32:36.780Z"
   },
   {
    "duration": 164,
    "start_time": "2022-02-17T15:32:39.578Z"
   },
   {
    "duration": 6,
    "start_time": "2022-02-17T15:32:39.744Z"
   },
   {
    "duration": 3,
    "start_time": "2022-02-17T15:32:39.752Z"
   },
   {
    "duration": 10,
    "start_time": "2022-02-17T15:32:39.757Z"
   },
   {
    "duration": 8,
    "start_time": "2022-02-17T15:32:39.769Z"
   },
   {
    "duration": 6,
    "start_time": "2022-02-17T15:32:39.780Z"
   },
   {
    "duration": 4194,
    "start_time": "2022-02-17T15:32:39.787Z"
   },
   {
    "duration": 178,
    "start_time": "2022-02-17T15:32:43.983Z"
   },
   {
    "duration": 222,
    "start_time": "2022-02-17T15:32:44.163Z"
   },
   {
    "duration": 10,
    "start_time": "2022-02-17T15:32:44.387Z"
   },
   {
    "duration": 5,
    "start_time": "2022-02-17T15:32:44.399Z"
   },
   {
    "duration": 1578,
    "start_time": "2022-02-17T15:32:44.406Z"
   },
   {
    "duration": 172,
    "start_time": "2022-02-17T15:32:45.986Z"
   },
   {
    "duration": 164,
    "start_time": "2022-02-17T15:32:46.159Z"
   },
   {
    "duration": 14,
    "start_time": "2022-02-17T15:32:46.325Z"
   },
   {
    "duration": 6,
    "start_time": "2022-02-17T15:32:46.341Z"
   },
   {
    "duration": 37,
    "start_time": "2022-02-17T15:32:46.349Z"
   },
   {
    "duration": 5,
    "start_time": "2022-02-17T15:32:46.388Z"
   },
   {
    "duration": 36,
    "start_time": "2022-02-17T15:32:46.395Z"
   },
   {
    "duration": 10,
    "start_time": "2022-02-17T15:32:46.433Z"
   },
   {
    "duration": 9,
    "start_time": "2022-02-17T15:32:46.445Z"
   },
   {
    "duration": 8,
    "start_time": "2022-02-17T15:32:46.455Z"
   },
   {
    "duration": 5211,
    "start_time": "2022-02-17T15:32:46.464Z"
   },
   {
    "duration": 255,
    "start_time": "2022-02-17T15:32:51.677Z"
   },
   {
    "duration": 250,
    "start_time": "2022-02-17T15:32:51.934Z"
   },
   {
    "duration": 248,
    "start_time": "2022-02-17T15:32:52.186Z"
   },
   {
    "duration": 4,
    "start_time": "2022-02-17T15:38:37.835Z"
   },
   {
    "duration": 41,
    "start_time": "2022-02-17T15:38:37.842Z"
   },
   {
    "duration": 13,
    "start_time": "2022-02-17T15:38:37.885Z"
   },
   {
    "duration": 9,
    "start_time": "2022-02-17T15:38:37.900Z"
   },
   {
    "duration": 4,
    "start_time": "2022-02-17T15:38:37.911Z"
   },
   {
    "duration": 18,
    "start_time": "2022-02-17T15:38:37.917Z"
   },
   {
    "duration": 11,
    "start_time": "2022-02-17T15:38:37.938Z"
   },
   {
    "duration": 23,
    "start_time": "2022-02-17T15:38:37.951Z"
   },
   {
    "duration": 238,
    "start_time": "2022-02-17T15:38:37.976Z"
   },
   {
    "duration": 227,
    "start_time": "2022-02-17T15:38:38.216Z"
   },
   {
    "duration": 195,
    "start_time": "2022-02-17T15:38:38.445Z"
   },
   {
    "duration": 185,
    "start_time": "2022-02-17T15:38:38.642Z"
   },
   {
    "duration": 189,
    "start_time": "2022-02-17T15:38:38.831Z"
   },
   {
    "duration": 138,
    "start_time": "2022-02-17T15:38:39.021Z"
   },
   {
    "duration": 5,
    "start_time": "2022-02-17T15:38:39.161Z"
   },
   {
    "duration": 16,
    "start_time": "2022-02-17T15:38:39.168Z"
   },
   {
    "duration": 16,
    "start_time": "2022-02-17T15:38:39.185Z"
   },
   {
    "duration": 15,
    "start_time": "2022-02-17T15:38:39.202Z"
   },
   {
    "duration": 11,
    "start_time": "2022-02-17T15:38:39.220Z"
   },
   {
    "duration": 11,
    "start_time": "2022-02-17T15:38:39.234Z"
   },
   {
    "duration": 15,
    "start_time": "2022-02-17T15:38:39.246Z"
   },
   {
    "duration": 20,
    "start_time": "2022-02-17T15:38:39.263Z"
   },
   {
    "duration": 21,
    "start_time": "2022-02-17T15:38:39.285Z"
   },
   {
    "duration": 17,
    "start_time": "2022-02-17T15:38:39.308Z"
   },
   {
    "duration": 16,
    "start_time": "2022-02-17T15:38:39.327Z"
   },
   {
    "duration": 44,
    "start_time": "2022-02-17T15:38:39.344Z"
   },
   {
    "duration": 10,
    "start_time": "2022-02-17T15:38:39.390Z"
   },
   {
    "duration": 17,
    "start_time": "2022-02-17T15:38:39.402Z"
   },
   {
    "duration": 23,
    "start_time": "2022-02-17T15:38:39.420Z"
   },
   {
    "duration": 18,
    "start_time": "2022-02-17T15:38:39.445Z"
   },
   {
    "duration": 27,
    "start_time": "2022-02-17T15:38:39.464Z"
   },
   {
    "duration": 28,
    "start_time": "2022-02-17T15:38:39.493Z"
   },
   {
    "duration": 9,
    "start_time": "2022-02-17T15:38:39.523Z"
   },
   {
    "duration": 16,
    "start_time": "2022-02-17T15:38:39.533Z"
   },
   {
    "duration": 21,
    "start_time": "2022-02-17T15:38:39.551Z"
   },
   {
    "duration": 62,
    "start_time": "2022-02-17T15:38:39.573Z"
   },
   {
    "duration": 9,
    "start_time": "2022-02-17T15:38:39.637Z"
   },
   {
    "duration": 239,
    "start_time": "2022-02-17T15:38:39.733Z"
   },
   {
    "duration": 5,
    "start_time": "2022-02-17T15:38:39.974Z"
   },
   {
    "duration": 2751,
    "start_time": "2022-02-17T15:38:39.981Z"
   },
   {
    "duration": 154,
    "start_time": "2022-02-17T15:38:42.733Z"
   },
   {
    "duration": 5,
    "start_time": "2022-02-17T15:38:42.889Z"
   },
   {
    "duration": 3,
    "start_time": "2022-02-17T15:38:42.896Z"
   },
   {
    "duration": 7,
    "start_time": "2022-02-17T15:38:42.901Z"
   },
   {
    "duration": 24,
    "start_time": "2022-02-17T15:38:42.910Z"
   },
   {
    "duration": 5,
    "start_time": "2022-02-17T15:38:42.936Z"
   },
   {
    "duration": 3523,
    "start_time": "2022-02-17T15:38:42.942Z"
   },
   {
    "duration": 178,
    "start_time": "2022-02-17T15:38:46.466Z"
   },
   {
    "duration": 175,
    "start_time": "2022-02-17T15:38:46.645Z"
   },
   {
    "duration": 13,
    "start_time": "2022-02-17T15:38:46.822Z"
   },
   {
    "duration": 5,
    "start_time": "2022-02-17T15:38:46.837Z"
   },
   {
    "duration": 1352,
    "start_time": "2022-02-17T15:38:46.843Z"
   },
   {
    "duration": 166,
    "start_time": "2022-02-17T15:38:48.197Z"
   },
   {
    "duration": 163,
    "start_time": "2022-02-17T15:38:48.365Z"
   },
   {
    "duration": 8,
    "start_time": "2022-02-17T15:38:48.534Z"
   },
   {
    "duration": 5,
    "start_time": "2022-02-17T15:38:48.544Z"
   },
   {
    "duration": 24,
    "start_time": "2022-02-17T15:38:48.550Z"
   },
   {
    "duration": 4,
    "start_time": "2022-02-17T15:38:48.576Z"
   },
   {
    "duration": 7,
    "start_time": "2022-02-17T15:38:48.582Z"
   },
   {
    "duration": 42,
    "start_time": "2022-02-17T15:38:48.590Z"
   },
   {
    "duration": 8,
    "start_time": "2022-02-17T15:38:48.634Z"
   },
   {
    "duration": 10,
    "start_time": "2022-02-17T15:38:48.644Z"
   },
   {
    "duration": 4846,
    "start_time": "2022-02-17T15:38:48.655Z"
   },
   {
    "duration": 181,
    "start_time": "2022-02-17T15:38:53.502Z"
   },
   {
    "duration": 180,
    "start_time": "2022-02-17T15:38:53.685Z"
   },
   {
    "duration": 156,
    "start_time": "2022-02-17T15:38:53.867Z"
   },
   {
    "duration": 4,
    "start_time": "2022-02-17T15:40:39.989Z"
   },
   {
    "duration": 28,
    "start_time": "2022-02-17T15:40:39.995Z"
   },
   {
    "duration": 15,
    "start_time": "2022-02-17T15:40:40.024Z"
   },
   {
    "duration": 10,
    "start_time": "2022-02-17T15:40:40.041Z"
   },
   {
    "duration": 4,
    "start_time": "2022-02-17T15:40:40.053Z"
   },
   {
    "duration": 5,
    "start_time": "2022-02-17T15:40:40.059Z"
   },
   {
    "duration": 8,
    "start_time": "2022-02-17T15:40:40.066Z"
   },
   {
    "duration": 58,
    "start_time": "2022-02-17T15:40:40.076Z"
   },
   {
    "duration": 217,
    "start_time": "2022-02-17T15:40:40.136Z"
   },
   {
    "duration": 219,
    "start_time": "2022-02-17T15:40:40.354Z"
   },
   {
    "duration": 195,
    "start_time": "2022-02-17T15:40:40.575Z"
   },
   {
    "duration": 186,
    "start_time": "2022-02-17T15:40:40.772Z"
   },
   {
    "duration": 180,
    "start_time": "2022-02-17T15:40:40.959Z"
   },
   {
    "duration": 137,
    "start_time": "2022-02-17T15:40:41.140Z"
   },
   {
    "duration": 4,
    "start_time": "2022-02-17T15:40:41.279Z"
   },
   {
    "duration": 5,
    "start_time": "2022-02-17T15:40:41.284Z"
   },
   {
    "duration": 9,
    "start_time": "2022-02-17T15:40:41.291Z"
   },
   {
    "duration": 5,
    "start_time": "2022-02-17T15:40:41.301Z"
   },
   {
    "duration": 27,
    "start_time": "2022-02-17T15:40:41.310Z"
   },
   {
    "duration": 6,
    "start_time": "2022-02-17T15:40:41.339Z"
   },
   {
    "duration": 9,
    "start_time": "2022-02-17T15:40:41.346Z"
   },
   {
    "duration": 8,
    "start_time": "2022-02-17T15:40:41.357Z"
   },
   {
    "duration": 7,
    "start_time": "2022-02-17T15:40:41.367Z"
   },
   {
    "duration": 12,
    "start_time": "2022-02-17T15:40:41.376Z"
   },
   {
    "duration": 5,
    "start_time": "2022-02-17T15:40:41.389Z"
   },
   {
    "duration": 51,
    "start_time": "2022-02-17T15:40:41.396Z"
   },
   {
    "duration": 8,
    "start_time": "2022-02-17T15:40:41.449Z"
   },
   {
    "duration": 4,
    "start_time": "2022-02-17T15:40:41.460Z"
   },
   {
    "duration": 5,
    "start_time": "2022-02-17T15:40:41.466Z"
   },
   {
    "duration": 7,
    "start_time": "2022-02-17T15:40:41.472Z"
   },
   {
    "duration": 8,
    "start_time": "2022-02-17T15:40:41.481Z"
   },
   {
    "duration": 16,
    "start_time": "2022-02-17T15:40:41.490Z"
   },
   {
    "duration": 26,
    "start_time": "2022-02-17T15:40:41.508Z"
   },
   {
    "duration": 5,
    "start_time": "2022-02-17T15:40:41.536Z"
   },
   {
    "duration": 9,
    "start_time": "2022-02-17T15:40:41.543Z"
   },
   {
    "duration": 92,
    "start_time": "2022-02-17T15:40:41.554Z"
   },
   {
    "duration": 8,
    "start_time": "2022-02-17T15:40:41.732Z"
   },
   {
    "duration": 320,
    "start_time": "2022-02-17T15:40:41.742Z"
   },
   {
    "duration": 6,
    "start_time": "2022-02-17T15:40:42.064Z"
   },
   {
    "duration": 2797,
    "start_time": "2022-02-17T15:40:42.072Z"
   },
   {
    "duration": 160,
    "start_time": "2022-02-17T15:40:44.870Z"
   },
   {
    "duration": 6,
    "start_time": "2022-02-17T15:40:45.032Z"
   },
   {
    "duration": 2,
    "start_time": "2022-02-17T15:40:45.042Z"
   },
   {
    "duration": 8,
    "start_time": "2022-02-17T15:40:45.046Z"
   },
   {
    "duration": 7,
    "start_time": "2022-02-17T15:40:45.056Z"
   },
   {
    "duration": 6,
    "start_time": "2022-02-17T15:40:45.064Z"
   },
   {
    "duration": 3617,
    "start_time": "2022-02-17T15:40:45.072Z"
   },
   {
    "duration": 191,
    "start_time": "2022-02-17T15:40:48.691Z"
   },
   {
    "duration": 187,
    "start_time": "2022-02-17T15:40:48.884Z"
   },
   {
    "duration": 20,
    "start_time": "2022-02-17T15:40:49.073Z"
   },
   {
    "duration": 11,
    "start_time": "2022-02-17T15:40:49.095Z"
   },
   {
    "duration": 1500,
    "start_time": "2022-02-17T15:40:49.108Z"
   },
   {
    "duration": 170,
    "start_time": "2022-02-17T15:40:50.610Z"
   },
   {
    "duration": 168,
    "start_time": "2022-02-17T15:40:50.781Z"
   },
   {
    "duration": 8,
    "start_time": "2022-02-17T15:40:50.954Z"
   },
   {
    "duration": 8,
    "start_time": "2022-02-17T15:40:50.964Z"
   },
   {
    "duration": 28,
    "start_time": "2022-02-17T15:40:50.974Z"
   },
   {
    "duration": 6,
    "start_time": "2022-02-17T15:40:51.004Z"
   },
   {
    "duration": 25,
    "start_time": "2022-02-17T15:40:51.012Z"
   },
   {
    "duration": 10,
    "start_time": "2022-02-17T15:40:51.039Z"
   },
   {
    "duration": 9,
    "start_time": "2022-02-17T15:40:51.050Z"
   },
   {
    "duration": 7,
    "start_time": "2022-02-17T15:40:51.060Z"
   },
   {
    "duration": 4718,
    "start_time": "2022-02-17T15:40:51.069Z"
   },
   {
    "duration": 183,
    "start_time": "2022-02-17T15:40:55.789Z"
   },
   {
    "duration": 184,
    "start_time": "2022-02-17T15:40:55.973Z"
   },
   {
    "duration": 155,
    "start_time": "2022-02-17T15:40:56.159Z"
   },
   {
    "duration": 5,
    "start_time": "2022-02-17T15:41:36.671Z"
   },
   {
    "duration": 461,
    "start_time": "2022-02-17T15:41:36.678Z"
   },
   {
    "duration": 19,
    "start_time": "2022-02-17T15:41:37.141Z"
   },
   {
    "duration": 8,
    "start_time": "2022-02-17T15:41:37.162Z"
   },
   {
    "duration": 3,
    "start_time": "2022-02-17T15:41:37.172Z"
   },
   {
    "duration": 6,
    "start_time": "2022-02-17T15:41:37.177Z"
   },
   {
    "duration": 9,
    "start_time": "2022-02-17T15:41:37.185Z"
   },
   {
    "duration": 54,
    "start_time": "2022-02-17T15:41:37.196Z"
   },
   {
    "duration": 194,
    "start_time": "2022-02-17T15:41:37.252Z"
   },
   {
    "duration": 415,
    "start_time": "2022-02-17T15:41:37.448Z"
   },
   {
    "duration": 275,
    "start_time": "2022-02-17T15:41:37.866Z"
   },
   {
    "duration": 275,
    "start_time": "2022-02-17T15:41:38.144Z"
   },
   {
    "duration": 216,
    "start_time": "2022-02-17T15:41:38.421Z"
   },
   {
    "duration": 26,
    "start_time": "2022-02-17T15:41:38.639Z"
   },
   {
    "duration": 6,
    "start_time": "2022-02-17T15:41:38.668Z"
   },
   {
    "duration": 8,
    "start_time": "2022-02-17T15:41:38.676Z"
   },
   {
    "duration": 8,
    "start_time": "2022-02-17T15:41:38.686Z"
   },
   {
    "duration": 8,
    "start_time": "2022-02-17T15:41:38.696Z"
   },
   {
    "duration": 26,
    "start_time": "2022-02-17T15:41:38.706Z"
   },
   {
    "duration": 6,
    "start_time": "2022-02-17T15:41:38.734Z"
   },
   {
    "duration": 7,
    "start_time": "2022-02-17T15:41:38.742Z"
   },
   {
    "duration": 10,
    "start_time": "2022-02-17T15:41:38.751Z"
   },
   {
    "duration": 11,
    "start_time": "2022-02-17T15:41:38.766Z"
   },
   {
    "duration": 5,
    "start_time": "2022-02-17T15:41:38.781Z"
   },
   {
    "duration": 55,
    "start_time": "2022-02-17T15:41:38.788Z"
   },
   {
    "duration": 12,
    "start_time": "2022-02-17T15:41:38.845Z"
   },
   {
    "duration": 5,
    "start_time": "2022-02-17T15:41:38.859Z"
   },
   {
    "duration": 5,
    "start_time": "2022-02-17T15:41:38.866Z"
   },
   {
    "duration": 8,
    "start_time": "2022-02-17T15:41:38.873Z"
   },
   {
    "duration": 9,
    "start_time": "2022-02-17T15:41:38.883Z"
   },
   {
    "duration": 13,
    "start_time": "2022-02-17T15:41:38.894Z"
   },
   {
    "duration": 26,
    "start_time": "2022-02-17T15:41:38.909Z"
   },
   {
    "duration": 6,
    "start_time": "2022-02-17T15:41:38.936Z"
   },
   {
    "duration": 9,
    "start_time": "2022-02-17T15:41:38.944Z"
   },
   {
    "duration": 87,
    "start_time": "2022-02-17T15:41:38.955Z"
   },
   {
    "duration": 6,
    "start_time": "2022-02-17T15:41:39.044Z"
   },
   {
    "duration": 325,
    "start_time": "2022-02-17T15:41:39.134Z"
   },
   {
    "duration": 8,
    "start_time": "2022-02-17T15:41:39.461Z"
   },
   {
    "duration": 4016,
    "start_time": "2022-02-17T15:41:39.470Z"
   },
   {
    "duration": 244,
    "start_time": "2022-02-17T15:41:43.488Z"
   },
   {
    "duration": 7,
    "start_time": "2022-02-17T15:41:43.735Z"
   },
   {
    "duration": 3,
    "start_time": "2022-02-17T15:41:43.744Z"
   },
   {
    "duration": 7,
    "start_time": "2022-02-17T15:41:43.750Z"
   },
   {
    "duration": 7,
    "start_time": "2022-02-17T15:41:43.759Z"
   },
   {
    "duration": 5,
    "start_time": "2022-02-17T15:41:43.768Z"
   },
   {
    "duration": 3943,
    "start_time": "2022-02-17T15:41:43.774Z"
   },
   {
    "duration": 184,
    "start_time": "2022-02-17T15:41:47.718Z"
   },
   {
    "duration": 185,
    "start_time": "2022-02-17T15:41:47.904Z"
   },
   {
    "duration": 9,
    "start_time": "2022-02-17T15:41:48.091Z"
   },
   {
    "duration": 7,
    "start_time": "2022-02-17T15:41:48.102Z"
   },
   {
    "duration": 1562,
    "start_time": "2022-02-17T15:41:48.111Z"
   },
   {
    "duration": 168,
    "start_time": "2022-02-17T15:41:49.675Z"
   },
   {
    "duration": 180,
    "start_time": "2022-02-17T15:41:49.845Z"
   },
   {
    "duration": 10,
    "start_time": "2022-02-17T15:41:50.027Z"
   },
   {
    "duration": 7,
    "start_time": "2022-02-17T15:41:50.039Z"
   },
   {
    "duration": 35,
    "start_time": "2022-02-17T15:41:50.048Z"
   },
   {
    "duration": 5,
    "start_time": "2022-02-17T15:41:50.085Z"
   },
   {
    "duration": 7,
    "start_time": "2022-02-17T15:41:50.091Z"
   },
   {
    "duration": 33,
    "start_time": "2022-02-17T15:41:50.099Z"
   },
   {
    "duration": 8,
    "start_time": "2022-02-17T15:41:50.135Z"
   },
   {
    "duration": 6,
    "start_time": "2022-02-17T15:41:50.144Z"
   },
   {
    "duration": 5021,
    "start_time": "2022-02-17T15:41:50.151Z"
   },
   {
    "duration": 276,
    "start_time": "2022-02-17T15:41:55.174Z"
   },
   {
    "duration": 260,
    "start_time": "2022-02-17T15:41:55.452Z"
   },
   {
    "duration": 153,
    "start_time": "2022-02-17T15:41:55.714Z"
   },
   {
    "duration": 5,
    "start_time": "2022-02-17T15:46:22.206Z"
   },
   {
    "duration": 29,
    "start_time": "2022-02-17T15:46:22.214Z"
   },
   {
    "duration": 13,
    "start_time": "2022-02-17T15:46:22.245Z"
   },
   {
    "duration": 10,
    "start_time": "2022-02-17T15:46:22.261Z"
   },
   {
    "duration": 5,
    "start_time": "2022-02-17T15:46:22.273Z"
   },
   {
    "duration": 5,
    "start_time": "2022-02-17T15:46:22.280Z"
   },
   {
    "duration": 47,
    "start_time": "2022-02-17T15:46:22.287Z"
   },
   {
    "duration": 21,
    "start_time": "2022-02-17T15:46:22.336Z"
   },
   {
    "duration": 221,
    "start_time": "2022-02-17T15:46:22.359Z"
   },
   {
    "duration": 192,
    "start_time": "2022-02-17T15:46:22.582Z"
   },
   {
    "duration": 216,
    "start_time": "2022-02-17T15:46:22.776Z"
   },
   {
    "duration": 180,
    "start_time": "2022-02-17T15:46:22.994Z"
   },
   {
    "duration": 179,
    "start_time": "2022-02-17T15:46:23.176Z"
   },
   {
    "duration": 144,
    "start_time": "2022-02-17T15:46:23.357Z"
   },
   {
    "duration": 5,
    "start_time": "2022-02-17T15:46:23.503Z"
   },
   {
    "duration": 6,
    "start_time": "2022-02-17T15:46:23.510Z"
   },
   {
    "duration": 20,
    "start_time": "2022-02-17T15:46:23.518Z"
   },
   {
    "duration": 7,
    "start_time": "2022-02-17T15:46:23.540Z"
   },
   {
    "duration": 7,
    "start_time": "2022-02-17T15:46:23.549Z"
   },
   {
    "duration": 7,
    "start_time": "2022-02-17T15:46:23.558Z"
   },
   {
    "duration": 7,
    "start_time": "2022-02-17T15:46:23.567Z"
   },
   {
    "duration": 7,
    "start_time": "2022-02-17T15:46:23.576Z"
   },
   {
    "duration": 45,
    "start_time": "2022-02-17T15:46:23.588Z"
   },
   {
    "duration": 9,
    "start_time": "2022-02-17T15:46:23.636Z"
   },
   {
    "duration": 9,
    "start_time": "2022-02-17T15:46:23.647Z"
   },
   {
    "duration": 319,
    "start_time": "2022-02-17T15:46:23.658Z"
   },
   {
    "duration": -118,
    "start_time": "2022-02-17T15:46:24.097Z"
   },
   {
    "duration": -122,
    "start_time": "2022-02-17T15:46:24.102Z"
   },
   {
    "duration": -143,
    "start_time": "2022-02-17T15:46:24.124Z"
   },
   {
    "duration": -145,
    "start_time": "2022-02-17T15:46:24.127Z"
   },
   {
    "duration": -148,
    "start_time": "2022-02-17T15:46:24.131Z"
   },
   {
    "duration": -151,
    "start_time": "2022-02-17T15:46:24.135Z"
   },
   {
    "duration": -154,
    "start_time": "2022-02-17T15:46:24.139Z"
   },
   {
    "duration": -156,
    "start_time": "2022-02-17T15:46:24.142Z"
   },
   {
    "duration": -159,
    "start_time": "2022-02-17T15:46:24.146Z"
   },
   {
    "duration": -160,
    "start_time": "2022-02-17T15:46:24.149Z"
   },
   {
    "duration": -163,
    "start_time": "2022-02-17T15:46:24.153Z"
   },
   {
    "duration": -166,
    "start_time": "2022-02-17T15:46:24.157Z"
   },
   {
    "duration": -170,
    "start_time": "2022-02-17T15:46:24.161Z"
   },
   {
    "duration": -171,
    "start_time": "2022-02-17T15:46:24.164Z"
   },
   {
    "duration": -174,
    "start_time": "2022-02-17T15:46:24.168Z"
   },
   {
    "duration": -176,
    "start_time": "2022-02-17T15:46:24.171Z"
   },
   {
    "duration": -179,
    "start_time": "2022-02-17T15:46:24.175Z"
   },
   {
    "duration": -181,
    "start_time": "2022-02-17T15:46:24.178Z"
   },
   {
    "duration": -183,
    "start_time": "2022-02-17T15:46:24.182Z"
   },
   {
    "duration": -186,
    "start_time": "2022-02-17T15:46:24.186Z"
   },
   {
    "duration": -188,
    "start_time": "2022-02-17T15:46:24.189Z"
   },
   {
    "duration": -190,
    "start_time": "2022-02-17T15:46:24.193Z"
   },
   {
    "duration": -193,
    "start_time": "2022-02-17T15:46:24.197Z"
   },
   {
    "duration": -195,
    "start_time": "2022-02-17T15:46:24.200Z"
   },
   {
    "duration": -197,
    "start_time": "2022-02-17T15:46:24.204Z"
   },
   {
    "duration": -200,
    "start_time": "2022-02-17T15:46:24.208Z"
   },
   {
    "duration": -202,
    "start_time": "2022-02-17T15:46:24.211Z"
   },
   {
    "duration": -205,
    "start_time": "2022-02-17T15:46:24.215Z"
   },
   {
    "duration": -206,
    "start_time": "2022-02-17T15:46:24.218Z"
   },
   {
    "duration": -219,
    "start_time": "2022-02-17T15:46:24.232Z"
   },
   {
    "duration": -221,
    "start_time": "2022-02-17T15:46:24.236Z"
   },
   {
    "duration": -208,
    "start_time": "2022-02-17T15:46:24.239Z"
   },
   {
    "duration": -210,
    "start_time": "2022-02-17T15:46:24.243Z"
   },
   {
    "duration": -212,
    "start_time": "2022-02-17T15:46:24.246Z"
   },
   {
    "duration": -214,
    "start_time": "2022-02-17T15:46:24.250Z"
   },
   {
    "duration": -217,
    "start_time": "2022-02-17T15:46:24.254Z"
   },
   {
    "duration": -219,
    "start_time": "2022-02-17T15:46:24.257Z"
   },
   {
    "duration": -221,
    "start_time": "2022-02-17T15:46:24.261Z"
   },
   {
    "duration": -224,
    "start_time": "2022-02-17T15:46:24.265Z"
   },
   {
    "duration": -226,
    "start_time": "2022-02-17T15:46:24.268Z"
   },
   {
    "duration": 4,
    "start_time": "2022-02-17T15:47:32.841Z"
   },
   {
    "duration": 39,
    "start_time": "2022-02-17T15:47:32.847Z"
   },
   {
    "duration": 19,
    "start_time": "2022-02-17T15:47:32.888Z"
   },
   {
    "duration": 22,
    "start_time": "2022-02-17T15:47:32.910Z"
   },
   {
    "duration": 5,
    "start_time": "2022-02-17T15:47:32.934Z"
   },
   {
    "duration": 6,
    "start_time": "2022-02-17T15:47:32.940Z"
   },
   {
    "duration": 12,
    "start_time": "2022-02-17T15:47:32.948Z"
   },
   {
    "duration": 20,
    "start_time": "2022-02-17T15:47:32.962Z"
   },
   {
    "duration": 243,
    "start_time": "2022-02-17T15:47:32.984Z"
   },
   {
    "duration": 189,
    "start_time": "2022-02-17T15:47:33.229Z"
   },
   {
    "duration": 146,
    "start_time": "2022-02-17T15:47:33.419Z"
   },
   {
    "duration": 196,
    "start_time": "2022-02-17T15:47:33.567Z"
   },
   {
    "duration": 174,
    "start_time": "2022-02-17T15:47:33.765Z"
   },
   {
    "duration": 216,
    "start_time": "2022-02-17T15:47:33.941Z"
   },
   {
    "duration": 6,
    "start_time": "2022-02-17T15:47:34.158Z"
   },
   {
    "duration": 8,
    "start_time": "2022-02-17T15:47:34.165Z"
   },
   {
    "duration": 9,
    "start_time": "2022-02-17T15:47:34.174Z"
   },
   {
    "duration": 9,
    "start_time": "2022-02-17T15:47:34.184Z"
   },
   {
    "duration": 5,
    "start_time": "2022-02-17T15:47:34.195Z"
   },
   {
    "duration": 34,
    "start_time": "2022-02-17T15:47:34.202Z"
   },
   {
    "duration": 6,
    "start_time": "2022-02-17T15:47:34.238Z"
   },
   {
    "duration": 5,
    "start_time": "2022-02-17T15:47:34.246Z"
   },
   {
    "duration": 12,
    "start_time": "2022-02-17T15:47:34.255Z"
   },
   {
    "duration": 14,
    "start_time": "2022-02-17T15:47:34.270Z"
   },
   {
    "duration": 7,
    "start_time": "2022-02-17T15:47:34.286Z"
   },
   {
    "duration": 321,
    "start_time": "2022-02-17T15:47:34.295Z"
   },
   {
    "duration": -81,
    "start_time": "2022-02-17T15:47:34.699Z"
   },
   {
    "duration": -84,
    "start_time": "2022-02-17T15:47:34.703Z"
   },
   {
    "duration": -85,
    "start_time": "2022-02-17T15:47:34.706Z"
   },
   {
    "duration": -106,
    "start_time": "2022-02-17T15:47:34.728Z"
   },
   {
    "duration": -110,
    "start_time": "2022-02-17T15:47:34.733Z"
   },
   {
    "duration": -112,
    "start_time": "2022-02-17T15:47:34.736Z"
   },
   {
    "duration": -116,
    "start_time": "2022-02-17T15:47:34.740Z"
   },
   {
    "duration": -119,
    "start_time": "2022-02-17T15:47:34.744Z"
   },
   {
    "duration": -121,
    "start_time": "2022-02-17T15:47:34.747Z"
   },
   {
    "duration": -124,
    "start_time": "2022-02-17T15:47:34.751Z"
   },
   {
    "duration": -126,
    "start_time": "2022-02-17T15:47:34.754Z"
   },
   {
    "duration": -129,
    "start_time": "2022-02-17T15:47:34.758Z"
   },
   {
    "duration": -132,
    "start_time": "2022-02-17T15:47:34.762Z"
   },
   {
    "duration": -135,
    "start_time": "2022-02-17T15:47:34.766Z"
   },
   {
    "duration": -137,
    "start_time": "2022-02-17T15:47:34.769Z"
   },
   {
    "duration": -140,
    "start_time": "2022-02-17T15:47:34.773Z"
   },
   {
    "duration": -142,
    "start_time": "2022-02-17T15:47:34.776Z"
   },
   {
    "duration": -145,
    "start_time": "2022-02-17T15:47:34.780Z"
   },
   {
    "duration": -148,
    "start_time": "2022-02-17T15:47:34.784Z"
   },
   {
    "duration": -150,
    "start_time": "2022-02-17T15:47:34.787Z"
   },
   {
    "duration": -153,
    "start_time": "2022-02-17T15:47:34.791Z"
   },
   {
    "duration": -156,
    "start_time": "2022-02-17T15:47:34.795Z"
   },
   {
    "duration": -158,
    "start_time": "2022-02-17T15:47:34.798Z"
   },
   {
    "duration": -161,
    "start_time": "2022-02-17T15:47:34.802Z"
   },
   {
    "duration": -163,
    "start_time": "2022-02-17T15:47:34.805Z"
   },
   {
    "duration": -165,
    "start_time": "2022-02-17T15:47:34.809Z"
   },
   {
    "duration": -168,
    "start_time": "2022-02-17T15:47:34.813Z"
   },
   {
    "duration": -171,
    "start_time": "2022-02-17T15:47:34.816Z"
   },
   {
    "duration": -174,
    "start_time": "2022-02-17T15:47:34.820Z"
   },
   {
    "duration": -187,
    "start_time": "2022-02-17T15:47:34.834Z"
   },
   {
    "duration": -190,
    "start_time": "2022-02-17T15:47:34.838Z"
   },
   {
    "duration": -192,
    "start_time": "2022-02-17T15:47:34.842Z"
   },
   {
    "duration": -195,
    "start_time": "2022-02-17T15:47:34.845Z"
   },
   {
    "duration": -198,
    "start_time": "2022-02-17T15:47:34.849Z"
   },
   {
    "duration": -200,
    "start_time": "2022-02-17T15:47:34.852Z"
   },
   {
    "duration": -203,
    "start_time": "2022-02-17T15:47:34.856Z"
   },
   {
    "duration": -206,
    "start_time": "2022-02-17T15:47:34.860Z"
   },
   {
    "duration": -209,
    "start_time": "2022-02-17T15:47:34.864Z"
   },
   {
    "duration": -212,
    "start_time": "2022-02-17T15:47:34.868Z"
   },
   {
    "duration": -215,
    "start_time": "2022-02-17T15:47:34.872Z"
   },
   {
    "duration": 385,
    "start_time": "2022-02-17T15:47:49.851Z"
   },
   {
    "duration": 26,
    "start_time": "2022-02-17T15:47:57.545Z"
   },
   {
    "duration": 4,
    "start_time": "2022-02-17T15:48:28.403Z"
   },
   {
    "duration": 30,
    "start_time": "2022-02-17T15:48:28.409Z"
   },
   {
    "duration": 16,
    "start_time": "2022-02-17T15:48:28.441Z"
   },
   {
    "duration": 10,
    "start_time": "2022-02-17T15:48:28.459Z"
   },
   {
    "duration": 4,
    "start_time": "2022-02-17T15:48:28.470Z"
   },
   {
    "duration": 8,
    "start_time": "2022-02-17T15:48:28.476Z"
   },
   {
    "duration": 47,
    "start_time": "2022-02-17T15:48:28.487Z"
   },
   {
    "duration": 24,
    "start_time": "2022-02-17T15:48:28.536Z"
   },
   {
    "duration": 234,
    "start_time": "2022-02-17T15:48:28.562Z"
   },
   {
    "duration": 262,
    "start_time": "2022-02-17T15:48:28.798Z"
   },
   {
    "duration": 144,
    "start_time": "2022-02-17T15:48:29.062Z"
   },
   {
    "duration": 186,
    "start_time": "2022-02-17T15:48:29.208Z"
   },
   {
    "duration": 279,
    "start_time": "2022-02-17T15:48:29.395Z"
   },
   {
    "duration": 223,
    "start_time": "2022-02-17T15:48:29.677Z"
   },
   {
    "duration": 5,
    "start_time": "2022-02-17T15:48:29.902Z"
   },
   {
    "duration": 32,
    "start_time": "2022-02-17T15:48:29.910Z"
   },
   {
    "duration": 22,
    "start_time": "2022-02-17T15:48:29.944Z"
   },
   {
    "duration": 23,
    "start_time": "2022-02-17T15:48:29.968Z"
   },
   {
    "duration": 28,
    "start_time": "2022-02-17T15:48:29.996Z"
   },
   {
    "duration": 18,
    "start_time": "2022-02-17T15:48:30.027Z"
   },
   {
    "duration": 37,
    "start_time": "2022-02-17T15:48:30.047Z"
   },
   {
    "duration": 33,
    "start_time": "2022-02-17T15:48:30.086Z"
   },
   {
    "duration": 17,
    "start_time": "2022-02-17T15:48:30.121Z"
   },
   {
    "duration": 30,
    "start_time": "2022-02-17T15:48:30.140Z"
   },
   {
    "duration": 40,
    "start_time": "2022-02-17T15:48:30.172Z"
   },
   {
    "duration": 321,
    "start_time": "2022-02-17T15:48:30.215Z"
   },
   {
    "duration": -96,
    "start_time": "2022-02-17T15:48:30.634Z"
   },
   {
    "duration": -98,
    "start_time": "2022-02-17T15:48:30.637Z"
   },
   {
    "duration": -100,
    "start_time": "2022-02-17T15:48:30.640Z"
   },
   {
    "duration": -104,
    "start_time": "2022-02-17T15:48:30.644Z"
   },
   {
    "duration": -106,
    "start_time": "2022-02-17T15:48:30.647Z"
   },
   {
    "duration": -107,
    "start_time": "2022-02-17T15:48:30.650Z"
   },
   {
    "duration": -110,
    "start_time": "2022-02-17T15:48:30.654Z"
   },
   {
    "duration": -111,
    "start_time": "2022-02-17T15:48:30.657Z"
   },
   {
    "duration": -114,
    "start_time": "2022-02-17T15:48:30.661Z"
   },
   {
    "duration": -116,
    "start_time": "2022-02-17T15:48:30.665Z"
   },
   {
    "duration": -119,
    "start_time": "2022-02-17T15:48:30.669Z"
   },
   {
    "duration": -120,
    "start_time": "2022-02-17T15:48:30.672Z"
   },
   {
    "duration": -123,
    "start_time": "2022-02-17T15:48:30.676Z"
   },
   {
    "duration": -124,
    "start_time": "2022-02-17T15:48:30.679Z"
   },
   {
    "duration": -127,
    "start_time": "2022-02-17T15:48:30.683Z"
   },
   {
    "duration": -128,
    "start_time": "2022-02-17T15:48:30.686Z"
   },
   {
    "duration": -131,
    "start_time": "2022-02-17T15:48:30.690Z"
   },
   {
    "duration": -133,
    "start_time": "2022-02-17T15:48:30.693Z"
   },
   {
    "duration": -135,
    "start_time": "2022-02-17T15:48:30.697Z"
   },
   {
    "duration": -137,
    "start_time": "2022-02-17T15:48:30.700Z"
   },
   {
    "duration": -139,
    "start_time": "2022-02-17T15:48:30.703Z"
   },
   {
    "duration": -141,
    "start_time": "2022-02-17T15:48:30.707Z"
   },
   {
    "duration": -143,
    "start_time": "2022-02-17T15:48:30.710Z"
   },
   {
    "duration": -146,
    "start_time": "2022-02-17T15:48:30.714Z"
   },
   {
    "duration": -148,
    "start_time": "2022-02-17T15:48:30.717Z"
   },
   {
    "duration": -150,
    "start_time": "2022-02-17T15:48:30.721Z"
   },
   {
    "duration": -152,
    "start_time": "2022-02-17T15:48:30.724Z"
   },
   {
    "duration": -154,
    "start_time": "2022-02-17T15:48:30.728Z"
   },
   {
    "duration": -167,
    "start_time": "2022-02-17T15:48:30.742Z"
   },
   {
    "duration": -113,
    "start_time": "2022-02-17T15:48:30.745Z"
   },
   {
    "duration": -115,
    "start_time": "2022-02-17T15:48:30.749Z"
   },
   {
    "duration": -117,
    "start_time": "2022-02-17T15:48:30.752Z"
   },
   {
    "duration": -120,
    "start_time": "2022-02-17T15:48:30.756Z"
   },
   {
    "duration": -121,
    "start_time": "2022-02-17T15:48:30.759Z"
   },
   {
    "duration": -124,
    "start_time": "2022-02-17T15:48:30.763Z"
   },
   {
    "duration": -126,
    "start_time": "2022-02-17T15:48:30.766Z"
   },
   {
    "duration": -128,
    "start_time": "2022-02-17T15:48:30.770Z"
   },
   {
    "duration": -130,
    "start_time": "2022-02-17T15:48:30.773Z"
   },
   {
    "duration": -131,
    "start_time": "2022-02-17T15:48:30.776Z"
   },
   {
    "duration": -134,
    "start_time": "2022-02-17T15:48:30.780Z"
   },
   {
    "duration": 8,
    "start_time": "2022-02-17T15:49:30.460Z"
   },
   {
    "duration": 4,
    "start_time": "2022-02-17T15:50:41.669Z"
   },
   {
    "duration": 30,
    "start_time": "2022-02-17T15:50:41.675Z"
   },
   {
    "duration": 12,
    "start_time": "2022-02-17T15:50:41.707Z"
   },
   {
    "duration": 8,
    "start_time": "2022-02-17T15:50:41.721Z"
   },
   {
    "duration": 4,
    "start_time": "2022-02-17T15:50:41.731Z"
   },
   {
    "duration": 9,
    "start_time": "2022-02-17T15:50:41.736Z"
   },
   {
    "duration": 10,
    "start_time": "2022-02-17T15:50:41.747Z"
   },
   {
    "duration": 21,
    "start_time": "2022-02-17T15:50:41.759Z"
   },
   {
    "duration": 238,
    "start_time": "2022-02-17T15:50:41.782Z"
   },
   {
    "duration": 185,
    "start_time": "2022-02-17T15:50:42.021Z"
   },
   {
    "duration": 167,
    "start_time": "2022-02-17T15:50:42.208Z"
   },
   {
    "duration": 176,
    "start_time": "2022-02-17T15:50:42.377Z"
   },
   {
    "duration": 173,
    "start_time": "2022-02-17T15:50:42.555Z"
   },
   {
    "duration": 151,
    "start_time": "2022-02-17T15:50:42.731Z"
   },
   {
    "duration": 4,
    "start_time": "2022-02-17T15:50:42.884Z"
   },
   {
    "duration": 6,
    "start_time": "2022-02-17T15:50:42.890Z"
   },
   {
    "duration": 8,
    "start_time": "2022-02-17T15:50:42.898Z"
   },
   {
    "duration": 5,
    "start_time": "2022-02-17T15:50:42.907Z"
   },
   {
    "duration": 6,
    "start_time": "2022-02-17T15:50:42.934Z"
   },
   {
    "duration": 6,
    "start_time": "2022-02-17T15:50:42.942Z"
   },
   {
    "duration": 12,
    "start_time": "2022-02-17T15:50:42.950Z"
   },
   {
    "duration": 9,
    "start_time": "2022-02-17T15:50:42.964Z"
   },
   {
    "duration": 8,
    "start_time": "2022-02-17T15:50:42.974Z"
   },
   {
    "duration": 111,
    "start_time": "2022-02-17T15:50:42.983Z"
   },
   {
    "duration": 7,
    "start_time": "2022-02-17T15:50:43.096Z"
   },
   {
    "duration": 34,
    "start_time": "2022-02-17T15:50:43.105Z"
   },
   {
    "duration": 8,
    "start_time": "2022-02-17T15:50:43.141Z"
   },
   {
    "duration": 4,
    "start_time": "2022-02-17T15:50:43.150Z"
   },
   {
    "duration": 6,
    "start_time": "2022-02-17T15:50:43.155Z"
   },
   {
    "duration": 5,
    "start_time": "2022-02-17T15:50:43.163Z"
   },
   {
    "duration": 5,
    "start_time": "2022-02-17T15:50:43.170Z"
   },
   {
    "duration": 11,
    "start_time": "2022-02-17T15:50:43.176Z"
   },
   {
    "duration": 9,
    "start_time": "2022-02-17T15:50:43.188Z"
   },
   {
    "duration": 16,
    "start_time": "2022-02-17T15:50:43.199Z"
   },
   {
    "duration": 18,
    "start_time": "2022-02-17T15:50:43.216Z"
   },
   {
    "duration": 30,
    "start_time": "2022-02-17T15:50:43.235Z"
   },
   {
    "duration": 68,
    "start_time": "2022-02-17T15:50:43.268Z"
   },
   {
    "duration": 329,
    "start_time": "2022-02-17T15:50:43.338Z"
   },
   {
    "duration": 6,
    "start_time": "2022-02-17T15:50:43.669Z"
   },
   {
    "duration": 2717,
    "start_time": "2022-02-17T15:50:43.677Z"
   },
   {
    "duration": 158,
    "start_time": "2022-02-17T15:50:46.396Z"
   },
   {
    "duration": 7,
    "start_time": "2022-02-17T15:50:46.556Z"
   },
   {
    "duration": 3,
    "start_time": "2022-02-17T15:50:46.565Z"
   },
   {
    "duration": 8,
    "start_time": "2022-02-17T15:50:46.570Z"
   },
   {
    "duration": 7,
    "start_time": "2022-02-17T15:50:46.580Z"
   },
   {
    "duration": 5,
    "start_time": "2022-02-17T15:50:46.588Z"
   },
   {
    "duration": 3780,
    "start_time": "2022-02-17T15:50:46.595Z"
   },
   {
    "duration": 178,
    "start_time": "2022-02-17T15:50:50.377Z"
   },
   {
    "duration": 177,
    "start_time": "2022-02-17T15:50:50.556Z"
   },
   {
    "duration": 8,
    "start_time": "2022-02-17T15:50:50.734Z"
   },
   {
    "duration": 6,
    "start_time": "2022-02-17T15:50:50.743Z"
   },
   {
    "duration": 1531,
    "start_time": "2022-02-17T15:50:50.750Z"
   },
   {
    "duration": 163,
    "start_time": "2022-02-17T15:50:52.283Z"
   },
   {
    "duration": 165,
    "start_time": "2022-02-17T15:50:52.448Z"
   },
   {
    "duration": 8,
    "start_time": "2022-02-17T15:50:52.618Z"
   },
   {
    "duration": 6,
    "start_time": "2022-02-17T15:50:52.632Z"
   },
   {
    "duration": 26,
    "start_time": "2022-02-17T15:50:52.641Z"
   },
   {
    "duration": 5,
    "start_time": "2022-02-17T15:50:52.669Z"
   },
   {
    "duration": 5,
    "start_time": "2022-02-17T15:50:52.676Z"
   },
   {
    "duration": 8,
    "start_time": "2022-02-17T15:50:52.683Z"
   },
   {
    "duration": 11,
    "start_time": "2022-02-17T15:50:52.693Z"
   },
   {
    "duration": 32,
    "start_time": "2022-02-17T15:50:52.706Z"
   },
   {
    "duration": 4895,
    "start_time": "2022-02-17T15:50:52.739Z"
   },
   {
    "duration": 186,
    "start_time": "2022-02-17T15:50:57.636Z"
   },
   {
    "duration": 192,
    "start_time": "2022-02-17T15:50:57.823Z"
   },
   {
    "duration": 157,
    "start_time": "2022-02-17T15:50:58.016Z"
   },
   {
    "duration": 5,
    "start_time": "2022-02-17T15:52:38.634Z"
   },
   {
    "duration": 33,
    "start_time": "2022-02-17T15:52:38.642Z"
   },
   {
    "duration": 17,
    "start_time": "2022-02-17T15:52:38.678Z"
   },
   {
    "duration": 8,
    "start_time": "2022-02-17T15:52:38.697Z"
   },
   {
    "duration": 26,
    "start_time": "2022-02-17T15:52:38.707Z"
   },
   {
    "duration": 6,
    "start_time": "2022-02-17T15:52:38.735Z"
   },
   {
    "duration": 9,
    "start_time": "2022-02-17T15:52:38.744Z"
   },
   {
    "duration": 20,
    "start_time": "2022-02-17T15:52:38.755Z"
   },
   {
    "duration": 230,
    "start_time": "2022-02-17T15:52:38.777Z"
   },
   {
    "duration": 190,
    "start_time": "2022-02-17T15:52:39.009Z"
   },
   {
    "duration": 147,
    "start_time": "2022-02-17T15:52:39.201Z"
   },
   {
    "duration": 282,
    "start_time": "2022-02-17T15:52:39.350Z"
   },
   {
    "duration": 272,
    "start_time": "2022-02-17T15:52:39.634Z"
   },
   {
    "duration": 282,
    "start_time": "2022-02-17T15:52:39.908Z"
   },
   {
    "duration": 4,
    "start_time": "2022-02-17T15:52:40.191Z"
   },
   {
    "duration": 6,
    "start_time": "2022-02-17T15:52:40.197Z"
   },
   {
    "duration": 9,
    "start_time": "2022-02-17T15:52:40.205Z"
   },
   {
    "duration": 7,
    "start_time": "2022-02-17T15:52:40.233Z"
   },
   {
    "duration": 9,
    "start_time": "2022-02-17T15:52:40.245Z"
   },
   {
    "duration": 6,
    "start_time": "2022-02-17T15:52:40.256Z"
   },
   {
    "duration": 5,
    "start_time": "2022-02-17T15:52:40.264Z"
   },
   {
    "duration": 8,
    "start_time": "2022-02-17T15:52:40.271Z"
   },
   {
    "duration": 9,
    "start_time": "2022-02-17T15:52:40.281Z"
   },
   {
    "duration": 158,
    "start_time": "2022-02-17T15:52:40.292Z"
   },
   {
    "duration": 9,
    "start_time": "2022-02-17T15:52:40.452Z"
   },
   {
    "duration": 28,
    "start_time": "2022-02-17T15:52:40.463Z"
   },
   {
    "duration": 10,
    "start_time": "2022-02-17T15:52:40.493Z"
   },
   {
    "duration": 28,
    "start_time": "2022-02-17T15:52:40.506Z"
   },
   {
    "duration": 5,
    "start_time": "2022-02-17T15:52:40.536Z"
   },
   {
    "duration": 5,
    "start_time": "2022-02-17T15:52:40.543Z"
   },
   {
    "duration": 5,
    "start_time": "2022-02-17T15:52:40.550Z"
   },
   {
    "duration": 7,
    "start_time": "2022-02-17T15:52:40.557Z"
   },
   {
    "duration": 9,
    "start_time": "2022-02-17T15:52:40.566Z"
   },
   {
    "duration": 10,
    "start_time": "2022-02-17T15:52:40.577Z"
   },
   {
    "duration": 12,
    "start_time": "2022-02-17T15:52:40.588Z"
   },
   {
    "duration": 232,
    "start_time": "2022-02-17T15:52:40.601Z"
   },
   {
    "duration": 9,
    "start_time": "2022-02-17T15:52:40.835Z"
   },
   {
    "duration": 335,
    "start_time": "2022-02-17T15:52:40.846Z"
   },
   {
    "duration": 6,
    "start_time": "2022-02-17T15:52:41.182Z"
   },
   {
    "duration": 2728,
    "start_time": "2022-02-17T15:52:41.189Z"
   },
   {
    "duration": 163,
    "start_time": "2022-02-17T15:52:43.918Z"
   },
   {
    "duration": 7,
    "start_time": "2022-02-17T15:52:44.082Z"
   },
   {
    "duration": 3,
    "start_time": "2022-02-17T15:52:44.090Z"
   },
   {
    "duration": 9,
    "start_time": "2022-02-17T15:52:44.095Z"
   },
   {
    "duration": 36,
    "start_time": "2022-02-17T15:52:44.106Z"
   },
   {
    "duration": 5,
    "start_time": "2022-02-17T15:52:44.144Z"
   },
   {
    "duration": 3606,
    "start_time": "2022-02-17T15:52:44.151Z"
   },
   {
    "duration": 193,
    "start_time": "2022-02-17T15:52:47.759Z"
   },
   {
    "duration": 179,
    "start_time": "2022-02-17T15:52:47.953Z"
   },
   {
    "duration": 8,
    "start_time": "2022-02-17T15:52:48.134Z"
   },
   {
    "duration": 9,
    "start_time": "2022-02-17T15:52:48.145Z"
   },
   {
    "duration": 2117,
    "start_time": "2022-02-17T15:52:48.156Z"
   },
   {
    "duration": 242,
    "start_time": "2022-02-17T15:52:50.276Z"
   },
   {
    "duration": 248,
    "start_time": "2022-02-17T15:52:50.520Z"
   },
   {
    "duration": 12,
    "start_time": "2022-02-17T15:52:50.774Z"
   },
   {
    "duration": 5,
    "start_time": "2022-02-17T15:52:50.789Z"
   },
   {
    "duration": 54,
    "start_time": "2022-02-17T15:52:50.796Z"
   },
   {
    "duration": 7,
    "start_time": "2022-02-17T15:52:50.852Z"
   },
   {
    "duration": 8,
    "start_time": "2022-02-17T15:52:50.862Z"
   },
   {
    "duration": 11,
    "start_time": "2022-02-17T15:52:50.872Z"
   },
   {
    "duration": 11,
    "start_time": "2022-02-17T15:52:50.885Z"
   },
   {
    "duration": 34,
    "start_time": "2022-02-17T15:52:50.898Z"
   },
   {
    "duration": 4993,
    "start_time": "2022-02-17T15:52:50.934Z"
   },
   {
    "duration": 190,
    "start_time": "2022-02-17T15:52:55.932Z"
   },
   {
    "duration": 184,
    "start_time": "2022-02-17T15:52:56.123Z"
   },
   {
    "duration": 176,
    "start_time": "2022-02-17T15:52:56.309Z"
   },
   {
    "duration": 125,
    "start_time": "2022-02-17T15:53:57.321Z"
   },
   {
    "duration": 4,
    "start_time": "2022-02-17T15:54:05.371Z"
   },
   {
    "duration": 49,
    "start_time": "2022-02-17T15:54:05.377Z"
   },
   {
    "duration": 13,
    "start_time": "2022-02-17T15:54:05.429Z"
   },
   {
    "duration": 19,
    "start_time": "2022-02-17T15:54:05.444Z"
   },
   {
    "duration": 7,
    "start_time": "2022-02-17T15:54:05.465Z"
   },
   {
    "duration": 19,
    "start_time": "2022-02-17T15:54:05.473Z"
   },
   {
    "duration": 23,
    "start_time": "2022-02-17T15:54:05.495Z"
   },
   {
    "duration": 30,
    "start_time": "2022-02-17T15:54:05.520Z"
   },
   {
    "duration": 212,
    "start_time": "2022-02-17T15:54:05.552Z"
   },
   {
    "duration": 318,
    "start_time": "2022-02-17T15:54:05.766Z"
   },
   {
    "duration": 134,
    "start_time": "2022-02-17T15:54:06.086Z"
   },
   {
    "duration": 221,
    "start_time": "2022-02-17T15:54:06.858Z"
   },
   {
    "duration": 178,
    "start_time": "2022-02-17T15:54:07.080Z"
   },
   {
    "duration": 222,
    "start_time": "2022-02-17T15:54:07.260Z"
   },
   {
    "duration": 5,
    "start_time": "2022-02-17T15:54:07.484Z"
   },
   {
    "duration": 5,
    "start_time": "2022-02-17T15:54:07.490Z"
   },
   {
    "duration": 11,
    "start_time": "2022-02-17T15:54:07.497Z"
   },
   {
    "duration": 27,
    "start_time": "2022-02-17T15:54:07.509Z"
   },
   {
    "duration": 11,
    "start_time": "2022-02-17T15:54:07.540Z"
   },
   {
    "duration": 8,
    "start_time": "2022-02-17T15:54:07.553Z"
   },
   {
    "duration": 6,
    "start_time": "2022-02-17T15:54:07.562Z"
   },
   {
    "duration": 17,
    "start_time": "2022-02-17T15:54:07.570Z"
   },
   {
    "duration": 5,
    "start_time": "2022-02-17T15:54:07.589Z"
   },
   {
    "duration": 16,
    "start_time": "2022-02-17T15:54:07.596Z"
   },
   {
    "duration": 12,
    "start_time": "2022-02-17T15:54:07.631Z"
   },
   {
    "duration": 31,
    "start_time": "2022-02-17T15:54:07.645Z"
   },
   {
    "duration": 8,
    "start_time": "2022-02-17T15:54:07.677Z"
   },
   {
    "duration": 4,
    "start_time": "2022-02-17T15:54:07.687Z"
   },
   {
    "duration": 7,
    "start_time": "2022-02-17T15:54:07.693Z"
   },
   {
    "duration": 34,
    "start_time": "2022-02-17T15:54:07.702Z"
   },
   {
    "duration": 4,
    "start_time": "2022-02-17T15:54:07.739Z"
   },
   {
    "duration": 10,
    "start_time": "2022-02-17T15:54:07.745Z"
   },
   {
    "duration": 8,
    "start_time": "2022-02-17T15:54:07.757Z"
   },
   {
    "duration": 15,
    "start_time": "2022-02-17T15:54:07.768Z"
   },
   {
    "duration": 8,
    "start_time": "2022-02-17T15:54:07.785Z"
   },
   {
    "duration": 55,
    "start_time": "2022-02-17T15:54:07.795Z"
   },
   {
    "duration": 86,
    "start_time": "2022-02-17T15:54:07.852Z"
   },
   {
    "duration": 429,
    "start_time": "2022-02-17T15:54:07.941Z"
   },
   {
    "duration": 9,
    "start_time": "2022-02-17T15:54:08.372Z"
   },
   {
    "duration": 2690,
    "start_time": "2022-02-17T15:54:08.383Z"
   },
   {
    "duration": 185,
    "start_time": "2022-02-17T15:54:11.075Z"
   },
   {
    "duration": 6,
    "start_time": "2022-02-17T15:54:11.262Z"
   },
   {
    "duration": 5,
    "start_time": "2022-02-17T15:54:11.270Z"
   },
   {
    "duration": 8,
    "start_time": "2022-02-17T15:54:11.276Z"
   },
   {
    "duration": 7,
    "start_time": "2022-02-17T15:54:11.286Z"
   },
   {
    "duration": 25,
    "start_time": "2022-02-17T15:54:11.295Z"
   },
   {
    "duration": 3650,
    "start_time": "2022-02-17T15:54:11.332Z"
   },
   {
    "duration": 287,
    "start_time": "2022-02-17T15:54:14.984Z"
   },
   {
    "duration": 293,
    "start_time": "2022-02-17T15:54:15.273Z"
   },
   {
    "duration": 10,
    "start_time": "2022-02-17T15:54:15.568Z"
   },
   {
    "duration": 7,
    "start_time": "2022-02-17T15:54:15.580Z"
   },
   {
    "duration": 1597,
    "start_time": "2022-02-17T15:54:15.589Z"
   },
   {
    "duration": 168,
    "start_time": "2022-02-17T15:54:17.187Z"
   },
   {
    "duration": 168,
    "start_time": "2022-02-17T15:54:17.357Z"
   },
   {
    "duration": 12,
    "start_time": "2022-02-17T15:54:17.531Z"
   },
   {
    "duration": 5,
    "start_time": "2022-02-17T15:54:17.545Z"
   },
   {
    "duration": 26,
    "start_time": "2022-02-17T15:54:17.552Z"
   },
   {
    "duration": 5,
    "start_time": "2022-02-17T15:54:17.580Z"
   },
   {
    "duration": 6,
    "start_time": "2022-02-17T15:54:17.587Z"
   },
   {
    "duration": 40,
    "start_time": "2022-02-17T15:54:17.595Z"
   },
   {
    "duration": 8,
    "start_time": "2022-02-17T15:54:17.637Z"
   },
   {
    "duration": 6,
    "start_time": "2022-02-17T15:54:17.647Z"
   },
   {
    "duration": 4871,
    "start_time": "2022-02-17T15:54:17.655Z"
   },
   {
    "duration": 181,
    "start_time": "2022-02-17T15:54:22.532Z"
   },
   {
    "duration": 189,
    "start_time": "2022-02-17T15:54:22.715Z"
   },
   {
    "duration": 259,
    "start_time": "2022-02-17T15:54:22.906Z"
   },
   {
    "duration": 6,
    "start_time": "2022-02-17T15:54:58.310Z"
   },
   {
    "duration": 29,
    "start_time": "2022-02-17T15:54:58.318Z"
   },
   {
    "duration": 13,
    "start_time": "2022-02-17T15:54:58.349Z"
   },
   {
    "duration": 7,
    "start_time": "2022-02-17T15:54:58.364Z"
   },
   {
    "duration": 4,
    "start_time": "2022-02-17T15:54:58.373Z"
   },
   {
    "duration": 6,
    "start_time": "2022-02-17T15:54:58.379Z"
   },
   {
    "duration": 47,
    "start_time": "2022-02-17T15:54:58.387Z"
   },
   {
    "duration": 23,
    "start_time": "2022-02-17T15:54:58.438Z"
   },
   {
    "duration": 360,
    "start_time": "2022-02-17T15:54:58.464Z"
   },
   {
    "duration": 185,
    "start_time": "2022-02-17T15:54:58.831Z"
   },
   {
    "duration": 175,
    "start_time": "2022-02-17T15:54:59.017Z"
   },
   {
    "duration": 175,
    "start_time": "2022-02-17T15:54:59.194Z"
   },
   {
    "duration": 144,
    "start_time": "2022-02-17T15:54:59.370Z"
   },
   {
    "duration": 4,
    "start_time": "2022-02-17T15:54:59.516Z"
   },
   {
    "duration": 5,
    "start_time": "2022-02-17T15:54:59.531Z"
   },
   {
    "duration": 6,
    "start_time": "2022-02-17T15:54:59.537Z"
   },
   {
    "duration": 4,
    "start_time": "2022-02-17T15:54:59.545Z"
   },
   {
    "duration": 8,
    "start_time": "2022-02-17T15:54:59.551Z"
   },
   {
    "duration": 8,
    "start_time": "2022-02-17T15:54:59.561Z"
   },
   {
    "duration": 8,
    "start_time": "2022-02-17T15:54:59.570Z"
   },
   {
    "duration": 10,
    "start_time": "2022-02-17T15:54:59.580Z"
   },
   {
    "duration": 44,
    "start_time": "2022-02-17T15:54:59.591Z"
   },
   {
    "duration": 17,
    "start_time": "2022-02-17T15:54:59.717Z"
   },
   {
    "duration": 318,
    "start_time": "2022-02-17T15:54:59.736Z"
   },
   {
    "duration": -73,
    "start_time": "2022-02-17T15:55:00.129Z"
   },
   {
    "duration": -76,
    "start_time": "2022-02-17T15:55:00.133Z"
   },
   {
    "duration": -79,
    "start_time": "2022-02-17T15:55:00.137Z"
   },
   {
    "duration": -82,
    "start_time": "2022-02-17T15:55:00.141Z"
   },
   {
    "duration": -84,
    "start_time": "2022-02-17T15:55:00.145Z"
   },
   {
    "duration": -87,
    "start_time": "2022-02-17T15:55:00.149Z"
   },
   {
    "duration": -97,
    "start_time": "2022-02-17T15:55:00.160Z"
   },
   {
    "duration": -100,
    "start_time": "2022-02-17T15:55:00.165Z"
   },
   {
    "duration": -102,
    "start_time": "2022-02-17T15:55:00.168Z"
   },
   {
    "duration": -105,
    "start_time": "2022-02-17T15:55:00.172Z"
   },
   {
    "duration": -108,
    "start_time": "2022-02-17T15:55:00.176Z"
   },
   {
    "duration": -110,
    "start_time": "2022-02-17T15:55:00.179Z"
   },
   {
    "duration": -113,
    "start_time": "2022-02-17T15:55:00.183Z"
   },
   {
    "duration": -115,
    "start_time": "2022-02-17T15:55:00.186Z"
   },
   {
    "duration": -118,
    "start_time": "2022-02-17T15:55:00.190Z"
   },
   {
    "duration": -120,
    "start_time": "2022-02-17T15:55:00.193Z"
   },
   {
    "duration": -122,
    "start_time": "2022-02-17T15:55:00.196Z"
   },
   {
    "duration": -124,
    "start_time": "2022-02-17T15:55:00.200Z"
   },
   {
    "duration": -126,
    "start_time": "2022-02-17T15:55:00.203Z"
   },
   {
    "duration": -137,
    "start_time": "2022-02-17T15:55:00.215Z"
   },
   {
    "duration": -140,
    "start_time": "2022-02-17T15:55:00.219Z"
   },
   {
    "duration": -142,
    "start_time": "2022-02-17T15:55:00.222Z"
   },
   {
    "duration": -144,
    "start_time": "2022-02-17T15:55:00.225Z"
   },
   {
    "duration": -147,
    "start_time": "2022-02-17T15:55:00.229Z"
   },
   {
    "duration": -150,
    "start_time": "2022-02-17T15:55:00.233Z"
   },
   {
    "duration": -153,
    "start_time": "2022-02-17T15:55:00.237Z"
   },
   {
    "duration": -155,
    "start_time": "2022-02-17T15:55:00.240Z"
   },
   {
    "duration": -158,
    "start_time": "2022-02-17T15:55:00.244Z"
   },
   {
    "duration": -160,
    "start_time": "2022-02-17T15:55:00.247Z"
   },
   {
    "duration": -164,
    "start_time": "2022-02-17T15:55:00.252Z"
   },
   {
    "duration": -166,
    "start_time": "2022-02-17T15:55:00.255Z"
   },
   {
    "duration": -169,
    "start_time": "2022-02-17T15:55:00.259Z"
   },
   {
    "duration": -172,
    "start_time": "2022-02-17T15:55:00.263Z"
   },
   {
    "duration": -174,
    "start_time": "2022-02-17T15:55:00.267Z"
   },
   {
    "duration": -177,
    "start_time": "2022-02-17T15:55:00.271Z"
   },
   {
    "duration": -181,
    "start_time": "2022-02-17T15:55:00.275Z"
   },
   {
    "duration": -146,
    "start_time": "2022-02-17T15:55:00.278Z"
   },
   {
    "duration": -149,
    "start_time": "2022-02-17T15:55:00.282Z"
   },
   {
    "duration": -151,
    "start_time": "2022-02-17T15:55:00.285Z"
   },
   {
    "duration": -154,
    "start_time": "2022-02-17T15:55:00.289Z"
   },
   {
    "duration": -156,
    "start_time": "2022-02-17T15:55:00.292Z"
   },
   {
    "duration": 5,
    "start_time": "2022-02-17T15:55:18.129Z"
   },
   {
    "duration": 25,
    "start_time": "2022-02-17T15:55:18.136Z"
   },
   {
    "duration": 8,
    "start_time": "2022-02-17T15:55:18.163Z"
   },
   {
    "duration": 12,
    "start_time": "2022-02-17T15:55:18.173Z"
   },
   {
    "duration": 5,
    "start_time": "2022-02-17T15:55:18.187Z"
   },
   {
    "duration": 39,
    "start_time": "2022-02-17T15:55:18.193Z"
   },
   {
    "duration": 5,
    "start_time": "2022-02-17T15:55:18.234Z"
   },
   {
    "duration": 8,
    "start_time": "2022-02-17T15:55:18.242Z"
   },
   {
    "duration": 10,
    "start_time": "2022-02-17T15:55:18.252Z"
   },
   {
    "duration": 10,
    "start_time": "2022-02-17T15:55:18.264Z"
   },
   {
    "duration": 9,
    "start_time": "2022-02-17T15:55:18.276Z"
   },
   {
    "duration": 246,
    "start_time": "2022-02-17T15:55:18.287Z"
   },
   {
    "duration": 96,
    "start_time": "2022-02-17T15:55:18.536Z"
   },
   {
    "duration": 245,
    "start_time": "2022-02-17T15:55:18.635Z"
   },
   {
    "duration": 8,
    "start_time": "2022-02-17T15:55:18.882Z"
   },
   {
    "duration": 4151,
    "start_time": "2022-02-17T15:55:18.893Z"
   },
   {
    "duration": 251,
    "start_time": "2022-02-17T15:55:23.046Z"
   },
   {
    "duration": 6,
    "start_time": "2022-02-17T15:55:23.299Z"
   },
   {
    "duration": 4,
    "start_time": "2022-02-17T15:55:23.306Z"
   },
   {
    "duration": 26,
    "start_time": "2022-02-17T15:55:23.312Z"
   },
   {
    "duration": 11,
    "start_time": "2022-02-17T15:55:23.340Z"
   },
   {
    "duration": 7,
    "start_time": "2022-02-17T15:55:23.353Z"
   },
   {
    "duration": 5354,
    "start_time": "2022-02-17T15:55:23.365Z"
   },
   {
    "duration": 179,
    "start_time": "2022-02-17T15:55:28.721Z"
   },
   {
    "duration": 180,
    "start_time": "2022-02-17T15:55:28.902Z"
   },
   {
    "duration": 8,
    "start_time": "2022-02-17T15:55:29.084Z"
   },
   {
    "duration": 5,
    "start_time": "2022-02-17T15:55:29.094Z"
   },
   {
    "duration": 1407,
    "start_time": "2022-02-17T15:55:29.100Z"
   },
   {
    "duration": 176,
    "start_time": "2022-02-17T15:55:30.509Z"
   },
   {
    "duration": 166,
    "start_time": "2022-02-17T15:55:30.687Z"
   },
   {
    "duration": 11,
    "start_time": "2022-02-17T15:55:30.855Z"
   },
   {
    "duration": 8,
    "start_time": "2022-02-17T15:55:30.868Z"
   },
   {
    "duration": 54,
    "start_time": "2022-02-17T15:55:30.878Z"
   },
   {
    "duration": 6,
    "start_time": "2022-02-17T15:55:30.934Z"
   },
   {
    "duration": 9,
    "start_time": "2022-02-17T15:55:30.941Z"
   },
   {
    "duration": 9,
    "start_time": "2022-02-17T15:55:30.951Z"
   },
   {
    "duration": 8,
    "start_time": "2022-02-17T15:55:30.962Z"
   },
   {
    "duration": 10,
    "start_time": "2022-02-17T15:55:30.971Z"
   },
   {
    "duration": 4803,
    "start_time": "2022-02-17T15:55:30.982Z"
   },
   {
    "duration": 249,
    "start_time": "2022-02-17T15:55:35.786Z"
   },
   {
    "duration": 212,
    "start_time": "2022-02-17T15:55:36.038Z"
   },
   {
    "duration": 207,
    "start_time": "2022-02-17T15:55:36.252Z"
   },
   {
    "duration": 5,
    "start_time": "2022-02-17T16:04:13.194Z"
   },
   {
    "duration": 30,
    "start_time": "2022-02-17T16:04:13.201Z"
   },
   {
    "duration": 15,
    "start_time": "2022-02-17T16:04:13.234Z"
   },
   {
    "duration": 11,
    "start_time": "2022-02-17T16:04:13.252Z"
   },
   {
    "duration": 4,
    "start_time": "2022-02-17T16:04:13.265Z"
   },
   {
    "duration": 9,
    "start_time": "2022-02-17T16:04:13.271Z"
   },
   {
    "duration": 58,
    "start_time": "2022-02-17T16:04:13.282Z"
   },
   {
    "duration": 24,
    "start_time": "2022-02-17T16:04:13.344Z"
   },
   {
    "duration": 357,
    "start_time": "2022-02-17T16:04:13.370Z"
   },
   {
    "duration": 233,
    "start_time": "2022-02-17T16:04:13.732Z"
   },
   {
    "duration": 187,
    "start_time": "2022-02-17T16:04:13.967Z"
   },
   {
    "duration": 186,
    "start_time": "2022-02-17T16:04:14.156Z"
   },
   {
    "duration": 156,
    "start_time": "2022-02-17T16:04:14.344Z"
   },
   {
    "duration": 4,
    "start_time": "2022-02-17T16:04:14.501Z"
   },
   {
    "duration": 6,
    "start_time": "2022-02-17T16:04:14.508Z"
   },
   {
    "duration": 8,
    "start_time": "2022-02-17T16:04:14.532Z"
   },
   {
    "duration": 8,
    "start_time": "2022-02-17T16:04:14.541Z"
   },
   {
    "duration": 7,
    "start_time": "2022-02-17T16:04:14.551Z"
   },
   {
    "duration": 7,
    "start_time": "2022-02-17T16:04:14.560Z"
   },
   {
    "duration": 5,
    "start_time": "2022-02-17T16:04:14.568Z"
   },
   {
    "duration": 7,
    "start_time": "2022-02-17T16:04:14.575Z"
   },
   {
    "duration": 7,
    "start_time": "2022-02-17T16:04:14.584Z"
   },
   {
    "duration": 9,
    "start_time": "2022-02-17T16:04:14.631Z"
   },
   {
    "duration": 4,
    "start_time": "2022-02-17T16:04:14.644Z"
   },
   {
    "duration": 23,
    "start_time": "2022-02-17T16:04:14.650Z"
   },
   {
    "duration": 9,
    "start_time": "2022-02-17T16:04:14.675Z"
   },
   {
    "duration": 5,
    "start_time": "2022-02-17T16:04:14.686Z"
   },
   {
    "duration": 42,
    "start_time": "2022-02-17T16:04:14.693Z"
   },
   {
    "duration": 9,
    "start_time": "2022-02-17T16:04:14.737Z"
   },
   {
    "duration": 10,
    "start_time": "2022-02-17T16:04:14.748Z"
   },
   {
    "duration": 14,
    "start_time": "2022-02-17T16:04:14.760Z"
   },
   {
    "duration": 7,
    "start_time": "2022-02-17T16:04:14.776Z"
   },
   {
    "duration": 11,
    "start_time": "2022-02-17T16:04:14.785Z"
   },
   {
    "duration": 9,
    "start_time": "2022-02-17T16:04:14.798Z"
   },
   {
    "duration": 130,
    "start_time": "2022-02-17T16:04:14.809Z"
   },
   {
    "duration": 98,
    "start_time": "2022-02-17T16:04:14.942Z"
   },
   {
    "duration": 330,
    "start_time": "2022-02-17T16:04:15.043Z"
   },
   {
    "duration": 5,
    "start_time": "2022-02-17T16:04:15.375Z"
   },
   {
    "duration": 4218,
    "start_time": "2022-02-17T16:04:15.382Z"
   },
   {
    "duration": 251,
    "start_time": "2022-02-17T16:04:19.602Z"
   },
   {
    "duration": 8,
    "start_time": "2022-02-17T16:04:19.856Z"
   },
   {
    "duration": 3,
    "start_time": "2022-02-17T16:04:19.866Z"
   },
   {
    "duration": 395,
    "start_time": "2022-02-17T16:04:19.871Z"
   },
   {
    "duration": -44,
    "start_time": "2022-02-17T16:04:20.312Z"
   },
   {
    "duration": -47,
    "start_time": "2022-02-17T16:04:20.315Z"
   },
   {
    "duration": -50,
    "start_time": "2022-02-17T16:04:20.319Z"
   },
   {
    "duration": -53,
    "start_time": "2022-02-17T16:04:20.323Z"
   },
   {
    "duration": -56,
    "start_time": "2022-02-17T16:04:20.327Z"
   },
   {
    "duration": -58,
    "start_time": "2022-02-17T16:04:20.330Z"
   },
   {
    "duration": -66,
    "start_time": "2022-02-17T16:04:20.340Z"
   },
   {
    "duration": -69,
    "start_time": "2022-02-17T16:04:20.344Z"
   },
   {
    "duration": -71,
    "start_time": "2022-02-17T16:04:20.347Z"
   },
   {
    "duration": -74,
    "start_time": "2022-02-17T16:04:20.351Z"
   },
   {
    "duration": -75,
    "start_time": "2022-02-17T16:04:20.354Z"
   },
   {
    "duration": -78,
    "start_time": "2022-02-17T16:04:20.358Z"
   },
   {
    "duration": -80,
    "start_time": "2022-02-17T16:04:20.361Z"
   },
   {
    "duration": -82,
    "start_time": "2022-02-17T16:04:20.364Z"
   },
   {
    "duration": -85,
    "start_time": "2022-02-17T16:04:20.368Z"
   },
   {
    "duration": -88,
    "start_time": "2022-02-17T16:04:20.371Z"
   },
   {
    "duration": -90,
    "start_time": "2022-02-17T16:04:20.374Z"
   },
   {
    "duration": -93,
    "start_time": "2022-02-17T16:04:20.378Z"
   },
   {
    "duration": -96,
    "start_time": "2022-02-17T16:04:20.382Z"
   },
   {
    "duration": -99,
    "start_time": "2022-02-17T16:04:20.385Z"
   },
   {
    "duration": -101,
    "start_time": "2022-02-17T16:04:20.388Z"
   },
   {
    "duration": -105,
    "start_time": "2022-02-17T16:04:20.392Z"
   },
   {
    "duration": -107,
    "start_time": "2022-02-17T16:04:20.395Z"
   },
   {
    "duration": -110,
    "start_time": "2022-02-17T16:04:20.399Z"
   },
   {
    "duration": -113,
    "start_time": "2022-02-17T16:04:20.402Z"
   },
   {
    "duration": 4,
    "start_time": "2022-02-17T16:06:17.594Z"
   },
   {
    "duration": 37,
    "start_time": "2022-02-17T16:06:17.601Z"
   },
   {
    "duration": 19,
    "start_time": "2022-02-17T16:06:17.641Z"
   },
   {
    "duration": 11,
    "start_time": "2022-02-17T16:06:17.662Z"
   },
   {
    "duration": 4,
    "start_time": "2022-02-17T16:06:17.675Z"
   },
   {
    "duration": 6,
    "start_time": "2022-02-17T16:06:17.681Z"
   },
   {
    "duration": 50,
    "start_time": "2022-02-17T16:06:17.689Z"
   },
   {
    "duration": 20,
    "start_time": "2022-02-17T16:06:17.741Z"
   },
   {
    "duration": 339,
    "start_time": "2022-02-17T16:06:17.764Z"
   },
   {
    "duration": 198,
    "start_time": "2022-02-17T16:06:18.106Z"
   },
   {
    "duration": 192,
    "start_time": "2022-02-17T16:06:18.306Z"
   },
   {
    "duration": 195,
    "start_time": "2022-02-17T16:06:18.500Z"
   },
   {
    "duration": 161,
    "start_time": "2022-02-17T16:06:18.696Z"
   },
   {
    "duration": 4,
    "start_time": "2022-02-17T16:06:18.859Z"
   },
   {
    "duration": 6,
    "start_time": "2022-02-17T16:06:18.880Z"
   },
   {
    "duration": 8,
    "start_time": "2022-02-17T16:06:18.888Z"
   },
   {
    "duration": 6,
    "start_time": "2022-02-17T16:06:18.898Z"
   },
   {
    "duration": 7,
    "start_time": "2022-02-17T16:06:18.905Z"
   },
   {
    "duration": 6,
    "start_time": "2022-02-17T16:06:18.932Z"
   },
   {
    "duration": 10,
    "start_time": "2022-02-17T16:06:18.940Z"
   },
   {
    "duration": 8,
    "start_time": "2022-02-17T16:06:18.952Z"
   },
   {
    "duration": 8,
    "start_time": "2022-02-17T16:06:18.962Z"
   },
   {
    "duration": 9,
    "start_time": "2022-02-17T16:06:18.977Z"
   },
   {
    "duration": 6,
    "start_time": "2022-02-17T16:06:18.989Z"
   },
   {
    "duration": 64,
    "start_time": "2022-02-17T16:06:18.997Z"
   },
   {
    "duration": 11,
    "start_time": "2022-02-17T16:06:19.063Z"
   },
   {
    "duration": 5,
    "start_time": "2022-02-17T16:06:19.076Z"
   },
   {
    "duration": 5,
    "start_time": "2022-02-17T16:06:19.083Z"
   },
   {
    "duration": 11,
    "start_time": "2022-02-17T16:06:19.090Z"
   },
   {
    "duration": 31,
    "start_time": "2022-02-17T16:06:19.103Z"
   },
   {
    "duration": 8,
    "start_time": "2022-02-17T16:06:19.136Z"
   },
   {
    "duration": 8,
    "start_time": "2022-02-17T16:06:19.147Z"
   },
   {
    "duration": 12,
    "start_time": "2022-02-17T16:06:19.157Z"
   },
   {
    "duration": 6,
    "start_time": "2022-02-17T16:06:19.171Z"
   },
   {
    "duration": 160,
    "start_time": "2022-02-17T16:06:19.179Z"
   },
   {
    "duration": 7,
    "start_time": "2022-02-17T16:06:19.340Z"
   },
   {
    "duration": 325,
    "start_time": "2022-02-17T16:06:19.349Z"
   },
   {
    "duration": 7,
    "start_time": "2022-02-17T16:06:19.676Z"
   },
   {
    "duration": 2766,
    "start_time": "2022-02-17T16:06:19.685Z"
   },
   {
    "duration": 160,
    "start_time": "2022-02-17T16:06:22.453Z"
   },
   {
    "duration": 17,
    "start_time": "2022-02-17T16:06:22.615Z"
   },
   {
    "duration": 4,
    "start_time": "2022-02-17T16:06:22.634Z"
   },
   {
    "duration": 3792,
    "start_time": "2022-02-17T16:06:22.640Z"
   },
   {
    "duration": 247,
    "start_time": "2022-02-17T16:06:26.434Z"
   },
   {
    "duration": 172,
    "start_time": "2022-02-17T16:06:26.683Z"
   },
   {
    "duration": 7,
    "start_time": "2022-02-17T16:06:26.856Z"
   },
   {
    "duration": 23,
    "start_time": "2022-02-17T16:06:26.864Z"
   },
   {
    "duration": 15,
    "start_time": "2022-02-17T16:06:26.889Z"
   },
   {
    "duration": 3808,
    "start_time": "2022-02-17T16:06:26.906Z"
   },
   {
    "duration": 186,
    "start_time": "2022-02-17T16:06:30.715Z"
   },
   {
    "duration": 184,
    "start_time": "2022-02-17T16:06:30.904Z"
   },
   {
    "duration": 10,
    "start_time": "2022-02-17T16:06:31.089Z"
   },
   {
    "duration": 15,
    "start_time": "2022-02-17T16:06:31.101Z"
   },
   {
    "duration": 1394,
    "start_time": "2022-02-17T16:06:31.118Z"
   },
   {
    "duration": 168,
    "start_time": "2022-02-17T16:06:32.514Z"
   },
   {
    "duration": 168,
    "start_time": "2022-02-17T16:06:32.684Z"
   },
   {
    "duration": 12,
    "start_time": "2022-02-17T16:06:32.854Z"
   },
   {
    "duration": 4,
    "start_time": "2022-02-17T16:06:32.868Z"
   },
   {
    "duration": 23,
    "start_time": "2022-02-17T16:06:32.874Z"
   },
   {
    "duration": 6,
    "start_time": "2022-02-17T16:06:32.898Z"
   },
   {
    "duration": 8,
    "start_time": "2022-02-17T16:06:32.933Z"
   },
   {
    "duration": 10,
    "start_time": "2022-02-17T16:06:32.942Z"
   },
   {
    "duration": 7,
    "start_time": "2022-02-17T16:06:32.954Z"
   },
   {
    "duration": 5,
    "start_time": "2022-02-17T16:06:32.963Z"
   },
   {
    "duration": 4782,
    "start_time": "2022-02-17T16:06:32.970Z"
   },
   {
    "duration": 188,
    "start_time": "2022-02-17T16:06:37.754Z"
   },
   {
    "duration": 192,
    "start_time": "2022-02-17T16:06:37.944Z"
   },
   {
    "duration": 166,
    "start_time": "2022-02-17T16:06:38.140Z"
   },
   {
    "duration": 242,
    "start_time": "2022-02-17T16:37:56.467Z"
   },
   {
    "duration": 296,
    "start_time": "2022-02-17T16:49:10.544Z"
   },
   {
    "duration": 21,
    "start_time": "2022-02-17T16:49:15.320Z"
   },
   {
    "duration": 6,
    "start_time": "2022-02-17T16:53:16.204Z"
   },
   {
    "duration": 5,
    "start_time": "2022-02-17T17:06:11.111Z"
   },
   {
    "duration": 2721,
    "start_time": "2022-02-17T17:08:57.351Z"
   },
   {
    "duration": 11,
    "start_time": "2022-02-17T17:11:07.382Z"
   },
   {
    "duration": 5,
    "start_time": "2022-02-17T17:11:35.882Z"
   },
   {
    "duration": 29,
    "start_time": "2022-02-17T17:11:35.888Z"
   },
   {
    "duration": 13,
    "start_time": "2022-02-17T17:11:35.919Z"
   },
   {
    "duration": 8,
    "start_time": "2022-02-17T17:11:35.934Z"
   },
   {
    "duration": 4,
    "start_time": "2022-02-17T17:11:35.944Z"
   },
   {
    "duration": 10,
    "start_time": "2022-02-17T17:11:35.950Z"
   },
   {
    "duration": 24,
    "start_time": "2022-02-17T17:11:35.962Z"
   },
   {
    "duration": 21,
    "start_time": "2022-02-17T17:11:35.989Z"
   },
   {
    "duration": 214,
    "start_time": "2022-02-17T17:11:36.033Z"
   },
   {
    "duration": 184,
    "start_time": "2022-02-17T17:11:36.249Z"
   },
   {
    "duration": 190,
    "start_time": "2022-02-17T17:11:36.435Z"
   },
   {
    "duration": 172,
    "start_time": "2022-02-17T17:11:36.627Z"
   },
   {
    "duration": 142,
    "start_time": "2022-02-17T17:11:36.800Z"
   },
   {
    "duration": 5,
    "start_time": "2022-02-17T17:11:36.944Z"
   },
   {
    "duration": 6,
    "start_time": "2022-02-17T17:11:36.951Z"
   },
   {
    "duration": 12,
    "start_time": "2022-02-17T17:11:36.959Z"
   },
   {
    "duration": 7,
    "start_time": "2022-02-17T17:11:36.973Z"
   },
   {
    "duration": 9,
    "start_time": "2022-02-17T17:11:36.981Z"
   },
   {
    "duration": 5,
    "start_time": "2022-02-17T17:11:36.995Z"
   },
   {
    "duration": 6,
    "start_time": "2022-02-17T17:11:37.032Z"
   },
   {
    "duration": 7,
    "start_time": "2022-02-17T17:11:37.039Z"
   },
   {
    "duration": 7,
    "start_time": "2022-02-17T17:11:37.047Z"
   },
   {
    "duration": 15,
    "start_time": "2022-02-17T17:11:37.056Z"
   },
   {
    "duration": 4,
    "start_time": "2022-02-17T17:11:37.073Z"
   },
   {
    "duration": 29,
    "start_time": "2022-02-17T17:11:37.078Z"
   },
   {
    "duration": 25,
    "start_time": "2022-02-17T17:11:37.109Z"
   },
   {
    "duration": 4,
    "start_time": "2022-02-17T17:11:37.135Z"
   },
   {
    "duration": 7,
    "start_time": "2022-02-17T17:11:37.140Z"
   },
   {
    "duration": 10,
    "start_time": "2022-02-17T17:11:37.148Z"
   },
   {
    "duration": 9,
    "start_time": "2022-02-17T17:11:37.159Z"
   },
   {
    "duration": 12,
    "start_time": "2022-02-17T17:11:37.169Z"
   },
   {
    "duration": 9,
    "start_time": "2022-02-17T17:11:37.182Z"
   },
   {
    "duration": 8,
    "start_time": "2022-02-17T17:11:37.192Z"
   },
   {
    "duration": 15,
    "start_time": "2022-02-17T17:11:37.201Z"
   },
   {
    "duration": 39,
    "start_time": "2022-02-17T17:11:37.218Z"
   },
   {
    "duration": 79,
    "start_time": "2022-02-17T17:11:37.259Z"
   },
   {
    "duration": 340,
    "start_time": "2022-02-17T17:11:37.340Z"
   },
   {
    "duration": 8,
    "start_time": "2022-02-17T17:11:37.681Z"
   },
   {
    "duration": 4055,
    "start_time": "2022-02-17T17:11:37.690Z"
   },
   {
    "duration": 239,
    "start_time": "2022-02-17T17:11:41.747Z"
   },
   {
    "duration": 7,
    "start_time": "2022-02-17T17:11:41.989Z"
   },
   {
    "duration": 3,
    "start_time": "2022-02-17T17:11:41.998Z"
   },
   {
    "duration": 3785,
    "start_time": "2022-02-17T17:11:42.003Z"
   },
   {
    "duration": 267,
    "start_time": "2022-02-17T17:11:45.790Z"
   },
   {
    "duration": 257,
    "start_time": "2022-02-17T17:11:46.059Z"
   },
   {
    "duration": 14,
    "start_time": "2022-02-17T17:11:46.318Z"
   },
   {
    "duration": 11,
    "start_time": "2022-02-17T17:11:46.334Z"
   },
   {
    "duration": 7,
    "start_time": "2022-02-17T17:11:46.347Z"
   },
   {
    "duration": 3949,
    "start_time": "2022-02-17T17:11:46.356Z"
   },
   {
    "duration": 197,
    "start_time": "2022-02-17T17:11:50.306Z"
   },
   {
    "duration": 182,
    "start_time": "2022-02-17T17:11:50.504Z"
   },
   {
    "duration": 8,
    "start_time": "2022-02-17T17:11:50.688Z"
   },
   {
    "duration": 4,
    "start_time": "2022-02-17T17:11:50.698Z"
   },
   {
    "duration": 1463,
    "start_time": "2022-02-17T17:11:50.704Z"
   },
   {
    "duration": 161,
    "start_time": "2022-02-17T17:11:52.171Z"
   },
   {
    "duration": 163,
    "start_time": "2022-02-17T17:11:52.334Z"
   },
   {
    "duration": 10,
    "start_time": "2022-02-17T17:11:52.498Z"
   },
   {
    "duration": 7,
    "start_time": "2022-02-17T17:11:52.510Z"
   },
   {
    "duration": 33,
    "start_time": "2022-02-17T17:11:52.519Z"
   },
   {
    "duration": 4,
    "start_time": "2022-02-17T17:11:52.554Z"
   },
   {
    "duration": 6,
    "start_time": "2022-02-17T17:11:52.560Z"
   },
   {
    "duration": 6,
    "start_time": "2022-02-17T17:11:52.567Z"
   },
   {
    "duration": 8,
    "start_time": "2022-02-17T17:11:52.575Z"
   },
   {
    "duration": 6,
    "start_time": "2022-02-17T17:11:52.584Z"
   },
   {
    "duration": 4888,
    "start_time": "2022-02-17T17:11:52.591Z"
   },
   {
    "duration": 185,
    "start_time": "2022-02-17T17:11:57.481Z"
   },
   {
    "duration": 195,
    "start_time": "2022-02-17T17:11:57.668Z"
   },
   {
    "duration": 155,
    "start_time": "2022-02-17T17:11:57.865Z"
   },
   {
    "duration": 4,
    "start_time": "2022-02-17T17:15:01.139Z"
   },
   {
    "duration": 28,
    "start_time": "2022-02-17T17:15:01.146Z"
   },
   {
    "duration": 13,
    "start_time": "2022-02-17T17:15:01.177Z"
   },
   {
    "duration": 11,
    "start_time": "2022-02-17T17:15:01.193Z"
   },
   {
    "duration": 25,
    "start_time": "2022-02-17T17:15:01.206Z"
   },
   {
    "duration": 5,
    "start_time": "2022-02-17T17:15:01.233Z"
   },
   {
    "duration": 15,
    "start_time": "2022-02-17T17:15:01.241Z"
   },
   {
    "duration": 23,
    "start_time": "2022-02-17T17:15:01.258Z"
   },
   {
    "duration": 364,
    "start_time": "2022-02-17T17:15:01.283Z"
   },
   {
    "duration": 201,
    "start_time": "2022-02-17T17:15:01.649Z"
   },
   {
    "duration": 183,
    "start_time": "2022-02-17T17:15:01.851Z"
   },
   {
    "duration": 174,
    "start_time": "2022-02-17T17:15:02.036Z"
   },
   {
    "duration": 223,
    "start_time": "2022-02-17T17:15:02.212Z"
   },
   {
    "duration": 5,
    "start_time": "2022-02-17T17:15:02.437Z"
   },
   {
    "duration": 6,
    "start_time": "2022-02-17T17:15:02.444Z"
   },
   {
    "duration": 7,
    "start_time": "2022-02-17T17:15:02.452Z"
   },
   {
    "duration": 7,
    "start_time": "2022-02-17T17:15:02.461Z"
   },
   {
    "duration": 6,
    "start_time": "2022-02-17T17:15:02.470Z"
   },
   {
    "duration": 7,
    "start_time": "2022-02-17T17:15:02.479Z"
   },
   {
    "duration": 48,
    "start_time": "2022-02-17T17:15:02.489Z"
   },
   {
    "duration": 6,
    "start_time": "2022-02-17T17:15:02.538Z"
   },
   {
    "duration": 7,
    "start_time": "2022-02-17T17:15:02.546Z"
   },
   {
    "duration": 11,
    "start_time": "2022-02-17T17:15:02.555Z"
   },
   {
    "duration": 7,
    "start_time": "2022-02-17T17:15:02.567Z"
   },
   {
    "duration": 26,
    "start_time": "2022-02-17T17:15:02.575Z"
   },
   {
    "duration": 29,
    "start_time": "2022-02-17T17:15:02.603Z"
   },
   {
    "duration": 4,
    "start_time": "2022-02-17T17:15:02.633Z"
   },
   {
    "duration": 6,
    "start_time": "2022-02-17T17:15:02.639Z"
   },
   {
    "duration": 7,
    "start_time": "2022-02-17T17:15:02.647Z"
   },
   {
    "duration": 8,
    "start_time": "2022-02-17T17:15:02.656Z"
   },
   {
    "duration": 10,
    "start_time": "2022-02-17T17:15:02.666Z"
   },
   {
    "duration": 11,
    "start_time": "2022-02-17T17:15:02.678Z"
   },
   {
    "duration": 11,
    "start_time": "2022-02-17T17:15:02.690Z"
   },
   {
    "duration": 34,
    "start_time": "2022-02-17T17:15:02.702Z"
   },
   {
    "duration": 195,
    "start_time": "2022-02-17T17:15:02.738Z"
   },
   {
    "duration": 98,
    "start_time": "2022-02-17T17:15:02.935Z"
   },
   {
    "duration": 243,
    "start_time": "2022-02-17T17:15:03.036Z"
   },
   {
    "duration": 8,
    "start_time": "2022-02-17T17:15:03.281Z"
   },
   {
    "duration": 4070,
    "start_time": "2022-02-17T17:15:03.291Z"
   },
   {
    "duration": 242,
    "start_time": "2022-02-17T17:15:07.363Z"
   },
   {
    "duration": 8,
    "start_time": "2022-02-17T17:15:07.607Z"
   },
   {
    "duration": 2,
    "start_time": "2022-02-17T17:15:07.617Z"
   },
   {
    "duration": 2689,
    "start_time": "2022-02-17T17:15:07.632Z"
   },
   {
    "duration": 178,
    "start_time": "2022-02-17T17:15:10.323Z"
   },
   {
    "duration": 6,
    "start_time": "2022-02-17T17:15:10.503Z"
   },
   {
    "duration": 183,
    "start_time": "2022-02-17T17:15:10.511Z"
   },
   {
    "duration": 6,
    "start_time": "2022-02-17T17:15:10.696Z"
   },
   {
    "duration": 10,
    "start_time": "2022-02-17T17:15:10.704Z"
   },
   {
    "duration": 20,
    "start_time": "2022-02-17T17:15:10.715Z"
   },
   {
    "duration": 4008,
    "start_time": "2022-02-17T17:15:10.738Z"
   },
   {
    "duration": 250,
    "start_time": "2022-02-17T17:15:14.748Z"
   },
   {
    "duration": 9,
    "start_time": "2022-02-17T17:15:15.001Z"
   },
   {
    "duration": 258,
    "start_time": "2022-02-17T17:15:15.012Z"
   },
   {
    "duration": 10,
    "start_time": "2022-02-17T17:15:15.272Z"
   },
   {
    "duration": 6,
    "start_time": "2022-02-17T17:15:15.287Z"
   },
   {
    "duration": 2084,
    "start_time": "2022-02-17T17:15:15.296Z"
   },
   {
    "duration": 175,
    "start_time": "2022-02-17T17:15:17.383Z"
   },
   {
    "duration": 7,
    "start_time": "2022-02-17T17:15:17.560Z"
   },
   {
    "duration": 182,
    "start_time": "2022-02-17T17:15:17.569Z"
   },
   {
    "duration": 12,
    "start_time": "2022-02-17T17:15:17.753Z"
   },
   {
    "duration": 7,
    "start_time": "2022-02-17T17:15:17.767Z"
   },
   {
    "duration": 26,
    "start_time": "2022-02-17T17:15:17.775Z"
   },
   {
    "duration": 31,
    "start_time": "2022-02-17T17:15:17.803Z"
   },
   {
    "duration": 9,
    "start_time": "2022-02-17T17:15:17.837Z"
   },
   {
    "duration": 7,
    "start_time": "2022-02-17T17:15:17.848Z"
   },
   {
    "duration": 9,
    "start_time": "2022-02-17T17:15:17.857Z"
   },
   {
    "duration": 6,
    "start_time": "2022-02-17T17:15:17.867Z"
   },
   {
    "duration": 4962,
    "start_time": "2022-02-17T17:15:17.874Z"
   },
   {
    "duration": 188,
    "start_time": "2022-02-17T17:15:22.838Z"
   },
   {
    "duration": 186,
    "start_time": "2022-02-17T17:15:23.027Z"
   },
   {
    "duration": 160,
    "start_time": "2022-02-17T17:15:23.215Z"
   },
   {
    "duration": 1254,
    "start_time": "2022-02-17T18:01:12.846Z"
   },
   {
    "duration": 28,
    "start_time": "2022-02-17T18:01:14.102Z"
   },
   {
    "duration": 19,
    "start_time": "2022-02-17T18:01:14.132Z"
   },
   {
    "duration": 11,
    "start_time": "2022-02-17T18:01:14.154Z"
   },
   {
    "duration": 5,
    "start_time": "2022-02-17T18:01:14.167Z"
   },
   {
    "duration": 8,
    "start_time": "2022-02-17T18:01:14.173Z"
   },
   {
    "duration": 10,
    "start_time": "2022-02-17T18:01:14.183Z"
   },
   {
    "duration": 53,
    "start_time": "2022-02-17T18:01:14.195Z"
   },
   {
    "duration": 212,
    "start_time": "2022-02-17T18:01:14.250Z"
   },
   {
    "duration": 191,
    "start_time": "2022-02-17T18:01:14.464Z"
   },
   {
    "duration": 188,
    "start_time": "2022-02-17T18:01:14.657Z"
   },
   {
    "duration": 180,
    "start_time": "2022-02-17T18:01:14.847Z"
   },
   {
    "duration": 291,
    "start_time": "2022-02-17T18:01:15.028Z"
   },
   {
    "duration": 13,
    "start_time": "2022-02-17T18:01:15.320Z"
   },
   {
    "duration": 7,
    "start_time": "2022-02-17T18:01:15.334Z"
   },
   {
    "duration": 12,
    "start_time": "2022-02-17T18:01:15.343Z"
   },
   {
    "duration": 7,
    "start_time": "2022-02-17T18:01:15.357Z"
   },
   {
    "duration": 7,
    "start_time": "2022-02-17T18:01:15.366Z"
   },
   {
    "duration": 9,
    "start_time": "2022-02-17T18:01:15.375Z"
   },
   {
    "duration": 11,
    "start_time": "2022-02-17T18:01:15.385Z"
   },
   {
    "duration": 35,
    "start_time": "2022-02-17T18:01:15.397Z"
   },
   {
    "duration": 6,
    "start_time": "2022-02-17T18:01:15.434Z"
   },
   {
    "duration": 7,
    "start_time": "2022-02-17T18:01:15.444Z"
   },
   {
    "duration": 5,
    "start_time": "2022-02-17T18:01:15.453Z"
   },
   {
    "duration": 26,
    "start_time": "2022-02-17T18:01:15.459Z"
   },
   {
    "duration": 7,
    "start_time": "2022-02-17T18:01:15.487Z"
   },
   {
    "duration": 3,
    "start_time": "2022-02-17T18:01:15.496Z"
   },
   {
    "duration": 4,
    "start_time": "2022-02-17T18:01:15.532Z"
   },
   {
    "duration": 9,
    "start_time": "2022-02-17T18:01:15.538Z"
   },
   {
    "duration": 7,
    "start_time": "2022-02-17T18:01:15.549Z"
   },
   {
    "duration": 12,
    "start_time": "2022-02-17T18:01:15.558Z"
   },
   {
    "duration": 12,
    "start_time": "2022-02-17T18:01:15.571Z"
   },
   {
    "duration": 8,
    "start_time": "2022-02-17T18:01:15.585Z"
   },
   {
    "duration": 14,
    "start_time": "2022-02-17T18:01:15.596Z"
   },
   {
    "duration": 128,
    "start_time": "2022-02-17T18:01:15.612Z"
   },
   {
    "duration": 95,
    "start_time": "2022-02-17T18:01:15.742Z"
   },
   {
    "duration": 403,
    "start_time": "2022-02-17T18:01:15.840Z"
   },
   {
    "duration": 8,
    "start_time": "2022-02-17T18:01:16.245Z"
   },
   {
    "duration": 1477,
    "start_time": "2022-02-17T18:01:16.255Z"
   },
   {
    "duration": 10941,
    "start_time": "2022-02-17T18:01:17.734Z"
   },
   {
    "duration": 27,
    "start_time": "2022-02-17T18:01:28.651Z"
   },
   {
    "duration": 23,
    "start_time": "2022-02-17T18:01:28.656Z"
   },
   {
    "duration": 19,
    "start_time": "2022-02-17T18:01:28.661Z"
   },
   {
    "duration": 17,
    "start_time": "2022-02-17T18:01:28.665Z"
   },
   {
    "duration": 14,
    "start_time": "2022-02-17T18:01:28.669Z"
   },
   {
    "duration": 12,
    "start_time": "2022-02-17T18:01:28.673Z"
   },
   {
    "duration": 4,
    "start_time": "2022-02-17T18:01:28.682Z"
   },
   {
    "duration": 1,
    "start_time": "2022-02-17T18:01:28.686Z"
   },
   {
    "duration": -7,
    "start_time": "2022-02-17T18:01:28.695Z"
   },
   {
    "duration": -14,
    "start_time": "2022-02-17T18:01:28.703Z"
   },
   {
    "duration": -19,
    "start_time": "2022-02-17T18:01:28.710Z"
   },
   {
    "duration": -22,
    "start_time": "2022-02-17T18:01:28.714Z"
   },
   {
    "duration": -26,
    "start_time": "2022-02-17T18:01:28.719Z"
   },
   {
    "duration": -29,
    "start_time": "2022-02-17T18:01:28.723Z"
   },
   {
    "duration": -32,
    "start_time": "2022-02-17T18:01:28.728Z"
   },
   {
    "duration": -35,
    "start_time": "2022-02-17T18:01:28.732Z"
   },
   {
    "duration": -46,
    "start_time": "2022-02-17T18:01:28.745Z"
   },
   {
    "duration": -49,
    "start_time": "2022-02-17T18:01:28.749Z"
   },
   {
    "duration": -52,
    "start_time": "2022-02-17T18:01:28.753Z"
   },
   {
    "duration": -55,
    "start_time": "2022-02-17T18:01:28.757Z"
   },
   {
    "duration": -60,
    "start_time": "2022-02-17T18:01:28.762Z"
   },
   {
    "duration": -63,
    "start_time": "2022-02-17T18:01:28.766Z"
   },
   {
    "duration": -65,
    "start_time": "2022-02-17T18:01:28.769Z"
   },
   {
    "duration": -69,
    "start_time": "2022-02-17T18:01:28.773Z"
   },
   {
    "duration": -73,
    "start_time": "2022-02-17T18:01:28.778Z"
   },
   {
    "duration": -77,
    "start_time": "2022-02-17T18:01:28.783Z"
   },
   {
    "duration": -81,
    "start_time": "2022-02-17T18:01:28.787Z"
   },
   {
    "duration": -91,
    "start_time": "2022-02-17T18:01:28.798Z"
   },
   {
    "duration": -98,
    "start_time": "2022-02-17T18:01:28.806Z"
   },
   {
    "duration": -105,
    "start_time": "2022-02-17T18:01:28.814Z"
   },
   {
    "duration": -112,
    "start_time": "2022-02-17T18:01:28.821Z"
   },
   {
    "duration": -117,
    "start_time": "2022-02-17T18:01:28.827Z"
   },
   {
    "duration": -122,
    "start_time": "2022-02-17T18:01:28.832Z"
   },
   {
    "duration": -124,
    "start_time": "2022-02-17T18:01:28.836Z"
   },
   {
    "duration": 1571,
    "start_time": "2022-02-17T18:03:08.406Z"
   },
   {
    "duration": 34,
    "start_time": "2022-02-17T18:03:09.980Z"
   },
   {
    "duration": 23,
    "start_time": "2022-02-17T18:03:10.017Z"
   },
   {
    "duration": 11,
    "start_time": "2022-02-17T18:03:10.043Z"
   },
   {
    "duration": 4,
    "start_time": "2022-02-17T18:03:10.056Z"
   },
   {
    "duration": 7,
    "start_time": "2022-02-17T18:03:10.062Z"
   },
   {
    "duration": 12,
    "start_time": "2022-02-17T18:03:10.071Z"
   },
   {
    "duration": 53,
    "start_time": "2022-02-17T18:03:10.087Z"
   },
   {
    "duration": 200,
    "start_time": "2022-02-17T18:03:10.143Z"
   },
   {
    "duration": 188,
    "start_time": "2022-02-17T18:03:10.345Z"
   },
   {
    "duration": 176,
    "start_time": "2022-02-17T18:03:10.535Z"
   },
   {
    "duration": 171,
    "start_time": "2022-02-17T18:03:10.713Z"
   },
   {
    "duration": 204,
    "start_time": "2022-02-17T18:03:10.885Z"
   },
   {
    "duration": 4,
    "start_time": "2022-02-17T18:03:11.091Z"
   },
   {
    "duration": 6,
    "start_time": "2022-02-17T18:03:11.097Z"
   },
   {
    "duration": 6,
    "start_time": "2022-02-17T18:03:11.104Z"
   },
   {
    "duration": 22,
    "start_time": "2022-02-17T18:03:11.112Z"
   },
   {
    "duration": 6,
    "start_time": "2022-02-17T18:03:11.135Z"
   },
   {
    "duration": 6,
    "start_time": "2022-02-17T18:03:11.142Z"
   },
   {
    "duration": 8,
    "start_time": "2022-02-17T18:03:11.150Z"
   },
   {
    "duration": 12,
    "start_time": "2022-02-17T18:03:11.160Z"
   },
   {
    "duration": 6,
    "start_time": "2022-02-17T18:03:11.174Z"
   },
   {
    "duration": 8,
    "start_time": "2022-02-17T18:03:11.184Z"
   },
   {
    "duration": 4,
    "start_time": "2022-02-17T18:03:11.194Z"
   },
   {
    "duration": 56,
    "start_time": "2022-02-17T18:03:11.200Z"
   },
   {
    "duration": 8,
    "start_time": "2022-02-17T18:03:11.258Z"
   },
   {
    "duration": 3,
    "start_time": "2022-02-17T18:03:11.268Z"
   },
   {
    "duration": 7,
    "start_time": "2022-02-17T18:03:11.273Z"
   },
   {
    "duration": 8,
    "start_time": "2022-02-17T18:03:11.282Z"
   },
   {
    "duration": 8,
    "start_time": "2022-02-17T18:03:11.292Z"
   },
   {
    "duration": 16,
    "start_time": "2022-02-17T18:03:11.302Z"
   },
   {
    "duration": 6,
    "start_time": "2022-02-17T18:03:11.332Z"
   },
   {
    "duration": 9,
    "start_time": "2022-02-17T18:03:11.340Z"
   },
   {
    "duration": 14,
    "start_time": "2022-02-17T18:03:11.350Z"
   },
   {
    "duration": 166,
    "start_time": "2022-02-17T18:03:11.366Z"
   },
   {
    "duration": 7,
    "start_time": "2022-02-17T18:03:11.534Z"
   },
   {
    "duration": 323,
    "start_time": "2022-02-17T18:03:11.543Z"
   },
   {
    "duration": 5,
    "start_time": "2022-02-17T18:03:11.868Z"
   },
   {
    "duration": 1292,
    "start_time": "2022-02-17T18:03:11.875Z"
   },
   {
    "duration": 80146,
    "start_time": "2022-02-17T18:03:13.169Z"
   },
   {
    "duration": 16,
    "start_time": "2022-02-17T18:04:33.316Z"
   },
   {
    "duration": 158,
    "start_time": "2022-02-17T18:04:33.333Z"
   },
   {
    "duration": 152,
    "start_time": "2022-02-17T18:04:33.493Z"
   },
   {
    "duration": 8,
    "start_time": "2022-02-17T18:04:33.647Z"
   },
   {
    "duration": 3,
    "start_time": "2022-02-17T18:04:33.657Z"
   },
   {
    "duration": 2792,
    "start_time": "2022-02-17T18:04:33.662Z"
   },
   {
    "duration": 193,
    "start_time": "2022-02-17T18:04:36.456Z"
   },
   {
    "duration": 6,
    "start_time": "2022-02-17T18:04:36.651Z"
   },
   {
    "duration": 178,
    "start_time": "2022-02-17T18:04:36.658Z"
   },
   {
    "duration": 6,
    "start_time": "2022-02-17T18:04:36.838Z"
   },
   {
    "duration": 7,
    "start_time": "2022-02-17T18:04:36.846Z"
   },
   {
    "duration": 5,
    "start_time": "2022-02-17T18:04:36.855Z"
   },
   {
    "duration": 3612,
    "start_time": "2022-02-17T18:04:36.861Z"
   },
   {
    "duration": 172,
    "start_time": "2022-02-17T18:04:40.475Z"
   },
   {
    "duration": 6,
    "start_time": "2022-02-17T18:04:40.648Z"
   },
   {
    "duration": 179,
    "start_time": "2022-02-17T18:04:40.656Z"
   },
   {
    "duration": 8,
    "start_time": "2022-02-17T18:04:40.837Z"
   },
   {
    "duration": 5,
    "start_time": "2022-02-17T18:04:40.846Z"
   },
   {
    "duration": 1411,
    "start_time": "2022-02-17T18:04:40.853Z"
   },
   {
    "duration": 160,
    "start_time": "2022-02-17T18:04:42.266Z"
   },
   {
    "duration": 7,
    "start_time": "2022-02-17T18:04:42.428Z"
   },
   {
    "duration": 171,
    "start_time": "2022-02-17T18:04:42.437Z"
   },
   {
    "duration": 10,
    "start_time": "2022-02-17T18:04:42.610Z"
   },
   {
    "duration": 11,
    "start_time": "2022-02-17T18:04:42.621Z"
   },
   {
    "duration": 26,
    "start_time": "2022-02-17T18:04:42.634Z"
   },
   {
    "duration": 6,
    "start_time": "2022-02-17T18:04:42.662Z"
   },
   {
    "duration": 9,
    "start_time": "2022-02-17T18:04:42.670Z"
   },
   {
    "duration": 9,
    "start_time": "2022-02-17T18:04:42.685Z"
   },
   {
    "duration": 13,
    "start_time": "2022-02-17T18:04:42.696Z"
   },
   {
    "duration": 8,
    "start_time": "2022-02-17T18:04:42.732Z"
   },
   {
    "duration": 4874,
    "start_time": "2022-02-17T18:04:42.742Z"
   },
   {
    "duration": 191,
    "start_time": "2022-02-17T18:04:47.618Z"
   },
   {
    "duration": 196,
    "start_time": "2022-02-17T18:04:47.810Z"
   },
   {
    "duration": 252,
    "start_time": "2022-02-17T18:04:48.008Z"
   },
   {
    "duration": 3,
    "start_time": "2022-02-17T18:05:50.243Z"
   },
   {
    "duration": 3904,
    "start_time": "2022-02-17T18:05:50.248Z"
   },
   {
    "duration": 189,
    "start_time": "2022-02-17T18:05:54.153Z"
   },
   {
    "duration": 6,
    "start_time": "2022-02-17T18:05:54.344Z"
   },
   {
    "duration": 191,
    "start_time": "2022-02-17T18:05:54.352Z"
   },
   {
    "duration": 6,
    "start_time": "2022-02-17T18:05:54.545Z"
   },
   {
    "duration": 8,
    "start_time": "2022-02-17T18:05:54.554Z"
   },
   {
    "duration": 6,
    "start_time": "2022-02-17T18:05:54.565Z"
   },
   {
    "duration": 3946,
    "start_time": "2022-02-17T18:05:54.573Z"
   },
   {
    "duration": 192,
    "start_time": "2022-02-17T18:05:58.521Z"
   },
   {
    "duration": 19,
    "start_time": "2022-02-17T18:05:58.715Z"
   },
   {
    "duration": 252,
    "start_time": "2022-02-17T18:05:58.737Z"
   },
   {
    "duration": 9,
    "start_time": "2022-02-17T18:05:58.991Z"
   },
   {
    "duration": 5,
    "start_time": "2022-02-17T18:05:59.002Z"
   },
   {
    "duration": 1472,
    "start_time": "2022-02-17T18:05:59.009Z"
   },
   {
    "duration": 175,
    "start_time": "2022-02-17T18:06:00.482Z"
   },
   {
    "duration": 9,
    "start_time": "2022-02-17T18:06:00.659Z"
   },
   {
    "duration": 191,
    "start_time": "2022-02-17T18:06:00.670Z"
   },
   {
    "duration": 10,
    "start_time": "2022-02-17T18:06:00.864Z"
   },
   {
    "duration": 9,
    "start_time": "2022-02-17T18:06:00.876Z"
   },
   {
    "duration": 24,
    "start_time": "2022-02-17T18:06:00.886Z"
   },
   {
    "duration": 24,
    "start_time": "2022-02-17T18:06:00.912Z"
   },
   {
    "duration": 10,
    "start_time": "2022-02-17T18:06:00.938Z"
   },
   {
    "duration": 9,
    "start_time": "2022-02-17T18:06:00.950Z"
   },
   {
    "duration": 8,
    "start_time": "2022-02-17T18:06:00.961Z"
   },
   {
    "duration": 12,
    "start_time": "2022-02-17T18:06:00.971Z"
   },
   {
    "duration": 5477,
    "start_time": "2022-02-17T18:06:00.985Z"
   },
   {
    "duration": 212,
    "start_time": "2022-02-17T18:06:06.465Z"
   },
   {
    "duration": 203,
    "start_time": "2022-02-17T18:06:06.679Z"
   },
   {
    "duration": 175,
    "start_time": "2022-02-17T18:06:06.884Z"
   },
   {
    "duration": 11,
    "start_time": "2022-02-17T18:47:20.839Z"
   },
   {
    "duration": 3,
    "start_time": "2022-02-17T18:55:43.048Z"
   },
   {
    "duration": 4,
    "start_time": "2022-02-17T19:21:08.488Z"
   },
   {
    "duration": 394,
    "start_time": "2022-02-17T19:22:25.531Z"
   },
   {
    "duration": 443,
    "start_time": "2022-02-17T19:22:57.441Z"
   },
   {
    "duration": 331,
    "start_time": "2022-02-17T19:33:21.503Z"
   },
   {
    "duration": 1655,
    "start_time": "2022-02-17T19:35:57.451Z"
   },
   {
    "duration": 9,
    "start_time": "2022-02-17T19:36:10.674Z"
   },
   {
    "duration": 302,
    "start_time": "2022-02-17T19:37:56.863Z"
   },
   {
    "duration": 11,
    "start_time": "2022-02-17T19:38:10.909Z"
   },
   {
    "duration": 7,
    "start_time": "2022-02-17T19:52:05.626Z"
   },
   {
    "duration": 25,
    "start_time": "2022-02-17T19:55:35.200Z"
   },
   {
    "duration": 1193,
    "start_time": "2022-02-17T20:10:03.546Z"
   },
   {
    "duration": 29,
    "start_time": "2022-02-17T20:10:04.741Z"
   },
   {
    "duration": 16,
    "start_time": "2022-02-17T20:10:04.772Z"
   },
   {
    "duration": 31,
    "start_time": "2022-02-17T20:10:04.790Z"
   },
   {
    "duration": 24,
    "start_time": "2022-02-17T20:10:04.823Z"
   },
   {
    "duration": 21,
    "start_time": "2022-02-17T20:10:04.849Z"
   },
   {
    "duration": 25,
    "start_time": "2022-02-17T20:10:04.872Z"
   },
   {
    "duration": 37,
    "start_time": "2022-02-17T20:10:04.899Z"
   },
   {
    "duration": 188,
    "start_time": "2022-02-17T20:10:04.938Z"
   },
   {
    "duration": 180,
    "start_time": "2022-02-17T20:10:05.131Z"
   },
   {
    "duration": 171,
    "start_time": "2022-02-17T20:10:05.313Z"
   },
   {
    "duration": 183,
    "start_time": "2022-02-17T20:10:05.487Z"
   },
   {
    "duration": 262,
    "start_time": "2022-02-17T20:10:05.671Z"
   },
   {
    "duration": 5,
    "start_time": "2022-02-17T20:10:05.935Z"
   },
   {
    "duration": 5,
    "start_time": "2022-02-17T20:10:05.942Z"
   },
   {
    "duration": 6,
    "start_time": "2022-02-17T20:10:05.949Z"
   },
   {
    "duration": 6,
    "start_time": "2022-02-17T20:10:05.956Z"
   },
   {
    "duration": 5,
    "start_time": "2022-02-17T20:10:05.963Z"
   },
   {
    "duration": 20,
    "start_time": "2022-02-17T20:10:05.970Z"
   },
   {
    "duration": 8,
    "start_time": "2022-02-17T20:10:05.992Z"
   },
   {
    "duration": 10,
    "start_time": "2022-02-17T20:10:06.002Z"
   },
   {
    "duration": 8,
    "start_time": "2022-02-17T20:10:06.014Z"
   },
   {
    "duration": 9,
    "start_time": "2022-02-17T20:10:06.026Z"
   },
   {
    "duration": 5,
    "start_time": "2022-02-17T20:10:06.037Z"
   },
   {
    "duration": 28,
    "start_time": "2022-02-17T20:10:06.043Z"
   },
   {
    "duration": 8,
    "start_time": "2022-02-17T20:10:06.072Z"
   },
   {
    "duration": 5,
    "start_time": "2022-02-17T20:10:06.081Z"
   },
   {
    "duration": 9,
    "start_time": "2022-02-17T20:10:06.087Z"
   },
   {
    "duration": 10,
    "start_time": "2022-02-17T20:10:06.097Z"
   },
   {
    "duration": 9,
    "start_time": "2022-02-17T20:10:06.108Z"
   },
   {
    "duration": 11,
    "start_time": "2022-02-17T20:10:06.118Z"
   },
   {
    "duration": 13,
    "start_time": "2022-02-17T20:10:06.130Z"
   },
   {
    "duration": 7,
    "start_time": "2022-02-17T20:10:06.145Z"
   },
   {
    "duration": 14,
    "start_time": "2022-02-17T20:10:06.154Z"
   },
   {
    "duration": 67,
    "start_time": "2022-02-17T20:10:06.170Z"
   },
   {
    "duration": 7,
    "start_time": "2022-02-17T20:10:06.239Z"
   },
   {
    "duration": 252,
    "start_time": "2022-02-17T20:10:06.333Z"
   },
   {
    "duration": 6,
    "start_time": "2022-02-17T20:10:06.586Z"
   },
   {
    "duration": 1486,
    "start_time": "2022-02-17T20:10:06.593Z"
   },
   {
    "duration": 69022,
    "start_time": "2022-02-17T20:10:08.080Z"
   },
   {
    "duration": 6,
    "start_time": "2022-02-17T20:11:17.103Z"
   },
   {
    "duration": 168,
    "start_time": "2022-02-17T20:11:17.111Z"
   },
   {
    "duration": 154,
    "start_time": "2022-02-17T20:11:17.280Z"
   },
   {
    "duration": 6,
    "start_time": "2022-02-17T20:11:17.436Z"
   },
   {
    "duration": 9,
    "start_time": "2022-02-17T20:11:17.444Z"
   },
   {
    "duration": 3,
    "start_time": "2022-02-17T20:11:17.455Z"
   },
   {
    "duration": 2665,
    "start_time": "2022-02-17T20:11:17.460Z"
   },
   {
    "duration": 184,
    "start_time": "2022-02-17T20:11:20.131Z"
   },
   {
    "duration": 6,
    "start_time": "2022-02-17T20:11:20.316Z"
   },
   {
    "duration": 179,
    "start_time": "2022-02-17T20:11:20.332Z"
   },
   {
    "duration": 19,
    "start_time": "2022-02-17T20:11:20.513Z"
   },
   {
    "duration": 8,
    "start_time": "2022-02-17T20:11:20.534Z"
   },
   {
    "duration": 13,
    "start_time": "2022-02-17T20:11:20.544Z"
   },
   {
    "duration": 3801,
    "start_time": "2022-02-17T20:11:20.558Z"
   },
   {
    "duration": 196,
    "start_time": "2022-02-17T20:11:24.360Z"
   },
   {
    "duration": 5,
    "start_time": "2022-02-17T20:11:24.557Z"
   },
   {
    "duration": 206,
    "start_time": "2022-02-17T20:11:24.564Z"
   },
   {
    "duration": 7,
    "start_time": "2022-02-17T20:11:24.772Z"
   },
   {
    "duration": 10,
    "start_time": "2022-02-17T20:11:24.780Z"
   },
   {
    "duration": 1464,
    "start_time": "2022-02-17T20:11:24.791Z"
   },
   {
    "duration": 199,
    "start_time": "2022-02-17T20:11:26.257Z"
   },
   {
    "duration": 8,
    "start_time": "2022-02-17T20:11:26.459Z"
   },
   {
    "duration": 218,
    "start_time": "2022-02-17T20:11:26.470Z"
   },
   {
    "duration": 512,
    "start_time": "2022-02-17T20:11:26.690Z"
   },
   {
    "duration": 4,
    "start_time": "2022-02-17T20:11:27.204Z"
   },
   {
    "duration": 29,
    "start_time": "2022-02-17T20:11:27.210Z"
   },
   {
    "duration": 5,
    "start_time": "2022-02-17T20:11:27.241Z"
   },
   {
    "duration": 7,
    "start_time": "2022-02-17T20:11:27.251Z"
   },
   {
    "duration": 7,
    "start_time": "2022-02-17T20:11:27.260Z"
   },
   {
    "duration": 8,
    "start_time": "2022-02-17T20:11:27.268Z"
   },
   {
    "duration": 10,
    "start_time": "2022-02-17T20:11:27.277Z"
   },
   {
    "duration": 5087,
    "start_time": "2022-02-17T20:11:27.288Z"
   },
   {
    "duration": 294,
    "start_time": "2022-02-17T20:11:32.377Z"
   },
   {
    "duration": 290,
    "start_time": "2022-02-17T20:11:32.673Z"
   },
   {
    "duration": 160,
    "start_time": "2022-02-17T20:11:32.964Z"
   },
   {
    "duration": 7,
    "start_time": "2022-02-17T20:16:00.072Z"
   },
   {
    "duration": 8,
    "start_time": "2022-02-17T20:17:41.585Z"
   },
   {
    "duration": 9,
    "start_time": "2022-02-17T20:17:52.017Z"
   },
   {
    "duration": 4,
    "start_time": "2022-02-17T20:18:00.718Z"
   },
   {
    "duration": 36,
    "start_time": "2022-02-17T20:18:00.724Z"
   },
   {
    "duration": 13,
    "start_time": "2022-02-17T20:18:00.762Z"
   },
   {
    "duration": 11,
    "start_time": "2022-02-17T20:18:00.777Z"
   },
   {
    "duration": 4,
    "start_time": "2022-02-17T20:18:00.790Z"
   },
   {
    "duration": 11,
    "start_time": "2022-02-17T20:18:00.796Z"
   },
   {
    "duration": 24,
    "start_time": "2022-02-17T20:18:00.809Z"
   },
   {
    "duration": 31,
    "start_time": "2022-02-17T20:18:00.836Z"
   },
   {
    "duration": 353,
    "start_time": "2022-02-17T20:18:00.869Z"
   },
   {
    "duration": 202,
    "start_time": "2022-02-17T20:18:01.232Z"
   },
   {
    "duration": 199,
    "start_time": "2022-02-17T20:18:01.435Z"
   },
   {
    "duration": 255,
    "start_time": "2022-02-17T20:18:01.637Z"
   },
   {
    "duration": 211,
    "start_time": "2022-02-17T20:18:01.894Z"
   },
   {
    "duration": 6,
    "start_time": "2022-02-17T20:18:02.107Z"
   },
   {
    "duration": 20,
    "start_time": "2022-02-17T20:18:02.114Z"
   },
   {
    "duration": 14,
    "start_time": "2022-02-17T20:18:02.135Z"
   },
   {
    "duration": 15,
    "start_time": "2022-02-17T20:18:02.150Z"
   },
   {
    "duration": 13,
    "start_time": "2022-02-17T20:18:02.166Z"
   },
   {
    "duration": 22,
    "start_time": "2022-02-17T20:18:02.183Z"
   },
   {
    "duration": 21,
    "start_time": "2022-02-17T20:18:02.207Z"
   },
   {
    "duration": 24,
    "start_time": "2022-02-17T20:18:02.230Z"
   },
   {
    "duration": 22,
    "start_time": "2022-02-17T20:18:02.256Z"
   },
   {
    "duration": 24,
    "start_time": "2022-02-17T20:18:02.279Z"
   },
   {
    "duration": 7,
    "start_time": "2022-02-17T20:18:02.304Z"
   },
   {
    "duration": 34,
    "start_time": "2022-02-17T20:18:02.312Z"
   },
   {
    "duration": 8,
    "start_time": "2022-02-17T20:18:02.348Z"
   },
   {
    "duration": 14,
    "start_time": "2022-02-17T20:18:02.358Z"
   },
   {
    "duration": 28,
    "start_time": "2022-02-17T20:18:02.373Z"
   },
   {
    "duration": 29,
    "start_time": "2022-02-17T20:18:02.403Z"
   },
   {
    "duration": 22,
    "start_time": "2022-02-17T20:18:02.434Z"
   },
   {
    "duration": 21,
    "start_time": "2022-02-17T20:18:02.458Z"
   },
   {
    "duration": 20,
    "start_time": "2022-02-17T20:18:02.481Z"
   },
   {
    "duration": 29,
    "start_time": "2022-02-17T20:18:02.503Z"
   },
   {
    "duration": 28,
    "start_time": "2022-02-17T20:18:02.534Z"
   },
   {
    "duration": 69,
    "start_time": "2022-02-17T20:18:02.564Z"
   },
   {
    "duration": 7,
    "start_time": "2022-02-17T20:18:02.635Z"
   },
   {
    "duration": 392,
    "start_time": "2022-02-17T20:18:02.644Z"
   },
   {
    "duration": 8,
    "start_time": "2022-02-17T20:18:03.038Z"
   },
   {
    "duration": 1374,
    "start_time": "2022-02-17T20:18:03.047Z"
   },
   {
    "duration": 54989,
    "start_time": "2022-02-17T20:18:04.423Z"
   },
   {
    "duration": 6,
    "start_time": "2022-02-17T20:18:59.414Z"
   },
   {
    "duration": 277,
    "start_time": "2022-02-17T20:18:59.421Z"
   },
   {
    "duration": 214,
    "start_time": "2022-02-17T20:18:59.487Z"
   },
   {
    "duration": 210,
    "start_time": "2022-02-17T20:18:59.492Z"
   },
   {
    "duration": 202,
    "start_time": "2022-02-17T20:18:59.501Z"
   },
   {
    "duration": 199,
    "start_time": "2022-02-17T20:18:59.505Z"
   },
   {
    "duration": 197,
    "start_time": "2022-02-17T20:18:59.508Z"
   },
   {
    "duration": 194,
    "start_time": "2022-02-17T20:18:59.512Z"
   },
   {
    "duration": 191,
    "start_time": "2022-02-17T20:18:59.516Z"
   },
   {
    "duration": 190,
    "start_time": "2022-02-17T20:18:59.519Z"
   },
   {
    "duration": 187,
    "start_time": "2022-02-17T20:18:59.523Z"
   },
   {
    "duration": 184,
    "start_time": "2022-02-17T20:18:59.527Z"
   },
   {
    "duration": 182,
    "start_time": "2022-02-17T20:18:59.530Z"
   },
   {
    "duration": 179,
    "start_time": "2022-02-17T20:18:59.534Z"
   },
   {
    "duration": 177,
    "start_time": "2022-02-17T20:18:59.537Z"
   },
   {
    "duration": 173,
    "start_time": "2022-02-17T20:18:59.541Z"
   },
   {
    "duration": 172,
    "start_time": "2022-02-17T20:18:59.544Z"
   },
   {
    "duration": 169,
    "start_time": "2022-02-17T20:18:59.548Z"
   },
   {
    "duration": 167,
    "start_time": "2022-02-17T20:18:59.551Z"
   },
   {
    "duration": 163,
    "start_time": "2022-02-17T20:18:59.555Z"
   },
   {
    "duration": 160,
    "start_time": "2022-02-17T20:18:59.559Z"
   },
   {
    "duration": 157,
    "start_time": "2022-02-17T20:18:59.563Z"
   },
   {
    "duration": 155,
    "start_time": "2022-02-17T20:18:59.566Z"
   },
   {
    "duration": 143,
    "start_time": "2022-02-17T20:18:59.579Z"
   },
   {
    "duration": 140,
    "start_time": "2022-02-17T20:18:59.583Z"
   },
   {
    "duration": 138,
    "start_time": "2022-02-17T20:18:59.586Z"
   },
   {
    "duration": 135,
    "start_time": "2022-02-17T20:18:59.590Z"
   },
   {
    "duration": 133,
    "start_time": "2022-02-17T20:18:59.593Z"
   },
   {
    "duration": 130,
    "start_time": "2022-02-17T20:18:59.597Z"
   },
   {
    "duration": 127,
    "start_time": "2022-02-17T20:18:59.601Z"
   },
   {
    "duration": 125,
    "start_time": "2022-02-17T20:18:59.604Z"
   },
   {
    "duration": 122,
    "start_time": "2022-02-17T20:18:59.608Z"
   },
   {
    "duration": 120,
    "start_time": "2022-02-17T20:18:59.611Z"
   },
   {
    "duration": 117,
    "start_time": "2022-02-17T20:18:59.615Z"
   },
   {
    "duration": 115,
    "start_time": "2022-02-17T20:18:59.618Z"
   },
   {
    "duration": 5,
    "start_time": "2022-02-17T20:19:03.898Z"
   },
   {
    "duration": 1188,
    "start_time": "2022-02-17T20:19:17.624Z"
   },
   {
    "duration": 32,
    "start_time": "2022-02-17T20:19:18.814Z"
   },
   {
    "duration": 15,
    "start_time": "2022-02-17T20:19:18.848Z"
   },
   {
    "duration": 8,
    "start_time": "2022-02-17T20:19:18.864Z"
   },
   {
    "duration": 4,
    "start_time": "2022-02-17T20:19:18.873Z"
   },
   {
    "duration": 6,
    "start_time": "2022-02-17T20:19:18.879Z"
   },
   {
    "duration": 9,
    "start_time": "2022-02-17T20:19:18.886Z"
   },
   {
    "duration": 53,
    "start_time": "2022-02-17T20:19:18.897Z"
   },
   {
    "duration": 201,
    "start_time": "2022-02-17T20:19:18.952Z"
   },
   {
    "duration": 207,
    "start_time": "2022-02-17T20:19:19.155Z"
   },
   {
    "duration": 178,
    "start_time": "2022-02-17T20:19:19.364Z"
   },
   {
    "duration": 178,
    "start_time": "2022-02-17T20:19:19.544Z"
   },
   {
    "duration": 203,
    "start_time": "2022-02-17T20:19:19.724Z"
   },
   {
    "duration": 5,
    "start_time": "2022-02-17T20:19:19.932Z"
   },
   {
    "duration": 8,
    "start_time": "2022-02-17T20:19:19.939Z"
   },
   {
    "duration": 6,
    "start_time": "2022-02-17T20:19:19.949Z"
   },
   {
    "duration": 7,
    "start_time": "2022-02-17T20:19:19.957Z"
   },
   {
    "duration": 8,
    "start_time": "2022-02-17T20:19:19.965Z"
   },
   {
    "duration": 6,
    "start_time": "2022-02-17T20:19:19.975Z"
   },
   {
    "duration": 18,
    "start_time": "2022-02-17T20:19:19.982Z"
   },
   {
    "duration": 35,
    "start_time": "2022-02-17T20:19:20.002Z"
   },
   {
    "duration": 6,
    "start_time": "2022-02-17T20:19:20.039Z"
   },
   {
    "duration": 11,
    "start_time": "2022-02-17T20:19:20.049Z"
   },
   {
    "duration": 6,
    "start_time": "2022-02-17T20:19:20.063Z"
   },
   {
    "duration": 28,
    "start_time": "2022-02-17T20:19:20.071Z"
   },
   {
    "duration": 32,
    "start_time": "2022-02-17T20:19:20.101Z"
   },
   {
    "duration": 4,
    "start_time": "2022-02-17T20:19:20.135Z"
   },
   {
    "duration": 11,
    "start_time": "2022-02-17T20:19:20.141Z"
   },
   {
    "duration": 16,
    "start_time": "2022-02-17T20:19:20.154Z"
   },
   {
    "duration": 16,
    "start_time": "2022-02-17T20:19:20.172Z"
   },
   {
    "duration": 19,
    "start_time": "2022-02-17T20:19:20.190Z"
   },
   {
    "duration": 22,
    "start_time": "2022-02-17T20:19:20.211Z"
   },
   {
    "duration": 18,
    "start_time": "2022-02-17T20:19:20.235Z"
   },
   {
    "duration": 20,
    "start_time": "2022-02-17T20:19:20.255Z"
   },
   {
    "duration": 61,
    "start_time": "2022-02-17T20:19:20.277Z"
   },
   {
    "duration": 93,
    "start_time": "2022-02-17T20:19:20.342Z"
   },
   {
    "duration": 336,
    "start_time": "2022-02-17T20:19:20.438Z"
   },
   {
    "duration": 6,
    "start_time": "2022-02-17T20:19:20.776Z"
   },
   {
    "duration": 1864,
    "start_time": "2022-02-17T20:19:20.784Z"
   },
   {
    "duration": 79718,
    "start_time": "2022-02-17T20:19:22.649Z"
   },
   {
    "duration": 7,
    "start_time": "2022-02-17T20:20:42.369Z"
   },
   {
    "duration": 173,
    "start_time": "2022-02-17T20:20:42.378Z"
   },
   {
    "duration": 149,
    "start_time": "2022-02-17T20:20:42.553Z"
   },
   {
    "duration": 6,
    "start_time": "2022-02-17T20:20:42.704Z"
   },
   {
    "duration": 20,
    "start_time": "2022-02-17T20:20:42.712Z"
   },
   {
    "duration": 3,
    "start_time": "2022-02-17T20:20:42.734Z"
   },
   {
    "duration": 2596,
    "start_time": "2022-02-17T20:20:42.739Z"
   },
   {
    "duration": 177,
    "start_time": "2022-02-17T20:20:45.336Z"
   },
   {
    "duration": 6,
    "start_time": "2022-02-17T20:20:45.514Z"
   },
   {
    "duration": 190,
    "start_time": "2022-02-17T20:20:45.521Z"
   },
   {
    "duration": 6,
    "start_time": "2022-02-17T20:20:45.713Z"
   },
   {
    "duration": 15,
    "start_time": "2022-02-17T20:20:45.721Z"
   },
   {
    "duration": 5,
    "start_time": "2022-02-17T20:20:45.737Z"
   },
   {
    "duration": 3688,
    "start_time": "2022-02-17T20:20:45.744Z"
   },
   {
    "duration": 189,
    "start_time": "2022-02-17T20:20:49.434Z"
   },
   {
    "duration": 10,
    "start_time": "2022-02-17T20:20:49.625Z"
   },
   {
    "duration": 277,
    "start_time": "2022-02-17T20:20:49.637Z"
   },
   {
    "duration": 18,
    "start_time": "2022-02-17T20:20:49.916Z"
   },
   {
    "duration": 5,
    "start_time": "2022-02-17T20:20:49.936Z"
   },
   {
    "duration": 1403,
    "start_time": "2022-02-17T20:20:49.943Z"
   },
   {
    "duration": 167,
    "start_time": "2022-02-17T20:20:51.348Z"
   },
   {
    "duration": 15,
    "start_time": "2022-02-17T20:20:51.517Z"
   },
   {
    "duration": 163,
    "start_time": "2022-02-17T20:20:51.533Z"
   },
   {
    "duration": 499,
    "start_time": "2022-02-17T20:20:51.698Z"
   },
   {
    "duration": 4,
    "start_time": "2022-02-17T20:20:52.199Z"
   },
   {
    "duration": 43,
    "start_time": "2022-02-17T20:20:52.204Z"
   },
   {
    "duration": 6,
    "start_time": "2022-02-17T20:20:52.249Z"
   },
   {
    "duration": 7,
    "start_time": "2022-02-17T20:20:52.260Z"
   },
   {
    "duration": 6,
    "start_time": "2022-02-17T20:20:52.269Z"
   },
   {
    "duration": 8,
    "start_time": "2022-02-17T20:20:52.277Z"
   },
   {
    "duration": 6,
    "start_time": "2022-02-17T20:20:52.287Z"
   },
   {
    "duration": 5001,
    "start_time": "2022-02-17T20:20:52.331Z"
   },
   {
    "duration": 186,
    "start_time": "2022-02-17T20:20:57.334Z"
   },
   {
    "duration": 196,
    "start_time": "2022-02-17T20:20:57.523Z"
   },
   {
    "duration": 158,
    "start_time": "2022-02-17T20:20:57.721Z"
   },
   {
    "duration": 1248,
    "start_time": "2022-02-18T19:49:03.724Z"
   },
   {
    "duration": 23,
    "start_time": "2022-02-18T19:49:04.974Z"
   },
   {
    "duration": 27,
    "start_time": "2022-02-18T19:49:04.999Z"
   },
   {
    "duration": 11,
    "start_time": "2022-02-18T19:49:05.029Z"
   },
   {
    "duration": 4,
    "start_time": "2022-02-18T19:49:05.042Z"
   },
   {
    "duration": 8,
    "start_time": "2022-02-18T19:49:05.048Z"
   },
   {
    "duration": 12,
    "start_time": "2022-02-18T19:49:05.057Z"
   },
   {
    "duration": 49,
    "start_time": "2022-02-18T19:49:05.071Z"
   },
   {
    "duration": 258,
    "start_time": "2022-02-18T19:49:05.123Z"
   },
   {
    "duration": 236,
    "start_time": "2022-02-18T19:49:05.383Z"
   },
   {
    "duration": 243,
    "start_time": "2022-02-18T19:49:05.621Z"
   },
   {
    "duration": 219,
    "start_time": "2022-02-18T19:49:05.866Z"
   },
   {
    "duration": 251,
    "start_time": "2022-02-18T19:49:06.087Z"
   },
   {
    "duration": 13,
    "start_time": "2022-02-18T19:49:17.579Z"
   },
   {
    "duration": 3,
    "start_time": "2022-02-18T19:57:03.376Z"
   },
   {
    "duration": 24,
    "start_time": "2022-02-18T19:57:03.381Z"
   },
   {
    "duration": 13,
    "start_time": "2022-02-18T19:57:03.407Z"
   },
   {
    "duration": 7,
    "start_time": "2022-02-18T19:57:03.422Z"
   },
   {
    "duration": 3,
    "start_time": "2022-02-18T19:57:03.431Z"
   },
   {
    "duration": 7,
    "start_time": "2022-02-18T19:57:03.436Z"
   },
   {
    "duration": 9,
    "start_time": "2022-02-18T19:57:03.445Z"
   },
   {
    "duration": 20,
    "start_time": "2022-02-18T19:57:03.456Z"
   },
   {
    "duration": 231,
    "start_time": "2022-02-18T19:57:03.477Z"
   },
   {
    "duration": 211,
    "start_time": "2022-02-18T19:57:03.709Z"
   },
   {
    "duration": 198,
    "start_time": "2022-02-18T19:57:03.922Z"
   },
   {
    "duration": 186,
    "start_time": "2022-02-18T19:57:04.122Z"
   },
   {
    "duration": 163,
    "start_time": "2022-02-18T19:57:04.310Z"
   },
   {
    "duration": 4,
    "start_time": "2022-02-18T19:57:04.475Z"
   },
   {
    "duration": 10,
    "start_time": "2022-02-18T19:57:04.481Z"
   },
   {
    "duration": 16,
    "start_time": "2022-02-18T19:57:04.492Z"
   },
   {
    "duration": 14,
    "start_time": "2022-02-18T19:57:04.510Z"
   },
   {
    "duration": 12,
    "start_time": "2022-02-18T19:57:04.526Z"
   },
   {
    "duration": 7,
    "start_time": "2022-02-18T19:57:04.541Z"
   },
   {
    "duration": 9,
    "start_time": "2022-02-18T19:57:04.549Z"
   },
   {
    "duration": 7,
    "start_time": "2022-02-18T19:57:04.560Z"
   },
   {
    "duration": 10,
    "start_time": "2022-02-18T19:57:04.568Z"
   },
   {
    "duration": 10,
    "start_time": "2022-02-18T19:57:04.580Z"
   },
   {
    "duration": 5,
    "start_time": "2022-02-18T19:57:04.618Z"
   },
   {
    "duration": 5,
    "start_time": "2022-02-18T19:57:26.959Z"
   },
   {
    "duration": 26,
    "start_time": "2022-02-18T19:57:30.906Z"
   },
   {
    "duration": 5,
    "start_time": "2022-02-18T19:57:34.923Z"
   },
   {
    "duration": 6,
    "start_time": "2022-02-18T19:58:31.147Z"
   },
   {
    "duration": 4,
    "start_time": "2022-02-18T19:58:39.480Z"
   },
   {
    "duration": 35,
    "start_time": "2022-02-18T19:58:39.486Z"
   },
   {
    "duration": 14,
    "start_time": "2022-02-18T19:58:39.523Z"
   },
   {
    "duration": 14,
    "start_time": "2022-02-18T19:58:39.540Z"
   },
   {
    "duration": 5,
    "start_time": "2022-02-18T19:58:39.556Z"
   },
   {
    "duration": 7,
    "start_time": "2022-02-18T19:58:39.562Z"
   },
   {
    "duration": 11,
    "start_time": "2022-02-18T19:58:39.571Z"
   },
   {
    "duration": 50,
    "start_time": "2022-02-18T19:58:39.584Z"
   },
   {
    "duration": 220,
    "start_time": "2022-02-18T19:58:39.636Z"
   },
   {
    "duration": 211,
    "start_time": "2022-02-18T19:58:39.857Z"
   },
   {
    "duration": 192,
    "start_time": "2022-02-18T19:58:40.069Z"
   },
   {
    "duration": 197,
    "start_time": "2022-02-18T19:58:40.263Z"
   },
   {
    "duration": 154,
    "start_time": "2022-02-18T19:58:40.461Z"
   },
   {
    "duration": 5,
    "start_time": "2022-02-18T19:58:40.618Z"
   },
   {
    "duration": 6,
    "start_time": "2022-02-18T19:58:40.624Z"
   },
   {
    "duration": 7,
    "start_time": "2022-02-18T19:58:40.632Z"
   },
   {
    "duration": 5,
    "start_time": "2022-02-18T19:58:40.640Z"
   },
   {
    "duration": 8,
    "start_time": "2022-02-18T19:58:40.647Z"
   },
   {
    "duration": 7,
    "start_time": "2022-02-18T19:58:40.657Z"
   },
   {
    "duration": 7,
    "start_time": "2022-02-18T19:58:40.666Z"
   },
   {
    "duration": 5,
    "start_time": "2022-02-18T19:58:40.675Z"
   },
   {
    "duration": 42,
    "start_time": "2022-02-18T19:58:40.681Z"
   },
   {
    "duration": 8,
    "start_time": "2022-02-18T19:58:40.724Z"
   },
   {
    "duration": 4,
    "start_time": "2022-02-18T19:58:40.733Z"
   },
   {
    "duration": 6,
    "start_time": "2022-02-18T19:58:46.594Z"
   },
   {
    "duration": 24,
    "start_time": "2022-02-18T19:58:49.628Z"
   },
   {
    "duration": 7,
    "start_time": "2022-02-18T19:58:55.194Z"
   },
   {
    "duration": 1360,
    "start_time": "2022-02-18T20:38:07.583Z"
   },
   {
    "duration": 25,
    "start_time": "2022-02-18T20:38:08.945Z"
   },
   {
    "duration": 18,
    "start_time": "2022-02-18T20:38:08.973Z"
   },
   {
    "duration": 11,
    "start_time": "2022-02-18T20:38:09.006Z"
   },
   {
    "duration": 5,
    "start_time": "2022-02-18T20:38:09.019Z"
   },
   {
    "duration": 12,
    "start_time": "2022-02-18T20:38:09.026Z"
   },
   {
    "duration": 14,
    "start_time": "2022-02-18T20:38:09.040Z"
   },
   {
    "duration": 24,
    "start_time": "2022-02-18T20:38:09.057Z"
   },
   {
    "duration": 234,
    "start_time": "2022-02-18T20:38:09.107Z"
   },
   {
    "duration": 233,
    "start_time": "2022-02-18T20:38:09.342Z"
   },
   {
    "duration": 216,
    "start_time": "2022-02-18T20:38:09.577Z"
   },
   {
    "duration": 220,
    "start_time": "2022-02-18T20:38:09.795Z"
   },
   {
    "duration": 232,
    "start_time": "2022-02-18T20:38:10.017Z"
   },
   {
    "duration": 4,
    "start_time": "2022-02-18T20:38:10.251Z"
   },
   {
    "duration": 8,
    "start_time": "2022-02-18T20:38:10.257Z"
   },
   {
    "duration": 11,
    "start_time": "2022-02-18T20:38:10.268Z"
   },
   {
    "duration": 6,
    "start_time": "2022-02-18T20:38:10.281Z"
   },
   {
    "duration": 24,
    "start_time": "2022-02-18T20:38:10.289Z"
   },
   {
    "duration": 9,
    "start_time": "2022-02-18T20:38:10.315Z"
   },
   {
    "duration": 9,
    "start_time": "2022-02-18T20:38:10.326Z"
   },
   {
    "duration": 10,
    "start_time": "2022-02-18T20:38:10.337Z"
   },
   {
    "duration": 11,
    "start_time": "2022-02-18T20:38:10.349Z"
   },
   {
    "duration": 8,
    "start_time": "2022-02-18T20:38:10.364Z"
   },
   {
    "duration": 36,
    "start_time": "2022-02-18T20:38:10.375Z"
   },
   {
    "duration": 15,
    "start_time": "2022-02-18T20:38:10.413Z"
   },
   {
    "duration": 21,
    "start_time": "2022-02-18T20:38:10.430Z"
   },
   {
    "duration": 47,
    "start_time": "2022-02-18T20:38:10.453Z"
   },
   {
    "duration": 25,
    "start_time": "2022-02-18T20:38:10.502Z"
   },
   {
    "duration": 31,
    "start_time": "2022-02-18T20:38:10.529Z"
   },
   {
    "duration": 20,
    "start_time": "2022-02-18T20:38:10.562Z"
   },
   {
    "duration": 37,
    "start_time": "2022-02-18T20:38:10.584Z"
   },
   {
    "duration": 17,
    "start_time": "2022-02-18T20:38:10.624Z"
   },
   {
    "duration": 26,
    "start_time": "2022-02-18T20:38:10.643Z"
   },
   {
    "duration": 32,
    "start_time": "2022-02-18T20:38:10.671Z"
   },
   {
    "duration": 104,
    "start_time": "2022-02-18T20:38:10.704Z"
   },
   {
    "duration": 100,
    "start_time": "2022-02-18T20:38:10.810Z"
   },
   {
    "duration": 369,
    "start_time": "2022-02-18T20:38:10.913Z"
   },
   {
    "duration": 7,
    "start_time": "2022-02-18T20:38:11.284Z"
   },
   {
    "duration": 1674,
    "start_time": "2022-02-18T20:38:11.293Z"
   },
   {
    "duration": 84462,
    "start_time": "2022-02-18T20:38:12.969Z"
   },
   {
    "duration": 5,
    "start_time": "2022-02-18T20:39:37.433Z"
   },
   {
    "duration": 3343,
    "start_time": "2022-02-18T20:39:37.440Z"
   },
   {
    "duration": 7,
    "start_time": "2022-02-18T20:39:40.785Z"
   },
   {
    "duration": 207,
    "start_time": "2022-02-18T20:39:40.794Z"
   },
   {
    "duration": 199,
    "start_time": "2022-02-18T20:39:41.003Z"
   },
   {
    "duration": 8,
    "start_time": "2022-02-18T20:39:41.208Z"
   },
   {
    "duration": 15,
    "start_time": "2022-02-18T20:39:41.218Z"
   },
   {
    "duration": 3,
    "start_time": "2022-02-18T20:39:41.236Z"
   },
   {
    "duration": 3268,
    "start_time": "2022-02-18T20:39:41.241Z"
   },
   {
    "duration": 224,
    "start_time": "2022-02-18T20:39:44.511Z"
   },
   {
    "duration": 9,
    "start_time": "2022-02-18T20:39:44.738Z"
   },
   {
    "duration": 228,
    "start_time": "2022-02-18T20:39:44.749Z"
   },
   {
    "duration": 8,
    "start_time": "2022-02-18T20:39:44.980Z"
   },
   {
    "duration": 26,
    "start_time": "2022-02-18T20:39:44.989Z"
   },
   {
    "duration": 41,
    "start_time": "2022-02-18T20:39:45.017Z"
   },
   {
    "duration": 4605,
    "start_time": "2022-02-18T20:39:45.060Z"
   },
   {
    "duration": 221,
    "start_time": "2022-02-18T20:39:49.667Z"
   },
   {
    "duration": 7,
    "start_time": "2022-02-18T20:39:49.890Z"
   },
   {
    "duration": 211,
    "start_time": "2022-02-18T20:39:49.907Z"
   },
   {
    "duration": 10,
    "start_time": "2022-02-18T20:39:50.120Z"
   },
   {
    "duration": 7,
    "start_time": "2022-02-18T20:39:50.132Z"
   },
   {
    "duration": 1687,
    "start_time": "2022-02-18T20:39:50.141Z"
   },
   {
    "duration": 200,
    "start_time": "2022-02-18T20:39:51.829Z"
   },
   {
    "duration": 7,
    "start_time": "2022-02-18T20:39:52.031Z"
   },
   {
    "duration": 218,
    "start_time": "2022-02-18T20:39:52.040Z"
   },
   {
    "duration": 1119,
    "start_time": "2022-02-18T20:39:52.260Z"
   },
   {
    "duration": 5,
    "start_time": "2022-02-18T20:39:53.382Z"
   },
   {
    "duration": 41,
    "start_time": "2022-02-18T20:39:53.393Z"
   },
   {
    "duration": 7,
    "start_time": "2022-02-18T20:39:53.436Z"
   },
   {
    "duration": 20,
    "start_time": "2022-02-18T20:39:53.445Z"
   },
   {
    "duration": 14,
    "start_time": "2022-02-18T20:39:53.467Z"
   },
   {
    "duration": 17,
    "start_time": "2022-02-18T20:39:53.484Z"
   },
   {
    "duration": 8,
    "start_time": "2022-02-18T20:39:53.503Z"
   },
   {
    "duration": 6426,
    "start_time": "2022-02-18T20:39:53.513Z"
   },
   {
    "duration": 243,
    "start_time": "2022-02-18T20:39:59.942Z"
   },
   {
    "duration": 238,
    "start_time": "2022-02-18T20:40:00.187Z"
   },
   {
    "duration": 199,
    "start_time": "2022-02-18T20:40:00.427Z"
   },
   {
    "duration": 4,
    "start_time": "2022-02-18T20:41:07.285Z"
   },
   {
    "duration": 57,
    "start_time": "2022-02-18T20:41:07.291Z"
   },
   {
    "duration": 18,
    "start_time": "2022-02-18T20:41:07.350Z"
   },
   {
    "duration": 25,
    "start_time": "2022-02-18T20:41:07.370Z"
   },
   {
    "duration": 24,
    "start_time": "2022-02-18T20:41:07.397Z"
   },
   {
    "duration": 23,
    "start_time": "2022-02-18T20:41:07.423Z"
   },
   {
    "duration": 16,
    "start_time": "2022-02-18T20:41:07.449Z"
   },
   {
    "duration": 33,
    "start_time": "2022-02-18T20:41:07.467Z"
   },
   {
    "duration": 235,
    "start_time": "2022-02-18T20:41:07.507Z"
   },
   {
    "duration": 263,
    "start_time": "2022-02-18T20:41:07.744Z"
   },
   {
    "duration": 207,
    "start_time": "2022-02-18T20:41:08.009Z"
   },
   {
    "duration": 291,
    "start_time": "2022-02-18T20:41:08.218Z"
   },
   {
    "duration": 169,
    "start_time": "2022-02-18T20:41:08.512Z"
   },
   {
    "duration": 5,
    "start_time": "2022-02-18T20:41:08.683Z"
   },
   {
    "duration": 17,
    "start_time": "2022-02-18T20:41:08.690Z"
   },
   {
    "duration": 14,
    "start_time": "2022-02-18T20:41:08.710Z"
   },
   {
    "duration": 14,
    "start_time": "2022-02-18T20:41:08.726Z"
   },
   {
    "duration": 10,
    "start_time": "2022-02-18T20:41:08.742Z"
   },
   {
    "duration": 7,
    "start_time": "2022-02-18T20:41:08.757Z"
   },
   {
    "duration": 8,
    "start_time": "2022-02-18T20:41:08.766Z"
   },
   {
    "duration": 33,
    "start_time": "2022-02-18T20:41:08.776Z"
   },
   {
    "duration": 20,
    "start_time": "2022-02-18T20:41:08.811Z"
   },
   {
    "duration": 13,
    "start_time": "2022-02-18T20:41:08.833Z"
   },
   {
    "duration": 10,
    "start_time": "2022-02-18T20:41:08.848Z"
   },
   {
    "duration": 10,
    "start_time": "2022-02-18T20:41:08.860Z"
   },
   {
    "duration": 14,
    "start_time": "2022-02-18T20:41:08.872Z"
   },
   {
    "duration": 8,
    "start_time": "2022-02-18T20:41:08.888Z"
   },
   {
    "duration": 12,
    "start_time": "2022-02-18T20:41:08.897Z"
   },
   {
    "duration": 12,
    "start_time": "2022-02-18T20:41:08.911Z"
   },
   {
    "duration": 10,
    "start_time": "2022-02-18T20:41:08.925Z"
   },
   {
    "duration": 19,
    "start_time": "2022-02-18T20:41:08.937Z"
   },
   {
    "duration": 15,
    "start_time": "2022-02-18T20:41:08.959Z"
   },
   {
    "duration": 19,
    "start_time": "2022-02-18T20:41:08.976Z"
   },
   {
    "duration": 16,
    "start_time": "2022-02-18T20:41:08.997Z"
   },
   {
    "duration": 93,
    "start_time": "2022-02-18T20:41:09.015Z"
   },
   {
    "duration": 99,
    "start_time": "2022-02-18T20:41:09.111Z"
   },
   {
    "duration": 290,
    "start_time": "2022-02-18T20:41:09.214Z"
   },
   {
    "duration": 8,
    "start_time": "2022-02-18T20:41:09.506Z"
   },
   {
    "duration": 1805,
    "start_time": "2022-02-18T20:41:09.516Z"
   },
   {
    "duration": 90024,
    "start_time": "2022-02-18T20:41:11.323Z"
   },
   {
    "duration": 5,
    "start_time": "2022-02-18T20:42:41.349Z"
   },
   {
    "duration": 3528,
    "start_time": "2022-02-18T20:42:41.356Z"
   },
   {
    "duration": 8,
    "start_time": "2022-02-18T20:42:44.887Z"
   },
   {
    "duration": 223,
    "start_time": "2022-02-18T20:42:44.896Z"
   },
   {
    "duration": 198,
    "start_time": "2022-02-18T20:42:45.121Z"
   },
   {
    "duration": 6,
    "start_time": "2022-02-18T20:42:45.321Z"
   },
   {
    "duration": 14,
    "start_time": "2022-02-18T20:42:45.329Z"
   },
   {
    "duration": 4,
    "start_time": "2022-02-18T20:42:45.345Z"
   },
   {
    "duration": 3477,
    "start_time": "2022-02-18T20:42:45.351Z"
   },
   {
    "duration": 213,
    "start_time": "2022-02-18T20:42:48.829Z"
   },
   {
    "duration": 8,
    "start_time": "2022-02-18T20:42:49.044Z"
   },
   {
    "duration": 223,
    "start_time": "2022-02-18T20:42:49.054Z"
   },
   {
    "duration": 9,
    "start_time": "2022-02-18T20:42:49.280Z"
   },
   {
    "duration": 36,
    "start_time": "2022-02-18T20:42:49.291Z"
   },
   {
    "duration": 11,
    "start_time": "2022-02-18T20:42:49.333Z"
   },
   {
    "duration": 4633,
    "start_time": "2022-02-18T20:42:49.347Z"
   },
   {
    "duration": 227,
    "start_time": "2022-02-18T20:42:53.982Z"
   },
   {
    "duration": 7,
    "start_time": "2022-02-18T20:42:54.212Z"
   },
   {
    "duration": 232,
    "start_time": "2022-02-18T20:42:54.221Z"
   },
   {
    "duration": 9,
    "start_time": "2022-02-18T20:42:54.455Z"
   },
   {
    "duration": 12,
    "start_time": "2022-02-18T20:42:54.466Z"
   },
   {
    "duration": 1699,
    "start_time": "2022-02-18T20:42:54.481Z"
   },
   {
    "duration": 194,
    "start_time": "2022-02-18T20:42:56.182Z"
   },
   {
    "duration": 8,
    "start_time": "2022-02-18T20:42:56.378Z"
   },
   {
    "duration": 202,
    "start_time": "2022-02-18T20:42:56.388Z"
   },
   {
    "duration": 21,
    "start_time": "2022-02-18T20:42:56.592Z"
   },
   {
    "duration": 6,
    "start_time": "2022-02-18T20:42:56.616Z"
   },
   {
    "duration": 31,
    "start_time": "2022-02-18T20:42:56.624Z"
   },
   {
    "duration": 8,
    "start_time": "2022-02-18T20:42:56.657Z"
   },
   {
    "duration": 41,
    "start_time": "2022-02-18T20:42:56.667Z"
   },
   {
    "duration": 9,
    "start_time": "2022-02-18T20:42:56.711Z"
   },
   {
    "duration": 11,
    "start_time": "2022-02-18T20:42:56.723Z"
   },
   {
    "duration": 7,
    "start_time": "2022-02-18T20:42:56.736Z"
   },
   {
    "duration": 6229,
    "start_time": "2022-02-18T20:42:56.745Z"
   },
   {
    "duration": 223,
    "start_time": "2022-02-18T20:43:02.976Z"
   },
   {
    "duration": 225,
    "start_time": "2022-02-18T20:43:03.201Z"
   },
   {
    "duration": 202,
    "start_time": "2022-02-18T20:43:03.428Z"
   },
   {
    "duration": 1340,
    "start_time": "2022-02-18T20:54:48.504Z"
   },
   {
    "duration": 26,
    "start_time": "2022-02-18T20:54:49.847Z"
   },
   {
    "duration": 18,
    "start_time": "2022-02-18T20:54:49.875Z"
   },
   {
    "duration": 19,
    "start_time": "2022-02-18T20:54:49.895Z"
   },
   {
    "duration": 5,
    "start_time": "2022-02-18T20:54:49.917Z"
   },
   {
    "duration": 9,
    "start_time": "2022-02-18T20:54:49.924Z"
   },
   {
    "duration": 13,
    "start_time": "2022-02-18T20:54:49.935Z"
   },
   {
    "duration": 28,
    "start_time": "2022-02-18T20:54:49.951Z"
   },
   {
    "duration": 242,
    "start_time": "2022-02-18T20:54:50.008Z"
   },
   {
    "duration": 222,
    "start_time": "2022-02-18T20:54:50.252Z"
   },
   {
    "duration": 210,
    "start_time": "2022-02-18T20:54:50.476Z"
   },
   {
    "duration": 198,
    "start_time": "2022-02-18T20:54:50.688Z"
   },
   {
    "duration": 247,
    "start_time": "2022-02-18T20:54:50.888Z"
   },
   {
    "duration": 5,
    "start_time": "2022-02-18T20:54:51.137Z"
   },
   {
    "duration": 9,
    "start_time": "2022-02-18T20:54:51.144Z"
   },
   {
    "duration": 8,
    "start_time": "2022-02-18T20:54:51.155Z"
   },
   {
    "duration": 11,
    "start_time": "2022-02-18T20:54:51.164Z"
   },
   {
    "duration": 34,
    "start_time": "2022-02-18T20:54:51.177Z"
   },
   {
    "duration": 13,
    "start_time": "2022-02-18T20:54:51.213Z"
   },
   {
    "duration": 15,
    "start_time": "2022-02-18T20:54:51.228Z"
   },
   {
    "duration": 15,
    "start_time": "2022-02-18T20:54:51.245Z"
   },
   {
    "duration": 8,
    "start_time": "2022-02-18T20:54:51.262Z"
   },
   {
    "duration": 9,
    "start_time": "2022-02-18T20:54:51.274Z"
   },
   {
    "duration": 6,
    "start_time": "2022-02-18T20:54:51.307Z"
   },
   {
    "duration": 5,
    "start_time": "2022-02-18T20:54:51.315Z"
   },
   {
    "duration": 17,
    "start_time": "2022-02-18T20:54:51.322Z"
   },
   {
    "duration": 90,
    "start_time": "2022-02-18T20:54:51.341Z"
   },
   {
    "duration": 12,
    "start_time": "2022-02-18T20:54:51.433Z"
   },
   {
    "duration": 11,
    "start_time": "2022-02-18T20:54:51.447Z"
   },
   {
    "duration": 13,
    "start_time": "2022-02-18T20:54:51.460Z"
   },
   {
    "duration": 22,
    "start_time": "2022-02-18T20:54:51.475Z"
   },
   {
    "duration": 12,
    "start_time": "2022-02-18T20:54:51.499Z"
   },
   {
    "duration": 15,
    "start_time": "2022-02-18T20:54:51.513Z"
   },
   {
    "duration": 15,
    "start_time": "2022-02-18T20:54:51.530Z"
   },
   {
    "duration": 64,
    "start_time": "2022-02-18T20:54:51.547Z"
   },
   {
    "duration": 195,
    "start_time": "2022-02-18T20:54:51.613Z"
   },
   {
    "duration": 272,
    "start_time": "2022-02-18T20:54:51.810Z"
   },
   {
    "duration": 7,
    "start_time": "2022-02-18T20:54:52.084Z"
   },
   {
    "duration": 1640,
    "start_time": "2022-02-18T20:54:52.108Z"
   },
   {
    "duration": 88460,
    "start_time": "2022-02-18T20:54:53.750Z"
   },
   {
    "duration": 4,
    "start_time": "2022-02-18T20:56:22.212Z"
   },
   {
    "duration": 3554,
    "start_time": "2022-02-18T20:56:22.217Z"
   },
   {
    "duration": 8,
    "start_time": "2022-02-18T20:56:25.773Z"
   },
   {
    "duration": 224,
    "start_time": "2022-02-18T20:56:25.783Z"
   },
   {
    "duration": 184,
    "start_time": "2022-02-18T20:56:26.009Z"
   },
   {
    "duration": 13,
    "start_time": "2022-02-18T20:56:26.195Z"
   },
   {
    "duration": 12,
    "start_time": "2022-02-18T20:56:26.210Z"
   },
   {
    "duration": 3,
    "start_time": "2022-02-18T20:56:26.224Z"
   },
   {
    "duration": 3126,
    "start_time": "2022-02-18T20:56:26.229Z"
   },
   {
    "duration": 203,
    "start_time": "2022-02-18T20:56:29.357Z"
   },
   {
    "duration": 7,
    "start_time": "2022-02-18T20:56:29.562Z"
   },
   {
    "duration": 222,
    "start_time": "2022-02-18T20:56:29.571Z"
   },
   {
    "duration": 13,
    "start_time": "2022-02-18T20:56:29.795Z"
   },
   {
    "duration": 12,
    "start_time": "2022-02-18T20:56:29.809Z"
   },
   {
    "duration": 26,
    "start_time": "2022-02-18T20:56:29.823Z"
   },
   {
    "duration": 4806,
    "start_time": "2022-02-18T20:56:29.851Z"
   },
   {
    "duration": 330,
    "start_time": "2022-02-18T20:56:34.660Z"
   },
   {
    "duration": 21,
    "start_time": "2022-02-18T20:56:35.002Z"
   },
   {
    "duration": 303,
    "start_time": "2022-02-18T20:56:35.025Z"
   },
   {
    "duration": 11,
    "start_time": "2022-02-18T20:56:35.330Z"
   },
   {
    "duration": 7,
    "start_time": "2022-02-18T20:56:35.342Z"
   },
   {
    "duration": 1912,
    "start_time": "2022-02-18T20:56:35.351Z"
   },
   {
    "duration": 208,
    "start_time": "2022-02-18T20:56:37.265Z"
   },
   {
    "duration": 8,
    "start_time": "2022-02-18T20:56:37.475Z"
   },
   {
    "duration": 226,
    "start_time": "2022-02-18T20:56:37.485Z"
   },
   {
    "duration": 897,
    "start_time": "2022-02-18T20:56:37.713Z"
   },
   {
    "duration": 19,
    "start_time": "2022-02-18T20:56:38.613Z"
   },
   {
    "duration": 33,
    "start_time": "2022-02-18T20:56:38.639Z"
   },
   {
    "duration": 7,
    "start_time": "2022-02-18T20:56:38.674Z"
   },
   {
    "duration": 27,
    "start_time": "2022-02-18T20:56:38.683Z"
   },
   {
    "duration": 9,
    "start_time": "2022-02-18T20:56:38.712Z"
   },
   {
    "duration": 28,
    "start_time": "2022-02-18T20:56:38.724Z"
   },
   {
    "duration": 9,
    "start_time": "2022-02-18T20:56:38.754Z"
   },
   {
    "duration": 6626,
    "start_time": "2022-02-18T20:56:38.766Z"
   },
   {
    "duration": 241,
    "start_time": "2022-02-18T20:56:45.394Z"
   },
   {
    "duration": 242,
    "start_time": "2022-02-18T20:56:45.637Z"
   },
   {
    "duration": 195,
    "start_time": "2022-02-18T20:56:45.881Z"
   }
  ],
  "kernelspec": {
   "display_name": "Python 3",
   "language": "python",
   "name": "python3"
  },
  "language_info": {
   "codemirror_mode": {
    "name": "ipython",
    "version": 3
   },
   "file_extension": ".py",
   "mimetype": "text/x-python",
   "name": "python",
   "nbconvert_exporter": "python",
   "pygments_lexer": "ipython3",
   "version": "3.8.8"
  },
  "toc": {
   "base_numbering": 1,
   "nav_menu": {},
   "number_sections": true,
   "sideBar": true,
   "skip_h1_title": true,
   "title_cell": "Содержание",
   "title_sidebar": "Contents",
   "toc_cell": true,
   "toc_position": {
    "height": "calc(100% - 180px)",
    "left": "10px",
    "top": "150px",
    "width": "366.391px"
   },
   "toc_section_display": true,
   "toc_window_display": true
  }
 },
 "nbformat": 4,
 "nbformat_minor": 2
}
