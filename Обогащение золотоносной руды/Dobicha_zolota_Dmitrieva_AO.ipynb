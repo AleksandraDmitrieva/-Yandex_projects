{
 "cells": [
  {
   "cell_type": "markdown",
   "metadata": {},
   "source": [
    "# Восстановление золота из руды"
   ]
  },
  {
   "cell_type": "markdown",
   "metadata": {},
   "source": [
    "Подготовьте прототип модели машинного обучения для «Цифры». Компания разрабатывает решения для эффективной работы промышленных предприятий.\n",
    "\n",
    "Модель должна предсказать коэффициент восстановления золота из золотосодержащей руды. Используйте данные с параметрами добычи и очистки. \n",
    "\n",
    "Модель поможет оптимизировать производство, чтобы не запускать предприятие с убыточными характеристиками.\n",
    "\n",
    "Вам нужно:\n",
    "\n",
    "1. Подготовить данные;\n",
    "2. Провести исследовательский анализ данных;\n",
    "3. Построить и обучить модель.\n",
    "\n",
    "Чтобы выполнить проект, обращайтесь к библиотекам *pandas*, *matplotlib* и *sklearn.* Вам поможет их документация."
   ]
  },
  {
   "cell_type": "markdown",
   "metadata": {},
   "source": [
    "## Подготовка данных"
   ]
  },
  {
   "cell_type": "code",
   "execution_count": 1,
   "metadata": {},
   "outputs": [],
   "source": [
    "# импорт необходимых библиотек\n",
    "import pandas as pd\n",
    "import numpy as np\n",
    "import matplotlib.pyplot as plt\n",
    "import seaborn as sns\n",
    "import math\n",
    "from sklearn.metrics import make_scorer, mean_absolute_error\n",
    "from sklearn.model_selection import train_test_split, cross_val_score, GridSearchCV\n",
    "from sklearn.linear_model import LinearRegression\n",
    "from sklearn.ensemble import RandomForestRegressor"
   ]
  },
  {
   "cell_type": "markdown",
   "metadata": {},
   "source": [
    "### Открываем файлы и изучаем их"
   ]
  },
  {
   "cell_type": "code",
   "execution_count": 2,
   "metadata": {},
   "outputs": [],
   "source": [
    "# чтение файлов с данными\n",
    "data_train = pd.read_csv('/datasets/gold_recovery_train_new.csv')\n",
    "data_test = pd.read_csv('/datasets/gold_recovery_test_new.csv')\n",
    "data_full = pd.read_csv('/datasets/gold_recovery_full_new.csv')"
   ]
  },
  {
   "cell_type": "code",
   "execution_count": 3,
   "metadata": {},
   "outputs": [],
   "source": [
    "#подготовка функции для получения общей информации о таблице\n",
    "def data_info(data):\n",
    "    display(\"Первые строки таблицы\")\n",
    "    display(data.head(3)) \n",
    "    display(\"---------------------------------------------------------\")\n",
    "    display(\"Tип данных и количество значений столбцов\")\n",
    "    display(data.info())\n",
    "    display(\"---------------------------------------------------------\")\n",
    "    display(\"Доля пропущенных значений\")\n",
    "    display(data.isna().mean().sort_values(ascending=False))\n",
    "    display(\"---------------------------------------------------------\")\n",
    "    display('Подсчет дубликатов')\n",
    "    display(data.duplicated().sum())"
   ]
  },
  {
   "cell_type": "code",
   "execution_count": 4,
   "metadata": {
    "scrolled": true
   },
   "outputs": [
    {
     "data": {
      "text/plain": [
       "'Первые строки таблицы'"
      ]
     },
     "metadata": {},
     "output_type": "display_data"
    },
    {
     "data": {
      "text/html": [
       "<div>\n",
       "<style scoped>\n",
       "    .dataframe tbody tr th:only-of-type {\n",
       "        vertical-align: middle;\n",
       "    }\n",
       "\n",
       "    .dataframe tbody tr th {\n",
       "        vertical-align: top;\n",
       "    }\n",
       "\n",
       "    .dataframe thead th {\n",
       "        text-align: right;\n",
       "    }\n",
       "</style>\n",
       "<table border=\"1\" class=\"dataframe\">\n",
       "  <thead>\n",
       "    <tr style=\"text-align: right;\">\n",
       "      <th></th>\n",
       "      <th>date</th>\n",
       "      <th>final.output.concentrate_ag</th>\n",
       "      <th>final.output.concentrate_pb</th>\n",
       "      <th>final.output.concentrate_sol</th>\n",
       "      <th>final.output.concentrate_au</th>\n",
       "      <th>final.output.recovery</th>\n",
       "      <th>final.output.tail_ag</th>\n",
       "      <th>final.output.tail_pb</th>\n",
       "      <th>final.output.tail_sol</th>\n",
       "      <th>final.output.tail_au</th>\n",
       "      <th>...</th>\n",
       "      <th>secondary_cleaner.state.floatbank4_a_air</th>\n",
       "      <th>secondary_cleaner.state.floatbank4_a_level</th>\n",
       "      <th>secondary_cleaner.state.floatbank4_b_air</th>\n",
       "      <th>secondary_cleaner.state.floatbank4_b_level</th>\n",
       "      <th>secondary_cleaner.state.floatbank5_a_air</th>\n",
       "      <th>secondary_cleaner.state.floatbank5_a_level</th>\n",
       "      <th>secondary_cleaner.state.floatbank5_b_air</th>\n",
       "      <th>secondary_cleaner.state.floatbank5_b_level</th>\n",
       "      <th>secondary_cleaner.state.floatbank6_a_air</th>\n",
       "      <th>secondary_cleaner.state.floatbank6_a_level</th>\n",
       "    </tr>\n",
       "  </thead>\n",
       "  <tbody>\n",
       "    <tr>\n",
       "      <th>0</th>\n",
       "      <td>2016-01-15 00:00:00</td>\n",
       "      <td>6.055403</td>\n",
       "      <td>9.889648</td>\n",
       "      <td>5.507324</td>\n",
       "      <td>42.192020</td>\n",
       "      <td>70.541216</td>\n",
       "      <td>10.411962</td>\n",
       "      <td>0.895447</td>\n",
       "      <td>16.904297</td>\n",
       "      <td>2.143149</td>\n",
       "      <td>...</td>\n",
       "      <td>14.016835</td>\n",
       "      <td>-502.488007</td>\n",
       "      <td>12.099931</td>\n",
       "      <td>-504.715942</td>\n",
       "      <td>9.925633</td>\n",
       "      <td>-498.310211</td>\n",
       "      <td>8.079666</td>\n",
       "      <td>-500.470978</td>\n",
       "      <td>14.151341</td>\n",
       "      <td>-605.841980</td>\n",
       "    </tr>\n",
       "    <tr>\n",
       "      <th>1</th>\n",
       "      <td>2016-01-15 01:00:00</td>\n",
       "      <td>6.029369</td>\n",
       "      <td>9.968944</td>\n",
       "      <td>5.257781</td>\n",
       "      <td>42.701629</td>\n",
       "      <td>69.266198</td>\n",
       "      <td>10.462676</td>\n",
       "      <td>0.927452</td>\n",
       "      <td>16.634514</td>\n",
       "      <td>2.224930</td>\n",
       "      <td>...</td>\n",
       "      <td>13.992281</td>\n",
       "      <td>-505.503262</td>\n",
       "      <td>11.950531</td>\n",
       "      <td>-501.331529</td>\n",
       "      <td>10.039245</td>\n",
       "      <td>-500.169983</td>\n",
       "      <td>7.984757</td>\n",
       "      <td>-500.582168</td>\n",
       "      <td>13.998353</td>\n",
       "      <td>-599.787184</td>\n",
       "    </tr>\n",
       "    <tr>\n",
       "      <th>2</th>\n",
       "      <td>2016-01-15 02:00:00</td>\n",
       "      <td>6.055926</td>\n",
       "      <td>10.213995</td>\n",
       "      <td>5.383759</td>\n",
       "      <td>42.657501</td>\n",
       "      <td>68.116445</td>\n",
       "      <td>10.507046</td>\n",
       "      <td>0.953716</td>\n",
       "      <td>16.208849</td>\n",
       "      <td>2.257889</td>\n",
       "      <td>...</td>\n",
       "      <td>14.015015</td>\n",
       "      <td>-502.520901</td>\n",
       "      <td>11.912783</td>\n",
       "      <td>-501.133383</td>\n",
       "      <td>10.070913</td>\n",
       "      <td>-500.129135</td>\n",
       "      <td>8.013877</td>\n",
       "      <td>-500.517572</td>\n",
       "      <td>14.028663</td>\n",
       "      <td>-601.427363</td>\n",
       "    </tr>\n",
       "  </tbody>\n",
       "</table>\n",
       "<p>3 rows × 87 columns</p>\n",
       "</div>"
      ],
      "text/plain": [
       "                  date  final.output.concentrate_ag  \\\n",
       "0  2016-01-15 00:00:00                     6.055403   \n",
       "1  2016-01-15 01:00:00                     6.029369   \n",
       "2  2016-01-15 02:00:00                     6.055926   \n",
       "\n",
       "   final.output.concentrate_pb  final.output.concentrate_sol  \\\n",
       "0                     9.889648                      5.507324   \n",
       "1                     9.968944                      5.257781   \n",
       "2                    10.213995                      5.383759   \n",
       "\n",
       "   final.output.concentrate_au  final.output.recovery  final.output.tail_ag  \\\n",
       "0                    42.192020              70.541216             10.411962   \n",
       "1                    42.701629              69.266198             10.462676   \n",
       "2                    42.657501              68.116445             10.507046   \n",
       "\n",
       "   final.output.tail_pb  final.output.tail_sol  final.output.tail_au  ...  \\\n",
       "0              0.895447              16.904297              2.143149  ...   \n",
       "1              0.927452              16.634514              2.224930  ...   \n",
       "2              0.953716              16.208849              2.257889  ...   \n",
       "\n",
       "   secondary_cleaner.state.floatbank4_a_air  \\\n",
       "0                                 14.016835   \n",
       "1                                 13.992281   \n",
       "2                                 14.015015   \n",
       "\n",
       "   secondary_cleaner.state.floatbank4_a_level  \\\n",
       "0                                 -502.488007   \n",
       "1                                 -505.503262   \n",
       "2                                 -502.520901   \n",
       "\n",
       "   secondary_cleaner.state.floatbank4_b_air  \\\n",
       "0                                 12.099931   \n",
       "1                                 11.950531   \n",
       "2                                 11.912783   \n",
       "\n",
       "   secondary_cleaner.state.floatbank4_b_level  \\\n",
       "0                                 -504.715942   \n",
       "1                                 -501.331529   \n",
       "2                                 -501.133383   \n",
       "\n",
       "   secondary_cleaner.state.floatbank5_a_air  \\\n",
       "0                                  9.925633   \n",
       "1                                 10.039245   \n",
       "2                                 10.070913   \n",
       "\n",
       "   secondary_cleaner.state.floatbank5_a_level  \\\n",
       "0                                 -498.310211   \n",
       "1                                 -500.169983   \n",
       "2                                 -500.129135   \n",
       "\n",
       "   secondary_cleaner.state.floatbank5_b_air  \\\n",
       "0                                  8.079666   \n",
       "1                                  7.984757   \n",
       "2                                  8.013877   \n",
       "\n",
       "   secondary_cleaner.state.floatbank5_b_level  \\\n",
       "0                                 -500.470978   \n",
       "1                                 -500.582168   \n",
       "2                                 -500.517572   \n",
       "\n",
       "   secondary_cleaner.state.floatbank6_a_air  \\\n",
       "0                                 14.151341   \n",
       "1                                 13.998353   \n",
       "2                                 14.028663   \n",
       "\n",
       "   secondary_cleaner.state.floatbank6_a_level  \n",
       "0                                 -605.841980  \n",
       "1                                 -599.787184  \n",
       "2                                 -601.427363  \n",
       "\n",
       "[3 rows x 87 columns]"
      ]
     },
     "metadata": {},
     "output_type": "display_data"
    },
    {
     "data": {
      "text/plain": [
       "'---------------------------------------------------------'"
      ]
     },
     "metadata": {},
     "output_type": "display_data"
    },
    {
     "data": {
      "text/plain": [
       "'Tип данных и количество значений столбцов'"
      ]
     },
     "metadata": {},
     "output_type": "display_data"
    },
    {
     "name": "stdout",
     "output_type": "stream",
     "text": [
      "<class 'pandas.core.frame.DataFrame'>\n",
      "RangeIndex: 14149 entries, 0 to 14148\n",
      "Data columns (total 87 columns):\n",
      " #   Column                                              Non-Null Count  Dtype  \n",
      "---  ------                                              --------------  -----  \n",
      " 0   date                                                14149 non-null  object \n",
      " 1   final.output.concentrate_ag                         14148 non-null  float64\n",
      " 2   final.output.concentrate_pb                         14148 non-null  float64\n",
      " 3   final.output.concentrate_sol                        13938 non-null  float64\n",
      " 4   final.output.concentrate_au                         14149 non-null  float64\n",
      " 5   final.output.recovery                               14149 non-null  float64\n",
      " 6   final.output.tail_ag                                14149 non-null  float64\n",
      " 7   final.output.tail_pb                                14049 non-null  float64\n",
      " 8   final.output.tail_sol                               14144 non-null  float64\n",
      " 9   final.output.tail_au                                14149 non-null  float64\n",
      " 10  primary_cleaner.input.sulfate                       14129 non-null  float64\n",
      " 11  primary_cleaner.input.depressant                    14117 non-null  float64\n",
      " 12  primary_cleaner.input.feed_size                     14149 non-null  float64\n",
      " 13  primary_cleaner.input.xanthate                      14049 non-null  float64\n",
      " 14  primary_cleaner.output.concentrate_ag               14149 non-null  float64\n",
      " 15  primary_cleaner.output.concentrate_pb               14063 non-null  float64\n",
      " 16  primary_cleaner.output.concentrate_sol              13863 non-null  float64\n",
      " 17  primary_cleaner.output.concentrate_au               14149 non-null  float64\n",
      " 18  primary_cleaner.output.tail_ag                      14148 non-null  float64\n",
      " 19  primary_cleaner.output.tail_pb                      14134 non-null  float64\n",
      " 20  primary_cleaner.output.tail_sol                     14103 non-null  float64\n",
      " 21  primary_cleaner.output.tail_au                      14149 non-null  float64\n",
      " 22  primary_cleaner.state.floatbank8_a_air              14145 non-null  float64\n",
      " 23  primary_cleaner.state.floatbank8_a_level            14148 non-null  float64\n",
      " 24  primary_cleaner.state.floatbank8_b_air              14145 non-null  float64\n",
      " 25  primary_cleaner.state.floatbank8_b_level            14148 non-null  float64\n",
      " 26  primary_cleaner.state.floatbank8_c_air              14147 non-null  float64\n",
      " 27  primary_cleaner.state.floatbank8_c_level            14148 non-null  float64\n",
      " 28  primary_cleaner.state.floatbank8_d_air              14146 non-null  float64\n",
      " 29  primary_cleaner.state.floatbank8_d_level            14148 non-null  float64\n",
      " 30  rougher.calculation.sulfate_to_au_concentrate       14148 non-null  float64\n",
      " 31  rougher.calculation.floatbank10_sulfate_to_au_feed  14148 non-null  float64\n",
      " 32  rougher.calculation.floatbank11_sulfate_to_au_feed  14148 non-null  float64\n",
      " 33  rougher.calculation.au_pb_ratio                     14149 non-null  float64\n",
      " 34  rougher.input.feed_ag                               14149 non-null  float64\n",
      " 35  rougher.input.feed_pb                               14049 non-null  float64\n",
      " 36  rougher.input.feed_rate                             14141 non-null  float64\n",
      " 37  rougher.input.feed_size                             14005 non-null  float64\n",
      " 38  rougher.input.feed_sol                              14071 non-null  float64\n",
      " 39  rougher.input.feed_au                               14149 non-null  float64\n",
      " 40  rougher.input.floatbank10_sulfate                   14120 non-null  float64\n",
      " 41  rougher.input.floatbank10_xanthate                  14141 non-null  float64\n",
      " 42  rougher.input.floatbank11_sulfate                   14113 non-null  float64\n",
      " 43  rougher.input.floatbank11_xanthate                  13721 non-null  float64\n",
      " 44  rougher.output.concentrate_ag                       14149 non-null  float64\n",
      " 45  rougher.output.concentrate_pb                       14149 non-null  float64\n",
      " 46  rougher.output.concentrate_sol                      14127 non-null  float64\n",
      " 47  rougher.output.concentrate_au                       14149 non-null  float64\n",
      " 48  rougher.output.recovery                             14149 non-null  float64\n",
      " 49  rougher.output.tail_ag                              14148 non-null  float64\n",
      " 50  rougher.output.tail_pb                              14149 non-null  float64\n",
      " 51  rougher.output.tail_sol                             14149 non-null  float64\n",
      " 52  rougher.output.tail_au                              14149 non-null  float64\n",
      " 53  rougher.state.floatbank10_a_air                     14148 non-null  float64\n",
      " 54  rougher.state.floatbank10_a_level                   14148 non-null  float64\n",
      " 55  rougher.state.floatbank10_b_air                     14148 non-null  float64\n",
      " 56  rougher.state.floatbank10_b_level                   14148 non-null  float64\n",
      " 57  rougher.state.floatbank10_c_air                     14148 non-null  float64\n",
      " 58  rougher.state.floatbank10_c_level                   14148 non-null  float64\n",
      " 59  rougher.state.floatbank10_d_air                     14149 non-null  float64\n",
      " 60  rougher.state.floatbank10_d_level                   14149 non-null  float64\n",
      " 61  rougher.state.floatbank10_e_air                     13713 non-null  float64\n",
      " 62  rougher.state.floatbank10_e_level                   14149 non-null  float64\n",
      " 63  rougher.state.floatbank10_f_air                     14149 non-null  float64\n",
      " 64  rougher.state.floatbank10_f_level                   14149 non-null  float64\n",
      " 65  secondary_cleaner.output.tail_ag                    14147 non-null  float64\n",
      " 66  secondary_cleaner.output.tail_pb                    14139 non-null  float64\n",
      " 67  secondary_cleaner.output.tail_sol                   12544 non-null  float64\n",
      " 68  secondary_cleaner.output.tail_au                    14149 non-null  float64\n",
      " 69  secondary_cleaner.state.floatbank2_a_air            13932 non-null  float64\n",
      " 70  secondary_cleaner.state.floatbank2_a_level          14148 non-null  float64\n",
      " 71  secondary_cleaner.state.floatbank2_b_air            14128 non-null  float64\n",
      " 72  secondary_cleaner.state.floatbank2_b_level          14148 non-null  float64\n",
      " 73  secondary_cleaner.state.floatbank3_a_air            14145 non-null  float64\n",
      " 74  secondary_cleaner.state.floatbank3_a_level          14148 non-null  float64\n",
      " 75  secondary_cleaner.state.floatbank3_b_air            14148 non-null  float64\n",
      " 76  secondary_cleaner.state.floatbank3_b_level          14148 non-null  float64\n",
      " 77  secondary_cleaner.state.floatbank4_a_air            14143 non-null  float64\n",
      " 78  secondary_cleaner.state.floatbank4_a_level          14148 non-null  float64\n",
      " 79  secondary_cleaner.state.floatbank4_b_air            14148 non-null  float64\n",
      " 80  secondary_cleaner.state.floatbank4_b_level          14148 non-null  float64\n",
      " 81  secondary_cleaner.state.floatbank5_a_air            14148 non-null  float64\n",
      " 82  secondary_cleaner.state.floatbank5_a_level          14148 non-null  float64\n",
      " 83  secondary_cleaner.state.floatbank5_b_air            14148 non-null  float64\n",
      " 84  secondary_cleaner.state.floatbank5_b_level          14148 non-null  float64\n",
      " 85  secondary_cleaner.state.floatbank6_a_air            14147 non-null  float64\n",
      " 86  secondary_cleaner.state.floatbank6_a_level          14148 non-null  float64\n",
      "dtypes: float64(86), object(1)\n",
      "memory usage: 9.4+ MB\n"
     ]
    },
    {
     "data": {
      "text/plain": [
       "None"
      ]
     },
     "metadata": {},
     "output_type": "display_data"
    },
    {
     "data": {
      "text/plain": [
       "'---------------------------------------------------------'"
      ]
     },
     "metadata": {},
     "output_type": "display_data"
    },
    {
     "data": {
      "text/plain": [
       "'Доля пропущенных значений'"
      ]
     },
     "metadata": {},
     "output_type": "display_data"
    },
    {
     "data": {
      "text/plain": [
       "secondary_cleaner.output.tail_sol           0.113436\n",
       "rougher.state.floatbank10_e_air             0.030815\n",
       "rougher.input.floatbank11_xanthate          0.030249\n",
       "primary_cleaner.output.concentrate_sol      0.020213\n",
       "secondary_cleaner.state.floatbank2_a_air    0.015337\n",
       "                                              ...   \n",
       "rougher.output.concentrate_pb               0.000000\n",
       "rougher.output.concentrate_au               0.000000\n",
       "rougher.output.recovery                     0.000000\n",
       "rougher.output.tail_pb                      0.000000\n",
       "date                                        0.000000\n",
       "Length: 87, dtype: float64"
      ]
     },
     "metadata": {},
     "output_type": "display_data"
    },
    {
     "data": {
      "text/plain": [
       "'---------------------------------------------------------'"
      ]
     },
     "metadata": {},
     "output_type": "display_data"
    },
    {
     "data": {
      "text/plain": [
       "'Подсчет дубликатов'"
      ]
     },
     "metadata": {},
     "output_type": "display_data"
    },
    {
     "data": {
      "text/plain": [
       "0"
      ]
     },
     "metadata": {},
     "output_type": "display_data"
    }
   ],
   "source": [
    "#получение общей информации о таблице data_train\n",
    "data_info(data_train)"
   ]
  },
  {
   "cell_type": "markdown",
   "metadata": {},
   "source": [
    "В таблице data_train 87 столбцов, содержащих информацию о параметрах исходного сырья, продктов, полученных после каждого из этапов обогащения, а также параметрах характеризующих текущее состояние этапов. Количество наблюдений - 14149.\n",
    "\n",
    "Для удобства работы целесообразно провести стилизацию наименований столбцов, заменить пробелы и точки на \"_\", а также изменение типа данных столбца date.\n",
    "\n",
    "Имеется значительное количество пропущенных значений в столбце secondary_cleaner.output.tail_sol. В большенстве других столбцов, также есть пропуски в данных, но их количество не значительно.\n",
    "\n",
    "Дубликатов нет."
   ]
  },
  {
   "cell_type": "code",
   "execution_count": 5,
   "metadata": {
    "scrolled": true
   },
   "outputs": [
    {
     "data": {
      "text/plain": [
       "'Первые строки таблицы'"
      ]
     },
     "metadata": {},
     "output_type": "display_data"
    },
    {
     "data": {
      "text/html": [
       "<div>\n",
       "<style scoped>\n",
       "    .dataframe tbody tr th:only-of-type {\n",
       "        vertical-align: middle;\n",
       "    }\n",
       "\n",
       "    .dataframe tbody tr th {\n",
       "        vertical-align: top;\n",
       "    }\n",
       "\n",
       "    .dataframe thead th {\n",
       "        text-align: right;\n",
       "    }\n",
       "</style>\n",
       "<table border=\"1\" class=\"dataframe\">\n",
       "  <thead>\n",
       "    <tr style=\"text-align: right;\">\n",
       "      <th></th>\n",
       "      <th>date</th>\n",
       "      <th>primary_cleaner.input.sulfate</th>\n",
       "      <th>primary_cleaner.input.depressant</th>\n",
       "      <th>primary_cleaner.input.feed_size</th>\n",
       "      <th>primary_cleaner.input.xanthate</th>\n",
       "      <th>primary_cleaner.state.floatbank8_a_air</th>\n",
       "      <th>primary_cleaner.state.floatbank8_a_level</th>\n",
       "      <th>primary_cleaner.state.floatbank8_b_air</th>\n",
       "      <th>primary_cleaner.state.floatbank8_b_level</th>\n",
       "      <th>primary_cleaner.state.floatbank8_c_air</th>\n",
       "      <th>...</th>\n",
       "      <th>secondary_cleaner.state.floatbank4_a_air</th>\n",
       "      <th>secondary_cleaner.state.floatbank4_a_level</th>\n",
       "      <th>secondary_cleaner.state.floatbank4_b_air</th>\n",
       "      <th>secondary_cleaner.state.floatbank4_b_level</th>\n",
       "      <th>secondary_cleaner.state.floatbank5_a_air</th>\n",
       "      <th>secondary_cleaner.state.floatbank5_a_level</th>\n",
       "      <th>secondary_cleaner.state.floatbank5_b_air</th>\n",
       "      <th>secondary_cleaner.state.floatbank5_b_level</th>\n",
       "      <th>secondary_cleaner.state.floatbank6_a_air</th>\n",
       "      <th>secondary_cleaner.state.floatbank6_a_level</th>\n",
       "    </tr>\n",
       "  </thead>\n",
       "  <tbody>\n",
       "    <tr>\n",
       "      <th>0</th>\n",
       "      <td>2016-09-01 00:59:59</td>\n",
       "      <td>210.800909</td>\n",
       "      <td>14.993118</td>\n",
       "      <td>8.080000</td>\n",
       "      <td>1.005021</td>\n",
       "      <td>1398.981301</td>\n",
       "      <td>-500.225577</td>\n",
       "      <td>1399.144926</td>\n",
       "      <td>-499.919735</td>\n",
       "      <td>1400.102998</td>\n",
       "      <td>...</td>\n",
       "      <td>12.023554</td>\n",
       "      <td>-497.795834</td>\n",
       "      <td>8.016656</td>\n",
       "      <td>-501.289139</td>\n",
       "      <td>7.946562</td>\n",
       "      <td>-432.317850</td>\n",
       "      <td>4.872511</td>\n",
       "      <td>-500.037437</td>\n",
       "      <td>26.705889</td>\n",
       "      <td>-499.709414</td>\n",
       "    </tr>\n",
       "    <tr>\n",
       "      <th>1</th>\n",
       "      <td>2016-09-01 01:59:59</td>\n",
       "      <td>215.392455</td>\n",
       "      <td>14.987471</td>\n",
       "      <td>8.080000</td>\n",
       "      <td>0.990469</td>\n",
       "      <td>1398.777912</td>\n",
       "      <td>-500.057435</td>\n",
       "      <td>1398.055362</td>\n",
       "      <td>-499.778182</td>\n",
       "      <td>1396.151033</td>\n",
       "      <td>...</td>\n",
       "      <td>12.058140</td>\n",
       "      <td>-498.695773</td>\n",
       "      <td>8.130979</td>\n",
       "      <td>-499.634209</td>\n",
       "      <td>7.958270</td>\n",
       "      <td>-525.839648</td>\n",
       "      <td>4.878850</td>\n",
       "      <td>-500.162375</td>\n",
       "      <td>25.019940</td>\n",
       "      <td>-499.819438</td>\n",
       "    </tr>\n",
       "    <tr>\n",
       "      <th>2</th>\n",
       "      <td>2016-09-01 02:59:59</td>\n",
       "      <td>215.259946</td>\n",
       "      <td>12.884934</td>\n",
       "      <td>7.786667</td>\n",
       "      <td>0.996043</td>\n",
       "      <td>1398.493666</td>\n",
       "      <td>-500.868360</td>\n",
       "      <td>1398.860436</td>\n",
       "      <td>-499.764529</td>\n",
       "      <td>1398.075709</td>\n",
       "      <td>...</td>\n",
       "      <td>11.962366</td>\n",
       "      <td>-498.767484</td>\n",
       "      <td>8.096893</td>\n",
       "      <td>-500.827423</td>\n",
       "      <td>8.071056</td>\n",
       "      <td>-500.801673</td>\n",
       "      <td>4.905125</td>\n",
       "      <td>-499.828510</td>\n",
       "      <td>24.994862</td>\n",
       "      <td>-500.622559</td>\n",
       "    </tr>\n",
       "  </tbody>\n",
       "</table>\n",
       "<p>3 rows × 53 columns</p>\n",
       "</div>"
      ],
      "text/plain": [
       "                  date  primary_cleaner.input.sulfate  \\\n",
       "0  2016-09-01 00:59:59                     210.800909   \n",
       "1  2016-09-01 01:59:59                     215.392455   \n",
       "2  2016-09-01 02:59:59                     215.259946   \n",
       "\n",
       "   primary_cleaner.input.depressant  primary_cleaner.input.feed_size  \\\n",
       "0                         14.993118                         8.080000   \n",
       "1                         14.987471                         8.080000   \n",
       "2                         12.884934                         7.786667   \n",
       "\n",
       "   primary_cleaner.input.xanthate  primary_cleaner.state.floatbank8_a_air  \\\n",
       "0                        1.005021                             1398.981301   \n",
       "1                        0.990469                             1398.777912   \n",
       "2                        0.996043                             1398.493666   \n",
       "\n",
       "   primary_cleaner.state.floatbank8_a_level  \\\n",
       "0                               -500.225577   \n",
       "1                               -500.057435   \n",
       "2                               -500.868360   \n",
       "\n",
       "   primary_cleaner.state.floatbank8_b_air  \\\n",
       "0                             1399.144926   \n",
       "1                             1398.055362   \n",
       "2                             1398.860436   \n",
       "\n",
       "   primary_cleaner.state.floatbank8_b_level  \\\n",
       "0                               -499.919735   \n",
       "1                               -499.778182   \n",
       "2                               -499.764529   \n",
       "\n",
       "   primary_cleaner.state.floatbank8_c_air  ...  \\\n",
       "0                             1400.102998  ...   \n",
       "1                             1396.151033  ...   \n",
       "2                             1398.075709  ...   \n",
       "\n",
       "   secondary_cleaner.state.floatbank4_a_air  \\\n",
       "0                                 12.023554   \n",
       "1                                 12.058140   \n",
       "2                                 11.962366   \n",
       "\n",
       "   secondary_cleaner.state.floatbank4_a_level  \\\n",
       "0                                 -497.795834   \n",
       "1                                 -498.695773   \n",
       "2                                 -498.767484   \n",
       "\n",
       "   secondary_cleaner.state.floatbank4_b_air  \\\n",
       "0                                  8.016656   \n",
       "1                                  8.130979   \n",
       "2                                  8.096893   \n",
       "\n",
       "   secondary_cleaner.state.floatbank4_b_level  \\\n",
       "0                                 -501.289139   \n",
       "1                                 -499.634209   \n",
       "2                                 -500.827423   \n",
       "\n",
       "   secondary_cleaner.state.floatbank5_a_air  \\\n",
       "0                                  7.946562   \n",
       "1                                  7.958270   \n",
       "2                                  8.071056   \n",
       "\n",
       "   secondary_cleaner.state.floatbank5_a_level  \\\n",
       "0                                 -432.317850   \n",
       "1                                 -525.839648   \n",
       "2                                 -500.801673   \n",
       "\n",
       "   secondary_cleaner.state.floatbank5_b_air  \\\n",
       "0                                  4.872511   \n",
       "1                                  4.878850   \n",
       "2                                  4.905125   \n",
       "\n",
       "   secondary_cleaner.state.floatbank5_b_level  \\\n",
       "0                                 -500.037437   \n",
       "1                                 -500.162375   \n",
       "2                                 -499.828510   \n",
       "\n",
       "   secondary_cleaner.state.floatbank6_a_air  \\\n",
       "0                                 26.705889   \n",
       "1                                 25.019940   \n",
       "2                                 24.994862   \n",
       "\n",
       "   secondary_cleaner.state.floatbank6_a_level  \n",
       "0                                 -499.709414  \n",
       "1                                 -499.819438  \n",
       "2                                 -500.622559  \n",
       "\n",
       "[3 rows x 53 columns]"
      ]
     },
     "metadata": {},
     "output_type": "display_data"
    },
    {
     "data": {
      "text/plain": [
       "'---------------------------------------------------------'"
      ]
     },
     "metadata": {},
     "output_type": "display_data"
    },
    {
     "data": {
      "text/plain": [
       "'Tип данных и количество значений столбцов'"
      ]
     },
     "metadata": {},
     "output_type": "display_data"
    },
    {
     "name": "stdout",
     "output_type": "stream",
     "text": [
      "<class 'pandas.core.frame.DataFrame'>\n",
      "RangeIndex: 5290 entries, 0 to 5289\n",
      "Data columns (total 53 columns):\n",
      " #   Column                                      Non-Null Count  Dtype  \n",
      "---  ------                                      --------------  -----  \n",
      " 0   date                                        5290 non-null   object \n",
      " 1   primary_cleaner.input.sulfate               5286 non-null   float64\n",
      " 2   primary_cleaner.input.depressant            5285 non-null   float64\n",
      " 3   primary_cleaner.input.feed_size             5290 non-null   float64\n",
      " 4   primary_cleaner.input.xanthate              5286 non-null   float64\n",
      " 5   primary_cleaner.state.floatbank8_a_air      5290 non-null   float64\n",
      " 6   primary_cleaner.state.floatbank8_a_level    5290 non-null   float64\n",
      " 7   primary_cleaner.state.floatbank8_b_air      5290 non-null   float64\n",
      " 8   primary_cleaner.state.floatbank8_b_level    5290 non-null   float64\n",
      " 9   primary_cleaner.state.floatbank8_c_air      5290 non-null   float64\n",
      " 10  primary_cleaner.state.floatbank8_c_level    5290 non-null   float64\n",
      " 11  primary_cleaner.state.floatbank8_d_air      5290 non-null   float64\n",
      " 12  primary_cleaner.state.floatbank8_d_level    5290 non-null   float64\n",
      " 13  rougher.input.feed_ag                       5290 non-null   float64\n",
      " 14  rougher.input.feed_pb                       5290 non-null   float64\n",
      " 15  rougher.input.feed_rate                     5287 non-null   float64\n",
      " 16  rougher.input.feed_size                     5289 non-null   float64\n",
      " 17  rougher.input.feed_sol                      5269 non-null   float64\n",
      " 18  rougher.input.feed_au                       5290 non-null   float64\n",
      " 19  rougher.input.floatbank10_sulfate           5285 non-null   float64\n",
      " 20  rougher.input.floatbank10_xanthate          5290 non-null   float64\n",
      " 21  rougher.input.floatbank11_sulfate           5282 non-null   float64\n",
      " 22  rougher.input.floatbank11_xanthate          5265 non-null   float64\n",
      " 23  rougher.state.floatbank10_a_air             5290 non-null   float64\n",
      " 24  rougher.state.floatbank10_a_level           5290 non-null   float64\n",
      " 25  rougher.state.floatbank10_b_air             5290 non-null   float64\n",
      " 26  rougher.state.floatbank10_b_level           5290 non-null   float64\n",
      " 27  rougher.state.floatbank10_c_air             5290 non-null   float64\n",
      " 28  rougher.state.floatbank10_c_level           5290 non-null   float64\n",
      " 29  rougher.state.floatbank10_d_air             5290 non-null   float64\n",
      " 30  rougher.state.floatbank10_d_level           5290 non-null   float64\n",
      " 31  rougher.state.floatbank10_e_air             5290 non-null   float64\n",
      " 32  rougher.state.floatbank10_e_level           5290 non-null   float64\n",
      " 33  rougher.state.floatbank10_f_air             5290 non-null   float64\n",
      " 34  rougher.state.floatbank10_f_level           5290 non-null   float64\n",
      " 35  secondary_cleaner.state.floatbank2_a_air    5287 non-null   float64\n",
      " 36  secondary_cleaner.state.floatbank2_a_level  5290 non-null   float64\n",
      " 37  secondary_cleaner.state.floatbank2_b_air    5288 non-null   float64\n",
      " 38  secondary_cleaner.state.floatbank2_b_level  5290 non-null   float64\n",
      " 39  secondary_cleaner.state.floatbank3_a_air    5281 non-null   float64\n",
      " 40  secondary_cleaner.state.floatbank3_a_level  5290 non-null   float64\n",
      " 41  secondary_cleaner.state.floatbank3_b_air    5290 non-null   float64\n",
      " 42  secondary_cleaner.state.floatbank3_b_level  5290 non-null   float64\n",
      " 43  secondary_cleaner.state.floatbank4_a_air    5290 non-null   float64\n",
      " 44  secondary_cleaner.state.floatbank4_a_level  5290 non-null   float64\n",
      " 45  secondary_cleaner.state.floatbank4_b_air    5290 non-null   float64\n",
      " 46  secondary_cleaner.state.floatbank4_b_level  5290 non-null   float64\n",
      " 47  secondary_cleaner.state.floatbank5_a_air    5290 non-null   float64\n",
      " 48  secondary_cleaner.state.floatbank5_a_level  5290 non-null   float64\n",
      " 49  secondary_cleaner.state.floatbank5_b_air    5290 non-null   float64\n",
      " 50  secondary_cleaner.state.floatbank5_b_level  5290 non-null   float64\n",
      " 51  secondary_cleaner.state.floatbank6_a_air    5290 non-null   float64\n",
      " 52  secondary_cleaner.state.floatbank6_a_level  5290 non-null   float64\n",
      "dtypes: float64(52), object(1)\n",
      "memory usage: 2.1+ MB\n"
     ]
    },
    {
     "data": {
      "text/plain": [
       "None"
      ]
     },
     "metadata": {},
     "output_type": "display_data"
    },
    {
     "data": {
      "text/plain": [
       "'---------------------------------------------------------'"
      ]
     },
     "metadata": {},
     "output_type": "display_data"
    },
    {
     "data": {
      "text/plain": [
       "'Доля пропущенных значений'"
      ]
     },
     "metadata": {},
     "output_type": "display_data"
    },
    {
     "data": {
      "text/plain": [
       "rougher.input.floatbank11_xanthate            0.004726\n",
       "rougher.input.feed_sol                        0.003970\n",
       "secondary_cleaner.state.floatbank3_a_air      0.001701\n",
       "rougher.input.floatbank11_sulfate             0.001512\n",
       "primary_cleaner.input.depressant              0.000945\n",
       "rougher.input.floatbank10_sulfate             0.000945\n",
       "primary_cleaner.input.xanthate                0.000756\n",
       "primary_cleaner.input.sulfate                 0.000756\n",
       "rougher.input.feed_rate                       0.000567\n",
       "secondary_cleaner.state.floatbank2_a_air      0.000567\n",
       "secondary_cleaner.state.floatbank2_b_air      0.000378\n",
       "rougher.input.feed_size                       0.000189\n",
       "secondary_cleaner.state.floatbank2_b_level    0.000000\n",
       "rougher.state.floatbank10_f_level             0.000000\n",
       "rougher.state.floatbank10_f_air               0.000000\n",
       "secondary_cleaner.state.floatbank3_a_level    0.000000\n",
       "secondary_cleaner.state.floatbank2_a_level    0.000000\n",
       "date                                          0.000000\n",
       "rougher.state.floatbank10_e_air               0.000000\n",
       "secondary_cleaner.state.floatbank3_b_air      0.000000\n",
       "secondary_cleaner.state.floatbank3_b_level    0.000000\n",
       "secondary_cleaner.state.floatbank4_a_air      0.000000\n",
       "secondary_cleaner.state.floatbank4_a_level    0.000000\n",
       "secondary_cleaner.state.floatbank4_b_air      0.000000\n",
       "secondary_cleaner.state.floatbank4_b_level    0.000000\n",
       "secondary_cleaner.state.floatbank5_a_air      0.000000\n",
       "secondary_cleaner.state.floatbank5_a_level    0.000000\n",
       "secondary_cleaner.state.floatbank5_b_air      0.000000\n",
       "secondary_cleaner.state.floatbank5_b_level    0.000000\n",
       "secondary_cleaner.state.floatbank6_a_air      0.000000\n",
       "rougher.state.floatbank10_e_level             0.000000\n",
       "rougher.state.floatbank10_b_level             0.000000\n",
       "rougher.state.floatbank10_d_level             0.000000\n",
       "primary_cleaner.state.floatbank8_d_level      0.000000\n",
       "primary_cleaner.input.feed_size               0.000000\n",
       "primary_cleaner.state.floatbank8_a_air        0.000000\n",
       "primary_cleaner.state.floatbank8_a_level      0.000000\n",
       "primary_cleaner.state.floatbank8_b_air        0.000000\n",
       "primary_cleaner.state.floatbank8_b_level      0.000000\n",
       "primary_cleaner.state.floatbank8_c_air        0.000000\n",
       "primary_cleaner.state.floatbank8_c_level      0.000000\n",
       "primary_cleaner.state.floatbank8_d_air        0.000000\n",
       "rougher.input.feed_ag                         0.000000\n",
       "rougher.state.floatbank10_d_air               0.000000\n",
       "rougher.input.feed_pb                         0.000000\n",
       "rougher.input.feed_au                         0.000000\n",
       "rougher.input.floatbank10_xanthate            0.000000\n",
       "rougher.state.floatbank10_a_air               0.000000\n",
       "rougher.state.floatbank10_a_level             0.000000\n",
       "rougher.state.floatbank10_b_air               0.000000\n",
       "rougher.state.floatbank10_c_air               0.000000\n",
       "rougher.state.floatbank10_c_level             0.000000\n",
       "secondary_cleaner.state.floatbank6_a_level    0.000000\n",
       "dtype: float64"
      ]
     },
     "metadata": {},
     "output_type": "display_data"
    },
    {
     "data": {
      "text/plain": [
       "'---------------------------------------------------------'"
      ]
     },
     "metadata": {},
     "output_type": "display_data"
    },
    {
     "data": {
      "text/plain": [
       "'Подсчет дубликатов'"
      ]
     },
     "metadata": {},
     "output_type": "display_data"
    },
    {
     "data": {
      "text/plain": [
       "0"
      ]
     },
     "metadata": {},
     "output_type": "display_data"
    }
   ],
   "source": [
    "#получение общей информации о таблице data_test\n",
    "data_info(data_test)"
   ]
  },
  {
   "cell_type": "markdown",
   "metadata": {},
   "source": [
    "В таблице data_test 53 столбца, содержащих информацию о параметрах исходного сырья, продктов, полученных после каждого из этапов обогащения, а также параметрах характеризующих текущее состояние этапов. Количество наблюдений - 5290.\n",
    "\n",
    "Для удобства работы целесообразно провести стилизацию наименований столбцов, заменить пробелы и точки на \"_\", а также изменение типа данных столбца date.\n",
    "\n",
    "В большенстве столбцов имеются пропущенные значения, но их количество не значительно.\n",
    "\n",
    "Дубликатов нет."
   ]
  },
  {
   "cell_type": "code",
   "execution_count": 6,
   "metadata": {},
   "outputs": [
    {
     "data": {
      "text/plain": [
       "'Первые строки таблицы'"
      ]
     },
     "metadata": {},
     "output_type": "display_data"
    },
    {
     "data": {
      "text/html": [
       "<div>\n",
       "<style scoped>\n",
       "    .dataframe tbody tr th:only-of-type {\n",
       "        vertical-align: middle;\n",
       "    }\n",
       "\n",
       "    .dataframe tbody tr th {\n",
       "        vertical-align: top;\n",
       "    }\n",
       "\n",
       "    .dataframe thead th {\n",
       "        text-align: right;\n",
       "    }\n",
       "</style>\n",
       "<table border=\"1\" class=\"dataframe\">\n",
       "  <thead>\n",
       "    <tr style=\"text-align: right;\">\n",
       "      <th></th>\n",
       "      <th>date</th>\n",
       "      <th>final.output.concentrate_ag</th>\n",
       "      <th>final.output.concentrate_pb</th>\n",
       "      <th>final.output.concentrate_sol</th>\n",
       "      <th>final.output.concentrate_au</th>\n",
       "      <th>final.output.recovery</th>\n",
       "      <th>final.output.tail_ag</th>\n",
       "      <th>final.output.tail_pb</th>\n",
       "      <th>final.output.tail_sol</th>\n",
       "      <th>final.output.tail_au</th>\n",
       "      <th>...</th>\n",
       "      <th>secondary_cleaner.state.floatbank4_a_air</th>\n",
       "      <th>secondary_cleaner.state.floatbank4_a_level</th>\n",
       "      <th>secondary_cleaner.state.floatbank4_b_air</th>\n",
       "      <th>secondary_cleaner.state.floatbank4_b_level</th>\n",
       "      <th>secondary_cleaner.state.floatbank5_a_air</th>\n",
       "      <th>secondary_cleaner.state.floatbank5_a_level</th>\n",
       "      <th>secondary_cleaner.state.floatbank5_b_air</th>\n",
       "      <th>secondary_cleaner.state.floatbank5_b_level</th>\n",
       "      <th>secondary_cleaner.state.floatbank6_a_air</th>\n",
       "      <th>secondary_cleaner.state.floatbank6_a_level</th>\n",
       "    </tr>\n",
       "  </thead>\n",
       "  <tbody>\n",
       "    <tr>\n",
       "      <th>0</th>\n",
       "      <td>2016-01-15 00:00:00</td>\n",
       "      <td>6.055403</td>\n",
       "      <td>9.889648</td>\n",
       "      <td>5.507324</td>\n",
       "      <td>42.192020</td>\n",
       "      <td>70.541216</td>\n",
       "      <td>10.411962</td>\n",
       "      <td>0.895447</td>\n",
       "      <td>16.904297</td>\n",
       "      <td>2.143149</td>\n",
       "      <td>...</td>\n",
       "      <td>14.016835</td>\n",
       "      <td>-502.488007</td>\n",
       "      <td>12.099931</td>\n",
       "      <td>-504.715942</td>\n",
       "      <td>9.925633</td>\n",
       "      <td>-498.310211</td>\n",
       "      <td>8.079666</td>\n",
       "      <td>-500.470978</td>\n",
       "      <td>14.151341</td>\n",
       "      <td>-605.841980</td>\n",
       "    </tr>\n",
       "    <tr>\n",
       "      <th>1</th>\n",
       "      <td>2016-01-15 01:00:00</td>\n",
       "      <td>6.029369</td>\n",
       "      <td>9.968944</td>\n",
       "      <td>5.257781</td>\n",
       "      <td>42.701629</td>\n",
       "      <td>69.266198</td>\n",
       "      <td>10.462676</td>\n",
       "      <td>0.927452</td>\n",
       "      <td>16.634514</td>\n",
       "      <td>2.224930</td>\n",
       "      <td>...</td>\n",
       "      <td>13.992281</td>\n",
       "      <td>-505.503262</td>\n",
       "      <td>11.950531</td>\n",
       "      <td>-501.331529</td>\n",
       "      <td>10.039245</td>\n",
       "      <td>-500.169983</td>\n",
       "      <td>7.984757</td>\n",
       "      <td>-500.582168</td>\n",
       "      <td>13.998353</td>\n",
       "      <td>-599.787184</td>\n",
       "    </tr>\n",
       "    <tr>\n",
       "      <th>2</th>\n",
       "      <td>2016-01-15 02:00:00</td>\n",
       "      <td>6.055926</td>\n",
       "      <td>10.213995</td>\n",
       "      <td>5.383759</td>\n",
       "      <td>42.657501</td>\n",
       "      <td>68.116445</td>\n",
       "      <td>10.507046</td>\n",
       "      <td>0.953716</td>\n",
       "      <td>16.208849</td>\n",
       "      <td>2.257889</td>\n",
       "      <td>...</td>\n",
       "      <td>14.015015</td>\n",
       "      <td>-502.520901</td>\n",
       "      <td>11.912783</td>\n",
       "      <td>-501.133383</td>\n",
       "      <td>10.070913</td>\n",
       "      <td>-500.129135</td>\n",
       "      <td>8.013877</td>\n",
       "      <td>-500.517572</td>\n",
       "      <td>14.028663</td>\n",
       "      <td>-601.427363</td>\n",
       "    </tr>\n",
       "  </tbody>\n",
       "</table>\n",
       "<p>3 rows × 87 columns</p>\n",
       "</div>"
      ],
      "text/plain": [
       "                  date  final.output.concentrate_ag  \\\n",
       "0  2016-01-15 00:00:00                     6.055403   \n",
       "1  2016-01-15 01:00:00                     6.029369   \n",
       "2  2016-01-15 02:00:00                     6.055926   \n",
       "\n",
       "   final.output.concentrate_pb  final.output.concentrate_sol  \\\n",
       "0                     9.889648                      5.507324   \n",
       "1                     9.968944                      5.257781   \n",
       "2                    10.213995                      5.383759   \n",
       "\n",
       "   final.output.concentrate_au  final.output.recovery  final.output.tail_ag  \\\n",
       "0                    42.192020              70.541216             10.411962   \n",
       "1                    42.701629              69.266198             10.462676   \n",
       "2                    42.657501              68.116445             10.507046   \n",
       "\n",
       "   final.output.tail_pb  final.output.tail_sol  final.output.tail_au  ...  \\\n",
       "0              0.895447              16.904297              2.143149  ...   \n",
       "1              0.927452              16.634514              2.224930  ...   \n",
       "2              0.953716              16.208849              2.257889  ...   \n",
       "\n",
       "   secondary_cleaner.state.floatbank4_a_air  \\\n",
       "0                                 14.016835   \n",
       "1                                 13.992281   \n",
       "2                                 14.015015   \n",
       "\n",
       "   secondary_cleaner.state.floatbank4_a_level  \\\n",
       "0                                 -502.488007   \n",
       "1                                 -505.503262   \n",
       "2                                 -502.520901   \n",
       "\n",
       "   secondary_cleaner.state.floatbank4_b_air  \\\n",
       "0                                 12.099931   \n",
       "1                                 11.950531   \n",
       "2                                 11.912783   \n",
       "\n",
       "   secondary_cleaner.state.floatbank4_b_level  \\\n",
       "0                                 -504.715942   \n",
       "1                                 -501.331529   \n",
       "2                                 -501.133383   \n",
       "\n",
       "   secondary_cleaner.state.floatbank5_a_air  \\\n",
       "0                                  9.925633   \n",
       "1                                 10.039245   \n",
       "2                                 10.070913   \n",
       "\n",
       "   secondary_cleaner.state.floatbank5_a_level  \\\n",
       "0                                 -498.310211   \n",
       "1                                 -500.169983   \n",
       "2                                 -500.129135   \n",
       "\n",
       "   secondary_cleaner.state.floatbank5_b_air  \\\n",
       "0                                  8.079666   \n",
       "1                                  7.984757   \n",
       "2                                  8.013877   \n",
       "\n",
       "   secondary_cleaner.state.floatbank5_b_level  \\\n",
       "0                                 -500.470978   \n",
       "1                                 -500.582168   \n",
       "2                                 -500.517572   \n",
       "\n",
       "   secondary_cleaner.state.floatbank6_a_air  \\\n",
       "0                                 14.151341   \n",
       "1                                 13.998353   \n",
       "2                                 14.028663   \n",
       "\n",
       "   secondary_cleaner.state.floatbank6_a_level  \n",
       "0                                 -605.841980  \n",
       "1                                 -599.787184  \n",
       "2                                 -601.427363  \n",
       "\n",
       "[3 rows x 87 columns]"
      ]
     },
     "metadata": {},
     "output_type": "display_data"
    },
    {
     "data": {
      "text/plain": [
       "'---------------------------------------------------------'"
      ]
     },
     "metadata": {},
     "output_type": "display_data"
    },
    {
     "data": {
      "text/plain": [
       "'Tип данных и количество значений столбцов'"
      ]
     },
     "metadata": {},
     "output_type": "display_data"
    },
    {
     "name": "stdout",
     "output_type": "stream",
     "text": [
      "<class 'pandas.core.frame.DataFrame'>\n",
      "RangeIndex: 19439 entries, 0 to 19438\n",
      "Data columns (total 87 columns):\n",
      " #   Column                                              Non-Null Count  Dtype  \n",
      "---  ------                                              --------------  -----  \n",
      " 0   date                                                19439 non-null  object \n",
      " 1   final.output.concentrate_ag                         19438 non-null  float64\n",
      " 2   final.output.concentrate_pb                         19438 non-null  float64\n",
      " 3   final.output.concentrate_sol                        19228 non-null  float64\n",
      " 4   final.output.concentrate_au                         19439 non-null  float64\n",
      " 5   final.output.recovery                               19439 non-null  float64\n",
      " 6   final.output.tail_ag                                19438 non-null  float64\n",
      " 7   final.output.tail_pb                                19338 non-null  float64\n",
      " 8   final.output.tail_sol                               19433 non-null  float64\n",
      " 9   final.output.tail_au                                19439 non-null  float64\n",
      " 10  primary_cleaner.input.sulfate                       19415 non-null  float64\n",
      " 11  primary_cleaner.input.depressant                    19402 non-null  float64\n",
      " 12  primary_cleaner.input.feed_size                     19439 non-null  float64\n",
      " 13  primary_cleaner.input.xanthate                      19335 non-null  float64\n",
      " 14  primary_cleaner.output.concentrate_ag               19439 non-null  float64\n",
      " 15  primary_cleaner.output.concentrate_pb               19323 non-null  float64\n",
      " 16  primary_cleaner.output.concentrate_sol              19069 non-null  float64\n",
      " 17  primary_cleaner.output.concentrate_au               19439 non-null  float64\n",
      " 18  primary_cleaner.output.tail_ag                      19435 non-null  float64\n",
      " 19  primary_cleaner.output.tail_pb                      19418 non-null  float64\n",
      " 20  primary_cleaner.output.tail_sol                     19377 non-null  float64\n",
      " 21  primary_cleaner.output.tail_au                      19439 non-null  float64\n",
      " 22  primary_cleaner.state.floatbank8_a_air              19435 non-null  float64\n",
      " 23  primary_cleaner.state.floatbank8_a_level            19438 non-null  float64\n",
      " 24  primary_cleaner.state.floatbank8_b_air              19435 non-null  float64\n",
      " 25  primary_cleaner.state.floatbank8_b_level            19438 non-null  float64\n",
      " 26  primary_cleaner.state.floatbank8_c_air              19437 non-null  float64\n",
      " 27  primary_cleaner.state.floatbank8_c_level            19438 non-null  float64\n",
      " 28  primary_cleaner.state.floatbank8_d_air              19436 non-null  float64\n",
      " 29  primary_cleaner.state.floatbank8_d_level            19438 non-null  float64\n",
      " 30  rougher.calculation.sulfate_to_au_concentrate       19437 non-null  float64\n",
      " 31  rougher.calculation.floatbank10_sulfate_to_au_feed  19437 non-null  float64\n",
      " 32  rougher.calculation.floatbank11_sulfate_to_au_feed  19437 non-null  float64\n",
      " 33  rougher.calculation.au_pb_ratio                     19439 non-null  float64\n",
      " 34  rougher.input.feed_ag                               19439 non-null  float64\n",
      " 35  rougher.input.feed_pb                               19339 non-null  float64\n",
      " 36  rougher.input.feed_rate                             19428 non-null  float64\n",
      " 37  rougher.input.feed_size                             19294 non-null  float64\n",
      " 38  rougher.input.feed_sol                              19340 non-null  float64\n",
      " 39  rougher.input.feed_au                               19439 non-null  float64\n",
      " 40  rougher.input.floatbank10_sulfate                   19405 non-null  float64\n",
      " 41  rougher.input.floatbank10_xanthate                  19431 non-null  float64\n",
      " 42  rougher.input.floatbank11_sulfate                   19395 non-null  float64\n",
      " 43  rougher.input.floatbank11_xanthate                  18986 non-null  float64\n",
      " 44  rougher.output.concentrate_ag                       19439 non-null  float64\n",
      " 45  rougher.output.concentrate_pb                       19439 non-null  float64\n",
      " 46  rougher.output.concentrate_sol                      19416 non-null  float64\n",
      " 47  rougher.output.concentrate_au                       19439 non-null  float64\n",
      " 48  rougher.output.recovery                             19439 non-null  float64\n",
      " 49  rougher.output.tail_ag                              19438 non-null  float64\n",
      " 50  rougher.output.tail_pb                              19439 non-null  float64\n",
      " 51  rougher.output.tail_sol                             19439 non-null  float64\n",
      " 52  rougher.output.tail_au                              19439 non-null  float64\n",
      " 53  rougher.state.floatbank10_a_air                     19438 non-null  float64\n",
      " 54  rougher.state.floatbank10_a_level                   19438 non-null  float64\n",
      " 55  rougher.state.floatbank10_b_air                     19438 non-null  float64\n",
      " 56  rougher.state.floatbank10_b_level                   19438 non-null  float64\n",
      " 57  rougher.state.floatbank10_c_air                     19438 non-null  float64\n",
      " 58  rougher.state.floatbank10_c_level                   19438 non-null  float64\n",
      " 59  rougher.state.floatbank10_d_air                     19439 non-null  float64\n",
      " 60  rougher.state.floatbank10_d_level                   19439 non-null  float64\n",
      " 61  rougher.state.floatbank10_e_air                     19003 non-null  float64\n",
      " 62  rougher.state.floatbank10_e_level                   19439 non-null  float64\n",
      " 63  rougher.state.floatbank10_f_air                     19439 non-null  float64\n",
      " 64  rougher.state.floatbank10_f_level                   19439 non-null  float64\n",
      " 65  secondary_cleaner.output.tail_ag                    19437 non-null  float64\n",
      " 66  secondary_cleaner.output.tail_pb                    19427 non-null  float64\n",
      " 67  secondary_cleaner.output.tail_sol                   17691 non-null  float64\n",
      " 68  secondary_cleaner.output.tail_au                    19439 non-null  float64\n",
      " 69  secondary_cleaner.state.floatbank2_a_air            19219 non-null  float64\n",
      " 70  secondary_cleaner.state.floatbank2_a_level          19438 non-null  float64\n",
      " 71  secondary_cleaner.state.floatbank2_b_air            19416 non-null  float64\n",
      " 72  secondary_cleaner.state.floatbank2_b_level          19438 non-null  float64\n",
      " 73  secondary_cleaner.state.floatbank3_a_air            19426 non-null  float64\n",
      " 74  secondary_cleaner.state.floatbank3_a_level          19438 non-null  float64\n",
      " 75  secondary_cleaner.state.floatbank3_b_air            19438 non-null  float64\n",
      " 76  secondary_cleaner.state.floatbank3_b_level          19438 non-null  float64\n",
      " 77  secondary_cleaner.state.floatbank4_a_air            19433 non-null  float64\n",
      " 78  secondary_cleaner.state.floatbank4_a_level          19438 non-null  float64\n",
      " 79  secondary_cleaner.state.floatbank4_b_air            19438 non-null  float64\n",
      " 80  secondary_cleaner.state.floatbank4_b_level          19438 non-null  float64\n",
      " 81  secondary_cleaner.state.floatbank5_a_air            19438 non-null  float64\n",
      " 82  secondary_cleaner.state.floatbank5_a_level          19438 non-null  float64\n",
      " 83  secondary_cleaner.state.floatbank5_b_air            19438 non-null  float64\n",
      " 84  secondary_cleaner.state.floatbank5_b_level          19438 non-null  float64\n",
      " 85  secondary_cleaner.state.floatbank6_a_air            19437 non-null  float64\n",
      " 86  secondary_cleaner.state.floatbank6_a_level          19438 non-null  float64\n",
      "dtypes: float64(86), object(1)\n",
      "memory usage: 12.9+ MB\n"
     ]
    },
    {
     "data": {
      "text/plain": [
       "None"
      ]
     },
     "metadata": {},
     "output_type": "display_data"
    },
    {
     "data": {
      "text/plain": [
       "'---------------------------------------------------------'"
      ]
     },
     "metadata": {},
     "output_type": "display_data"
    },
    {
     "data": {
      "text/plain": [
       "'Доля пропущенных значений'"
      ]
     },
     "metadata": {},
     "output_type": "display_data"
    },
    {
     "data": {
      "text/plain": [
       "secondary_cleaner.output.tail_sol           0.089922\n",
       "rougher.input.floatbank11_xanthate          0.023304\n",
       "rougher.state.floatbank10_e_air             0.022429\n",
       "primary_cleaner.output.concentrate_sol      0.019034\n",
       "secondary_cleaner.state.floatbank2_a_air    0.011317\n",
       "                                              ...   \n",
       "rougher.state.floatbank10_d_level           0.000000\n",
       "rougher.state.floatbank10_d_air             0.000000\n",
       "rougher.output.tail_pb                      0.000000\n",
       "rougher.output.tail_sol                     0.000000\n",
       "date                                        0.000000\n",
       "Length: 87, dtype: float64"
      ]
     },
     "metadata": {},
     "output_type": "display_data"
    },
    {
     "data": {
      "text/plain": [
       "'---------------------------------------------------------'"
      ]
     },
     "metadata": {},
     "output_type": "display_data"
    },
    {
     "data": {
      "text/plain": [
       "'Подсчет дубликатов'"
      ]
     },
     "metadata": {},
     "output_type": "display_data"
    },
    {
     "data": {
      "text/plain": [
       "0"
      ]
     },
     "metadata": {},
     "output_type": "display_data"
    }
   ],
   "source": [
    "#получение общей информации о таблице data_full\n",
    "data_info(data_full)"
   ]
  },
  {
   "cell_type": "markdown",
   "metadata": {},
   "source": [
    "В таблице data_full 87 столбцов, содержащих информацию о параметрах исходного сырья, продктов, полученных после каждого из этапов обогащения, а также параметрах характеризующих текущее состояние этапов. Количество наблюдений - 19439.\n",
    "\n",
    "Для удобства работы целесообразно провести стилизацию наименований столбцов, заменить пробелы и точки на \"_\", а также изменение типа данных столбца date.\n",
    "\n",
    "Имеется значительное количество пропущенных значений в столбце secondary_cleaner.output.tail_sol. В большенстве других столбцов, также есть пропуски в данных, но их количество не значительно.\n",
    "\n",
    "Дубликатов нет."
   ]
  },
  {
   "cell_type": "markdown",
   "metadata": {},
   "source": [
    "Напишем функцию для стилизации наименований столбцов и изменения типа данных столбца date на datetime. Также назначим индексом столбец date."
   ]
  },
  {
   "cell_type": "code",
   "execution_count": 7,
   "metadata": {},
   "outputs": [],
   "source": [
    "# подготовка функции\n",
    "def data_index(data):\n",
    "    data.columns = [x.replace(\" \", \"_\").replace(\".\", \"_\") for x in data.columns]\n",
    "    data['ind'] = data['date']\n",
    "    data = data.set_index('ind')\n",
    "    data.index = [x.replace(\" \", \"-\").replace(\":\", \"-\") for x in data.index]\n",
    "    data['date'] = pd.to_datetime(data['date'], format='%Y-%m-%d %H:%M:%S')\n",
    "    return data"
   ]
  },
  {
   "cell_type": "code",
   "execution_count": 8,
   "metadata": {},
   "outputs": [],
   "source": [
    "# применение функции\n",
    "data_full = data_index(data_full)\n",
    "data_test = data_index(data_test)\n",
    "data_train = data_index(data_train)"
   ]
  },
  {
   "cell_type": "markdown",
   "metadata": {},
   "source": [
    "### Вычисляем эффективность обогащения золотосодержащей руды"
   ]
  },
  {
   "cell_type": "markdown",
   "metadata": {},
   "source": [
    "Эффективность обогащения рассчитывается по формуле:\n",
    "\n",
    "Recovery = $\\frac{C * (F - T)}{F * (C - T)} * 100$%, где:\n",
    "- C — доля золота в концентрате после флотации/очистки;\n",
    "- F — доля золота в сырье/концентрате до флотации/очистки;\n",
    "- T — доля золота в отвальных хвостах после флотации/очистки.\n",
    "\n",
    "Признак rougher.output.recovery описывает параметры продукта, полученного в результате флотации. Исходя из этого сохраним в соответствующие переменные признаки, описывающие долю золота в исходной руде (rougher_input_feed_au), в черновом концентрате после флотации (rougher_output_concentrate_au) и в отвальном хвосте после флотации (rougher_output_tail_au')."
   ]
  },
  {
   "cell_type": "code",
   "execution_count": 9,
   "metadata": {},
   "outputs": [],
   "source": [
    "#назначение переменных\n",
    "C = data_train['rougher_output_concentrate_au']\n",
    "F = data_train['rougher_input_feed_au']\n",
    "T = data_train['rougher_output_tail_au']"
   ]
  },
  {
   "cell_type": "code",
   "execution_count": 10,
   "metadata": {},
   "outputs": [],
   "source": [
    "#расчет эффективности обогащения\n",
    "data_train['recovery_rougher'] = ((C * (F - T)) / (F * (C - T))) * 100"
   ]
  },
  {
   "cell_type": "code",
   "execution_count": 11,
   "metadata": {},
   "outputs": [
    {
     "data": {
      "text/html": [
       "<div>\n",
       "<style scoped>\n",
       "    .dataframe tbody tr th:only-of-type {\n",
       "        vertical-align: middle;\n",
       "    }\n",
       "\n",
       "    .dataframe tbody tr th {\n",
       "        vertical-align: top;\n",
       "    }\n",
       "\n",
       "    .dataframe thead th {\n",
       "        text-align: right;\n",
       "    }\n",
       "</style>\n",
       "<table border=\"1\" class=\"dataframe\">\n",
       "  <thead>\n",
       "    <tr style=\"text-align: right;\">\n",
       "      <th></th>\n",
       "      <th>recovery_rougher</th>\n",
       "      <th>rougher_output_recovery</th>\n",
       "    </tr>\n",
       "  </thead>\n",
       "  <tbody>\n",
       "    <tr>\n",
       "      <th>2016-01-15-00-00-00</th>\n",
       "      <td>87.107763</td>\n",
       "      <td>87.107763</td>\n",
       "    </tr>\n",
       "    <tr>\n",
       "      <th>2016-01-15-01-00-00</th>\n",
       "      <td>86.843261</td>\n",
       "      <td>86.843261</td>\n",
       "    </tr>\n",
       "    <tr>\n",
       "      <th>2016-01-15-02-00-00</th>\n",
       "      <td>86.842308</td>\n",
       "      <td>86.842308</td>\n",
       "    </tr>\n",
       "    <tr>\n",
       "      <th>2016-01-15-03-00-00</th>\n",
       "      <td>87.226430</td>\n",
       "      <td>87.226430</td>\n",
       "    </tr>\n",
       "    <tr>\n",
       "      <th>2016-01-15-04-00-00</th>\n",
       "      <td>86.688794</td>\n",
       "      <td>86.688794</td>\n",
       "    </tr>\n",
       "  </tbody>\n",
       "</table>\n",
       "</div>"
      ],
      "text/plain": [
       "                     recovery_rougher  rougher_output_recovery\n",
       "2016-01-15-00-00-00         87.107763                87.107763\n",
       "2016-01-15-01-00-00         86.843261                86.843261\n",
       "2016-01-15-02-00-00         86.842308                86.842308\n",
       "2016-01-15-03-00-00         87.226430                87.226430\n",
       "2016-01-15-04-00-00         86.688794                86.688794"
      ]
     },
     "execution_count": 11,
     "metadata": {},
     "output_type": "execute_result"
    }
   ],
   "source": [
    "#сравнение значений исходного признака и результата расчетов\n",
    "data_train[['recovery_rougher', 'rougher_output_recovery']].head()"
   ]
  },
  {
   "cell_type": "code",
   "execution_count": 12,
   "metadata": {},
   "outputs": [
    {
     "data": {
      "text/plain": [
       "9.73512347450521e-15"
      ]
     },
     "execution_count": 12,
     "metadata": {},
     "output_type": "execute_result"
    }
   ],
   "source": [
    "#рассчет MAE\n",
    "mae = mean_absolute_error(data_train['rougher_output_recovery'], data_train['recovery_rougher'])\n",
    "mae"
   ]
  },
  {
   "cell_type": "markdown",
   "metadata": {},
   "source": [
    "Среднее абсолютное отклонение (MAE) стремится к нулю, те значения исходного признака и признака полученного в результате рассчета совпадают. Небольшое отклонение, вероятно, является следствием расхождения в округлении при расчетах.\n",
    "\n",
    "Столбец с результатами рассчетов далее не нужен, удалим его"
   ]
  },
  {
   "cell_type": "code",
   "execution_count": 13,
   "metadata": {},
   "outputs": [],
   "source": [
    "#удаление столбца\n",
    "data_train = data_train.drop(['recovery_rougher'], axis=1)"
   ]
  },
  {
   "cell_type": "markdown",
   "metadata": {},
   "source": [
    "### Анализируем признаки, недоступные в тестовой выборке. "
   ]
  },
  {
   "cell_type": "markdown",
   "metadata": {},
   "source": [
    "В результате первичного изучения имеющихся данных (подраздел 1.1 проекта) выявлено, что таблицы data_train и data_full содержат по 87 признаков каждая, тогда как таблица data_test - только 53. Выявим признаки, отсутствующие в таблице data_test"
   ]
  },
  {
   "cell_type": "code",
   "execution_count": 14,
   "metadata": {
    "scrolled": true
   },
   "outputs": [],
   "source": [
    "#сохранение названий признаков\n",
    "list_columns_train = list(data_train.columns)\n",
    "list_columns_test = list(data_test.columns)\n",
    "list_columns_full = list(data_full.columns)"
   ]
  },
  {
   "cell_type": "code",
   "execution_count": 15,
   "metadata": {
    "scrolled": false
   },
   "outputs": [
    {
     "data": {
      "text/plain": [
       "['final_output_concentrate_ag',\n",
       " 'final_output_concentrate_au',\n",
       " 'final_output_concentrate_pb',\n",
       " 'final_output_concentrate_sol',\n",
       " 'final_output_recovery',\n",
       " 'final_output_tail_ag',\n",
       " 'final_output_tail_au',\n",
       " 'final_output_tail_pb',\n",
       " 'final_output_tail_sol',\n",
       " 'primary_cleaner_output_concentrate_ag',\n",
       " 'primary_cleaner_output_concentrate_au',\n",
       " 'primary_cleaner_output_concentrate_pb',\n",
       " 'primary_cleaner_output_concentrate_sol',\n",
       " 'primary_cleaner_output_tail_ag',\n",
       " 'primary_cleaner_output_tail_au',\n",
       " 'primary_cleaner_output_tail_pb',\n",
       " 'primary_cleaner_output_tail_sol',\n",
       " 'rougher_calculation_au_pb_ratio',\n",
       " 'rougher_calculation_floatbank10_sulfate_to_au_feed',\n",
       " 'rougher_calculation_floatbank11_sulfate_to_au_feed',\n",
       " 'rougher_calculation_sulfate_to_au_concentrate',\n",
       " 'rougher_output_concentrate_ag',\n",
       " 'rougher_output_concentrate_au',\n",
       " 'rougher_output_concentrate_pb',\n",
       " 'rougher_output_concentrate_sol',\n",
       " 'rougher_output_recovery',\n",
       " 'rougher_output_tail_ag',\n",
       " 'rougher_output_tail_au',\n",
       " 'rougher_output_tail_pb',\n",
       " 'rougher_output_tail_sol',\n",
       " 'secondary_cleaner_output_tail_ag',\n",
       " 'secondary_cleaner_output_tail_au',\n",
       " 'secondary_cleaner_output_tail_pb',\n",
       " 'secondary_cleaner_output_tail_sol']"
      ]
     },
     "execution_count": 15,
     "metadata": {},
     "output_type": "execute_result"
    }
   ],
   "source": [
    "#выявление признаков, отсутствующих в data_test\n",
    "result_col=list(set(list_columns_train) - set(list_columns_test))\n",
    "sorted(result_col)"
   ]
  },
  {
   "cell_type": "markdown",
   "metadata": {},
   "source": [
    "В тестовой выборке отсутствуют параметры типов output (параметры продукта) и calculation (расчётные характеристики).\n",
    "\n",
    "Очевидно, они, в отличии от параметров input (параметры сырья) и state (параметры, характеризующие текущее состояние этапа), замеряются и/или рассчитываются значительно позже."
   ]
  },
  {
   "cell_type": "markdown",
   "metadata": {},
   "source": [
    "### Проводим предобработку данных."
   ]
  },
  {
   "cell_type": "markdown",
   "metadata": {},
   "source": [
    "Из условия задачи известно, что данные индексируются датой и временем получения информации (признак date). Соседние по времени параметры часто похожи. Целесообразно заполнить пропуски предшествующими значениями. Заполняем пропуски в таблице data_full, затем уже из нее подбираем сообветствующие значения для пропусков в таблицах data_train и data_test."
   ]
  },
  {
   "cell_type": "code",
   "execution_count": 16,
   "metadata": {},
   "outputs": [],
   "source": [
    "#заполнение пропущенных значений в data_full\n",
    "data_full = data_full.fillna(method='ffill')"
   ]
  },
  {
   "cell_type": "code",
   "execution_count": 17,
   "metadata": {},
   "outputs": [],
   "source": [
    "#заполнение пропущенных значений в data_train\n",
    "for col in list_columns_train:   \n",
    "    data_train[col] = data_train[col].fillna(data_full[col])"
   ]
  },
  {
   "cell_type": "code",
   "execution_count": 18,
   "metadata": {},
   "outputs": [],
   "source": [
    "#заполнение пропущенных значений в data_test\n",
    "for col in list_columns_test:   \n",
    "    data_test[col] = data_test[col].fillna(data_full[col])"
   ]
  },
  {
   "cell_type": "markdown",
   "metadata": {},
   "source": [
    "### Вывод"
   ]
  },
  {
   "cell_type": "markdown",
   "metadata": {},
   "source": [
    "Изучены исходные данные, проведена необходимая предобработка: заполнены пропущенные значения, стилизованы названия признаков, изменен тип значений столбца date.\n",
    "\n",
    "Данных достаточно для построения модели"
   ]
  },
  {
   "cell_type": "markdown",
   "metadata": {},
   "source": [
    "## Анализ данных"
   ]
  },
  {
   "cell_type": "markdown",
   "metadata": {},
   "source": [
    "### Изучаем изменение концентрации металлов на различных этапах очистки."
   ]
  },
  {
   "cell_type": "markdown",
   "metadata": {},
   "source": [
    "Для проведенеия анализа рассчитаем для каждого металла средние значения признаков:\n",
    "\n",
    "в концентрате\n",
    "- rougher_input_feed (концентрация металла в сырье до флотации),\n",
    "- rougher_output_concentrate (концентрация металла в продукте после флотации),\n",
    "- primary_cleaner_output_concentrate (концентрация металла в продукте после первичной очистки),\n",
    "- final_output_concentrate (концентрация металла в продукте после вторичной очистки - итоговая концентрция)\n",
    "\n",
    "в отвальных хвостах\n",
    "- rougher_output_tail (концентрация металла в отвальном хвосте после флотации),\t\n",
    "- primary_cleaner_output_tail (концентрация металла в отвальном хвосте после первичной очистки),\n",
    "- secondary_cleaner_output_tail\t(концентрация металла в отвальном хвосте после вторичой очистке),\n",
    "- final_output_tail (финальное содержание металла в отвальном хвосте)"
   ]
  },
  {
   "cell_type": "code",
   "execution_count": 19,
   "metadata": {},
   "outputs": [
    {
     "data": {
      "text/html": [
       "<div>\n",
       "<style scoped>\n",
       "    .dataframe tbody tr th:only-of-type {\n",
       "        vertical-align: middle;\n",
       "    }\n",
       "\n",
       "    .dataframe tbody tr th {\n",
       "        vertical-align: top;\n",
       "    }\n",
       "\n",
       "    .dataframe thead th {\n",
       "        text-align: right;\n",
       "    }\n",
       "</style>\n",
       "<table border=\"1\" class=\"dataframe\">\n",
       "  <thead>\n",
       "    <tr style=\"text-align: right;\">\n",
       "      <th></th>\n",
       "      <th>rougher_input_feed</th>\n",
       "      <th>rougher_output_concentrate</th>\n",
       "      <th>primary_cleaner_output_concentrate</th>\n",
       "      <th>final_output_concentrate</th>\n",
       "    </tr>\n",
       "  </thead>\n",
       "  <tbody>\n",
       "    <tr>\n",
       "      <th>Au</th>\n",
       "      <td>8.266097</td>\n",
       "      <td>19.772000</td>\n",
       "      <td>32.119400</td>\n",
       "      <td>44.076513</td>\n",
       "    </tr>\n",
       "    <tr>\n",
       "      <th>Ag</th>\n",
       "      <td>8.794927</td>\n",
       "      <td>11.994759</td>\n",
       "      <td>8.442408</td>\n",
       "      <td>5.168387</td>\n",
       "    </tr>\n",
       "    <tr>\n",
       "      <th>Pb</th>\n",
       "      <td>3.585096</td>\n",
       "      <td>7.606272</td>\n",
       "      <td>9.810317</td>\n",
       "      <td>9.978821</td>\n",
       "    </tr>\n",
       "  </tbody>\n",
       "</table>\n",
       "</div>"
      ],
      "text/plain": [
       "    rougher_input_feed  rougher_output_concentrate  \\\n",
       "Au            8.266097                   19.772000   \n",
       "Ag            8.794927                   11.994759   \n",
       "Pb            3.585096                    7.606272   \n",
       "\n",
       "    primary_cleaner_output_concentrate  final_output_concentrate  \n",
       "Au                           32.119400                 44.076513  \n",
       "Ag                            8.442408                  5.168387  \n",
       "Pb                            9.810317                  9.978821  "
      ]
     },
     "execution_count": 19,
     "metadata": {},
     "output_type": "execute_result"
    }
   ],
   "source": [
    "#подготовка сводной таблицы по металлам в продукте\n",
    "conc = {\"rougher_input_feed\":pd.Series([data_full['rougher_input_feed_au'].mean(), data_full['rougher_input_feed_ag'].mean(), data_full['rougher_input_feed_pb'].mean()], index=['Au', 'Ag', 'Pb']),\n",
    "     \"rougher_output_concentrate\": pd.Series([data_full['rougher_output_concentrate_au'].mean(), data_full['rougher_output_concentrate_ag'].mean(), data_full['rougher_output_concentrate_pb'].mean()], index=['Au', 'Ag', 'Pb']),\n",
    "     \"primary_cleaner_output_concentrate\":pd.Series([data_full['primary_cleaner_output_concentrate_au'].mean(), data_full['primary_cleaner_output_concentrate_ag'].mean(), data_full['primary_cleaner_output_concentrate_pb'].mean()], index=['Au', 'Ag', 'Pb']),\n",
    "    \"final_output_concentrate\":pd.Series([data_full['final_output_concentrate_au'].mean(), data_full['final_output_concentrate_ag'].mean(), data_full['final_output_concentrate_pb'].mean()], index=['Au', 'Ag', 'Pb'])}\n",
    "pivot_conc = pd.DataFrame(conc)\n",
    "pivot_conc"
   ]
  },
  {
   "cell_type": "code",
   "execution_count": 20,
   "metadata": {},
   "outputs": [
    {
     "data": {
      "text/html": [
       "<div>\n",
       "<style scoped>\n",
       "    .dataframe tbody tr th:only-of-type {\n",
       "        vertical-align: middle;\n",
       "    }\n",
       "\n",
       "    .dataframe tbody tr th {\n",
       "        vertical-align: top;\n",
       "    }\n",
       "\n",
       "    .dataframe thead th {\n",
       "        text-align: right;\n",
       "    }\n",
       "</style>\n",
       "<table border=\"1\" class=\"dataframe\">\n",
       "  <thead>\n",
       "    <tr style=\"text-align: right;\">\n",
       "      <th></th>\n",
       "      <th>rougher_output_tail</th>\n",
       "      <th>primary_cleaner_output_tail</th>\n",
       "      <th>secondary_cleaner_output_tail</th>\n",
       "      <th>final_output_tail</th>\n",
       "    </tr>\n",
       "  </thead>\n",
       "  <tbody>\n",
       "    <tr>\n",
       "      <th>Au</th>\n",
       "      <td>1.816391</td>\n",
       "      <td>3.914179</td>\n",
       "      <td>4.339625</td>\n",
       "      <td>3.042467</td>\n",
       "    </tr>\n",
       "    <tr>\n",
       "      <th>Ag</th>\n",
       "      <td>5.589064</td>\n",
       "      <td>16.145888</td>\n",
       "      <td>14.586720</td>\n",
       "      <td>9.688487</td>\n",
       "    </tr>\n",
       "    <tr>\n",
       "      <th>Pb</th>\n",
       "      <td>0.645782</td>\n",
       "      <td>3.433558</td>\n",
       "      <td>5.776428</td>\n",
       "      <td>2.694897</td>\n",
       "    </tr>\n",
       "  </tbody>\n",
       "</table>\n",
       "</div>"
      ],
      "text/plain": [
       "    rougher_output_tail  primary_cleaner_output_tail  \\\n",
       "Au             1.816391                     3.914179   \n",
       "Ag             5.589064                    16.145888   \n",
       "Pb             0.645782                     3.433558   \n",
       "\n",
       "    secondary_cleaner_output_tail  final_output_tail  \n",
       "Au                       4.339625           3.042467  \n",
       "Ag                      14.586720           9.688487  \n",
       "Pb                       5.776428           2.694897  "
      ]
     },
     "execution_count": 20,
     "metadata": {},
     "output_type": "execute_result"
    }
   ],
   "source": [
    "#подготовка сводной таблицы по металлам в хвостах\n",
    "tail = {\"rougher_output_tail\":pd.Series([data_full['rougher_output_tail_au'].mean(), data_full['rougher_output_tail_ag'].mean(), data_full['rougher_output_tail_pb'].mean()], index=['Au', 'Ag', 'Pb']),\n",
    "     \"primary_cleaner_output_tail\": pd.Series([data_full['primary_cleaner_output_tail_au'].mean(), data_full['primary_cleaner_output_tail_ag'].mean(), data_full['primary_cleaner_output_tail_pb'].mean()], index=['Au', 'Ag', 'Pb']),\n",
    "     \"secondary_cleaner_output_tail\":pd.Series([data_full['secondary_cleaner_output_tail_au'].mean(), data_full['secondary_cleaner_output_tail_ag'].mean(), data_full['secondary_cleaner_output_tail_pb'].mean()], index=['Au', 'Ag', 'Pb']),\n",
    "    \"final_output_tail\":pd.Series([data_full['final_output_tail_au'].mean(), data_full['final_output_tail_ag'].mean(), data_full['final_output_tail_pb'].mean()], index=['Au', 'Ag', 'Pb'])}\n",
    "pivot_tail = pd.DataFrame(tail)\n",
    "pivot_tail"
   ]
  },
  {
   "cell_type": "code",
   "execution_count": 21,
   "metadata": {},
   "outputs": [
    {
     "data": {
      "text/plain": [
       "'Изменение концентрации металлов на различных этапах очистки, концетрат'"
      ]
     },
     "metadata": {},
     "output_type": "display_data"
    },
    {
     "data": {
      "image/png": "[encoded data removed]",
      "text/plain": [
       "<Figure size 864x288 with 1 Axes>"
      ]
     },
     "metadata": {
      "needs_background": "light"
     },
     "output_type": "display_data"
    }
   ],
   "source": [
    "#построение линейного графика\n",
    "display('Изменение концентрации металлов на различных этапах очистки, концетрат')\n",
    "x = pivot_conc.columns\n",
    "y1, y2, y3 = pivot_conc.loc['Au'], pivot_conc.loc['Ag'], pivot_conc.loc['Pb']\n",
    "plt.figure(figsize=(12, 4))\n",
    "plt.plot( x, y1, 'o-C8', alpha=1, label=\"au\", lw=3, mec='C5', mew=2, ms=10)\n",
    "plt.plot(x, y2, 'o-C9', alpha=1, label=\"ag\", lw=3, mec='C5', mew=2, ms=10)\n",
    "plt.plot(x, y3, 'o-C0', alpha=1, label=\"pb\", lw=3, mec='C5', mew=2, ms=10)\n",
    "plt.legend()\n",
    "plt.grid(True)"
   ]
  },
  {
   "cell_type": "code",
   "execution_count": 22,
   "metadata": {},
   "outputs": [
    {
     "data": {
      "text/plain": [
       "'Изменение концентрации металлов на различных этапах очистки, отвальные хвосты'"
      ]
     },
     "metadata": {},
     "output_type": "display_data"
    },
    {
     "data": {
      "image/png": "[encoded data removed]",
      "text/plain": [
       "<Figure size 864x288 with 1 Axes>"
      ]
     },
     "metadata": {
      "needs_background": "light"
     },
     "output_type": "display_data"
    }
   ],
   "source": [
    "#построение линейного графика\n",
    "display('Изменение концентрации металлов на различных этапах очистки, отвальные хвосты')\n",
    "x = pivot_tail.columns\n",
    "y1, y2, y3 = pivot_tail.loc['Au'], pivot_tail.loc['Ag'], pivot_tail.loc['Pb']\n",
    "plt.figure(figsize=(12, 4))\n",
    "plt.plot(x, y1, 'o-C8', alpha=1, label=\"au\", lw=3, mec='C5', mew=2, ms=10)\n",
    "plt.plot(x, y2, 'o-C9', alpha=1, label=\"ag\", lw=3, mec='C5', mew=2, ms=10)\n",
    "plt.plot(x, y3, 'o-C0', alpha=1, label=\"pb\", lw=3, mec='C5', mew=2, ms=10)\n",
    "plt.legend()\n",
    "plt.grid(True)"
   ]
  },
  {
   "cell_type": "markdown",
   "metadata": {},
   "source": [
    "На графике 'Изменение концентрации металлов на различных этапах очистки, концетрат' наблюдается значительное постоянное увеличение концентрации золота от начала до конце технологического процесса. Серебро и свинец являются сопутствующими металлами. Используемые для обогащения руды реагенты в первую очередь нацелены на увеличение эффективности обогащения золота, и хуже справляются с серебром и свинцом. Причем если увеличение концентрации свинца имеет хоть и слабую, но положительную динамику, то серебро в основном остается в отвальных хвостах, это хорошо видно на графике 'Изменение концентрации металлов на различных этапах очистки, отвальные хвосты'."
   ]
  },
  {
   "cell_type": "markdown",
   "metadata": {},
   "source": [
    "### Сравниваем распределения размеров гранул сырья на обучающей и тестовой выборках."
   ]
  },
  {
   "cell_type": "markdown",
   "metadata": {},
   "source": [
    "Если распределения сильно отличаются друг от друга, оценка модели будет неправильной. Для сравнение построим гистограммы, отражающие распределение гранул сырья (rougher_input_feed_size) для обучающей и тестовой выборках"
   ]
  },
  {
   "cell_type": "code",
   "execution_count": 23,
   "metadata": {},
   "outputs": [
    {
     "data": {
      "image/png": "[encoded data removed]",
      "text/plain": [
       "<Figure size 432x432 with 1 Axes>"
      ]
     },
     "metadata": {
      "needs_background": "light"
     },
     "output_type": "display_data"
    }
   ],
   "source": [
    "#построение групповой гистграммы\n",
    "ax = data_train.plot(y='rougher_input_feed_size', kind='hist', alpha=0.6, label='train', bins=30)\n",
    "data_test.plot(y='rougher_input_feed_size', kind='hist', ax=ax, figsize=(6, 6), alpha=0.6, label='test',\n",
    "                                 title='Распределения размеров гранул сырья', bins=30, grid=True, color='green')\n",
    "\n",
    "plt.xlabel('Размер гранул');"
   ]
  },
  {
   "cell_type": "markdown",
   "metadata": {},
   "source": [
    "Критически различий в распределениях нет. Тестовая выборка имеет меньшее количество объектов, чем обусловла разница масштабов гистограмм."
   ]
  },
  {
   "cell_type": "markdown",
   "metadata": {},
   "source": [
    "### Исследуем суммарную концентрацию всех веществ на разных стадиях."
   ]
  },
  {
   "cell_type": "markdown",
   "metadata": {},
   "source": [
    "Для проведенеия анализа просуммируем значения концентрации веществ au, ag, pb и sol в разрезе следующих признаков:\n",
    "\n",
    "- rougher_input_feed (концентрация металла в сырье до флотации),\n",
    "- rougher_output_concentrate (концентрация металла в продукте после флотации),\n",
    "- primary_cleaner_output_concentrate (концентрация металла в продукте после первичной очистки),\n",
    "- final_output_concentrate (концентрация металла в продукте после вторичной очистки - итоговая концентрция)"
   ]
  },
  {
   "cell_type": "code",
   "execution_count": 24,
   "metadata": {},
   "outputs": [
    {
     "data": {
      "text/html": [
       "<div>\n",
       "<style scoped>\n",
       "    .dataframe tbody tr th:only-of-type {\n",
       "        vertical-align: middle;\n",
       "    }\n",
       "\n",
       "    .dataframe tbody tr th {\n",
       "        vertical-align: top;\n",
       "    }\n",
       "\n",
       "    .dataframe thead th {\n",
       "        text-align: right;\n",
       "    }\n",
       "</style>\n",
       "<table border=\"1\" class=\"dataframe\">\n",
       "  <thead>\n",
       "    <tr style=\"text-align: right;\">\n",
       "      <th></th>\n",
       "      <th>date</th>\n",
       "      <th>final_output_concentrate_ag</th>\n",
       "      <th>final_output_concentrate_pb</th>\n",
       "      <th>final_output_concentrate_sol</th>\n",
       "      <th>final_output_concentrate_au</th>\n",
       "      <th>final_output_recovery</th>\n",
       "      <th>final_output_tail_ag</th>\n",
       "      <th>final_output_tail_pb</th>\n",
       "      <th>final_output_tail_sol</th>\n",
       "      <th>final_output_tail_au</th>\n",
       "      <th>...</th>\n",
       "      <th>secondary_cleaner_state_floatbank5_a_air</th>\n",
       "      <th>secondary_cleaner_state_floatbank5_a_level</th>\n",
       "      <th>secondary_cleaner_state_floatbank5_b_air</th>\n",
       "      <th>secondary_cleaner_state_floatbank5_b_level</th>\n",
       "      <th>secondary_cleaner_state_floatbank6_a_air</th>\n",
       "      <th>secondary_cleaner_state_floatbank6_a_level</th>\n",
       "      <th>rougher_input_feed</th>\n",
       "      <th>rougher_output_concentrate</th>\n",
       "      <th>primary_cleaner_output_concentrate</th>\n",
       "      <th>final_output_concentrate</th>\n",
       "    </tr>\n",
       "  </thead>\n",
       "  <tbody>\n",
       "    <tr>\n",
       "      <th>2016-01-15-00-00-00</th>\n",
       "      <td>2016-01-15 00:00:00</td>\n",
       "      <td>6.055403</td>\n",
       "      <td>9.889648</td>\n",
       "      <td>5.507324</td>\n",
       "      <td>42.192020</td>\n",
       "      <td>70.541216</td>\n",
       "      <td>10.411962</td>\n",
       "      <td>0.895447</td>\n",
       "      <td>16.904297</td>\n",
       "      <td>2.143149</td>\n",
       "      <td>...</td>\n",
       "      <td>9.925633</td>\n",
       "      <td>-498.310211</td>\n",
       "      <td>8.079666</td>\n",
       "      <td>-500.470978</td>\n",
       "      <td>14.151341</td>\n",
       "      <td>-605.841980</td>\n",
       "      <td>51.680034</td>\n",
       "      <td>66.424950</td>\n",
       "      <td>72.640924</td>\n",
       "      <td>63.644396</td>\n",
       "    </tr>\n",
       "    <tr>\n",
       "      <th>2016-01-15-01-00-00</th>\n",
       "      <td>2016-01-15 01:00:00</td>\n",
       "      <td>6.029369</td>\n",
       "      <td>9.968944</td>\n",
       "      <td>5.257781</td>\n",
       "      <td>42.701629</td>\n",
       "      <td>69.266198</td>\n",
       "      <td>10.462676</td>\n",
       "      <td>0.927452</td>\n",
       "      <td>16.634514</td>\n",
       "      <td>2.224930</td>\n",
       "      <td>...</td>\n",
       "      <td>10.039245</td>\n",
       "      <td>-500.169983</td>\n",
       "      <td>7.984757</td>\n",
       "      <td>-500.582168</td>\n",
       "      <td>13.998353</td>\n",
       "      <td>-599.787184</td>\n",
       "      <td>50.659114</td>\n",
       "      <td>67.012710</td>\n",
       "      <td>72.543485</td>\n",
       "      <td>63.957723</td>\n",
       "    </tr>\n",
       "    <tr>\n",
       "      <th>2016-01-15-02-00-00</th>\n",
       "      <td>2016-01-15 02:00:00</td>\n",
       "      <td>6.055926</td>\n",
       "      <td>10.213995</td>\n",
       "      <td>5.383759</td>\n",
       "      <td>42.657501</td>\n",
       "      <td>68.116445</td>\n",
       "      <td>10.507046</td>\n",
       "      <td>0.953716</td>\n",
       "      <td>16.208849</td>\n",
       "      <td>2.257889</td>\n",
       "      <td>...</td>\n",
       "      <td>10.070913</td>\n",
       "      <td>-500.129135</td>\n",
       "      <td>8.013877</td>\n",
       "      <td>-500.517572</td>\n",
       "      <td>14.028663</td>\n",
       "      <td>-601.427363</td>\n",
       "      <td>50.609929</td>\n",
       "      <td>66.103793</td>\n",
       "      <td>72.095042</td>\n",
       "      <td>64.311180</td>\n",
       "    </tr>\n",
       "  </tbody>\n",
       "</table>\n",
       "<p>3 rows × 91 columns</p>\n",
       "</div>"
      ],
      "text/plain": [
       "                                   date  final_output_concentrate_ag  \\\n",
       "2016-01-15-00-00-00 2016-01-15 00:00:00                     6.055403   \n",
       "2016-01-15-01-00-00 2016-01-15 01:00:00                     6.029369   \n",
       "2016-01-15-02-00-00 2016-01-15 02:00:00                     6.055926   \n",
       "\n",
       "                     final_output_concentrate_pb  \\\n",
       "2016-01-15-00-00-00                     9.889648   \n",
       "2016-01-15-01-00-00                     9.968944   \n",
       "2016-01-15-02-00-00                    10.213995   \n",
       "\n",
       "                     final_output_concentrate_sol  \\\n",
       "2016-01-15-00-00-00                      5.507324   \n",
       "2016-01-15-01-00-00                      5.257781   \n",
       "2016-01-15-02-00-00                      5.383759   \n",
       "\n",
       "                     final_output_concentrate_au  final_output_recovery  \\\n",
       "2016-01-15-00-00-00                    42.192020              70.541216   \n",
       "2016-01-15-01-00-00                    42.701629              69.266198   \n",
       "2016-01-15-02-00-00                    42.657501              68.116445   \n",
       "\n",
       "                     final_output_tail_ag  final_output_tail_pb  \\\n",
       "2016-01-15-00-00-00             10.411962              0.895447   \n",
       "2016-01-15-01-00-00             10.462676              0.927452   \n",
       "2016-01-15-02-00-00             10.507046              0.953716   \n",
       "\n",
       "                     final_output_tail_sol  final_output_tail_au  ...  \\\n",
       "2016-01-15-00-00-00              16.904297              2.143149  ...   \n",
       "2016-01-15-01-00-00              16.634514              2.224930  ...   \n",
       "2016-01-15-02-00-00              16.208849              2.257889  ...   \n",
       "\n",
       "                     secondary_cleaner_state_floatbank5_a_air  \\\n",
       "2016-01-15-00-00-00                                  9.925633   \n",
       "2016-01-15-01-00-00                                 10.039245   \n",
       "2016-01-15-02-00-00                                 10.070913   \n",
       "\n",
       "                     secondary_cleaner_state_floatbank5_a_level  \\\n",
       "2016-01-15-00-00-00                                 -498.310211   \n",
       "2016-01-15-01-00-00                                 -500.169983   \n",
       "2016-01-15-02-00-00                                 -500.129135   \n",
       "\n",
       "                     secondary_cleaner_state_floatbank5_b_air  \\\n",
       "2016-01-15-00-00-00                                  8.079666   \n",
       "2016-01-15-01-00-00                                  7.984757   \n",
       "2016-01-15-02-00-00                                  8.013877   \n",
       "\n",
       "                     secondary_cleaner_state_floatbank5_b_level  \\\n",
       "2016-01-15-00-00-00                                 -500.470978   \n",
       "2016-01-15-01-00-00                                 -500.582168   \n",
       "2016-01-15-02-00-00                                 -500.517572   \n",
       "\n",
       "                     secondary_cleaner_state_floatbank6_a_air  \\\n",
       "2016-01-15-00-00-00                                 14.151341   \n",
       "2016-01-15-01-00-00                                 13.998353   \n",
       "2016-01-15-02-00-00                                 14.028663   \n",
       "\n",
       "                     secondary_cleaner_state_floatbank6_a_level  \\\n",
       "2016-01-15-00-00-00                                 -605.841980   \n",
       "2016-01-15-01-00-00                                 -599.787184   \n",
       "2016-01-15-02-00-00                                 -601.427363   \n",
       "\n",
       "                     rougher_input_feed  rougher_output_concentrate  \\\n",
       "2016-01-15-00-00-00           51.680034                   66.424950   \n",
       "2016-01-15-01-00-00           50.659114                   67.012710   \n",
       "2016-01-15-02-00-00           50.609929                   66.103793   \n",
       "\n",
       "                     primary_cleaner_output_concentrate  \\\n",
       "2016-01-15-00-00-00                           72.640924   \n",
       "2016-01-15-01-00-00                           72.543485   \n",
       "2016-01-15-02-00-00                           72.095042   \n",
       "\n",
       "                     final_output_concentrate  \n",
       "2016-01-15-00-00-00                 63.644396  \n",
       "2016-01-15-01-00-00                 63.957723  \n",
       "2016-01-15-02-00-00                 64.311180  \n",
       "\n",
       "[3 rows x 91 columns]"
      ]
     },
     "execution_count": 24,
     "metadata": {},
     "output_type": "execute_result"
    }
   ],
   "source": [
    "#добавление столбца, содержащего результаты суммации веществ\n",
    "data_full['rougher_input_feed'] = data_full['rougher_input_feed_au'] + data_full['rougher_input_feed_ag'] + data_full['rougher_input_feed_pb'] + data_full['rougher_input_feed_sol']\n",
    "data_full['rougher_output_concentrate'] = data_full['rougher_output_concentrate_au'] + data_full['rougher_output_concentrate_ag'] + data_full['rougher_output_concentrate_pb'] + data_full['rougher_output_concentrate_sol']\n",
    "data_full['primary_cleaner_output_concentrate'] = data_full['primary_cleaner_output_concentrate_au'] + data_full['primary_cleaner_output_concentrate_ag'] + data_full['primary_cleaner_output_concentrate_pb'] + data_full['primary_cleaner_output_concentrate_sol']\n",
    "data_full['final_output_concentrate'] = data_full['final_output_concentrate_au'] + data_full['final_output_concentrate_ag'] + data_full['final_output_concentrate_pb'] + data_full['final_output_concentrate_sol']\n",
    "data_full.head(3)"
   ]
  },
  {
   "cell_type": "code",
   "execution_count": 25,
   "metadata": {},
   "outputs": [
    {
     "data": {
      "text/plain": [
       "'Суммарная концентрация всех веществ на разных стадиях'"
      ]
     },
     "metadata": {},
     "output_type": "display_data"
    },
    {
     "data": {
      "image/png": "[encoded data removed]",
      "text/plain": [
       "<Figure size 1152x432 with 1 Axes>"
      ]
     },
     "metadata": {
      "needs_background": "light"
     },
     "output_type": "display_data"
    }
   ],
   "source": [
    "#построение линейного графика\n",
    "display('Суммарная концентрация всех веществ на разных стадиях')\n",
    "x = ['rougher_input_feed', 'rougher_output_concentrate', 'primary_cleaner_output_concentrate', 'final_output_concentrate']\n",
    "y1 = [data_full['rougher_input_feed'].mean(), data_full['rougher_output_concentrate'].mean(), data_full['primary_cleaner_output_concentrate'].mean(), data_full['final_output_concentrate'].mean()]\n",
    "y2 = [data_full['rougher_input_feed_au'].mean(), data_full['rougher_output_concentrate_au'].mean(), data_full['primary_cleaner_output_concentrate_au'].mean(), data_full['final_output_concentrate_au'].mean()]\n",
    "y3 = [data_full['rougher_input_feed_ag'].mean(), data_full['rougher_output_concentrate_ag'].mean(), data_full['primary_cleaner_output_concentrate_ag'].mean(), data_full['final_output_concentrate_ag'].mean()]\n",
    "y4 = [data_full['rougher_input_feed_pb'].mean(), data_full['rougher_output_concentrate_pb'].mean(), data_full['primary_cleaner_output_concentrate_pb'].mean(), data_full['final_output_concentrate_pb'].mean()]\n",
    "y5 = [data_full['rougher_input_feed_sol'].mean(), data_full['rougher_output_concentrate_sol'].mean(), data_full['primary_cleaner_output_concentrate_sol'].mean(), data_full['final_output_concentrate_sol'].mean()]\n",
    "\n",
    "plt.figure(figsize=(16, 6))\n",
    "plt.plot(x, y1, 'o-C2', alpha=1, label=\"sum\", lw=3, mec='C5', mew=2, ms=10)\n",
    "plt.plot(x, y2, 'o-.C8', alpha=0.7, label=\"au\", lw=3, mec='C5', mew=2, ms=10)\n",
    "plt.plot(x, y3, 'o-.C9', alpha=0.7, label=\"ag\", lw=3, mec='C5', mew=2, ms=10)\n",
    "plt.plot(x, y4, 'o-.C0', alpha=0.7, label=\"pb\", lw=3, mec='C5', mew=2, ms=10)\n",
    "plt.plot(x, y5, 'o-.C1', alpha=0.7, label=\"sol\", lw=3, mec='C5', mew=2, ms=10)\n",
    "\n",
    "plt.legend()\n",
    "plt.grid(True)"
   ]
  },
  {
   "cell_type": "markdown",
   "metadata": {},
   "source": [
    "На графике видим неожиданное: средняя суммарная концентрация всех веществ значительно уменьшается после стадии первичной очистки, хотя должна показывать стабильное увеличение от стадии к стадии. Согласно графику, сложившаяся ситуация обусловлена резким снижением концентрации sol.\n",
    "\n",
    "Для более детального исследования вопроса, изучим распределения суммарной концентрации всех веществ на каждой стадии."
   ]
  },
  {
   "cell_type": "code",
   "execution_count": 26,
   "metadata": {},
   "outputs": [
    {
     "data": {
      "image/png": "[encoded data removed]",
      "text/plain": [
       "<Figure size 864x576 with 1 Axes>"
      ]
     },
     "metadata": {
      "needs_background": "light"
     },
     "output_type": "display_data"
    }
   ],
   "source": [
    "#построение групповой гистограммы\n",
    "data_full[['rougher_input_feed', 'rougher_output_concentrate', 'primary_cleaner_output_concentrate','final_output_concentrate']].plot(kind='hist',\n",
    "            bins=60, alpha=0.7, grid=True, legend=True, figsize=(12, 8), \n",
    "            title='Cуммарная концентрация всех веществ на разных стадиях')\n",
    "plt.xlabel('Концентрация веществ');"
   ]
  },
  {
   "cell_type": "markdown",
   "metadata": {},
   "source": [
    "Гистограммы в ходе технологического процесса становятся тоньше и выше, те концентрации искомых веществ в целом значительно увеличиваются от стадии сырьядо стадии финального концентрата.\n",
    "\n",
    "На гистограмме есть аномалия - это нулевые значения суммарной концентрации. В случае, если суммарная концентрация всех веществ в смеси золотоносной руды не равна нулю, нулевые значения суммарной концентрации на других стадиях обогащения можно считать выбросами."
   ]
  },
  {
   "cell_type": "code",
   "execution_count": 27,
   "metadata": {},
   "outputs": [
    {
     "data": {
      "text/plain": [
       "0"
      ]
     },
     "execution_count": 27,
     "metadata": {},
     "output_type": "execute_result"
    }
   ],
   "source": [
    "#подсчет количества нулевых значений суммарной концентрации для исходного сырья\n",
    "len(data_full.query('rougher_input_feed == 0'))"
   ]
  },
  {
   "cell_type": "code",
   "execution_count": 28,
   "metadata": {},
   "outputs": [
    {
     "data": {
      "text/plain": [
       "591"
      ]
     },
     "execution_count": 28,
     "metadata": {},
     "output_type": "execute_result"
    }
   ],
   "source": [
    "#подсчет количества нулевых значений суммарной концентрации после флотации, первичной очистки и вторичной очистки\n",
    "data_full_sum_zero = data_full.query('rougher_output_concentrate == 0 or primary_cleaner_output_concentrate == 0 or final_output_concentrate==0')\n",
    "len(data_full_sum_zero)"
   ]
  },
  {
   "cell_type": "markdown",
   "metadata": {},
   "source": [
    "На этапе исходного сырья отсутствуют нулевые значения суммарной концентрации веществ, а на других этапах обогащения (после флотации, после первичной очистки и после вторичной очистки) общее количество нулевых значений составляет 591 наблюдение. Это выбросы. Посмотрим как они распределены по времени."
   ]
  },
  {
   "cell_type": "code",
   "execution_count": 29,
   "metadata": {},
   "outputs": [
    {
     "data": {
      "image/png": "[encoded data removed]",
      "text/plain": [
       "<Figure size 1152x288 with 1 Axes>"
      ]
     },
     "metadata": {
      "needs_background": "light"
     },
     "output_type": "display_data"
    }
   ],
   "source": [
    "#построение гистограммы\n",
    "data_full_sum_zero['date'].hist(figsize=(16,4), bins=30);"
   ]
  },
  {
   "cell_type": "markdown",
   "metadata": {},
   "source": [
    "На гистограмме показано распределение некорректных (нулевых) значений суммарной концентрации веществ по времени. Имеется некоторая динамика на увеличение появления таких значений, также видны всплески примерно каждые полгода. Наблюдаемая ситуация может быть связана со снижением качества работы оборудования (лаборатории), определяющего параметры текущего состояние этапа, с проведением регулярных пуско-наладочных работ на таком оборудовании, общим обеднением месторождения или с другими факторами.\n",
    "\n",
    "Определим количество некорректных наблюдений в тестовой и обучающей выборках."
   ]
  },
  {
   "cell_type": "code",
   "execution_count": 30,
   "metadata": {},
   "outputs": [
    {
     "data": {
      "text/plain": [
       "167"
      ]
     },
     "execution_count": 30,
     "metadata": {},
     "output_type": "execute_result"
    }
   ],
   "source": [
    "#подсчет нулевых значений суммарной концентрации\n",
    "test_sum_zero = list(set(data_test.index) & set(data_full_sum_zero.index))\n",
    "len(test_sum_zero)"
   ]
  },
  {
   "cell_type": "code",
   "execution_count": 31,
   "metadata": {},
   "outputs": [
    {
     "data": {
      "text/plain": [
       "424"
      ]
     },
     "execution_count": 31,
     "metadata": {},
     "output_type": "execute_result"
    }
   ],
   "source": [
    "#подсчет нулевых значений суммарной концентрации\n",
    "train_sum_zero = list(set(data_train.index) & set(data_full_sum_zero.index))\n",
    "len(train_sum_zero)"
   ]
  },
  {
   "cell_type": "markdown",
   "metadata": {},
   "source": [
    "Количество некорректных наблюдений для тестовой выборки - 167 (3% от общего количества наблюдений), для обучающей выборки - 424 (3% от общего количества наблюдений).\n",
    "\n",
    "Удалим такие наблюдения из тестовой и обучающей выборок."
   ]
  },
  {
   "cell_type": "code",
   "execution_count": 32,
   "metadata": {},
   "outputs": [
    {
     "data": {
      "text/plain": [
       "(13725, 87)"
      ]
     },
     "execution_count": 32,
     "metadata": {},
     "output_type": "execute_result"
    }
   ],
   "source": [
    "#удаление нулевых значений\n",
    "for ind in train_sum_zero:\n",
    "    data_train = data_train.drop(ind, 0)\n",
    "data_train.shape"
   ]
  },
  {
   "cell_type": "code",
   "execution_count": 33,
   "metadata": {},
   "outputs": [
    {
     "data": {
      "text/plain": [
       "(5123, 53)"
      ]
     },
     "execution_count": 33,
     "metadata": {},
     "output_type": "execute_result"
    }
   ],
   "source": [
    "#удаление нулевых значений\n",
    "for ind in test_sum_zero:\n",
    "    data_test = data_test.drop(ind, 0)\n",
    "data_test.shape"
   ]
  },
  {
   "cell_type": "markdown",
   "metadata": {},
   "source": [
    "### Вывод"
   ]
  },
  {
   "cell_type": "markdown",
   "metadata": {},
   "source": [
    "В результате анализа исходных данных выявлено следующее:\n",
    "- на различных этапах очистки наблюдается ожидаемое увеличение концентрации золота и свинца от начала до конца технологического процесса, в отличии от серебра, концентрация которого в финальном концентрате ниже чем в черновом,\n",
    "- распределения размеров гранул сырья на обучающей и тестовой выборках совпадают,\n",
    "- в результате исследования суммарной концентрации всех веществ на разных стадиях технологического процесса, выявлено наличие выбросов, они удалены из обучающей и тестовой выборок."
   ]
  },
  {
   "cell_type": "markdown",
   "metadata": {},
   "source": [
    "## Модель"
   ]
  },
  {
   "cell_type": "markdown",
   "metadata": {},
   "source": [
    "### Пишем функцию для вычисления sMAPE"
   ]
  },
  {
   "cell_type": "markdown",
   "metadata": {},
   "source": [
    "Оценивать качество модели будем метрикой sMAPE (Symmetric Mean Absolute Percentage Error). Она вычисляется по формуле:\n",
    "\n",
    "\n",
    "\n",
    "sMAPE = $\\frac{1}{N}\\sum_{i=1}^N\\frac{|y_i - \\hat{y_i}|}{(|y_i| + |\\hat{y_i}| )/ 2} * 100$%,\n",
    "\n",
    "где\n",
    "- $y_i$ - значение целевого признака для объекта с порядковым номером i в выборке, на которой измеряется качество,\n",
    "- $\\hat{y_i}$ - значение предсказания для объекта с порядковым номером i, например, в тестовой выборке,\n",
    "- $N$ - количество объектов в выборке.\n",
    "\n",
    "**Итоговое sMAPE = 25% * sMAPE(rougher) + 75% * sMAPE(final)**\n",
    "\n",
    "Таким образом нужно спрогнозировать сразу две величины:\n",
    "- эффективность обогащения чернового концентрата (rougher_output_recovery),\n",
    "- эффективность обогащения финального концентрата (final_output_recovery)\n",
    "\n",
    "Напишем функцию для рассчета sMAPE."
   ]
  },
  {
   "cell_type": "code",
   "execution_count": 34,
   "metadata": {},
   "outputs": [],
   "source": [
    "#поготовка функции\n",
    "def sMAPE_calculation_error(y_true, y_pred):\n",
    "    y_true = y_true.to_numpy()\n",
    "    sMAPE_rougher = (((np.abs(y_true[:, 0] - y_pred[:, 0])) / ((np.abs(y_true[:, 0]) + np.abs(y_pred[:, 0])) / 2)) * 100).mean()\n",
    "    sMAPE_final = (((np.abs(y_true[:, 1] - y_pred[:, 1])) / ((np.abs(y_true[:, 1]) + np.abs(y_pred[:, 1])) / 2)) * 100).mean()\n",
    "    sMAPE = 0.25 * sMAPE_rougher + 0.75 * sMAPE_final\n",
    "    return sMAPE"
   ]
  },
  {
   "cell_type": "code",
   "execution_count": 35,
   "metadata": {},
   "outputs": [],
   "source": [
    "#выделение признаков и целевого признака\n",
    "df = data_train.loc[:, data_test.columns]\n",
    "features = df.drop(['date'], axis=1)\n",
    "target = data_train[['rougher_output_recovery', 'final_output_recovery']]"
   ]
  },
  {
   "cell_type": "code",
   "execution_count": 36,
   "metadata": {},
   "outputs": [],
   "source": [
    "#разбиение данных на выборки\n",
    "features_train, features_valid, target_train, target_valid = train_test_split(features, target, test_size=0.25, random_state=12345)"
   ]
  },
  {
   "cell_type": "markdown",
   "metadata": {},
   "source": [
    "### Модель линейной регрессии"
   ]
  },
  {
   "cell_type": "code",
   "execution_count": 37,
   "metadata": {},
   "outputs": [
    {
     "data": {
      "text/plain": [
       "10.029323387636392"
      ]
     },
     "execution_count": 37,
     "metadata": {},
     "output_type": "execute_result"
    }
   ],
   "source": [
    "# обучение модели \n",
    "model = LinearRegression()\n",
    "scores = -1 * cross_val_score(model, features, target, cv=5, \n",
    "                              scoring=make_scorer(sMAPE_calculation_error, greater_is_better=False))\n",
    "final_score = scores.mean()\n",
    "final_score"
   ]
  },
  {
   "cell_type": "markdown",
   "metadata": {},
   "source": [
    "sMAPE для модели линейной регрессии на обучающей выборке - 10,03"
   ]
  },
  {
   "cell_type": "markdown",
   "metadata": {},
   "source": [
    "### Модель случайного леса"
   ]
  },
  {
   "cell_type": "raw",
   "metadata": {},
   "source": [
    "%%time\n",
    "# подбор наилучших гиперпараметров модели\n",
    "best_model_forest = None\n",
    "best_result = 1000\n",
    "best_depth = 0\n",
    "for depth in range (1, 30, 1):\n",
    "    model_forest = RandomForestRegressor(random_state=12345, n_estimators=20, max_depth=depth)\n",
    "    model_forest.fit(features_train, target_train)\n",
    "    predicted_valid = model_forest.predict(features_valid)\n",
    "    result = sMAPE_calculation_error(target_valid, predicted_valid)\n",
    "    if result < best_result:\n",
    "        best_model_forest = model_forest\n",
    "        best_result = result\n",
    "        best_depth = depth     \n",
    "                \n",
    "best_depth"
   ]
  },
  {
   "cell_type": "raw",
   "metadata": {},
   "source": [
    "%%time\n",
    "# подбор наилучших гиперпараметров модели\n",
    "best_model_forest = None\n",
    "best_result = 1000\n",
    "best_est = 0\n",
    "for est in range (1, 501, 50):\n",
    "    model_forest = RandomForestRegressor(random_state=12345, n_estimators=est, max_depth=21)\n",
    "    model_forest.fit(features_train, target_train)\n",
    "    predicted_valid = model_forest.predict(features_valid)\n",
    "    result = sMAPE_calculation_error(target_valid, predicted_valid)\n",
    "    if result < best_result:\n",
    "        best_model_forest = model_forest\n",
    "        best_result = result\n",
    "        best_est = est     \n",
    "                \n",
    "best_est"
   ]
  },
  {
   "cell_type": "code",
   "execution_count": 40,
   "metadata": {},
   "outputs": [
    {
     "name": "stdout",
     "output_type": "stream",
     "text": [
      "CPU times: user 18min 37s, sys: 576 ms, total: 18min 38s\n",
      "Wall time: 18min 47s\n"
     ]
    },
    {
     "data": {
      "text/plain": [
       "9.290460228569074"
      ]
     },
     "execution_count": 40,
     "metadata": {},
     "output_type": "execute_result"
    }
   ],
   "source": [
    "%%time\n",
    "model = RandomForestRegressor(random_state=12345, max_depth=21, n_estimators=451)\n",
    "scores = -1 * cross_val_score(model, features, target, cv=5, scoring=make_scorer(sMAPE_calculation_error, greater_is_better=False))\n",
    "final_score = scores.mean()\n",
    "final_score\n"
   ]
  },
  {
   "cell_type": "markdown",
   "metadata": {},
   "source": [
    "sMAPE для модели случайного леса на обучающей выборке - 9,28"
   ]
  },
  {
   "cell_type": "markdown",
   "metadata": {},
   "source": [
    "### Проверка модели на тестовой выборке"
   ]
  },
  {
   "cell_type": "markdown",
   "metadata": {},
   "source": [
    "Наилучший (наименьший) показатель sMAPE показала модель случайного леса с гипепарамрами: число деревьев - 451, максимальная глубина дерева - 21"
   ]
  },
  {
   "cell_type": "code",
   "execution_count": 47,
   "metadata": {},
   "outputs": [],
   "source": [
    "#задание параметров модели\n",
    "best_model = RandomForestRegressor(random_state=12345, max_depth=21, n_estimators=451)"
   ]
  },
  {
   "cell_type": "code",
   "execution_count": 48,
   "metadata": {},
   "outputs": [],
   "source": [
    "#выделение признаков и целевого признака\n",
    "data_test[['rougher_output_recovery', 'final_output_recovery']] = data_full[['rougher_output_recovery', 'final_output_recovery']]\n",
    "features_test = data_test.drop(['date', 'rougher_output_recovery', 'final_output_recovery'], axis=1)\n",
    "target_test = data_test[['rougher_output_recovery', 'final_output_recovery']]"
   ]
  },
  {
   "cell_type": "code",
   "execution_count": 49,
   "metadata": {},
   "outputs": [
    {
     "data": {
      "text/plain": [
       "1.9173430853182494"
      ]
     },
     "execution_count": 49,
     "metadata": {},
     "output_type": "execute_result"
    }
   ],
   "source": [
    "# обучение модели\n",
    "best_model.fit(features_test, target_test)\n",
    "predicted_test = best_model.predict(features_test)\n",
    "sMAPE_calculation_error(target_test, predicted_test)"
   ]
  },
  {
   "cell_type": "markdown",
   "metadata": {},
   "source": [
    "Значение sMAPE обученной модели случайного леса на тестовой выборке 1,92\n",
    "\n",
    "Проверим модель на адекватность. Для этого создадим константную модель, предсказывающую установленное значение - медиану для каждого из целевого признака"
   ]
  },
  {
   "cell_type": "code",
   "execution_count": 51,
   "metadata": {},
   "outputs": [],
   "source": [
    "#создание константной модели\n",
    "rougher_median = target_test['rougher_output_recovery'].median()\n",
    "final_median = target_test['final_output_recovery'].median()\n",
    "target_pred_consant = np.array(len(target_test) * [[rougher_median, final_median]]) "
   ]
  },
  {
   "cell_type": "code",
   "execution_count": 52,
   "metadata": {},
   "outputs": [
    {
     "data": {
      "text/plain": [
       "6.768070952594386"
      ]
     },
     "execution_count": 52,
     "metadata": {},
     "output_type": "execute_result"
    }
   ],
   "source": [
    "#оценка качества константной модели\n",
    "sMAPE_calculation_error(target_test, target_pred_consant)"
   ]
  },
  {
   "cell_type": "markdown",
   "metadata": {},
   "source": [
    "sMAPE константной модели (6,76) значительно выше sMAPE обученной модели (1,92), те обученная модель адекватна."
   ]
  },
  {
   "cell_type": "markdown",
   "metadata": {},
   "source": [
    "### Вывод"
   ]
  },
  {
   "cell_type": "markdown",
   "metadata": {},
   "source": [
    "Значение sMAPE обученной модели случайного леса (с гипепарамрами: число деревьев - 451, максимальная глубина дерева - 21) на тестовой выборке 1,92, что значительно превосходит качество константной модели."
   ]
  },
  {
   "cell_type": "markdown",
   "metadata": {},
   "source": [
    "## Общий вывод"
   ]
  },
  {
   "cell_type": "markdown",
   "metadata": {},
   "source": [
    "Подготовлен прототип модели машинного обучения для «Цифры» - компании разрабатывающей решения для эффективной работы промышленных предприятий.\n",
    "\n",
    "Модель на основе данных с параметрами добычи и очистки предсказывает коэффициент восстановления золота из золотосодержащей руды.\n",
    "\n",
    "Качество обученной модели оценивается метрикой sMAPE, ее значение для искомой модели на тестовой выборке - 1,92"
   ]
  }
 ],
 "metadata": {
  "ExecuteTimeLog": [
   {
    "duration": 1159,
    "start_time": "2022-03-07T07:10:31.370Z"
   },
   {
    "duration": 2107,
    "start_time": "2022-03-07T07:11:34.594Z"
   },
   {
    "duration": 2266,
    "start_time": "2022-03-07T07:12:08.570Z"
   },
   {
    "duration": 663,
    "start_time": "2022-03-07T07:12:58.810Z"
   },
   {
    "duration": 21,
    "start_time": "2022-03-07T07:13:36.483Z"
   },
   {
    "duration": 17,
    "start_time": "2022-03-07T07:14:19.939Z"
   },
   {
    "duration": 19,
    "start_time": "2022-03-07T07:15:04.019Z"
   },
   {
    "duration": 309,
    "start_time": "2022-03-07T07:27:35.527Z"
   },
   {
    "duration": 5,
    "start_time": "2022-03-07T07:27:38.566Z"
   },
   {
    "duration": 4,
    "start_time": "2022-03-07T07:29:19.878Z"
   },
   {
    "duration": 2,
    "start_time": "2022-03-07T07:45:11.016Z"
   },
   {
    "duration": 3,
    "start_time": "2022-03-07T07:45:28.140Z"
   },
   {
    "duration": 3,
    "start_time": "2022-03-07T07:45:30.007Z"
   },
   {
    "duration": 2,
    "start_time": "2022-03-07T07:46:25.801Z"
   },
   {
    "duration": 5,
    "start_time": "2022-03-07T07:46:32.464Z"
   },
   {
    "duration": 4,
    "start_time": "2022-03-07T07:46:52.074Z"
   },
   {
    "duration": 6,
    "start_time": "2022-03-07T07:47:21.826Z"
   },
   {
    "duration": 5,
    "start_time": "2022-03-07T07:47:39.010Z"
   },
   {
    "duration": 6,
    "start_time": "2022-03-07T07:47:56.617Z"
   },
   {
    "duration": 4,
    "start_time": "2022-03-07T07:51:55.509Z"
   },
   {
    "duration": 4,
    "start_time": "2022-03-07T07:52:06.181Z"
   },
   {
    "duration": 4,
    "start_time": "2022-03-07T07:52:24.717Z"
   },
   {
    "duration": 4,
    "start_time": "2022-03-07T07:52:45.357Z"
   },
   {
    "duration": 3,
    "start_time": "2022-03-07T07:52:52.573Z"
   },
   {
    "duration": 3,
    "start_time": "2022-03-07T07:53:21.813Z"
   },
   {
    "duration": 3,
    "start_time": "2022-03-07T07:53:25.445Z"
   },
   {
    "duration": 4,
    "start_time": "2022-03-07T07:53:33.198Z"
   },
   {
    "duration": 14,
    "start_time": "2022-03-07T10:02:41.225Z"
   },
   {
    "duration": 3,
    "start_time": "2022-03-07T11:08:55.925Z"
   },
   {
    "duration": 652,
    "start_time": "2022-03-07T11:08:55.930Z"
   },
   {
    "duration": 21,
    "start_time": "2022-03-07T11:08:56.584Z"
   },
   {
    "duration": 17,
    "start_time": "2022-03-07T11:08:56.607Z"
   },
   {
    "duration": 7,
    "start_time": "2022-03-07T11:08:56.625Z"
   },
   {
    "duration": 4,
    "start_time": "2022-03-07T11:08:56.634Z"
   },
   {
    "duration": 5,
    "start_time": "2022-03-07T11:08:56.639Z"
   },
   {
    "duration": 4,
    "start_time": "2022-03-07T11:08:56.646Z"
   },
   {
    "duration": 53,
    "start_time": "2022-03-07T11:08:56.651Z"
   },
   {
    "duration": 15,
    "start_time": "2022-03-07T11:08:56.705Z"
   },
   {
    "duration": 17,
    "start_time": "2022-03-07T11:09:47.404Z"
   },
   {
    "duration": 10,
    "start_time": "2022-03-07T11:09:54.486Z"
   },
   {
    "duration": 28,
    "start_time": "2022-03-07T11:49:22.006Z"
   },
   {
    "duration": 18,
    "start_time": "2022-03-07T11:53:35.194Z"
   },
   {
    "duration": 6,
    "start_time": "2022-03-07T12:11:44.242Z"
   },
   {
    "duration": 6,
    "start_time": "2022-03-07T12:11:54.425Z"
   },
   {
    "duration": 20,
    "start_time": "2022-03-07T12:15:31.684Z"
   },
   {
    "duration": 18,
    "start_time": "2022-03-07T12:15:46.692Z"
   },
   {
    "duration": 13,
    "start_time": "2022-03-07T12:17:48.538Z"
   },
   {
    "duration": 288,
    "start_time": "2022-03-09T11:57:03.360Z"
   },
   {
    "duration": 1219,
    "start_time": "2022-03-09T11:57:07.162Z"
   },
   {
    "duration": 691,
    "start_time": "2022-03-09T11:57:08.383Z"
   },
   {
    "duration": 8,
    "start_time": "2022-03-09T11:57:09.076Z"
   },
   {
    "duration": 27,
    "start_time": "2022-03-09T11:57:09.086Z"
   },
   {
    "duration": 23,
    "start_time": "2022-03-09T11:57:09.115Z"
   },
   {
    "duration": 32,
    "start_time": "2022-03-09T11:57:09.140Z"
   },
   {
    "duration": 11,
    "start_time": "2022-03-09T11:57:09.174Z"
   },
   {
    "duration": 29,
    "start_time": "2022-03-09T11:57:09.187Z"
   },
   {
    "duration": 23,
    "start_time": "2022-03-09T11:57:09.219Z"
   },
   {
    "duration": 24,
    "start_time": "2022-03-09T11:57:09.244Z"
   },
   {
    "duration": 18,
    "start_time": "2022-03-09T11:57:09.269Z"
   },
   {
    "duration": 23,
    "start_time": "2022-03-09T11:57:09.288Z"
   },
   {
    "duration": 15,
    "start_time": "2022-03-09T11:57:09.312Z"
   },
   {
    "duration": 37,
    "start_time": "2022-03-09T11:57:09.329Z"
   },
   {
    "duration": 33,
    "start_time": "2022-03-09T11:57:09.368Z"
   },
   {
    "duration": 6523,
    "start_time": "2022-03-09T11:57:09.403Z"
   },
   {
    "duration": 5,
    "start_time": "2022-03-09T11:57:27.769Z"
   },
   {
    "duration": 16,
    "start_time": "2022-03-09T11:57:37.329Z"
   },
   {
    "duration": 4,
    "start_time": "2022-03-09T12:49:17.322Z"
   },
   {
    "duration": 5,
    "start_time": "2022-03-09T12:49:32.310Z"
   },
   {
    "duration": 3,
    "start_time": "2022-03-09T12:56:56.085Z"
   },
   {
    "duration": 4,
    "start_time": "2022-03-09T12:57:35.292Z"
   },
   {
    "duration": 8,
    "start_time": "2022-03-09T13:06:30.718Z"
   },
   {
    "duration": 18,
    "start_time": "2022-03-09T13:06:39.984Z"
   },
   {
    "duration": 7,
    "start_time": "2022-03-09T13:47:38.868Z"
   },
   {
    "duration": 20,
    "start_time": "2022-03-09T13:47:48.073Z"
   },
   {
    "duration": 17,
    "start_time": "2022-03-09T13:52:53.568Z"
   },
   {
    "duration": 6,
    "start_time": "2022-03-09T13:52:55.363Z"
   },
   {
    "duration": 23,
    "start_time": "2022-03-09T13:53:07.004Z"
   },
   {
    "duration": 88,
    "start_time": "2022-03-09T13:59:45.324Z"
   },
   {
    "duration": 5,
    "start_time": "2022-03-09T13:59:52.172Z"
   },
   {
    "duration": 6,
    "start_time": "2022-03-09T13:59:58.561Z"
   },
   {
    "duration": 290,
    "start_time": "2022-03-09T14:01:01.449Z"
   },
   {
    "duration": 5,
    "start_time": "2022-03-09T14:05:58.381Z"
   },
   {
    "duration": 18,
    "start_time": "2022-03-09T14:06:01.189Z"
   },
   {
    "duration": 5,
    "start_time": "2022-03-09T14:06:29.696Z"
   },
   {
    "duration": 16,
    "start_time": "2022-03-09T14:06:31.837Z"
   },
   {
    "duration": 11,
    "start_time": "2022-03-09T14:06:41.444Z"
   },
   {
    "duration": 9,
    "start_time": "2022-03-09T14:07:00.541Z"
   },
   {
    "duration": 19,
    "start_time": "2022-03-09T14:07:03.765Z"
   },
   {
    "duration": 23,
    "start_time": "2022-03-09T14:07:18.009Z"
   },
   {
    "duration": 8,
    "start_time": "2022-03-09T14:07:22.772Z"
   },
   {
    "duration": 6,
    "start_time": "2022-03-09T14:07:27.542Z"
   },
   {
    "duration": 7,
    "start_time": "2022-03-09T14:07:33.382Z"
   },
   {
    "duration": 5,
    "start_time": "2022-03-09T14:07:42.853Z"
   },
   {
    "duration": 33,
    "start_time": "2022-03-09T14:07:45.718Z"
   },
   {
    "duration": 21,
    "start_time": "2022-03-09T14:07:48.838Z"
   },
   {
    "duration": 18,
    "start_time": "2022-03-09T14:08:51.183Z"
   },
   {
    "duration": 7,
    "start_time": "2022-03-09T14:09:28.369Z"
   },
   {
    "duration": 6,
    "start_time": "2022-03-09T14:09:30.416Z"
   },
   {
    "duration": 20,
    "start_time": "2022-03-09T14:09:32.342Z"
   },
   {
    "duration": 24,
    "start_time": "2022-03-09T14:10:13.729Z"
   },
   {
    "duration": 6597,
    "start_time": "2022-03-09T14:10:17.129Z"
   },
   {
    "duration": 6,
    "start_time": "2022-03-09T14:10:28.095Z"
   },
   {
    "duration": 21,
    "start_time": "2022-03-09T14:10:34.673Z"
   },
   {
    "duration": 19,
    "start_time": "2022-03-09T14:15:24.931Z"
   },
   {
    "duration": 23,
    "start_time": "2022-03-09T14:16:17.915Z"
   },
   {
    "duration": 22,
    "start_time": "2022-03-09T14:42:15.937Z"
   },
   {
    "duration": 21,
    "start_time": "2022-03-09T14:42:24.437Z"
   },
   {
    "duration": 21,
    "start_time": "2022-03-09T14:42:38.881Z"
   },
   {
    "duration": 22,
    "start_time": "2022-03-09T14:42:42.074Z"
   },
   {
    "duration": 4,
    "start_time": "2022-03-09T14:44:43.188Z"
   },
   {
    "duration": 6,
    "start_time": "2022-03-09T14:44:56.380Z"
   },
   {
    "duration": 5,
    "start_time": "2022-03-09T14:45:04.531Z"
   },
   {
    "duration": 22,
    "start_time": "2022-03-09T14:45:49.453Z"
   },
   {
    "duration": 3,
    "start_time": "2022-03-09T14:49:21.614Z"
   },
   {
    "duration": 5,
    "start_time": "2022-03-09T14:50:29.633Z"
   },
   {
    "duration": 5,
    "start_time": "2022-03-09T14:51:08.360Z"
   },
   {
    "duration": 45,
    "start_time": "2022-03-09T14:51:10.456Z"
   },
   {
    "duration": 9,
    "start_time": "2022-03-09T14:51:37.337Z"
   },
   {
    "duration": 283,
    "start_time": "2022-03-09T15:09:26.675Z"
   },
   {
    "duration": 576,
    "start_time": "2022-03-09T15:09:26.385Z"
   },
   {
    "duration": 92,
    "start_time": "2022-03-09T15:09:32.019Z"
   },
   {
    "duration": 88,
    "start_time": "2022-03-09T15:09:44.467Z"
   },
   {
    "duration": 10328,
    "start_time": "2022-03-09T15:18:26.916Z"
   },
   {
    "duration": 4,
    "start_time": "2022-03-09T15:18:42.754Z"
   },
   {
    "duration": 82,
    "start_time": "2022-03-09T15:18:47.830Z"
   },
   {
    "duration": 5,
    "start_time": "2022-03-09T15:19:43.332Z"
   },
   {
    "duration": 10,
    "start_time": "2022-03-09T15:19:50.684Z"
   },
   {
    "duration": 3,
    "start_time": "2022-03-09T15:20:41.172Z"
   },
   {
    "duration": 9,
    "start_time": "2022-03-09T15:20:44.149Z"
   },
   {
    "duration": 5107,
    "start_time": "2022-03-09T15:21:38.949Z"
   },
   {
    "duration": 12,
    "start_time": "2022-03-09T15:21:48.982Z"
   },
   {
    "duration": 4779,
    "start_time": "2022-03-09T15:23:24.486Z"
   },
   {
    "duration": 11,
    "start_time": "2022-03-09T15:23:37.263Z"
   },
   {
    "duration": 4886,
    "start_time": "2022-03-09T15:27:11.691Z"
   },
   {
    "duration": 5854,
    "start_time": "2022-03-09T15:27:20.370Z"
   },
   {
    "duration": 15,
    "start_time": "2022-03-09T15:27:37.842Z"
   },
   {
    "duration": 2650,
    "start_time": "2022-03-09T15:29:43.405Z"
   },
   {
    "duration": 16,
    "start_time": "2022-03-09T15:29:55.452Z"
   },
   {
    "duration": 22866,
    "start_time": "2022-03-09T15:32:19.695Z"
   },
   {
    "duration": 12,
    "start_time": "2022-03-09T15:33:10.096Z"
   },
   {
    "duration": 7775,
    "start_time": "2022-03-09T15:33:49.232Z"
   },
   {
    "duration": 11,
    "start_time": "2022-03-09T15:34:00.738Z"
   },
   {
    "duration": 7780,
    "start_time": "2022-03-09T15:37:31.347Z"
   },
   {
    "duration": 12,
    "start_time": "2022-03-09T15:37:41.787Z"
   },
   {
    "duration": 41257,
    "start_time": "2022-03-09T15:37:55.612Z"
   },
   {
    "duration": 729,
    "start_time": "2022-03-09T15:38:36.871Z"
   },
   {
    "duration": 106,
    "start_time": "2022-03-09T15:38:37.602Z"
   },
   {
    "duration": 386,
    "start_time": "2022-03-09T15:38:37.710Z"
   },
   {
    "duration": 641,
    "start_time": "2022-03-09T15:38:37.458Z"
   },
   {
    "duration": 637,
    "start_time": "2022-03-09T15:38:37.463Z"
   },
   {
    "duration": 627,
    "start_time": "2022-03-09T15:38:37.475Z"
   },
   {
    "duration": 625,
    "start_time": "2022-03-09T15:38:37.479Z"
   },
   {
    "duration": 623,
    "start_time": "2022-03-09T15:38:37.482Z"
   },
   {
    "duration": 623,
    "start_time": "2022-03-09T15:38:37.484Z"
   },
   {
    "duration": 621,
    "start_time": "2022-03-09T15:38:37.487Z"
   },
   {
    "duration": 621,
    "start_time": "2022-03-09T15:38:37.489Z"
   },
   {
    "duration": 621,
    "start_time": "2022-03-09T15:38:37.491Z"
   },
   {
    "duration": 619,
    "start_time": "2022-03-09T15:38:37.494Z"
   },
   {
    "duration": 619,
    "start_time": "2022-03-09T15:38:37.496Z"
   },
   {
    "duration": 619,
    "start_time": "2022-03-09T15:38:37.498Z"
   },
   {
    "duration": 618,
    "start_time": "2022-03-09T15:38:37.500Z"
   },
   {
    "duration": 617,
    "start_time": "2022-03-09T15:38:37.503Z"
   },
   {
    "duration": 616,
    "start_time": "2022-03-09T15:38:37.505Z"
   },
   {
    "duration": 616,
    "start_time": "2022-03-09T15:38:37.507Z"
   },
   {
    "duration": 105114,
    "start_time": "2022-03-09T15:39:38.077Z"
   },
   {
    "duration": 48151,
    "start_time": "2022-03-09T15:47:10.044Z"
   },
   {
    "duration": 51882,
    "start_time": "2022-03-09T16:15:57.497Z"
   },
   {
    "duration": 226,
    "start_time": "2022-03-10T06:07:06.490Z"
   },
   {
    "duration": 106651,
    "start_time": "2022-03-10T06:07:20.749Z"
   },
   {
    "duration": -224,
    "start_time": "2022-03-10T06:09:07.628Z"
   },
   {
    "duration": -227,
    "start_time": "2022-03-10T06:09:07.632Z"
   },
   {
    "duration": -229,
    "start_time": "2022-03-10T06:09:07.635Z"
   },
   {
    "duration": -234,
    "start_time": "2022-03-10T06:09:07.642Z"
   },
   {
    "duration": -235,
    "start_time": "2022-03-10T06:09:07.644Z"
   },
   {
    "duration": -237,
    "start_time": "2022-03-10T06:09:07.647Z"
   },
   {
    "duration": -237,
    "start_time": "2022-03-10T06:09:07.649Z"
   },
   {
    "duration": -239,
    "start_time": "2022-03-10T06:09:07.652Z"
   },
   {
    "duration": -240,
    "start_time": "2022-03-10T06:09:07.654Z"
   },
   {
    "duration": -241,
    "start_time": "2022-03-10T06:09:07.656Z"
   },
   {
    "duration": -242,
    "start_time": "2022-03-10T06:09:07.658Z"
   },
   {
    "duration": -244,
    "start_time": "2022-03-10T06:09:07.661Z"
   },
   {
    "duration": -245,
    "start_time": "2022-03-10T06:09:07.663Z"
   },
   {
    "duration": -246,
    "start_time": "2022-03-10T06:09:07.666Z"
   },
   {
    "duration": -247,
    "start_time": "2022-03-10T06:09:07.668Z"
   },
   {
    "duration": -248,
    "start_time": "2022-03-10T06:09:07.670Z"
   },
   {
    "duration": -249,
    "start_time": "2022-03-10T06:09:07.672Z"
   },
   {
    "duration": -250,
    "start_time": "2022-03-10T06:09:07.675Z"
   },
   {
    "duration": -251,
    "start_time": "2022-03-10T06:09:07.677Z"
   },
   {
    "duration": 4,
    "start_time": "2022-03-10T06:10:28.480Z"
   },
   {
    "duration": 1066,
    "start_time": "2022-03-10T06:10:38.787Z"
   },
   {
    "duration": 664,
    "start_time": "2022-03-10T06:10:39.854Z"
   },
   {
    "duration": 25,
    "start_time": "2022-03-10T06:10:40.520Z"
   },
   {
    "duration": 19,
    "start_time": "2022-03-10T06:10:40.547Z"
   },
   {
    "duration": 21,
    "start_time": "2022-03-10T06:10:40.568Z"
   },
   {
    "duration": 6,
    "start_time": "2022-03-10T06:10:40.591Z"
   },
   {
    "duration": 18,
    "start_time": "2022-03-10T06:10:40.598Z"
   },
   {
    "duration": 24,
    "start_time": "2022-03-10T06:10:40.618Z"
   },
   {
    "duration": 18,
    "start_time": "2022-03-10T06:10:40.644Z"
   },
   {
    "duration": 18,
    "start_time": "2022-03-10T06:10:40.664Z"
   },
   {
    "duration": 5,
    "start_time": "2022-03-10T06:10:40.684Z"
   },
   {
    "duration": 6,
    "start_time": "2022-03-10T06:10:40.691Z"
   },
   {
    "duration": 36,
    "start_time": "2022-03-10T06:10:40.699Z"
   },
   {
    "duration": 4,
    "start_time": "2022-03-10T06:10:40.736Z"
   },
   {
    "duration": 8,
    "start_time": "2022-03-10T06:10:40.742Z"
   },
   {
    "duration": 12,
    "start_time": "2022-03-10T06:10:40.751Z"
   },
   {
    "duration": 18,
    "start_time": "2022-03-10T06:10:40.764Z"
   },
   {
    "duration": 5,
    "start_time": "2022-03-10T06:10:40.783Z"
   },
   {
    "duration": 61,
    "start_time": "2022-03-10T06:10:40.789Z"
   },
   {
    "duration": 9,
    "start_time": "2022-03-10T06:27:25.110Z"
   },
   {
    "duration": 9,
    "start_time": "2022-03-10T06:28:29.484Z"
   },
   {
    "duration": 9,
    "start_time": "2022-03-10T06:28:35.877Z"
   },
   {
    "duration": 10,
    "start_time": "2022-03-10T06:28:41.492Z"
   },
   {
    "duration": 259,
    "start_time": "2022-03-10T06:31:28.470Z"
   },
   {
    "duration": 9,
    "start_time": "2022-03-10T06:31:38.063Z"
   },
   {
    "duration": 199,
    "start_time": "2022-03-10T06:33:20.271Z"
   },
   {
    "duration": 9,
    "start_time": "2022-03-10T06:33:59.672Z"
   },
   {
    "duration": 184,
    "start_time": "2022-03-10T06:34:07.207Z"
   },
   {
    "duration": 203,
    "start_time": "2022-03-10T06:34:34.415Z"
   },
   {
    "duration": 182,
    "start_time": "2022-03-10T06:34:44.600Z"
   },
   {
    "duration": 8,
    "start_time": "2022-03-10T06:35:27.817Z"
   },
   {
    "duration": 8,
    "start_time": "2022-03-10T06:36:22.633Z"
   },
   {
    "duration": 231,
    "start_time": "2022-03-10T06:36:49.985Z"
   },
   {
    "duration": 181,
    "start_time": "2022-03-10T06:36:55.008Z"
   },
   {
    "duration": 10,
    "start_time": "2022-03-10T06:37:05.779Z"
   },
   {
    "duration": 228,
    "start_time": "2022-03-10T06:42:57.648Z"
   },
   {
    "duration": 11,
    "start_time": "2022-03-10T06:43:33.934Z"
   },
   {
    "duration": 10,
    "start_time": "2022-03-10T06:43:42.943Z"
   },
   {
    "duration": 10,
    "start_time": "2022-03-10T06:43:53.567Z"
   },
   {
    "duration": 10,
    "start_time": "2022-03-10T06:43:57.824Z"
   },
   {
    "duration": 11,
    "start_time": "2022-03-10T06:44:05.063Z"
   },
   {
    "duration": 10,
    "start_time": "2022-03-10T06:44:28.219Z"
   },
   {
    "duration": 11,
    "start_time": "2022-03-10T06:44:35.911Z"
   },
   {
    "duration": 12,
    "start_time": "2022-03-10T06:44:41.319Z"
   },
   {
    "duration": 10,
    "start_time": "2022-03-10T06:44:53.343Z"
   },
   {
    "duration": 10,
    "start_time": "2022-03-10T06:44:57.648Z"
   },
   {
    "duration": 10,
    "start_time": "2022-03-10T06:46:08.010Z"
   },
   {
    "duration": 9,
    "start_time": "2022-03-10T06:46:43.113Z"
   },
   {
    "duration": 104,
    "start_time": "2022-03-10T06:48:37.435Z"
   },
   {
    "duration": 11,
    "start_time": "2022-03-10T06:49:41.307Z"
   },
   {
    "duration": 60,
    "start_time": "2022-03-10T06:52:53.713Z"
   },
   {
    "duration": 4,
    "start_time": "2022-03-10T06:53:10.454Z"
   },
   {
    "duration": 164,
    "start_time": "2022-03-10T06:53:40.643Z"
   },
   {
    "duration": 3,
    "start_time": "2022-03-10T06:53:46.448Z"
   },
   {
    "duration": 159,
    "start_time": "2022-03-10T06:53:49.000Z"
   },
   {
    "duration": 53,
    "start_time": "2022-03-10T06:56:19.601Z"
   },
   {
    "duration": 132,
    "start_time": "2022-03-10T06:57:14.313Z"
   },
   {
    "duration": 4,
    "start_time": "2022-03-10T06:57:50.636Z"
   },
   {
    "duration": 644,
    "start_time": "2022-03-10T06:57:50.642Z"
   },
   {
    "duration": 4,
    "start_time": "2022-03-10T06:57:51.288Z"
   },
   {
    "duration": 178,
    "start_time": "2022-03-10T06:57:51.294Z"
   },
   {
    "duration": 80,
    "start_time": "2022-03-10T06:57:51.474Z"
   },
   {
    "duration": 148,
    "start_time": "2022-03-10T06:57:51.555Z"
   },
   {
    "duration": 6,
    "start_time": "2022-03-10T06:57:51.705Z"
   },
   {
    "duration": 21,
    "start_time": "2022-03-10T06:57:51.712Z"
   },
   {
    "duration": 3,
    "start_time": "2022-03-10T06:57:51.736Z"
   },
   {
    "duration": 5,
    "start_time": "2022-03-10T06:57:51.741Z"
   },
   {
    "duration": 6,
    "start_time": "2022-03-10T06:57:51.748Z"
   },
   {
    "duration": 4,
    "start_time": "2022-03-10T06:57:51.755Z"
   },
   {
    "duration": 7,
    "start_time": "2022-03-10T06:57:51.761Z"
   },
   {
    "duration": 14,
    "start_time": "2022-03-10T06:57:51.770Z"
   },
   {
    "duration": 5,
    "start_time": "2022-03-10T06:57:51.785Z"
   },
   {
    "duration": 63,
    "start_time": "2022-03-10T06:57:51.791Z"
   },
   {
    "duration": 29,
    "start_time": "2022-03-10T08:07:07.972Z"
   },
   {
    "duration": 1271,
    "start_time": "2022-03-10T08:07:26.906Z"
   },
   {
    "duration": 25,
    "start_time": "2022-03-10T08:08:25.603Z"
   },
   {
    "duration": 7,
    "start_time": "2022-03-10T08:12:31.085Z"
   },
   {
    "duration": 25,
    "start_time": "2022-03-10T08:12:35.277Z"
   },
   {
    "duration": 15,
    "start_time": "2022-03-10T08:12:55.638Z"
   },
   {
    "duration": 24,
    "start_time": "2022-03-10T08:13:08.206Z"
   },
   {
    "duration": 13,
    "start_time": "2022-03-10T08:14:34.968Z"
   },
   {
    "duration": 174,
    "start_time": "2022-03-10T10:23:52.214Z"
   },
   {
    "duration": 174,
    "start_time": "2022-03-10T10:23:58.630Z"
   },
   {
    "duration": 185,
    "start_time": "2022-03-10T10:24:13.165Z"
   },
   {
    "duration": 4,
    "start_time": "2022-03-10T10:24:57.958Z"
   },
   {
    "duration": 3,
    "start_time": "2022-03-10T10:27:01.182Z"
   },
   {
    "duration": 3,
    "start_time": "2022-03-10T10:27:03.023Z"
   },
   {
    "duration": 2,
    "start_time": "2022-03-10T10:27:04.806Z"
   },
   {
    "duration": 5,
    "start_time": "2022-03-10T10:32:57.072Z"
   },
   {
    "duration": 4494,
    "start_time": "2022-03-10T11:39:18.359Z"
   },
   {
    "duration": 16,
    "start_time": "2022-03-10T11:40:40.528Z"
   },
   {
    "duration": 4,
    "start_time": "2022-03-10T11:45:44.931Z"
   },
   {
    "duration": 5,
    "start_time": "2022-03-10T11:46:04.891Z"
   },
   {
    "duration": 5,
    "start_time": "2022-03-10T11:46:17.820Z"
   },
   {
    "duration": 4,
    "start_time": "2022-03-10T11:46:41.283Z"
   },
   {
    "duration": 9,
    "start_time": "2022-03-10T11:47:21.876Z"
   },
   {
    "duration": 187,
    "start_time": "2022-03-10T11:47:44.955Z"
   },
   {
    "duration": 17,
    "start_time": "2022-03-10T11:49:24.421Z"
   },
   {
    "duration": 11,
    "start_time": "2022-03-10T11:53:53.784Z"
   },
   {
    "duration": 14,
    "start_time": "2022-03-10T12:33:47.317Z"
   },
   {
    "duration": 4,
    "start_time": "2022-03-10T12:38:43.537Z"
   },
   {
    "duration": 15,
    "start_time": "2022-03-10T12:39:35.318Z"
   },
   {
    "duration": 201,
    "start_time": "2022-03-10T12:39:49.131Z"
   },
   {
    "duration": 6138,
    "start_time": "2022-03-10T12:45:42.689Z"
   },
   {
    "duration": 170,
    "start_time": "2022-03-10T12:48:42.778Z"
   },
   {
    "duration": 4226,
    "start_time": "2022-03-10T12:49:19.274Z"
   },
   {
    "duration": 350,
    "start_time": "2022-03-10T12:53:08.901Z"
   },
   {
    "duration": 215,
    "start_time": "2022-03-10T12:53:32.989Z"
   },
   {
    "duration": 489,
    "start_time": "2022-03-10T12:55:01.639Z"
   },
   {
    "duration": 227,
    "start_time": "2022-03-10T12:55:58.111Z"
   },
   {
    "duration": 305,
    "start_time": "2022-03-10T12:56:28.528Z"
   },
   {
    "duration": 263,
    "start_time": "2022-03-10T12:56:53.207Z"
   },
   {
    "duration": 213,
    "start_time": "2022-03-10T12:57:21.415Z"
   },
   {
    "duration": 218,
    "start_time": "2022-03-10T12:58:05.280Z"
   },
   {
    "duration": 218,
    "start_time": "2022-03-10T12:58:40.650Z"
   },
   {
    "duration": 344,
    "start_time": "2022-03-10T12:58:46.713Z"
   },
   {
    "duration": 72,
    "start_time": "2022-03-10T12:58:54.304Z"
   },
   {
    "duration": 227,
    "start_time": "2022-03-10T12:59:00.010Z"
   },
   {
    "duration": 235,
    "start_time": "2022-03-10T12:59:04.937Z"
   },
   {
    "duration": 223,
    "start_time": "2022-03-10T12:59:16.153Z"
   },
   {
    "duration": 222,
    "start_time": "2022-03-10T12:59:28.169Z"
   },
   {
    "duration": 222,
    "start_time": "2022-03-10T12:59:33.889Z"
   },
   {
    "duration": 307,
    "start_time": "2022-03-10T12:59:48.641Z"
   },
   {
    "duration": 232,
    "start_time": "2022-03-10T13:00:01.465Z"
   },
   {
    "duration": 265,
    "start_time": "2022-03-10T13:00:17.497Z"
   },
   {
    "duration": 230,
    "start_time": "2022-03-10T13:00:34.626Z"
   },
   {
    "duration": 222,
    "start_time": "2022-03-10T13:00:48.977Z"
   },
   {
    "duration": 216,
    "start_time": "2022-03-10T13:02:29.242Z"
   },
   {
    "duration": 360,
    "start_time": "2022-03-10T13:06:48.757Z"
   },
   {
    "duration": 379,
    "start_time": "2022-03-10T13:06:57.391Z"
   },
   {
    "duration": 213,
    "start_time": "2022-03-10T13:07:59.582Z"
   },
   {
    "duration": 211,
    "start_time": "2022-03-10T13:08:13.775Z"
   },
   {
    "duration": 220,
    "start_time": "2022-03-10T13:08:27.630Z"
   },
   {
    "duration": 293,
    "start_time": "2022-03-10T13:09:46.289Z"
   },
   {
    "duration": 215,
    "start_time": "2022-03-10T13:09:55.792Z"
   },
   {
    "duration": 221,
    "start_time": "2022-03-10T13:10:06.232Z"
   },
   {
    "duration": 209,
    "start_time": "2022-03-10T13:11:12.154Z"
   },
   {
    "duration": 207,
    "start_time": "2022-03-10T13:11:32.874Z"
   },
   {
    "duration": 208,
    "start_time": "2022-03-10T13:11:41.674Z"
   },
   {
    "duration": 309,
    "start_time": "2022-03-10T13:11:49.643Z"
   },
   {
    "duration": 213,
    "start_time": "2022-03-10T13:12:09.690Z"
   },
   {
    "duration": 227,
    "start_time": "2022-03-10T13:12:14.930Z"
   },
   {
    "duration": 228,
    "start_time": "2022-03-10T13:12:26.427Z"
   },
   {
    "duration": 215,
    "start_time": "2022-03-10T13:12:29.620Z"
   },
   {
    "duration": 306,
    "start_time": "2022-03-10T13:12:39.626Z"
   },
   {
    "duration": 211,
    "start_time": "2022-03-10T13:12:46.700Z"
   },
   {
    "duration": 215,
    "start_time": "2022-03-10T13:12:51.484Z"
   },
   {
    "duration": 211,
    "start_time": "2022-03-10T13:12:55.493Z"
   },
   {
    "duration": 208,
    "start_time": "2022-03-10T13:13:05.396Z"
   },
   {
    "duration": 215,
    "start_time": "2022-03-10T13:13:19.805Z"
   },
   {
    "duration": 213,
    "start_time": "2022-03-10T13:13:25.884Z"
   },
   {
    "duration": 211,
    "start_time": "2022-03-10T13:13:29.557Z"
   },
   {
    "duration": 212,
    "start_time": "2022-03-10T13:13:33.693Z"
   },
   {
    "duration": 208,
    "start_time": "2022-03-10T13:13:38.412Z"
   },
   {
    "duration": 211,
    "start_time": "2022-03-10T13:13:46.460Z"
   },
   {
    "duration": 427,
    "start_time": "2022-03-10T13:13:51.524Z"
   },
   {
    "duration": 211,
    "start_time": "2022-03-10T13:14:19.045Z"
   },
   {
    "duration": 222,
    "start_time": "2022-03-10T13:14:34.445Z"
   },
   {
    "duration": 226,
    "start_time": "2022-03-10T13:14:37.990Z"
   },
   {
    "duration": 219,
    "start_time": "2022-03-10T13:14:42.669Z"
   },
   {
    "duration": 219,
    "start_time": "2022-03-10T13:14:45.686Z"
   },
   {
    "duration": 234,
    "start_time": "2022-03-10T13:14:49.198Z"
   },
   {
    "duration": 210,
    "start_time": "2022-03-10T13:14:54.134Z"
   },
   {
    "duration": 276,
    "start_time": "2022-03-10T13:15:06.677Z"
   },
   {
    "duration": 218,
    "start_time": "2022-03-10T13:17:05.760Z"
   },
   {
    "duration": 171,
    "start_time": "2022-03-10T13:17:41.328Z"
   },
   {
    "duration": 15,
    "start_time": "2022-03-10T13:17:45.035Z"
   },
   {
    "duration": 206,
    "start_time": "2022-03-10T13:17:46.666Z"
   },
   {
    "duration": 293,
    "start_time": "2022-03-10T13:21:44.052Z"
   },
   {
    "duration": 210,
    "start_time": "2022-03-10T13:35:30.662Z"
   },
   {
    "duration": 173,
    "start_time": "2022-03-10T13:35:57.046Z"
   },
   {
    "duration": 337,
    "start_time": "2022-03-10T13:36:08.336Z"
   },
   {
    "duration": 218,
    "start_time": "2022-03-10T13:36:17.391Z"
   },
   {
    "duration": 380,
    "start_time": "2022-03-10T13:38:59.144Z"
   },
   {
    "duration": 379,
    "start_time": "2022-03-10T13:39:26.328Z"
   },
   {
    "duration": 350,
    "start_time": "2022-03-10T13:39:55.696Z"
   },
   {
    "duration": 605,
    "start_time": "2022-03-10T13:40:14.724Z"
   },
   {
    "duration": 219,
    "start_time": "2022-03-10T13:40:48.433Z"
   },
   {
    "duration": 405,
    "start_time": "2022-03-10T13:41:29.865Z"
   },
   {
    "duration": 209,
    "start_time": "2022-03-10T13:45:50.687Z"
   },
   {
    "duration": 188,
    "start_time": "2022-03-10T13:46:07.904Z"
   },
   {
    "duration": 267,
    "start_time": "2022-03-10T13:46:12.735Z"
   },
   {
    "duration": 193,
    "start_time": "2022-03-10T13:47:31.425Z"
   },
   {
    "duration": 192,
    "start_time": "2022-03-10T13:48:16.985Z"
   },
   {
    "duration": 27,
    "start_time": "2022-03-10T13:49:02.242Z"
   },
   {
    "duration": 406,
    "start_time": "2022-03-10T14:08:26.764Z"
   },
   {
    "duration": 410,
    "start_time": "2022-03-10T14:08:52.830Z"
   },
   {
    "duration": 184,
    "start_time": "2022-03-10T14:12:47.145Z"
   },
   {
    "duration": 179,
    "start_time": "2022-03-10T14:13:36.200Z"
   },
   {
    "duration": 185,
    "start_time": "2022-03-10T14:13:41.025Z"
   },
   {
    "duration": 185,
    "start_time": "2022-03-10T14:14:03.089Z"
   },
   {
    "duration": 190,
    "start_time": "2022-03-10T14:14:22.937Z"
   },
   {
    "duration": 261,
    "start_time": "2022-03-10T14:15:56.322Z"
   },
   {
    "duration": 175,
    "start_time": "2022-03-10T14:16:08.782Z"
   },
   {
    "duration": 185,
    "start_time": "2022-03-10T14:17:45.364Z"
   },
   {
    "duration": 174,
    "start_time": "2022-03-10T14:19:42.678Z"
   },
   {
    "duration": 297,
    "start_time": "2022-03-10T14:20:04.766Z"
   },
   {
    "duration": 202,
    "start_time": "2022-03-10T14:20:23.918Z"
   },
   {
    "duration": 192,
    "start_time": "2022-03-10T14:20:37.536Z"
   },
   {
    "duration": 180,
    "start_time": "2022-03-10T14:20:43.695Z"
   },
   {
    "duration": 208,
    "start_time": "2022-03-10T14:20:49.559Z"
   },
   {
    "duration": 194,
    "start_time": "2022-03-10T14:21:16.239Z"
   },
   {
    "duration": 184,
    "start_time": "2022-03-10T14:23:54.081Z"
   },
   {
    "duration": 438,
    "start_time": "2022-03-10T14:24:11.338Z"
   },
   {
    "duration": 189,
    "start_time": "2022-03-10T14:32:05.697Z"
   },
   {
    "duration": 9,
    "start_time": "2022-03-10T14:33:29.380Z"
   },
   {
    "duration": 15,
    "start_time": "2022-03-10T14:33:31.897Z"
   },
   {
    "duration": 18,
    "start_time": "2022-03-10T14:33:44.257Z"
   },
   {
    "duration": 9,
    "start_time": "2022-03-10T14:34:12.586Z"
   },
   {
    "duration": 12,
    "start_time": "2022-03-10T14:34:16.962Z"
   },
   {
    "duration": 16,
    "start_time": "2022-03-10T14:42:33.420Z"
   },
   {
    "duration": 15,
    "start_time": "2022-03-10T14:42:45.777Z"
   },
   {
    "duration": 17,
    "start_time": "2022-03-10T14:43:31.842Z"
   },
   {
    "duration": 15,
    "start_time": "2022-03-10T14:43:39.626Z"
   },
   {
    "duration": 15,
    "start_time": "2022-03-10T14:43:58.145Z"
   },
   {
    "duration": 15,
    "start_time": "2022-03-10T14:44:17.123Z"
   },
   {
    "duration": 15,
    "start_time": "2022-03-10T14:44:46.651Z"
   },
   {
    "duration": 16,
    "start_time": "2022-03-10T14:47:06.516Z"
   },
   {
    "duration": 16,
    "start_time": "2022-03-10T14:47:12.869Z"
   },
   {
    "duration": 186,
    "start_time": "2022-03-10T14:48:20.893Z"
   },
   {
    "duration": 194,
    "start_time": "2022-03-10T14:49:03.630Z"
   },
   {
    "duration": 189,
    "start_time": "2022-03-10T14:49:24.823Z"
   },
   {
    "duration": 26,
    "start_time": "2022-03-10T15:01:12.256Z"
   },
   {
    "duration": 24,
    "start_time": "2022-03-10T15:02:46.130Z"
   },
   {
    "duration": 24,
    "start_time": "2022-03-10T15:02:56.227Z"
   },
   {
    "duration": 46,
    "start_time": "2022-03-10T15:17:04.200Z"
   },
   {
    "duration": 46,
    "start_time": "2022-03-10T15:17:18.801Z"
   },
   {
    "duration": 23,
    "start_time": "2022-03-10T15:17:59.624Z"
   },
   {
    "duration": 19,
    "start_time": "2022-03-10T15:18:18.272Z"
   },
   {
    "duration": 6,
    "start_time": "2022-03-10T15:18:49.641Z"
   },
   {
    "duration": 17,
    "start_time": "2022-03-10T15:19:13.304Z"
   },
   {
    "duration": 21,
    "start_time": "2022-03-10T15:19:52.977Z"
   },
   {
    "duration": 25,
    "start_time": "2022-03-10T15:20:02.785Z"
   },
   {
    "duration": 43,
    "start_time": "2022-03-10T15:24:43.406Z"
   },
   {
    "duration": 23,
    "start_time": "2022-03-10T15:35:01.670Z"
   },
   {
    "duration": 24,
    "start_time": "2022-03-10T15:35:33.240Z"
   },
   {
    "duration": 41,
    "start_time": "2022-03-10T15:37:13.480Z"
   },
   {
    "duration": 39,
    "start_time": "2022-03-10T15:37:19.873Z"
   },
   {
    "duration": 18,
    "start_time": "2022-03-10T15:37:48.522Z"
   },
   {
    "duration": 19,
    "start_time": "2022-03-10T15:38:11.864Z"
   },
   {
    "duration": 23,
    "start_time": "2022-03-10T15:38:23.266Z"
   },
   {
    "duration": 14,
    "start_time": "2022-03-10T15:38:38.962Z"
   },
   {
    "duration": 12,
    "start_time": "2022-03-10T15:38:52.363Z"
   },
   {
    "duration": 16,
    "start_time": "2022-03-10T15:39:04.131Z"
   },
   {
    "duration": 210,
    "start_time": "2022-03-10T15:45:32.625Z"
   },
   {
    "duration": 260,
    "start_time": "2022-03-10T15:45:47.752Z"
   },
   {
    "duration": 161,
    "start_time": "2022-03-10T15:51:54.148Z"
   },
   {
    "duration": 167,
    "start_time": "2022-03-10T15:51:58.477Z"
   },
   {
    "duration": 188,
    "start_time": "2022-03-10T15:52:01.363Z"
   },
   {
    "duration": 198,
    "start_time": "2022-03-10T15:52:08.088Z"
   },
   {
    "duration": 195,
    "start_time": "2022-03-10T15:52:18.484Z"
   },
   {
    "duration": 198,
    "start_time": "2022-03-10T15:52:21.590Z"
   },
   {
    "duration": 334,
    "start_time": "2022-03-10T15:54:51.952Z"
   },
   {
    "duration": 315,
    "start_time": "2022-03-10T15:57:36.458Z"
   },
   {
    "duration": 393,
    "start_time": "2022-03-10T15:57:44.385Z"
   },
   {
    "duration": 322,
    "start_time": "2022-03-10T15:58:26.250Z"
   },
   {
    "duration": 306,
    "start_time": "2022-03-10T15:58:39.666Z"
   },
   {
    "duration": 5,
    "start_time": "2022-03-10T17:49:13.992Z"
   },
   {
    "duration": 29,
    "start_time": "2022-03-10T17:49:26.270Z"
   },
   {
    "duration": 34,
    "start_time": "2022-03-10T17:52:15.321Z"
   },
   {
    "duration": 23,
    "start_time": "2022-03-10T17:53:29.522Z"
   },
   {
    "duration": 166,
    "start_time": "2022-03-10T17:59:12.707Z"
   },
   {
    "duration": 155,
    "start_time": "2022-03-10T17:59:22.419Z"
   },
   {
    "duration": 198,
    "start_time": "2022-03-10T18:01:49.900Z"
   },
   {
    "duration": 195,
    "start_time": "2022-03-10T18:02:10.804Z"
   },
   {
    "duration": 187,
    "start_time": "2022-03-10T18:02:23.453Z"
   },
   {
    "duration": 442,
    "start_time": "2022-03-10T18:03:47.325Z"
   },
   {
    "duration": 152,
    "start_time": "2022-03-10T18:05:55.118Z"
   },
   {
    "duration": 158,
    "start_time": "2022-03-10T18:06:13.406Z"
   },
   {
    "duration": 159,
    "start_time": "2022-03-10T18:10:26.192Z"
   },
   {
    "duration": 165,
    "start_time": "2022-03-10T18:10:29.936Z"
   },
   {
    "duration": 150,
    "start_time": "2022-03-10T18:10:32.864Z"
   },
   {
    "duration": 157,
    "start_time": "2022-03-10T18:10:36.833Z"
   },
   {
    "duration": 162,
    "start_time": "2022-03-10T18:10:39.977Z"
   },
   {
    "duration": 150,
    "start_time": "2022-03-10T18:10:45.400Z"
   },
   {
    "duration": 159,
    "start_time": "2022-03-10T18:10:48.137Z"
   },
   {
    "duration": 156,
    "start_time": "2022-03-10T18:10:52.977Z"
   },
   {
    "duration": 150,
    "start_time": "2022-03-10T18:10:57.784Z"
   },
   {
    "duration": 151,
    "start_time": "2022-03-10T18:11:06.545Z"
   },
   {
    "duration": 155,
    "start_time": "2022-03-10T18:11:10.018Z"
   },
   {
    "duration": 156,
    "start_time": "2022-03-10T18:11:15.929Z"
   },
   {
    "duration": 176,
    "start_time": "2022-03-10T18:20:43.631Z"
   },
   {
    "duration": 204,
    "start_time": "2022-03-10T18:21:26.686Z"
   },
   {
    "duration": 219,
    "start_time": "2022-03-10T18:21:40.614Z"
   },
   {
    "duration": 347,
    "start_time": "2022-03-10T18:21:47.326Z"
   },
   {
    "duration": 255,
    "start_time": "2022-03-10T18:21:55.007Z"
   },
   {
    "duration": 255,
    "start_time": "2022-03-10T18:23:45.158Z"
   },
   {
    "duration": 247,
    "start_time": "2022-03-10T18:25:00.601Z"
   },
   {
    "duration": 1233,
    "start_time": "2022-03-10T18:29:01.917Z"
   },
   {
    "duration": 653,
    "start_time": "2022-03-10T18:29:03.153Z"
   },
   {
    "duration": 3,
    "start_time": "2022-03-10T18:29:03.808Z"
   },
   {
    "duration": 174,
    "start_time": "2022-03-10T18:29:03.813Z"
   },
   {
    "duration": 70,
    "start_time": "2022-03-10T18:29:03.989Z"
   },
   {
    "duration": 157,
    "start_time": "2022-03-10T18:29:04.060Z"
   },
   {
    "duration": 5,
    "start_time": "2022-03-10T18:29:04.218Z"
   },
   {
    "duration": 16,
    "start_time": "2022-03-10T18:29:04.234Z"
   },
   {
    "duration": 2,
    "start_time": "2022-03-10T18:29:04.252Z"
   },
   {
    "duration": 14,
    "start_time": "2022-03-10T18:29:04.256Z"
   },
   {
    "duration": 18,
    "start_time": "2022-03-10T18:29:04.271Z"
   },
   {
    "duration": 5,
    "start_time": "2022-03-10T18:29:04.291Z"
   },
   {
    "duration": 5,
    "start_time": "2022-03-10T18:29:04.298Z"
   },
   {
    "duration": 32,
    "start_time": "2022-03-10T18:29:04.305Z"
   },
   {
    "duration": 20,
    "start_time": "2022-03-10T18:29:04.339Z"
   },
   {
    "duration": 16,
    "start_time": "2022-03-10T18:29:04.360Z"
   },
   {
    "duration": 14,
    "start_time": "2022-03-10T18:29:04.378Z"
   },
   {
    "duration": 236,
    "start_time": "2022-03-10T18:29:04.394Z"
   },
   {
    "duration": 192,
    "start_time": "2022-03-10T18:29:04.633Z"
   },
   {
    "duration": 343,
    "start_time": "2022-03-10T18:29:04.827Z"
   },
   {
    "duration": 25,
    "start_time": "2022-03-10T18:29:05.172Z"
   },
   {
    "duration": 272,
    "start_time": "2022-03-10T18:29:05.199Z"
   },
   {
    "duration": 333,
    "start_time": "2022-03-11T10:46:20.105Z"
   },
   {
    "duration": 1161,
    "start_time": "2022-03-11T10:46:23.686Z"
   },
   {
    "duration": 654,
    "start_time": "2022-03-11T10:46:24.848Z"
   },
   {
    "duration": 4,
    "start_time": "2022-03-11T10:46:25.503Z"
   },
   {
    "duration": 168,
    "start_time": "2022-03-11T10:46:25.509Z"
   },
   {
    "duration": 57,
    "start_time": "2022-03-11T10:46:25.679Z"
   },
   {
    "duration": 140,
    "start_time": "2022-03-11T10:46:25.738Z"
   },
   {
    "duration": 4,
    "start_time": "2022-03-11T10:46:25.880Z"
   },
   {
    "duration": 35,
    "start_time": "2022-03-11T10:46:25.885Z"
   },
   {
    "duration": 3,
    "start_time": "2022-03-11T10:46:25.923Z"
   },
   {
    "duration": 9,
    "start_time": "2022-03-11T10:46:25.928Z"
   },
   {
    "duration": 14,
    "start_time": "2022-03-11T10:46:25.938Z"
   },
   {
    "duration": 4,
    "start_time": "2022-03-11T10:46:25.953Z"
   },
   {
    "duration": 4,
    "start_time": "2022-03-11T10:46:25.958Z"
   },
   {
    "duration": 8,
    "start_time": "2022-03-11T10:46:25.963Z"
   },
   {
    "duration": 38,
    "start_time": "2022-03-11T10:46:25.972Z"
   },
   {
    "duration": 13,
    "start_time": "2022-03-11T10:46:26.011Z"
   },
   {
    "duration": 13,
    "start_time": "2022-03-11T10:46:26.025Z"
   },
   {
    "duration": 199,
    "start_time": "2022-03-11T10:46:26.039Z"
   },
   {
    "duration": 176,
    "start_time": "2022-03-11T10:46:26.239Z"
   },
   {
    "duration": 293,
    "start_time": "2022-03-11T10:46:26.416Z"
   },
   {
    "duration": 21,
    "start_time": "2022-03-11T10:46:26.711Z"
   },
   {
    "duration": 252,
    "start_time": "2022-03-11T10:46:26.734Z"
   },
   {
    "duration": 8214,
    "start_time": "2022-03-11T10:47:31.561Z"
   },
   {
    "duration": 18,
    "start_time": "2022-03-11T10:47:41.777Z"
   },
   {
    "duration": 25,
    "start_time": "2022-03-11T10:48:00.824Z"
   },
   {
    "duration": 19,
    "start_time": "2022-03-11T10:48:35.673Z"
   },
   {
    "duration": 10,
    "start_time": "2022-03-11T11:23:44.173Z"
   },
   {
    "duration": 24,
    "start_time": "2022-03-11T11:23:56.463Z"
   },
   {
    "duration": 118,
    "start_time": "2022-03-11T11:25:00.069Z"
   },
   {
    "duration": 134,
    "start_time": "2022-03-11T11:25:11.844Z"
   },
   {
    "duration": 302,
    "start_time": "2022-03-11T11:25:58.268Z"
   },
   {
    "duration": 312,
    "start_time": "2022-03-11T11:26:42.933Z"
   },
   {
    "duration": 315,
    "start_time": "2022-03-11T11:27:03.270Z"
   },
   {
    "duration": 307,
    "start_time": "2022-03-11T11:27:10.933Z"
   },
   {
    "duration": 390,
    "start_time": "2022-03-11T11:27:30.565Z"
   },
   {
    "duration": 300,
    "start_time": "2022-03-11T11:28:08.581Z"
   },
   {
    "duration": 299,
    "start_time": "2022-03-11T11:28:45.444Z"
   },
   {
    "duration": 296,
    "start_time": "2022-03-11T11:29:13.647Z"
   },
   {
    "duration": 342,
    "start_time": "2022-03-11T11:29:20.231Z"
   },
   {
    "duration": 350,
    "start_time": "2022-03-11T11:33:03.842Z"
   },
   {
    "duration": 299,
    "start_time": "2022-03-11T11:34:09.146Z"
   },
   {
    "duration": 375,
    "start_time": "2022-03-11T12:05:41.056Z"
   },
   {
    "duration": 6,
    "start_time": "2022-03-11T12:08:27.091Z"
   },
   {
    "duration": 106,
    "start_time": "2022-03-11T12:08:43.435Z"
   },
   {
    "duration": 5,
    "start_time": "2022-03-11T12:08:48.540Z"
   },
   {
    "duration": 318,
    "start_time": "2022-03-11T12:09:18.012Z"
   },
   {
    "duration": 12,
    "start_time": "2022-03-11T12:09:31.749Z"
   },
   {
    "duration": 23,
    "start_time": "2022-03-11T12:09:52.865Z"
   },
   {
    "duration": 4,
    "start_time": "2022-03-11T12:10:13.022Z"
   },
   {
    "duration": 23,
    "start_time": "2022-03-11T12:10:16.069Z"
   },
   {
    "duration": 4,
    "start_time": "2022-03-11T12:45:27.568Z"
   },
   {
    "duration": 689,
    "start_time": "2022-03-11T12:45:27.574Z"
   },
   {
    "duration": 4,
    "start_time": "2022-03-11T12:45:28.265Z"
   },
   {
    "duration": 156,
    "start_time": "2022-03-11T12:45:28.270Z"
   },
   {
    "duration": 52,
    "start_time": "2022-03-11T12:45:28.427Z"
   },
   {
    "duration": 158,
    "start_time": "2022-03-11T12:45:28.481Z"
   },
   {
    "duration": 5,
    "start_time": "2022-03-11T12:45:28.641Z"
   },
   {
    "duration": 19,
    "start_time": "2022-03-11T12:45:28.647Z"
   },
   {
    "duration": 3,
    "start_time": "2022-03-11T12:45:28.667Z"
   },
   {
    "duration": 6,
    "start_time": "2022-03-11T12:45:28.671Z"
   },
   {
    "duration": 26,
    "start_time": "2022-03-11T12:45:28.679Z"
   },
   {
    "duration": 4,
    "start_time": "2022-03-11T12:45:28.707Z"
   },
   {
    "duration": 5,
    "start_time": "2022-03-11T12:45:28.713Z"
   },
   {
    "duration": 9,
    "start_time": "2022-03-11T12:45:28.719Z"
   },
   {
    "duration": 31,
    "start_time": "2022-03-11T12:45:28.730Z"
   },
   {
    "duration": 21,
    "start_time": "2022-03-11T12:45:28.763Z"
   },
   {
    "duration": 22,
    "start_time": "2022-03-11T12:45:28.785Z"
   },
   {
    "duration": 16,
    "start_time": "2022-03-11T12:45:28.808Z"
   },
   {
    "duration": 13,
    "start_time": "2022-03-11T12:45:28.827Z"
   },
   {
    "duration": 187,
    "start_time": "2022-03-11T12:45:28.842Z"
   },
   {
    "duration": 178,
    "start_time": "2022-03-11T12:45:29.030Z"
   },
   {
    "duration": 309,
    "start_time": "2022-03-11T12:45:29.210Z"
   },
   {
    "duration": 33,
    "start_time": "2022-03-11T12:45:29.521Z"
   },
   {
    "duration": 286,
    "start_time": "2022-03-11T12:45:29.555Z"
   },
   {
    "duration": 21,
    "start_time": "2022-03-11T12:46:09.020Z"
   },
   {
    "duration": 10,
    "start_time": "2022-03-11T12:48:07.195Z"
   },
   {
    "duration": 18,
    "start_time": "2022-03-11T12:48:09.083Z"
   },
   {
    "duration": 3,
    "start_time": "2022-03-11T12:48:18.604Z"
   },
   {
    "duration": 669,
    "start_time": "2022-03-11T12:48:18.609Z"
   },
   {
    "duration": 4,
    "start_time": "2022-03-11T12:48:19.280Z"
   },
   {
    "duration": 153,
    "start_time": "2022-03-11T12:48:19.286Z"
   },
   {
    "duration": 67,
    "start_time": "2022-03-11T12:48:19.440Z"
   },
   {
    "duration": 130,
    "start_time": "2022-03-11T12:48:19.508Z"
   },
   {
    "duration": 4,
    "start_time": "2022-03-11T12:48:19.640Z"
   },
   {
    "duration": 14,
    "start_time": "2022-03-11T12:48:19.646Z"
   },
   {
    "duration": 2,
    "start_time": "2022-03-11T12:48:19.662Z"
   },
   {
    "duration": 6,
    "start_time": "2022-03-11T12:48:19.665Z"
   },
   {
    "duration": 36,
    "start_time": "2022-03-11T12:48:19.672Z"
   },
   {
    "duration": 4,
    "start_time": "2022-03-11T12:48:19.709Z"
   },
   {
    "duration": 4,
    "start_time": "2022-03-11T12:48:19.714Z"
   },
   {
    "duration": 7,
    "start_time": "2022-03-11T12:48:19.719Z"
   },
   {
    "duration": 20,
    "start_time": "2022-03-11T12:48:19.727Z"
   },
   {
    "duration": 15,
    "start_time": "2022-03-11T12:48:19.748Z"
   },
   {
    "duration": 16,
    "start_time": "2022-03-11T12:48:19.765Z"
   },
   {
    "duration": 29,
    "start_time": "2022-03-11T12:48:19.783Z"
   },
   {
    "duration": 13,
    "start_time": "2022-03-11T12:48:19.814Z"
   },
   {
    "duration": 199,
    "start_time": "2022-03-11T12:48:19.829Z"
   },
   {
    "duration": 181,
    "start_time": "2022-03-11T12:48:20.029Z"
   },
   {
    "duration": 295,
    "start_time": "2022-03-11T12:48:20.212Z"
   },
   {
    "duration": 21,
    "start_time": "2022-03-11T12:48:20.509Z"
   },
   {
    "duration": 257,
    "start_time": "2022-03-11T12:48:20.532Z"
   },
   {
    "duration": 40,
    "start_time": "2022-03-11T12:57:55.305Z"
   },
   {
    "duration": 38,
    "start_time": "2022-03-11T12:58:13.017Z"
   },
   {
    "duration": 11,
    "start_time": "2022-03-11T12:58:44.988Z"
   },
   {
    "duration": 3,
    "start_time": "2022-03-11T12:58:58.602Z"
   },
   {
    "duration": 620,
    "start_time": "2022-03-11T12:58:58.607Z"
   },
   {
    "duration": 3,
    "start_time": "2022-03-11T12:58:59.229Z"
   },
   {
    "duration": 224,
    "start_time": "2022-03-11T12:58:59.234Z"
   },
   {
    "duration": 84,
    "start_time": "2022-03-11T12:58:59.460Z"
   },
   {
    "duration": 183,
    "start_time": "2022-03-11T12:58:59.546Z"
   },
   {
    "duration": 5,
    "start_time": "2022-03-11T12:58:59.731Z"
   },
   {
    "duration": 20,
    "start_time": "2022-03-11T12:58:59.739Z"
   },
   {
    "duration": 3,
    "start_time": "2022-03-11T12:58:59.761Z"
   },
   {
    "duration": 5,
    "start_time": "2022-03-11T12:58:59.766Z"
   },
   {
    "duration": 32,
    "start_time": "2022-03-11T12:58:59.772Z"
   },
   {
    "duration": 4,
    "start_time": "2022-03-11T12:58:59.806Z"
   },
   {
    "duration": 4,
    "start_time": "2022-03-11T12:58:59.811Z"
   },
   {
    "duration": 6,
    "start_time": "2022-03-11T12:58:59.816Z"
   },
   {
    "duration": 19,
    "start_time": "2022-03-11T12:58:59.823Z"
   },
   {
    "duration": 16,
    "start_time": "2022-03-11T12:58:59.843Z"
   },
   {
    "duration": 2,
    "start_time": "2022-03-11T12:58:59.861Z"
   },
   {
    "duration": 38,
    "start_time": "2022-03-11T12:58:59.864Z"
   },
   {
    "duration": 13,
    "start_time": "2022-03-11T12:58:59.904Z"
   },
   {
    "duration": 12,
    "start_time": "2022-03-11T12:58:59.919Z"
   },
   {
    "duration": 207,
    "start_time": "2022-03-11T12:58:59.932Z"
   },
   {
    "duration": 189,
    "start_time": "2022-03-11T12:59:00.141Z"
   },
   {
    "duration": 315,
    "start_time": "2022-03-11T12:59:00.332Z"
   },
   {
    "duration": 22,
    "start_time": "2022-03-11T12:59:00.649Z"
   },
   {
    "duration": 265,
    "start_time": "2022-03-11T12:59:00.673Z"
   },
   {
    "duration": 29,
    "start_time": "2022-03-11T12:59:20.664Z"
   },
   {
    "duration": 20,
    "start_time": "2022-03-11T13:00:26.954Z"
   },
   {
    "duration": 9,
    "start_time": "2022-03-11T13:01:45.843Z"
   },
   {
    "duration": 10,
    "start_time": "2022-03-11T13:03:06.463Z"
   },
   {
    "duration": 9,
    "start_time": "2022-03-11T13:03:33.199Z"
   },
   {
    "duration": 6,
    "start_time": "2022-03-11T13:11:07.409Z"
   },
   {
    "duration": 9,
    "start_time": "2022-03-11T13:11:20.974Z"
   },
   {
    "duration": 323,
    "start_time": "2022-03-11T13:14:43.799Z"
   },
   {
    "duration": 336,
    "start_time": "2022-03-11T13:14:55.463Z"
   },
   {
    "duration": 13,
    "start_time": "2022-03-11T13:23:02.736Z"
   },
   {
    "duration": 10,
    "start_time": "2022-03-11T13:23:30.060Z"
   },
   {
    "duration": 22,
    "start_time": "2022-03-11T13:24:06.354Z"
   },
   {
    "duration": 3,
    "start_time": "2022-03-11T13:31:35.907Z"
   },
   {
    "duration": 675,
    "start_time": "2022-03-11T13:31:35.912Z"
   },
   {
    "duration": 3,
    "start_time": "2022-03-11T13:31:36.589Z"
   },
   {
    "duration": 153,
    "start_time": "2022-03-11T13:31:36.594Z"
   },
   {
    "duration": 64,
    "start_time": "2022-03-11T13:31:36.749Z"
   },
   {
    "duration": 139,
    "start_time": "2022-03-11T13:31:36.814Z"
   },
   {
    "duration": 6,
    "start_time": "2022-03-11T13:31:36.956Z"
   },
   {
    "duration": 15,
    "start_time": "2022-03-11T13:31:36.965Z"
   },
   {
    "duration": 20,
    "start_time": "2022-03-11T13:31:36.982Z"
   },
   {
    "duration": 5,
    "start_time": "2022-03-11T13:31:37.003Z"
   },
   {
    "duration": 14,
    "start_time": "2022-03-11T13:31:37.010Z"
   },
   {
    "duration": 5,
    "start_time": "2022-03-11T13:31:37.025Z"
   },
   {
    "duration": 4,
    "start_time": "2022-03-11T13:31:37.031Z"
   },
   {
    "duration": 10,
    "start_time": "2022-03-11T13:31:37.036Z"
   },
   {
    "duration": 15,
    "start_time": "2022-03-11T13:31:37.047Z"
   },
   {
    "duration": 6,
    "start_time": "2022-03-11T13:31:37.064Z"
   },
   {
    "duration": 10,
    "start_time": "2022-03-11T13:31:37.101Z"
   },
   {
    "duration": 23,
    "start_time": "2022-03-11T13:31:37.113Z"
   },
   {
    "duration": 32,
    "start_time": "2022-03-11T13:31:37.139Z"
   },
   {
    "duration": 39,
    "start_time": "2022-03-11T13:31:37.174Z"
   },
   {
    "duration": 9,
    "start_time": "2022-03-11T13:31:37.215Z"
   },
   {
    "duration": 3,
    "start_time": "2022-03-11T13:31:37.226Z"
   },
   {
    "duration": 19,
    "start_time": "2022-03-11T13:31:37.230Z"
   },
   {
    "duration": 15,
    "start_time": "2022-03-11T13:31:37.251Z"
   },
   {
    "duration": 43,
    "start_time": "2022-03-11T13:31:37.268Z"
   },
   {
    "duration": 190,
    "start_time": "2022-03-11T13:31:37.312Z"
   },
   {
    "duration": 183,
    "start_time": "2022-03-11T13:31:37.504Z"
   },
   {
    "duration": 297,
    "start_time": "2022-03-11T13:31:37.689Z"
   },
   {
    "duration": 32,
    "start_time": "2022-03-11T13:31:37.988Z"
   },
   {
    "duration": 331,
    "start_time": "2022-03-11T13:31:38.022Z"
   },
   {
    "duration": 296,
    "start_time": "2022-03-11T13:38:41.835Z"
   },
   {
    "duration": 351,
    "start_time": "2022-03-11T13:39:01.524Z"
   },
   {
    "duration": 22,
    "start_time": "2022-03-11T13:40:01.254Z"
   },
   {
    "duration": 14,
    "start_time": "2022-03-11T13:40:19.558Z"
   },
   {
    "duration": 14,
    "start_time": "2022-03-11T13:40:30.757Z"
   },
   {
    "duration": 11,
    "start_time": "2022-03-11T13:41:01.896Z"
   },
   {
    "duration": 13,
    "start_time": "2022-03-11T13:41:18.830Z"
   },
   {
    "duration": 142,
    "start_time": "2022-03-11T13:43:27.206Z"
   },
   {
    "duration": 150,
    "start_time": "2022-03-11T13:43:55.855Z"
   },
   {
    "duration": 156,
    "start_time": "2022-03-11T13:44:01.703Z"
   },
   {
    "duration": 464,
    "start_time": "2022-03-11T13:45:20.761Z"
   },
   {
    "duration": 462,
    "start_time": "2022-03-11T13:45:58.041Z"
   },
   {
    "duration": 485,
    "start_time": "2022-03-11T13:46:16.594Z"
   },
   {
    "duration": 4,
    "start_time": "2022-03-11T13:49:13.662Z"
   },
   {
    "duration": 2996,
    "start_time": "2022-03-11T13:49:41.780Z"
   },
   {
    "duration": 7736,
    "start_time": "2022-03-11T13:51:08.516Z"
   },
   {
    "duration": 305,
    "start_time": "2022-03-11T13:51:21.100Z"
   },
   {
    "duration": 464,
    "start_time": "2022-03-11T13:52:06.597Z"
   },
   {
    "duration": 13564,
    "start_time": "2022-03-11T13:52:44.685Z"
   },
   {
    "duration": 7557,
    "start_time": "2022-03-11T15:25:15.971Z"
   },
   {
    "duration": 312,
    "start_time": "2022-03-11T15:25:31.136Z"
   },
   {
    "duration": 13,
    "start_time": "2022-03-11T15:26:41.621Z"
   },
   {
    "duration": 31,
    "start_time": "2022-03-11T15:26:50.608Z"
   },
   {
    "duration": 164,
    "start_time": "2022-03-11T15:27:31.050Z"
   },
   {
    "duration": 180,
    "start_time": "2022-03-11T15:28:47.641Z"
   },
   {
    "duration": 418,
    "start_time": "2022-03-11T15:46:52.658Z"
   },
   {
    "duration": 466,
    "start_time": "2022-03-11T15:47:00.239Z"
   },
   {
    "duration": 33,
    "start_time": "2022-03-11T15:57:57.343Z"
   },
   {
    "duration": 50,
    "start_time": "2022-03-11T15:58:08.119Z"
   },
   {
    "duration": 39,
    "start_time": "2022-03-11T15:58:38.920Z"
   },
   {
    "duration": 5,
    "start_time": "2022-03-11T16:00:43.378Z"
   },
   {
    "duration": 11,
    "start_time": "2022-03-11T16:00:58.090Z"
   },
   {
    "duration": 4,
    "start_time": "2022-03-11T16:01:04.043Z"
   },
   {
    "duration": 662,
    "start_time": "2022-03-11T16:01:04.048Z"
   },
   {
    "duration": 3,
    "start_time": "2022-03-11T16:01:04.712Z"
   },
   {
    "duration": 165,
    "start_time": "2022-03-11T16:01:04.717Z"
   },
   {
    "duration": 54,
    "start_time": "2022-03-11T16:01:04.883Z"
   },
   {
    "duration": 136,
    "start_time": "2022-03-11T16:01:04.938Z"
   },
   {
    "duration": 4,
    "start_time": "2022-03-11T16:01:05.075Z"
   },
   {
    "duration": 30,
    "start_time": "2022-03-11T16:01:05.081Z"
   },
   {
    "duration": 3,
    "start_time": "2022-03-11T16:01:05.112Z"
   },
   {
    "duration": 6,
    "start_time": "2022-03-11T16:01:05.116Z"
   },
   {
    "duration": 15,
    "start_time": "2022-03-11T16:01:05.124Z"
   },
   {
    "duration": 4,
    "start_time": "2022-03-11T16:01:05.140Z"
   },
   {
    "duration": 3,
    "start_time": "2022-03-11T16:01:05.146Z"
   },
   {
    "duration": 8,
    "start_time": "2022-03-11T16:01:05.150Z"
   },
   {
    "duration": 42,
    "start_time": "2022-03-11T16:01:05.159Z"
   },
   {
    "duration": 12,
    "start_time": "2022-03-11T16:01:05.202Z"
   },
   {
    "duration": 26,
    "start_time": "2022-03-11T16:01:05.216Z"
   },
   {
    "duration": 34,
    "start_time": "2022-03-11T16:01:05.244Z"
   },
   {
    "duration": 37,
    "start_time": "2022-03-11T16:01:05.279Z"
   },
   {
    "duration": 13885,
    "start_time": "2022-03-11T16:01:05.317Z"
   },
   {
    "duration": 450,
    "start_time": "2022-03-11T16:01:19.204Z"
   },
   {
    "duration": 16,
    "start_time": "2022-03-11T16:01:19.655Z"
   },
   {
    "duration": 29,
    "start_time": "2022-03-11T16:01:19.673Z"
   },
   {
    "duration": 184,
    "start_time": "2022-03-11T16:01:19.703Z"
   },
   {
    "duration": 192,
    "start_time": "2022-03-11T16:01:19.889Z"
   },
   {
    "duration": 306,
    "start_time": "2022-03-11T16:01:20.083Z"
   },
   {
    "duration": 28,
    "start_time": "2022-03-11T16:01:20.390Z"
   },
   {
    "duration": 257,
    "start_time": "2022-03-11T16:01:20.419Z"
   },
   {
    "duration": 12,
    "start_time": "2022-03-11T16:01:37.260Z"
   },
   {
    "duration": 3,
    "start_time": "2022-03-11T16:01:44.378Z"
   },
   {
    "duration": 658,
    "start_time": "2022-03-11T16:01:44.383Z"
   },
   {
    "duration": 3,
    "start_time": "2022-03-11T16:01:45.043Z"
   },
   {
    "duration": 135,
    "start_time": "2022-03-11T16:01:45.048Z"
   },
   {
    "duration": 46,
    "start_time": "2022-03-11T16:01:45.185Z"
   },
   {
    "duration": 112,
    "start_time": "2022-03-11T16:01:45.233Z"
   },
   {
    "duration": 5,
    "start_time": "2022-03-11T16:01:45.346Z"
   },
   {
    "duration": 19,
    "start_time": "2022-03-11T16:01:45.353Z"
   },
   {
    "duration": 3,
    "start_time": "2022-03-11T16:01:45.374Z"
   },
   {
    "duration": 7,
    "start_time": "2022-03-11T16:01:45.378Z"
   },
   {
    "duration": 16,
    "start_time": "2022-03-11T16:01:45.386Z"
   },
   {
    "duration": 5,
    "start_time": "2022-03-11T16:01:45.404Z"
   },
   {
    "duration": 7,
    "start_time": "2022-03-11T16:01:45.411Z"
   },
   {
    "duration": 13,
    "start_time": "2022-03-11T16:01:45.419Z"
   },
   {
    "duration": 26,
    "start_time": "2022-03-11T16:01:45.433Z"
   },
   {
    "duration": 11,
    "start_time": "2022-03-11T16:01:45.460Z"
   },
   {
    "duration": 17,
    "start_time": "2022-03-11T16:01:45.473Z"
   },
   {
    "duration": 34,
    "start_time": "2022-03-11T16:01:45.492Z"
   },
   {
    "duration": 19,
    "start_time": "2022-03-11T16:01:45.528Z"
   },
   {
    "duration": 14008,
    "start_time": "2022-03-11T16:01:45.548Z"
   },
   {
    "duration": 438,
    "start_time": "2022-03-11T16:01:59.558Z"
   },
   {
    "duration": 17,
    "start_time": "2022-03-11T16:01:59.997Z"
   },
   {
    "duration": 13,
    "start_time": "2022-03-11T16:02:00.016Z"
   },
   {
    "duration": 197,
    "start_time": "2022-03-11T16:02:00.030Z"
   },
   {
    "duration": 185,
    "start_time": "2022-03-11T16:02:00.228Z"
   },
   {
    "duration": 316,
    "start_time": "2022-03-11T16:02:00.414Z"
   },
   {
    "duration": 23,
    "start_time": "2022-03-11T16:02:00.732Z"
   },
   {
    "duration": 345,
    "start_time": "2022-03-11T16:02:00.756Z"
   },
   {
    "duration": 6,
    "start_time": "2022-03-11T16:02:20.379Z"
   },
   {
    "duration": 110,
    "start_time": "2022-03-11T16:02:25.250Z"
   },
   {
    "duration": 12,
    "start_time": "2022-03-11T16:02:38.179Z"
   },
   {
    "duration": 3,
    "start_time": "2022-03-11T16:02:56.066Z"
   },
   {
    "duration": 624,
    "start_time": "2022-03-11T16:02:56.071Z"
   },
   {
    "duration": 3,
    "start_time": "2022-03-11T16:02:56.697Z"
   },
   {
    "duration": 148,
    "start_time": "2022-03-11T16:02:56.702Z"
   },
   {
    "duration": 64,
    "start_time": "2022-03-11T16:02:56.852Z"
   },
   {
    "duration": 131,
    "start_time": "2022-03-11T16:02:56.917Z"
   },
   {
    "duration": 4,
    "start_time": "2022-03-11T16:02:57.050Z"
   },
   {
    "duration": 19,
    "start_time": "2022-03-11T16:02:57.055Z"
   },
   {
    "duration": 2,
    "start_time": "2022-03-11T16:02:57.076Z"
   },
   {
    "duration": 5,
    "start_time": "2022-03-11T16:02:57.079Z"
   },
   {
    "duration": 24,
    "start_time": "2022-03-11T16:02:57.086Z"
   },
   {
    "duration": 4,
    "start_time": "2022-03-11T16:02:57.111Z"
   },
   {
    "duration": 2,
    "start_time": "2022-03-11T16:02:57.117Z"
   },
   {
    "duration": 8,
    "start_time": "2022-03-11T16:02:57.121Z"
   },
   {
    "duration": 25,
    "start_time": "2022-03-11T16:02:57.130Z"
   },
   {
    "duration": 13,
    "start_time": "2022-03-11T16:02:57.156Z"
   },
   {
    "duration": 34,
    "start_time": "2022-03-11T16:02:57.171Z"
   },
   {
    "duration": 34,
    "start_time": "2022-03-11T16:02:57.206Z"
   },
   {
    "duration": 16,
    "start_time": "2022-03-11T16:02:57.242Z"
   },
   {
    "duration": 13743,
    "start_time": "2022-03-11T16:02:57.259Z"
   },
   {
    "duration": 493,
    "start_time": "2022-03-11T16:03:11.004Z"
   },
   {
    "duration": 15,
    "start_time": "2022-03-11T16:03:11.498Z"
   },
   {
    "duration": 14,
    "start_time": "2022-03-11T16:03:11.515Z"
   },
   {
    "duration": 203,
    "start_time": "2022-03-11T16:03:11.531Z"
   },
   {
    "duration": 185,
    "start_time": "2022-03-11T16:03:11.736Z"
   },
   {
    "duration": 301,
    "start_time": "2022-03-11T16:03:11.922Z"
   },
   {
    "duration": 24,
    "start_time": "2022-03-11T16:03:12.224Z"
   },
   {
    "duration": 248,
    "start_time": "2022-03-11T16:03:12.249Z"
   },
   {
    "duration": 3,
    "start_time": "2022-03-11T16:03:44.743Z"
   },
   {
    "duration": 683,
    "start_time": "2022-03-11T16:03:44.747Z"
   },
   {
    "duration": 3,
    "start_time": "2022-03-11T16:03:45.432Z"
   },
   {
    "duration": 139,
    "start_time": "2022-03-11T16:03:45.437Z"
   },
   {
    "duration": 53,
    "start_time": "2022-03-11T16:03:45.578Z"
   },
   {
    "duration": 118,
    "start_time": "2022-03-11T16:03:45.633Z"
   },
   {
    "duration": 4,
    "start_time": "2022-03-11T16:03:45.752Z"
   },
   {
    "duration": 16,
    "start_time": "2022-03-11T16:03:45.758Z"
   },
   {
    "duration": 2,
    "start_time": "2022-03-11T16:03:45.777Z"
   },
   {
    "duration": 4,
    "start_time": "2022-03-11T16:03:45.781Z"
   },
   {
    "duration": 11,
    "start_time": "2022-03-11T16:03:45.786Z"
   },
   {
    "duration": 4,
    "start_time": "2022-03-11T16:03:45.799Z"
   },
   {
    "duration": 7,
    "start_time": "2022-03-11T16:03:45.804Z"
   },
   {
    "duration": 10,
    "start_time": "2022-03-11T16:03:45.812Z"
   },
   {
    "duration": 23,
    "start_time": "2022-03-11T16:03:45.823Z"
   },
   {
    "duration": 12,
    "start_time": "2022-03-11T16:03:45.848Z"
   },
   {
    "duration": 20,
    "start_time": "2022-03-11T16:03:45.861Z"
   },
   {
    "duration": 39,
    "start_time": "2022-03-11T16:03:45.882Z"
   },
   {
    "duration": 17,
    "start_time": "2022-03-11T16:03:45.923Z"
   },
   {
    "duration": 13978,
    "start_time": "2022-03-11T16:03:45.941Z"
   },
   {
    "duration": 571,
    "start_time": "2022-03-11T16:03:59.920Z"
   },
   {
    "duration": 18,
    "start_time": "2022-03-11T16:04:00.492Z"
   },
   {
    "duration": 29,
    "start_time": "2022-03-11T16:04:00.512Z"
   },
   {
    "duration": 205,
    "start_time": "2022-03-11T16:04:00.543Z"
   },
   {
    "duration": 187,
    "start_time": "2022-03-11T16:04:00.749Z"
   },
   {
    "duration": 318,
    "start_time": "2022-03-11T16:04:00.938Z"
   },
   {
    "duration": 23,
    "start_time": "2022-03-11T16:04:01.259Z"
   },
   {
    "duration": 253,
    "start_time": "2022-03-11T16:04:01.283Z"
   },
   {
    "duration": 5,
    "start_time": "2022-03-11T16:04:27.013Z"
   },
   {
    "duration": 319,
    "start_time": "2022-03-11T16:04:44.405Z"
   },
   {
    "duration": 5,
    "start_time": "2022-03-11T16:05:52.575Z"
   },
   {
    "duration": 12,
    "start_time": "2022-03-11T16:08:14.815Z"
   },
   {
    "duration": 7880,
    "start_time": "2022-03-11T16:09:30.916Z"
   },
   {
    "duration": 5,
    "start_time": "2022-03-11T16:10:01.009Z"
   },
   {
    "duration": 3,
    "start_time": "2022-03-11T16:11:00.915Z"
   },
   {
    "duration": 6,
    "start_time": "2022-03-11T16:11:04.856Z"
   },
   {
    "duration": 302,
    "start_time": "2022-03-11T16:11:24.377Z"
   },
   {
    "duration": 5,
    "start_time": "2022-03-11T16:11:57.865Z"
   },
   {
    "duration": 5,
    "start_time": "2022-03-11T16:12:11.457Z"
   },
   {
    "duration": 7668,
    "start_time": "2022-03-11T16:15:31.492Z"
   },
   {
    "duration": 5,
    "start_time": "2022-03-11T16:16:00.257Z"
   },
   {
    "duration": 658,
    "start_time": "2022-03-11T16:16:00.265Z"
   },
   {
    "duration": 3,
    "start_time": "2022-03-11T16:16:00.926Z"
   },
   {
    "duration": 164,
    "start_time": "2022-03-11T16:16:00.931Z"
   },
   {
    "duration": 49,
    "start_time": "2022-03-11T16:16:01.101Z"
   },
   {
    "duration": 154,
    "start_time": "2022-03-11T16:16:01.151Z"
   },
   {
    "duration": 5,
    "start_time": "2022-03-11T16:16:01.307Z"
   },
   {
    "duration": 24,
    "start_time": "2022-03-11T16:16:01.314Z"
   },
   {
    "duration": 3,
    "start_time": "2022-03-11T16:16:01.341Z"
   },
   {
    "duration": 9,
    "start_time": "2022-03-11T16:16:01.346Z"
   },
   {
    "duration": 15,
    "start_time": "2022-03-11T16:16:01.356Z"
   },
   {
    "duration": 29,
    "start_time": "2022-03-11T16:16:01.373Z"
   },
   {
    "duration": 3,
    "start_time": "2022-03-11T16:16:01.404Z"
   },
   {
    "duration": 6,
    "start_time": "2022-03-11T16:16:01.409Z"
   },
   {
    "duration": 15,
    "start_time": "2022-03-11T16:16:01.417Z"
   },
   {
    "duration": 8003,
    "start_time": "2022-03-11T16:16:01.434Z"
   },
   {
    "duration": 348,
    "start_time": "2022-03-11T16:16:09.090Z"
   },
   {
    "duration": 344,
    "start_time": "2022-03-11T16:16:09.095Z"
   },
   {
    "duration": 341,
    "start_time": "2022-03-11T16:16:09.099Z"
   },
   {
    "duration": 339,
    "start_time": "2022-03-11T16:16:09.102Z"
   },
   {
    "duration": 338,
    "start_time": "2022-03-11T16:16:09.104Z"
   },
   {
    "duration": 335,
    "start_time": "2022-03-11T16:16:09.107Z"
   },
   {
    "duration": 333,
    "start_time": "2022-03-11T16:16:09.110Z"
   },
   {
    "duration": 332,
    "start_time": "2022-03-11T16:16:09.112Z"
   },
   {
    "duration": 331,
    "start_time": "2022-03-11T16:16:09.114Z"
   },
   {
    "duration": 329,
    "start_time": "2022-03-11T16:16:09.117Z"
   },
   {
    "duration": 6,
    "start_time": "2022-03-11T16:17:30.101Z"
   },
   {
    "duration": 3,
    "start_time": "2022-03-11T16:17:32.753Z"
   },
   {
    "duration": 657,
    "start_time": "2022-03-11T16:17:32.758Z"
   },
   {
    "duration": 3,
    "start_time": "2022-03-11T16:17:33.417Z"
   },
   {
    "duration": 164,
    "start_time": "2022-03-11T16:17:33.422Z"
   },
   {
    "duration": 61,
    "start_time": "2022-03-11T16:17:33.588Z"
   },
   {
    "duration": 140,
    "start_time": "2022-03-11T16:17:33.650Z"
   },
   {
    "duration": 4,
    "start_time": "2022-03-11T16:17:33.802Z"
   },
   {
    "duration": 41,
    "start_time": "2022-03-11T16:17:33.809Z"
   },
   {
    "duration": 19,
    "start_time": "2022-03-11T16:17:33.852Z"
   },
   {
    "duration": 20,
    "start_time": "2022-03-11T16:17:33.872Z"
   },
   {
    "duration": 27,
    "start_time": "2022-03-11T16:17:33.893Z"
   },
   {
    "duration": 19,
    "start_time": "2022-03-11T16:17:33.921Z"
   },
   {
    "duration": 26,
    "start_time": "2022-03-11T16:17:33.941Z"
   },
   {
    "duration": 11,
    "start_time": "2022-03-11T16:17:33.969Z"
   },
   {
    "duration": 17,
    "start_time": "2022-03-11T16:17:33.981Z"
   },
   {
    "duration": 30,
    "start_time": "2022-03-11T16:17:33.999Z"
   },
   {
    "duration": 87,
    "start_time": "2022-03-11T16:17:34.030Z"
   },
   {
    "duration": 33,
    "start_time": "2022-03-11T16:17:34.119Z"
   },
   {
    "duration": 14363,
    "start_time": "2022-03-11T16:17:34.155Z"
   },
   {
    "duration": 488,
    "start_time": "2022-03-11T16:17:48.521Z"
   },
   {
    "duration": 17,
    "start_time": "2022-03-11T16:17:49.011Z"
   },
   {
    "duration": 19,
    "start_time": "2022-03-11T16:17:49.030Z"
   },
   {
    "duration": 269,
    "start_time": "2022-03-11T16:17:49.051Z"
   },
   {
    "duration": 182,
    "start_time": "2022-03-11T16:17:49.321Z"
   },
   {
    "duration": 308,
    "start_time": "2022-03-11T16:17:49.505Z"
   },
   {
    "duration": 21,
    "start_time": "2022-03-11T16:17:49.814Z"
   },
   {
    "duration": 332,
    "start_time": "2022-03-11T16:17:49.837Z"
   },
   {
    "duration": 9,
    "start_time": "2022-03-11T16:18:11.925Z"
   },
   {
    "duration": 6,
    "start_time": "2022-03-11T16:18:20.496Z"
   },
   {
    "duration": 439,
    "start_time": "2022-03-11T16:18:34.088Z"
   },
   {
    "duration": 155,
    "start_time": "2022-03-11T17:02:56.694Z"
   },
   {
    "duration": 5,
    "start_time": "2022-03-11T17:03:10.837Z"
   },
   {
    "duration": 156,
    "start_time": "2022-03-11T17:03:21.684Z"
   },
   {
    "duration": 154,
    "start_time": "2022-03-11T17:03:58.244Z"
   },
   {
    "duration": 5,
    "start_time": "2022-03-11T17:04:12.293Z"
   },
   {
    "duration": 169,
    "start_time": "2022-03-11T17:04:18.517Z"
   },
   {
    "duration": 215,
    "start_time": "2022-03-11T17:09:04.528Z"
   },
   {
    "duration": 188,
    "start_time": "2022-03-11T17:09:12.024Z"
   },
   {
    "duration": 213,
    "start_time": "2022-03-11T17:09:15.161Z"
   },
   {
    "duration": 210,
    "start_time": "2022-03-11T17:09:22.985Z"
   },
   {
    "duration": 208,
    "start_time": "2022-03-11T17:09:28.802Z"
   },
   {
    "duration": 225,
    "start_time": "2022-03-11T17:09:39.578Z"
   },
   {
    "duration": 305,
    "start_time": "2022-03-11T17:11:54.611Z"
   },
   {
    "duration": 398,
    "start_time": "2022-03-11T17:14:21.637Z"
   },
   {
    "duration": 702,
    "start_time": "2022-03-11T17:14:38.189Z"
   },
   {
    "duration": 784,
    "start_time": "2022-03-11T17:14:55.453Z"
   },
   {
    "duration": 684,
    "start_time": "2022-03-11T17:15:18.973Z"
   },
   {
    "duration": 613,
    "start_time": "2022-03-11T17:20:11.779Z"
   },
   {
    "duration": 183,
    "start_time": "2022-03-11T17:20:17.618Z"
   },
   {
    "duration": 180,
    "start_time": "2022-03-11T17:20:52.145Z"
   },
   {
    "duration": 426,
    "start_time": "2022-03-11T17:21:17.785Z"
   },
   {
    "duration": 200,
    "start_time": "2022-03-11T17:21:24.357Z"
   },
   {
    "duration": 107,
    "start_time": "2022-03-11T17:22:16.394Z"
   },
   {
    "duration": 223,
    "start_time": "2022-03-11T17:22:28.426Z"
   },
   {
    "duration": 265,
    "start_time": "2022-03-11T17:23:17.594Z"
   },
   {
    "duration": 256,
    "start_time": "2022-03-11T17:23:38.834Z"
   },
   {
    "duration": 260,
    "start_time": "2022-03-11T17:23:46.755Z"
   },
   {
    "duration": 526,
    "start_time": "2022-03-11T17:30:06.647Z"
   },
   {
    "duration": 702,
    "start_time": "2022-03-11T17:31:10.865Z"
   },
   {
    "duration": 600,
    "start_time": "2022-03-11T17:33:04.129Z"
   },
   {
    "duration": 113,
    "start_time": "2022-03-11T17:37:29.300Z"
   },
   {
    "duration": 309,
    "start_time": "2022-03-11T17:37:34.987Z"
   },
   {
    "duration": 898,
    "start_time": "2022-03-11T17:37:53.933Z"
   },
   {
    "duration": 593,
    "start_time": "2022-03-11T17:38:03.036Z"
   },
   {
    "duration": 746,
    "start_time": "2022-03-11T17:39:00.583Z"
   },
   {
    "duration": 603,
    "start_time": "2022-03-11T17:39:48.454Z"
   },
   {
    "duration": 737,
    "start_time": "2022-03-11T17:39:54.677Z"
   },
   {
    "duration": 319,
    "start_time": "2022-03-11T17:41:17.647Z"
   },
   {
    "duration": 519,
    "start_time": "2022-03-11T17:41:21.831Z"
   },
   {
    "duration": 539,
    "start_time": "2022-03-11T17:41:26.767Z"
   },
   {
    "duration": 706,
    "start_time": "2022-03-11T17:42:03.056Z"
   },
   {
    "duration": 1078,
    "start_time": "2022-03-11T17:42:10.103Z"
   },
   {
    "duration": 818,
    "start_time": "2022-03-11T17:42:25.784Z"
   },
   {
    "duration": 597,
    "start_time": "2022-03-11T17:42:47.711Z"
   },
   {
    "duration": 810,
    "start_time": "2022-03-11T17:42:53.112Z"
   },
   {
    "duration": 14,
    "start_time": "2022-03-11T17:44:17.200Z"
   },
   {
    "duration": 13,
    "start_time": "2022-03-11T17:44:40.457Z"
   },
   {
    "duration": 13,
    "start_time": "2022-03-11T17:44:49.442Z"
   },
   {
    "duration": 13,
    "start_time": "2022-03-11T17:44:54.162Z"
   },
   {
    "duration": 15,
    "start_time": "2022-03-11T17:44:59.410Z"
   },
   {
    "duration": 21,
    "start_time": "2022-03-11T17:45:28.690Z"
   },
   {
    "duration": 13,
    "start_time": "2022-03-11T17:45:46.550Z"
   },
   {
    "duration": 26,
    "start_time": "2022-03-11T17:46:12.570Z"
   },
   {
    "duration": 7,
    "start_time": "2022-03-11T17:46:58.940Z"
   },
   {
    "duration": 7,
    "start_time": "2022-03-11T17:47:41.804Z"
   },
   {
    "duration": 27,
    "start_time": "2022-03-11T17:48:12.380Z"
   },
   {
    "duration": 40,
    "start_time": "2022-03-11T17:49:28.941Z"
   },
   {
    "duration": 8,
    "start_time": "2022-03-11T17:52:40.457Z"
   },
   {
    "duration": 7,
    "start_time": "2022-03-11T17:52:48.102Z"
   },
   {
    "duration": 181,
    "start_time": "2022-03-11T17:53:10.510Z"
   },
   {
    "duration": 24,
    "start_time": "2022-03-11T17:53:48.904Z"
   },
   {
    "duration": 211,
    "start_time": "2022-03-11T17:54:54.913Z"
   },
   {
    "duration": 226,
    "start_time": "2022-03-11T17:55:11.248Z"
   },
   {
    "duration": 221,
    "start_time": "2022-03-11T17:55:38.744Z"
   },
   {
    "duration": 230,
    "start_time": "2022-03-11T17:55:47.720Z"
   },
   {
    "duration": 220,
    "start_time": "2022-03-11T17:55:52.784Z"
   },
   {
    "duration": 258,
    "start_time": "2022-03-11T17:56:11.545Z"
   },
   {
    "duration": 6,
    "start_time": "2022-03-11T17:56:55.074Z"
   },
   {
    "duration": 233,
    "start_time": "2022-03-11T18:01:25.005Z"
   },
   {
    "duration": 4,
    "start_time": "2022-03-11T18:04:38.599Z"
   },
   {
    "duration": 598,
    "start_time": "2022-03-11T18:04:38.605Z"
   },
   {
    "duration": 3,
    "start_time": "2022-03-11T18:04:39.205Z"
   },
   {
    "duration": 150,
    "start_time": "2022-03-11T18:04:39.210Z"
   },
   {
    "duration": 59,
    "start_time": "2022-03-11T18:04:39.361Z"
   },
   {
    "duration": 146,
    "start_time": "2022-03-11T18:04:39.422Z"
   },
   {
    "duration": 5,
    "start_time": "2022-03-11T18:04:39.569Z"
   },
   {
    "duration": 25,
    "start_time": "2022-03-11T18:04:39.576Z"
   },
   {
    "duration": 3,
    "start_time": "2022-03-11T18:04:39.603Z"
   },
   {
    "duration": 6,
    "start_time": "2022-03-11T18:04:39.607Z"
   },
   {
    "duration": 12,
    "start_time": "2022-03-11T18:04:39.615Z"
   },
   {
    "duration": 5,
    "start_time": "2022-03-11T18:04:39.629Z"
   },
   {
    "duration": 6,
    "start_time": "2022-03-11T18:04:39.635Z"
   },
   {
    "duration": 5,
    "start_time": "2022-03-11T18:04:39.643Z"
   },
   {
    "duration": 10,
    "start_time": "2022-03-11T18:04:39.649Z"
   },
   {
    "duration": 41,
    "start_time": "2022-03-11T18:04:39.661Z"
   },
   {
    "duration": 14,
    "start_time": "2022-03-11T18:04:39.703Z"
   },
   {
    "duration": 189,
    "start_time": "2022-03-11T18:04:39.719Z"
   },
   {
    "duration": 184,
    "start_time": "2022-03-11T18:04:39.909Z"
   },
   {
    "duration": 289,
    "start_time": "2022-03-11T18:04:40.094Z"
   },
   {
    "duration": 27,
    "start_time": "2022-03-11T18:04:40.385Z"
   },
   {
    "duration": 244,
    "start_time": "2022-03-11T18:04:40.413Z"
   },
   {
    "duration": 817,
    "start_time": "2022-03-11T18:04:40.661Z"
   },
   {
    "duration": 9,
    "start_time": "2022-03-11T18:04:41.479Z"
   },
   {
    "duration": 6,
    "start_time": "2022-03-11T18:04:41.501Z"
   },
   {
    "duration": 244,
    "start_time": "2022-03-11T18:04:41.508Z"
   },
   {
    "duration": 7,
    "start_time": "2022-03-11T18:04:41.753Z"
   },
   {
    "duration": 39,
    "start_time": "2022-03-11T18:04:41.761Z"
   },
   {
    "duration": 27,
    "start_time": "2022-03-11T18:05:18.606Z"
   },
   {
    "duration": 31,
    "start_time": "2022-03-11T18:05:37.632Z"
   },
   {
    "duration": 8,
    "start_time": "2022-03-11T18:08:58.019Z"
   },
   {
    "duration": 13,
    "start_time": "2022-03-11T18:09:57.298Z"
   },
   {
    "duration": 6,
    "start_time": "2022-03-11T18:10:14.555Z"
   },
   {
    "duration": 12466,
    "start_time": "2022-03-11T18:10:54.595Z"
   },
   {
    "duration": 13,
    "start_time": "2022-03-11T18:12:29.187Z"
   },
   {
    "duration": 17,
    "start_time": "2022-03-11T18:12:56.380Z"
   },
   {
    "duration": 251,
    "start_time": "2022-03-11T18:13:20.157Z"
   },
   {
    "duration": 3,
    "start_time": "2022-03-11T18:13:38.128Z"
   },
   {
    "duration": 616,
    "start_time": "2022-03-11T18:13:38.133Z"
   },
   {
    "duration": 4,
    "start_time": "2022-03-11T18:13:38.751Z"
   },
   {
    "duration": 394,
    "start_time": "2022-03-11T18:13:38.757Z"
   },
   {
    "duration": 69,
    "start_time": "2022-03-11T18:13:39.153Z"
   },
   {
    "duration": 129,
    "start_time": "2022-03-11T18:13:39.224Z"
   },
   {
    "duration": 4,
    "start_time": "2022-03-11T18:13:39.355Z"
   },
   {
    "duration": 30,
    "start_time": "2022-03-11T18:13:39.361Z"
   },
   {
    "duration": 2,
    "start_time": "2022-03-11T18:13:39.393Z"
   },
   {
    "duration": 22,
    "start_time": "2022-03-11T18:13:39.397Z"
   },
   {
    "duration": 22,
    "start_time": "2022-03-11T18:13:39.420Z"
   },
   {
    "duration": 4,
    "start_time": "2022-03-11T18:13:39.444Z"
   },
   {
    "duration": 17,
    "start_time": "2022-03-11T18:13:39.449Z"
   },
   {
    "duration": 17,
    "start_time": "2022-03-11T18:13:39.468Z"
   },
   {
    "duration": 15,
    "start_time": "2022-03-11T18:13:39.487Z"
   },
   {
    "duration": 24,
    "start_time": "2022-03-11T18:13:39.503Z"
   },
   {
    "duration": 77,
    "start_time": "2022-03-11T18:13:39.528Z"
   },
   {
    "duration": 34,
    "start_time": "2022-03-11T18:13:39.607Z"
   },
   {
    "duration": 13,
    "start_time": "2022-03-11T18:13:39.644Z"
   },
   {
    "duration": 12,
    "start_time": "2022-03-11T18:13:39.659Z"
   },
   {
    "duration": 206,
    "start_time": "2022-03-11T18:13:39.672Z"
   },
   {
    "duration": 189,
    "start_time": "2022-03-11T18:13:39.879Z"
   },
   {
    "duration": 308,
    "start_time": "2022-03-11T18:13:40.070Z"
   },
   {
    "duration": 31,
    "start_time": "2022-03-11T18:13:40.380Z"
   },
   {
    "duration": 248,
    "start_time": "2022-03-11T18:13:40.413Z"
   },
   {
    "duration": 691,
    "start_time": "2022-03-11T18:13:40.662Z"
   },
   {
    "duration": 8,
    "start_time": "2022-03-11T18:13:41.355Z"
   },
   {
    "duration": 8,
    "start_time": "2022-03-11T18:13:41.364Z"
   },
   {
    "duration": 261,
    "start_time": "2022-03-11T18:13:41.374Z"
   },
   {
    "duration": 6,
    "start_time": "2022-03-11T18:13:41.636Z"
   },
   {
    "duration": 25,
    "start_time": "2022-03-11T18:13:41.643Z"
   },
   {
    "duration": 8,
    "start_time": "2022-03-11T18:14:16.717Z"
   },
   {
    "duration": 224,
    "start_time": "2022-03-11T18:14:18.933Z"
   },
   {
    "duration": 590,
    "start_time": "2022-03-11T18:24:55.724Z"
   },
   {
    "duration": 170,
    "start_time": "2022-03-11T18:25:06.205Z"
   },
   {
    "duration": 234,
    "start_time": "2022-03-11T18:25:25.157Z"
   },
   {
    "duration": 442,
    "start_time": "2022-03-11T18:28:37.823Z"
   },
   {
    "duration": 359,
    "start_time": "2022-03-11T18:28:49.071Z"
   },
   {
    "duration": 7561,
    "start_time": "2022-03-11T18:29:07.351Z"
   },
   {
    "duration": 5,
    "start_time": "2022-03-11T18:30:25.047Z"
   },
   {
    "duration": 2,
    "start_time": "2022-03-11T18:31:01.121Z"
   },
   {
    "duration": 3,
    "start_time": "2022-03-11T18:31:08.432Z"
   },
   {
    "duration": 9,
    "start_time": "2022-03-11T18:31:16.672Z"
   },
   {
    "duration": 4,
    "start_time": "2022-03-11T18:31:28.712Z"
   },
   {
    "duration": 21,
    "start_time": "2022-03-11T18:31:41.873Z"
   },
   {
    "duration": 9,
    "start_time": "2022-03-11T18:31:46.569Z"
   },
   {
    "duration": 3,
    "start_time": "2022-03-11T18:32:04.497Z"
   },
   {
    "duration": 7775,
    "start_time": "2022-03-11T18:33:14.337Z"
   },
   {
    "duration": 4,
    "start_time": "2022-03-11T18:33:55.818Z"
   },
   {
    "duration": 7585,
    "start_time": "2022-03-11T18:34:15.330Z"
   },
   {
    "duration": 1396,
    "start_time": "2022-03-11T18:36:20.245Z"
   },
   {
    "duration": 196,
    "start_time": "2022-03-11T18:38:09.589Z"
   },
   {
    "duration": 85,
    "start_time": "2022-03-11T18:39:50.543Z"
   },
   {
    "duration": 99,
    "start_time": "2022-03-11T18:40:03.406Z"
   },
   {
    "duration": 147,
    "start_time": "2022-03-11T18:40:59.072Z"
   },
   {
    "duration": 8089,
    "start_time": "2022-03-11T18:42:14.432Z"
   },
   {
    "duration": 7908,
    "start_time": "2022-03-11T18:42:31.041Z"
   },
   {
    "duration": 5,
    "start_time": "2022-03-11T18:42:50.027Z"
   },
   {
    "duration": 19,
    "start_time": "2022-03-11T18:44:04.320Z"
   },
   {
    "duration": 74,
    "start_time": "2022-03-11T18:48:08.653Z"
   },
   {
    "duration": 75,
    "start_time": "2022-03-11T18:48:10.268Z"
   },
   {
    "duration": 308,
    "start_time": "2022-03-11T18:49:39.021Z"
   },
   {
    "duration": 3,
    "start_time": "2022-03-11T18:49:43.934Z"
   },
   {
    "duration": 4,
    "start_time": "2022-03-11T18:50:08.133Z"
   },
   {
    "duration": 154,
    "start_time": "2022-03-11T18:56:49.098Z"
   },
   {
    "duration": 338,
    "start_time": "2022-03-11T18:56:54.418Z"
   },
   {
    "duration": 108,
    "start_time": "2022-03-11T18:59:10.550Z"
   },
   {
    "duration": 291,
    "start_time": "2022-03-11T18:59:16.917Z"
   },
   {
    "duration": 299,
    "start_time": "2022-03-11T18:59:46.821Z"
   },
   {
    "duration": 353,
    "start_time": "2022-03-11T19:01:30.285Z"
   },
   {
    "duration": 319,
    "start_time": "2022-03-11T19:04:45.633Z"
   },
   {
    "duration": 587,
    "start_time": "2022-03-11T19:06:20.441Z"
   },
   {
    "duration": 101,
    "start_time": "2022-03-11T19:09:24.212Z"
   },
   {
    "duration": 95,
    "start_time": "2022-03-11T19:09:29.850Z"
   },
   {
    "duration": 96,
    "start_time": "2022-03-11T19:09:58.267Z"
   },
   {
    "duration": 1338,
    "start_time": "2022-03-11T19:11:33.564Z"
   },
   {
    "duration": 1534,
    "start_time": "2022-03-11T19:12:31.198Z"
   },
   {
    "duration": 320,
    "start_time": "2022-03-11T19:13:06.518Z"
   },
   {
    "duration": 298,
    "start_time": "2022-03-11T19:13:50.726Z"
   },
   {
    "duration": 358,
    "start_time": "2022-03-11T19:14:28.608Z"
   },
   {
    "duration": 325,
    "start_time": "2022-03-11T19:14:57.912Z"
   },
   {
    "duration": 311,
    "start_time": "2022-03-11T19:18:37.483Z"
   },
   {
    "duration": 351,
    "start_time": "2022-03-11T19:18:51.939Z"
   },
   {
    "duration": 307,
    "start_time": "2022-03-11T19:19:10.553Z"
   },
   {
    "duration": 108,
    "start_time": "2022-03-11T19:23:31.101Z"
   },
   {
    "duration": 108,
    "start_time": "2022-03-11T19:23:38.708Z"
   },
   {
    "duration": 106,
    "start_time": "2022-03-11T19:23:46.324Z"
   },
   {
    "duration": 4,
    "start_time": "2022-03-11T19:25:52.431Z"
   },
   {
    "duration": 6,
    "start_time": "2022-03-11T19:26:00.999Z"
   },
   {
    "duration": 15,
    "start_time": "2022-03-11T19:26:15.398Z"
   },
   {
    "duration": 12,
    "start_time": "2022-03-11T19:26:48.183Z"
   },
   {
    "duration": 6,
    "start_time": "2022-03-11T19:27:58.024Z"
   },
   {
    "duration": 6,
    "start_time": "2022-03-11T19:28:25.015Z"
   },
   {
    "duration": 16,
    "start_time": "2022-03-11T19:28:38.184Z"
   },
   {
    "duration": 4,
    "start_time": "2022-03-11T19:29:53.977Z"
   },
   {
    "duration": 58,
    "start_time": "2022-03-11T19:30:11.145Z"
   },
   {
    "duration": 48,
    "start_time": "2022-03-11T19:30:20.530Z"
   },
   {
    "duration": 38,
    "start_time": "2022-03-11T19:30:34.897Z"
   },
   {
    "duration": 26,
    "start_time": "2022-03-11T19:35:29.004Z"
   },
   {
    "duration": 416,
    "start_time": "2022-03-11T19:36:06.702Z"
   },
   {
    "duration": 3,
    "start_time": "2022-03-11T19:36:36.930Z"
   },
   {
    "duration": 677,
    "start_time": "2022-03-11T19:36:36.935Z"
   },
   {
    "duration": 3,
    "start_time": "2022-03-11T19:36:37.614Z"
   },
   {
    "duration": 231,
    "start_time": "2022-03-11T19:36:37.619Z"
   },
   {
    "duration": 63,
    "start_time": "2022-03-11T19:36:37.852Z"
   },
   {
    "duration": 131,
    "start_time": "2022-03-11T19:36:37.916Z"
   },
   {
    "duration": 4,
    "start_time": "2022-03-11T19:36:38.049Z"
   },
   {
    "duration": 15,
    "start_time": "2022-03-11T19:36:38.055Z"
   },
   {
    "duration": 2,
    "start_time": "2022-03-11T19:36:38.072Z"
   },
   {
    "duration": 6,
    "start_time": "2022-03-11T19:36:38.076Z"
   },
   {
    "duration": 28,
    "start_time": "2022-03-11T19:36:38.083Z"
   },
   {
    "duration": 4,
    "start_time": "2022-03-11T19:36:38.112Z"
   },
   {
    "duration": 5,
    "start_time": "2022-03-11T19:36:38.118Z"
   },
   {
    "duration": 6,
    "start_time": "2022-03-11T19:36:38.124Z"
   },
   {
    "duration": 10,
    "start_time": "2022-03-11T19:36:38.132Z"
   },
   {
    "duration": 14,
    "start_time": "2022-03-11T19:36:38.144Z"
   },
   {
    "duration": 8,
    "start_time": "2022-03-11T19:36:43.509Z"
   },
   {
    "duration": 8545,
    "start_time": "2022-03-11T19:36:45.452Z"
   },
   {
    "duration": 76,
    "start_time": "2022-03-11T19:37:33.670Z"
   },
   {
    "duration": 38,
    "start_time": "2022-03-11T19:37:49.214Z"
   },
   {
    "duration": 23,
    "start_time": "2022-03-11T19:38:09.950Z"
   },
   {
    "duration": 6,
    "start_time": "2022-03-11T19:38:28.912Z"
   },
   {
    "duration": 4,
    "start_time": "2022-03-11T19:38:56.108Z"
   },
   {
    "duration": 684,
    "start_time": "2022-03-11T19:38:56.114Z"
   },
   {
    "duration": 4,
    "start_time": "2022-03-11T19:38:56.799Z"
   },
   {
    "duration": 158,
    "start_time": "2022-03-11T19:38:56.805Z"
   },
   {
    "duration": 61,
    "start_time": "2022-03-11T19:38:56.965Z"
   },
   {
    "duration": 140,
    "start_time": "2022-03-11T19:38:57.027Z"
   },
   {
    "duration": 5,
    "start_time": "2022-03-11T19:38:57.169Z"
   },
   {
    "duration": 28,
    "start_time": "2022-03-11T19:38:57.177Z"
   },
   {
    "duration": 3,
    "start_time": "2022-03-11T19:38:57.206Z"
   },
   {
    "duration": 6,
    "start_time": "2022-03-11T19:38:57.210Z"
   },
   {
    "duration": 11,
    "start_time": "2022-03-11T19:38:57.217Z"
   },
   {
    "duration": 3,
    "start_time": "2022-03-11T19:38:57.230Z"
   },
   {
    "duration": 6,
    "start_time": "2022-03-11T19:38:57.235Z"
   },
   {
    "duration": 7,
    "start_time": "2022-03-11T19:38:57.242Z"
   },
   {
    "duration": 10,
    "start_time": "2022-03-11T19:38:57.250Z"
   },
   {
    "duration": 15,
    "start_time": "2022-03-11T19:38:57.261Z"
   },
   {
    "duration": 27,
    "start_time": "2022-03-11T19:38:57.277Z"
   },
   {
    "duration": 75,
    "start_time": "2022-03-11T19:38:57.305Z"
   },
   {
    "duration": 49,
    "start_time": "2022-03-11T19:38:57.382Z"
   },
   {
    "duration": 12,
    "start_time": "2022-03-11T19:38:57.433Z"
   },
   {
    "duration": 13,
    "start_time": "2022-03-11T19:38:57.447Z"
   },
   {
    "duration": 194,
    "start_time": "2022-03-11T19:38:57.461Z"
   },
   {
    "duration": 177,
    "start_time": "2022-03-11T19:38:57.658Z"
   },
   {
    "duration": 295,
    "start_time": "2022-03-11T19:38:57.836Z"
   },
   {
    "duration": 23,
    "start_time": "2022-03-11T19:38:58.133Z"
   },
   {
    "duration": 267,
    "start_time": "2022-03-11T19:38:58.157Z"
   },
   {
    "duration": 991,
    "start_time": "2022-03-11T19:38:58.426Z"
   },
   {
    "duration": 8,
    "start_time": "2022-03-11T19:38:59.418Z"
   },
   {
    "duration": 9,
    "start_time": "2022-03-11T19:38:59.428Z"
   },
   {
    "duration": 7519,
    "start_time": "2022-03-11T19:38:59.439Z"
   },
   {
    "duration": 597,
    "start_time": "2022-03-11T19:39:06.362Z"
   },
   {
    "duration": 595,
    "start_time": "2022-03-11T19:39:06.365Z"
   },
   {
    "duration": 593,
    "start_time": "2022-03-11T19:39:06.368Z"
   },
   {
    "duration": 591,
    "start_time": "2022-03-11T19:39:06.371Z"
   },
   {
    "duration": 590,
    "start_time": "2022-03-11T19:39:06.373Z"
   },
   {
    "duration": 588,
    "start_time": "2022-03-11T19:39:06.376Z"
   },
   {
    "duration": 317,
    "start_time": "2022-03-11T19:39:57.791Z"
   },
   {
    "duration": 460,
    "start_time": "2022-03-11T19:40:31.599Z"
   },
   {
    "duration": 330,
    "start_time": "2022-03-11T19:40:51.591Z"
   },
   {
    "duration": 319,
    "start_time": "2022-03-11T19:44:30.051Z"
   },
   {
    "duration": 321,
    "start_time": "2022-03-11T19:45:01.146Z"
   },
   {
    "duration": 38,
    "start_time": "2022-03-11T19:45:15.715Z"
   },
   {
    "duration": 8065,
    "start_time": "2022-03-11T19:45:41.108Z"
   },
   {
    "duration": 7553,
    "start_time": "2022-03-11T19:45:57.595Z"
   },
   {
    "duration": 310,
    "start_time": "2022-03-11T19:49:43.286Z"
   },
   {
    "duration": 3,
    "start_time": "2022-03-11T19:49:50.028Z"
   },
   {
    "duration": 615,
    "start_time": "2022-03-11T19:49:50.033Z"
   },
   {
    "duration": 3,
    "start_time": "2022-03-11T19:49:50.650Z"
   },
   {
    "duration": 206,
    "start_time": "2022-03-11T19:49:50.655Z"
   },
   {
    "duration": 88,
    "start_time": "2022-03-11T19:49:50.863Z"
   },
   {
    "duration": 158,
    "start_time": "2022-03-11T19:49:50.953Z"
   },
   {
    "duration": 7,
    "start_time": "2022-03-11T19:49:51.113Z"
   },
   {
    "duration": 3,
    "start_time": "2022-03-11T19:50:00.671Z"
   },
   {
    "duration": 773,
    "start_time": "2022-03-11T19:50:00.676Z"
   },
   {
    "duration": 3,
    "start_time": "2022-03-11T19:50:01.451Z"
   },
   {
    "duration": 147,
    "start_time": "2022-03-11T19:50:01.455Z"
   },
   {
    "duration": 49,
    "start_time": "2022-03-11T19:50:01.603Z"
   },
   {
    "duration": 165,
    "start_time": "2022-03-11T19:50:01.654Z"
   },
   {
    "duration": 5,
    "start_time": "2022-03-11T19:50:01.821Z"
   },
   {
    "duration": 20,
    "start_time": "2022-03-11T19:50:01.828Z"
   },
   {
    "duration": 7765,
    "start_time": "2022-03-11T19:50:01.850Z"
   },
   {
    "duration": 605,
    "start_time": "2022-03-11T19:50:09.012Z"
   },
   {
    "duration": 601,
    "start_time": "2022-03-11T19:50:09.018Z"
   },
   {
    "duration": 597,
    "start_time": "2022-03-11T19:50:09.023Z"
   },
   {
    "duration": 590,
    "start_time": "2022-03-11T19:50:09.031Z"
   },
   {
    "duration": 587,
    "start_time": "2022-03-11T19:50:09.035Z"
   },
   {
    "duration": 584,
    "start_time": "2022-03-11T19:50:09.038Z"
   },
   {
    "duration": 582,
    "start_time": "2022-03-11T19:50:09.041Z"
   },
   {
    "duration": 581,
    "start_time": "2022-03-11T19:50:09.043Z"
   },
   {
    "duration": 579,
    "start_time": "2022-03-11T19:50:09.046Z"
   },
   {
    "duration": 578,
    "start_time": "2022-03-11T19:50:09.048Z"
   },
   {
    "duration": 575,
    "start_time": "2022-03-11T19:50:09.052Z"
   },
   {
    "duration": 572,
    "start_time": "2022-03-11T19:50:09.055Z"
   },
   {
    "duration": 571,
    "start_time": "2022-03-11T19:50:09.057Z"
   },
   {
    "duration": 569,
    "start_time": "2022-03-11T19:50:09.060Z"
   },
   {
    "duration": 567,
    "start_time": "2022-03-11T19:50:09.063Z"
   },
   {
    "duration": 558,
    "start_time": "2022-03-11T19:50:09.073Z"
   },
   {
    "duration": 555,
    "start_time": "2022-03-11T19:50:09.077Z"
   },
   {
    "duration": 554,
    "start_time": "2022-03-11T19:50:09.079Z"
   },
   {
    "duration": 551,
    "start_time": "2022-03-11T19:50:09.083Z"
   },
   {
    "duration": 550,
    "start_time": "2022-03-11T19:50:09.085Z"
   },
   {
    "duration": 548,
    "start_time": "2022-03-11T19:50:09.088Z"
   },
   {
    "duration": 546,
    "start_time": "2022-03-11T19:50:09.091Z"
   },
   {
    "duration": 544,
    "start_time": "2022-03-11T19:50:09.094Z"
   },
   {
    "duration": 542,
    "start_time": "2022-03-11T19:50:09.097Z"
   },
   {
    "duration": 540,
    "start_time": "2022-03-11T19:50:09.100Z"
   },
   {
    "duration": 539,
    "start_time": "2022-03-11T19:50:09.102Z"
   },
   {
    "duration": 537,
    "start_time": "2022-03-11T19:50:09.105Z"
   },
   {
    "duration": 535,
    "start_time": "2022-03-11T19:50:09.108Z"
   },
   {
    "duration": 7471,
    "start_time": "2022-03-11T19:50:51.519Z"
   },
   {
    "duration": 300,
    "start_time": "2022-03-11T19:51:11.351Z"
   },
   {
    "duration": 3,
    "start_time": "2022-03-11T19:51:23.117Z"
   },
   {
    "duration": 617,
    "start_time": "2022-03-11T19:51:23.121Z"
   },
   {
    "duration": 4,
    "start_time": "2022-03-11T19:51:23.740Z"
   },
   {
    "duration": 163,
    "start_time": "2022-03-11T19:51:23.746Z"
   },
   {
    "duration": 47,
    "start_time": "2022-03-11T19:51:23.910Z"
   },
   {
    "duration": 152,
    "start_time": "2022-03-11T19:51:23.958Z"
   },
   {
    "duration": 4,
    "start_time": "2022-03-11T19:51:24.112Z"
   },
   {
    "duration": 36,
    "start_time": "2022-03-11T19:51:24.119Z"
   },
   {
    "duration": 8140,
    "start_time": "2022-03-11T19:51:24.157Z"
   },
   {
    "duration": 619,
    "start_time": "2022-03-11T19:51:31.680Z"
   },
   {
    "duration": 618,
    "start_time": "2022-03-11T19:51:31.682Z"
   },
   {
    "duration": 615,
    "start_time": "2022-03-11T19:51:31.686Z"
   },
   {
    "duration": 611,
    "start_time": "2022-03-11T19:51:31.691Z"
   },
   {
    "duration": 606,
    "start_time": "2022-03-11T19:51:31.696Z"
   },
   {
    "duration": 601,
    "start_time": "2022-03-11T19:51:31.702Z"
   },
   {
    "duration": 598,
    "start_time": "2022-03-11T19:51:31.706Z"
   },
   {
    "duration": 596,
    "start_time": "2022-03-11T19:51:31.709Z"
   },
   {
    "duration": 595,
    "start_time": "2022-03-11T19:51:31.711Z"
   },
   {
    "duration": 593,
    "start_time": "2022-03-11T19:51:31.714Z"
   },
   {
    "duration": 592,
    "start_time": "2022-03-11T19:51:31.716Z"
   },
   {
    "duration": 590,
    "start_time": "2022-03-11T19:51:31.719Z"
   },
   {
    "duration": 588,
    "start_time": "2022-03-11T19:51:31.721Z"
   },
   {
    "duration": 586,
    "start_time": "2022-03-11T19:51:31.724Z"
   },
   {
    "duration": 585,
    "start_time": "2022-03-11T19:51:31.726Z"
   },
   {
    "duration": 575,
    "start_time": "2022-03-11T19:51:31.737Z"
   },
   {
    "duration": 574,
    "start_time": "2022-03-11T19:51:31.739Z"
   },
   {
    "duration": 571,
    "start_time": "2022-03-11T19:51:31.743Z"
   },
   {
    "duration": 570,
    "start_time": "2022-03-11T19:51:31.745Z"
   },
   {
    "duration": 568,
    "start_time": "2022-03-11T19:51:31.748Z"
   },
   {
    "duration": 566,
    "start_time": "2022-03-11T19:51:31.750Z"
   },
   {
    "duration": 564,
    "start_time": "2022-03-11T19:51:31.753Z"
   },
   {
    "duration": 563,
    "start_time": "2022-03-11T19:51:31.755Z"
   },
   {
    "duration": 561,
    "start_time": "2022-03-11T19:51:31.758Z"
   },
   {
    "duration": 559,
    "start_time": "2022-03-11T19:51:31.761Z"
   },
   {
    "duration": 558,
    "start_time": "2022-03-11T19:51:31.763Z"
   },
   {
    "duration": 556,
    "start_time": "2022-03-11T19:51:31.766Z"
   },
   {
    "duration": 553,
    "start_time": "2022-03-11T19:51:31.769Z"
   },
   {
    "duration": 15,
    "start_time": "2022-03-11T19:52:11.200Z"
   },
   {
    "duration": 35,
    "start_time": "2022-03-11T19:52:18.784Z"
   },
   {
    "duration": 11,
    "start_time": "2022-03-11T19:52:37.471Z"
   },
   {
    "duration": 8,
    "start_time": "2022-03-11T19:52:40.224Z"
   },
   {
    "duration": 4,
    "start_time": "2022-03-11T19:52:48.659Z"
   },
   {
    "duration": 700,
    "start_time": "2022-03-11T19:52:48.665Z"
   },
   {
    "duration": 4,
    "start_time": "2022-03-11T19:52:49.367Z"
   },
   {
    "duration": 178,
    "start_time": "2022-03-11T19:52:49.373Z"
   },
   {
    "duration": 70,
    "start_time": "2022-03-11T19:52:49.553Z"
   },
   {
    "duration": 163,
    "start_time": "2022-03-11T19:52:49.625Z"
   },
   {
    "duration": 13,
    "start_time": "2022-03-11T19:52:49.790Z"
   },
   {
    "duration": 16,
    "start_time": "2022-03-11T19:52:49.806Z"
   },
   {
    "duration": 15,
    "start_time": "2022-03-11T19:52:49.825Z"
   },
   {
    "duration": 3,
    "start_time": "2022-03-11T19:52:49.841Z"
   },
   {
    "duration": 6,
    "start_time": "2022-03-11T19:52:49.845Z"
   },
   {
    "duration": 18,
    "start_time": "2022-03-11T19:52:49.852Z"
   },
   {
    "duration": 32,
    "start_time": "2022-03-11T19:52:49.871Z"
   },
   {
    "duration": 6,
    "start_time": "2022-03-11T19:52:49.905Z"
   },
   {
    "duration": 6,
    "start_time": "2022-03-11T19:52:49.912Z"
   },
   {
    "duration": 10,
    "start_time": "2022-03-11T19:52:49.920Z"
   },
   {
    "duration": 15,
    "start_time": "2022-03-11T19:52:49.932Z"
   },
   {
    "duration": 9,
    "start_time": "2022-03-11T19:52:49.949Z"
   },
   {
    "duration": 7952,
    "start_time": "2022-03-11T19:52:49.960Z"
   },
   {
    "duration": 581,
    "start_time": "2022-03-11T19:52:57.333Z"
   },
   {
    "duration": 577,
    "start_time": "2022-03-11T19:52:57.338Z"
   },
   {
    "duration": 575,
    "start_time": "2022-03-11T19:52:57.341Z"
   },
   {
    "duration": 573,
    "start_time": "2022-03-11T19:52:57.344Z"
   },
   {
    "duration": 570,
    "start_time": "2022-03-11T19:52:57.348Z"
   },
   {
    "duration": 566,
    "start_time": "2022-03-11T19:52:57.353Z"
   },
   {
    "duration": 563,
    "start_time": "2022-03-11T19:52:57.356Z"
   },
   {
    "duration": 560,
    "start_time": "2022-03-11T19:52:57.360Z"
   },
   {
    "duration": 557,
    "start_time": "2022-03-11T19:52:57.364Z"
   },
   {
    "duration": 557,
    "start_time": "2022-03-11T19:52:57.366Z"
   },
   {
    "duration": 555,
    "start_time": "2022-03-11T19:52:57.369Z"
   },
   {
    "duration": 552,
    "start_time": "2022-03-11T19:52:57.372Z"
   },
   {
    "duration": 551,
    "start_time": "2022-03-11T19:52:57.374Z"
   },
   {
    "duration": 549,
    "start_time": "2022-03-11T19:52:57.377Z"
   },
   {
    "duration": 543,
    "start_time": "2022-03-11T19:52:57.384Z"
   },
   {
    "duration": 541,
    "start_time": "2022-03-11T19:52:57.387Z"
   },
   {
    "duration": 540,
    "start_time": "2022-03-11T19:52:57.389Z"
   },
   {
    "duration": 537,
    "start_time": "2022-03-11T19:52:57.393Z"
   },
   {
    "duration": 77,
    "start_time": "2022-03-11T19:53:09.642Z"
   },
   {
    "duration": 39,
    "start_time": "2022-03-11T19:53:20.736Z"
   },
   {
    "duration": 5,
    "start_time": "2022-03-11T19:53:27.183Z"
   },
   {
    "duration": 3,
    "start_time": "2022-03-11T19:53:49.134Z"
   },
   {
    "duration": 621,
    "start_time": "2022-03-11T19:53:49.138Z"
   },
   {
    "duration": 3,
    "start_time": "2022-03-11T19:53:49.761Z"
   },
   {
    "duration": 152,
    "start_time": "2022-03-11T19:53:49.766Z"
   },
   {
    "duration": 47,
    "start_time": "2022-03-11T19:53:49.920Z"
   },
   {
    "duration": 151,
    "start_time": "2022-03-11T19:53:49.968Z"
   },
   {
    "duration": 4,
    "start_time": "2022-03-11T19:53:50.121Z"
   },
   {
    "duration": 15,
    "start_time": "2022-03-11T19:53:50.127Z"
   },
   {
    "duration": 13,
    "start_time": "2022-03-11T19:53:50.143Z"
   },
   {
    "duration": 4,
    "start_time": "2022-03-11T19:53:50.157Z"
   },
   {
    "duration": 5,
    "start_time": "2022-03-11T19:53:50.163Z"
   },
   {
    "duration": 44,
    "start_time": "2022-03-11T19:53:50.169Z"
   },
   {
    "duration": 6,
    "start_time": "2022-03-11T19:53:50.215Z"
   },
   {
    "duration": 6,
    "start_time": "2022-03-11T19:53:50.222Z"
   },
   {
    "duration": 5,
    "start_time": "2022-03-11T19:53:50.229Z"
   },
   {
    "duration": 11,
    "start_time": "2022-03-11T19:53:50.235Z"
   },
   {
    "duration": 26,
    "start_time": "2022-03-11T19:53:50.247Z"
   },
   {
    "duration": 14,
    "start_time": "2022-03-11T19:53:50.275Z"
   },
   {
    "duration": 138,
    "start_time": "2022-03-11T19:53:50.293Z"
   },
   {
    "duration": 67,
    "start_time": "2022-03-11T19:53:50.434Z"
   },
   {
    "duration": 22,
    "start_time": "2022-03-11T19:53:50.503Z"
   },
   {
    "duration": 19,
    "start_time": "2022-03-11T19:53:50.527Z"
   },
   {
    "duration": 255,
    "start_time": "2022-03-11T19:53:50.548Z"
   },
   {
    "duration": 183,
    "start_time": "2022-03-11T19:53:50.805Z"
   },
   {
    "duration": 309,
    "start_time": "2022-03-11T19:53:50.990Z"
   },
   {
    "duration": 23,
    "start_time": "2022-03-11T19:53:51.300Z"
   },
   {
    "duration": 252,
    "start_time": "2022-03-11T19:53:51.324Z"
   },
   {
    "duration": 673,
    "start_time": "2022-03-11T19:53:51.578Z"
   },
   {
    "duration": 7,
    "start_time": "2022-03-11T19:53:52.253Z"
   },
   {
    "duration": 25,
    "start_time": "2022-03-11T19:53:52.261Z"
   },
   {
    "duration": 7543,
    "start_time": "2022-03-11T19:53:52.301Z"
   },
   {
    "duration": 628,
    "start_time": "2022-03-11T19:53:59.217Z"
   },
   {
    "duration": 626,
    "start_time": "2022-03-11T19:53:59.220Z"
   },
   {
    "duration": 624,
    "start_time": "2022-03-11T19:53:59.223Z"
   },
   {
    "duration": 620,
    "start_time": "2022-03-11T19:53:59.227Z"
   },
   {
    "duration": 618,
    "start_time": "2022-03-11T19:53:59.230Z"
   },
   {
    "duration": 616,
    "start_time": "2022-03-11T19:53:59.233Z"
   },
   {
    "duration": 7503,
    "start_time": "2022-03-11T19:55:49.849Z"
   },
   {
    "duration": 24,
    "start_time": "2022-03-11T19:56:17.242Z"
   },
   {
    "duration": 1168,
    "start_time": "2022-03-11T19:56:39.485Z"
   },
   {
    "duration": 672,
    "start_time": "2022-03-11T19:56:40.655Z"
   },
   {
    "duration": 3,
    "start_time": "2022-03-11T19:56:41.329Z"
   },
   {
    "duration": 151,
    "start_time": "2022-03-11T19:56:41.334Z"
   },
   {
    "duration": 58,
    "start_time": "2022-03-11T19:56:41.486Z"
   },
   {
    "duration": 156,
    "start_time": "2022-03-11T19:56:41.546Z"
   },
   {
    "duration": 4,
    "start_time": "2022-03-11T19:56:41.704Z"
   },
   {
    "duration": 20,
    "start_time": "2022-03-11T19:56:41.709Z"
   },
   {
    "duration": 14,
    "start_time": "2022-03-11T19:56:41.731Z"
   },
   {
    "duration": 3,
    "start_time": "2022-03-11T19:56:41.747Z"
   },
   {
    "duration": 8,
    "start_time": "2022-03-11T19:56:41.752Z"
   },
   {
    "duration": 15,
    "start_time": "2022-03-11T19:56:41.761Z"
   },
   {
    "duration": 6,
    "start_time": "2022-03-11T19:56:41.801Z"
   },
   {
    "duration": 7,
    "start_time": "2022-03-11T19:56:41.808Z"
   },
   {
    "duration": 5,
    "start_time": "2022-03-11T19:56:41.816Z"
   },
   {
    "duration": 9,
    "start_time": "2022-03-11T19:56:41.822Z"
   },
   {
    "duration": 19,
    "start_time": "2022-03-11T19:56:41.832Z"
   },
   {
    "duration": 12,
    "start_time": "2022-03-11T19:56:41.852Z"
   },
   {
    "duration": 96,
    "start_time": "2022-03-11T19:56:41.865Z"
   },
   {
    "duration": 42,
    "start_time": "2022-03-11T19:56:41.963Z"
   },
   {
    "duration": 12,
    "start_time": "2022-03-11T19:56:42.006Z"
   },
   {
    "duration": 11,
    "start_time": "2022-03-11T19:56:42.020Z"
   },
   {
    "duration": 191,
    "start_time": "2022-03-11T19:56:42.033Z"
   },
   {
    "duration": 181,
    "start_time": "2022-03-11T19:56:42.226Z"
   },
   {
    "duration": 293,
    "start_time": "2022-03-11T19:56:42.409Z"
   },
   {
    "duration": 24,
    "start_time": "2022-03-11T19:56:42.704Z"
   },
   {
    "duration": 256,
    "start_time": "2022-03-11T19:56:42.730Z"
   },
   {
    "duration": 752,
    "start_time": "2022-03-11T19:56:42.988Z"
   },
   {
    "duration": 27,
    "start_time": "2022-03-11T19:56:43.741Z"
   },
   {
    "duration": 36,
    "start_time": "2022-03-11T19:56:43.769Z"
   },
   {
    "duration": 7608,
    "start_time": "2022-03-11T19:56:43.807Z"
   },
   {
    "duration": 627,
    "start_time": "2022-03-11T19:56:50.790Z"
   },
   {
    "duration": 626,
    "start_time": "2022-03-11T19:56:50.793Z"
   },
   {
    "duration": 625,
    "start_time": "2022-03-11T19:56:50.795Z"
   },
   {
    "duration": 622,
    "start_time": "2022-03-11T19:56:50.799Z"
   },
   {
    "duration": 621,
    "start_time": "2022-03-11T19:56:50.801Z"
   },
   {
    "duration": 619,
    "start_time": "2022-03-11T19:56:50.804Z"
   },
   {
    "duration": 3,
    "start_time": "2022-03-11T19:57:59.293Z"
   },
   {
    "duration": 647,
    "start_time": "2022-03-11T19:57:59.298Z"
   },
   {
    "duration": 3,
    "start_time": "2022-03-11T19:57:59.947Z"
   },
   {
    "duration": 160,
    "start_time": "2022-03-11T19:57:59.951Z"
   },
   {
    "duration": 52,
    "start_time": "2022-03-11T19:58:00.113Z"
   },
   {
    "duration": 157,
    "start_time": "2022-03-11T19:58:00.166Z"
   },
   {
    "duration": 5,
    "start_time": "2022-03-11T19:58:00.325Z"
   },
   {
    "duration": 16,
    "start_time": "2022-03-11T19:58:00.332Z"
   },
   {
    "duration": 12,
    "start_time": "2022-03-11T19:58:00.350Z"
   },
   {
    "duration": 3,
    "start_time": "2022-03-11T19:58:00.364Z"
   },
   {
    "duration": 13,
    "start_time": "2022-03-11T19:58:00.368Z"
   },
   {
    "duration": 28,
    "start_time": "2022-03-11T19:58:00.382Z"
   },
   {
    "duration": 13,
    "start_time": "2022-03-11T19:58:00.411Z"
   },
   {
    "duration": 20,
    "start_time": "2022-03-11T19:58:00.425Z"
   },
   {
    "duration": 8,
    "start_time": "2022-03-11T19:58:00.446Z"
   },
   {
    "duration": 9,
    "start_time": "2022-03-11T19:58:00.455Z"
   },
   {
    "duration": 27,
    "start_time": "2022-03-11T19:58:00.465Z"
   },
   {
    "duration": 167,
    "start_time": "2022-03-11T19:58:00.493Z"
   },
   {
    "duration": 57,
    "start_time": "2022-03-11T19:58:00.663Z"
   },
   {
    "duration": 15,
    "start_time": "2022-03-11T19:58:00.722Z"
   },
   {
    "duration": 14,
    "start_time": "2022-03-11T19:58:00.739Z"
   },
   {
    "duration": 209,
    "start_time": "2022-03-11T19:58:00.754Z"
   },
   {
    "duration": 189,
    "start_time": "2022-03-11T19:58:00.964Z"
   },
   {
    "duration": 299,
    "start_time": "2022-03-11T19:58:01.155Z"
   },
   {
    "duration": 24,
    "start_time": "2022-03-11T19:58:01.455Z"
   },
   {
    "duration": 257,
    "start_time": "2022-03-11T19:58:01.480Z"
   },
   {
    "duration": 801,
    "start_time": "2022-03-11T19:58:01.738Z"
   },
   {
    "duration": 32,
    "start_time": "2022-03-11T19:58:02.541Z"
   },
   {
    "duration": 61,
    "start_time": "2022-03-11T19:58:02.574Z"
   },
   {
    "duration": 470,
    "start_time": "2022-03-11T19:58:02.636Z"
   },
   {
    "duration": 3,
    "start_time": "2022-03-11T19:58:03.108Z"
   },
   {
    "duration": 40,
    "start_time": "2022-03-11T19:58:03.113Z"
   },
   {
    "duration": 47,
    "start_time": "2022-03-11T19:58:03.154Z"
   },
   {
    "duration": 398,
    "start_time": "2022-03-11T19:58:03.203Z"
   },
   {
    "duration": 3,
    "start_time": "2022-03-11T19:58:03.603Z"
   },
   {
    "duration": 18,
    "start_time": "2022-03-11T19:58:03.607Z"
   },
   {
    "duration": 10,
    "start_time": "2022-03-11T19:58:15.834Z"
   },
   {
    "duration": 44,
    "start_time": "2022-03-11T19:59:16.210Z"
   },
   {
    "duration": 40,
    "start_time": "2022-03-11T19:59:24.050Z"
   },
   {
    "duration": 105,
    "start_time": "2022-03-11T20:01:41.692Z"
   },
   {
    "duration": 350,
    "start_time": "2022-03-11T20:03:46.386Z"
   },
   {
    "duration": 311,
    "start_time": "2022-03-11T20:03:58.622Z"
   },
   {
    "duration": 307,
    "start_time": "2022-03-11T20:04:28.085Z"
   },
   {
    "duration": 332,
    "start_time": "2022-03-11T20:05:47.176Z"
   },
   {
    "duration": 800,
    "start_time": "2022-03-11T20:06:21.631Z"
   },
   {
    "duration": 7,
    "start_time": "2022-03-11T20:07:14.344Z"
   },
   {
    "duration": 794,
    "start_time": "2022-03-11T20:07:20.240Z"
   },
   {
    "duration": 302,
    "start_time": "2022-03-11T20:08:40.473Z"
   },
   {
    "duration": 37488,
    "start_time": "2022-03-11T20:09:15.459Z"
   },
   {
    "duration": 963,
    "start_time": "2022-03-11T20:11:50.276Z"
   },
   {
    "duration": 93,
    "start_time": "2022-03-11T20:11:56.355Z"
   },
   {
    "duration": 236,
    "start_time": "2022-03-11T20:11:59.560Z"
   },
   {
    "duration": 8,
    "start_time": "2022-03-11T20:12:25.268Z"
   },
   {
    "duration": 323,
    "start_time": "2022-03-11T20:18:49.257Z"
   },
   {
    "duration": 6329,
    "start_time": "2022-03-11T20:20:05.402Z"
   },
   {
    "duration": 36,
    "start_time": "2022-03-11T20:22:31.578Z"
   },
   {
    "duration": 3,
    "start_time": "2022-03-11T20:22:37.954Z"
   },
   {
    "duration": 9,
    "start_time": "2022-03-11T20:22:43.164Z"
   },
   {
    "duration": 543,
    "start_time": "2022-03-11T20:24:15.347Z"
   },
   {
    "duration": 397,
    "start_time": "2022-03-11T20:25:44.885Z"
   },
   {
    "duration": 295,
    "start_time": "2022-03-11T20:27:01.207Z"
   },
   {
    "duration": 312,
    "start_time": "2022-03-11T20:29:31.577Z"
   },
   {
    "duration": 355,
    "start_time": "2022-03-11T20:30:26.768Z"
   },
   {
    "duration": 326,
    "start_time": "2022-03-11T20:31:39.747Z"
   },
   {
    "duration": 4,
    "start_time": "2022-03-11T20:33:21.948Z"
   },
   {
    "duration": 4,
    "start_time": "2022-03-11T20:33:35.778Z"
   },
   {
    "duration": 9,
    "start_time": "2022-03-11T20:34:54.667Z"
   },
   {
    "duration": 627,
    "start_time": "2022-03-11T20:35:03.139Z"
   },
   {
    "duration": 5,
    "start_time": "2022-03-11T20:35:09.603Z"
   },
   {
    "duration": 5,
    "start_time": "2022-03-11T20:35:40.923Z"
   },
   {
    "duration": 6,
    "start_time": "2022-03-11T20:36:32.841Z"
   },
   {
    "duration": 5,
    "start_time": "2022-03-11T20:36:55.508Z"
   },
   {
    "duration": 4,
    "start_time": "2022-03-11T20:37:18.946Z"
   },
   {
    "duration": 682,
    "start_time": "2022-03-11T20:37:18.951Z"
   },
   {
    "duration": 4,
    "start_time": "2022-03-11T20:37:19.634Z"
   },
   {
    "duration": 162,
    "start_time": "2022-03-11T20:37:19.640Z"
   },
   {
    "duration": 48,
    "start_time": "2022-03-11T20:37:19.804Z"
   },
   {
    "duration": 137,
    "start_time": "2022-03-11T20:37:19.853Z"
   },
   {
    "duration": 4,
    "start_time": "2022-03-11T20:37:20.001Z"
   },
   {
    "duration": 22,
    "start_time": "2022-03-11T20:37:20.007Z"
   },
   {
    "duration": 15,
    "start_time": "2022-03-11T20:37:20.030Z"
   },
   {
    "duration": 3,
    "start_time": "2022-03-11T20:37:20.047Z"
   },
   {
    "duration": 5,
    "start_time": "2022-03-11T20:37:20.052Z"
   },
   {
    "duration": 17,
    "start_time": "2022-03-11T20:37:20.058Z"
   },
   {
    "duration": 27,
    "start_time": "2022-03-11T20:37:20.077Z"
   },
   {
    "duration": 6,
    "start_time": "2022-03-11T20:37:20.106Z"
   },
   {
    "duration": 4,
    "start_time": "2022-03-11T20:37:20.114Z"
   },
   {
    "duration": 9,
    "start_time": "2022-03-11T20:37:20.119Z"
   },
   {
    "duration": 15,
    "start_time": "2022-03-11T20:37:20.129Z"
   },
   {
    "duration": 209,
    "start_time": "2022-03-11T20:37:20.145Z"
   },
   {
    "duration": 65,
    "start_time": "2022-03-11T20:37:20.356Z"
   },
   {
    "duration": 12,
    "start_time": "2022-03-11T20:37:20.423Z"
   },
   {
    "duration": 14,
    "start_time": "2022-03-11T20:37:20.436Z"
   },
   {
    "duration": 197,
    "start_time": "2022-03-11T20:37:20.451Z"
   },
   {
    "duration": 186,
    "start_time": "2022-03-11T20:37:20.650Z"
   },
   {
    "duration": 304,
    "start_time": "2022-03-11T20:37:20.838Z"
   },
   {
    "duration": 24,
    "start_time": "2022-03-11T20:37:21.144Z"
   },
   {
    "duration": 254,
    "start_time": "2022-03-11T20:37:21.170Z"
   },
   {
    "duration": 708,
    "start_time": "2022-03-11T20:37:21.425Z"
   },
   {
    "duration": 9,
    "start_time": "2022-03-11T20:37:22.135Z"
   },
   {
    "duration": 61,
    "start_time": "2022-03-11T20:37:22.145Z"
   },
   {
    "duration": 405,
    "start_time": "2022-03-11T20:37:22.207Z"
   },
   {
    "duration": 3,
    "start_time": "2022-03-11T20:37:22.614Z"
   },
   {
    "duration": 11,
    "start_time": "2022-03-11T20:37:22.619Z"
   },
   {
    "duration": 8,
    "start_time": "2022-03-11T20:37:22.631Z"
   },
   {
    "duration": 325,
    "start_time": "2022-03-11T20:37:22.641Z"
   },
   {
    "duration": 703,
    "start_time": "2022-03-11T20:37:22.264Z"
   },
   {
    "duration": 698,
    "start_time": "2022-03-11T20:37:22.270Z"
   },
   {
    "duration": 694,
    "start_time": "2022-03-11T20:37:22.275Z"
   },
   {
    "duration": 671,
    "start_time": "2022-03-11T20:37:22.299Z"
   },
   {
    "duration": 662,
    "start_time": "2022-03-11T20:37:22.309Z"
   },
   {
    "duration": 657,
    "start_time": "2022-03-11T20:37:22.315Z"
   },
   {
    "duration": 654,
    "start_time": "2022-03-11T20:37:22.319Z"
   },
   {
    "duration": 11,
    "start_time": "2022-03-11T20:37:35.340Z"
   },
   {
    "duration": 8,
    "start_time": "2022-03-11T20:38:02.812Z"
   },
   {
    "duration": 2003,
    "start_time": "2022-03-11T20:39:02.877Z"
   },
   {
    "duration": 329,
    "start_time": "2022-03-11T20:39:15.277Z"
   },
   {
    "duration": 326,
    "start_time": "2022-03-11T20:39:27.070Z"
   },
   {
    "duration": 341,
    "start_time": "2022-03-11T20:40:59.687Z"
   },
   {
    "duration": 689,
    "start_time": "2022-03-11T20:40:59.341Z"
   },
   {
    "duration": 682,
    "start_time": "2022-03-11T20:40:59.349Z"
   },
   {
    "duration": 7,
    "start_time": "2022-03-11T20:41:24.455Z"
   },
   {
    "duration": 305,
    "start_time": "2022-03-11T20:41:44.535Z"
   },
   {
    "duration": 7,
    "start_time": "2022-03-11T20:41:52.446Z"
   },
   {
    "duration": 9,
    "start_time": "2022-03-11T20:41:57.478Z"
   },
   {
    "duration": 266,
    "start_time": "2022-03-12T03:16:49.290Z"
   },
   {
    "duration": 228,
    "start_time": "2022-03-12T03:17:03.489Z"
   },
   {
    "duration": 1205,
    "start_time": "2022-03-12T03:17:08.677Z"
   },
   {
    "duration": 769,
    "start_time": "2022-03-12T03:17:09.884Z"
   },
   {
    "duration": 4,
    "start_time": "2022-03-12T03:17:10.655Z"
   },
   {
    "duration": 200,
    "start_time": "2022-03-12T03:17:10.661Z"
   },
   {
    "duration": 73,
    "start_time": "2022-03-12T03:17:10.862Z"
   },
   {
    "duration": 184,
    "start_time": "2022-03-12T03:17:10.937Z"
   },
   {
    "duration": 5,
    "start_time": "2022-03-12T03:17:11.123Z"
   },
   {
    "duration": 28,
    "start_time": "2022-03-12T03:17:11.131Z"
   },
   {
    "duration": 17,
    "start_time": "2022-03-12T03:17:11.161Z"
   },
   {
    "duration": 22,
    "start_time": "2022-03-12T03:17:11.180Z"
   },
   {
    "duration": 11,
    "start_time": "2022-03-12T03:17:11.204Z"
   },
   {
    "duration": 17,
    "start_time": "2022-03-12T03:17:11.218Z"
   },
   {
    "duration": 7,
    "start_time": "2022-03-12T03:17:11.238Z"
   },
   {
    "duration": 12,
    "start_time": "2022-03-12T03:17:11.247Z"
   },
   {
    "duration": 7,
    "start_time": "2022-03-12T03:17:11.261Z"
   },
   {
    "duration": 33,
    "start_time": "2022-03-12T03:17:11.270Z"
   },
   {
    "duration": 13,
    "start_time": "2022-03-12T03:17:11.305Z"
   },
   {
    "duration": 203,
    "start_time": "2022-03-12T03:17:11.320Z"
   },
   {
    "duration": 64,
    "start_time": "2022-03-12T03:17:11.525Z"
   },
   {
    "duration": 25,
    "start_time": "2022-03-12T03:17:11.592Z"
   },
   {
    "duration": 16,
    "start_time": "2022-03-12T03:17:11.619Z"
   },
   {
    "duration": 245,
    "start_time": "2022-03-12T03:17:11.637Z"
   },
   {
    "duration": 251,
    "start_time": "2022-03-12T03:17:11.885Z"
   },
   {
    "duration": 363,
    "start_time": "2022-03-12T03:17:12.138Z"
   },
   {
    "duration": 30,
    "start_time": "2022-03-12T03:17:12.503Z"
   },
   {
    "duration": 311,
    "start_time": "2022-03-12T03:17:12.534Z"
   },
   {
    "duration": 866,
    "start_time": "2022-03-12T03:17:12.847Z"
   },
   {
    "duration": 10,
    "start_time": "2022-03-12T03:17:13.715Z"
   },
   {
    "duration": 14,
    "start_time": "2022-03-12T03:17:13.727Z"
   },
   {
    "duration": 297,
    "start_time": "2022-03-12T03:17:13.743Z"
   },
   {
    "duration": 3,
    "start_time": "2022-03-12T03:17:14.042Z"
   },
   {
    "duration": 11,
    "start_time": "2022-03-12T03:17:14.046Z"
   },
   {
    "duration": 283,
    "start_time": "2022-03-12T03:17:14.058Z"
   },
   {
    "duration": 439,
    "start_time": "2022-03-12T03:17:13.904Z"
   },
   {
    "duration": 433,
    "start_time": "2022-03-12T03:17:13.911Z"
   },
   {
    "duration": 429,
    "start_time": "2022-03-12T03:17:13.916Z"
   },
   {
    "duration": 424,
    "start_time": "2022-03-12T03:17:13.922Z"
   },
   {
    "duration": 422,
    "start_time": "2022-03-12T03:17:13.925Z"
   },
   {
    "duration": 419,
    "start_time": "2022-03-12T03:17:13.929Z"
   },
   {
    "duration": 417,
    "start_time": "2022-03-12T03:17:13.932Z"
   },
   {
    "duration": 415,
    "start_time": "2022-03-12T03:17:13.935Z"
   },
   {
    "duration": 413,
    "start_time": "2022-03-12T03:17:13.938Z"
   },
   {
    "duration": 229,
    "start_time": "2022-03-12T03:17:48.637Z"
   },
   {
    "duration": 14,
    "start_time": "2022-03-12T03:18:14.693Z"
   },
   {
    "duration": 1548,
    "start_time": "2022-03-12T03:32:01.203Z"
   },
   {
    "duration": 1499,
    "start_time": "2022-03-12T03:32:18.553Z"
   },
   {
    "duration": 1480,
    "start_time": "2022-03-12T03:33:08.001Z"
   },
   {
    "duration": 221,
    "start_time": "2022-03-12T03:33:21.561Z"
   },
   {
    "duration": 327,
    "start_time": "2022-03-12T03:33:36.089Z"
   },
   {
    "duration": 73,
    "start_time": "2022-03-12T03:34:40.273Z"
   },
   {
    "duration": 28,
    "start_time": "2022-03-12T03:34:57.186Z"
   },
   {
    "duration": 255,
    "start_time": "2022-03-12T03:37:37.601Z"
   },
   {
    "duration": 34,
    "start_time": "2022-03-12T03:37:49.348Z"
   },
   {
    "duration": 7,
    "start_time": "2022-03-12T03:37:57.107Z"
   },
   {
    "duration": 77,
    "start_time": "2022-03-12T03:38:52.332Z"
   },
   {
    "duration": 7,
    "start_time": "2022-03-12T03:55:48.880Z"
   },
   {
    "duration": 232,
    "start_time": "2022-03-12T03:56:28.016Z"
   },
   {
    "duration": 208,
    "start_time": "2022-03-12T03:56:55.200Z"
   },
   {
    "duration": 22,
    "start_time": "2022-03-12T04:02:08.324Z"
   },
   {
    "duration": 4,
    "start_time": "2022-03-12T04:03:47.720Z"
   },
   {
    "duration": 14,
    "start_time": "2022-03-12T04:04:57.573Z"
   },
   {
    "duration": 30,
    "start_time": "2022-03-12T04:05:06.814Z"
   },
   {
    "duration": 4,
    "start_time": "2022-03-12T04:05:17.975Z"
   },
   {
    "duration": 815,
    "start_time": "2022-03-12T04:05:17.981Z"
   },
   {
    "duration": 5,
    "start_time": "2022-03-12T04:05:18.802Z"
   },
   {
    "duration": 194,
    "start_time": "2022-03-12T04:05:18.809Z"
   },
   {
    "duration": 60,
    "start_time": "2022-03-12T04:05:19.005Z"
   },
   {
    "duration": 179,
    "start_time": "2022-03-12T04:05:19.067Z"
   },
   {
    "duration": 5,
    "start_time": "2022-03-12T04:05:19.248Z"
   },
   {
    "duration": 32,
    "start_time": "2022-03-12T04:05:19.256Z"
   },
   {
    "duration": 25,
    "start_time": "2022-03-12T04:05:19.290Z"
   },
   {
    "duration": 30,
    "start_time": "2022-03-12T04:05:19.317Z"
   },
   {
    "duration": 2145,
    "start_time": "2022-03-12T04:05:19.348Z"
   },
   {
    "duration": 525,
    "start_time": "2022-03-12T04:05:20.970Z"
   },
   {
    "duration": 522,
    "start_time": "2022-03-12T04:05:20.975Z"
   },
   {
    "duration": 519,
    "start_time": "2022-03-12T04:05:20.979Z"
   },
   {
    "duration": 516,
    "start_time": "2022-03-12T04:05:20.983Z"
   },
   {
    "duration": 514,
    "start_time": "2022-03-12T04:05:20.987Z"
   },
   {
    "duration": 511,
    "start_time": "2022-03-12T04:05:20.991Z"
   },
   {
    "duration": 509,
    "start_time": "2022-03-12T04:05:20.994Z"
   },
   {
    "duration": 507,
    "start_time": "2022-03-12T04:05:20.997Z"
   },
   {
    "duration": 505,
    "start_time": "2022-03-12T04:05:21.001Z"
   },
   {
    "duration": 504,
    "start_time": "2022-03-12T04:05:21.003Z"
   },
   {
    "duration": 502,
    "start_time": "2022-03-12T04:05:21.007Z"
   },
   {
    "duration": 501,
    "start_time": "2022-03-12T04:05:21.009Z"
   },
   {
    "duration": 499,
    "start_time": "2022-03-12T04:05:21.012Z"
   },
   {
    "duration": 497,
    "start_time": "2022-03-12T04:05:21.015Z"
   },
   {
    "duration": 495,
    "start_time": "2022-03-12T04:05:21.018Z"
   },
   {
    "duration": 487,
    "start_time": "2022-03-12T04:05:21.028Z"
   },
   {
    "duration": 484,
    "start_time": "2022-03-12T04:05:21.032Z"
   },
   {
    "duration": 482,
    "start_time": "2022-03-12T04:05:21.035Z"
   },
   {
    "duration": 480,
    "start_time": "2022-03-12T04:05:21.038Z"
   },
   {
    "duration": 478,
    "start_time": "2022-03-12T04:05:21.041Z"
   },
   {
    "duration": 476,
    "start_time": "2022-03-12T04:05:21.044Z"
   },
   {
    "duration": 474,
    "start_time": "2022-03-12T04:05:21.047Z"
   },
   {
    "duration": 471,
    "start_time": "2022-03-12T04:05:21.051Z"
   },
   {
    "duration": 469,
    "start_time": "2022-03-12T04:05:21.054Z"
   },
   {
    "duration": 467,
    "start_time": "2022-03-12T04:05:21.057Z"
   },
   {
    "duration": 467,
    "start_time": "2022-03-12T04:05:21.059Z"
   },
   {
    "duration": 464,
    "start_time": "2022-03-12T04:05:21.063Z"
   },
   {
    "duration": 462,
    "start_time": "2022-03-12T04:05:21.066Z"
   },
   {
    "duration": 460,
    "start_time": "2022-03-12T04:05:21.069Z"
   },
   {
    "duration": 459,
    "start_time": "2022-03-12T04:05:21.071Z"
   },
   {
    "duration": 456,
    "start_time": "2022-03-12T04:05:21.075Z"
   },
   {
    "duration": 455,
    "start_time": "2022-03-12T04:05:21.077Z"
   },
   {
    "duration": 453,
    "start_time": "2022-03-12T04:05:21.080Z"
   },
   {
    "duration": 451,
    "start_time": "2022-03-12T04:05:21.083Z"
   },
   {
    "duration": 4,
    "start_time": "2022-03-12T04:10:10.794Z"
   },
   {
    "duration": 777,
    "start_time": "2022-03-12T04:10:10.799Z"
   },
   {
    "duration": 4,
    "start_time": "2022-03-12T04:10:11.578Z"
   },
   {
    "duration": 195,
    "start_time": "2022-03-12T04:10:11.584Z"
   },
   {
    "duration": 70,
    "start_time": "2022-03-12T04:10:11.781Z"
   },
   {
    "duration": 182,
    "start_time": "2022-03-12T04:10:11.853Z"
   },
   {
    "duration": 6,
    "start_time": "2022-03-12T04:10:12.037Z"
   },
   {
    "duration": 9,
    "start_time": "2022-03-12T04:10:12.045Z"
   },
   {
    "duration": 17,
    "start_time": "2022-03-12T04:10:12.056Z"
   },
   {
    "duration": 37,
    "start_time": "2022-03-12T04:10:12.075Z"
   },
   {
    "duration": 31,
    "start_time": "2022-03-12T04:10:12.113Z"
   },
   {
    "duration": 2332,
    "start_time": "2022-03-12T04:10:12.145Z"
   },
   {
    "duration": 540,
    "start_time": "2022-03-12T04:10:13.940Z"
   },
   {
    "duration": 538,
    "start_time": "2022-03-12T04:10:13.943Z"
   },
   {
    "duration": 536,
    "start_time": "2022-03-12T04:10:13.946Z"
   },
   {
    "duration": 534,
    "start_time": "2022-03-12T04:10:13.949Z"
   },
   {
    "duration": 532,
    "start_time": "2022-03-12T04:10:13.952Z"
   },
   {
    "duration": 529,
    "start_time": "2022-03-12T04:10:13.955Z"
   },
   {
    "duration": 527,
    "start_time": "2022-03-12T04:10:13.958Z"
   },
   {
    "duration": 525,
    "start_time": "2022-03-12T04:10:13.961Z"
   },
   {
    "duration": 523,
    "start_time": "2022-03-12T04:10:13.964Z"
   },
   {
    "duration": 521,
    "start_time": "2022-03-12T04:10:13.967Z"
   },
   {
    "duration": 519,
    "start_time": "2022-03-12T04:10:13.970Z"
   },
   {
    "duration": 517,
    "start_time": "2022-03-12T04:10:13.973Z"
   },
   {
    "duration": 515,
    "start_time": "2022-03-12T04:10:13.976Z"
   },
   {
    "duration": 512,
    "start_time": "2022-03-12T04:10:13.979Z"
   },
   {
    "duration": 503,
    "start_time": "2022-03-12T04:10:13.989Z"
   },
   {
    "duration": 501,
    "start_time": "2022-03-12T04:10:13.992Z"
   },
   {
    "duration": 499,
    "start_time": "2022-03-12T04:10:13.995Z"
   },
   {
    "duration": 497,
    "start_time": "2022-03-12T04:10:13.998Z"
   },
   {
    "duration": 495,
    "start_time": "2022-03-12T04:10:14.001Z"
   },
   {
    "duration": 492,
    "start_time": "2022-03-12T04:10:14.004Z"
   },
   {
    "duration": 489,
    "start_time": "2022-03-12T04:10:14.008Z"
   },
   {
    "duration": 487,
    "start_time": "2022-03-12T04:10:14.011Z"
   },
   {
    "duration": 485,
    "start_time": "2022-03-12T04:10:14.014Z"
   },
   {
    "duration": 484,
    "start_time": "2022-03-12T04:10:14.016Z"
   },
   {
    "duration": 481,
    "start_time": "2022-03-12T04:10:14.020Z"
   },
   {
    "duration": 479,
    "start_time": "2022-03-12T04:10:14.022Z"
   },
   {
    "duration": 476,
    "start_time": "2022-03-12T04:10:14.026Z"
   },
   {
    "duration": 475,
    "start_time": "2022-03-12T04:10:14.028Z"
   },
   {
    "duration": 472,
    "start_time": "2022-03-12T04:10:14.032Z"
   },
   {
    "duration": 471,
    "start_time": "2022-03-12T04:10:14.034Z"
   },
   {
    "duration": 468,
    "start_time": "2022-03-12T04:10:14.038Z"
   },
   {
    "duration": 467,
    "start_time": "2022-03-12T04:10:14.040Z"
   },
   {
    "duration": 465,
    "start_time": "2022-03-12T04:10:14.043Z"
   },
   {
    "duration": 463,
    "start_time": "2022-03-12T04:10:14.046Z"
   },
   {
    "duration": 13,
    "start_time": "2022-03-12T04:10:57.802Z"
   },
   {
    "duration": 1179,
    "start_time": "2022-03-12T04:11:17.351Z"
   },
   {
    "duration": 737,
    "start_time": "2022-03-12T04:11:18.532Z"
   },
   {
    "duration": 4,
    "start_time": "2022-03-12T04:11:19.271Z"
   },
   {
    "duration": 196,
    "start_time": "2022-03-12T04:11:19.277Z"
   },
   {
    "duration": 72,
    "start_time": "2022-03-12T04:11:19.474Z"
   },
   {
    "duration": 185,
    "start_time": "2022-03-12T04:11:19.547Z"
   },
   {
    "duration": 5,
    "start_time": "2022-03-12T04:11:19.734Z"
   },
   {
    "duration": 8,
    "start_time": "2022-03-12T04:11:19.742Z"
   },
   {
    "duration": 25,
    "start_time": "2022-03-12T04:11:19.753Z"
   },
   {
    "duration": 41,
    "start_time": "2022-03-12T04:11:19.780Z"
   },
   {
    "duration": 32,
    "start_time": "2022-03-12T04:11:19.823Z"
   },
   {
    "duration": 45,
    "start_time": "2022-03-12T04:11:19.858Z"
   },
   {
    "duration": 6,
    "start_time": "2022-03-12T04:11:19.905Z"
   },
   {
    "duration": 10,
    "start_time": "2022-03-12T04:11:19.913Z"
   },
   {
    "duration": 18,
    "start_time": "2022-03-12T04:11:19.925Z"
   },
   {
    "duration": 12,
    "start_time": "2022-03-12T04:11:19.946Z"
   },
   {
    "duration": 41,
    "start_time": "2022-03-12T04:11:19.960Z"
   },
   {
    "duration": 7,
    "start_time": "2022-03-12T04:11:20.004Z"
   },
   {
    "duration": 12,
    "start_time": "2022-03-12T04:11:20.013Z"
   },
   {
    "duration": 23,
    "start_time": "2022-03-12T04:11:20.027Z"
   },
   {
    "duration": 190,
    "start_time": "2022-03-12T04:11:20.052Z"
   },
   {
    "duration": 73,
    "start_time": "2022-03-12T04:11:20.244Z"
   },
   {
    "duration": 16,
    "start_time": "2022-03-12T04:11:20.321Z"
   },
   {
    "duration": 15,
    "start_time": "2022-03-12T04:11:20.339Z"
   },
   {
    "duration": 227,
    "start_time": "2022-03-12T04:11:20.356Z"
   },
   {
    "duration": 220,
    "start_time": "2022-03-12T04:11:20.585Z"
   },
   {
    "duration": 355,
    "start_time": "2022-03-12T04:11:20.807Z"
   },
   {
    "duration": 39,
    "start_time": "2022-03-12T04:11:21.163Z"
   },
   {
    "duration": 283,
    "start_time": "2022-03-12T04:11:21.204Z"
   },
   {
    "duration": 856,
    "start_time": "2022-03-12T04:11:21.489Z"
   },
   {
    "duration": 10,
    "start_time": "2022-03-12T04:11:22.347Z"
   },
   {
    "duration": 15,
    "start_time": "2022-03-12T04:11:22.359Z"
   },
   {
    "duration": 393,
    "start_time": "2022-03-12T04:11:22.376Z"
   },
   {
    "duration": 3,
    "start_time": "2022-03-12T04:11:22.771Z"
   },
   {
    "duration": 12,
    "start_time": "2022-03-12T04:11:22.776Z"
   },
   {
    "duration": 21,
    "start_time": "2022-03-12T04:11:22.801Z"
   },
   {
    "duration": 7,
    "start_time": "2022-03-12T04:11:22.824Z"
   },
   {
    "duration": 9,
    "start_time": "2022-03-12T04:11:22.833Z"
   },
   {
    "duration": 320,
    "start_time": "2022-03-12T04:11:22.843Z"
   },
   {
    "duration": 442,
    "start_time": "2022-03-12T04:11:22.723Z"
   },
   {
    "duration": 438,
    "start_time": "2022-03-12T04:11:22.729Z"
   },
   {
    "duration": 425,
    "start_time": "2022-03-12T04:11:22.743Z"
   },
   {
    "duration": 420,
    "start_time": "2022-03-12T04:11:22.749Z"
   },
   {
    "duration": 411,
    "start_time": "2022-03-12T04:11:22.761Z"
   },
   {
    "duration": 407,
    "start_time": "2022-03-12T04:11:22.766Z"
   },
   {
    "duration": 404,
    "start_time": "2022-03-12T04:11:22.771Z"
   },
   {
    "duration": 5,
    "start_time": "2022-03-12T04:12:36.434Z"
   },
   {
    "duration": 7,
    "start_time": "2022-03-12T04:13:45.787Z"
   },
   {
    "duration": 8,
    "start_time": "2022-03-12T04:13:57.978Z"
   },
   {
    "duration": 7,
    "start_time": "2022-03-12T04:14:09.978Z"
   },
   {
    "duration": 238,
    "start_time": "2022-03-12T04:15:03.950Z"
   },
   {
    "duration": 24,
    "start_time": "2022-03-12T04:15:34.635Z"
   },
   {
    "duration": 4,
    "start_time": "2022-03-12T04:15:39.402Z"
   },
   {
    "duration": 801,
    "start_time": "2022-03-12T04:15:39.408Z"
   },
   {
    "duration": 4,
    "start_time": "2022-03-12T04:15:40.211Z"
   },
   {
    "duration": 203,
    "start_time": "2022-03-12T04:15:40.218Z"
   },
   {
    "duration": 92,
    "start_time": "2022-03-12T04:15:40.423Z"
   },
   {
    "duration": 167,
    "start_time": "2022-03-12T04:15:40.517Z"
   },
   {
    "duration": 14,
    "start_time": "2022-03-12T04:15:40.688Z"
   },
   {
    "duration": 14,
    "start_time": "2022-03-12T04:15:40.705Z"
   },
   {
    "duration": 20,
    "start_time": "2022-03-12T04:15:40.722Z"
   },
   {
    "duration": 22,
    "start_time": "2022-03-12T04:15:40.744Z"
   },
   {
    "duration": 50,
    "start_time": "2022-03-12T04:15:40.767Z"
   },
   {
    "duration": 23,
    "start_time": "2022-03-12T04:15:40.820Z"
   },
   {
    "duration": 4,
    "start_time": "2022-03-12T04:15:40.845Z"
   },
   {
    "duration": 8,
    "start_time": "2022-03-12T04:15:40.851Z"
   },
   {
    "duration": 20,
    "start_time": "2022-03-12T04:15:40.861Z"
   },
   {
    "duration": 25,
    "start_time": "2022-03-12T04:15:40.882Z"
   },
   {
    "duration": 14,
    "start_time": "2022-03-12T04:15:40.909Z"
   },
   {
    "duration": 11,
    "start_time": "2022-03-12T04:15:40.925Z"
   },
   {
    "duration": 7,
    "start_time": "2022-03-12T04:15:40.942Z"
   },
   {
    "duration": 20,
    "start_time": "2022-03-12T04:15:40.952Z"
   },
   {
    "duration": 199,
    "start_time": "2022-03-12T04:15:40.974Z"
   },
   {
    "duration": 72,
    "start_time": "2022-03-12T04:15:41.175Z"
   },
   {
    "duration": 17,
    "start_time": "2022-03-12T04:15:41.249Z"
   },
   {
    "duration": 16,
    "start_time": "2022-03-12T04:15:41.268Z"
   },
   {
    "duration": 224,
    "start_time": "2022-03-12T04:15:41.302Z"
   },
   {
    "duration": 220,
    "start_time": "2022-03-12T04:15:41.528Z"
   },
   {
    "duration": 363,
    "start_time": "2022-03-12T04:15:41.750Z"
   },
   {
    "duration": 27,
    "start_time": "2022-03-12T04:15:42.115Z"
   },
   {
    "duration": 302,
    "start_time": "2022-03-12T04:15:42.144Z"
   },
   {
    "duration": 1147,
    "start_time": "2022-03-12T04:15:42.448Z"
   },
   {
    "duration": 13,
    "start_time": "2022-03-12T04:15:43.597Z"
   },
   {
    "duration": 62,
    "start_time": "2022-03-12T04:15:43.611Z"
   },
   {
    "duration": 278,
    "start_time": "2022-03-12T04:15:43.674Z"
   },
   {
    "duration": 5,
    "start_time": "2022-03-12T04:15:43.954Z"
   },
   {
    "duration": 17,
    "start_time": "2022-03-12T04:15:43.960Z"
   },
   {
    "duration": 44,
    "start_time": "2022-03-12T04:15:43.979Z"
   },
   {
    "duration": 229,
    "start_time": "2022-03-12T04:15:44.025Z"
   },
   {
    "duration": 573,
    "start_time": "2022-03-12T04:15:43.683Z"
   },
   {
    "duration": 568,
    "start_time": "2022-03-12T04:15:43.689Z"
   },
   {
    "duration": 566,
    "start_time": "2022-03-12T04:15:43.692Z"
   },
   {
    "duration": 564,
    "start_time": "2022-03-12T04:15:43.695Z"
   },
   {
    "duration": 562,
    "start_time": "2022-03-12T04:15:43.698Z"
   },
   {
    "duration": 561,
    "start_time": "2022-03-12T04:15:43.700Z"
   },
   {
    "duration": 559,
    "start_time": "2022-03-12T04:15:43.703Z"
   },
   {
    "duration": 557,
    "start_time": "2022-03-12T04:15:43.706Z"
   },
   {
    "duration": 555,
    "start_time": "2022-03-12T04:15:43.709Z"
   },
   {
    "duration": 8,
    "start_time": "2022-03-12T04:15:54.845Z"
   },
   {
    "duration": 7,
    "start_time": "2022-03-12T04:16:39.844Z"
   },
   {
    "duration": 7,
    "start_time": "2022-03-12T04:16:57.884Z"
   },
   {
    "duration": 5,
    "start_time": "2022-03-12T04:17:27.173Z"
   },
   {
    "duration": 247,
    "start_time": "2022-03-12T04:18:05.725Z"
   },
   {
    "duration": 1919,
    "start_time": "2022-03-12T04:18:49.440Z"
   },
   {
    "duration": 284,
    "start_time": "2022-03-12T04:19:12.085Z"
   },
   {
    "duration": 224,
    "start_time": "2022-03-12T04:19:49.575Z"
   },
   {
    "duration": 221,
    "start_time": "2022-03-12T04:20:09.430Z"
   },
   {
    "duration": 236,
    "start_time": "2022-03-12T04:20:18.759Z"
   },
   {
    "duration": 234,
    "start_time": "2022-03-12T04:20:33.239Z"
   },
   {
    "duration": 6,
    "start_time": "2022-03-12T04:20:45.359Z"
   },
   {
    "duration": 7,
    "start_time": "2022-03-12T04:21:14.903Z"
   },
   {
    "duration": 5,
    "start_time": "2022-03-12T04:21:17.318Z"
   },
   {
    "duration": 778,
    "start_time": "2022-03-12T04:21:17.326Z"
   },
   {
    "duration": 4,
    "start_time": "2022-03-12T04:21:18.106Z"
   },
   {
    "duration": 189,
    "start_time": "2022-03-12T04:21:18.112Z"
   },
   {
    "duration": 60,
    "start_time": "2022-03-12T04:21:18.303Z"
   },
   {
    "duration": 178,
    "start_time": "2022-03-12T04:21:18.365Z"
   },
   {
    "duration": 5,
    "start_time": "2022-03-12T04:21:18.545Z"
   },
   {
    "duration": 7,
    "start_time": "2022-03-12T04:21:18.553Z"
   },
   {
    "duration": 39,
    "start_time": "2022-03-12T04:21:18.563Z"
   },
   {
    "duration": 20,
    "start_time": "2022-03-12T04:21:18.605Z"
   },
   {
    "duration": 29,
    "start_time": "2022-03-12T04:21:18.627Z"
   },
   {
    "duration": 25,
    "start_time": "2022-03-12T04:21:18.658Z"
   },
   {
    "duration": 17,
    "start_time": "2022-03-12T04:21:18.686Z"
   },
   {
    "duration": 7,
    "start_time": "2022-03-12T04:21:18.705Z"
   },
   {
    "duration": 14,
    "start_time": "2022-03-12T04:21:18.714Z"
   },
   {
    "duration": 7,
    "start_time": "2022-03-12T04:21:18.730Z"
   },
   {
    "duration": 13,
    "start_time": "2022-03-12T04:21:18.739Z"
   },
   {
    "duration": 20,
    "start_time": "2022-03-12T04:21:18.753Z"
   },
   {
    "duration": 8,
    "start_time": "2022-03-12T04:21:18.775Z"
   },
   {
    "duration": 25,
    "start_time": "2022-03-12T04:21:18.784Z"
   },
   {
    "duration": 297,
    "start_time": "2022-03-12T04:21:18.811Z"
   },
   {
    "duration": 63,
    "start_time": "2022-03-12T04:21:19.110Z"
   },
   {
    "duration": 29,
    "start_time": "2022-03-12T04:21:19.177Z"
   },
   {
    "duration": 16,
    "start_time": "2022-03-12T04:21:19.209Z"
   },
   {
    "duration": 226,
    "start_time": "2022-03-12T04:21:19.227Z"
   },
   {
    "duration": 217,
    "start_time": "2022-03-12T04:21:19.455Z"
   },
   {
    "duration": 344,
    "start_time": "2022-03-12T04:21:19.674Z"
   },
   {
    "duration": 32,
    "start_time": "2022-03-12T04:21:20.020Z"
   },
   {
    "duration": 306,
    "start_time": "2022-03-12T04:21:20.054Z"
   },
   {
    "duration": 876,
    "start_time": "2022-03-12T04:21:20.362Z"
   },
   {
    "duration": 10,
    "start_time": "2022-03-12T04:21:21.241Z"
   },
   {
    "duration": 13,
    "start_time": "2022-03-12T04:21:21.253Z"
   },
   {
    "duration": 295,
    "start_time": "2022-03-12T04:21:21.268Z"
   },
   {
    "duration": 5,
    "start_time": "2022-03-12T04:21:21.565Z"
   },
   {
    "duration": 29,
    "start_time": "2022-03-12T04:21:21.572Z"
   },
   {
    "duration": 1984,
    "start_time": "2022-03-12T04:21:21.603Z"
   },
   {
    "duration": 26,
    "start_time": "2022-03-12T04:21:23.590Z"
   },
   {
    "duration": 5,
    "start_time": "2022-03-12T04:21:23.618Z"
   },
   {
    "duration": 237,
    "start_time": "2022-03-12T04:21:23.625Z"
   },
   {
    "duration": 581,
    "start_time": "2022-03-12T04:21:23.282Z"
   },
   {
    "duration": 578,
    "start_time": "2022-03-12T04:21:23.286Z"
   },
   {
    "duration": 576,
    "start_time": "2022-03-12T04:21:23.289Z"
   },
   {
    "duration": 574,
    "start_time": "2022-03-12T04:21:23.292Z"
   },
   {
    "duration": 571,
    "start_time": "2022-03-12T04:21:23.296Z"
   },
   {
    "duration": 570,
    "start_time": "2022-03-12T04:21:23.298Z"
   },
   {
    "duration": 566,
    "start_time": "2022-03-12T04:21:23.302Z"
   },
   {
    "duration": 7,
    "start_time": "2022-03-12T04:21:40.984Z"
   },
   {
    "duration": 3,
    "start_time": "2022-03-12T04:23:12.505Z"
   },
   {
    "duration": 769,
    "start_time": "2022-03-12T04:23:12.511Z"
   },
   {
    "duration": 5,
    "start_time": "2022-03-12T04:23:13.282Z"
   },
   {
    "duration": 183,
    "start_time": "2022-03-12T04:23:13.301Z"
   },
   {
    "duration": 69,
    "start_time": "2022-03-12T04:23:13.486Z"
   },
   {
    "duration": 181,
    "start_time": "2022-03-12T04:23:13.557Z"
   },
   {
    "duration": 6,
    "start_time": "2022-03-12T04:23:13.740Z"
   },
   {
    "duration": 17,
    "start_time": "2022-03-12T04:23:13.748Z"
   },
   {
    "duration": 26,
    "start_time": "2022-03-12T04:23:13.767Z"
   },
   {
    "duration": 25,
    "start_time": "2022-03-12T04:23:13.795Z"
   },
   {
    "duration": 26,
    "start_time": "2022-03-12T04:23:13.822Z"
   },
   {
    "duration": 20,
    "start_time": "2022-03-12T04:23:13.850Z"
   },
   {
    "duration": 6,
    "start_time": "2022-03-12T04:23:13.872Z"
   },
   {
    "duration": 26,
    "start_time": "2022-03-12T04:23:13.879Z"
   },
   {
    "duration": 14,
    "start_time": "2022-03-12T04:23:13.907Z"
   },
   {
    "duration": 8,
    "start_time": "2022-03-12T04:23:13.923Z"
   },
   {
    "duration": 9,
    "start_time": "2022-03-12T04:23:13.932Z"
   },
   {
    "duration": 6,
    "start_time": "2022-03-12T04:23:13.943Z"
   },
   {
    "duration": 10,
    "start_time": "2022-03-12T04:23:13.950Z"
   },
   {
    "duration": 43,
    "start_time": "2022-03-12T04:23:13.962Z"
   },
   {
    "duration": 181,
    "start_time": "2022-03-12T04:23:14.007Z"
   },
   {
    "duration": 68,
    "start_time": "2022-03-12T04:23:14.191Z"
   },
   {
    "duration": 18,
    "start_time": "2022-03-12T04:23:14.263Z"
   },
   {
    "duration": 19,
    "start_time": "2022-03-12T04:23:14.303Z"
   },
   {
    "duration": 223,
    "start_time": "2022-03-12T04:23:14.324Z"
   },
   {
    "duration": 230,
    "start_time": "2022-03-12T04:23:14.549Z"
   },
   {
    "duration": 370,
    "start_time": "2022-03-12T04:23:14.781Z"
   },
   {
    "duration": 28,
    "start_time": "2022-03-12T04:23:15.154Z"
   },
   {
    "duration": 295,
    "start_time": "2022-03-12T04:23:15.201Z"
   },
   {
    "duration": 1122,
    "start_time": "2022-03-12T04:23:15.501Z"
   },
   {
    "duration": 10,
    "start_time": "2022-03-12T04:23:16.625Z"
   },
   {
    "duration": 65,
    "start_time": "2022-03-12T04:23:16.636Z"
   },
   {
    "duration": 341,
    "start_time": "2022-03-12T04:23:16.703Z"
   },
   {
    "duration": 6,
    "start_time": "2022-03-12T04:23:17.045Z"
   },
   {
    "duration": 9,
    "start_time": "2022-03-12T04:23:17.053Z"
   },
   {
    "duration": 1910,
    "start_time": "2022-03-12T04:23:17.064Z"
   },
   {
    "duration": 245,
    "start_time": "2022-03-12T04:23:18.975Z"
   },
   {
    "duration": 41,
    "start_time": "2022-03-12T04:23:19.222Z"
   },
   {
    "duration": 11,
    "start_time": "2022-03-12T04:23:19.265Z"
   },
   {
    "duration": 10,
    "start_time": "2022-03-12T04:23:19.278Z"
   },
   {
    "duration": 4,
    "start_time": "2022-03-12T04:23:19.302Z"
   },
   {
    "duration": 243,
    "start_time": "2022-03-12T04:23:19.307Z"
   },
   {
    "duration": 577,
    "start_time": "2022-03-12T04:23:18.975Z"
   },
   {
    "duration": 570,
    "start_time": "2022-03-12T04:23:18.983Z"
   },
   {
    "duration": 4,
    "start_time": "2022-03-12T04:25:35.254Z"
   },
   {
    "duration": 754,
    "start_time": "2022-03-12T04:25:35.260Z"
   },
   {
    "duration": 5,
    "start_time": "2022-03-12T04:25:36.016Z"
   },
   {
    "duration": 195,
    "start_time": "2022-03-12T04:25:36.024Z"
   },
   {
    "duration": 83,
    "start_time": "2022-03-12T04:25:36.221Z"
   },
   {
    "duration": 163,
    "start_time": "2022-03-12T04:25:36.307Z"
   },
   {
    "duration": 5,
    "start_time": "2022-03-12T04:25:36.472Z"
   },
   {
    "duration": 6,
    "start_time": "2022-03-12T04:25:36.501Z"
   },
   {
    "duration": 22,
    "start_time": "2022-03-12T04:25:36.509Z"
   },
   {
    "duration": 20,
    "start_time": "2022-03-12T04:25:36.533Z"
   },
   {
    "duration": 46,
    "start_time": "2022-03-12T04:25:36.555Z"
   },
   {
    "duration": 18,
    "start_time": "2022-03-12T04:25:36.603Z"
   },
   {
    "duration": 11,
    "start_time": "2022-03-12T04:25:36.623Z"
   },
   {
    "duration": 27,
    "start_time": "2022-03-12T04:25:36.636Z"
   },
   {
    "duration": 32,
    "start_time": "2022-03-12T04:25:36.665Z"
   },
   {
    "duration": 10,
    "start_time": "2022-03-12T04:25:36.699Z"
   },
   {
    "duration": 24,
    "start_time": "2022-03-12T04:25:36.711Z"
   },
   {
    "duration": 21,
    "start_time": "2022-03-12T04:25:36.737Z"
   },
   {
    "duration": 32,
    "start_time": "2022-03-12T04:25:36.760Z"
   },
   {
    "duration": 29,
    "start_time": "2022-03-12T04:25:36.794Z"
   },
   {
    "duration": 177,
    "start_time": "2022-03-12T04:25:36.825Z"
   },
   {
    "duration": 64,
    "start_time": "2022-03-12T04:25:37.004Z"
   },
   {
    "duration": 31,
    "start_time": "2022-03-12T04:25:37.071Z"
   },
   {
    "duration": 17,
    "start_time": "2022-03-12T04:25:37.104Z"
   },
   {
    "duration": 229,
    "start_time": "2022-03-12T04:25:37.122Z"
   },
   {
    "duration": 223,
    "start_time": "2022-03-12T04:25:37.353Z"
   },
   {
    "duration": 359,
    "start_time": "2022-03-12T04:25:37.578Z"
   },
   {
    "duration": 27,
    "start_time": "2022-03-12T04:25:37.939Z"
   },
   {
    "duration": 298,
    "start_time": "2022-03-12T04:25:37.968Z"
   },
   {
    "duration": 899,
    "start_time": "2022-03-12T04:25:38.268Z"
   },
   {
    "duration": 10,
    "start_time": "2022-03-12T04:25:39.169Z"
   },
   {
    "duration": 29,
    "start_time": "2022-03-12T04:25:39.180Z"
   },
   {
    "duration": 285,
    "start_time": "2022-03-12T04:25:39.211Z"
   },
   {
    "duration": 6,
    "start_time": "2022-03-12T04:25:39.502Z"
   },
   {
    "duration": 29,
    "start_time": "2022-03-12T04:25:39.510Z"
   },
   {
    "duration": 2360,
    "start_time": "2022-03-12T04:25:39.542Z"
   },
   {
    "duration": 258,
    "start_time": "2022-03-12T04:25:41.903Z"
   },
   {
    "duration": 4,
    "start_time": "2022-03-12T04:31:26.371Z"
   },
   {
    "duration": 732,
    "start_time": "2022-03-12T04:31:26.377Z"
   },
   {
    "duration": 5,
    "start_time": "2022-03-12T04:31:27.111Z"
   },
   {
    "duration": 189,
    "start_time": "2022-03-12T04:31:27.118Z"
   },
   {
    "duration": 59,
    "start_time": "2022-03-12T04:31:27.309Z"
   },
   {
    "duration": 176,
    "start_time": "2022-03-12T04:31:27.370Z"
   },
   {
    "duration": 4,
    "start_time": "2022-03-12T04:31:27.547Z"
   },
   {
    "duration": 67,
    "start_time": "2022-03-12T04:31:27.554Z"
   },
   {
    "duration": 3,
    "start_time": "2022-03-12T04:31:27.623Z"
   },
   {
    "duration": 7,
    "start_time": "2022-03-12T04:31:27.628Z"
   },
   {
    "duration": 18,
    "start_time": "2022-03-12T04:31:27.637Z"
   },
   {
    "duration": 7,
    "start_time": "2022-03-12T04:31:27.657Z"
   },
   {
    "duration": 9,
    "start_time": "2022-03-12T04:31:27.666Z"
   },
   {
    "duration": 24,
    "start_time": "2022-03-12T04:31:27.677Z"
   },
   {
    "duration": 21,
    "start_time": "2022-03-12T04:31:27.703Z"
   },
   {
    "duration": 12,
    "start_time": "2022-03-12T04:31:27.726Z"
   },
   {
    "duration": 186,
    "start_time": "2022-03-12T04:31:27.740Z"
   },
   {
    "duration": 60,
    "start_time": "2022-03-12T04:31:27.928Z"
   },
   {
    "duration": 24,
    "start_time": "2022-03-12T04:31:27.990Z"
   },
   {
    "duration": 23,
    "start_time": "2022-03-12T04:31:28.016Z"
   },
   {
    "duration": 226,
    "start_time": "2022-03-12T04:31:28.041Z"
   },
   {
    "duration": 209,
    "start_time": "2022-03-12T04:31:28.269Z"
   },
   {
    "duration": 342,
    "start_time": "2022-03-12T04:31:28.481Z"
   },
   {
    "duration": 26,
    "start_time": "2022-03-12T04:31:28.825Z"
   },
   {
    "duration": 289,
    "start_time": "2022-03-12T04:31:28.853Z"
   },
   {
    "duration": 1174,
    "start_time": "2022-03-12T04:31:29.144Z"
   },
   {
    "duration": 10,
    "start_time": "2022-03-12T04:31:30.320Z"
   },
   {
    "duration": 31,
    "start_time": "2022-03-12T04:31:30.332Z"
   },
   {
    "duration": 298,
    "start_time": "2022-03-12T04:31:30.365Z"
   },
   {
    "duration": 5,
    "start_time": "2022-03-12T04:31:30.665Z"
   },
   {
    "duration": 39,
    "start_time": "2022-03-12T04:31:30.672Z"
   },
   {
    "duration": 2089,
    "start_time": "2022-03-12T04:31:30.713Z"
   },
   {
    "duration": 264,
    "start_time": "2022-03-12T04:31:32.804Z"
   },
   {
    "duration": 4,
    "start_time": "2022-03-12T04:37:16.715Z"
   },
   {
    "duration": 720,
    "start_time": "2022-03-12T04:37:16.721Z"
   },
   {
    "duration": 4,
    "start_time": "2022-03-12T04:37:17.443Z"
   },
   {
    "duration": 188,
    "start_time": "2022-03-12T04:37:17.449Z"
   },
   {
    "duration": 87,
    "start_time": "2022-03-12T04:37:17.639Z"
   },
   {
    "duration": 162,
    "start_time": "2022-03-12T04:37:17.728Z"
   },
   {
    "duration": 5593,
    "start_time": "2022-03-12T04:37:17.901Z"
   },
   {
    "duration": 571,
    "start_time": "2022-03-12T04:37:22.927Z"
   },
   {
    "duration": 567,
    "start_time": "2022-03-12T04:37:22.932Z"
   },
   {
    "duration": 564,
    "start_time": "2022-03-12T04:37:22.937Z"
   },
   {
    "duration": 561,
    "start_time": "2022-03-12T04:37:22.942Z"
   },
   {
    "duration": 558,
    "start_time": "2022-03-12T04:37:22.946Z"
   },
   {
    "duration": 554,
    "start_time": "2022-03-12T04:37:22.952Z"
   },
   {
    "duration": 553,
    "start_time": "2022-03-12T04:37:22.954Z"
   },
   {
    "duration": 552,
    "start_time": "2022-03-12T04:37:22.957Z"
   },
   {
    "duration": 551,
    "start_time": "2022-03-12T04:37:22.959Z"
   },
   {
    "duration": 550,
    "start_time": "2022-03-12T04:37:22.962Z"
   },
   {
    "duration": 548,
    "start_time": "2022-03-12T04:37:22.965Z"
   },
   {
    "duration": 547,
    "start_time": "2022-03-12T04:37:22.968Z"
   },
   {
    "duration": 546,
    "start_time": "2022-03-12T04:37:22.970Z"
   },
   {
    "duration": 545,
    "start_time": "2022-03-12T04:37:22.973Z"
   },
   {
    "duration": 544,
    "start_time": "2022-03-12T04:37:22.975Z"
   },
   {
    "duration": 543,
    "start_time": "2022-03-12T04:37:22.978Z"
   },
   {
    "duration": 534,
    "start_time": "2022-03-12T04:37:22.988Z"
   },
   {
    "duration": 533,
    "start_time": "2022-03-12T04:37:22.991Z"
   },
   {
    "duration": 532,
    "start_time": "2022-03-12T04:37:22.993Z"
   },
   {
    "duration": 531,
    "start_time": "2022-03-12T04:37:22.996Z"
   },
   {
    "duration": 531,
    "start_time": "2022-03-12T04:37:22.998Z"
   },
   {
    "duration": 528,
    "start_time": "2022-03-12T04:37:23.002Z"
   },
   {
    "duration": 528,
    "start_time": "2022-03-12T04:37:23.004Z"
   },
   {
    "duration": 526,
    "start_time": "2022-03-12T04:37:23.007Z"
   },
   {
    "duration": 520,
    "start_time": "2022-03-12T04:37:23.015Z"
   },
   {
    "duration": 518,
    "start_time": "2022-03-12T04:37:23.018Z"
   },
   {
    "duration": 1186,
    "start_time": "2022-03-12T04:37:56.537Z"
   },
   {
    "duration": 756,
    "start_time": "2022-03-12T04:37:57.725Z"
   },
   {
    "duration": 4,
    "start_time": "2022-03-12T04:37:58.483Z"
   },
   {
    "duration": 189,
    "start_time": "2022-03-12T04:37:58.489Z"
   },
   {
    "duration": 67,
    "start_time": "2022-03-12T04:37:58.680Z"
   },
   {
    "duration": 176,
    "start_time": "2022-03-12T04:37:58.749Z"
   },
   {
    "duration": 5730,
    "start_time": "2022-03-12T04:37:58.926Z"
   },
   {
    "duration": 569,
    "start_time": "2022-03-12T04:38:04.090Z"
   },
   {
    "duration": 566,
    "start_time": "2022-03-12T04:38:04.094Z"
   },
   {
    "duration": 565,
    "start_time": "2022-03-12T04:38:04.096Z"
   },
   {
    "duration": 563,
    "start_time": "2022-03-12T04:38:04.099Z"
   },
   {
    "duration": 561,
    "start_time": "2022-03-12T04:38:04.102Z"
   },
   {
    "duration": 560,
    "start_time": "2022-03-12T04:38:04.104Z"
   },
   {
    "duration": 559,
    "start_time": "2022-03-12T04:38:04.107Z"
   },
   {
    "duration": 558,
    "start_time": "2022-03-12T04:38:04.109Z"
   },
   {
    "duration": 556,
    "start_time": "2022-03-12T04:38:04.112Z"
   },
   {
    "duration": 555,
    "start_time": "2022-03-12T04:38:04.114Z"
   },
   {
    "duration": 553,
    "start_time": "2022-03-12T04:38:04.117Z"
   },
   {
    "duration": 553,
    "start_time": "2022-03-12T04:38:04.119Z"
   },
   {
    "duration": 545,
    "start_time": "2022-03-12T04:38:04.128Z"
   },
   {
    "duration": 544,
    "start_time": "2022-03-12T04:38:04.130Z"
   },
   {
    "duration": 542,
    "start_time": "2022-03-12T04:38:04.133Z"
   },
   {
    "duration": 540,
    "start_time": "2022-03-12T04:38:04.136Z"
   },
   {
    "duration": 539,
    "start_time": "2022-03-12T04:38:04.138Z"
   },
   {
    "duration": 537,
    "start_time": "2022-03-12T04:38:04.141Z"
   },
   {
    "duration": 536,
    "start_time": "2022-03-12T04:38:04.144Z"
   },
   {
    "duration": 535,
    "start_time": "2022-03-12T04:38:04.146Z"
   },
   {
    "duration": 533,
    "start_time": "2022-03-12T04:38:04.149Z"
   },
   {
    "duration": 532,
    "start_time": "2022-03-12T04:38:04.151Z"
   },
   {
    "duration": 530,
    "start_time": "2022-03-12T04:38:04.154Z"
   },
   {
    "duration": 528,
    "start_time": "2022-03-12T04:38:04.157Z"
   },
   {
    "duration": 520,
    "start_time": "2022-03-12T04:38:04.166Z"
   },
   {
    "duration": 521,
    "start_time": "2022-03-12T04:38:04.168Z"
   },
   {
    "duration": 1223,
    "start_time": "2022-03-12T04:39:31.606Z"
   },
   {
    "duration": 776,
    "start_time": "2022-03-12T04:39:32.832Z"
   },
   {
    "duration": 4,
    "start_time": "2022-03-12T04:39:33.610Z"
   },
   {
    "duration": 194,
    "start_time": "2022-03-12T04:39:33.616Z"
   },
   {
    "duration": 58,
    "start_time": "2022-03-12T04:39:33.812Z"
   },
   {
    "duration": 162,
    "start_time": "2022-03-12T04:39:33.901Z"
   },
   {
    "duration": 3,
    "start_time": "2022-03-12T04:39:34.065Z"
   },
   {
    "duration": 71,
    "start_time": "2022-03-12T04:39:34.071Z"
   },
   {
    "duration": 3,
    "start_time": "2022-03-12T04:39:34.144Z"
   },
   {
    "duration": 12,
    "start_time": "2022-03-12T04:39:34.149Z"
   },
   {
    "duration": 18,
    "start_time": "2022-03-12T04:39:34.163Z"
   },
   {
    "duration": 22,
    "start_time": "2022-03-12T04:39:34.183Z"
   },
   {
    "duration": 8,
    "start_time": "2022-03-12T04:39:34.207Z"
   },
   {
    "duration": 9,
    "start_time": "2022-03-12T04:39:34.217Z"
   },
   {
    "duration": 8,
    "start_time": "2022-03-12T04:39:34.227Z"
   },
   {
    "duration": 14,
    "start_time": "2022-03-12T04:39:34.237Z"
   },
   {
    "duration": 201,
    "start_time": "2022-03-12T04:39:34.253Z"
   },
   {
    "duration": 72,
    "start_time": "2022-03-12T04:39:34.456Z"
   },
   {
    "duration": 16,
    "start_time": "2022-03-12T04:39:34.530Z"
   },
   {
    "duration": 16,
    "start_time": "2022-03-12T04:39:34.548Z"
   },
   {
    "duration": 231,
    "start_time": "2022-03-12T04:39:34.566Z"
   },
   {
    "duration": 205,
    "start_time": "2022-03-12T04:39:34.801Z"
   },
   {
    "duration": 360,
    "start_time": "2022-03-12T04:39:35.010Z"
   },
   {
    "duration": 36,
    "start_time": "2022-03-12T04:39:35.373Z"
   },
   {
    "duration": 293,
    "start_time": "2022-03-12T04:39:35.411Z"
   },
   {
    "duration": 879,
    "start_time": "2022-03-12T04:39:35.706Z"
   },
   {
    "duration": 20,
    "start_time": "2022-03-12T04:39:36.587Z"
   },
   {
    "duration": 13,
    "start_time": "2022-03-12T04:39:36.608Z"
   },
   {
    "duration": 287,
    "start_time": "2022-03-12T04:39:36.622Z"
   },
   {
    "duration": 6,
    "start_time": "2022-03-12T04:39:36.911Z"
   },
   {
    "duration": 17,
    "start_time": "2022-03-12T04:39:36.919Z"
   },
   {
    "duration": 2059,
    "start_time": "2022-03-12T04:39:36.938Z"
   },
   {
    "duration": 250,
    "start_time": "2022-03-12T04:39:39.001Z"
   },
   {
    "duration": 342,
    "start_time": "2022-03-12T05:00:24.990Z"
   },
   {
    "duration": 229,
    "start_time": "2022-03-12T05:01:50.000Z"
   },
   {
    "duration": 108,
    "start_time": "2022-03-12T05:02:29.287Z"
   },
   {
    "duration": 31,
    "start_time": "2022-03-12T05:02:35.647Z"
   },
   {
    "duration": 18,
    "start_time": "2022-03-12T05:02:44.496Z"
   },
   {
    "duration": 218,
    "start_time": "2022-03-12T05:03:34.432Z"
   },
   {
    "duration": 105,
    "start_time": "2022-03-12T05:03:55.641Z"
   },
   {
    "duration": 17,
    "start_time": "2022-03-12T05:03:58.848Z"
   },
   {
    "duration": 16,
    "start_time": "2022-03-12T05:06:25.289Z"
   },
   {
    "duration": 4,
    "start_time": "2022-03-12T05:06:28.657Z"
   },
   {
    "duration": 754,
    "start_time": "2022-03-12T05:06:28.664Z"
   },
   {
    "duration": 5,
    "start_time": "2022-03-12T05:06:29.420Z"
   },
   {
    "duration": 200,
    "start_time": "2022-03-12T05:06:29.427Z"
   },
   {
    "duration": 97,
    "start_time": "2022-03-12T05:06:29.630Z"
   },
   {
    "duration": 182,
    "start_time": "2022-03-12T05:06:29.729Z"
   },
   {
    "duration": 4,
    "start_time": "2022-03-12T05:06:29.913Z"
   },
   {
    "duration": 57,
    "start_time": "2022-03-12T05:06:29.920Z"
   },
   {
    "duration": 4,
    "start_time": "2022-03-12T05:06:29.979Z"
   },
   {
    "duration": 20,
    "start_time": "2022-03-12T05:06:29.984Z"
   },
   {
    "duration": 36,
    "start_time": "2022-03-12T05:06:30.006Z"
   },
   {
    "duration": 8,
    "start_time": "2022-03-12T05:06:30.044Z"
   },
   {
    "duration": 27,
    "start_time": "2022-03-12T05:06:30.054Z"
   },
   {
    "duration": 26,
    "start_time": "2022-03-12T05:06:30.083Z"
   },
   {
    "duration": 37,
    "start_time": "2022-03-12T05:06:30.111Z"
   },
   {
    "duration": 53,
    "start_time": "2022-03-12T05:06:30.149Z"
   },
   {
    "duration": 197,
    "start_time": "2022-03-12T05:06:30.204Z"
   },
   {
    "duration": 64,
    "start_time": "2022-03-12T05:06:30.403Z"
   },
   {
    "duration": 33,
    "start_time": "2022-03-12T05:06:30.469Z"
   },
   {
    "duration": 33,
    "start_time": "2022-03-12T05:06:30.504Z"
   },
   {
    "duration": 224,
    "start_time": "2022-03-12T05:06:30.539Z"
   },
   {
    "duration": 221,
    "start_time": "2022-03-12T05:06:30.765Z"
   },
   {
    "duration": 377,
    "start_time": "2022-03-12T05:06:30.989Z"
   },
   {
    "duration": 35,
    "start_time": "2022-03-12T05:06:31.368Z"
   },
   {
    "duration": 299,
    "start_time": "2022-03-12T05:06:31.405Z"
   },
   {
    "duration": 931,
    "start_time": "2022-03-12T05:06:31.706Z"
   },
   {
    "duration": 12,
    "start_time": "2022-03-12T05:06:32.639Z"
   },
   {
    "duration": 13,
    "start_time": "2022-03-12T05:06:32.653Z"
   },
   {
    "duration": 309,
    "start_time": "2022-03-12T05:06:32.668Z"
   },
   {
    "duration": 5,
    "start_time": "2022-03-12T05:06:32.979Z"
   },
   {
    "duration": 20,
    "start_time": "2022-03-12T05:06:32.986Z"
   },
   {
    "duration": 2454,
    "start_time": "2022-03-12T05:06:33.008Z"
   },
   {
    "duration": 314,
    "start_time": "2022-03-12T05:06:35.465Z"
   },
   {
    "duration": 28,
    "start_time": "2022-03-12T05:06:35.781Z"
   },
   {
    "duration": 131,
    "start_time": "2022-03-12T05:06:35.811Z"
   },
   {
    "duration": 31,
    "start_time": "2022-03-12T05:06:35.945Z"
   },
   {
    "duration": 4,
    "start_time": "2022-03-12T05:06:52.154Z"
   },
   {
    "duration": 120,
    "start_time": "2022-03-12T05:07:48.116Z"
   },
   {
    "duration": 23,
    "start_time": "2022-03-12T05:07:51.554Z"
   },
   {
    "duration": 233,
    "start_time": "2022-03-12T05:12:33.934Z"
   },
   {
    "duration": 137,
    "start_time": "2022-03-12T05:12:48.806Z"
   },
   {
    "duration": 74,
    "start_time": "2022-03-12T05:12:54.182Z"
   },
   {
    "duration": 5,
    "start_time": "2022-03-12T05:13:12.086Z"
   },
   {
    "duration": 220,
    "start_time": "2022-03-12T05:13:44.574Z"
   },
   {
    "duration": 4,
    "start_time": "2022-03-12T05:16:15.801Z"
   },
   {
    "duration": 5,
    "start_time": "2022-03-12T05:16:26.480Z"
   },
   {
    "duration": 223,
    "start_time": "2022-03-12T05:18:30.669Z"
   },
   {
    "duration": 225,
    "start_time": "2022-03-12T05:19:03.859Z"
   },
   {
    "duration": 100,
    "start_time": "2022-03-12T05:19:24.267Z"
   },
   {
    "duration": 129,
    "start_time": "2022-03-12T05:19:35.739Z"
   },
   {
    "duration": 113,
    "start_time": "2022-03-12T05:19:48.340Z"
   },
   {
    "duration": 221,
    "start_time": "2022-03-12T05:30:35.162Z"
   },
   {
    "duration": 235,
    "start_time": "2022-03-12T05:30:46.698Z"
   },
   {
    "duration": 2846,
    "start_time": "2022-03-12T05:31:51.587Z"
   },
   {
    "duration": 14,
    "start_time": "2022-03-12T05:35:36.423Z"
   },
   {
    "duration": 22,
    "start_time": "2022-03-12T06:31:11.660Z"
   },
   {
    "duration": 22,
    "start_time": "2022-03-12T06:34:59.934Z"
   },
   {
    "duration": 21,
    "start_time": "2022-03-12T06:50:42.488Z"
   },
   {
    "duration": 9,
    "start_time": "2022-03-12T06:50:47.089Z"
   },
   {
    "duration": 11,
    "start_time": "2022-03-12T06:51:10.783Z"
   },
   {
    "duration": 4,
    "start_time": "2022-03-12T07:06:55.163Z"
   },
   {
    "duration": 723,
    "start_time": "2022-03-12T07:06:55.169Z"
   },
   {
    "duration": 9,
    "start_time": "2022-03-12T07:06:55.895Z"
   },
   {
    "duration": 184,
    "start_time": "2022-03-12T07:06:55.906Z"
   },
   {
    "duration": 67,
    "start_time": "2022-03-12T07:06:56.092Z"
   },
   {
    "duration": 178,
    "start_time": "2022-03-12T07:06:56.161Z"
   },
   {
    "duration": 4,
    "start_time": "2022-03-12T07:06:56.342Z"
   },
   {
    "duration": 64,
    "start_time": "2022-03-12T07:06:56.348Z"
   },
   {
    "duration": 4,
    "start_time": "2022-03-12T07:06:56.414Z"
   },
   {
    "duration": 16,
    "start_time": "2022-03-12T07:06:56.419Z"
   },
   {
    "duration": 21,
    "start_time": "2022-03-12T07:06:56.436Z"
   },
   {
    "duration": 8,
    "start_time": "2022-03-12T07:06:56.459Z"
   },
   {
    "duration": 32,
    "start_time": "2022-03-12T07:06:56.469Z"
   },
   {
    "duration": 10,
    "start_time": "2022-03-12T07:06:56.503Z"
   },
   {
    "duration": 7,
    "start_time": "2022-03-12T07:06:56.515Z"
   },
   {
    "duration": 15,
    "start_time": "2022-03-12T07:06:56.525Z"
   },
   {
    "duration": 212,
    "start_time": "2022-03-12T07:06:56.542Z"
   },
   {
    "duration": 78,
    "start_time": "2022-03-12T07:06:56.756Z"
   },
   {
    "duration": 16,
    "start_time": "2022-03-12T07:06:56.838Z"
   },
   {
    "duration": 16,
    "start_time": "2022-03-12T07:06:56.857Z"
   },
   {
    "duration": 251,
    "start_time": "2022-03-12T07:06:56.875Z"
   },
   {
    "duration": 218,
    "start_time": "2022-03-12T07:06:57.128Z"
   },
   {
    "duration": 358,
    "start_time": "2022-03-12T07:06:57.348Z"
   },
   {
    "duration": 30,
    "start_time": "2022-03-12T07:06:57.708Z"
   },
   {
    "duration": 304,
    "start_time": "2022-03-12T07:06:57.740Z"
   },
   {
    "duration": 911,
    "start_time": "2022-03-12T07:06:58.046Z"
   },
   {
    "duration": 10,
    "start_time": "2022-03-12T07:06:58.959Z"
   },
   {
    "duration": 38,
    "start_time": "2022-03-12T07:06:58.971Z"
   },
   {
    "duration": 310,
    "start_time": "2022-03-12T07:06:59.011Z"
   },
   {
    "duration": 6,
    "start_time": "2022-03-12T07:06:59.323Z"
   },
   {
    "duration": 30,
    "start_time": "2022-03-12T07:06:59.331Z"
   },
   {
    "duration": 2063,
    "start_time": "2022-03-12T07:06:59.363Z"
   },
   {
    "duration": 275,
    "start_time": "2022-03-12T07:07:01.428Z"
   },
   {
    "duration": 16,
    "start_time": "2022-03-12T07:07:01.704Z"
   },
   {
    "duration": 31,
    "start_time": "2022-03-12T07:07:01.722Z"
   },
   {
    "duration": 47,
    "start_time": "2022-03-12T07:07:01.755Z"
   },
   {
    "duration": 26,
    "start_time": "2022-03-12T07:07:27.475Z"
   },
   {
    "duration": 28,
    "start_time": "2022-03-12T07:07:39.565Z"
   },
   {
    "duration": 10,
    "start_time": "2022-03-12T07:07:45.772Z"
   },
   {
    "duration": 10,
    "start_time": "2022-03-12T07:07:57.772Z"
   },
   {
    "duration": 15,
    "start_time": "2022-03-12T07:14:29.175Z"
   },
   {
    "duration": 6,
    "start_time": "2022-03-12T07:14:29.192Z"
   },
   {
    "duration": 13,
    "start_time": "2022-03-12T07:14:29.201Z"
   },
   {
    "duration": 287,
    "start_time": "2022-03-12T07:14:29.216Z"
   },
   {
    "duration": 5,
    "start_time": "2022-03-12T07:14:39.359Z"
   },
   {
    "duration": 3,
    "start_time": "2022-03-12T07:23:49.423Z"
   },
   {
    "duration": 5,
    "start_time": "2022-03-12T07:23:54.702Z"
   },
   {
    "duration": 70,
    "start_time": "2022-03-12T07:24:19.583Z"
   },
   {
    "duration": 5,
    "start_time": "2022-03-12T07:25:33.376Z"
   },
   {
    "duration": 3,
    "start_time": "2022-03-12T07:25:41.719Z"
   },
   {
    "duration": 4,
    "start_time": "2022-03-12T07:25:43.424Z"
   },
   {
    "duration": 224,
    "start_time": "2022-03-12T07:29:26.546Z"
   },
   {
    "duration": 72,
    "start_time": "2022-03-12T07:30:23.523Z"
   },
   {
    "duration": 3,
    "start_time": "2022-03-12T07:31:54.373Z"
   },
   {
    "duration": 5,
    "start_time": "2022-03-12T07:31:56.827Z"
   },
   {
    "duration": 3,
    "start_time": "2022-03-12T07:32:27.204Z"
   },
   {
    "duration": 5,
    "start_time": "2022-03-12T09:33:01.894Z"
   },
   {
    "duration": 3,
    "start_time": "2022-03-12T09:33:06.517Z"
   },
   {
    "duration": 6,
    "start_time": "2022-03-12T09:33:08.661Z"
   },
   {
    "duration": 4,
    "start_time": "2022-03-12T09:35:40.343Z"
   },
   {
    "duration": 4,
    "start_time": "2022-03-12T09:35:43.398Z"
   },
   {
    "duration": 6,
    "start_time": "2022-03-12T09:35:45.087Z"
   },
   {
    "duration": 11,
    "start_time": "2022-03-12T09:36:32.191Z"
   },
   {
    "duration": 11,
    "start_time": "2022-03-12T09:36:47.592Z"
   },
   {
    "duration": 7,
    "start_time": "2022-03-12T09:38:09.633Z"
   },
   {
    "duration": 217,
    "start_time": "2022-03-12T09:38:26.184Z"
   },
   {
    "duration": 4,
    "start_time": "2022-03-12T09:39:02.531Z"
   },
   {
    "duration": 8,
    "start_time": "2022-03-12T09:39:08.793Z"
   },
   {
    "duration": 7,
    "start_time": "2022-03-12T09:39:47.990Z"
   },
   {
    "duration": 10,
    "start_time": "2022-03-12T09:40:29.306Z"
   },
   {
    "duration": 10,
    "start_time": "2022-03-12T09:41:30.444Z"
   },
   {
    "duration": 15,
    "start_time": "2022-03-12T09:41:39.227Z"
   },
   {
    "duration": 68,
    "start_time": "2022-03-12T09:41:58.052Z"
   },
   {
    "duration": 8,
    "start_time": "2022-03-12T09:42:14.819Z"
   },
   {
    "duration": 7,
    "start_time": "2022-03-12T09:43:12.033Z"
   },
   {
    "duration": 221,
    "start_time": "2022-03-12T09:57:39.358Z"
   },
   {
    "duration": 10,
    "start_time": "2022-03-12T10:14:04.849Z"
   },
   {
    "duration": 5,
    "start_time": "2022-03-12T10:14:55.242Z"
   },
   {
    "duration": 15,
    "start_time": "2022-03-12T10:15:01.738Z"
   },
   {
    "duration": 4,
    "start_time": "2022-03-12T10:15:36.646Z"
   },
   {
    "duration": 698,
    "start_time": "2022-03-12T10:15:36.652Z"
   },
   {
    "duration": 4,
    "start_time": "2022-03-12T10:15:37.352Z"
   },
   {
    "duration": 203,
    "start_time": "2022-03-12T10:15:37.358Z"
   },
   {
    "duration": 74,
    "start_time": "2022-03-12T10:15:37.563Z"
   },
   {
    "duration": 171,
    "start_time": "2022-03-12T10:15:37.639Z"
   },
   {
    "duration": 4,
    "start_time": "2022-03-12T10:15:37.812Z"
   },
   {
    "duration": 60,
    "start_time": "2022-03-12T10:15:37.818Z"
   },
   {
    "duration": 3,
    "start_time": "2022-03-12T10:15:37.881Z"
   },
   {
    "duration": 5,
    "start_time": "2022-03-12T10:15:37.901Z"
   },
   {
    "duration": 32,
    "start_time": "2022-03-12T10:15:37.908Z"
   },
   {
    "duration": 8,
    "start_time": "2022-03-12T10:15:37.942Z"
   },
   {
    "duration": 10,
    "start_time": "2022-03-12T10:15:37.951Z"
   },
   {
    "duration": 10,
    "start_time": "2022-03-12T10:15:37.962Z"
   },
   {
    "duration": 15,
    "start_time": "2022-03-12T10:15:37.974Z"
   },
   {
    "duration": 13,
    "start_time": "2022-03-12T10:15:37.991Z"
   },
   {
    "duration": 204,
    "start_time": "2022-03-12T10:15:38.006Z"
   },
   {
    "duration": 68,
    "start_time": "2022-03-12T10:15:38.212Z"
   },
   {
    "duration": 31,
    "start_time": "2022-03-12T10:15:38.283Z"
   },
   {
    "duration": 18,
    "start_time": "2022-03-12T10:15:38.316Z"
   },
   {
    "duration": 245,
    "start_time": "2022-03-12T10:15:38.336Z"
   },
   {
    "duration": 233,
    "start_time": "2022-03-12T10:15:38.583Z"
   },
   {
    "duration": 386,
    "start_time": "2022-03-12T10:15:38.818Z"
   },
   {
    "duration": 29,
    "start_time": "2022-03-12T10:15:39.206Z"
   },
   {
    "duration": 319,
    "start_time": "2022-03-12T10:15:39.237Z"
   },
   {
    "duration": 825,
    "start_time": "2022-03-12T10:15:39.558Z"
   },
   {
    "duration": 141,
    "start_time": "2022-03-12T10:15:40.385Z"
   },
   {
    "duration": 23,
    "start_time": "2022-03-12T10:15:40.528Z"
   },
   {
    "duration": 304,
    "start_time": "2022-03-12T10:15:40.553Z"
   },
   {
    "duration": 5,
    "start_time": "2022-03-12T10:15:40.859Z"
   },
   {
    "duration": 36,
    "start_time": "2022-03-12T10:15:40.866Z"
   },
   {
    "duration": 2257,
    "start_time": "2022-03-12T10:15:40.904Z"
   },
   {
    "duration": 259,
    "start_time": "2022-03-12T10:15:43.163Z"
   },
   {
    "duration": 17,
    "start_time": "2022-03-12T10:15:43.424Z"
   },
   {
    "duration": 8,
    "start_time": "2022-03-12T10:15:43.443Z"
   },
   {
    "duration": 13,
    "start_time": "2022-03-12T10:15:43.453Z"
   },
   {
    "duration": 234,
    "start_time": "2022-03-12T10:15:43.468Z"
   },
   {
    "duration": 7,
    "start_time": "2022-03-12T10:15:43.705Z"
   },
   {
    "duration": 104,
    "start_time": "2022-03-12T10:15:43.714Z"
   },
   {
    "duration": 15,
    "start_time": "2022-03-12T10:16:22.044Z"
   },
   {
    "duration": 5,
    "start_time": "2022-03-12T10:16:27.961Z"
   },
   {
    "duration": 728,
    "start_time": "2022-03-12T10:16:27.968Z"
   },
   {
    "duration": 5,
    "start_time": "2022-03-12T10:16:28.698Z"
   },
   {
    "duration": 197,
    "start_time": "2022-03-12T10:16:28.705Z"
   },
   {
    "duration": 61,
    "start_time": "2022-03-12T10:16:28.904Z"
   },
   {
    "duration": 180,
    "start_time": "2022-03-12T10:16:28.966Z"
   },
   {
    "duration": 4,
    "start_time": "2022-03-12T10:16:29.148Z"
   },
   {
    "duration": 65,
    "start_time": "2022-03-12T10:16:29.154Z"
   },
   {
    "duration": 3,
    "start_time": "2022-03-12T10:16:29.222Z"
   },
   {
    "duration": 9,
    "start_time": "2022-03-12T10:16:29.227Z"
   },
   {
    "duration": 24,
    "start_time": "2022-03-12T10:16:29.238Z"
   },
   {
    "duration": 11,
    "start_time": "2022-03-12T10:16:29.264Z"
   },
   {
    "duration": 27,
    "start_time": "2022-03-12T10:16:29.277Z"
   },
   {
    "duration": 7,
    "start_time": "2022-03-12T10:16:29.306Z"
   },
   {
    "duration": 9,
    "start_time": "2022-03-12T10:16:29.315Z"
   },
   {
    "duration": 14,
    "start_time": "2022-03-12T10:16:29.326Z"
   },
   {
    "duration": 215,
    "start_time": "2022-03-12T10:16:29.343Z"
   },
   {
    "duration": 70,
    "start_time": "2022-03-12T10:16:29.561Z"
   },
   {
    "duration": 16,
    "start_time": "2022-03-12T10:16:29.633Z"
   },
   {
    "duration": 15,
    "start_time": "2022-03-12T10:16:29.651Z"
   },
   {
    "duration": 246,
    "start_time": "2022-03-12T10:16:29.668Z"
   },
   {
    "duration": 234,
    "start_time": "2022-03-12T10:16:29.916Z"
   },
   {
    "duration": 375,
    "start_time": "2022-03-12T10:16:30.153Z"
   },
   {
    "duration": 28,
    "start_time": "2022-03-12T10:16:30.531Z"
   },
   {
    "duration": 309,
    "start_time": "2022-03-12T10:16:30.562Z"
   },
   {
    "duration": 827,
    "start_time": "2022-03-12T10:16:30.874Z"
   },
   {
    "duration": 12,
    "start_time": "2022-03-12T10:16:31.703Z"
   },
   {
    "duration": 17,
    "start_time": "2022-03-12T10:16:31.717Z"
   },
   {
    "duration": 300,
    "start_time": "2022-03-12T10:16:31.736Z"
   },
   {
    "duration": 6,
    "start_time": "2022-03-12T10:16:32.038Z"
   },
   {
    "duration": 26,
    "start_time": "2022-03-12T10:16:32.046Z"
   },
   {
    "duration": 2582,
    "start_time": "2022-03-12T10:16:32.074Z"
   },
   {
    "duration": 261,
    "start_time": "2022-03-12T10:16:34.658Z"
   },
   {
    "duration": 16,
    "start_time": "2022-03-12T10:16:34.921Z"
   },
   {
    "duration": 7,
    "start_time": "2022-03-12T10:16:34.938Z"
   },
   {
    "duration": 16,
    "start_time": "2022-03-12T10:16:34.947Z"
   },
   {
    "duration": 237,
    "start_time": "2022-03-12T10:16:34.965Z"
   },
   {
    "duration": 6,
    "start_time": "2022-03-12T10:16:35.205Z"
   },
   {
    "duration": 103,
    "start_time": "2022-03-12T10:16:35.213Z"
   },
   {
    "duration": 232,
    "start_time": "2022-03-12T10:17:37.132Z"
   },
   {
    "duration": 11,
    "start_time": "2022-03-12T10:21:08.190Z"
   },
   {
    "duration": 13,
    "start_time": "2022-03-12T10:22:23.054Z"
   },
   {
    "duration": 212,
    "start_time": "2022-03-12T10:24:41.089Z"
   },
   {
    "duration": 19,
    "start_time": "2022-03-12T10:26:34.601Z"
   },
   {
    "duration": 232,
    "start_time": "2022-03-12T10:29:05.756Z"
   },
   {
    "duration": 18,
    "start_time": "2022-03-12T10:29:25.900Z"
   },
   {
    "duration": 10,
    "start_time": "2022-03-12T10:32:16.814Z"
   },
   {
    "duration": 17,
    "start_time": "2022-03-12T10:33:00.950Z"
   },
   {
    "duration": 224,
    "start_time": "2022-03-12T10:36:05.585Z"
   },
   {
    "duration": 15,
    "start_time": "2022-03-12T10:36:30.833Z"
   },
   {
    "duration": 212,
    "start_time": "2022-03-12T10:36:54.535Z"
   },
   {
    "duration": 19,
    "start_time": "2022-03-12T10:37:48.133Z"
   },
   {
    "duration": 824,
    "start_time": "2022-03-12T10:39:22.275Z"
   },
   {
    "duration": 14,
    "start_time": "2022-03-12T10:40:02.763Z"
   },
   {
    "duration": 16,
    "start_time": "2022-03-12T10:40:08.667Z"
   },
   {
    "duration": 11,
    "start_time": "2022-03-12T10:43:02.319Z"
   },
   {
    "duration": 11,
    "start_time": "2022-03-12T10:45:30.326Z"
   },
   {
    "duration": 6202,
    "start_time": "2022-03-12T10:45:44.519Z"
   },
   {
    "duration": 10,
    "start_time": "2022-03-12T10:46:19.847Z"
   },
   {
    "duration": 13,
    "start_time": "2022-03-12T10:46:48.327Z"
   },
   {
    "duration": 12,
    "start_time": "2022-03-12T10:48:29.161Z"
   },
   {
    "duration": 14,
    "start_time": "2022-03-12T10:48:31.548Z"
   },
   {
    "duration": 13,
    "start_time": "2022-03-12T10:49:48.905Z"
   },
   {
    "duration": 15,
    "start_time": "2022-03-12T10:49:56.593Z"
   },
   {
    "duration": 6,
    "start_time": "2022-03-12T11:06:24.853Z"
   },
   {
    "duration": 14,
    "start_time": "2022-03-12T11:06:50.788Z"
   },
   {
    "duration": 6,
    "start_time": "2022-03-12T16:14:28.073Z"
   },
   {
    "duration": 3,
    "start_time": "2022-03-12T16:15:14.251Z"
   },
   {
    "duration": 25,
    "start_time": "2022-03-12T16:25:04.680Z"
   },
   {
    "duration": 1447,
    "start_time": "2022-03-12T16:25:04.707Z"
   },
   {
    "duration": 4,
    "start_time": "2022-03-12T16:25:06.157Z"
   },
   {
    "duration": 1041,
    "start_time": "2022-03-12T16:25:06.163Z"
   },
   {
    "duration": 651,
    "start_time": "2022-03-12T16:25:07.206Z"
   },
   {
    "duration": 1224,
    "start_time": "2022-03-12T16:25:07.859Z"
   },
   {
    "duration": 491,
    "start_time": "2022-03-12T16:25:09.085Z"
   },
   {
    "duration": 1062,
    "start_time": "2022-03-12T16:25:09.579Z"
   },
   {
    "duration": 564,
    "start_time": "2022-03-12T16:25:10.644Z"
   },
   {
    "duration": 527,
    "start_time": "2022-03-12T16:25:11.210Z"
   },
   {
    "duration": 580,
    "start_time": "2022-03-12T16:25:11.739Z"
   },
   {
    "duration": 564,
    "start_time": "2022-03-12T16:25:12.321Z"
   },
   {
    "duration": 1272,
    "start_time": "2022-03-12T16:25:12.887Z"
   },
   {
    "duration": 365,
    "start_time": "2022-03-12T16:25:14.161Z"
   },
   {
    "duration": 829,
    "start_time": "2022-03-12T16:25:14.527Z"
   },
   {
    "duration": 827,
    "start_time": "2022-03-12T16:25:15.359Z"
   },
   {
    "duration": 1208,
    "start_time": "2022-03-12T16:25:16.188Z"
   },
   {
    "duration": 897,
    "start_time": "2022-03-12T16:25:17.398Z"
   },
   {
    "duration": 943,
    "start_time": "2022-03-12T16:25:18.297Z"
   },
   {
    "duration": 679,
    "start_time": "2022-03-12T16:25:19.242Z"
   },
   {
    "duration": 893,
    "start_time": "2022-03-12T16:25:19.923Z"
   },
   {
    "duration": 1073,
    "start_time": "2022-03-12T16:25:20.818Z"
   },
   {
    "duration": 1123,
    "start_time": "2022-03-12T16:25:21.903Z"
   },
   {
    "duration": 52,
    "start_time": "2022-03-12T16:25:23.029Z"
   },
   {
    "duration": 1221,
    "start_time": "2022-03-12T16:25:23.084Z"
   },
   {
    "duration": 1749,
    "start_time": "2022-03-12T16:25:24.307Z"
   },
   {
    "duration": 79,
    "start_time": "2022-03-12T16:25:26.058Z"
   },
   {
    "duration": 1038,
    "start_time": "2022-03-12T16:25:26.140Z"
   },
   {
    "duration": 1211,
    "start_time": "2022-03-12T16:25:27.180Z"
   },
   {
    "duration": 763,
    "start_time": "2022-03-12T16:25:28.393Z"
   },
   {
    "duration": 452,
    "start_time": "2022-03-12T16:25:29.158Z"
   },
   {
    "duration": 3309,
    "start_time": "2022-03-12T16:25:29.612Z"
   },
   {
    "duration": 288,
    "start_time": "2022-03-12T16:25:32.924Z"
   },
   {
    "duration": 239,
    "start_time": "2022-03-12T16:25:33.215Z"
   },
   {
    "duration": 870,
    "start_time": "2022-03-12T16:25:33.456Z"
   },
   {
    "duration": 643,
    "start_time": "2022-03-12T16:25:34.328Z"
   },
   {
    "duration": 1551,
    "start_time": "2022-03-12T16:25:34.973Z"
   },
   {
    "duration": 1183,
    "start_time": "2022-03-12T16:25:36.526Z"
   },
   {
    "duration": 585,
    "start_time": "2022-03-12T16:25:37.711Z"
   },
   {
    "duration": 606,
    "start_time": "2022-03-12T16:25:38.298Z"
   },
   {
    "duration": 744,
    "start_time": "2022-03-12T16:25:38.906Z"
   },
   {
    "duration": 4,
    "start_time": "2022-03-12T16:26:06.339Z"
   },
   {
    "duration": 2017,
    "start_time": "2022-03-12T16:26:06.345Z"
   },
   {
    "duration": 325,
    "start_time": "2022-03-12T16:26:08.364Z"
   },
   {
    "duration": 944,
    "start_time": "2022-03-12T16:26:08.692Z"
   },
   {
    "duration": 654,
    "start_time": "2022-03-12T16:26:09.638Z"
   },
   {
    "duration": 708,
    "start_time": "2022-03-12T16:26:10.294Z"
   },
   {
    "duration": 356,
    "start_time": "2022-03-12T16:26:11.006Z"
   },
   {
    "duration": 618,
    "start_time": "2022-03-12T16:26:11.365Z"
   },
   {
    "duration": 791,
    "start_time": "2022-03-12T16:26:11.986Z"
   },
   {
    "duration": 327,
    "start_time": "2022-03-12T16:26:12.780Z"
   },
   {
    "duration": 395,
    "start_time": "2022-03-12T16:26:13.110Z"
   },
   {
    "duration": 726,
    "start_time": "2022-03-12T16:26:13.507Z"
   },
   {
    "duration": 452,
    "start_time": "2022-03-12T16:26:14.235Z"
   },
   {
    "duration": 583,
    "start_time": "2022-03-12T16:26:14.690Z"
   },
   {
    "duration": 522,
    "start_time": "2022-03-12T16:26:15.275Z"
   },
   {
    "duration": 979,
    "start_time": "2022-03-12T16:26:15.799Z"
   },
   {
    "duration": 864,
    "start_time": "2022-03-12T16:26:16.780Z"
   },
   {
    "duration": 776,
    "start_time": "2022-03-12T16:26:17.646Z"
   },
   {
    "duration": 859,
    "start_time": "2022-03-12T16:26:18.427Z"
   },
   {
    "duration": 710,
    "start_time": "2022-03-12T16:26:19.288Z"
   },
   {
    "duration": 983,
    "start_time": "2022-03-12T16:26:20.000Z"
   },
   {
    "duration": 1159,
    "start_time": "2022-03-12T16:26:20.985Z"
   },
   {
    "duration": 826,
    "start_time": "2022-03-12T16:26:22.146Z"
   },
   {
    "duration": 240,
    "start_time": "2022-03-12T16:26:22.974Z"
   },
   {
    "duration": 1188,
    "start_time": "2022-03-12T16:26:23.216Z"
   },
   {
    "duration": 1769,
    "start_time": "2022-03-12T16:26:24.406Z"
   },
   {
    "duration": 122,
    "start_time": "2022-03-12T16:26:26.177Z"
   },
   {
    "duration": 807,
    "start_time": "2022-03-12T16:26:26.301Z"
   },
   {
    "duration": 1167,
    "start_time": "2022-03-12T16:26:27.110Z"
   },
   {
    "duration": 510,
    "start_time": "2022-03-12T16:26:28.279Z"
   },
   {
    "duration": 1309,
    "start_time": "2022-03-12T16:26:28.791Z"
   },
   {
    "duration": 2386,
    "start_time": "2022-03-12T16:26:30.103Z"
   },
   {
    "duration": 293,
    "start_time": "2022-03-12T16:26:32.491Z"
   },
   {
    "duration": 311,
    "start_time": "2022-03-12T16:26:32.786Z"
   },
   {
    "duration": 540,
    "start_time": "2022-03-12T16:26:33.099Z"
   },
   {
    "duration": 1008,
    "start_time": "2022-03-12T16:26:33.641Z"
   },
   {
    "duration": 1156,
    "start_time": "2022-03-12T16:26:34.651Z"
   },
   {
    "duration": 303,
    "start_time": "2022-03-12T16:26:35.809Z"
   },
   {
    "duration": 732,
    "start_time": "2022-03-12T16:26:36.202Z"
   },
   {
    "duration": 478,
    "start_time": "2022-03-12T16:26:36.936Z"
   },
   {
    "duration": 27027,
    "start_time": "2022-03-12T16:26:37.417Z"
   },
   {
    "duration": 5,
    "start_time": "2022-03-12T16:46:35.975Z"
   },
   {
    "duration": 2,
    "start_time": "2022-03-12T16:49:32.697Z"
   },
   {
    "duration": 3,
    "start_time": "2022-03-12T16:49:40.304Z"
   },
   {
    "duration": 1458,
    "start_time": "2022-03-12T16:49:41.728Z"
   },
   {
    "duration": 8191,
    "start_time": "2022-03-12T16:49:44.712Z"
   },
   {
    "duration": 4,
    "start_time": "2022-03-12T16:50:05.104Z"
   },
   {
    "duration": 1317,
    "start_time": "2022-03-12T16:50:05.111Z"
   },
   {
    "duration": 139,
    "start_time": "2022-03-12T16:50:06.431Z"
   },
   {
    "duration": 1405,
    "start_time": "2022-03-12T16:50:06.572Z"
   },
   {
    "duration": 785,
    "start_time": "2022-03-12T16:50:07.979Z"
   },
   {
    "duration": 1190,
    "start_time": "2022-03-12T16:50:08.766Z"
   },
   {
    "duration": 743,
    "start_time": "2022-03-12T16:50:09.958Z"
   },
   {
    "duration": 799,
    "start_time": "2022-03-12T16:50:10.704Z"
   },
   {
    "duration": 587,
    "start_time": "2022-03-12T16:50:11.505Z"
   },
   {
    "duration": 940,
    "start_time": "2022-03-12T16:50:12.094Z"
   },
   {
    "duration": 952,
    "start_time": "2022-03-12T16:50:13.035Z"
   },
   {
    "duration": 1916,
    "start_time": "2022-03-12T16:50:13.989Z"
   },
   {
    "duration": 789,
    "start_time": "2022-03-12T16:50:15.907Z"
   },
   {
    "duration": 2374,
    "start_time": "2022-03-12T16:50:16.698Z"
   },
   {
    "duration": 664,
    "start_time": "2022-03-12T16:50:19.074Z"
   },
   {
    "duration": 938,
    "start_time": "2022-03-12T16:50:19.740Z"
   },
   {
    "duration": 1172,
    "start_time": "2022-03-12T16:50:20.680Z"
   },
   {
    "duration": 1121,
    "start_time": "2022-03-12T16:50:21.855Z"
   },
   {
    "duration": 1088,
    "start_time": "2022-03-12T16:50:22.978Z"
   },
   {
    "duration": 402,
    "start_time": "2022-03-12T16:50:24.068Z"
   },
   {
    "duration": 415,
    "start_time": "2022-03-12T16:50:24.472Z"
   },
   {
    "duration": 1197,
    "start_time": "2022-03-12T16:50:24.889Z"
   },
   {
    "duration": 871,
    "start_time": "2022-03-12T16:50:26.091Z"
   },
   {
    "duration": 604,
    "start_time": "2022-03-12T16:50:26.965Z"
   },
   {
    "duration": 581,
    "start_time": "2022-03-12T16:50:27.571Z"
   },
   {
    "duration": 1363,
    "start_time": "2022-03-12T16:50:28.154Z"
   },
   {
    "duration": 396,
    "start_time": "2022-03-12T16:50:29.519Z"
   },
   {
    "duration": 1383,
    "start_time": "2022-03-12T16:50:29.917Z"
   },
   {
    "duration": 726,
    "start_time": "2022-03-12T16:50:31.302Z"
   },
   {
    "duration": 560,
    "start_time": "2022-03-12T16:50:32.030Z"
   },
   {
    "duration": 651,
    "start_time": "2022-03-12T16:50:32.592Z"
   },
   {
    "duration": 2746,
    "start_time": "2022-03-12T16:50:33.244Z"
   },
   {
    "duration": 256,
    "start_time": "2022-03-12T16:50:35.992Z"
   },
   {
    "duration": 507,
    "start_time": "2022-03-12T16:50:36.250Z"
   },
   {
    "duration": 382,
    "start_time": "2022-03-12T16:50:36.759Z"
   },
   {
    "duration": 731,
    "start_time": "2022-03-12T16:50:37.144Z"
   },
   {
    "duration": 197,
    "start_time": "2022-03-12T16:50:37.877Z"
   },
   {
    "duration": 525,
    "start_time": "2022-03-12T16:50:38.076Z"
   },
   {
    "duration": 486,
    "start_time": "2022-03-12T16:50:38.603Z"
   },
   {
    "duration": 536,
    "start_time": "2022-03-12T16:50:39.091Z"
   },
   {
    "duration": 282,
    "start_time": "2022-03-12T16:50:39.630Z"
   },
   {
    "duration": 6359,
    "start_time": "2022-03-12T16:50:39.914Z"
   },
   {
    "duration": 81,
    "start_time": "2022-03-12T18:29:08.893Z"
   },
   {
    "duration": 221,
    "start_time": "2022-03-12T18:29:17.930Z"
   },
   {
    "duration": 5761,
    "start_time": "2022-03-12T18:29:34.083Z"
   },
   {
    "duration": 10,
    "start_time": "2022-03-12T18:42:30.524Z"
   },
   {
    "duration": 4,
    "start_time": "2022-03-12T18:46:27.863Z"
   },
   {
    "duration": 8,
    "start_time": "2022-03-12T18:47:15.238Z"
   },
   {
    "duration": 5,
    "start_time": "2022-03-12T18:54:51.924Z"
   },
   {
    "duration": 8,
    "start_time": "2022-03-12T18:55:13.189Z"
   },
   {
    "duration": 4,
    "start_time": "2022-03-12T18:56:58.207Z"
   },
   {
    "duration": 2385,
    "start_time": "2022-03-12T18:56:58.213Z"
   },
   {
    "duration": 8378,
    "start_time": "2022-03-12T18:57:00.602Z"
   },
   {
    "duration": 3811,
    "start_time": "2022-03-12T18:57:08.982Z"
   },
   {
    "duration": 1054,
    "start_time": "2022-03-12T18:57:12.796Z"
   },
   {
    "duration": 5019,
    "start_time": "2022-03-12T18:57:13.852Z"
   },
   {
    "duration": 1626,
    "start_time": "2022-03-12T18:57:18.873Z"
   },
   {
    "duration": 3130,
    "start_time": "2022-03-12T18:57:20.503Z"
   },
   {
    "duration": 3501,
    "start_time": "2022-03-12T18:57:23.636Z"
   },
   {
    "duration": 6054,
    "start_time": "2022-03-12T18:57:27.139Z"
   },
   {
    "duration": 6032,
    "start_time": "2022-03-12T18:57:33.194Z"
   },
   {
    "duration": 3681,
    "start_time": "2022-03-12T18:57:39.228Z"
   },
   {
    "duration": 1885,
    "start_time": "2022-03-12T18:57:42.911Z"
   },
   {
    "duration": 3722,
    "start_time": "2022-03-12T18:57:44.798Z"
   },
   {
    "duration": 2077,
    "start_time": "2022-03-12T18:57:48.522Z"
   },
   {
    "duration": 3642,
    "start_time": "2022-03-12T18:57:50.601Z"
   },
   {
    "duration": 3242,
    "start_time": "2022-03-12T18:57:54.245Z"
   },
   {
    "duration": 2560,
    "start_time": "2022-03-12T18:57:57.489Z"
   },
   {
    "duration": 3941,
    "start_time": "2022-03-12T18:58:00.051Z"
   },
   {
    "duration": 1780,
    "start_time": "2022-03-12T18:58:03.994Z"
   },
   {
    "duration": 2077,
    "start_time": "2022-03-12T18:58:05.776Z"
   },
   {
    "duration": 8512,
    "start_time": "2022-03-12T18:58:07.855Z"
   },
   {
    "duration": 6530,
    "start_time": "2022-03-12T18:58:16.371Z"
   },
   {
    "duration": 5342,
    "start_time": "2022-03-12T18:58:22.903Z"
   },
   {
    "duration": 3358,
    "start_time": "2022-03-12T18:58:28.247Z"
   },
   {
    "duration": 5139,
    "start_time": "2022-03-12T18:58:31.608Z"
   },
   {
    "duration": 3272,
    "start_time": "2022-03-12T18:58:36.748Z"
   },
   {
    "duration": 5058,
    "start_time": "2022-03-12T18:58:40.022Z"
   },
   {
    "duration": 4024,
    "start_time": "2022-03-12T18:58:45.083Z"
   },
   {
    "duration": 7167,
    "start_time": "2022-03-12T18:58:49.108Z"
   },
   {
    "duration": 3627,
    "start_time": "2022-03-12T18:58:56.278Z"
   },
   {
    "duration": 6361,
    "start_time": "2022-03-12T18:58:59.908Z"
   },
   {
    "duration": 1687,
    "start_time": "2022-03-12T18:59:06.271Z"
   },
   {
    "duration": 3597,
    "start_time": "2022-03-12T18:59:07.961Z"
   },
   {
    "duration": 7173,
    "start_time": "2022-03-12T18:59:11.560Z"
   },
   {
    "duration": 3339,
    "start_time": "2022-03-12T18:59:18.735Z"
   },
   {
    "duration": 3972,
    "start_time": "2022-03-12T18:59:22.076Z"
   },
   {
    "duration": 1389,
    "start_time": "2022-03-12T19:00:28.950Z"
   },
   {
    "duration": 828,
    "start_time": "2022-03-12T19:00:30.341Z"
   },
   {
    "duration": 736,
    "start_time": "2022-03-12T19:00:31.171Z"
   },
   {
    "duration": 797,
    "start_time": "2022-03-12T19:00:31.910Z"
   },
   {
    "duration": 191,
    "start_time": "2022-03-12T19:00:32.710Z"
   },
   {
    "duration": 1407,
    "start_time": "2022-03-12T19:00:32.904Z"
   },
   {
    "duration": 1097,
    "start_time": "2022-03-12T19:00:34.313Z"
   },
   {
    "duration": 11016,
    "start_time": "2022-03-12T19:00:35.411Z"
   },
   {
    "duration": 1285,
    "start_time": "2022-03-12T19:00:46.430Z"
   },
   {
    "duration": 718,
    "start_time": "2022-03-12T19:00:47.719Z"
   },
   {
    "duration": 1393,
    "start_time": "2022-03-12T19:00:48.439Z"
   },
   {
    "duration": 870,
    "start_time": "2022-03-12T19:00:49.834Z"
   },
   {
    "duration": 893,
    "start_time": "2022-03-12T19:00:50.706Z"
   },
   {
    "duration": 1142,
    "start_time": "2022-03-12T19:00:51.602Z"
   },
   {
    "duration": 1215,
    "start_time": "2022-03-12T19:00:52.745Z"
   },
   {
    "duration": 920,
    "start_time": "2022-03-12T19:00:53.962Z"
   },
   {
    "duration": 1490,
    "start_time": "2022-03-12T19:00:54.884Z"
   },
   {
    "duration": 1167,
    "start_time": "2022-03-12T19:00:56.376Z"
   },
   {
    "duration": 973,
    "start_time": "2022-03-12T19:00:57.545Z"
   },
   {
    "duration": 1381,
    "start_time": "2022-03-12T19:00:58.520Z"
   },
   {
    "duration": 1766,
    "start_time": "2022-03-12T19:00:59.903Z"
   },
   {
    "duration": 1786,
    "start_time": "2022-03-12T19:01:01.671Z"
   },
   {
    "duration": 1244,
    "start_time": "2022-03-12T19:01:03.459Z"
   },
   {
    "duration": 1104,
    "start_time": "2022-03-12T19:01:04.705Z"
   },
   {
    "duration": 1982,
    "start_time": "2022-03-12T19:01:05.811Z"
   },
   {
    "duration": 3088,
    "start_time": "2022-03-12T19:01:07.795Z"
   },
   {
    "duration": 616,
    "start_time": "2022-03-12T19:01:10.889Z"
   },
   {
    "duration": 1099,
    "start_time": "2022-03-12T19:01:11.507Z"
   },
   {
    "duration": 946,
    "start_time": "2022-03-12T19:01:12.608Z"
   },
   {
    "duration": 1683,
    "start_time": "2022-03-12T19:01:13.556Z"
   },
   {
    "duration": 581,
    "start_time": "2022-03-12T19:01:15.241Z"
   },
   {
    "duration": 2972,
    "start_time": "2022-03-12T19:01:15.824Z"
   },
   {
    "duration": 250,
    "start_time": "2022-03-12T19:01:18.798Z"
   },
   {
    "duration": 255,
    "start_time": "2022-03-12T19:01:19.050Z"
   },
   {
    "duration": 550,
    "start_time": "2022-03-12T19:01:19.307Z"
   },
   {
    "duration": 4906,
    "start_time": "2022-03-12T19:01:19.859Z"
   },
   {
    "duration": 1639,
    "start_time": "2022-03-12T19:01:23.128Z"
   },
   {
    "duration": 226,
    "start_time": "2022-03-12T19:02:05.300Z"
   },
   {
    "duration": 15,
    "start_time": "2022-03-12T19:02:57.451Z"
   },
   {
    "duration": 100,
    "start_time": "2022-03-12T19:02:59.203Z"
   },
   {
    "duration": 5,
    "start_time": "2022-03-12T19:03:01.572Z"
   },
   {
    "duration": 9,
    "start_time": "2022-03-12T19:03:04.179Z"
   },
   {
    "duration": 10,
    "start_time": "2022-03-12T19:04:19.108Z"
   },
   {
    "duration": 4,
    "start_time": "2022-03-12T19:04:44.701Z"
   },
   {
    "duration": 10,
    "start_time": "2022-03-12T19:05:20.221Z"
   },
   {
    "duration": 4,
    "start_time": "2022-03-12T19:05:27.837Z"
   },
   {
    "duration": 5,
    "start_time": "2022-03-12T19:05:51.262Z"
   },
   {
    "duration": 5,
    "start_time": "2022-03-12T19:09:05.799Z"
   },
   {
    "duration": 5,
    "start_time": "2022-03-12T19:09:29.984Z"
   },
   {
    "duration": 6,
    "start_time": "2022-03-12T19:13:37.802Z"
   },
   {
    "duration": 5,
    "start_time": "2022-03-12T19:14:03.730Z"
   },
   {
    "duration": 6,
    "start_time": "2022-03-12T19:14:53.419Z"
   },
   {
    "duration": 7,
    "start_time": "2022-03-12T19:20:51.968Z"
   },
   {
    "duration": 5,
    "start_time": "2022-03-12T19:23:24.777Z"
   },
   {
    "duration": 8,
    "start_time": "2022-03-12T19:24:13.202Z"
   },
   {
    "duration": 3,
    "start_time": "2022-03-12T19:25:53.570Z"
   },
   {
    "duration": 28121,
    "start_time": "2022-03-12T19:25:55.510Z"
   },
   {
    "duration": 4,
    "start_time": "2022-03-12T19:30:34.774Z"
   },
   {
    "duration": 311,
    "start_time": "2022-03-12T19:41:22.621Z"
   },
   {
    "duration": 220,
    "start_time": "2022-03-12T19:41:45.334Z"
   },
   {
    "duration": 427889,
    "start_time": "2022-03-12T19:43:46.031Z"
   },
   {
    "duration": 1711,
    "start_time": "2022-03-12T20:44:21.892Z"
   },
   {
    "duration": 839637,
    "start_time": "2022-03-12T21:16:41.047Z"
   },
   {
    "duration": 49086,
    "start_time": "2022-03-12T21:33:37.057Z"
   },
   {
    "duration": 4,
    "start_time": "2022-03-12T21:39:54.730Z"
   },
   {
    "duration": 716,
    "start_time": "2022-03-12T21:39:54.736Z"
   },
   {
    "duration": 4,
    "start_time": "2022-03-12T21:39:55.454Z"
   },
   {
    "duration": 201,
    "start_time": "2022-03-12T21:39:55.460Z"
   },
   {
    "duration": 78,
    "start_time": "2022-03-12T21:39:55.663Z"
   },
   {
    "duration": 177,
    "start_time": "2022-03-12T21:39:55.743Z"
   },
   {
    "duration": 6,
    "start_time": "2022-03-12T21:39:55.922Z"
   },
   {
    "duration": 71,
    "start_time": "2022-03-12T21:39:55.931Z"
   },
   {
    "duration": 4,
    "start_time": "2022-03-12T21:39:56.005Z"
   },
   {
    "duration": 11,
    "start_time": "2022-03-12T21:39:56.011Z"
   },
   {
    "duration": 16,
    "start_time": "2022-03-12T21:39:56.024Z"
   },
   {
    "duration": 7,
    "start_time": "2022-03-12T21:39:56.043Z"
   },
   {
    "duration": 16,
    "start_time": "2022-03-12T21:39:56.052Z"
   },
   {
    "duration": 9,
    "start_time": "2022-03-12T21:39:56.070Z"
   },
   {
    "duration": 23,
    "start_time": "2022-03-12T21:39:56.081Z"
   },
   {
    "duration": 13,
    "start_time": "2022-03-12T21:39:56.107Z"
   },
   {
    "duration": 210,
    "start_time": "2022-03-12T21:39:56.122Z"
   },
   {
    "duration": 74,
    "start_time": "2022-03-12T21:39:56.334Z"
   },
   {
    "duration": 16,
    "start_time": "2022-03-12T21:39:56.410Z"
   },
   {
    "duration": 16,
    "start_time": "2022-03-12T21:39:56.428Z"
   },
   {
    "duration": 239,
    "start_time": "2022-03-12T21:39:56.446Z"
   },
   {
    "duration": 220,
    "start_time": "2022-03-12T21:39:56.687Z"
   },
   {
    "duration": 373,
    "start_time": "2022-03-12T21:39:56.911Z"
   },
   {
    "duration": 37,
    "start_time": "2022-03-12T21:39:57.286Z"
   },
   {
    "duration": 303,
    "start_time": "2022-03-12T21:39:57.325Z"
   },
   {
    "duration": 879,
    "start_time": "2022-03-12T21:39:57.630Z"
   },
   {
    "duration": 11,
    "start_time": "2022-03-12T21:39:58.511Z"
   },
   {
    "duration": 12,
    "start_time": "2022-03-12T21:39:58.524Z"
   },
   {
    "duration": 305,
    "start_time": "2022-03-12T21:39:58.537Z"
   },
   {
    "duration": 6,
    "start_time": "2022-03-12T21:39:58.843Z"
   },
   {
    "duration": 10,
    "start_time": "2022-03-12T21:39:58.851Z"
   },
   {
    "duration": 2221,
    "start_time": "2022-03-12T21:39:58.863Z"
   },
   {
    "duration": 268,
    "start_time": "2022-03-12T21:40:01.087Z"
   },
   {
    "duration": 5,
    "start_time": "2022-03-12T21:40:01.357Z"
   },
   {
    "duration": 14,
    "start_time": "2022-03-12T21:40:01.365Z"
   },
   {
    "duration": 20,
    "start_time": "2022-03-12T21:40:01.381Z"
   },
   {
    "duration": 1357,
    "start_time": "2022-03-12T21:40:18.348Z"
   },
   {
    "duration": 1389,
    "start_time": "2022-03-13T05:27:53.965Z"
   },
   {
    "duration": 729,
    "start_time": "2022-03-13T05:27:55.357Z"
   },
   {
    "duration": 4,
    "start_time": "2022-03-13T05:27:56.088Z"
   },
   {
    "duration": 187,
    "start_time": "2022-03-13T05:27:56.102Z"
   },
   {
    "duration": 64,
    "start_time": "2022-03-13T05:27:56.290Z"
   },
   {
    "duration": 195,
    "start_time": "2022-03-13T05:27:56.356Z"
   },
   {
    "duration": 5,
    "start_time": "2022-03-13T05:27:56.552Z"
   },
   {
    "duration": 72,
    "start_time": "2022-03-13T05:27:56.560Z"
   },
   {
    "duration": 3,
    "start_time": "2022-03-13T05:27:56.634Z"
   },
   {
    "duration": 12,
    "start_time": "2022-03-13T05:27:56.638Z"
   },
   {
    "duration": 16,
    "start_time": "2022-03-13T05:27:56.652Z"
   },
   {
    "duration": 7,
    "start_time": "2022-03-13T05:27:56.670Z"
   },
   {
    "duration": 26,
    "start_time": "2022-03-13T05:27:56.678Z"
   },
   {
    "duration": 13,
    "start_time": "2022-03-13T05:27:56.706Z"
   },
   {
    "duration": 7,
    "start_time": "2022-03-13T05:27:56.721Z"
   },
   {
    "duration": 14,
    "start_time": "2022-03-13T05:27:56.730Z"
   },
   {
    "duration": 191,
    "start_time": "2022-03-13T05:27:56.746Z"
   },
   {
    "duration": 88,
    "start_time": "2022-03-13T05:27:56.939Z"
   },
   {
    "duration": 17,
    "start_time": "2022-03-13T05:27:57.030Z"
   },
   {
    "duration": 16,
    "start_time": "2022-03-13T05:27:57.050Z"
   },
   {
    "duration": 248,
    "start_time": "2022-03-13T05:27:57.068Z"
   },
   {
    "duration": 232,
    "start_time": "2022-03-13T05:27:57.319Z"
   },
   {
    "duration": 362,
    "start_time": "2022-03-13T05:27:57.555Z"
   },
   {
    "duration": 28,
    "start_time": "2022-03-13T05:27:57.919Z"
   },
   {
    "duration": 371,
    "start_time": "2022-03-13T05:27:57.949Z"
   },
   {
    "duration": 792,
    "start_time": "2022-03-13T05:27:58.322Z"
   },
   {
    "duration": 10,
    "start_time": "2022-03-13T05:27:59.116Z"
   },
   {
    "duration": 11,
    "start_time": "2022-03-13T05:27:59.128Z"
   },
   {
    "duration": 296,
    "start_time": "2022-03-13T05:27:59.141Z"
   },
   {
    "duration": 5,
    "start_time": "2022-03-13T05:27:59.439Z"
   },
   {
    "duration": 10,
    "start_time": "2022-03-13T05:27:59.445Z"
   },
   {
    "duration": 2014,
    "start_time": "2022-03-13T05:27:59.456Z"
   },
   {
    "duration": 265,
    "start_time": "2022-03-13T05:28:01.472Z"
   },
   {
    "duration": 5,
    "start_time": "2022-03-13T05:28:01.739Z"
   },
   {
    "duration": 28,
    "start_time": "2022-03-13T05:28:01.746Z"
   },
   {
    "duration": 31,
    "start_time": "2022-03-13T05:28:01.776Z"
   },
   {
    "duration": 361,
    "start_time": "2022-03-13T05:28:01.809Z"
   },
   {
    "duration": 1728,
    "start_time": "2022-03-13T05:28:15.076Z"
   },
   {
    "duration": 49201,
    "start_time": "2022-03-13T05:28:35.576Z"
   },
   {
    "duration": 5,
    "start_time": "2022-03-13T05:32:23.030Z"
   },
   {
    "duration": 1330,
    "start_time": "2022-03-13T05:32:31.875Z"
   },
   {
    "duration": 1251,
    "start_time": "2022-03-13T05:34:05.852Z"
   },
   {
    "duration": 49293,
    "start_time": "2022-03-13T05:35:16.123Z"
   },
   {
    "duration": 5,
    "start_time": "2022-03-13T05:40:09.804Z"
   },
   {
    "duration": 228,
    "start_time": "2022-03-13T05:40:18.401Z"
   },
   {
    "duration": 11,
    "start_time": "2022-03-13T05:40:40.129Z"
   },
   {
    "duration": 418041,
    "start_time": "2022-03-13T05:40:43.295Z"
   },
   {
    "duration": 290,
    "start_time": "2022-03-13T07:00:02.805Z"
   },
   {
    "duration": 4,
    "start_time": "2022-03-13T07:05:46.133Z"
   },
   {
    "duration": 748,
    "start_time": "2022-03-13T07:05:46.139Z"
   },
   {
    "duration": 4,
    "start_time": "2022-03-13T07:05:46.889Z"
   },
   {
    "duration": 183,
    "start_time": "2022-03-13T07:05:46.902Z"
   },
   {
    "duration": 71,
    "start_time": "2022-03-13T07:05:47.087Z"
   },
   {
    "duration": 183,
    "start_time": "2022-03-13T07:05:47.160Z"
   },
   {
    "duration": 4,
    "start_time": "2022-03-13T07:05:47.345Z"
   },
   {
    "duration": 65,
    "start_time": "2022-03-13T07:05:47.351Z"
   },
   {
    "duration": 3,
    "start_time": "2022-03-13T07:05:47.418Z"
   },
   {
    "duration": 9,
    "start_time": "2022-03-13T07:05:47.423Z"
   },
   {
    "duration": 20,
    "start_time": "2022-03-13T07:05:47.434Z"
   },
   {
    "duration": 8,
    "start_time": "2022-03-13T07:05:47.456Z"
   },
   {
    "duration": 12,
    "start_time": "2022-03-13T07:05:47.466Z"
   },
   {
    "duration": 4,
    "start_time": "2022-03-13T07:05:47.500Z"
   },
   {
    "duration": 12,
    "start_time": "2022-03-13T07:05:47.507Z"
   },
   {
    "duration": 16,
    "start_time": "2022-03-13T07:05:47.521Z"
   },
   {
    "duration": 196,
    "start_time": "2022-03-13T07:05:47.539Z"
   },
   {
    "duration": 76,
    "start_time": "2022-03-13T07:05:47.736Z"
   },
   {
    "duration": 792660,
    "start_time": "2022-03-13T08:43:49.643Z"
   },
   {
    "duration": 2051247,
    "start_time": "2022-03-13T08:59:27.489Z"
   },
   {
    "duration": 61164,
    "start_time": "2022-03-13T09:38:11.026Z"
   },
   {
    "duration": 60825,
    "start_time": "2022-03-13T09:40:39.133Z"
   },
   {
    "duration": 10,
    "start_time": "2022-03-13T09:49:02.759Z"
   },
   {
    "duration": 2581750,
    "start_time": "2022-03-13T09:50:18.428Z"
   },
   {
    "duration": 62901,
    "start_time": "2022-03-13T10:34:23.418Z"
   },
   {
    "duration": 4813,
    "start_time": "2022-03-13T10:36:15.455Z"
   },
   {
    "duration": 4,
    "start_time": "2022-03-13T10:47:46.576Z"
   },
   {
    "duration": 735,
    "start_time": "2022-03-13T10:47:46.582Z"
   },
   {
    "duration": 4,
    "start_time": "2022-03-13T10:47:47.319Z"
   },
   {
    "duration": 210,
    "start_time": "2022-03-13T10:47:47.326Z"
   },
   {
    "duration": 94,
    "start_time": "2022-03-13T10:47:47.538Z"
   },
   {
    "duration": 190,
    "start_time": "2022-03-13T10:47:47.634Z"
   },
   {
    "duration": 4,
    "start_time": "2022-03-13T10:47:47.828Z"
   },
   {
    "duration": 69,
    "start_time": "2022-03-13T10:47:47.834Z"
   },
   {
    "duration": 4,
    "start_time": "2022-03-13T10:47:47.904Z"
   },
   {
    "duration": 8,
    "start_time": "2022-03-13T10:47:47.910Z"
   },
   {
    "duration": 18,
    "start_time": "2022-03-13T10:47:47.920Z"
   },
   {
    "duration": 8,
    "start_time": "2022-03-13T10:47:47.940Z"
   },
   {
    "duration": 11,
    "start_time": "2022-03-13T10:47:47.950Z"
   },
   {
    "duration": 7,
    "start_time": "2022-03-13T10:47:47.963Z"
   },
   {
    "duration": 34,
    "start_time": "2022-03-13T10:47:47.972Z"
   },
   {
    "duration": 15,
    "start_time": "2022-03-13T10:47:48.008Z"
   },
   {
    "duration": 202,
    "start_time": "2022-03-13T10:47:48.025Z"
   },
   {
    "duration": 76,
    "start_time": "2022-03-13T10:47:48.229Z"
   },
   {
    "duration": 16,
    "start_time": "2022-03-13T10:47:48.308Z"
   },
   {
    "duration": 16,
    "start_time": "2022-03-13T10:47:48.326Z"
   },
   {
    "duration": 234,
    "start_time": "2022-03-13T10:47:48.344Z"
   },
   {
    "duration": 220,
    "start_time": "2022-03-13T10:47:48.580Z"
   },
   {
    "duration": 358,
    "start_time": "2022-03-13T10:47:48.802Z"
   },
   {
    "duration": 41,
    "start_time": "2022-03-13T10:47:49.162Z"
   },
   {
    "duration": 300,
    "start_time": "2022-03-13T10:47:49.204Z"
   },
   {
    "duration": 1022,
    "start_time": "2022-03-13T10:47:49.507Z"
   },
   {
    "duration": 11,
    "start_time": "2022-03-13T10:47:50.531Z"
   },
   {
    "duration": 18,
    "start_time": "2022-03-13T10:47:50.544Z"
   },
   {
    "duration": 313,
    "start_time": "2022-03-13T10:47:50.564Z"
   },
   {
    "duration": 22,
    "start_time": "2022-03-13T10:47:50.879Z"
   },
   {
    "duration": 7,
    "start_time": "2022-03-13T10:47:50.903Z"
   },
   {
    "duration": 2092,
    "start_time": "2022-03-13T10:47:50.911Z"
   },
   {
    "duration": 262,
    "start_time": "2022-03-13T10:47:53.005Z"
   },
   {
    "duration": 5,
    "start_time": "2022-03-13T10:47:53.268Z"
   },
   {
    "duration": 10,
    "start_time": "2022-03-13T10:47:53.275Z"
   },
   {
    "duration": 11,
    "start_time": "2022-03-13T10:47:53.301Z"
   },
   {
    "duration": 6,
    "start_time": "2022-03-13T10:47:53.314Z"
   },
   {
    "duration": 1386,
    "start_time": "2022-03-13T10:47:53.322Z"
   },
   {
    "duration": 201252,
    "start_time": "2022-03-13T10:49:21.708Z"
   },
   {
    "duration": 206979,
    "start_time": "2022-03-13T10:57:21.607Z"
   },
   {
    "duration": 161,
    "start_time": "2022-03-13T11:09:26.145Z"
   },
   {
    "duration": 167,
    "start_time": "2022-03-13T11:09:37.539Z"
   },
   {
    "duration": 261,
    "start_time": "2022-03-13T11:13:40.396Z"
   },
   {
    "duration": 382,
    "start_time": "2022-03-13T11:13:55.725Z"
   },
   {
    "duration": 188,
    "start_time": "2022-03-13T11:14:08.216Z"
   },
   {
    "duration": 1664,
    "start_time": "2022-03-13T11:14:44.042Z"
   },
   {
    "duration": 201686,
    "start_time": "2022-03-13T11:36:27.709Z"
   },
   {
    "duration": 74,
    "start_time": "2022-03-13T12:23:27.491Z"
   },
   {
    "duration": 248,
    "start_time": "2022-03-13T12:23:27.320Z"
   },
   {
    "duration": 4823,
    "start_time": "2022-03-13T12:23:29.440Z"
   },
   {
    "duration": 1055444,
    "start_time": "2022-03-13T12:23:50.026Z"
   },
   {
    "duration": 1149119,
    "start_time": "2022-03-13T12:43:32.426Z"
   },
   {
    "duration": 1265,
    "start_time": "2022-03-13T13:06:48.642Z"
   },
   {
    "duration": 1591,
    "start_time": "2022-03-13T13:28:35.112Z"
   },
   {
    "duration": 4,
    "start_time": "2022-03-13T13:37:10.774Z"
   },
   {
    "duration": 5,
    "start_time": "2022-03-13T14:13:21.224Z"
   },
   {
    "duration": 7,
    "start_time": "2022-03-13T14:13:26.724Z"
   },
   {
    "duration": 226,
    "start_time": "2022-03-13T14:21:09.480Z"
   },
   {
    "duration": 223,
    "start_time": "2022-03-13T14:25:20.012Z"
   },
   {
    "duration": 23528,
    "start_time": "2022-03-13T14:25:30.173Z"
   },
   {
    "duration": 137,
    "start_time": "2022-03-13T14:26:22.917Z"
   },
   {
    "duration": 157,
    "start_time": "2022-03-13T14:26:28.300Z"
   },
   {
    "duration": 34,
    "start_time": "2022-03-13T14:27:43.755Z"
   },
   {
    "duration": 4,
    "start_time": "2022-03-13T14:28:46.333Z"
   },
   {
    "duration": 716,
    "start_time": "2022-03-13T14:28:46.339Z"
   },
   {
    "duration": 3,
    "start_time": "2022-03-13T14:28:47.057Z"
   },
   {
    "duration": 197,
    "start_time": "2022-03-13T14:28:47.062Z"
   },
   {
    "duration": 78,
    "start_time": "2022-03-13T14:28:47.262Z"
   },
   {
    "duration": 185,
    "start_time": "2022-03-13T14:28:47.342Z"
   },
   {
    "duration": 4,
    "start_time": "2022-03-13T14:28:47.529Z"
   },
   {
    "duration": 69,
    "start_time": "2022-03-13T14:28:47.536Z"
   },
   {
    "duration": 3,
    "start_time": "2022-03-13T14:28:47.608Z"
   },
   {
    "duration": 19,
    "start_time": "2022-03-13T14:28:47.613Z"
   },
   {
    "duration": 17,
    "start_time": "2022-03-13T14:28:47.634Z"
   },
   {
    "duration": 7,
    "start_time": "2022-03-13T14:28:47.653Z"
   },
   {
    "duration": 12,
    "start_time": "2022-03-13T14:28:47.662Z"
   },
   {
    "duration": 9,
    "start_time": "2022-03-13T14:28:47.676Z"
   },
   {
    "duration": 19,
    "start_time": "2022-03-13T14:28:47.686Z"
   },
   {
    "duration": 18,
    "start_time": "2022-03-13T14:28:47.707Z"
   },
   {
    "duration": 204,
    "start_time": "2022-03-13T14:28:47.728Z"
   },
   {
    "duration": 74,
    "start_time": "2022-03-13T14:28:47.934Z"
   },
   {
    "duration": 17,
    "start_time": "2022-03-13T14:28:48.011Z"
   },
   {
    "duration": 18,
    "start_time": "2022-03-13T14:28:48.030Z"
   },
   {
    "duration": 239,
    "start_time": "2022-03-13T14:28:48.050Z"
   },
   {
    "duration": 232,
    "start_time": "2022-03-13T14:28:48.291Z"
   },
   {
    "duration": 375,
    "start_time": "2022-03-13T14:28:48.528Z"
   },
   {
    "duration": 27,
    "start_time": "2022-03-13T14:28:48.906Z"
   },
   {
    "duration": 302,
    "start_time": "2022-03-13T14:28:48.935Z"
   },
   {
    "duration": 801,
    "start_time": "2022-03-13T14:28:49.239Z"
   },
   {
    "duration": 111,
    "start_time": "2022-03-13T14:28:50.043Z"
   },
   {
    "duration": 16,
    "start_time": "2022-03-13T14:28:50.156Z"
   },
   {
    "duration": 291,
    "start_time": "2022-03-13T14:28:50.174Z"
   },
   {
    "duration": 5,
    "start_time": "2022-03-13T14:28:50.467Z"
   },
   {
    "duration": 33,
    "start_time": "2022-03-13T14:28:50.473Z"
   },
   {
    "duration": 2224,
    "start_time": "2022-03-13T14:28:50.508Z"
   },
   {
    "duration": 254,
    "start_time": "2022-03-13T14:28:52.734Z"
   },
   {
    "duration": 14,
    "start_time": "2022-03-13T14:28:52.990Z"
   },
   {
    "duration": 16,
    "start_time": "2022-03-13T14:28:53.006Z"
   },
   {
    "duration": 29,
    "start_time": "2022-03-13T14:28:53.024Z"
   },
   {
    "duration": 20,
    "start_time": "2022-03-13T14:28:53.055Z"
   },
   {
    "duration": 1333,
    "start_time": "2022-03-13T14:28:53.077Z"
   },
   {
    "duration": 294,
    "start_time": "2022-03-13T14:28:54.412Z"
   },
   {
    "duration": 5,
    "start_time": "2022-03-13T14:28:54.708Z"
   },
   {
    "duration": 119,
    "start_time": "2022-03-13T14:28:54.715Z"
   },
   {
    "duration": 27,
    "start_time": "2022-03-13T14:28:54.836Z"
   },
   {
    "duration": 11446,
    "start_time": "2022-03-13T14:28:54.911Z"
   },
   {
    "duration": 21,
    "start_time": "2022-03-13T14:30:29.255Z"
   },
   {
    "duration": 28,
    "start_time": "2022-03-13T14:30:35.329Z"
   },
   {
    "duration": 15,
    "start_time": "2022-03-13T14:31:36.272Z"
   },
   {
    "duration": 16,
    "start_time": "2022-03-13T14:31:54.593Z"
   },
   {
    "duration": 244,
    "start_time": "2022-03-13T14:33:31.396Z"
   },
   {
    "duration": 37,
    "start_time": "2022-03-13T14:35:08.475Z"
   },
   {
    "duration": 17,
    "start_time": "2022-03-13T14:35:21.781Z"
   },
   {
    "duration": 11,
    "start_time": "2022-03-13T14:36:10.388Z"
   },
   {
    "duration": 102848,
    "start_time": "2022-03-13T14:37:41.674Z"
   },
   {
    "duration": 5,
    "start_time": "2022-03-13T14:42:25.096Z"
   },
   {
    "duration": 7,
    "start_time": "2022-03-13T14:49:25.301Z"
   },
   {
    "duration": 7,
    "start_time": "2022-03-13T14:49:34.125Z"
   },
   {
    "duration": 5,
    "start_time": "2022-03-13T14:55:52.149Z"
   },
   {
    "duration": 79,
    "start_time": "2022-03-13T14:56:01.402Z"
   },
   {
    "duration": 248,
    "start_time": "2022-03-13T14:56:08.825Z"
   },
   {
    "duration": 257,
    "start_time": "2022-03-13T14:56:24.129Z"
   },
   {
    "duration": 433,
    "start_time": "2022-03-13T14:56:38.762Z"
   },
   {
    "duration": 7,
    "start_time": "2022-03-13T14:56:57.195Z"
   },
   {
    "duration": 353,
    "start_time": "2022-03-13T14:57:09.217Z"
   },
   {
    "duration": 7,
    "start_time": "2022-03-13T14:57:32.130Z"
   },
   {
    "duration": 359,
    "start_time": "2022-03-13T15:02:29.625Z"
   },
   {
    "duration": 239,
    "start_time": "2022-03-13T15:03:49.536Z"
   },
   {
    "duration": 8,
    "start_time": "2022-03-13T15:04:01.817Z"
   },
   {
    "duration": 12,
    "start_time": "2022-03-13T15:04:13.983Z"
   },
   {
    "duration": 12,
    "start_time": "2022-03-13T15:05:10.503Z"
   },
   {
    "duration": 11,
    "start_time": "2022-03-13T15:05:22.002Z"
   },
   {
    "duration": 5,
    "start_time": "2022-03-13T15:06:47.161Z"
   },
   {
    "duration": 1283,
    "start_time": "2022-03-13T15:08:38.213Z"
   },
   {
    "duration": 762,
    "start_time": "2022-03-13T15:08:39.501Z"
   },
   {
    "duration": 4,
    "start_time": "2022-03-13T15:08:40.265Z"
   },
   {
    "duration": 202,
    "start_time": "2022-03-13T15:08:40.271Z"
   },
   {
    "duration": 71,
    "start_time": "2022-03-13T15:08:40.475Z"
   },
   {
    "duration": 195,
    "start_time": "2022-03-13T15:08:40.548Z"
   },
   {
    "duration": 4,
    "start_time": "2022-03-13T15:08:40.745Z"
   },
   {
    "duration": 78,
    "start_time": "2022-03-13T15:08:40.752Z"
   },
   {
    "duration": 4,
    "start_time": "2022-03-13T15:08:40.833Z"
   },
   {
    "duration": 26,
    "start_time": "2022-03-13T15:08:40.839Z"
   },
   {
    "duration": 24,
    "start_time": "2022-03-13T15:08:40.867Z"
   },
   {
    "duration": 9,
    "start_time": "2022-03-13T15:08:40.893Z"
   },
   {
    "duration": 17,
    "start_time": "2022-03-13T15:08:40.904Z"
   },
   {
    "duration": 34,
    "start_time": "2022-03-13T15:08:40.923Z"
   },
   {
    "duration": 27,
    "start_time": "2022-03-13T15:08:40.959Z"
   },
   {
    "duration": 33,
    "start_time": "2022-03-13T15:08:40.988Z"
   },
   {
    "duration": 194,
    "start_time": "2022-03-13T15:08:41.024Z"
   },
   {
    "duration": 66,
    "start_time": "2022-03-13T15:08:41.220Z"
   },
   {
    "duration": 27,
    "start_time": "2022-03-13T15:08:41.289Z"
   },
   {
    "duration": 19,
    "start_time": "2022-03-13T15:08:41.318Z"
   },
   {
    "duration": 253,
    "start_time": "2022-03-13T15:08:41.339Z"
   },
   {
    "duration": 228,
    "start_time": "2022-03-13T15:08:41.594Z"
   },
   {
    "duration": 368,
    "start_time": "2022-03-13T15:08:41.826Z"
   },
   {
    "duration": 29,
    "start_time": "2022-03-13T15:08:42.200Z"
   },
   {
    "duration": 365,
    "start_time": "2022-03-13T15:08:42.231Z"
   },
   {
    "duration": 909,
    "start_time": "2022-03-13T15:08:42.598Z"
   },
   {
    "duration": 10,
    "start_time": "2022-03-13T15:08:43.509Z"
   },
   {
    "duration": 15,
    "start_time": "2022-03-13T15:08:43.521Z"
   },
   {
    "duration": 302,
    "start_time": "2022-03-13T15:08:43.537Z"
   },
   {
    "duration": 5,
    "start_time": "2022-03-13T15:08:43.841Z"
   },
   {
    "duration": 10,
    "start_time": "2022-03-13T15:08:43.848Z"
   },
   {
    "duration": 2087,
    "start_time": "2022-03-13T15:08:43.859Z"
   },
   {
    "duration": 266,
    "start_time": "2022-03-13T15:08:45.948Z"
   },
   {
    "duration": 5,
    "start_time": "2022-03-13T15:08:46.216Z"
   },
   {
    "duration": 19,
    "start_time": "2022-03-13T15:08:46.223Z"
   },
   {
    "duration": 23,
    "start_time": "2022-03-13T15:08:46.244Z"
   },
   {
    "duration": 5,
    "start_time": "2022-03-13T15:08:46.269Z"
   },
   {
    "duration": 1226,
    "start_time": "2022-03-13T15:08:46.275Z"
   },
   {
    "duration": 758,
    "start_time": "2022-03-13T15:08:47.504Z"
   },
   {
    "duration": 444,
    "start_time": "2022-03-13T15:08:47.821Z"
   },
   {
    "duration": 441,
    "start_time": "2022-03-13T15:08:47.825Z"
   },
   {
    "duration": 439,
    "start_time": "2022-03-13T15:08:47.828Z"
   },
   {
    "duration": 437,
    "start_time": "2022-03-13T15:08:47.831Z"
   },
   {
    "duration": 433,
    "start_time": "2022-03-13T15:08:47.836Z"
   },
   {
    "duration": 430,
    "start_time": "2022-03-13T15:08:47.840Z"
   },
   {
    "duration": 426,
    "start_time": "2022-03-13T15:08:47.845Z"
   },
   {
    "duration": 67,
    "start_time": "2022-03-13T15:09:15.237Z"
   },
   {
    "duration": 15976,
    "start_time": "2022-03-13T15:09:15.406Z"
   },
   {
    "duration": 1203,
    "start_time": "2022-03-13T15:10:59.351Z"
   },
   {
    "duration": 808,
    "start_time": "2022-03-13T15:11:00.556Z"
   },
   {
    "duration": 4,
    "start_time": "2022-03-13T15:11:01.370Z"
   },
   {
    "duration": 209,
    "start_time": "2022-03-13T15:11:01.376Z"
   },
   {
    "duration": 67,
    "start_time": "2022-03-13T15:11:01.587Z"
   },
   {
    "duration": 198,
    "start_time": "2022-03-13T15:11:01.656Z"
   },
   {
    "duration": 4,
    "start_time": "2022-03-13T15:11:01.856Z"
   },
   {
    "duration": 72,
    "start_time": "2022-03-13T15:11:01.863Z"
   },
   {
    "duration": 4,
    "start_time": "2022-03-13T15:11:01.938Z"
   },
   {
    "duration": 16,
    "start_time": "2022-03-13T15:11:01.944Z"
   },
   {
    "duration": 20,
    "start_time": "2022-03-13T15:11:01.962Z"
   },
   {
    "duration": 20,
    "start_time": "2022-03-13T15:11:01.984Z"
   },
   {
    "duration": 44,
    "start_time": "2022-03-13T15:11:02.006Z"
   },
   {
    "duration": 15,
    "start_time": "2022-03-13T15:11:02.052Z"
   },
   {
    "duration": 11,
    "start_time": "2022-03-13T15:11:02.069Z"
   },
   {
    "duration": 26,
    "start_time": "2022-03-13T15:11:02.082Z"
   },
   {
    "duration": 211,
    "start_time": "2022-03-13T15:11:02.110Z"
   },
   {
    "duration": 77,
    "start_time": "2022-03-13T15:11:02.324Z"
   },
   {
    "duration": 16,
    "start_time": "2022-03-13T15:11:02.403Z"
   },
   {
    "duration": 44,
    "start_time": "2022-03-13T15:11:02.421Z"
   },
   {
    "duration": 221,
    "start_time": "2022-03-13T15:11:02.467Z"
   },
   {
    "duration": 242,
    "start_time": "2022-03-13T15:11:02.691Z"
   },
   {
    "duration": 392,
    "start_time": "2022-03-13T15:11:02.936Z"
   },
   {
    "duration": 31,
    "start_time": "2022-03-13T15:11:03.330Z"
   },
   {
    "duration": 388,
    "start_time": "2022-03-13T15:11:03.363Z"
   },
   {
    "duration": 926,
    "start_time": "2022-03-13T15:11:03.755Z"
   },
   {
    "duration": 23,
    "start_time": "2022-03-13T15:11:04.684Z"
   },
   {
    "duration": 14,
    "start_time": "2022-03-13T15:11:04.709Z"
   },
   {
    "duration": 446,
    "start_time": "2022-03-13T15:11:04.726Z"
   },
   {
    "duration": 5,
    "start_time": "2022-03-13T15:11:05.175Z"
   },
   {
    "duration": 24,
    "start_time": "2022-03-13T15:11:05.182Z"
   },
   {
    "duration": 2151,
    "start_time": "2022-03-13T15:11:05.207Z"
   },
   {
    "duration": 264,
    "start_time": "2022-03-13T15:11:07.360Z"
   },
   {
    "duration": 6,
    "start_time": "2022-03-13T15:11:07.626Z"
   },
   {
    "duration": 12,
    "start_time": "2022-03-13T15:11:07.634Z"
   },
   {
    "duration": 16,
    "start_time": "2022-03-13T15:11:07.648Z"
   },
   {
    "duration": 7,
    "start_time": "2022-03-13T15:11:07.666Z"
   },
   {
    "duration": 1333,
    "start_time": "2022-03-13T15:11:07.675Z"
   },
   {
    "duration": 207284,
    "start_time": "2022-03-13T15:11:09.010Z"
   },
   {
    "duration": 1079907,
    "start_time": "2022-03-13T15:14:36.300Z"
   },
   {
    "duration": 1138013,
    "start_time": "2022-03-13T15:32:36.208Z"
   },
   {
    "duration": 4,
    "start_time": "2022-03-13T15:51:34.223Z"
   },
   {
    "duration": 32,
    "start_time": "2022-03-13T15:51:34.229Z"
   },
   {
    "duration": 104650,
    "start_time": "2022-03-13T15:51:34.263Z"
   },
   {
    "duration": 13,
    "start_time": "2022-03-13T15:53:18.915Z"
   },
   {
    "duration": 11,
    "start_time": "2022-03-13T15:53:18.931Z"
   },
   {
    "duration": 11,
    "start_time": "2022-03-13T16:03:33.852Z"
   },
   {
    "duration": 6,
    "start_time": "2022-03-13T16:03:48.547Z"
   },
   {
    "duration": 85,
    "start_time": "2022-03-13T18:39:09.099Z"
   },
   {
    "duration": 3,
    "start_time": "2022-03-13T18:40:32.533Z"
   },
   {
    "duration": 1262,
    "start_time": "2022-03-13T18:58:18.383Z"
   },
   {
    "duration": 761,
    "start_time": "2022-03-13T18:58:19.647Z"
   },
   {
    "duration": 4,
    "start_time": "2022-03-13T18:58:20.410Z"
   },
   {
    "duration": 196,
    "start_time": "2022-03-13T18:58:20.416Z"
   },
   {
    "duration": 94,
    "start_time": "2022-03-13T18:58:20.614Z"
   },
   {
    "duration": 174,
    "start_time": "2022-03-13T18:58:20.710Z"
   },
   {
    "duration": 5,
    "start_time": "2022-03-13T18:58:20.886Z"
   },
   {
    "duration": 66,
    "start_time": "2022-03-13T18:58:20.893Z"
   },
   {
    "duration": 3,
    "start_time": "2022-03-13T18:58:20.962Z"
   },
   {
    "duration": 14,
    "start_time": "2022-03-13T18:58:20.967Z"
   },
   {
    "duration": 33,
    "start_time": "2022-03-13T18:58:20.982Z"
   },
   {
    "duration": 8,
    "start_time": "2022-03-13T18:58:21.017Z"
   },
   {
    "duration": 8,
    "start_time": "2022-03-13T18:58:21.027Z"
   },
   {
    "duration": 8,
    "start_time": "2022-03-13T18:58:21.037Z"
   },
   {
    "duration": 13,
    "start_time": "2022-03-13T18:58:21.046Z"
   },
   {
    "duration": 20,
    "start_time": "2022-03-13T18:58:21.061Z"
   },
   {
    "duration": 199,
    "start_time": "2022-03-13T18:58:21.083Z"
   },
   {
    "duration": 77,
    "start_time": "2022-03-13T18:58:21.285Z"
   },
   {
    "duration": 17,
    "start_time": "2022-03-13T18:58:21.364Z"
   },
   {
    "duration": 30,
    "start_time": "2022-03-13T18:58:21.382Z"
   },
   {
    "duration": 233,
    "start_time": "2022-03-13T18:58:21.414Z"
   },
   {
    "duration": 223,
    "start_time": "2022-03-13T18:58:21.649Z"
   },
   {
    "duration": 372,
    "start_time": "2022-03-13T18:58:21.876Z"
   },
   {
    "duration": 27,
    "start_time": "2022-03-13T18:58:22.250Z"
   },
   {
    "duration": 383,
    "start_time": "2022-03-13T18:58:22.279Z"
   },
   {
    "duration": 826,
    "start_time": "2022-03-13T18:58:22.664Z"
   },
   {
    "duration": 17,
    "start_time": "2022-03-13T18:58:23.492Z"
   },
   {
    "duration": 15,
    "start_time": "2022-03-13T18:58:23.511Z"
   },
   {
    "duration": 295,
    "start_time": "2022-03-13T18:58:23.528Z"
   },
   {
    "duration": 6,
    "start_time": "2022-03-13T18:58:23.825Z"
   },
   {
    "duration": 9,
    "start_time": "2022-03-13T18:58:23.833Z"
   },
   {
    "duration": 2178,
    "start_time": "2022-03-13T18:58:23.843Z"
   },
   {
    "duration": 254,
    "start_time": "2022-03-13T18:58:26.023Z"
   },
   {
    "duration": 4,
    "start_time": "2022-03-13T18:58:26.279Z"
   },
   {
    "duration": 25,
    "start_time": "2022-03-13T18:58:26.286Z"
   },
   {
    "duration": 19,
    "start_time": "2022-03-13T18:58:26.313Z"
   },
   {
    "duration": 1172,
    "start_time": "2022-03-13T18:58:26.334Z"
   },
   {
    "duration": 207206,
    "start_time": "2022-03-13T18:58:27.508Z"
   },
   {
    "duration": 1142515,
    "start_time": "2022-03-13T19:01:54.716Z"
   },
   {
    "duration": 1209942,
    "start_time": "2022-03-13T19:20:57.233Z"
   },
   {
    "duration": 3,
    "start_time": "2022-03-13T19:41:07.177Z"
   },
   {
    "duration": 29,
    "start_time": "2022-03-13T19:41:07.182Z"
   },
   {
    "duration": 109214,
    "start_time": "2022-03-13T19:41:07.213Z"
   },
   {
    "duration": 12,
    "start_time": "2022-03-13T19:42:56.430Z"
   },
   {
    "duration": 6,
    "start_time": "2022-03-13T19:42:56.444Z"
   },
   {
    "duration": 1586,
    "start_time": "2022-04-24T17:45:04.256Z"
   },
   {
    "duration": 619,
    "start_time": "2022-04-24T17:45:05.845Z"
   },
   {
    "duration": 3,
    "start_time": "2022-04-24T17:45:06.466Z"
   },
   {
    "duration": 197,
    "start_time": "2022-04-24T17:45:06.471Z"
   },
   {
    "duration": 67,
    "start_time": "2022-04-24T17:45:06.670Z"
   },
   {
    "duration": 187,
    "start_time": "2022-04-24T17:45:06.739Z"
   },
   {
    "duration": 4,
    "start_time": "2022-04-24T17:45:06.928Z"
   },
   {
    "duration": 47,
    "start_time": "2022-04-24T17:45:06.934Z"
   },
   {
    "duration": 4,
    "start_time": "2022-04-24T17:45:06.982Z"
   },
   {
    "duration": 9,
    "start_time": "2022-04-24T17:45:06.999Z"
   },
   {
    "duration": 16,
    "start_time": "2022-04-24T17:45:07.009Z"
   },
   {
    "duration": 7,
    "start_time": "2022-04-24T17:45:07.027Z"
   },
   {
    "duration": 11,
    "start_time": "2022-04-24T17:45:07.036Z"
   },
   {
    "duration": 7,
    "start_time": "2022-04-24T17:45:07.048Z"
   },
   {
    "duration": 10,
    "start_time": "2022-04-24T17:45:07.057Z"
   },
   {
    "duration": 35,
    "start_time": "2022-04-24T17:45:07.068Z"
   },
   {
    "duration": 197,
    "start_time": "2022-04-24T17:45:07.105Z"
   },
   {
    "duration": 61,
    "start_time": "2022-04-24T17:45:07.304Z"
   },
   {
    "duration": 34,
    "start_time": "2022-04-24T17:45:07.367Z"
   },
   {
    "duration": 16,
    "start_time": "2022-04-24T17:45:07.403Z"
   },
   {
    "duration": 170,
    "start_time": "2022-04-24T17:45:07.420Z"
   },
   {
    "duration": 146,
    "start_time": "2022-04-24T17:45:07.592Z"
   },
   {
    "duration": 412,
    "start_time": "2022-04-24T17:45:07.740Z"
   },
   {
    "duration": 33,
    "start_time": "2022-04-24T17:45:08.154Z"
   },
   {
    "duration": 189,
    "start_time": "2022-04-24T17:45:08.200Z"
   },
   {
    "duration": 480,
    "start_time": "2022-04-24T17:45:08.399Z"
   },
   {
    "duration": 20,
    "start_time": "2022-04-24T17:45:08.881Z"
   },
   {
    "duration": 12,
    "start_time": "2022-04-24T17:45:08.905Z"
   },
   {
    "duration": 372,
    "start_time": "2022-04-24T17:45:08.919Z"
   },
   {
    "duration": 7,
    "start_time": "2022-04-24T17:45:09.300Z"
   },
   {
    "duration": 11,
    "start_time": "2022-04-24T17:45:09.309Z"
   },
   {
    "duration": 1908,
    "start_time": "2022-04-24T17:45:09.322Z"
   },
   {
    "duration": 308,
    "start_time": "2022-04-24T17:45:11.232Z"
   },
   {
    "duration": 5,
    "start_time": "2022-04-24T17:45:11.542Z"
   },
   {
    "duration": 19,
    "start_time": "2022-04-24T17:45:11.549Z"
   },
   {
    "duration": 21,
    "start_time": "2022-04-24T17:45:11.570Z"
   },
   {
    "duration": 1414,
    "start_time": "2022-04-24T17:45:11.592Z"
   },
   {
    "duration": 87448,
    "start_time": "2022-04-24T17:45:13.010Z"
   },
   {
    "duration": 1215283,
    "start_time": "2022-04-24T17:46:40.459Z"
   },
   {
    "duration": 1127644,
    "start_time": "2022-04-24T18:06:55.744Z"
   },
   {
    "duration": 6,
    "start_time": "2022-04-24T18:27:18.328Z"
   },
   {
    "duration": 9,
    "start_time": "2022-04-24T18:27:18.335Z"
   },
   {
    "duration": 94588,
    "start_time": "2022-04-24T18:27:18.346Z"
   },
   {
    "duration": 4,
    "start_time": "2022-04-24T18:28:52.936Z"
   },
   {
    "duration": 9,
    "start_time": "2022-04-24T18:28:52.942Z"
   },
   {
    "duration": 6,
    "start_time": "2022-04-24T18:28:52.952Z"
   }
  ],
  "kernelspec": {
   "display_name": "Python 3",
   "language": "python",
   "name": "python3"
  },
  "language_info": {
   "codemirror_mode": {
    "name": "ipython",
    "version": 3
   },
   "file_extension": ".py",
   "mimetype": "text/x-python",
   "name": "python",
   "nbconvert_exporter": "python",
   "pygments_lexer": "ipython3",
   "version": "3.8.8"
  },
  "toc": {
   "base_numbering": 1,
   "nav_menu": {},
   "number_sections": true,
   "sideBar": true,
   "skip_h1_title": true,
   "title_cell": "Содержание",
   "title_sidebar": "Contents",
   "toc_cell": true,
   "toc_position": {
    "height": "calc(100% - 180px)",
    "left": "10px",
    "top": "150px",
    "width": "366.391px"
   },
   "toc_section_display": true,
   "toc_window_display": true
  }
 },
 "nbformat": 4,
 "nbformat_minor": 2
}
